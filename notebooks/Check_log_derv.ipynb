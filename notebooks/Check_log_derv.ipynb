{
 "cells": [
  {
   "cell_type": "code",
   "execution_count": 1,
   "id": "159fa554",
   "metadata": {
    "ExecuteTime": {
     "end_time": "2022-11-29T04:06:17.001586Z",
     "start_time": "2022-11-29T04:06:16.986746Z"
    }
   },
   "outputs": [],
   "source": [
    "import sys\n",
    "sys.path.append(\"../mypkg\")"
   ]
  },
  {
   "cell_type": "code",
   "execution_count": 2,
   "id": "bdabb8b0",
   "metadata": {
    "ExecuteTime": {
     "end_time": "2022-11-29T04:06:18.825405Z",
     "start_time": "2022-11-29T04:06:17.186951Z"
    }
   },
   "outputs": [],
   "source": [
    "import numpy as np\n",
    "import torch\n",
    "import matplotlib.pyplot as plt\n",
    "import seaborn as sns\n",
    "\n",
    "from easydict import EasyDict as edict\n",
    "from tqdm import trange\n",
    "\n",
    "plt.style.use('ggplot')\n",
    "plt.rcParams[\"savefig.bbox\"] = \"tight\""
   ]
  },
  {
   "cell_type": "code",
   "execution_count": 11,
   "id": "12fce23f",
   "metadata": {
    "ExecuteTime": {
     "end_time": "2022-11-29T04:06:43.457871Z",
     "start_time": "2022-11-29T04:06:43.443118Z"
    }
   },
   "outputs": [],
   "source": [
    "from splines import obt_bsp_basis_Rfn\n",
    "from models.base_model import BaseModel\n",
    "from models.logistic_model import LogisticModel\n",
    "from utils.matrix import col_vec2mat_fn, col_vec_fn, vecidx2matidx"
   ]
  },
  {
   "cell_type": "code",
   "execution_count": 4,
   "id": "5c782fc8",
   "metadata": {
    "ExecuteTime": {
     "end_time": "2022-11-29T04:06:19.544962Z",
     "start_time": "2022-11-29T04:06:19.540511Z"
    }
   },
   "outputs": [],
   "source": [
    "torch.set_default_tensor_type(torch.DoubleTensor)"
   ]
  },
  {
   "cell_type": "code",
   "execution_count": null,
   "id": "d01b4d42",
   "metadata": {},
   "outputs": [],
   "source": []
  },
  {
   "cell_type": "markdown",
   "id": "56b353ab",
   "metadata": {},
   "source": [
    "## Parameters"
   ]
  },
  {
   "cell_type": "code",
   "execution_count": 5,
   "id": "e0cdbc8d",
   "metadata": {
    "ExecuteTime": {
     "end_time": "2022-11-29T04:06:19.628108Z",
     "start_time": "2022-11-29T04:06:19.614255Z"
    }
   },
   "outputs": [],
   "source": [
    "paras = edict()\n",
    "paras.npts = 20 # num of pts to evaluate X(s)\n",
    "paras.d = 10 # num of ROIs\n",
    "paras.q = 5 # num of other covariates\n",
    "\n",
    "paras.bsp = edict()\n",
    "paras.bsp.aknots_raw = np.linspace(0, 1, 20)\n",
    "paras.bsp.iknots = paras.bsp.aknots_raw[1:-1]\n",
    "paras.bsp.bknots = np.array([0, 1])\n",
    "paras.bsp.ord = 4\n",
    "paras.bsp.x = np.linspace(0, 1, paras.npts+1)[:-1]\n",
    "paras.bsp.basis_mat = obt_bsp_basis_Rfn(paras.bsp.x, \n",
    "                                        paras.bsp.iknots, \n",
    "                                        paras.bsp.bknots, \n",
    "                                        paras.bsp.ord)\n",
    "paras.bsp.N = paras.bsp.basis_mat.shape[1] # num of basis for bsp"
   ]
  },
  {
   "cell_type": "code",
   "execution_count": 6,
   "id": "7de21aaa",
   "metadata": {
    "ExecuteTime": {
     "end_time": "2022-11-29T04:06:19.983125Z",
     "start_time": "2022-11-29T04:06:19.887534Z"
    }
   },
   "outputs": [],
   "source": [
    "M = 30\n",
    "X = torch.randn(M, paras.d, paras.npts) # M x d x npts\n",
    "Z = torch.randn(M, paras.q) # M x q\n",
    "Y = torch.randn(M)\n",
    "Y = (Y >0.5).float()\n",
    "\n",
    "alp = torch.randn(paras.q)\n",
    "Gam = torch.randn(paras.bsp.N, paras.d) # N x d\n",
    "basis_mat = torch.DoubleTensor(paras.bsp.basis_mat) # npts x N\n"
   ]
  },
  {
   "cell_type": "code",
   "execution_count": 7,
   "id": "917471b7",
   "metadata": {
    "ExecuteTime": {
     "end_time": "2022-11-29T04:06:20.667666Z",
     "start_time": "2022-11-29T04:06:20.662778Z"
    }
   },
   "outputs": [],
   "source": [
    "model = LogisticModel(Y, Z, X, basis_mat)"
   ]
  },
  {
   "cell_type": "markdown",
   "id": "e48f7498",
   "metadata": {},
   "source": [
    "### Check first dev"
   ]
  },
  {
   "cell_type": "code",
   "execution_count": 8,
   "id": "dda25efe",
   "metadata": {
    "ExecuteTime": {
     "end_time": "2022-11-29T04:06:22.034829Z",
     "start_time": "2022-11-29T04:06:21.710897Z"
    }
   },
   "outputs": [],
   "source": [
    "dlt = 1e-8 \n",
    "\n",
    "num_alp = torch.zeros_like(alp)\n",
    "for ix in range(len(alp)):\n",
    "    alp_c = alp.clone()\n",
    "    alp_c[ix] = alp[ix] + dlt\n",
    "\n",
    "    v1 = model.log_lik(alp, Gam)\n",
    "    v2 = model.log_lik(alp_c, Gam)\n",
    "    num_alp[ix] = (v2-v1)/dlt\n",
    "\n",
    "num_gam = torch.zeros_like(Gam)\n",
    "for ix in range(Gam.shape[0]):\n",
    "    for iy in range(Gam.shape[1]):\n",
    "        Gam_c = Gam.clone()\n",
    "        Gam_c[ix, iy] = Gam[ix, iy] + dlt*np.sqrt(paras.bsp.N)\n",
    "        \n",
    "        v1 = model.log_lik(alp, Gam)\n",
    "        v2 = model.log_lik(alp, Gam_c)\n",
    "        num_gam[ix, iy] = (v2-v1)/dlt"
   ]
  },
  {
   "cell_type": "code",
   "execution_count": 12,
   "id": "d7644ed1",
   "metadata": {
    "ExecuteTime": {
     "end_time": "2022-11-29T04:06:46.795287Z",
     "start_time": "2022-11-29T04:06:46.789330Z"
    }
   },
   "outputs": [],
   "source": [
    "grad1 = model.log_lik_der1(alp, Gam)\n",
    "num_grad = torch.cat([num_alp, col_vec_fn(num_gam)])"
   ]
  },
  {
   "cell_type": "code",
   "execution_count": 13,
   "id": "107fd248",
   "metadata": {
    "ExecuteTime": {
     "end_time": "2022-11-29T04:06:47.478040Z",
     "start_time": "2022-11-29T04:06:47.465380Z"
    }
   },
   "outputs": [
    {
     "data": {
      "text/plain": [
       "tensor(4.6307e-07)"
      ]
     },
     "execution_count": 13,
     "metadata": {},
     "output_type": "execute_result"
    }
   ],
   "source": [
    "diff = grad1 - num_grad\n",
    "torch.norm(diff)/torch.norm(grad1)"
   ]
  },
  {
   "cell_type": "code",
   "execution_count": null,
   "id": "252e3b7e",
   "metadata": {},
   "outputs": [],
   "source": []
  },
  {
   "cell_type": "markdown",
   "id": "8b043fe0",
   "metadata": {},
   "source": [
    "### Check second dev"
   ]
  },
  {
   "cell_type": "code",
   "execution_count": 14,
   "id": "7b2c0f78",
   "metadata": {
    "ExecuteTime": {
     "end_time": "2022-11-29T04:06:49.299787Z",
     "start_time": "2022-11-29T04:06:49.239292Z"
    }
   },
   "outputs": [
    {
     "name": "stderr",
     "output_type": "stream",
     "text": [
      "100%|██████████████████████████████████████████████████████████████████████████████████████████████████████████████████████████████████████| 225/225 [00:00<00:00, 5446.61it/s]\n"
     ]
    }
   ],
   "source": [
    "dlt = 1e-6\n",
    "\n",
    "num_the_len = paras.q + paras.d*paras.bsp.N\n",
    "num_grad2 = torch.zeros(num_the_len, num_the_len)\n",
    "\n",
    "vraws = model.log_lik_der1(alp, Gam)\n",
    "for ix in trange(num_the_len):\n",
    "    alpx = alp.clone()\n",
    "    Gamx = Gam.clone()\n",
    "        \n",
    "    # alp part\n",
    "    if ix <= (paras.q-1):\n",
    "        dltx = dlt\n",
    "        alpx[ix] = alp[ix] + dltx\n",
    "    else:\n",
    "        dltx = dlt*np.sqrt(paras.bsp.N)\n",
    "        loc1, loc2 = vecidx2matidx(ix-paras.q, nrow=paras.bsp.N)\n",
    "        Gamx[loc1, loc2] = Gam[loc1, loc2] + dltx\n",
    "            \n",
    "    v1s = model.log_lik_der1(alpx, Gamx)\n",
    "    der2_vs = (v1s-vraws)/dlt\n",
    "        \n",
    "    #num_grad2[ix, :] = der2_vs\n",
    "    num_grad2[ix, ix:] = der2_vs[ix:]\n",
    "num_grad2 = num_grad2 + num_grad2.T - torch.diag(torch.diag(num_grad2))"
   ]
  },
  {
   "cell_type": "code",
   "execution_count": 15,
   "id": "843ea1bf",
   "metadata": {
    "ExecuteTime": {
     "end_time": "2022-11-29T04:06:50.304889Z",
     "start_time": "2022-11-29T04:06:50.290090Z"
    }
   },
   "outputs": [
    {
     "data": {
      "text/plain": [
       "tensor(1.8350e-07)"
      ]
     },
     "execution_count": 15,
     "metadata": {},
     "output_type": "execute_result"
    }
   ],
   "source": [
    "grad2 = model.log_lik_der2(alp, Gam)\n",
    "diff = grad2 - num_grad2\n",
    "torch.norm(diff)/torch.norm(grad2)"
   ]
  },
  {
   "cell_type": "code",
   "execution_count": 16,
   "id": "ffc7fb98",
   "metadata": {
    "ExecuteTime": {
     "end_time": "2022-11-29T04:06:51.291578Z",
     "start_time": "2022-11-29T04:06:51.282167Z"
    }
   },
   "outputs": [
    {
     "data": {
      "text/plain": [
       "tensor(0.0247)"
      ]
     },
     "execution_count": 16,
     "metadata": {},
     "output_type": "execute_result"
    }
   ],
   "source": [
    "mat = (diff.abs()/grad2.abs())\n",
    "mat.max()"
   ]
  },
  {
   "cell_type": "code",
   "execution_count": 17,
   "id": "8370cc0a",
   "metadata": {
    "ExecuteTime": {
     "end_time": "2022-11-29T04:06:52.101316Z",
     "start_time": "2022-11-29T04:06:52.092602Z"
    }
   },
   "outputs": [
    {
     "data": {
      "text/plain": [
       "tensor(3.2986e-13)"
      ]
     },
     "execution_count": 17,
     "metadata": {},
     "output_type": "execute_result"
    }
   ],
   "source": [
    "grad2.abs().min()"
   ]
  },
  {
   "cell_type": "code",
   "execution_count": 18,
   "id": "cc5693e5",
   "metadata": {
    "ExecuteTime": {
     "end_time": "2022-11-29T04:06:53.069934Z",
     "start_time": "2022-11-29T04:06:53.060768Z"
    }
   },
   "outputs": [
    {
     "data": {
      "text/plain": [
       "tensor([-3.4706e-10, -3.4706e-10])"
      ]
     },
     "execution_count": 18,
     "metadata": {},
     "output_type": "execute_result"
    }
   ],
   "source": [
    "grad2[mat==mat.max()]"
   ]
  },
  {
   "cell_type": "code",
   "execution_count": 19,
   "id": "72353246",
   "metadata": {
    "ExecuteTime": {
     "end_time": "2022-11-29T04:06:53.706470Z",
     "start_time": "2022-11-29T04:06:53.697833Z"
    }
   },
   "outputs": [
    {
     "data": {
      "text/plain": [
       "tensor([8.5581e-12, 8.5581e-12])"
      ]
     },
     "execution_count": 19,
     "metadata": {},
     "output_type": "execute_result"
    }
   ],
   "source": [
    "diff[mat==mat.max()]"
   ]
  },
  {
   "cell_type": "code",
   "execution_count": null,
   "id": "45dcd76b",
   "metadata": {},
   "outputs": [],
   "source": []
  }
 ],
 "metadata": {
  "kernelspec": {
   "display_name": "Python 3 (ipykernel)",
   "language": "python",
   "name": "python3"
  },
  "language_info": {
   "codemirror_mode": {
    "name": "ipython",
    "version": 3
   },
   "file_extension": ".py",
   "mimetype": "text/x-python",
   "name": "python",
   "nbconvert_exporter": "python",
   "pygments_lexer": "ipython3",
   "version": "3.9.7"
  },
  "toc": {
   "base_numbering": 1,
   "nav_menu": {},
   "number_sections": true,
   "sideBar": true,
   "skip_h1_title": false,
   "title_cell": "Table of Contents",
   "title_sidebar": "Contents",
   "toc_cell": false,
   "toc_position": {},
   "toc_section_display": true,
   "toc_window_display": true
  }
 },
 "nbformat": 4,
 "nbformat_minor": 5
}
