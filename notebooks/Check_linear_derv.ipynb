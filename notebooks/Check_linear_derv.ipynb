{
 "cells": [
  {
   "cell_type": "code",
   "execution_count": 1,
   "id": "159fa554",
   "metadata": {
    "ExecuteTime": {
     "end_time": "2022-11-29T04:05:37.387197Z",
     "start_time": "2022-11-29T04:05:37.376527Z"
    }
   },
   "outputs": [],
   "source": [
    "import sys\n",
    "sys.path.append(\"../mypkg\")"
   ]
  },
  {
   "cell_type": "code",
   "execution_count": 2,
   "id": "bdabb8b0",
   "metadata": {
    "ExecuteTime": {
     "end_time": "2022-11-29T04:05:39.073613Z",
     "start_time": "2022-11-29T04:05:37.389044Z"
    }
   },
   "outputs": [],
   "source": [
    "import numpy as np\n",
    "import torch\n",
    "import matplotlib.pyplot as plt\n",
    "import seaborn as sns\n",
    "\n",
    "from easydict import EasyDict as edict\n",
    "from tqdm import trange\n",
    "\n",
    "plt.style.use('ggplot')\n",
    "plt.rcParams[\"savefig.bbox\"] = \"tight\""
   ]
  },
  {
   "cell_type": "code",
   "execution_count": 3,
   "id": "12fce23f",
   "metadata": {
    "ExecuteTime": {
     "end_time": "2022-11-29T04:05:39.736594Z",
     "start_time": "2022-11-29T04:05:39.076276Z"
    }
   },
   "outputs": [],
   "source": [
    "from splines import obt_bsp_basis_Rfn\n",
    "from models.base_model import BaseModel\n",
    "from models.logistic_model import LogisticModel\n",
    "from models.linear_model import LinearModel\n",
    "from utils.matrix import col_vec2mat_fn, col_vec_fn, vecidx2matidx"
   ]
  },
  {
   "cell_type": "code",
   "execution_count": 4,
   "id": "5c782fc8",
   "metadata": {
    "ExecuteTime": {
     "end_time": "2022-11-29T04:05:39.743862Z",
     "start_time": "2022-11-29T04:05:39.739490Z"
    }
   },
   "outputs": [],
   "source": [
    "torch.set_default_tensor_type(torch.DoubleTensor)"
   ]
  },
  {
   "cell_type": "code",
   "execution_count": null,
   "id": "d01b4d42",
   "metadata": {},
   "outputs": [],
   "source": []
  },
  {
   "cell_type": "markdown",
   "id": "56b353ab",
   "metadata": {},
   "source": [
    "### Parameters"
   ]
  },
  {
   "cell_type": "code",
   "execution_count": 5,
   "id": "e0cdbc8d",
   "metadata": {
    "ExecuteTime": {
     "end_time": "2022-11-29T04:05:39.772077Z",
     "start_time": "2022-11-29T04:05:39.746108Z"
    }
   },
   "outputs": [],
   "source": [
    "paras = edict()\n",
    "paras.npts = 20 # num of pts to evaluate X(s)\n",
    "paras.d = 10 # num of ROIs\n",
    "paras.q = 5 # num of other covariates\n",
    "\n",
    "paras.bsp = edict()\n",
    "paras.bsp.aknots_raw = np.linspace(0, 1, 20)\n",
    "paras.bsp.iknots = paras.bsp.aknots_raw[1:-1]\n",
    "paras.bsp.bknots = np.array([0, 1])\n",
    "paras.bsp.ord = 4\n",
    "paras.bsp.x = np.linspace(0, 1, paras.npts+1)[:-1]\n",
    "paras.bsp.basis_mat = obt_bsp_basis_Rfn(paras.bsp.x, \n",
    "                                        paras.bsp.iknots, \n",
    "                                        paras.bsp.bknots, \n",
    "                                        paras.bsp.ord)\n",
    "paras.bsp.N = paras.bsp.basis_mat.shape[1] # num of basis for bsp"
   ]
  },
  {
   "cell_type": "code",
   "execution_count": 6,
   "id": "7de21aaa",
   "metadata": {
    "ExecuteTime": {
     "end_time": "2022-11-29T04:05:39.795365Z",
     "start_time": "2022-11-29T04:05:39.775573Z"
    }
   },
   "outputs": [],
   "source": [
    "M = 30\n",
    "X = torch.randn(M, paras.d, paras.npts) # M x d x npts\n",
    "Z = torch.randn(M, paras.q) # M x q\n",
    "Y = torch.randn(M)\n",
    "#Y = (Y >0.5).float()\n",
    "\n",
    "alp = torch.randn(paras.q)\n",
    "Gam = torch.randn(paras.bsp.N, paras.d) # N x d\n",
    "basis_mat = torch.DoubleTensor(paras.bsp.basis_mat) # npts x N\n"
   ]
  },
  {
   "cell_type": "code",
   "execution_count": 7,
   "id": "917471b7",
   "metadata": {
    "ExecuteTime": {
     "end_time": "2022-11-29T04:05:39.869900Z",
     "start_time": "2022-11-29T04:05:39.865479Z"
    }
   },
   "outputs": [],
   "source": [
    "model = LinearModel(Y, Z, X, basis_mat)"
   ]
  },
  {
   "cell_type": "code",
   "execution_count": null,
   "id": "e66109d2",
   "metadata": {},
   "outputs": [],
   "source": []
  },
  {
   "cell_type": "markdown",
   "id": "e48f7498",
   "metadata": {},
   "source": [
    "### Check first dev"
   ]
  },
  {
   "cell_type": "code",
   "execution_count": 8,
   "id": "dda25efe",
   "metadata": {
    "ExecuteTime": {
     "end_time": "2022-11-29T04:05:42.477121Z",
     "start_time": "2022-11-29T04:05:42.418210Z"
    }
   },
   "outputs": [],
   "source": [
    "dlt = 1e-8 \n",
    "\n",
    "num_alp = torch.zeros_like(alp)\n",
    "for ix in range(len(alp)):\n",
    "    alp_c = alp.clone()\n",
    "    alp_c[ix] = alp[ix] + dlt\n",
    "\n",
    "    v1 = model.log_lik(alp, Gam)\n",
    "    v2 = model.log_lik(alp_c, Gam)\n",
    "    num_alp[ix] = (v2-v1)/dlt\n",
    "\n",
    "num_gam = torch.zeros_like(Gam)\n",
    "for ix in range(Gam.shape[0]):\n",
    "    for iy in range(Gam.shape[1]):\n",
    "        Gam_c = Gam.clone()\n",
    "        Gam_c[ix, iy] = Gam[ix, iy] + dlt*np.sqrt(paras.bsp.N)\n",
    "        \n",
    "        v1 = model.log_lik(alp, Gam)\n",
    "        v2 = model.log_lik(alp, Gam_c)\n",
    "        num_gam[ix, iy] = (v2-v1)/dlt"
   ]
  },
  {
   "cell_type": "code",
   "execution_count": 9,
   "id": "d7644ed1",
   "metadata": {
    "ExecuteTime": {
     "end_time": "2022-11-29T04:05:43.110807Z",
     "start_time": "2022-11-29T04:05:43.101859Z"
    }
   },
   "outputs": [],
   "source": [
    "grad1 = model.log_lik_der1(alp, Gam)\n",
    "num_grad = torch.cat([num_alp, col_vec_fn(num_gam)])"
   ]
  },
  {
   "cell_type": "code",
   "execution_count": 10,
   "id": "107fd248",
   "metadata": {
    "ExecuteTime": {
     "end_time": "2022-11-29T04:05:43.950066Z",
     "start_time": "2022-11-29T04:05:43.937842Z"
    }
   },
   "outputs": [
    {
     "data": {
      "text/plain": [
       "tensor(2.3368e-07)"
      ]
     },
     "execution_count": 10,
     "metadata": {},
     "output_type": "execute_result"
    }
   ],
   "source": [
    "diff = grad1 - num_grad\n",
    "torch.norm(diff)/torch.norm(grad1)"
   ]
  },
  {
   "cell_type": "code",
   "execution_count": null,
   "id": "252e3b7e",
   "metadata": {},
   "outputs": [],
   "source": []
  },
  {
   "cell_type": "markdown",
   "id": "8b043fe0",
   "metadata": {},
   "source": [
    "### Check second dev"
   ]
  },
  {
   "cell_type": "code",
   "execution_count": 11,
   "id": "7b2c0f78",
   "metadata": {
    "ExecuteTime": {
     "end_time": "2022-11-29T04:05:45.701851Z",
     "start_time": "2022-11-29T04:05:45.644152Z"
    }
   },
   "outputs": [
    {
     "name": "stderr",
     "output_type": "stream",
     "text": [
      "100%|██████████████████████████████████████████████████████████████████████████████████████████████████████████████████████████████████████| 225/225 [00:00<00:00, 5650.77it/s]\n"
     ]
    }
   ],
   "source": [
    "dlt = 1e-6\n",
    "\n",
    "num_the_len = paras.q + paras.d*paras.bsp.N\n",
    "num_grad2 = torch.zeros(num_the_len, num_the_len)\n",
    "\n",
    "vraws = model.log_lik_der1(alp, Gam)\n",
    "for ix in trange(num_the_len):\n",
    "    alpx = alp.clone()\n",
    "    Gamx = Gam.clone()\n",
    "        \n",
    "    # alp part\n",
    "    if ix <= (paras.q-1):\n",
    "        dltx = dlt\n",
    "        alpx[ix] = alp[ix] + dltx\n",
    "    else:\n",
    "        dltx = dlt*np.sqrt(paras.bsp.N)\n",
    "        loc1, loc2 = vecidx2matidx(ix-paras.q, nrow=paras.bsp.N)\n",
    "        Gamx[loc1, loc2] = Gam[loc1, loc2] + dltx\n",
    "            \n",
    "    v1s = model.log_lik_der1(alpx, Gamx)\n",
    "    der2_vs = (v1s-vraws)/dlt\n",
    "        \n",
    "    #num_grad2[ix, :] = der2_vs\n",
    "    num_grad2[ix, ix:] = der2_vs[ix:]\n",
    "num_grad2 = num_grad2 + num_grad2.T - torch.diag(torch.diag(num_grad2))"
   ]
  },
  {
   "cell_type": "code",
   "execution_count": 12,
   "id": "843ea1bf",
   "metadata": {
    "ExecuteTime": {
     "end_time": "2022-11-29T04:05:46.803331Z",
     "start_time": "2022-11-29T04:05:46.784926Z"
    }
   },
   "outputs": [
    {
     "data": {
      "text/plain": [
       "tensor(1.4394e-09)"
      ]
     },
     "execution_count": 12,
     "metadata": {},
     "output_type": "execute_result"
    }
   ],
   "source": [
    "grad2 = model.log_lik_der2(alp, Gam)\n",
    "diff = grad2 - num_grad2\n",
    "torch.norm(diff)/torch.norm(grad2)"
   ]
  },
  {
   "cell_type": "code",
   "execution_count": 13,
   "id": "ffc7fb98",
   "metadata": {
    "ExecuteTime": {
     "end_time": "2022-11-29T04:05:47.556181Z",
     "start_time": "2022-11-29T04:05:47.547694Z"
    }
   },
   "outputs": [
    {
     "data": {
      "text/plain": [
       "tensor(0.0211)"
      ]
     },
     "execution_count": 13,
     "metadata": {},
     "output_type": "execute_result"
    }
   ],
   "source": [
    "mat = (diff.abs()/grad2.abs())\n",
    "mat.max()"
   ]
  },
  {
   "cell_type": "code",
   "execution_count": 14,
   "id": "8370cc0a",
   "metadata": {
    "ExecuteTime": {
     "end_time": "2022-11-29T04:05:49.423656Z",
     "start_time": "2022-11-29T04:05:49.415771Z"
    }
   },
   "outputs": [
    {
     "data": {
      "text/plain": [
       "tensor(2.1589e-13)"
      ]
     },
     "execution_count": 14,
     "metadata": {},
     "output_type": "execute_result"
    }
   ],
   "source": [
    "grad2.abs().min()"
   ]
  },
  {
   "cell_type": "code",
   "execution_count": 15,
   "id": "cc5693e5",
   "metadata": {
    "ExecuteTime": {
     "end_time": "2022-11-29T04:05:51.189037Z",
     "start_time": "2022-11-29T04:05:51.180286Z"
    }
   },
   "outputs": [
    {
     "data": {
      "text/plain": [
       "tensor([-2.1589e-13, -2.1589e-13])"
      ]
     },
     "execution_count": 15,
     "metadata": {},
     "output_type": "execute_result"
    }
   ],
   "source": [
    "grad2[mat==mat.max()]"
   ]
  },
  {
   "cell_type": "code",
   "execution_count": 16,
   "id": "72353246",
   "metadata": {
    "ExecuteTime": {
     "end_time": "2022-11-29T04:05:52.877765Z",
     "start_time": "2022-11-29T04:05:52.869322Z"
    }
   },
   "outputs": [
    {
     "data": {
      "text/plain": [
       "tensor([4.5466e-15, 4.5466e-15])"
      ]
     },
     "execution_count": 16,
     "metadata": {},
     "output_type": "execute_result"
    }
   ],
   "source": [
    "diff[mat==mat.max()]"
   ]
  },
  {
   "cell_type": "code",
   "execution_count": null,
   "id": "4cac7e82",
   "metadata": {},
   "outputs": [],
   "source": []
  },
  {
   "cell_type": "markdown",
   "id": "e38f6459",
   "metadata": {},
   "source": [
    "### Check linear form of linear term\n",
    "\n",
    "linear term = P2\\trans \\theta"
   ]
  },
  {
   "cell_type": "code",
   "execution_count": 53,
   "id": "45dcd76b",
   "metadata": {
    "ExecuteTime": {
     "end_time": "2022-11-29T00:39:06.334370Z",
     "start_time": "2022-11-29T00:39:06.329795Z"
    }
   },
   "outputs": [],
   "source": [
    "from hdf_utils.likelihood import obt_lin_tm"
   ]
  },
  {
   "cell_type": "code",
   "execution_count": 54,
   "id": "f401080d",
   "metadata": {
    "ExecuteTime": {
     "end_time": "2022-11-29T00:39:09.314324Z",
     "start_time": "2022-11-29T00:39:09.306465Z"
    }
   },
   "outputs": [],
   "source": [
    "M = 100\n",
    "X = torch.randn(M, paras.d, paras.npts) # M x d x npts\n",
    "Z = torch.randn(M, paras.q) # M x q\n",
    "Y = torch.randn(M)\n",
    "#Y = (Y >0.5).float()\n",
    "\n",
    "alp = torch.randn(paras.q)\n",
    "Gam = torch.randn(paras.bsp.N, paras.d) # N x d\n",
    "basis_mat = torch.DoubleTensor(paras.bsp.basis_mat) # npts x N\n"
   ]
  },
  {
   "cell_type": "code",
   "execution_count": 55,
   "id": "465cc594",
   "metadata": {
    "ExecuteTime": {
     "end_time": "2022-11-29T00:39:09.704638Z",
     "start_time": "2022-11-29T00:39:09.699478Z"
    }
   },
   "outputs": [],
   "source": [
    "Os1 = obt_lin_tm(Z, X, alp, Gam, basis_mat)"
   ]
  },
  {
   "cell_type": "code",
   "execution_count": 56,
   "id": "a0553054",
   "metadata": {
    "ExecuteTime": {
     "end_time": "2022-11-29T00:39:10.173651Z",
     "start_time": "2022-11-29T00:39:10.161825Z"
    }
   },
   "outputs": [],
   "source": [
    "basis_mat_trans = basis_mat.unsqueeze(0).unsqueeze(-1) # 1 x ncpts x N x 1\n",
    "X_trans = X.permute((0, 2, 1)).unsqueeze(2) # M x ncpts x 1 x d\n",
    "        \n",
    "# derivative of linear term w.r.t (alp, Gam)\n",
    "vec_part2_raw = basis_mat_trans*X_trans\n",
    "vec_part2_raw = vec_part2_raw.permute((0, 1, 3, 2)).flatten(2)\n",
    "#vec_part2 = vec_part2_raw*ws.unsqueeze(0).unsqueeze(-1)\n",
    "vec_part2 = vec_part2_raw.mean(axis=1)*np.sqrt(basis_mat.shape[1])\n",
    "tm2 = torch.concat([Z, vec_part2], axis=1) #M x (q+dxN)\n",
    "\n",
    "theta = torch.cat([alp, col_vec_fn(Gam)/np.sqrt(paras.bsp.N)])\n",
    "Os2 = tm2 @ theta"
   ]
  },
  {
   "cell_type": "code",
   "execution_count": 57,
   "id": "89c38317",
   "metadata": {
    "ExecuteTime": {
     "end_time": "2022-11-29T00:39:10.758043Z",
     "start_time": "2022-11-29T00:39:10.749175Z"
    }
   },
   "outputs": [
    {
     "data": {
      "text/plain": [
       "tensor([ 8.8818e-16,  6.1062e-16,  8.8818e-16,  1.1102e-16, -8.8818e-16,\n",
       "         0.0000e+00,  0.0000e+00,  2.2204e-16,  0.0000e+00,  0.0000e+00,\n",
       "        -6.6613e-16,  8.8818e-16, -1.1102e-16, -5.5511e-17, -8.8818e-16,\n",
       "         9.4369e-16,  4.4409e-16, -1.1102e-16,  6.6613e-16, -8.8818e-16,\n",
       "        -8.8818e-16,  0.0000e+00, -1.1102e-15,  0.0000e+00,  0.0000e+00,\n",
       "        -5.5511e-16,  2.2204e-16, -2.2204e-16,  0.0000e+00,  0.0000e+00,\n",
       "         8.8818e-16, -4.4409e-16,  0.0000e+00,  3.3307e-16, -1.1102e-16,\n",
       "         4.4409e-16,  4.4409e-16, -4.4409e-16, -8.8818e-16,  0.0000e+00,\n",
       "         0.0000e+00,  0.0000e+00, -8.3267e-17,  0.0000e+00,  0.0000e+00,\n",
       "        -8.8818e-16, -2.2204e-16,  1.1102e-16, -4.4409e-16,  3.0531e-16,\n",
       "         1.1102e-16,  0.0000e+00,  2.2204e-16,  4.4409e-16,  6.6613e-16,\n",
       "        -6.6613e-16,  0.0000e+00,  0.0000e+00, -8.8818e-16,  4.4409e-16,\n",
       "        -4.4409e-16, -1.1102e-16,  2.2204e-16, -4.4409e-16,  0.0000e+00,\n",
       "         0.0000e+00, -2.2204e-16,  0.0000e+00,  4.4409e-16, -4.4409e-16,\n",
       "         4.9960e-16,  5.5511e-16,  4.4409e-16,  2.2204e-16, -2.2204e-16,\n",
       "         2.2204e-16,  4.4409e-16, -4.4409e-16,  4.4409e-16, -1.1102e-16,\n",
       "         0.0000e+00,  0.0000e+00, -4.4409e-16, -8.8818e-16,  8.8818e-16,\n",
       "         2.2204e-16,  8.8818e-16, -4.4409e-16,  0.0000e+00,  0.0000e+00,\n",
       "         0.0000e+00,  1.1102e-16,  5.5511e-17,  6.6613e-16,  0.0000e+00,\n",
       "        -1.5543e-15,  0.0000e+00,  4.4409e-16,  0.0000e+00,  0.0000e+00])"
      ]
     },
     "execution_count": 57,
     "metadata": {},
     "output_type": "execute_result"
    }
   ],
   "source": [
    "Os1 - Os2"
   ]
  },
  {
   "cell_type": "code",
   "execution_count": 59,
   "id": "f65f66d9",
   "metadata": {
    "ExecuteTime": {
     "end_time": "2022-11-29T03:59:38.258514Z",
     "start_time": "2022-11-29T03:59:38.243126Z"
    }
   },
   "outputs": [],
   "source": [
    "# %load ../mypkg/models/base_model.py\n",
    "import torch\n",
    "from hdf_utils.likelihood import obt_lin_tm\n",
    "\n",
    "\n",
    "class BaseModel():\n",
    "    \"\"\"Base model\n",
    "    \"\"\"\n",
    "    def __init__(self, Y, Z, X, basis_mat, ws=None):\n",
    "        \"\"\"\n",
    "        args:\n",
    "               Y: response values: M\n",
    "               Z: matrix or vector of other covariates, (M) x q\n",
    "               X: freq of data: (M) x d x npts\n",
    "               basis_mat: Basis matrix of B-spline evaluated at some pts: npts x N\n",
    "               ws: the weights used for approximating the integration: npts. \n",
    "        \"\"\"\n",
    "        if ws is None:\n",
    "            ws = torch.ones(basis_mat.shape[0])/basis_mat.shape[0]\n",
    "        self.ws = ws\n",
    "        self.basis_mat = basis_mat\n",
    "        self.X = X\n",
    "        self.Z = Z\n",
    "        self.Y = Y\n",
    "    \n",
    "    def _obt_lin_tm(self, alp, Gam):\n",
    "        \"\"\"Give the linear terms of likelihood fn\n",
    "           args: \n",
    "               alp: parameters for Z: q\n",
    "               Gam: parameters of B-spline: N x d\n",
    "            return:\n",
    "               lin_tm: the linear terms: scalar or vector of M\n",
    "        \"\"\"\n",
    "        return obt_lin_tm(self.Z, self.X, alp, Gam, self.basis_mat, self.ws)\n",
    "    \n",
    "    def _linear_term_der(self):\n",
    "        \"\"\"\n",
    "        # derivative of linear term w.r.t (alp, N^{-1/2}*Gam)\n",
    "        It is a constant\n",
    "        \"\"\"\n",
    "        basis_mat_trans = self.basis_mat.unsqueeze(0).unsqueeze(-1) # 1 x ncpts x N x 1\n",
    "        X_trans = self.X.permute((0, 2, 1)).unsqueeze(2) # M x ncpts x 1 x d\n",
    "        \n",
    "        # derivative of linear term w.r.t (alp, N^{-1/2}*Gam)\n",
    "        vec_part2_raw = basis_mat_trans*X_trans\n",
    "        vec_part2_raw = vec_part2_raw.permute((0, 1, 3, 2)).flatten(2)\n",
    "        vec_part2 = vec_part2_raw*self.ws.unsqueeze(0).unsqueeze(-1)\n",
    "        vec_part2 = vec_part2.sum(axis=1)*np.sqrt(self.basis_mat.shape[1])\n",
    "        lin_tm_der = torch.concat([self.Z, vec_part2], axis=1) #M x (q+dxN)\n",
    "        return lin_tm_der"
   ]
  },
  {
   "cell_type": "code",
   "execution_count": 60,
   "id": "12eb8f89",
   "metadata": {
    "ExecuteTime": {
     "end_time": "2022-11-29T03:59:59.898510Z",
     "start_time": "2022-11-29T03:59:59.893485Z"
    }
   },
   "outputs": [],
   "source": [
    "test = BaseModel(Y=Y, Z=Z, X=X, basis_mat=basis_mat)"
   ]
  },
  {
   "cell_type": "code",
   "execution_count": 62,
   "id": "19ef764e",
   "metadata": {
    "ExecuteTime": {
     "end_time": "2022-11-29T04:00:09.148666Z",
     "start_time": "2022-11-29T04:00:09.139484Z"
    }
   },
   "outputs": [
    {
     "data": {
      "text/plain": [
       "torch.Size([100, 225])"
      ]
     },
     "execution_count": 62,
     "metadata": {},
     "output_type": "execute_result"
    }
   ],
   "source": [
    "test._linear_term_der().shape"
   ]
  },
  {
   "cell_type": "code",
   "execution_count": null,
   "id": "ced49c3d",
   "metadata": {},
   "outputs": [],
   "source": []
  }
 ],
 "metadata": {
  "kernelspec": {
   "display_name": "Python 3 (ipykernel)",
   "language": "python",
   "name": "python3"
  },
  "language_info": {
   "codemirror_mode": {
    "name": "ipython",
    "version": 3
   },
   "file_extension": ".py",
   "mimetype": "text/x-python",
   "name": "python",
   "nbconvert_exporter": "python",
   "pygments_lexer": "ipython3",
   "version": "3.9.7"
  },
  "toc": {
   "base_numbering": 1,
   "nav_menu": {},
   "number_sections": true,
   "sideBar": true,
   "skip_h1_title": false,
   "title_cell": "Table of Contents",
   "title_sidebar": "Contents",
   "toc_cell": false,
   "toc_position": {},
   "toc_section_display": true,
   "toc_window_display": true
  }
 },
 "nbformat": 4,
 "nbformat_minor": 5
}
