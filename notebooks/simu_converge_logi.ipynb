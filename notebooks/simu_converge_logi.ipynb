{
 "cells": [
  {
   "cell_type": "markdown",
   "id": "598bf78b",
   "metadata": {},
   "source": [
    "This file contains python code for convergence test under linear setting"
   ]
  },
  {
   "cell_type": "code",
   "execution_count": 1,
   "id": "02ae980e",
   "metadata": {
    "ExecuteTime": {
     "end_time": "2022-12-10T06:03:53.952363Z",
     "start_time": "2022-12-10T06:03:53.943472Z"
    }
   },
   "outputs": [],
   "source": [
    "import sys\n",
    "sys.path.append(\"../mypkg\")"
   ]
  },
  {
   "cell_type": "code",
   "execution_count": 2,
   "id": "023df78a",
   "metadata": {
    "ExecuteTime": {
     "end_time": "2022-12-10T06:03:59.884170Z",
     "start_time": "2022-12-10T06:03:53.955489Z"
    }
   },
   "outputs": [],
   "source": [
    "import numpy as np\n",
    "import torch\n",
    "import matplotlib.pyplot as plt\n",
    "import seaborn as sns\n",
    "import xarray as xr\n",
    "from scipy.stats import pearsonr\n",
    "from numbers import Number\n",
    "\n",
    "from easydict import EasyDict as edict\n",
    "from tqdm import trange\n",
    "from scipy.io import loadmat\n",
    "\n",
    "plt.style.use('ggplot')\n",
    "plt.rcParams[\"savefig.bbox\"] = \"tight\""
   ]
  },
  {
   "cell_type": "code",
   "execution_count": 3,
   "id": "053a5249",
   "metadata": {
    "ExecuteTime": {
     "end_time": "2022-12-10T06:04:00.170383Z",
     "start_time": "2022-12-10T06:03:59.886859Z"
    }
   },
   "outputs": [
    {
     "data": {
      "text/plain": [
       "<module 'hdf_utils.data_gen' from '/data/rajlab1/user_data/jin/MyResearch/HDF_infer/notebooks/../mypkg/hdf_utils/data_gen.py'>"
      ]
     },
     "execution_count": 3,
     "metadata": {},
     "output_type": "execute_result"
    }
   ],
   "source": [
    "import importlib\n",
    "import hdf_utils.data_gen\n",
    "importlib.reload(hdf_utils.data_gen)"
   ]
  },
  {
   "cell_type": "code",
   "execution_count": 4,
   "id": "b0aa91b2",
   "metadata": {
    "ExecuteTime": {
     "end_time": "2022-12-10T06:04:01.529132Z",
     "start_time": "2022-12-10T06:04:00.173194Z"
    }
   },
   "outputs": [],
   "source": [
    "from constants import DATA_ROOT, RES_ROOT, FIG_ROOT\n",
    "\n",
    "from hdf_utils.data_gen import gen_covs, gen_simu_psd\n",
    "from utils.matrix import col_vec_fn, col_vec2mat_fn, conju_grad, svd_inverse\n",
    "from utils.functions import logit_fn\n",
    "from utils.misc import save_pkl\n",
    "from splines import obt_bsp_basis_Rfn\n",
    "from projection import euclidean_proj_l1ball\n",
    "from optimization.one_step_opt import OneStepOpt\n",
    "\n",
    "from penalties.scad_pen import SCAD\n",
    "from penalties.base_pen import PenaltyBase\n",
    "from models.logistic_model import LogisticModel\n",
    "from models.linear_model import LinearModel\n"
   ]
  },
  {
   "cell_type": "code",
   "execution_count": 5,
   "id": "fdddf8a6",
   "metadata": {
    "ExecuteTime": {
     "end_time": "2022-12-10T06:04:01.537509Z",
     "start_time": "2022-12-10T06:04:01.532416Z"
    }
   },
   "outputs": [],
   "source": [
    "torch.set_default_tensor_type(torch.DoubleTensor)"
   ]
  },
  {
   "cell_type": "code",
   "execution_count": null,
   "id": "d0af2f35",
   "metadata": {},
   "outputs": [],
   "source": []
  },
  {
   "cell_type": "markdown",
   "id": "dd9c6514",
   "metadata": {},
   "source": [
    "## Param and fns"
   ]
  },
  {
   "cell_type": "markdown",
   "id": "20347e78",
   "metadata": {},
   "source": [
    "### Params"
   ]
  },
  {
   "cell_type": "code",
   "execution_count": 6,
   "id": "a7d873ad",
   "metadata": {
    "ExecuteTime": {
     "end_time": "2022-12-10T06:04:01.561414Z",
     "start_time": "2022-12-10T06:04:01.541150Z"
    }
   },
   "outputs": [],
   "source": [
    "# freqs\n",
    "ind_freq = np.linspace(1, 40, 40)"
   ]
  },
  {
   "cell_type": "code",
   "execution_count": 12,
   "id": "058ceb6d",
   "metadata": {
    "ExecuteTime": {
     "end_time": "2022-12-11T20:32:48.091286Z",
     "start_time": "2022-12-11T20:32:48.081024Z"
    }
   },
   "outputs": [],
   "source": [
    "# some fn for GT beta(s)\n",
    "def _fn1(x):\n",
    "    \"\"\"10*sin(6pi*x)\n",
    "    \"\"\"\n",
    "    return 10*np.sin(2*np.pi*3*x)\n",
    "def _fn2(x):\n",
    "    \"\"\"10 * (exp(x)-x+sin(4pi*x))\n",
    "    \"\"\"\n",
    "    p1 = np.exp(x) -x\n",
    "    p2 = 1*np.sin(2*np.pi*2*x)\n",
    "    return 10*(p1 + p2)\n",
    "\n",
    "def _fn3(x):\n",
    "    \"\"\" x^3 - 3x^2 + 2x - 10\n",
    "    \"\"\"\n",
    "    return x**3 - 3*x**2 + 2*x -10\n",
    "\n",
    "def _fn4(x):\n",
    "    return 20*x \n",
    "\n",
    "def _fn5(x):\n",
    "    return -20*np.log(x**4+1)-6\n",
    "\n",
    "def _zero_fn(x):\n",
    "    if isinstance(x, Number):\n",
    "        return 0\n",
    "    else:\n",
    "        return np.zeros(len(x))"
   ]
  },
  {
   "cell_type": "code",
   "execution_count": 15,
   "id": "fd29f0de",
   "metadata": {
    "ExecuteTime": {
     "end_time": "2022-12-11T20:33:58.747155Z",
     "start_time": "2022-12-11T20:33:58.725117Z"
    }
   },
   "outputs": [],
   "source": [
    "np.random.seed(0)\n",
    "paras = edict()\n",
    "paras.model = \"linear\"\n",
    "paras.num_rep = 100\n",
    "paras.n = 1000 # num of data obs to be genareted\n",
    "paras.ns = [100, 300, 900, 2700, 8100, 24300]\n",
    "\n",
    "paras.npts = 40 # num of pts to evaluate X(s)\n",
    "paras.d = 10 # num of ROIs\n",
    "paras.q = 5 # num of other covariates\n",
    "paras.sigma2 = 1 # variance of the error\n",
    "paras.sel_idx = np.arange(2, paras.d) # M^c set\n",
    "paras.stop_cv = 5e-4 # stop cv for convergence\n",
    "paras.max_iter = 2000\n",
    "paras.can_lams = [1e-1, 3e-1, 1e0, 3e0, 9e0, 3e1, 1e2]\n",
    "paras.can_Rfcts = [1,  2]\n",
    "\n",
    "\n",
    "paras.bsp = edict()\n",
    "paras.bsp.aknots_raw = np.linspace(0, 1, 20)\n",
    "paras.bsp.iknots = paras.bsp.aknots_raw[1:-1]\n",
    "paras.bsp.bknots = np.array([0, 1])\n",
    "paras.bsp.ord = 4\n",
    "paras.bsp.x = np.linspace(0, 1, paras.npts)\n",
    "#paras.bsp.x = np.linspace(0, 1, paras.npts+1)[:-1]\n",
    "paras.bsp.basis_mat = obt_bsp_basis_Rfn(paras.bsp.x, \n",
    "                                        paras.bsp.iknots, \n",
    "                                        paras.bsp.bknots, \n",
    "                                        paras.bsp.ord)\n",
    "paras.bsp.N = paras.bsp.basis_mat.shape[1] # num of basis for bsp\n",
    "\n",
    "paras.types_ = [\"int\", 2, 2, \"c\", \"c\"]\n",
    "paras.alp_GT = np.array([5, 1, -2, 3, -4])\n",
    "\n",
    "beta_type_GT = [_fn1, _fn2, _fn3] + [_zero_fn]*(paras.d-3-2) + [_fn4, _fn5]\n",
    "paras.beta_v_GT = np.array([_fn(paras.bsp.x) for _fn in beta_type_GT]).T\n",
    "paras.Gam_est = (np.linalg.inv(paras.bsp.basis_mat.T \n",
    "                               @ paras.bsp.basis_mat) \n",
    "                 @ paras.bsp.basis_mat.T \n",
    "                 @ paras.beta_v_GT)\n",
    "#paras.Gam_GT = np.random.randn(paras.bsp.N, paras.d)*10\n",
    "\n",
    "paras.Rmin = 2*(np.linalg.norm(paras.Gam_est/np.sqrt(paras.bsp.N), axis=0).sum() + np.abs(paras.alp_GT).sum())\n",
    "\n",
    "paras.basis_mat = torch.DoubleTensor(paras.bsp.basis_mat) # npts x N"
   ]
  },
  {
   "cell_type": "code",
   "execution_count": 16,
   "id": "1f85cee4",
   "metadata": {
    "ExecuteTime": {
     "end_time": "2022-12-11T20:34:00.006286Z",
     "start_time": "2022-12-11T20:33:59.991174Z"
    }
   },
   "outputs": [
    {
     "name": "stdout",
     "output_type": "stream",
     "text": [
      "Save to /data/rajlab1/user_data/jin/MyResearch/HDF_infer/notebooks/../mypkg/../results/linear_1/paras.pkl\n"
     ]
    }
   ],
   "source": [
    "paras.save_dir = RES_ROOT/\"linear_1\"\n",
    "if not paras.save_dir.exists():\n",
    "    paras.save_dir.mkdir()\n",
    "save_pkl(paras.save_dir/\"paras.pkl\", paras, is_force=True)"
   ]
  },
  {
   "cell_type": "code",
   "execution_count": null,
   "id": "6c8ece56",
   "metadata": {},
   "outputs": [],
   "source": []
  },
  {
   "cell_type": "markdown",
   "id": "cdad5ad9",
   "metadata": {
    "ExecuteTime": {
     "end_time": "2022-12-08T18:09:55.509389Z",
     "start_time": "2022-12-08T18:09:55.343396Z"
    }
   },
   "source": [
    "### Fns"
   ]
  },
  {
   "cell_type": "code",
   "execution_count": 9,
   "id": "0f30b88f",
   "metadata": {
    "ExecuteTime": {
     "end_time": "2022-12-10T06:04:15.067094Z",
     "start_time": "2022-12-10T06:04:15.056139Z"
    },
    "code_folding": []
   },
   "outputs": [],
   "source": [
    "def gen_simu_data_all(seed):\n",
    "    np.random.seed(seed)\n",
    "    # simulated PSD\n",
    "    assert len(paras.types_) == paras.q\n",
    "    assert len(paras.alp_GT) == paras.q\n",
    "    \n",
    "    simu_psd = gen_simu_psd(paras.n, paras.d, 10)\n",
    "    simu_covs = gen_covs(paras.n, paras.types_)\n",
    "    \n",
    "    # linear term and Y\n",
    "    int_part = np.sum(paras.beta_v_GT.T* simu_psd[:, :, :], axis=1).mean(axis=1)\n",
    "    cov_part = simu_covs @ paras.alp_GT \n",
    "    \n",
    "    # linear term\n",
    "    lin_term = cov_part + int_part\n",
    "    \n",
    "    # Y \n",
    "    rvs = np.random.rand(paras.n)\n",
    "    Y = lin_term + np.random.randn(paras.n)*np.sqrt(paras.sigma2)\n",
    "    \n",
    "    # To torch\n",
    "    X = torch.tensor(simu_psd) # n x d x npts\n",
    "    Z = torch.tensor(simu_covs) # n x q\n",
    "    Y = torch.tensor(Y)\n",
    "    \n",
    "    all_data = edict()\n",
    "    all_data.X = X\n",
    "    all_data.Y = Y\n",
    "    all_data.Z = Z\n",
    "    return all_data"
   ]
  },
  {
   "cell_type": "code",
   "execution_count": null,
   "id": "b1a2b52d",
   "metadata": {},
   "outputs": [],
   "source": []
  },
  {
   "cell_type": "markdown",
   "id": "e4043966",
   "metadata": {},
   "source": [
    "## Simu"
   ]
  },
  {
   "cell_type": "code",
   "execution_count": 10,
   "id": "2492276f",
   "metadata": {
    "ExecuteTime": {
     "end_time": "2022-12-10T06:04:17.317495Z",
     "start_time": "2022-12-10T06:04:17.298902Z"
    },
    "code_folding": []
   },
   "outputs": [],
   "source": [
    "def run_fn(seed, lam, Rfct):\n",
    "    np.random.seed(seed)\n",
    "    torch.manual_seed(seed)\n",
    "    \n",
    "    alp_init = torch.tensor(paras.alp_GT) + torch.randn(paras.q)*10\n",
    "    Gam_init = torch.tensor(paras.Gam_est) + torch.randn(paras.bsp.N, paras.d)*10\n",
    "    theta_init = torch.cat([alp_init, col_vec_fn(Gam_init)/np.sqrt(paras.bsp.N)])\n",
    "    rhok_init = torch.randn(paras.d*paras.bsp.N)\n",
    "    last_Gamk = 0\n",
    "    last_rhok = 0\n",
    "    last_thetak = 0\n",
    "    \n",
    "    cur_data = gen_simu_data_all(seed)\n",
    "    model = LinearModel(Y=cur_data.Y, X=cur_data.X, Z=cur_data.Z, \n",
    "                        basis_mat=paras.basis_mat, sigma2=paras.sigma2)\n",
    "    # 3e0\n",
    "    pen = SCAD(lams=lam, a=3.7,  sel_idx=paras.sel_idx)\n",
    "    \n",
    "    for ix in trange(paras.max_iter):\n",
    "        opt = OneStepOpt(Gamk=Gam_init, \n",
    "                      rhok=rhok_init, \n",
    "                      theta_init=theta_init, \n",
    "                      alpha=0.9, beta=1, model=model, penalty=pen, \n",
    "                      q=paras.q, NR_eps=1e-5, NR_maxit=100, R=paras.Rmin*Rfct)\n",
    "        opt()\n",
    "        Gam_init = opt.Gamk\n",
    "        rhok_init = opt.rhok\n",
    "        theta_init = opt.thetak\n",
    "        \n",
    "        \n",
    "        # converge cv\n",
    "        Gam_diff = opt.Gamk- last_Gamk\n",
    "        Gam_diff_norm = torch.norm(Gam_diff)/torch.norm(opt.Gamk)\n",
    "        \n",
    "        theta_diff = opt.thetak - last_thetak\n",
    "        theta_diff_norm = torch.norm(theta_diff)/torch.norm(opt.thetak)\n",
    "        \n",
    "        Gam_theta_diff = opt.Gamk - col_vec2mat_fn(opt.thetak[paras.q:], nrow=paras.bsp.N)*np.sqrt(paras.bsp.N)\n",
    "        Gam_theta_diff_norm = torch.norm(Gam_theta_diff)/torch.norm(opt.Gamk)\n",
    "        \n",
    "        stop_v = np.max([Gam_diff_norm.item(), theta_diff_norm.item(), Gam_theta_diff_norm.item()])\n",
    "        if stop_v < paras.stop_cv:\n",
    "            break\n",
    "            \n",
    "        last_Gamk = opt.Gamk\n",
    "        last_rhok = opt.rhok\n",
    "        last_thetak = opt.thetak\n",
    "    \n",
    "    if ix == (paras.max_iter-1):\n",
    "        print(f\"The optimization under seed {seed} may not converge with stop value {stop_v:.3f}\")\n",
    "    return opt, ix == (paras.max_iter-1)"
   ]
  },
  {
   "cell_type": "code",
   "execution_count": 11,
   "id": "bfbce182",
   "metadata": {
    "ExecuteTime": {
     "end_time": "2022-12-10T06:04:35.109238Z",
     "start_time": "2022-12-10T06:04:24.782115Z"
    },
    "scrolled": true
   },
   "outputs": [
    {
     "name": "stdout",
     "output_type": "stream",
     "text": [
      "0.1 1 0\n"
     ]
    },
    {
     "name": "stderr",
     "output_type": "stream",
     "text": [
      " 27%|████████████████████████████████████▍                                                                                                 | 544/2000 [00:01<00:03, 436.62it/s]\n"
     ]
    },
    {
     "name": "stdout",
     "output_type": "stream",
     "text": [
      "0.1 1 1\n"
     ]
    },
    {
     "name": "stderr",
     "output_type": "stream",
     "text": [
      " 26%|██████████████████████████████████▉                                                                                                   | 522/2000 [00:01<00:03, 433.13it/s]\n"
     ]
    },
    {
     "name": "stdout",
     "output_type": "stream",
     "text": [
      "0.1 1 2\n"
     ]
    },
    {
     "name": "stderr",
     "output_type": "stream",
     "text": [
      " 28%|█████████████████████████████████████▏                                                                                                | 555/2000 [00:01<00:03, 419.96it/s]\n"
     ]
    },
    {
     "name": "stdout",
     "output_type": "stream",
     "text": [
      "0.1 1 3\n"
     ]
    },
    {
     "name": "stderr",
     "output_type": "stream",
     "text": [
      " 29%|██████████████████████████████████████▎                                                                                               | 571/2000 [00:01<00:03, 415.11it/s]\n"
     ]
    },
    {
     "name": "stdout",
     "output_type": "stream",
     "text": [
      "0.1 1 4\n"
     ]
    },
    {
     "name": "stderr",
     "output_type": "stream",
     "text": [
      " 25%|████████████████████████████████▉                                                                                                     | 491/2000 [00:01<00:03, 418.60it/s]\n"
     ]
    },
    {
     "name": "stdout",
     "output_type": "stream",
     "text": [
      "0.1 1 5\n"
     ]
    },
    {
     "name": "stderr",
     "output_type": "stream",
     "text": [
      "ERROR:root:Internal Python error in the inspect module.\n",
      "Below is the traceback from this internal error.\n",
      "\n"
     ]
    },
    {
     "name": "stdout",
     "output_type": "stream",
     "text": [
      "Traceback (most recent call last):\n",
      "  File \"/opt/conda/lib/python3.9/site-packages/IPython/core/interactiveshell.py\", line 3444, in run_code\n",
      "    exec(code_obj, self.user_global_ns, self.user_ns)\n",
      "  File \"/tmp/ipykernel_50517/2234391497.py\", line 7, in <module>\n",
      "    opt_result = run_fn(seed, lam=cur_lam, Rfct=cur_Rfct)\n",
      "  File \"/tmp/ipykernel_50517/1679681407.py\", line 13, in run_fn\n",
      "    cur_data = gen_simu_data_all(seed)\n",
      "  File \"/tmp/ipykernel_50517/3798789312.py\", line 7, in gen_simu_data_all\n",
      "    simu_psd = gen_simu_psd(paras.n, paras.d, 10)\n",
      "  File \"/data/rajlab1/user_data/jin/MyResearch/HDF_infer/notebooks/../mypkg/hdf_utils/data_gen.py\", line 40, in gen_simu_psd\n",
      "    psd_out = psd_raw + np.random.randn(len(psd_raw))*noise_sd\n",
      "KeyboardInterrupt\n",
      "\n",
      "During handling of the above exception, another exception occurred:\n",
      "\n",
      "Traceback (most recent call last):\n",
      "  File \"/opt/conda/lib/python3.9/site-packages/IPython/core/interactiveshell.py\", line 2064, in showtraceback\n",
      "    stb = value._render_traceback_()\n",
      "AttributeError: 'KeyboardInterrupt' object has no attribute '_render_traceback_'\n",
      "\n",
      "During handling of the above exception, another exception occurred:\n",
      "\n",
      "Traceback (most recent call last):\n",
      "  File \"/opt/conda/lib/python3.9/site-packages/IPython/core/ultratb.py\", line 1101, in get_records\n",
      "    return _fixed_getinnerframes(etb, number_of_lines_of_context, tb_offset)\n",
      "  File \"/opt/conda/lib/python3.9/site-packages/IPython/core/ultratb.py\", line 248, in wrapped\n",
      "    return f(*args, **kwargs)\n",
      "  File \"/opt/conda/lib/python3.9/site-packages/IPython/core/ultratb.py\", line 281, in _fixed_getinnerframes\n",
      "    records = fix_frame_records_filenames(inspect.getinnerframes(etb, context))\n",
      "  File \"/opt/conda/lib/python3.9/inspect.py\", line 1541, in getinnerframes\n",
      "    frameinfo = (tb.tb_frame,) + getframeinfo(tb, context)\n",
      "  File \"/opt/conda/lib/python3.9/inspect.py\", line 1503, in getframeinfo\n",
      "    lines, lnum = findsource(frame)\n",
      "  File \"/opt/conda/lib/python3.9/site-packages/IPython/core/ultratb.py\", line 182, in findsource\n",
      "    lines = linecache.getlines(file, globals_dict)\n",
      "  File \"/opt/conda/lib/python3.9/linecache.py\", line 46, in getlines\n",
      "    return updatecache(filename, module_globals)\n",
      "  File \"/opt/conda/lib/python3.9/linecache.py\", line 136, in updatecache\n",
      "    with tokenize.open(fullname) as fp:\n",
      "  File \"/opt/conda/lib/python3.9/tokenize.py\", line 394, in open\n",
      "    encoding, lines = detect_encoding(buffer.readline)\n",
      "  File \"/opt/conda/lib/python3.9/tokenize.py\", line 363, in detect_encoding\n",
      "    first = read_or_stop()\n",
      "  File \"/opt/conda/lib/python3.9/tokenize.py\", line 321, in read_or_stop\n",
      "    return readline()\n",
      "KeyboardInterrupt\n"
     ]
    },
    {
     "ename": "TypeError",
     "evalue": "object of type 'NoneType' has no len()",
     "output_type": "error",
     "traceback": [
      "\u001b[0;31m---------------------------------------------------------------------------\u001b[0m",
      "\u001b[0;31mKeyboardInterrupt\u001b[0m                         Traceback (most recent call last)",
      "    \u001b[0;31m[... skipping hidden 1 frame]\u001b[0m\n",
      "\u001b[0;32m/tmp/ipykernel_50517/2234391497.py\u001b[0m in \u001b[0;36m<module>\u001b[0;34m\u001b[0m\n\u001b[1;32m      6\u001b[0m             \u001b[0mprint\u001b[0m\u001b[0;34m(\u001b[0m\u001b[0mcur_lam\u001b[0m\u001b[0;34m,\u001b[0m \u001b[0mcur_Rfct\u001b[0m\u001b[0;34m,\u001b[0m \u001b[0mseed\u001b[0m\u001b[0;34m)\u001b[0m\u001b[0;34m\u001b[0m\u001b[0;34m\u001b[0m\u001b[0m\n\u001b[0;32m----> 7\u001b[0;31m             \u001b[0mopt_result\u001b[0m \u001b[0;34m=\u001b[0m \u001b[0mrun_fn\u001b[0m\u001b[0;34m(\u001b[0m\u001b[0mseed\u001b[0m\u001b[0;34m,\u001b[0m \u001b[0mlam\u001b[0m\u001b[0;34m=\u001b[0m\u001b[0mcur_lam\u001b[0m\u001b[0;34m,\u001b[0m \u001b[0mRfct\u001b[0m\u001b[0;34m=\u001b[0m\u001b[0mcur_Rfct\u001b[0m\u001b[0;34m)\u001b[0m\u001b[0;34m\u001b[0m\u001b[0;34m\u001b[0m\u001b[0m\n\u001b[0m\u001b[1;32m      8\u001b[0m             \u001b[0mopt_results\u001b[0m\u001b[0;34m.\u001b[0m\u001b[0mappend\u001b[0m\u001b[0;34m(\u001b[0m\u001b[0;34m[\u001b[0m\u001b[0mopt_result\u001b[0m\u001b[0;34m,\u001b[0m \u001b[0mseed\u001b[0m\u001b[0;34m]\u001b[0m\u001b[0;34m)\u001b[0m\u001b[0;34m\u001b[0m\u001b[0;34m\u001b[0m\u001b[0m\n",
      "\u001b[0;32m/tmp/ipykernel_50517/1679681407.py\u001b[0m in \u001b[0;36mrun_fn\u001b[0;34m(seed, lam, Rfct)\u001b[0m\n\u001b[1;32m     12\u001b[0m \u001b[0;34m\u001b[0m\u001b[0m\n\u001b[0;32m---> 13\u001b[0;31m     \u001b[0mcur_data\u001b[0m \u001b[0;34m=\u001b[0m \u001b[0mgen_simu_data_all\u001b[0m\u001b[0;34m(\u001b[0m\u001b[0mseed\u001b[0m\u001b[0;34m)\u001b[0m\u001b[0;34m\u001b[0m\u001b[0;34m\u001b[0m\u001b[0m\n\u001b[0m\u001b[1;32m     14\u001b[0m     model = LinearModel(Y=cur_data.Y, X=cur_data.X, Z=cur_data.Z, \n",
      "\u001b[0;32m/tmp/ipykernel_50517/3798789312.py\u001b[0m in \u001b[0;36mgen_simu_data_all\u001b[0;34m(seed)\u001b[0m\n\u001b[1;32m      6\u001b[0m \u001b[0;34m\u001b[0m\u001b[0m\n\u001b[0;32m----> 7\u001b[0;31m     \u001b[0msimu_psd\u001b[0m \u001b[0;34m=\u001b[0m \u001b[0mgen_simu_psd\u001b[0m\u001b[0;34m(\u001b[0m\u001b[0mparas\u001b[0m\u001b[0;34m.\u001b[0m\u001b[0mn\u001b[0m\u001b[0;34m,\u001b[0m \u001b[0mparas\u001b[0m\u001b[0;34m.\u001b[0m\u001b[0md\u001b[0m\u001b[0;34m,\u001b[0m \u001b[0;36m10\u001b[0m\u001b[0;34m)\u001b[0m\u001b[0;34m\u001b[0m\u001b[0;34m\u001b[0m\u001b[0m\n\u001b[0m\u001b[1;32m      8\u001b[0m     \u001b[0msimu_covs\u001b[0m \u001b[0;34m=\u001b[0m \u001b[0mgen_covs\u001b[0m\u001b[0;34m(\u001b[0m\u001b[0mparas\u001b[0m\u001b[0;34m.\u001b[0m\u001b[0mn\u001b[0m\u001b[0;34m,\u001b[0m \u001b[0mparas\u001b[0m\u001b[0;34m.\u001b[0m\u001b[0mtypes_\u001b[0m\u001b[0;34m)\u001b[0m\u001b[0;34m\u001b[0m\u001b[0;34m\u001b[0m\u001b[0m\n",
      "\u001b[0;32m/data/rajlab1/user_data/jin/MyResearch/HDF_infer/notebooks/../mypkg/hdf_utils/data_gen.py\u001b[0m in \u001b[0;36mgen_simu_psd\u001b[0;34m(M, d, num_sel, noise_sd)\u001b[0m\n\u001b[1;32m     39\u001b[0m             \u001b[0mpsd_raw\u001b[0m \u001b[0;34m=\u001b[0m \u001b[0mpsd_std\u001b[0m \u001b[0;34m*\u001b[0m \u001b[0mcur_std\u001b[0m  \u001b[0;34m+\u001b[0m \u001b[0mcur_mean\u001b[0m\u001b[0;34m\u001b[0m\u001b[0;34m\u001b[0m\u001b[0m\n\u001b[0;32m---> 40\u001b[0;31m             \u001b[0mpsd_out\u001b[0m \u001b[0;34m=\u001b[0m \u001b[0mpsd_raw\u001b[0m \u001b[0;34m+\u001b[0m \u001b[0mnp\u001b[0m\u001b[0;34m.\u001b[0m\u001b[0mrandom\u001b[0m\u001b[0;34m.\u001b[0m\u001b[0mrandn\u001b[0m\u001b[0;34m(\u001b[0m\u001b[0mlen\u001b[0m\u001b[0;34m(\u001b[0m\u001b[0mpsd_raw\u001b[0m\u001b[0;34m)\u001b[0m\u001b[0;34m)\u001b[0m\u001b[0;34m*\u001b[0m\u001b[0mnoise_sd\u001b[0m\u001b[0;34m\u001b[0m\u001b[0;34m\u001b[0m\u001b[0m\n\u001b[0m\u001b[1;32m     41\u001b[0m             \u001b[0mpsds\u001b[0m\u001b[0;34m.\u001b[0m\u001b[0mappend\u001b[0m\u001b[0;34m(\u001b[0m\u001b[0mpsd_out\u001b[0m\u001b[0;34m)\u001b[0m\u001b[0;34m\u001b[0m\u001b[0;34m\u001b[0m\u001b[0m\n",
      "\u001b[0;31mKeyboardInterrupt\u001b[0m: ",
      "\nDuring handling of the above exception, another exception occurred:\n",
      "\u001b[0;31mAttributeError\u001b[0m                            Traceback (most recent call last)",
      "\u001b[0;32m/opt/conda/lib/python3.9/site-packages/IPython/core/interactiveshell.py\u001b[0m in \u001b[0;36mshowtraceback\u001b[0;34m(self, exc_tuple, filename, tb_offset, exception_only, running_compiled_code)\u001b[0m\n\u001b[1;32m   2063\u001b[0m                         \u001b[0;31m# in the engines. This should return a list of strings.\u001b[0m\u001b[0;34m\u001b[0m\u001b[0;34m\u001b[0m\u001b[0m\n\u001b[0;32m-> 2064\u001b[0;31m                         \u001b[0mstb\u001b[0m \u001b[0;34m=\u001b[0m \u001b[0mvalue\u001b[0m\u001b[0;34m.\u001b[0m\u001b[0m_render_traceback_\u001b[0m\u001b[0;34m(\u001b[0m\u001b[0;34m)\u001b[0m\u001b[0;34m\u001b[0m\u001b[0;34m\u001b[0m\u001b[0m\n\u001b[0m\u001b[1;32m   2065\u001b[0m                     \u001b[0;32mexcept\u001b[0m \u001b[0mException\u001b[0m\u001b[0;34m:\u001b[0m\u001b[0;34m\u001b[0m\u001b[0;34m\u001b[0m\u001b[0m\n",
      "\u001b[0;31mAttributeError\u001b[0m: 'KeyboardInterrupt' object has no attribute '_render_traceback_'",
      "\nDuring handling of the above exception, another exception occurred:\n",
      "\u001b[0;31mTypeError\u001b[0m                                 Traceback (most recent call last)",
      "    \u001b[0;31m[... skipping hidden 1 frame]\u001b[0m\n",
      "\u001b[0;32m/opt/conda/lib/python3.9/site-packages/IPython/core/interactiveshell.py\u001b[0m in \u001b[0;36mshowtraceback\u001b[0;34m(self, exc_tuple, filename, tb_offset, exception_only, running_compiled_code)\u001b[0m\n\u001b[1;32m   2064\u001b[0m                         \u001b[0mstb\u001b[0m \u001b[0;34m=\u001b[0m \u001b[0mvalue\u001b[0m\u001b[0;34m.\u001b[0m\u001b[0m_render_traceback_\u001b[0m\u001b[0;34m(\u001b[0m\u001b[0;34m)\u001b[0m\u001b[0;34m\u001b[0m\u001b[0;34m\u001b[0m\u001b[0m\n\u001b[1;32m   2065\u001b[0m                     \u001b[0;32mexcept\u001b[0m \u001b[0mException\u001b[0m\u001b[0;34m:\u001b[0m\u001b[0;34m\u001b[0m\u001b[0;34m\u001b[0m\u001b[0m\n\u001b[0;32m-> 2066\u001b[0;31m                         stb = self.InteractiveTB.structured_traceback(etype,\n\u001b[0m\u001b[1;32m   2067\u001b[0m                                             value, tb, tb_offset=tb_offset)\n\u001b[1;32m   2068\u001b[0m \u001b[0;34m\u001b[0m\u001b[0m\n",
      "\u001b[0;32m/opt/conda/lib/python3.9/site-packages/IPython/core/ultratb.py\u001b[0m in \u001b[0;36mstructured_traceback\u001b[0;34m(self, etype, value, tb, tb_offset, number_of_lines_of_context)\u001b[0m\n\u001b[1;32m   1365\u001b[0m         \u001b[0;32melse\u001b[0m\u001b[0;34m:\u001b[0m\u001b[0;34m\u001b[0m\u001b[0;34m\u001b[0m\u001b[0m\n\u001b[1;32m   1366\u001b[0m             \u001b[0mself\u001b[0m\u001b[0;34m.\u001b[0m\u001b[0mtb\u001b[0m \u001b[0;34m=\u001b[0m \u001b[0mtb\u001b[0m\u001b[0;34m\u001b[0m\u001b[0;34m\u001b[0m\u001b[0m\n\u001b[0;32m-> 1367\u001b[0;31m         return FormattedTB.structured_traceback(\n\u001b[0m\u001b[1;32m   1368\u001b[0m             self, etype, value, tb, tb_offset, number_of_lines_of_context)\n\u001b[1;32m   1369\u001b[0m \u001b[0;34m\u001b[0m\u001b[0m\n",
      "\u001b[0;32m/opt/conda/lib/python3.9/site-packages/IPython/core/ultratb.py\u001b[0m in \u001b[0;36mstructured_traceback\u001b[0;34m(self, etype, value, tb, tb_offset, number_of_lines_of_context)\u001b[0m\n\u001b[1;32m   1265\u001b[0m         \u001b[0;32mif\u001b[0m \u001b[0mmode\u001b[0m \u001b[0;32min\u001b[0m \u001b[0mself\u001b[0m\u001b[0;34m.\u001b[0m\u001b[0mverbose_modes\u001b[0m\u001b[0;34m:\u001b[0m\u001b[0;34m\u001b[0m\u001b[0;34m\u001b[0m\u001b[0m\n\u001b[1;32m   1266\u001b[0m             \u001b[0;31m# Verbose modes need a full traceback\u001b[0m\u001b[0;34m\u001b[0m\u001b[0;34m\u001b[0m\u001b[0m\n\u001b[0;32m-> 1267\u001b[0;31m             return VerboseTB.structured_traceback(\n\u001b[0m\u001b[1;32m   1268\u001b[0m                 \u001b[0mself\u001b[0m\u001b[0;34m,\u001b[0m \u001b[0metype\u001b[0m\u001b[0;34m,\u001b[0m \u001b[0mvalue\u001b[0m\u001b[0;34m,\u001b[0m \u001b[0mtb\u001b[0m\u001b[0;34m,\u001b[0m \u001b[0mtb_offset\u001b[0m\u001b[0;34m,\u001b[0m \u001b[0mnumber_of_lines_of_context\u001b[0m\u001b[0;34m\u001b[0m\u001b[0;34m\u001b[0m\u001b[0m\n\u001b[1;32m   1269\u001b[0m             )\n",
      "\u001b[0;32m/opt/conda/lib/python3.9/site-packages/IPython/core/ultratb.py\u001b[0m in \u001b[0;36mstructured_traceback\u001b[0;34m(self, etype, evalue, etb, tb_offset, number_of_lines_of_context)\u001b[0m\n\u001b[1;32m   1122\u001b[0m         \u001b[0;34m\"\"\"Return a nice text document describing the traceback.\"\"\"\u001b[0m\u001b[0;34m\u001b[0m\u001b[0;34m\u001b[0m\u001b[0m\n\u001b[1;32m   1123\u001b[0m \u001b[0;34m\u001b[0m\u001b[0m\n\u001b[0;32m-> 1124\u001b[0;31m         formatted_exception = self.format_exception_as_a_whole(etype, evalue, etb, number_of_lines_of_context,\n\u001b[0m\u001b[1;32m   1125\u001b[0m                                                                tb_offset)\n\u001b[1;32m   1126\u001b[0m \u001b[0;34m\u001b[0m\u001b[0m\n",
      "\u001b[0;32m/opt/conda/lib/python3.9/site-packages/IPython/core/ultratb.py\u001b[0m in \u001b[0;36mformat_exception_as_a_whole\u001b[0;34m(self, etype, evalue, etb, number_of_lines_of_context, tb_offset)\u001b[0m\n\u001b[1;32m   1080\u001b[0m \u001b[0;34m\u001b[0m\u001b[0m\n\u001b[1;32m   1081\u001b[0m \u001b[0;34m\u001b[0m\u001b[0m\n\u001b[0;32m-> 1082\u001b[0;31m         \u001b[0mlast_unique\u001b[0m\u001b[0;34m,\u001b[0m \u001b[0mrecursion_repeat\u001b[0m \u001b[0;34m=\u001b[0m \u001b[0mfind_recursion\u001b[0m\u001b[0;34m(\u001b[0m\u001b[0morig_etype\u001b[0m\u001b[0;34m,\u001b[0m \u001b[0mevalue\u001b[0m\u001b[0;34m,\u001b[0m \u001b[0mrecords\u001b[0m\u001b[0;34m)\u001b[0m\u001b[0;34m\u001b[0m\u001b[0;34m\u001b[0m\u001b[0m\n\u001b[0m\u001b[1;32m   1083\u001b[0m \u001b[0;34m\u001b[0m\u001b[0m\n\u001b[1;32m   1084\u001b[0m         \u001b[0mframes\u001b[0m \u001b[0;34m=\u001b[0m \u001b[0mself\u001b[0m\u001b[0;34m.\u001b[0m\u001b[0mformat_records\u001b[0m\u001b[0;34m(\u001b[0m\u001b[0mrecords\u001b[0m\u001b[0;34m,\u001b[0m \u001b[0mlast_unique\u001b[0m\u001b[0;34m,\u001b[0m \u001b[0mrecursion_repeat\u001b[0m\u001b[0;34m)\u001b[0m\u001b[0;34m\u001b[0m\u001b[0;34m\u001b[0m\u001b[0m\n",
      "\u001b[0;32m/opt/conda/lib/python3.9/site-packages/IPython/core/ultratb.py\u001b[0m in \u001b[0;36mfind_recursion\u001b[0;34m(etype, value, records)\u001b[0m\n\u001b[1;32m    380\u001b[0m     \u001b[0;31m# first frame (from in to out) that looks different.\u001b[0m\u001b[0;34m\u001b[0m\u001b[0;34m\u001b[0m\u001b[0m\n\u001b[1;32m    381\u001b[0m     \u001b[0;32mif\u001b[0m \u001b[0;32mnot\u001b[0m \u001b[0mis_recursion_error\u001b[0m\u001b[0;34m(\u001b[0m\u001b[0metype\u001b[0m\u001b[0;34m,\u001b[0m \u001b[0mvalue\u001b[0m\u001b[0;34m,\u001b[0m \u001b[0mrecords\u001b[0m\u001b[0;34m)\u001b[0m\u001b[0;34m:\u001b[0m\u001b[0;34m\u001b[0m\u001b[0;34m\u001b[0m\u001b[0m\n\u001b[0;32m--> 382\u001b[0;31m         \u001b[0;32mreturn\u001b[0m \u001b[0mlen\u001b[0m\u001b[0;34m(\u001b[0m\u001b[0mrecords\u001b[0m\u001b[0;34m)\u001b[0m\u001b[0;34m,\u001b[0m \u001b[0;36m0\u001b[0m\u001b[0;34m\u001b[0m\u001b[0;34m\u001b[0m\u001b[0m\n\u001b[0m\u001b[1;32m    383\u001b[0m \u001b[0;34m\u001b[0m\u001b[0m\n\u001b[1;32m    384\u001b[0m     \u001b[0;31m# Select filename, lineno, func_name to track frames with\u001b[0m\u001b[0;34m\u001b[0m\u001b[0;34m\u001b[0m\u001b[0m\n",
      "\u001b[0;31mTypeError\u001b[0m: object of type 'NoneType' has no len()"
     ]
    }
   ],
   "source": [
    "for cur_lam in paras.can_lams:\n",
    "    for cur_Rfct in paras.can_Rfcts:\n",
    "        fil_name = f\"result_lam-{cur_lam*100:.0f}_Rfct-{cur_Rfct*10:.0f}_n-{paras.n:.0f}.pkl\"\n",
    "        opt_results = []\n",
    "        for seed in range(paras.num_rep):\n",
    "            print(cur_lam, cur_Rfct, seed)\n",
    "            opt_result = run_fn(seed, lam=cur_lam, Rfct=cur_Rfct)\n",
    "            opt_results.append([opt_result, seed])\n",
    "        save_pkl(paras.save_dir/fil_name, opt_results)"
   ]
  },
  {
   "cell_type": "code",
   "execution_count": null,
   "id": "8c18c887",
   "metadata": {},
   "outputs": [],
   "source": []
  }
 ],
 "metadata": {
  "kernelspec": {
   "display_name": "Python 3 (ipykernel)",
   "language": "python",
   "name": "python3"
  },
  "language_info": {
   "codemirror_mode": {
    "name": "ipython",
    "version": 3
   },
   "file_extension": ".py",
   "mimetype": "text/x-python",
   "name": "python",
   "nbconvert_exporter": "python",
   "pygments_lexer": "ipython3",
   "version": "3.9.7"
  },
  "toc": {
   "base_numbering": 1,
   "nav_menu": {},
   "number_sections": true,
   "sideBar": true,
   "skip_h1_title": false,
   "title_cell": "Table of Contents",
   "title_sidebar": "Contents",
   "toc_cell": false,
   "toc_position": {},
   "toc_section_display": true,
   "toc_window_display": false
  }
 },
 "nbformat": 4,
 "nbformat_minor": 5
}
