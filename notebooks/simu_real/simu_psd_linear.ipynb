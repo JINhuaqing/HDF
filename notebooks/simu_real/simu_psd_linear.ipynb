{
 "cells": [
  {
   "cell_type": "markdown",
   "id": "faf0a805",
   "metadata": {},
   "source": [
    "This file contains python code to mimic real setting\n",
    "\n",
    "It is under the linear setting\n",
    "\n",
    "Now, I use the same beta from the paper but the PSD as X"
   ]
  },
  {
   "cell_type": "code",
   "execution_count": 1,
   "id": "02ae980e",
   "metadata": {
    "ExecuteTime": {
     "end_time": "2023-05-31T19:57:23.490285Z",
     "start_time": "2023-05-31T19:57:23.481769Z"
    },
    "execution": {
     "iopub.execute_input": "2024-01-03T00:50:31.529994Z",
     "iopub.status.busy": "2024-01-03T00:50:31.529218Z",
     "iopub.status.idle": "2024-01-03T00:50:31.544920Z",
     "shell.execute_reply": "2024-01-03T00:50:31.543593Z",
     "shell.execute_reply.started": "2024-01-03T00:50:31.529944Z"
    },
    "tags": []
   },
   "outputs": [],
   "source": [
    "import sys\n",
    "sys.path.append(\"../../mypkg\")"
   ]
  },
  {
   "cell_type": "code",
   "execution_count": 2,
   "id": "023df78a",
   "metadata": {
    "ExecuteTime": {
     "end_time": "2023-05-31T19:57:34.238839Z",
     "start_time": "2023-05-31T19:57:23.494053Z"
    },
    "execution": {
     "iopub.execute_input": "2024-01-03T00:50:31.547198Z",
     "iopub.status.busy": "2024-01-03T00:50:31.546510Z",
     "iopub.status.idle": "2024-01-03T00:50:33.838806Z",
     "shell.execute_reply": "2024-01-03T00:50:33.838292Z",
     "shell.execute_reply.started": "2024-01-03T00:50:31.547158Z"
    },
    "tags": []
   },
   "outputs": [],
   "source": [
    "import numpy as np\n",
    "import torch\n",
    "import matplotlib.pyplot as plt\n",
    "import seaborn as sns\n",
    "from scipy.stats import pearsonr\n",
    "from numbers import Number\n",
    "\n",
    "from easydict import EasyDict as edict\n",
    "from tqdm import trange, tqdm\n",
    "from scipy.io import loadmat\n",
    "from pprint import pprint\n",
    "import itertools\n",
    "from scipy.stats import chi2\n"
   ]
  },
  {
   "cell_type": "code",
   "execution_count": 3,
   "id": "b9d3cbc6-1ac5-47d6-a0d1-bcbc0be9267e",
   "metadata": {
    "execution": {
     "iopub.execute_input": "2024-01-03T00:50:33.840263Z",
     "iopub.status.busy": "2024-01-03T00:50:33.839937Z",
     "iopub.status.idle": "2024-01-03T00:50:33.878558Z",
     "shell.execute_reply": "2024-01-03T00:50:33.877440Z",
     "shell.execute_reply.started": "2024-01-03T00:50:33.840248Z"
    },
    "tags": []
   },
   "outputs": [],
   "source": [
    "# This will reload all imports as soon as the code changes\n",
    "%load_ext autoreload\n",
    "%autoreload 2"
   ]
  },
  {
   "cell_type": "code",
   "execution_count": 4,
   "id": "b0aa91b2",
   "metadata": {
    "ExecuteTime": {
     "end_time": "2023-05-31T19:57:59.558229Z",
     "start_time": "2023-05-31T19:57:34.292612Z"
    },
    "execution": {
     "iopub.execute_input": "2024-01-03T00:50:33.879580Z",
     "iopub.status.busy": "2024-01-03T00:50:33.879283Z",
     "iopub.status.idle": "2024-01-03T00:50:34.717423Z",
     "shell.execute_reply": "2024-01-03T00:50:34.716017Z",
     "shell.execute_reply.started": "2024-01-03T00:50:33.879563Z"
    },
    "tags": []
   },
   "outputs": [],
   "source": [
    "from constants import DATA_ROOT, RES_ROOT, FIG_ROOT, MIDRES_ROOT\n",
    "from default_paras import def_paras\n",
    "\n",
    "from hdf_utils.data_gen import gen_simu_psd_dataset\n",
    "from hdf_utils.fns_sinica import coef_fn, fourier_basis_fn, gen_sini_Xthetas\n",
    "from hdf_utils.likelihood import obt_lin_tm\n",
    "from hdf_utils.SIS import SIS_GLIM\n",
    "from hdf_utils.utils import gen_lam_seq\n",
    "from hdf_utils.hypo_test import  MS2idxs, obt_test_stat_simple2, obt_test_stat_simple3\n",
    "from hdf_utils.variable_selection import GIC_fn, GCV_fn\n",
    "from utils.matrix import col_vec_fn, col_vec2mat_fn, conju_grad, svd_inverse, cholesky_inv\n",
    "from utils.functions import logit_fn\n",
    "from utils.misc import save_pkl, load_pkl\n",
    "from splines import obt_bsp_obasis_Rfn, obt_bsp_basis_Rfn_wrapper\n",
    "from projection import euclidean_proj_l1ball\n",
    "from optimization.opt import HDFOpt\n",
    "from penalties.scad_pen import SCAD\n",
    "from models.linear_model import LinearModel\n",
    "\n",
    "from joblib import Parallel, delayed"
   ]
  },
  {
   "cell_type": "code",
   "execution_count": 5,
   "id": "fe0a4a46",
   "metadata": {
    "ExecuteTime": {
     "end_time": "2023-05-31T19:57:59.621784Z",
     "start_time": "2023-05-31T19:57:59.568097Z"
    },
    "execution": {
     "iopub.execute_input": "2024-01-03T00:50:34.719439Z",
     "iopub.status.busy": "2024-01-03T00:50:34.718888Z",
     "iopub.status.idle": "2024-01-03T00:50:34.754920Z",
     "shell.execute_reply": "2024-01-03T00:50:34.754387Z",
     "shell.execute_reply.started": "2024-01-03T00:50:34.719397Z"
    },
    "tags": []
   },
   "outputs": [],
   "source": [
    "plt.style.use(FIG_ROOT/\"base.mplstyle\")\n",
    "torch.set_default_tensor_type(torch.DoubleTensor)"
   ]
  },
  {
   "cell_type": "code",
   "execution_count": null,
   "id": "e0cb5a3d-1ab1-4bc0-bfce-d7ebaedb0391",
   "metadata": {},
   "outputs": [],
   "source": []
  },
  {
   "cell_type": "code",
   "execution_count": null,
   "id": "d0af2f35",
   "metadata": {},
   "outputs": [],
   "source": []
  },
  {
   "cell_type": "markdown",
   "id": "21e4ccea",
   "metadata": {},
   "source": [
    "# Params"
   ]
  },
  {
   "cell_type": "code",
   "execution_count": 6,
   "id": "fd29f0de",
   "metadata": {
    "ExecuteTime": {
     "end_time": "2023-05-31T23:31:16.397628Z",
     "start_time": "2023-05-31T23:31:16.221812Z"
    },
    "execution": {
     "iopub.execute_input": "2024-01-03T00:50:34.755773Z",
     "iopub.status.busy": "2024-01-03T00:50:34.755606Z",
     "iopub.status.idle": "2024-01-03T00:50:34.784405Z",
     "shell.execute_reply": "2024-01-03T00:50:34.783908Z",
     "shell.execute_reply.started": "2024-01-03T00:50:34.755759Z"
    },
    "tags": [
     "param"
    ]
   },
   "outputs": [
    {
     "name": "stdout",
     "output_type": "stream",
     "text": [
      "[29.74717132]\n"
     ]
    }
   ],
   "source": [
    "np.random.seed(0)\n",
    "paras = edict()\n",
    "\n",
    "\n",
    "\n",
    "# Others\n",
    "paras.num_rep = 200 \n",
    "paras.model_type = \"linear\"\n",
    "\n",
    "# candidate sets of tuning parameters, only two \n",
    "# lambda: penalty term\n",
    "# N: num of basis\n",
    "paras.can_lams = [0.01, 0.1, 0.2, 0.3, 0.4, 0.6, 1, 2, 8]\n",
    "paras.can_Ns = [4, 6, 8, 10, 12]\n",
    "\n",
    "\n",
    "# basis \n",
    "paras.bsp_params = edict({\n",
    "            \"basis_ord\": 4, \n",
    "            \"is_orth_basis\": True, \n",
    "            \"N\": None\n",
    "        })\n",
    "if paras.bsp_params.is_orth_basis: \n",
    "    obt_bsp = obt_bsp_obasis_Rfn\n",
    "else:\n",
    "    obt_bsp = obt_bsp_basis_Rfn_wrapper\n",
    "    \n",
    "if paras.model_type.startswith(\"linear\"):\n",
    "    paras.model_params = edict({\n",
    "                \"norminal_sigma2\": 1\n",
    "                    })\n",
    "elif paras.model_type.startswith(\"logi\"):\n",
    "    paras.model_params = edict({})\n",
    "\n",
    "paras.pen_params= edict({\n",
    "            \"a\": 3.7, \n",
    "            \"lam\": None,\n",
    "                })\n",
    "\n",
    "if paras.model_type.startswith(\"linear\"):\n",
    "    paras.opt_params= edict({\n",
    "               'stop_cv': 0.0005,\n",
    "               'max_iter': 2000, \n",
    "               \"one_step_verbose\":0,\n",
    "               'alpha': 0.9,\n",
    "               'beta': 10,\n",
    "               'R': 1e5,\n",
    "               \"linear_theta_update\": \"cholesky_inv\",\n",
    "               \"linear_mat\": None, \n",
    "             })\n",
    "elif paras.model_type.startswith(\"logi\"):\n",
    "    paras.opt_params= edict({\n",
    "               'stop_cv': 0.0005,\n",
    "               'max_iter': 2000, \n",
    "               \"one_step_verbose\":0,\n",
    "               'alpha': 0.9,\n",
    "               'beta': 1.5,\n",
    "               'R': 1e5,\n",
    "               'N_eps': 1e-4,\n",
    "               'N_maxit': 100,\n",
    "               \"is_BFGS\": \"adaptive\", \n",
    "             })\n",
    "\n",
    "paras.SIS_params = edict({\n",
    "             \"SIS_pen\": 0.02,  \n",
    "             \"SIS_basis_N\": 8,  \n",
    "             \"SIS_basis_ord\": None,\n",
    "             \"SIS_ratio\": 0.2, \n",
    "         })\n",
    "    \n",
    "\n",
    "# generating dataset\n",
    "paras.n = 200 # num of data obs to be genareted\n",
    "paras.d = 68 # num of ROIs\n",
    "paras.q = 3 # num of other covariates\n",
    "paras.npts = 100 # num of pts to evaluate X(s)\n",
    "paras.freqs = np.linspace(2, 45, paras.npts) # freqs\n",
    "paras.sigma2 = 1 # variance of the error\n",
    "# variance used for estimation, note that the value does not affect any results \n",
    "# as long as I tune the parameter properly\n",
    "paras.types_ = [\"int\", \"c\", 2]\n",
    "paras.is_std = False\n",
    "# True parameters\n",
    "paras.x = np.linspace(0, 1, paras.npts)\n",
    "paras.alp_GT = np.array([5, -1, 2])\n",
    "# fourier basis\n",
    "cs = [0.0, 0.0, 0.0] # for sinica paper\n",
    "paras.cs = cs\n",
    "paras.fourier_basis = fourier_basis_fn(paras.x)[:, :]\n",
    "paras.fourier_basis_coefs = ([cs[0]*coef_fn(0.2), cs[1]*coef_fn(0.2), cs[2]*coef_fn(0.2)] + \n",
    "                             [np.zeros(50)] * (paras.d-3-1) +\n",
    "                             [coef_fn(0.2)]\n",
    "                             )\n",
    "paras.fourier_basis_coefs = np.array(paras.fourier_basis_coefs).T \n",
    "paras.beta_GT = paras.fourier_basis @ paras.fourier_basis_coefs * 2\n",
    "beta_GT_norm = np.linalg.norm(paras.beta_GT, axis=0)\n",
    "print(beta_GT_norm[beta_GT_norm!=0])\n",
    "\n",
    "\n",
    "# CV\n",
    "paras.num_cv_fold = 10\n",
    "\n",
    "\n",
    "# hypothesis test\n",
    "#without loss of generality, we assume the idxs in M is the first m betas\n",
    "paras.sel_idx = np.arange(1, paras.d) # M^c set, \n",
    "paras.Cmats = [\n",
    "    np.eye(paras.d-len(paras.sel_idx)), # m x m I matrix, [beta1, beta2] = [0, 0]\n",
    "]\n",
    "paras.hypo_params = edict({\n",
    "            \"svdinv_eps_Q\": 1e-7,\n",
    "            \"svdinv_eps_Psi\": 1e-7,\n",
    "            \"Cmat\": None\n",
    "        })\n",
    "\n",
    "# saving path\n",
    "paras.save_dir = RES_ROOT/\"test\"\n",
    "if not paras.save_dir.exists():\n",
    "    paras.save_dir.mkdir()"
   ]
  },
  {
   "cell_type": "markdown",
   "id": "324c61ec-d16f-48ea-a1ad-de39801a40ef",
   "metadata": {},
   "source": [
    "\n",
    "# Simu\n"
   ]
  },
  {
   "cell_type": "markdown",
   "id": "66c2f90f",
   "metadata": {
    "ExecuteTime": {
     "end_time": "2022-12-08T18:09:55.509389Z",
     "start_time": "2022-12-08T18:09:55.343396Z"
    }
   },
   "source": [
    "## Check data gen fn"
   ]
  },
  {
   "cell_type": "code",
   "execution_count": 8,
   "id": "b2b0eac7-57e2-48d2-a57d-87f85337b4a7",
   "metadata": {
    "execution": {
     "iopub.execute_input": "2024-01-03T00:05:41.404445Z",
     "iopub.status.busy": "2024-01-03T00:05:41.403783Z",
     "iopub.status.idle": "2024-01-03T00:05:41.600273Z",
     "shell.execute_reply": "2024-01-03T00:05:41.599669Z",
     "shell.execute_reply.started": "2024-01-03T00:05:41.404398Z"
    },
    "tags": []
   },
   "outputs": [
    {
     "name": "stdout",
     "output_type": "stream",
     "text": [
      "Load file /data/rajlab1/user_data/jin/MyResearch/HDF_infer/notebooks/simu_real/../../mypkg/../mid_results/PSD_d-68_n-500_npts-100_is_std-False/seed_0.pkl\n"
     ]
    }
   ],
   "source": [
    "data = gen_simu_psd_dataset(paras.n, paras.d, paras.q, paras.types_, \n",
    "                            paras.alp_GT, paras.beta_GT, paras.freqs, \n",
    "                 data_type=paras.model_type, data_params={\"err_dist\": \"norm\", \"sigma2\": paras.sigma2, \"psd_noise_sd\":10}, \n",
    "                 seed=0, is_std=paras.is_std, verbose=True, is_gen=False);"
   ]
  },
  {
   "cell_type": "code",
   "execution_count": 9,
   "id": "4ae5a212-ef32-4152-8f46-615e2117e931",
   "metadata": {
    "execution": {
     "iopub.execute_input": "2024-01-03T00:05:50.700746Z",
     "iopub.status.busy": "2024-01-03T00:05:50.700108Z",
     "iopub.status.idle": "2024-01-03T00:05:50.939042Z",
     "shell.execute_reply": "2024-01-03T00:05:50.938631Z",
     "shell.execute_reply.started": "2024-01-03T00:05:50.700700Z"
    },
    "tags": []
   },
   "outputs": [
    {
     "data": {
      "text/plain": [
       "[<matplotlib.lines.Line2D at 0x7fea981a6580>]"
      ]
     },
     "execution_count": 9,
     "metadata": {},
     "output_type": "execute_result"
    },
    {
     "data": {
      "image/png": "[encoded data removed]",
      "text/plain": [
       "<Figure size 432x288 with 1 Axes>"
      ]
     },
     "metadata": {
      "needs_background": "light"
     },
     "output_type": "display_data"
    }
   ],
   "source": [
    "idx = 100\n",
    "for ix in range(20):\n",
    "    plt.plot(data.X[idx, ix, :])\n",
    "plt.plot(data.X[idx, :, :].mean(axis=0))\n",
    "#plt.plot(data.X[idx, 0, :])\n",
    "#plt.plot(data.X[idx, 1, :])"
   ]
  },
  {
   "cell_type": "code",
   "execution_count": null,
   "id": "96fd3e30",
   "metadata": {},
   "outputs": [],
   "source": []
  },
  {
   "cell_type": "markdown",
   "id": "09b0ec89-ac82-4079-acc3-6649993a0444",
   "metadata": {
    "tags": []
   },
   "source": [
    "## SIS check (just for check)"
   ]
  },
  {
   "cell_type": "code",
   "execution_count": 12,
   "id": "d023521f-57dd-4ea5-a4b2-c159960e486e",
   "metadata": {
    "execution": {
     "iopub.execute_input": "2024-01-03T00:06:46.430237Z",
     "iopub.status.busy": "2024-01-03T00:06:46.429556Z",
     "iopub.status.idle": "2024-01-03T00:06:46.547736Z",
     "shell.execute_reply": "2024-01-03T00:06:46.546056Z",
     "shell.execute_reply.started": "2024-01-03T00:06:46.430186Z"
    }
   },
   "outputs": [
    {
     "data": {
      "text/plain": [
       "{'basis_ord': 4, 'is_orth_basis': True, 'N': None}"
      ]
     },
     "execution_count": 12,
     "metadata": {},
     "output_type": "execute_result"
    }
   ],
   "source": [
    "paras.bsp_params"
   ]
  },
  {
   "cell_type": "code",
   "execution_count": 16,
   "id": "95a15192-2e48-424f-acd9-1cd41ee7a215",
   "metadata": {
    "execution": {
     "iopub.execute_input": "2024-01-03T00:07:42.560924Z",
     "iopub.status.busy": "2024-01-03T00:07:42.560169Z",
     "iopub.status.idle": "2024-01-03T00:07:42.608461Z",
     "shell.execute_reply": "2024-01-03T00:07:42.607510Z",
     "shell.execute_reply.started": "2024-01-03T00:07:42.560870Z"
    },
    "tags": []
   },
   "outputs": [],
   "source": [
    "def _SIS_fn(seed, SIS_ratio, N, SIS_pen, paras):\n",
    "    torch.set_default_dtype(torch.double)\n",
    "    np.random.seed(seed)\n",
    "    torch.manual_seed(seed)\n",
    "        \n",
    "    _paras = edict(paras.copy())\n",
    "    _paras.seed = seed\n",
    "    _paras.N = N\n",
    "    _paras.basis_mat = torch.tensor(obt_bsp(_paras.x, _paras.N, _paras.bsp_params.basis_ord)).to(torch.get_default_dtype())\n",
    "    cur_data = gen_simu_psd_dataset(_paras.n, _paras.d, _paras.q, _paras.types_, \n",
    "                            _paras.alp_GT, _paras.beta_GT, _paras.freqs, \n",
    "                 data_type=_paras.model_type, data_params={\"err_dist\": \"norm\", \"sigma2\": _paras.sigma2, \"psd_noise_sd\":10}, \n",
    "                 seed=seed, is_std=_paras.is_std, verbose=False, is_gen=False);\n",
    "    \n",
    "    keep_idxs, _  = SIS_GLIM(Y=cur_data.Y, X=cur_data.X, Z=cur_data.Z, \n",
    "                             basis_mat=_paras.basis_mat, keep_ratio=SIS_ratio, \n",
    "                             model_type=\"linear\", SIS_pen=SIS_pen, sel_idx=_paras.sel_idx)\n",
    "    M_idxs = np.delete(np.arange(_paras.d), _paras.sel_idx)\n",
    "    _paras.keep_idxs = np.sort(np.concatenate([M_idxs, keep_idxs]))\n",
    "    return _paras.keep_idxs"
   ]
  },
  {
   "cell_type": "code",
   "execution_count": 14,
   "id": "e232013c-a4b7-4adb-98cc-0037d977ef20",
   "metadata": {
    "execution": {
     "iopub.execute_input": "2024-01-03T00:06:49.272704Z",
     "iopub.status.busy": "2024-01-03T00:06:49.272067Z",
     "iopub.status.idle": "2024-01-03T00:06:54.680332Z",
     "shell.execute_reply": "2024-01-03T00:06:54.679729Z",
     "shell.execute_reply.started": "2024-01-03T00:06:49.272656Z"
    },
    "scrolled": true,
    "tags": []
   },
   "outputs": [
    {
     "name": "stderr",
     "output_type": "stream",
     "text": [
      "\n",
      "  0%|                                                                                                                                                  | 0/200 [00:00<?, ?it/s]\u001b[A\n",
      " 10%|█████████████▋                                                                                                                           | 20/200 [00:00<00:02, 72.72it/s]\u001b[AR[write to console]: \n",
      "Attaching package: ‘orthogonalsplinebasis’\n",
      "\n",
      "\n",
      "R[write to console]: The following object is masked from ‘package:stats’:\n",
      "\n",
      "    integrate\n",
      "\n",
      "\n",
      "R[write to console]: \n",
      "Attaching package: ‘orthogonalsplinebasis’\n",
      "\n",
      "\n",
      "R[write to console]: The following object is masked from ‘package:stats’:\n",
      "\n",
      "    integrate\n",
      "\n",
      "\n",
      "R[write to console]: \n",
      "Attaching package: ‘orthogonalsplinebasis’\n",
      "\n",
      "\n",
      "R[write to console]: The following object is masked from ‘package:stats’:\n",
      "\n",
      "    integrate\n",
      "\n",
      "\n",
      "R[write to console]: \n",
      "Attaching package: ‘orthogonalsplinebasis’\n",
      "\n",
      "\n",
      "R[write to console]: The following object is masked from ‘package:stats’:\n",
      "\n",
      "    integrate\n",
      "\n",
      "\n",
      "R[write to console]: \n",
      "Attaching package: ‘orthogonalsplinebasis’\n",
      "\n",
      "\n",
      "R[write to console]: The following object is masked from ‘package:stats’:\n",
      "\n",
      "    integrate\n",
      "\n",
      "\n",
      "\n",
      " 20%|███████████████████████████▍                                                                                                             | 40/200 [00:03<00:14, 11.03it/s]\u001b[AR[write to console]: \n",
      "Attaching package: ‘orthogonalsplinebasis’\n",
      "\n",
      "\n",
      "R[write to console]: The following object is masked from ‘package:stats’:\n",
      "\n",
      "    integrate\n",
      "\n",
      "\n",
      "R[write to console]: \n",
      "Attaching package: ‘orthogonalsplinebasis’\n",
      "\n",
      "\n",
      "R[write to console]: The following object is masked from ‘package:stats’:\n",
      "\n",
      "    integrate\n",
      "\n",
      "\n",
      "R[write to console]: \n",
      "Attaching package: ‘orthogonalsplinebasis’\n",
      "\n",
      "\n",
      "R[write to console]: The following object is masked from ‘package:stats’:\n",
      "\n",
      "    integrate\n",
      "\n",
      "\n",
      "R[write to console]: \n",
      "Attaching package: ‘orthogonalsplinebasis’\n",
      "\n",
      "\n",
      "R[write to console]: The following object is masked from ‘package:stats’:\n",
      "\n",
      "    integrate\n",
      "\n",
      "\n",
      "R[write to console]: \n",
      "Attaching package: ‘orthogonalsplinebasis’\n",
      "\n",
      "\n",
      "R[write to console]: The following object is masked from ‘package:stats’:\n",
      "\n",
      "    integrate\n",
      "\n",
      "\n",
      "R[write to console]: \n",
      "Attaching package: ‘orthogonalsplinebasis’\n",
      "\n",
      "\n",
      "R[write to console]: The following object is masked from ‘package:stats’:\n",
      "\n",
      "    integrate\n",
      "\n",
      "\n",
      "R[write to console]: \n",
      "Attaching package: ‘orthogonalsplinebasis’\n",
      "\n",
      "\n",
      "R[write to console]: The following object is masked from ‘package:stats’:\n",
      "\n",
      "    integrate\n",
      "\n",
      "\n",
      "R[write to console]: \n",
      "Attaching package: ‘orthogonalsplinebasis’\n",
      "\n",
      "\n",
      "R[write to console]: The following object is masked from ‘package:stats’:\n",
      "\n",
      "    integrate\n",
      "\n",
      "\n",
      "R[write to console]: \n",
      "Attaching package: ‘orthogonalsplinebasis’\n",
      "\n",
      "\n",
      "R[write to console]: The following object is masked from ‘package:stats’:\n",
      "\n",
      "    integrate\n",
      "\n",
      "\n",
      "R[write to console]: \n",
      "Attaching package: ‘orthogonalsplinebasis’\n",
      "\n",
      "\n",
      "R[write to console]: The following object is masked from ‘package:stats’:\n",
      "\n",
      "    integrate\n",
      "\n",
      "\n",
      "R[write to console]: \n",
      "Attaching package: ‘orthogonalsplinebasis’\n",
      "\n",
      "\n",
      "R[write to console]: The following object is masked from ‘package:stats’:\n",
      "\n",
      "    integrate\n",
      "\n",
      "\n",
      "R[write to console]: \n",
      "Attaching package: ‘orthogonalsplinebasis’\n",
      "\n",
      "\n",
      "R[write to console]: \n",
      "Attaching package: ‘orthogonalsplinebasis’\n",
      "\n",
      "\n",
      "R[write to console]: The following object is masked from ‘package:stats’:\n",
      "\n",
      "    integrate\n",
      "\n",
      "\n",
      "R[write to console]: \n",
      "Attaching package: ‘orthogonalsplinebasis’\n",
      "\n",
      "\n",
      "R[write to console]: \n",
      "Attaching package: ‘orthogonalsplinebasis’\n",
      "\n",
      "\n",
      "R[write to console]: The following object is masked from ‘package:stats’:\n",
      "\n",
      "    integrate\n",
      "\n",
      "\n",
      "R[write to console]: The following object is masked from ‘package:stats’:\n",
      "\n",
      "    integrate\n",
      "\n",
      "\n",
      "R[write to console]: The following object is masked from ‘package:stats’:\n",
      "\n",
      "    integrate\n",
      "\n",
      "\n",
      "\n",
      " 30%|█████████████████████████████████████████                                                                                                | 60/200 [00:03<00:08, 16.34it/s]\u001b[A\n",
      " 40%|██████████████████████████████████████████████████████▊                                                                                  | 80/200 [00:03<00:04, 24.18it/s]\u001b[A\n",
      " 50%|████████████████████████████████████████████████████████████████████                                                                    | 100/200 [00:04<00:03, 32.68it/s]\u001b[A\n",
      " 60%|█████████████████████████████████████████████████████████████████████████████████▌                                                      | 120/200 [00:04<00:01, 42.39it/s]\u001b[A\n",
      " 70%|███████████████████████████████████████████████████████████████████████████████████████████████▏                                        | 140/200 [00:04<00:01, 54.20it/s]\u001b[A\n",
      " 80%|████████████████████████████████████████████████████████████████████████████████████████████████████████████▊                           | 160/200 [00:04<00:00, 65.38it/s]\u001b[A\n",
      " 90%|██████████████████████████████████████████████████████████████████████████████████████████████████████████████████████████▍             | 180/200 [00:04<00:00, 73.46it/s]\u001b[A\n",
      "100%|████████████████████████████████████████████████████████████████████████████████████████████████████████████████████████████████████████| 200/200 [00:05<00:00, 39.62it/s]\u001b[A\n"
     ]
    }
   ],
   "source": [
    "num_rep = 200\n",
    "with Parallel(n_jobs=20) as parallel:\n",
    "    keep_idxss = parallel(delayed(_SIS_fn)(seed, 0.20, N=8, SIS_pen=0.02, paras=paras) for seed in \n",
    "                          tqdm(range(0, num_rep), total=num_rep))"
   ]
  },
  {
   "cell_type": "code",
   "execution_count": 17,
   "id": "fa326890-75ba-4555-a8e2-5931508a002e",
   "metadata": {
    "execution": {
     "iopub.execute_input": "2024-01-03T00:07:45.244804Z",
     "iopub.status.busy": "2024-01-03T00:07:45.244179Z",
     "iopub.status.idle": "2024-01-03T00:07:45.402951Z",
     "shell.execute_reply": "2024-01-03T00:07:45.402339Z",
     "shell.execute_reply.started": "2024-01-03T00:07:45.244760Z"
    },
    "tags": []
   },
   "outputs": [
    {
     "data": {
      "text/plain": [
       "Text(0.5, 1.0, '[0.185 0.225 0.165 0.22  0.2   0.17  1.   ]')"
      ]
     },
     "execution_count": 17,
     "metadata": {},
     "output_type": "execute_result"
    },
    {
     "data": {
      "image/png": "[encoded data removed]",
      "text/plain": [
       "<Figure size 432x288 with 1 Axes>"
      ]
     },
     "metadata": {
      "needs_background": "light"
     },
     "output_type": "display_data"
    }
   ],
   "source": [
    "vs, cts = np.unique(np.concatenate(keep_idxss), return_counts=1);\n",
    "cts = cts[np.argsort(vs)]/len(keep_idxss)\n",
    "vs = np.sort(vs);\n",
    "plt.plot(vs, cts, \".\")\n",
    "plt.title(f\"{cts[vs > 60]}\")"
   ]
  },
  {
   "cell_type": "code",
   "execution_count": null,
   "id": "be9dad8c-0fcf-4d93-b3b9-d9dc5d2dfe77",
   "metadata": {},
   "outputs": [],
   "source": []
  },
  {
   "cell_type": "markdown",
   "id": "8148a0dd-0b8b-4f04-a43a-a75cfd20ae1f",
   "metadata": {},
   "source": [
    "## Simulation"
   ]
  },
  {
   "cell_type": "code",
   "execution_count": null,
   "id": "96d90cac-bc30-4f2a-84fd-86b8af6e2a00",
   "metadata": {},
   "outputs": [],
   "source": []
  },
  {
   "cell_type": "code",
   "execution_count": 7,
   "id": "0f9eca46-ade4-40fa-83f5-b8db4ff10947",
   "metadata": {
    "execution": {
     "iopub.execute_input": "2024-01-03T00:50:36.753771Z",
     "iopub.status.busy": "2024-01-03T00:50:36.753139Z",
     "iopub.status.idle": "2024-01-03T00:50:36.799041Z",
     "shell.execute_reply": "2024-01-03T00:50:36.797953Z",
     "shell.execute_reply.started": "2024-01-03T00:50:36.753728Z"
    },
    "tags": []
   },
   "outputs": [],
   "source": [
    "def _run_fn(seed, lam, N, paras, is_save=False, is_cv=False, verbose=2):\n",
    "    \"\"\"Now (on Aug 25, 2023), if we keep seed the same, the cur_data is the same. \n",
    "       If you want to make any changes, make sure this. \n",
    "    \"\"\"\n",
    "    torch.set_default_dtype(torch.double)\n",
    "    np.random.seed(seed)\n",
    "    torch.manual_seed(seed)\n",
    "        \n",
    "    _paras = edict(paras.copy())\n",
    "    _paras.seed = seed\n",
    "    _paras.lam = lam\n",
    "    _paras.N = N\n",
    "    \n",
    "    f_name = f\"seed_{seed:.0f}-lam_{lam*1000:.0f}-N_{N:.0f}-c1_{_paras.cs[0]*1000:.0f}_fit.pkl\"\n",
    "    \n",
    "    \n",
    "    if not (_paras.save_dir/f_name).exists():\n",
    "        \n",
    "        cur_data = gen_simu_psd_dataset(_paras.n, _paras.d, _paras.q, _paras.types_, \n",
    "                                _paras.alp_GT, _paras.beta_GT, _paras.freqs, \n",
    "                     data_type=_paras.model_type, data_params={\"err_dist\": \"norm\", \"sigma2\": _paras.sigma2, \"psd_noise_sd\":10}, \n",
    "                     seed=_paras.seed, is_std=_paras.is_std, verbose=verbose, is_gen=False);\n",
    "        hdf_fit = HDFOpt(lam=_paras.lam, \n",
    "                         sel_idx=_paras.sel_idx, \n",
    "                         model_type=_paras.model_type,\n",
    "                         verbose=verbose, \n",
    "                         SIS_ratio=_paras.SIS_params.SIS_ratio, \n",
    "                         N=_paras.N,\n",
    "                         is_std_data=True, \n",
    "                         cov_types=None, \n",
    "                         inits=None,\n",
    "                         model_params = _paras.model_params, \n",
    "                         SIS_params = _paras.SIS_params, \n",
    "                         opt_params = _paras.opt_params,\n",
    "                         bsp_params = _paras.bsp_params, \n",
    "                         pen_params = _paras.pen_params\n",
    "               );\n",
    "        hdf_fit.add_data(cur_data.X, cur_data.Y, cur_data.Z)\n",
    "        opt_res = hdf_fit.fit()\n",
    "        \n",
    "        if is_cv:\n",
    "            hdf_fit.get_cv_est(_paras.num_cv_fold)\n",
    "        if is_save:\n",
    "            hdf_fit.save(_paras.save_dir/f_name, hdf_fit, is_force=True)\n",
    "    else:\n",
    "        hdf_fit = load_pkl(_paras.save_dir/f_name);\n",
    "        \n",
    "    return hdf_fit\n"
   ]
  },
  {
   "cell_type": "code",
   "execution_count": null,
   "id": "dde1b6a7-747d-400a-879a-bf4724ebfc13",
   "metadata": {
    "tags": []
   },
   "outputs": [],
   "source": []
  },
  {
   "cell_type": "raw",
   "id": "4c09f840-848b-4c44-9b00-6a038ee2a318",
   "metadata": {
    "execution": {
     "iopub.execute_input": "2023-09-21T23:20:31.625325Z",
     "iopub.status.busy": "2023-09-21T23:20:31.624679Z",
     "iopub.status.idle": "2023-09-21T23:21:25.262561Z",
     "shell.execute_reply": "2023-09-21T23:21:25.261234Z",
     "shell.execute_reply.started": "2023-09-21T23:20:31.625279Z"
    },
    "tags": []
   },
   "source": [
    "all_coms = itertools.product(range(0, paras.num_rep), paras.can_lams, paras.can_Ns)\n",
    "with Parallel(n_jobs=5) as parallel:\n",
    "    ress = parallel(delayed(_run_fn)(seed, lam=lam, N=N, paras=paras, is_save=True, is_cv=True, verbose=False) \n",
    "                    for seed, lam, N \n",
    "                    in tqdm(all_coms, total=len(paras.can_Ns)*len(paras.can_lams)*paras.num_rep))"
   ]
  },
  {
   "cell_type": "code",
   "execution_count": null,
   "id": "b64ec903-256d-4b9f-89be-6725629c1ef4",
   "metadata": {},
   "outputs": [],
   "source": []
  },
  {
   "cell_type": "markdown",
   "id": "ee5b93bf-12d5-40d9-b925-79fc4fb2b4a8",
   "metadata": {},
   "source": [
    "### single test"
   ]
  },
  {
   "cell_type": "code",
   "execution_count": 8,
   "id": "02d10b93-0e05-46e8-b0c1-71d2efeb8ed1",
   "metadata": {
    "execution": {
     "iopub.execute_input": "2024-01-03T00:50:38.725782Z",
     "iopub.status.busy": "2024-01-03T00:50:38.725156Z",
     "iopub.status.idle": "2024-01-03T00:50:38.983491Z",
     "shell.execute_reply": "2024-01-03T00:50:38.983111Z",
     "shell.execute_reply.started": "2024-01-03T00:50:38.725739Z"
    },
    "scrolled": true,
    "tags": []
   },
   "outputs": [
    {
     "name": "stderr",
     "output_type": "stream",
     "text": [
      "2024-01-02 16:50:38,822 - optimization.opt - INFO - opt parmas is {'stop_cv': 0.0005, 'max_iter': 2000, 'one_step_verbose': 0, 'alpha': 0.9, 'beta': 10, 'R': 100000.0, 'linear_theta_update': 'cholesky_inv', 'linear_mat': None}.\n",
      "2024-01-02 16:50:38,823 - optimization.opt - INFO - SIS parmas is {'SIS_pen': 0.02, 'SIS_basis_N': 8, 'SIS_basis_ord': 4, 'SIS_ratio': 0.2}.\n",
      "2024-01-02 16:50:38,824 - optimization.opt - INFO - model parmas is {'norminal_sigma2': 1}.\n",
      "2024-01-02 16:50:38,824 - optimization.opt - INFO - penalty parmas is {'a': 3.7, 'lam': 1.1}.\n",
      "2024-01-02 16:50:38,825 - optimization.opt - INFO - bspline parmas is {'basis_ord': 4, 'is_orth_basis': True, 'N': 8}.\n",
      "2024-01-02 16:50:38,825 - optimization.opt - INFO - As cov_types is not provided, inferring the continuous covariates.\n",
      "R[write to console]: \n",
      "Attaching package: ‘orthogonalsplinebasis’\n",
      "\n",
      "\n",
      "R[write to console]: The following object is masked from ‘package:stats’:\n",
      "\n",
      "    integrate\n",
      "\n",
      "\n"
     ]
    },
    {
     "name": "stdout",
     "output_type": "stream",
     "text": [
      "Load file /data/rajlab1/user_data/jin/MyResearch/HDF_infer/notebooks/simu_real/../../mypkg/../mid_results/PSD_d-68_n-500_npts-100_is_std-False/seed_2.pkl\n"
     ]
    },
    {
     "name": "stderr",
     "output_type": "stream",
     "text": [
      "Main Loop:   0%|▍                                                                                              | 9/2000 [00:00<00:04, 436.46it/s, error=1, GamL0=12, CV=0.0005]\n",
      "2024-01-02 16:50:38,965 - optimization.opt - DEBUG - The optimization takes 10 iters to converge with stop value 3.644E-04.\n",
      "2024-01-02 16:50:38,966 - optimization.opt - INFO - opt parmas is {'svdinv_eps_Q': 1e-07, 'svdinv_eps_Psi': 1e-07, 'Cmat': array([[1.]])}.\n",
      "2024-01-02 16:50:38,975 - optimization.opt - INFO - opt parmas is {'svdinv_eps_Q': 1e-07, 'svdinv_eps_Psi': 1e-07, 'Cmat': array([[1.]])}.\n"
     ]
    },
    {
     "data": {
      "text/plain": [
       "({'pval': 0.1618445264269687, 'T_v': tensor(11.7683)},\n",
       " {'pval': 0.23938429077916265, 'T_v': tensor(10.3796)})"
      ]
     },
     "execution_count": 8,
     "metadata": {},
     "output_type": "execute_result"
    }
   ],
   "source": [
    "seed = 2\n",
    "lam = 1.1\n",
    "N = 8 \n",
    "\n",
    "res = _run_fn(seed=seed, lam=lam, N=N, paras=paras, is_cv=False, verbose=3)\n",
    "res.hypo_test(paras.Cmats[0]), res.hypo_test(paras.Cmats[0], is_simpler=True)"
   ]
  },
  {
   "cell_type": "code",
   "execution_count": 40,
   "id": "243498f7-ca57-4b79-9949-966dbf1bf2e3",
   "metadata": {
    "execution": {
     "iopub.execute_input": "2024-01-03T00:23:23.426999Z",
     "iopub.status.busy": "2024-01-03T00:23:23.426341Z",
     "iopub.status.idle": "2024-01-03T00:23:23.695357Z",
     "shell.execute_reply": "2024-01-03T00:23:23.694860Z",
     "shell.execute_reply.started": "2024-01-03T00:23:23.426919Z"
    },
    "tags": []
   },
   "outputs": [
    {
     "data": {
      "text/plain": [
       "<matplotlib.legend.Legend at 0x7fea931c55b0>"
      ]
     },
     "execution_count": 40,
     "metadata": {},
     "output_type": "execute_result"
    },
    {
     "data": {
      "image/png": "[encoded data removed]",
      "text/plain": [
       "<Figure size 432x288 with 1 Axes>"
      ]
     },
     "metadata": {
      "needs_background": "light"
     },
     "output_type": "display_data"
    }
   ],
   "source": [
    "est_beta = res.basis_mat @ res.est_Gam\n",
    "gt_beta = paras.beta_GT[:, res.keep_idxs]\n",
    "idx = -1\n",
    "plt.plot(est_beta[:, idx], label=\"EST\")\n",
    "plt.plot(gt_beta[:, idx], label=\"GT\")\n",
    "plt.legend()"
   ]
  },
  {
   "cell_type": "code",
   "execution_count": null,
   "id": "883c4365-e74b-4330-bb1d-e090033a7c2e",
   "metadata": {
    "tags": []
   },
   "outputs": [],
   "source": []
  },
  {
   "cell_type": "code",
   "execution_count": null,
   "id": "5a0bab91-13d0-4d5a-8d4a-c81bf753f101",
   "metadata": {},
   "outputs": [],
   "source": []
  },
  {
   "cell_type": "markdown",
   "id": "c6071092-a8df-482e-a1e4-406cf8da1ef1",
   "metadata": {},
   "source": [
    "### Multipe test"
   ]
  },
  {
   "cell_type": "code",
   "execution_count": 9,
   "id": "b8a5f026-e1d1-42cd-855b-3b16cbc947f9",
   "metadata": {
    "execution": {
     "iopub.execute_input": "2024-01-03T00:50:41.928758Z",
     "iopub.status.busy": "2024-01-03T00:50:41.928114Z",
     "iopub.status.idle": "2024-01-03T00:50:41.970812Z",
     "shell.execute_reply": "2024-01-03T00:50:41.970152Z",
     "shell.execute_reply.started": "2024-01-03T00:50:41.928712Z"
    },
    "tags": []
   },
   "outputs": [],
   "source": [
    "def outlier_det(T_vs, ratio_tol=0.05):\n",
    "    \"\"\"\n",
    "    Detects outliers in a given dataset using the interquartile range (IQR) method.\n",
    "\n",
    "    Parameters:\n",
    "    - T_vs (array-like): The input dataset.\n",
    "    - ratio_tol (float, optional): The tolerance ratio for outlier removal. Default is 0.05.\n",
    "\n",
    "    Returns:\n",
    "    - kpidx (ndarray): A boolean array indicating whether each data point is an outlier or not.\n",
    "    \"\"\"\n",
    "    Q1, Q3 = np.quantile(T_vs, [0.25, 0.75])\n",
    "    IQR = Q3 - Q1\n",
    "    upbd = Q3 + 1.5*IQR\n",
    "    lowbd = Q1 - 1.5*IQR\n",
    "    kpidx = np.bitwise_and(T_vs>=lowbd, T_vs<=upbd)\n",
    "    \n",
    "    if np.mean(kpidx)+ ratio_tol < 1:\n",
    "        out_part = np.stack([T_vs - upbd, lowbd - T_vs]).T.max(axis=1);\n",
    "        kpidx = np.ones(len(T_vs), dtype=bool)\n",
    "        kpidx[np.argsort(-out_part)[:int(len(T_vs)*ratio_tol)]] = False\n",
    "    return kpidx"
   ]
  },
  {
   "cell_type": "code",
   "execution_count": 13,
   "id": "506c46a1-0497-4491-bf75-fb97a632f342",
   "metadata": {
    "execution": {
     "iopub.execute_input": "2024-01-03T00:52:13.404962Z",
     "iopub.status.busy": "2024-01-03T00:52:13.404243Z",
     "iopub.status.idle": "2024-01-03T00:52:16.740047Z",
     "shell.execute_reply": "2024-01-03T00:52:16.738890Z",
     "shell.execute_reply.started": "2024-01-03T00:52:13.404906Z"
    },
    "scrolled": true,
    "tags": []
   },
   "outputs": [
    {
     "name": "stderr",
     "output_type": "stream",
     "text": [
      "100%|████████████████████████████████████████████████████████████████████████████████████████████████████████████████████████████████████████| 100/100 [00:02<00:00, 33.60it/s]\n"
     ]
    }
   ],
   "source": [
    "seed = 12\n",
    "N = 12\n",
    "lam = 0.9\n",
    "paras.beta = 10\n",
    "def _run_fn1(seed):\n",
    "    Cmat = paras.Cmats[0]\n",
    "    res = _run_fn(seed=seed, lam=lam, N=N, paras=paras, is_cv=False, verbose=1)\n",
    "    res.hypo_test(Cmat, is_simpler=True)\n",
    "    test_res = edict()\n",
    "    test_res.update(res.hypo_test_res)\n",
    "    test_res.L0 = torch.sum(torch.linalg.norm(res.est_Gam, axis=0)!=0).item()\n",
    "    test_res.AIC = res.GIC_fn(\"AIC\")\n",
    "    test_res.BIC = res.GIC_fn(\"BIC\")\n",
    "    test_res.GCV = res.GCV_fn()\n",
    "    test_res.est_sigma2 = res.hypo_utils.est_sigma2\n",
    "    test_res.iters = res.conv_iter\n",
    "    return test_res\n",
    "    \n",
    "num_rep = 100\n",
    "with Parallel(n_jobs=20) as parallel:\n",
    "    test_ress = parallel(delayed(_run_fn1)(seed) for seed in tqdm(range(num_rep), total=num_rep))\n",
    "    "
   ]
  },
  {
   "cell_type": "code",
   "execution_count": 16,
   "id": "78d12832-08d2-4390-8003-6718c0552f92",
   "metadata": {
    "execution": {
     "iopub.execute_input": "2024-01-03T00:52:28.397542Z",
     "iopub.status.busy": "2024-01-03T00:52:28.396886Z",
     "iopub.status.idle": "2024-01-03T00:52:28.651513Z",
     "shell.execute_reply": "2024-01-03T00:52:28.650515Z",
     "shell.execute_reply.started": "2024-01-03T00:52:28.397497Z"
    },
    "tags": []
   },
   "outputs": [
    {
     "name": "stdout",
     "output_type": "stream",
     "text": [
      "The size is 0.040 and the mean of Tv is 10.226 and thoeretically it is 12. L0 is 7.52.\n",
      "AIC is 0.82. BIC is 2.37. GCV is 3.68. \n",
      "est_sigma2 is 0.88514. \n"
     ]
    },
    {
     "data": {
      "text/plain": [
       "<matplotlib.legend.Legend at 0x7f33353cf5e0>"
      ]
     },
     "execution_count": 16,
     "metadata": {},
     "output_type": "execute_result"
    },
    {
     "data": {
      "image/png": "[encoded data removed]",
      "text/plain": [
       "<Figure size 432x288 with 1 Axes>"
      ]
     },
     "metadata": {
      "needs_background": "light"
     },
     "output_type": "display_data"
    }
   ],
   "source": [
    "pvals = np.array([res.pval for res in test_ress])\n",
    "T_vs = np.array([res.T_v for res in test_ress]);\n",
    "L0s = np.array([res.L0 for res in test_ress]);\n",
    "AICs = np.array([res.AIC for res in test_ress]);\n",
    "BICs = np.array([res.BIC for res in test_ress]);\n",
    "GCVs = np.array([res.GCV for res in test_ress]);\n",
    "est_sigma2s = np.array([res.est_sigma2 for res in test_ress]);\n",
    "chi_df = paras.Cmats[0].shape[0]*N\n",
    "kpidx = outlier_det(T_vs, 0.00)\n",
    "print(\n",
    "    f\"The size is {np.mean(pvals[kpidx]<0.05):.3f} and \"\n",
    "    f\"the mean of Tv is {np.mean(T_vs[kpidx]):.3f} and thoeretically it is {chi_df:.0f}. \"\n",
    "    f\"L0 is {np.mean(L0s[kpidx]):.2f}.\"\n",
    "     )\n",
    "print(\n",
    "    f\"AIC is {np.mean(AICs[kpidx]):.2f}. \"\n",
    "    f\"BIC is {np.mean(BICs[kpidx]):.2f}. \"\n",
    "    f\"GCV is {np.mean(GCVs[kpidx]):.2f}. \\n\"\n",
    "    f\"est_sigma2 is {np.mean(est_sigma2s[kpidx]):.5f}. \"\n",
    "     )\n",
    "\n",
    "chi_df = paras.Cmats[0].shape[0]*N\n",
    "xs = np.linspace(0.1, 100, 100)\n",
    "theo_curvs_log = chi2.logpdf(xs, chi_df);\n",
    "plt.plot(xs, np.exp(theo_curvs_log) , label=\"theoretical\")\n",
    "sns.kdeplot(T_vs[kpidx], label=\"empirical\")\n",
    "plt.legend()"
   ]
  },
  {
   "cell_type": "raw",
   "id": "4dfa27d8-68e4-46a5-a1ca-46be460e599a",
   "metadata": {},
   "source": []
  }
 ],
 "metadata": {
  "kernelspec": {
   "display_name": "Python 3 (ipykernel)",
   "language": "python",
   "name": "python3"
  },
  "language_info": {
   "codemirror_mode": {
    "name": "ipython",
    "version": 3
   },
   "file_extension": ".py",
   "mimetype": "text/x-python",
   "name": "python",
   "nbconvert_exporter": "python",
   "pygments_lexer": "ipython3",
   "version": "3.9.7"
  },
  "toc": {
   "base_numbering": 1,
   "nav_menu": {},
   "number_sections": true,
   "sideBar": true,
   "skip_h1_title": false,
   "title_cell": "Table of Contents",
   "title_sidebar": "Contents",
   "toc_cell": false,
   "toc_position": {
    "height": "calc(100% - 180px)",
    "left": "10px",
    "top": "150px",
    "width": "165px"
   },
   "toc_section_display": true,
   "toc_window_display": true
  },
  "toc-autonumbering": true,
  "toc-showcode": false,
  "toc-showmarkdowntxt": false,
  "toc-showtags": false
 },
 "nbformat": 4,
 "nbformat_minor": 5
}
