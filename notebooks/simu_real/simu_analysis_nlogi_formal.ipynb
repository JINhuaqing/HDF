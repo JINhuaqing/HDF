{
 "cells": [
  {
   "cell_type": "markdown",
   "id": "942a9fb0-de26-4619-9f8f-1d1ad87c308f",
   "metadata": {},
   "source": [
    "Analysis the results under new code"
   ]
  },
  {
   "cell_type": "code",
   "execution_count": 1,
   "id": "02ae980e",
   "metadata": {
    "ExecuteTime": {
     "end_time": "2023-05-31T19:57:23.490285Z",
     "start_time": "2023-05-31T19:57:23.481769Z"
    },
    "execution": {
     "iopub.execute_input": "2024-02-13T19:22:19.026730Z",
     "iopub.status.busy": "2024-02-13T19:22:19.026167Z",
     "iopub.status.idle": "2024-02-13T19:22:19.042749Z",
     "shell.execute_reply": "2024-02-13T19:22:19.040095Z",
     "shell.execute_reply.started": "2024-02-13T19:22:19.026684Z"
    },
    "tags": []
   },
   "outputs": [],
   "source": [
    "import sys\n",
    "sys.path.append(\"../../mypkg\")"
   ]
  },
  {
   "cell_type": "code",
   "execution_count": 2,
   "id": "b9d3cbc6-1ac5-47d6-a0d1-bcbc0be9267e",
   "metadata": {
    "execution": {
     "iopub.execute_input": "2024-02-13T19:22:19.044890Z",
     "iopub.status.busy": "2024-02-13T19:22:19.044210Z",
     "iopub.status.idle": "2024-02-13T19:22:19.105376Z",
     "shell.execute_reply": "2024-02-13T19:22:19.104495Z",
     "shell.execute_reply.started": "2024-02-13T19:22:19.044854Z"
    },
    "tags": []
   },
   "outputs": [],
   "source": [
    "# This will reload all imports as soon as the code changes\n",
    "%load_ext autoreload\n",
    "%autoreload 2"
   ]
  },
  {
   "cell_type": "code",
   "execution_count": 3,
   "id": "023df78a",
   "metadata": {
    "ExecuteTime": {
     "end_time": "2023-05-31T19:57:34.238839Z",
     "start_time": "2023-05-31T19:57:23.494053Z"
    },
    "execution": {
     "iopub.execute_input": "2024-02-13T19:22:19.106880Z",
     "iopub.status.busy": "2024-02-13T19:22:19.106453Z",
     "iopub.status.idle": "2024-02-13T19:22:21.473379Z",
     "shell.execute_reply": "2024-02-13T19:22:21.472798Z",
     "shell.execute_reply.started": "2024-02-13T19:22:19.106850Z"
    },
    "tags": []
   },
   "outputs": [],
   "source": [
    "import numpy as np\n",
    "import torch\n",
    "import matplotlib.pyplot as plt\n",
    "import seaborn as sns\n",
    "from scipy.stats import pearsonr\n",
    "from numbers import Number\n",
    "\n",
    "from joblib import Parallel, delayed\n",
    "\n",
    "from easydict import EasyDict as edict\n",
    "from tqdm import trange, tqdm\n",
    "from scipy.io import loadmat\n",
    "from pprint import pprint\n",
    "import itertools\n",
    "from scipy.stats import chi2\n",
    "from IPython.display import display\n",
    "import pandas as pd\n",
    "from collections import defaultdict as ddict\n",
    "\n"
   ]
  },
  {
   "cell_type": "code",
   "execution_count": 4,
   "id": "b0aa91b2",
   "metadata": {
    "ExecuteTime": {
     "end_time": "2023-05-31T19:57:59.558229Z",
     "start_time": "2023-05-31T19:57:34.292612Z"
    },
    "execution": {
     "iopub.execute_input": "2024-02-13T19:22:21.474933Z",
     "iopub.status.busy": "2024-02-13T19:22:21.474594Z",
     "iopub.status.idle": "2024-02-13T19:22:21.531717Z",
     "shell.execute_reply": "2024-02-13T19:22:21.530658Z",
     "shell.execute_reply.started": "2024-02-13T19:22:21.474917Z"
    },
    "tags": []
   },
   "outputs": [],
   "source": [
    "from constants import DATA_ROOT, RES_ROOT, FIG_ROOT, MIDRES_ROOT\n",
    "\n",
    "from utils.misc import save_pkl, load_pkl, get_local_min_idxs\n",
    "from scenarios.real_simu_logi import settings\n",
    "from scenarios.real_simu_logi_meg import settings as settingms\n"
   ]
  },
  {
   "cell_type": "code",
   "execution_count": 5,
   "id": "d29891f5-2fe1-428f-9d0d-4991cd3bfc58",
   "metadata": {
    "execution": {
     "iopub.execute_input": "2024-02-13T19:22:21.533601Z",
     "iopub.status.busy": "2024-02-13T19:22:21.533083Z",
     "iopub.status.idle": "2024-02-13T19:22:22.295386Z",
     "shell.execute_reply": "2024-02-13T19:22:22.294675Z",
     "shell.execute_reply.started": "2024-02-13T19:22:21.533563Z"
    },
    "tags": []
   },
   "outputs": [],
   "source": [
    "import logging\n",
    "from optimization.opt import logger as logger1\n",
    "logger1.handlers[0].setLevel(logging.WARNING)\n",
    "\n",
    "plt.style.use(FIG_ROOT/\"base.mplstyle\")\n",
    "torch.set_default_dtype(torch.float64)"
   ]
  },
  {
   "cell_type": "code",
   "execution_count": null,
   "id": "fe0a4a46",
   "metadata": {
    "ExecuteTime": {
     "end_time": "2023-05-31T19:57:59.621784Z",
     "start_time": "2023-05-31T19:57:59.568097Z"
    },
    "tags": []
   },
   "outputs": [],
   "source": []
  },
  {
   "cell_type": "code",
   "execution_count": null,
   "id": "e0cb5a3d-1ab1-4bc0-bfce-d7ebaedb0391",
   "metadata": {},
   "outputs": [],
   "source": []
  },
  {
   "cell_type": "code",
   "execution_count": null,
   "id": "d0af2f35",
   "metadata": {},
   "outputs": [],
   "source": []
  },
  {
   "cell_type": "code",
   "execution_count": 6,
   "id": "d93eca7c-5b7c-49ee-bec2-979f08f8d602",
   "metadata": {
    "execution": {
     "iopub.execute_input": "2024-02-13T19:22:22.296491Z",
     "iopub.status.busy": "2024-02-13T19:22:22.296231Z",
     "iopub.status.idle": "2024-02-13T19:22:22.323125Z",
     "shell.execute_reply": "2024-02-13T19:22:22.322695Z",
     "shell.execute_reply.started": "2024-02-13T19:22:22.296473Z"
    },
    "tags": []
   },
   "outputs": [],
   "source": [
    "def _get_min_idx(x):\n",
    "    \"\"\"Get the index of the minimal values among the local minimals.\n",
    "       If there are multiple ones, return the largest index\n",
    "       args:\n",
    "           x: a vec\n",
    "        \n",
    "    \"\"\"\n",
    "    x = np.array(x)\n",
    "    lmin_idxs = get_local_min_idxs(x);\n",
    "    if len(lmin_idxs) == 0:\n",
    "        lmin_idxs = np.arange(len(x))\n",
    "    lmin_idxs_inv =  lmin_idxs[::-1]\n",
    "    lmins_inv = x[lmin_idxs_inv];\n",
    "    return  lmin_idxs_inv[np.argmin(lmins_inv)]\n",
    "def outlier_det(T_vs, ratio_tol=0.05):\n",
    "    \"\"\"\n",
    "    Detects outliers in a given dataset using the interquartile range (IQR) method.\n",
    "\n",
    "    Parameters:\n",
    "    - T_vs (array-like): The input dataset.\n",
    "    - ratio_tol (float, optional): The tolerance ratio for outlier removal. Default is 0.05.\n",
    "\n",
    "    Returns:\n",
    "    - kpidx (ndarray): A boolean array indicating whether each data point is an outlier or not.\n",
    "    \"\"\"\n",
    "    Q1, Q3 = np.quantile(T_vs, [0.25, 0.75])\n",
    "    IQR = Q3 - Q1\n",
    "    upbd = Q3 + 1.5*IQR\n",
    "    lowbd = Q1 - 1.5*IQR\n",
    "    kpidx = np.bitwise_and(T_vs>=lowbd, T_vs<=upbd)\n",
    "    \n",
    "    if np.mean(kpidx)+ ratio_tol < 1:\n",
    "        out_part = np.stack([T_vs - upbd, lowbd - T_vs]).T.max(axis=1);\n",
    "        kpidx = np.ones(len(T_vs), dtype=bool)\n",
    "        kpidx[np.argsort(-out_part)[:int(len(T_vs)*ratio_tol)]] = False\n",
    "    return kpidx"
   ]
  },
  {
   "cell_type": "code",
   "execution_count": 7,
   "id": "a7589c1a-aef1-4f61-81c6-dbb6e61dbd6f",
   "metadata": {
    "execution": {
     "iopub.execute_input": "2024-02-13T19:22:22.324321Z",
     "iopub.status.busy": "2024-02-13T19:22:22.324112Z",
     "iopub.status.idle": "2024-02-13T19:22:22.347865Z",
     "shell.execute_reply": "2024-02-13T19:22:22.347460Z",
     "shell.execute_reply.started": "2024-02-13T19:22:22.324308Z"
    },
    "tags": []
   },
   "outputs": [],
   "source": [
    "def outlier_det1(T_vs, ratio_tol=0.05):\n",
    "    maes = np.abs(T_vs - np.median(T_vs));\n",
    "    idxs = np.argsort(-maes)\n",
    "    kpidx = np.ones(len(T_vs), dtype=bool)\n",
    "    kpidx[idxs[:int(ratio_tol*len(T_vs))]] = False\n",
    "    return kpidx"
   ]
  },
  {
   "cell_type": "code",
   "execution_count": 74,
   "id": "9597e736-c132-43c2-895b-d63023946138",
   "metadata": {
    "execution": {
     "iopub.execute_input": "2024-02-13T19:19:00.050007Z",
     "iopub.status.busy": "2024-02-13T19:19:00.049370Z",
     "iopub.status.idle": "2024-02-13T19:19:00.105355Z",
     "shell.execute_reply": "2024-02-13T19:19:00.104647Z",
     "shell.execute_reply.started": "2024-02-13T19:19:00.049961Z"
    },
    "tags": []
   },
   "outputs": [
    {
     "data": {
      "text/plain": [
       "{'nm1': {'0.0': (6, 0.2), '0.1': (6, 0.2), '0.2': (6, 0.2), '0.4': (6, 0.2)},\n",
       " 'nm1a': {'0.0': (12, 0.2),\n",
       "  '0.1': (12, 0.2),\n",
       "  '0.2': (12, 0.2),\n",
       "  '0.4': (12, 0.2)},\n",
       " 'nm2': {'0.0': (6, 0.2), '0.1': (6, 0.2), '0.2': (6, 0.2), '0.4': (6, 0.2)},\n",
       " 'nm2a': {'0.0': (8, 0.2), '0.1': (8, 0.2), '0.2': (8, 0.2), '0.4': (8, 0.2)}}"
      ]
     },
     "execution_count": 74,
     "metadata": {},
     "output_type": "execute_result"
    }
   ],
   "source": [
    "opt_lamNs = {\n",
    "\"nm1\" : {\"0.0\": (6, 0.2), \"0.1\": (6, 0.2), \"0.2\": (6, 0.2), \"0.4\": (6, 0.2)}, \n",
    "\"nm1a\": {\"0.0\": (12, 0.2), \"0.1\": (12, 0.2), \"0.2\": (12, 0.2), \"0.4\": (12, 0.2)}, \n",
    "\"nm2\" : {\"0.0\": (6, 0.2), \"0.1\": (6, 0.2), \"0.2\": (6, 0.2), \"0.4\": (6, 0.2)}, \n",
    "\"nm2a\": {\"0.0\": (8, 0.2), \"0.1\": (8, 0.2), \"0.2\": (8, 0.2), \"0.4\": (8, 0.2)}, \n",
    "}\n"
   ]
  },
  {
   "cell_type": "code",
   "execution_count": 28,
   "id": "453ae777-b0ad-4feb-b24e-4bf89e181e1c",
   "metadata": {
    "execution": {
     "iopub.execute_input": "2024-02-13T19:25:25.971670Z",
     "iopub.status.busy": "2024-02-13T19:25:25.971040Z",
     "iopub.status.idle": "2024-02-13T19:25:26.018731Z",
     "shell.execute_reply": "2024-02-13T19:25:26.018047Z",
     "shell.execute_reply.started": "2024-02-13T19:25:25.971625Z"
    },
    "tags": []
   },
   "outputs": [
    {
     "data": {
      "text/plain": [
       "{'n1': {'0.0': (6, 0.2), '0.1': (6, 0.2), '0.2': (6, 0.2), '0.4': (6, 0.2)},\n",
       " 'n1a': {'0.0': (12, 0.2),\n",
       "  '0.1': (12, 0.2),\n",
       "  '0.2': (12, 0.2),\n",
       "  '0.4': (12, 0.2)},\n",
       " 'n2': {'0.0': (6, 0.3), '0.1': (6, 0.3), '0.2': (6, 0.3), '0.4': (6, 0.3)},\n",
       " 'n2a': {'0.0': (6, 0.1), '0.1': (6, 0.1), '0.2': (6, 0.1), '0.4': (6, 0.1)}}"
      ]
     },
     "execution_count": 28,
     "metadata": {},
     "output_type": "execute_result"
    }
   ],
   "source": [
    "opt_lamNs = {\n",
    "\"n1\" : {\"0.0\": ( 6, 0.2), \"0.1\": ( 6, 0.2), \"0.2\": ( 6, 0.2), \"0.4\": ( 6, 0.2)}, # CV for N and lam, both entropy or AUC\n",
    "\"n1a\": {\"0.0\": (12, 0.2), \"0.1\": (12, 0.2), \"0.2\": (12, 0.2), \"0.4\": (12, 0.2)}, # CV for N and lam, both entropy or AUC\n",
    "\"n2\" : {\"0.0\": ( 6, 0.3), \"0.1\": ( 6, 0.3), \"0.2\": ( 6, 0.3), \"0.4\": ( 6, 0.3)}, # CV for N and lam, for entropy \n",
    "\"n2a\": {\"0.0\": ( 6, 0.1), \"0.1\": ( 6, 0.1), \"0.2\": ( 6, 0.1), \"0.4\": ( 6, 0.1)}, # CV for N and lam, both entropy or AUC\n",
    "}"
   ]
  },
  {
   "cell_type": "code",
   "execution_count": null,
   "id": "75e10fd4",
   "metadata": {},
   "outputs": [],
   "source": []
  },
  {
   "cell_type": "code",
   "execution_count": 29,
   "id": "c979f760-ba7d-44eb-a235-1309a6436855",
   "metadata": {
    "execution": {
     "iopub.execute_input": "2024-02-13T19:25:27.084891Z",
     "iopub.status.busy": "2024-02-13T19:25:27.084270Z",
     "iopub.status.idle": "2024-02-13T19:25:27.126360Z",
     "shell.execute_reply": "2024-02-13T19:25:27.125718Z",
     "shell.execute_reply.started": "2024-02-13T19:25:27.084845Z"
    },
    "tags": []
   },
   "outputs": [
    {
     "name": "stdout",
     "output_type": "stream",
     "text": [
      "[0.001, 0.05, 0.1, 0.2, 0.3, 2.0, 4.0, 16.0]\n"
     ]
    },
    {
     "data": {
      "text/plain": [
       "array([[1.]])"
      ]
     },
     "execution_count": 29,
     "metadata": {},
     "output_type": "execute_result"
    }
   ],
   "source": [
    "num_rep0 = 200;\n",
    "num_rep1 = 1000;\n",
    "setting = settings[\"n1a\"]\n",
    "#setting = settingms[\"nm2\"]\n",
    "can_Ns = setting.can_Ns\n",
    "can_lams = setting.can_lams\n",
    "print(can_lams)\n",
    "\n",
    "c1s = [0.0, 0.1, 0.2, 0.4]\n",
    "Cmat = np.eye(1) \n",
    "#Cmat = np.array([\n",
    "#    [1, -1], \n",
    "#    #[1, -0.8], \n",
    "#    #[2, -1.5], \n",
    "#]).reshape(1, -1)\n",
    "#Cmat = np.array([\n",
    "#    [0.5, 1.5, -5], \n",
    "#    #[1.5, -1, 0], \n",
    "#    #[4, -1.2, -0.8], \n",
    "#])"
   ]
  },
  {
   "cell_type": "code",
   "execution_count": 38,
   "id": "aa9f1be4-2ff1-41c1-86fc-2b85d7b50be2",
   "metadata": {
    "execution": {
     "iopub.execute_input": "2024-02-13T19:26:57.226985Z",
     "iopub.status.busy": "2024-02-13T19:26:57.226331Z",
     "iopub.status.idle": "2024-02-13T19:26:57.270954Z",
     "shell.execute_reply": "2024-02-13T19:26:57.270301Z",
     "shell.execute_reply.started": "2024-02-13T19:26:57.226925Z"
    },
    "tags": []
   },
   "outputs": [
    {
     "data": {
      "text/plain": [
       "5.949434263164383"
      ]
     },
     "execution_count": 38,
     "metadata": {},
     "output_type": "execute_result"
    }
   ],
   "source": [
    "# get GT at c=0\n",
    "ts = setting.data_gen_params.beta_fn(setting.data_gen_params.cs_fn(0.2))[:, :Cmat.shape[-1]]\n",
    "ts = ts @ Cmat.T;\n",
    "np.linalg.norm(ts)"
   ]
  },
  {
   "cell_type": "code",
   "execution_count": null,
   "id": "c4d346ec-0d18-460b-8eae-79f96d4cd7af",
   "metadata": {},
   "outputs": [],
   "source": []
  },
  {
   "cell_type": "code",
   "execution_count": 39,
   "id": "dfd6d7e4-4870-453b-a7e9-f342802ede3b",
   "metadata": {
    "execution": {
     "iopub.execute_input": "2024-02-13T19:26:57.752100Z",
     "iopub.status.busy": "2024-02-13T19:26:57.751453Z",
     "iopub.status.idle": "2024-02-13T19:27:06.628415Z",
     "shell.execute_reply": "2024-02-13T19:27:06.627243Z",
     "shell.execute_reply.started": "2024-02-13T19:26:57.752051Z"
    },
    "scrolled": true,
    "tags": []
   },
   "outputs": [
    {
     "name": "stdout",
     "output_type": "stream",
     "text": [
      "0.0 12 0.2\n"
     ]
    },
    {
     "name": "stderr",
     "output_type": "stream",
     "text": [
      "c1: 0: 100%|████████████████████████████████████████████████████████████████| 1000/1000 [00:01<00:00, 548.79it/s]\n"
     ]
    },
    {
     "name": "stdout",
     "output_type": "stream",
     "text": [
      "0.1 12 0.2\n"
     ]
    },
    {
     "name": "stderr",
     "output_type": "stream",
     "text": [
      "c1: 100: 100%|██████████████████████████████████████████████████████████████| 1000/1000 [00:01<00:00, 624.61it/s]\n"
     ]
    },
    {
     "name": "stdout",
     "output_type": "stream",
     "text": [
      "0.2 12 0.2\n"
     ]
    },
    {
     "name": "stderr",
     "output_type": "stream",
     "text": [
      "c1: 200: 100%|██████████████████████████████████████████████████████████████| 1000/1000 [00:01<00:00, 617.66it/s]\n"
     ]
    },
    {
     "name": "stdout",
     "output_type": "stream",
     "text": [
      "0.4 12 0.2\n"
     ]
    },
    {
     "name": "stderr",
     "output_type": "stream",
     "text": [
      "c1: 400: 100%|██████████████████████████████████████████████████████████████| 1000/1000 [00:02<00:00, 444.54it/s]\n"
     ]
    }
   ],
   "source": [
    "if False:\n",
    "    def _run_fn1(seed, all_cv_errs):\n",
    "        errs_mat = []\n",
    "        for cur_N in can_Ns:\n",
    "            errs = []\n",
    "            for cur_lam in can_lams:\n",
    "                errs.append(all_cv_errs[(seed, cur_N, cur_lam)].entropy_loss)\n",
    "            errs_mat.append(errs)\n",
    "        errs_mat = np.array(errs_mat)\n",
    "        return errs_mat\n",
    "    opt_lamNs_fix = {}\n",
    "    for c1 in c1s:\n",
    "        cur_save_dir = RES_ROOT/f\"simu_logi_setting{setting.setting}_{c1*1000:.0f}\"\n",
    "        all_cv_errs = load_pkl(cur_save_dir/f\"all-valsel-metrics.pkl\")\n",
    "        num_seed = len(np.unique(list(map(lambda x: x[0], all_cv_errs.keys()))))\n",
    "        # do not make n_jobs>1, it is very slow\n",
    "        with Parallel(n_jobs=1) as parallel:\n",
    "            err_ten = parallel(delayed(_run_fn1)(cur_seed, all_cv_errs)  \n",
    "                                     for cur_seed in tqdm(range(num_seed), total=num_seed, desc=f\"c1: {c1}\"))\n",
    "        err_ten = np.array(err_ten);\n",
    "        \n",
    "        err_ten_ses = err_ten.std(axis=0)/np.sqrt(err_ten.shape[0])\n",
    "        err_m = np.median(np.array(err_ten), axis=0)\n",
    "        errs = []\n",
    "        for err in err_m:\n",
    "            lam_min_idx = _get_min_idx(err)\n",
    "            errs.append((err[lam_min_idx], lam_min_idx))\n",
    "        errs = np.array(errs)\n",
    "        N_min_idx = np.argmin(errs[:, 0]);\n",
    "        lam_min_idx = int(errs[N_min_idx][1]);\n",
    "        min_opt_N, min_opt_lam = can_Ns[N_min_idx], can_lams[lam_min_idx]\n",
    "        \n",
    "        err_upbd = err_m[N_min_idx, lam_min_idx] + err_ten_ses[N_min_idx, lam_min_idx]; \n",
    "        lam_1se_idx = np.where(err_m[N_min_idx] <= err_upbd)[0].max();\n",
    "        print(can_Ns[N_min_idx], can_lams[lam_min_idx], can_lams[lam_1se_idx])\n",
    "        opt_lamNs_fix[c1] = (can_Ns[N_min_idx],  can_lams[lam_min_idx])\n",
    "else:\n",
    "    opt_lamNs_fix = opt_lamNs[setting.setting]   \n",
    "    \n",
    "ress_dict = {}\n",
    "for c1 in c1s:\n",
    "    cur_save_dir = RES_ROOT/f\"simu_logi_setting{setting.setting}_{c1*1000:.0f}\"\n",
    "    if c1 in opt_lamNs_fix.keys():\n",
    "        cur_N, cur_lam = opt_lamNs_fix[c1]\n",
    "    else:\n",
    "        cur_N, cur_lam = opt_lamNs_fix[str(c1)]\n",
    "    print(c1, cur_N, cur_lam)\n",
    "    def _run_fn_test(cur_seed):\n",
    "        from optimization.opt import logger as logger1\n",
    "        logger1.handlers[0].setLevel(logging.WARNING)\n",
    "        torch.set_default_dtype(torch.float64)\n",
    "        f1_name = f\"seed_{cur_seed:.0f}-lam_{cur_lam*1000:.0f}-N_{cur_N:.0f}_fit.pkl\"\n",
    "        res1 = load_pkl(cur_save_dir/f1_name, verbose=False);\n",
    "        res1.basis_mat = torch.tensor(res1.obt_bsp(np.linspace(0, 1, setting.data_gen_params.npts), \n",
    "                                      res1.bsp_params.N, res1.bsp_params.basis_ord)).to(torch.get_default_dtype());\n",
    "        res = res1.hypo_test(Cmat=Cmat, ts=ts, is_simpler=False, hypo_params={\"svdinv_eps_Q\": 1e-7, \"svdinv_eps_Psi\": 1e-7}) \n",
    "    \n",
    "        return res \n",
    "    with Parallel(n_jobs=10) as parallel:\n",
    "        ress = parallel(delayed(_run_fn_test)(cur_seed) for cur_seed in tqdm(range(num_rep1), desc=f\"c1: {c1*1000:.0f}\", total=num_rep1))\n",
    "    ress = np.array(ress);\n",
    "    ress_dict[c1] = ress"
   ]
  },
  {
   "cell_type": "code",
   "execution_count": 40,
   "id": "d3d8dc76-d28c-44a5-9190-1bd0cefe53a9",
   "metadata": {
    "execution": {
     "iopub.execute_input": "2024-02-13T19:27:06.711905Z",
     "iopub.status.busy": "2024-02-13T19:27:06.711269Z",
     "iopub.status.idle": "2024-02-13T19:27:06.765627Z",
     "shell.execute_reply": "2024-02-13T19:27:06.765107Z",
     "shell.execute_reply.started": "2024-02-13T19:27:06.711859Z"
    },
    "tags": []
   },
   "outputs": [
    {
     "data": {
      "text/html": [
       "<div>\n",
       "<style scoped>\n",
       "    .dataframe tbody tr th:only-of-type {\n",
       "        vertical-align: middle;\n",
       "    }\n",
       "\n",
       "    .dataframe tbody tr th {\n",
       "        vertical-align: top;\n",
       "    }\n",
       "\n",
       "    .dataframe thead th {\n",
       "        text-align: right;\n",
       "    }\n",
       "</style>\n",
       "<table border=\"1\" class=\"dataframe\">\n",
       "  <thead>\n",
       "    <tr style=\"text-align: right;\">\n",
       "      <th></th>\n",
       "      <th>pval</th>\n",
       "      <th>T_vs</th>\n",
       "      <th>c</th>\n",
       "    </tr>\n",
       "  </thead>\n",
       "  <tbody>\n",
       "    <tr>\n",
       "      <th>0</th>\n",
       "      <td>0.658947</td>\n",
       "      <td>25.428179</td>\n",
       "      <td>0.0</td>\n",
       "    </tr>\n",
       "    <tr>\n",
       "      <th>1</th>\n",
       "      <td>0.169474</td>\n",
       "      <td>15.219328</td>\n",
       "      <td>0.1</td>\n",
       "    </tr>\n",
       "    <tr>\n",
       "      <th>2</th>\n",
       "      <td>0.058947</td>\n",
       "      <td>12.605039</td>\n",
       "      <td>0.2</td>\n",
       "    </tr>\n",
       "    <tr>\n",
       "      <th>3</th>\n",
       "      <td>0.449474</td>\n",
       "      <td>20.523502</td>\n",
       "      <td>0.4</td>\n",
       "    </tr>\n",
       "  </tbody>\n",
       "</table>\n",
       "</div>"
      ],
      "text/plain": [
       "       pval       T_vs    c\n",
       "0  0.658947  25.428179  0.0\n",
       "1  0.169474  15.219328  0.1\n",
       "2  0.058947  12.605039  0.2\n",
       "3  0.449474  20.523502  0.4"
      ]
     },
     "execution_count": 40,
     "metadata": {},
     "output_type": "execute_result"
    }
   ],
   "source": [
    "out_res = ddict(list)\n",
    "for c1 in c1s:\n",
    "    ress = ress_dict[c1][:]\n",
    "    pvals = np.array([res[\"pval\"] for res in ress]);\n",
    "    T_vs = np.array([res[\"T_v\"].item() for res in ress]);\n",
    "    kpidx = outlier_det1(T_vs, 0.05)\n",
    "    out_res[\"pval\"].append(np.mean(pvals[kpidx]<0.05))\n",
    "    out_res[\"T_vs\"].append(np.mean(T_vs[kpidx]))\n",
    "\n",
    "out_res[\"c\"] = c1s\n",
    "pd.DataFrame(out_res)"
   ]
  },
  {
   "cell_type": "code",
   "execution_count": 67,
   "id": "27e0e20b-d832-4c53-b3ab-eb87a26b9ae0",
   "metadata": {
    "execution": {
     "iopub.execute_input": "2024-02-13T06:52:57.022801Z",
     "iopub.status.busy": "2024-02-13T06:52:57.022186Z",
     "iopub.status.idle": "2024-02-13T06:52:57.256202Z",
     "shell.execute_reply": "2024-02-13T06:52:57.255782Z",
     "shell.execute_reply.started": "2024-02-13T06:52:57.022755Z"
    },
    "tags": []
   },
   "outputs": [
    {
     "data": {
      "text/plain": [
       "<matplotlib.legend.Legend at 0x7f0b9bbc98b0>"
      ]
     },
     "execution_count": 67,
     "metadata": {},
     "output_type": "execute_result"
    },
    {
     "data": {
      "image/png": "[encoded data removed]",
      "text/plain": [
       "<Figure size 432x288 with 1 Axes>"
      ]
     },
     "metadata": {
      "needs_background": "light"
     },
     "output_type": "display_data"
    }
   ],
   "source": [
    "ress = ress_dict[0.0][:]\n",
    "pvals = np.array([res[\"pval\"] for res in ress]);\n",
    "T_vs = np.array([res[\"T_v\"].item() for res in ress]);\n",
    "kpidx = outlier_det(T_vs, 0.05);\n",
    "chi_df = Cmat.shape[0]*12\n",
    "\n",
    "xs = np.linspace(0.1, 50, 100)\n",
    "theo_curvs_log = chi2.logpdf(xs, chi_df);\n",
    "plt.plot(xs, np.exp(theo_curvs_log) , label=\"theoretical\")\n",
    "sns.kdeplot(T_vs, label=\"empirical\")\n",
    "#sns.kdeplot(T_vs[kpidx], label=\"empirical(no)\")\n",
    "plt.legend()"
   ]
  },
  {
   "cell_type": "code",
   "execution_count": null,
   "id": "9893ec65-61f5-48ce-97da-238926fcab43",
   "metadata": {},
   "outputs": [],
   "source": []
  },
  {
   "cell_type": "markdown",
   "id": "24af315c-facb-490c-acf4-99d4fe248f3e",
   "metadata": {},
   "source": [
    "# Test"
   ]
  },
  {
   "cell_type": "code",
   "execution_count": 31,
   "id": "c3a6ea6a-ef44-4ab2-8dbe-0fef7b0b71ec",
   "metadata": {
    "execution": {
     "iopub.execute_input": "2024-02-09T18:53:53.500595Z",
     "iopub.status.busy": "2024-02-09T18:53:53.499483Z",
     "iopub.status.idle": "2024-02-09T18:53:53.632302Z",
     "shell.execute_reply": "2024-02-09T18:53:53.631189Z",
     "shell.execute_reply.started": "2024-02-09T18:53:53.500513Z"
    },
    "tags": []
   },
   "outputs": [],
   "source": [
    "num_rep0 = 200;\n",
    "num_rep1 = 1000;\n",
    "setting = settings[\"n1\"]\n",
    "setting = settingms[\"nm2\"]\n",
    "can_Ns = setting.can_Ns\n",
    "can_lams = setting.can_lams\n",
    "\n",
    "c1s = [0.0, 0.2, 0.4]\n",
    "\n",
    "Cmat = np.array([\n",
    "    [1, -1], \n",
    "])\n",
    "# get GT at c=0\n",
    "ts = setting.data_gen_params.beta_fn(setting.data_gen_params.cs_fn(0.0))[:, :Cmat.shape[-1]]\n",
    "ts = ts @ Cmat.T;"
   ]
  },
  {
   "cell_type": "code",
   "execution_count": 50,
   "id": "9036d122-53c4-45c0-a65d-ff6d90c1c4f8",
   "metadata": {
    "execution": {
     "iopub.execute_input": "2024-02-09T18:55:29.790159Z",
     "iopub.status.busy": "2024-02-09T18:55:29.789577Z",
     "iopub.status.idle": "2024-02-09T18:55:30.628543Z",
     "shell.execute_reply": "2024-02-09T18:55:30.627349Z",
     "shell.execute_reply.started": "2024-02-09T18:55:29.790112Z"
    },
    "scrolled": true,
    "tags": []
   },
   "outputs": [
    {
     "name": "stderr",
     "output_type": "stream",
     "text": [
      "c1: 0: 100%|████████████████████████████████████████████████████████████████████████████████████████████████████████████████████████████████| 200/200 [00:00<00:00, 527.10it/s]\n"
     ]
    }
   ],
   "source": [
    "from hdf_utils.likelihood import obt_lin_tm\n",
    "from utils.functions import logit_fn\n",
    "    \n",
    "ress_dict = {}\n",
    "c1 = 0.0\n",
    "cur_save_dir = RES_ROOT/f\"simu_logi_setting{setting.setting}_{c1*1000:.0f}\"\n",
    "cur_N, cur_lam = 6, 0.4\n",
    "def _run_fn_test(cur_seed):\n",
    "    from optimization.opt import logger as logger1\n",
    "    logger1.handlers[0].setLevel(logging.WARNING)\n",
    "    torch.set_default_dtype(torch.float64)\n",
    "    f1_name = f\"seed_{cur_seed:.0f}-lam_{cur_lam*1000:.0f}-N_{cur_N:.0f}_fit.pkl\"\n",
    "    res1 = load_pkl(cur_save_dir/f1_name, verbose=False);\n",
    "    res1.basis_mat = torch.tensor(res1.obt_bsp(np.linspace(0, 1, setting.data_gen_params.npts), \n",
    "                                  res1.bsp_params.N, res1.bsp_params.basis_ord)).to(torch.get_default_dtype());\n",
    "    res = edict()\n",
    "    #res = res1.hypo_test(Cmat=Cmat, ts=ts, is_simpler=False, hypo_params={\"svdinv_eps_Q\": 1e-7, \"svdinv_eps_Psi\": 1e-7}) \n",
    "    #res.est_lintm = obt_lin_tm(hdf.Z, hdf.X[:, hdf.keep_idxs], hdf.est_alp, hdf.est_Gam, hdf.basis_mat).numpy()\n",
    "    #res.est_prob = logit_fn(res.est_lintm)\n",
    "    #res.cv_Y_est = res1.cv_Y_est\n",
    "    #res.Y = res1.Y.numpy()\n",
    "    res.est_alp = res1.est_alp\n",
    "    res.est_Gam = res1.est_Gam\n",
    "    res.keep_idxs = res1.keep_idxs\n",
    "\n",
    "    return res\n",
    "with Parallel(n_jobs=10) as parallel:\n",
    "    ress = parallel(delayed(_run_fn_test)(cur_seed) for cur_seed in tqdm(range(num_rep0), desc=f\"c1: {c1*1000:.0f}\", total=num_rep0))\n",
    "ress = np.array(ress);"
   ]
  },
  {
   "cell_type": "code",
   "execution_count": 51,
   "id": "0c44ca7c-fe2a-46cf-8b59-7c3302594c43",
   "metadata": {
    "execution": {
     "iopub.execute_input": "2024-02-09T18:55:30.889180Z",
     "iopub.status.busy": "2024-02-09T18:55:30.888609Z",
     "iopub.status.idle": "2024-02-09T18:55:30.929453Z",
     "shell.execute_reply": "2024-02-09T18:55:30.928821Z",
     "shell.execute_reply.started": "2024-02-09T18:55:30.889134Z"
    },
    "tags": []
   },
   "outputs": [
    {
     "data": {
      "text/plain": [
       "array([-0.29420922, -0.47728507,  0.96075412])"
      ]
     },
     "execution_count": 51,
     "metadata": {},
     "output_type": "execute_result"
    }
   ],
   "source": [
    "np.mean([res[\"est_alp\"].numpy() for res in ress], axis=0)"
   ]
  },
  {
   "cell_type": "code",
   "execution_count": 90,
   "id": "4bb59c88-22c3-4fba-bd59-bfd71273ab6b",
   "metadata": {
    "execution": {
     "iopub.execute_input": "2024-02-06T05:13:43.646200Z",
     "iopub.status.busy": "2024-02-06T05:13:43.645663Z",
     "iopub.status.idle": "2024-02-06T05:13:43.701213Z",
     "shell.execute_reply": "2024-02-06T05:13:43.700492Z",
     "shell.execute_reply.started": "2024-02-06T05:13:43.646157Z"
    },
    "tags": []
   },
   "outputs": [
    {
     "ename": "AttributeError",
     "evalue": "'EasyDict' object has no attribute 'est_prob'",
     "output_type": "error",
     "traceback": [
      "\u001b[0;31m---------------------------------------------------------------------------\u001b[0m",
      "\u001b[0;31mAttributeError\u001b[0m                            Traceback (most recent call last)",
      "\u001b[0;32m/tmp/ipykernel_51818/2380704629.py\u001b[0m in \u001b[0;36m<module>\u001b[0;34m\u001b[0m\n\u001b[1;32m      3\u001b[0m \u001b[0mpvals\u001b[0m \u001b[0;34m=\u001b[0m \u001b[0mnp\u001b[0m\u001b[0;34m.\u001b[0m\u001b[0marray\u001b[0m\u001b[0;34m(\u001b[0m\u001b[0;34m[\u001b[0m\u001b[0mres\u001b[0m\u001b[0;34m[\u001b[0m\u001b[0;34m\"pval\"\u001b[0m\u001b[0;34m]\u001b[0m \u001b[0;32mfor\u001b[0m \u001b[0mres\u001b[0m \u001b[0;32min\u001b[0m \u001b[0mress\u001b[0m\u001b[0;34m]\u001b[0m\u001b[0;34m)\u001b[0m\u001b[0;34m;\u001b[0m\u001b[0;34m\u001b[0m\u001b[0;34m\u001b[0m\u001b[0m\n\u001b[1;32m      4\u001b[0m \u001b[0;31m#errs1 = -np.array([np.quantile(res.cv_Y_est, [0.90])[0] for res in ress]);\u001b[0m\u001b[0;34m\u001b[0m\u001b[0;34m\u001b[0m\u001b[0m\n\u001b[0;32m----> 5\u001b[0;31m \u001b[0merrs1\u001b[0m \u001b[0;34m=\u001b[0m \u001b[0;36m1\u001b[0m\u001b[0;34m-\u001b[0m\u001b[0mnp\u001b[0m\u001b[0;34m.\u001b[0m\u001b[0marray\u001b[0m\u001b[0;34m(\u001b[0m\u001b[0;34m[\u001b[0m\u001b[0mnp\u001b[0m\u001b[0;34m.\u001b[0m\u001b[0mquantile\u001b[0m\u001b[0;34m(\u001b[0m\u001b[0mres\u001b[0m\u001b[0;34m.\u001b[0m\u001b[0mest_prob\u001b[0m\u001b[0;34m,\u001b[0m \u001b[0;34m[\u001b[0m\u001b[0;36m0.90\u001b[0m\u001b[0;34m]\u001b[0m\u001b[0;34m)\u001b[0m\u001b[0;34m[\u001b[0m\u001b[0;36m0\u001b[0m\u001b[0;34m]\u001b[0m \u001b[0;32mfor\u001b[0m \u001b[0mres\u001b[0m \u001b[0;32min\u001b[0m \u001b[0mress\u001b[0m\u001b[0;34m]\u001b[0m\u001b[0;34m)\u001b[0m\u001b[0;34m;\u001b[0m\u001b[0;34m\u001b[0m\u001b[0;34m\u001b[0m\u001b[0m\n\u001b[0m\u001b[1;32m      6\u001b[0m \u001b[0merrs2\u001b[0m  \u001b[0;34m=\u001b[0m \u001b[0mnp\u001b[0m\u001b[0;34m.\u001b[0m\u001b[0marray\u001b[0m\u001b[0;34m(\u001b[0m\u001b[0;34m[\u001b[0m\u001b[0mnp\u001b[0m\u001b[0;34m.\u001b[0m\u001b[0mquantile\u001b[0m\u001b[0;34m(\u001b[0m\u001b[0mres\u001b[0m\u001b[0;34m.\u001b[0m\u001b[0mest_prob\u001b[0m\u001b[0;34m,\u001b[0m \u001b[0;34m[\u001b[0m\u001b[0;36m0.10\u001b[0m\u001b[0;34m]\u001b[0m\u001b[0;34m)\u001b[0m\u001b[0;34m[\u001b[0m\u001b[0;36m0\u001b[0m\u001b[0;34m]\u001b[0m \u001b[0;32mfor\u001b[0m \u001b[0mres\u001b[0m \u001b[0;32min\u001b[0m \u001b[0mress\u001b[0m\u001b[0;34m]\u001b[0m\u001b[0;34m)\u001b[0m\u001b[0;34m;\u001b[0m\u001b[0;34m\u001b[0m\u001b[0;34m\u001b[0m\u001b[0m\n\u001b[1;32m      7\u001b[0m \u001b[0merrs2\u001b[0m \u001b[0;34m=\u001b[0m \u001b[0mnp\u001b[0m\u001b[0;34m.\u001b[0m\u001b[0marray\u001b[0m\u001b[0;34m(\u001b[0m\u001b[0;34m[\u001b[0m\u001b[0mbcross_entropy_loss\u001b[0m\u001b[0;34m(\u001b[0m\u001b[0mres\u001b[0m\u001b[0;34m.\u001b[0m\u001b[0mest_prob\u001b[0m\u001b[0;34m,\u001b[0m\u001b[0mres\u001b[0m\u001b[0;34m.\u001b[0m\u001b[0mY\u001b[0m\u001b[0;34m)\u001b[0m \u001b[0;32mfor\u001b[0m \u001b[0mres\u001b[0m \u001b[0;32min\u001b[0m \u001b[0mress\u001b[0m\u001b[0;34m]\u001b[0m\u001b[0;34m)\u001b[0m\u001b[0;34m;\u001b[0m\u001b[0;34m\u001b[0m\u001b[0;34m\u001b[0m\u001b[0m\n",
      "\u001b[0;32m/tmp/ipykernel_51818/2380704629.py\u001b[0m in \u001b[0;36m<listcomp>\u001b[0;34m(.0)\u001b[0m\n\u001b[1;32m      3\u001b[0m \u001b[0mpvals\u001b[0m \u001b[0;34m=\u001b[0m \u001b[0mnp\u001b[0m\u001b[0;34m.\u001b[0m\u001b[0marray\u001b[0m\u001b[0;34m(\u001b[0m\u001b[0;34m[\u001b[0m\u001b[0mres\u001b[0m\u001b[0;34m[\u001b[0m\u001b[0;34m\"pval\"\u001b[0m\u001b[0;34m]\u001b[0m \u001b[0;32mfor\u001b[0m \u001b[0mres\u001b[0m \u001b[0;32min\u001b[0m \u001b[0mress\u001b[0m\u001b[0;34m]\u001b[0m\u001b[0;34m)\u001b[0m\u001b[0;34m;\u001b[0m\u001b[0;34m\u001b[0m\u001b[0;34m\u001b[0m\u001b[0m\n\u001b[1;32m      4\u001b[0m \u001b[0;31m#errs1 = -np.array([np.quantile(res.cv_Y_est, [0.90])[0] for res in ress]);\u001b[0m\u001b[0;34m\u001b[0m\u001b[0;34m\u001b[0m\u001b[0m\n\u001b[0;32m----> 5\u001b[0;31m \u001b[0merrs1\u001b[0m \u001b[0;34m=\u001b[0m \u001b[0;36m1\u001b[0m\u001b[0;34m-\u001b[0m\u001b[0mnp\u001b[0m\u001b[0;34m.\u001b[0m\u001b[0marray\u001b[0m\u001b[0;34m(\u001b[0m\u001b[0;34m[\u001b[0m\u001b[0mnp\u001b[0m\u001b[0;34m.\u001b[0m\u001b[0mquantile\u001b[0m\u001b[0;34m(\u001b[0m\u001b[0mres\u001b[0m\u001b[0;34m.\u001b[0m\u001b[0mest_prob\u001b[0m\u001b[0;34m,\u001b[0m \u001b[0;34m[\u001b[0m\u001b[0;36m0.90\u001b[0m\u001b[0;34m]\u001b[0m\u001b[0;34m)\u001b[0m\u001b[0;34m[\u001b[0m\u001b[0;36m0\u001b[0m\u001b[0;34m]\u001b[0m \u001b[0;32mfor\u001b[0m \u001b[0mres\u001b[0m \u001b[0;32min\u001b[0m \u001b[0mress\u001b[0m\u001b[0;34m]\u001b[0m\u001b[0;34m)\u001b[0m\u001b[0;34m;\u001b[0m\u001b[0;34m\u001b[0m\u001b[0;34m\u001b[0m\u001b[0m\n\u001b[0m\u001b[1;32m      6\u001b[0m \u001b[0merrs2\u001b[0m  \u001b[0;34m=\u001b[0m \u001b[0mnp\u001b[0m\u001b[0;34m.\u001b[0m\u001b[0marray\u001b[0m\u001b[0;34m(\u001b[0m\u001b[0;34m[\u001b[0m\u001b[0mnp\u001b[0m\u001b[0;34m.\u001b[0m\u001b[0mquantile\u001b[0m\u001b[0;34m(\u001b[0m\u001b[0mres\u001b[0m\u001b[0;34m.\u001b[0m\u001b[0mest_prob\u001b[0m\u001b[0;34m,\u001b[0m \u001b[0;34m[\u001b[0m\u001b[0;36m0.10\u001b[0m\u001b[0;34m]\u001b[0m\u001b[0;34m)\u001b[0m\u001b[0;34m[\u001b[0m\u001b[0;36m0\u001b[0m\u001b[0;34m]\u001b[0m \u001b[0;32mfor\u001b[0m \u001b[0mres\u001b[0m \u001b[0;32min\u001b[0m \u001b[0mress\u001b[0m\u001b[0;34m]\u001b[0m\u001b[0;34m)\u001b[0m\u001b[0;34m;\u001b[0m\u001b[0;34m\u001b[0m\u001b[0;34m\u001b[0m\u001b[0m\n\u001b[1;32m      7\u001b[0m \u001b[0merrs2\u001b[0m \u001b[0;34m=\u001b[0m \u001b[0mnp\u001b[0m\u001b[0;34m.\u001b[0m\u001b[0marray\u001b[0m\u001b[0;34m(\u001b[0m\u001b[0;34m[\u001b[0m\u001b[0mbcross_entropy_loss\u001b[0m\u001b[0;34m(\u001b[0m\u001b[0mres\u001b[0m\u001b[0;34m.\u001b[0m\u001b[0mest_prob\u001b[0m\u001b[0;34m,\u001b[0m\u001b[0mres\u001b[0m\u001b[0;34m.\u001b[0m\u001b[0mY\u001b[0m\u001b[0;34m)\u001b[0m \u001b[0;32mfor\u001b[0m \u001b[0mres\u001b[0m \u001b[0;32min\u001b[0m \u001b[0mress\u001b[0m\u001b[0;34m]\u001b[0m\u001b[0;34m)\u001b[0m\u001b[0;34m;\u001b[0m\u001b[0;34m\u001b[0m\u001b[0;34m\u001b[0m\u001b[0m\n",
      "\u001b[0;31mAttributeError\u001b[0m: 'EasyDict' object has no attribute 'est_prob'"
     ]
    }
   ],
   "source": [
    "from utils.misc import bcross_entropy_loss, bcross_entropy_loss_truc\n",
    "T_vs = np.array([res.T_v.numpy() for res in ress]);\n",
    "pvals = np.array([res[\"pval\"] for res in ress]);\n",
    "#errs1 = -np.array([np.quantile(res.cv_Y_est, [0.90])[0] for res in ress]);\n",
    "errs1 = 1-np.array([np.quantile(res.est_prob, [0.90])[0] for res in ress]);\n",
    "errs2  = np.array([np.quantile(res.est_prob, [0.10])[0] for res in ress]);\n",
    "errs2 = np.array([bcross_entropy_loss(res.est_prob,res.Y) for res in ress]);\n",
    "#errs = -np.array([np.quantile(res.est_lintm[res.Y==1], [0.90])[0] for res in ress]);\n",
    "#errs = np.array([np.quantile(res.est_lintm[res.Y==0], [0.10])[0] for res in ress]);\n",
    "#errs = np.array([bcross_entropy_loss(res.cv_Y_est,res.Y.numpy()) for res in ress]);\n",
    "#errs = -np.array([np.quantile(res.cv_Y_est[res.Y.numpy()==1], [0.9])[0] for res in ress]);\n",
    "#errs = np.array([np.quantile(res.cv_Y_est[res.Y.numpy()==0], [0.2])[0] for res in ress]);\n",
    "\n",
    "plt.plot(T_vs, errs2, \".\")\n",
    "#plt.yscale(\"log\")"
   ]
  },
  {
   "cell_type": "code",
   "execution_count": 608,
   "id": "77e859ed-e3ef-4f9d-9f91-76cb81750f09",
   "metadata": {
    "execution": {
     "iopub.execute_input": "2024-01-18T19:40:56.737620Z",
     "iopub.status.busy": "2024-01-18T19:40:56.737222Z",
     "iopub.status.idle": "2024-01-18T19:40:56.769919Z",
     "shell.execute_reply": "2024-01-18T19:40:56.769320Z",
     "shell.execute_reply.started": "2024-01-18T19:40:56.737593Z"
    },
    "tags": []
   },
   "outputs": [
    {
     "data": {
      "text/plain": [
       "0.75"
      ]
     },
     "execution_count": 608,
     "metadata": {},
     "output_type": "execute_result"
    }
   ],
   "source": [
    "def _get_kpidx(errs):\n",
    "    kpidx = np.ones_like(T_vs, dtype=bool)\n",
    "    rmidx = np.argsort(errs)[:50]\n",
    "    #rmidx = np.where(errs < 5e-3)\n",
    "    kpidx[rmidx] = False\n",
    "    return kpidx\n",
    "kpidx1 = _get_kpidx(errs1)\n",
    "kpidx2 = _get_kpidx(errs2)\n",
    "kpidx = np.bitwise_or(kpidx1, kpidx2);\n",
    "kpidx = kpidx2\n",
    "#kpidx = outlier_det(T_vs, 0.05)\n",
    "np.mean(kpidx)"
   ]
  },
  {
   "cell_type": "code",
   "execution_count": 609,
   "id": "3c75a5df-9f83-4383-b223-8b42c8797ac7",
   "metadata": {
    "execution": {
     "iopub.execute_input": "2024-01-18T19:40:59.306238Z",
     "iopub.status.busy": "2024-01-18T19:40:59.305732Z",
     "iopub.status.idle": "2024-01-18T19:40:59.336124Z",
     "shell.execute_reply": "2024-01-18T19:40:59.335503Z",
     "shell.execute_reply.started": "2024-01-18T19:40:59.306208Z"
    },
    "tags": []
   },
   "outputs": [
    {
     "data": {
      "text/plain": [
       "(0.06, 0.095)"
      ]
     },
     "execution_count": 609,
     "metadata": {},
     "output_type": "execute_result"
    }
   ],
   "source": [
    "np.mean(pvals[kpidx]<0.05), np.mean(pvals<0.05)"
   ]
  },
  {
   "cell_type": "code",
   "execution_count": 610,
   "id": "78738c30-d3de-4c87-8680-311e451bda7a",
   "metadata": {
    "execution": {
     "iopub.execute_input": "2024-01-18T19:41:00.742969Z",
     "iopub.status.busy": "2024-01-18T19:41:00.742475Z",
     "iopub.status.idle": "2024-01-18T19:41:00.958244Z",
     "shell.execute_reply": "2024-01-18T19:41:00.957029Z",
     "shell.execute_reply.started": "2024-01-18T19:41:00.742940Z"
    },
    "tags": []
   },
   "outputs": [
    {
     "data": {
      "text/plain": [
       "<matplotlib.legend.Legend at 0x7f0fb8b36a00>"
      ]
     },
     "execution_count": 610,
     "metadata": {},
     "output_type": "execute_result"
    },
    {
     "data": {
      "image/png": "[encoded data removed]",
      "text/plain": [
       "<Figure size 432x288 with 1 Axes>"
      ]
     },
     "metadata": {
      "needs_background": "light"
     },
     "output_type": "display_data"
    }
   ],
   "source": [
    "chi_df = Cmat.shape[0]*6\n",
    "\n",
    "xs = np.linspace(0.1, 50, 100)\n",
    "theo_curvs_log = chi2.logpdf(xs, chi_df);\n",
    "plt.plot(xs, np.exp(theo_curvs_log) , label=\"theoretical\")\n",
    "sns.kdeplot(T_vs, label=\"empirical\")\n",
    "sns.kdeplot(T_vs[kpidx], label=\"empirical(no)\")\n",
    "plt.legend()"
   ]
  },
  {
   "cell_type": "code",
   "execution_count": null,
   "id": "e90dadb9-6cf8-468e-bd3c-cb9054316864",
   "metadata": {},
   "outputs": [],
   "source": []
  }
 ],
 "metadata": {
  "kernelspec": {
   "display_name": "Python 3 (ipykernel)",
   "language": "python",
   "name": "python3"
  },
  "language_info": {
   "codemirror_mode": {
    "name": "ipython",
    "version": 3
   },
   "file_extension": ".py",
   "mimetype": "text/x-python",
   "name": "python",
   "nbconvert_exporter": "python",
   "pygments_lexer": "ipython3",
   "version": "3.9.7"
  },
  "toc": {
   "base_numbering": 1,
   "nav_menu": {},
   "number_sections": true,
   "sideBar": true,
   "skip_h1_title": false,
   "title_cell": "Table of Contents",
   "title_sidebar": "Contents",
   "toc_cell": false,
   "toc_position": {
    "height": "calc(100% - 180px)",
    "left": "10px",
    "top": "150px",
    "width": "165px"
   },
   "toc_section_display": true,
   "toc_window_display": true
  },
  "toc-autonumbering": true
 },
 "nbformat": 4,
 "nbformat_minor": 5
}
