{
 "cells": [
  {
   "cell_type": "markdown",
   "id": "942a9fb0-de26-4619-9f8f-1d1ad87c308f",
   "metadata": {},
   "source": [
    "Analysis the results under new code"
   ]
  },
  {
   "cell_type": "code",
   "execution_count": 40,
   "id": "02ae980e",
   "metadata": {
    "ExecuteTime": {
     "end_time": "2023-05-31T19:57:23.490285Z",
     "start_time": "2023-05-31T19:57:23.481769Z"
    },
    "execution": {
     "iopub.execute_input": "2024-02-13T18:19:41.969357Z",
     "iopub.status.busy": "2024-02-13T18:19:41.968807Z",
     "iopub.status.idle": "2024-02-13T18:19:42.005235Z",
     "shell.execute_reply": "2024-02-13T18:19:42.004553Z",
     "shell.execute_reply.started": "2024-02-13T18:19:41.969313Z"
    },
    "tags": []
   },
   "outputs": [],
   "source": [
    "import sys\n",
    "sys.path.append(\"../../mypkg\")"
   ]
  },
  {
   "cell_type": "code",
   "execution_count": 41,
   "id": "023df78a",
   "metadata": {
    "ExecuteTime": {
     "end_time": "2023-05-31T19:57:34.238839Z",
     "start_time": "2023-05-31T19:57:23.494053Z"
    },
    "execution": {
     "iopub.execute_input": "2024-02-13T18:19:42.201302Z",
     "iopub.status.busy": "2024-02-13T18:19:42.200726Z",
     "iopub.status.idle": "2024-02-13T18:19:42.240897Z",
     "shell.execute_reply": "2024-02-13T18:19:42.240196Z",
     "shell.execute_reply.started": "2024-02-13T18:19:42.201253Z"
    },
    "tags": []
   },
   "outputs": [],
   "source": [
    "import numpy as np\n",
    "import torch\n",
    "import matplotlib.pyplot as plt\n",
    "import seaborn as sns\n",
    "from scipy.stats import pearsonr\n",
    "from sklearn.metrics import roc_auc_score, f1_score\n",
    "from numbers import Number\n",
    "\n",
    "from joblib import Parallel, delayed\n",
    "\n",
    "from easydict import EasyDict as edict\n",
    "from tqdm import trange, tqdm\n",
    "from scipy.io import loadmat\n",
    "from pprint import pprint\n",
    "import itertools\n",
    "from scipy.stats import chi2\n",
    "import pandas as pd\n",
    "from IPython.display import display\n"
   ]
  },
  {
   "cell_type": "code",
   "execution_count": 42,
   "id": "b9d3cbc6-1ac5-47d6-a0d1-bcbc0be9267e",
   "metadata": {
    "execution": {
     "iopub.execute_input": "2024-02-13T18:19:42.452304Z",
     "iopub.status.busy": "2024-02-13T18:19:42.451726Z",
     "iopub.status.idle": "2024-02-13T18:19:42.492786Z",
     "shell.execute_reply": "2024-02-13T18:19:42.491925Z",
     "shell.execute_reply.started": "2024-02-13T18:19:42.452254Z"
    },
    "tags": []
   },
   "outputs": [
    {
     "name": "stdout",
     "output_type": "stream",
     "text": [
      "The autoreload extension is already loaded. To reload it, use:\n",
      "  %reload_ext autoreload\n"
     ]
    }
   ],
   "source": [
    "# This will reload all imports as soon as the code changes\n",
    "%load_ext autoreload\n",
    "%autoreload 2"
   ]
  },
  {
   "cell_type": "code",
   "execution_count": 43,
   "id": "b0aa91b2",
   "metadata": {
    "ExecuteTime": {
     "end_time": "2023-05-31T19:57:59.558229Z",
     "start_time": "2023-05-31T19:57:34.292612Z"
    },
    "execution": {
     "iopub.execute_input": "2024-02-13T18:19:42.721185Z",
     "iopub.status.busy": "2024-02-13T18:19:42.720660Z",
     "iopub.status.idle": "2024-02-13T18:19:42.758885Z",
     "shell.execute_reply": "2024-02-13T18:19:42.758237Z",
     "shell.execute_reply.started": "2024-02-13T18:19:42.721138Z"
    },
    "tags": []
   },
   "outputs": [],
   "source": [
    "from constants import DATA_ROOT, RES_ROOT, FIG_ROOT, MIDRES_ROOT\n",
    "\n",
    "from utils.matrix import col_vec_fn, col_vec2mat_fn, conju_grad, svd_inverse, cholesky_inv\n",
    "from utils.misc import save_pkl, load_pkl, get_local_min_idxs, bcross_entropy_loss\n",
    "from scenarios.real_simu_logi import settings\n",
    "from scenarios.real_simu_logi_meg import settings as settingms\n",
    "\n"
   ]
  },
  {
   "cell_type": "code",
   "execution_count": 44,
   "id": "03e8580b-15e9-4a93-8010-aa2d650ffdf6",
   "metadata": {
    "execution": {
     "iopub.execute_input": "2024-02-13T18:19:43.016197Z",
     "iopub.status.busy": "2024-02-13T18:19:43.015610Z",
     "iopub.status.idle": "2024-02-13T18:19:43.055843Z",
     "shell.execute_reply": "2024-02-13T18:19:43.054708Z",
     "shell.execute_reply.started": "2024-02-13T18:19:43.016147Z"
    },
    "tags": []
   },
   "outputs": [],
   "source": [
    "import logging\n",
    "\n",
    "logger = logging.getLogger(\"tmp\")\n",
    "logger.setLevel(logging.DEBUG)\n",
    "formatter = logging.Formatter('%(asctime)s - %(name)s - %(levelname)s - %(message)s')\n",
    "\n",
    "ch = logging.StreamHandler() # for console. \n",
    "ch.setLevel(logging.DEBUG)\n",
    "ch.setFormatter(formatter)\n",
    "\n",
    "logger.addHandler(ch)"
   ]
  },
  {
   "cell_type": "code",
   "execution_count": 45,
   "id": "d29891f5-2fe1-428f-9d0d-4991cd3bfc58",
   "metadata": {
    "execution": {
     "iopub.execute_input": "2024-02-13T18:19:43.582161Z",
     "iopub.status.busy": "2024-02-13T18:19:43.581554Z",
     "iopub.status.idle": "2024-02-13T18:19:43.618802Z",
     "shell.execute_reply": "2024-02-13T18:19:43.618146Z",
     "shell.execute_reply.started": "2024-02-13T18:19:43.582112Z"
    },
    "tags": []
   },
   "outputs": [],
   "source": [
    "from optimization.opt import logger as logger1\n",
    "logger1.handlers[0].setLevel(logging.WARNING)"
   ]
  },
  {
   "cell_type": "code",
   "execution_count": 46,
   "id": "fe0a4a46",
   "metadata": {
    "ExecuteTime": {
     "end_time": "2023-05-31T19:57:59.621784Z",
     "start_time": "2023-05-31T19:57:59.568097Z"
    },
    "execution": {
     "iopub.execute_input": "2024-02-13T18:19:44.003932Z",
     "iopub.status.busy": "2024-02-13T18:19:44.003353Z",
     "iopub.status.idle": "2024-02-13T18:19:44.044423Z",
     "shell.execute_reply": "2024-02-13T18:19:44.043737Z",
     "shell.execute_reply.started": "2024-02-13T18:19:44.003882Z"
    },
    "tags": []
   },
   "outputs": [],
   "source": [
    "plt.style.use(FIG_ROOT/\"base.mplstyle\")\n",
    "torch.set_default_dtype(torch.float64)"
   ]
  },
  {
   "cell_type": "code",
   "execution_count": null,
   "id": "e0cb5a3d-1ab1-4bc0-bfce-d7ebaedb0391",
   "metadata": {},
   "outputs": [],
   "source": []
  },
  {
   "cell_type": "code",
   "execution_count": null,
   "id": "d0af2f35",
   "metadata": {},
   "outputs": [],
   "source": []
  },
  {
   "cell_type": "code",
   "execution_count": 47,
   "id": "50fb216b-3f65-41c9-9535-86cbaa6843fe",
   "metadata": {
    "execution": {
     "iopub.execute_input": "2024-02-13T18:19:45.080265Z",
     "iopub.status.busy": "2024-02-13T18:19:45.079631Z",
     "iopub.status.idle": "2024-02-13T18:19:45.118862Z",
     "shell.execute_reply": "2024-02-13T18:19:45.118128Z",
     "shell.execute_reply.started": "2024-02-13T18:19:45.080216Z"
    },
    "tags": []
   },
   "outputs": [],
   "source": [
    "def _get_min_idx(x):\n",
    "    \"\"\"Get the index of the minimal values among the local minimals.\n",
    "       If there are multiple ones, return the largest index\n",
    "       args:\n",
    "           x: a vec\n",
    "        \n",
    "    \"\"\"\n",
    "    x = np.array(x)\n",
    "    lmin_idxs = get_local_min_idxs(x);\n",
    "    if len(lmin_idxs) == 0:\n",
    "        lmin_idxs = np.arange(len(x))\n",
    "    lmin_idxs_inv =  lmin_idxs[::-1]\n",
    "    lmins_inv = x[lmin_idxs_inv];\n",
    "    return  lmin_idxs_inv[np.argmin(lmins_inv)]"
   ]
  },
  {
   "cell_type": "code",
   "execution_count": null,
   "id": "a10d559c-8d6a-428a-bdb9-23c0a5aac96b",
   "metadata": {},
   "outputs": [],
   "source": []
  },
  {
   "cell_type": "markdown",
   "id": "ad8553a0-635d-473c-b27e-7bb7fb31a674",
   "metadata": {},
   "source": [
    "# Analysis"
   ]
  },
  {
   "cell_type": "code",
   "execution_count": 71,
   "id": "fd0e3884-12e4-49a0-ae7a-75fbe01d6ee7",
   "metadata": {
    "execution": {
     "iopub.execute_input": "2024-02-13T19:17:17.452391Z",
     "iopub.status.busy": "2024-02-13T19:17:17.451749Z",
     "iopub.status.idle": "2024-02-13T19:17:17.496223Z",
     "shell.execute_reply": "2024-02-13T19:17:17.495547Z",
     "shell.execute_reply.started": "2024-02-13T19:17:17.452341Z"
    },
    "tags": []
   },
   "outputs": [
    {
     "name": "stdout",
     "output_type": "stream",
     "text": [
      "[0.001, 0.01, 0.05, 0.08, 0.1, 0.2, 0.3, 0.4, 0.5, 0.6, 0.7, 0.8, 0.9, 1.0, 2.0, 16.0]\n"
     ]
    }
   ],
   "source": [
    "setting = settings[\"n2a\"]\n",
    "#setting = settingms[\"nm2a\"]\n",
    "\n",
    "can_Ns = setting.can_Ns\n",
    "can_lams = setting.can_lams\n",
    "print(can_lams)\n",
    "\n",
    "c1s = [0.0, 0.1, 0.2, 0.4]\n",
    "Cmat = np.eye(1) # change it depending on test1, test2, test3\n",
    "Cmat = np.array([\n",
    "    [1, -1], \n",
    "]).reshape(1, -1)\n",
    "file_prefix = f\"simu_logi_setting{setting.setting}\"\n",
    "loss_name = \"entropy_loss\"\n",
    "#loss_name = \"mse_loss\"\n",
    "\n",
    "sel_lam = 0.4\n",
    "sel_N = 10\n",
    "num_rep = 200;"
   ]
  },
  {
   "cell_type": "code",
   "execution_count": null,
   "id": "3264cfce-b893-450e-b063-e3f4c10d1d08",
   "metadata": {},
   "outputs": [],
   "source": []
  },
  {
   "cell_type": "markdown",
   "id": "1ce33507-b240-4b72-84b2-d90e1df42822",
   "metadata": {},
   "source": [
    "# Fixed N and fixed lam"
   ]
  },
  {
   "cell_type": "code",
   "execution_count": 74,
   "id": "144735a4-7155-448b-b899-2ed9168788cf",
   "metadata": {
    "execution": {
     "iopub.execute_input": "2024-02-13T19:18:44.528960Z",
     "iopub.status.busy": "2024-02-13T19:18:44.528317Z",
     "iopub.status.idle": "2024-02-13T19:18:45.767480Z",
     "shell.execute_reply": "2024-02-13T19:18:45.767008Z",
     "shell.execute_reply.started": "2024-02-13T19:18:44.528898Z"
    },
    "scrolled": true,
    "tags": []
   },
   "outputs": [
    {
     "name": "stdout",
     "output_type": "stream",
     "text": [
      "Load file /data/rajlab1/user_data/jin/MyResearch/HDF_infer/notebooks/simu_real/../../mypkg/../results/simu_logi_settingn2a_0/all-valsel-metrics.pkl\n"
     ]
    },
    {
     "name": "stderr",
     "output_type": "stream",
     "text": [
      "c1: 0.0: 100%|██████████████████████████████████████████████████████████████| 200/200 [00:00<00:00, 13012.05it/s]\n"
     ]
    },
    {
     "name": "stdout",
     "output_type": "stream",
     "text": [
      "[1.08293697 1.08293697 1.16246553 1.06825278 0.36177701 0.26275195\n",
      " 0.2855365  0.32166033 0.35256507 0.36259542 0.36259542 0.36259542\n",
      " 0.36259542 0.36259542 0.36259542 0.36259542]\n",
      "Load file /data/rajlab1/user_data/jin/MyResearch/HDF_infer/notebooks/simu_real/../../mypkg/../results/simu_logi_settingn2a_100/all-valsel-metrics.pkl\n"
     ]
    },
    {
     "name": "stderr",
     "output_type": "stream",
     "text": [
      "c1: 0.1: 100%|██████████████████████████████████████████████████████████████| 200/200 [00:00<00:00, 13792.06it/s]\n"
     ]
    },
    {
     "name": "stdout",
     "output_type": "stream",
     "text": [
      "[1.01247785 1.01247785 1.10314296 0.99854761 0.3461268  0.25768023\n",
      " 0.28053911 0.31752635 0.34001213 0.34357975 0.34357975 0.34357975\n",
      " 0.34357975 0.34357975 0.34357975 0.34357975]\n",
      "Load file /data/rajlab1/user_data/jin/MyResearch/HDF_infer/notebooks/simu_real/../../mypkg/../results/simu_logi_settingn2a_200/all-valsel-metrics.pkl\n"
     ]
    },
    {
     "name": "stderr",
     "output_type": "stream",
     "text": [
      "c1: 0.2: 100%|██████████████████████████████████████████████████████████████| 200/200 [00:00<00:00, 13287.41it/s]\n"
     ]
    },
    {
     "name": "stdout",
     "output_type": "stream",
     "text": [
      "[1.00667487 1.00667487 1.05190171 0.94011869 0.34368937 0.2553008\n",
      " 0.27656951 0.31282174 0.33827341 0.3406917  0.3406917  0.3406917\n",
      " 0.3406917  0.3406917  0.3406917  0.3406917 ]\n",
      "Load file /data/rajlab1/user_data/jin/MyResearch/HDF_infer/notebooks/simu_real/../../mypkg/../results/simu_logi_settingn2a_400/all-valsel-metrics.pkl\n"
     ]
    },
    {
     "name": "stderr",
     "output_type": "stream",
     "text": [
      "c1: 0.4: 100%|██████████████████████████████████████████████████████████████| 200/200 [00:00<00:00, 13331.33it/s]"
     ]
    },
    {
     "name": "stdout",
     "output_type": "stream",
     "text": [
      "[0.94538838 0.94538838 0.97227761 0.82040212 0.34580989 0.25314166\n",
      " 0.26812821 0.303262   0.31297822 0.31316087 0.31316087 0.31316087\n",
      " 0.31316087 0.31316087 0.31316087 0.31316087]\n"
     ]
    },
    {
     "name": "stderr",
     "output_type": "stream",
     "text": [
      "\n"
     ]
    }
   ],
   "source": [
    "def _run_fn1(seed, all_cv_errs):\n",
    "    errs_mat = []\n",
    "    for cur_N in can_Ns:\n",
    "        errs = []\n",
    "        for cur_lam in can_lams:\n",
    "            cur_res = all_cv_errs[(seed, cur_N, cur_lam)]\n",
    "            errs.append(cur_res[loss_name])\n",
    "            #errs.append(1-f1_score(cur_res.tY, cur_res.cv_probs>0.5))\n",
    "            #errs.append(1-roc_auc_score(cur_res.tY, cur_res.cv_probs))\n",
    "        errs_mat.append(errs)\n",
    "    errs_mat = np.array(errs_mat)\n",
    "    return errs_mat\n",
    "opt_lamNs_fix = {}\n",
    "for c1 in c1s:\n",
    "    cur_save_dir = RES_ROOT/f\"{file_prefix}_{c1*1000:.0f}\"\n",
    "    all_cv_errs = load_pkl(cur_save_dir/f\"all-valsel-metrics.pkl\")\n",
    "    num_seed = len(np.unique(list(map(lambda x: x[0], all_cv_errs.keys()))))\n",
    "    # do not make n_jobs>1, it is very slow\n",
    "    with Parallel(n_jobs=1) as parallel:\n",
    "        err_ten = parallel(delayed(_run_fn1)(cur_seed, all_cv_errs)  \n",
    "                                 for cur_seed in tqdm(range(num_seed), total=num_seed, desc=f\"c1: {c1}\"))\n",
    "    err_ten = np.array(err_ten);\n",
    "    \n",
    "    err_m = np.median(np.array(err_ten), axis=0)\n",
    "    print(err_m[can_Ns.index(sel_N)])\n",
    "    lam_min_idx = _get_min_idx(err_m[can_Ns.index(sel_N)])\n",
    "    sel_lam = can_lams[lam_min_idx]\n",
    "    \n",
    "    opt_lamNs_fix[c1] = (sel_N,  sel_lam)"
   ]
  },
  {
   "cell_type": "code",
   "execution_count": 75,
   "id": "8676bc45-72fe-4e22-ae5d-6b2a299cb85e",
   "metadata": {
    "execution": {
     "iopub.execute_input": "2024-02-13T19:18:45.768671Z",
     "iopub.status.busy": "2024-02-13T19:18:45.768417Z",
     "iopub.status.idle": "2024-02-13T19:18:45.787871Z",
     "shell.execute_reply": "2024-02-13T19:18:45.787476Z",
     "shell.execute_reply.started": "2024-02-13T19:18:45.768655Z"
    },
    "tags": []
   },
   "outputs": [
    {
     "data": {
      "text/plain": [
       "{0.0: (10, 0.2), 0.1: (10, 0.2), 0.2: (10, 0.2), 0.4: (10, 0.2)}"
      ]
     },
     "execution_count": 75,
     "metadata": {},
     "output_type": "execute_result"
    }
   ],
   "source": [
    "\n",
    "opt_lamNs_fix"
   ]
  },
  {
   "cell_type": "code",
   "execution_count": null,
   "id": "5284987a-0efa-446d-ac48-357d2139a05f",
   "metadata": {},
   "outputs": [],
   "source": []
  },
  {
   "cell_type": "code",
   "execution_count": 284,
   "id": "abe4c784-1a02-4d92-9fb9-53cd9c23f066",
   "metadata": {
    "execution": {
     "iopub.execute_input": "2024-02-12T18:49:39.510242Z",
     "iopub.status.busy": "2024-02-12T18:49:39.509603Z",
     "iopub.status.idle": "2024-02-12T18:49:46.299819Z",
     "shell.execute_reply": "2024-02-12T18:49:46.298656Z",
     "shell.execute_reply.started": "2024-02-12T18:49:39.510191Z"
    },
    "scrolled": true,
    "tags": []
   },
   "outputs": [
    {
     "name": "stderr",
     "output_type": "stream",
     "text": [
      "\n",
      "c1: 0:   0%|                                                                             | 0/200 [00:00<?, ?it/s]\u001b[A\n",
      "c1: 0:  20%|█████████████▍                                                     | 40/200 [00:00<00:00, 242.67it/s]\u001b[A\n",
      "c1: 0:  50%|█████████████████████████████████                                 | 100/200 [00:00<00:00, 227.24it/s]\u001b[A\n",
      "c1: 0:  70%|██████████████████████████████████████████████▏                   | 140/200 [00:00<00:00, 205.04it/s]\u001b[A\n",
      "c1: 0: 100%|██████████████████████████████████████████████████████████████████| 200/200 [00:00<00:00, 212.75it/s]\u001b[A\n"
     ]
    },
    {
     "name": "stdout",
     "output_type": "stream",
     "text": [
      "Save to /data/rajlab1/user_data/jin/MyResearch/HDF_infer/notebooks/simu_real/../../mypkg/../results/simu_logi_settingn2a_0/opt_lamNsfixNlam_ress.pkl\n"
     ]
    },
    {
     "name": "stderr",
     "output_type": "stream",
     "text": [
      "\n",
      "c1: 100:   0%|                                                                           | 0/200 [00:00<?, ?it/s]\u001b[A\n",
      "c1: 100:  20%|█████████████                                                    | 40/200 [00:00<00:00, 271.25it/s]\u001b[A\n",
      "c1: 100:  34%|██████████████████████                                           | 68/200 [00:00<00:00, 261.76it/s]\u001b[A\n",
      "c1: 100:  50%|████████████████████████████████                                | 100/200 [00:00<00:00, 274.35it/s]\u001b[A\n",
      "c1: 100:  70%|████████████████████████████████████████████▊                   | 140/200 [00:00<00:00, 197.34it/s]\u001b[A\n",
      "c1: 100: 100%|████████████████████████████████████████████████████████████████| 200/200 [00:00<00:00, 212.04it/s]\u001b[A\n"
     ]
    },
    {
     "name": "stdout",
     "output_type": "stream",
     "text": [
      "Save to /data/rajlab1/user_data/jin/MyResearch/HDF_infer/notebooks/simu_real/../../mypkg/../results/simu_logi_settingn2a_100/opt_lamNsfixNlam_ress.pkl\n"
     ]
    },
    {
     "name": "stderr",
     "output_type": "stream",
     "text": [
      "\n",
      "c1: 200:   0%|                                                                           | 0/200 [00:00<?, ?it/s]\u001b[A\n",
      "c1: 200:  20%|█████████████                                                    | 40/200 [00:00<00:00, 226.57it/s]\u001b[A\n",
      "c1: 200:  32%|████████████████████▍                                            | 63/200 [00:00<00:00, 221.73it/s]\u001b[A\n",
      "c1: 200:  50%|████████████████████████████████                                | 100/200 [00:00<00:00, 189.01it/s]\u001b[A\n",
      "c1: 200:  70%|████████████████████████████████████████████▊                   | 140/200 [00:00<00:00, 182.68it/s]\u001b[A\n",
      "c1: 200: 100%|████████████████████████████████████████████████████████████████| 200/200 [00:01<00:00, 192.09it/s]\u001b[A\n"
     ]
    },
    {
     "name": "stdout",
     "output_type": "stream",
     "text": [
      "Save to /data/rajlab1/user_data/jin/MyResearch/HDF_infer/notebooks/simu_real/../../mypkg/../results/simu_logi_settingn2a_200/opt_lamNsfixNlam_ress.pkl\n"
     ]
    },
    {
     "name": "stderr",
     "output_type": "stream",
     "text": [
      "\n",
      "c1: 400:   0%|                                                                           | 0/200 [00:00<?, ?it/s]\u001b[A\n",
      "c1: 400:  20%|█████████████                                                    | 40/200 [00:00<00:00, 176.24it/s]\u001b[A\n",
      "c1: 400:  40%|██████████████████████████                                       | 80/200 [00:00<00:00, 173.47it/s]\u001b[A\n",
      "c1: 400:  50%|████████████████████████████████                                | 100/200 [00:00<00:00, 162.33it/s]\u001b[A\n",
      "c1: 400:  60%|██████████████████████████████████████▍                         | 120/200 [00:00<00:00, 152.43it/s]\u001b[A\n",
      "c1: 400:  70%|████████████████████████████████████████████▊                   | 140/200 [00:00<00:00, 140.33it/s]\u001b[A\n",
      "c1: 400:  80%|███████████████████████████████████████████████████▏            | 160/200 [00:01<00:00, 144.20it/s]\u001b[A\n",
      "c1: 400:  90%|█████████████████████████████████████████████████████████▌      | 180/200 [00:01<00:00, 143.25it/s]\u001b[A\n",
      "c1: 400: 100%|████████████████████████████████████████████████████████████████| 200/200 [00:01<00:00, 150.94it/s]\u001b[A\n"
     ]
    },
    {
     "name": "stdout",
     "output_type": "stream",
     "text": [
      "Save to /data/rajlab1/user_data/jin/MyResearch/HDF_infer/notebooks/simu_real/../../mypkg/../results/simu_logi_settingn2a_400/opt_lamNsfixNlam_ress.pkl\n"
     ]
    }
   ],
   "source": [
    "# for adaptive lam N\n",
    "cans = [1e-5, 3e-6, 1e-6, 3e-7, 1e-7, 3e-8, 1e-8, 3e-9, 1e-9, 3e-10, 0]\n",
    "all_coms = [(can, can) for can in cans]\n",
    "#all_coms = list(itertools.product(cans, cans))\n",
    "for c1 in c1s:\n",
    "    sel_N, sel_lam = opt_lamNs_fix[c1]\n",
    "    cur_save_dir = RES_ROOT/f\"{file_prefix}_{c1*1000:.0f}\"\n",
    "    ress = []\n",
    "    def _run_fn_test(cur_seed):\n",
    "        from optimization.opt import logger as logger1\n",
    "        logger1.handlers[0].setLevel(logging.WARNING)\n",
    "        torch.set_default_dtype(torch.float64)\n",
    "        f1_name = f\"seed_{cur_seed:.0f}-lam_{sel_lam*1000:.0f}-N_{sel_N:.0f}_fit.pkl\"\n",
    "        res1 = load_pkl(cur_save_dir/f1_name, verbose=False);\n",
    "        res1.basis_mat = torch.tensor(res1.obt_bsp(np.linspace(0, 1, setting.data_gen_params.npts), \n",
    "                                      res1.bsp_params.N, res1.bsp_params.basis_ord)).to(torch.get_default_dtype());\n",
    "        res = []\n",
    "        for rtols in all_coms:\n",
    "            re = res1.hypo_test(Cmat=Cmat, ts=None, is_simpler=False, hypo_params={\"svdinv_eps_Q\": rtols[0], \"svdinv_eps_Psi\": rtols[1]}) \n",
    "            res.append(re)\n",
    "    \n",
    "        return res \n",
    "    with Parallel(n_jobs=10) as parallel:\n",
    "        ress = parallel(delayed(_run_fn_test)(cur_seed) for cur_seed in tqdm(range(num_rep), desc=f\"c1: {c1*1000:.0f}\", total=num_rep))\n",
    "    ress = np.array(ress);\n",
    "    save_pkl(cur_save_dir/f\"opt_lamNsfixNlam_ress.pkl\", ress, is_force=1)"
   ]
  },
  {
   "cell_type": "code",
   "execution_count": null,
   "id": "d3d8dc76-d28c-44a5-9190-1bd0cefe53a9",
   "metadata": {},
   "outputs": [],
   "source": []
  },
  {
   "cell_type": "code",
   "execution_count": null,
   "id": "4fb91ff8-5516-4607-b597-a84764e17df4",
   "metadata": {},
   "outputs": [],
   "source": []
  },
  {
   "cell_type": "markdown",
   "id": "d30d4a08-5de2-4412-8541-5dd78612ed5c",
   "metadata": {},
   "source": [
    "## Find Q and Psi rtol"
   ]
  },
  {
   "cell_type": "code",
   "execution_count": 285,
   "id": "d5348b9e-0fe6-4f79-9b91-d2ab166c527d",
   "metadata": {
    "execution": {
     "iopub.execute_input": "2024-02-12T18:49:46.302394Z",
     "iopub.status.busy": "2024-02-12T18:49:46.301787Z",
     "iopub.status.idle": "2024-02-12T18:49:46.342536Z",
     "shell.execute_reply": "2024-02-12T18:49:46.341512Z",
     "shell.execute_reply.started": "2024-02-12T18:49:46.302349Z"
    },
    "tags": []
   },
   "outputs": [],
   "source": [
    "def outlier_det(T_vs, ratio_tol=0.05):\n",
    "    \"\"\"\n",
    "    Detects outliers in a given dataset using the interquartile range (IQR) method.\n",
    "\n",
    "    Parameters:\n",
    "    - T_vs (array-like): The input dataset.\n",
    "    - ratio_tol (float, optional): The tolerance ratio for outlier removal. Default is 0.05.\n",
    "\n",
    "    Returns:\n",
    "    - kpidx (ndarray): A boolean array indicating whether each data point is an outlier or not.\n",
    "    \"\"\"\n",
    "    Q1, Q3 = np.quantile(T_vs, [0.25, 0.75])\n",
    "    IQR = Q3 - Q1\n",
    "    upbd = Q3 + 1.5*IQR\n",
    "    lowbd = Q1 - 1.5*IQR\n",
    "    kpidx = np.bitwise_and(T_vs>=lowbd, T_vs<=upbd)\n",
    "    \n",
    "    if np.mean(kpidx)+ ratio_tol < 1:\n",
    "        out_part = np.stack([T_vs - upbd, lowbd - T_vs]).T.max(axis=1);\n",
    "        kpidx = np.ones(len(T_vs), dtype=bool)\n",
    "        kpidx[np.argsort(-out_part)[:int(len(T_vs)*ratio_tol)]] = False\n",
    "    return kpidx\n",
    "\n",
    "def outlier_det1(T_vs, ratio_tol=0.05):\n",
    "    maes = np.abs(T_vs - np.median(T_vs));\n",
    "    idxs = np.argsort(-maes)\n",
    "    kpidx = np.ones(len(T_vs), dtype=bool)\n",
    "    kpidx[idxs[:int(ratio_tol*len(T_vs))]] = False\n",
    "    return kpidx"
   ]
  },
  {
   "cell_type": "code",
   "execution_count": 286,
   "id": "e4297092-475a-42e3-970b-f8774ef3fb70",
   "metadata": {
    "execution": {
     "iopub.execute_input": "2024-02-12T18:49:46.343256Z",
     "iopub.status.busy": "2024-02-12T18:49:46.343089Z",
     "iopub.status.idle": "2024-02-12T18:49:47.027584Z",
     "shell.execute_reply": "2024-02-12T18:49:47.027070Z",
     "shell.execute_reply.started": "2024-02-12T18:49:46.343241Z"
    },
    "tags": []
   },
   "outputs": [
    {
     "name": "stdout",
     "output_type": "stream",
     "text": [
      "Load file /data/rajlab1/user_data/jin/MyResearch/HDF_infer/notebooks/simu_real/../../mypkg/../results/simu_logi_settingn2a_0/opt_lamNsfixNlam_ress.pkl\n",
      "Load file /data/rajlab1/user_data/jin/MyResearch/HDF_infer/notebooks/simu_real/../../mypkg/../results/simu_logi_settingn2a_100/opt_lamNsfixNlam_ress.pkl\n",
      "Load file /data/rajlab1/user_data/jin/MyResearch/HDF_infer/notebooks/simu_real/../../mypkg/../results/simu_logi_settingn2a_200/opt_lamNsfixNlam_ress.pkl\n",
      "Load file /data/rajlab1/user_data/jin/MyResearch/HDF_infer/notebooks/simu_real/../../mypkg/../results/simu_logi_settingn2a_400/opt_lamNsfixNlam_ress.pkl\n"
     ]
    }
   ],
   "source": [
    "ress_dict = {}\n",
    "for c1 in c1s:\n",
    "    cur_save_dir = RES_ROOT/f\"{file_prefix}_{c1*1000:.0f}\"\n",
    "    ress = load_pkl(cur_save_dir/f\"opt_lamNsfixNlam_ress.pkl\");\n",
    "    ress_dict[c1] = ress"
   ]
  },
  {
   "cell_type": "code",
   "execution_count": 287,
   "id": "e68ec23d-e727-4160-bba8-5ab94be466bf",
   "metadata": {
    "execution": {
     "iopub.execute_input": "2024-02-12T18:49:47.028941Z",
     "iopub.status.busy": "2024-02-12T18:49:47.028676Z",
     "iopub.status.idle": "2024-02-12T18:49:47.100301Z",
     "shell.execute_reply": "2024-02-12T18:49:47.099819Z",
     "shell.execute_reply.started": "2024-02-12T18:49:47.028923Z"
    },
    "tags": []
   },
   "outputs": [
    {
     "data": {
      "text/html": [
       "<div>\n",
       "<style scoped>\n",
       "    .dataframe tbody tr th:only-of-type {\n",
       "        vertical-align: middle;\n",
       "    }\n",
       "\n",
       "    .dataframe tbody tr th {\n",
       "        vertical-align: top;\n",
       "    }\n",
       "\n",
       "    .dataframe thead th {\n",
       "        text-align: right;\n",
       "    }\n",
       "</style>\n",
       "<table border=\"1\" class=\"dataframe\">\n",
       "  <thead>\n",
       "    <tr style=\"text-align: right;\">\n",
       "      <th></th>\n",
       "      <th>0.0</th>\n",
       "      <th>0.1</th>\n",
       "      <th>0.2</th>\n",
       "      <th>0.4</th>\n",
       "      <th>Q</th>\n",
       "      <th>Psi</th>\n",
       "    </tr>\n",
       "  </thead>\n",
       "  <tbody>\n",
       "    <tr>\n",
       "      <th>0</th>\n",
       "      <td>0.045685</td>\n",
       "      <td>0.100503</td>\n",
       "      <td>0.14</td>\n",
       "      <td>0.40404</td>\n",
       "      <td>1.000000e-05</td>\n",
       "      <td>1.000000e-05</td>\n",
       "    </tr>\n",
       "    <tr>\n",
       "      <th>1</th>\n",
       "      <td>0.045685</td>\n",
       "      <td>0.100503</td>\n",
       "      <td>0.14</td>\n",
       "      <td>0.40404</td>\n",
       "      <td>3.000000e-06</td>\n",
       "      <td>3.000000e-06</td>\n",
       "    </tr>\n",
       "    <tr>\n",
       "      <th>2</th>\n",
       "      <td>0.045685</td>\n",
       "      <td>0.100503</td>\n",
       "      <td>0.14</td>\n",
       "      <td>0.40404</td>\n",
       "      <td>1.000000e-06</td>\n",
       "      <td>1.000000e-06</td>\n",
       "    </tr>\n",
       "    <tr>\n",
       "      <th>3</th>\n",
       "      <td>0.045685</td>\n",
       "      <td>0.100503</td>\n",
       "      <td>0.14</td>\n",
       "      <td>0.40404</td>\n",
       "      <td>3.000000e-07</td>\n",
       "      <td>3.000000e-07</td>\n",
       "    </tr>\n",
       "    <tr>\n",
       "      <th>4</th>\n",
       "      <td>0.045685</td>\n",
       "      <td>0.100503</td>\n",
       "      <td>0.14</td>\n",
       "      <td>0.40404</td>\n",
       "      <td>1.000000e-07</td>\n",
       "      <td>1.000000e-07</td>\n",
       "    </tr>\n",
       "    <tr>\n",
       "      <th>5</th>\n",
       "      <td>0.045685</td>\n",
       "      <td>0.100503</td>\n",
       "      <td>0.14</td>\n",
       "      <td>0.40404</td>\n",
       "      <td>3.000000e-08</td>\n",
       "      <td>3.000000e-08</td>\n",
       "    </tr>\n",
       "    <tr>\n",
       "      <th>6</th>\n",
       "      <td>0.045685</td>\n",
       "      <td>0.100503</td>\n",
       "      <td>0.14</td>\n",
       "      <td>0.40404</td>\n",
       "      <td>1.000000e-08</td>\n",
       "      <td>1.000000e-08</td>\n",
       "    </tr>\n",
       "    <tr>\n",
       "      <th>7</th>\n",
       "      <td>0.045685</td>\n",
       "      <td>0.100503</td>\n",
       "      <td>0.14</td>\n",
       "      <td>0.40404</td>\n",
       "      <td>3.000000e-09</td>\n",
       "      <td>3.000000e-09</td>\n",
       "    </tr>\n",
       "    <tr>\n",
       "      <th>8</th>\n",
       "      <td>0.045685</td>\n",
       "      <td>0.100503</td>\n",
       "      <td>0.14</td>\n",
       "      <td>0.40404</td>\n",
       "      <td>1.000000e-09</td>\n",
       "      <td>1.000000e-09</td>\n",
       "    </tr>\n",
       "    <tr>\n",
       "      <th>9</th>\n",
       "      <td>0.045685</td>\n",
       "      <td>0.100503</td>\n",
       "      <td>0.14</td>\n",
       "      <td>0.40404</td>\n",
       "      <td>3.000000e-10</td>\n",
       "      <td>3.000000e-10</td>\n",
       "    </tr>\n",
       "    <tr>\n",
       "      <th>10</th>\n",
       "      <td>0.045685</td>\n",
       "      <td>0.100503</td>\n",
       "      <td>0.14</td>\n",
       "      <td>0.40404</td>\n",
       "      <td>0.000000e+00</td>\n",
       "      <td>0.000000e+00</td>\n",
       "    </tr>\n",
       "  </tbody>\n",
       "</table>\n",
       "</div>"
      ],
      "text/plain": [
       "         0.0       0.1   0.2      0.4             Q           Psi\n",
       "0   0.045685  0.100503  0.14  0.40404  1.000000e-05  1.000000e-05\n",
       "1   0.045685  0.100503  0.14  0.40404  3.000000e-06  3.000000e-06\n",
       "2   0.045685  0.100503  0.14  0.40404  1.000000e-06  1.000000e-06\n",
       "3   0.045685  0.100503  0.14  0.40404  3.000000e-07  3.000000e-07\n",
       "4   0.045685  0.100503  0.14  0.40404  1.000000e-07  1.000000e-07\n",
       "5   0.045685  0.100503  0.14  0.40404  3.000000e-08  3.000000e-08\n",
       "6   0.045685  0.100503  0.14  0.40404  1.000000e-08  1.000000e-08\n",
       "7   0.045685  0.100503  0.14  0.40404  3.000000e-09  3.000000e-09\n",
       "8   0.045685  0.100503  0.14  0.40404  1.000000e-09  1.000000e-09\n",
       "9   0.045685  0.100503  0.14  0.40404  3.000000e-10  3.000000e-10\n",
       "10  0.045685  0.100503  0.14  0.40404  0.000000e+00  0.000000e+00"
      ]
     },
     "execution_count": 287,
     "metadata": {},
     "output_type": "execute_result"
    }
   ],
   "source": [
    "import pandas as pd\n",
    "cans = [1e-5, 3e-6, 1e-6, 3e-7, 1e-7, 3e-8, 1e-8, 3e-9, 1e-9, 3e-10, 0]\n",
    "\n",
    "all_coms = np.array(list(itertools.product(cans, cans)));\n",
    "all_coms = [(can, can) for can in cans]\n",
    "kpidxs = []\n",
    "\n",
    "df = []\n",
    "for c1 in c1s:\n",
    "    ress = ress_dict[c1]\n",
    "    pvals = np.array([[re[\"pval\"] for re in res] for res in ress]);\n",
    "    T_vss = np.array([[re[\"T_v\"] for re in res] for res in ress]);\n",
    "    \n",
    "    kpidxss = [outlier_det(T_vss[:, can_ix], 0.05) for can_ix in range(T_vss.shape[1])];\n",
    "    #kpidxss = [outlier_det1(T_vss[:, can_ix], 0.05) for can_ix in range(T_vss.shape[1])];\n",
    "    if True:\n",
    "        vec_pv = np.array([np.mean(pvals[:, can_ix][kpidxss[can_ix]]<0.05) for can_ix in range(len(cans))])\n",
    "    else:\n",
    "        vec_pv = np.array([np.mean(pvals[:, can_ix]<0.05) for can_ix in range(len(cans))])\n",
    "    #vec_pv = np.mean(pvals<0.05, axis=0)\n",
    "    df.append(vec_pv[:, np.newaxis])\n",
    "df.append(all_coms) \n",
    "df = np.hstack(df)\n",
    "df = pd.DataFrame(df) \n",
    "df.columns = c1s+[\"Q\", \"Psi\"]\n",
    "df"
   ]
  },
  {
   "cell_type": "code",
   "execution_count": null,
   "id": "8d15c8f6-54c7-47ef-ac99-07697f997663",
   "metadata": {},
   "outputs": [],
   "source": []
  },
  {
   "cell_type": "code",
   "execution_count": 288,
   "id": "94f395ef-98a7-4aba-8410-22d15375cdb7",
   "metadata": {
    "execution": {
     "iopub.execute_input": "2024-02-12T18:49:47.101023Z",
     "iopub.status.busy": "2024-02-12T18:49:47.100855Z",
     "iopub.status.idle": "2024-02-12T18:49:47.267750Z",
     "shell.execute_reply": "2024-02-12T18:49:47.267381Z",
     "shell.execute_reply.started": "2024-02-12T18:49:47.101009Z"
    },
    "tags": []
   },
   "outputs": [
    {
     "data": {
      "text/plain": [
       "<matplotlib.legend.Legend at 0x7f0765dadc70>"
      ]
     },
     "execution_count": 288,
     "metadata": {},
     "output_type": "execute_result"
    },
    {
     "data": {
      "image/png": "[encoded data removed]",
      "text/plain": [
       "<Figure size 432x288 with 1 Axes>"
      ]
     },
     "metadata": {
      "needs_background": "light"
     },
     "output_type": "display_data"
    }
   ],
   "source": [
    "ress = ress_dict[0]\n",
    "T_vss = np.array([[re[\"T_v\"] for re in res] for res in ress]);\n",
    "chi_df = Cmat.shape[0]*cur_N\n",
    "\n",
    "xs = np.linspace(0.1, 50, 100)\n",
    "theo_curvs_log = chi2.logpdf(xs, chi_df);\n",
    "plt.plot(xs, np.exp(theo_curvs_log) , label=\"theoretical\")\n",
    "sns.kdeplot(T_vss[:, 0])\n",
    "plt.legend()"
   ]
  },
  {
   "cell_type": "code",
   "execution_count": null,
   "id": "f2508578-2da4-4697-8a87-8a060776a59a",
   "metadata": {},
   "outputs": [],
   "source": []
  }
 ],
 "metadata": {
  "kernelspec": {
   "display_name": "Python 3 (ipykernel)",
   "language": "python",
   "name": "python3"
  },
  "language_info": {
   "codemirror_mode": {
    "name": "ipython",
    "version": 3
   },
   "file_extension": ".py",
   "mimetype": "text/x-python",
   "name": "python",
   "nbconvert_exporter": "python",
   "pygments_lexer": "ipython3",
   "version": "3.9.7"
  },
  "toc": {
   "base_numbering": 1,
   "nav_menu": {},
   "number_sections": true,
   "sideBar": true,
   "skip_h1_title": false,
   "title_cell": "Table of Contents",
   "title_sidebar": "Contents",
   "toc_cell": false,
   "toc_position": {
    "height": "calc(100% - 180px)",
    "left": "10px",
    "top": "150px",
    "width": "165px"
   },
   "toc_section_display": true,
   "toc_window_display": true
  },
  "toc-autonumbering": true
 },
 "nbformat": 4,
 "nbformat_minor": 5
}
