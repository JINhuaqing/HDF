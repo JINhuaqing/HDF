{
 "cells": [
  {
   "cell_type": "code",
   "execution_count": 1,
   "id": "02ae980e",
   "metadata": {
    "ExecuteTime": {
     "end_time": "2023-05-31T19:57:23.490285Z",
     "start_time": "2023-05-31T19:57:23.481769Z"
    },
    "execution": {
     "iopub.execute_input": "2024-01-03T21:37:06.749229Z",
     "iopub.status.busy": "2024-01-03T21:37:06.748605Z",
     "iopub.status.idle": "2024-01-03T21:37:06.763035Z",
     "shell.execute_reply": "2024-01-03T21:37:06.761871Z",
     "shell.execute_reply.started": "2024-01-03T21:37:06.749180Z"
    },
    "tags": []
   },
   "outputs": [],
   "source": [
    "import sys\n",
    "sys.path.append(\"../../mypkg\")"
   ]
  },
  {
   "cell_type": "code",
   "execution_count": 2,
   "id": "023df78a",
   "metadata": {
    "ExecuteTime": {
     "end_time": "2023-05-31T19:57:34.238839Z",
     "start_time": "2023-05-31T19:57:23.494053Z"
    },
    "execution": {
     "iopub.execute_input": "2024-01-03T21:37:06.968071Z",
     "iopub.status.busy": "2024-01-03T21:37:06.967568Z",
     "iopub.status.idle": "2024-01-03T21:37:09.310443Z",
     "shell.execute_reply": "2024-01-03T21:37:09.309769Z",
     "shell.execute_reply.started": "2024-01-03T21:37:06.968029Z"
    },
    "tags": []
   },
   "outputs": [],
   "source": [
    "import numpy as np\n",
    "import torch\n",
    "import matplotlib.pyplot as plt\n",
    "import seaborn as sns\n",
    "from scipy.stats import pearsonr\n",
    "from numbers import Number\n",
    "\n",
    "from joblib import Parallel, delayed\n",
    "\n",
    "from easydict import EasyDict as edict\n",
    "from tqdm import trange, tqdm\n",
    "from scipy.io import loadmat\n",
    "from pprint import pprint\n",
    "import itertools\n",
    "from scipy.stats import chi2\n",
    "import pandas as pd\n",
    "from IPython.display import display\n"
   ]
  },
  {
   "cell_type": "code",
   "execution_count": 3,
   "id": "b9d3cbc6-1ac5-47d6-a0d1-bcbc0be9267e",
   "metadata": {
    "execution": {
     "iopub.execute_input": "2024-01-03T21:37:09.313122Z",
     "iopub.status.busy": "2024-01-03T21:37:09.312202Z",
     "iopub.status.idle": "2024-01-03T21:37:09.378299Z",
     "shell.execute_reply": "2024-01-03T21:37:09.377685Z",
     "shell.execute_reply.started": "2024-01-03T21:37:09.313077Z"
    },
    "tags": []
   },
   "outputs": [],
   "source": [
    "# This will reload all imports as soon as the code changes\n",
    "%load_ext autoreload\n",
    "%autoreload 2"
   ]
  },
  {
   "cell_type": "code",
   "execution_count": 4,
   "id": "b0aa91b2",
   "metadata": {
    "ExecuteTime": {
     "end_time": "2023-05-31T19:57:59.558229Z",
     "start_time": "2023-05-31T19:57:34.292612Z"
    },
    "execution": {
     "iopub.execute_input": "2024-01-03T21:37:09.380146Z",
     "iopub.status.busy": "2024-01-03T21:37:09.379566Z",
     "iopub.status.idle": "2024-01-03T21:37:09.460848Z",
     "shell.execute_reply": "2024-01-03T21:37:09.459821Z",
     "shell.execute_reply.started": "2024-01-03T21:37:09.380102Z"
    },
    "tags": []
   },
   "outputs": [],
   "source": [
    "from constants import DATA_ROOT, RES_ROOT, FIG_ROOT, MIDRES_ROOT\n",
    "\n",
    "from hdf_utils.hypo_test import obt_test_stat_simple2, get_Amat, obt_test_stat_simple3\n",
    "from utils.matrix import col_vec_fn, col_vec2mat_fn, conju_grad, svd_inverse, cholesky_inv\n",
    "from utils.misc import save_pkl, load_pkl, get_local_min_idxs, bcross_entropy_loss\n",
    "from optimization.one_step_opt import OneStepOpt\n"
   ]
  },
  {
   "cell_type": "code",
   "execution_count": 5,
   "id": "03e8580b-15e9-4a93-8010-aa2d650ffdf6",
   "metadata": {
    "execution": {
     "iopub.execute_input": "2024-01-03T21:37:09.463644Z",
     "iopub.status.busy": "2024-01-03T21:37:09.462931Z",
     "iopub.status.idle": "2024-01-03T21:37:09.497242Z",
     "shell.execute_reply": "2024-01-03T21:37:09.496386Z",
     "shell.execute_reply.started": "2024-01-03T21:37:09.463602Z"
    },
    "tags": []
   },
   "outputs": [],
   "source": [
    "import logging\n",
    "\n",
    "logger = logging.getLogger(\"tmp\")\n",
    "logger.setLevel(logging.DEBUG)\n",
    "formatter = logging.Formatter('%(asctime)s - %(name)s - %(levelname)s - %(message)s')\n",
    "\n",
    "ch = logging.StreamHandler() # for console. \n",
    "ch.setLevel(logging.DEBUG)\n",
    "ch.setFormatter(formatter)\n",
    "\n",
    "logger.addHandler(ch)"
   ]
  },
  {
   "cell_type": "code",
   "execution_count": 6,
   "id": "fe0a4a46",
   "metadata": {
    "ExecuteTime": {
     "end_time": "2023-05-31T19:57:59.621784Z",
     "start_time": "2023-05-31T19:57:59.568097Z"
    },
    "execution": {
     "iopub.execute_input": "2024-01-03T21:37:09.498108Z",
     "iopub.status.busy": "2024-01-03T21:37:09.497930Z",
     "iopub.status.idle": "2024-01-03T21:37:09.525044Z",
     "shell.execute_reply": "2024-01-03T21:37:09.524572Z",
     "shell.execute_reply.started": "2024-01-03T21:37:09.498094Z"
    },
    "tags": []
   },
   "outputs": [],
   "source": [
    "plt.style.use(FIG_ROOT/\"base.mplstyle\")\n",
    "torch.set_default_tensor_type(torch.DoubleTensor)"
   ]
  },
  {
   "cell_type": "code",
   "execution_count": null,
   "id": "e0cb5a3d-1ab1-4bc0-bfce-d7ebaedb0391",
   "metadata": {},
   "outputs": [],
   "source": []
  },
  {
   "cell_type": "code",
   "execution_count": null,
   "id": "d0af2f35",
   "metadata": {},
   "outputs": [],
   "source": []
  },
  {
   "cell_type": "markdown",
   "id": "dd9c6514",
   "metadata": {},
   "source": [
    "# Param and fns"
   ]
  },
  {
   "cell_type": "code",
   "execution_count": null,
   "id": "a10d559c-8d6a-428a-bdb9-23c0a5aac96b",
   "metadata": {},
   "outputs": [],
   "source": []
  },
  {
   "cell_type": "markdown",
   "id": "e5ccf9dc-c8f3-40a3-92f9-de2cdfa75610",
   "metadata": {},
   "source": [
    "## Fns"
   ]
  },
  {
   "cell_type": "code",
   "execution_count": 7,
   "id": "d93eca7c-5b7c-49ee-bec2-979f08f8d602",
   "metadata": {
    "execution": {
     "iopub.execute_input": "2024-01-03T21:37:09.735809Z",
     "iopub.status.busy": "2024-01-03T21:37:09.735234Z",
     "iopub.status.idle": "2024-01-03T21:37:09.774704Z",
     "shell.execute_reply": "2024-01-03T21:37:09.774094Z",
     "shell.execute_reply.started": "2024-01-03T21:37:09.735766Z"
    },
    "tags": []
   },
   "outputs": [
    {
     "data": {
      "text/plain": [
       "<function __main__.<lambda>(x)>"
      ]
     },
     "execution_count": 7,
     "metadata": {},
     "output_type": "execute_result"
    }
   ],
   "source": [
    "def _get_min_idx(x):\n",
    "    \"\"\"Get the index of the minimal values among the local minimals.\n",
    "       If there are multiple ones, return the largest index\n",
    "       args:\n",
    "           x: a vec\n",
    "        \n",
    "    \"\"\"\n",
    "    x = np.array(x)\n",
    "    lmin_idxs = get_local_min_idxs(x);\n",
    "    if len(lmin_idxs) == 0:\n",
    "        lmin_idxs = np.arange(len(x))\n",
    "    lmin_idxs_inv =  lmin_idxs[::-1]\n",
    "    lmins_inv = x[lmin_idxs_inv];\n",
    "    return  lmin_idxs_inv[np.argmin(lmins_inv)]\n",
    "_err_fn = lambda x: np.nanmean(x**2)\n",
    "#_err_fn = lambda x: np.nanmean(np.abs(x))"
   ]
  },
  {
   "cell_type": "code",
   "execution_count": null,
   "id": "75e10fd4",
   "metadata": {},
   "outputs": [],
   "source": []
  },
  {
   "cell_type": "markdown",
   "id": "ad8553a0-635d-473c-b27e-7bb7fb31a674",
   "metadata": {},
   "source": [
    "# Analysis"
   ]
  },
  {
   "cell_type": "code",
   "execution_count": 9,
   "id": "f2d09dc0-e992-4719-bb86-118197d686b6",
   "metadata": {
    "execution": {
     "iopub.execute_input": "2024-01-03T21:38:14.192949Z",
     "iopub.status.busy": "2024-01-03T21:38:14.192361Z",
     "iopub.status.idle": "2024-01-03T21:38:14.296160Z",
     "shell.execute_reply": "2024-01-03T21:38:14.294947Z",
     "shell.execute_reply.started": "2024-01-03T21:38:14.192902Z"
    },
    "tags": []
   },
   "outputs": [],
   "source": [
    "can_Ns = [4, 6, 8, 10, 12]\n",
    "can_lams = [0.001, 0.01, 0.03, 0.05, 0.07, 0.1, 0.15, 0.2, 0.25, 0.3, 0.35, 2.0, 4.0, 16.0]\n",
    "can_lams = [0.001, 0.1, 0.15, 0.2, 0.23, 0.25, 0.28, 0.3, 0.35, 2.0, 4.0, 16.0] #logi 1c, logi 2a\n",
    "can_lams = [0.001, 0.2, 0.3, 0.4, 0.45, 0.48, 0.5, 0.53, 0.55, 0.6, 0.65, 0.7, 2.0, 4.0, 16.0] # logi 3b\n",
    "can_lams = [0.001, 0.1, 0.2, 0.3, 0.4, 0.5, 0.6, 0.65, 0.7, 0.75, 0.8, 0.85, 0.9, 1.0, 2.0, 4.0, 16.0] # logi 3c, 3e\n",
    "can_lams = [0.001, 0.1, 0.3, 0.4, 0.45, 0.5, 0.6,  0.7, 0.8, 1.0, 2.0, 4.0, 16.0] # logi 3d\n",
    "can_lams = [0.001, 0.05, 0.1, 0.13, 0.15, 0.18, 0.2, 0.25, 0.3, 0.35, 2.0, 4.0, 16.0] #logi 1b, 1d, 3a\n",
    "\n",
    "setting = \"setting3aa\"\n",
    "\n",
    "c1s = [0.0, 0.2, 0.4]\n",
    "#c1s = [0.5, 0.7, 0.9]\n",
    "Cmat = np.array([1, -1]).reshape(1, 2)\n",
    "Cmat = np.eye(1) # change it depending on test1, test2, test3\n",
    "#Cmat = np.array([\n",
    "#    [1, 0, 0], \n",
    "#    [0, 1, -1], \n",
    "#])\n",
    "\n",
    "num_rep = 200;"
   ]
  },
  {
   "cell_type": "code",
   "execution_count": null,
   "id": "cdf0975b-2eaa-4105-8222-fa6f9323ab6c",
   "metadata": {
    "tags": []
   },
   "outputs": [],
   "source": []
  },
  {
   "cell_type": "code",
   "execution_count": null,
   "id": "3264cfce-b893-450e-b063-e3f4c10d1d08",
   "metadata": {},
   "outputs": [],
   "source": []
  },
  {
   "cell_type": "markdown",
   "id": "f6b461f7-fe50-4b73-aee2-203c50e562d0",
   "metadata": {},
   "source": [
    "## Step 0 (extract cv errrs)\n",
    "\n",
    "Save in one dict"
   ]
  },
  {
   "cell_type": "code",
   "execution_count": 9,
   "id": "8202f275-50b0-4e22-a8f9-65ddee2ba46a",
   "metadata": {
    "execution": {
     "iopub.execute_input": "2023-12-15T03:00:34.967733Z",
     "iopub.status.busy": "2023-12-15T03:00:34.967149Z",
     "iopub.status.idle": "2023-12-15T03:16:04.777769Z",
     "shell.execute_reply": "2023-12-15T03:16:04.776365Z",
     "shell.execute_reply.started": "2023-12-15T03:00:34.967687Z"
    },
    "tags": []
   },
   "outputs": [
    {
     "name": "stderr",
     "output_type": "stream",
     "text": [
      "c1: 0.0: 100%|███████████████████████████████████████████████████████████████| 7800/7800 [04:01<00:00, 32.34it/s]\n"
     ]
    },
    {
     "name": "stdout",
     "output_type": "stream",
     "text": [
      "Save to /data/rajlab1/user_data/jin/MyResearch/HDF_infer/notebooks/simu_real/../../mypkg/../results/simu_logi_setting3f_0/all-valsel-metrics_c1_0.pkl\n"
     ]
    },
    {
     "name": "stderr",
     "output_type": "stream",
     "text": [
      "c1: 0.2: 100%|███████████████████████████████████████████████████████████████| 7800/7800 [05:21<00:00, 24.30it/s]\n"
     ]
    },
    {
     "name": "stdout",
     "output_type": "stream",
     "text": [
      "Save to /data/rajlab1/user_data/jin/MyResearch/HDF_infer/notebooks/simu_real/../../mypkg/../results/simu_logi_setting3f_200/all-valsel-metrics_c1_200.pkl\n"
     ]
    },
    {
     "name": "stderr",
     "output_type": "stream",
     "text": [
      "c1: 0.4: 100%|███████████████████████████████████████████████████████████████| 7800/7800 [06:04<00:00, 21.41it/s]\n"
     ]
    },
    {
     "name": "stdout",
     "output_type": "stream",
     "text": [
      "Save to /data/rajlab1/user_data/jin/MyResearch/HDF_infer/notebooks/simu_real/../../mypkg/../results/simu_logi_setting3f_400/all-valsel-metrics_c1_400.pkl\n"
     ]
    }
   ],
   "source": [
    "def _is_success(res):\n",
    "    return res.success\n",
    "    #if \"success\" in res.keys():\n",
    "    #    return False\n",
    "    #else:\n",
    "    #    return True\n",
    "c1 = 0.0\n",
    "cur_num_rep = 200\n",
    "for c1 in c1s:\n",
    "    cur_save_dir = RES_ROOT/f\"simu_logi_{setting}_{c1*1000:.0f}\"\n",
    "    \n",
    "    def _run_fn(seed, N, lam, c1):\n",
    "        f_fil = list(cur_save_dir.glob(f\"seed_{seed:.0f}-lam_{lam*1000:.0f}-N_{N:.0f}-c1_{c1*1000:.0f}_est.pkl\"))[0]\n",
    "        t_res = load_pkl(f_fil, verbose=0)\n",
    "        valsel_metrics = edict()\n",
    "        if _is_success(t_res):\n",
    "            valsel_metrics.entropy_loss = bcross_entropy_loss(t_res.cv_probs, t_res.Y)\n",
    "            valsel_metrics.mse_loss = np.mean((t_res.cv_probs - t_res.Y)**2)\n",
    "            valsel_metrics.mae_loss = np.mean(np.abs(t_res.cv_probs - t_res.Y))\n",
    "            valsel_metrics.cv_probs = t_res.cv_probs \n",
    "            valsel_metrics.tY = t_res.Y\n",
    "        else:\n",
    "            valsel_metrics.entropy_loss = -1\n",
    "            valsel_metrics.mse_loss = -1\n",
    "            valsel_metrics.mae_loss = -1\n",
    "            valsel_metrics.cv_probs = []\n",
    "            valsel_metrics.tY = t_res.Y\n",
    "        return (seed, N, lam), valsel_metrics\n",
    "    all_coms = itertools.product(range(cur_num_rep), can_Ns, can_lams)\n",
    "    with Parallel(n_jobs=1) as parallel:\n",
    "        all_cv_errs_list = parallel(delayed(_run_fn)(cur_seed, cur_N, cur_lam, c1=c1)  \n",
    "                                 for cur_seed, cur_N, cur_lam\n",
    "                                 in tqdm(all_coms, total=cur_num_rep*len(can_Ns)*len(can_lams), \n",
    "                                                      desc=f\"c1: {c1}\"))\n",
    "    all_cv_errs = {res[0]:res[1] for res in all_cv_errs_list};\n",
    "    save_pkl(cur_save_dir/f\"all-valsel-metrics_c1_{c1*1000:.0f}.pkl\", all_cv_errs, is_force=1)"
   ]
  },
  {
   "cell_type": "code",
   "execution_count": null,
   "id": "0d86e546-f1aa-4fa9-99b2-8bc07ac031ec",
   "metadata": {},
   "outputs": [],
   "source": []
  },
  {
   "cell_type": "markdown",
   "id": "f3189271-865f-47c1-ba40-2a026eb64d28",
   "metadata": {},
   "source": [
    "## Pre-ana"
   ]
  },
  {
   "cell_type": "code",
   "execution_count": 9,
   "id": "760e6728-0c64-44b9-ac39-c0ca4c89b3d8",
   "metadata": {
    "execution": {
     "iopub.execute_input": "2023-12-23T17:32:45.002608Z",
     "iopub.status.busy": "2023-12-23T17:32:45.001966Z",
     "iopub.status.idle": "2023-12-23T17:32:45.039415Z",
     "shell.execute_reply": "2023-12-23T17:32:45.038781Z",
     "shell.execute_reply.started": "2023-12-23T17:32:45.002565Z"
    },
    "tags": []
   },
   "outputs": [
    {
     "data": {
      "text/plain": [
       "0.0"
      ]
     },
     "execution_count": 9,
     "metadata": {},
     "output_type": "execute_result"
    }
   ],
   "source": [
    "c1 = 0.0"
   ]
  },
  {
   "cell_type": "code",
   "execution_count": 10,
   "id": "f1b69959-28cc-4ceb-97e8-624abeb2f7e8",
   "metadata": {
    "execution": {
     "iopub.execute_input": "2023-12-23T17:32:45.603333Z",
     "iopub.status.busy": "2023-12-23T17:32:45.602658Z",
     "iopub.status.idle": "2023-12-23T17:32:46.530234Z",
     "shell.execute_reply": "2023-12-23T17:32:46.529739Z",
     "shell.execute_reply.started": "2023-12-23T17:32:45.603289Z"
    },
    "tags": []
   },
   "outputs": [
    {
     "name": "stdout",
     "output_type": "stream",
     "text": [
      "Load file /data/rajlab1/user_data/jin/MyResearch/HDF_infer/notebooks/simu_real/../../mypkg/../results/simu_logi_setting3aa_0/all-valsel-metrics_c1_0.pkl\n"
     ]
    },
    {
     "name": "stderr",
     "output_type": "stream",
     "text": [
      "c1: 0.0: 100%|████████████████████████████████████████████████████████████████████████████████████████████████████████████████████████████| 200/200 [00:00<00:00, 16416.71it/s]\n"
     ]
    }
   ],
   "source": [
    "def _run_fn1(seed, all_cv_errs):\n",
    "    errs_mat = []\n",
    "    for cur_N in can_Ns:\n",
    "        errs = []\n",
    "        for cur_lam in can_lams:\n",
    "            #errs.append(all_cv_errs[(seed, cur_N, cur_lam)].mse_loss)\n",
    "            errs.append(all_cv_errs[(seed, cur_N, cur_lam)].entropy_loss)\n",
    "        errs_mat.append(errs)\n",
    "    errs_mat = np.array(errs_mat)\n",
    "    return errs_mat\n",
    "cur_save_dir = RES_ROOT/f\"simu_logi_{setting}_{c1*1000:.0f}\"\n",
    "all_cv_errs = load_pkl(cur_save_dir/f\"all-valsel-metrics_c1_{c1*1000:.0f}.pkl\")\n",
    "num_seed = len(np.unique(list(map(lambda x: x[0], all_cv_errs.keys()))))\n",
    "# do not make n_jobs>1, it is very slow\n",
    "with Parallel(n_jobs=1) as parallel:\n",
    "    err_ten = parallel(delayed(_run_fn1)(cur_seed, all_cv_errs)  \n",
    "                             for cur_seed in tqdm(range(num_seed), total=num_seed, desc=f\"c1: {c1}\"))\n",
    "err_ten = np.array(err_ten);"
   ]
  },
  {
   "cell_type": "code",
   "execution_count": 11,
   "id": "d2cb5f3d-1a05-4645-b438-97c8b5bb96ba",
   "metadata": {
    "execution": {
     "iopub.execute_input": "2023-12-23T17:32:50.852520Z",
     "iopub.status.busy": "2023-12-23T17:32:50.851851Z",
     "iopub.status.idle": "2023-12-23T17:32:50.889269Z",
     "shell.execute_reply": "2023-12-23T17:32:50.888765Z",
     "shell.execute_reply.started": "2023-12-23T17:32:50.852476Z"
    },
    "tags": []
   },
   "outputs": [],
   "source": [
    "# remove NAN\n",
    "err_ten = err_ten[np.isnan(err_ten).sum(axis=(1, 2)) == 0];\n",
    "err_ten = err_ten[(err_ten==-1).sum(axis=(1, 2)) == 0];"
   ]
  },
  {
   "cell_type": "code",
   "execution_count": 12,
   "id": "6f9534a4-db3c-4606-a358-d2c4f991c763",
   "metadata": {
    "execution": {
     "iopub.execute_input": "2023-12-23T17:32:53.279756Z",
     "iopub.status.busy": "2023-12-23T17:32:53.279110Z",
     "iopub.status.idle": "2023-12-23T17:32:53.321154Z",
     "shell.execute_reply": "2023-12-23T17:32:53.320491Z",
     "shell.execute_reply.started": "2023-12-23T17:32:53.279712Z"
    },
    "tags": []
   },
   "outputs": [
    {
     "data": {
      "text/plain": [
       "(6, 0.2, 0.2)"
      ]
     },
     "execution_count": 12,
     "metadata": {},
     "output_type": "execute_result"
    }
   ],
   "source": [
    "err_ten_ses = err_ten.std(axis=0)/np.sqrt(err_ten.shape[0])\n",
    "err_m = np.mean(np.array(err_ten), axis=0)\n",
    "errs = []\n",
    "for err in err_m:\n",
    "    lam_min_idx = _get_min_idx(err)\n",
    "    errs.append((err[lam_min_idx], lam_min_idx))\n",
    "errs = np.array(errs)\n",
    "N_min_idx = np.argmin(errs[:, 0]);\n",
    "lam_min_idx = int(errs[N_min_idx][1]);\n",
    "min_opt_N, min_opt_lam = can_Ns[N_min_idx], can_lams[lam_min_idx]\n",
    "min_opt_N, min_opt_lam\n",
    "\n",
    "err_upbd = err_m[N_min_idx, lam_min_idx] + err_ten_ses[N_min_idx, lam_min_idx]; \n",
    "lam_1se_idx = np.where(err_m[N_min_idx] <= err_upbd)[0].max();\n",
    "(can_Ns[N_min_idx], can_lams[lam_min_idx], can_lams[lam_1se_idx])"
   ]
  },
  {
   "cell_type": "code",
   "execution_count": 13,
   "id": "9a21aadc-a8fa-48a9-b505-932f19dbd568",
   "metadata": {
    "execution": {
     "iopub.execute_input": "2023-12-23T17:32:55.169642Z",
     "iopub.status.busy": "2023-12-23T17:32:55.168968Z",
     "iopub.status.idle": "2023-12-23T17:32:55.490245Z",
     "shell.execute_reply": "2023-12-23T17:32:55.489787Z",
     "shell.execute_reply.started": "2023-12-23T17:32:55.169597Z"
    },
    "tags": []
   },
   "outputs": [
    {
     "data": {
      "image/png": "[encoded data removed]",
      "text/plain": [
       "<Figure size 864x432 with 2 Axes>"
      ]
     },
     "metadata": {
      "needs_background": "light"
     },
     "output_type": "display_data"
    }
   ],
   "source": [
    "err_m = np.mean(np.array(err_ten), axis=0)\n",
    "plt.figure(figsize=[12, 6])\n",
    "sns.heatmap(err_m, annot=err_m, fmt=\".3f\")\n",
    "plt.xticks(np.arange(len(can_lams))+0.5, can_lams);\n",
    "plt.yticks(np.arange(len(can_Ns))+0.5, can_Ns);"
   ]
  },
  {
   "cell_type": "code",
   "execution_count": null,
   "id": "d8df0e15-24b2-4939-84b6-78a48db6d627",
   "metadata": {},
   "outputs": [],
   "source": []
  },
  {
   "cell_type": "code",
   "execution_count": null,
   "id": "c4d346ec-0d18-460b-8eae-79f96d4cd7af",
   "metadata": {},
   "outputs": [],
   "source": []
  },
  {
   "cell_type": "markdown",
   "id": "181957a8-0dd4-48a9-bc45-02938ecc817d",
   "metadata": {},
   "source": [
    "## Step 2 (only need once)"
   ]
  },
  {
   "cell_type": "code",
   "execution_count": 14,
   "id": "bc776081-a661-4ed1-ba4e-f1eccebceac0",
   "metadata": {
    "execution": {
     "iopub.execute_input": "2023-12-23T17:33:12.951822Z",
     "iopub.status.busy": "2023-12-23T17:33:12.951173Z",
     "iopub.status.idle": "2023-12-23T17:33:13.045717Z",
     "shell.execute_reply": "2023-12-23T17:33:13.044672Z",
     "shell.execute_reply.started": "2023-12-23T17:33:12.951779Z"
    },
    "tags": []
   },
   "outputs": [],
   "source": [
    "def _test_fn(Cmat, est_res, svdinv_eps_Q=0, svdinv_eps_Psi=0):\n",
    "    torch.set_default_tensor_type(torch.DoubleTensor)\n",
    "    _paras = est_res._paras\n",
    "    _paras.svdinv_eps_Q = svdinv_eps_Q\n",
    "    _paras.svdinv_eps_Psi = svdinv_eps_Psi\n",
    "    \n",
    "    T_v = obt_test_stat_simple2(Q_mat_part=est_res.Q_mat_part,\n",
    "                               Sig_mat_part=est_res.Sig_mat_part,\n",
    "                               est_alp=est_res.est_alp, \n",
    "                               est_Gam=est_res.est_Gam,\n",
    "                               Cmat=Cmat,\n",
    "                               paras=_paras,\n",
    "                               ).item() \n",
    "    pval = chi2.sf(T_v, Cmat.shape[0]*_paras.N)\n",
    "    \n",
    "    res = edict()\n",
    "    res.T_v = T_v\n",
    "    res.pval = pval\n",
    "    res.Cmat = Cmat\n",
    "    return res"
   ]
  },
  {
   "cell_type": "code",
   "execution_count": null,
   "id": "1e999a44-3fa8-45e2-a823-32f019843d91",
   "metadata": {},
   "outputs": [],
   "source": []
  },
  {
   "cell_type": "markdown",
   "id": "22be2a19-2156-4bf5-82e3-db9c86c88f74",
   "metadata": {},
   "source": [
    "### Fix N and adaptive lam"
   ]
  },
  {
   "cell_type": "code",
   "execution_count": 15,
   "id": "bb0efead-1b70-4212-9cf8-ab5832a1bca9",
   "metadata": {
    "execution": {
     "iopub.execute_input": "2023-12-23T17:33:17.488761Z",
     "iopub.status.busy": "2023-12-23T17:33:17.488137Z",
     "iopub.status.idle": "2023-12-23T17:33:19.103998Z",
     "shell.execute_reply": "2023-12-23T17:33:19.103528Z",
     "shell.execute_reply.started": "2023-12-23T17:33:17.488718Z"
    },
    "tags": []
   },
   "outputs": [
    {
     "name": "stderr",
     "output_type": "stream",
     "text": [
      " 33%|██████████████████████████████████████████████▋                                                                                             | 1/3 [00:00<00:00,  5.50it/s]"
     ]
    },
    {
     "name": "stdout",
     "output_type": "stream",
     "text": [
      "Load file /data/rajlab1/user_data/jin/MyResearch/HDF_infer/notebooks/simu_real/../../mypkg/../results/simu_logi_setting3aa_0/all-valsel-metrics_c1_0.pkl\n",
      "Load file /data/rajlab1/user_data/jin/MyResearch/HDF_infer/notebooks/simu_real/../../mypkg/../results/simu_logi_setting3aa_200/all-valsel-metrics_c1_200.pkl\n"
     ]
    },
    {
     "name": "stderr",
     "output_type": "stream",
     "text": [
      " 67%|█████████████████████████████████████████████████████████████████████████████████████████████▎                                              | 2/3 [00:01<00:00,  1.72it/s]"
     ]
    },
    {
     "name": "stdout",
     "output_type": "stream",
     "text": [
      "Load file /data/rajlab1/user_data/jin/MyResearch/HDF_infer/notebooks/simu_real/../../mypkg/../results/simu_logi_setting3aa_400/all-valsel-metrics_c1_400.pkl\n"
     ]
    },
    {
     "name": "stderr",
     "output_type": "stream",
     "text": [
      "100%|████████████████████████████████████████████████████████████████████████████████████████████████████████████████████████████████████████████| 3/3 [00:01<00:00,  1.91it/s]\n"
     ]
    }
   ],
   "source": [
    "# then given N, find opt lam\n",
    "def _run_fn_fixN(seed, optN, all_cv_errs):\n",
    "    errs = []\n",
    "    for cur_lam in can_lams:\n",
    "        errs.append(all_cv_errs[(seed, optN, cur_lam)].entropy_loss)\n",
    "    min_idx = _get_min_idx(errs);\n",
    "    return (seed, optN, can_lams[min_idx], errs[min_idx])\n",
    "\n",
    "optN = 6\n",
    "opt_lamss = dict()\n",
    "for c1 in tqdm(c1s):\n",
    "    cur_save_dir = RES_ROOT/f\"simu_logi_{setting}_{c1*1000:.0f}\"\n",
    "    all_cv_errs = load_pkl(cur_save_dir/f\"all-valsel-metrics_c1_{c1*1000:.0f}.pkl\")\n",
    "    num_seed = len(np.unique(list(map(lambda x: x[0], all_cv_errs.keys()))))\n",
    "    opt_lams = [_run_fn_fixN(seed, optN, all_cv_errs) for seed in range(num_seed)]\n",
    "    opt_lamss[c1] = opt_lams"
   ]
  },
  {
   "cell_type": "raw",
   "id": "7a89a925-7dbe-48c4-b9ab-c219b095dd81",
   "metadata": {
    "execution": {
     "iopub.execute_input": "2023-11-28T21:07:20.491279Z",
     "iopub.status.busy": "2023-11-28T21:07:20.490615Z",
     "iopub.status.idle": "2023-11-28T21:07:20.612876Z",
     "shell.execute_reply": "2023-11-28T21:07:20.612062Z",
     "shell.execute_reply.started": "2023-11-28T21:07:20.491234Z"
    },
    "tags": []
   },
   "source": [
    "for k, v in opt_lamss.items():\n",
    "    v = np.array(v)[:, 1:3]\n",
    "    combos, cts = np.unique(v, axis=0, return_counts=1)\n",
    "    tres = np.concatenate([combos, cts.reshape(-1, 1)], axis=1)\n",
    "    display(pd.DataFrame(tres));"
   ]
  },
  {
   "cell_type": "code",
   "execution_count": 16,
   "id": "f59ef092-84d1-4e78-b292-4bac7d16a404",
   "metadata": {
    "execution": {
     "iopub.execute_input": "2023-12-23T17:33:21.867701Z",
     "iopub.status.busy": "2023-12-23T17:33:21.867129Z",
     "iopub.status.idle": "2023-12-23T17:34:13.392162Z",
     "shell.execute_reply": "2023-12-23T17:34:13.391454Z",
     "shell.execute_reply.started": "2023-12-23T17:33:21.867661Z"
    },
    "scrolled": true,
    "tags": []
   },
   "outputs": [
    {
     "name": "stderr",
     "output_type": "stream",
     "text": [
      "c1: 0: 100%|█████████████████████████████████████████████████████████████████████████████████████████████████████████████████████████████████| 200/200 [00:21<00:00,  9.43it/s]\n"
     ]
    },
    {
     "name": "stdout",
     "output_type": "stream",
     "text": [
      "Save to /data/rajlab1/user_data/jin/MyResearch/HDF_infer/notebooks/simu_real/../../mypkg/../results/simu_logi_setting3aa_0/opt_lamNsfixN_c1_0_ress.pkl\n"
     ]
    },
    {
     "name": "stderr",
     "output_type": "stream",
     "text": [
      "c1: 200: 100%|███████████████████████████████████████████████████████████████████████████████████████████████████████████████████████████████| 200/200 [00:16<00:00, 12.02it/s]\n"
     ]
    },
    {
     "name": "stdout",
     "output_type": "stream",
     "text": [
      "Save to /data/rajlab1/user_data/jin/MyResearch/HDF_infer/notebooks/simu_real/../../mypkg/../results/simu_logi_setting3aa_200/opt_lamNsfixN_c1_200_ress.pkl\n"
     ]
    },
    {
     "name": "stderr",
     "output_type": "stream",
     "text": [
      "c1: 400: 100%|███████████████████████████████████████████████████████████████████████████████████████████████████████████████████████████████| 200/200 [00:13<00:00, 14.95it/s]"
     ]
    },
    {
     "name": "stdout",
     "output_type": "stream",
     "text": [
      "Save to /data/rajlab1/user_data/jin/MyResearch/HDF_infer/notebooks/simu_real/../../mypkg/../results/simu_logi_setting3aa_400/opt_lamNsfixN_c1_400_ress.pkl\n"
     ]
    },
    {
     "name": "stderr",
     "output_type": "stream",
     "text": [
      "\n"
     ]
    }
   ],
   "source": [
    "cans = [1e-5, 3e-6, 1e-6, 3e-7, 1e-7, 3e-8, 1e-8, 3e-9, 1e-9, 3e-10, 0]\n",
    "all_coms = [(can, can) for can in cans]\n",
    "#all_coms = list(itertools.product(cans, cans))\n",
    "for c1 in c1s:\n",
    "    cur_save_dir = RES_ROOT/f\"simu_logi_{setting}_{c1*1000:.0f}\"\n",
    "    opt_lamNs =  opt_lamss[c1]\n",
    "    ress = []\n",
    "    for cur_seed, cur_N, cur_lam, _ in tqdm(opt_lamNs, desc=f\"c1: {c1*1000:.0f}\"):\n",
    "        f1_name = f\"seed_{cur_seed:.0f}-lam_{cur_lam*1000:.0f}-N_{cur_N:.0f}-c1_{c1*1000:.0f}_est.pkl\"\n",
    "        res1 = load_pkl(cur_save_dir/f1_name, verbose=False);\n",
    "        res = []\n",
    "        with Parallel(n_jobs=20) as parallel:\n",
    "            res = parallel(delayed(_test_fn)(Cmat=Cmat, est_res=res1, \n",
    "                                             svdinv_eps_Q=rtols[0], \n",
    "                                             svdinv_eps_Psi=rtols[1]) for rtols\n",
    "                                             in all_coms)\n",
    "    \n",
    "        ress.append(res)\n",
    "    ress = np.array(ress);\n",
    "    save_pkl(cur_save_dir/f\"opt_lamNsfixN_c1_{c1*1000:.0f}_ress.pkl\", ress, is_force=1)"
   ]
  },
  {
   "cell_type": "code",
   "execution_count": null,
   "id": "faafd3f6-c6d4-4fc0-92b1-df0cce5f56d5",
   "metadata": {},
   "outputs": [],
   "source": []
  },
  {
   "cell_type": "markdown",
   "id": "eebcdc95-9745-4ca3-aa64-54b9dee57d1a",
   "metadata": {},
   "source": [
    "### Fix N and adaptive lam but 1se"
   ]
  },
  {
   "cell_type": "code",
   "execution_count": null,
   "id": "61c90327-1fa2-4e35-851b-9c71b0a4524c",
   "metadata": {},
   "outputs": [],
   "source": [
    "def _get_cv_se(cv_errs, num_fold):\n",
    "    \"\"\"Get CV SE to use the one standard error rule.\n",
    "        (from zotero://select/library/items/BPMP3MBP)\n",
    "    \"\"\"\n",
    "    cv_errs_mul = cv_errs.reshape(num_fold, -1);\n",
    "    sd = np.std(np.mean(cv_errs_mul**2, axis=-1))\n",
    "    se = sd/np.sqrt(num_fold)\n",
    "    return se"
   ]
  },
  {
   "cell_type": "code",
   "execution_count": 85,
   "id": "88c53f56-3290-429f-89a5-f675044f7977",
   "metadata": {
    "execution": {
     "iopub.execute_input": "2023-10-23T18:43:36.680150Z",
     "iopub.status.busy": "2023-10-23T18:43:36.679526Z",
     "iopub.status.idle": "2023-10-23T18:43:49.900399Z",
     "shell.execute_reply": "2023-10-23T18:43:49.899895Z",
     "shell.execute_reply.started": "2023-10-23T18:43:36.680101Z"
    },
    "tags": []
   },
   "outputs": [
    {
     "name": "stdout",
     "output_type": "stream",
     "text": [
      "Load file /data/rajlab1/user_data/jin/MyResearch/HDF_infer/notebooks/simu_cmp2sinica/../../mypkg/../results/simu_setting4d_0/all-valsel-metrics_c1_0.pkl\n"
     ]
    },
    {
     "name": "stderr",
     "output_type": "stream",
     "text": [
      "c1: 0.0: 100%|██████████████████████████████████████████████████████████████████████████████████████████████████████████████████████████████| 200/200 [00:00<00:00, 753.69it/s]\n"
     ]
    },
    {
     "name": "stdout",
     "output_type": "stream",
     "text": [
      "Load file /data/rajlab1/user_data/jin/MyResearch/HDF_infer/notebooks/simu_cmp2sinica/../../mypkg/../results/simu_setting4d_0/all-valsel-metrics_c1_0.pkl\n"
     ]
    },
    {
     "name": "stderr",
     "output_type": "stream",
     "text": [
      "c1: 0.0: 100%|██████████████████████████████████████████████████████████████████████████████████████████████████████████████████████████████| 200/200 [00:00<00:00, 626.02it/s]\n"
     ]
    },
    {
     "name": "stdout",
     "output_type": "stream",
     "text": [
      "Load file /data/rajlab1/user_data/jin/MyResearch/HDF_infer/notebooks/simu_cmp2sinica/../../mypkg/../results/simu_setting4d_200/all-valsel-metrics_c1_200.pkl\n"
     ]
    },
    {
     "name": "stderr",
     "output_type": "stream",
     "text": [
      "c1: 0.2: 100%|██████████████████████████████████████████████████████████████████████████████████████████████████████████████████████████████| 200/200 [00:00<00:00, 700.49it/s]\n"
     ]
    },
    {
     "name": "stdout",
     "output_type": "stream",
     "text": [
      "Load file /data/rajlab1/user_data/jin/MyResearch/HDF_infer/notebooks/simu_cmp2sinica/../../mypkg/../results/simu_setting4d_200/all-valsel-metrics_c1_200.pkl\n"
     ]
    },
    {
     "name": "stderr",
     "output_type": "stream",
     "text": [
      "c1: 0.2: 100%|██████████████████████████████████████████████████████████████████████████████████████████████████████████████████████████████| 200/200 [00:00<00:00, 631.33it/s]\n"
     ]
    },
    {
     "name": "stdout",
     "output_type": "stream",
     "text": [
      "Load file /data/rajlab1/user_data/jin/MyResearch/HDF_infer/notebooks/simu_cmp2sinica/../../mypkg/../results/simu_setting4d_400/all-valsel-metrics_c1_400.pkl\n"
     ]
    },
    {
     "name": "stderr",
     "output_type": "stream",
     "text": [
      "c1: 0.4: 100%|██████████████████████████████████████████████████████████████████████████████████████████████████████████████████████████████| 200/200 [00:00<00:00, 705.06it/s]\n"
     ]
    },
    {
     "name": "stdout",
     "output_type": "stream",
     "text": [
      "Load file /data/rajlab1/user_data/jin/MyResearch/HDF_infer/notebooks/simu_cmp2sinica/../../mypkg/../results/simu_setting4d_400/all-valsel-metrics_c1_400.pkl\n"
     ]
    },
    {
     "name": "stderr",
     "output_type": "stream",
     "text": [
      "c1: 0.4: 100%|██████████████████████████████████████████████████████████████████████████████████████████████████████████████████████████████| 200/200 [00:00<00:00, 624.47it/s]\n"
     ]
    }
   ],
   "source": [
    "optN = 6\n",
    "c1 = 0\n",
    "optlamss_1se = {}\n",
    "for c1 in c1s:\n",
    "    def _run_fn1(seed, all_cv_errs):\n",
    "        errs_mat = []\n",
    "        for cur_N in can_Ns:\n",
    "            errs = []\n",
    "            for cur_lam in can_lams:\n",
    "                #errs.append(all_cv_errs[(seed, cur_N, cur_lam)].BIC)\n",
    "                errs.append(_err_fn(all_cv_errs[(seed, cur_N, cur_lam)].cv_errs))\n",
    "            errs_mat.append(errs)\n",
    "        errs_mat = np.array(errs_mat)\n",
    "        return errs_mat\n",
    "    cur_save_dir = RES_ROOT/f\"simu_{setting}_{c1*1000:.0f}\"\n",
    "    all_cv_errs = load_pkl(cur_save_dir/f\"all-valsel-metrics_c1_{c1*1000:.0f}.pkl\")\n",
    "    num_seed = len(np.unique(list(map(lambda x: x[0], all_cv_errs.keys()))))\n",
    "    # do not make n_jobs>1, it is very slow\n",
    "    with Parallel(n_jobs=1) as parallel:\n",
    "        err_ten = parallel(delayed(_run_fn1)(cur_seed, all_cv_errs)  \n",
    "                                 for cur_seed in tqdm(range(num_seed), total=num_seed, desc=f\"c1: {c1}\"))\n",
    "    def _run_fn2(seed, all_cv_errs):\n",
    "        errs_mat = []\n",
    "        for cur_N in can_Ns:\n",
    "            errs = []\n",
    "            for cur_lam in can_lams:\n",
    "                #errs.append(all_cv_errs[(seed, cur_N, cur_lam)].BIC)\n",
    "                errs.append(_get_cv_se(all_cv_errs[(seed, cur_N, cur_lam)].cv_errs, num_fold=20))\n",
    "            errs_mat.append(errs)\n",
    "        errs_mat = np.array(errs_mat)\n",
    "        return errs_mat\n",
    "    cur_save_dir = RES_ROOT/f\"simu_{setting}_{c1*1000:.0f}\"\n",
    "    all_cv_errs = load_pkl(cur_save_dir/f\"all-valsel-metrics_c1_{c1*1000:.0f}.pkl\")\n",
    "    num_seed = len(np.unique(list(map(lambda x: x[0], all_cv_errs.keys()))))\n",
    "    # do not make n_jobs>1, it is very slow\n",
    "    with Parallel(n_jobs=1) as parallel:\n",
    "        err_se_ten = parallel(delayed(_run_fn2)(cur_seed, all_cv_errs)  \n",
    "                                 for cur_seed in tqdm(range(num_seed), total=num_seed, desc=f\"c1: {c1}\"))\n",
    "    err_ten = np.array(err_ten);\n",
    "    err_se_ten = np.array(err_se_ten);\n",
    "    \n",
    "    err_ten_optN = err_ten[:, can_Ns.index(optN)]\n",
    "    err_se_ten_optN = err_se_ten[:, can_Ns.index(optN)];\n",
    "    optlams_1se = []\n",
    "    for cur_seed in range(num_rep):\n",
    "        min_idx_lam = _get_min_idx(err_ten_optN[cur_seed])\n",
    "        upbd = err_ten_optN[cur_seed, min_idx_lam] + err_se_ten_optN[cur_seed, min_idx_lam]\n",
    "        min1se_idx_lam = np.max(np.where(err_ten_optN[cur_seed]<=upbd)[0])\n",
    "        optlams_1se.append((cur_seed, optN, can_lams[min1se_idx_lam]))\n",
    "    optlamss_1se[c1] = optlams_1se"
   ]
  },
  {
   "cell_type": "code",
   "execution_count": 87,
   "id": "5013f70d-a458-4504-88b7-5eef2f6d0620",
   "metadata": {
    "execution": {
     "iopub.execute_input": "2023-10-23T18:44:25.598811Z",
     "iopub.status.busy": "2023-10-23T18:44:25.598046Z",
     "iopub.status.idle": "2023-10-23T18:45:17.109626Z",
     "shell.execute_reply": "2023-10-23T18:45:17.108211Z",
     "shell.execute_reply.started": "2023-10-23T18:44:25.598752Z"
    },
    "tags": []
   },
   "outputs": [
    {
     "name": "stderr",
     "output_type": "stream",
     "text": [
      "c1: 0: 100%|█████████████████████████████████████████████████████████████████████████████████████████████████████████████████████████████████| 200/200 [00:19<00:00, 10.25it/s]\n"
     ]
    },
    {
     "name": "stdout",
     "output_type": "stream",
     "text": [
      "Save to /data/rajlab1/user_data/jin/MyResearch/HDF_infer/notebooks/simu_cmp2sinica/../../mypkg/../results/simu_setting4d_0/opt_lamNsfixN1se_c1_0_ress.pkl\n"
     ]
    },
    {
     "name": "stderr",
     "output_type": "stream",
     "text": [
      "c1: 200: 100%|███████████████████████████████████████████████████████████████████████████████████████████████████████████████████████████████| 200/200 [00:16<00:00, 11.91it/s]\n"
     ]
    },
    {
     "name": "stdout",
     "output_type": "stream",
     "text": [
      "Save to /data/rajlab1/user_data/jin/MyResearch/HDF_infer/notebooks/simu_cmp2sinica/../../mypkg/../results/simu_setting4d_200/opt_lamNsfixN1se_c1_200_ress.pkl\n"
     ]
    },
    {
     "name": "stderr",
     "output_type": "stream",
     "text": [
      "c1: 400: 100%|███████████████████████████████████████████████████████████████████████████████████████████████████████████████████████████████| 200/200 [00:14<00:00, 13.51it/s]\n"
     ]
    },
    {
     "name": "stdout",
     "output_type": "stream",
     "text": [
      "Save to /data/rajlab1/user_data/jin/MyResearch/HDF_infer/notebooks/simu_cmp2sinica/../../mypkg/../results/simu_setting4d_400/opt_lamNsfixN1se_c1_400_ress.pkl\n"
     ]
    }
   ],
   "source": [
    "# for adaptive lam N\n",
    "cans = [1e-5, 3e-6, 1e-6, 3e-7, 1e-7, 3e-8, 1e-8, 3e-9, 1e-9, 3e-10, 0]\n",
    "all_coms = [(can, can) for can in cans]\n",
    "#all_coms = list(itertools.product(cans, cans))\n",
    "for c1 in c1s:\n",
    "    cur_save_dir = RES_ROOT/f\"simu_{setting}_{c1*1000:.0f}\"\n",
    "    optlams_1se =  optlamss_1se[c1]\n",
    "    ress = []\n",
    "    for cur_seed, cur_N, cur_lam in tqdm(optlams_1se, desc=f\"c1: {c1*1000:.0f}\"):\n",
    "        f1_name = f\"seed_{cur_seed:.0f}-lam_{cur_lam*1000:.0f}-N_{cur_N:.0f}-c1_{c1*1000:.0f}_est.pkl\"\n",
    "        res1 = load_pkl(cur_save_dir/f1_name, verbose=False);\n",
    "        res = []\n",
    "        with Parallel(n_jobs=20) as parallel:\n",
    "            res = parallel(delayed(_test_fn1)(Cmat=Cmat, est_res=res1, \n",
    "                                             svdinv_eps_Q=rtols[0], \n",
    "                                             svdinv_eps_Psi=rtols[1]) for rtols\n",
    "                                             in all_coms)\n",
    "    \n",
    "        ress.append(res)\n",
    "    ress = np.array(ress);\n",
    "    save_pkl(cur_save_dir/f\"opt_lamNsfixN1se_c1_{c1*1000:.0f}_ress.pkl\", ress, is_force=1)"
   ]
  },
  {
   "cell_type": "code",
   "execution_count": null,
   "id": "8e55dfd1-c6b8-45bb-afcb-4f6151c42239",
   "metadata": {},
   "outputs": [],
   "source": []
  },
  {
   "cell_type": "markdown",
   "id": "cdbb86ff-b4df-4fd5-95b5-35ebb0d6bd12",
   "metadata": {},
   "source": [
    "### Adaptive N and lam"
   ]
  },
  {
   "cell_type": "code",
   "execution_count": 21,
   "id": "b54f2daa-da4e-43a5-9fbd-6615fa32465e",
   "metadata": {
    "execution": {
     "iopub.execute_input": "2023-12-23T17:34:57.424547Z",
     "iopub.status.busy": "2023-12-23T17:34:57.423983Z",
     "iopub.status.idle": "2023-12-23T17:34:58.062217Z",
     "shell.execute_reply": "2023-12-23T17:34:58.061715Z",
     "shell.execute_reply.started": "2023-12-23T17:34:57.424504Z"
    },
    "tags": []
   },
   "outputs": [
    {
     "name": "stdout",
     "output_type": "stream",
     "text": [
      "Load file /data/rajlab1/user_data/jin/MyResearch/HDF_infer/notebooks/simu_real/../../mypkg/../results/simu_logi_setting3aa_0/all-valsel-metrics_c1_0.pkl\n"
     ]
    },
    {
     "name": "stderr",
     "output_type": "stream",
     "text": [
      "c1: 0.0: 100%|█████████████████████████████████████████████████████████████████████████████████████████████████████████████████████████████| 200/200 [00:00<00:00, 4757.69it/s]\n"
     ]
    },
    {
     "name": "stdout",
     "output_type": "stream",
     "text": [
      "Load file /data/rajlab1/user_data/jin/MyResearch/HDF_infer/notebooks/simu_real/../../mypkg/../results/simu_logi_setting3aa_200/all-valsel-metrics_c1_200.pkl\n"
     ]
    },
    {
     "name": "stderr",
     "output_type": "stream",
     "text": [
      "c1: 0.2: 100%|█████████████████████████████████████████████████████████████████████████████████████████████████████████████████████████████| 200/200 [00:00<00:00, 4826.25it/s]\n"
     ]
    },
    {
     "name": "stdout",
     "output_type": "stream",
     "text": [
      "Load file /data/rajlab1/user_data/jin/MyResearch/HDF_infer/notebooks/simu_real/../../mypkg/../results/simu_logi_setting3aa_400/all-valsel-metrics_c1_400.pkl\n"
     ]
    },
    {
     "name": "stderr",
     "output_type": "stream",
     "text": [
      "c1: 0.4: 100%|█████████████████████████████████████████████████████████████████████████████████████████████████████████████████████████████| 200/200 [00:00<00:00, 4880.99it/s]\n"
     ]
    }
   ],
   "source": [
    "def _run_fn(seed, all_cv_errs):\n",
    "    errs_N = []\n",
    "    for cur_N in can_Ns:\n",
    "        errs = []\n",
    "        for cur_lam in can_lams:\n",
    "            errs.append(all_cv_errs[(seed, cur_N, cur_lam)].entropy_loss)\n",
    "        min_idx = _get_min_idx(errs);\n",
    "        errs_N.append((seed, cur_N, can_lams[min_idx], errs[min_idx]))\n",
    "    errs_N_sorted = sorted(errs_N, key=lambda x:x[-1]);\n",
    "    return errs_N_sorted[0]\n",
    "\n",
    "opt_lamNss = dict()\n",
    "for c1 in c1s:\n",
    "    cur_save_dir = RES_ROOT/f\"simu_logi_{setting}_{c1*1000:.0f}\"\n",
    "    all_cv_errs = load_pkl(cur_save_dir/f\"all-valsel-metrics_c1_{c1*1000:.0f}.pkl\")\n",
    "    num_seed = len(np.unique(list(map(lambda x: x[0], all_cv_errs.keys()))))\n",
    "    # do not make n_jobs>1, it is very slow\n",
    "    with Parallel(n_jobs=1) as parallel:\n",
    "        opt_lamNs = parallel(delayed(_run_fn)(cur_seed, all_cv_errs)  \n",
    "                             for cur_seed in tqdm(range(num_seed), total=num_seed, desc=f\"c1: {c1}\"))\n",
    "    opt_lamNss[c1] = opt_lamNs"
   ]
  },
  {
   "cell_type": "code",
   "execution_count": 22,
   "id": "72469e51-ecd0-45b6-8ae5-bfa4b1f5a4cc",
   "metadata": {
    "execution": {
     "iopub.execute_input": "2023-12-23T17:35:00.047742Z",
     "iopub.status.busy": "2023-12-23T17:35:00.047083Z",
     "iopub.status.idle": "2023-12-23T17:35:44.436650Z",
     "shell.execute_reply": "2023-12-23T17:35:44.435976Z",
     "shell.execute_reply.started": "2023-12-23T17:35:00.047697Z"
    },
    "scrolled": true,
    "tags": []
   },
   "outputs": [
    {
     "name": "stderr",
     "output_type": "stream",
     "text": [
      "c1: 0: 100%|█████████████████████████████████████████████████████████████████████████████████████████████████████████████████████████████████| 200/200 [00:15<00:00, 13.03it/s]\n"
     ]
    },
    {
     "name": "stdout",
     "output_type": "stream",
     "text": [
      "Save to /data/rajlab1/user_data/jin/MyResearch/HDF_infer/notebooks/simu_real/../../mypkg/../results/simu_logi_setting3aa_0/opt_lamNs_c1_0_ress.pkl\n"
     ]
    },
    {
     "name": "stderr",
     "output_type": "stream",
     "text": [
      "c1: 200: 100%|███████████████████████████████████████████████████████████████████████████████████████████████████████████████████████████████| 200/200 [00:14<00:00, 13.64it/s]\n"
     ]
    },
    {
     "name": "stdout",
     "output_type": "stream",
     "text": [
      "Save to /data/rajlab1/user_data/jin/MyResearch/HDF_infer/notebooks/simu_real/../../mypkg/../results/simu_logi_setting3aa_200/opt_lamNs_c1_200_ress.pkl\n"
     ]
    },
    {
     "name": "stderr",
     "output_type": "stream",
     "text": [
      "c1: 400: 100%|███████████████████████████████████████████████████████████████████████████████████████████████████████████████████████████████| 200/200 [00:14<00:00, 14.20it/s]"
     ]
    },
    {
     "name": "stdout",
     "output_type": "stream",
     "text": [
      "Save to /data/rajlab1/user_data/jin/MyResearch/HDF_infer/notebooks/simu_real/../../mypkg/../results/simu_logi_setting3aa_400/opt_lamNs_c1_400_ress.pkl\n"
     ]
    },
    {
     "name": "stderr",
     "output_type": "stream",
     "text": [
      "\n"
     ]
    }
   ],
   "source": [
    "# for adaptive lam N\n",
    "cans = [1e-5, 3e-6, 1e-6, 3e-7, 1e-7, 3e-8, 1e-8, 3e-9, 1e-9, 3e-10, 0]\n",
    "all_coms = [(can, can) for can in cans]\n",
    "#all_coms = list(itertools.product(cans, cans))\n",
    "for c1 in c1s:\n",
    "    cur_save_dir = RES_ROOT/f\"simu_logi_{setting}_{c1*1000:.0f}\"\n",
    "    opt_lamNs =  opt_lamNss[c1]\n",
    "    ress = []\n",
    "    for cur_seed, cur_N, cur_lam, _ in tqdm(opt_lamNs, desc=f\"c1: {c1*1000:.0f}\"):\n",
    "        f1_name = f\"seed_{cur_seed:.0f}-lam_{cur_lam*1000:.0f}-N_{cur_N:.0f}-c1_{c1*1000:.0f}_est.pkl\"\n",
    "        res1 = load_pkl(cur_save_dir/f1_name, verbose=False);\n",
    "        res = []\n",
    "        with Parallel(n_jobs=20) as parallel:\n",
    "            res = parallel(delayed(_test_fn)(Cmat=Cmat, est_res=res1, \n",
    "                                             svdinv_eps_Q=rtols[0], \n",
    "                                             svdinv_eps_Psi=rtols[1]) for rtols\n",
    "                                             in all_coms)\n",
    "    \n",
    "        ress.append(res)\n",
    "    ress = np.array(ress);\n",
    "    save_pkl(cur_save_dir/f\"opt_lamNs_c1_{c1*1000:.0f}_ress.pkl\", ress, is_force=1)"
   ]
  },
  {
   "cell_type": "code",
   "execution_count": 23,
   "id": "0eec1aec-5497-42c4-b829-a32cee581e54",
   "metadata": {
    "execution": {
     "iopub.execute_input": "2023-12-23T17:35:46.659177Z",
     "iopub.status.busy": "2023-12-23T17:35:46.658480Z",
     "iopub.status.idle": "2023-12-23T17:35:46.772659Z",
     "shell.execute_reply": "2023-12-23T17:35:46.772190Z",
     "shell.execute_reply.started": "2023-12-23T17:35:46.659130Z"
    },
    "scrolled": true,
    "tags": []
   },
   "outputs": [
    {
     "data": {
      "text/html": [
       "<div>\n",
       "<style scoped>\n",
       "    .dataframe tbody tr th:only-of-type {\n",
       "        vertical-align: middle;\n",
       "    }\n",
       "\n",
       "    .dataframe tbody tr th {\n",
       "        vertical-align: top;\n",
       "    }\n",
       "\n",
       "    .dataframe thead th {\n",
       "        text-align: right;\n",
       "    }\n",
       "</style>\n",
       "<table border=\"1\" class=\"dataframe\">\n",
       "  <thead>\n",
       "    <tr style=\"text-align: right;\">\n",
       "      <th></th>\n",
       "      <th>0</th>\n",
       "      <th>1</th>\n",
       "      <th>2</th>\n",
       "    </tr>\n",
       "  </thead>\n",
       "  <tbody>\n",
       "    <tr>\n",
       "      <th>0</th>\n",
       "      <td>4.0</td>\n",
       "      <td>0.13</td>\n",
       "      <td>2.0</td>\n",
       "    </tr>\n",
       "    <tr>\n",
       "      <th>1</th>\n",
       "      <td>4.0</td>\n",
       "      <td>0.15</td>\n",
       "      <td>1.0</td>\n",
       "    </tr>\n",
       "    <tr>\n",
       "      <th>2</th>\n",
       "      <td>6.0</td>\n",
       "      <td>0.15</td>\n",
       "      <td>6.0</td>\n",
       "    </tr>\n",
       "    <tr>\n",
       "      <th>3</th>\n",
       "      <td>6.0</td>\n",
       "      <td>0.18</td>\n",
       "      <td>24.0</td>\n",
       "    </tr>\n",
       "    <tr>\n",
       "      <th>4</th>\n",
       "      <td>6.0</td>\n",
       "      <td>0.20</td>\n",
       "      <td>48.0</td>\n",
       "    </tr>\n",
       "    <tr>\n",
       "      <th>5</th>\n",
       "      <td>6.0</td>\n",
       "      <td>0.25</td>\n",
       "      <td>36.0</td>\n",
       "    </tr>\n",
       "    <tr>\n",
       "      <th>6</th>\n",
       "      <td>6.0</td>\n",
       "      <td>0.30</td>\n",
       "      <td>2.0</td>\n",
       "    </tr>\n",
       "    <tr>\n",
       "      <th>7</th>\n",
       "      <td>8.0</td>\n",
       "      <td>0.20</td>\n",
       "      <td>1.0</td>\n",
       "    </tr>\n",
       "    <tr>\n",
       "      <th>8</th>\n",
       "      <td>8.0</td>\n",
       "      <td>0.25</td>\n",
       "      <td>7.0</td>\n",
       "    </tr>\n",
       "    <tr>\n",
       "      <th>9</th>\n",
       "      <td>8.0</td>\n",
       "      <td>0.30</td>\n",
       "      <td>16.0</td>\n",
       "    </tr>\n",
       "    <tr>\n",
       "      <th>10</th>\n",
       "      <td>10.0</td>\n",
       "      <td>0.25</td>\n",
       "      <td>1.0</td>\n",
       "    </tr>\n",
       "    <tr>\n",
       "      <th>11</th>\n",
       "      <td>10.0</td>\n",
       "      <td>0.30</td>\n",
       "      <td>9.0</td>\n",
       "    </tr>\n",
       "    <tr>\n",
       "      <th>12</th>\n",
       "      <td>10.0</td>\n",
       "      <td>0.35</td>\n",
       "      <td>1.0</td>\n",
       "    </tr>\n",
       "    <tr>\n",
       "      <th>13</th>\n",
       "      <td>12.0</td>\n",
       "      <td>0.25</td>\n",
       "      <td>1.0</td>\n",
       "    </tr>\n",
       "    <tr>\n",
       "      <th>14</th>\n",
       "      <td>12.0</td>\n",
       "      <td>0.30</td>\n",
       "      <td>38.0</td>\n",
       "    </tr>\n",
       "    <tr>\n",
       "      <th>15</th>\n",
       "      <td>12.0</td>\n",
       "      <td>0.35</td>\n",
       "      <td>7.0</td>\n",
       "    </tr>\n",
       "  </tbody>\n",
       "</table>\n",
       "</div>"
      ],
      "text/plain": [
       "       0     1     2\n",
       "0    4.0  0.13   2.0\n",
       "1    4.0  0.15   1.0\n",
       "2    6.0  0.15   6.0\n",
       "3    6.0  0.18  24.0\n",
       "4    6.0  0.20  48.0\n",
       "5    6.0  0.25  36.0\n",
       "6    6.0  0.30   2.0\n",
       "7    8.0  0.20   1.0\n",
       "8    8.0  0.25   7.0\n",
       "9    8.0  0.30  16.0\n",
       "10  10.0  0.25   1.0\n",
       "11  10.0  0.30   9.0\n",
       "12  10.0  0.35   1.0\n",
       "13  12.0  0.25   1.0\n",
       "14  12.0  0.30  38.0\n",
       "15  12.0  0.35   7.0"
      ]
     },
     "metadata": {},
     "output_type": "display_data"
    },
    {
     "data": {
      "text/html": [
       "<div>\n",
       "<style scoped>\n",
       "    .dataframe tbody tr th:only-of-type {\n",
       "        vertical-align: middle;\n",
       "    }\n",
       "\n",
       "    .dataframe tbody tr th {\n",
       "        vertical-align: top;\n",
       "    }\n",
       "\n",
       "    .dataframe thead th {\n",
       "        text-align: right;\n",
       "    }\n",
       "</style>\n",
       "<table border=\"1\" class=\"dataframe\">\n",
       "  <thead>\n",
       "    <tr style=\"text-align: right;\">\n",
       "      <th></th>\n",
       "      <th>0</th>\n",
       "      <th>1</th>\n",
       "      <th>2</th>\n",
       "    </tr>\n",
       "  </thead>\n",
       "  <tbody>\n",
       "    <tr>\n",
       "      <th>0</th>\n",
       "      <td>4.0</td>\n",
       "      <td>0.10</td>\n",
       "      <td>1.0</td>\n",
       "    </tr>\n",
       "    <tr>\n",
       "      <th>1</th>\n",
       "      <td>4.0</td>\n",
       "      <td>0.13</td>\n",
       "      <td>1.0</td>\n",
       "    </tr>\n",
       "    <tr>\n",
       "      <th>2</th>\n",
       "      <td>4.0</td>\n",
       "      <td>0.20</td>\n",
       "      <td>1.0</td>\n",
       "    </tr>\n",
       "    <tr>\n",
       "      <th>3</th>\n",
       "      <td>6.0</td>\n",
       "      <td>0.15</td>\n",
       "      <td>13.0</td>\n",
       "    </tr>\n",
       "    <tr>\n",
       "      <th>4</th>\n",
       "      <td>6.0</td>\n",
       "      <td>0.18</td>\n",
       "      <td>21.0</td>\n",
       "    </tr>\n",
       "    <tr>\n",
       "      <th>5</th>\n",
       "      <td>6.0</td>\n",
       "      <td>0.20</td>\n",
       "      <td>60.0</td>\n",
       "    </tr>\n",
       "    <tr>\n",
       "      <th>6</th>\n",
       "      <td>6.0</td>\n",
       "      <td>0.25</td>\n",
       "      <td>23.0</td>\n",
       "    </tr>\n",
       "    <tr>\n",
       "      <th>7</th>\n",
       "      <td>6.0</td>\n",
       "      <td>0.30</td>\n",
       "      <td>3.0</td>\n",
       "    </tr>\n",
       "    <tr>\n",
       "      <th>8</th>\n",
       "      <td>8.0</td>\n",
       "      <td>0.20</td>\n",
       "      <td>4.0</td>\n",
       "    </tr>\n",
       "    <tr>\n",
       "      <th>9</th>\n",
       "      <td>8.0</td>\n",
       "      <td>0.25</td>\n",
       "      <td>10.0</td>\n",
       "    </tr>\n",
       "    <tr>\n",
       "      <th>10</th>\n",
       "      <td>8.0</td>\n",
       "      <td>0.30</td>\n",
       "      <td>14.0</td>\n",
       "    </tr>\n",
       "    <tr>\n",
       "      <th>11</th>\n",
       "      <td>10.0</td>\n",
       "      <td>0.25</td>\n",
       "      <td>5.0</td>\n",
       "    </tr>\n",
       "    <tr>\n",
       "      <th>12</th>\n",
       "      <td>10.0</td>\n",
       "      <td>0.30</td>\n",
       "      <td>11.0</td>\n",
       "    </tr>\n",
       "    <tr>\n",
       "      <th>13</th>\n",
       "      <td>12.0</td>\n",
       "      <td>0.30</td>\n",
       "      <td>30.0</td>\n",
       "    </tr>\n",
       "    <tr>\n",
       "      <th>14</th>\n",
       "      <td>12.0</td>\n",
       "      <td>0.35</td>\n",
       "      <td>3.0</td>\n",
       "    </tr>\n",
       "  </tbody>\n",
       "</table>\n",
       "</div>"
      ],
      "text/plain": [
       "       0     1     2\n",
       "0    4.0  0.10   1.0\n",
       "1    4.0  0.13   1.0\n",
       "2    4.0  0.20   1.0\n",
       "3    6.0  0.15  13.0\n",
       "4    6.0  0.18  21.0\n",
       "5    6.0  0.20  60.0\n",
       "6    6.0  0.25  23.0\n",
       "7    6.0  0.30   3.0\n",
       "8    8.0  0.20   4.0\n",
       "9    8.0  0.25  10.0\n",
       "10   8.0  0.30  14.0\n",
       "11  10.0  0.25   5.0\n",
       "12  10.0  0.30  11.0\n",
       "13  12.0  0.30  30.0\n",
       "14  12.0  0.35   3.0"
      ]
     },
     "metadata": {},
     "output_type": "display_data"
    },
    {
     "data": {
      "text/html": [
       "<div>\n",
       "<style scoped>\n",
       "    .dataframe tbody tr th:only-of-type {\n",
       "        vertical-align: middle;\n",
       "    }\n",
       "\n",
       "    .dataframe tbody tr th {\n",
       "        vertical-align: top;\n",
       "    }\n",
       "\n",
       "    .dataframe thead th {\n",
       "        text-align: right;\n",
       "    }\n",
       "</style>\n",
       "<table border=\"1\" class=\"dataframe\">\n",
       "  <thead>\n",
       "    <tr style=\"text-align: right;\">\n",
       "      <th></th>\n",
       "      <th>0</th>\n",
       "      <th>1</th>\n",
       "      <th>2</th>\n",
       "    </tr>\n",
       "  </thead>\n",
       "  <tbody>\n",
       "    <tr>\n",
       "      <th>0</th>\n",
       "      <td>4.0</td>\n",
       "      <td>0.15</td>\n",
       "      <td>1.0</td>\n",
       "    </tr>\n",
       "    <tr>\n",
       "      <th>1</th>\n",
       "      <td>6.0</td>\n",
       "      <td>0.15</td>\n",
       "      <td>6.0</td>\n",
       "    </tr>\n",
       "    <tr>\n",
       "      <th>2</th>\n",
       "      <td>6.0</td>\n",
       "      <td>0.18</td>\n",
       "      <td>27.0</td>\n",
       "    </tr>\n",
       "    <tr>\n",
       "      <th>3</th>\n",
       "      <td>6.0</td>\n",
       "      <td>0.20</td>\n",
       "      <td>50.0</td>\n",
       "    </tr>\n",
       "    <tr>\n",
       "      <th>4</th>\n",
       "      <td>6.0</td>\n",
       "      <td>0.25</td>\n",
       "      <td>27.0</td>\n",
       "    </tr>\n",
       "    <tr>\n",
       "      <th>5</th>\n",
       "      <td>6.0</td>\n",
       "      <td>0.30</td>\n",
       "      <td>2.0</td>\n",
       "    </tr>\n",
       "    <tr>\n",
       "      <th>6</th>\n",
       "      <td>8.0</td>\n",
       "      <td>0.20</td>\n",
       "      <td>2.0</td>\n",
       "    </tr>\n",
       "    <tr>\n",
       "      <th>7</th>\n",
       "      <td>8.0</td>\n",
       "      <td>0.25</td>\n",
       "      <td>14.0</td>\n",
       "    </tr>\n",
       "    <tr>\n",
       "      <th>8</th>\n",
       "      <td>8.0</td>\n",
       "      <td>0.30</td>\n",
       "      <td>7.0</td>\n",
       "    </tr>\n",
       "    <tr>\n",
       "      <th>9</th>\n",
       "      <td>10.0</td>\n",
       "      <td>0.25</td>\n",
       "      <td>10.0</td>\n",
       "    </tr>\n",
       "    <tr>\n",
       "      <th>10</th>\n",
       "      <td>10.0</td>\n",
       "      <td>0.30</td>\n",
       "      <td>9.0</td>\n",
       "    </tr>\n",
       "    <tr>\n",
       "      <th>11</th>\n",
       "      <td>12.0</td>\n",
       "      <td>0.10</td>\n",
       "      <td>1.0</td>\n",
       "    </tr>\n",
       "    <tr>\n",
       "      <th>12</th>\n",
       "      <td>12.0</td>\n",
       "      <td>0.18</td>\n",
       "      <td>1.0</td>\n",
       "    </tr>\n",
       "    <tr>\n",
       "      <th>13</th>\n",
       "      <td>12.0</td>\n",
       "      <td>0.25</td>\n",
       "      <td>7.0</td>\n",
       "    </tr>\n",
       "    <tr>\n",
       "      <th>14</th>\n",
       "      <td>12.0</td>\n",
       "      <td>0.30</td>\n",
       "      <td>33.0</td>\n",
       "    </tr>\n",
       "    <tr>\n",
       "      <th>15</th>\n",
       "      <td>12.0</td>\n",
       "      <td>0.35</td>\n",
       "      <td>3.0</td>\n",
       "    </tr>\n",
       "  </tbody>\n",
       "</table>\n",
       "</div>"
      ],
      "text/plain": [
       "       0     1     2\n",
       "0    4.0  0.15   1.0\n",
       "1    6.0  0.15   6.0\n",
       "2    6.0  0.18  27.0\n",
       "3    6.0  0.20  50.0\n",
       "4    6.0  0.25  27.0\n",
       "5    6.0  0.30   2.0\n",
       "6    8.0  0.20   2.0\n",
       "7    8.0  0.25  14.0\n",
       "8    8.0  0.30   7.0\n",
       "9   10.0  0.25  10.0\n",
       "10  10.0  0.30   9.0\n",
       "11  12.0  0.10   1.0\n",
       "12  12.0  0.18   1.0\n",
       "13  12.0  0.25   7.0\n",
       "14  12.0  0.30  33.0\n",
       "15  12.0  0.35   3.0"
      ]
     },
     "metadata": {},
     "output_type": "display_data"
    }
   ],
   "source": [
    "for k, v in opt_lamNss.items():\n",
    "    v = np.array(v)[:, 1:3]\n",
    "    combos, cts = np.unique(v, axis=0, return_counts=1)\n",
    "    tres = np.concatenate([combos, cts.reshape(-1, 1)], axis=1)\n",
    "    display(pd.DataFrame(tres));"
   ]
  },
  {
   "cell_type": "markdown",
   "id": "1ce33507-b240-4b72-84b2-d90e1df42822",
   "metadata": {},
   "source": [
    "### Fixed N and fixed lam"
   ]
  },
  {
   "cell_type": "code",
   "execution_count": 28,
   "id": "dfd6d7e4-4870-453b-a7e9-f342802ede3b",
   "metadata": {
    "execution": {
     "iopub.execute_input": "2023-12-23T17:36:17.380205Z",
     "iopub.status.busy": "2023-12-23T17:36:17.379625Z",
     "iopub.status.idle": "2023-12-23T17:36:17.917622Z",
     "shell.execute_reply": "2023-12-23T17:36:17.917178Z",
     "shell.execute_reply.started": "2023-12-23T17:36:17.380163Z"
    },
    "tags": []
   },
   "outputs": [
    {
     "name": "stdout",
     "output_type": "stream",
     "text": [
      "Load file /data/rajlab1/user_data/jin/MyResearch/HDF_infer/notebooks/simu_real/../../mypkg/../results/simu_logi_setting3aa_0/all-valsel-metrics_c1_0.pkl\n"
     ]
    },
    {
     "name": "stderr",
     "output_type": "stream",
     "text": [
      "c1: 0.0: 100%|████████████████████████████████████████████████████████████████████████████████████████████████████████████████████████████| 200/200 [00:00<00:00, 14742.72it/s]"
     ]
    },
    {
     "name": "stdout",
     "output_type": "stream",
     "text": [
      "6 0.2 0.2\n",
      "Load file /data/rajlab1/user_data/jin/MyResearch/HDF_infer/notebooks/simu_real/../../mypkg/../results/simu_logi_setting3aa_200/all-valsel-metrics_c1_200.pkl\n"
     ]
    },
    {
     "name": "stderr",
     "output_type": "stream",
     "text": [
      "\n",
      "c1: 0.2: 100%|████████████████████████████████████████████████████████████████████████████████████████████████████████████████████████████| 200/200 [00:00<00:00, 14897.72it/s]\n"
     ]
    },
    {
     "name": "stdout",
     "output_type": "stream",
     "text": [
      "6 0.2 0.2\n",
      "Load file /data/rajlab1/user_data/jin/MyResearch/HDF_infer/notebooks/simu_real/../../mypkg/../results/simu_logi_setting3aa_400/all-valsel-metrics_c1_400.pkl\n"
     ]
    },
    {
     "name": "stderr",
     "output_type": "stream",
     "text": [
      "c1: 0.4: 100%|████████████████████████████████████████████████████████████████████████████████████████████████████████████████████████████| 200/200 [00:00<00:00, 15297.91it/s]"
     ]
    },
    {
     "name": "stdout",
     "output_type": "stream",
     "text": [
      "6 0.2 0.2\n"
     ]
    },
    {
     "name": "stderr",
     "output_type": "stream",
     "text": [
      "\n"
     ]
    }
   ],
   "source": [
    "def _run_fn1(seed, all_cv_errs):\n",
    "    errs_mat = []\n",
    "    for cur_N in can_Ns:\n",
    "        errs = []\n",
    "        for cur_lam in can_lams:\n",
    "            errs.append(all_cv_errs[(seed, cur_N, cur_lam)].entropy_loss)\n",
    "        errs_mat.append(errs)\n",
    "    errs_mat = np.array(errs_mat)\n",
    "    return errs_mat\n",
    "opt_lamNs_fix = {}\n",
    "for c1 in c1s:\n",
    "    cur_save_dir = RES_ROOT/f\"simu_logi_{setting}_{c1*1000:.0f}\"\n",
    "    all_cv_errs = load_pkl(cur_save_dir/f\"all-valsel-metrics_c1_{c1*1000:.0f}.pkl\")\n",
    "    num_seed = len(np.unique(list(map(lambda x: x[0], all_cv_errs.keys()))))\n",
    "    # do not make n_jobs>1, it is very slow\n",
    "    with Parallel(n_jobs=1) as parallel:\n",
    "        err_ten = parallel(delayed(_run_fn1)(cur_seed, all_cv_errs)  \n",
    "                                 for cur_seed in tqdm(range(num_seed), total=num_seed, desc=f\"c1: {c1}\"))\n",
    "    err_ten = np.array(err_ten);\n",
    "    rm_seeds = np.where(np.isnan(err_ten).sum(axis=(1, 2)) != 0)[0]\n",
    "    # remove NAN\n",
    "    err_ten = err_ten[np.isnan(err_ten).sum(axis=(1, 2)) == 0];\n",
    "    \n",
    "    err_ten_ses = err_ten.std(axis=0)/np.sqrt(err_ten.shape[0])\n",
    "    err_m = np.mean(np.array(err_ten), axis=0)\n",
    "    errs = []\n",
    "    for err in err_m:\n",
    "        lam_min_idx = _get_min_idx(err)\n",
    "        errs.append((err[lam_min_idx], lam_min_idx))\n",
    "    errs = np.array(errs)\n",
    "    N_min_idx = np.argmin(errs[:, 0]);\n",
    "    lam_min_idx = int(errs[N_min_idx][1]);\n",
    "    min_opt_N, min_opt_lam = can_Ns[N_min_idx], can_lams[lam_min_idx]\n",
    "    \n",
    "    err_upbd = err_m[N_min_idx, lam_min_idx] + err_ten_ses[N_min_idx, lam_min_idx]; \n",
    "    lam_1se_idx = np.where(err_m[N_min_idx] <= err_upbd)[0].max();\n",
    "    print(can_Ns[N_min_idx], can_lams[lam_min_idx], can_lams[lam_1se_idx])\n",
    "    #opt_lamNs_fix[c1] = (can_Ns[N_min_idx],  can_lams[lam_min_idx], rm_seeds)\n",
    "    opt_lamNs_fix[c1] = (can_Ns[N_min_idx],  can_lams[lam_1se_idx], rm_seeds)"
   ]
  },
  {
   "cell_type": "code",
   "execution_count": 29,
   "id": "2443ad59-cc6b-4686-a230-37118325da4a",
   "metadata": {
    "execution": {
     "iopub.execute_input": "2023-12-23T17:36:20.572272Z",
     "iopub.status.busy": "2023-12-23T17:36:20.571603Z",
     "iopub.status.idle": "2023-12-23T17:36:20.608335Z",
     "shell.execute_reply": "2023-12-23T17:36:20.607885Z",
     "shell.execute_reply.started": "2023-12-23T17:36:20.572228Z"
    },
    "tags": []
   },
   "outputs": [
    {
     "data": {
      "text/plain": [
       "{0.0: (6, 0.2, array([], dtype=int64)),\n",
       " 0.2: (6, 0.2, array([], dtype=int64)),\n",
       " 0.4: (6, 0.2, array([], dtype=int64))}"
      ]
     },
     "execution_count": 29,
     "metadata": {},
     "output_type": "execute_result"
    }
   ],
   "source": [
    "opt_lamNs_fix"
   ]
  },
  {
   "cell_type": "code",
   "execution_count": 30,
   "id": "abe4c784-1a02-4d92-9fb9-53cd9c23f066",
   "metadata": {
    "execution": {
     "iopub.execute_input": "2023-12-23T17:36:21.135851Z",
     "iopub.status.busy": "2023-12-23T17:36:21.135223Z",
     "iopub.status.idle": "2023-12-23T17:37:07.590448Z",
     "shell.execute_reply": "2023-12-23T17:37:07.589194Z",
     "shell.execute_reply.started": "2023-12-23T17:36:21.135808Z"
    },
    "scrolled": true,
    "tags": []
   },
   "outputs": [
    {
     "name": "stderr",
     "output_type": "stream",
     "text": [
      "c1: 0: 100%|█████████████████████████████████████████████████████████████████████████████████████████████████████████████████████████████████| 200/200 [00:18<00:00, 10.86it/s]\n"
     ]
    },
    {
     "name": "stdout",
     "output_type": "stream",
     "text": [
      "Save to /data/rajlab1/user_data/jin/MyResearch/HDF_infer/notebooks/simu_real/../../mypkg/../results/simu_logi_setting3aa_0/opt_lamNsfixNlam_c1_0_ress.pkl\n"
     ]
    },
    {
     "name": "stderr",
     "output_type": "stream",
     "text": [
      "c1: 200: 100%|███████████████████████████████████████████████████████████████████████████████████████████████████████████████████████████████| 200/200 [00:14<00:00, 13.54it/s]\n"
     ]
    },
    {
     "name": "stdout",
     "output_type": "stream",
     "text": [
      "Save to /data/rajlab1/user_data/jin/MyResearch/HDF_infer/notebooks/simu_real/../../mypkg/../results/simu_logi_setting3aa_200/opt_lamNsfixNlam_c1_200_ress.pkl\n"
     ]
    },
    {
     "name": "stderr",
     "output_type": "stream",
     "text": [
      "c1: 400: 100%|███████████████████████████████████████████████████████████████████████████████████████████████████████████████████████████████| 200/200 [00:12<00:00, 15.42it/s]\n"
     ]
    },
    {
     "name": "stdout",
     "output_type": "stream",
     "text": [
      "Save to /data/rajlab1/user_data/jin/MyResearch/HDF_infer/notebooks/simu_real/../../mypkg/../results/simu_logi_setting3aa_400/opt_lamNsfixNlam_c1_400_ress.pkl\n"
     ]
    }
   ],
   "source": [
    "# for adaptive lam N\n",
    "cans = [1e-5, 3e-6, 1e-6, 3e-7, 1e-7, 3e-8, 1e-8, 3e-9, 1e-9, 3e-10, 0]\n",
    "all_coms = [(can, can) for can in cans]\n",
    "#all_coms = list(itertools.product(cans, cans))\n",
    "for c1 in c1s:\n",
    "    cur_save_dir = RES_ROOT/f\"simu_logi_{setting}_{c1*1000:.0f}\"\n",
    "    cur_N, cur_lam, rm_seeds = opt_lamNs_fix[c1]\n",
    "    ress = []\n",
    "    for cur_seed in tqdm(range(num_rep), desc=f\"c1: {c1*1000:.0f}\"):\n",
    "        if cur_seed in rm_seeds:\n",
    "            continue\n",
    "        f1_name = f\"seed_{cur_seed:.0f}-lam_{cur_lam*1000:.0f}-N_{cur_N:.0f}-c1_{c1*1000:.0f}_est.pkl\"\n",
    "        res1 = load_pkl(cur_save_dir/f1_name, verbose=False);\n",
    "        if np.isnan(res1.est_alp).sum() > 0:\n",
    "            continue\n",
    "        with Parallel(n_jobs=10) as parallel:\n",
    "            res = parallel(delayed(_test_fn)(Cmat=Cmat, est_res=res1, \n",
    "                                             svdinv_eps_Q=rtols[0], \n",
    "                                             svdinv_eps_Psi=rtols[1]) for rtols\n",
    "                                             in all_coms)\n",
    "    \n",
    "        ress.append(res)\n",
    "    ress = np.array(ress);\n",
    "    save_pkl(cur_save_dir/f\"opt_lamNsfixNlam_c1_{c1*1000:.0f}_ress.pkl\", ress, is_force=1)"
   ]
  },
  {
   "cell_type": "code",
   "execution_count": null,
   "id": "d3d8dc76-d28c-44a5-9190-1bd0cefe53a9",
   "metadata": {},
   "outputs": [],
   "source": []
  },
  {
   "cell_type": "code",
   "execution_count": 19,
   "id": "51b55846-6d0a-4fcc-add5-5909a26619c4",
   "metadata": {
    "execution": {
     "iopub.execute_input": "2023-12-15T04:02:13.229120Z",
     "iopub.status.busy": "2023-12-15T04:02:13.228481Z",
     "iopub.status.idle": "2023-12-15T04:02:13.322236Z",
     "shell.execute_reply": "2023-12-15T04:02:13.321182Z",
     "shell.execute_reply.started": "2023-12-15T04:02:13.229071Z"
    },
    "tags": []
   },
   "outputs": [
    {
     "data": {
      "text/plain": [
       "array([[ 1,  0,  0],\n",
       "       [ 0,  1, -1]])"
      ]
     },
     "execution_count": 19,
     "metadata": {},
     "output_type": "execute_result"
    }
   ],
   "source": [
    "Cmat"
   ]
  },
  {
   "cell_type": "code",
   "execution_count": null,
   "id": "4fb91ff8-5516-4607-b597-a84764e17df4",
   "metadata": {},
   "outputs": [],
   "source": []
  },
  {
   "cell_type": "markdown",
   "id": "d30d4a08-5de2-4412-8541-5dd78612ed5c",
   "metadata": {},
   "source": [
    "## Find Q and Psi rtol"
   ]
  },
  {
   "cell_type": "code",
   "execution_count": 31,
   "id": "e4297092-475a-42e3-970b-f8774ef3fb70",
   "metadata": {
    "execution": {
     "iopub.execute_input": "2023-12-23T17:37:18.837379Z",
     "iopub.status.busy": "2023-12-23T17:37:18.836802Z",
     "iopub.status.idle": "2023-12-23T17:37:18.997337Z",
     "shell.execute_reply": "2023-12-23T17:37:18.996824Z",
     "shell.execute_reply.started": "2023-12-23T17:37:18.837336Z"
    },
    "tags": []
   },
   "outputs": [
    {
     "name": "stdout",
     "output_type": "stream",
     "text": [
      "Load file /data/rajlab1/user_data/jin/MyResearch/HDF_infer/notebooks/simu_real/../../mypkg/../results/simu_logi_setting3aa_0/opt_lamNsfixNlam_c1_0_ress.pkl\n",
      "Load file /data/rajlab1/user_data/jin/MyResearch/HDF_infer/notebooks/simu_real/../../mypkg/../results/simu_logi_setting3aa_200/opt_lamNsfixNlam_c1_200_ress.pkl\n",
      "Load file /data/rajlab1/user_data/jin/MyResearch/HDF_infer/notebooks/simu_real/../../mypkg/../results/simu_logi_setting3aa_400/opt_lamNsfixNlam_c1_400_ress.pkl\n"
     ]
    }
   ],
   "source": [
    "ress_dict = {}\n",
    "for c1 in c1s:\n",
    "    cur_save_dir = RES_ROOT/f\"simu_logi_{setting}_{c1*1000:.0f}\"\n",
    "    #ress = load_pkl(cur_save_dir/f\"opt_lamNs_c1_{c1*1000:.0f}_ress.pkl\");\n",
    "    #ress = load_pkl(cur_save_dir/f\"opt_lamNsfixN_c1_{c1*1000:.0f}_ress.pkl\");\n",
    "    ress = load_pkl(cur_save_dir/f\"opt_lamNsfixNlam_c1_{c1*1000:.0f}_ress.pkl\");\n",
    "    #print(len(ress))\n",
    "    ress_dict[c1] = ress"
   ]
  },
  {
   "cell_type": "code",
   "execution_count": 32,
   "id": "536e23bb-1def-41d1-9eb5-9b0862ffc5c7",
   "metadata": {
    "execution": {
     "iopub.execute_input": "2023-12-23T17:37:20.408050Z",
     "iopub.status.busy": "2023-12-23T17:37:20.407473Z",
     "iopub.status.idle": "2023-12-23T17:37:20.444200Z",
     "shell.execute_reply": "2023-12-23T17:37:20.443683Z",
     "shell.execute_reply.started": "2023-12-23T17:37:20.408007Z"
    },
    "tags": []
   },
   "outputs": [],
   "source": [
    "def outlier_det(T_vs, ratio_tol=0.05):\n",
    "    \"\"\"\n",
    "    Detects outliers in a given dataset using the interquartile range (IQR) method.\n",
    "\n",
    "    Parameters:\n",
    "    - T_vs (array-like): The input dataset.\n",
    "    - ratio_tol (float, optional): The tolerance ratio for outlier removal. Default is 0.05.\n",
    "\n",
    "    Returns:\n",
    "    - kpidx (ndarray): A boolean array indicating whether each data point is an outlier or not.\n",
    "    \"\"\"\n",
    "    Q1, Q3 = np.quantile(T_vs, [0.25, 0.75])\n",
    "    IQR = Q3 - Q1\n",
    "    upbd = Q3 + 1.5*IQR\n",
    "    lowbd = Q1 - 1.5*IQR\n",
    "    kpidx = np.bitwise_and(T_vs>=lowbd, T_vs<=upbd)\n",
    "    \n",
    "    if np.mean(kpidx)+ ratio_tol < 1:\n",
    "        out_part = np.stack([T_vs - upbd, lowbd - T_vs]).T.max(axis=1);\n",
    "        kpidx = np.ones(len(T_vs), dtype=bool)\n",
    "        kpidx[np.argsort(-out_part)[:int(len(T_vs)*ratio_tol)]] = False\n",
    "    return kpidx"
   ]
  },
  {
   "cell_type": "code",
   "execution_count": null,
   "id": "e68ec23d-e727-4160-bba8-5ab94be466bf",
   "metadata": {},
   "outputs": [],
   "source": []
  },
  {
   "cell_type": "code",
   "execution_count": 45,
   "id": "1e2c5d33-9970-4cce-a82e-7969ebbbac13",
   "metadata": {
    "execution": {
     "iopub.execute_input": "2023-12-23T17:45:00.976756Z",
     "iopub.status.busy": "2023-12-23T17:45:00.976094Z",
     "iopub.status.idle": "2023-12-23T17:45:01.107075Z",
     "shell.execute_reply": "2023-12-23T17:45:01.106011Z",
     "shell.execute_reply.started": "2023-12-23T17:45:00.976711Z"
    },
    "tags": []
   },
   "outputs": [
    {
     "data": {
      "text/html": [
       "<div>\n",
       "<style scoped>\n",
       "    .dataframe tbody tr th:only-of-type {\n",
       "        vertical-align: middle;\n",
       "    }\n",
       "\n",
       "    .dataframe tbody tr th {\n",
       "        vertical-align: top;\n",
       "    }\n",
       "\n",
       "    .dataframe thead th {\n",
       "        text-align: right;\n",
       "    }\n",
       "</style>\n",
       "<table border=\"1\" class=\"dataframe\">\n",
       "  <thead>\n",
       "    <tr style=\"text-align: right;\">\n",
       "      <th></th>\n",
       "      <th>0.0</th>\n",
       "      <th>0.2</th>\n",
       "      <th>0.4</th>\n",
       "      <th>Q</th>\n",
       "      <th>Psi</th>\n",
       "    </tr>\n",
       "  </thead>\n",
       "  <tbody>\n",
       "    <tr>\n",
       "      <th>0</th>\n",
       "      <td>0.08</td>\n",
       "      <td>0.37</td>\n",
       "      <td>0.78</td>\n",
       "      <td>1.000000e-05</td>\n",
       "      <td>1.000000e-05</td>\n",
       "    </tr>\n",
       "    <tr>\n",
       "      <th>1</th>\n",
       "      <td>0.08</td>\n",
       "      <td>0.37</td>\n",
       "      <td>0.78</td>\n",
       "      <td>3.000000e-06</td>\n",
       "      <td>3.000000e-06</td>\n",
       "    </tr>\n",
       "    <tr>\n",
       "      <th>2</th>\n",
       "      <td>0.08</td>\n",
       "      <td>0.37</td>\n",
       "      <td>0.78</td>\n",
       "      <td>1.000000e-06</td>\n",
       "      <td>1.000000e-06</td>\n",
       "    </tr>\n",
       "    <tr>\n",
       "      <th>3</th>\n",
       "      <td>0.08</td>\n",
       "      <td>0.37</td>\n",
       "      <td>0.78</td>\n",
       "      <td>3.000000e-07</td>\n",
       "      <td>3.000000e-07</td>\n",
       "    </tr>\n",
       "    <tr>\n",
       "      <th>4</th>\n",
       "      <td>0.08</td>\n",
       "      <td>0.37</td>\n",
       "      <td>0.78</td>\n",
       "      <td>1.000000e-07</td>\n",
       "      <td>1.000000e-07</td>\n",
       "    </tr>\n",
       "    <tr>\n",
       "      <th>5</th>\n",
       "      <td>0.08</td>\n",
       "      <td>0.37</td>\n",
       "      <td>0.78</td>\n",
       "      <td>3.000000e-08</td>\n",
       "      <td>3.000000e-08</td>\n",
       "    </tr>\n",
       "    <tr>\n",
       "      <th>6</th>\n",
       "      <td>0.08</td>\n",
       "      <td>0.37</td>\n",
       "      <td>0.78</td>\n",
       "      <td>1.000000e-08</td>\n",
       "      <td>1.000000e-08</td>\n",
       "    </tr>\n",
       "    <tr>\n",
       "      <th>7</th>\n",
       "      <td>0.08</td>\n",
       "      <td>0.37</td>\n",
       "      <td>0.78</td>\n",
       "      <td>3.000000e-09</td>\n",
       "      <td>3.000000e-09</td>\n",
       "    </tr>\n",
       "    <tr>\n",
       "      <th>8</th>\n",
       "      <td>0.08</td>\n",
       "      <td>0.37</td>\n",
       "      <td>0.78</td>\n",
       "      <td>1.000000e-09</td>\n",
       "      <td>1.000000e-09</td>\n",
       "    </tr>\n",
       "    <tr>\n",
       "      <th>9</th>\n",
       "      <td>0.08</td>\n",
       "      <td>0.37</td>\n",
       "      <td>0.78</td>\n",
       "      <td>3.000000e-10</td>\n",
       "      <td>3.000000e-10</td>\n",
       "    </tr>\n",
       "    <tr>\n",
       "      <th>10</th>\n",
       "      <td>0.08</td>\n",
       "      <td>0.37</td>\n",
       "      <td>0.78</td>\n",
       "      <td>0.000000e+00</td>\n",
       "      <td>0.000000e+00</td>\n",
       "    </tr>\n",
       "  </tbody>\n",
       "</table>\n",
       "</div>"
      ],
      "text/plain": [
       "     0.0   0.2   0.4             Q           Psi\n",
       "0   0.08  0.37  0.78  1.000000e-05  1.000000e-05\n",
       "1   0.08  0.37  0.78  3.000000e-06  3.000000e-06\n",
       "2   0.08  0.37  0.78  1.000000e-06  1.000000e-06\n",
       "3   0.08  0.37  0.78  3.000000e-07  3.000000e-07\n",
       "4   0.08  0.37  0.78  1.000000e-07  1.000000e-07\n",
       "5   0.08  0.37  0.78  3.000000e-08  3.000000e-08\n",
       "6   0.08  0.37  0.78  1.000000e-08  1.000000e-08\n",
       "7   0.08  0.37  0.78  3.000000e-09  3.000000e-09\n",
       "8   0.08  0.37  0.78  1.000000e-09  1.000000e-09\n",
       "9   0.08  0.37  0.78  3.000000e-10  3.000000e-10\n",
       "10  0.08  0.37  0.78  0.000000e+00  0.000000e+00"
      ]
     },
     "execution_count": 45,
     "metadata": {},
     "output_type": "execute_result"
    }
   ],
   "source": [
    "import pandas as pd\n",
    "cans = [1e-5, 3e-6, 1e-6, 3e-7, 1e-7, 3e-8, 1e-8, 3e-9, 1e-9, 3e-10, 0]\n",
    "\n",
    "all_coms = np.array(list(itertools.product(cans, cans)));\n",
    "all_coms = [(can, can) for can in cans]\n",
    "kpidxs = []\n",
    "\n",
    "df = []\n",
    "for c1 in c1s:\n",
    "    ress = ress_dict[c1]\n",
    "    pvals = np.array([[re[\"pval\"] for re in res] for res in ress]);\n",
    "    T_vss = np.array([[re[\"T_v\"] for re in res] for res in ress]);\n",
    "    \n",
    "    kpidxss = [outlier_det(T_vss[:, can_ix], 0.00) for can_ix in range(T_vss.shape[1])];\n",
    "    if True:\n",
    "        vec_pv = np.array([np.mean(pvals[:, can_ix][kpidxss[can_ix]]<0.05) for can_ix in range(len(cans))])\n",
    "    else:\n",
    "        vec_pv = np.array([np.mean(pvals[:, can_ix]<0.05) for can_ix in range(len(cans))])\n",
    "    #vec_pv = np.mean(pvals<0.05, axis=0)\n",
    "    df.append(vec_pv[:, np.newaxis])\n",
    "df.append(all_coms) \n",
    "df = np.hstack(df)\n",
    "df = pd.DataFrame(df) \n",
    "df.columns = c1s+[\"Q\", \"Psi\"]\n",
    "df"
   ]
  },
  {
   "cell_type": "markdown",
   "id": "fa246ade-76de-47cb-8907-3b8fe8a7ed1e",
   "metadata": {},
   "source": [
    "# Analysis"
   ]
  },
  {
   "cell_type": "code",
   "execution_count": 10,
   "id": "84cb6866-db2e-4b01-b01a-30115cb3bce2",
   "metadata": {
    "execution": {
     "iopub.execute_input": "2024-01-03T21:38:17.636639Z",
     "iopub.status.busy": "2024-01-03T21:38:17.636078Z",
     "iopub.status.idle": "2024-01-03T21:38:17.676252Z",
     "shell.execute_reply": "2024-01-03T21:38:17.675696Z",
     "shell.execute_reply.started": "2024-01-03T21:38:17.636595Z"
    },
    "tags": []
   },
   "outputs": [],
   "source": [
    "from hdf_utils.hypo_test import MS2idxs\n",
    "def obt_test_stat_simple2(Q_mat_part, Sig_mat_part, est_alp, est_Gam, Cmat, paras):\n",
    "    \"\"\"\n",
    "    Obtain the test statistics via the estimator, even simpler than simple \n",
    "\n",
    "    Args:\n",
    "        Q_mat_part: Second der of model\n",
    "        Sig_mat_part: first der \n",
    "        est_alp: Estimated alp parameters\n",
    "        est_Gam: Estimated Gam parameters\n",
    "        Cmat: Hypothesis mat, r x m\n",
    "        paras: Dictionary containing parameters for the test\n",
    "            - N: Number of samples\n",
    "            - M_idxs: Indices of the M set\n",
    "            - q: Number of ROIs\n",
    "            - svdinv_eps_Q: Threshold for inverse of Q matrix\n",
    "            - svdinv_eps_Psi: Threshold for inverse of Psi matrix\n",
    "            - n: Number of observations\n",
    "\n",
    "    Returns:\n",
    "        T_v: Test statistic value\n",
    "    \"\"\"\n",
    "    _paras = edict(paras.copy())\n",
    "    est_theta = torch.cat([est_alp, col_vec_fn(est_Gam)/np.sqrt(_paras.N)])\n",
    "    \n",
    "    # obtain the idxs to keep for test\n",
    "    nonzero_idxs = torch.nonzero(torch.norm(est_Gam, dim=0)).reshape(-1).numpy()\n",
    "    MS_unions = np.sort(np.union1d(_paras.M_idxs, nonzero_idxs))\n",
    "    keep_idxs_test = MS2idxs(_paras.q, _paras.N, MS_unions)\n",
    "    \n",
    "    # A mat\n",
    "    k = len(np.setdiff1d(nonzero_idxs, _paras.M_idxs))\n",
    "    Amat = torch.Tensor(get_Amat(k, Cmat, _paras))\n",
    "    \n",
    "    # calculate Test stats\n",
    "    Q_mat_part_inv = torch.linalg.pinv(Q_mat_part, hermitian=True, rtol=_paras.svdinv_eps_Q)\n",
    "    Psi = Amat @ Q_mat_part_inv @ Sig_mat_part @ Q_mat_part_inv @ Amat.T\n",
    "    Psi_inv = torch.linalg.pinv(Psi, hermitian=True, rtol=_paras.svdinv_eps_Psi)\n",
    "    #pdb.set_trace()\n",
    "    \n",
    "    T_p1 = Amat @ est_theta[keep_idxs_test]\n",
    "    T_v = T_p1 @ Psi_inv @ T_p1 * _paras.n \n",
    "    return T_v, Psi"
   ]
  },
  {
   "cell_type": "code",
   "execution_count": 11,
   "id": "e8afe818-5cad-4b96-953a-e43d56ad7d5a",
   "metadata": {
    "execution": {
     "iopub.execute_input": "2024-01-03T21:38:18.089087Z",
     "iopub.status.busy": "2024-01-03T21:38:18.088551Z",
     "iopub.status.idle": "2024-01-03T21:38:18.126557Z",
     "shell.execute_reply": "2024-01-03T21:38:18.125668Z",
     "shell.execute_reply.started": "2024-01-03T21:38:18.089044Z"
    },
    "tags": []
   },
   "outputs": [],
   "source": [
    "def _test_fn(Cmat, est_res, svdinv_eps_Q=0, svdinv_eps_Psi=0):\n",
    "    torch.set_default_tensor_type(torch.DoubleTensor)\n",
    "    _paras = est_res._paras\n",
    "    _paras.svdinv_eps_Q = svdinv_eps_Q\n",
    "    _paras.svdinv_eps_Psi = svdinv_eps_Psi\n",
    "    \n",
    "    T_v, Psi = obt_test_stat_simple2(Q_mat_part=est_res.Q_mat_part,\n",
    "                               Sig_mat_part=est_res.Sig_mat_part,\n",
    "                               est_alp=est_res.est_alp, \n",
    "                               est_Gam=est_res.est_Gam,\n",
    "                               Cmat=Cmat,\n",
    "                               paras=_paras,\n",
    "                               )\n",
    "    pval = chi2.sf(T_v, Cmat.shape[0]*_paras.N)\n",
    "    \n",
    "    res = edict()\n",
    "    res.T_v = T_v.item()\n",
    "    res.pval = pval\n",
    "    res.Cmat = Cmat\n",
    "    res.Psi = Psi\n",
    "    return res"
   ]
  },
  {
   "cell_type": "raw",
   "id": "72cc8605-25b4-40d9-b2f4-ff7069749b39",
   "metadata": {
    "execution": {
     "iopub.execute_input": "2023-12-14T01:30:05.043618Z",
     "iopub.status.busy": "2023-12-14T01:30:05.043065Z",
     "iopub.status.idle": "2023-12-14T01:30:05.197787Z",
     "shell.execute_reply": "2023-12-14T01:30:05.197214Z",
     "shell.execute_reply.started": "2023-12-14T01:30:05.043574Z"
    },
    "tags": []
   },
   "source": [
    "cur_seed, cur_lam, cur_N = (104, 0.15, 6)\n",
    "#cur_seed, cur_lam, cur_N = (104, 0.15, 6)\n",
    "f1_name = f\"seed_{cur_seed:.0f}-lam_{cur_lam*1000:.0f}-N_{cur_N:.0f}-c1_{c1*1000:.0f}_est.pkl\"\n",
    "res = load_pkl(cur_save_dir/f1_name, verbose=False);\n",
    "test_res = _test_fn(Cmat=Cmat, est_res=res,  svdinv_eps_Q=1e-7,  svdinv_eps_Psi=1e-7)"
   ]
  },
  {
   "cell_type": "code",
   "execution_count": 12,
   "id": "3d6f3a0c-7fd6-4902-8cb1-8c86eedd3107",
   "metadata": {
    "execution": {
     "iopub.execute_input": "2024-01-03T21:38:18.874260Z",
     "iopub.status.busy": "2024-01-03T21:38:18.873723Z",
     "iopub.status.idle": "2024-01-03T21:38:18.911906Z",
     "shell.execute_reply": "2024-01-03T21:38:18.910978Z",
     "shell.execute_reply.started": "2024-01-03T21:38:18.874217Z"
    },
    "tags": []
   },
   "outputs": [
    {
     "data": {
      "text/plain": [
       "array([[1.]])"
      ]
     },
     "execution_count": 12,
     "metadata": {},
     "output_type": "execute_result"
    }
   ],
   "source": [
    "Cmat = np.array([ [1, 0, 0],  [0, 1, -1],  ])\n",
    "Cmat = np.eye(1)"
   ]
  },
  {
   "cell_type": "code",
   "execution_count": 13,
   "id": "c583d09f-d35a-4127-bddb-d11ba32d4d35",
   "metadata": {
    "execution": {
     "iopub.execute_input": "2024-01-03T21:38:19.294043Z",
     "iopub.status.busy": "2024-01-03T21:38:19.293514Z",
     "iopub.status.idle": "2024-01-03T21:38:29.574109Z",
     "shell.execute_reply": "2024-01-03T21:38:29.572749Z",
     "shell.execute_reply.started": "2024-01-03T21:38:19.294000Z"
    },
    "tags": []
   },
   "outputs": [
    {
     "name": "stderr",
     "output_type": "stream",
     "text": [
      "100%|████████████████████████████████████████████████████████████████████████████████████████████████████████████████████████████████████████| 200/200 [00:10<00:00, 19.55it/s]\n"
     ]
    }
   ],
   "source": [
    "c1 = 0.0\n",
    "cur_save_dir = RES_ROOT/f\"simu_logi_{setting}_{c1*1000:.0f}\"\n",
    "cur_seed, cur_lam, cur_N = (1, 0.20, 6)\n",
    "alp_ests = []\n",
    "gamL0_ests = []\n",
    "T_vs = []\n",
    "Sig_mat_parts = []\n",
    "pvals = []\n",
    "Q_mat_parts = []\n",
    "gam_ests = []\n",
    "Psis = []\n",
    "for cur_seed in trange(0, 200):\n",
    "    f1_name = f\"seed_{cur_seed:.0f}-lam_{cur_lam*1000:.0f}-N_{cur_N:.0f}-c1_{c1*1000:.0f}_est.pkl\"\n",
    "    res = load_pkl(cur_save_dir/f1_name, verbose=False);\n",
    "    test_res = _test_fn(Cmat=Cmat, est_res=res,  svdinv_eps_Q=1e-7,  svdinv_eps_Psi=1e-7)\n",
    "    Psis.append(test_res.Psi)\n",
    "    T_vs.append(test_res.T_v)\n",
    "    pvals.append(test_res.pval)\n",
    "    alp_ests.append(res.est_alp.numpy())\n",
    "    gamL0_ests.append(torch.norm(res.est_Gam, dim=0).numpy()!=0)\n",
    "    gam_ests.append(res.est_Gam)\n",
    "    Sig_mat_parts.append(res.Sig_mat_part)\n",
    "    Q_mat_parts.append(res.Q_mat_part)\n",
    "T_vs = np.array(T_vs);\n",
    "pvals = np.array(pvals);"
   ]
  },
  {
   "cell_type": "code",
   "execution_count": 14,
   "id": "5746c860-6a49-41d5-b344-b726c9ef2684",
   "metadata": {
    "execution": {
     "iopub.execute_input": "2024-01-03T21:38:30.211582Z",
     "iopub.status.busy": "2024-01-03T21:38:30.211022Z",
     "iopub.status.idle": "2024-01-03T21:38:30.357211Z",
     "shell.execute_reply": "2024-01-03T21:38:30.356766Z",
     "shell.execute_reply.started": "2024-01-03T21:38:30.211537Z"
    },
    "tags": []
   },
   "outputs": [
    {
     "data": {
      "text/plain": [
       "[<matplotlib.lines.Line2D at 0x7f71dc4b8fd0>]"
      ]
     },
     "execution_count": 14,
     "metadata": {},
     "output_type": "execute_result"
    },
    {
     "data": {
      "image/png": "[encoded data removed]",
      "text/plain": [
       "<Figure size 432x288 with 1 Axes>"
      ]
     },
     "metadata": {
      "needs_background": "light"
     },
     "output_type": "display_data"
    }
   ],
   "source": [
    "tmp = np.array([mat.sum() for mat in gamL0_ests]);\n",
    "#tmp = np.array([1/torch.svd(mat).S[0] for mat in Psis]);\n",
    "plt.plot(T_vs, tmp, \".\")\n",
    "#plt.yscale(\"log\")"
   ]
  },
  {
   "cell_type": "code",
   "execution_count": 17,
   "id": "f828156e-30a3-47f1-b393-80681dc29016",
   "metadata": {
    "execution": {
     "iopub.execute_input": "2024-01-03T21:44:13.133569Z",
     "iopub.status.busy": "2024-01-03T21:44:13.132923Z",
     "iopub.status.idle": "2024-01-03T21:44:13.434836Z",
     "shell.execute_reply": "2024-01-03T21:44:13.434305Z",
     "shell.execute_reply.started": "2024-01-03T21:44:13.133523Z"
    },
    "tags": []
   },
   "outputs": [
    {
     "name": "stdout",
     "output_type": "stream",
     "text": [
      "0.05154639175257732 6.5197221574430415\n"
     ]
    },
    {
     "data": {
      "image/png": "[encoded data removed]",
      "text/plain": [
       "<Figure size 432x288 with 1 Axes>"
      ]
     },
     "metadata": {
      "needs_background": "light"
     },
     "output_type": "display_data"
    }
   ],
   "source": [
    "def outlier_det(T_vs, ratio_tol=0.05):\n",
    "    \"\"\"\n",
    "    Detects outliers in a given dataset using the interquartile range (IQR) method.\n",
    "\n",
    "    Parameters:\n",
    "    - T_vs (array-like): The input dataset.\n",
    "    - ratio_tol (float, optional): The tolerance ratio for outlier removal. Default is 0.05.\n",
    "\n",
    "    Returns:\n",
    "    - kpidx (ndarray): A boolean array indicating whether each data point is an outlier or not.\n",
    "    \"\"\"\n",
    "    Q1, Q3 = np.quantile(T_vs, [0.25, 0.75])\n",
    "    IQR = Q3 - Q1\n",
    "    upbd = Q3 + 1.5*IQR\n",
    "    lowbd = Q1 - 1.5*IQR\n",
    "    kpidx = np.bitwise_and(T_vs>=lowbd, T_vs<=upbd)\n",
    "    \n",
    "    if np.mean(kpidx)+ ratio_tol < 1:\n",
    "        out_part = np.stack([T_vs - upbd, lowbd - T_vs]).T.max(axis=1);\n",
    "        kpidx = np.ones(len(T_vs), dtype=bool)\n",
    "        kpidx[np.argsort(-out_part)[:int(len(T_vs)*ratio_tol)]] = False\n",
    "    return kpidx\n",
    "\n",
    "kpidx = outlier_det(T_vs, 0.05)\n",
    "#kpidx = T_vs != 0\n",
    "#plt.plot(np.sort(T_vs), \".\")\n",
    "chi_df = Cmat.shape[0]*cur_N\n",
    "xs = np.linspace(0.1, 50, 100)\n",
    "theo_curvs_log = chi2.logpdf(xs, chi_df);\n",
    "plt.plot(xs, np.exp(theo_curvs_log) , label=\"theoretical\")\n",
    "sns.kdeplot(T_vs[kpidx], label=\"empirical\")\n",
    "plt.legend()\n",
    "print(np.mean(pvals[kpidx]<0.05), np.mean(T_vs[kpidx]))"
   ]
  },
  {
   "cell_type": "code",
   "execution_count": null,
   "id": "f359ab72-a628-4d24-83ce-2f352cc2d3b7",
   "metadata": {},
   "outputs": [],
   "source": []
  },
  {
   "cell_type": "code",
   "execution_count": null,
   "id": "2b404df1-7735-4348-b212-485417ab16e4",
   "metadata": {},
   "outputs": [],
   "source": []
  }
 ],
 "metadata": {
  "kernelspec": {
   "display_name": "Python 3 (ipykernel)",
   "language": "python",
   "name": "python3"
  },
  "language_info": {
   "codemirror_mode": {
    "name": "ipython",
    "version": 3
   },
   "file_extension": ".py",
   "mimetype": "text/x-python",
   "name": "python",
   "nbconvert_exporter": "python",
   "pygments_lexer": "ipython3",
   "version": "3.9.7"
  },
  "toc": {
   "base_numbering": 1,
   "nav_menu": {},
   "number_sections": true,
   "sideBar": true,
   "skip_h1_title": false,
   "title_cell": "Table of Contents",
   "title_sidebar": "Contents",
   "toc_cell": false,
   "toc_position": {
    "height": "calc(100% - 180px)",
    "left": "10px",
    "top": "150px",
    "width": "165px"
   },
   "toc_section_display": true,
   "toc_window_display": true
  },
  "toc-autonumbering": true
 },
 "nbformat": 4,
 "nbformat_minor": 5
}
