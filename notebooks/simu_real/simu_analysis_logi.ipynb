{
 "cells": [
  {
   "cell_type": "markdown",
   "id": "faf0a805",
   "metadata": {},
   "source": []
  },
  {
   "cell_type": "code",
   "execution_count": 1,
   "id": "02ae980e",
   "metadata": {
    "ExecuteTime": {
     "end_time": "2023-05-31T19:57:23.490285Z",
     "start_time": "2023-05-31T19:57:23.481769Z"
    },
    "execution": {
     "iopub.execute_input": "2023-11-28T17:57:16.339851Z",
     "iopub.status.busy": "2023-11-28T17:57:16.339014Z",
     "iopub.status.idle": "2023-11-28T17:57:16.354120Z",
     "shell.execute_reply": "2023-11-28T17:57:16.352928Z",
     "shell.execute_reply.started": "2023-11-28T17:57:16.339788Z"
    },
    "tags": []
   },
   "outputs": [],
   "source": [
    "import sys\n",
    "sys.path.append(\"../../mypkg\")"
   ]
  },
  {
   "cell_type": "code",
   "execution_count": 2,
   "id": "023df78a",
   "metadata": {
    "ExecuteTime": {
     "end_time": "2023-05-31T19:57:34.238839Z",
     "start_time": "2023-05-31T19:57:23.494053Z"
    },
    "execution": {
     "iopub.execute_input": "2023-11-28T17:57:16.356123Z",
     "iopub.status.busy": "2023-11-28T17:57:16.355492Z",
     "iopub.status.idle": "2023-11-28T17:57:18.836577Z",
     "shell.execute_reply": "2023-11-28T17:57:18.836040Z",
     "shell.execute_reply.started": "2023-11-28T17:57:16.356065Z"
    },
    "tags": []
   },
   "outputs": [],
   "source": [
    "import numpy as np\n",
    "import torch\n",
    "import matplotlib.pyplot as plt\n",
    "import seaborn as sns\n",
    "from scipy.stats import pearsonr\n",
    "from numbers import Number\n",
    "\n",
    "from joblib import Parallel, delayed\n",
    "\n",
    "from easydict import EasyDict as edict\n",
    "from tqdm import trange, tqdm\n",
    "from scipy.io import loadmat\n",
    "from pprint import pprint\n",
    "import itertools\n",
    "from scipy.stats import chi2\n",
    "import pandas as pd\n",
    "from IPython.display import display\n"
   ]
  },
  {
   "cell_type": "code",
   "execution_count": 3,
   "id": "b9d3cbc6-1ac5-47d6-a0d1-bcbc0be9267e",
   "metadata": {
    "execution": {
     "iopub.execute_input": "2023-11-28T17:57:18.838082Z",
     "iopub.status.busy": "2023-11-28T17:57:18.837766Z",
     "iopub.status.idle": "2023-11-28T17:57:18.857569Z",
     "shell.execute_reply": "2023-11-28T17:57:18.857173Z",
     "shell.execute_reply.started": "2023-11-28T17:57:18.838066Z"
    },
    "tags": []
   },
   "outputs": [],
   "source": [
    "# This will reload all imports as soon as the code changes\n",
    "%load_ext autoreload\n",
    "%autoreload 2"
   ]
  },
  {
   "cell_type": "code",
   "execution_count": 160,
   "id": "b0aa91b2",
   "metadata": {
    "ExecuteTime": {
     "end_time": "2023-05-31T19:57:59.558229Z",
     "start_time": "2023-05-31T19:57:34.292612Z"
    },
    "execution": {
     "iopub.execute_input": "2023-11-28T21:28:07.882861Z",
     "iopub.status.busy": "2023-11-28T21:28:07.882228Z",
     "iopub.status.idle": "2023-11-28T21:28:08.006887Z",
     "shell.execute_reply": "2023-11-28T21:28:08.005561Z",
     "shell.execute_reply.started": "2023-11-28T21:28:07.882816Z"
    },
    "tags": []
   },
   "outputs": [],
   "source": [
    "from constants import DATA_ROOT, RES_ROOT, FIG_ROOT, MIDRES_ROOT\n",
    "\n",
    "from hdf_utils.hypo_test import obt_test_stat_simple2, get_Amat, obt_test_stat_simple3\n",
    "from utils.matrix import col_vec_fn, col_vec2mat_fn, conju_grad, svd_inverse, cholesky_inv\n",
    "from utils.misc import save_pkl, load_pkl, get_local_min_idxs, bcross_entropy_loss\n",
    "from optimization.one_step_opt import OneStepOpt\n"
   ]
  },
  {
   "cell_type": "code",
   "execution_count": 5,
   "id": "03e8580b-15e9-4a93-8010-aa2d650ffdf6",
   "metadata": {
    "execution": {
     "iopub.execute_input": "2023-11-28T17:57:18.905727Z",
     "iopub.status.busy": "2023-11-28T17:57:18.905400Z",
     "iopub.status.idle": "2023-11-28T17:57:18.930957Z",
     "shell.execute_reply": "2023-11-28T17:57:18.930545Z",
     "shell.execute_reply.started": "2023-11-28T17:57:18.905706Z"
    },
    "tags": []
   },
   "outputs": [],
   "source": [
    "import logging\n",
    "\n",
    "logger = logging.getLogger(\"tmp\")\n",
    "logger.setLevel(logging.DEBUG)\n",
    "formatter = logging.Formatter('%(asctime)s - %(name)s - %(levelname)s - %(message)s')\n",
    "\n",
    "ch = logging.StreamHandler() # for console. \n",
    "ch.setLevel(logging.DEBUG)\n",
    "ch.setFormatter(formatter)\n",
    "\n",
    "logger.addHandler(ch)"
   ]
  },
  {
   "cell_type": "code",
   "execution_count": 109,
   "id": "fe0a4a46",
   "metadata": {
    "ExecuteTime": {
     "end_time": "2023-05-31T19:57:59.621784Z",
     "start_time": "2023-05-31T19:57:59.568097Z"
    },
    "execution": {
     "iopub.execute_input": "2023-11-28T21:15:57.326168Z",
     "iopub.status.busy": "2023-11-28T21:15:57.325520Z",
     "iopub.status.idle": "2023-11-28T21:15:57.367945Z",
     "shell.execute_reply": "2023-11-28T21:15:57.367116Z",
     "shell.execute_reply.started": "2023-11-28T21:15:57.326110Z"
    },
    "tags": []
   },
   "outputs": [],
   "source": [
    "plt.style.use(FIG_ROOT/\"base.mplstyle\")\n",
    "torch.set_default_tensor_type(torch.DoubleTensor)"
   ]
  },
  {
   "cell_type": "code",
   "execution_count": null,
   "id": "e0cb5a3d-1ab1-4bc0-bfce-d7ebaedb0391",
   "metadata": {},
   "outputs": [],
   "source": []
  },
  {
   "cell_type": "code",
   "execution_count": null,
   "id": "d0af2f35",
   "metadata": {},
   "outputs": [],
   "source": []
  },
  {
   "cell_type": "markdown",
   "id": "dd9c6514",
   "metadata": {},
   "source": [
    "# Param and fns"
   ]
  },
  {
   "cell_type": "code",
   "execution_count": null,
   "id": "a10d559c-8d6a-428a-bdb9-23c0a5aac96b",
   "metadata": {},
   "outputs": [],
   "source": []
  },
  {
   "cell_type": "markdown",
   "id": "e5ccf9dc-c8f3-40a3-92f9-de2cdfa75610",
   "metadata": {},
   "source": [
    "## Fns"
   ]
  },
  {
   "cell_type": "code",
   "execution_count": 7,
   "id": "d93eca7c-5b7c-49ee-bec2-979f08f8d602",
   "metadata": {
    "execution": {
     "iopub.execute_input": "2023-11-28T17:57:22.286433Z",
     "iopub.status.busy": "2023-11-28T17:57:22.285810Z",
     "iopub.status.idle": "2023-11-28T17:57:22.327930Z",
     "shell.execute_reply": "2023-11-28T17:57:22.327248Z",
     "shell.execute_reply.started": "2023-11-28T17:57:22.286390Z"
    },
    "tags": []
   },
   "outputs": [
    {
     "data": {
      "text/plain": [
       "<function __main__.<lambda>(x)>"
      ]
     },
     "execution_count": 7,
     "metadata": {},
     "output_type": "execute_result"
    }
   ],
   "source": [
    "def _get_min_idx(x):\n",
    "    \"\"\"Get the index of the minimal values among the local minimals.\n",
    "       If there are multiple ones, return the largest index\n",
    "       args:\n",
    "           x: a vec\n",
    "        \n",
    "    \"\"\"\n",
    "    x = np.array(x)\n",
    "    lmin_idxs = get_local_min_idxs(x);\n",
    "    if len(lmin_idxs) == 0:\n",
    "        lmin_idxs = np.arange(len(x))\n",
    "    lmin_idxs_inv =  lmin_idxs[::-1]\n",
    "    lmins_inv = x[lmin_idxs_inv];\n",
    "    return  lmin_idxs_inv[np.argmin(lmins_inv)]\n",
    "_err_fn = lambda x: np.nanmean(x**2)\n",
    "#_err_fn = lambda x: np.nanmean(np.abs(x))"
   ]
  },
  {
   "cell_type": "code",
   "execution_count": null,
   "id": "75e10fd4",
   "metadata": {},
   "outputs": [],
   "source": []
  },
  {
   "cell_type": "markdown",
   "id": "ad8553a0-635d-473c-b27e-7bb7fb31a674",
   "metadata": {},
   "source": [
    "# Analysis"
   ]
  },
  {
   "cell_type": "code",
   "execution_count": 66,
   "id": "f2d09dc0-e992-4719-bb86-118197d686b6",
   "metadata": {
    "execution": {
     "iopub.execute_input": "2023-11-28T18:44:01.606329Z",
     "iopub.status.busy": "2023-11-28T18:44:01.605688Z",
     "iopub.status.idle": "2023-11-28T18:44:01.707346Z",
     "shell.execute_reply": "2023-11-28T18:44:01.706200Z",
     "shell.execute_reply.started": "2023-11-28T18:44:01.606283Z"
    },
    "tags": []
   },
   "outputs": [],
   "source": [
    "can_Ns = [4, 6, 8]\n",
    "can_lams = [0.001, 0.01, 0.03, 0.05, 0.07, 0.1, 0.15, 0.2, 0.25, 0.3, 0.35, 2.0, 4.0, 16.0]\n",
    "can_lams = [0.001, 0.05, 0.1, 0.13, 0.15, 0.18, 0.2, 0.25, 0.3, 0.35, 2.0, 4.0, 16.0]\n",
    "\n",
    "setting = \"setting1a\"\n",
    "\n",
    "c1s = [0.0, 0.4, 0.8]\n",
    "Cmat = np.eye(1) # change it depending on test1, test2, test3\n",
    "\n",
    "num_rep = 200;"
   ]
  },
  {
   "cell_type": "code",
   "execution_count": null,
   "id": "3264cfce-b893-450e-b063-e3f4c10d1d08",
   "metadata": {},
   "outputs": [],
   "source": []
  },
  {
   "cell_type": "markdown",
   "id": "f6b461f7-fe50-4b73-aee2-203c50e562d0",
   "metadata": {},
   "source": [
    "## Step 0 (extract cv errrs)\n",
    "\n",
    "Save in one dict"
   ]
  },
  {
   "cell_type": "code",
   "execution_count": 67,
   "id": "7387e4d1-a9c3-40c0-aba4-6638b2e0256a",
   "metadata": {
    "execution": {
     "iopub.execute_input": "2023-11-28T18:44:11.505186Z",
     "iopub.status.busy": "2023-11-28T18:44:11.504535Z",
     "iopub.status.idle": "2023-11-28T18:46:58.375710Z",
     "shell.execute_reply": "2023-11-28T18:46:58.374481Z",
     "shell.execute_reply.started": "2023-11-28T18:44:11.505124Z"
    },
    "tags": []
   },
   "outputs": [
    {
     "name": "stderr",
     "output_type": "stream",
     "text": [
      "c1: 0.0: 100%|████████████████████████████████████████████████████████████████████████████████████████████████████████████████████████████| 7800/7800 [00:54<00:00, 142.03it/s]\n"
     ]
    },
    {
     "name": "stdout",
     "output_type": "stream",
     "text": [
      "Save to /data/rajlab1/user_data/jin/MyResearch/HDF_infer/notebooks/simu_real/../../mypkg/../results/simu_logi_setting1a_0/all-valsel-metrics_c1_0.pkl\n"
     ]
    },
    {
     "name": "stderr",
     "output_type": "stream",
     "text": [
      "c1: 0.4: 100%|████████████████████████████████████████████████████████████████████████████████████████████████████████████████████████████| 7800/7800 [00:56<00:00, 138.70it/s]\n"
     ]
    },
    {
     "name": "stdout",
     "output_type": "stream",
     "text": [
      "Save to /data/rajlab1/user_data/jin/MyResearch/HDF_infer/notebooks/simu_real/../../mypkg/../results/simu_logi_setting1a_400/all-valsel-metrics_c1_400.pkl\n"
     ]
    },
    {
     "name": "stderr",
     "output_type": "stream",
     "text": [
      "c1: 0.8: 100%|████████████████████████████████████████████████████████████████████████████████████████████████████████████████████████████| 7800/7800 [00:55<00:00, 141.16it/s]\n"
     ]
    },
    {
     "name": "stdout",
     "output_type": "stream",
     "text": [
      "Save to /data/rajlab1/user_data/jin/MyResearch/HDF_infer/notebooks/simu_real/../../mypkg/../results/simu_logi_setting1a_800/all-valsel-metrics_c1_800.pkl\n"
     ]
    }
   ],
   "source": [
    "def _is_success(res):\n",
    "    return res.success\n",
    "    #if \"success\" in res.keys():\n",
    "    #    return False\n",
    "    #else:\n",
    "    #    return True\n",
    "c1 = 0.0\n",
    "cur_num_rep = 200\n",
    "for c1 in [0.0, 0.4, 0.8]:\n",
    "    cur_save_dir = RES_ROOT/f\"simu_logi_{setting}_{c1*1000:.0f}\"\n",
    "    \n",
    "    def _run_fn(seed, N, lam, c1):\n",
    "        f_fil = list(cur_save_dir.glob(f\"seed_{seed:.0f}-lam_{lam*1000:.0f}-N_{N:.0f}-c1_{c1*1000:.0f}_est.pkl\"))[0]\n",
    "        t_res = load_pkl(f_fil, verbose=0)\n",
    "        valsel_metrics = edict()\n",
    "        if _is_success(t_res):\n",
    "            valsel_metrics.entropy_loss = bcross_entropy_loss(t_res.cv_probs, t_res.Y)\n",
    "            valsel_metrics.mse_loss = np.mean((t_res.cv_probs - t_res.Y)**2)\n",
    "            valsel_metrics.mae_loss = np.mean(np.abs(t_res.cv_probs - t_res.Y))\n",
    "        else:\n",
    "            valsel_metrics.entropy_loss = -1\n",
    "            valsel_metrics.mse_loss = -1\n",
    "            valsel_metrics.mae_loss = -1\n",
    "        return (seed, N, lam), valsel_metrics\n",
    "    all_coms = itertools.product(range(cur_num_rep), can_Ns, can_lams)\n",
    "    with Parallel(n_jobs=1) as parallel:\n",
    "        all_cv_errs_list = parallel(delayed(_run_fn)(cur_seed, cur_N, cur_lam, c1=c1)  \n",
    "                                 for cur_seed, cur_N, cur_lam\n",
    "                                 in tqdm(all_coms, total=cur_num_rep*len(can_Ns)*len(can_lams), \n",
    "                                                      desc=f\"c1: {c1}\"))\n",
    "    all_cv_errs = {res[0]:res[1] for res in all_cv_errs_list};\n",
    "    save_pkl(cur_save_dir/f\"all-valsel-metrics_c1_{c1*1000:.0f}.pkl\", all_cv_errs, is_force=1)"
   ]
  },
  {
   "cell_type": "code",
   "execution_count": null,
   "id": "0d86e546-f1aa-4fa9-99b2-8bc07ac031ec",
   "metadata": {},
   "outputs": [],
   "source": []
  },
  {
   "cell_type": "markdown",
   "id": "f3189271-865f-47c1-ba40-2a026eb64d28",
   "metadata": {},
   "source": [
    "## Pre-ana"
   ]
  },
  {
   "cell_type": "code",
   "execution_count": 79,
   "id": "760e6728-0c64-44b9-ac39-c0ca4c89b3d8",
   "metadata": {
    "execution": {
     "iopub.execute_input": "2023-11-28T21:03:37.582293Z",
     "iopub.status.busy": "2023-11-28T21:03:37.581636Z",
     "iopub.status.idle": "2023-11-28T21:03:37.683894Z",
     "shell.execute_reply": "2023-11-28T21:03:37.682809Z",
     "shell.execute_reply.started": "2023-11-28T21:03:37.582247Z"
    },
    "tags": []
   },
   "outputs": [
    {
     "data": {
      "text/plain": [
       "0.4"
      ]
     },
     "execution_count": 79,
     "metadata": {},
     "output_type": "execute_result"
    }
   ],
   "source": [
    "c1 = 0.4"
   ]
  },
  {
   "cell_type": "code",
   "execution_count": 80,
   "id": "f1b69959-28cc-4ceb-97e8-624abeb2f7e8",
   "metadata": {
    "execution": {
     "iopub.execute_input": "2023-11-28T21:03:38.003267Z",
     "iopub.status.busy": "2023-11-28T21:03:38.002709Z",
     "iopub.status.idle": "2023-11-28T21:03:38.206986Z",
     "shell.execute_reply": "2023-11-28T21:03:38.206394Z",
     "shell.execute_reply.started": "2023-11-28T21:03:38.003222Z"
    },
    "tags": []
   },
   "outputs": [
    {
     "name": "stdout",
     "output_type": "stream",
     "text": [
      "Load file /data/rajlab1/user_data/jin/MyResearch/HDF_infer/notebooks/simu_real/../../mypkg/../results/simu_logi_setting1a_400/all-valsel-metrics_c1_400.pkl\n"
     ]
    },
    {
     "name": "stderr",
     "output_type": "stream",
     "text": [
      "c1: 0.4: 100%|████████████████████████████████████████████████████████████████████████████████████████████████████████████████████████████| 200/200 [00:00<00:00, 18654.20it/s]\n"
     ]
    }
   ],
   "source": [
    "def _run_fn1(seed, all_cv_errs):\n",
    "    errs_mat = []\n",
    "    for cur_N in can_Ns:\n",
    "        errs = []\n",
    "        for cur_lam in can_lams:\n",
    "            errs.append(all_cv_errs[(seed, cur_N, cur_lam)].mse_loss)\n",
    "            #errs.append(all_cv_errs[(seed, cur_N, cur_lam)].entropy_loss)\n",
    "        errs_mat.append(errs)\n",
    "    errs_mat = np.array(errs_mat)\n",
    "    return errs_mat\n",
    "cur_save_dir = RES_ROOT/f\"simu_logi_{setting}_{c1*1000:.0f}\"\n",
    "all_cv_errs = load_pkl(cur_save_dir/f\"all-valsel-metrics_c1_{c1*1000:.0f}.pkl\")\n",
    "num_seed = len(np.unique(list(map(lambda x: x[0], all_cv_errs.keys()))))\n",
    "# do not make n_jobs>1, it is very slow\n",
    "with Parallel(n_jobs=1) as parallel:\n",
    "    err_ten = parallel(delayed(_run_fn1)(cur_seed, all_cv_errs)  \n",
    "                             for cur_seed in tqdm(range(num_seed), total=num_seed, desc=f\"c1: {c1}\"))\n",
    "err_ten = np.array(err_ten);"
   ]
  },
  {
   "cell_type": "code",
   "execution_count": 81,
   "id": "d2cb5f3d-1a05-4645-b438-97c8b5bb96ba",
   "metadata": {
    "execution": {
     "iopub.execute_input": "2023-11-28T21:03:38.712541Z",
     "iopub.status.busy": "2023-11-28T21:03:38.711956Z",
     "iopub.status.idle": "2023-11-28T21:03:38.749310Z",
     "shell.execute_reply": "2023-11-28T21:03:38.748445Z",
     "shell.execute_reply.started": "2023-11-28T21:03:38.712493Z"
    },
    "tags": []
   },
   "outputs": [],
   "source": [
    "# remove NAN\n",
    "err_ten = err_ten[np.isnan(err_ten).sum(axis=(1, 2)) == 0];\n",
    "err_ten = err_ten[(err_ten==-1).sum(axis=(1, 2)) == 0];"
   ]
  },
  {
   "cell_type": "code",
   "execution_count": 82,
   "id": "6f9534a4-db3c-4606-a358-d2c4f991c763",
   "metadata": {
    "execution": {
     "iopub.execute_input": "2023-11-28T21:03:39.281596Z",
     "iopub.status.busy": "2023-11-28T21:03:39.281046Z",
     "iopub.status.idle": "2023-11-28T21:03:39.324015Z",
     "shell.execute_reply": "2023-11-28T21:03:39.323351Z",
     "shell.execute_reply.started": "2023-11-28T21:03:39.281552Z"
    },
    "tags": []
   },
   "outputs": [
    {
     "data": {
      "text/plain": [
       "(6, 0.15, 0.15)"
      ]
     },
     "execution_count": 82,
     "metadata": {},
     "output_type": "execute_result"
    }
   ],
   "source": [
    "err_ten_ses = err_ten.std(axis=0)/np.sqrt(err_ten.shape[0])\n",
    "err_m = np.mean(np.array(err_ten), axis=0)\n",
    "errs = []\n",
    "for err in err_m:\n",
    "    lam_min_idx = _get_min_idx(err)\n",
    "    errs.append((err[lam_min_idx], lam_min_idx))\n",
    "errs = np.array(errs)\n",
    "N_min_idx = np.argmin(errs[:, 0]);\n",
    "lam_min_idx = int(errs[N_min_idx][1]);\n",
    "min_opt_N, min_opt_lam = can_Ns[N_min_idx], can_lams[lam_min_idx]\n",
    "min_opt_N, min_opt_lam\n",
    "\n",
    "err_upbd = err_m[N_min_idx, lam_min_idx] + err_ten_ses[N_min_idx, lam_min_idx]; \n",
    "lam_1se_idx = np.where(err_m[N_min_idx] <= err_upbd)[0].max();\n",
    "(can_Ns[N_min_idx], can_lams[lam_min_idx], can_lams[lam_1se_idx])"
   ]
  },
  {
   "cell_type": "code",
   "execution_count": 83,
   "id": "9a21aadc-a8fa-48a9-b505-932f19dbd568",
   "metadata": {
    "execution": {
     "iopub.execute_input": "2023-11-28T21:03:40.098941Z",
     "iopub.status.busy": "2023-11-28T21:03:40.098405Z",
     "iopub.status.idle": "2023-11-28T21:03:40.402672Z",
     "shell.execute_reply": "2023-11-28T21:03:40.402243Z",
     "shell.execute_reply.started": "2023-11-28T21:03:40.098897Z"
    },
    "tags": []
   },
   "outputs": [
    {
     "data": {
      "image/png": "[encoded data removed]",
      "text/plain": [
       "<Figure size 864x432 with 2 Axes>"
      ]
     },
     "metadata": {
      "needs_background": "light"
     },
     "output_type": "display_data"
    }
   ],
   "source": [
    "err_m = np.mean(np.array(err_ten), axis=0)\n",
    "plt.figure(figsize=[12, 6])\n",
    "sns.heatmap(err_m, annot=err_m, fmt=\".3f\")\n",
    "plt.xticks(np.arange(len(can_lams))+0.5, can_lams);\n",
    "plt.yticks(np.arange(len(can_Ns))+0.5, can_Ns);"
   ]
  },
  {
   "cell_type": "code",
   "execution_count": null,
   "id": "d8df0e15-24b2-4939-84b6-78a48db6d627",
   "metadata": {},
   "outputs": [],
   "source": []
  },
  {
   "cell_type": "code",
   "execution_count": null,
   "id": "c4d346ec-0d18-460b-8eae-79f96d4cd7af",
   "metadata": {},
   "outputs": [],
   "source": []
  },
  {
   "cell_type": "markdown",
   "id": "181957a8-0dd4-48a9-bc45-02938ecc817d",
   "metadata": {},
   "source": [
    "## Step 2 (only need once)"
   ]
  },
  {
   "cell_type": "code",
   "execution_count": 85,
   "id": "bc776081-a661-4ed1-ba4e-f1eccebceac0",
   "metadata": {
    "execution": {
     "iopub.execute_input": "2023-11-28T21:05:33.267765Z",
     "iopub.status.busy": "2023-11-28T21:05:33.267123Z",
     "iopub.status.idle": "2023-11-28T21:05:33.372193Z",
     "shell.execute_reply": "2023-11-28T21:05:33.370846Z",
     "shell.execute_reply.started": "2023-11-28T21:05:33.267721Z"
    },
    "tags": []
   },
   "outputs": [],
   "source": [
    "def _test_fn(Cmat, est_res, svdinv_eps_Q=0, svdinv_eps_Psi=0):\n",
    "    torch.set_default_tensor_type(torch.DoubleTensor)\n",
    "    _paras = est_res._paras\n",
    "    _paras.svdinv_eps_Q = svdinv_eps_Q\n",
    "    _paras.svdinv_eps_Psi = svdinv_eps_Psi\n",
    "    \n",
    "    T_v = obt_test_stat_simple2(Q_mat_part=est_res.Q_mat_part,\n",
    "                               Sig_mat_part=est_res.Sig_mat_part,\n",
    "                               est_alp=est_res.est_alp, \n",
    "                               est_Gam=est_res.est_Gam,\n",
    "                               Cmat=Cmat,\n",
    "                               paras=_paras,\n",
    "                               ).item() \n",
    "    pval = chi2.sf(T_v, Cmat.shape[0]*_paras.N)\n",
    "    \n",
    "    res = edict()\n",
    "    res.T_v = T_v\n",
    "    res.pval = pval\n",
    "    res.Cmat = Cmat\n",
    "    return res"
   ]
  },
  {
   "cell_type": "code",
   "execution_count": null,
   "id": "1e999a44-3fa8-45e2-a823-32f019843d91",
   "metadata": {},
   "outputs": [],
   "source": []
  },
  {
   "cell_type": "markdown",
   "id": "22be2a19-2156-4bf5-82e3-db9c86c88f74",
   "metadata": {},
   "source": [
    "### Fix N and adaptive lam"
   ]
  },
  {
   "cell_type": "code",
   "execution_count": 87,
   "id": "bb0efead-1b70-4212-9cf8-ab5832a1bca9",
   "metadata": {
    "execution": {
     "iopub.execute_input": "2023-11-28T21:07:04.836607Z",
     "iopub.status.busy": "2023-11-28T21:07:04.835798Z",
     "iopub.status.idle": "2023-11-28T21:07:05.017938Z",
     "shell.execute_reply": "2023-11-28T21:07:05.017312Z",
     "shell.execute_reply.started": "2023-11-28T21:07:04.836558Z"
    },
    "tags": []
   },
   "outputs": [
    {
     "name": "stderr",
     "output_type": "stream",
     "text": [
      "100%|████████████████████████████████████████████████████████████████████████████████████████████████████████████████████████████████████████████| 3/3 [00:00<00:00, 21.66it/s]"
     ]
    },
    {
     "name": "stdout",
     "output_type": "stream",
     "text": [
      "Load file /data/rajlab1/user_data/jin/MyResearch/HDF_infer/notebooks/simu_real/../../mypkg/../results/simu_logi_setting1a_0/all-valsel-metrics_c1_0.pkl\n",
      "Load file /data/rajlab1/user_data/jin/MyResearch/HDF_infer/notebooks/simu_real/../../mypkg/../results/simu_logi_setting1a_400/all-valsel-metrics_c1_400.pkl\n",
      "Load file /data/rajlab1/user_data/jin/MyResearch/HDF_infer/notebooks/simu_real/../../mypkg/../results/simu_logi_setting1a_800/all-valsel-metrics_c1_800.pkl\n"
     ]
    },
    {
     "name": "stderr",
     "output_type": "stream",
     "text": [
      "\n"
     ]
    }
   ],
   "source": [
    "# then given N, find opt lam\n",
    "def _run_fn_fixN(seed, optN, all_cv_errs):\n",
    "    errs = []\n",
    "    for cur_lam in can_lams:\n",
    "        errs.append(all_cv_errs[(seed, optN, cur_lam)].entropy_loss)\n",
    "    min_idx = _get_min_idx(errs);\n",
    "    return (seed, optN, can_lams[min_idx], errs[min_idx])\n",
    "\n",
    "optN = 6\n",
    "opt_lamss = dict()\n",
    "for c1 in tqdm(c1s):\n",
    "    cur_save_dir = RES_ROOT/f\"simu_logi_{setting}_{c1*1000:.0f}\"\n",
    "    all_cv_errs = load_pkl(cur_save_dir/f\"all-valsel-metrics_c1_{c1*1000:.0f}.pkl\")\n",
    "    num_seed = len(np.unique(list(map(lambda x: x[0], all_cv_errs.keys()))))\n",
    "    opt_lams = [_run_fn_fixN(seed, optN, all_cv_errs) for seed in range(num_seed)]\n",
    "    opt_lamss[c1] = opt_lams"
   ]
  },
  {
   "cell_type": "raw",
   "id": "7a89a925-7dbe-48c4-b9ab-c219b095dd81",
   "metadata": {
    "execution": {
     "iopub.execute_input": "2023-11-28T21:07:20.491279Z",
     "iopub.status.busy": "2023-11-28T21:07:20.490615Z",
     "iopub.status.idle": "2023-11-28T21:07:20.612876Z",
     "shell.execute_reply": "2023-11-28T21:07:20.612062Z",
     "shell.execute_reply.started": "2023-11-28T21:07:20.491234Z"
    },
    "tags": []
   },
   "source": [
    "for k, v in opt_lamss.items():\n",
    "    v = np.array(v)[:, 1:3]\n",
    "    combos, cts = np.unique(v, axis=0, return_counts=1)\n",
    "    tres = np.concatenate([combos, cts.reshape(-1, 1)], axis=1)\n",
    "    display(pd.DataFrame(tres));"
   ]
  },
  {
   "cell_type": "code",
   "execution_count": 90,
   "id": "f59ef092-84d1-4e78-b292-4bac7d16a404",
   "metadata": {
    "execution": {
     "iopub.execute_input": "2023-11-28T21:08:18.871525Z",
     "iopub.status.busy": "2023-11-28T21:08:18.870890Z",
     "iopub.status.idle": "2023-11-28T21:08:56.512450Z",
     "shell.execute_reply": "2023-11-28T21:08:56.511095Z",
     "shell.execute_reply.started": "2023-11-28T21:08:18.871481Z"
    },
    "scrolled": true,
    "tags": []
   },
   "outputs": [
    {
     "name": "stderr",
     "output_type": "stream",
     "text": [
      "c1: 0: 100%|█████████████████████████████████████████████████████████████████████████████████████████████████████████████████████████████████| 200/200 [00:15<00:00, 13.14it/s]\n"
     ]
    },
    {
     "name": "stdout",
     "output_type": "stream",
     "text": [
      "Save to /data/rajlab1/user_data/jin/MyResearch/HDF_infer/notebooks/simu_real/../../mypkg/../results/simu_logi_setting1a_0/opt_lamNsfixN_c1_0_ress.pkl\n"
     ]
    },
    {
     "name": "stderr",
     "output_type": "stream",
     "text": [
      "c1: 400: 100%|███████████████████████████████████████████████████████████████████████████████████████████████████████████████████████████████| 200/200 [00:11<00:00, 17.55it/s]\n"
     ]
    },
    {
     "name": "stdout",
     "output_type": "stream",
     "text": [
      "Save to /data/rajlab1/user_data/jin/MyResearch/HDF_infer/notebooks/simu_real/../../mypkg/../results/simu_logi_setting1a_400/opt_lamNsfixN_c1_400_ress.pkl\n"
     ]
    },
    {
     "name": "stderr",
     "output_type": "stream",
     "text": [
      "c1: 800: 100%|███████████████████████████████████████████████████████████████████████████████████████████████████████████████████████████████| 200/200 [00:10<00:00, 18.57it/s]\n"
     ]
    },
    {
     "name": "stdout",
     "output_type": "stream",
     "text": [
      "Save to /data/rajlab1/user_data/jin/MyResearch/HDF_infer/notebooks/simu_real/../../mypkg/../results/simu_logi_setting1a_800/opt_lamNsfixN_c1_800_ress.pkl\n"
     ]
    }
   ],
   "source": [
    "cans = [1e-5, 3e-6, 1e-6, 3e-7, 1e-7, 3e-8, 1e-8, 3e-9, 1e-9, 3e-10, 0]\n",
    "all_coms = [(can, can) for can in cans]\n",
    "#all_coms = list(itertools.product(cans, cans))\n",
    "for c1 in c1s:\n",
    "    cur_save_dir = RES_ROOT/f\"simu_logi_{setting}_{c1*1000:.0f}\"\n",
    "    opt_lamNs =  opt_lamss[c1]\n",
    "    ress = []\n",
    "    for cur_seed, cur_N, cur_lam, _ in tqdm(opt_lamNs, desc=f\"c1: {c1*1000:.0f}\"):\n",
    "        f1_name = f\"seed_{cur_seed:.0f}-lam_{cur_lam*1000:.0f}-N_{cur_N:.0f}-c1_{c1*1000:.0f}_est.pkl\"\n",
    "        res1 = load_pkl(cur_save_dir/f1_name, verbose=False);\n",
    "        res = []\n",
    "        with Parallel(n_jobs=20) as parallel:\n",
    "            res = parallel(delayed(_test_fn)(Cmat=Cmat, est_res=res1, \n",
    "                                             svdinv_eps_Q=rtols[0], \n",
    "                                             svdinv_eps_Psi=rtols[1]) for rtols\n",
    "                                             in all_coms)\n",
    "    \n",
    "        ress.append(res)\n",
    "    ress = np.array(ress);\n",
    "    save_pkl(cur_save_dir/f\"opt_lamNsfixN_c1_{c1*1000:.0f}_ress.pkl\", ress, is_force=1)"
   ]
  },
  {
   "cell_type": "code",
   "execution_count": null,
   "id": "faafd3f6-c6d4-4fc0-92b1-df0cce5f56d5",
   "metadata": {},
   "outputs": [],
   "source": []
  },
  {
   "cell_type": "markdown",
   "id": "eebcdc95-9745-4ca3-aa64-54b9dee57d1a",
   "metadata": {},
   "source": [
    "### Fix N and adaptive lam but 1se"
   ]
  },
  {
   "cell_type": "code",
   "execution_count": null,
   "id": "61c90327-1fa2-4e35-851b-9c71b0a4524c",
   "metadata": {},
   "outputs": [],
   "source": [
    "def _get_cv_se(cv_errs, num_fold):\n",
    "    \"\"\"Get CV SE to use the one standard error rule.\n",
    "        (from zotero://select/library/items/BPMP3MBP)\n",
    "    \"\"\"\n",
    "    cv_errs_mul = cv_errs.reshape(num_fold, -1);\n",
    "    sd = np.std(np.mean(cv_errs_mul**2, axis=-1))\n",
    "    se = sd/np.sqrt(num_fold)\n",
    "    return se"
   ]
  },
  {
   "cell_type": "code",
   "execution_count": 85,
   "id": "88c53f56-3290-429f-89a5-f675044f7977",
   "metadata": {
    "execution": {
     "iopub.execute_input": "2023-10-23T18:43:36.680150Z",
     "iopub.status.busy": "2023-10-23T18:43:36.679526Z",
     "iopub.status.idle": "2023-10-23T18:43:49.900399Z",
     "shell.execute_reply": "2023-10-23T18:43:49.899895Z",
     "shell.execute_reply.started": "2023-10-23T18:43:36.680101Z"
    },
    "tags": []
   },
   "outputs": [
    {
     "name": "stdout",
     "output_type": "stream",
     "text": [
      "Load file /data/rajlab1/user_data/jin/MyResearch/HDF_infer/notebooks/simu_cmp2sinica/../../mypkg/../results/simu_setting4d_0/all-valsel-metrics_c1_0.pkl\n"
     ]
    },
    {
     "name": "stderr",
     "output_type": "stream",
     "text": [
      "c1: 0.0: 100%|██████████████████████████████████████████████████████████████████████████████████████████████████████████████████████████████| 200/200 [00:00<00:00, 753.69it/s]\n"
     ]
    },
    {
     "name": "stdout",
     "output_type": "stream",
     "text": [
      "Load file /data/rajlab1/user_data/jin/MyResearch/HDF_infer/notebooks/simu_cmp2sinica/../../mypkg/../results/simu_setting4d_0/all-valsel-metrics_c1_0.pkl\n"
     ]
    },
    {
     "name": "stderr",
     "output_type": "stream",
     "text": [
      "c1: 0.0: 100%|██████████████████████████████████████████████████████████████████████████████████████████████████████████████████████████████| 200/200 [00:00<00:00, 626.02it/s]\n"
     ]
    },
    {
     "name": "stdout",
     "output_type": "stream",
     "text": [
      "Load file /data/rajlab1/user_data/jin/MyResearch/HDF_infer/notebooks/simu_cmp2sinica/../../mypkg/../results/simu_setting4d_200/all-valsel-metrics_c1_200.pkl\n"
     ]
    },
    {
     "name": "stderr",
     "output_type": "stream",
     "text": [
      "c1: 0.2: 100%|██████████████████████████████████████████████████████████████████████████████████████████████████████████████████████████████| 200/200 [00:00<00:00, 700.49it/s]\n"
     ]
    },
    {
     "name": "stdout",
     "output_type": "stream",
     "text": [
      "Load file /data/rajlab1/user_data/jin/MyResearch/HDF_infer/notebooks/simu_cmp2sinica/../../mypkg/../results/simu_setting4d_200/all-valsel-metrics_c1_200.pkl\n"
     ]
    },
    {
     "name": "stderr",
     "output_type": "stream",
     "text": [
      "c1: 0.2: 100%|██████████████████████████████████████████████████████████████████████████████████████████████████████████████████████████████| 200/200 [00:00<00:00, 631.33it/s]\n"
     ]
    },
    {
     "name": "stdout",
     "output_type": "stream",
     "text": [
      "Load file /data/rajlab1/user_data/jin/MyResearch/HDF_infer/notebooks/simu_cmp2sinica/../../mypkg/../results/simu_setting4d_400/all-valsel-metrics_c1_400.pkl\n"
     ]
    },
    {
     "name": "stderr",
     "output_type": "stream",
     "text": [
      "c1: 0.4: 100%|██████████████████████████████████████████████████████████████████████████████████████████████████████████████████████████████| 200/200 [00:00<00:00, 705.06it/s]\n"
     ]
    },
    {
     "name": "stdout",
     "output_type": "stream",
     "text": [
      "Load file /data/rajlab1/user_data/jin/MyResearch/HDF_infer/notebooks/simu_cmp2sinica/../../mypkg/../results/simu_setting4d_400/all-valsel-metrics_c1_400.pkl\n"
     ]
    },
    {
     "name": "stderr",
     "output_type": "stream",
     "text": [
      "c1: 0.4: 100%|██████████████████████████████████████████████████████████████████████████████████████████████████████████████████████████████| 200/200 [00:00<00:00, 624.47it/s]\n"
     ]
    }
   ],
   "source": [
    "optN = 6\n",
    "c1 = 0\n",
    "optlamss_1se = {}\n",
    "for c1 in c1s:\n",
    "    def _run_fn1(seed, all_cv_errs):\n",
    "        errs_mat = []\n",
    "        for cur_N in can_Ns:\n",
    "            errs = []\n",
    "            for cur_lam in can_lams:\n",
    "                #errs.append(all_cv_errs[(seed, cur_N, cur_lam)].BIC)\n",
    "                errs.append(_err_fn(all_cv_errs[(seed, cur_N, cur_lam)].cv_errs))\n",
    "            errs_mat.append(errs)\n",
    "        errs_mat = np.array(errs_mat)\n",
    "        return errs_mat\n",
    "    cur_save_dir = RES_ROOT/f\"simu_{setting}_{c1*1000:.0f}\"\n",
    "    all_cv_errs = load_pkl(cur_save_dir/f\"all-valsel-metrics_c1_{c1*1000:.0f}.pkl\")\n",
    "    num_seed = len(np.unique(list(map(lambda x: x[0], all_cv_errs.keys()))))\n",
    "    # do not make n_jobs>1, it is very slow\n",
    "    with Parallel(n_jobs=1) as parallel:\n",
    "        err_ten = parallel(delayed(_run_fn1)(cur_seed, all_cv_errs)  \n",
    "                                 for cur_seed in tqdm(range(num_seed), total=num_seed, desc=f\"c1: {c1}\"))\n",
    "    def _run_fn2(seed, all_cv_errs):\n",
    "        errs_mat = []\n",
    "        for cur_N in can_Ns:\n",
    "            errs = []\n",
    "            for cur_lam in can_lams:\n",
    "                #errs.append(all_cv_errs[(seed, cur_N, cur_lam)].BIC)\n",
    "                errs.append(_get_cv_se(all_cv_errs[(seed, cur_N, cur_lam)].cv_errs, num_fold=20))\n",
    "            errs_mat.append(errs)\n",
    "        errs_mat = np.array(errs_mat)\n",
    "        return errs_mat\n",
    "    cur_save_dir = RES_ROOT/f\"simu_{setting}_{c1*1000:.0f}\"\n",
    "    all_cv_errs = load_pkl(cur_save_dir/f\"all-valsel-metrics_c1_{c1*1000:.0f}.pkl\")\n",
    "    num_seed = len(np.unique(list(map(lambda x: x[0], all_cv_errs.keys()))))\n",
    "    # do not make n_jobs>1, it is very slow\n",
    "    with Parallel(n_jobs=1) as parallel:\n",
    "        err_se_ten = parallel(delayed(_run_fn2)(cur_seed, all_cv_errs)  \n",
    "                                 for cur_seed in tqdm(range(num_seed), total=num_seed, desc=f\"c1: {c1}\"))\n",
    "    err_ten = np.array(err_ten);\n",
    "    err_se_ten = np.array(err_se_ten);\n",
    "    \n",
    "    err_ten_optN = err_ten[:, can_Ns.index(optN)]\n",
    "    err_se_ten_optN = err_se_ten[:, can_Ns.index(optN)];\n",
    "    optlams_1se = []\n",
    "    for cur_seed in range(num_rep):\n",
    "        min_idx_lam = _get_min_idx(err_ten_optN[cur_seed])\n",
    "        upbd = err_ten_optN[cur_seed, min_idx_lam] + err_se_ten_optN[cur_seed, min_idx_lam]\n",
    "        min1se_idx_lam = np.max(np.where(err_ten_optN[cur_seed]<=upbd)[0])\n",
    "        optlams_1se.append((cur_seed, optN, can_lams[min1se_idx_lam]))\n",
    "    optlamss_1se[c1] = optlams_1se"
   ]
  },
  {
   "cell_type": "code",
   "execution_count": 87,
   "id": "5013f70d-a458-4504-88b7-5eef2f6d0620",
   "metadata": {
    "execution": {
     "iopub.execute_input": "2023-10-23T18:44:25.598811Z",
     "iopub.status.busy": "2023-10-23T18:44:25.598046Z",
     "iopub.status.idle": "2023-10-23T18:45:17.109626Z",
     "shell.execute_reply": "2023-10-23T18:45:17.108211Z",
     "shell.execute_reply.started": "2023-10-23T18:44:25.598752Z"
    },
    "tags": []
   },
   "outputs": [
    {
     "name": "stderr",
     "output_type": "stream",
     "text": [
      "c1: 0: 100%|█████████████████████████████████████████████████████████████████████████████████████████████████████████████████████████████████| 200/200 [00:19<00:00, 10.25it/s]\n"
     ]
    },
    {
     "name": "stdout",
     "output_type": "stream",
     "text": [
      "Save to /data/rajlab1/user_data/jin/MyResearch/HDF_infer/notebooks/simu_cmp2sinica/../../mypkg/../results/simu_setting4d_0/opt_lamNsfixN1se_c1_0_ress.pkl\n"
     ]
    },
    {
     "name": "stderr",
     "output_type": "stream",
     "text": [
      "c1: 200: 100%|███████████████████████████████████████████████████████████████████████████████████████████████████████████████████████████████| 200/200 [00:16<00:00, 11.91it/s]\n"
     ]
    },
    {
     "name": "stdout",
     "output_type": "stream",
     "text": [
      "Save to /data/rajlab1/user_data/jin/MyResearch/HDF_infer/notebooks/simu_cmp2sinica/../../mypkg/../results/simu_setting4d_200/opt_lamNsfixN1se_c1_200_ress.pkl\n"
     ]
    },
    {
     "name": "stderr",
     "output_type": "stream",
     "text": [
      "c1: 400: 100%|███████████████████████████████████████████████████████████████████████████████████████████████████████████████████████████████| 200/200 [00:14<00:00, 13.51it/s]\n"
     ]
    },
    {
     "name": "stdout",
     "output_type": "stream",
     "text": [
      "Save to /data/rajlab1/user_data/jin/MyResearch/HDF_infer/notebooks/simu_cmp2sinica/../../mypkg/../results/simu_setting4d_400/opt_lamNsfixN1se_c1_400_ress.pkl\n"
     ]
    }
   ],
   "source": [
    "# for adaptive lam N\n",
    "cans = [1e-5, 3e-6, 1e-6, 3e-7, 1e-7, 3e-8, 1e-8, 3e-9, 1e-9, 3e-10, 0]\n",
    "all_coms = [(can, can) for can in cans]\n",
    "#all_coms = list(itertools.product(cans, cans))\n",
    "for c1 in c1s:\n",
    "    cur_save_dir = RES_ROOT/f\"simu_{setting}_{c1*1000:.0f}\"\n",
    "    optlams_1se =  optlamss_1se[c1]\n",
    "    ress = []\n",
    "    for cur_seed, cur_N, cur_lam in tqdm(optlams_1se, desc=f\"c1: {c1*1000:.0f}\"):\n",
    "        f1_name = f\"seed_{cur_seed:.0f}-lam_{cur_lam*1000:.0f}-N_{cur_N:.0f}-c1_{c1*1000:.0f}_est.pkl\"\n",
    "        res1 = load_pkl(cur_save_dir/f1_name, verbose=False);\n",
    "        res = []\n",
    "        with Parallel(n_jobs=20) as parallel:\n",
    "            res = parallel(delayed(_test_fn1)(Cmat=Cmat, est_res=res1, \n",
    "                                             svdinv_eps_Q=rtols[0], \n",
    "                                             svdinv_eps_Psi=rtols[1]) for rtols\n",
    "                                             in all_coms)\n",
    "    \n",
    "        ress.append(res)\n",
    "    ress = np.array(ress);\n",
    "    save_pkl(cur_save_dir/f\"opt_lamNsfixN1se_c1_{c1*1000:.0f}_ress.pkl\", ress, is_force=1)"
   ]
  },
  {
   "cell_type": "code",
   "execution_count": null,
   "id": "8e55dfd1-c6b8-45bb-afcb-4f6151c42239",
   "metadata": {},
   "outputs": [],
   "source": []
  },
  {
   "cell_type": "markdown",
   "id": "cdbb86ff-b4df-4fd5-95b5-35ebb0d6bd12",
   "metadata": {},
   "source": [
    "### Adaptive N and lam"
   ]
  },
  {
   "cell_type": "code",
   "execution_count": 93,
   "id": "b54f2daa-da4e-43a5-9fbd-6615fa32465e",
   "metadata": {
    "execution": {
     "iopub.execute_input": "2023-11-28T21:10:25.493746Z",
     "iopub.status.busy": "2023-11-28T21:10:25.493095Z",
     "iopub.status.idle": "2023-11-28T21:10:26.060415Z",
     "shell.execute_reply": "2023-11-28T21:10:26.059955Z",
     "shell.execute_reply.started": "2023-11-28T21:10:25.493701Z"
    },
    "tags": []
   },
   "outputs": [
    {
     "name": "stdout",
     "output_type": "stream",
     "text": [
      "Load file /data/rajlab1/user_data/jin/MyResearch/HDF_infer/notebooks/simu_real/../../mypkg/../results/simu_logi_setting1a_0/all-valsel-metrics_c1_0.pkl\n"
     ]
    },
    {
     "name": "stderr",
     "output_type": "stream",
     "text": [
      "c1: 0.0: 100%|█████████████████████████████████████████████████████████████████████████████████████████████████████████████████████████████| 200/200 [00:00<00:00, 7467.23it/s]\n"
     ]
    },
    {
     "name": "stdout",
     "output_type": "stream",
     "text": [
      "Load file /data/rajlab1/user_data/jin/MyResearch/HDF_infer/notebooks/simu_real/../../mypkg/../results/simu_logi_setting1a_400/all-valsel-metrics_c1_400.pkl\n"
     ]
    },
    {
     "name": "stderr",
     "output_type": "stream",
     "text": [
      "c1: 0.4: 100%|█████████████████████████████████████████████████████████████████████████████████████████████████████████████████████████████| 200/200 [00:00<00:00, 6048.33it/s]\n"
     ]
    },
    {
     "name": "stdout",
     "output_type": "stream",
     "text": [
      "Load file /data/rajlab1/user_data/jin/MyResearch/HDF_infer/notebooks/simu_real/../../mypkg/../results/simu_logi_setting1a_800/all-valsel-metrics_c1_800.pkl\n"
     ]
    },
    {
     "name": "stderr",
     "output_type": "stream",
     "text": [
      "c1: 0.8: 100%|█████████████████████████████████████████████████████████████████████████████████████████████████████████████████████████████| 200/200 [00:00<00:00, 7543.24it/s]\n"
     ]
    }
   ],
   "source": [
    "def _run_fn(seed, all_cv_errs):\n",
    "    errs_N = []\n",
    "    for cur_N in can_Ns:\n",
    "        errs = []\n",
    "        for cur_lam in can_lams:\n",
    "            errs.append(all_cv_errs[(seed, cur_N, cur_lam)].entropy_loss)\n",
    "        min_idx = _get_min_idx(errs);\n",
    "        errs_N.append((seed, cur_N, can_lams[min_idx], errs[min_idx]))\n",
    "    errs_N_sorted = sorted(errs_N, key=lambda x:x[-1]);\n",
    "    return errs_N_sorted[0]\n",
    "\n",
    "opt_lamNss = dict()\n",
    "for c1 in c1s:\n",
    "    cur_save_dir = RES_ROOT/f\"simu_logi_{setting}_{c1*1000:.0f}\"\n",
    "    all_cv_errs = load_pkl(cur_save_dir/f\"all-valsel-metrics_c1_{c1*1000:.0f}.pkl\")\n",
    "    num_seed = len(np.unique(list(map(lambda x: x[0], all_cv_errs.keys()))))\n",
    "    # do not make n_jobs>1, it is very slow\n",
    "    with Parallel(n_jobs=1) as parallel:\n",
    "        opt_lamNs = parallel(delayed(_run_fn)(cur_seed, all_cv_errs)  \n",
    "                             for cur_seed in tqdm(range(num_seed), total=num_seed, desc=f\"c1: {c1}\"))\n",
    "    opt_lamNss[c1] = opt_lamNs"
   ]
  },
  {
   "cell_type": "code",
   "execution_count": 95,
   "id": "72469e51-ecd0-45b6-8ae5-bfa4b1f5a4cc",
   "metadata": {
    "execution": {
     "iopub.execute_input": "2023-11-28T21:10:41.376300Z",
     "iopub.status.busy": "2023-11-28T21:10:41.375494Z",
     "iopub.status.idle": "2023-11-28T21:11:15.711404Z",
     "shell.execute_reply": "2023-11-28T21:11:15.710186Z",
     "shell.execute_reply.started": "2023-11-28T21:10:41.376248Z"
    },
    "scrolled": true,
    "tags": []
   },
   "outputs": [
    {
     "name": "stderr",
     "output_type": "stream",
     "text": [
      "c1: 0: 100%|█████████████████████████████████████████████████████████████████████████████████████████████████████████████████████████████████| 200/200 [00:11<00:00, 17.64it/s]\n"
     ]
    },
    {
     "name": "stdout",
     "output_type": "stream",
     "text": [
      "Save to /data/rajlab1/user_data/jin/MyResearch/HDF_infer/notebooks/simu_real/../../mypkg/../results/simu_logi_setting1a_0/opt_lamNs_c1_0_ress.pkl\n"
     ]
    },
    {
     "name": "stderr",
     "output_type": "stream",
     "text": [
      "c1: 400: 100%|███████████████████████████████████████████████████████████████████████████████████████████████████████████████████████████████| 200/200 [00:11<00:00, 17.83it/s]\n"
     ]
    },
    {
     "name": "stdout",
     "output_type": "stream",
     "text": [
      "Save to /data/rajlab1/user_data/jin/MyResearch/HDF_infer/notebooks/simu_real/../../mypkg/../results/simu_logi_setting1a_400/opt_lamNs_c1_400_ress.pkl\n"
     ]
    },
    {
     "name": "stderr",
     "output_type": "stream",
     "text": [
      "c1: 800: 100%|███████████████████████████████████████████████████████████████████████████████████████████████████████████████████████████████| 200/200 [00:11<00:00, 17.31it/s]\n"
     ]
    },
    {
     "name": "stdout",
     "output_type": "stream",
     "text": [
      "Save to /data/rajlab1/user_data/jin/MyResearch/HDF_infer/notebooks/simu_real/../../mypkg/../results/simu_logi_setting1a_800/opt_lamNs_c1_800_ress.pkl\n"
     ]
    }
   ],
   "source": [
    "# for adaptive lam N\n",
    "cans = [1e-5, 3e-6, 1e-6, 3e-7, 1e-7, 3e-8, 1e-8, 3e-9, 1e-9, 3e-10, 0]\n",
    "all_coms = [(can, can) for can in cans]\n",
    "#all_coms = list(itertools.product(cans, cans))\n",
    "for c1 in c1s:\n",
    "    cur_save_dir = RES_ROOT/f\"simu_logi_{setting}_{c1*1000:.0f}\"\n",
    "    opt_lamNs =  opt_lamNss[c1]\n",
    "    ress = []\n",
    "    for cur_seed, cur_N, cur_lam, _ in tqdm(opt_lamNs, desc=f\"c1: {c1*1000:.0f}\"):\n",
    "        f1_name = f\"seed_{cur_seed:.0f}-lam_{cur_lam*1000:.0f}-N_{cur_N:.0f}-c1_{c1*1000:.0f}_est.pkl\"\n",
    "        res1 = load_pkl(cur_save_dir/f1_name, verbose=False);\n",
    "        res = []\n",
    "        with Parallel(n_jobs=20) as parallel:\n",
    "            res = parallel(delayed(_test_fn)(Cmat=Cmat, est_res=res1, \n",
    "                                             svdinv_eps_Q=rtols[0], \n",
    "                                             svdinv_eps_Psi=rtols[1]) for rtols\n",
    "                                             in all_coms)\n",
    "    \n",
    "        ress.append(res)\n",
    "    ress = np.array(ress);\n",
    "    save_pkl(cur_save_dir/f\"opt_lamNs_c1_{c1*1000:.0f}_ress.pkl\", ress, is_force=1)"
   ]
  },
  {
   "cell_type": "code",
   "execution_count": 96,
   "id": "0eec1aec-5497-42c4-b829-a32cee581e54",
   "metadata": {
    "execution": {
     "iopub.execute_input": "2023-11-28T21:11:17.798067Z",
     "iopub.status.busy": "2023-11-28T21:11:17.797458Z",
     "iopub.status.idle": "2023-11-28T21:11:17.859529Z",
     "shell.execute_reply": "2023-11-28T21:11:17.858929Z",
     "shell.execute_reply.started": "2023-11-28T21:11:17.798019Z"
    },
    "scrolled": true,
    "tags": []
   },
   "outputs": [
    {
     "data": {
      "text/html": [
       "<div>\n",
       "<style scoped>\n",
       "    .dataframe tbody tr th:only-of-type {\n",
       "        vertical-align: middle;\n",
       "    }\n",
       "\n",
       "    .dataframe tbody tr th {\n",
       "        vertical-align: top;\n",
       "    }\n",
       "\n",
       "    .dataframe thead th {\n",
       "        text-align: right;\n",
       "    }\n",
       "</style>\n",
       "<table border=\"1\" class=\"dataframe\">\n",
       "  <thead>\n",
       "    <tr style=\"text-align: right;\">\n",
       "      <th></th>\n",
       "      <th>0</th>\n",
       "      <th>1</th>\n",
       "      <th>2</th>\n",
       "    </tr>\n",
       "  </thead>\n",
       "  <tbody>\n",
       "    <tr>\n",
       "      <th>0</th>\n",
       "      <td>4.0</td>\n",
       "      <td>0.10</td>\n",
       "      <td>9.0</td>\n",
       "    </tr>\n",
       "    <tr>\n",
       "      <th>1</th>\n",
       "      <td>4.0</td>\n",
       "      <td>0.13</td>\n",
       "      <td>18.0</td>\n",
       "    </tr>\n",
       "    <tr>\n",
       "      <th>2</th>\n",
       "      <td>4.0</td>\n",
       "      <td>0.15</td>\n",
       "      <td>9.0</td>\n",
       "    </tr>\n",
       "    <tr>\n",
       "      <th>3</th>\n",
       "      <td>4.0</td>\n",
       "      <td>0.18</td>\n",
       "      <td>8.0</td>\n",
       "    </tr>\n",
       "    <tr>\n",
       "      <th>4</th>\n",
       "      <td>4.0</td>\n",
       "      <td>0.20</td>\n",
       "      <td>3.0</td>\n",
       "    </tr>\n",
       "    <tr>\n",
       "      <th>5</th>\n",
       "      <td>4.0</td>\n",
       "      <td>16.00</td>\n",
       "      <td>4.0</td>\n",
       "    </tr>\n",
       "    <tr>\n",
       "      <th>6</th>\n",
       "      <td>6.0</td>\n",
       "      <td>0.13</td>\n",
       "      <td>38.0</td>\n",
       "    </tr>\n",
       "    <tr>\n",
       "      <th>7</th>\n",
       "      <td>6.0</td>\n",
       "      <td>0.15</td>\n",
       "      <td>56.0</td>\n",
       "    </tr>\n",
       "    <tr>\n",
       "      <th>8</th>\n",
       "      <td>6.0</td>\n",
       "      <td>0.18</td>\n",
       "      <td>24.0</td>\n",
       "    </tr>\n",
       "    <tr>\n",
       "      <th>9</th>\n",
       "      <td>6.0</td>\n",
       "      <td>0.20</td>\n",
       "      <td>6.0</td>\n",
       "    </tr>\n",
       "    <tr>\n",
       "      <th>10</th>\n",
       "      <td>6.0</td>\n",
       "      <td>0.25</td>\n",
       "      <td>2.0</td>\n",
       "    </tr>\n",
       "    <tr>\n",
       "      <th>11</th>\n",
       "      <td>6.0</td>\n",
       "      <td>16.00</td>\n",
       "      <td>2.0</td>\n",
       "    </tr>\n",
       "    <tr>\n",
       "      <th>12</th>\n",
       "      <td>8.0</td>\n",
       "      <td>0.15</td>\n",
       "      <td>6.0</td>\n",
       "    </tr>\n",
       "    <tr>\n",
       "      <th>13</th>\n",
       "      <td>8.0</td>\n",
       "      <td>0.18</td>\n",
       "      <td>2.0</td>\n",
       "    </tr>\n",
       "    <tr>\n",
       "      <th>14</th>\n",
       "      <td>8.0</td>\n",
       "      <td>0.20</td>\n",
       "      <td>5.0</td>\n",
       "    </tr>\n",
       "    <tr>\n",
       "      <th>15</th>\n",
       "      <td>8.0</td>\n",
       "      <td>0.25</td>\n",
       "      <td>7.0</td>\n",
       "    </tr>\n",
       "    <tr>\n",
       "      <th>16</th>\n",
       "      <td>8.0</td>\n",
       "      <td>0.30</td>\n",
       "      <td>1.0</td>\n",
       "    </tr>\n",
       "  </tbody>\n",
       "</table>\n",
       "</div>"
      ],
      "text/plain": [
       "      0      1     2\n",
       "0   4.0   0.10   9.0\n",
       "1   4.0   0.13  18.0\n",
       "2   4.0   0.15   9.0\n",
       "3   4.0   0.18   8.0\n",
       "4   4.0   0.20   3.0\n",
       "5   4.0  16.00   4.0\n",
       "6   6.0   0.13  38.0\n",
       "7   6.0   0.15  56.0\n",
       "8   6.0   0.18  24.0\n",
       "9   6.0   0.20   6.0\n",
       "10  6.0   0.25   2.0\n",
       "11  6.0  16.00   2.0\n",
       "12  8.0   0.15   6.0\n",
       "13  8.0   0.18   2.0\n",
       "14  8.0   0.20   5.0\n",
       "15  8.0   0.25   7.0\n",
       "16  8.0   0.30   1.0"
      ]
     },
     "metadata": {},
     "output_type": "display_data"
    },
    {
     "data": {
      "text/html": [
       "<div>\n",
       "<style scoped>\n",
       "    .dataframe tbody tr th:only-of-type {\n",
       "        vertical-align: middle;\n",
       "    }\n",
       "\n",
       "    .dataframe tbody tr th {\n",
       "        vertical-align: top;\n",
       "    }\n",
       "\n",
       "    .dataframe thead th {\n",
       "        text-align: right;\n",
       "    }\n",
       "</style>\n",
       "<table border=\"1\" class=\"dataframe\">\n",
       "  <thead>\n",
       "    <tr style=\"text-align: right;\">\n",
       "      <th></th>\n",
       "      <th>0</th>\n",
       "      <th>1</th>\n",
       "      <th>2</th>\n",
       "    </tr>\n",
       "  </thead>\n",
       "  <tbody>\n",
       "    <tr>\n",
       "      <th>0</th>\n",
       "      <td>4.0</td>\n",
       "      <td>0.10</td>\n",
       "      <td>7.0</td>\n",
       "    </tr>\n",
       "    <tr>\n",
       "      <th>1</th>\n",
       "      <td>4.0</td>\n",
       "      <td>0.13</td>\n",
       "      <td>14.0</td>\n",
       "    </tr>\n",
       "    <tr>\n",
       "      <th>2</th>\n",
       "      <td>4.0</td>\n",
       "      <td>0.15</td>\n",
       "      <td>6.0</td>\n",
       "    </tr>\n",
       "    <tr>\n",
       "      <th>3</th>\n",
       "      <td>4.0</td>\n",
       "      <td>0.18</td>\n",
       "      <td>11.0</td>\n",
       "    </tr>\n",
       "    <tr>\n",
       "      <th>4</th>\n",
       "      <td>4.0</td>\n",
       "      <td>0.20</td>\n",
       "      <td>3.0</td>\n",
       "    </tr>\n",
       "    <tr>\n",
       "      <th>5</th>\n",
       "      <td>4.0</td>\n",
       "      <td>0.25</td>\n",
       "      <td>2.0</td>\n",
       "    </tr>\n",
       "    <tr>\n",
       "      <th>6</th>\n",
       "      <td>4.0</td>\n",
       "      <td>16.00</td>\n",
       "      <td>3.0</td>\n",
       "    </tr>\n",
       "    <tr>\n",
       "      <th>7</th>\n",
       "      <td>6.0</td>\n",
       "      <td>0.10</td>\n",
       "      <td>3.0</td>\n",
       "    </tr>\n",
       "    <tr>\n",
       "      <th>8</th>\n",
       "      <td>6.0</td>\n",
       "      <td>0.13</td>\n",
       "      <td>34.0</td>\n",
       "    </tr>\n",
       "    <tr>\n",
       "      <th>9</th>\n",
       "      <td>6.0</td>\n",
       "      <td>0.15</td>\n",
       "      <td>28.0</td>\n",
       "    </tr>\n",
       "    <tr>\n",
       "      <th>10</th>\n",
       "      <td>6.0</td>\n",
       "      <td>0.18</td>\n",
       "      <td>27.0</td>\n",
       "    </tr>\n",
       "    <tr>\n",
       "      <th>11</th>\n",
       "      <td>6.0</td>\n",
       "      <td>0.20</td>\n",
       "      <td>14.0</td>\n",
       "    </tr>\n",
       "    <tr>\n",
       "      <th>12</th>\n",
       "      <td>6.0</td>\n",
       "      <td>0.25</td>\n",
       "      <td>2.0</td>\n",
       "    </tr>\n",
       "    <tr>\n",
       "      <th>13</th>\n",
       "      <td>6.0</td>\n",
       "      <td>0.30</td>\n",
       "      <td>1.0</td>\n",
       "    </tr>\n",
       "    <tr>\n",
       "      <th>14</th>\n",
       "      <td>6.0</td>\n",
       "      <td>16.00</td>\n",
       "      <td>3.0</td>\n",
       "    </tr>\n",
       "    <tr>\n",
       "      <th>15</th>\n",
       "      <td>8.0</td>\n",
       "      <td>0.13</td>\n",
       "      <td>1.0</td>\n",
       "    </tr>\n",
       "    <tr>\n",
       "      <th>16</th>\n",
       "      <td>8.0</td>\n",
       "      <td>0.15</td>\n",
       "      <td>3.0</td>\n",
       "    </tr>\n",
       "    <tr>\n",
       "      <th>17</th>\n",
       "      <td>8.0</td>\n",
       "      <td>0.18</td>\n",
       "      <td>22.0</td>\n",
       "    </tr>\n",
       "    <tr>\n",
       "      <th>18</th>\n",
       "      <td>8.0</td>\n",
       "      <td>0.20</td>\n",
       "      <td>11.0</td>\n",
       "    </tr>\n",
       "    <tr>\n",
       "      <th>19</th>\n",
       "      <td>8.0</td>\n",
       "      <td>0.25</td>\n",
       "      <td>3.0</td>\n",
       "    </tr>\n",
       "    <tr>\n",
       "      <th>20</th>\n",
       "      <td>8.0</td>\n",
       "      <td>16.00</td>\n",
       "      <td>2.0</td>\n",
       "    </tr>\n",
       "  </tbody>\n",
       "</table>\n",
       "</div>"
      ],
      "text/plain": [
       "      0      1     2\n",
       "0   4.0   0.10   7.0\n",
       "1   4.0   0.13  14.0\n",
       "2   4.0   0.15   6.0\n",
       "3   4.0   0.18  11.0\n",
       "4   4.0   0.20   3.0\n",
       "5   4.0   0.25   2.0\n",
       "6   4.0  16.00   3.0\n",
       "7   6.0   0.10   3.0\n",
       "8   6.0   0.13  34.0\n",
       "9   6.0   0.15  28.0\n",
       "10  6.0   0.18  27.0\n",
       "11  6.0   0.20  14.0\n",
       "12  6.0   0.25   2.0\n",
       "13  6.0   0.30   1.0\n",
       "14  6.0  16.00   3.0\n",
       "15  8.0   0.13   1.0\n",
       "16  8.0   0.15   3.0\n",
       "17  8.0   0.18  22.0\n",
       "18  8.0   0.20  11.0\n",
       "19  8.0   0.25   3.0\n",
       "20  8.0  16.00   2.0"
      ]
     },
     "metadata": {},
     "output_type": "display_data"
    },
    {
     "data": {
      "text/html": [
       "<div>\n",
       "<style scoped>\n",
       "    .dataframe tbody tr th:only-of-type {\n",
       "        vertical-align: middle;\n",
       "    }\n",
       "\n",
       "    .dataframe tbody tr th {\n",
       "        vertical-align: top;\n",
       "    }\n",
       "\n",
       "    .dataframe thead th {\n",
       "        text-align: right;\n",
       "    }\n",
       "</style>\n",
       "<table border=\"1\" class=\"dataframe\">\n",
       "  <thead>\n",
       "    <tr style=\"text-align: right;\">\n",
       "      <th></th>\n",
       "      <th>0</th>\n",
       "      <th>1</th>\n",
       "      <th>2</th>\n",
       "    </tr>\n",
       "  </thead>\n",
       "  <tbody>\n",
       "    <tr>\n",
       "      <th>0</th>\n",
       "      <td>4.0</td>\n",
       "      <td>0.10</td>\n",
       "      <td>5.0</td>\n",
       "    </tr>\n",
       "    <tr>\n",
       "      <th>1</th>\n",
       "      <td>4.0</td>\n",
       "      <td>0.13</td>\n",
       "      <td>11.0</td>\n",
       "    </tr>\n",
       "    <tr>\n",
       "      <th>2</th>\n",
       "      <td>4.0</td>\n",
       "      <td>0.15</td>\n",
       "      <td>10.0</td>\n",
       "    </tr>\n",
       "    <tr>\n",
       "      <th>3</th>\n",
       "      <td>4.0</td>\n",
       "      <td>0.18</td>\n",
       "      <td>11.0</td>\n",
       "    </tr>\n",
       "    <tr>\n",
       "      <th>4</th>\n",
       "      <td>4.0</td>\n",
       "      <td>0.20</td>\n",
       "      <td>6.0</td>\n",
       "    </tr>\n",
       "    <tr>\n",
       "      <th>5</th>\n",
       "      <td>4.0</td>\n",
       "      <td>0.25</td>\n",
       "      <td>1.0</td>\n",
       "    </tr>\n",
       "    <tr>\n",
       "      <th>6</th>\n",
       "      <td>4.0</td>\n",
       "      <td>16.00</td>\n",
       "      <td>1.0</td>\n",
       "    </tr>\n",
       "    <tr>\n",
       "      <th>7</th>\n",
       "      <td>6.0</td>\n",
       "      <td>0.05</td>\n",
       "      <td>1.0</td>\n",
       "    </tr>\n",
       "    <tr>\n",
       "      <th>8</th>\n",
       "      <td>6.0</td>\n",
       "      <td>0.10</td>\n",
       "      <td>1.0</td>\n",
       "    </tr>\n",
       "    <tr>\n",
       "      <th>9</th>\n",
       "      <td>6.0</td>\n",
       "      <td>0.13</td>\n",
       "      <td>22.0</td>\n",
       "    </tr>\n",
       "    <tr>\n",
       "      <th>10</th>\n",
       "      <td>6.0</td>\n",
       "      <td>0.15</td>\n",
       "      <td>35.0</td>\n",
       "    </tr>\n",
       "    <tr>\n",
       "      <th>11</th>\n",
       "      <td>6.0</td>\n",
       "      <td>0.18</td>\n",
       "      <td>31.0</td>\n",
       "    </tr>\n",
       "    <tr>\n",
       "      <th>12</th>\n",
       "      <td>6.0</td>\n",
       "      <td>0.20</td>\n",
       "      <td>9.0</td>\n",
       "    </tr>\n",
       "    <tr>\n",
       "      <th>13</th>\n",
       "      <td>6.0</td>\n",
       "      <td>0.25</td>\n",
       "      <td>3.0</td>\n",
       "    </tr>\n",
       "    <tr>\n",
       "      <th>14</th>\n",
       "      <td>6.0</td>\n",
       "      <td>16.00</td>\n",
       "      <td>4.0</td>\n",
       "    </tr>\n",
       "    <tr>\n",
       "      <th>15</th>\n",
       "      <td>8.0</td>\n",
       "      <td>0.13</td>\n",
       "      <td>2.0</td>\n",
       "    </tr>\n",
       "    <tr>\n",
       "      <th>16</th>\n",
       "      <td>8.0</td>\n",
       "      <td>0.15</td>\n",
       "      <td>4.0</td>\n",
       "    </tr>\n",
       "    <tr>\n",
       "      <th>17</th>\n",
       "      <td>8.0</td>\n",
       "      <td>0.18</td>\n",
       "      <td>22.0</td>\n",
       "    </tr>\n",
       "    <tr>\n",
       "      <th>18</th>\n",
       "      <td>8.0</td>\n",
       "      <td>0.20</td>\n",
       "      <td>16.0</td>\n",
       "    </tr>\n",
       "    <tr>\n",
       "      <th>19</th>\n",
       "      <td>8.0</td>\n",
       "      <td>0.25</td>\n",
       "      <td>5.0</td>\n",
       "    </tr>\n",
       "  </tbody>\n",
       "</table>\n",
       "</div>"
      ],
      "text/plain": [
       "      0      1     2\n",
       "0   4.0   0.10   5.0\n",
       "1   4.0   0.13  11.0\n",
       "2   4.0   0.15  10.0\n",
       "3   4.0   0.18  11.0\n",
       "4   4.0   0.20   6.0\n",
       "5   4.0   0.25   1.0\n",
       "6   4.0  16.00   1.0\n",
       "7   6.0   0.05   1.0\n",
       "8   6.0   0.10   1.0\n",
       "9   6.0   0.13  22.0\n",
       "10  6.0   0.15  35.0\n",
       "11  6.0   0.18  31.0\n",
       "12  6.0   0.20   9.0\n",
       "13  6.0   0.25   3.0\n",
       "14  6.0  16.00   4.0\n",
       "15  8.0   0.13   2.0\n",
       "16  8.0   0.15   4.0\n",
       "17  8.0   0.18  22.0\n",
       "18  8.0   0.20  16.0\n",
       "19  8.0   0.25   5.0"
      ]
     },
     "metadata": {},
     "output_type": "display_data"
    }
   ],
   "source": [
    "for k, v in opt_lamNss.items():\n",
    "    v = np.array(v)[:, 1:3]\n",
    "    combos, cts = np.unique(v, axis=0, return_counts=1)\n",
    "    tres = np.concatenate([combos, cts.reshape(-1, 1)], axis=1)\n",
    "    display(pd.DataFrame(tres));"
   ]
  },
  {
   "cell_type": "markdown",
   "id": "1ce33507-b240-4b72-84b2-d90e1df42822",
   "metadata": {},
   "source": [
    "### Fixed N and fixed lam"
   ]
  },
  {
   "cell_type": "code",
   "execution_count": 23,
   "id": "dfd6d7e4-4870-453b-a7e9-f342802ede3b",
   "metadata": {
    "execution": {
     "iopub.execute_input": "2023-11-28T18:27:30.387360Z",
     "iopub.status.busy": "2023-11-28T18:27:30.386719Z",
     "iopub.status.idle": "2023-11-28T18:27:30.616411Z",
     "shell.execute_reply": "2023-11-28T18:27:30.615756Z",
     "shell.execute_reply.started": "2023-11-28T18:27:30.387314Z"
    },
    "tags": []
   },
   "outputs": [
    {
     "name": "stdout",
     "output_type": "stream",
     "text": [
      "Load file /data/rajlab1/user_data/jin/MyResearch/HDF_infer/notebooks/simu_real/../../mypkg/../results/simu_logi_setting1a_0/all-valsel-metrics_c1_0.pkl\n"
     ]
    },
    {
     "name": "stderr",
     "output_type": "stream",
     "text": [
      "c1: 0.0: 100%|████████████████████████████████████████████████████████████████████████████████████████████████████████████████████████████| 200/200 [00:00<00:00, 26191.48it/s]\n"
     ]
    },
    {
     "name": "stdout",
     "output_type": "stream",
     "text": [
      "6 0.15 0.15\n",
      "Load file /data/rajlab1/user_data/jin/MyResearch/HDF_infer/notebooks/simu_real/../../mypkg/../results/simu_logi_setting1a_400/all-valsel-metrics_c1_400.pkl\n"
     ]
    },
    {
     "name": "stderr",
     "output_type": "stream",
     "text": [
      "c1: 0.4: 100%|████████████████████████████████████████████████████████████████████████████████████████████████████████████████████████████| 200/200 [00:00<00:00, 22553.05it/s]\n"
     ]
    },
    {
     "name": "stdout",
     "output_type": "stream",
     "text": [
      "6 0.2 0.2\n",
      "Load file /data/rajlab1/user_data/jin/MyResearch/HDF_infer/notebooks/simu_real/../../mypkg/../results/simu_logi_setting1a_800/all-valsel-metrics_c1_800.pkl\n"
     ]
    },
    {
     "name": "stderr",
     "output_type": "stream",
     "text": [
      "c1: 0.8: 100%|████████████████████████████████████████████████████████████████████████████████████████████████████████████████████████████| 200/200 [00:00<00:00, 24267.68it/s]"
     ]
    },
    {
     "name": "stdout",
     "output_type": "stream",
     "text": [
      "6 0.2 16.0\n"
     ]
    },
    {
     "name": "stderr",
     "output_type": "stream",
     "text": [
      "\n"
     ]
    }
   ],
   "source": [
    "def _run_fn1(seed, all_cv_errs):\n",
    "    errs_mat = []\n",
    "    for cur_N in can_Ns:\n",
    "        errs = []\n",
    "        for cur_lam in can_lams:\n",
    "            errs.append(all_cv_errs[(seed, cur_N, cur_lam)].entropy_loss)\n",
    "        errs_mat.append(errs)\n",
    "    errs_mat = np.array(errs_mat)\n",
    "    return errs_mat\n",
    "opt_lamNs_fix = {}\n",
    "for c1 in c1s:\n",
    "    cur_save_dir = RES_ROOT/f\"simu_logi_{setting}_{c1*1000:.0f}\"\n",
    "    all_cv_errs = load_pkl(cur_save_dir/f\"all-valsel-metrics_c1_{c1*1000:.0f}.pkl\")\n",
    "    num_seed = len(np.unique(list(map(lambda x: x[0], all_cv_errs.keys()))))\n",
    "    # do not make n_jobs>1, it is very slow\n",
    "    with Parallel(n_jobs=1) as parallel:\n",
    "        err_ten = parallel(delayed(_run_fn1)(cur_seed, all_cv_errs)  \n",
    "                                 for cur_seed in tqdm(range(num_seed), total=num_seed, desc=f\"c1: {c1}\"))\n",
    "    err_ten = np.array(err_ten);\n",
    "    rm_seeds = np.where(np.isnan(err_ten).sum(axis=(1, 2)) != 0)[0]\n",
    "    # remove NAN\n",
    "    err_ten = err_ten[np.isnan(err_ten).sum(axis=(1, 2)) == 0];\n",
    "    \n",
    "    err_ten_ses = err_ten.std(axis=0)/np.sqrt(err_ten.shape[0])\n",
    "    err_m = np.mean(np.array(err_ten), axis=0)\n",
    "    errs = []\n",
    "    for err in err_m:\n",
    "        lam_min_idx = _get_min_idx(err)\n",
    "        errs.append((err[lam_min_idx], lam_min_idx))\n",
    "    errs = np.array(errs)\n",
    "    N_min_idx = np.argmin(errs[:, 0]);\n",
    "    lam_min_idx = int(errs[N_min_idx][1]);\n",
    "    min_opt_N, min_opt_lam = can_Ns[N_min_idx], can_lams[lam_min_idx]\n",
    "    \n",
    "    err_upbd = err_m[N_min_idx, lam_min_idx] + err_ten_ses[N_min_idx, lam_min_idx]; \n",
    "    lam_1se_idx = np.where(err_m[N_min_idx] <= err_upbd)[0].max();\n",
    "    print(can_Ns[N_min_idx], can_lams[lam_min_idx], can_lams[lam_1se_idx])\n",
    "    opt_lamNs_fix[c1] = (can_Ns[N_min_idx],  can_lams[lam_min_idx], rm_seeds)\n",
    "    #opt_lamNs_fix[c1] = (can_Ns[N_min_idx],  can_lams[lam_1se_idx])"
   ]
  },
  {
   "cell_type": "code",
   "execution_count": 29,
   "id": "2443ad59-cc6b-4686-a230-37118325da4a",
   "metadata": {
    "execution": {
     "iopub.execute_input": "2023-11-28T18:28:27.320251Z",
     "iopub.status.busy": "2023-11-28T18:28:27.319449Z",
     "iopub.status.idle": "2023-11-28T18:28:27.360363Z",
     "shell.execute_reply": "2023-11-28T18:28:27.359604Z",
     "shell.execute_reply.started": "2023-11-28T18:28:27.320202Z"
    },
    "tags": []
   },
   "outputs": [
    {
     "data": {
      "text/plain": [
       "{0.0: (6, 0.15, array([], dtype=int64)),\n",
       " 0.4: (6, 0.2, array([], dtype=int64)),\n",
       " 0.8: (6, 0.2, array([], dtype=int64))}"
      ]
     },
     "execution_count": 29,
     "metadata": {},
     "output_type": "execute_result"
    }
   ],
   "source": [
    "opt_lamNs_fix"
   ]
  },
  {
   "cell_type": "code",
   "execution_count": 33,
   "id": "abe4c784-1a02-4d92-9fb9-53cd9c23f066",
   "metadata": {
    "execution": {
     "iopub.execute_input": "2023-11-28T18:30:46.696000Z",
     "iopub.status.busy": "2023-11-28T18:30:46.695222Z",
     "iopub.status.idle": "2023-11-28T18:31:21.928719Z",
     "shell.execute_reply": "2023-11-28T18:31:21.927650Z",
     "shell.execute_reply.started": "2023-11-28T18:30:46.695948Z"
    },
    "scrolled": true,
    "tags": []
   },
   "outputs": [
    {
     "name": "stderr",
     "output_type": "stream",
     "text": [
      "c1: 0: 100%|█████████████████████████████████████████████████████████████████████████████████████████████████████████████████████████████████| 200/200 [00:11<00:00, 17.08it/s]\n"
     ]
    },
    {
     "name": "stdout",
     "output_type": "stream",
     "text": [
      "Save to /data/rajlab1/user_data/jin/MyResearch/HDF_infer/notebooks/simu_real/../../mypkg/../results/simu_logi_setting1a_0/opt_lamNsfixNlam_c1_0_ress.pkl\n"
     ]
    },
    {
     "name": "stderr",
     "output_type": "stream",
     "text": [
      "c1: 400: 100%|███████████████████████████████████████████████████████████████████████████████████████████████████████████████████████████████| 200/200 [00:11<00:00, 17.00it/s]\n"
     ]
    },
    {
     "name": "stdout",
     "output_type": "stream",
     "text": [
      "Save to /data/rajlab1/user_data/jin/MyResearch/HDF_infer/notebooks/simu_real/../../mypkg/../results/simu_logi_setting1a_400/opt_lamNsfixNlam_c1_400_ress.pkl\n"
     ]
    },
    {
     "name": "stderr",
     "output_type": "stream",
     "text": [
      "c1: 800: 100%|███████████████████████████████████████████████████████████████████████████████████████████████████████████████████████████████| 200/200 [00:11<00:00, 17.42it/s]\n"
     ]
    },
    {
     "name": "stdout",
     "output_type": "stream",
     "text": [
      "Save to /data/rajlab1/user_data/jin/MyResearch/HDF_infer/notebooks/simu_real/../../mypkg/../results/simu_logi_setting1a_800/opt_lamNsfixNlam_c1_800_ress.pkl\n"
     ]
    }
   ],
   "source": [
    "# for adaptive lam N\n",
    "cans = [1e-5, 3e-6, 1e-6, 3e-7, 1e-7, 3e-8, 1e-8, 3e-9, 1e-9, 3e-10, 0]\n",
    "all_coms = [(can, can) for can in cans]\n",
    "#all_coms = list(itertools.product(cans, cans))\n",
    "for c1 in c1s:\n",
    "    cur_save_dir = RES_ROOT/f\"simu_logi_{setting}_{c1*1000:.0f}\"\n",
    "    cur_N, cur_lam, rm_seeds = opt_lamNs_fix[c1]\n",
    "    cur_lam = 0.13\n",
    "    ress = []\n",
    "    for cur_seed in tqdm(range(num_rep), desc=f\"c1: {c1*1000:.0f}\"):\n",
    "        if cur_seed in rm_seeds:\n",
    "            continue\n",
    "        f1_name = f\"seed_{cur_seed:.0f}-lam_{cur_lam*1000:.0f}-N_{cur_N:.0f}-c1_{c1*1000:.0f}_est.pkl\"\n",
    "        res1 = load_pkl(cur_save_dir/f1_name, verbose=False);\n",
    "        if np.isnan(res1.est_alp).sum() > 0:\n",
    "            continue\n",
    "        with Parallel(n_jobs=10) as parallel:\n",
    "            res = parallel(delayed(_test_fn)(Cmat=Cmat, est_res=res1, \n",
    "                                             svdinv_eps_Q=rtols[0], \n",
    "                                             svdinv_eps_Psi=rtols[1]) for rtols\n",
    "                                             in all_coms)\n",
    "    \n",
    "        ress.append(res)\n",
    "    ress = np.array(ress);\n",
    "    save_pkl(cur_save_dir/f\"opt_lamNsfixNlam_c1_{c1*1000:.0f}_ress.pkl\", ress, is_force=1)"
   ]
  },
  {
   "cell_type": "code",
   "execution_count": null,
   "id": "d3d8dc76-d28c-44a5-9190-1bd0cefe53a9",
   "metadata": {},
   "outputs": [],
   "source": []
  },
  {
   "cell_type": "code",
   "execution_count": null,
   "id": "4fb91ff8-5516-4607-b597-a84764e17df4",
   "metadata": {},
   "outputs": [],
   "source": []
  },
  {
   "cell_type": "markdown",
   "id": "d30d4a08-5de2-4412-8541-5dd78612ed5c",
   "metadata": {},
   "source": [
    "## Find Q and Psi rtol"
   ]
  },
  {
   "cell_type": "code",
   "execution_count": 97,
   "id": "e4297092-475a-42e3-970b-f8774ef3fb70",
   "metadata": {
    "execution": {
     "iopub.execute_input": "2023-11-28T21:11:39.539552Z",
     "iopub.status.busy": "2023-11-28T21:11:39.538900Z",
     "iopub.status.idle": "2023-11-28T21:11:39.731444Z",
     "shell.execute_reply": "2023-11-28T21:11:39.730183Z",
     "shell.execute_reply.started": "2023-11-28T21:11:39.539506Z"
    },
    "tags": []
   },
   "outputs": [
    {
     "name": "stdout",
     "output_type": "stream",
     "text": [
      "Load file /data/rajlab1/user_data/jin/MyResearch/HDF_infer/notebooks/simu_real/../../mypkg/../results/simu_logi_setting1a_0/opt_lamNs_c1_0_ress.pkl\n",
      "200\n",
      "Load file /data/rajlab1/user_data/jin/MyResearch/HDF_infer/notebooks/simu_real/../../mypkg/../results/simu_logi_setting1a_400/opt_lamNs_c1_400_ress.pkl\n",
      "200\n",
      "Load file /data/rajlab1/user_data/jin/MyResearch/HDF_infer/notebooks/simu_real/../../mypkg/../results/simu_logi_setting1a_800/opt_lamNs_c1_800_ress.pkl\n",
      "200\n"
     ]
    }
   ],
   "source": [
    "ress_dict = {}\n",
    "for c1 in c1s:\n",
    "    cur_save_dir = RES_ROOT/f\"simu_logi_{setting}_{c1*1000:.0f}\"\n",
    "    ress = load_pkl(cur_save_dir/f\"opt_lamNs_c1_{c1*1000:.0f}_ress.pkl\");\n",
    "    #ress = load_pkl(cur_save_dir/f\"opt_lamNsfixN_c1_{c1*1000:.0f}_ress.pkl\");\n",
    "    #ress = load_pkl(cur_save_dir/f\"opt_lamNsfixNlam_c1_{c1*1000:.0f}_ress.pkl\");\n",
    "    print(len(ress))\n",
    "    ress_dict[c1] = ress"
   ]
  },
  {
   "cell_type": "code",
   "execution_count": null,
   "id": "e68ec23d-e727-4160-bba8-5ab94be466bf",
   "metadata": {},
   "outputs": [],
   "source": []
  },
  {
   "cell_type": "code",
   "execution_count": 98,
   "id": "1e2c5d33-9970-4cce-a82e-7969ebbbac13",
   "metadata": {
    "execution": {
     "iopub.execute_input": "2023-11-28T21:11:40.919425Z",
     "iopub.status.busy": "2023-11-28T21:11:40.918788Z",
     "iopub.status.idle": "2023-11-28T21:11:40.975709Z",
     "shell.execute_reply": "2023-11-28T21:11:40.975088Z",
     "shell.execute_reply.started": "2023-11-28T21:11:40.919374Z"
    },
    "tags": []
   },
   "outputs": [
    {
     "data": {
      "text/html": [
       "<div>\n",
       "<style scoped>\n",
       "    .dataframe tbody tr th:only-of-type {\n",
       "        vertical-align: middle;\n",
       "    }\n",
       "\n",
       "    .dataframe tbody tr th {\n",
       "        vertical-align: top;\n",
       "    }\n",
       "\n",
       "    .dataframe thead th {\n",
       "        text-align: right;\n",
       "    }\n",
       "</style>\n",
       "<table border=\"1\" class=\"dataframe\">\n",
       "  <thead>\n",
       "    <tr style=\"text-align: right;\">\n",
       "      <th></th>\n",
       "      <th>0.0</th>\n",
       "      <th>0.4</th>\n",
       "      <th>0.8</th>\n",
       "      <th>Q</th>\n",
       "      <th>Psi</th>\n",
       "    </tr>\n",
       "  </thead>\n",
       "  <tbody>\n",
       "    <tr>\n",
       "      <th>0</th>\n",
       "      <td>0.24</td>\n",
       "      <td>0.625</td>\n",
       "      <td>0.945</td>\n",
       "      <td>1.000000e-05</td>\n",
       "      <td>1.000000e-05</td>\n",
       "    </tr>\n",
       "    <tr>\n",
       "      <th>1</th>\n",
       "      <td>0.24</td>\n",
       "      <td>0.625</td>\n",
       "      <td>0.945</td>\n",
       "      <td>3.000000e-06</td>\n",
       "      <td>3.000000e-06</td>\n",
       "    </tr>\n",
       "    <tr>\n",
       "      <th>2</th>\n",
       "      <td>0.24</td>\n",
       "      <td>0.625</td>\n",
       "      <td>0.945</td>\n",
       "      <td>1.000000e-06</td>\n",
       "      <td>1.000000e-06</td>\n",
       "    </tr>\n",
       "    <tr>\n",
       "      <th>3</th>\n",
       "      <td>0.24</td>\n",
       "      <td>0.625</td>\n",
       "      <td>0.945</td>\n",
       "      <td>3.000000e-07</td>\n",
       "      <td>3.000000e-07</td>\n",
       "    </tr>\n",
       "    <tr>\n",
       "      <th>4</th>\n",
       "      <td>0.24</td>\n",
       "      <td>0.625</td>\n",
       "      <td>0.945</td>\n",
       "      <td>1.000000e-07</td>\n",
       "      <td>1.000000e-07</td>\n",
       "    </tr>\n",
       "    <tr>\n",
       "      <th>5</th>\n",
       "      <td>0.24</td>\n",
       "      <td>0.625</td>\n",
       "      <td>0.945</td>\n",
       "      <td>3.000000e-08</td>\n",
       "      <td>3.000000e-08</td>\n",
       "    </tr>\n",
       "    <tr>\n",
       "      <th>6</th>\n",
       "      <td>0.24</td>\n",
       "      <td>0.625</td>\n",
       "      <td>0.945</td>\n",
       "      <td>1.000000e-08</td>\n",
       "      <td>1.000000e-08</td>\n",
       "    </tr>\n",
       "    <tr>\n",
       "      <th>7</th>\n",
       "      <td>0.24</td>\n",
       "      <td>0.625</td>\n",
       "      <td>0.945</td>\n",
       "      <td>3.000000e-09</td>\n",
       "      <td>3.000000e-09</td>\n",
       "    </tr>\n",
       "    <tr>\n",
       "      <th>8</th>\n",
       "      <td>0.24</td>\n",
       "      <td>0.625</td>\n",
       "      <td>0.945</td>\n",
       "      <td>1.000000e-09</td>\n",
       "      <td>1.000000e-09</td>\n",
       "    </tr>\n",
       "    <tr>\n",
       "      <th>9</th>\n",
       "      <td>0.24</td>\n",
       "      <td>0.625</td>\n",
       "      <td>0.945</td>\n",
       "      <td>3.000000e-10</td>\n",
       "      <td>3.000000e-10</td>\n",
       "    </tr>\n",
       "    <tr>\n",
       "      <th>10</th>\n",
       "      <td>0.24</td>\n",
       "      <td>0.625</td>\n",
       "      <td>0.945</td>\n",
       "      <td>0.000000e+00</td>\n",
       "      <td>0.000000e+00</td>\n",
       "    </tr>\n",
       "  </tbody>\n",
       "</table>\n",
       "</div>"
      ],
      "text/plain": [
       "     0.0    0.4    0.8             Q           Psi\n",
       "0   0.24  0.625  0.945  1.000000e-05  1.000000e-05\n",
       "1   0.24  0.625  0.945  3.000000e-06  3.000000e-06\n",
       "2   0.24  0.625  0.945  1.000000e-06  1.000000e-06\n",
       "3   0.24  0.625  0.945  3.000000e-07  3.000000e-07\n",
       "4   0.24  0.625  0.945  1.000000e-07  1.000000e-07\n",
       "5   0.24  0.625  0.945  3.000000e-08  3.000000e-08\n",
       "6   0.24  0.625  0.945  1.000000e-08  1.000000e-08\n",
       "7   0.24  0.625  0.945  3.000000e-09  3.000000e-09\n",
       "8   0.24  0.625  0.945  1.000000e-09  1.000000e-09\n",
       "9   0.24  0.625  0.945  3.000000e-10  3.000000e-10\n",
       "10  0.24  0.625  0.945  0.000000e+00  0.000000e+00"
      ]
     },
     "execution_count": 98,
     "metadata": {},
     "output_type": "execute_result"
    }
   ],
   "source": [
    "import pandas as pd\n",
    "cans = [1e-5, 3e-6, 1e-6, 3e-7, 1e-7, 3e-8, 1e-8, 3e-9, 1e-9, 3e-10, 0]\n",
    "\n",
    "all_coms = np.array(list(itertools.product(cans, cans)));\n",
    "all_coms = [(can, can) for can in cans]\n",
    "kpidxs = []\n",
    "\n",
    "df = []\n",
    "for c1 in c1s:\n",
    "    ress = ress_dict[c1]\n",
    "    pvals = np.array([[re[\"pval\"] for re in res] for res in ress]);\n",
    "    vec_pv = np.mean(pvals<0.05, axis=0)\n",
    "    df.append(vec_pv[:, np.newaxis])\n",
    "df.append(all_coms) \n",
    "df = np.hstack(df)\n",
    "df = pd.DataFrame(df) \n",
    "df.columns = c1s+[\"Q\", \"Psi\"]\n",
    "df"
   ]
  },
  {
   "cell_type": "markdown",
   "id": "fa246ade-76de-47cb-8907-3b8fe8a7ed1e",
   "metadata": {},
   "source": [
    "# Analysis"
   ]
  },
  {
   "cell_type": "code",
   "execution_count": null,
   "id": "e8afe818-5cad-4b96-953a-e43d56ad7d5a",
   "metadata": {
    "execution": {
     "iopub.execute_input": "2023-11-28T21:28:11.056419Z",
     "iopub.status.busy": "2023-11-28T21:28:11.055771Z",
     "iopub.status.idle": "2023-11-28T21:28:11.097092Z",
     "shell.execute_reply": "2023-11-28T21:28:11.096492Z",
     "shell.execute_reply.started": "2023-11-28T21:28:11.056374Z"
    },
    "tags": []
   },
   "outputs": [],
   "source": [
    "def _test_fn(Cmat, est_res, svdinv_eps_Q=0, svdinv_eps_Psi=0):\n",
    "    torch.set_default_tensor_type(torch.DoubleTensor)\n",
    "    _paras = est_res._paras\n",
    "    _paras.svdinv_eps_Q = svdinv_eps_Q\n",
    "    _paras.svdinv_eps_Psi = svdinv_eps_Psi\n",
    "    \n",
    "    T_v = obt_test_stat_simple2(Q_mat_part=est_res.Q_mat_part,\n",
    "                               Sig_mat_part=est_res.Sig_mat_part,\n",
    "                               est_alp=est_res.est_alp, \n",
    "                               est_Gam=est_res.est_Gam,\n",
    "                               Cmat=Cmat,\n",
    "                               paras=_paras,\n",
    "                               )\n",
    "    pval = chi2.sf(T_v, Cmat.shape[0]*_paras.N)\n",
    "    \n",
    "    res = edict()\n",
    "    res.T_v = T_v.item()\n",
    "    res.pval = pval\n",
    "    res.Cmat = Cmat\n",
    "    return res"
   ]
  },
  {
   "cell_type": "code",
   "execution_count": null,
   "id": "eca24350-7ca7-4d34-9f86-8e101cee34da",
   "metadata": {
    "execution": {
     "iopub.execute_input": "2023-11-28T21:34:55.895128Z",
     "iopub.status.busy": "2023-11-28T21:34:55.894510Z",
     "iopub.status.idle": "2023-11-28T21:46:14.666369Z",
     "shell.execute_reply": "2023-11-28T21:46:14.665132Z",
     "shell.execute_reply.started": "2023-11-28T21:34:55.895084Z"
    },
    "tags": []
   },
   "outputs": [],
   "source": [
    "cur_seed, cur_lam, cur_N = (104, 0.15, 6)\n",
    "#cur_seed, cur_lam, cur_N = (104, 0.15, 6)\n",
    "f1_name = f\"seed_{cur_seed:.0f}-lam_{cur_lam*1000:.0f}-N_{cur_N:.0f}-c1_{c1*1000:.0f}_est.pkl\"\n",
    "res = load_pkl(cur_save_dir/f1_name, verbose=False);\n",
    "test_res = _test_fn(Cmat=Cmat, est_res=res,  svdinv_eps_Q=1e-7,  svdinv_eps_Psi=1e-7)"
   ]
  },
  {
   "cell_type": "code",
   "execution_count": 320,
   "id": "c583d09f-d35a-4127-bddb-d11ba32d4d35",
   "metadata": {
    "execution": {
     "iopub.execute_input": "2023-12-01T00:02:29.282736Z",
     "iopub.status.busy": "2023-12-01T00:02:29.282088Z",
     "iopub.status.idle": "2023-12-01T00:02:31.097362Z",
     "shell.execute_reply": "2023-12-01T00:02:31.095998Z",
     "shell.execute_reply.started": "2023-12-01T00:02:29.282688Z"
    },
    "tags": []
   },
   "outputs": [
    {
     "name": "stderr",
     "output_type": "stream",
     "text": [
      "100%|███████████████████████████████████████████████████████████████████████████████████████████████████████████████████████████████████████| 200/200 [00:01<00:00, 117.56it/s]\n"
     ]
    }
   ],
   "source": [
    "[0.001, 0.05, 0.1, 0.13, 0.15, 0.18, 0.2, 0.25, 0.3, 0.35, 2.0, 4.0, 16.0]\n",
    "c1 = 0.0\n",
    "cur_save_dir = RES_ROOT/f\"simu_logi_{setting}_{c1*1000:.0f}\"\n",
    "cur_seed, cur_lam, cur_N = (1, 0.15, 6)\n",
    "alp_ests = []\n",
    "gamL0_ests = []\n",
    "T_vs = []\n",
    "Sig_mat_parts = []\n",
    "pvals = []\n",
    "Q_mat_parts = []\n",
    "gam_ests = []\n",
    "for cur_seed in trange(0, 200):\n",
    "    f1_name = f\"seed_{cur_seed:.0f}-lam_{cur_lam*1000:.0f}-N_{cur_N:.0f}-c1_{c1*1000:.0f}_est.pkl\"\n",
    "    res = load_pkl(cur_save_dir/f1_name, verbose=False);\n",
    "    test_res = _test_fn(Cmat=Cmat, est_res=res,  svdinv_eps_Q=1e-7,  svdinv_eps_Psi=1e-7)\n",
    "    T_vs.append(test_res.T_v)\n",
    "    pvals.append(test_res.pval)\n",
    "    alp_ests.append(res.est_alp.numpy())\n",
    "    gamL0_ests.append(torch.norm(res.est_Gam, dim=0).numpy()!=0)\n",
    "    gam_ests.append(res.est_Gam)\n",
    "    Sig_mat_parts.append(res.Sig_mat_part)\n",
    "    Q_mat_parts.append(res.Q_mat_part)\n",
    "T_vs = np.array(T_vs);\n",
    "pvals = np.array(pvals);"
   ]
  },
  {
   "cell_type": "code",
   "execution_count": 321,
   "id": "5746c860-6a49-41d5-b344-b726c9ef2684",
   "metadata": {
    "execution": {
     "iopub.execute_input": "2023-12-01T00:02:31.707834Z",
     "iopub.status.busy": "2023-12-01T00:02:31.707263Z",
     "iopub.status.idle": "2023-12-01T00:02:31.863220Z",
     "shell.execute_reply": "2023-12-01T00:02:31.862821Z",
     "shell.execute_reply.started": "2023-12-01T00:02:31.707788Z"
    },
    "tags": []
   },
   "outputs": [
    {
     "data": {
      "text/plain": [
       "[<matplotlib.lines.Line2D at 0x7f96c7da2fa0>]"
      ]
     },
     "execution_count": 321,
     "metadata": {},
     "output_type": "execute_result"
    },
    {
     "data": {
      "image/png": "[encoded data removed]",
      "text/plain": [
       "<Figure size 1000x500 with 1 Axes>"
      ]
     },
     "metadata": {
      "needs_background": "light"
     },
     "output_type": "display_data"
    }
   ],
   "source": [
    "tmp = np.array([mat[:, 0].norm() for mat in gam_ests]);\n",
    "plt.plot(T_vs, tmp, \".\")\n",
    "#plt.yscale(\"log\")"
   ]
  },
  {
   "cell_type": "code",
   "execution_count": 322,
   "id": "a04c3944-5aa6-416a-9ad3-9af7355f923a",
   "metadata": {
    "execution": {
     "iopub.execute_input": "2023-12-01T00:02:32.398504Z",
     "iopub.status.busy": "2023-12-01T00:02:32.397740Z",
     "iopub.status.idle": "2023-12-01T00:02:32.436988Z",
     "shell.execute_reply": "2023-12-01T00:02:32.436357Z",
     "shell.execute_reply.started": "2023-12-01T00:02:32.398454Z"
    },
    "tags": []
   },
   "outputs": [
    {
     "data": {
      "text/plain": [
       "7.5918751684397145"
      ]
     },
     "execution_count": 322,
     "metadata": {},
     "output_type": "execute_result"
    }
   ],
   "source": [
    "T_vs.mean()"
   ]
  },
  {
   "cell_type": "code",
   "execution_count": 328,
   "id": "f828156e-30a3-47f1-b393-80681dc29016",
   "metadata": {
    "execution": {
     "iopub.execute_input": "2023-12-01T00:12:58.524321Z",
     "iopub.status.busy": "2023-12-01T00:12:58.523672Z",
     "iopub.status.idle": "2023-12-01T00:12:58.763151Z",
     "shell.execute_reply": "2023-12-01T00:12:58.762709Z",
     "shell.execute_reply.started": "2023-12-01T00:12:58.524275Z"
    },
    "tags": []
   },
   "outputs": [
    {
     "name": "stdout",
     "output_type": "stream",
     "text": [
      "0.115 7.5918751684397145\n"
     ]
    },
    {
     "data": {
      "image/png": "[encoded data removed]",
      "text/plain": [
       "<Figure size 1000x500 with 1 Axes>"
      ]
     },
     "metadata": {
      "needs_background": "light"
     },
     "output_type": "display_data"
    }
   ],
   "source": [
    "kpidx = tmp<30\n",
    "#plt.plot(np.sort(T_vs), \".\")\n",
    "chi_df = Cmat.shape[0]*cur_N\n",
    "xs = np.linspace(0.1, 50, 100)\n",
    "theo_curvs_log = chi2.logpdf(xs, chi_df);\n",
    "plt.plot(xs, np.exp(theo_curvs_log) , label=\"theoretical\")\n",
    "sns.kdeplot(T_vs[kpidx], label=\"empirical\")\n",
    "plt.legend()\n",
    "print(np.mean(pvals[kpidx]<0.05), np.mean(T_vs[kpidx]))"
   ]
  },
  {
   "cell_type": "code",
   "execution_count": 63,
   "id": "667ff094-19ba-44a8-bdd7-f5963fa292c4",
   "metadata": {
    "execution": {
     "iopub.execute_input": "2023-11-28T18:41:31.300037Z",
     "iopub.status.busy": "2023-11-28T18:41:31.299487Z",
     "iopub.status.idle": "2023-11-28T18:41:31.336811Z",
     "shell.execute_reply": "2023-11-28T18:41:31.336154Z",
     "shell.execute_reply.started": "2023-11-28T18:41:31.299992Z"
    },
    "tags": []
   },
   "outputs": [
    {
     "data": {
      "text/plain": [
       "array([1.  , 0.01, 0.02, 0.03, 0.02, 0.02, 0.02, 0.02, 0.01, 0.03, 0.04,\n",
       "       0.02, 0.03, 0.62])"
      ]
     },
     "execution_count": 63,
     "metadata": {},
     "output_type": "execute_result"
    }
   ],
   "source": [
    "np.array(gamL0_ests).mean(axis=0)"
   ]
  },
  {
   "cell_type": "code",
   "execution_count": 62,
   "id": "f89a19fe-17e3-4182-be93-177f6a9f85cd",
   "metadata": {
    "execution": {
     "iopub.execute_input": "2023-11-28T18:41:30.074186Z",
     "iopub.status.busy": "2023-11-28T18:41:30.073613Z",
     "iopub.status.idle": "2023-11-28T18:41:30.114083Z",
     "shell.execute_reply": "2023-11-28T18:41:30.113445Z",
     "shell.execute_reply.started": "2023-11-28T18:41:30.074126Z"
    },
    "tags": []
   },
   "outputs": [
    {
     "data": {
      "text/plain": [
       "array([-1.52385224, -1.02760638,  2.11887081])"
      ]
     },
     "execution_count": 62,
     "metadata": {},
     "output_type": "execute_result"
    }
   ],
   "source": [
    "np.array(alp_ests).mean(axis=0)"
   ]
  },
  {
   "cell_type": "code",
   "execution_count": null,
   "id": "f359ab72-a628-4d24-83ce-2f352cc2d3b7",
   "metadata": {},
   "outputs": [],
   "source": []
  },
  {
   "cell_type": "code",
   "execution_count": null,
   "id": "2b404df1-7735-4348-b212-485417ab16e4",
   "metadata": {},
   "outputs": [],
   "source": []
  }
 ],
 "metadata": {
  "kernelspec": {
   "display_name": "Python 3 (ipykernel)",
   "language": "python",
   "name": "python3"
  },
  "language_info": {
   "codemirror_mode": {
    "name": "ipython",
    "version": 3
   },
   "file_extension": ".py",
   "mimetype": "text/x-python",
   "name": "python",
   "nbconvert_exporter": "python",
   "pygments_lexer": "ipython3",
   "version": "3.9.7"
  },
  "toc": {
   "base_numbering": 1,
   "nav_menu": {},
   "number_sections": true,
   "sideBar": true,
   "skip_h1_title": false,
   "title_cell": "Table of Contents",
   "title_sidebar": "Contents",
   "toc_cell": false,
   "toc_position": {
    "height": "calc(100% - 180px)",
    "left": "10px",
    "top": "150px",
    "width": "165px"
   },
   "toc_section_display": true,
   "toc_window_display": true
  },
  "toc-autonumbering": true
 },
 "nbformat": 4,
 "nbformat_minor": 5
}
