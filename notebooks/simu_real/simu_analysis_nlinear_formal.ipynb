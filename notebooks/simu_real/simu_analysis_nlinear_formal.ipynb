{
 "cells": [
  {
   "cell_type": "markdown",
   "id": "942a9fb0-de26-4619-9f8f-1d1ad87c308f",
   "metadata": {},
   "source": [
    "Analysis the results under new code"
   ]
  },
  {
   "cell_type": "code",
   "execution_count": 1,
   "id": "02ae980e",
   "metadata": {
    "ExecuteTime": {
     "end_time": "2023-05-31T19:57:23.490285Z",
     "start_time": "2023-05-31T19:57:23.481769Z"
    },
    "execution": {
     "iopub.execute_input": "2024-02-29T03:54:40.397873Z",
     "iopub.status.busy": "2024-02-29T03:54:40.397158Z",
     "iopub.status.idle": "2024-02-29T03:54:40.411336Z",
     "shell.execute_reply": "2024-02-29T03:54:40.410353Z",
     "shell.execute_reply.started": "2024-02-29T03:54:40.397822Z"
    },
    "tags": []
   },
   "outputs": [],
   "source": [
    "import sys\n",
    "sys.path.append(\"../../mypkg\")"
   ]
  },
  {
   "cell_type": "code",
   "execution_count": 2,
   "id": "b9d3cbc6-1ac5-47d6-a0d1-bcbc0be9267e",
   "metadata": {
    "execution": {
     "iopub.execute_input": "2024-02-29T03:54:41.004452Z",
     "iopub.status.busy": "2024-02-29T03:54:41.003787Z",
     "iopub.status.idle": "2024-02-29T03:54:41.028547Z",
     "shell.execute_reply": "2024-02-29T03:54:41.027481Z",
     "shell.execute_reply.started": "2024-02-29T03:54:41.004405Z"
    },
    "tags": []
   },
   "outputs": [],
   "source": [
    "# This will reload all imports as soon as the code changes\n",
    "%load_ext autoreload\n",
    "%autoreload 2"
   ]
  },
  {
   "cell_type": "code",
   "execution_count": 3,
   "id": "023df78a",
   "metadata": {
    "ExecuteTime": {
     "end_time": "2023-05-31T19:57:34.238839Z",
     "start_time": "2023-05-31T19:57:23.494053Z"
    },
    "execution": {
     "iopub.execute_input": "2024-02-29T03:54:41.658709Z",
     "iopub.status.busy": "2024-02-29T03:54:41.658073Z",
     "iopub.status.idle": "2024-02-29T03:54:43.987860Z",
     "shell.execute_reply": "2024-02-29T03:54:43.986884Z",
     "shell.execute_reply.started": "2024-02-29T03:54:41.658665Z"
    },
    "tags": []
   },
   "outputs": [],
   "source": [
    "import numpy as np\n",
    "import torch\n",
    "import matplotlib.pyplot as plt\n",
    "import seaborn as sns\n",
    "from scipy.stats import pearsonr\n",
    "from numbers import Number\n",
    "\n",
    "from joblib import Parallel, delayed\n",
    "\n",
    "from easydict import EasyDict as edict\n",
    "from tqdm import trange, tqdm\n",
    "from scipy.io import loadmat\n",
    "from pprint import pprint\n",
    "import itertools\n",
    "from scipy.stats import chi2\n",
    "from IPython.display import display\n",
    "import pandas as pd\n",
    "from collections import defaultdict as ddict\n",
    "\n"
   ]
  },
  {
   "cell_type": "code",
   "execution_count": 4,
   "id": "b0aa91b2",
   "metadata": {
    "ExecuteTime": {
     "end_time": "2023-05-31T19:57:59.558229Z",
     "start_time": "2023-05-31T19:57:34.292612Z"
    },
    "execution": {
     "iopub.execute_input": "2024-02-29T03:54:44.657047Z",
     "iopub.status.busy": "2024-02-29T03:54:44.655913Z",
     "iopub.status.idle": "2024-02-29T03:54:44.763660Z",
     "shell.execute_reply": "2024-02-29T03:54:44.762394Z",
     "shell.execute_reply.started": "2024-02-29T03:54:44.656993Z"
    },
    "tags": []
   },
   "outputs": [],
   "source": [
    "from constants import DATA_ROOT, RES_ROOT, FIG_ROOT, MIDRES_ROOT\n",
    "\n",
    "from utils.misc import save_pkl, load_pkl, get_local_min_idxs\n",
    "from scenarios.real_simu_linear import settings\n",
    "from scenarios.real_simu_linear_sinica import settings as settingss\n",
    "from scenarios.real_simu_linear_meg import settings as settingms\n"
   ]
  },
  {
   "cell_type": "code",
   "execution_count": 5,
   "id": "d29891f5-2fe1-428f-9d0d-4991cd3bfc58",
   "metadata": {
    "execution": {
     "iopub.execute_input": "2024-02-29T03:54:45.213402Z",
     "iopub.status.busy": "2024-02-29T03:54:45.212705Z",
     "iopub.status.idle": "2024-02-29T03:54:46.030975Z",
     "shell.execute_reply": "2024-02-29T03:54:46.029602Z",
     "shell.execute_reply.started": "2024-02-29T03:54:45.213353Z"
    },
    "tags": []
   },
   "outputs": [],
   "source": [
    "import logging\n",
    "from optimization.opt import logger as logger1\n",
    "logger1.handlers[0].setLevel(logging.WARNING)\n",
    "\n",
    "plt.style.use(FIG_ROOT/\"base.mplstyle\")\n",
    "torch.set_default_dtype(torch.float64)"
   ]
  },
  {
   "cell_type": "code",
   "execution_count": null,
   "id": "fe0a4a46",
   "metadata": {
    "ExecuteTime": {
     "end_time": "2023-05-31T19:57:59.621784Z",
     "start_time": "2023-05-31T19:57:59.568097Z"
    },
    "tags": []
   },
   "outputs": [],
   "source": []
  },
  {
   "cell_type": "code",
   "execution_count": null,
   "id": "e0cb5a3d-1ab1-4bc0-bfce-d7ebaedb0391",
   "metadata": {},
   "outputs": [],
   "source": []
  },
  {
   "cell_type": "code",
   "execution_count": null,
   "id": "d0af2f35",
   "metadata": {},
   "outputs": [],
   "source": []
  },
  {
   "cell_type": "code",
   "execution_count": 6,
   "id": "d93eca7c-5b7c-49ee-bec2-979f08f8d602",
   "metadata": {
    "execution": {
     "iopub.execute_input": "2024-02-29T03:54:46.769518Z",
     "iopub.status.busy": "2024-02-29T03:54:46.768610Z",
     "iopub.status.idle": "2024-02-29T03:54:46.818663Z",
     "shell.execute_reply": "2024-02-29T03:54:46.817964Z",
     "shell.execute_reply.started": "2024-02-29T03:54:46.769460Z"
    },
    "tags": []
   },
   "outputs": [],
   "source": [
    "def _get_min_idx(x):\n",
    "    \"\"\"Get the index of the minimal values among the local minimals.\n",
    "       If there are multiple ones, return the largest index\n",
    "       args:\n",
    "           x: a vec\n",
    "        \n",
    "    \"\"\"\n",
    "    x = np.array(x)\n",
    "    lmin_idxs = get_local_min_idxs(x);\n",
    "    if len(lmin_idxs) == 0:\n",
    "        lmin_idxs = np.arange(len(x))\n",
    "    lmin_idxs_inv =  lmin_idxs[::-1]\n",
    "    lmins_inv = x[lmin_idxs_inv];\n",
    "    return  lmin_idxs_inv[np.argmin(lmins_inv)]\n",
    "def outlier_det(T_vs, ratio_tol=0.05):\n",
    "    \"\"\"\n",
    "    Detects outliers in a given dataset using the interquartile range (IQR) method.\n",
    "\n",
    "    Parameters:\n",
    "    - T_vs (array-like): The input dataset.\n",
    "    - ratio_tol (float, optional): The tolerance ratio for outlier removal. Default is 0.05.\n",
    "\n",
    "    Returns:\n",
    "    - kpidx (ndarray): A boolean array indicating whether each data point is an outlier or not.\n",
    "    \"\"\"\n",
    "    Q1, Q3 = np.quantile(T_vs, [0.25, 0.75])\n",
    "    IQR = Q3 - Q1\n",
    "    upbd = Q3 + 1.5*IQR\n",
    "    lowbd = Q1 - 1.5*IQR\n",
    "    kpidx = np.bitwise_and(T_vs>=lowbd, T_vs<=upbd)\n",
    "    \n",
    "    if np.mean(kpidx)+ ratio_tol < 1:\n",
    "        out_part = np.stack([T_vs - upbd, lowbd - T_vs]).T.max(axis=1);\n",
    "        kpidx = np.ones(len(T_vs), dtype=bool)\n",
    "        kpidx[np.argsort(-out_part)[:int(len(T_vs)*ratio_tol)]] = False\n",
    "    return kpidx"
   ]
  },
  {
   "cell_type": "code",
   "execution_count": 7,
   "id": "7162e2bd-1eed-416a-a088-cc33e201e895",
   "metadata": {
    "execution": {
     "iopub.execute_input": "2024-02-29T03:54:47.625649Z",
     "iopub.status.busy": "2024-02-29T03:54:47.624978Z",
     "iopub.status.idle": "2024-02-29T03:54:47.664473Z",
     "shell.execute_reply": "2024-02-29T03:54:47.663796Z",
     "shell.execute_reply.started": "2024-02-29T03:54:47.625604Z"
    },
    "tags": []
   },
   "outputs": [],
   "source": [
    "def _remove_lams(lams):\n",
    "    \"\"\"remove lam > 0.1 and lam % 0.1 != 0\n",
    "    \"\"\"\n",
    "    if not isinstance(lams, np.ndarray):\n",
    "        lams = np.array(lams)\n",
    "    return lams[np.bitwise_or(lams * 10 % 1 == 0, lams * 10 < 1)]"
   ]
  },
  {
   "cell_type": "code",
   "execution_count": 23,
   "id": "2ea474cf-f20d-4fc9-92c0-80fa1fa8e6aa",
   "metadata": {
    "execution": {
     "iopub.execute_input": "2024-02-29T04:00:55.958567Z",
     "iopub.status.busy": "2024-02-29T04:00:55.957904Z",
     "iopub.status.idle": "2024-02-29T04:00:56.003206Z",
     "shell.execute_reply": "2024-02-29T04:00:56.002330Z",
     "shell.execute_reply.started": "2024-02-29T04:00:55.958515Z"
    },
    "tags": []
   },
   "outputs": [
    {
     "name": "stdout",
     "output_type": "stream",
     "text": [
      "[0.001, 0.1, 0.5, 0.6, 0.7, 0.8, 0.9, 1, 1.1, 1.2, 2, 8]\n"
     ]
    },
    {
     "data": {
      "text/plain": [
       "array([[ 1, -1]])"
      ]
     },
     "execution_count": 23,
     "metadata": {},
     "output_type": "execute_result"
    }
   ],
   "source": [
    "num_rep0 = 200;\n",
    "num_rep1 = 1000;\n",
    "#setting = settingms[\"nm2e\"]\n",
    "setting = settings[\"n2\"]\n",
    "can_Ns = setting.can_Ns\n",
    "can_lams = setting.can_lams\n",
    "#can_lams = list(_remove_lams(setting.can_lams))\n",
    "print(can_lams)\n",
    "is_simpler = False\n",
    "\n",
    "c1s = [0.0, 0.1, 0.2, 0.4]\n",
    "#c1s = [0.0, 0.2, 0.4]\n",
    "Cmat = np.eye(1) \n",
    "Cmat = np.array([\n",
    "    [1, -1], \n",
    "    #[1, -0.8], \n",
    "    #[2, -1.5], \n",
    "]).reshape(1, -1)"
   ]
  },
  {
   "cell_type": "code",
   "execution_count": 24,
   "id": "cbf50773-cad8-436a-a82b-b9899d66568d",
   "metadata": {
    "execution": {
     "iopub.execute_input": "2024-02-29T04:00:59.161081Z",
     "iopub.status.busy": "2024-02-29T04:00:59.160439Z",
     "iopub.status.idle": "2024-02-29T04:00:59.205278Z",
     "shell.execute_reply": "2024-02-29T04:00:59.204625Z",
     "shell.execute_reply.started": "2024-02-29T04:00:59.161030Z"
    },
    "tags": []
   },
   "outputs": [
    {
     "data": {
      "text/plain": [
       "0.0"
      ]
     },
     "execution_count": 24,
     "metadata": {},
     "output_type": "execute_result"
    }
   ],
   "source": [
    "# get GT at c=0\n",
    "ts = setting.data_gen_params.beta_fn(setting.data_gen_params.cs_fn(0.0))[:, :Cmat.shape[-1]]\n",
    "ts = ts @ Cmat.T;\n",
    "ts;\n",
    "np.linalg.norm(ts)"
   ]
  },
  {
   "cell_type": "code",
   "execution_count": 25,
   "id": "dfd6d7e4-4870-453b-a7e9-f342802ede3b",
   "metadata": {
    "execution": {
     "iopub.execute_input": "2024-02-29T04:01:00.655975Z",
     "iopub.status.busy": "2024-02-29T04:01:00.655365Z",
     "iopub.status.idle": "2024-02-29T04:01:29.276193Z",
     "shell.execute_reply": "2024-02-29T04:01:29.275117Z",
     "shell.execute_reply.started": "2024-02-29T04:01:00.655906Z"
    },
    "scrolled": true,
    "tags": []
   },
   "outputs": [
    {
     "name": "stdout",
     "output_type": "stream",
     "text": [
      "Load file /data/rajlab1/user_data/jin/MyResearch/HDF_infer/notebooks/simu_real/../../mypkg/../results/simu_settingn2_0/all-valsel-metrics.pkl\n"
     ]
    },
    {
     "name": "stderr",
     "output_type": "stream",
     "text": [
      "c1: 0.0: 100%|██████████████████████████████████████████████████████████████| 200/200 [00:00<00:00, 12355.08it/s]\n"
     ]
    },
    {
     "name": "stdout",
     "output_type": "stream",
     "text": [
      "0.0 14 0.9\n",
      "Load file /data/rajlab1/user_data/jin/MyResearch/HDF_infer/notebooks/simu_real/../../mypkg/../results/simu_settingn2_100/all-valsel-metrics.pkl\n"
     ]
    },
    {
     "name": "stderr",
     "output_type": "stream",
     "text": [
      "c1: 0.1: 100%|██████████████████████████████████████████████████████████████| 200/200 [00:00<00:00, 12000.53it/s]\n"
     ]
    },
    {
     "name": "stdout",
     "output_type": "stream",
     "text": [
      "0.1 14 0.9\n",
      "Load file /data/rajlab1/user_data/jin/MyResearch/HDF_infer/notebooks/simu_real/../../mypkg/../results/simu_settingn2_200/all-valsel-metrics.pkl\n"
     ]
    },
    {
     "name": "stderr",
     "output_type": "stream",
     "text": [
      "c1: 0.2: 100%|██████████████████████████████████████████████████████████████| 200/200 [00:00<00:00, 12350.72it/s]\n"
     ]
    },
    {
     "name": "stdout",
     "output_type": "stream",
     "text": [
      "0.2 14 0.9\n",
      "Load file /data/rajlab1/user_data/jin/MyResearch/HDF_infer/notebooks/simu_real/../../mypkg/../results/simu_settingn2_400/all-valsel-metrics.pkl\n"
     ]
    },
    {
     "name": "stderr",
     "output_type": "stream",
     "text": [
      "c1: 0.4: 100%|██████████████████████████████████████████████████████████████| 200/200 [00:00<00:00, 12197.89it/s]\n"
     ]
    },
    {
     "name": "stdout",
     "output_type": "stream",
     "text": [
      "0.4 14 0.9\n"
     ]
    },
    {
     "name": "stderr",
     "output_type": "stream",
     "text": [
      "c1: 0: 100%|████████████████████████████████████████████████████████████████| 1000/1000 [00:05<00:00, 192.09it/s]\n",
      "c1: 100: 100%|██████████████████████████████████████████████████████████████| 1000/1000 [00:06<00:00, 153.12it/s]\n",
      "c1: 200: 100%|██████████████████████████████████████████████████████████████| 1000/1000 [00:05<00:00, 181.29it/s]\n",
      "c1: 400: 100%|██████████████████████████████████████████████████████████████| 1000/1000 [00:04<00:00, 205.44it/s]\n"
     ]
    }
   ],
   "source": [
    "if True:\n",
    "    def _run_fn1(seed, all_cv_errs):\n",
    "        errs_mat = []\n",
    "        for cur_N in can_Ns:\n",
    "            errs = []\n",
    "            for cur_lam in can_lams:\n",
    "                errs.append(all_cv_errs[(seed, cur_N, cur_lam)].mse_loss)\n",
    "            errs_mat.append(errs)\n",
    "        errs_mat = np.array(errs_mat)\n",
    "        return errs_mat\n",
    "    opt_lamNs_fix = {}\n",
    "    for c1 in c1s:\n",
    "        cur_save_dir = RES_ROOT/f\"simu_setting{setting.setting}_{c1*1000:.0f}\"\n",
    "        all_cv_errs = load_pkl(cur_save_dir/f\"all-valsel-metrics.pkl\")\n",
    "        num_seed = len(np.unique(list(map(lambda x: x[0], all_cv_errs.keys()))))\n",
    "        # do not make n_jobs>1, it is very slow\n",
    "        with Parallel(n_jobs=1) as parallel:\n",
    "            err_ten = parallel(delayed(_run_fn1)(cur_seed, all_cv_errs)  \n",
    "                                     for cur_seed in tqdm(range(num_seed), total=num_seed, desc=f\"c1: {c1}\"))\n",
    "        err_ten = np.array(err_ten);\n",
    "        \n",
    "        err_ten_ses = err_ten.std(axis=0)/np.sqrt(err_ten.shape[0])\n",
    "        err_m = np.mean(np.array(err_ten), axis=0)\n",
    "        errs = []\n",
    "        for err in err_m:\n",
    "            lam_min_idx = _get_min_idx(err)\n",
    "            errs.append((err[lam_min_idx], lam_min_idx))\n",
    "        errs = np.array(errs)\n",
    "        N_min_idx = np.argmin(errs[:, 0]);\n",
    "        lam_min_idx = int(errs[N_min_idx][1]);\n",
    "        min_opt_N, min_opt_lam = can_Ns[N_min_idx], can_lams[lam_min_idx]\n",
    "        \n",
    "        err_upbd = err_m[N_min_idx, lam_min_idx] + err_ten_ses[N_min_idx, lam_min_idx]; \n",
    "        lam_1se_idx = np.where(err_m[N_min_idx] <= err_upbd)[0].max();\n",
    "        print(c1, can_Ns[N_min_idx], can_lams[lam_min_idx])\n",
    "        opt_lamNs_fix[c1] = (can_Ns[N_min_idx],  can_lams[lam_min_idx])\n",
    "    \n",
    "    \n",
    "ress_dict = {}\n",
    "for c1 in c1s:\n",
    "    cur_save_dir = RES_ROOT/f\"simu_setting{setting.setting}_{c1*1000:.0f}\"\n",
    "    if c1 in opt_lamNs_fix.keys():\n",
    "        cur_N, cur_lam = opt_lamNs_fix[c1]\n",
    "    else:\n",
    "        cur_N, cur_lam = opt_lamNs_fix[str(c1)]\n",
    "    def _run_fn_test(cur_seed):\n",
    "        from optimization.opt import logger as logger1\n",
    "        logger1.handlers[0].setLevel(logging.WARNING)\n",
    "        torch.set_default_dtype(torch.float64)\n",
    "        f1_name = f\"seed_{cur_seed:.0f}-lam_{cur_lam*1000:.0f}-N_{cur_N:.0f}_fit.pkl\"\n",
    "        res1 = load_pkl(cur_save_dir/f1_name, verbose=False);\n",
    "        res1.basis_mat = torch.tensor(res1.obt_bsp(np.linspace(0, 1, setting.data_gen_params.npts), \n",
    "                                      res1.bsp_params.N, res1.bsp_params.basis_ord)).to(torch.get_default_dtype());\n",
    "        res = res1.hypo_test(Cmat=Cmat, ts=ts, is_simpler=is_simpler, \n",
    "                             hypo_params={\"svdinv_eps_Q\": 1e-7, \"svdinv_eps_Psi\": 1e-7}) \n",
    "    \n",
    "        return res \n",
    "    with Parallel(n_jobs=10) as parallel:\n",
    "        ress = parallel(delayed(_run_fn_test)(cur_seed) for cur_seed in tqdm(range(num_rep1), desc=f\"c1: {c1*1000:.0f}\", total=num_rep1))\n",
    "    ress = np.array(ress);\n",
    "    ress_dict[c1] = ress"
   ]
  },
  {
   "cell_type": "code",
   "execution_count": 26,
   "id": "d3d8dc76-d28c-44a5-9190-1bd0cefe53a9",
   "metadata": {
    "execution": {
     "iopub.execute_input": "2024-02-29T04:01:31.154976Z",
     "iopub.status.busy": "2024-02-29T04:01:31.154319Z",
     "iopub.status.idle": "2024-02-29T04:01:31.210993Z",
     "shell.execute_reply": "2024-02-29T04:01:31.210342Z",
     "shell.execute_reply.started": "2024-02-29T04:01:31.154912Z"
    },
    "tags": []
   },
   "outputs": [
    {
     "data": {
      "text/html": [
       "<div>\n",
       "<style scoped>\n",
       "    .dataframe tbody tr th:only-of-type {\n",
       "        vertical-align: middle;\n",
       "    }\n",
       "\n",
       "    .dataframe tbody tr th {\n",
       "        vertical-align: top;\n",
       "    }\n",
       "\n",
       "    .dataframe thead th {\n",
       "        text-align: right;\n",
       "    }\n",
       "</style>\n",
       "<table border=\"1\" class=\"dataframe\">\n",
       "  <thead>\n",
       "    <tr style=\"text-align: right;\">\n",
       "      <th></th>\n",
       "      <th>pval</th>\n",
       "      <th>T_vs</th>\n",
       "      <th>c</th>\n",
       "    </tr>\n",
       "  </thead>\n",
       "  <tbody>\n",
       "    <tr>\n",
       "      <th>0</th>\n",
       "      <td>0.065</td>\n",
       "      <td>12.681852</td>\n",
       "      <td>0.0</td>\n",
       "    </tr>\n",
       "    <tr>\n",
       "      <th>1</th>\n",
       "      <td>0.259</td>\n",
       "      <td>18.744336</td>\n",
       "      <td>0.1</td>\n",
       "    </tr>\n",
       "    <tr>\n",
       "      <th>2</th>\n",
       "      <td>0.753</td>\n",
       "      <td>37.030250</td>\n",
       "      <td>0.2</td>\n",
       "    </tr>\n",
       "    <tr>\n",
       "      <th>3</th>\n",
       "      <td>0.997</td>\n",
       "      <td>110.184750</td>\n",
       "      <td>0.4</td>\n",
       "    </tr>\n",
       "  </tbody>\n",
       "</table>\n",
       "</div>"
      ],
      "text/plain": [
       "    pval        T_vs    c\n",
       "0  0.065   12.681852  0.0\n",
       "1  0.259   18.744336  0.1\n",
       "2  0.753   37.030250  0.2\n",
       "3  0.997  110.184750  0.4"
      ]
     },
     "execution_count": 26,
     "metadata": {},
     "output_type": "execute_result"
    }
   ],
   "source": [
    "out_res = ddict(list)\n",
    "for c1 in c1s:\n",
    "    ress = ress_dict[c1][:]\n",
    "    pvals = np.array([res[\"pval\"] for res in ress]);\n",
    "    T_vs = np.array([res[\"T_v\"].item() for res in ress]);\n",
    "    kpidx = outlier_det(T_vs, 0.00)\n",
    "    out_res[\"pval\"].append(np.mean(pvals[kpidx]<0.05))\n",
    "    out_res[\"T_vs\"].append(np.mean(T_vs[kpidx]))\n",
    "\n",
    "out_res[\"c\"] = c1s\n",
    "pd.DataFrame(out_res)"
   ]
  },
  {
   "cell_type": "code",
   "execution_count": null,
   "id": "f01a929b-209f-456e-a02d-f2e16b2cc33c",
   "metadata": {},
   "outputs": [],
   "source": []
  },
  {
   "cell_type": "code",
   "execution_count": 16,
   "id": "d8b5c90f-4b22-47a9-a690-b3cc495c4f36",
   "metadata": {
    "execution": {
     "iopub.execute_input": "2024-01-27T04:30:29.168474Z",
     "iopub.status.busy": "2024-01-27T04:30:29.167877Z",
     "iopub.status.idle": "2024-01-27T04:30:29.418199Z",
     "shell.execute_reply": "2024-01-27T04:30:29.417790Z",
     "shell.execute_reply.started": "2024-01-27T04:30:29.168428Z"
    },
    "tags": []
   },
   "outputs": [
    {
     "data": {
      "text/plain": [
       "<matplotlib.legend.Legend at 0x7f230afd36a0>"
      ]
     },
     "execution_count": 16,
     "metadata": {},
     "output_type": "execute_result"
    },
    {
     "data": {
      "image/png": "[encoded data removed]",
      "text/plain": [
       "<Figure size 432x288 with 1 Axes>"
      ]
     },
     "metadata": {
      "needs_background": "light"
     },
     "output_type": "display_data"
    }
   ],
   "source": [
    "ress = ress_dict[0.0][:]\n",
    "pvals = np.array([res[\"pval\"] for res in ress]);\n",
    "T_vs = np.array([res[\"T_v\"].item() for res in ress]);\n",
    "kpidx = outlier_det(T_vs, 0.00);\n",
    "chi_df = Cmat.shape[0]*14\n",
    "\n",
    "xs = np.linspace(0.1, 40, 100)\n",
    "theo_curvs_log = chi2.logpdf(xs, chi_df);\n",
    "plt.plot(xs, np.exp(theo_curvs_log) , label=\"theoretical\")\n",
    "sns.kdeplot(T_vs, label=\"empirical\")\n",
    "#sns.kdeplot(T_vs[kpidx], label=\"empirical(no)\")\n",
    "plt.legend()"
   ]
  },
  {
   "cell_type": "code",
   "execution_count": 48,
   "id": "ab9687d5-5ef1-4711-8ea8-3a81fe1a867e",
   "metadata": {
    "execution": {
     "iopub.execute_input": "2024-01-27T04:23:40.591722Z",
     "iopub.status.busy": "2024-01-27T04:23:40.591163Z",
     "iopub.status.idle": "2024-01-27T04:23:40.740533Z",
     "shell.execute_reply": "2024-01-27T04:23:40.739231Z",
     "shell.execute_reply.started": "2024-01-27T04:23:40.591661Z"
    },
    "tags": []
   },
   "outputs": [],
   "source": [
    "ress = ress_dict[0.4]\n",
    "T_vs0 = np.array([res[\"T_v\"].item() for res in ress]);\n",
    "pvals0 = np.array([res[\"pval\"] for res in ress]);"
   ]
  },
  {
   "cell_type": "code",
   "execution_count": 51,
   "id": "a6c3dcf9-4bc2-4e86-953b-2a495687072d",
   "metadata": {
    "execution": {
     "iopub.execute_input": "2024-01-27T04:24:02.179144Z",
     "iopub.status.busy": "2024-01-27T04:24:02.178515Z",
     "iopub.status.idle": "2024-01-27T04:24:02.220474Z",
     "shell.execute_reply": "2024-01-27T04:24:02.219755Z",
     "shell.execute_reply.started": "2024-01-27T04:24:02.179100Z"
    },
    "tags": []
   },
   "outputs": [],
   "source": [
    "np.sort(T_vs0);"
   ]
  },
  {
   "cell_type": "code",
   "execution_count": 52,
   "id": "f0544f19-b2c8-45ed-91e7-2cb7e001f8b3",
   "metadata": {
    "execution": {
     "iopub.execute_input": "2024-01-27T04:24:06.354688Z",
     "iopub.status.busy": "2024-01-27T04:24:06.354058Z",
     "iopub.status.idle": "2024-01-27T04:24:06.396307Z",
     "shell.execute_reply": "2024-01-27T04:24:06.395657Z",
     "shell.execute_reply.started": "2024-01-27T04:24:06.354634Z"
    },
    "tags": []
   },
   "outputs": [
    {
     "data": {
      "text/plain": [
       "(array([233, 386, 389, 551, 616, 816, 878, 962]),)"
      ]
     },
     "execution_count": 52,
     "metadata": {},
     "output_type": "execute_result"
    }
   ],
   "source": [
    "np.where(pvals0 > 0.05)"
   ]
  },
  {
   "cell_type": "code",
   "execution_count": null,
   "id": "553df8af-9b12-4901-8f03-c23cfd3f7150",
   "metadata": {},
   "outputs": [],
   "source": []
  },
  {
   "cell_type": "code",
   "execution_count": 33,
   "id": "98f511b5-d348-4e0f-96d9-d90c2795d115",
   "metadata": {
    "execution": {
     "iopub.execute_input": "2024-01-27T04:35:38.360184Z",
     "iopub.status.busy": "2024-01-27T04:35:38.359560Z",
     "iopub.status.idle": "2024-01-27T04:35:38.405638Z",
     "shell.execute_reply": "2024-01-27T04:35:38.404484Z",
     "shell.execute_reply.started": "2024-01-27T04:35:38.360139Z"
    },
    "tags": []
   },
   "outputs": [],
   "source": [
    "c1 = 0.0\n",
    "cur_save_dir = RES_ROOT/f\"simu_settingn2_{c1*1000:.0f}\"\n",
    "cur_N = 14\n",
    "cur_lam = 0.8\n",
    "def _run_fn_test(cur_seed):\n",
    "        from optimization.opt import logger as logger1\n",
    "        logger1.handlers[0].setLevel(logging.WARNING)\n",
    "        torch.set_default_dtype(torch.float64)\n",
    "        f1_name = f\"seed_{cur_seed:.0f}-lam_{cur_lam*1000:.0f}-N_{cur_N:.0f}_fit.pkl\"\n",
    "        print(f1_name)\n",
    "        res1 = load_pkl(cur_save_dir/f1_name, verbose=False);\n",
    "        res1.basis_mat = torch.tensor(res1.obt_bsp(np.linspace(0, 1, setting.data_gen_params.npts), \n",
    "                                      res1.bsp_params.N, res1.bsp_params.basis_ord)).to(torch.get_default_dtype());\n",
    "        res = res1.hypo_test(Cmat=Cmat, ts=ts, is_simpler=is_simpler, \n",
    "                             hypo_params={\"svdinv_eps_Q\": 1e-7, \"svdinv_eps_Psi\": 1e-7}) \n",
    "    \n",
    "        return res1 "
   ]
  },
  {
   "cell_type": "code",
   "execution_count": 34,
   "id": "116d5510-2b29-4bae-8322-86ceb2dcce0e",
   "metadata": {
    "execution": {
     "iopub.execute_input": "2024-01-27T04:35:38.735338Z",
     "iopub.status.busy": "2024-01-27T04:35:38.734825Z",
     "iopub.status.idle": "2024-01-27T04:35:47.918832Z",
     "shell.execute_reply": "2024-01-27T04:35:47.917618Z",
     "shell.execute_reply.started": "2024-01-27T04:35:38.735295Z"
    },
    "tags": []
   },
   "outputs": [
    {
     "name": "stdout",
     "output_type": "stream",
     "text": [
      "seed_3-lam_800-N_14_fit.pkl\n",
      "> \u001b[0;32m/data/rajlab1/user_data/jin/MyResearch/HDF_infer/mypkg/optimization/opt.py\u001b[0m(518)\u001b[0;36mhypo_test\u001b[0;34m()\u001b[0m\n",
      "\u001b[0;32m    516 \u001b[0;31m        \u001b[0mpdb\u001b[0m\u001b[0;34m.\u001b[0m\u001b[0mset_trace\u001b[0m\u001b[0;34m(\u001b[0m\u001b[0;34m)\u001b[0m\u001b[0;34m\u001b[0m\u001b[0;34m\u001b[0m\u001b[0m\n",
      "\u001b[0m\u001b[0;32m    517 \u001b[0;31m\u001b[0;34m\u001b[0m\u001b[0m\n",
      "\u001b[0m\u001b[0;32m--> 518 \u001b[0;31m        \u001b[0mhypo_test_res\u001b[0m \u001b[0;34m=\u001b[0m \u001b[0medict\u001b[0m\u001b[0;34m(\u001b[0m\u001b[0;34m)\u001b[0m\u001b[0;34m\u001b[0m\u001b[0;34m\u001b[0m\u001b[0m\n",
      "\u001b[0m\u001b[0;32m    519 \u001b[0;31m        \u001b[0mhypo_test_res\u001b[0m\u001b[0;34m.\u001b[0m\u001b[0mpval\u001b[0m \u001b[0;34m=\u001b[0m \u001b[0mpval\u001b[0m\u001b[0;34m\u001b[0m\u001b[0;34m\u001b[0m\u001b[0m\n",
      "\u001b[0m\u001b[0;32m    520 \u001b[0;31m        \u001b[0mhypo_test_res\u001b[0m\u001b[0;34m.\u001b[0m\u001b[0mT_v\u001b[0m \u001b[0;34m=\u001b[0m \u001b[0mT_v\u001b[0m\u001b[0;34m\u001b[0m\u001b[0;34m\u001b[0m\u001b[0m\n",
      "\u001b[0m\n"
     ]
    },
    {
     "name": "stdin",
     "output_type": "stream",
     "text": [
      "ipdb>  torch.svd(Psi).S\n"
     ]
    },
    {
     "name": "stdout",
     "output_type": "stream",
     "text": [
      "tensor([2.6767, 1.6871, 1.3574, 1.2203, 1.1510, 0.9640, 0.9046, 0.7063, 0.5930,\n",
      "        0.5369, 0.4858, 0.4444, 0.3968, 0.3321])\n"
     ]
    },
    {
     "name": "stdin",
     "output_type": "stream",
     "text": [
      "ipdb>  q\n"
     ]
    },
    {
     "ename": "BdbQuit",
     "evalue": "",
     "output_type": "error",
     "traceback": [
      "\u001b[0;31m---------------------------------------------------------------------------\u001b[0m",
      "\u001b[0;31mBdbQuit\u001b[0m                                   Traceback (most recent call last)",
      "\u001b[0;32m/tmp/ipykernel_72444/1925997562.py\u001b[0m in \u001b[0;36m<module>\u001b[0;34m\u001b[0m\n\u001b[0;32m----> 1\u001b[0;31m \u001b[0mres1\u001b[0m \u001b[0;34m=\u001b[0m \u001b[0m_run_fn_test\u001b[0m\u001b[0;34m(\u001b[0m\u001b[0;36m3\u001b[0m\u001b[0;34m)\u001b[0m\u001b[0;34m\u001b[0m\u001b[0;34m\u001b[0m\u001b[0m\n\u001b[0m",
      "\u001b[0;32m/tmp/ipykernel_72444/1853838041.py\u001b[0m in \u001b[0;36m_run_fn_test\u001b[0;34m(cur_seed)\u001b[0m\n\u001b[1;32m     12\u001b[0m         res1.basis_mat = torch.tensor(res1.obt_bsp(np.linspace(0, 1, setting.data_gen_params.npts), \n\u001b[1;32m     13\u001b[0m                                       res1.bsp_params.N, res1.bsp_params.basis_ord)).to(torch.get_default_dtype());\n\u001b[0;32m---> 14\u001b[0;31m         res = res1.hypo_test(Cmat=Cmat, ts=ts, is_simpler=is_simpler, \n\u001b[0m\u001b[1;32m     15\u001b[0m                              hypo_params={\"svdinv_eps_Q\": 1e-7, \"svdinv_eps_Psi\": 1e-7}) \n\u001b[1;32m     16\u001b[0m \u001b[0;34m\u001b[0m\u001b[0m\n",
      "\u001b[0;32m/data/rajlab1/user_data/jin/MyResearch/HDF_infer/notebooks/simu_real/../../mypkg/optimization/opt.py\u001b[0m in \u001b[0;36mhypo_test\u001b[0;34m(self, Cmat, ts, is_simpler, hypo_params)\u001b[0m\n\u001b[1;32m    516\u001b[0m         \u001b[0mpdb\u001b[0m\u001b[0;34m.\u001b[0m\u001b[0mset_trace\u001b[0m\u001b[0;34m(\u001b[0m\u001b[0;34m)\u001b[0m\u001b[0;34m\u001b[0m\u001b[0;34m\u001b[0m\u001b[0m\n\u001b[1;32m    517\u001b[0m \u001b[0;34m\u001b[0m\u001b[0m\n\u001b[0;32m--> 518\u001b[0;31m         \u001b[0mhypo_test_res\u001b[0m \u001b[0;34m=\u001b[0m \u001b[0medict\u001b[0m\u001b[0;34m(\u001b[0m\u001b[0;34m)\u001b[0m\u001b[0;34m\u001b[0m\u001b[0;34m\u001b[0m\u001b[0m\n\u001b[0m\u001b[1;32m    519\u001b[0m         \u001b[0mhypo_test_res\u001b[0m\u001b[0;34m.\u001b[0m\u001b[0mpval\u001b[0m \u001b[0;34m=\u001b[0m \u001b[0mpval\u001b[0m\u001b[0;34m\u001b[0m\u001b[0;34m\u001b[0m\u001b[0m\n\u001b[1;32m    520\u001b[0m         \u001b[0mhypo_test_res\u001b[0m\u001b[0;34m.\u001b[0m\u001b[0mT_v\u001b[0m \u001b[0;34m=\u001b[0m \u001b[0mT_v\u001b[0m\u001b[0;34m\u001b[0m\u001b[0;34m\u001b[0m\u001b[0m\n",
      "\u001b[0;32m/data/rajlab1/user_data/jin/MyResearch/HDF_infer/notebooks/simu_real/../../mypkg/optimization/opt.py\u001b[0m in \u001b[0;36mhypo_test\u001b[0;34m(self, Cmat, ts, is_simpler, hypo_params)\u001b[0m\n\u001b[1;32m    516\u001b[0m         \u001b[0mpdb\u001b[0m\u001b[0;34m.\u001b[0m\u001b[0mset_trace\u001b[0m\u001b[0;34m(\u001b[0m\u001b[0;34m)\u001b[0m\u001b[0;34m\u001b[0m\u001b[0;34m\u001b[0m\u001b[0m\n\u001b[1;32m    517\u001b[0m \u001b[0;34m\u001b[0m\u001b[0m\n\u001b[0;32m--> 518\u001b[0;31m         \u001b[0mhypo_test_res\u001b[0m \u001b[0;34m=\u001b[0m \u001b[0medict\u001b[0m\u001b[0;34m(\u001b[0m\u001b[0;34m)\u001b[0m\u001b[0;34m\u001b[0m\u001b[0;34m\u001b[0m\u001b[0m\n\u001b[0m\u001b[1;32m    519\u001b[0m         \u001b[0mhypo_test_res\u001b[0m\u001b[0;34m.\u001b[0m\u001b[0mpval\u001b[0m \u001b[0;34m=\u001b[0m \u001b[0mpval\u001b[0m\u001b[0;34m\u001b[0m\u001b[0;34m\u001b[0m\u001b[0m\n\u001b[1;32m    520\u001b[0m         \u001b[0mhypo_test_res\u001b[0m\u001b[0;34m.\u001b[0m\u001b[0mT_v\u001b[0m \u001b[0;34m=\u001b[0m \u001b[0mT_v\u001b[0m\u001b[0;34m\u001b[0m\u001b[0;34m\u001b[0m\u001b[0m\n",
      "\u001b[0;32m/opt/conda/lib/python3.9/bdb.py\u001b[0m in \u001b[0;36mtrace_dispatch\u001b[0;34m(self, frame, event, arg)\u001b[0m\n\u001b[1;32m     86\u001b[0m             \u001b[0;32mreturn\u001b[0m \u001b[0;31m# None\u001b[0m\u001b[0;34m\u001b[0m\u001b[0;34m\u001b[0m\u001b[0m\n\u001b[1;32m     87\u001b[0m         \u001b[0;32mif\u001b[0m \u001b[0mevent\u001b[0m \u001b[0;34m==\u001b[0m \u001b[0;34m'line'\u001b[0m\u001b[0;34m:\u001b[0m\u001b[0;34m\u001b[0m\u001b[0;34m\u001b[0m\u001b[0m\n\u001b[0;32m---> 88\u001b[0;31m             \u001b[0;32mreturn\u001b[0m \u001b[0mself\u001b[0m\u001b[0;34m.\u001b[0m\u001b[0mdispatch_line\u001b[0m\u001b[0;34m(\u001b[0m\u001b[0mframe\u001b[0m\u001b[0;34m)\u001b[0m\u001b[0;34m\u001b[0m\u001b[0;34m\u001b[0m\u001b[0m\n\u001b[0m\u001b[1;32m     89\u001b[0m         \u001b[0;32mif\u001b[0m \u001b[0mevent\u001b[0m \u001b[0;34m==\u001b[0m \u001b[0;34m'call'\u001b[0m\u001b[0;34m:\u001b[0m\u001b[0;34m\u001b[0m\u001b[0;34m\u001b[0m\u001b[0m\n\u001b[1;32m     90\u001b[0m             \u001b[0;32mreturn\u001b[0m \u001b[0mself\u001b[0m\u001b[0;34m.\u001b[0m\u001b[0mdispatch_call\u001b[0m\u001b[0;34m(\u001b[0m\u001b[0mframe\u001b[0m\u001b[0;34m,\u001b[0m \u001b[0marg\u001b[0m\u001b[0;34m)\u001b[0m\u001b[0;34m\u001b[0m\u001b[0;34m\u001b[0m\u001b[0m\n",
      "\u001b[0;32m/opt/conda/lib/python3.9/bdb.py\u001b[0m in \u001b[0;36mdispatch_line\u001b[0;34m(self, frame)\u001b[0m\n\u001b[1;32m    111\u001b[0m         \u001b[0;32mif\u001b[0m \u001b[0mself\u001b[0m\u001b[0;34m.\u001b[0m\u001b[0mstop_here\u001b[0m\u001b[0;34m(\u001b[0m\u001b[0mframe\u001b[0m\u001b[0;34m)\u001b[0m \u001b[0;32mor\u001b[0m \u001b[0mself\u001b[0m\u001b[0;34m.\u001b[0m\u001b[0mbreak_here\u001b[0m\u001b[0;34m(\u001b[0m\u001b[0mframe\u001b[0m\u001b[0;34m)\u001b[0m\u001b[0;34m:\u001b[0m\u001b[0;34m\u001b[0m\u001b[0;34m\u001b[0m\u001b[0m\n\u001b[1;32m    112\u001b[0m             \u001b[0mself\u001b[0m\u001b[0;34m.\u001b[0m\u001b[0muser_line\u001b[0m\u001b[0;34m(\u001b[0m\u001b[0mframe\u001b[0m\u001b[0;34m)\u001b[0m\u001b[0;34m\u001b[0m\u001b[0;34m\u001b[0m\u001b[0m\n\u001b[0;32m--> 113\u001b[0;31m             \u001b[0;32mif\u001b[0m \u001b[0mself\u001b[0m\u001b[0;34m.\u001b[0m\u001b[0mquitting\u001b[0m\u001b[0;34m:\u001b[0m \u001b[0;32mraise\u001b[0m \u001b[0mBdbQuit\u001b[0m\u001b[0;34m\u001b[0m\u001b[0;34m\u001b[0m\u001b[0m\n\u001b[0m\u001b[1;32m    114\u001b[0m         \u001b[0;32mreturn\u001b[0m \u001b[0mself\u001b[0m\u001b[0;34m.\u001b[0m\u001b[0mtrace_dispatch\u001b[0m\u001b[0;34m\u001b[0m\u001b[0;34m\u001b[0m\u001b[0m\n\u001b[1;32m    115\u001b[0m \u001b[0;34m\u001b[0m\u001b[0m\n",
      "\u001b[0;31mBdbQuit\u001b[0m: "
     ]
    }
   ],
   "source": [
    "res1 = _run_fn_test(3)"
   ]
  },
  {
   "cell_type": "code",
   "execution_count": 32,
   "id": "f2a70e8d-608a-4541-bddb-7096ee172e81",
   "metadata": {
    "execution": {
     "iopub.execute_input": "2024-01-27T04:35:03.642169Z",
     "iopub.status.busy": "2024-01-27T04:35:03.641546Z",
     "iopub.status.idle": "2024-01-27T04:35:15.497394Z",
     "shell.execute_reply": "2024-01-27T04:35:15.496092Z",
     "shell.execute_reply.started": "2024-01-27T04:35:03.642123Z"
    },
    "tags": []
   },
   "outputs": [
    {
     "name": "stdout",
     "output_type": "stream",
     "text": [
      "> \u001b[0;32m/data/rajlab1/user_data/jin/MyResearch/HDF_infer/mypkg/optimization/opt.py\u001b[0m(518)\u001b[0;36mhypo_test\u001b[0;34m()\u001b[0m\n",
      "\u001b[0;32m    516 \u001b[0;31m        \u001b[0mpdb\u001b[0m\u001b[0;34m.\u001b[0m\u001b[0mset_trace\u001b[0m\u001b[0;34m(\u001b[0m\u001b[0;34m)\u001b[0m\u001b[0;34m\u001b[0m\u001b[0;34m\u001b[0m\u001b[0m\n",
      "\u001b[0m\u001b[0;32m    517 \u001b[0;31m\u001b[0;34m\u001b[0m\u001b[0m\n",
      "\u001b[0m\u001b[0;32m--> 518 \u001b[0;31m        \u001b[0mhypo_test_res\u001b[0m \u001b[0;34m=\u001b[0m \u001b[0medict\u001b[0m\u001b[0;34m(\u001b[0m\u001b[0;34m)\u001b[0m\u001b[0;34m\u001b[0m\u001b[0;34m\u001b[0m\u001b[0m\n",
      "\u001b[0m\u001b[0;32m    519 \u001b[0;31m        \u001b[0mhypo_test_res\u001b[0m\u001b[0;34m.\u001b[0m\u001b[0mpval\u001b[0m \u001b[0;34m=\u001b[0m \u001b[0mpval\u001b[0m\u001b[0;34m\u001b[0m\u001b[0;34m\u001b[0m\u001b[0m\n",
      "\u001b[0m\u001b[0;32m    520 \u001b[0;31m        \u001b[0mhypo_test_res\u001b[0m\u001b[0;34m.\u001b[0m\u001b[0mT_v\u001b[0m \u001b[0;34m=\u001b[0m \u001b[0mT_v\u001b[0m\u001b[0;34m\u001b[0m\u001b[0;34m\u001b[0m\u001b[0m\n",
      "\u001b[0m\n"
     ]
    },
    {
     "name": "stdin",
     "output_type": "stream",
     "text": [
      "ipdb>  torch.svd(Psi).S\n"
     ]
    },
    {
     "name": "stdout",
     "output_type": "stream",
     "text": [
      "tensor([3.4542, 3.0080, 2.3923, 2.2757, 2.0904, 1.7451])\n"
     ]
    },
    {
     "name": "stdin",
     "output_type": "stream",
     "text": [
      "ipdb>  q\n"
     ]
    },
    {
     "ename": "BdbQuit",
     "evalue": "",
     "output_type": "error",
     "traceback": [
      "\u001b[0;31m---------------------------------------------------------------------------\u001b[0m",
      "\u001b[0;31mBdbQuit\u001b[0m                                   Traceback (most recent call last)",
      "\u001b[0;32m/tmp/ipykernel_72444/2724229413.py\u001b[0m in \u001b[0;36m<module>\u001b[0;34m\u001b[0m\n\u001b[0;32m----> 1\u001b[0;31m res1.hypo_test(Cmat=Cmat, ts=ts, is_simpler=is_simpler, \n\u001b[0m\u001b[1;32m      2\u001b[0m                              hypo_params={\"svdinv_eps_Q\": 1e-6, \"svdinv_eps_Psi\": 1e-6}) \n",
      "\u001b[0;32m/data/rajlab1/user_data/jin/MyResearch/HDF_infer/notebooks/simu_real/../../mypkg/optimization/opt.py\u001b[0m in \u001b[0;36mhypo_test\u001b[0;34m(self, Cmat, ts, is_simpler, hypo_params)\u001b[0m\n\u001b[1;32m    516\u001b[0m         \u001b[0mpdb\u001b[0m\u001b[0;34m.\u001b[0m\u001b[0mset_trace\u001b[0m\u001b[0;34m(\u001b[0m\u001b[0;34m)\u001b[0m\u001b[0;34m\u001b[0m\u001b[0;34m\u001b[0m\u001b[0m\n\u001b[1;32m    517\u001b[0m \u001b[0;34m\u001b[0m\u001b[0m\n\u001b[0;32m--> 518\u001b[0;31m         \u001b[0mhypo_test_res\u001b[0m \u001b[0;34m=\u001b[0m \u001b[0medict\u001b[0m\u001b[0;34m(\u001b[0m\u001b[0;34m)\u001b[0m\u001b[0;34m\u001b[0m\u001b[0;34m\u001b[0m\u001b[0m\n\u001b[0m\u001b[1;32m    519\u001b[0m         \u001b[0mhypo_test_res\u001b[0m\u001b[0;34m.\u001b[0m\u001b[0mpval\u001b[0m \u001b[0;34m=\u001b[0m \u001b[0mpval\u001b[0m\u001b[0;34m\u001b[0m\u001b[0;34m\u001b[0m\u001b[0m\n\u001b[1;32m    520\u001b[0m         \u001b[0mhypo_test_res\u001b[0m\u001b[0;34m.\u001b[0m\u001b[0mT_v\u001b[0m \u001b[0;34m=\u001b[0m \u001b[0mT_v\u001b[0m\u001b[0;34m\u001b[0m\u001b[0;34m\u001b[0m\u001b[0m\n",
      "\u001b[0;32m/data/rajlab1/user_data/jin/MyResearch/HDF_infer/notebooks/simu_real/../../mypkg/optimization/opt.py\u001b[0m in \u001b[0;36mhypo_test\u001b[0;34m(self, Cmat, ts, is_simpler, hypo_params)\u001b[0m\n\u001b[1;32m    516\u001b[0m         \u001b[0mpdb\u001b[0m\u001b[0;34m.\u001b[0m\u001b[0mset_trace\u001b[0m\u001b[0;34m(\u001b[0m\u001b[0;34m)\u001b[0m\u001b[0;34m\u001b[0m\u001b[0;34m\u001b[0m\u001b[0m\n\u001b[1;32m    517\u001b[0m \u001b[0;34m\u001b[0m\u001b[0m\n\u001b[0;32m--> 518\u001b[0;31m         \u001b[0mhypo_test_res\u001b[0m \u001b[0;34m=\u001b[0m \u001b[0medict\u001b[0m\u001b[0;34m(\u001b[0m\u001b[0;34m)\u001b[0m\u001b[0;34m\u001b[0m\u001b[0;34m\u001b[0m\u001b[0m\n\u001b[0m\u001b[1;32m    519\u001b[0m         \u001b[0mhypo_test_res\u001b[0m\u001b[0;34m.\u001b[0m\u001b[0mpval\u001b[0m \u001b[0;34m=\u001b[0m \u001b[0mpval\u001b[0m\u001b[0;34m\u001b[0m\u001b[0;34m\u001b[0m\u001b[0m\n\u001b[1;32m    520\u001b[0m         \u001b[0mhypo_test_res\u001b[0m\u001b[0;34m.\u001b[0m\u001b[0mT_v\u001b[0m \u001b[0;34m=\u001b[0m \u001b[0mT_v\u001b[0m\u001b[0;34m\u001b[0m\u001b[0;34m\u001b[0m\u001b[0m\n",
      "\u001b[0;32m/opt/conda/lib/python3.9/bdb.py\u001b[0m in \u001b[0;36mtrace_dispatch\u001b[0;34m(self, frame, event, arg)\u001b[0m\n\u001b[1;32m     86\u001b[0m             \u001b[0;32mreturn\u001b[0m \u001b[0;31m# None\u001b[0m\u001b[0;34m\u001b[0m\u001b[0;34m\u001b[0m\u001b[0m\n\u001b[1;32m     87\u001b[0m         \u001b[0;32mif\u001b[0m \u001b[0mevent\u001b[0m \u001b[0;34m==\u001b[0m \u001b[0;34m'line'\u001b[0m\u001b[0;34m:\u001b[0m\u001b[0;34m\u001b[0m\u001b[0;34m\u001b[0m\u001b[0m\n\u001b[0;32m---> 88\u001b[0;31m             \u001b[0;32mreturn\u001b[0m \u001b[0mself\u001b[0m\u001b[0;34m.\u001b[0m\u001b[0mdispatch_line\u001b[0m\u001b[0;34m(\u001b[0m\u001b[0mframe\u001b[0m\u001b[0;34m)\u001b[0m\u001b[0;34m\u001b[0m\u001b[0;34m\u001b[0m\u001b[0m\n\u001b[0m\u001b[1;32m     89\u001b[0m         \u001b[0;32mif\u001b[0m \u001b[0mevent\u001b[0m \u001b[0;34m==\u001b[0m \u001b[0;34m'call'\u001b[0m\u001b[0;34m:\u001b[0m\u001b[0;34m\u001b[0m\u001b[0;34m\u001b[0m\u001b[0m\n\u001b[1;32m     90\u001b[0m             \u001b[0;32mreturn\u001b[0m \u001b[0mself\u001b[0m\u001b[0;34m.\u001b[0m\u001b[0mdispatch_call\u001b[0m\u001b[0;34m(\u001b[0m\u001b[0mframe\u001b[0m\u001b[0;34m,\u001b[0m \u001b[0marg\u001b[0m\u001b[0;34m)\u001b[0m\u001b[0;34m\u001b[0m\u001b[0;34m\u001b[0m\u001b[0m\n",
      "\u001b[0;32m/opt/conda/lib/python3.9/bdb.py\u001b[0m in \u001b[0;36mdispatch_line\u001b[0;34m(self, frame)\u001b[0m\n\u001b[1;32m    111\u001b[0m         \u001b[0;32mif\u001b[0m \u001b[0mself\u001b[0m\u001b[0;34m.\u001b[0m\u001b[0mstop_here\u001b[0m\u001b[0;34m(\u001b[0m\u001b[0mframe\u001b[0m\u001b[0;34m)\u001b[0m \u001b[0;32mor\u001b[0m \u001b[0mself\u001b[0m\u001b[0;34m.\u001b[0m\u001b[0mbreak_here\u001b[0m\u001b[0;34m(\u001b[0m\u001b[0mframe\u001b[0m\u001b[0;34m)\u001b[0m\u001b[0;34m:\u001b[0m\u001b[0;34m\u001b[0m\u001b[0;34m\u001b[0m\u001b[0m\n\u001b[1;32m    112\u001b[0m             \u001b[0mself\u001b[0m\u001b[0;34m.\u001b[0m\u001b[0muser_line\u001b[0m\u001b[0;34m(\u001b[0m\u001b[0mframe\u001b[0m\u001b[0;34m)\u001b[0m\u001b[0;34m\u001b[0m\u001b[0;34m\u001b[0m\u001b[0m\n\u001b[0;32m--> 113\u001b[0;31m             \u001b[0;32mif\u001b[0m \u001b[0mself\u001b[0m\u001b[0;34m.\u001b[0m\u001b[0mquitting\u001b[0m\u001b[0;34m:\u001b[0m \u001b[0;32mraise\u001b[0m \u001b[0mBdbQuit\u001b[0m\u001b[0;34m\u001b[0m\u001b[0;34m\u001b[0m\u001b[0m\n\u001b[0m\u001b[1;32m    114\u001b[0m         \u001b[0;32mreturn\u001b[0m \u001b[0mself\u001b[0m\u001b[0;34m.\u001b[0m\u001b[0mtrace_dispatch\u001b[0m\u001b[0;34m\u001b[0m\u001b[0;34m\u001b[0m\u001b[0m\n\u001b[1;32m    115\u001b[0m \u001b[0;34m\u001b[0m\u001b[0m\n",
      "\u001b[0;31mBdbQuit\u001b[0m: "
     ]
    }
   ],
   "source": [
    "res1.hypo_test(Cmat=Cmat, ts=ts, is_simpler=is_simpler, \n",
    "                             hypo_params={\"svdinv_eps_Q\": 1e-6, \"svdinv_eps_Psi\": 1e-6}) "
   ]
  },
  {
   "cell_type": "code",
   "execution_count": 24,
   "id": "938ccdee-6de0-49a8-ac69-188b89658b32",
   "metadata": {
    "execution": {
     "iopub.execute_input": "2024-01-27T04:32:53.470723Z",
     "iopub.status.busy": "2024-01-27T04:32:53.470111Z",
     "iopub.status.idle": "2024-01-27T04:33:51.523552Z",
     "shell.execute_reply": "2024-01-27T04:33:51.522418Z",
     "shell.execute_reply.started": "2024-01-27T04:32:53.470665Z"
    },
    "tags": []
   },
   "outputs": [
    {
     "name": "stdout",
     "output_type": "stream",
     "text": [
      "> \u001b[0;32m/data/rajlab1/user_data/jin/MyResearch/HDF_infer/mypkg/optimization/opt.py\u001b[0m(518)\u001b[0;36mhypo_test\u001b[0;34m()\u001b[0m\n",
      "\u001b[0;32m    516 \u001b[0;31m        \u001b[0mpdb\u001b[0m\u001b[0;34m.\u001b[0m\u001b[0mset_trace\u001b[0m\u001b[0;34m(\u001b[0m\u001b[0;34m)\u001b[0m\u001b[0;34m\u001b[0m\u001b[0;34m\u001b[0m\u001b[0m\n",
      "\u001b[0m\u001b[0;32m    517 \u001b[0;31m\u001b[0;34m\u001b[0m\u001b[0m\n",
      "\u001b[0m\u001b[0;32m--> 518 \u001b[0;31m        \u001b[0mhypo_test_res\u001b[0m \u001b[0;34m=\u001b[0m \u001b[0medict\u001b[0m\u001b[0;34m(\u001b[0m\u001b[0;34m)\u001b[0m\u001b[0;34m\u001b[0m\u001b[0;34m\u001b[0m\u001b[0m\n",
      "\u001b[0m\u001b[0;32m    519 \u001b[0;31m        \u001b[0mhypo_test_res\u001b[0m\u001b[0;34m.\u001b[0m\u001b[0mpval\u001b[0m \u001b[0;34m=\u001b[0m \u001b[0mpval\u001b[0m\u001b[0;34m\u001b[0m\u001b[0;34m\u001b[0m\u001b[0m\n",
      "\u001b[0m\u001b[0;32m    520 \u001b[0;31m        \u001b[0mhypo_test_res\u001b[0m\u001b[0;34m.\u001b[0m\u001b[0mT_v\u001b[0m \u001b[0;34m=\u001b[0m \u001b[0mT_v\u001b[0m\u001b[0;34m\u001b[0m\u001b[0;34m\u001b[0m\u001b[0m\n",
      "\u001b[0m\n"
     ]
    },
    {
     "name": "stdin",
     "output_type": "stream",
     "text": [
      "ipdb>  torch.svd(Psi).S\n"
     ]
    },
    {
     "name": "stdout",
     "output_type": "stream",
     "text": [
      "tensor([2.8548e+00, 2.2041e+00, 1.8433e+00, 1.2454e+00, 7.6564e-01, 1.3639e-08])\n"
     ]
    },
    {
     "name": "stdin",
     "output_type": "stream",
     "text": [
      "ipdb>  Psi.shape\n"
     ]
    },
    {
     "name": "stdout",
     "output_type": "stream",
     "text": [
      "torch.Size([6, 6])\n"
     ]
    },
    {
     "name": "stdin",
     "output_type": "stream",
     "text": [
      "ipdb>  q\n"
     ]
    },
    {
     "ename": "BdbQuit",
     "evalue": "",
     "output_type": "error",
     "traceback": [
      "\u001b[0;31m---------------------------------------------------------------------------\u001b[0m",
      "\u001b[0;31mBdbQuit\u001b[0m                                   Traceback (most recent call last)",
      "\u001b[0;32m/tmp/ipykernel_72444/150746491.py\u001b[0m in \u001b[0;36m<module>\u001b[0;34m\u001b[0m\n\u001b[0;32m----> 1\u001b[0;31m res1.hypo_test(Cmat=Cmat, ts=ts, is_simpler=is_simpler, \n\u001b[0m\u001b[1;32m      2\u001b[0m                              hypo_params={\"svdinv_eps_Q\": 1e-6, \"svdinv_eps_Psi\": 1e-7}) \n",
      "\u001b[0;32m/data/rajlab1/user_data/jin/MyResearch/HDF_infer/notebooks/simu_real/../../mypkg/optimization/opt.py\u001b[0m in \u001b[0;36mhypo_test\u001b[0;34m(self, Cmat, ts, is_simpler, hypo_params)\u001b[0m\n\u001b[1;32m    516\u001b[0m         \u001b[0mpdb\u001b[0m\u001b[0;34m.\u001b[0m\u001b[0mset_trace\u001b[0m\u001b[0;34m(\u001b[0m\u001b[0;34m)\u001b[0m\u001b[0;34m\u001b[0m\u001b[0;34m\u001b[0m\u001b[0m\n\u001b[1;32m    517\u001b[0m \u001b[0;34m\u001b[0m\u001b[0m\n\u001b[0;32m--> 518\u001b[0;31m         \u001b[0mhypo_test_res\u001b[0m \u001b[0;34m=\u001b[0m \u001b[0medict\u001b[0m\u001b[0;34m(\u001b[0m\u001b[0;34m)\u001b[0m\u001b[0;34m\u001b[0m\u001b[0;34m\u001b[0m\u001b[0m\n\u001b[0m\u001b[1;32m    519\u001b[0m         \u001b[0mhypo_test_res\u001b[0m\u001b[0;34m.\u001b[0m\u001b[0mpval\u001b[0m \u001b[0;34m=\u001b[0m \u001b[0mpval\u001b[0m\u001b[0;34m\u001b[0m\u001b[0;34m\u001b[0m\u001b[0m\n\u001b[1;32m    520\u001b[0m         \u001b[0mhypo_test_res\u001b[0m\u001b[0;34m.\u001b[0m\u001b[0mT_v\u001b[0m \u001b[0;34m=\u001b[0m \u001b[0mT_v\u001b[0m\u001b[0;34m\u001b[0m\u001b[0;34m\u001b[0m\u001b[0m\n",
      "\u001b[0;32m/data/rajlab1/user_data/jin/MyResearch/HDF_infer/notebooks/simu_real/../../mypkg/optimization/opt.py\u001b[0m in \u001b[0;36mhypo_test\u001b[0;34m(self, Cmat, ts, is_simpler, hypo_params)\u001b[0m\n\u001b[1;32m    516\u001b[0m         \u001b[0mpdb\u001b[0m\u001b[0;34m.\u001b[0m\u001b[0mset_trace\u001b[0m\u001b[0;34m(\u001b[0m\u001b[0;34m)\u001b[0m\u001b[0;34m\u001b[0m\u001b[0;34m\u001b[0m\u001b[0m\n\u001b[1;32m    517\u001b[0m \u001b[0;34m\u001b[0m\u001b[0m\n\u001b[0;32m--> 518\u001b[0;31m         \u001b[0mhypo_test_res\u001b[0m \u001b[0;34m=\u001b[0m \u001b[0medict\u001b[0m\u001b[0;34m(\u001b[0m\u001b[0;34m)\u001b[0m\u001b[0;34m\u001b[0m\u001b[0;34m\u001b[0m\u001b[0m\n\u001b[0m\u001b[1;32m    519\u001b[0m         \u001b[0mhypo_test_res\u001b[0m\u001b[0;34m.\u001b[0m\u001b[0mpval\u001b[0m \u001b[0;34m=\u001b[0m \u001b[0mpval\u001b[0m\u001b[0;34m\u001b[0m\u001b[0;34m\u001b[0m\u001b[0m\n\u001b[1;32m    520\u001b[0m         \u001b[0mhypo_test_res\u001b[0m\u001b[0;34m.\u001b[0m\u001b[0mT_v\u001b[0m \u001b[0;34m=\u001b[0m \u001b[0mT_v\u001b[0m\u001b[0;34m\u001b[0m\u001b[0;34m\u001b[0m\u001b[0m\n",
      "\u001b[0;32m/opt/conda/lib/python3.9/bdb.py\u001b[0m in \u001b[0;36mtrace_dispatch\u001b[0;34m(self, frame, event, arg)\u001b[0m\n\u001b[1;32m     86\u001b[0m             \u001b[0;32mreturn\u001b[0m \u001b[0;31m# None\u001b[0m\u001b[0;34m\u001b[0m\u001b[0;34m\u001b[0m\u001b[0m\n\u001b[1;32m     87\u001b[0m         \u001b[0;32mif\u001b[0m \u001b[0mevent\u001b[0m \u001b[0;34m==\u001b[0m \u001b[0;34m'line'\u001b[0m\u001b[0;34m:\u001b[0m\u001b[0;34m\u001b[0m\u001b[0;34m\u001b[0m\u001b[0m\n\u001b[0;32m---> 88\u001b[0;31m             \u001b[0;32mreturn\u001b[0m \u001b[0mself\u001b[0m\u001b[0;34m.\u001b[0m\u001b[0mdispatch_line\u001b[0m\u001b[0;34m(\u001b[0m\u001b[0mframe\u001b[0m\u001b[0;34m)\u001b[0m\u001b[0;34m\u001b[0m\u001b[0;34m\u001b[0m\u001b[0m\n\u001b[0m\u001b[1;32m     89\u001b[0m         \u001b[0;32mif\u001b[0m \u001b[0mevent\u001b[0m \u001b[0;34m==\u001b[0m \u001b[0;34m'call'\u001b[0m\u001b[0;34m:\u001b[0m\u001b[0;34m\u001b[0m\u001b[0;34m\u001b[0m\u001b[0m\n\u001b[1;32m     90\u001b[0m             \u001b[0;32mreturn\u001b[0m \u001b[0mself\u001b[0m\u001b[0;34m.\u001b[0m\u001b[0mdispatch_call\u001b[0m\u001b[0;34m(\u001b[0m\u001b[0mframe\u001b[0m\u001b[0;34m,\u001b[0m \u001b[0marg\u001b[0m\u001b[0;34m)\u001b[0m\u001b[0;34m\u001b[0m\u001b[0;34m\u001b[0m\u001b[0m\n",
      "\u001b[0;32m/opt/conda/lib/python3.9/bdb.py\u001b[0m in \u001b[0;36mdispatch_line\u001b[0;34m(self, frame)\u001b[0m\n\u001b[1;32m    111\u001b[0m         \u001b[0;32mif\u001b[0m \u001b[0mself\u001b[0m\u001b[0;34m.\u001b[0m\u001b[0mstop_here\u001b[0m\u001b[0;34m(\u001b[0m\u001b[0mframe\u001b[0m\u001b[0;34m)\u001b[0m \u001b[0;32mor\u001b[0m \u001b[0mself\u001b[0m\u001b[0;34m.\u001b[0m\u001b[0mbreak_here\u001b[0m\u001b[0;34m(\u001b[0m\u001b[0mframe\u001b[0m\u001b[0;34m)\u001b[0m\u001b[0;34m:\u001b[0m\u001b[0;34m\u001b[0m\u001b[0;34m\u001b[0m\u001b[0m\n\u001b[1;32m    112\u001b[0m             \u001b[0mself\u001b[0m\u001b[0;34m.\u001b[0m\u001b[0muser_line\u001b[0m\u001b[0;34m(\u001b[0m\u001b[0mframe\u001b[0m\u001b[0;34m)\u001b[0m\u001b[0;34m\u001b[0m\u001b[0;34m\u001b[0m\u001b[0m\n\u001b[0;32m--> 113\u001b[0;31m             \u001b[0;32mif\u001b[0m \u001b[0mself\u001b[0m\u001b[0;34m.\u001b[0m\u001b[0mquitting\u001b[0m\u001b[0;34m:\u001b[0m \u001b[0;32mraise\u001b[0m \u001b[0mBdbQuit\u001b[0m\u001b[0;34m\u001b[0m\u001b[0;34m\u001b[0m\u001b[0m\n\u001b[0m\u001b[1;32m    114\u001b[0m         \u001b[0;32mreturn\u001b[0m \u001b[0mself\u001b[0m\u001b[0;34m.\u001b[0m\u001b[0mtrace_dispatch\u001b[0m\u001b[0;34m\u001b[0m\u001b[0;34m\u001b[0m\u001b[0m\n\u001b[1;32m    115\u001b[0m \u001b[0;34m\u001b[0m\u001b[0m\n",
      "\u001b[0;31mBdbQuit\u001b[0m: "
     ]
    }
   ],
   "source": [
    "res1.hypo_test(Cmat=Cmat, ts=ts, is_simpler=is_simpler, \n",
    "                             hypo_params={\"svdinv_eps_Q\": 1e-6, \"svdinv_eps_Psi\": 1e-7}) "
   ]
  },
  {
   "cell_type": "code",
   "execution_count": null,
   "id": "938a52e4-a4f5-46ff-805c-0d97f1770906",
   "metadata": {},
   "outputs": [],
   "source": []
  },
  {
   "cell_type": "code",
   "execution_count": 18,
   "id": "14f5361f-64f1-43da-b314-9ff04e6f0538",
   "metadata": {
    "execution": {
     "iopub.execute_input": "2024-01-27T04:11:07.182924Z",
     "iopub.status.busy": "2024-01-27T04:11:07.182291Z",
     "iopub.status.idle": "2024-01-27T04:11:07.703298Z",
     "shell.execute_reply": "2024-01-27T04:11:07.702875Z",
     "shell.execute_reply.started": "2024-01-27T04:11:07.182880Z"
    },
    "tags": []
   },
   "outputs": [
    {
     "name": "stderr",
     "output_type": "stream",
     "text": [
      "R[write to console]: \n",
      "Attaching package: ‘orthogonalsplinebasis’\n",
      "\n",
      "\n",
      "R[write to console]: The following object is masked from ‘package:stats’:\n",
      "\n",
      "    integrate\n",
      "\n",
      "\n"
     ]
    },
    {
     "name": "stdout",
     "output_type": "stream",
     "text": [
      "seed_0-lam_1300-N_14_fit.pkl\n"
     ]
    },
    {
     "data": {
      "text/plain": [
       "<matplotlib.legend.Legend at 0x7ffbb2b7b910>"
      ]
     },
     "execution_count": 18,
     "metadata": {},
     "output_type": "execute_result"
    },
    {
     "data": {
      "image/png": "[encoded data removed]",
      "text/plain": [
       "<Figure size 720x360 with 2 Axes>"
      ]
     },
     "metadata": {
      "needs_background": "light"
     },
     "output_type": "display_data"
    }
   ],
   "source": [
    "\n",
    "res1 = _run_fn_test(0);\n",
    "c = 0\n",
    "est_betas = (res1.basis_mat @ res1.est_Gam)\n",
    "data_gen_params = setting.data_gen_params\n",
    "data_gen_params.cs = data_gen_params.cs_fn(c)\n",
    "gt_beta = data_gen_params.beta_fn(data_gen_params.cs)\n",
    "\n",
    "plt.figure(figsize=[10, 5])\n",
    "plt.subplot(121)\n",
    "idx = 0\n",
    "plt.plot(est_betas[:, idx], label=\"EST\")\n",
    "plt.plot(gt_beta[:, idx], label=\"GT\")\n",
    "plt.legend()\n",
    "plt.subplot(122)\n",
    "idx = 1\n",
    "plt.plot(est_betas[:, idx], label=\"EST\")\n",
    "plt.plot(gt_beta[:, idx], label=\"GT\")\n",
    "plt.legend()"
   ]
  },
  {
   "cell_type": "code",
   "execution_count": null,
   "id": "7b7450de-5f26-4b3a-a5a3-4ad2c8da9ffe",
   "metadata": {},
   "outputs": [],
   "source": []
  }
 ],
 "metadata": {
  "kernelspec": {
   "display_name": "Python 3 (ipykernel)",
   "language": "python",
   "name": "python3"
  },
  "language_info": {
   "codemirror_mode": {
    "name": "ipython",
    "version": 3
   },
   "file_extension": ".py",
   "mimetype": "text/x-python",
   "name": "python",
   "nbconvert_exporter": "python",
   "pygments_lexer": "ipython3",
   "version": "3.9.7"
  },
  "toc": {
   "base_numbering": 1,
   "nav_menu": {},
   "number_sections": true,
   "sideBar": true,
   "skip_h1_title": false,
   "title_cell": "Table of Contents",
   "title_sidebar": "Contents",
   "toc_cell": false,
   "toc_position": {
    "height": "calc(100% - 180px)",
    "left": "10px",
    "top": "150px",
    "width": "165px"
   },
   "toc_section_display": true,
   "toc_window_display": true
  },
  "toc-autonumbering": true
 },
 "nbformat": 4,
 "nbformat_minor": 5
}
