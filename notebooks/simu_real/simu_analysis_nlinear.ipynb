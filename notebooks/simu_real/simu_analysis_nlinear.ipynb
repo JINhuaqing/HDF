{
 "cells": [
  {
   "cell_type": "markdown",
   "id": "942a9fb0-de26-4619-9f8f-1d1ad87c308f",
   "metadata": {},
   "source": [
    "Analysis the results under new code"
   ]
  },
  {
   "cell_type": "code",
   "execution_count": 1,
   "id": "02ae980e",
   "metadata": {
    "ExecuteTime": {
     "end_time": "2023-05-31T19:57:23.490285Z",
     "start_time": "2023-05-31T19:57:23.481769Z"
    },
    "execution": {
     "iopub.execute_input": "2024-02-28T19:07:41.743432Z",
     "iopub.status.busy": "2024-02-28T19:07:41.742871Z",
     "iopub.status.idle": "2024-02-28T19:07:41.759083Z",
     "shell.execute_reply": "2024-02-28T19:07:41.756789Z",
     "shell.execute_reply.started": "2024-02-28T19:07:41.743385Z"
    },
    "tags": []
   },
   "outputs": [],
   "source": [
    "import sys\n",
    "sys.path.append(\"../../mypkg\")"
   ]
  },
  {
   "cell_type": "code",
   "execution_count": 2,
   "id": "023df78a",
   "metadata": {
    "ExecuteTime": {
     "end_time": "2023-05-31T19:57:34.238839Z",
     "start_time": "2023-05-31T19:57:23.494053Z"
    },
    "execution": {
     "iopub.execute_input": "2024-02-28T19:07:41.761369Z",
     "iopub.status.busy": "2024-02-28T19:07:41.760647Z",
     "iopub.status.idle": "2024-02-28T19:07:44.176884Z",
     "shell.execute_reply": "2024-02-28T19:07:44.175863Z",
     "shell.execute_reply.started": "2024-02-28T19:07:41.761326Z"
    },
    "tags": []
   },
   "outputs": [],
   "source": [
    "import numpy as np\n",
    "import torch\n",
    "import matplotlib.pyplot as plt\n",
    "import seaborn as sns\n",
    "from scipy.stats import pearsonr\n",
    "from numbers import Number\n",
    "\n",
    "from joblib import Parallel, delayed\n",
    "\n",
    "from easydict import EasyDict as edict\n",
    "from tqdm import trange, tqdm\n",
    "from scipy.io import loadmat\n",
    "from pprint import pprint\n",
    "import itertools\n",
    "from scipy.stats import chi2\n",
    "import pandas as pd\n",
    "from IPython.display import display\n"
   ]
  },
  {
   "cell_type": "code",
   "execution_count": 3,
   "id": "b9d3cbc6-1ac5-47d6-a0d1-bcbc0be9267e",
   "metadata": {
    "execution": {
     "iopub.execute_input": "2024-02-28T19:07:44.178357Z",
     "iopub.status.busy": "2024-02-28T19:07:44.178052Z",
     "iopub.status.idle": "2024-02-28T19:07:44.198888Z",
     "shell.execute_reply": "2024-02-28T19:07:44.198481Z",
     "shell.execute_reply.started": "2024-02-28T19:07:44.178341Z"
    },
    "tags": []
   },
   "outputs": [],
   "source": [
    "# This will reload all imports as soon as the code changes\n",
    "%load_ext autoreload\n",
    "%autoreload 2"
   ]
  },
  {
   "cell_type": "code",
   "execution_count": 4,
   "id": "b0aa91b2",
   "metadata": {
    "ExecuteTime": {
     "end_time": "2023-05-31T19:57:59.558229Z",
     "start_time": "2023-05-31T19:57:34.292612Z"
    },
    "execution": {
     "iopub.execute_input": "2024-02-28T19:07:44.199532Z",
     "iopub.status.busy": "2024-02-28T19:07:44.199393Z",
     "iopub.status.idle": "2024-02-28T19:07:44.290708Z",
     "shell.execute_reply": "2024-02-28T19:07:44.289954Z",
     "shell.execute_reply.started": "2024-02-28T19:07:44.199520Z"
    },
    "tags": []
   },
   "outputs": [],
   "source": [
    "from constants import DATA_ROOT, RES_ROOT, FIG_ROOT, MIDRES_ROOT\n",
    "\n",
    "from utils.matrix import col_vec_fn, col_vec2mat_fn, conju_grad, svd_inverse, cholesky_inv\n",
    "from utils.misc import save_pkl, load_pkl, get_local_min_idxs\n",
    "from scenarios.real_simu_linear import settings\n",
    "from scenarios.real_simu_linear_sinica import settings as settingss\n",
    "from scenarios.real_simu_linear_sinica0 import settings as setting0ss\n",
    "from scenarios.real_simu_linear_meg import settings as settingms\n"
   ]
  },
  {
   "cell_type": "code",
   "execution_count": 5,
   "id": "03e8580b-15e9-4a93-8010-aa2d650ffdf6",
   "metadata": {
    "execution": {
     "iopub.execute_input": "2024-02-28T19:07:44.292227Z",
     "iopub.status.busy": "2024-02-28T19:07:44.291752Z",
     "iopub.status.idle": "2024-02-28T19:07:44.316229Z",
     "shell.execute_reply": "2024-02-28T19:07:44.315793Z",
     "shell.execute_reply.started": "2024-02-28T19:07:44.292198Z"
    },
    "tags": []
   },
   "outputs": [],
   "source": [
    "import logging\n",
    "\n",
    "logger = logging.getLogger(\"tmp\")\n",
    "logger.setLevel(logging.DEBUG)\n",
    "formatter = logging.Formatter('%(asctime)s - %(name)s - %(levelname)s - %(message)s')\n",
    "\n",
    "ch = logging.StreamHandler() # for console. \n",
    "ch.setLevel(logging.DEBUG)\n",
    "ch.setFormatter(formatter)\n",
    "\n",
    "logger.addHandler(ch)"
   ]
  },
  {
   "cell_type": "code",
   "execution_count": 6,
   "id": "d29891f5-2fe1-428f-9d0d-4991cd3bfc58",
   "metadata": {
    "execution": {
     "iopub.execute_input": "2024-02-28T19:07:44.316887Z",
     "iopub.status.busy": "2024-02-28T19:07:44.316741Z",
     "iopub.status.idle": "2024-02-28T19:07:45.105977Z",
     "shell.execute_reply": "2024-02-28T19:07:45.104762Z",
     "shell.execute_reply.started": "2024-02-28T19:07:44.316875Z"
    },
    "tags": []
   },
   "outputs": [],
   "source": [
    "from optimization.opt import logger as logger1\n",
    "logger1.handlers[0].setLevel(logging.WARNING)"
   ]
  },
  {
   "cell_type": "code",
   "execution_count": 7,
   "id": "fe0a4a46",
   "metadata": {
    "ExecuteTime": {
     "end_time": "2023-05-31T19:57:59.621784Z",
     "start_time": "2023-05-31T19:57:59.568097Z"
    },
    "execution": {
     "iopub.execute_input": "2024-02-28T19:07:45.108262Z",
     "iopub.status.busy": "2024-02-28T19:07:45.107593Z",
     "iopub.status.idle": "2024-02-28T19:07:45.144512Z",
     "shell.execute_reply": "2024-02-28T19:07:45.143929Z",
     "shell.execute_reply.started": "2024-02-28T19:07:45.108206Z"
    },
    "tags": []
   },
   "outputs": [],
   "source": [
    "plt.style.use(FIG_ROOT/\"base.mplstyle\")\n",
    "torch.set_default_dtype(torch.float64)"
   ]
  },
  {
   "cell_type": "code",
   "execution_count": null,
   "id": "e0cb5a3d-1ab1-4bc0-bfce-d7ebaedb0391",
   "metadata": {},
   "outputs": [],
   "source": []
  },
  {
   "cell_type": "code",
   "execution_count": null,
   "id": "d0af2f35",
   "metadata": {},
   "outputs": [],
   "source": []
  },
  {
   "cell_type": "markdown",
   "id": "dd9c6514",
   "metadata": {},
   "source": [
    "# Param and fns"
   ]
  },
  {
   "cell_type": "code",
   "execution_count": null,
   "id": "a10d559c-8d6a-428a-bdb9-23c0a5aac96b",
   "metadata": {},
   "outputs": [],
   "source": []
  },
  {
   "cell_type": "markdown",
   "id": "e5ccf9dc-c8f3-40a3-92f9-de2cdfa75610",
   "metadata": {},
   "source": [
    "## Fns"
   ]
  },
  {
   "cell_type": "code",
   "execution_count": 8,
   "id": "d93eca7c-5b7c-49ee-bec2-979f08f8d602",
   "metadata": {
    "execution": {
     "iopub.execute_input": "2024-02-28T19:07:45.145389Z",
     "iopub.status.busy": "2024-02-28T19:07:45.145146Z",
     "iopub.status.idle": "2024-02-28T19:07:45.170113Z",
     "shell.execute_reply": "2024-02-28T19:07:45.169508Z",
     "shell.execute_reply.started": "2024-02-28T19:07:45.145374Z"
    },
    "tags": []
   },
   "outputs": [
    {
     "data": {
      "text/plain": [
       "<function __main__.<lambda>(x)>"
      ]
     },
     "execution_count": 8,
     "metadata": {},
     "output_type": "execute_result"
    }
   ],
   "source": [
    "def _get_min_idx(x):\n",
    "    \"\"\"Get the index of the minimal values among the local minimals.\n",
    "       If there are multiple ones, return the largest index\n",
    "       args:\n",
    "           x: a vec\n",
    "        \n",
    "    \"\"\"\n",
    "    x = np.array(x)\n",
    "    lmin_idxs = get_local_min_idxs(x);\n",
    "    if len(lmin_idxs) == 0:\n",
    "        lmin_idxs = np.arange(len(x))\n",
    "    lmin_idxs_inv =  lmin_idxs[::-1]\n",
    "    lmins_inv = x[lmin_idxs_inv];\n",
    "    return  lmin_idxs_inv[np.argmin(lmins_inv)]\n",
    "_err_fn = lambda x: np.nanmean(x**2)\n",
    "#_err_fn = lambda x: np.nanmean(np.abs(x))"
   ]
  },
  {
   "cell_type": "code",
   "execution_count": null,
   "id": "75e10fd4",
   "metadata": {},
   "outputs": [],
   "source": []
  },
  {
   "cell_type": "markdown",
   "id": "ad8553a0-635d-473c-b27e-7bb7fb31a674",
   "metadata": {},
   "source": [
    "# Analysis"
   ]
  },
  {
   "cell_type": "code",
   "execution_count": 9,
   "id": "bab987e3-6895-4b69-bf54-56cd6763138e",
   "metadata": {
    "execution": {
     "iopub.execute_input": "2024-02-28T19:07:46.547491Z",
     "iopub.status.busy": "2024-02-28T19:07:46.546794Z",
     "iopub.status.idle": "2024-02-28T19:07:46.584509Z",
     "shell.execute_reply": "2024-02-28T19:07:46.583871Z",
     "shell.execute_reply.started": "2024-02-28T19:07:46.547445Z"
    },
    "tags": []
   },
   "outputs": [],
   "source": [
    "\n",
    "num_rep = 200;"
   ]
  },
  {
   "cell_type": "code",
   "execution_count": 69,
   "id": "c979f760-ba7d-44eb-a235-1309a6436855",
   "metadata": {
    "execution": {
     "iopub.execute_input": "2024-02-28T19:23:07.864875Z",
     "iopub.status.busy": "2024-02-28T19:23:07.864121Z",
     "iopub.status.idle": "2024-02-28T19:23:08.003113Z",
     "shell.execute_reply": "2024-02-28T19:23:08.001994Z",
     "shell.execute_reply.started": "2024-02-28T19:23:07.864824Z"
    },
    "tags": []
   },
   "outputs": [
    {
     "data": {
      "text/plain": [
       "[0.0, 0.1, 0.2, 0.4]"
      ]
     },
     "execution_count": 69,
     "metadata": {},
     "output_type": "execute_result"
    }
   ],
   "source": [
    "post_fix = \"1e\"\n",
    "#setting = settings[\"n2b\"]\n",
    "setting = settingms[f\"nm{post_fix}\"] # add more for 0.8\n",
    "setting = setting0ss[f\"n0s{post_fix}\"]\n",
    "can_Ns = setting.can_Ns\n",
    "can_lams = setting.can_lams\n",
    "\n",
    "c1s = [0.0, 0.1, 0.2, 0.4]\n"
   ]
  },
  {
   "cell_type": "code",
   "execution_count": null,
   "id": "3264cfce-b893-450e-b063-e3f4c10d1d08",
   "metadata": {},
   "outputs": [],
   "source": []
  },
  {
   "cell_type": "markdown",
   "id": "f3189271-865f-47c1-ba40-2a026eb64d28",
   "metadata": {},
   "source": [
    "## Pre-ana"
   ]
  },
  {
   "cell_type": "code",
   "execution_count": 70,
   "id": "760e6728-0c64-44b9-ac39-c0ca4c89b3d8",
   "metadata": {
    "execution": {
     "iopub.execute_input": "2024-02-28T19:23:09.122168Z",
     "iopub.status.busy": "2024-02-28T19:23:09.121588Z",
     "iopub.status.idle": "2024-02-28T19:23:09.161518Z",
     "shell.execute_reply": "2024-02-28T19:23:09.160907Z",
     "shell.execute_reply.started": "2024-02-28T19:23:09.122123Z"
    },
    "tags": []
   },
   "outputs": [
    {
     "data": {
      "text/plain": [
       "0.0"
      ]
     },
     "execution_count": 70,
     "metadata": {},
     "output_type": "execute_result"
    }
   ],
   "source": [
    "c1 = 0.0"
   ]
  },
  {
   "cell_type": "code",
   "execution_count": 71,
   "id": "f1b69959-28cc-4ceb-97e8-624abeb2f7e8",
   "metadata": {
    "execution": {
     "iopub.execute_input": "2024-02-28T19:23:09.463196Z",
     "iopub.status.busy": "2024-02-28T19:23:09.462728Z",
     "iopub.status.idle": "2024-02-28T19:23:10.583177Z",
     "shell.execute_reply": "2024-02-28T19:23:10.582556Z",
     "shell.execute_reply.started": "2024-02-28T19:23:09.463165Z"
    },
    "tags": []
   },
   "outputs": [
    {
     "name": "stdout",
     "output_type": "stream",
     "text": [
      "Load file /data/rajlab1/user_data/jin/MyResearch/HDF_infer/notebooks/simu_real/../../mypkg/../results/simu_settingn0s1e_0/all-valsel-metrics.pkl\n"
     ]
    },
    {
     "name": "stderr",
     "output_type": "stream",
     "text": [
      "c1: 0.0: 100%|██████████████████████████████████████████████████████████████| 200/200 [00:00<00:00, 15822.79it/s]\n"
     ]
    }
   ],
   "source": [
    "def _run_fn1(seed, all_cv_errs):\n",
    "    errs_mat = []\n",
    "    for cur_N in can_Ns:\n",
    "        errs = []\n",
    "        for cur_lam in can_lams:\n",
    "            errs.append(all_cv_errs[(seed, cur_N, cur_lam)].mse_loss)\n",
    "        errs_mat.append(errs)\n",
    "    errs_mat = np.array(errs_mat)\n",
    "    return errs_mat\n",
    "cur_save_dir = RES_ROOT/f\"simu_setting{setting.setting}_{c1*1000:.0f}\"\n",
    "all_cv_errs = load_pkl(cur_save_dir/f\"all-valsel-metrics.pkl\")\n",
    "num_seed = len(np.unique(list(map(lambda x: x[0], all_cv_errs.keys()))))\n",
    "# do not make n_jobs>1, it is very slow\n",
    "with Parallel(n_jobs=1) as parallel:\n",
    "    err_ten = parallel(delayed(_run_fn1)(cur_seed, all_cv_errs)  \n",
    "                             for cur_seed in tqdm(range(num_seed), total=num_seed, desc=f\"c1: {c1}\"))\n",
    "err_ten = np.array(err_ten);"
   ]
  },
  {
   "cell_type": "code",
   "execution_count": 72,
   "id": "6f9534a4-db3c-4606-a358-d2c4f991c763",
   "metadata": {
    "execution": {
     "iopub.execute_input": "2024-02-28T19:23:12.721928Z",
     "iopub.status.busy": "2024-02-28T19:23:12.721369Z",
     "iopub.status.idle": "2024-02-28T19:23:12.765974Z",
     "shell.execute_reply": "2024-02-28T19:23:12.765327Z",
     "shell.execute_reply.started": "2024-02-28T19:23:12.721884Z"
    },
    "tags": []
   },
   "outputs": [
    {
     "data": {
      "text/plain": [
       "(10, 0.5, 0.5)"
      ]
     },
     "execution_count": 72,
     "metadata": {},
     "output_type": "execute_result"
    }
   ],
   "source": [
    "err_ten_ses = err_ten.std(axis=0)/np.sqrt(err_ten.shape[0])\n",
    "err_m = np.mean(np.array(err_ten), axis=0)\n",
    "errs = []\n",
    "for err in err_m:\n",
    "    lam_min_idx = _get_min_idx(err)\n",
    "    errs.append((err[lam_min_idx], lam_min_idx))\n",
    "errs = np.array(errs)\n",
    "N_min_idx = np.argmin(errs[:, 0]);\n",
    "lam_min_idx = int(errs[N_min_idx][1]);\n",
    "min_opt_N, min_opt_lam = can_Ns[N_min_idx], can_lams[lam_min_idx]\n",
    "min_opt_N, min_opt_lam\n",
    "\n",
    "err_upbd = err_m[N_min_idx, lam_min_idx] + err_ten_ses[N_min_idx, lam_min_idx]; \n",
    "lam_1se_idx = np.where(err_m[N_min_idx] <= err_upbd)[0].max();\n",
    "(can_Ns[N_min_idx], can_lams[lam_min_idx], can_lams[lam_1se_idx])"
   ]
  },
  {
   "cell_type": "code",
   "execution_count": 73,
   "id": "9a21aadc-a8fa-48a9-b505-932f19dbd568",
   "metadata": {
    "execution": {
     "iopub.execute_input": "2024-02-28T19:23:13.412743Z",
     "iopub.status.busy": "2024-02-28T19:23:13.412207Z",
     "iopub.status.idle": "2024-02-28T19:23:13.743049Z",
     "shell.execute_reply": "2024-02-28T19:23:13.742696Z",
     "shell.execute_reply.started": "2024-02-28T19:23:13.412699Z"
    },
    "tags": []
   },
   "outputs": [
    {
     "data": {
      "image/png": "[encoded data removed]",
      "text/plain": [
       "<Figure size 864x432 with 2 Axes>"
      ]
     },
     "metadata": {
      "needs_background": "light"
     },
     "output_type": "display_data"
    }
   ],
   "source": [
    "plt.figure(figsize=[12, 6])\n",
    "sns.heatmap(err_m, annot=err_m, fmt=\".3f\")\n",
    "plt.xticks(np.arange(len(can_lams))+0.5, can_lams);\n",
    "plt.yticks(np.arange(len(can_Ns))+0.5, can_Ns);"
   ]
  },
  {
   "cell_type": "code",
   "execution_count": null,
   "id": "d8df0e15-24b2-4939-84b6-78a48db6d627",
   "metadata": {},
   "outputs": [],
   "source": []
  },
  {
   "cell_type": "code",
   "execution_count": null,
   "id": "c4d346ec-0d18-460b-8eae-79f96d4cd7af",
   "metadata": {},
   "outputs": [],
   "source": []
  },
  {
   "cell_type": "markdown",
   "id": "181957a8-0dd4-48a9-bc45-02938ecc817d",
   "metadata": {},
   "source": [
    "## Step 2 get results"
   ]
  },
  {
   "cell_type": "code",
   "execution_count": 74,
   "id": "03bbf5e2-23a1-485a-a783-9bb8525d16c0",
   "metadata": {
    "execution": {
     "iopub.execute_input": "2024-02-28T19:23:16.760120Z",
     "iopub.status.busy": "2024-02-28T19:23:16.759509Z",
     "iopub.status.idle": "2024-02-28T19:23:16.800874Z",
     "shell.execute_reply": "2024-02-28T19:23:16.800098Z",
     "shell.execute_reply.started": "2024-02-28T19:23:16.760071Z"
    },
    "tags": []
   },
   "outputs": [],
   "source": [
    "ada_N = False\n",
    "ada_lam = False\n",
    "\n",
    "if ada_N and ada_lam:\n",
    "    fix = \"\"\n",
    "elif (not ada_N) and ada_lam:\n",
    "    optN = 4\n",
    "    fix = \"fixN\"\n",
    "elif (not ada_N) and (not ada_lam):\n",
    "    fix = \"fixNlam\"\n",
    "    fixN = None\n",
    "    if fixN is not None:\n",
    "        assert fixN in can_Ns\n",
    "save_name = f\"opt_lamNs{fix}_ress.pkl\"\n",
    "loss = \"mse_loss\"\n",
    "if post_fix.startswith(\"1\"):\n",
    "    is_simpler = False\n",
    "else:\n",
    "    is_simpler = True"
   ]
  },
  {
   "cell_type": "code",
   "execution_count": 75,
   "id": "04d6e509-b422-4df9-8a65-5de6bb59a77f",
   "metadata": {
    "execution": {
     "iopub.execute_input": "2024-02-28T19:23:17.217482Z",
     "iopub.status.busy": "2024-02-28T19:23:17.216950Z",
     "iopub.status.idle": "2024-02-28T19:23:20.545998Z",
     "shell.execute_reply": "2024-02-28T19:23:20.545307Z",
     "shell.execute_reply.started": "2024-02-28T19:23:17.217439Z"
    },
    "tags": []
   },
   "outputs": [
    {
     "name": "stdout",
     "output_type": "stream",
     "text": [
      "Load file /data/rajlab1/user_data/jin/MyResearch/HDF_infer/notebooks/simu_real/../../mypkg/../results/simu_settingn0s1e_0/all-valsel-metrics.pkl\n"
     ]
    },
    {
     "name": "stderr",
     "output_type": "stream",
     "text": [
      "c1: 0.0: 100%|██████████████████████████████████████████████████████████████| 200/200 [00:00<00:00, 19296.58it/s]"
     ]
    },
    {
     "name": "stdout",
     "output_type": "stream",
     "text": [
      "Load file /data/rajlab1/user_data/jin/MyResearch/HDF_infer/notebooks/simu_real/../../mypkg/../results/simu_settingn0s1e_100/all-valsel-metrics.pkl\n"
     ]
    },
    {
     "name": "stderr",
     "output_type": "stream",
     "text": [
      "\n",
      "c1: 0.1: 100%|██████████████████████████████████████████████████████████████| 200/200 [00:00<00:00, 16441.48it/s]\n"
     ]
    },
    {
     "name": "stdout",
     "output_type": "stream",
     "text": [
      "Load file /data/rajlab1/user_data/jin/MyResearch/HDF_infer/notebooks/simu_real/../../mypkg/../results/simu_settingn0s1e_200/all-valsel-metrics.pkl\n"
     ]
    },
    {
     "name": "stderr",
     "output_type": "stream",
     "text": [
      "c1: 0.2: 100%|██████████████████████████████████████████████████████████████| 200/200 [00:00<00:00, 16493.85it/s]\n"
     ]
    },
    {
     "name": "stdout",
     "output_type": "stream",
     "text": [
      "Load file /data/rajlab1/user_data/jin/MyResearch/HDF_infer/notebooks/simu_real/../../mypkg/../results/simu_settingn0s1e_400/all-valsel-metrics.pkl\n"
     ]
    },
    {
     "name": "stderr",
     "output_type": "stream",
     "text": [
      "c1: 0.4: 100%|██████████████████████████████████████████████████████████████| 200/200 [00:00<00:00, 16128.84it/s]"
     ]
    },
    {
     "name": "stdout",
     "output_type": "stream",
     "text": [
      "{0.0: (10, 0.5), 0.1: (10, 0.5), 0.2: (10, 0.5), 0.4: (10, 0.5)}\n"
     ]
    },
    {
     "name": "stderr",
     "output_type": "stream",
     "text": [
      "\n"
     ]
    }
   ],
   "source": [
    "if ada_lam and ada_N:\n",
    "    def _run_fn(seed, all_cv_errs):\n",
    "        errs_N = []\n",
    "        for cur_N in can_Ns:\n",
    "            errs = []\n",
    "            for cur_lam in can_lams:\n",
    "                errs.append(all_cv_errs[(seed, cur_N, cur_lam)][loss])\n",
    "            min_idx = _get_min_idx(errs);\n",
    "            errs_N.append((seed, cur_N, can_lams[min_idx], errs[min_idx]))\n",
    "        errs_N_sorted = sorted(errs_N, key=lambda x:x[-1]);\n",
    "        return errs_N_sorted[0]\n",
    "    \n",
    "    opt_lamNss = dict()\n",
    "    for c1 in c1s:\n",
    "        cur_save_dir = RES_ROOT/f\"simu_setting{setting.setting}_{c1*1000:.0f}\"\n",
    "        all_cv_errs = load_pkl(cur_save_dir/f\"all-valsel-metrics.pkl\")\n",
    "        num_seed = len(np.unique(list(map(lambda x: x[0], all_cv_errs.keys()))))\n",
    "        # do not make n_jobs>1, it is very slow\n",
    "        with Parallel(n_jobs=1) as parallel:\n",
    "            opt_lamNs = parallel(delayed(_run_fn)(cur_seed, all_cv_errs)  \n",
    "                                 for cur_seed in tqdm(range(num_seed), total=num_seed, desc=f\"c1: {c1}\"))\n",
    "        opt_lamNss[c1] = opt_lamNs\n",
    "elif ada_lam and (not ada_N):\n",
    "    \n",
    "    print(optN)\n",
    "    # then given N, find opt lam\n",
    "    def _run_fn_fixN(seed, optN, all_cv_errs):\n",
    "        errs = []\n",
    "        for cur_lam in can_lams:\n",
    "            errs.append(all_cv_errs[(seed, optN, cur_lam)][loss])\n",
    "        min_idx = _get_min_idx(errs);\n",
    "        return (seed, optN, can_lams[min_idx], errs[min_idx])\n",
    "    \n",
    "    opt_lamNss = dict()\n",
    "    for c1 in tqdm(c1s):\n",
    "        cur_save_dir = RES_ROOT/f\"simu_setting{setting.setting}_{c1*1000:.0f}\"\n",
    "        all_cv_errs = load_pkl(cur_save_dir/f\"all-valsel-metrics.pkl\")\n",
    "        num_seed = len(np.unique(list(map(lambda x: x[0], all_cv_errs.keys()))))\n",
    "        opt_lams = [_run_fn_fixN(seed, optN, all_cv_errs) for seed in range(num_seed)]\n",
    "        opt_lamNss[c1] = opt_lams\n",
    "elif (not ada_lam) and (not ada_N):\n",
    "    def _run_fn_errmat(seed, all_cv_errs):\n",
    "        errs_mat = []\n",
    "        for cur_N in can_Ns:\n",
    "            errs = []\n",
    "            for cur_lam in can_lams:\n",
    "                errs.append(all_cv_errs[(seed, cur_N, cur_lam)][loss])\n",
    "            errs_mat.append(errs)\n",
    "        errs_mat = np.array(errs_mat)\n",
    "        return errs_mat\n",
    "    opt_lamNs_fix = {}\n",
    "    for c1 in c1s:\n",
    "        cur_save_dir = RES_ROOT/f\"simu_setting{setting.setting}_{c1*1000:.0f}\"\n",
    "        all_cv_errs = load_pkl(cur_save_dir/f\"all-valsel-metrics.pkl\")\n",
    "        num_seed = len(np.unique(list(map(lambda x: x[0], all_cv_errs.keys()))))\n",
    "        # do not make n_jobs>1, it is very slow\n",
    "        with Parallel(n_jobs=1) as parallel:\n",
    "            err_ten = parallel(delayed(_run_fn_errmat)(cur_seed, all_cv_errs)  \n",
    "                                     for cur_seed in tqdm(range(num_seed), total=num_seed, desc=f\"c1: {c1}\"))\n",
    "        err_ten = np.array(err_ten);\n",
    "        \n",
    "        err_ten_ses = err_ten.std(axis=0)/np.sqrt(err_ten.shape[0])\n",
    "        err_m = np.mean(np.array(err_ten), axis=0)\n",
    "        errs = []\n",
    "        for err in err_m:\n",
    "            lam_min_idx = _get_min_idx(err)\n",
    "            errs.append((err[lam_min_idx], lam_min_idx))\n",
    "        errs = np.array(errs)\n",
    "        if fixN is None:\n",
    "            N_min_idx = np.argmin(errs[:, 0]);\n",
    "        else:\n",
    "            N_min_idx = can_Ns.index(fixN)\n",
    "        lam_min_idx = int(errs[N_min_idx][1]);\n",
    "        min_opt_N, min_opt_lam = can_Ns[N_min_idx], can_lams[lam_min_idx]\n",
    "        \n",
    "        err_upbd = err_m[N_min_idx, lam_min_idx] + err_ten_ses[N_min_idx, lam_min_idx]; \n",
    "        lam_1se_idx = np.where(err_m[N_min_idx] <= err_upbd)[0].max();\n",
    "        #opt_lamNs_fix[c1] = (can_Ns[N_min_idx],  can_lams[lam_1se_idx])\n",
    "        opt_lamNs_fix[c1] = (can_Ns[N_min_idx],  can_lams[lam_min_idx])\n",
    "    print(opt_lamNs_fix)\n",
    "    \n",
    "    \n",
    "    "
   ]
  },
  {
   "cell_type": "code",
   "execution_count": 76,
   "id": "ca06a7ca-8c30-45e3-9c6f-69400d31cf0c",
   "metadata": {
    "execution": {
     "iopub.execute_input": "2024-02-28T19:23:21.265435Z",
     "iopub.status.busy": "2024-02-28T19:23:21.264847Z",
     "iopub.status.idle": "2024-02-28T19:23:21.308142Z",
     "shell.execute_reply": "2024-02-28T19:23:21.307459Z",
     "shell.execute_reply.started": "2024-02-28T19:23:21.265388Z"
    },
    "tags": []
   },
   "outputs": [
    {
     "data": {
      "text/plain": [
       "5.949434263164383"
      ]
     },
     "execution_count": 76,
     "metadata": {},
     "output_type": "execute_result"
    }
   ],
   "source": [
    "Cmat = np.eye(1) # change it depending on test1, test2, test3\n",
    "#Cmat = np.array([\n",
    "#    [1, -1], \n",
    "#]).reshape(1, -1)\n",
    "#Cmat = np.array([\n",
    "#    [1/2, -1/2, 1], \n",
    "#]).reshape(1, -1)\n",
    "#Cmat = np.array([\n",
    "#    [1, 0, 0], \n",
    "#    [0, 1, -1], \n",
    "#])\n",
    "#Cmat = np.eye(3) # change it depending on test1, test2, test3\n",
    "# get GT at c=0\n",
    "ts = setting.data_gen_params.beta_fn(setting.data_gen_params.cs_fn(0.2))[:, :Cmat.shape[-1]]\n",
    "ts = ts @ Cmat.T;\n",
    "ts;\n",
    "np.linalg.norm(ts)"
   ]
  },
  {
   "cell_type": "code",
   "execution_count": 77,
   "id": "0e3b5412-9b57-40c7-910a-6bb97ef9269c",
   "metadata": {
    "execution": {
     "iopub.execute_input": "2024-02-28T19:23:22.216888Z",
     "iopub.status.busy": "2024-02-28T19:23:22.216313Z",
     "iopub.status.idle": "2024-02-28T19:23:28.293164Z",
     "shell.execute_reply": "2024-02-28T19:23:28.291943Z",
     "shell.execute_reply.started": "2024-02-28T19:23:22.216842Z"
    },
    "scrolled": true,
    "tags": []
   },
   "outputs": [
    {
     "name": "stderr",
     "output_type": "stream",
     "text": [
      "c1: 0: 100%|██████████████████████████████████████████████████████████████████| 200/200 [00:00<00:00, 232.64it/s]\n"
     ]
    },
    {
     "name": "stdout",
     "output_type": "stream",
     "text": [
      "Save to /data/rajlab1/user_data/jin/MyResearch/HDF_infer/notebooks/simu_real/../../mypkg/../results/simu_settingn0s1e_0/opt_lamNsfixNlam_ress.pkl\n"
     ]
    },
    {
     "name": "stderr",
     "output_type": "stream",
     "text": [
      "c1: 100: 100%|████████████████████████████████████████████████████████████████| 200/200 [00:00<00:00, 235.83it/s]\n"
     ]
    },
    {
     "name": "stdout",
     "output_type": "stream",
     "text": [
      "Save to /data/rajlab1/user_data/jin/MyResearch/HDF_infer/notebooks/simu_real/../../mypkg/../results/simu_settingn0s1e_100/opt_lamNsfixNlam_ress.pkl\n"
     ]
    },
    {
     "name": "stderr",
     "output_type": "stream",
     "text": [
      "c1: 200: 100%|████████████████████████████████████████████████████████████████| 200/200 [00:00<00:00, 240.41it/s]\n"
     ]
    },
    {
     "name": "stdout",
     "output_type": "stream",
     "text": [
      "Save to /data/rajlab1/user_data/jin/MyResearch/HDF_infer/notebooks/simu_real/../../mypkg/../results/simu_settingn0s1e_200/opt_lamNsfixNlam_ress.pkl\n"
     ]
    },
    {
     "name": "stderr",
     "output_type": "stream",
     "text": [
      "c1: 400: 100%|████████████████████████████████████████████████████████████████| 200/200 [00:00<00:00, 241.52it/s]\n"
     ]
    },
    {
     "name": "stdout",
     "output_type": "stream",
     "text": [
      "Save to /data/rajlab1/user_data/jin/MyResearch/HDF_infer/notebooks/simu_real/../../mypkg/../results/simu_settingn0s1e_400/opt_lamNsfixNlam_ress.pkl\n"
     ]
    }
   ],
   "source": [
    "cans = [1e-5, 3e-6, 1e-6, 3e-7, 1e-7, 3e-8, 1e-8, 3e-9, 1e-9, 3e-10, 0]\n",
    "all_coms = [(can, can) for can in cans]\n",
    "def _run_fn_test(cur_seed, cur_N, cur_lam):\n",
    "    from optimization.opt import logger as logger1\n",
    "    logger1.handlers[0].setLevel(logging.WARNING)\n",
    "    torch.set_default_dtype(torch.float64)\n",
    "    f1_name = f\"seed_{cur_seed:.0f}-lam_{cur_lam*1000:.0f}-N_{cur_N:.0f}_fit.pkl\"\n",
    "    res1 = load_pkl(cur_save_dir/f1_name, verbose=False);\n",
    "    res1.basis_mat = torch.tensor(res1.obt_bsp(np.linspace(0, 1, setting.data_gen_params.npts), \n",
    "                                  res1.bsp_params.N, res1.bsp_params.basis_ord)).to(torch.get_default_dtype());\n",
    "    res = []\n",
    "    for rtols in all_coms:\n",
    "        #re = res1.hypo_test(Cmat=Cmat, ts=None, is_simpler=False, hypo_params={\"svdinv_eps_Q\": rtols[0], \"svdinv_eps_Psi\": rtols[1]}) \n",
    "        re = res1.hypo_test(Cmat=Cmat, ts=ts, is_simpler=is_simpler, hypo_params={\"svdinv_eps_Q\": rtols[0], \"svdinv_eps_Psi\": rtols[1]}) \n",
    "        res.append(re)\n",
    "\n",
    "    return res \n",
    "if (not ada_lam) and (not ada_N):\n",
    "    for c1 in c1s:\n",
    "        cur_save_dir = RES_ROOT/f\"simu_setting{setting.setting}_{c1*1000:.0f}\"\n",
    "        cur_N, cur_lam = opt_lamNs_fix[c1]\n",
    "        #cur_N, cur_lam = 4, 0.5\n",
    "        with Parallel(n_jobs=10) as parallel:\n",
    "            ress = parallel(delayed(_run_fn_test)(cur_seed=cur_seed, cur_N=cur_N, cur_lam=cur_lam) \n",
    "                            for cur_seed in tqdm(range(num_rep), desc=f\"c1: {c1*1000:.0f}\", total=num_rep))\n",
    "        ress = np.array(ress);\n",
    "        save_pkl(cur_save_dir/save_name, ress, is_force=1)\n",
    "else:\n",
    "    for c1 in c1s:\n",
    "        cur_save_dir = RES_ROOT/f\"simu_setting{setting.setting}_{c1*1000:.0f}\"\n",
    "        opt_lamNs =  opt_lamNss[c1]\n",
    "        with Parallel(n_jobs=10) as parallel:\n",
    "            ress = parallel(delayed(_run_fn_test)(cur_seed=cur_seed, cur_N=cur_N, cur_lam=cur_lam)\n",
    "                               for cur_seed, cur_N, cur_lam, _ in tqdm(opt_lamNs, desc=f\"c1: {c1*1000:.0f}\", total=len(opt_lamNs)))\n",
    "    \n",
    "        ress = np.array(ress);\n",
    "        save_pkl(cur_save_dir/save_name, ress, is_force=1)"
   ]
  },
  {
   "cell_type": "code",
   "execution_count": 22,
   "id": "0eec1aec-5497-42c4-b829-a32cee581e54",
   "metadata": {
    "execution": {
     "iopub.execute_input": "2024-02-28T19:11:17.561000Z",
     "iopub.status.busy": "2024-02-28T19:11:17.560339Z",
     "iopub.status.idle": "2024-02-28T19:11:17.619343Z",
     "shell.execute_reply": "2024-02-28T19:11:17.618494Z",
     "shell.execute_reply.started": "2024-02-28T19:11:17.560927Z"
    },
    "scrolled": true,
    "tags": []
   },
   "outputs": [
    {
     "ename": "NameError",
     "evalue": "name 'opt_lamNss' is not defined",
     "output_type": "error",
     "traceback": [
      "\u001b[0;31m---------------------------------------------------------------------------\u001b[0m",
      "\u001b[0;31mNameError\u001b[0m                                 Traceback (most recent call last)",
      "\u001b[0;32m/tmp/ipykernel_77679/3010901204.py\u001b[0m in \u001b[0;36m<module>\u001b[0;34m\u001b[0m\n\u001b[0;32m----> 1\u001b[0;31m \u001b[0;32mfor\u001b[0m \u001b[0mk\u001b[0m\u001b[0;34m,\u001b[0m \u001b[0mv\u001b[0m \u001b[0;32min\u001b[0m \u001b[0mopt_lamNss\u001b[0m\u001b[0;34m.\u001b[0m\u001b[0mitems\u001b[0m\u001b[0;34m(\u001b[0m\u001b[0;34m)\u001b[0m\u001b[0;34m:\u001b[0m\u001b[0;34m\u001b[0m\u001b[0;34m\u001b[0m\u001b[0m\n\u001b[0m\u001b[1;32m      2\u001b[0m     \u001b[0mv\u001b[0m \u001b[0;34m=\u001b[0m \u001b[0mnp\u001b[0m\u001b[0;34m.\u001b[0m\u001b[0marray\u001b[0m\u001b[0;34m(\u001b[0m\u001b[0mv\u001b[0m\u001b[0;34m)\u001b[0m\u001b[0;34m[\u001b[0m\u001b[0;34m:\u001b[0m\u001b[0;34m,\u001b[0m \u001b[0;36m1\u001b[0m\u001b[0;34m:\u001b[0m\u001b[0;36m3\u001b[0m\u001b[0;34m]\u001b[0m\u001b[0;34m\u001b[0m\u001b[0;34m\u001b[0m\u001b[0m\n\u001b[1;32m      3\u001b[0m     \u001b[0mcombos\u001b[0m\u001b[0;34m,\u001b[0m \u001b[0mcts\u001b[0m \u001b[0;34m=\u001b[0m \u001b[0mnp\u001b[0m\u001b[0;34m.\u001b[0m\u001b[0munique\u001b[0m\u001b[0;34m(\u001b[0m\u001b[0mv\u001b[0m\u001b[0;34m,\u001b[0m \u001b[0maxis\u001b[0m\u001b[0;34m=\u001b[0m\u001b[0;36m0\u001b[0m\u001b[0;34m,\u001b[0m \u001b[0mreturn_counts\u001b[0m\u001b[0;34m=\u001b[0m\u001b[0;36m1\u001b[0m\u001b[0;34m)\u001b[0m\u001b[0;34m\u001b[0m\u001b[0;34m\u001b[0m\u001b[0m\n\u001b[1;32m      4\u001b[0m     \u001b[0mtres\u001b[0m \u001b[0;34m=\u001b[0m \u001b[0mnp\u001b[0m\u001b[0;34m.\u001b[0m\u001b[0mconcatenate\u001b[0m\u001b[0;34m(\u001b[0m\u001b[0;34m[\u001b[0m\u001b[0mcombos\u001b[0m\u001b[0;34m,\u001b[0m \u001b[0mcts\u001b[0m\u001b[0;34m.\u001b[0m\u001b[0mreshape\u001b[0m\u001b[0;34m(\u001b[0m\u001b[0;34m-\u001b[0m\u001b[0;36m1\u001b[0m\u001b[0;34m,\u001b[0m \u001b[0;36m1\u001b[0m\u001b[0;34m)\u001b[0m\u001b[0;34m]\u001b[0m\u001b[0;34m,\u001b[0m \u001b[0maxis\u001b[0m\u001b[0;34m=\u001b[0m\u001b[0;36m1\u001b[0m\u001b[0;34m)\u001b[0m\u001b[0;34m\u001b[0m\u001b[0;34m\u001b[0m\u001b[0m\n\u001b[1;32m      5\u001b[0m     \u001b[0mdisplay\u001b[0m\u001b[0;34m(\u001b[0m\u001b[0mpd\u001b[0m\u001b[0;34m.\u001b[0m\u001b[0mDataFrame\u001b[0m\u001b[0;34m(\u001b[0m\u001b[0mtres\u001b[0m\u001b[0;34m)\u001b[0m\u001b[0;34m)\u001b[0m\u001b[0;34m;\u001b[0m\u001b[0;34m\u001b[0m\u001b[0;34m\u001b[0m\u001b[0m\n",
      "\u001b[0;31mNameError\u001b[0m: name 'opt_lamNss' is not defined"
     ]
    }
   ],
   "source": [
    "for k, v in opt_lamNss.items():\n",
    "    v = np.array(v)[:, 1:3]\n",
    "    combos, cts = np.unique(v, axis=0, return_counts=1)\n",
    "    tres = np.concatenate([combos, cts.reshape(-1, 1)], axis=1)\n",
    "    display(pd.DataFrame(tres));"
   ]
  },
  {
   "cell_type": "code",
   "execution_count": null,
   "id": "4fb91ff8-5516-4607-b597-a84764e17df4",
   "metadata": {},
   "outputs": [],
   "source": []
  },
  {
   "cell_type": "markdown",
   "id": "d30d4a08-5de2-4412-8541-5dd78612ed5c",
   "metadata": {},
   "source": [
    "## Find Q and Psi rtol"
   ]
  },
  {
   "cell_type": "code",
   "execution_count": 78,
   "id": "d5348b9e-0fe6-4f79-9b91-d2ab166c527d",
   "metadata": {
    "execution": {
     "iopub.execute_input": "2024-02-28T19:23:29.081404Z",
     "iopub.status.busy": "2024-02-28T19:23:29.080831Z",
     "iopub.status.idle": "2024-02-28T19:23:29.133448Z",
     "shell.execute_reply": "2024-02-28T19:23:29.132735Z",
     "shell.execute_reply.started": "2024-02-28T19:23:29.081358Z"
    },
    "tags": []
   },
   "outputs": [],
   "source": [
    "def outlier_det(T_vs, ratio_tol=0.05):\n",
    "    \"\"\"\n",
    "    Detects outliers in a given dataset using the interquartile range (IQR) method.\n",
    "\n",
    "    Parameters:\n",
    "    - T_vs (array-like): The input dataset.\n",
    "    - ratio_tol (float, optional): The tolerance ratio for outlier removal. Default is 0.05.\n",
    "\n",
    "    Returns:\n",
    "    - kpidx (ndarray): A boolean array indicating whether each data point is an outlier or not.\n",
    "    \"\"\"\n",
    "    Q1, Q3 = np.quantile(T_vs, [0.25, 0.75])\n",
    "    IQR = Q3 - Q1\n",
    "    upbd = Q3 + 1.5*IQR\n",
    "    lowbd = Q1 - 1.5*IQR\n",
    "    kpidx = np.bitwise_and(T_vs>=lowbd, T_vs<=upbd)\n",
    "    \n",
    "    if np.mean(kpidx)+ ratio_tol < 1:\n",
    "        out_part = np.stack([T_vs - upbd, lowbd - T_vs]).T.max(axis=1);\n",
    "        kpidx = np.ones(len(T_vs), dtype=bool)\n",
    "        kpidx[np.argsort(-out_part)[:int(len(T_vs)*ratio_tol)]] = False\n",
    "    return kpidx"
   ]
  },
  {
   "cell_type": "code",
   "execution_count": 79,
   "id": "fe856faa-33b5-434c-8eef-61c9830a7c4e",
   "metadata": {
    "execution": {
     "iopub.execute_input": "2024-02-28T19:23:29.691444Z",
     "iopub.status.busy": "2024-02-28T19:23:29.690888Z",
     "iopub.status.idle": "2024-02-28T19:23:30.349762Z",
     "shell.execute_reply": "2024-02-28T19:23:30.349306Z",
     "shell.execute_reply.started": "2024-02-28T19:23:29.691398Z"
    },
    "tags": []
   },
   "outputs": [
    {
     "name": "stdout",
     "output_type": "stream",
     "text": [
      "Load file /data/rajlab1/user_data/jin/MyResearch/HDF_infer/notebooks/simu_real/../../mypkg/../results/simu_settingn0s1e_0/opt_lamNsfixNlam_ress.pkl\n",
      "Load file /data/rajlab1/user_data/jin/MyResearch/HDF_infer/notebooks/simu_real/../../mypkg/../results/simu_settingn0s1e_100/opt_lamNsfixNlam_ress.pkl\n",
      "Load file /data/rajlab1/user_data/jin/MyResearch/HDF_infer/notebooks/simu_real/../../mypkg/../results/simu_settingn0s1e_200/opt_lamNsfixNlam_ress.pkl\n",
      "Load file /data/rajlab1/user_data/jin/MyResearch/HDF_infer/notebooks/simu_real/../../mypkg/../results/simu_settingn0s1e_400/opt_lamNsfixNlam_ress.pkl\n"
     ]
    },
    {
     "data": {
      "text/html": [
       "<div>\n",
       "<style scoped>\n",
       "    .dataframe tbody tr th:only-of-type {\n",
       "        vertical-align: middle;\n",
       "    }\n",
       "\n",
       "    .dataframe tbody tr th {\n",
       "        vertical-align: top;\n",
       "    }\n",
       "\n",
       "    .dataframe thead th {\n",
       "        text-align: right;\n",
       "    }\n",
       "</style>\n",
       "<table border=\"1\" class=\"dataframe\">\n",
       "  <thead>\n",
       "    <tr style=\"text-align: right;\">\n",
       "      <th></th>\n",
       "      <th>0.0</th>\n",
       "      <th>0.1</th>\n",
       "      <th>0.2</th>\n",
       "      <th>0.4</th>\n",
       "      <th>Q</th>\n",
       "      <th>Psi</th>\n",
       "    </tr>\n",
       "  </thead>\n",
       "  <tbody>\n",
       "    <tr>\n",
       "      <th>0</th>\n",
       "      <td>1.0</td>\n",
       "      <td>1.0</td>\n",
       "      <td>0.04</td>\n",
       "      <td>1.0</td>\n",
       "      <td>1.000000e-05</td>\n",
       "      <td>1.000000e-05</td>\n",
       "    </tr>\n",
       "    <tr>\n",
       "      <th>1</th>\n",
       "      <td>1.0</td>\n",
       "      <td>1.0</td>\n",
       "      <td>0.04</td>\n",
       "      <td>1.0</td>\n",
       "      <td>3.000000e-06</td>\n",
       "      <td>3.000000e-06</td>\n",
       "    </tr>\n",
       "    <tr>\n",
       "      <th>2</th>\n",
       "      <td>1.0</td>\n",
       "      <td>1.0</td>\n",
       "      <td>0.04</td>\n",
       "      <td>1.0</td>\n",
       "      <td>1.000000e-06</td>\n",
       "      <td>1.000000e-06</td>\n",
       "    </tr>\n",
       "    <tr>\n",
       "      <th>3</th>\n",
       "      <td>1.0</td>\n",
       "      <td>1.0</td>\n",
       "      <td>0.04</td>\n",
       "      <td>1.0</td>\n",
       "      <td>3.000000e-07</td>\n",
       "      <td>3.000000e-07</td>\n",
       "    </tr>\n",
       "    <tr>\n",
       "      <th>4</th>\n",
       "      <td>1.0</td>\n",
       "      <td>1.0</td>\n",
       "      <td>0.04</td>\n",
       "      <td>1.0</td>\n",
       "      <td>1.000000e-07</td>\n",
       "      <td>1.000000e-07</td>\n",
       "    </tr>\n",
       "    <tr>\n",
       "      <th>5</th>\n",
       "      <td>1.0</td>\n",
       "      <td>1.0</td>\n",
       "      <td>0.04</td>\n",
       "      <td>1.0</td>\n",
       "      <td>3.000000e-08</td>\n",
       "      <td>3.000000e-08</td>\n",
       "    </tr>\n",
       "    <tr>\n",
       "      <th>6</th>\n",
       "      <td>1.0</td>\n",
       "      <td>1.0</td>\n",
       "      <td>0.04</td>\n",
       "      <td>1.0</td>\n",
       "      <td>1.000000e-08</td>\n",
       "      <td>1.000000e-08</td>\n",
       "    </tr>\n",
       "    <tr>\n",
       "      <th>7</th>\n",
       "      <td>1.0</td>\n",
       "      <td>1.0</td>\n",
       "      <td>0.04</td>\n",
       "      <td>1.0</td>\n",
       "      <td>3.000000e-09</td>\n",
       "      <td>3.000000e-09</td>\n",
       "    </tr>\n",
       "    <tr>\n",
       "      <th>8</th>\n",
       "      <td>1.0</td>\n",
       "      <td>1.0</td>\n",
       "      <td>0.04</td>\n",
       "      <td>1.0</td>\n",
       "      <td>1.000000e-09</td>\n",
       "      <td>1.000000e-09</td>\n",
       "    </tr>\n",
       "    <tr>\n",
       "      <th>9</th>\n",
       "      <td>1.0</td>\n",
       "      <td>1.0</td>\n",
       "      <td>0.04</td>\n",
       "      <td>1.0</td>\n",
       "      <td>3.000000e-10</td>\n",
       "      <td>3.000000e-10</td>\n",
       "    </tr>\n",
       "    <tr>\n",
       "      <th>10</th>\n",
       "      <td>1.0</td>\n",
       "      <td>1.0</td>\n",
       "      <td>0.04</td>\n",
       "      <td>1.0</td>\n",
       "      <td>0.000000e+00</td>\n",
       "      <td>0.000000e+00</td>\n",
       "    </tr>\n",
       "  </tbody>\n",
       "</table>\n",
       "</div>"
      ],
      "text/plain": [
       "    0.0  0.1   0.2  0.4             Q           Psi\n",
       "0   1.0  1.0  0.04  1.0  1.000000e-05  1.000000e-05\n",
       "1   1.0  1.0  0.04  1.0  3.000000e-06  3.000000e-06\n",
       "2   1.0  1.0  0.04  1.0  1.000000e-06  1.000000e-06\n",
       "3   1.0  1.0  0.04  1.0  3.000000e-07  3.000000e-07\n",
       "4   1.0  1.0  0.04  1.0  1.000000e-07  1.000000e-07\n",
       "5   1.0  1.0  0.04  1.0  3.000000e-08  3.000000e-08\n",
       "6   1.0  1.0  0.04  1.0  1.000000e-08  1.000000e-08\n",
       "7   1.0  1.0  0.04  1.0  3.000000e-09  3.000000e-09\n",
       "8   1.0  1.0  0.04  1.0  1.000000e-09  1.000000e-09\n",
       "9   1.0  1.0  0.04  1.0  3.000000e-10  3.000000e-10\n",
       "10  1.0  1.0  0.04  1.0  0.000000e+00  0.000000e+00"
      ]
     },
     "execution_count": 79,
     "metadata": {},
     "output_type": "execute_result"
    }
   ],
   "source": [
    "import pandas as pd\n",
    "ress_dict = {}\n",
    "for c1 in c1s:\n",
    "    cur_save_dir = RES_ROOT/f\"simu_setting{setting.setting}_{c1*1000:.0f}\"\n",
    "    ress = load_pkl(cur_save_dir/save_name);\n",
    "    ress_dict[c1] = ress\n",
    "    \n",
    "cans = [1e-5, 3e-6, 1e-6, 3e-7, 1e-7, 3e-8, 1e-8, 3e-9, 1e-9, 3e-10, 0]\n",
    "\n",
    "all_coms = np.array(list(itertools.product(cans, cans)));\n",
    "all_coms = [(can, can) for can in cans]\n",
    "kpidxs = []\n",
    "\n",
    "df = []\n",
    "for c1 in c1s:\n",
    "    ress = ress_dict[c1]\n",
    "    pvals = np.array([[re[\"pval\"] for re in res] for res in ress]);\n",
    "    T_vss = np.array([[re[\"T_v\"] for re in res] for res in ress]);\n",
    "    \n",
    "    kpidxss = [outlier_det(T_vss[:, can_ix], 0.00) for can_ix in range(T_vss.shape[1])];\n",
    "    if True:\n",
    "        vec_pv = np.array([np.mean(pvals[:, can_ix][kpidxss[can_ix]]<0.05) for can_ix in range(len(cans))])\n",
    "    else:\n",
    "        vec_pv = np.array([np.mean(pvals[:, can_ix]<0.05) for can_ix in range(len(cans))])\n",
    "    #vec_pv = np.mean(pvals<0.05, axis=0)\n",
    "    df.append(vec_pv[:, np.newaxis])\n",
    "df.append(all_coms) \n",
    "df = np.hstack(df)\n",
    "df = pd.DataFrame(df) \n",
    "df.columns = c1s+[\"Q\", \"Psi\"]\n",
    "df"
   ]
  },
  {
   "cell_type": "code",
   "execution_count": null,
   "id": "2b404df1-7735-4348-b212-485417ab16e4",
   "metadata": {},
   "outputs": [],
   "source": [
    "\n"
   ]
  },
  {
   "cell_type": "code",
   "execution_count": null,
   "id": "90c9ee1f-2834-4fec-842e-c54e6bfd5f1e",
   "metadata": {},
   "outputs": [],
   "source": []
  }
 ],
 "metadata": {
  "kernelspec": {
   "display_name": "Python 3 (ipykernel)",
   "language": "python",
   "name": "python3"
  },
  "language_info": {
   "codemirror_mode": {
    "name": "ipython",
    "version": 3
   },
   "file_extension": ".py",
   "mimetype": "text/x-python",
   "name": "python",
   "nbconvert_exporter": "python",
   "pygments_lexer": "ipython3",
   "version": "3.9.7"
  },
  "toc": {
   "base_numbering": 1,
   "nav_menu": {},
   "number_sections": true,
   "sideBar": true,
   "skip_h1_title": false,
   "title_cell": "Table of Contents",
   "title_sidebar": "Contents",
   "toc_cell": false,
   "toc_position": {
    "height": "calc(100% - 180px)",
    "left": "10px",
    "top": "150px",
    "width": "165px"
   },
   "toc_section_display": true,
   "toc_window_display": true
  },
  "toc-autonumbering": true
 },
 "nbformat": 4,
 "nbformat_minor": 5
}
