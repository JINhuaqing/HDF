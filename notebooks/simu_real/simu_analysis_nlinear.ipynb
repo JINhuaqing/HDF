{
 "cells": [
  {
   "cell_type": "markdown",
   "id": "942a9fb0-de26-4619-9f8f-1d1ad87c308f",
   "metadata": {},
   "source": [
    "Analysis the results under new code"
   ]
  },
  {
   "cell_type": "code",
   "execution_count": 1,
   "id": "02ae980e",
   "metadata": {
    "ExecuteTime": {
     "end_time": "2023-05-31T19:57:23.490285Z",
     "start_time": "2023-05-31T19:57:23.481769Z"
    },
    "execution": {
     "iopub.execute_input": "2024-01-30T03:33:39.969041Z",
     "iopub.status.busy": "2024-01-30T03:33:39.968492Z",
     "iopub.status.idle": "2024-01-30T03:33:39.984726Z",
     "shell.execute_reply": "2024-01-30T03:33:39.982460Z",
     "shell.execute_reply.started": "2024-01-30T03:33:39.968995Z"
    },
    "tags": []
   },
   "outputs": [],
   "source": [
    "import sys\n",
    "sys.path.append(\"../../mypkg\")"
   ]
  },
  {
   "cell_type": "code",
   "execution_count": 2,
   "id": "023df78a",
   "metadata": {
    "ExecuteTime": {
     "end_time": "2023-05-31T19:57:34.238839Z",
     "start_time": "2023-05-31T19:57:23.494053Z"
    },
    "execution": {
     "iopub.execute_input": "2024-01-30T03:33:39.989434Z",
     "iopub.status.busy": "2024-01-30T03:33:39.988518Z",
     "iopub.status.idle": "2024-01-30T03:33:44.897356Z",
     "shell.execute_reply": "2024-01-30T03:33:44.896699Z",
     "shell.execute_reply.started": "2024-01-30T03:33:39.989390Z"
    },
    "tags": []
   },
   "outputs": [],
   "source": [
    "import numpy as np\n",
    "import torch\n",
    "import matplotlib.pyplot as plt\n",
    "import seaborn as sns\n",
    "from scipy.stats import pearsonr\n",
    "from numbers import Number\n",
    "\n",
    "from joblib import Parallel, delayed\n",
    "\n",
    "from easydict import EasyDict as edict\n",
    "from tqdm import trange, tqdm\n",
    "from scipy.io import loadmat\n",
    "from pprint import pprint\n",
    "import itertools\n",
    "from scipy.stats import chi2\n",
    "import pandas as pd\n",
    "from IPython.display import display\n"
   ]
  },
  {
   "cell_type": "code",
   "execution_count": 3,
   "id": "b9d3cbc6-1ac5-47d6-a0d1-bcbc0be9267e",
   "metadata": {
    "execution": {
     "iopub.execute_input": "2024-01-30T03:33:44.898370Z",
     "iopub.status.busy": "2024-01-30T03:33:44.898118Z",
     "iopub.status.idle": "2024-01-30T03:33:44.922834Z",
     "shell.execute_reply": "2024-01-30T03:33:44.922277Z",
     "shell.execute_reply.started": "2024-01-30T03:33:44.898355Z"
    },
    "tags": []
   },
   "outputs": [],
   "source": [
    "# This will reload all imports as soon as the code changes\n",
    "%load_ext autoreload\n",
    "%autoreload 2"
   ]
  },
  {
   "cell_type": "code",
   "execution_count": 4,
   "id": "b0aa91b2",
   "metadata": {
    "ExecuteTime": {
     "end_time": "2023-05-31T19:57:59.558229Z",
     "start_time": "2023-05-31T19:57:34.292612Z"
    },
    "execution": {
     "iopub.execute_input": "2024-01-30T03:33:44.923649Z",
     "iopub.status.busy": "2024-01-30T03:33:44.923500Z",
     "iopub.status.idle": "2024-01-30T03:33:45.122828Z",
     "shell.execute_reply": "2024-01-30T03:33:45.121666Z",
     "shell.execute_reply.started": "2024-01-30T03:33:44.923636Z"
    },
    "tags": []
   },
   "outputs": [],
   "source": [
    "from constants import DATA_ROOT, RES_ROOT, FIG_ROOT, MIDRES_ROOT\n",
    "\n",
    "from utils.matrix import col_vec_fn, col_vec2mat_fn, conju_grad, svd_inverse, cholesky_inv\n",
    "from utils.misc import save_pkl, load_pkl, get_local_min_idxs\n",
    "from scenarios.real_simu_linear import settings\n",
    "from scenarios.real_simu_linear_sinica import settings as settingss\n",
    "from scenarios.real_simu_linear_meg import settings as settingsm\n"
   ]
  },
  {
   "cell_type": "code",
   "execution_count": 5,
   "id": "03e8580b-15e9-4a93-8010-aa2d650ffdf6",
   "metadata": {
    "execution": {
     "iopub.execute_input": "2024-01-30T03:33:45.124489Z",
     "iopub.status.busy": "2024-01-30T03:33:45.124000Z",
     "iopub.status.idle": "2024-01-30T03:33:45.152443Z",
     "shell.execute_reply": "2024-01-30T03:33:45.151799Z",
     "shell.execute_reply.started": "2024-01-30T03:33:45.124455Z"
    },
    "tags": []
   },
   "outputs": [],
   "source": [
    "import logging\n",
    "\n",
    "logger = logging.getLogger(\"tmp\")\n",
    "logger.setLevel(logging.DEBUG)\n",
    "formatter = logging.Formatter('%(asctime)s - %(name)s - %(levelname)s - %(message)s')\n",
    "\n",
    "ch = logging.StreamHandler() # for console. \n",
    "ch.setLevel(logging.DEBUG)\n",
    "ch.setFormatter(formatter)\n",
    "\n",
    "logger.addHandler(ch)"
   ]
  },
  {
   "cell_type": "code",
   "execution_count": 6,
   "id": "d29891f5-2fe1-428f-9d0d-4991cd3bfc58",
   "metadata": {
    "execution": {
     "iopub.execute_input": "2024-01-30T03:33:45.153684Z",
     "iopub.status.busy": "2024-01-30T03:33:45.153420Z",
     "iopub.status.idle": "2024-01-30T03:33:47.625220Z",
     "shell.execute_reply": "2024-01-30T03:33:47.623540Z",
     "shell.execute_reply.started": "2024-01-30T03:33:45.153661Z"
    },
    "tags": []
   },
   "outputs": [],
   "source": [
    "from optimization.opt import logger as logger1\n",
    "logger1.handlers[0].setLevel(logging.WARNING)"
   ]
  },
  {
   "cell_type": "code",
   "execution_count": 7,
   "id": "fe0a4a46",
   "metadata": {
    "ExecuteTime": {
     "end_time": "2023-05-31T19:57:59.621784Z",
     "start_time": "2023-05-31T19:57:59.568097Z"
    },
    "execution": {
     "iopub.execute_input": "2024-01-30T03:33:47.628332Z",
     "iopub.status.busy": "2024-01-30T03:33:47.627410Z",
     "iopub.status.idle": "2024-01-30T03:33:47.666695Z",
     "shell.execute_reply": "2024-01-30T03:33:47.666076Z",
     "shell.execute_reply.started": "2024-01-30T03:33:47.628264Z"
    },
    "tags": []
   },
   "outputs": [],
   "source": [
    "plt.style.use(FIG_ROOT/\"base.mplstyle\")\n",
    "torch.set_default_dtype(torch.float64)"
   ]
  },
  {
   "cell_type": "code",
   "execution_count": null,
   "id": "e0cb5a3d-1ab1-4bc0-bfce-d7ebaedb0391",
   "metadata": {},
   "outputs": [],
   "source": []
  },
  {
   "cell_type": "code",
   "execution_count": null,
   "id": "d0af2f35",
   "metadata": {},
   "outputs": [],
   "source": []
  },
  {
   "cell_type": "markdown",
   "id": "dd9c6514",
   "metadata": {},
   "source": [
    "# Param and fns"
   ]
  },
  {
   "cell_type": "code",
   "execution_count": null,
   "id": "a10d559c-8d6a-428a-bdb9-23c0a5aac96b",
   "metadata": {},
   "outputs": [],
   "source": []
  },
  {
   "cell_type": "markdown",
   "id": "e5ccf9dc-c8f3-40a3-92f9-de2cdfa75610",
   "metadata": {},
   "source": [
    "## Fns"
   ]
  },
  {
   "cell_type": "code",
   "execution_count": 8,
   "id": "d93eca7c-5b7c-49ee-bec2-979f08f8d602",
   "metadata": {
    "execution": {
     "iopub.execute_input": "2024-01-30T03:33:47.667877Z",
     "iopub.status.busy": "2024-01-30T03:33:47.667520Z",
     "iopub.status.idle": "2024-01-30T03:33:47.692365Z",
     "shell.execute_reply": "2024-01-30T03:33:47.691849Z",
     "shell.execute_reply.started": "2024-01-30T03:33:47.667851Z"
    },
    "tags": []
   },
   "outputs": [
    {
     "data": {
      "text/plain": [
       "<function __main__.<lambda>(x)>"
      ]
     },
     "execution_count": 8,
     "metadata": {},
     "output_type": "execute_result"
    }
   ],
   "source": [
    "def _get_min_idx(x):\n",
    "    \"\"\"Get the index of the minimal values among the local minimals.\n",
    "       If there are multiple ones, return the largest index\n",
    "       args:\n",
    "           x: a vec\n",
    "        \n",
    "    \"\"\"\n",
    "    x = np.array(x)\n",
    "    lmin_idxs = get_local_min_idxs(x);\n",
    "    if len(lmin_idxs) == 0:\n",
    "        lmin_idxs = np.arange(len(x))\n",
    "    lmin_idxs_inv =  lmin_idxs[::-1]\n",
    "    lmins_inv = x[lmin_idxs_inv];\n",
    "    return  lmin_idxs_inv[np.argmin(lmins_inv)]\n",
    "_err_fn = lambda x: np.nanmean(x**2)\n",
    "#_err_fn = lambda x: np.nanmean(np.abs(x))"
   ]
  },
  {
   "cell_type": "code",
   "execution_count": null,
   "id": "75e10fd4",
   "metadata": {},
   "outputs": [],
   "source": []
  },
  {
   "cell_type": "markdown",
   "id": "ad8553a0-635d-473c-b27e-7bb7fb31a674",
   "metadata": {},
   "source": [
    "# Analysis"
   ]
  },
  {
   "cell_type": "code",
   "execution_count": 9,
   "id": "bab987e3-6895-4b69-bf54-56cd6763138e",
   "metadata": {
    "execution": {
     "iopub.execute_input": "2024-01-30T03:33:47.693891Z",
     "iopub.status.busy": "2024-01-30T03:33:47.693528Z",
     "iopub.status.idle": "2024-01-30T03:33:47.713898Z",
     "shell.execute_reply": "2024-01-30T03:33:47.713404Z",
     "shell.execute_reply.started": "2024-01-30T03:33:47.693867Z"
    },
    "tags": []
   },
   "outputs": [],
   "source": [
    "\n",
    "num_rep = 200;"
   ]
  },
  {
   "cell_type": "code",
   "execution_count": 112,
   "id": "c979f760-ba7d-44eb-a235-1309a6436855",
   "metadata": {
    "execution": {
     "iopub.execute_input": "2024-01-30T03:47:54.420790Z",
     "iopub.status.busy": "2024-01-30T03:47:54.420031Z",
     "iopub.status.idle": "2024-01-30T03:47:54.461844Z",
     "shell.execute_reply": "2024-01-30T03:47:54.461154Z",
     "shell.execute_reply.started": "2024-01-30T03:47:54.420735Z"
    },
    "tags": []
   },
   "outputs": [
    {
     "data": {
      "text/plain": [
       "array([[ 1, -1]])"
      ]
     },
     "execution_count": 112,
     "metadata": {},
     "output_type": "execute_result"
    }
   ],
   "source": [
    "#setting = settings[\"n2b\"]\n",
    "setting = settingsm[\"nm2e\"] # add more for 0.8\n",
    "#setting = settingsm[\"nm2e\"] # add more for 0.8\n",
    "can_Ns = setting.can_Ns\n",
    "can_lams = setting.can_lams\n",
    "\n",
    "c1s = [0.0, 0.1, 0.2, 0.4]\n",
    "Cmat = np.eye(1) # change it depending on test1, test2, test3\n",
    "Cmat = np.array([\n",
    "    [1, -1], \n",
    "]).reshape(1, -1)\n",
    "#Cmat = np.array([\n",
    "#    [1/2, -1/2, 1], \n",
    "#]).reshape(1, -1)\n",
    "#Cmat = np.array([\n",
    "#    [1, 0, 0], \n",
    "#    [0, 1, -1], \n",
    "#])\n",
    "#Cmat = np.eye(3) # change it depending on test1, test2, test3"
   ]
  },
  {
   "cell_type": "code",
   "execution_count": 113,
   "id": "1c07c09b-3cfa-4730-970d-7de1fa5ee8f6",
   "metadata": {
    "execution": {
     "iopub.execute_input": "2024-01-30T03:47:54.695245Z",
     "iopub.status.busy": "2024-01-30T03:47:54.694617Z",
     "iopub.status.idle": "2024-01-30T03:47:54.732127Z",
     "shell.execute_reply": "2024-01-30T03:47:54.731435Z",
     "shell.execute_reply.started": "2024-01-30T03:47:54.695198Z"
    },
    "tags": []
   },
   "outputs": [
    {
     "data": {
      "text/plain": [
       "(1, 2)"
      ]
     },
     "execution_count": 113,
     "metadata": {},
     "output_type": "execute_result"
    }
   ],
   "source": [
    "Cmat.shape"
   ]
  },
  {
   "cell_type": "code",
   "execution_count": null,
   "id": "3264cfce-b893-450e-b063-e3f4c10d1d08",
   "metadata": {},
   "outputs": [],
   "source": []
  },
  {
   "cell_type": "markdown",
   "id": "f3189271-865f-47c1-ba40-2a026eb64d28",
   "metadata": {},
   "source": [
    "## Pre-ana"
   ]
  },
  {
   "cell_type": "code",
   "execution_count": 114,
   "id": "760e6728-0c64-44b9-ac39-c0ca4c89b3d8",
   "metadata": {
    "execution": {
     "iopub.execute_input": "2024-01-30T03:47:55.441092Z",
     "iopub.status.busy": "2024-01-30T03:47:55.440476Z",
     "iopub.status.idle": "2024-01-30T03:47:55.479408Z",
     "shell.execute_reply": "2024-01-30T03:47:55.478771Z",
     "shell.execute_reply.started": "2024-01-30T03:47:55.441046Z"
    },
    "tags": []
   },
   "outputs": [
    {
     "data": {
      "text/plain": [
       "0.0"
      ]
     },
     "execution_count": 114,
     "metadata": {},
     "output_type": "execute_result"
    }
   ],
   "source": [
    "c1 = 0.0"
   ]
  },
  {
   "cell_type": "code",
   "execution_count": 115,
   "id": "f1b69959-28cc-4ceb-97e8-624abeb2f7e8",
   "metadata": {
    "execution": {
     "iopub.execute_input": "2024-01-30T03:47:55.766939Z",
     "iopub.status.busy": "2024-01-30T03:47:55.766314Z",
     "iopub.status.idle": "2024-01-30T03:47:56.016264Z",
     "shell.execute_reply": "2024-01-30T03:47:56.015775Z",
     "shell.execute_reply.started": "2024-01-30T03:47:55.766891Z"
    },
    "tags": []
   },
   "outputs": [
    {
     "name": "stdout",
     "output_type": "stream",
     "text": [
      "Load file /data/rajlab1/user_data/jin/MyResearch/HDF_infer/notebooks/simu_real/../../mypkg/../results/simu_settingnm2e_0/all-valsel-metrics.pkl\n"
     ]
    },
    {
     "name": "stderr",
     "output_type": "stream",
     "text": [
      "c1: 0.0: 100%|██████████████████████████████████████████████████████████████| 200/200 [00:00<00:00, 13674.03it/s]\n"
     ]
    }
   ],
   "source": [
    "def _run_fn1(seed, all_cv_errs):\n",
    "    errs_mat = []\n",
    "    for cur_N in can_Ns:\n",
    "        errs = []\n",
    "        for cur_lam in can_lams:\n",
    "            errs.append(all_cv_errs[(seed, cur_N, cur_lam)].mse_loss)\n",
    "        errs_mat.append(errs)\n",
    "    errs_mat = np.array(errs_mat)\n",
    "    return errs_mat\n",
    "cur_save_dir = RES_ROOT/f\"simu_setting{setting.setting}_{c1*1000:.0f}\"\n",
    "all_cv_errs = load_pkl(cur_save_dir/f\"all-valsel-metrics.pkl\")\n",
    "num_seed = len(np.unique(list(map(lambda x: x[0], all_cv_errs.keys()))))\n",
    "# do not make n_jobs>1, it is very slow\n",
    "with Parallel(n_jobs=1) as parallel:\n",
    "    err_ten = parallel(delayed(_run_fn1)(cur_seed, all_cv_errs)  \n",
    "                             for cur_seed in tqdm(range(num_seed), total=num_seed, desc=f\"c1: {c1}\"))\n",
    "err_ten = np.array(err_ten);"
   ]
  },
  {
   "cell_type": "code",
   "execution_count": 116,
   "id": "6f9534a4-db3c-4606-a358-d2c4f991c763",
   "metadata": {
    "execution": {
     "iopub.execute_input": "2024-01-30T03:47:56.176934Z",
     "iopub.status.busy": "2024-01-30T03:47:56.176283Z",
     "iopub.status.idle": "2024-01-30T03:47:56.220021Z",
     "shell.execute_reply": "2024-01-30T03:47:56.219446Z",
     "shell.execute_reply.started": "2024-01-30T03:47:56.176886Z"
    },
    "tags": []
   },
   "outputs": [
    {
     "data": {
      "text/plain": [
       "(14, 0.8, 0.8)"
      ]
     },
     "execution_count": 116,
     "metadata": {},
     "output_type": "execute_result"
    }
   ],
   "source": [
    "err_ten_ses = err_ten.std(axis=0)/np.sqrt(err_ten.shape[0])\n",
    "err_m = np.median(np.array(err_ten), axis=0)\n",
    "errs = []\n",
    "for err in err_m:\n",
    "    lam_min_idx = _get_min_idx(err)\n",
    "    errs.append((err[lam_min_idx], lam_min_idx))\n",
    "errs = np.array(errs)\n",
    "N_min_idx = np.argmin(errs[:, 0]);\n",
    "lam_min_idx = int(errs[N_min_idx][1]);\n",
    "min_opt_N, min_opt_lam = can_Ns[N_min_idx], can_lams[lam_min_idx]\n",
    "min_opt_N, min_opt_lam\n",
    "\n",
    "err_upbd = err_m[N_min_idx, lam_min_idx] + err_ten_ses[N_min_idx, lam_min_idx]; \n",
    "lam_1se_idx = np.where(err_m[N_min_idx] <= err_upbd)[0].max();\n",
    "(can_Ns[N_min_idx], can_lams[lam_min_idx], can_lams[lam_1se_idx])"
   ]
  },
  {
   "cell_type": "code",
   "execution_count": 117,
   "id": "9a21aadc-a8fa-48a9-b505-932f19dbd568",
   "metadata": {
    "execution": {
     "iopub.execute_input": "2024-01-30T03:47:56.748756Z",
     "iopub.status.busy": "2024-01-30T03:47:56.748129Z",
     "iopub.status.idle": "2024-01-30T03:47:57.088558Z",
     "shell.execute_reply": "2024-01-30T03:47:57.088140Z",
     "shell.execute_reply.started": "2024-01-30T03:47:56.748708Z"
    },
    "tags": []
   },
   "outputs": [
    {
     "data": {
      "image/png": "[encoded data removed]",
      "text/plain": [
       "<Figure size 864x432 with 2 Axes>"
      ]
     },
     "metadata": {
      "needs_background": "light"
     },
     "output_type": "display_data"
    }
   ],
   "source": [
    "plt.figure(figsize=[12, 6])\n",
    "sns.heatmap(err_m, annot=err_m, fmt=\".3f\")\n",
    "plt.xticks(np.arange(len(can_lams))+0.5, can_lams);\n",
    "plt.yticks(np.arange(len(can_Ns))+0.5, can_Ns);"
   ]
  },
  {
   "cell_type": "code",
   "execution_count": null,
   "id": "d8df0e15-24b2-4939-84b6-78a48db6d627",
   "metadata": {},
   "outputs": [],
   "source": []
  },
  {
   "cell_type": "code",
   "execution_count": null,
   "id": "c4d346ec-0d18-460b-8eae-79f96d4cd7af",
   "metadata": {},
   "outputs": [],
   "source": []
  },
  {
   "cell_type": "markdown",
   "id": "181957a8-0dd4-48a9-bc45-02938ecc817d",
   "metadata": {},
   "source": [
    "## Step 2 (only need once)"
   ]
  },
  {
   "cell_type": "markdown",
   "id": "22be2a19-2156-4bf5-82e3-db9c86c88f74",
   "metadata": {},
   "source": [
    "### Fix N and adaptive lam"
   ]
  },
  {
   "cell_type": "code",
   "execution_count": 19,
   "id": "bb0efead-1b70-4212-9cf8-ab5832a1bca9",
   "metadata": {
    "execution": {
     "iopub.execute_input": "2024-01-25T23:36:13.508920Z",
     "iopub.status.busy": "2024-01-25T23:36:13.508277Z",
     "iopub.status.idle": "2024-01-25T23:36:15.332235Z",
     "shell.execute_reply": "2024-01-25T23:36:15.331541Z",
     "shell.execute_reply.started": "2024-01-25T23:36:13.508873Z"
    },
    "tags": []
   },
   "outputs": [
    {
     "name": "stderr",
     "output_type": "stream",
     "text": [
      " 25%|███████████████████▌                                                          | 1/4 [00:00<00:00,  7.51it/s]"
     ]
    },
    {
     "name": "stdout",
     "output_type": "stream",
     "text": [
      "Load file /data/rajlab1/user_data/jin/MyResearch/HDF_infer/notebooks/simu_real/../../mypkg/../results/simu_settingnm1_0/all-valsel-metrics.pkl\n",
      "Load file /data/rajlab1/user_data/jin/MyResearch/HDF_infer/notebooks/simu_real/../../mypkg/../results/simu_settingnm1_100/all-valsel-metrics.pkl\n"
     ]
    },
    {
     "name": "stderr",
     "output_type": "stream",
     "text": [
      " 50%|███████████████████████████████████████                                       | 2/4 [00:00<00:00,  2.69it/s]"
     ]
    },
    {
     "name": "stdout",
     "output_type": "stream",
     "text": [
      "Load file /data/rajlab1/user_data/jin/MyResearch/HDF_infer/notebooks/simu_real/../../mypkg/../results/simu_settingnm1_200/all-valsel-metrics.pkl\n"
     ]
    },
    {
     "name": "stderr",
     "output_type": "stream",
     "text": [
      " 75%|██████████████████████████████████████████████████████████▌                   | 3/4 [00:01<00:00,  2.34it/s]"
     ]
    },
    {
     "name": "stdout",
     "output_type": "stream",
     "text": [
      "Load file /data/rajlab1/user_data/jin/MyResearch/HDF_infer/notebooks/simu_real/../../mypkg/../results/simu_settingnm1_400/all-valsel-metrics.pkl\n"
     ]
    },
    {
     "name": "stderr",
     "output_type": "stream",
     "text": [
      "100%|██████████████████████████████████████████████████████████████████████████████| 4/4 [00:01<00:00,  2.44it/s]\n"
     ]
    }
   ],
   "source": [
    "# then given N, find opt lam\n",
    "def _run_fn_fixN(seed, optN, all_cv_errs):\n",
    "    errs = []\n",
    "    for cur_lam in can_lams:\n",
    "        errs.append(all_cv_errs[(seed, optN, cur_lam)].mse_loss)\n",
    "    min_idx = _get_min_idx(errs);\n",
    "    return (seed, optN, can_lams[min_idx], errs[min_idx])\n",
    "\n",
    "optN = 6\n",
    "opt_lamss = dict()\n",
    "for c1 in tqdm(c1s):\n",
    "    cur_save_dir = RES_ROOT/f\"simu_setting{setting.setting}_{c1*1000:.0f}\"\n",
    "    all_cv_errs = load_pkl(cur_save_dir/f\"all-valsel-metrics.pkl\")\n",
    "    num_seed = len(np.unique(list(map(lambda x: x[0], all_cv_errs.keys()))))\n",
    "    opt_lams = [_run_fn_fixN(seed, optN, all_cv_errs) for seed in range(num_seed)]\n",
    "    opt_lamss[c1] = opt_lams"
   ]
  },
  {
   "cell_type": "raw",
   "id": "d9fccbdf-b1d2-4c1d-ae7f-b4fc502458e3",
   "metadata": {
    "execution": {
     "iopub.execute_input": "2023-10-21T23:16:13.054860Z",
     "iopub.status.busy": "2023-10-21T23:16:13.054199Z",
     "iopub.status.idle": "2023-10-21T23:16:13.147107Z",
     "shell.execute_reply": "2023-10-21T23:16:13.146287Z",
     "shell.execute_reply.started": "2023-10-21T23:16:13.054817Z"
    },
    "tags": []
   },
   "source": [
    "for k, v in opt_lamss.items():\n",
    "    v = np.array(v)[:, 1:3]\n",
    "    combos, cts = np.unique(v, axis=0, return_counts=1)\n",
    "    tres = np.concatenate([combos, cts.reshape(-1, 1)], axis=1)\n",
    "    display(pd.DataFrame(tres));"
   ]
  },
  {
   "cell_type": "code",
   "execution_count": 41,
   "id": "2b3e20a8-6114-4a8a-9e06-625384f686b9",
   "metadata": {
    "execution": {
     "iopub.execute_input": "2024-01-25T00:50:54.342992Z",
     "iopub.status.busy": "2024-01-25T00:50:54.342381Z",
     "iopub.status.idle": "2024-01-25T00:51:39.428519Z",
     "shell.execute_reply": "2024-01-25T00:51:39.427536Z",
     "shell.execute_reply.started": "2024-01-25T00:50:54.342942Z"
    },
    "tags": []
   },
   "outputs": [
    {
     "name": "stderr",
     "output_type": "stream",
     "text": [
      "c1: 0: 100%|███████████████████████████████████████████████████████████████████| 200/200 [00:11<00:00, 17.28it/s]\n"
     ]
    },
    {
     "name": "stdout",
     "output_type": "stream",
     "text": [
      "Save to /data/rajlab1/user_data/jin/MyResearch/HDF_infer/notebooks/simu_real/../../mypkg/../results/simu_settingns2a_0/opt_lamNsfixN_ress.pkl\n"
     ]
    },
    {
     "name": "stderr",
     "output_type": "stream",
     "text": [
      "c1: 100: 100%|█████████████████████████████████████████████████████████████████| 200/200 [00:11<00:00, 17.77it/s]\n"
     ]
    },
    {
     "name": "stdout",
     "output_type": "stream",
     "text": [
      "Save to /data/rajlab1/user_data/jin/MyResearch/HDF_infer/notebooks/simu_real/../../mypkg/../results/simu_settingns2a_100/opt_lamNsfixN_ress.pkl\n"
     ]
    },
    {
     "name": "stderr",
     "output_type": "stream",
     "text": [
      "c1: 200: 100%|█████████████████████████████████████████████████████████████████| 200/200 [00:10<00:00, 18.49it/s]\n"
     ]
    },
    {
     "name": "stdout",
     "output_type": "stream",
     "text": [
      "Save to /data/rajlab1/user_data/jin/MyResearch/HDF_infer/notebooks/simu_real/../../mypkg/../results/simu_settingns2a_200/opt_lamNsfixN_ress.pkl\n"
     ]
    },
    {
     "name": "stderr",
     "output_type": "stream",
     "text": [
      "c1: 400: 100%|█████████████████████████████████████████████████████████████████| 200/200 [00:10<00:00, 18.75it/s]\n"
     ]
    },
    {
     "name": "stdout",
     "output_type": "stream",
     "text": [
      "Save to /data/rajlab1/user_data/jin/MyResearch/HDF_infer/notebooks/simu_real/../../mypkg/../results/simu_settingns2a_400/opt_lamNsfixN_ress.pkl\n"
     ]
    }
   ],
   "source": [
    "cans = [1e-5, 3e-6, 1e-6, 3e-7, 1e-7, 3e-8, 1e-8, 3e-9, 1e-9, 3e-10, 0]\n",
    "all_coms = [(can, can) for can in cans]\n",
    "#all_coms = list(itertools.product(cans, cans))\n",
    "for c1 in c1s:\n",
    "    cur_save_dir = RES_ROOT/f\"simu_setting{setting.setting}_{c1*1000:.0f}\"\n",
    "    opt_lamNs =  opt_lamss[c1]\n",
    "    ress = []\n",
    "    for cur_seed, cur_N, cur_lam, _ in tqdm(opt_lamNs, desc=f\"c1: {c1*1000:.0f}\"):\n",
    "        f1_name = f\"seed_{cur_seed:.0f}-lam_{cur_lam*1000:.0f}-N_{cur_N:.0f}_fit.pkl\"\n",
    "        res1 = load_pkl(cur_save_dir/f1_name, verbose=False);\n",
    "        _test_fn = res1.hypo_test\n",
    "        with Parallel(n_jobs=1) as parallel:\n",
    "            res = parallel(delayed(_test_fn)(Cmat=Cmat, is_simpler=False,\n",
    "                                             hypo_params={\"svdinv_eps_Q\": rtols[0], \"svdinv_eps_Psi\": rtols[1]}) \n",
    "                           for rtols in all_coms)\n",
    "    \n",
    "        ress.append(res)\n",
    "    ress = np.array(ress);\n",
    "    save_pkl(cur_save_dir/f\"opt_lamNsfixN_ress.pkl\", ress, is_force=1)"
   ]
  },
  {
   "cell_type": "code",
   "execution_count": null,
   "id": "faafd3f6-c6d4-4fc0-92b1-df0cce5f56d5",
   "metadata": {},
   "outputs": [],
   "source": []
  },
  {
   "cell_type": "markdown",
   "id": "eebcdc95-9745-4ca3-aa64-54b9dee57d1a",
   "metadata": {},
   "source": [
    "### Fix N and adaptive lam but 1se"
   ]
  },
  {
   "cell_type": "code",
   "execution_count": 17,
   "id": "61c90327-1fa2-4e35-851b-9c71b0a4524c",
   "metadata": {
    "execution": {
     "iopub.execute_input": "2023-12-22T17:46:04.774217Z",
     "iopub.status.busy": "2023-12-22T17:46:04.773533Z",
     "iopub.status.idle": "2023-12-22T17:46:04.872000Z",
     "shell.execute_reply": "2023-12-22T17:46:04.871238Z",
     "shell.execute_reply.started": "2023-12-22T17:46:04.774175Z"
    }
   },
   "outputs": [],
   "source": [
    "def _get_cv_se(cv_errs, num_fold):\n",
    "    \"\"\"Get CV SE to use the one standard error rule.\n",
    "        (from zotero://select/library/items/BPMP3MBP)\n",
    "    \"\"\"\n",
    "    cv_errs_mul = cv_errs.reshape(num_fold, -1);\n",
    "    sd = np.std(np.mean(cv_errs_mul**2, axis=-1))\n",
    "    se = sd/np.sqrt(num_fold)\n",
    "    return se"
   ]
  },
  {
   "cell_type": "code",
   "execution_count": 18,
   "id": "88c53f56-3290-429f-89a5-f675044f7977",
   "metadata": {
    "execution": {
     "iopub.execute_input": "2023-12-22T17:46:05.384044Z",
     "iopub.status.busy": "2023-12-22T17:46:05.383389Z",
     "iopub.status.idle": "2023-12-22T17:46:23.134593Z",
     "shell.execute_reply": "2023-12-22T17:46:23.134073Z",
     "shell.execute_reply.started": "2023-12-22T17:46:05.384001Z"
    },
    "tags": []
   },
   "outputs": [
    {
     "name": "stdout",
     "output_type": "stream",
     "text": [
      "Load file /data/rajlab1/user_data/jin/MyResearch/HDF_infer/notebooks/simu_real/../../mypkg/../results/simu_setting10f_500/all-valsel-metrics_c1_500.pkl\n"
     ]
    },
    {
     "name": "stderr",
     "output_type": "stream",
     "text": [
      "c1: 0.5: 100%|██████████████████████████████████████████████████████████████████████████████████████████████████████████████████████████████| 200/200 [00:00<00:00, 567.63it/s]\n"
     ]
    },
    {
     "name": "stdout",
     "output_type": "stream",
     "text": [
      "Load file /data/rajlab1/user_data/jin/MyResearch/HDF_infer/notebooks/simu_real/../../mypkg/../results/simu_setting10f_500/all-valsel-metrics_c1_500.pkl\n"
     ]
    },
    {
     "name": "stderr",
     "output_type": "stream",
     "text": [
      "c1: 0.5: 100%|██████████████████████████████████████████████████████████████████████████████████████████████████████████████████████████████| 200/200 [00:00<00:00, 476.29it/s]\n"
     ]
    },
    {
     "name": "stdout",
     "output_type": "stream",
     "text": [
      "Load file /data/rajlab1/user_data/jin/MyResearch/HDF_infer/notebooks/simu_real/../../mypkg/../results/simu_setting10f_700/all-valsel-metrics_c1_700.pkl\n"
     ]
    },
    {
     "name": "stderr",
     "output_type": "stream",
     "text": [
      "c1: 0.7: 100%|██████████████████████████████████████████████████████████████████████████████████████████████████████████████████████████████| 200/200 [00:00<00:00, 547.48it/s]\n"
     ]
    },
    {
     "name": "stdout",
     "output_type": "stream",
     "text": [
      "Load file /data/rajlab1/user_data/jin/MyResearch/HDF_infer/notebooks/simu_real/../../mypkg/../results/simu_setting10f_700/all-valsel-metrics_c1_700.pkl\n"
     ]
    },
    {
     "name": "stderr",
     "output_type": "stream",
     "text": [
      "c1: 0.7: 100%|██████████████████████████████████████████████████████████████████████████████████████████████████████████████████████████████| 200/200 [00:00<00:00, 450.85it/s]\n"
     ]
    },
    {
     "name": "stdout",
     "output_type": "stream",
     "text": [
      "Load file /data/rajlab1/user_data/jin/MyResearch/HDF_infer/notebooks/simu_real/../../mypkg/../results/simu_setting10f_900/all-valsel-metrics_c1_900.pkl\n"
     ]
    },
    {
     "name": "stderr",
     "output_type": "stream",
     "text": [
      "c1: 0.9: 100%|██████████████████████████████████████████████████████████████████████████████████████████████████████████████████████████████| 200/200 [00:00<00:00, 546.22it/s]\n"
     ]
    },
    {
     "name": "stdout",
     "output_type": "stream",
     "text": [
      "Load file /data/rajlab1/user_data/jin/MyResearch/HDF_infer/notebooks/simu_real/../../mypkg/../results/simu_setting10f_900/all-valsel-metrics_c1_900.pkl\n"
     ]
    },
    {
     "name": "stderr",
     "output_type": "stream",
     "text": [
      "c1: 0.9: 100%|██████████████████████████████████████████████████████████████████████████████████████████████████████████████████████████████| 200/200 [00:00<00:00, 467.90it/s]\n"
     ]
    }
   ],
   "source": [
    "optN = 6\n",
    "c1 = 0\n",
    "optlamss_1se = {}\n",
    "for c1 in c1s:\n",
    "    def _run_fn1(seed, all_cv_errs):\n",
    "        errs_mat = []\n",
    "        for cur_N in can_Ns:\n",
    "            errs = []\n",
    "            for cur_lam in can_lams:\n",
    "                #errs.append(all_cv_errs[(seed, cur_N, cur_lam)].BIC)\n",
    "                errs.append(_err_fn(all_cv_errs[(seed, cur_N, cur_lam)].cv_errs))\n",
    "            errs_mat.append(errs)\n",
    "        errs_mat = np.array(errs_mat)\n",
    "        return errs_mat\n",
    "    cur_save_dir = RES_ROOT/f\"simu_{setting}_{c1*1000:.0f}\"\n",
    "    all_cv_errs = load_pkl(cur_save_dir/f\"all-valsel-metrics_c1_{c1*1000:.0f}.pkl\")\n",
    "    num_seed = len(np.unique(list(map(lambda x: x[0], all_cv_errs.keys()))))\n",
    "    # do not make n_jobs>1, it is very slow\n",
    "    with Parallel(n_jobs=1) as parallel:\n",
    "        err_ten = parallel(delayed(_run_fn1)(cur_seed, all_cv_errs)  \n",
    "                                 for cur_seed in tqdm(range(num_seed), total=num_seed, desc=f\"c1: {c1}\"))\n",
    "    def _run_fn2(seed, all_cv_errs):\n",
    "        errs_mat = []\n",
    "        for cur_N in can_Ns:\n",
    "            errs = []\n",
    "            for cur_lam in can_lams:\n",
    "                #errs.append(all_cv_errs[(seed, cur_N, cur_lam)].BIC)\n",
    "                errs.append(_get_cv_se(all_cv_errs[(seed, cur_N, cur_lam)].cv_errs, num_fold=20))\n",
    "            errs_mat.append(errs)\n",
    "        errs_mat = np.array(errs_mat)\n",
    "        return errs_mat\n",
    "    cur_save_dir = RES_ROOT/f\"simu_{setting}_{c1*1000:.0f}\"\n",
    "    all_cv_errs = load_pkl(cur_save_dir/f\"all-valsel-metrics_c1_{c1*1000:.0f}.pkl\")\n",
    "    num_seed = len(np.unique(list(map(lambda x: x[0], all_cv_errs.keys()))))\n",
    "    # do not make n_jobs>1, it is very slow\n",
    "    with Parallel(n_jobs=1) as parallel:\n",
    "        err_se_ten = parallel(delayed(_run_fn2)(cur_seed, all_cv_errs)  \n",
    "                                 for cur_seed in tqdm(range(num_seed), total=num_seed, desc=f\"c1: {c1}\"))\n",
    "    err_ten = np.array(err_ten);\n",
    "    err_se_ten = np.array(err_se_ten);\n",
    "    \n",
    "    err_ten_optN = err_ten[:, can_Ns.index(optN)]\n",
    "    err_se_ten_optN = err_se_ten[:, can_Ns.index(optN)];\n",
    "    optlams_1se = []\n",
    "    for cur_seed in range(num_rep):\n",
    "        min_idx_lam = _get_min_idx(err_ten_optN[cur_seed])\n",
    "        upbd = err_ten_optN[cur_seed, min_idx_lam] + err_se_ten_optN[cur_seed, min_idx_lam]\n",
    "        min1se_idx_lam = np.max(np.where(err_ten_optN[cur_seed]<=upbd)[0])\n",
    "        optlams_1se.append((cur_seed, optN, can_lams[min1se_idx_lam]))\n",
    "    optlamss_1se[c1] = optlams_1se"
   ]
  },
  {
   "cell_type": "code",
   "execution_count": 19,
   "id": "5013f70d-a458-4504-88b7-5eef2f6d0620",
   "metadata": {
    "execution": {
     "iopub.execute_input": "2023-12-22T17:46:23.135956Z",
     "iopub.status.busy": "2023-12-22T17:46:23.135678Z",
     "iopub.status.idle": "2023-12-22T17:47:00.862351Z",
     "shell.execute_reply": "2023-12-22T17:47:00.861790Z",
     "shell.execute_reply.started": "2023-12-22T17:46:23.135942Z"
    },
    "tags": []
   },
   "outputs": [
    {
     "name": "stderr",
     "output_type": "stream",
     "text": [
      "c1: 500: 100%|███████████████████████████████████████████████████████████████████████████████████████████████████████████████████████████████| 200/200 [00:12<00:00, 16.16it/s]\n"
     ]
    },
    {
     "name": "stdout",
     "output_type": "stream",
     "text": [
      "Save to /data/rajlab1/user_data/jin/MyResearch/HDF_infer/notebooks/simu_real/../../mypkg/../results/simu_setting10f_500/opt_lamNsfixN1se_c1_500_ress.pkl\n"
     ]
    },
    {
     "name": "stderr",
     "output_type": "stream",
     "text": [
      "c1: 700: 100%|███████████████████████████████████████████████████████████████████████████████████████████████████████████████████████████████| 200/200 [00:12<00:00, 16.61it/s]\n"
     ]
    },
    {
     "name": "stdout",
     "output_type": "stream",
     "text": [
      "Save to /data/rajlab1/user_data/jin/MyResearch/HDF_infer/notebooks/simu_real/../../mypkg/../results/simu_setting10f_700/opt_lamNsfixN1se_c1_700_ress.pkl\n"
     ]
    },
    {
     "name": "stderr",
     "output_type": "stream",
     "text": [
      "c1: 900: 100%|███████████████████████████████████████████████████████████████████████████████████████████████████████████████████████████████| 200/200 [00:13<00:00, 15.25it/s]\n"
     ]
    },
    {
     "name": "stdout",
     "output_type": "stream",
     "text": [
      "Save to /data/rajlab1/user_data/jin/MyResearch/HDF_infer/notebooks/simu_real/../../mypkg/../results/simu_setting10f_900/opt_lamNsfixN1se_c1_900_ress.pkl\n"
     ]
    }
   ],
   "source": [
    "# for adaptive lam N\n",
    "cans = [1e-5, 3e-6, 1e-6, 3e-7, 1e-7, 3e-8, 1e-8, 3e-9, 1e-9, 3e-10, 0]\n",
    "all_coms = [(can, can) for can in cans]\n",
    "#all_coms = list(itertools.product(cans, cans))\n",
    "for c1 in c1s:\n",
    "    cur_save_dir = RES_ROOT/f\"simu_{setting}_{c1*1000:.0f}\"\n",
    "    optlams_1se =  optlamss_1se[c1]\n",
    "    ress = []\n",
    "    for cur_seed, cur_N, cur_lam in tqdm(optlams_1se, desc=f\"c1: {c1*1000:.0f}\"):\n",
    "        f1_name = f\"seed_{cur_seed:.0f}-lam_{cur_lam*1000:.0f}-N_{cur_N:.0f}-c1_{c1*1000:.0f}_est.pkl\"\n",
    "        res1 = load_pkl(cur_save_dir/f1_name, verbose=False);\n",
    "        res = []\n",
    "        with Parallel(n_jobs=20) as parallel:\n",
    "            res = parallel(delayed(_test_fn1)(Cmat=Cmat, est_res=res1, \n",
    "                                             svdinv_eps_Q=rtols[0], \n",
    "                                             svdinv_eps_Psi=rtols[1]) for rtols\n",
    "                                             in all_coms)\n",
    "    \n",
    "        ress.append(res)\n",
    "    ress = np.array(ress);\n",
    "    save_pkl(cur_save_dir/f\"opt_lamNsfixN1se_c1_{c1*1000:.0f}_ress.pkl\", ress, is_force=1)"
   ]
  },
  {
   "cell_type": "code",
   "execution_count": null,
   "id": "8e55dfd1-c6b8-45bb-afcb-4f6151c42239",
   "metadata": {},
   "outputs": [],
   "source": []
  },
  {
   "cell_type": "markdown",
   "id": "cdbb86ff-b4df-4fd5-95b5-35ebb0d6bd12",
   "metadata": {},
   "source": [
    "### Adaptive N and lam"
   ]
  },
  {
   "cell_type": "code",
   "execution_count": 52,
   "id": "b54f2daa-da4e-43a5-9fbd-6615fa32465e",
   "metadata": {
    "execution": {
     "iopub.execute_input": "2024-01-25T00:53:01.833883Z",
     "iopub.status.busy": "2024-01-25T00:53:01.833243Z",
     "iopub.status.idle": "2024-01-25T00:53:02.758601Z",
     "shell.execute_reply": "2024-01-25T00:53:02.758121Z",
     "shell.execute_reply.started": "2024-01-25T00:53:01.833833Z"
    },
    "tags": []
   },
   "outputs": [
    {
     "name": "stdout",
     "output_type": "stream",
     "text": [
      "Load file /data/rajlab1/user_data/jin/MyResearch/HDF_infer/notebooks/simu_real/../../mypkg/../results/simu_settingns2a_0/all-valsel-metrics.pkl\n"
     ]
    },
    {
     "name": "stderr",
     "output_type": "stream",
     "text": [
      "c1: 0.0: 100%|███████████████████████████████████████████████████████████████| 200/200 [00:00<00:00, 5113.91it/s]"
     ]
    },
    {
     "name": "stdout",
     "output_type": "stream",
     "text": [
      "Load file /data/rajlab1/user_data/jin/MyResearch/HDF_infer/notebooks/simu_real/../../mypkg/../results/simu_settingns2a_100/all-valsel-metrics.pkl\n"
     ]
    },
    {
     "name": "stderr",
     "output_type": "stream",
     "text": [
      "\n",
      "c1: 0.1: 100%|███████████████████████████████████████████████████████████████| 200/200 [00:00<00:00, 5171.48it/s]\n"
     ]
    },
    {
     "name": "stdout",
     "output_type": "stream",
     "text": [
      "Load file /data/rajlab1/user_data/jin/MyResearch/HDF_infer/notebooks/simu_real/../../mypkg/../results/simu_settingns2a_200/all-valsel-metrics.pkl\n"
     ]
    },
    {
     "name": "stderr",
     "output_type": "stream",
     "text": [
      "c1: 0.2: 100%|███████████████████████████████████████████████████████████████| 200/200 [00:00<00:00, 5190.78it/s]\n"
     ]
    },
    {
     "name": "stdout",
     "output_type": "stream",
     "text": [
      "Load file /data/rajlab1/user_data/jin/MyResearch/HDF_infer/notebooks/simu_real/../../mypkg/../results/simu_settingns2a_400/all-valsel-metrics.pkl\n"
     ]
    },
    {
     "name": "stderr",
     "output_type": "stream",
     "text": [
      "c1: 0.4: 100%|███████████████████████████████████████████████████████████████| 200/200 [00:00<00:00, 5141.28it/s]\n"
     ]
    }
   ],
   "source": [
    "def _run_fn(seed, all_cv_errs):\n",
    "    errs_N = []\n",
    "    for cur_N in can_Ns:\n",
    "        errs = []\n",
    "        for cur_lam in can_lams:\n",
    "            errs.append(all_cv_errs[(seed, cur_N, cur_lam)].mse_loss)\n",
    "        min_idx = _get_min_idx(errs);\n",
    "        errs_N.append((seed, cur_N, can_lams[min_idx], errs[min_idx]))\n",
    "    errs_N_sorted = sorted(errs_N, key=lambda x:x[-1]);\n",
    "    return errs_N_sorted[0]\n",
    "\n",
    "opt_lamNss = dict()\n",
    "for c1 in c1s:\n",
    "    cur_save_dir = RES_ROOT/f\"simu_setting{setting.setting}_{c1*1000:.0f}\"\n",
    "    all_cv_errs = load_pkl(cur_save_dir/f\"all-valsel-metrics.pkl\")\n",
    "    num_seed = len(np.unique(list(map(lambda x: x[0], all_cv_errs.keys()))))\n",
    "    # do not make n_jobs>1, it is very slow\n",
    "    with Parallel(n_jobs=1) as parallel:\n",
    "        opt_lamNs = parallel(delayed(_run_fn)(cur_seed, all_cv_errs)  \n",
    "                             for cur_seed in tqdm(range(num_seed), total=num_seed, desc=f\"c1: {c1}\"))\n",
    "    opt_lamNss[c1] = opt_lamNs"
   ]
  },
  {
   "cell_type": "code",
   "execution_count": 54,
   "id": "72469e51-ecd0-45b6-8ae5-bfa4b1f5a4cc",
   "metadata": {
    "execution": {
     "iopub.execute_input": "2024-01-25T00:53:12.343848Z",
     "iopub.status.busy": "2024-01-25T00:53:12.343249Z",
     "iopub.status.idle": "2024-01-25T00:53:37.121772Z",
     "shell.execute_reply": "2024-01-25T00:53:37.120482Z",
     "shell.execute_reply.started": "2024-01-25T00:53:12.343803Z"
    },
    "scrolled": true,
    "tags": []
   },
   "outputs": [
    {
     "name": "stderr",
     "output_type": "stream",
     "text": [
      "c1: 0: 100%|███████████████████████████████████████████████████████████████████| 200/200 [00:04<00:00, 43.83it/s]\n"
     ]
    },
    {
     "name": "stdout",
     "output_type": "stream",
     "text": [
      "Save to /data/rajlab1/user_data/jin/MyResearch/HDF_infer/notebooks/simu_real/../../mypkg/../results/simu_settingns2a_0/opt_lamNs_ress.pkl\n"
     ]
    },
    {
     "name": "stderr",
     "output_type": "stream",
     "text": [
      "c1: 100: 100%|█████████████████████████████████████████████████████████████████| 200/200 [00:06<00:00, 32.51it/s]\n"
     ]
    },
    {
     "name": "stdout",
     "output_type": "stream",
     "text": [
      "Save to /data/rajlab1/user_data/jin/MyResearch/HDF_infer/notebooks/simu_real/../../mypkg/../results/simu_settingns2a_100/opt_lamNs_ress.pkl\n"
     ]
    },
    {
     "name": "stderr",
     "output_type": "stream",
     "text": [
      "c1: 200: 100%|█████████████████████████████████████████████████████████████████| 200/200 [00:06<00:00, 31.73it/s]\n"
     ]
    },
    {
     "name": "stdout",
     "output_type": "stream",
     "text": [
      "Save to /data/rajlab1/user_data/jin/MyResearch/HDF_infer/notebooks/simu_real/../../mypkg/../results/simu_settingns2a_200/opt_lamNs_ress.pkl\n"
     ]
    },
    {
     "name": "stderr",
     "output_type": "stream",
     "text": [
      "c1: 400: 100%|█████████████████████████████████████████████████████████████████| 200/200 [00:07<00:00, 28.11it/s]\n"
     ]
    },
    {
     "name": "stdout",
     "output_type": "stream",
     "text": [
      "Save to /data/rajlab1/user_data/jin/MyResearch/HDF_infer/notebooks/simu_real/../../mypkg/../results/simu_settingns2a_400/opt_lamNs_ress.pkl\n"
     ]
    }
   ],
   "source": [
    "# for adaptive lam N\n",
    "cans = [1e-5, 3e-6, 1e-6, 3e-7, 1e-7, 3e-8, 1e-8, 3e-9, 1e-9, 3e-10, 0]\n",
    "all_coms = [(can, can) for can in cans]\n",
    "#all_coms = list(itertools.product(cans, cans))\n",
    "for c1 in c1s:\n",
    "    cur_save_dir = RES_ROOT/f\"simu_setting{setting.setting}_{c1*1000:.0f}\"\n",
    "    opt_lamNs =  opt_lamNss[c1]\n",
    "    ress = []\n",
    "    for cur_seed, cur_N, cur_lam, _ in tqdm(opt_lamNs, desc=f\"c1: {c1*1000:.0f}\"):\n",
    "        f1_name = f\"seed_{cur_seed:.0f}-lam_{cur_lam*1000:.0f}-N_{cur_N:.0f}_fit.pkl\"\n",
    "        res1 = load_pkl(cur_save_dir/f1_name, verbose=False);\n",
    "        _test_fn = res1.hypo_test\n",
    "        with Parallel(n_jobs=1) as parallel:\n",
    "            res = parallel(delayed(_test_fn)(Cmat=Cmat, is_simpler=False,\n",
    "                                             hypo_params={\"svdinv_eps_Q\": rtols[0], \"svdinv_eps_Psi\": rtols[1]}) \n",
    "                           for rtols in all_coms)\n",
    "        ress.append(res)\n",
    "    ress = np.array(ress);\n",
    "    save_pkl(cur_save_dir/f\"opt_lamNs_ress.pkl\", ress, is_force=1)\n"
   ]
  },
  {
   "cell_type": "code",
   "execution_count": 40,
   "id": "0eec1aec-5497-42c4-b829-a32cee581e54",
   "metadata": {
    "execution": {
     "iopub.execute_input": "2024-01-08T06:51:22.585965Z",
     "iopub.status.busy": "2024-01-08T06:51:22.585290Z",
     "iopub.status.idle": "2024-01-08T06:51:22.733200Z",
     "shell.execute_reply": "2024-01-08T06:51:22.732661Z",
     "shell.execute_reply.started": "2024-01-08T06:51:22.585919Z"
    },
    "scrolled": true,
    "tags": []
   },
   "outputs": [
    {
     "data": {
      "text/html": [
       "<div>\n",
       "<style scoped>\n",
       "    .dataframe tbody tr th:only-of-type {\n",
       "        vertical-align: middle;\n",
       "    }\n",
       "\n",
       "    .dataframe tbody tr th {\n",
       "        vertical-align: top;\n",
       "    }\n",
       "\n",
       "    .dataframe thead th {\n",
       "        text-align: right;\n",
       "    }\n",
       "</style>\n",
       "<table border=\"1\" class=\"dataframe\">\n",
       "  <thead>\n",
       "    <tr style=\"text-align: right;\">\n",
       "      <th></th>\n",
       "      <th>0</th>\n",
       "      <th>1</th>\n",
       "      <th>2</th>\n",
       "    </tr>\n",
       "  </thead>\n",
       "  <tbody>\n",
       "    <tr>\n",
       "      <th>0</th>\n",
       "      <td>12.0</td>\n",
       "      <td>0.50</td>\n",
       "      <td>3.0</td>\n",
       "    </tr>\n",
       "    <tr>\n",
       "      <th>1</th>\n",
       "      <td>12.0</td>\n",
       "      <td>0.60</td>\n",
       "      <td>7.0</td>\n",
       "    </tr>\n",
       "    <tr>\n",
       "      <th>2</th>\n",
       "      <td>12.0</td>\n",
       "      <td>0.65</td>\n",
       "      <td>5.0</td>\n",
       "    </tr>\n",
       "    <tr>\n",
       "      <th>3</th>\n",
       "      <td>12.0</td>\n",
       "      <td>0.70</td>\n",
       "      <td>6.0</td>\n",
       "    </tr>\n",
       "    <tr>\n",
       "      <th>4</th>\n",
       "      <td>12.0</td>\n",
       "      <td>0.80</td>\n",
       "      <td>7.0</td>\n",
       "    </tr>\n",
       "    <tr>\n",
       "      <th>5</th>\n",
       "      <td>12.0</td>\n",
       "      <td>0.90</td>\n",
       "      <td>7.0</td>\n",
       "    </tr>\n",
       "    <tr>\n",
       "      <th>6</th>\n",
       "      <td>12.0</td>\n",
       "      <td>1.00</td>\n",
       "      <td>23.0</td>\n",
       "    </tr>\n",
       "    <tr>\n",
       "      <th>7</th>\n",
       "      <td>14.0</td>\n",
       "      <td>0.40</td>\n",
       "      <td>1.0</td>\n",
       "    </tr>\n",
       "    <tr>\n",
       "      <th>8</th>\n",
       "      <td>14.0</td>\n",
       "      <td>0.50</td>\n",
       "      <td>7.0</td>\n",
       "    </tr>\n",
       "    <tr>\n",
       "      <th>9</th>\n",
       "      <td>14.0</td>\n",
       "      <td>0.60</td>\n",
       "      <td>7.0</td>\n",
       "    </tr>\n",
       "    <tr>\n",
       "      <th>10</th>\n",
       "      <td>14.0</td>\n",
       "      <td>0.65</td>\n",
       "      <td>3.0</td>\n",
       "    </tr>\n",
       "    <tr>\n",
       "      <th>11</th>\n",
       "      <td>14.0</td>\n",
       "      <td>0.80</td>\n",
       "      <td>12.0</td>\n",
       "    </tr>\n",
       "    <tr>\n",
       "      <th>12</th>\n",
       "      <td>14.0</td>\n",
       "      <td>0.90</td>\n",
       "      <td>25.0</td>\n",
       "    </tr>\n",
       "    <tr>\n",
       "      <th>13</th>\n",
       "      <td>14.0</td>\n",
       "      <td>1.00</td>\n",
       "      <td>87.0</td>\n",
       "    </tr>\n",
       "  </tbody>\n",
       "</table>\n",
       "</div>"
      ],
      "text/plain": [
       "       0     1     2\n",
       "0   12.0  0.50   3.0\n",
       "1   12.0  0.60   7.0\n",
       "2   12.0  0.65   5.0\n",
       "3   12.0  0.70   6.0\n",
       "4   12.0  0.80   7.0\n",
       "5   12.0  0.90   7.0\n",
       "6   12.0  1.00  23.0\n",
       "7   14.0  0.40   1.0\n",
       "8   14.0  0.50   7.0\n",
       "9   14.0  0.60   7.0\n",
       "10  14.0  0.65   3.0\n",
       "11  14.0  0.80  12.0\n",
       "12  14.0  0.90  25.0\n",
       "13  14.0  1.00  87.0"
      ]
     },
     "metadata": {},
     "output_type": "display_data"
    },
    {
     "data": {
      "text/html": [
       "<div>\n",
       "<style scoped>\n",
       "    .dataframe tbody tr th:only-of-type {\n",
       "        vertical-align: middle;\n",
       "    }\n",
       "\n",
       "    .dataframe tbody tr th {\n",
       "        vertical-align: top;\n",
       "    }\n",
       "\n",
       "    .dataframe thead th {\n",
       "        text-align: right;\n",
       "    }\n",
       "</style>\n",
       "<table border=\"1\" class=\"dataframe\">\n",
       "  <thead>\n",
       "    <tr style=\"text-align: right;\">\n",
       "      <th></th>\n",
       "      <th>0</th>\n",
       "      <th>1</th>\n",
       "      <th>2</th>\n",
       "    </tr>\n",
       "  </thead>\n",
       "  <tbody>\n",
       "    <tr>\n",
       "      <th>0</th>\n",
       "      <td>12.0</td>\n",
       "      <td>0.50</td>\n",
       "      <td>2.0</td>\n",
       "    </tr>\n",
       "    <tr>\n",
       "      <th>1</th>\n",
       "      <td>12.0</td>\n",
       "      <td>0.60</td>\n",
       "      <td>2.0</td>\n",
       "    </tr>\n",
       "    <tr>\n",
       "      <th>2</th>\n",
       "      <td>12.0</td>\n",
       "      <td>0.65</td>\n",
       "      <td>6.0</td>\n",
       "    </tr>\n",
       "    <tr>\n",
       "      <th>3</th>\n",
       "      <td>12.0</td>\n",
       "      <td>0.70</td>\n",
       "      <td>6.0</td>\n",
       "    </tr>\n",
       "    <tr>\n",
       "      <th>4</th>\n",
       "      <td>12.0</td>\n",
       "      <td>0.80</td>\n",
       "      <td>4.0</td>\n",
       "    </tr>\n",
       "    <tr>\n",
       "      <th>5</th>\n",
       "      <td>12.0</td>\n",
       "      <td>0.90</td>\n",
       "      <td>12.0</td>\n",
       "    </tr>\n",
       "    <tr>\n",
       "      <th>6</th>\n",
       "      <td>12.0</td>\n",
       "      <td>1.00</td>\n",
       "      <td>21.0</td>\n",
       "    </tr>\n",
       "    <tr>\n",
       "      <th>7</th>\n",
       "      <td>14.0</td>\n",
       "      <td>0.40</td>\n",
       "      <td>1.0</td>\n",
       "    </tr>\n",
       "    <tr>\n",
       "      <th>8</th>\n",
       "      <td>14.0</td>\n",
       "      <td>0.50</td>\n",
       "      <td>3.0</td>\n",
       "    </tr>\n",
       "    <tr>\n",
       "      <th>9</th>\n",
       "      <td>14.0</td>\n",
       "      <td>0.60</td>\n",
       "      <td>11.0</td>\n",
       "    </tr>\n",
       "    <tr>\n",
       "      <th>10</th>\n",
       "      <td>14.0</td>\n",
       "      <td>0.65</td>\n",
       "      <td>4.0</td>\n",
       "    </tr>\n",
       "    <tr>\n",
       "      <th>11</th>\n",
       "      <td>14.0</td>\n",
       "      <td>0.75</td>\n",
       "      <td>4.0</td>\n",
       "    </tr>\n",
       "    <tr>\n",
       "      <th>12</th>\n",
       "      <td>14.0</td>\n",
       "      <td>0.80</td>\n",
       "      <td>10.0</td>\n",
       "    </tr>\n",
       "    <tr>\n",
       "      <th>13</th>\n",
       "      <td>14.0</td>\n",
       "      <td>0.90</td>\n",
       "      <td>32.0</td>\n",
       "    </tr>\n",
       "    <tr>\n",
       "      <th>14</th>\n",
       "      <td>14.0</td>\n",
       "      <td>1.00</td>\n",
       "      <td>82.0</td>\n",
       "    </tr>\n",
       "  </tbody>\n",
       "</table>\n",
       "</div>"
      ],
      "text/plain": [
       "       0     1     2\n",
       "0   12.0  0.50   2.0\n",
       "1   12.0  0.60   2.0\n",
       "2   12.0  0.65   6.0\n",
       "3   12.0  0.70   6.0\n",
       "4   12.0  0.80   4.0\n",
       "5   12.0  0.90  12.0\n",
       "6   12.0  1.00  21.0\n",
       "7   14.0  0.40   1.0\n",
       "8   14.0  0.50   3.0\n",
       "9   14.0  0.60  11.0\n",
       "10  14.0  0.65   4.0\n",
       "11  14.0  0.75   4.0\n",
       "12  14.0  0.80  10.0\n",
       "13  14.0  0.90  32.0\n",
       "14  14.0  1.00  82.0"
      ]
     },
     "metadata": {},
     "output_type": "display_data"
    },
    {
     "data": {
      "text/html": [
       "<div>\n",
       "<style scoped>\n",
       "    .dataframe tbody tr th:only-of-type {\n",
       "        vertical-align: middle;\n",
       "    }\n",
       "\n",
       "    .dataframe tbody tr th {\n",
       "        vertical-align: top;\n",
       "    }\n",
       "\n",
       "    .dataframe thead th {\n",
       "        text-align: right;\n",
       "    }\n",
       "</style>\n",
       "<table border=\"1\" class=\"dataframe\">\n",
       "  <thead>\n",
       "    <tr style=\"text-align: right;\">\n",
       "      <th></th>\n",
       "      <th>0</th>\n",
       "      <th>1</th>\n",
       "      <th>2</th>\n",
       "    </tr>\n",
       "  </thead>\n",
       "  <tbody>\n",
       "    <tr>\n",
       "      <th>0</th>\n",
       "      <td>12.0</td>\n",
       "      <td>0.50</td>\n",
       "      <td>4.0</td>\n",
       "    </tr>\n",
       "    <tr>\n",
       "      <th>1</th>\n",
       "      <td>12.0</td>\n",
       "      <td>0.60</td>\n",
       "      <td>2.0</td>\n",
       "    </tr>\n",
       "    <tr>\n",
       "      <th>2</th>\n",
       "      <td>12.0</td>\n",
       "      <td>0.65</td>\n",
       "      <td>3.0</td>\n",
       "    </tr>\n",
       "    <tr>\n",
       "      <th>3</th>\n",
       "      <td>12.0</td>\n",
       "      <td>0.70</td>\n",
       "      <td>3.0</td>\n",
       "    </tr>\n",
       "    <tr>\n",
       "      <th>4</th>\n",
       "      <td>12.0</td>\n",
       "      <td>0.80</td>\n",
       "      <td>5.0</td>\n",
       "    </tr>\n",
       "    <tr>\n",
       "      <th>5</th>\n",
       "      <td>12.0</td>\n",
       "      <td>0.90</td>\n",
       "      <td>10.0</td>\n",
       "    </tr>\n",
       "    <tr>\n",
       "      <th>6</th>\n",
       "      <td>12.0</td>\n",
       "      <td>1.00</td>\n",
       "      <td>19.0</td>\n",
       "    </tr>\n",
       "    <tr>\n",
       "      <th>7</th>\n",
       "      <td>14.0</td>\n",
       "      <td>0.40</td>\n",
       "      <td>1.0</td>\n",
       "    </tr>\n",
       "    <tr>\n",
       "      <th>8</th>\n",
       "      <td>14.0</td>\n",
       "      <td>0.50</td>\n",
       "      <td>2.0</td>\n",
       "    </tr>\n",
       "    <tr>\n",
       "      <th>9</th>\n",
       "      <td>14.0</td>\n",
       "      <td>0.60</td>\n",
       "      <td>10.0</td>\n",
       "    </tr>\n",
       "    <tr>\n",
       "      <th>10</th>\n",
       "      <td>14.0</td>\n",
       "      <td>0.65</td>\n",
       "      <td>4.0</td>\n",
       "    </tr>\n",
       "    <tr>\n",
       "      <th>11</th>\n",
       "      <td>14.0</td>\n",
       "      <td>0.70</td>\n",
       "      <td>1.0</td>\n",
       "    </tr>\n",
       "    <tr>\n",
       "      <th>12</th>\n",
       "      <td>14.0</td>\n",
       "      <td>0.75</td>\n",
       "      <td>5.0</td>\n",
       "    </tr>\n",
       "    <tr>\n",
       "      <th>13</th>\n",
       "      <td>14.0</td>\n",
       "      <td>0.80</td>\n",
       "      <td>12.0</td>\n",
       "    </tr>\n",
       "    <tr>\n",
       "      <th>14</th>\n",
       "      <td>14.0</td>\n",
       "      <td>0.90</td>\n",
       "      <td>34.0</td>\n",
       "    </tr>\n",
       "    <tr>\n",
       "      <th>15</th>\n",
       "      <td>14.0</td>\n",
       "      <td>1.00</td>\n",
       "      <td>85.0</td>\n",
       "    </tr>\n",
       "  </tbody>\n",
       "</table>\n",
       "</div>"
      ],
      "text/plain": [
       "       0     1     2\n",
       "0   12.0  0.50   4.0\n",
       "1   12.0  0.60   2.0\n",
       "2   12.0  0.65   3.0\n",
       "3   12.0  0.70   3.0\n",
       "4   12.0  0.80   5.0\n",
       "5   12.0  0.90  10.0\n",
       "6   12.0  1.00  19.0\n",
       "7   14.0  0.40   1.0\n",
       "8   14.0  0.50   2.0\n",
       "9   14.0  0.60  10.0\n",
       "10  14.0  0.65   4.0\n",
       "11  14.0  0.70   1.0\n",
       "12  14.0  0.75   5.0\n",
       "13  14.0  0.80  12.0\n",
       "14  14.0  0.90  34.0\n",
       "15  14.0  1.00  85.0"
      ]
     },
     "metadata": {},
     "output_type": "display_data"
    }
   ],
   "source": [
    "for k, v in opt_lamNss.items():\n",
    "    v = np.array(v)[:, 1:3]\n",
    "    combos, cts = np.unique(v, axis=0, return_counts=1)\n",
    "    tres = np.concatenate([combos, cts.reshape(-1, 1)], axis=1)\n",
    "    display(pd.DataFrame(tres));"
   ]
  },
  {
   "cell_type": "markdown",
   "id": "1ce33507-b240-4b72-84b2-d90e1df42822",
   "metadata": {},
   "source": [
    "### Fixed N and fixed lam"
   ]
  },
  {
   "cell_type": "code",
   "execution_count": 63,
   "id": "dfd6d7e4-4870-453b-a7e9-f342802ede3b",
   "metadata": {
    "execution": {
     "iopub.execute_input": "2024-01-28T04:51:52.716916Z",
     "iopub.status.busy": "2024-01-28T04:51:52.716308Z",
     "iopub.status.idle": "2024-01-28T04:51:55.494639Z",
     "shell.execute_reply": "2024-01-28T04:51:55.493956Z",
     "shell.execute_reply.started": "2024-01-28T04:51:52.716866Z"
    },
    "tags": []
   },
   "outputs": [
    {
     "name": "stdout",
     "output_type": "stream",
     "text": [
      "Load file /data/rajlab1/user_data/jin/MyResearch/HDF_infer/notebooks/simu_real/../../mypkg/../results/simu_settingnm2_0/all-valsel-metrics.pkl\n"
     ]
    },
    {
     "name": "stderr",
     "output_type": "stream",
     "text": [
      "c1: 0.0: 100%|███████████████████████████████████████████████████████████████████████████████████████████████████████████████████████████████████████████████████████████| 200/200 [00:00<00:00, 27473.91it/s]\n"
     ]
    },
    {
     "name": "stdout",
     "output_type": "stream",
     "text": [
      "14 2 2\n",
      "Load file /data/rajlab1/user_data/jin/MyResearch/HDF_infer/notebooks/simu_real/../../mypkg/../results/simu_settingnm2_100/all-valsel-metrics.pkl\n"
     ]
    },
    {
     "name": "stderr",
     "output_type": "stream",
     "text": [
      "c1: 0.1: 100%|███████████████████████████████████████████████████████████████████████████████████████████████████████████████████████████████████████████████████████████| 200/200 [00:00<00:00, 19253.62it/s]\n"
     ]
    },
    {
     "name": "stdout",
     "output_type": "stream",
     "text": [
      "14 2 3\n",
      "Load file /data/rajlab1/user_data/jin/MyResearch/HDF_infer/notebooks/simu_real/../../mypkg/../results/simu_settingnm2_200/all-valsel-metrics.pkl\n"
     ]
    },
    {
     "name": "stderr",
     "output_type": "stream",
     "text": [
      "c1: 0.2: 100%|███████████████████████████████████████████████████████████████████████████████████████████████████████████████████████████████████████████████████████████| 200/200 [00:00<00:00, 23024.75it/s]\n"
     ]
    },
    {
     "name": "stdout",
     "output_type": "stream",
     "text": [
      "14 2 3\n",
      "Load file /data/rajlab1/user_data/jin/MyResearch/HDF_infer/notebooks/simu_real/../../mypkg/../results/simu_settingnm2_400/all-valsel-metrics.pkl\n"
     ]
    },
    {
     "name": "stderr",
     "output_type": "stream",
     "text": [
      "c1: 0.4: 100%|███████████████████████████████████████████████████████████████████████████████████████████████████████████████████████████████████████████████████████████| 200/200 [00:00<00:00, 21219.25it/s]"
     ]
    },
    {
     "name": "stdout",
     "output_type": "stream",
     "text": [
      "14 3 4\n"
     ]
    },
    {
     "name": "stderr",
     "output_type": "stream",
     "text": [
      "\n"
     ]
    }
   ],
   "source": [
    "def _run_fn1(seed, all_cv_errs):\n",
    "    errs_mat = []\n",
    "    for cur_N in can_Ns:\n",
    "        errs = []\n",
    "        for cur_lam in can_lams:\n",
    "            #errs.append(all_cv_errs[(seed, cur_N, cur_lam)].BIC)\n",
    "            errs.append(all_cv_errs[(seed, cur_N, cur_lam)].mse_loss)\n",
    "        errs_mat.append(errs)\n",
    "    errs_mat = np.array(errs_mat)\n",
    "    return errs_mat\n",
    "opt_lamNs_fix = {}\n",
    "for c1 in c1s:\n",
    "    cur_save_dir = RES_ROOT/f\"simu_setting{setting.setting}_{c1*1000:.0f}\"\n",
    "    all_cv_errs = load_pkl(cur_save_dir/f\"all-valsel-metrics.pkl\")\n",
    "    num_seed = len(np.unique(list(map(lambda x: x[0], all_cv_errs.keys()))))\n",
    "    # do not make n_jobs>1, it is very slow\n",
    "    with Parallel(n_jobs=1) as parallel:\n",
    "        err_ten = parallel(delayed(_run_fn1)(cur_seed, all_cv_errs)  \n",
    "                                 for cur_seed in tqdm(range(num_seed), total=num_seed, desc=f\"c1: {c1}\"))\n",
    "    err_ten = np.array(err_ten);\n",
    "    \n",
    "    err_ten_ses = err_ten.std(axis=0)/np.sqrt(err_ten.shape[0])\n",
    "    err_m = np.mean(np.array(err_ten), axis=0)\n",
    "    errs = []\n",
    "    for err in err_m:\n",
    "        lam_min_idx = _get_min_idx(err)\n",
    "        errs.append((err[lam_min_idx], lam_min_idx))\n",
    "    errs = np.array(errs)\n",
    "    N_min_idx = np.argmin(errs[:, 0]);\n",
    "    lam_min_idx = int(errs[N_min_idx][1]);\n",
    "    min_opt_N, min_opt_lam = can_Ns[N_min_idx], can_lams[lam_min_idx]\n",
    "    \n",
    "    err_upbd = err_m[N_min_idx, lam_min_idx] + err_ten_ses[N_min_idx, lam_min_idx]; \n",
    "    lam_1se_idx = np.where(err_m[N_min_idx] <= err_upbd)[0].max();\n",
    "    print(can_Ns[N_min_idx], can_lams[lam_min_idx], can_lams[lam_1se_idx])\n",
    "    opt_lamNs_fix[c1] = (can_Ns[N_min_idx],  can_lams[lam_min_idx])"
   ]
  },
  {
   "cell_type": "code",
   "execution_count": 64,
   "id": "02242202-65e5-4926-8a80-4a313e353195",
   "metadata": {
    "execution": {
     "iopub.execute_input": "2024-01-28T04:51:56.742812Z",
     "iopub.status.busy": "2024-01-28T04:51:56.742234Z",
     "iopub.status.idle": "2024-01-28T04:51:56.784823Z",
     "shell.execute_reply": "2024-01-28T04:51:56.784136Z",
     "shell.execute_reply.started": "2024-01-28T04:51:56.742766Z"
    },
    "tags": []
   },
   "outputs": [
    {
     "data": {
      "text/plain": [
       "{0.0: (14, 2), 0.1: (14, 2), 0.2: (14, 2), 0.4: (14, 3)}"
      ]
     },
     "execution_count": 64,
     "metadata": {},
     "output_type": "execute_result"
    }
   ],
   "source": [
    "opt_lamNs_fix"
   ]
  },
  {
   "cell_type": "code",
   "execution_count": 65,
   "id": "abe4c784-1a02-4d92-9fb9-53cd9c23f066",
   "metadata": {
    "execution": {
     "iopub.execute_input": "2024-01-28T04:51:58.621587Z",
     "iopub.status.busy": "2024-01-28T04:51:58.621039Z",
     "iopub.status.idle": "2024-01-28T04:53:15.912483Z",
     "shell.execute_reply": "2024-01-28T04:53:15.911435Z",
     "shell.execute_reply.started": "2024-01-28T04:51:58.621541Z"
    },
    "scrolled": true,
    "tags": []
   },
   "outputs": [
    {
     "name": "stderr",
     "output_type": "stream",
     "text": [
      "c1: 0: 100%|████████████████████████████████████████████████████████████████████████████████████████████████████████████████████████████████████████████████████████████████| 200/200 [00:18<00:00, 10.73it/s]\n"
     ]
    },
    {
     "name": "stdout",
     "output_type": "stream",
     "text": [
      "Save to /data/rajlab1/user_data/jin/MyResearch/HDF_infer/notebooks/simu_real/../../mypkg/../results/simu_settingnm2_0/opt_lamNsfixNlam_ress.pkl\n"
     ]
    },
    {
     "name": "stderr",
     "output_type": "stream",
     "text": [
      "c1: 100: 100%|██████████████████████████████████████████████████████████████████████████████████████████████████████████████████████████████████████████████████████████████| 200/200 [00:18<00:00, 11.11it/s]\n"
     ]
    },
    {
     "name": "stdout",
     "output_type": "stream",
     "text": [
      "Save to /data/rajlab1/user_data/jin/MyResearch/HDF_infer/notebooks/simu_real/../../mypkg/../results/simu_settingnm2_100/opt_lamNsfixNlam_ress.pkl\n"
     ]
    },
    {
     "name": "stderr",
     "output_type": "stream",
     "text": [
      "c1: 200: 100%|██████████████████████████████████████████████████████████████████████████████████████████████████████████████████████████████████████████████████████████████| 200/200 [00:19<00:00, 10.10it/s]\n"
     ]
    },
    {
     "name": "stdout",
     "output_type": "stream",
     "text": [
      "Save to /data/rajlab1/user_data/jin/MyResearch/HDF_infer/notebooks/simu_real/../../mypkg/../results/simu_settingnm2_200/opt_lamNsfixNlam_ress.pkl\n"
     ]
    },
    {
     "name": "stderr",
     "output_type": "stream",
     "text": [
      "c1: 400: 100%|██████████████████████████████████████████████████████████████████████████████████████████████████████████████████████████████████████████████████████████████| 200/200 [00:19<00:00, 10.03it/s]\n"
     ]
    },
    {
     "name": "stdout",
     "output_type": "stream",
     "text": [
      "Save to /data/rajlab1/user_data/jin/MyResearch/HDF_infer/notebooks/simu_real/../../mypkg/../results/simu_settingnm2_400/opt_lamNsfixNlam_ress.pkl\n"
     ]
    }
   ],
   "source": [
    "# for adaptive lam N\n",
    "cans = [1e-5, 3e-6, 1e-6, 3e-7, 1e-7, 3e-8, 1e-8, 3e-9, 1e-9, 3e-10, 0]\n",
    "all_coms = [(can, can) for can in cans]\n",
    "#all_coms = list(itertools.product(cans, cans))\n",
    "for c1 in c1s:\n",
    "    cur_save_dir = RES_ROOT/f\"simu_setting{setting.setting}_{c1*1000:.0f}\"\n",
    "    cur_N, cur_lam = opt_lamNs_fix[c1]\n",
    "    ress = []\n",
    "    for cur_seed in tqdm(range(num_rep), desc=f\"c1: {c1*1000:.0f}\"):\n",
    "        f1_name = f\"seed_{cur_seed:.0f}-lam_{cur_lam*1000:.0f}-N_{cur_N:.0f}_fit.pkl\"\n",
    "        res1 = load_pkl(cur_save_dir/f1_name, verbose=False);\n",
    "        _test_fn = res1.hypo_test\n",
    "        with Parallel(n_jobs=1) as parallel:\n",
    "            res = parallel(delayed(_test_fn)(Cmat=Cmat, is_simpler=False,\n",
    "                                             hypo_params={\"svdinv_eps_Q\": rtols[0], \"svdinv_eps_Psi\": rtols[1]}) \n",
    "                           for rtols in all_coms)\n",
    "    \n",
    "        ress.append(res)\n",
    "    ress = np.array(ress);\n",
    "    save_pkl(cur_save_dir/f\"opt_lamNsfixNlam_ress.pkl\", ress, is_force=1)"
   ]
  },
  {
   "cell_type": "code",
   "execution_count": null,
   "id": "d3d8dc76-d28c-44a5-9190-1bd0cefe53a9",
   "metadata": {},
   "outputs": [],
   "source": []
  },
  {
   "cell_type": "code",
   "execution_count": null,
   "id": "4fb91ff8-5516-4607-b597-a84764e17df4",
   "metadata": {},
   "outputs": [],
   "source": []
  },
  {
   "cell_type": "markdown",
   "id": "d30d4a08-5de2-4412-8541-5dd78612ed5c",
   "metadata": {},
   "source": [
    "## Find Q and Psi rtol"
   ]
  },
  {
   "cell_type": "code",
   "execution_count": 66,
   "id": "e4297092-475a-42e3-970b-f8774ef3fb70",
   "metadata": {
    "execution": {
     "iopub.execute_input": "2024-01-28T04:53:17.596970Z",
     "iopub.status.busy": "2024-01-28T04:53:17.596408Z",
     "iopub.status.idle": "2024-01-28T04:53:18.279539Z",
     "shell.execute_reply": "2024-01-28T04:53:18.278800Z",
     "shell.execute_reply.started": "2024-01-28T04:53:17.596922Z"
    },
    "tags": []
   },
   "outputs": [
    {
     "name": "stdout",
     "output_type": "stream",
     "text": [
      "Load file /data/rajlab1/user_data/jin/MyResearch/HDF_infer/notebooks/simu_real/../../mypkg/../results/simu_settingnm2_0/opt_lamNsfixNlam_ress.pkl\n",
      "Load file /data/rajlab1/user_data/jin/MyResearch/HDF_infer/notebooks/simu_real/../../mypkg/../results/simu_settingnm2_100/opt_lamNsfixNlam_ress.pkl\n",
      "Load file /data/rajlab1/user_data/jin/MyResearch/HDF_infer/notebooks/simu_real/../../mypkg/../results/simu_settingnm2_200/opt_lamNsfixNlam_ress.pkl\n",
      "Load file /data/rajlab1/user_data/jin/MyResearch/HDF_infer/notebooks/simu_real/../../mypkg/../results/simu_settingnm2_400/opt_lamNsfixNlam_ress.pkl\n"
     ]
    }
   ],
   "source": [
    "ress_dict = {}\n",
    "for c1 in c1s:\n",
    "    cur_save_dir = RES_ROOT/f\"simu_setting{setting.setting}_{c1*1000:.0f}\"\n",
    "    ress = load_pkl(cur_save_dir/f\"opt_lamNsfixNlam_ress.pkl\");\n",
    "    #ress = load_pkl(cur_save_dir/f\"opt_lamNsfixN_ress.pkl\");\n",
    "    #ress = load_pkl(cur_save_dir/f\"opt_lamNs_ress.pkl\");\n",
    "    #ress = load_pkl(cur_save_dir/f\"opt_lamNsfixN1se_c1_{c1*1000:.0f}_ress.pkl\");\n",
    "    ress_dict[c1] = ress"
   ]
  },
  {
   "cell_type": "code",
   "execution_count": 67,
   "id": "d5348b9e-0fe6-4f79-9b91-d2ab166c527d",
   "metadata": {
    "execution": {
     "iopub.execute_input": "2024-01-28T04:53:19.144956Z",
     "iopub.status.busy": "2024-01-28T04:53:19.144377Z",
     "iopub.status.idle": "2024-01-28T04:53:19.184289Z",
     "shell.execute_reply": "2024-01-28T04:53:19.183604Z",
     "shell.execute_reply.started": "2024-01-28T04:53:19.144910Z"
    },
    "tags": []
   },
   "outputs": [],
   "source": [
    "def outlier_det(T_vs, ratio_tol=0.05):\n",
    "    \"\"\"\n",
    "    Detects outliers in a given dataset using the interquartile range (IQR) method.\n",
    "\n",
    "    Parameters:\n",
    "    - T_vs (array-like): The input dataset.\n",
    "    - ratio_tol (float, optional): The tolerance ratio for outlier removal. Default is 0.05.\n",
    "\n",
    "    Returns:\n",
    "    - kpidx (ndarray): A boolean array indicating whether each data point is an outlier or not.\n",
    "    \"\"\"\n",
    "    Q1, Q3 = np.quantile(T_vs, [0.25, 0.75])\n",
    "    IQR = Q3 - Q1\n",
    "    upbd = Q3 + 1.5*IQR\n",
    "    lowbd = Q1 - 1.5*IQR\n",
    "    kpidx = np.bitwise_and(T_vs>=lowbd, T_vs<=upbd)\n",
    "    \n",
    "    if np.mean(kpidx)+ ratio_tol < 1:\n",
    "        out_part = np.stack([T_vs - upbd, lowbd - T_vs]).T.max(axis=1);\n",
    "        kpidx = np.ones(len(T_vs), dtype=bool)\n",
    "        kpidx[np.argsort(-out_part)[:int(len(T_vs)*ratio_tol)]] = False\n",
    "    return kpidx"
   ]
  },
  {
   "cell_type": "code",
   "execution_count": 68,
   "id": "e68ec23d-e727-4160-bba8-5ab94be466bf",
   "metadata": {
    "execution": {
     "iopub.execute_input": "2024-01-28T04:53:19.796602Z",
     "iopub.status.busy": "2024-01-28T04:53:19.795570Z",
     "iopub.status.idle": "2024-01-28T04:53:19.915485Z",
     "shell.execute_reply": "2024-01-28T04:53:19.914804Z",
     "shell.execute_reply.started": "2024-01-28T04:53:19.796555Z"
    },
    "tags": []
   },
   "outputs": [
    {
     "data": {
      "text/html": [
       "<div>\n",
       "<style scoped>\n",
       "    .dataframe tbody tr th:only-of-type {\n",
       "        vertical-align: middle;\n",
       "    }\n",
       "\n",
       "    .dataframe tbody tr th {\n",
       "        vertical-align: top;\n",
       "    }\n",
       "\n",
       "    .dataframe thead th {\n",
       "        text-align: right;\n",
       "    }\n",
       "</style>\n",
       "<table border=\"1\" class=\"dataframe\">\n",
       "  <thead>\n",
       "    <tr style=\"text-align: right;\">\n",
       "      <th></th>\n",
       "      <th>0.0</th>\n",
       "      <th>0.1</th>\n",
       "      <th>0.2</th>\n",
       "      <th>0.4</th>\n",
       "      <th>Q</th>\n",
       "      <th>Psi</th>\n",
       "    </tr>\n",
       "  </thead>\n",
       "  <tbody>\n",
       "    <tr>\n",
       "      <th>0</th>\n",
       "      <td>0.235</td>\n",
       "      <td>0.61</td>\n",
       "      <td>0.84</td>\n",
       "      <td>0.765</td>\n",
       "      <td>1.000000e-05</td>\n",
       "      <td>1.000000e-05</td>\n",
       "    </tr>\n",
       "    <tr>\n",
       "      <th>1</th>\n",
       "      <td>0.235</td>\n",
       "      <td>0.61</td>\n",
       "      <td>0.84</td>\n",
       "      <td>0.765</td>\n",
       "      <td>3.000000e-06</td>\n",
       "      <td>3.000000e-06</td>\n",
       "    </tr>\n",
       "    <tr>\n",
       "      <th>2</th>\n",
       "      <td>0.235</td>\n",
       "      <td>0.61</td>\n",
       "      <td>0.84</td>\n",
       "      <td>0.765</td>\n",
       "      <td>1.000000e-06</td>\n",
       "      <td>1.000000e-06</td>\n",
       "    </tr>\n",
       "    <tr>\n",
       "      <th>3</th>\n",
       "      <td>0.235</td>\n",
       "      <td>0.61</td>\n",
       "      <td>0.84</td>\n",
       "      <td>0.765</td>\n",
       "      <td>3.000000e-07</td>\n",
       "      <td>3.000000e-07</td>\n",
       "    </tr>\n",
       "    <tr>\n",
       "      <th>4</th>\n",
       "      <td>0.235</td>\n",
       "      <td>0.61</td>\n",
       "      <td>0.84</td>\n",
       "      <td>0.765</td>\n",
       "      <td>1.000000e-07</td>\n",
       "      <td>1.000000e-07</td>\n",
       "    </tr>\n",
       "    <tr>\n",
       "      <th>5</th>\n",
       "      <td>0.235</td>\n",
       "      <td>0.61</td>\n",
       "      <td>0.84</td>\n",
       "      <td>0.765</td>\n",
       "      <td>3.000000e-08</td>\n",
       "      <td>3.000000e-08</td>\n",
       "    </tr>\n",
       "    <tr>\n",
       "      <th>6</th>\n",
       "      <td>0.235</td>\n",
       "      <td>0.61</td>\n",
       "      <td>0.84</td>\n",
       "      <td>0.765</td>\n",
       "      <td>1.000000e-08</td>\n",
       "      <td>1.000000e-08</td>\n",
       "    </tr>\n",
       "    <tr>\n",
       "      <th>7</th>\n",
       "      <td>0.235</td>\n",
       "      <td>0.61</td>\n",
       "      <td>0.84</td>\n",
       "      <td>0.765</td>\n",
       "      <td>3.000000e-09</td>\n",
       "      <td>3.000000e-09</td>\n",
       "    </tr>\n",
       "    <tr>\n",
       "      <th>8</th>\n",
       "      <td>0.235</td>\n",
       "      <td>0.61</td>\n",
       "      <td>0.84</td>\n",
       "      <td>0.765</td>\n",
       "      <td>1.000000e-09</td>\n",
       "      <td>1.000000e-09</td>\n",
       "    </tr>\n",
       "    <tr>\n",
       "      <th>9</th>\n",
       "      <td>0.235</td>\n",
       "      <td>0.61</td>\n",
       "      <td>0.84</td>\n",
       "      <td>0.765</td>\n",
       "      <td>3.000000e-10</td>\n",
       "      <td>3.000000e-10</td>\n",
       "    </tr>\n",
       "    <tr>\n",
       "      <th>10</th>\n",
       "      <td>0.235</td>\n",
       "      <td>0.61</td>\n",
       "      <td>0.84</td>\n",
       "      <td>0.765</td>\n",
       "      <td>0.000000e+00</td>\n",
       "      <td>0.000000e+00</td>\n",
       "    </tr>\n",
       "  </tbody>\n",
       "</table>\n",
       "</div>"
      ],
      "text/plain": [
       "      0.0   0.1   0.2    0.4             Q           Psi\n",
       "0   0.235  0.61  0.84  0.765  1.000000e-05  1.000000e-05\n",
       "1   0.235  0.61  0.84  0.765  3.000000e-06  3.000000e-06\n",
       "2   0.235  0.61  0.84  0.765  1.000000e-06  1.000000e-06\n",
       "3   0.235  0.61  0.84  0.765  3.000000e-07  3.000000e-07\n",
       "4   0.235  0.61  0.84  0.765  1.000000e-07  1.000000e-07\n",
       "5   0.235  0.61  0.84  0.765  3.000000e-08  3.000000e-08\n",
       "6   0.235  0.61  0.84  0.765  1.000000e-08  1.000000e-08\n",
       "7   0.235  0.61  0.84  0.765  3.000000e-09  3.000000e-09\n",
       "8   0.235  0.61  0.84  0.765  1.000000e-09  1.000000e-09\n",
       "9   0.235  0.61  0.84  0.765  3.000000e-10  3.000000e-10\n",
       "10  0.235  0.61  0.84  0.765  0.000000e+00  0.000000e+00"
      ]
     },
     "execution_count": 68,
     "metadata": {},
     "output_type": "execute_result"
    }
   ],
   "source": [
    "import pandas as pd\n",
    "cans = [1e-5, 3e-6, 1e-6, 3e-7, 1e-7, 3e-8, 1e-8, 3e-9, 1e-9, 3e-10, 0]\n",
    "\n",
    "all_coms = np.array(list(itertools.product(cans, cans)));\n",
    "all_coms = [(can, can) for can in cans]\n",
    "kpidxs = []\n",
    "\n",
    "df = []\n",
    "for c1 in c1s:\n",
    "    ress = ress_dict[c1]\n",
    "    pvals = np.array([[re[\"pval\"] for re in res] for res in ress]);\n",
    "    T_vss = np.array([[re[\"T_v\"] for re in res] for res in ress]);\n",
    "    \n",
    "    kpidxss = [outlier_det(T_vss[:, can_ix], 0.00) for can_ix in range(T_vss.shape[1])];\n",
    "    if True:\n",
    "        vec_pv = np.array([np.mean(pvals[:, can_ix][kpidxss[can_ix]]<0.05) for can_ix in range(len(cans))])\n",
    "    else:\n",
    "        vec_pv = np.array([np.mean(pvals[:, can_ix]<0.05) for can_ix in range(len(cans))])\n",
    "    #vec_pv = np.mean(pvals<0.05, axis=0)\n",
    "    df.append(vec_pv[:, np.newaxis])\n",
    "df.append(all_coms) \n",
    "df = np.hstack(df)\n",
    "df = pd.DataFrame(df) \n",
    "df.columns = c1s+[\"Q\", \"Psi\"]\n",
    "df"
   ]
  },
  {
   "cell_type": "code",
   "execution_count": 133,
   "id": "6f4cece6-1723-486c-ab9b-e8cb63889580",
   "metadata": {
    "execution": {
     "iopub.execute_input": "2024-01-28T20:02:29.489807Z",
     "iopub.status.busy": "2024-01-28T20:02:29.489238Z",
     "iopub.status.idle": "2024-01-28T20:02:29.531374Z",
     "shell.execute_reply": "2024-01-28T20:02:29.530682Z",
     "shell.execute_reply.started": "2024-01-28T20:02:29.489762Z"
    },
    "tags": []
   },
   "outputs": [],
   "source": [
    "c1 = 0.0\n",
    "cur_save_dir = RES_ROOT/f\"simu_settingnm1b_{0.4*1000:.0f}\"\n",
    "cur_N = 14\n",
    "cur_lam = 1.2\n",
    "def _run_fn_test(cur_seed):\n",
    "        from optimization.opt import logger as logger1\n",
    "        logger1.handlers[0].setLevel(logging.WARNING)\n",
    "        torch.set_default_dtype(torch.float64)\n",
    "        f1_name = f\"seed_{cur_seed:.0f}-lam_{cur_lam*1000:.0f}-N_{cur_N:.0f}_fit.pkl\"\n",
    "        res1 = load_pkl(cur_save_dir/f1_name, verbose=False);\n",
    "        #res1.basis_mat = torch.tensor(res1.obt_bsp(np.linspace(0, 1, setting.data_gen_params.npts), \n",
    "        #                              res1.bsp_params.N, res1.bsp_params.basis_ord)).to(torch.get_default_dtype());\n",
    "        #res = res1.hypo_test(Cmat=Cmat, ts=None, is_simpler=False, \n",
    "        #                     hypo_params={\"svdinv_eps_Q\": 1e-7, \"svdinv_eps_Psi\": 1e-7}) \n",
    "    \n",
    "        return res1 "
   ]
  },
  {
   "cell_type": "code",
   "execution_count": 134,
   "id": "6e87accf-9284-4892-b9f6-6596ad8ec9cf",
   "metadata": {
    "execution": {
     "iopub.execute_input": "2024-01-28T20:02:30.152691Z",
     "iopub.status.busy": "2024-01-28T20:02:30.152042Z",
     "iopub.status.idle": "2024-01-28T20:02:39.045342Z",
     "shell.execute_reply": "2024-01-28T20:02:39.043895Z",
     "shell.execute_reply.started": "2024-01-28T20:02:30.152635Z"
    },
    "tags": []
   },
   "outputs": [],
   "source": [
    "ress = []\n",
    "for rep_ix in range(200):\n",
    "    res = _run_fn_test(rep_ix)\n",
    "    ress.append(res.keep_idxs)"
   ]
  },
  {
   "cell_type": "code",
   "execution_count": 135,
   "id": "c94d33eb-1cdd-4035-b8b0-2fef3cd0be8c",
   "metadata": {
    "execution": {
     "iopub.execute_input": "2024-01-28T20:02:39.048248Z",
     "iopub.status.busy": "2024-01-28T20:02:39.047558Z",
     "iopub.status.idle": "2024-01-28T20:02:39.087241Z",
     "shell.execute_reply": "2024-01-28T20:02:39.086025Z",
     "shell.execute_reply.started": "2024-01-28T20:02:39.048202Z"
    },
    "tags": []
   },
   "outputs": [
    {
     "data": {
      "text/plain": [
       "2"
      ]
     },
     "execution_count": 135,
     "metadata": {},
     "output_type": "execute_result"
    }
   ],
   "source": [
    "np.sum(np.array(ress)[:, -1]!=67)"
   ]
  },
  {
   "cell_type": "code",
   "execution_count": null,
   "id": "2b404df1-7735-4348-b212-485417ab16e4",
   "metadata": {},
   "outputs": [],
   "source": [
    "\n"
   ]
  },
  {
   "cell_type": "code",
   "execution_count": null,
   "id": "90c9ee1f-2834-4fec-842e-c54e6bfd5f1e",
   "metadata": {},
   "outputs": [],
   "source": []
  }
 ],
 "metadata": {
  "kernelspec": {
   "display_name": "Python 3 (ipykernel)",
   "language": "python",
   "name": "python3"
  },
  "language_info": {
   "codemirror_mode": {
    "name": "ipython",
    "version": 3
   },
   "file_extension": ".py",
   "mimetype": "text/x-python",
   "name": "python",
   "nbconvert_exporter": "python",
   "pygments_lexer": "ipython3",
   "version": "3.9.7"
  },
  "toc": {
   "base_numbering": 1,
   "nav_menu": {},
   "number_sections": true,
   "sideBar": true,
   "skip_h1_title": false,
   "title_cell": "Table of Contents",
   "title_sidebar": "Contents",
   "toc_cell": false,
   "toc_position": {
    "height": "calc(100% - 180px)",
    "left": "10px",
    "top": "150px",
    "width": "165px"
   },
   "toc_section_display": true,
   "toc_window_display": true
  },
  "toc-autonumbering": true
 },
 "nbformat": 4,
 "nbformat_minor": 5
}
