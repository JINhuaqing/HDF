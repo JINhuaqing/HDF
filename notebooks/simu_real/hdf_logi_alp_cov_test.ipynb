{
 "cells": [
  {
   "cell_type": "markdown",
   "id": "faf0a805",
   "metadata": {},
   "source": [
    "This file contains python code to test HDF logi  \n",
    "\n",
    "It is under the logi setting\n",
    "\n",
    "Now, I use the same beta and X is raw MEG"
   ]
  },
  {
   "cell_type": "code",
   "execution_count": 1,
   "id": "02ae980e",
   "metadata": {
    "ExecuteTime": {
     "end_time": "2023-05-31T19:57:23.490285Z",
     "start_time": "2023-05-31T19:57:23.481769Z"
    },
    "execution": {
     "iopub.execute_input": "2024-02-09T18:49:23.727802Z",
     "iopub.status.busy": "2024-02-09T18:49:23.725512Z",
     "iopub.status.idle": "2024-02-09T18:49:23.744368Z",
     "shell.execute_reply": "2024-02-09T18:49:23.740994Z",
     "shell.execute_reply.started": "2024-02-09T18:49:23.727746Z"
    },
    "tags": []
   },
   "outputs": [],
   "source": [
    "import sys\n",
    "sys.path.append(\"../../mypkg\")"
   ]
  },
  {
   "cell_type": "code",
   "execution_count": 2,
   "id": "023df78a",
   "metadata": {
    "ExecuteTime": {
     "end_time": "2023-05-31T19:57:34.238839Z",
     "start_time": "2023-05-31T19:57:23.494053Z"
    },
    "execution": {
     "iopub.execute_input": "2024-02-09T18:49:23.747784Z",
     "iopub.status.busy": "2024-02-09T18:49:23.747165Z",
     "iopub.status.idle": "2024-02-09T18:49:26.134953Z",
     "shell.execute_reply": "2024-02-09T18:49:26.133798Z",
     "shell.execute_reply.started": "2024-02-09T18:49:23.747740Z"
    },
    "tags": []
   },
   "outputs": [],
   "source": [
    "import numpy as np\n",
    "import torch\n",
    "import matplotlib.pyplot as plt\n",
    "import seaborn as sns\n",
    "\n",
    "from easydict import EasyDict as edict\n",
    "from tqdm import trange, tqdm\n",
    "from pprint import pprint\n",
    "import itertools\n",
    "from scipy.stats import chi2\n"
   ]
  },
  {
   "cell_type": "code",
   "execution_count": 3,
   "id": "b9d3cbc6-1ac5-47d6-a0d1-bcbc0be9267e",
   "metadata": {
    "execution": {
     "iopub.execute_input": "2024-02-09T18:49:26.135862Z",
     "iopub.status.busy": "2024-02-09T18:49:26.135633Z",
     "iopub.status.idle": "2024-02-09T18:49:26.155940Z",
     "shell.execute_reply": "2024-02-09T18:49:26.155529Z",
     "shell.execute_reply.started": "2024-02-09T18:49:26.135846Z"
    },
    "tags": []
   },
   "outputs": [],
   "source": [
    "# This will reload all imports as soon as the code changes\n",
    "%load_ext autoreload\n",
    "%autoreload 2"
   ]
  },
  {
   "cell_type": "code",
   "execution_count": 4,
   "id": "b0aa91b2",
   "metadata": {
    "ExecuteTime": {
     "end_time": "2023-05-31T19:57:59.558229Z",
     "start_time": "2023-05-31T19:57:34.292612Z"
    },
    "execution": {
     "iopub.execute_input": "2024-02-09T18:49:26.160120Z",
     "iopub.status.busy": "2024-02-09T18:49:26.159980Z",
     "iopub.status.idle": "2024-02-09T18:49:27.311127Z",
     "shell.execute_reply": "2024-02-09T18:49:27.309680Z",
     "shell.execute_reply.started": "2024-02-09T18:49:26.160107Z"
    },
    "tags": []
   },
   "outputs": [],
   "source": [
    "from constants import DATA_ROOT, RES_ROOT, FIG_ROOT, MIDRES_ROOT\n",
    "from hdf_utils.data_gen import gen_simu_meg_dataset\n",
    "from hdf_utils.SIS import SIS_GLIM\n",
    "from utils.matrix import col_vec_fn, col_vec2mat_fn, conju_grad, svd_inverse, cholesky_inv\n",
    "from utils.functions import logit_fn\n",
    "from utils.misc import save_pkl, load_pkl\n",
    "from splines import obt_bsp_obasis_Rfn, obt_bsp_basis_Rfn_wrapper\n",
    "from projection import euclidean_proj_l1ball\n",
    "from optimization.opt import HDFOpt\n",
    "from scenarios.real_simu_logi_meg import settings\n",
    "from hdf_utils.fns_sinica import  fourier_basis_fn\n",
    "\n",
    "from joblib import Parallel, delayed"
   ]
  },
  {
   "cell_type": "code",
   "execution_count": 5,
   "id": "fe0a4a46",
   "metadata": {
    "ExecuteTime": {
     "end_time": "2023-05-31T19:57:59.621784Z",
     "start_time": "2023-05-31T19:57:59.568097Z"
    },
    "execution": {
     "iopub.execute_input": "2024-02-09T18:49:27.313547Z",
     "iopub.status.busy": "2024-02-09T18:49:27.312749Z",
     "iopub.status.idle": "2024-02-09T18:49:27.352233Z",
     "shell.execute_reply": "2024-02-09T18:49:27.351034Z",
     "shell.execute_reply.started": "2024-02-09T18:49:27.313501Z"
    },
    "tags": []
   },
   "outputs": [],
   "source": [
    "plt.style.use(FIG_ROOT/\"base.mplstyle\")\n",
    "torch.set_default_tensor_type(torch.DoubleTensor)"
   ]
  },
  {
   "cell_type": "code",
   "execution_count": null,
   "id": "7e3672e9-3d13-43f8-a05a-6fbd399eb0fc",
   "metadata": {},
   "outputs": [],
   "source": []
  },
  {
   "cell_type": "code",
   "execution_count": 6,
   "id": "6cc21e4c-7327-4afe-a35e-b83aac2d082a",
   "metadata": {
    "execution": {
     "iopub.execute_input": "2024-02-09T18:49:27.354116Z",
     "iopub.status.busy": "2024-02-09T18:49:27.353443Z",
     "iopub.status.idle": "2024-02-09T18:49:32.171923Z",
     "shell.execute_reply": "2024-02-09T18:49:32.170927Z",
     "shell.execute_reply.started": "2024-02-09T18:49:27.354078Z"
    },
    "tags": []
   },
   "outputs": [
    {
     "name": "stdout",
     "output_type": "stream",
     "text": [
      "Load file /data/rajlab1/user_data/jin/MyResearch/HDF_infer/notebooks/simu_real/../../mypkg/../data/AD_vs_Ctrl_ts/AD88_all.pkl\n",
      "Load file /data/rajlab1/user_data/jin/MyResearch/HDF_infer/notebooks/simu_real/../../mypkg/../data/AD_vs_Ctrl_ts/Ctrl92_all.pkl\n"
     ]
    }
   ],
   "source": [
    "AD_ts = load_pkl(DATA_ROOT/\"AD_vs_Ctrl_ts/AD88_all.pkl\")\n",
    "Ctrl_ts = load_pkl(DATA_ROOT/\"AD_vs_Ctrl_ts/Ctrl92_all.pkl\")\n",
    "ts_data = np.concatenate([AD_ts, Ctrl_ts], axis=0)\n",
    "stds = ts_data.std(axis=(1, 2));\n",
    "ts_data_filter = ts_data[np.sort(np.where(stds>100)[0])];"
   ]
  },
  {
   "cell_type": "code",
   "execution_count": 7,
   "id": "977784a7-3e90-4016-9958-9766c871dc0f",
   "metadata": {
    "ExecuteTime": {
     "end_time": "2023-05-31T23:31:16.397628Z",
     "start_time": "2023-05-31T23:31:16.221812Z"
    },
    "execution": {
     "iopub.execute_input": "2024-02-09T18:49:36.390219Z",
     "iopub.status.busy": "2024-02-09T18:49:36.389589Z",
     "iopub.status.idle": "2024-02-09T18:49:36.660569Z",
     "shell.execute_reply": "2024-02-09T18:49:36.660066Z",
     "shell.execute_reply.started": "2024-02-09T18:49:36.390167Z"
    },
    "tags": [
     "param"
    ]
   },
   "outputs": [
    {
     "name": "stderr",
     "output_type": "stream",
     "text": [
      "R[write to console]: \n",
      "Attaching package: ‘orthogonalsplinebasis’\n",
      "\n",
      "\n",
      "R[write to console]: The following object is masked from ‘package:stats’:\n",
      "\n",
      "    integrate\n",
      "\n",
      "\n"
     ]
    },
    {
     "data": {
      "text/plain": [
       "array([[1.]])"
      ]
     },
     "execution_count": 7,
     "metadata": {},
     "output_type": "execute_result"
    }
   ],
   "source": [
    "np.random.seed(0)\n",
    "c = 0.0\n",
    "\n",
    "setting = settings.nm1\n",
    "data_gen_params = setting.data_gen_params\n",
    "data_gen_params.cs = data_gen_params.cs_fn(c)\n",
    "data_gen_params.gt_beta = data_gen_params.beta_fn(data_gen_params.cs)\n",
    "#data_gen_params.gt_beta = np.zeros_like(data_gen_params.beta_fn(data_gen_params.cs))\n",
    "\n",
    "N = 10\n",
    "obt_bsp = obt_bsp_obasis_Rfn\n",
    "basis_mat = obt_bsp(np.linspace(0, 1, data_gen_params.npts), N, 4)\n",
    "gt_gam = np.zeros((N, 68));\n",
    "gt_gam[:, -1] = np.linspace(0, 1, N) * (-1)**np.arange(N)\n",
    "#data_gen_params.gt_beta = basis_mat @ gt_gam;\n",
    "\n",
    "num_rep = 200\n",
    "Cmat = np.eye(data_gen_params.d - len(setting.sel_idx))\n",
    "save_dir = RES_ROOT/f\"simu_logi_setting{setting.setting}_test\"\n",
    "if not save_dir.exists():\n",
    "    save_dir.mkdir()\n",
    "Cmat"
   ]
  },
  {
   "cell_type": "code",
   "execution_count": 8,
   "id": "062be60b-1250-4e96-8854-93917d479124",
   "metadata": {
    "execution": {
     "iopub.execute_input": "2024-02-09T18:49:38.036848Z",
     "iopub.status.busy": "2024-02-09T18:49:38.036287Z",
     "iopub.status.idle": "2024-02-09T18:49:38.218450Z",
     "shell.execute_reply": "2024-02-09T18:49:38.218073Z",
     "shell.execute_reply.started": "2024-02-09T18:49:38.036801Z"
    },
    "tags": []
   },
   "outputs": [
    {
     "data": {
      "text/plain": [
       "[<matplotlib.lines.Line2D at 0x7fb4d9143370>]"
      ]
     },
     "execution_count": 8,
     "metadata": {},
     "output_type": "execute_result"
    },
    {
     "data": {
      "image/png": "[encoded data removed]",
      "text/plain": [
       "<Figure size 432x288 with 1 Axes>"
      ]
     },
     "metadata": {
      "needs_background": "light"
     },
     "output_type": "display_data"
    }
   ],
   "source": [
    "plt.plot(data_gen_params.gt_beta[:, -1])"
   ]
  },
  {
   "cell_type": "code",
   "execution_count": 9,
   "id": "7e37a933-d4e5-4fdb-8b79-be7d1161444a",
   "metadata": {
    "execution": {
     "iopub.execute_input": "2024-02-09T18:49:39.797031Z",
     "iopub.status.busy": "2024-02-09T18:49:39.796417Z",
     "iopub.status.idle": "2024-02-09T18:49:39.834667Z",
     "shell.execute_reply": "2024-02-09T18:49:39.833745Z",
     "shell.execute_reply.started": "2024-02-09T18:49:39.796982Z"
    },
    "tags": []
   },
   "outputs": [],
   "source": [
    "data_gen_params.gt_alp = np.array([-0.64, -1, 2])"
   ]
  },
  {
   "cell_type": "code",
   "execution_count": 10,
   "id": "0f9eca46-ade4-40fa-83f5-b8db4ff10947",
   "metadata": {
    "execution": {
     "iopub.execute_input": "2024-02-09T18:49:40.363372Z",
     "iopub.status.busy": "2024-02-09T18:49:40.362731Z",
     "iopub.status.idle": "2024-02-09T18:49:40.411595Z",
     "shell.execute_reply": "2024-02-09T18:49:40.410980Z",
     "shell.execute_reply.started": "2024-02-09T18:49:40.363325Z"
    },
    "tags": []
   },
   "outputs": [],
   "source": [
    "def _run_fn(seed, lam, N, n, setting, inits=None, is_save=False, is_cv=False, verbose=2):\n",
    "    \"\"\"Now (on Aug 25, 2023), if we keep seed the same, the cur_data is the same. \n",
    "       If you want to make any changes, make sure this. \n",
    "    \"\"\"\n",
    "    torch.set_default_dtype(torch.double)\n",
    "    np.random.seed(seed)\n",
    "    torch.manual_seed(seed)\n",
    "        \n",
    "    _setting = edict(setting.copy())\n",
    "    _setting.seed = seed\n",
    "    _setting.lam = lam\n",
    "    _setting.N = N\n",
    "    \n",
    "    data_gen_params = setting.data_gen_params\n",
    "    \n",
    "    f_name = f\"seed_{seed:.0f}-lam_{lam*1000:.0f}-N_{N:.0f}_fit.pkl\"\n",
    "    \n",
    "    \n",
    "    if not (save_dir/f_name).exists():\n",
    "        cur_data = gen_simu_meg_dataset(n=n, \n",
    "                                   q=data_gen_params.q, \n",
    "                                   types_=data_gen_params.types_, \n",
    "                                   gt_alp=data_gen_params.gt_alp, \n",
    "                                   gt_beta=data_gen_params.gt_beta, \n",
    "                                   npts=data_gen_params.npts, \n",
    "                                   base_data=ts_data_filter, \n",
    "                                   data_type=data_gen_params.data_type,\n",
    "                                   data_params=data_gen_params.data_params, \n",
    "                                   seed=seed, \n",
    "                                   verbose=verbose);\n",
    "        hdf_fit = HDFOpt(lam=_setting.lam, \n",
    "                         sel_idx=_setting.sel_idx, \n",
    "                         model_type=_setting.model_type,\n",
    "                         verbose=verbose, \n",
    "                         SIS_ratio=_setting.SIS_ratio, \n",
    "                         N=_setting.N,\n",
    "                         is_std_data=True, \n",
    "                         cov_types=None, \n",
    "                         inits=inits,\n",
    "                         model_params = _setting.model_params, \n",
    "                         SIS_params = _setting.SIS_params, \n",
    "                         opt_params = _setting.opt_params,\n",
    "                         bsp_params = _setting.bsp_params, \n",
    "                         pen_params = _setting.pen_params\n",
    "               );\n",
    "        hdf_fit.add_data(cur_data.X, cur_data.Y, cur_data.Z)\n",
    "        opt_res = hdf_fit.fit()\n",
    "        \n",
    "        if is_cv:\n",
    "            hdf_fit.get_cv_est(_setting.num_cv_fold)\n",
    "        if is_save:\n",
    "            hdf_fit.save(save_dir/f_name, is_compact=False, is_force=True)\n",
    "    else:\n",
    "        hdf_fit = load_pkl(save_dir/f_name, verbose>=2);\n",
    "        \n",
    "    return hdf_fit\n"
   ]
  },
  {
   "cell_type": "code",
   "execution_count": null,
   "id": "dde1b6a7-747d-400a-879a-bf4724ebfc13",
   "metadata": {
    "tags": []
   },
   "outputs": [],
   "source": []
  },
  {
   "cell_type": "code",
   "execution_count": null,
   "id": "b64ec903-256d-4b9f-89be-6725629c1ef4",
   "metadata": {},
   "outputs": [],
   "source": []
  },
  {
   "cell_type": "markdown",
   "id": "ee5b93bf-12d5-40d9-b925-79fc4fb2b4a8",
   "metadata": {},
   "source": [
    "# single test"
   ]
  },
  {
   "cell_type": "code",
   "execution_count": null,
   "id": "528f7fd8-391f-4583-ae75-c740fe8bbd68",
   "metadata": {
    "tags": []
   },
   "outputs": [],
   "source": []
  },
  {
   "cell_type": "code",
   "execution_count": 35,
   "id": "4c92ede6-340b-4230-9f6b-02ffd2b1c68b",
   "metadata": {
    "execution": {
     "iopub.execute_input": "2024-02-09T19:21:00.627341Z",
     "iopub.status.busy": "2024-02-09T19:21:00.626691Z",
     "iopub.status.idle": "2024-02-09T19:21:00.668211Z",
     "shell.execute_reply": "2024-02-09T19:21:00.667098Z",
     "shell.execute_reply.started": "2024-02-09T19:21:00.627290Z"
    },
    "tags": []
   },
   "outputs": [],
   "source": [
    "setting.opt_params.is_BFGS = \"adaptive\" \n",
    "#setting.opt_params.N_eps = 1e-5\n",
    "#setting.opt_params.stop_cv = 5e-4\n",
    "#setting.opt_params.beta = 1\n",
    "#setting.opt_params.R = 3000000\n",
    "#setting.bsp_params.is_orth_basis = True\n",
    "data_gen_params.gt_alp = np.array([-0.64, -1, 2])\n",
    "#data_gen_params.types_ = [\"int\", \"c\", \"c\"]"
   ]
  },
  {
   "cell_type": "code",
   "execution_count": 36,
   "id": "02d10b93-0e05-46e8-b0c1-71d2efeb8ed1",
   "metadata": {
    "execution": {
     "iopub.execute_input": "2024-02-09T19:21:05.172012Z",
     "iopub.status.busy": "2024-02-09T19:21:05.171400Z",
     "iopub.status.idle": "2024-02-09T19:21:05.221687Z",
     "shell.execute_reply": "2024-02-09T19:21:05.220205Z",
     "shell.execute_reply.started": "2024-02-09T19:21:05.171963Z"
    },
    "scrolled": true,
    "tags": []
   },
   "outputs": [],
   "source": [
    "seed = 0\n",
    "lam = 0.1\n",
    "N = 6\n",
    "\n",
    "obt_bsp = obt_bsp_obasis_Rfn\n",
    "basis_mat = torch.tensor(obt_bsp(np.linspace(0, 1, data_gen_params.npts), N, 4)).to(torch.get_default_dtype())\n",
    "Gam_init = torch.tensor(np.linalg.inv(basis_mat.numpy().T  \n",
    "                                      @ basis_mat.numpy())  \n",
    "                        @ basis_mat.numpy().T  \n",
    "                        @ data_gen_params.gt_beta)\n",
    "alp_init = torch.tensor(data_gen_params.gt_alp)\n",
    "rhok_init = torch.zeros(N*data_gen_params.d);\n",
    "inits = [Gam_init, alp_init, rhok_init];"
   ]
  },
  {
   "cell_type": "code",
   "execution_count": 37,
   "id": "0e0f98ee-3859-4131-868e-f85e786bb003",
   "metadata": {
    "execution": {
     "iopub.execute_input": "2024-02-09T19:21:12.493135Z",
     "iopub.status.busy": "2024-02-09T19:21:12.492368Z",
     "iopub.status.idle": "2024-02-09T19:21:25.391799Z",
     "shell.execute_reply": "2024-02-09T19:21:25.391350Z",
     "shell.execute_reply.started": "2024-02-09T19:21:12.493083Z"
    },
    "tags": []
   },
   "outputs": [
    {
     "name": "stderr",
     "output_type": "stream",
     "text": [
      "2024-02-09 11:21:12,965 - optimization.opt - INFO - opt parmas is {'stop_cv': 0.0005, 'max_iter': 2000, 'one_step_verbose': 0, 'alpha': 0.9, 'beta': 1.0, 'R': 200000.0, 'N_eps': 0.0001, 'N_maxit': 100, 'is_BFGS': 'adaptive'}.\n",
      "2024-02-09 11:21:12,966 - optimization.opt - INFO - SIS parmas is {'SIS_pen': 5, 'SIS_basis_N': 10, 'SIS_basis_ord': 4, 'SIS_ratio': 0.2}.\n",
      "2024-02-09 11:21:12,967 - optimization.opt - INFO - model parmas is {}.\n",
      "2024-02-09 11:21:12,967 - optimization.opt - INFO - penalty parmas is {'a': 3.7, 'lam': 0.1}.\n",
      "2024-02-09 11:21:12,968 - optimization.opt - INFO - bspline parmas is {'basis_ord': 4, 'is_orth_basis': True, 'N': 6}.\n",
      "2024-02-09 11:21:12,968 - optimization.opt - INFO - As cov_types is not provided, inferring the continuous covariates.\n",
      "Main Loop:  12%|██████████▌                                                                             | 239/2000 [00:09<01:12, 24.39it/s, error=0.000568, GamL0=3, CV=0.0005]\n"
     ]
    },
    {
     "data": {
      "text/plain": [
       "<optimization.opt.HDFOpt at 0x7fb4d87d5ee0>"
      ]
     },
     "execution_count": 37,
     "metadata": {},
     "output_type": "execute_result"
    }
   ],
   "source": [
    "\n",
    "res = _run_fn(seed=seed, lam=lam, N=N, n=2000, setting=setting, inits=None, is_cv=False, is_save=False, verbose=2)"
   ]
  },
  {
   "cell_type": "code",
   "execution_count": 38,
   "id": "8eee904a-d422-4749-8ab5-66be9ac9e36e",
   "metadata": {
    "execution": {
     "iopub.execute_input": "2024-02-09T19:21:27.077807Z",
     "iopub.status.busy": "2024-02-09T19:21:27.077244Z",
     "iopub.status.idle": "2024-02-09T19:21:27.128304Z",
     "shell.execute_reply": "2024-02-09T19:21:27.127538Z",
     "shell.execute_reply.started": "2024-02-09T19:21:27.077759Z"
    },
    "tags": []
   },
   "outputs": [
    {
     "data": {
      "text/plain": [
       "tensor([-0.4285, -0.6816,  1.5296])"
      ]
     },
     "execution_count": 38,
     "metadata": {},
     "output_type": "execute_result"
    }
   ],
   "source": [
    "res.est_alp"
   ]
  },
  {
   "cell_type": "code",
   "execution_count": null,
   "id": "883c4365-e74b-4330-bb1d-e090033a7c2e",
   "metadata": {
    "tags": []
   },
   "outputs": [],
   "source": []
  },
  {
   "cell_type": "code",
   "execution_count": null,
   "id": "5a0bab91-13d0-4d5a-8d4a-c81bf753f101",
   "metadata": {},
   "outputs": [],
   "source": []
  },
  {
   "cell_type": "markdown",
   "id": "c6071092-a8df-482e-a1e4-406cf8da1ef1",
   "metadata": {},
   "source": [
    "# Multipe test"
   ]
  },
  {
   "cell_type": "code",
   "execution_count": 30,
   "id": "f4df8349-ac9f-4b73-af7f-e5670d2bb326",
   "metadata": {
    "execution": {
     "iopub.execute_input": "2024-02-09T18:57:00.193020Z",
     "iopub.status.busy": "2024-02-09T18:57:00.192442Z",
     "iopub.status.idle": "2024-02-09T18:57:00.232075Z",
     "shell.execute_reply": "2024-02-09T18:57:00.230990Z",
     "shell.execute_reply.started": "2024-02-09T18:57:00.192972Z"
    },
    "tags": []
   },
   "outputs": [],
   "source": [
    "#setting.opt_params.is_BFGS = \"adaptive\" \n",
    "#setting.opt_params.N_eps = 1e-5\n",
    "#setting.opt_params.stop_cv = 5e-4\n",
    "data_gen_params.gt_alp = np.array([-0.64, -1, 2])"
   ]
  },
  {
   "cell_type": "code",
   "execution_count": 34,
   "id": "506c46a1-0497-4491-bf75-fb97a632f342",
   "metadata": {
    "execution": {
     "iopub.execute_input": "2024-02-09T19:20:44.267582Z",
     "iopub.status.busy": "2024-02-09T19:20:44.266921Z",
     "iopub.status.idle": "2024-02-09T19:20:49.727762Z",
     "shell.execute_reply": "2024-02-09T19:20:49.727067Z",
     "shell.execute_reply.started": "2024-02-09T19:20:44.267531Z"
    },
    "scrolled": true,
    "tags": []
   },
   "outputs": [
    {
     "name": "stderr",
     "output_type": "stream",
     "text": [
      "n: 100: 100%|██████████████████████████████████████████████████████████████████████████████████████████████████████████████████████████████████| 20/20 [00:00<00:00, 42.28it/s]\n",
      "Process LokyProcess-13:\n",
      "Process LokyProcess-10:\n",
      "Process LokyProcess-3:\n",
      "Traceback (most recent call last):\n",
      "Traceback (most recent call last):\n",
      "Traceback (most recent call last):\n",
      "  File \"/opt/conda/lib/python3.9/site-packages/joblib/_parallel_backends.py\", line 620, in __call__\n",
      "    return self.func(*args, **kwargs)\n",
      "  File \"/opt/conda/lib/python3.9/site-packages/joblib/_parallel_backends.py\", line 620, in __call__\n",
      "    return self.func(*args, **kwargs)\n",
      "  File \"/opt/conda/lib/python3.9/site-packages/joblib/parallel.py\", line 288, in __call__\n",
      "    return [func(*args, **kwargs)\n",
      "  File \"/opt/conda/lib/python3.9/site-packages/joblib/parallel.py\", line 288, in __call__\n",
      "    return [func(*args, **kwargs)\n",
      "  File \"/opt/conda/lib/python3.9/site-packages/joblib/parallel.py\", line 288, in <listcomp>\n",
      "    return [func(*args, **kwargs)\n",
      "  File \"/opt/conda/lib/python3.9/site-packages/joblib/parallel.py\", line 288, in <listcomp>\n",
      "    return [func(*args, **kwargs)\n",
      "  File \"/tmp/ipykernel_71200/3302602778.py\", line 18, in _run_fn1\n",
      "  File \"/tmp/ipykernel_71200/3302602778.py\", line 18, in _run_fn1\n",
      "  File \"/tmp/ipykernel_71200/2103094344.py\", line 47, in _run_fn\n",
      "  File \"/tmp/ipykernel_71200/2103094344.py\", line 47, in _run_fn\n",
      "  File \"/data/rajlab1/user_data/jin/MyResearch/HDF_infer/notebooks/simu_real/../../mypkg/optimization/opt.py\", line 348, in fit\n",
      "    self.opt_res = self._fit(self.pen_params.lam, self.bsp_params.N, self.X, self.Y, self.Z)\n",
      "  File \"/data/rajlab1/user_data/jin/MyResearch/HDF_infer/notebooks/simu_real/../../mypkg/optimization/opt.py\", line 348, in fit\n",
      "    self.opt_res = self._fit(self.pen_params.lam, self.bsp_params.N, self.X, self.Y, self.Z)\n",
      "  File \"/data/rajlab1/user_data/jin/MyResearch/HDF_infer/notebooks/simu_real/../../mypkg/optimization/opt.py\", line 258, in _fit\n",
      "    opt_res = self._optimization(model=model,  penalty=pen,  inits=[Gam_init, theta_init, rhok_init], is_pbar=is_pbar)\n",
      "  File \"/data/rajlab1/user_data/jin/MyResearch/HDF_infer/notebooks/simu_real/../../mypkg/optimization/opt.py\", line 258, in _fit\n",
      "    opt_res = self._optimization(model=model,  penalty=pen,  inits=[Gam_init, theta_init, rhok_init], is_pbar=is_pbar)\n",
      "  File \"/data/rajlab1/user_data/jin/MyResearch/HDF_infer/notebooks/simu_real/../../mypkg/optimization/opt.py\", line 296, in _optimization\n",
      "    opt()\n",
      "  File \"/data/rajlab1/user_data/jin/MyResearch/HDF_infer/notebooks/simu_real/../../mypkg/optimization/opt.py\", line 296, in _optimization\n",
      "    opt()\n",
      "  File \"/data/rajlab1/user_data/jin/MyResearch/HDF_infer/notebooks/simu_real/../../mypkg/optimization/one_step_opt.py\", line 314, in __call__\n",
      "    self._update_theta_BFGS()\n",
      "  File \"/data/rajlab1/user_data/jin/MyResearch/HDF_infer/notebooks/simu_real/../../mypkg/optimization/one_step_opt.py\", line 314, in __call__\n",
      "    self._update_theta_BFGS()\n",
      "  File \"/data/rajlab1/user_data/jin/MyResearch/HDF_infer/notebooks/simu_real/../../mypkg/optimization/one_step_opt.py\", line 265, in _update_theta_BFGS\n",
      "    der1 = _obj_fn_der1(thetal)\n",
      "  File \"/data/rajlab1/user_data/jin/MyResearch/HDF_infer/notebooks/simu_real/../../mypkg/optimization/one_step_opt.py\", line 265, in _update_theta_BFGS\n",
      "    der1 = _obj_fn_der1(thetal)\n",
      "  File \"/data/rajlab1/user_data/jin/MyResearch/HDF_infer/notebooks/simu_real/../../mypkg/optimization/one_step_opt.py\", line 212, in _obj_fn_der1\n",
      "    der1_p1 = -self.model.log_lik_der1(alplk, Gamlk)\n",
      "  File \"/opt/conda/lib/python3.9/site-packages/joblib/_parallel_backends.py\", line 620, in __call__\n",
      "    return self.func(*args, **kwargs)\n",
      "  File \"/data/rajlab1/user_data/jin/MyResearch/HDF_infer/notebooks/simu_real/../../mypkg/optimization/one_step_opt.py\", line 212, in _obj_fn_der1\n",
      "    der1_p1 = -self.model.log_lik_der1(alplk, Gamlk)\n",
      "  File \"/data/rajlab1/user_data/jin/MyResearch/HDF_infer/notebooks/simu_real/../../mypkg/models/logistic_model.py\", line 18, in log_lik_der1\n",
      "    Os = self._obt_lin_tm(alp, Gam) # linear term\n",
      "  File \"/data/rajlab1/user_data/jin/MyResearch/HDF_infer/notebooks/simu_real/../../mypkg/models/logistic_model.py\", line 18, in log_lik_der1\n",
      "    Os = self._obt_lin_tm(alp, Gam) # linear term\n",
      "  File \"/opt/conda/lib/python3.9/site-packages/joblib/parallel.py\", line 288, in __call__\n",
      "    return [func(*args, **kwargs)\n",
      "  File \"/data/rajlab1/user_data/jin/MyResearch/HDF_infer/notebooks/simu_real/../../mypkg/models/base_model.py\", line 36, in _obt_lin_tm\n",
      "    return obt_lin_tm(self.Z, self.X, alp, Gam, self.basis_mat, self.ws)\n",
      "  File \"/data/rajlab1/user_data/jin/MyResearch/HDF_infer/notebooks/simu_real/../../mypkg/models/base_model.py\", line 36, in _obt_lin_tm\n",
      "    return obt_lin_tm(self.Z, self.X, alp, Gam, self.basis_mat, self.ws)\n",
      "  File \"/opt/conda/lib/python3.9/site-packages/joblib/parallel.py\", line 288, in <listcomp>\n",
      "    return [func(*args, **kwargs)\n",
      "  File \"/data/rajlab1/user_data/jin/MyResearch/HDF_infer/notebooks/simu_real/../../mypkg/hdf_utils/likelihood.py\", line 23, in obt_lin_tm\n",
      "    inte_tms = basis_mat.matmul(Gam).T * X\n",
      "  File \"/data/rajlab1/user_data/jin/MyResearch/HDF_infer/notebooks/simu_real/../../mypkg/hdf_utils/likelihood.py\", line 24, in obt_lin_tm\n",
      "    inte_tm = torch.sum(inte_tms.sum(axis=1) *  ws, axis=1)\n",
      "  File \"/tmp/ipykernel_71200/3302602778.py\", line 18, in _run_fn1\n",
      "  File \"/opt/conda/lib/python3.9/site-packages/rpy2/rinterface.py\", line 94, in _sigint_handler\n",
      "    raise KeyboardInterrupt()\n",
      "  File \"/opt/conda/lib/python3.9/site-packages/rpy2/rinterface.py\", line 94, in _sigint_handler\n",
      "    raise KeyboardInterrupt()\n",
      "  File \"/tmp/ipykernel_71200/2103094344.py\", line 47, in _run_fn\n",
      "  File \"/data/rajlab1/user_data/jin/MyResearch/HDF_infer/notebooks/simu_real/../../mypkg/optimization/opt.py\", line 348, in fit\n",
      "    self.opt_res = self._fit(self.pen_params.lam, self.bsp_params.N, self.X, self.Y, self.Z)\n",
      "  File \"/data/rajlab1/user_data/jin/MyResearch/HDF_infer/notebooks/simu_real/../../mypkg/optimization/opt.py\", line 258, in _fit\n",
      "    opt_res = self._optimization(model=model,  penalty=pen,  inits=[Gam_init, theta_init, rhok_init], is_pbar=is_pbar)\n",
      "KeyboardInterrupt\n",
      "KeyboardInterrupt\n",
      "  File \"/data/rajlab1/user_data/jin/MyResearch/HDF_infer/notebooks/simu_real/../../mypkg/optimization/opt.py\", line 296, in _optimization\n",
      "    opt()\n",
      "\n",
      "The above exception was the direct cause of the following exception:\n",
      "\n",
      "\n",
      "The above exception was the direct cause of the following exception:\n",
      "\n",
      "  File \"/data/rajlab1/user_data/jin/MyResearch/HDF_infer/notebooks/simu_real/../../mypkg/optimization/one_step_opt.py\", line 314, in __call__\n",
      "    self._update_theta_BFGS()\n",
      "Traceback (most recent call last):\n",
      "Traceback (most recent call last):\n",
      "  File \"/data/rajlab1/user_data/jin/MyResearch/HDF_infer/notebooks/simu_real/../../mypkg/optimization/one_step_opt.py\", line 265, in _update_theta_BFGS\n",
      "    der1 = _obj_fn_der1(thetal)\n",
      "  File \"/data/rajlab1/user_data/jin/MyResearch/HDF_infer/notebooks/simu_real/../../mypkg/optimization/one_step_opt.py\", line 212, in _obj_fn_der1\n",
      "    der1_p1 = -self.model.log_lik_der1(alplk, Gamlk)\n",
      "  File \"/data/rajlab1/user_data/jin/MyResearch/HDF_infer/notebooks/simu_real/../../mypkg/models/logistic_model.py\", line 18, in log_lik_der1\n",
      "    Os = self._obt_lin_tm(alp, Gam) # linear term\n",
      "  File \"/opt/conda/lib/python3.9/site-packages/joblib/externals/loky/process_executor.py\", line 428, in _process_worker\n",
      "    r = call_item()\n",
      "  File \"/data/rajlab1/user_data/jin/MyResearch/HDF_infer/notebooks/simu_real/../../mypkg/models/base_model.py\", line 36, in _obt_lin_tm\n",
      "    return obt_lin_tm(self.Z, self.X, alp, Gam, self.basis_mat, self.ws)\n",
      "  File \"/opt/conda/lib/python3.9/site-packages/joblib/externals/loky/process_executor.py\", line 428, in _process_worker\n",
      "    r = call_item()\n",
      "  File \"/opt/conda/lib/python3.9/site-packages/joblib/externals/loky/process_executor.py\", line 275, in __call__\n",
      "    return self.fn(*self.args, **self.kwargs)\n",
      "  File \"/data/rajlab1/user_data/jin/MyResearch/HDF_infer/notebooks/simu_real/../../mypkg/hdf_utils/likelihood.py\", line 23, in obt_lin_tm\n",
      "    inte_tms = basis_mat.matmul(Gam).T * X\n",
      "  File \"/opt/conda/lib/python3.9/site-packages/joblib/externals/loky/process_executor.py\", line 275, in __call__\n",
      "    return self.fn(*self.args, **self.kwargs)\n",
      "  File \"/opt/conda/lib/python3.9/site-packages/joblib/_parallel_backends.py\", line 625, in __call__\n",
      "    raise WorkerInterrupt() from e\n",
      "  File \"/opt/conda/lib/python3.9/site-packages/rpy2/rinterface.py\", line 94, in _sigint_handler\n",
      "    raise KeyboardInterrupt()\n",
      "  File \"/opt/conda/lib/python3.9/site-packages/joblib/_parallel_backends.py\", line 625, in __call__\n",
      "    raise WorkerInterrupt() from e\n",
      "joblib.my_exceptions.WorkerInterrupt\n",
      "joblib.my_exceptions.WorkerInterrupt\n",
      "KeyboardInterrupt\n",
      "\n",
      "During handling of the above exception, another exception occurred:\n",
      "\n",
      "\n",
      "During handling of the above exception, another exception occurred:\n",
      "\n",
      "Traceback (most recent call last):\n",
      "\n",
      "The above exception was the direct cause of the following exception:\n",
      "\n",
      "Traceback (most recent call last):\n",
      "Traceback (most recent call last):\n",
      "  File \"/opt/conda/lib/python3.9/multiprocessing/process.py\", line 315, in _bootstrap\n",
      "    self.run()\n",
      "  File \"/opt/conda/lib/python3.9/site-packages/joblib/externals/loky/process_executor.py\", line 428, in _process_worker\n",
      "    r = call_item()\n",
      "  File \"/opt/conda/lib/python3.9/multiprocessing/process.py\", line 315, in _bootstrap\n",
      "    self.run()\n",
      "  File \"/opt/conda/lib/python3.9/multiprocessing/process.py\", line 108, in run\n",
      "    self._target(*self._args, **self._kwargs)\n",
      "  File \"/opt/conda/lib/python3.9/site-packages/joblib/externals/loky/process_executor.py\", line 275, in __call__\n",
      "    return self.fn(*self.args, **self.kwargs)\n",
      "  File \"/opt/conda/lib/python3.9/multiprocessing/process.py\", line 108, in run\n",
      "    self._target(*self._args, **self._kwargs)\n",
      "  File \"/opt/conda/lib/python3.9/site-packages/joblib/externals/loky/process_executor.py\", line 431, in _process_worker\n",
      "    result_queue.put(_ResultItem(call_item.work_id, exception=exc))\n",
      "  File \"/opt/conda/lib/python3.9/site-packages/joblib/_parallel_backends.py\", line 625, in __call__\n",
      "    raise WorkerInterrupt() from e\n",
      "  File \"/opt/conda/lib/python3.9/site-packages/joblib/externals/loky/process_executor.py\", line 431, in _process_worker\n",
      "    result_queue.put(_ResultItem(call_item.work_id, exception=exc))\n",
      "  File \"/opt/conda/lib/python3.9/site-packages/joblib/externals/loky/backend/queues.py\", line 191, in put\n",
      "    with self._wlock:\n",
      "  File \"/opt/conda/lib/python3.9/site-packages/joblib/externals/loky/backend/queues.py\", line 191, in put\n",
      "    with self._wlock:\n",
      "  File \"/opt/conda/lib/python3.9/site-packages/joblib/externals/loky/backend/synchronize.py\", line 112, in __enter__\n",
      "    return self._semlock.acquire()\n",
      "joblib.my_exceptions.WorkerInterrupt\n",
      "  File \"/opt/conda/lib/python3.9/site-packages/joblib/externals/loky/backend/synchronize.py\", line 112, in __enter__\n",
      "    return self._semlock.acquire()\n",
      "  File \"/opt/conda/lib/python3.9/site-packages/rpy2/rinterface.py\", line 94, in _sigint_handler\n",
      "    raise KeyboardInterrupt()\n",
      "  File \"/opt/conda/lib/python3.9/site-packages/rpy2/rinterface.py\", line 94, in _sigint_handler\n",
      "    raise KeyboardInterrupt()\n",
      "\n",
      "During handling of the above exception, another exception occurred:\n",
      "\n",
      "Traceback (most recent call last):\n",
      "KeyboardInterrupt\n",
      "KeyboardInterrupt\n",
      "  File \"/opt/conda/lib/python3.9/multiprocessing/process.py\", line 315, in _bootstrap\n",
      "    self.run()\n",
      "  File \"/opt/conda/lib/python3.9/multiprocessing/process.py\", line 108, in run\n",
      "    self._target(*self._args, **self._kwargs)\n",
      "  File \"/opt/conda/lib/python3.9/site-packages/joblib/externals/loky/process_executor.py\", line 431, in _process_worker\n",
      "    result_queue.put(_ResultItem(call_item.work_id, exception=exc))\n",
      "  File \"/opt/conda/lib/python3.9/site-packages/joblib/externals/loky/backend/queues.py\", line 191, in put\n",
      "    with self._wlock:\n",
      "  File \"/opt/conda/lib/python3.9/site-packages/joblib/externals/loky/backend/synchronize.py\", line 112, in __enter__\n",
      "    return self._semlock.acquire()\n",
      "  File \"/opt/conda/lib/python3.9/site-packages/rpy2/rinterface.py\", line 94, in _sigint_handler\n",
      "    raise KeyboardInterrupt()\n",
      "KeyboardInterrupt\n"
     ]
    },
    {
     "ename": "KeyboardInterrupt",
     "evalue": "",
     "output_type": "error",
     "traceback": [
      "\u001b[0;31m---------------------------------------------------------------------------\u001b[0m",
      "\u001b[0;31mKeyboardInterrupt\u001b[0m                         Traceback (most recent call last)",
      "\u001b[0;32m/opt/conda/lib/python3.9/site-packages/joblib/parallel.py\u001b[0m in \u001b[0;36mretrieve\u001b[0;34m(self)\u001b[0m\n\u001b[1;32m    974\u001b[0m                 \u001b[0;32mif\u001b[0m \u001b[0mgetattr\u001b[0m\u001b[0;34m(\u001b[0m\u001b[0mself\u001b[0m\u001b[0;34m.\u001b[0m\u001b[0m_backend\u001b[0m\u001b[0;34m,\u001b[0m \u001b[0;34m'supports_timeout'\u001b[0m\u001b[0;34m,\u001b[0m \u001b[0;32mFalse\u001b[0m\u001b[0;34m)\u001b[0m\u001b[0;34m:\u001b[0m\u001b[0;34m\u001b[0m\u001b[0;34m\u001b[0m\u001b[0m\n\u001b[0;32m--> 975\u001b[0;31m                     \u001b[0mself\u001b[0m\u001b[0;34m.\u001b[0m\u001b[0m_output\u001b[0m\u001b[0;34m.\u001b[0m\u001b[0mextend\u001b[0m\u001b[0;34m(\u001b[0m\u001b[0mjob\u001b[0m\u001b[0;34m.\u001b[0m\u001b[0mget\u001b[0m\u001b[0;34m(\u001b[0m\u001b[0mtimeout\u001b[0m\u001b[0;34m=\u001b[0m\u001b[0mself\u001b[0m\u001b[0;34m.\u001b[0m\u001b[0mtimeout\u001b[0m\u001b[0;34m)\u001b[0m\u001b[0;34m)\u001b[0m\u001b[0;34m\u001b[0m\u001b[0;34m\u001b[0m\u001b[0m\n\u001b[0m\u001b[1;32m    976\u001b[0m                 \u001b[0;32melse\u001b[0m\u001b[0;34m:\u001b[0m\u001b[0;34m\u001b[0m\u001b[0;34m\u001b[0m\u001b[0m\n",
      "\u001b[0;32m/opt/conda/lib/python3.9/site-packages/joblib/_parallel_backends.py\u001b[0m in \u001b[0;36mwrap_future_result\u001b[0;34m(future, timeout)\u001b[0m\n\u001b[1;32m    566\u001b[0m         \u001b[0;32mtry\u001b[0m\u001b[0;34m:\u001b[0m\u001b[0;34m\u001b[0m\u001b[0;34m\u001b[0m\u001b[0m\n\u001b[0;32m--> 567\u001b[0;31m             \u001b[0;32mreturn\u001b[0m \u001b[0mfuture\u001b[0m\u001b[0;34m.\u001b[0m\u001b[0mresult\u001b[0m\u001b[0;34m(\u001b[0m\u001b[0mtimeout\u001b[0m\u001b[0;34m=\u001b[0m\u001b[0mtimeout\u001b[0m\u001b[0;34m)\u001b[0m\u001b[0;34m\u001b[0m\u001b[0;34m\u001b[0m\u001b[0m\n\u001b[0m\u001b[1;32m    568\u001b[0m         \u001b[0;32mexcept\u001b[0m \u001b[0mCfTimeoutError\u001b[0m \u001b[0;32mas\u001b[0m \u001b[0me\u001b[0m\u001b[0;34m:\u001b[0m\u001b[0;34m\u001b[0m\u001b[0;34m\u001b[0m\u001b[0m\n",
      "\u001b[0;32m/opt/conda/lib/python3.9/concurrent/futures/_base.py\u001b[0m in \u001b[0;36mresult\u001b[0;34m(self, timeout)\u001b[0m\n\u001b[1;32m    439\u001b[0m \u001b[0;34m\u001b[0m\u001b[0m\n\u001b[0;32m--> 440\u001b[0;31m                 \u001b[0mself\u001b[0m\u001b[0;34m.\u001b[0m\u001b[0m_condition\u001b[0m\u001b[0;34m.\u001b[0m\u001b[0mwait\u001b[0m\u001b[0;34m(\u001b[0m\u001b[0mtimeout\u001b[0m\u001b[0;34m)\u001b[0m\u001b[0;34m\u001b[0m\u001b[0;34m\u001b[0m\u001b[0m\n\u001b[0m\u001b[1;32m    441\u001b[0m \u001b[0;34m\u001b[0m\u001b[0m\n",
      "\u001b[0;32m/opt/conda/lib/python3.9/threading.py\u001b[0m in \u001b[0;36mwait\u001b[0;34m(self, timeout)\u001b[0m\n\u001b[1;32m    311\u001b[0m             \u001b[0;32mif\u001b[0m \u001b[0mtimeout\u001b[0m \u001b[0;32mis\u001b[0m \u001b[0;32mNone\u001b[0m\u001b[0;34m:\u001b[0m\u001b[0;34m\u001b[0m\u001b[0;34m\u001b[0m\u001b[0m\n\u001b[0;32m--> 312\u001b[0;31m                 \u001b[0mwaiter\u001b[0m\u001b[0;34m.\u001b[0m\u001b[0macquire\u001b[0m\u001b[0;34m(\u001b[0m\u001b[0;34m)\u001b[0m\u001b[0;34m\u001b[0m\u001b[0;34m\u001b[0m\u001b[0m\n\u001b[0m\u001b[1;32m    313\u001b[0m                 \u001b[0mgotit\u001b[0m \u001b[0;34m=\u001b[0m \u001b[0;32mTrue\u001b[0m\u001b[0;34m\u001b[0m\u001b[0;34m\u001b[0m\u001b[0m\n",
      "\u001b[0;31mKeyboardInterrupt\u001b[0m: ",
      "\nDuring handling of the above exception, another exception occurred:\n",
      "\u001b[0;31mKeyboardInterrupt\u001b[0m                         Traceback (most recent call last)",
      "\u001b[0;32m/tmp/ipykernel_71200/3302602778.py\u001b[0m in \u001b[0;36m<module>\u001b[0;34m\u001b[0m\n\u001b[1;32m     23\u001b[0m \u001b[0;32mfor\u001b[0m \u001b[0mn\u001b[0m \u001b[0;32min\u001b[0m \u001b[0mns\u001b[0m\u001b[0;34m:\u001b[0m\u001b[0;34m\u001b[0m\u001b[0;34m\u001b[0m\u001b[0m\n\u001b[1;32m     24\u001b[0m     \u001b[0;32mwith\u001b[0m \u001b[0mParallel\u001b[0m\u001b[0;34m(\u001b[0m\u001b[0mn_jobs\u001b[0m\u001b[0;34m=\u001b[0m\u001b[0;36m20\u001b[0m\u001b[0;34m)\u001b[0m \u001b[0;32mas\u001b[0m \u001b[0mparallel\u001b[0m\u001b[0;34m:\u001b[0m\u001b[0;34m\u001b[0m\u001b[0;34m\u001b[0m\u001b[0m\n\u001b[0;32m---> 25\u001b[0;31m         \u001b[0mtest_ress\u001b[0m \u001b[0;34m=\u001b[0m \u001b[0mparallel\u001b[0m\u001b[0;34m(\u001b[0m\u001b[0mdelayed\u001b[0m\u001b[0;34m(\u001b[0m\u001b[0m_run_fn1\u001b[0m\u001b[0;34m)\u001b[0m\u001b[0;34m(\u001b[0m\u001b[0mseed\u001b[0m\u001b[0;34m,\u001b[0m \u001b[0mn\u001b[0m\u001b[0;34m=\u001b[0m\u001b[0mn\u001b[0m\u001b[0;34m)\u001b[0m \u001b[0;32mfor\u001b[0m \u001b[0mseed\u001b[0m \u001b[0;32min\u001b[0m \u001b[0mtqdm\u001b[0m\u001b[0;34m(\u001b[0m\u001b[0mrange\u001b[0m\u001b[0;34m(\u001b[0m\u001b[0mnum_rep\u001b[0m\u001b[0;34m)\u001b[0m\u001b[0;34m,\u001b[0m \u001b[0mtotal\u001b[0m\u001b[0;34m=\u001b[0m\u001b[0mnum_rep\u001b[0m\u001b[0;34m,\u001b[0m \u001b[0mdesc\u001b[0m\u001b[0;34m=\u001b[0m\u001b[0;34mf\"n: {n}\"\u001b[0m\u001b[0;34m)\u001b[0m\u001b[0;34m)\u001b[0m\u001b[0;34m\u001b[0m\u001b[0;34m\u001b[0m\u001b[0m\n\u001b[0m\u001b[1;32m     26\u001b[0m     \u001b[0mest_alps\u001b[0m\u001b[0;34m.\u001b[0m\u001b[0mappend\u001b[0m\u001b[0;34m(\u001b[0m\u001b[0;34m[\u001b[0m\u001b[0mres\u001b[0m\u001b[0;34m.\u001b[0m\u001b[0mest_alp\u001b[0m\u001b[0;34m.\u001b[0m\u001b[0mnumpy\u001b[0m\u001b[0;34m(\u001b[0m\u001b[0;34m)\u001b[0m \u001b[0;32mfor\u001b[0m \u001b[0mres\u001b[0m \u001b[0;32min\u001b[0m \u001b[0mtest_ress\u001b[0m\u001b[0;34m]\u001b[0m\u001b[0;34m)\u001b[0m\u001b[0;34m\u001b[0m\u001b[0;34m\u001b[0m\u001b[0m\n\u001b[1;32m     27\u001b[0m \u001b[0;34m\u001b[0m\u001b[0m\n",
      "\u001b[0;32m/opt/conda/lib/python3.9/site-packages/joblib/parallel.py\u001b[0m in \u001b[0;36m__call__\u001b[0;34m(self, iterable)\u001b[0m\n\u001b[1;32m   1096\u001b[0m \u001b[0;34m\u001b[0m\u001b[0m\n\u001b[1;32m   1097\u001b[0m             \u001b[0;32mwith\u001b[0m \u001b[0mself\u001b[0m\u001b[0;34m.\u001b[0m\u001b[0m_backend\u001b[0m\u001b[0;34m.\u001b[0m\u001b[0mretrieval_context\u001b[0m\u001b[0;34m(\u001b[0m\u001b[0;34m)\u001b[0m\u001b[0;34m:\u001b[0m\u001b[0;34m\u001b[0m\u001b[0;34m\u001b[0m\u001b[0m\n\u001b[0;32m-> 1098\u001b[0;31m                 \u001b[0mself\u001b[0m\u001b[0;34m.\u001b[0m\u001b[0mretrieve\u001b[0m\u001b[0;34m(\u001b[0m\u001b[0;34m)\u001b[0m\u001b[0;34m\u001b[0m\u001b[0;34m\u001b[0m\u001b[0m\n\u001b[0m\u001b[1;32m   1099\u001b[0m             \u001b[0;31m# Make sure that we get a last message telling us we are done\u001b[0m\u001b[0;34m\u001b[0m\u001b[0;34m\u001b[0m\u001b[0m\n\u001b[1;32m   1100\u001b[0m             \u001b[0melapsed_time\u001b[0m \u001b[0;34m=\u001b[0m \u001b[0mtime\u001b[0m\u001b[0;34m.\u001b[0m\u001b[0mtime\u001b[0m\u001b[0;34m(\u001b[0m\u001b[0;34m)\u001b[0m \u001b[0;34m-\u001b[0m \u001b[0mself\u001b[0m\u001b[0;34m.\u001b[0m\u001b[0m_start_time\u001b[0m\u001b[0;34m\u001b[0m\u001b[0;34m\u001b[0m\u001b[0m\n",
      "\u001b[0;32m/opt/conda/lib/python3.9/site-packages/joblib/parallel.py\u001b[0m in \u001b[0;36mretrieve\u001b[0;34m(self)\u001b[0m\n\u001b[1;32m    995\u001b[0m                     \u001b[0;31m# scheduling.\u001b[0m\u001b[0;34m\u001b[0m\u001b[0;34m\u001b[0m\u001b[0m\n\u001b[1;32m    996\u001b[0m                     \u001b[0mensure_ready\u001b[0m \u001b[0;34m=\u001b[0m \u001b[0mself\u001b[0m\u001b[0;34m.\u001b[0m\u001b[0m_managed_backend\u001b[0m\u001b[0;34m\u001b[0m\u001b[0;34m\u001b[0m\u001b[0m\n\u001b[0;32m--> 997\u001b[0;31m                     \u001b[0mbackend\u001b[0m\u001b[0;34m.\u001b[0m\u001b[0mabort_everything\u001b[0m\u001b[0;34m(\u001b[0m\u001b[0mensure_ready\u001b[0m\u001b[0;34m=\u001b[0m\u001b[0mensure_ready\u001b[0m\u001b[0;34m)\u001b[0m\u001b[0;34m\u001b[0m\u001b[0;34m\u001b[0m\u001b[0m\n\u001b[0m\u001b[1;32m    998\u001b[0m                 \u001b[0;32mraise\u001b[0m\u001b[0;34m\u001b[0m\u001b[0;34m\u001b[0m\u001b[0m\n\u001b[1;32m    999\u001b[0m \u001b[0;34m\u001b[0m\u001b[0m\n",
      "\u001b[0;32m/opt/conda/lib/python3.9/site-packages/joblib/_parallel_backends.py\u001b[0m in \u001b[0;36mabort_everything\u001b[0;34m(self, ensure_ready)\u001b[0m\n\u001b[1;32m    584\u001b[0m         \"\"\"Shutdown the workers and restart a new one with the same parameters\n\u001b[1;32m    585\u001b[0m         \"\"\"\n\u001b[0;32m--> 586\u001b[0;31m         \u001b[0mself\u001b[0m\u001b[0;34m.\u001b[0m\u001b[0m_workers\u001b[0m\u001b[0;34m.\u001b[0m\u001b[0mterminate\u001b[0m\u001b[0;34m(\u001b[0m\u001b[0mkill_workers\u001b[0m\u001b[0;34m=\u001b[0m\u001b[0;32mTrue\u001b[0m\u001b[0;34m)\u001b[0m\u001b[0;34m\u001b[0m\u001b[0;34m\u001b[0m\u001b[0m\n\u001b[0m\u001b[1;32m    587\u001b[0m         \u001b[0mself\u001b[0m\u001b[0;34m.\u001b[0m\u001b[0m_workers\u001b[0m \u001b[0;34m=\u001b[0m \u001b[0;32mNone\u001b[0m\u001b[0;34m\u001b[0m\u001b[0;34m\u001b[0m\u001b[0m\n\u001b[1;32m    588\u001b[0m \u001b[0;34m\u001b[0m\u001b[0m\n",
      "\u001b[0;32m/opt/conda/lib/python3.9/site-packages/joblib/executor.py\u001b[0m in \u001b[0;36mterminate\u001b[0;34m(self, kill_workers)\u001b[0m\n\u001b[1;32m     72\u001b[0m \u001b[0;34m\u001b[0m\u001b[0m\n\u001b[1;32m     73\u001b[0m     \u001b[0;32mdef\u001b[0m \u001b[0mterminate\u001b[0m\u001b[0;34m(\u001b[0m\u001b[0mself\u001b[0m\u001b[0;34m,\u001b[0m \u001b[0mkill_workers\u001b[0m\u001b[0;34m=\u001b[0m\u001b[0;32mFalse\u001b[0m\u001b[0;34m)\u001b[0m\u001b[0;34m:\u001b[0m\u001b[0;34m\u001b[0m\u001b[0;34m\u001b[0m\u001b[0m\n\u001b[0;32m---> 74\u001b[0;31m         \u001b[0mself\u001b[0m\u001b[0;34m.\u001b[0m\u001b[0mshutdown\u001b[0m\u001b[0;34m(\u001b[0m\u001b[0mkill_workers\u001b[0m\u001b[0;34m=\u001b[0m\u001b[0mkill_workers\u001b[0m\u001b[0;34m)\u001b[0m\u001b[0;34m\u001b[0m\u001b[0;34m\u001b[0m\u001b[0m\n\u001b[0m\u001b[1;32m     75\u001b[0m         \u001b[0;32mif\u001b[0m \u001b[0mkill_workers\u001b[0m\u001b[0;34m:\u001b[0m\u001b[0;34m\u001b[0m\u001b[0;34m\u001b[0m\u001b[0m\n\u001b[1;32m     76\u001b[0m             \u001b[0;31m# When workers are killed in such a brutal manner, they cannot\u001b[0m\u001b[0;34m\u001b[0m\u001b[0;34m\u001b[0m\u001b[0m\n",
      "\u001b[0;32m/opt/conda/lib/python3.9/site-packages/joblib/externals/loky/process_executor.py\u001b[0m in \u001b[0;36mshutdown\u001b[0;34m(self, wait, kill_workers)\u001b[0m\n\u001b[1;32m   1197\u001b[0m \u001b[0;34m\u001b[0m\u001b[0m\n\u001b[1;32m   1198\u001b[0m         \u001b[0;32mif\u001b[0m \u001b[0mexecutor_manager_thread\u001b[0m \u001b[0;32mis\u001b[0m \u001b[0;32mnot\u001b[0m \u001b[0;32mNone\u001b[0m \u001b[0;32mand\u001b[0m \u001b[0mwait\u001b[0m\u001b[0;34m:\u001b[0m\u001b[0;34m\u001b[0m\u001b[0;34m\u001b[0m\u001b[0m\n\u001b[0;32m-> 1199\u001b[0;31m             \u001b[0mexecutor_manager_thread\u001b[0m\u001b[0;34m.\u001b[0m\u001b[0mjoin\u001b[0m\u001b[0;34m(\u001b[0m\u001b[0;34m)\u001b[0m\u001b[0;34m\u001b[0m\u001b[0;34m\u001b[0m\u001b[0m\n\u001b[0m\u001b[1;32m   1200\u001b[0m \u001b[0;34m\u001b[0m\u001b[0m\n\u001b[1;32m   1201\u001b[0m         \u001b[0;31m# To reduce the risk of opening too many files, remove references to\u001b[0m\u001b[0;34m\u001b[0m\u001b[0;34m\u001b[0m\u001b[0m\n",
      "\u001b[0;32m/opt/conda/lib/python3.9/threading.py\u001b[0m in \u001b[0;36mjoin\u001b[0;34m(self, timeout)\u001b[0m\n\u001b[1;32m   1051\u001b[0m \u001b[0;34m\u001b[0m\u001b[0m\n\u001b[1;32m   1052\u001b[0m         \u001b[0;32mif\u001b[0m \u001b[0mtimeout\u001b[0m \u001b[0;32mis\u001b[0m \u001b[0;32mNone\u001b[0m\u001b[0;34m:\u001b[0m\u001b[0;34m\u001b[0m\u001b[0;34m\u001b[0m\u001b[0m\n\u001b[0;32m-> 1053\u001b[0;31m             \u001b[0mself\u001b[0m\u001b[0;34m.\u001b[0m\u001b[0m_wait_for_tstate_lock\u001b[0m\u001b[0;34m(\u001b[0m\u001b[0;34m)\u001b[0m\u001b[0;34m\u001b[0m\u001b[0;34m\u001b[0m\u001b[0m\n\u001b[0m\u001b[1;32m   1054\u001b[0m         \u001b[0;32melse\u001b[0m\u001b[0;34m:\u001b[0m\u001b[0;34m\u001b[0m\u001b[0;34m\u001b[0m\u001b[0m\n\u001b[1;32m   1055\u001b[0m             \u001b[0;31m# the behavior of a negative timeout isn't documented, but\u001b[0m\u001b[0;34m\u001b[0m\u001b[0;34m\u001b[0m\u001b[0m\n",
      "\u001b[0;32m/opt/conda/lib/python3.9/threading.py\u001b[0m in \u001b[0;36m_wait_for_tstate_lock\u001b[0;34m(self, block, timeout)\u001b[0m\n\u001b[1;32m   1067\u001b[0m         \u001b[0;32mif\u001b[0m \u001b[0mlock\u001b[0m \u001b[0;32mis\u001b[0m \u001b[0;32mNone\u001b[0m\u001b[0;34m:\u001b[0m  \u001b[0;31m# already determined that the C code is done\u001b[0m\u001b[0;34m\u001b[0m\u001b[0;34m\u001b[0m\u001b[0m\n\u001b[1;32m   1068\u001b[0m             \u001b[0;32massert\u001b[0m \u001b[0mself\u001b[0m\u001b[0;34m.\u001b[0m\u001b[0m_is_stopped\u001b[0m\u001b[0;34m\u001b[0m\u001b[0;34m\u001b[0m\u001b[0m\n\u001b[0;32m-> 1069\u001b[0;31m         \u001b[0;32melif\u001b[0m \u001b[0mlock\u001b[0m\u001b[0;34m.\u001b[0m\u001b[0macquire\u001b[0m\u001b[0;34m(\u001b[0m\u001b[0mblock\u001b[0m\u001b[0;34m,\u001b[0m \u001b[0mtimeout\u001b[0m\u001b[0;34m)\u001b[0m\u001b[0;34m:\u001b[0m\u001b[0;34m\u001b[0m\u001b[0;34m\u001b[0m\u001b[0m\n\u001b[0m\u001b[1;32m   1070\u001b[0m             \u001b[0mlock\u001b[0m\u001b[0;34m.\u001b[0m\u001b[0mrelease\u001b[0m\u001b[0;34m(\u001b[0m\u001b[0;34m)\u001b[0m\u001b[0;34m\u001b[0m\u001b[0;34m\u001b[0m\u001b[0m\n\u001b[1;32m   1071\u001b[0m             \u001b[0mself\u001b[0m\u001b[0;34m.\u001b[0m\u001b[0m_stop\u001b[0m\u001b[0;34m(\u001b[0m\u001b[0;34m)\u001b[0m\u001b[0;34m\u001b[0m\u001b[0;34m\u001b[0m\u001b[0m\n",
      "\u001b[0;31mKeyboardInterrupt\u001b[0m: "
     ]
    }
   ],
   "source": [
    "_err_fn = lambda est_alp: np.linalg.norm(setting.data_gen_params.gt_alp0 - est_alp[1:])\n",
    "ns = [100, 200, 400, 800, 1600, 3200]\n",
    "N = 6\n",
    "lam = 0.1\n",
    "num_rep = 20\n",
    "\n",
    "def _run_fn1(seed, n):\n",
    "    torch.set_default_dtype(torch.double)\n",
    "    obt_bsp = obt_bsp_obasis_Rfn\n",
    "    basis_mat = torch.tensor(obt_bsp(np.linspace(0, 1, data_gen_params.npts), N, 4)).to(torch.get_default_dtype())\n",
    "    Gam_init = torch.tensor(np.linalg.inv(basis_mat.numpy().T  \n",
    "                                          @ basis_mat.numpy())  \n",
    "                            @ basis_mat.numpy().T  \n",
    "                            @ data_gen_params.gt_beta)\n",
    "    alp_init = torch.tensor(data_gen_params.gt_alp)\n",
    "    rhok_init = torch.zeros(N*data_gen_params.d);\n",
    "    inits = [Gam_init, alp_init, rhok_init];\n",
    "    res = _run_fn(seed=seed, lam=lam, N=N, n=n, setting=setting, inits=None, is_cv=False, verbose=1)\n",
    "    return res\n",
    "    \n",
    "    \n",
    "est_alps = []\n",
    "for n in ns:\n",
    "    with Parallel(n_jobs=20) as parallel:\n",
    "        test_ress = parallel(delayed(_run_fn1)(seed, n=n) for seed in tqdm(range(num_rep), total=num_rep, desc=f\"n: {n}\"))\n",
    "    est_alps.append([res.est_alp.numpy() for res in test_ress])\n",
    "    "
   ]
  },
  {
   "cell_type": "code",
   "execution_count": 32,
   "id": "ebf2d19c-6205-4262-857f-b48f5bbbab35",
   "metadata": {
    "execution": {
     "iopub.execute_input": "2024-02-09T19:17:46.429965Z",
     "iopub.status.busy": "2024-02-09T19:17:46.429270Z",
     "iopub.status.idle": "2024-02-09T19:17:46.813273Z",
     "shell.execute_reply": "2024-02-09T19:17:46.812835Z",
     "shell.execute_reply.started": "2024-02-09T19:17:46.429890Z"
    },
    "tags": []
   },
   "outputs": [
    {
     "data": {
      "image/png": "[encoded data removed]",
      "text/plain": [
       "<Figure size 432x288 with 1 Axes>"
      ]
     },
     "metadata": {
      "needs_background": "light"
     },
     "output_type": "display_data"
    }
   ],
   "source": [
    "alp_ix = 1\n",
    "foos = np.array(est_alps)[:, :, alp_ix].mean(axis=1)\n",
    "bd = 1.96*np.array(est_alps)[:, :, alp_ix].std(axis=1)/np.sqrt(num_rep)\n",
    "plt.plot(ns, foos)\n",
    "plt.plot(ns, foos+bd, \"y--\")\n",
    "plt.plot(ns, foos-bd, \"y--\")\n",
    "plt.axhline(y=data_gen_params.gt_alp[alp_ix], color=\"red\");\n",
    "plt.xscale(\"log\")"
   ]
  },
  {
   "cell_type": "code",
   "execution_count": 33,
   "id": "48e5154d-d339-4145-9469-9c17129189d9",
   "metadata": {
    "execution": {
     "iopub.execute_input": "2024-02-09T19:17:57.718007Z",
     "iopub.status.busy": "2024-02-09T19:17:57.717354Z",
     "iopub.status.idle": "2024-02-09T19:17:57.941865Z",
     "shell.execute_reply": "2024-02-09T19:17:57.941433Z",
     "shell.execute_reply.started": "2024-02-09T19:17:57.717955Z"
    },
    "tags": []
   },
   "outputs": [
    {
     "data": {
      "image/png": "[encoded data removed]",
      "text/plain": [
       "<Figure size 432x288 with 1 Axes>"
      ]
     },
     "metadata": {
      "needs_background": "light"
     },
     "output_type": "display_data"
    }
   ],
   "source": [
    "alp_ix = 2\n",
    "foos = np.array(est_alps)[:, :, alp_ix].mean(axis=1)\n",
    "bd = 1.96*np.array(est_alps)[:, :, alp_ix].std(axis=1)/np.sqrt(num_rep)\n",
    "plt.plot(ns, foos)\n",
    "plt.plot(ns, foos+bd, \"y--\")\n",
    "plt.plot(ns, foos-bd, \"y--\")\n",
    "plt.axhline(y=data_gen_params.gt_alp[alp_ix], color=\"red\");\n",
    "plt.xscale(\"log\")"
   ]
  },
  {
   "cell_type": "code",
   "execution_count": null,
   "id": "50f63989-b170-4e7a-a648-51735fae5304",
   "metadata": {},
   "outputs": [],
   "source": []
  }
 ],
 "metadata": {
  "kernelspec": {
   "display_name": "Python 3 (ipykernel)",
   "language": "python",
   "name": "python3"
  },
  "language_info": {
   "codemirror_mode": {
    "name": "ipython",
    "version": 3
   },
   "file_extension": ".py",
   "mimetype": "text/x-python",
   "name": "python",
   "nbconvert_exporter": "python",
   "pygments_lexer": "ipython3",
   "version": "3.9.7"
  },
  "toc": {
   "base_numbering": 1,
   "nav_menu": {},
   "number_sections": true,
   "sideBar": true,
   "skip_h1_title": false,
   "title_cell": "Table of Contents",
   "title_sidebar": "Contents",
   "toc_cell": false,
   "toc_position": {
    "height": "calc(100% - 180px)",
    "left": "10px",
    "top": "150px",
    "width": "165px"
   },
   "toc_section_display": true,
   "toc_window_display": true
  },
  "toc-autonumbering": true,
  "toc-showcode": false,
  "toc-showmarkdowntxt": false,
  "toc-showtags": false
 },
 "nbformat": 4,
 "nbformat_minor": 5
}
