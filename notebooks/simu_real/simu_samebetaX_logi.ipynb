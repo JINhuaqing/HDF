{
 "cells": [
  {
   "cell_type": "markdown",
   "id": "faf0a805",
   "metadata": {},
   "source": [
    "This file contains python code to compare with sinica paper\n",
    "\n",
    "It is under the linear setting\n",
    "\n",
    "Now, I use the same X and beta from the paper (on Sep 4, 2023)"
   ]
  },
  {
   "cell_type": "code",
   "execution_count": 1,
   "id": "02ae980e",
   "metadata": {
    "ExecuteTime": {
     "end_time": "2023-05-31T19:57:23.490285Z",
     "start_time": "2023-05-31T19:57:23.481769Z"
    },
    "execution": {
     "iopub.execute_input": "2023-12-04T20:55:37.896028Z",
     "iopub.status.busy": "2023-12-04T20:55:37.894690Z",
     "iopub.status.idle": "2023-12-04T20:55:37.910000Z",
     "shell.execute_reply": "2023-12-04T20:55:37.908749Z",
     "shell.execute_reply.started": "2023-12-04T20:55:37.895978Z"
    },
    "tags": []
   },
   "outputs": [],
   "source": [
    "import sys\n",
    "sys.path.append(\"../../mypkg\")"
   ]
  },
  {
   "cell_type": "code",
   "execution_count": 2,
   "id": "023df78a",
   "metadata": {
    "ExecuteTime": {
     "end_time": "2023-05-31T19:57:34.238839Z",
     "start_time": "2023-05-31T19:57:23.494053Z"
    },
    "execution": {
     "iopub.execute_input": "2023-12-04T20:55:38.964063Z",
     "iopub.status.busy": "2023-12-04T20:55:38.963475Z",
     "iopub.status.idle": "2023-12-04T20:55:41.180101Z",
     "shell.execute_reply": "2023-12-04T20:55:41.179123Z",
     "shell.execute_reply.started": "2023-12-04T20:55:38.964020Z"
    },
    "tags": []
   },
   "outputs": [],
   "source": [
    "import numpy as np\n",
    "import torch\n",
    "import matplotlib.pyplot as plt\n",
    "import seaborn as sns\n",
    "from scipy.stats import pearsonr\n",
    "from numbers import Number\n",
    "\n",
    "from easydict import EasyDict as edict\n",
    "from tqdm import trange, tqdm\n",
    "from scipy.io import loadmat\n",
    "from pprint import pprint\n",
    "import itertools\n",
    "from scipy.stats import chi2\n"
   ]
  },
  {
   "cell_type": "code",
   "execution_count": 3,
   "id": "b9d3cbc6-1ac5-47d6-a0d1-bcbc0be9267e",
   "metadata": {
    "execution": {
     "iopub.execute_input": "2023-12-04T20:55:42.678014Z",
     "iopub.status.busy": "2023-12-04T20:55:42.677190Z",
     "iopub.status.idle": "2023-12-04T20:55:42.719121Z",
     "shell.execute_reply": "2023-12-04T20:55:42.718513Z",
     "shell.execute_reply.started": "2023-12-04T20:55:42.677960Z"
    },
    "tags": []
   },
   "outputs": [],
   "source": [
    "# This will reload all imports as soon as the code changes\n",
    "%load_ext autoreload\n",
    "%autoreload 2"
   ]
  },
  {
   "cell_type": "code",
   "execution_count": 4,
   "id": "b0aa91b2",
   "metadata": {
    "ExecuteTime": {
     "end_time": "2023-05-31T19:57:59.558229Z",
     "start_time": "2023-05-31T19:57:34.292612Z"
    },
    "execution": {
     "iopub.execute_input": "2023-12-04T20:55:44.297653Z",
     "iopub.status.busy": "2023-12-04T20:55:44.297044Z",
     "iopub.status.idle": "2023-12-04T20:55:45.494803Z",
     "shell.execute_reply": "2023-12-04T20:55:45.493304Z",
     "shell.execute_reply.started": "2023-12-04T20:55:44.297606Z"
    },
    "tags": []
   },
   "outputs": [],
   "source": [
    "from constants import DATA_ROOT, RES_ROOT, FIG_ROOT, MIDRES_ROOT\n",
    "from default_paras import def_paras\n",
    "\n",
    "from hdf_utils.data_gen import gen_covs, gen_simu_psd, gen_simu_ts\n",
    "from hdf_utils.fns import fn1, fn2, fn3, fn4, fn5, zero_fn\n",
    "from hdf_utils.fns_sinica import coef_fn, fourier_basis_fn, gen_sini_Xthetas\n",
    "from hdf_utils.likelihood import obt_lin_tm\n",
    "from hdf_utils.SIS import SIS_linear, SIS_ballcor\n",
    "from hdf_utils.utils import gen_lam_seq\n",
    "from hdf_utils.hypo_test import  MS2idxs, obt_test_stat_simple2\n",
    "from utils.matrix import col_vec_fn, col_vec2mat_fn, conju_grad, svd_inverse, cholesky_inv\n",
    "from utils.functions import logit_fn\n",
    "from utils.misc import save_pkl, load_pkl, bcross_entropy_loss\n",
    "from splines import obt_bsp_obasis_Rfn, obt_bsp_basis_Rfn_wrapper\n",
    "from projection import euclidean_proj_l1ball\n",
    "from optimization.one_step_opt import OneStepOpt\n",
    "from optimization.cross_validation import CV_err_logi_fn\n",
    "from optimization.opt import optimization\n",
    "from penalties.scad_pen import SCAD\n",
    "from models.logistic_model import LogisticModel\n",
    "from optimization.variable_selection import GIC_fn, GCV_fn\n",
    "\n",
    "from joblib import Parallel, delayed"
   ]
  },
  {
   "cell_type": "code",
   "execution_count": 5,
   "id": "fe0a4a46",
   "metadata": {
    "ExecuteTime": {
     "end_time": "2023-05-31T19:57:59.621784Z",
     "start_time": "2023-05-31T19:57:59.568097Z"
    },
    "execution": {
     "iopub.execute_input": "2023-12-04T20:55:46.210794Z",
     "iopub.status.busy": "2023-12-04T20:55:46.210022Z",
     "iopub.status.idle": "2023-12-04T20:55:46.258602Z",
     "shell.execute_reply": "2023-12-04T20:55:46.257724Z",
     "shell.execute_reply.started": "2023-12-04T20:55:46.210746Z"
    },
    "tags": []
   },
   "outputs": [],
   "source": [
    "plt.style.use(FIG_ROOT/\"base.mplstyle\")\n",
    "torch.set_default_tensor_type(torch.DoubleTensor)"
   ]
  },
  {
   "cell_type": "code",
   "execution_count": null,
   "id": "e0cb5a3d-1ab1-4bc0-bfce-d7ebaedb0391",
   "metadata": {},
   "outputs": [],
   "source": []
  },
  {
   "cell_type": "code",
   "execution_count": null,
   "id": "d0af2f35",
   "metadata": {},
   "outputs": [],
   "source": []
  },
  {
   "cell_type": "markdown",
   "id": "dd9c6514",
   "metadata": {},
   "source": [
    "# Param and fns"
   ]
  },
  {
   "cell_type": "code",
   "execution_count": null,
   "id": "a10d559c-8d6a-428a-bdb9-23c0a5aac96b",
   "metadata": {},
   "outputs": [],
   "source": []
  },
  {
   "cell_type": "markdown",
   "id": "21e4ccea",
   "metadata": {},
   "source": [
    "## Params"
   ]
  },
  {
   "cell_type": "code",
   "execution_count": 6,
   "id": "fd29f0de",
   "metadata": {
    "ExecuteTime": {
     "end_time": "2023-05-31T23:31:16.397628Z",
     "start_time": "2023-05-31T23:31:16.221812Z"
    },
    "execution": {
     "iopub.execute_input": "2023-12-04T20:56:08.515442Z",
     "iopub.status.busy": "2023-12-04T20:56:08.514802Z",
     "iopub.status.idle": "2023-12-04T20:56:08.657461Z",
     "shell.execute_reply": "2023-12-04T20:56:08.656360Z",
     "shell.execute_reply.started": "2023-12-04T20:56:08.515393Z"
    },
    "tags": []
   },
   "outputs": [
    {
     "name": "stderr",
     "output_type": "stream",
     "text": [
      "R[write to console]: \n",
      "Attaching package: ‘orthogonalsplinebasis’\n",
      "\n",
      "\n",
      "R[write to console]: The following object is masked from ‘package:stats’:\n",
      "\n",
      "    integrate\n",
      "\n",
      "\n"
     ]
    },
    {
     "name": "stdout",
     "output_type": "stream",
     "text": [
      "[ 0.          0.          0.          0.          0.          0.\n",
      "  0.          0.          0.          0.          0.          0.\n",
      "  0.          0.          0.          0.          0.          0.\n",
      "  0.          0.          0.          0.          0.          0.\n",
      "  0.          0.          0.          0.          0.          0.\n",
      "  0.          0.          0.          0.          0.          0.\n",
      "  0.          0.          0.          0.          0.          0.\n",
      "  0.          0.          0.          0.          0.          0.\n",
      "  0.          0.          0.          0.          0.          0.\n",
      "  0.          0.          0.          0.          0.          0.\n",
      "  0.          0.          0.          0.          0.          0.\n",
      "  0.          0.          0.          0.          0.          0.\n",
      "  0.          0.          0.          0.          0.          0.\n",
      "  0.          0.          0.          0.          0.          0.\n",
      "  0.          0.          0.          0.          0.          0.\n",
      "  0.          0.          0.          0.          0.          0.\n",
      "  0.          0.          0.         14.87358566]\n"
     ]
    }
   ],
   "source": [
    "np.random.seed(0)\n",
    "obt_bsp = obt_bsp_obasis_Rfn\n",
    "#obt_bsp = obt_bsp_basis_Rfn_wrapper\n",
    "paras = edict(def_paras.copy())\n",
    "\n",
    "\n",
    "\n",
    "# Others\n",
    "paras.num_rep = 200 \n",
    "paras.init_noise_sd = -1 # the sd of the noise added to the true value for initial values, if -1, make init 0\n",
    "paras.SIS_ratio = 0.20 # the ratio to keep with SIS procedure\n",
    "paras.linear_theta_update=\"cholesky_inv\"\n",
    "\n",
    "# candidate sets of tuning parameters, only two \n",
    "# lambda: penalty term\n",
    "# N: num of basis\n",
    "paras.can_lams = [0.01, 0.1, 0.2, 0.3, 0.4, 0.6, 1, 2, 8] # for non\n",
    "paras.can_lams = [0.001, 0.3, 0.6, 0.8, 1, 1.2, 1.4, 2, 16] # for orthogonal basis\n",
    "paras.can_Ns = [4, 6, 8]\n",
    "\n",
    "\n",
    "# generating dataset\n",
    "paras.n = 100 # num of data obs to be genareted\n",
    "paras.npts = 100 # num of pts to evaluate X(s)\n",
    "paras.d = 100 # num of ROIs\n",
    "paras.q = 3 # num of other covariates\n",
    "paras.types_ = [\"int\", \"c\", 2]\n",
    "paras.srho = 0.3 # corr from sinica\n",
    "\n",
    "# b-spline\n",
    "paras.x = np.linspace(0, 1, paras.npts)\n",
    "paras.basis_mats = []\n",
    "for N in paras.can_Ns:\n",
    "    paras.basis_mats.append(\n",
    "        torch.tensor(obt_bsp(paras.x, N, paras.ord)).to(torch.get_default_dtype())\n",
    "    )\n",
    "\n",
    "# True parameters\n",
    "paras.alp_GT = np.array([0, -1, 1])\n",
    "#paras.alp_GT = np.array([-1, -2, 3])\n",
    "# fourier basis\n",
    "cs = [0.0, 0.0, 0.0] # for sinica paper\n",
    "paras.fourier_basis = fourier_basis_fn(paras.x)[:, :]\n",
    "paras.fourier_basis_coefs = ([cs[0]*coef_fn(0.2), cs[1]*coef_fn(0.2), cs[2]*coef_fn(0.2)] + \n",
    "                             [np.zeros(50)] * (paras.d-3-1) +\n",
    "                             [coef_fn(0.2)]\n",
    "                             )\n",
    "paras.fourier_basis_coefs = np.array(paras.fourier_basis_coefs).T \n",
    "paras.beta_GT = paras.fourier_basis @ paras.fourier_basis_coefs\n",
    "print(np.linalg.norm(paras.beta_GT, axis=0))\n",
    "\n",
    "paras.Gam_GT_ests = [(np.linalg.inv(basis_mat.numpy().T \n",
    "                                  @ basis_mat.numpy()) \n",
    "                                  @ basis_mat.numpy().T \n",
    "                                  @ paras.beta_GT) \n",
    "                     for basis_mat in paras.basis_mats]\n",
    "\n",
    "# optimization\n",
    "# not used, to use it, you have to know GT\n",
    "#Rmins = [(2*(np.linalg.norm(paras.Gam_GT_ests[ix]\n",
    "#                            /np.sqrt(paras.can_Ns[ix]), axis=0).sum() \n",
    "#           + np.abs(paras.alp_GT).sum())) \n",
    "#        for ix in range(len(paras.can_Ns))]\n",
    "#paras.Rmin = np.max(Rmins)\n",
    "paras.Rmin = 100000\n",
    "paras.Rfct = 2\n",
    "paras.stop_cv = 5e-4\n",
    "paras.max_iter = 10000\n",
    "paras.num_cv_fold = 5\n",
    "\n",
    "paras.N_eps = 1e-4 # the stop criteria for Newton-Ralpson method, only for logistic model\n",
    "paras.N_maxit = 500\n",
    "paras.is_BFGS = True\n",
    "\n",
    "paras.cv_is_center = True\n",
    "paras.cv_SIS_ratio = 0.2\n",
    "paras.num_cv_fold = 5\n",
    "paras.cv_init_noise_sd = -1\n",
    "\n",
    "\n",
    "# hypothesis test\n",
    "#without loss of generality, we assume the idxs in M is the first m betas\n",
    "paras.sel_idx = np.arange(1, paras.d) # M^c set, \n",
    "paras.M_idxs = np.delete(np.arange(paras.d), paras.sel_idx) # the M set\n",
    "paras.Cmats = [\n",
    "    np.eye(len(paras.M_idxs)), # m x m I matrix, [beta1, beta2] = [0, 0]\n",
    "]\n",
    "paras.svdinv_eps_Q = 1e-7 # now 0 means inverse, small value like 0.01 means remove small eig vals.\n",
    "paras.svdinv_eps_Psi = 1e-7\n",
    "\n",
    "paras.save_dir = RES_ROOT/\"simu_linear_sinica_samebetaX_tmp\"\n",
    "if not paras.save_dir.exists():\n",
    "    paras.save_dir.mkdir()"
   ]
  },
  {
   "cell_type": "code",
   "execution_count": null,
   "id": "b2111295-b7e5-412e-928a-cc0d9cee2083",
   "metadata": {},
   "outputs": [],
   "source": []
  },
  {
   "cell_type": "markdown",
   "id": "66c2f90f",
   "metadata": {
    "ExecuteTime": {
     "end_time": "2022-12-08T18:09:55.509389Z",
     "start_time": "2022-12-08T18:09:55.343396Z"
    }
   },
   "source": [
    "## Fns"
   ]
  },
  {
   "cell_type": "code",
   "execution_count": null,
   "id": "1de5567c-6bab-438d-971c-0e40b0c4c53d",
   "metadata": {
    "ExecuteTime": {
     "end_time": "2023-05-31T23:31:24.456489Z",
     "start_time": "2023-05-31T23:31:24.440199Z"
    },
    "code_folding": [],
    "tags": []
   },
   "outputs": [],
   "source": []
  },
  {
   "cell_type": "code",
   "execution_count": 119,
   "id": "0f30b88f",
   "metadata": {
    "ExecuteTime": {
     "end_time": "2023-05-31T23:31:24.456489Z",
     "start_time": "2023-05-31T23:31:24.440199Z"
    },
    "code_folding": [],
    "execution": {
     "iopub.execute_input": "2023-11-20T18:50:23.119070Z",
     "iopub.status.busy": "2023-11-20T18:50:23.118496Z",
     "iopub.status.idle": "2023-11-20T18:50:23.162273Z",
     "shell.execute_reply": "2023-11-20T18:50:23.161240Z",
     "shell.execute_reply.started": "2023-11-20T18:50:23.119024Z"
    },
    "tags": []
   },
   "outputs": [],
   "source": [
    "def _gen_simu_data_all(seed, paras, verbose=False):\n",
    "    \"\"\"\n",
    "    Generate simulated data for all parameters.\n",
    "\n",
    "    Args:\n",
    "        seed (int): Seed for random number generator.\n",
    "        paras (dict): Dictionary containing the following parameters:\n",
    "            - srho: corr from sinica\n",
    "            - fourier_basis: The fourier basis for generating X, npts x nbasis\n",
    "            - n (int): Number of samples.\n",
    "            - d (int): Number of dimensions.\n",
    "            - q (int): Number of covariates.\n",
    "            - types_ (list): List of types for generating covariates.\n",
    "            - alp_GT (list): List of ground truth alpha values.\n",
    "            - beta_GT (list): List of ground truth beta values.\n",
    "            - freqs (list): List of frequencies for generating simulated PSD.\n",
    "            - sigma2 (float): Variance of the noise.\n",
    "        verbose(bool): Verbose or not\n",
    "\n",
    "    Returns:\n",
    "        all_data (dict): Dictionary containing the following simulated data:\n",
    "            - X (torch.Tensor): Tensor of shape (n, d, npts) containing the simulated PSD.\n",
    "            - Y (torch.Tensor): Tensor of shape (n,) containing the response variable.\n",
    "            - Z (torch.Tensor): Tensor of shape (n, q) containing the covariates.\n",
    "    \"\"\"\n",
    "    torch.set_default_tensor_type(torch.DoubleTensor)\n",
    "    np.random.seed(seed)\n",
    "    _paras = edict(paras.copy())\n",
    "    # simulated PSD\n",
    "    assert len(_paras.types_) == _paras.q\n",
    "    assert len(_paras.alp_GT) == _paras.q\n",
    "    con_idxs = [typ ==\"c\" for typ in _paras.types_]\n",
    "   \n",
    "    thetas = gen_sini_Xthetas(_paras.srho, _paras.n, _paras.d);\n",
    "    simu_curvs = thetas @ _paras.fourier_basis.T; # n x d x npts\n",
    "    #simu_curvs = np.random.randn(_paras.n, _paras.d, _paras.npts)*10\n",
    "    simu_covs = gen_covs(_paras.n, _paras.types_)\n",
    "    \n",
    "    # linear term and Y\n",
    "    int_part = np.sum(_paras.beta_GT.T* simu_curvs[:, :, :], axis=1).mean(axis=1)\n",
    "    cov_part = simu_covs @ _paras.alp_GT \n",
    "    \n",
    "    # linear term\n",
    "    lin_term = cov_part + int_part\n",
    "    probs = logit_fn(lin_term)\n",
    "    \n",
    "    # Y \n",
    "    Y = np.random.binomial(1, probs, size=len(probs))\n",
    "    \n",
    "    X_centered = simu_curvs - simu_curvs.mean(axis=0, keepdims=True)\n",
    "    # this step is not necessary for simulation as I did so in generating data step\n",
    "    # but for real data, plz do this\n",
    "    Z_std = simu_covs.copy()\n",
    "    Z_std[:, con_idxs] = (simu_covs[:, con_idxs] - simu_covs[:, con_idxs].mean(axis=0, keepdims=True))/simu_covs[:, con_idxs].std(axis=0, keepdims=True)\n",
    "    \n",
    "    \n",
    "    # To torch\n",
    "    X = torch.Tensor(X_centered) # n x d x npts\n",
    "    Z = torch.Tensor(Z_std) # n x q\n",
    "    Y = torch.Tensor(Y)\n",
    "    \n",
    "    all_data = edict()\n",
    "    all_data.X = X\n",
    "    all_data.Y = Y\n",
    "    all_data.Z = Z\n",
    "    all_data.lin_term = lin_term\n",
    "    return all_data"
   ]
  },
  {
   "cell_type": "code",
   "execution_count": 120,
   "id": "fed3adcd-d260-4366-a877-89387070b91f",
   "metadata": {
    "execution": {
     "iopub.execute_input": "2023-11-20T18:50:23.474665Z",
     "iopub.status.busy": "2023-11-20T18:50:23.474123Z",
     "iopub.status.idle": "2023-11-20T18:50:25.082522Z",
     "shell.execute_reply": "2023-11-20T18:50:25.081895Z",
     "shell.execute_reply.started": "2023-11-20T18:50:23.474621Z"
    },
    "tags": []
   },
   "outputs": [
    {
     "name": "stderr",
     "output_type": "stream",
     "text": [
      "100%|████████████████████████████████████████████████████████████████████████████████████████████████████████████████████████████████████████| 100/100 [00:01<00:00, 63.87it/s]\n"
     ]
    }
   ],
   "source": [
    "# check whether we should adjust intecept or not\n",
    "# if setting is not reasonable, 1 and 0 can be very unbalanced\n",
    "Ys = []\n",
    "for seed in trange(0, 100):\n",
    "    data = _gen_simu_data_all(seed, paras); \n",
    "    Ys.append(data.Y.numpy())\n",
    "Ys = np.array(Ys);"
   ]
  },
  {
   "cell_type": "code",
   "execution_count": 121,
   "id": "65527aa9-7fd2-4e0e-ba1e-82a00adae5e3",
   "metadata": {
    "execution": {
     "iopub.execute_input": "2023-11-20T18:50:25.600014Z",
     "iopub.status.busy": "2023-11-20T18:50:25.599445Z",
     "iopub.status.idle": "2023-11-20T18:50:25.640033Z",
     "shell.execute_reply": "2023-11-20T18:50:25.639166Z",
     "shell.execute_reply.started": "2023-11-20T18:50:25.599970Z"
    },
    "tags": []
   },
   "outputs": [
    {
     "data": {
      "text/plain": [
       "array([0.59, 0.55, 0.55, 0.56, 0.52, 0.61, 0.6 , 0.59, 0.7 , 0.62, 0.63,\n",
       "       0.6 , 0.57, 0.54, 0.56, 0.56, 0.52, 0.66, 0.59, 0.59, 0.6 , 0.61,\n",
       "       0.63, 0.57, 0.6 , 0.61, 0.57, 0.61, 0.56, 0.65, 0.57, 0.5 , 0.6 ,\n",
       "       0.61, 0.6 , 0.55, 0.56, 0.6 , 0.56, 0.58, 0.65, 0.61, 0.67, 0.55,\n",
       "       0.56, 0.52, 0.62, 0.61, 0.64, 0.55, 0.67, 0.59, 0.58, 0.63, 0.58,\n",
       "       0.55, 0.57, 0.65, 0.6 , 0.62, 0.59, 0.63, 0.62, 0.59, 0.66, 0.63,\n",
       "       0.65, 0.59, 0.58, 0.62, 0.48, 0.63, 0.62, 0.52, 0.55, 0.65, 0.53,\n",
       "       0.58, 0.52, 0.57, 0.57, 0.58, 0.56, 0.48, 0.51, 0.57, 0.53, 0.55,\n",
       "       0.57, 0.7 , 0.6 , 0.57, 0.61, 0.57, 0.61, 0.51, 0.63, 0.62, 0.54,\n",
       "       0.64])"
      ]
     },
     "execution_count": 121,
     "metadata": {},
     "output_type": "execute_result"
    }
   ],
   "source": [
    "Ys.mean(axis=1)"
   ]
  },
  {
   "cell_type": "code",
   "execution_count": null,
   "id": "2cac7402-45d2-4d85-8ecf-d91b9f3028fe",
   "metadata": {},
   "outputs": [],
   "source": []
  },
  {
   "cell_type": "markdown",
   "id": "ee0de6a8-ca63-437c-b278-84ab4dc50a0a",
   "metadata": {},
   "source": [
    "# Simu"
   ]
  },
  {
   "cell_type": "markdown",
   "id": "60be4ef0-856b-4d0d-93fe-67aa9534ae4e",
   "metadata": {},
   "source": [
    "## Test SIS"
   ]
  },
  {
   "cell_type": "code",
   "execution_count": 122,
   "id": "e2603ad9-fc97-45d0-a167-65efcd81d542",
   "metadata": {
    "execution": {
     "iopub.execute_input": "2023-11-20T18:50:27.489945Z",
     "iopub.status.busy": "2023-11-20T18:50:27.489386Z",
     "iopub.status.idle": "2023-11-20T18:50:27.528639Z",
     "shell.execute_reply": "2023-11-20T18:50:27.527977Z",
     "shell.execute_reply.started": "2023-11-20T18:50:27.489899Z"
    },
    "tags": []
   },
   "outputs": [],
   "source": [
    "def _SIS_fn(seed, SIS_ratio, paras):\n",
    "    torch.set_default_tensor_type(torch.DoubleTensor)\n",
    "    np.random.seed(seed)\n",
    "    torch.manual_seed(seed)\n",
    "        \n",
    "    _paras = edict(paras.copy())\n",
    "    cur_data = _gen_simu_data_all(seed, _paras)\n",
    "    \n",
    "    keep_idxs, _  = SIS_ballcor(cur_data.Y, cur_data.X, _paras.sel_idx, SIS_ratio)\n",
    "    M_idxs = np.delete(np.arange(_paras.d), _paras.sel_idx)\n",
    "    _paras.keep_idxs = np.sort(np.concatenate([M_idxs, keep_idxs]))\n",
    "    return _paras.keep_idxs"
   ]
  },
  {
   "cell_type": "code",
   "execution_count": 123,
   "id": "c41e34fc-6271-45b5-936e-332e8de6ac12",
   "metadata": {
    "execution": {
     "iopub.execute_input": "2023-11-20T18:50:28.098512Z",
     "iopub.status.busy": "2023-11-20T18:50:28.097817Z",
     "iopub.status.idle": "2023-11-20T18:50:31.569537Z",
     "shell.execute_reply": "2023-11-20T18:50:31.568706Z",
     "shell.execute_reply.started": "2023-11-20T18:50:28.098464Z"
    },
    "tags": []
   },
   "outputs": [
    {
     "name": "stderr",
     "output_type": "stream",
     "text": [
      "100%|████████████████████████████████████████████████████████████████████████████████████████████████████████████████████████████████████████| 100/100 [00:02<00:00, 38.13it/s]\n"
     ]
    }
   ],
   "source": [
    "with Parallel(n_jobs=20) as parallel:\n",
    "    keep_idxss = parallel(delayed(_SIS_fn)(seed, 0.2, paras=paras) for seed in \n",
    "                          tqdm(range(0, 100), total=100))"
   ]
  },
  {
   "cell_type": "code",
   "execution_count": 124,
   "id": "edc8698e-c447-4926-a323-2df1ad3f866c",
   "metadata": {
    "execution": {
     "iopub.execute_input": "2023-11-20T18:50:33.326891Z",
     "iopub.status.busy": "2023-11-20T18:50:33.326283Z",
     "iopub.status.idle": "2023-11-20T18:50:33.487616Z",
     "shell.execute_reply": "2023-11-20T18:50:33.487180Z",
     "shell.execute_reply.started": "2023-11-20T18:50:33.326845Z"
    },
    "tags": []
   },
   "outputs": [
    {
     "data": {
      "text/plain": [
       "Text(0.5, 1.0, '[0.99]')"
      ]
     },
     "execution_count": 124,
     "metadata": {},
     "output_type": "execute_result"
    },
    {
     "data": {
      "image/png": "[encoded data removed]",
      "text/plain": [
       "<Figure size 432x288 with 1 Axes>"
      ]
     },
     "metadata": {
      "needs_background": "light"
     },
     "output_type": "display_data"
    }
   ],
   "source": [
    "vs, cts = np.unique(np.concatenate(keep_idxss), return_counts=1);\n",
    "cts = cts[np.argsort(vs)]/len(keep_idxss)\n",
    "vs = np.sort(vs);\n",
    "plt.plot(vs, cts, \".\")\n",
    "plt.title(f\"{cts[vs >(paras.d-2)]}\")"
   ]
  },
  {
   "cell_type": "code",
   "execution_count": null,
   "id": "c6887b77-a463-46f0-85ba-c4bef63f36b1",
   "metadata": {},
   "outputs": [],
   "source": []
  },
  {
   "cell_type": "code",
   "execution_count": null,
   "id": "d684e939-bd1a-4dcb-9953-8c91f70acc9b",
   "metadata": {},
   "outputs": [],
   "source": []
  },
  {
   "cell_type": "markdown",
   "id": "4285c358-d2ff-4f0d-99e2-85d5f0140c00",
   "metadata": {},
   "source": [
    "## Simulation"
   ]
  },
  {
   "cell_type": "code",
   "execution_count": null,
   "id": "9a10fda8-f83b-4470-91ac-186007cdbff6",
   "metadata": {},
   "outputs": [],
   "source": []
  },
  {
   "cell_type": "code",
   "execution_count": 8,
   "id": "cd54b8dc-d1fb-4ef5-9c5c-6aeafc4881d2",
   "metadata": {
    "execution": {
     "iopub.execute_input": "2023-11-16T21:24:27.781597Z",
     "iopub.status.busy": "2023-11-16T21:24:27.780834Z",
     "iopub.status.idle": "2023-11-16T21:24:27.829740Z",
     "shell.execute_reply": "2023-11-16T21:24:27.828845Z",
     "shell.execute_reply.started": "2023-11-16T21:24:27.781547Z"
    },
    "scrolled": true,
    "tags": []
   },
   "outputs": [],
   "source": [
    "\n",
    "def _run_fn(seed, lam, N, paras, is_save=False, is_cv=False, verbose=False):\n",
    "    _paras = edict(paras.copy())\n",
    "    _paras.Rv = _paras.Rfct * _paras.Rmin\n",
    "    _paras.seed = seed\n",
    "    _paras.lam = lam\n",
    "    _paras.N = N\n",
    "    _paras.basis_mat = _paras.basis_mats[_paras.can_Ns.index(N)]\n",
    "    _paras.Gam_GT_est = paras.Gam_GT_ests[_paras.can_Ns.index(N)]\n",
    "    cur_data = _gen_simu_data_all(_paras.seed, _paras)\n",
    "    \n",
    "    f_name = f\"seed_{seed:.0f}-lam_{lam*1000:.0f}-N_{N:.0f}-c1_{cs[0]*1000:.0f}_est.pkl\"\n",
    "        \n",
    "    res = edict()\n",
    "    if not (_paras.save_dir/f_name).exists():\n",
    "        if _paras.SIS_ratio < 1:\n",
    "            keep_idxs, _  = SIS_ballcor(cur_data.Y, cur_data.X, _paras.sel_idx, _paras.SIS_ratio)\n",
    "        else:\n",
    "            keep_idxs = _paras.sel_idx\n",
    "        M_idxs = np.delete(np.arange(_paras.d), _paras.sel_idx)\n",
    "        _paras.keep_idxs = np.sort(np.concatenate([M_idxs, keep_idxs]))\n",
    "                    \n",
    "        _paras.sel_idx_SIS = np.where(np.array([keep_idx in _paras.sel_idx for keep_idx in _paras.keep_idxs]))[0]\n",
    "        _paras.d_SIS = len(_paras.keep_idxs)\n",
    "                \n",
    "        cur_data_SIS = edict(cur_data.copy())\n",
    "        cur_data_SIS.X = cur_data.X[:, _paras.keep_idxs, :]\n",
    "                \n",
    "                \n",
    "        if _paras.init_noise_sd < 0:\n",
    "            alp_init = torch.zeros(_paras.q)\n",
    "            Gam_init = torch.zeros(_paras.N, _paras.d_SIS)\n",
    "            theta_init = torch.cat([alp_init, col_vec_fn(Gam_init)/np.sqrt(_paras.N)])\n",
    "            rhok_init = torch.zeros(_paras.d_SIS*_paras.N)\n",
    "        else:\n",
    "            alp_init = torch.Tensor(_paras.alp_GT) + torch.randn(_paras.q)*_paras.init_noise_sd\n",
    "            Gam_init = torch.Tensor(_paras.Gam_GT_est[:, _paras.keep_idxs]) + torch.randn(_paras.N, _paras.d_SIS)*_paras.init_noise_sd\n",
    "            theta_init = torch.cat([alp_init, col_vec_fn(Gam_init)/np.sqrt(_paras.N)])\n",
    "            rhok_init = torch.randn(_paras.d_SIS*_paras.N)\n",
    "            \n",
    "        model = LogisticModel(Y=cur_data_SIS.Y, \n",
    "                              X=cur_data_SIS.X, \n",
    "                              Z=cur_data_SIS.Z, \n",
    "                              basis_mat=_paras.basis_mat)\n",
    "        pen = SCAD(lams=_paras.lam, a=_paras.a,  sel_idx=_paras.sel_idx_SIS)\n",
    "                    \n",
    "                \n",
    "        main_res = optimization(model=model, \n",
    "                                penalty=pen, \n",
    "                                inits=[alp_init, Gam_init, theta_init, rhok_init],\n",
    "                                is_prg=verbose,\n",
    "                                save_paras=False,    \n",
    "                                input_paras=_paras)\n",
    "        opt = main_res[0]\n",
    "        est_beta = (_paras.basis_mat @ opt.Gamk).numpy()\n",
    "        \n",
    "        est_Gam = opt.Gamk\n",
    "        est_alp = opt.alpk\n",
    "        Q_mat = -model.log_lik_der2(est_alp, est_Gam)\n",
    "        model.log_lik_der1(est_alp, est_Gam);\n",
    "        Sig_mat = (model.log_lik_der1_vs.unsqueeze(-1) * model.log_lik_der1_vs.unsqueeze(1)).mean(axis=0) \n",
    "        est_theta = torch.cat([est_alp, col_vec_fn(est_Gam)/np.sqrt(_paras.N)])\n",
    "        nonzero_idxs = torch.nonzero(torch.norm(est_Gam, dim=0)).reshape(-1).numpy()\n",
    "        MS_unions = np.sort(np.union1d(_paras.M_idxs, nonzero_idxs))\n",
    "        keep_idxs_test = MS2idxs(_paras.q, _paras.N, MS_unions)\n",
    "        Q_mat_part = Q_mat[keep_idxs_test][:, keep_idxs_test]\n",
    "        Sig_mat_part = Sig_mat[keep_idxs_test][:, keep_idxs_test]\n",
    "        \n",
    "        res._paras = _paras\n",
    "        res.Q_mat_part = Q_mat_part\n",
    "        res.Sig_mat_part = Sig_mat_part\n",
    "        res.est_alp = est_alp\n",
    "        res.est_Gam = est_Gam\n",
    "        \n",
    "        if is_cv:\n",
    "            cv_probs = CV_err_logi_fn(data=cur_data, \n",
    "                                     num_cv_fold=_paras.num_cv_fold,\n",
    "                                     is_prg=verbose, \n",
    "                                     save_paras=False,    \n",
    "                                     input_paras=_paras)\n",
    "                \n",
    "            res.cv_probs = cv_probs\n",
    "        else:\n",
    "            res.cv_probs = None\n",
    "        res.Y = cur_data.Y.numpy()\n",
    "        \n",
    "        if is_save:\n",
    "            save_pkl(_paras.save_dir/f_name, res, verbose=verbose)\n",
    "\n",
    "    return res"
   ]
  },
  {
   "cell_type": "code",
   "execution_count": 9,
   "id": "9cb82c9e-2210-4012-b764-806e81187d26",
   "metadata": {
    "execution": {
     "iopub.execute_input": "2023-11-16T21:24:28.639542Z",
     "iopub.status.busy": "2023-11-16T21:24:28.638981Z",
     "iopub.status.idle": "2023-11-16T21:24:28.678403Z",
     "shell.execute_reply": "2023-11-16T21:24:28.677507Z",
     "shell.execute_reply.started": "2023-11-16T21:24:28.639498Z"
    },
    "tags": []
   },
   "outputs": [],
   "source": [
    "def _test_fn(Cmat, est_res, svdinv_eps_Q=0, svdinv_eps_Psi=0):\n",
    "    torch.set_default_tensor_type(torch.DoubleTensor)\n",
    "    _paras = est_res._paras\n",
    "    _paras.svdinv_eps_Q = svdinv_eps_Q\n",
    "    _paras.svdinv_eps_Psi = svdinv_eps_Psi\n",
    "    \n",
    "    T_v = obt_test_stat_simple2(Q_mat_part=est_res.Q_mat_part, \n",
    "                               Sig_mat_part=est_res.Sig_mat_part,\n",
    "                               est_alp=est_res.est_alp, \n",
    "                               est_Gam=est_res.est_Gam,\n",
    "                               Cmat=Cmat,\n",
    "                               paras=_paras,\n",
    "                               ).item() \n",
    "    pval = chi2.sf(T_v, Cmat.shape[0]*_paras.N)\n",
    "    \n",
    "    res = edict()\n",
    "    res.T_v = T_v\n",
    "    res.pval = pval\n",
    "    res.Cmat = Cmat\n",
    "    return res"
   ]
  },
  {
   "cell_type": "code",
   "execution_count": null,
   "id": "1471c214-45bc-418d-8ec7-f951ff99160f",
   "metadata": {
    "execution": {
     "iopub.execute_input": "2023-11-13T01:54:32.841074Z",
     "iopub.status.busy": "2023-11-13T01:54:32.840503Z",
     "iopub.status.idle": "2023-11-13T01:55:53.768466Z",
     "shell.execute_reply": "2023-11-13T01:55:53.767549Z",
     "shell.execute_reply.started": "2023-11-13T01:54:32.841028Z"
    },
    "tags": []
   },
   "outputs": [],
   "source": [
    "all_coms = itertools.product(range(0, paras.num_rep), paras.can_lams, paras.can_Ns)\n",
    "with Parallel(n_jobs=5) as parallel:\n",
    "    ress = parallel(delayed(_run_fn)(seed, lam=lam, N=N, paras=paras, is_save=True, is_cv=True, verbose=False) \n",
    "                    for seed, lam, N \n",
    "                    in tqdm(all_coms, total=len(paras.can_Ns)*len(paras.can_lams)*paras.num_rep))"
   ]
  },
  {
   "cell_type": "code",
   "execution_count": null,
   "id": "75885295-6fd8-4db5-84f9-abbb51114072",
   "metadata": {},
   "outputs": [],
   "source": []
  },
  {
   "cell_type": "markdown",
   "id": "6c32d575-6e40-48a5-9bd9-e3e81c53b717",
   "metadata": {},
   "source": [
    "### Single test"
   ]
  },
  {
   "cell_type": "code",
   "execution_count": 76,
   "id": "759975a0-174d-43fa-b620-db79f401f22f",
   "metadata": {
    "execution": {
     "iopub.execute_input": "2023-11-16T22:21:12.223391Z",
     "iopub.status.busy": "2023-11-16T22:21:12.222752Z",
     "iopub.status.idle": "2023-11-16T22:21:14.333110Z",
     "shell.execute_reply": "2023-11-16T22:21:14.332646Z",
     "shell.execute_reply.started": "2023-11-16T22:21:12.223343Z"
    },
    "scrolled": true,
    "tags": []
   },
   "outputs": [
    {
     "name": "stderr",
     "output_type": "stream",
     "text": [
      "DEBUG:hdf_utils.fns_sinica:Corr is 0.30, sample size is 100, num of ROIs is 100, num of basis is 50.\n",
      "  8%|███████▉                                                                                         | 823/10000 [00:01<00:17, 512.96it/s, error=0.000503, GamL0=1, CV=0.0005]\n"
     ]
    }
   ],
   "source": [
    "N = 4\n",
    "seed = 4\n",
    "lam = 0.2\n",
    "est_res = _run_fn(seed=seed, lam=lam, N=N, paras=paras, is_cv=0, is_save=False, verbose=True);"
   ]
  },
  {
   "cell_type": "code",
   "execution_count": null,
   "id": "b897f108-0467-45a1-8e0e-fc0cc254c0a4",
   "metadata": {},
   "outputs": [],
   "source": []
  },
  {
   "cell_type": "markdown",
   "id": "54407194-3b68-4fb1-b696-f36660840877",
   "metadata": {},
   "source": [
    "### Multiple test"
   ]
  },
  {
   "cell_type": "code",
   "execution_count": 15,
   "id": "58f9f088-cf1b-4bf8-a9f8-a504932e577d",
   "metadata": {
    "execution": {
     "iopub.execute_input": "2023-11-15T04:25:08.110966Z",
     "iopub.status.busy": "2023-11-15T04:25:08.110323Z",
     "iopub.status.idle": "2023-11-15T04:25:08.153633Z",
     "shell.execute_reply": "2023-11-15T04:25:08.152904Z",
     "shell.execute_reply.started": "2023-11-15T04:25:08.110917Z"
    },
    "tags": []
   },
   "outputs": [],
   "source": [
    "N = 4\n",
    "seed = 0\n",
    "lam = 0.1\n",
    "def _run_fn1(cur_seed):\n",
    "    est_res = _run_fn(seed=cur_seed, lam=lam, N=N, paras=paras, is_cv=False, is_save=False, verbose=False);\n",
    "    test_res =  _test_fn(paras.Cmats[0], est_res, 1e-7, 1e-7);\n",
    "    res = edict()\n",
    "    res.update(test_res)\n",
    "    res.update(est_res)\n",
    "    return res"
   ]
  },
  {
   "cell_type": "code",
   "execution_count": 16,
   "id": "eece096b-a6d7-4735-9b4c-9a31b160f7b7",
   "metadata": {
    "execution": {
     "iopub.execute_input": "2023-11-15T04:25:08.725111Z",
     "iopub.status.busy": "2023-11-15T04:25:08.724575Z",
     "iopub.status.idle": "2023-11-15T04:25:50.250747Z",
     "shell.execute_reply": "2023-11-15T04:25:50.249525Z",
     "shell.execute_reply.started": "2023-11-15T04:25:08.725068Z"
    },
    "tags": []
   },
   "outputs": [
    {
     "name": "stderr",
     "output_type": "stream",
     "text": [
      "100%|████████████████████████████████████████████████████████████████████████████████████████████████████████████████████████████████████████| 100/100 [00:34<00:00,  2.89it/s]\n"
     ]
    }
   ],
   "source": [
    "num_rep = 100\n",
    "with Parallel(n_jobs=10) as parallel:\n",
    "    ress = parallel(delayed(_run_fn1)(cur_seed) for cur_seed in tqdm(range(num_rep), total=num_rep))"
   ]
  },
  {
   "cell_type": "code",
   "execution_count": 17,
   "id": "35746239-20b4-4e11-9b6e-846bc9d55da5",
   "metadata": {
    "execution": {
     "iopub.execute_input": "2023-11-15T04:25:53.118133Z",
     "iopub.status.busy": "2023-11-15T04:25:53.117511Z",
     "iopub.status.idle": "2023-11-15T04:25:53.440982Z",
     "shell.execute_reply": "2023-11-15T04:25:53.440462Z",
     "shell.execute_reply.started": "2023-11-15T04:25:53.118085Z"
    },
    "tags": []
   },
   "outputs": [
    {
     "name": "stdout",
     "output_type": "stream",
     "text": [
      "0.02 2.05 2.3837123287941764\n"
     ]
    },
    {
     "data": {
      "image/png": "[encoded data removed]",
      "text/plain": [
       "<Figure size 432x288 with 1 Axes>"
      ]
     },
     "metadata": {
      "needs_background": "light"
     },
     "output_type": "display_data"
    }
   ],
   "source": [
    "T_vs = np.array([res[\"T_v\"] for res in ress])\n",
    "chi_df = paras.Cmats[0].shape[0]*N\n",
    "xs = np.linspace(0.1, 100, 100)\n",
    "theo_curvs_log = chi2.logpdf(xs, chi_df);\n",
    "plt.plot(xs, np.exp(theo_curvs_log) , label=\"theoretical\")\n",
    "sns.kdeplot(T_vs, label=\"empirical\")\n",
    "plt.legend()\n",
    "\n",
    "pvals = np.array([res[\"pval\"] for res in ress])\n",
    "L0s = np.array([torch.sum(res[\"est_Gam\"].norm(dim=0)!=0) for res in ress]);\n",
    "print(np.mean(pvals<0.05), L0s.mean(), np.mean(T_vs))"
   ]
  },
  {
   "cell_type": "code",
   "execution_count": 28,
   "id": "0fcc2bc3-3ecf-41f7-8f23-691cedc49eb6",
   "metadata": {
    "execution": {
     "iopub.execute_input": "2023-11-08T03:27:25.199499Z",
     "iopub.status.busy": "2023-11-08T03:27:25.198885Z",
     "iopub.status.idle": "2023-11-08T03:27:25.257361Z",
     "shell.execute_reply": "2023-11-08T03:27:25.256813Z",
     "shell.execute_reply.started": "2023-11-08T03:27:25.199453Z"
    },
    "tags": []
   },
   "outputs": [],
   "source": []
  },
  {
   "cell_type": "code",
   "execution_count": null,
   "id": "96fd3e30",
   "metadata": {},
   "outputs": [],
   "source": []
  },
  {
   "cell_type": "code",
   "execution_count": null,
   "id": "8c346a71-6b20-4e7c-b4fe-c2bdd18a2e38",
   "metadata": {},
   "outputs": [],
   "source": []
  },
  {
   "cell_type": "code",
   "execution_count": null,
   "id": "65cdfaaa-92a7-4591-b04d-30be2b356b89",
   "metadata": {},
   "outputs": [],
   "source": []
  }
 ],
 "metadata": {
  "kernelspec": {
   "display_name": "Python 3 (ipykernel)",
   "language": "python",
   "name": "python3"
  },
  "language_info": {
   "codemirror_mode": {
    "name": "ipython",
    "version": 3
   },
   "file_extension": ".py",
   "mimetype": "text/x-python",
   "name": "python",
   "nbconvert_exporter": "python",
   "pygments_lexer": "ipython3",
   "version": "3.9.7"
  },
  "toc": {
   "base_numbering": 1,
   "nav_menu": {},
   "number_sections": true,
   "sideBar": true,
   "skip_h1_title": false,
   "title_cell": "Table of Contents",
   "title_sidebar": "Contents",
   "toc_cell": false,
   "toc_position": {
    "height": "calc(100% - 180px)",
    "left": "10px",
    "top": "150px",
    "width": "165px"
   },
   "toc_section_display": true,
   "toc_window_display": true
  },
  "toc-autonumbering": true
 },
 "nbformat": 4,
 "nbformat_minor": 5
}
