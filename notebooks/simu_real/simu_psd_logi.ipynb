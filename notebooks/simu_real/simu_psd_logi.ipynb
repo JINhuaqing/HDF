{
 "cells": [
  {
   "cell_type": "markdown",
   "id": "faf0a805",
   "metadata": {},
   "source": [
    "This file contains python code to mimic real setting\n",
    "\n",
    "It is under the logi setting\n",
    "\n",
    "Now, I use the same beta from the paper but the PSD as X"
   ]
  },
  {
   "cell_type": "code",
   "execution_count": 19,
   "id": "02ae980e",
   "metadata": {
    "ExecuteTime": {
     "end_time": "2023-05-31T19:57:23.490285Z",
     "start_time": "2023-05-31T19:57:23.481769Z"
    },
    "execution": {
     "iopub.execute_input": "2024-01-18T23:13:13.938720Z",
     "iopub.status.busy": "2024-01-18T23:13:13.938182Z",
     "iopub.status.idle": "2024-01-18T23:13:14.054519Z",
     "shell.execute_reply": "2024-01-18T23:13:14.053881Z",
     "shell.execute_reply.started": "2024-01-18T23:13:13.938681Z"
    },
    "tags": []
   },
   "outputs": [],
   "source": [
    "import sys\n",
    "sys.path.append(\"../../mypkg\")"
   ]
  },
  {
   "cell_type": "code",
   "execution_count": 20,
   "id": "023df78a",
   "metadata": {
    "ExecuteTime": {
     "end_time": "2023-05-31T19:57:34.238839Z",
     "start_time": "2023-05-31T19:57:23.494053Z"
    },
    "execution": {
     "iopub.execute_input": "2024-01-18T23:13:14.291455Z",
     "iopub.status.busy": "2024-01-18T23:13:14.290522Z",
     "iopub.status.idle": "2024-01-18T23:13:14.319382Z",
     "shell.execute_reply": "2024-01-18T23:13:14.318765Z",
     "shell.execute_reply.started": "2024-01-18T23:13:14.291425Z"
    },
    "tags": []
   },
   "outputs": [],
   "source": [
    "import numpy as np\n",
    "import torch\n",
    "import matplotlib.pyplot as plt\n",
    "import seaborn as sns\n",
    "\n",
    "from easydict import EasyDict as edict\n",
    "from tqdm import trange, tqdm\n",
    "from pprint import pprint\n",
    "import itertools\n",
    "from scipy.stats import chi2\n"
   ]
  },
  {
   "cell_type": "code",
   "execution_count": 21,
   "id": "b9d3cbc6-1ac5-47d6-a0d1-bcbc0be9267e",
   "metadata": {
    "execution": {
     "iopub.execute_input": "2024-01-18T23:13:14.779768Z",
     "iopub.status.busy": "2024-01-18T23:13:14.779260Z",
     "iopub.status.idle": "2024-01-18T23:13:14.811953Z",
     "shell.execute_reply": "2024-01-18T23:13:14.811328Z",
     "shell.execute_reply.started": "2024-01-18T23:13:14.779736Z"
    },
    "tags": []
   },
   "outputs": [
    {
     "name": "stdout",
     "output_type": "stream",
     "text": [
      "The autoreload extension is already loaded. To reload it, use:\n",
      "  %reload_ext autoreload\n"
     ]
    }
   ],
   "source": [
    "# This will reload all imports as soon as the code changes\n",
    "%load_ext autoreload\n",
    "%autoreload 2"
   ]
  },
  {
   "cell_type": "code",
   "execution_count": 22,
   "id": "b0aa91b2",
   "metadata": {
    "ExecuteTime": {
     "end_time": "2023-05-31T19:57:59.558229Z",
     "start_time": "2023-05-31T19:57:34.292612Z"
    },
    "execution": {
     "iopub.execute_input": "2024-01-18T23:13:15.359977Z",
     "iopub.status.busy": "2024-01-18T23:13:15.359020Z",
     "iopub.status.idle": "2024-01-18T23:13:15.390084Z",
     "shell.execute_reply": "2024-01-18T23:13:15.389350Z",
     "shell.execute_reply.started": "2024-01-18T23:13:15.359941Z"
    },
    "tags": []
   },
   "outputs": [],
   "source": [
    "from constants import DATA_ROOT, RES_ROOT, FIG_ROOT, MIDRES_ROOT\n",
    "from hdf_utils.data_gen import gen_simu_psd_dataset\n",
    "from hdf_utils.SIS import SIS_GLIM\n",
    "from utils.matrix import col_vec_fn, col_vec2mat_fn, conju_grad, svd_inverse, cholesky_inv\n",
    "from utils.functions import logit_fn\n",
    "from utils.misc import save_pkl, load_pkl\n",
    "from splines import obt_bsp_obasis_Rfn, obt_bsp_basis_Rfn_wrapper\n",
    "from projection import euclidean_proj_l1ball\n",
    "from optimization.opt import HDFOpt\n",
    "from scenarios.real_simu_logi import settings\n",
    "\n",
    "from joblib import Parallel, delayed"
   ]
  },
  {
   "cell_type": "code",
   "execution_count": 23,
   "id": "fe0a4a46",
   "metadata": {
    "ExecuteTime": {
     "end_time": "2023-05-31T19:57:59.621784Z",
     "start_time": "2023-05-31T19:57:59.568097Z"
    },
    "execution": {
     "iopub.execute_input": "2024-01-18T23:13:16.018415Z",
     "iopub.status.busy": "2024-01-18T23:13:16.017881Z",
     "iopub.status.idle": "2024-01-18T23:13:16.060439Z",
     "shell.execute_reply": "2024-01-18T23:13:16.059803Z",
     "shell.execute_reply.started": "2024-01-18T23:13:16.018385Z"
    },
    "tags": []
   },
   "outputs": [],
   "source": [
    "plt.style.use(FIG_ROOT/\"base.mplstyle\")\n",
    "torch.set_default_tensor_type(torch.DoubleTensor)"
   ]
  },
  {
   "cell_type": "code",
   "execution_count": null,
   "id": "e0cb5a3d-1ab1-4bc0-bfce-d7ebaedb0391",
   "metadata": {},
   "outputs": [],
   "source": []
  },
  {
   "cell_type": "code",
   "execution_count": null,
   "id": "d0af2f35",
   "metadata": {},
   "outputs": [],
   "source": []
  },
  {
   "cell_type": "markdown",
   "id": "21e4ccea",
   "metadata": {},
   "source": [
    "# Params"
   ]
  },
  {
   "cell_type": "code",
   "execution_count": 24,
   "id": "977784a7-3e90-4016-9958-9766c871dc0f",
   "metadata": {
    "ExecuteTime": {
     "end_time": "2023-05-31T23:31:16.397628Z",
     "start_time": "2023-05-31T23:31:16.221812Z"
    },
    "execution": {
     "iopub.execute_input": "2024-01-18T23:13:20.531854Z",
     "iopub.status.busy": "2024-01-18T23:13:20.531342Z",
     "iopub.status.idle": "2024-01-18T23:13:20.565256Z",
     "shell.execute_reply": "2024-01-18T23:13:20.564651Z",
     "shell.execute_reply.started": "2024-01-18T23:13:20.531825Z"
    },
    "tags": [
     "param"
    ]
   },
   "outputs": [],
   "source": [
    "np.random.seed(0)\n",
    "c = 0\n",
    "\n",
    "setting = settings.n1\n",
    "data_gen_params = setting.data_gen_params\n",
    "data_gen_params.cs = data_gen_params.cs_fn(c)\n",
    "data_gen_params.gt_beta = data_gen_params.beta_fn(data_gen_params.cs)\n",
    "\n",
    "num_rep = 200\n",
    "Cmat = np.eye(data_gen_params.d - len(setting.sel_idx))\n",
    "save_dir = RES_ROOT/f\"simu_logi_setting{setting.setting}_test\"\n",
    "if not save_dir.exists():\n",
    "    save_dir.mkdir()"
   ]
  },
  {
   "cell_type": "code",
   "execution_count": 25,
   "id": "471da5a7-12ee-41fc-bfa1-2e3eaf045f49",
   "metadata": {
    "execution": {
     "iopub.execute_input": "2024-01-18T23:13:21.765469Z",
     "iopub.status.busy": "2024-01-18T23:13:21.764678Z",
     "iopub.status.idle": "2024-01-18T23:13:21.798606Z",
     "shell.execute_reply": "2024-01-18T23:13:21.798061Z",
     "shell.execute_reply.started": "2024-01-18T23:13:21.765433Z"
    },
    "tags": []
   },
   "outputs": [],
   "source": [
    "def _get_logi_int(data_gen_params, n_jobs=30, num_rep=100):\n",
    "    ress = []\n",
    "    for inte in tqdm(data_gen_params.intercept_cans):\n",
    "        gt_alp = np.concatenate([[inte], data_gen_params.gt_alp0])\n",
    "        def _run_fn(seed, data_gen_params=data_gen_params):\n",
    "            data = gen_simu_psd_dataset(n=data_gen_params.n, \n",
    "                                        d=data_gen_params.d, \n",
    "                                        q=data_gen_params.q, \n",
    "                                        types_=data_gen_params.types_, \n",
    "                                        gt_alp=gt_alp, \n",
    "                                        gt_beta=data_gen_params.gt_beta, \n",
    "                                        freqs=data_gen_params.freqs, \n",
    "                                        data_type=data_gen_params.data_type, \n",
    "                                        data_params=data_gen_params.data_params, \n",
    "                                        seed=seed, \n",
    "                                        is_std=data_gen_params.is_std, \n",
    "                                        verbose=1, \n",
    "                                        is_gen=False);\n",
    "            return data.Y.numpy()\n",
    "        with Parallel(n_jobs=n_jobs) as parallel:\n",
    "            res = parallel(delayed(_run_fn)(seed) for seed in range(num_rep))\n",
    "        ress.append(np.array(res))\n",
    "\n",
    "\n",
    "    # get the intercept\n",
    "    Yms = np.array([res.mean() for res in ress])\n",
    "    intercept = data_gen_params.intercept_cans[np.argmin(np.abs(Yms-0.5))]\n",
    "    print(f\"The mean of Y is {Yms[np.argmin(np.abs(Yms-0.5))]:.3f} under intercept {intercept:.3f}.\")\n",
    "    gt_alp = np.concatenate([[intercept], data_gen_params.gt_alp0])\n",
    "    return gt_alp"
   ]
  },
  {
   "cell_type": "code",
   "execution_count": 26,
   "id": "b3a654a9-8c4c-4155-a86c-4c2c4b8fc7a8",
   "metadata": {
    "execution": {
     "iopub.execute_input": "2024-01-18T23:13:26.290338Z",
     "iopub.status.busy": "2024-01-18T23:13:26.289831Z",
     "iopub.status.idle": "2024-01-18T23:13:52.890690Z",
     "shell.execute_reply": "2024-01-18T23:13:52.889949Z",
     "shell.execute_reply.started": "2024-01-18T23:13:26.290310Z"
    },
    "scrolled": true,
    "tags": []
   },
   "outputs": [
    {
     "name": "stderr",
     "output_type": "stream",
     "text": [
      "100%|██████████████████████████████████████████████████████████████████████████████████████████████████████████████████████████████████████████| 20/20 [00:26<00:00,  1.33s/it]"
     ]
    },
    {
     "name": "stdout",
     "output_type": "stream",
     "text": [
      "The mean of Y is 0.435 under intercept -7.158.\n"
     ]
    },
    {
     "name": "stderr",
     "output_type": "stream",
     "text": [
      "\n"
     ]
    }
   ],
   "source": [
    "data_gen_params.gt_alp = _get_logi_int(data_gen_params, 5);"
   ]
  },
  {
   "cell_type": "markdown",
   "id": "324c61ec-d16f-48ea-a1ad-de39801a40ef",
   "metadata": {},
   "source": [
    "# Simu"
   ]
  },
  {
   "cell_type": "markdown",
   "id": "66c2f90f",
   "metadata": {
    "ExecuteTime": {
     "end_time": "2022-12-08T18:09:55.509389Z",
     "start_time": "2022-12-08T18:09:55.343396Z"
    }
   },
   "source": [
    "## Check data gen fn"
   ]
  },
  {
   "cell_type": "code",
   "execution_count": 27,
   "id": "b2b0eac7-57e2-48d2-a57d-87f85337b4a7",
   "metadata": {
    "execution": {
     "iopub.execute_input": "2024-01-18T23:13:55.884027Z",
     "iopub.status.busy": "2024-01-18T23:13:55.883061Z",
     "iopub.status.idle": "2024-01-18T23:13:56.031702Z",
     "shell.execute_reply": "2024-01-18T23:13:56.030996Z",
     "shell.execute_reply.started": "2024-01-18T23:13:55.883993Z"
    },
    "tags": []
   },
   "outputs": [],
   "source": [
    "data = gen_simu_psd_dataset(n=data_gen_params.n, \n",
    "                            d=data_gen_params.d, \n",
    "                            q=data_gen_params.q, \n",
    "                            types_=data_gen_params.types_, \n",
    "                            gt_alp=data_gen_params.gt_alp, \n",
    "                            gt_beta=data_gen_params.gt_beta, \n",
    "                            freqs=data_gen_params.freqs, \n",
    "                            data_type=data_gen_params.data_type, \n",
    "                            data_params=data_gen_params.data_params, \n",
    "                            seed=0, \n",
    "                            is_std=data_gen_params.is_std, \n",
    "                            verbose=1, \n",
    "                            is_gen=False);"
   ]
  },
  {
   "cell_type": "code",
   "execution_count": 28,
   "id": "4ae5a212-ef32-4152-8f46-615e2117e931",
   "metadata": {
    "execution": {
     "iopub.execute_input": "2024-01-18T23:13:56.574860Z",
     "iopub.status.busy": "2024-01-18T23:13:56.574169Z",
     "iopub.status.idle": "2024-01-18T23:13:56.803210Z",
     "shell.execute_reply": "2024-01-18T23:13:56.802556Z",
     "shell.execute_reply.started": "2024-01-18T23:13:56.574832Z"
    },
    "tags": []
   },
   "outputs": [
    {
     "data": {
      "text/plain": [
       "[<matplotlib.lines.Line2D at 0x7f4327f82670>]"
      ]
     },
     "execution_count": 28,
     "metadata": {},
     "output_type": "execute_result"
    },
    {
     "data": {
      "image/png": "[encoded data removed]",
      "text/plain": [
       "<Figure size 432x288 with 1 Axes>"
      ]
     },
     "metadata": {
      "needs_background": "light"
     },
     "output_type": "display_data"
    }
   ],
   "source": [
    "sub_idx = 100\n",
    "for roi_ix in range(20):\n",
    "    plt.plot(data.X[sub_idx, roi_ix, :])\n",
    "plt.plot(data.X[sub_idx, :, :].mean(axis=0))"
   ]
  },
  {
   "cell_type": "markdown",
   "id": "09b0ec89-ac82-4079-acc3-6649993a0444",
   "metadata": {
    "tags": []
   },
   "source": [
    "## SIS check (just for check)"
   ]
  },
  {
   "cell_type": "code",
   "execution_count": 29,
   "id": "95a15192-2e48-424f-acd9-1cd41ee7a215",
   "metadata": {
    "execution": {
     "iopub.execute_input": "2024-01-18T23:13:58.758659Z",
     "iopub.status.busy": "2024-01-18T23:13:58.757718Z",
     "iopub.status.idle": "2024-01-18T23:13:58.790951Z",
     "shell.execute_reply": "2024-01-18T23:13:58.790272Z",
     "shell.execute_reply.started": "2024-01-18T23:13:58.758619Z"
    },
    "tags": []
   },
   "outputs": [],
   "source": [
    "def _SIS_fn(seed, SIS_ratio, N, SIS_pen, setting):\n",
    "    torch.set_default_dtype(torch.double)\n",
    "    np.random.seed(seed)\n",
    "    torch.manual_seed(seed)\n",
    "        \n",
    "    data_gen_params = edict(setting.data_gen_params.copy())\n",
    "    basis_mat = torch.tensor(obt_bsp(np.linspace(0, 1, data_gen_params.npts), N, 4)).to(torch.get_default_dtype())\n",
    "    #basis_mat = torch.tensor(obt_bsp(np.linspace(2, 45, data_gen_params.npts), N, 4)).to(torch.get_default_dtype())\n",
    "    cur_data = gen_simu_psd_dataset(n=data_gen_params.n, \n",
    "                                    d=data_gen_params.d, \n",
    "                                    q=data_gen_params.q, \n",
    "                                    types_=data_gen_params.types_, \n",
    "                                    gt_alp=data_gen_params.gt_alp, \n",
    "                                    gt_beta=data_gen_params.gt_beta, \n",
    "                                    freqs=data_gen_params.freqs, \n",
    "                                    data_type=data_gen_params.data_type, \n",
    "                                    data_params=data_gen_params.data_params, \n",
    "                                    seed=seed, \n",
    "                                    is_std=data_gen_params.is_std, \n",
    "                                    verbose=1, \n",
    "                                    is_gen=False);\n",
    "    \n",
    "    keep_idxs, _  = SIS_GLIM(Y=cur_data.Y, X=cur_data.X, Z=cur_data.Z, \n",
    "                             basis_mat=basis_mat, keep_ratio=SIS_ratio, \n",
    "                             model_type=setting.model_type, SIS_pen=SIS_pen, sel_idx=setting.sel_idx)\n",
    "    M_idxs = np.delete(np.arange(data_gen_params.d), setting.sel_idx)\n",
    "    keep_idxs = np.sort(np.concatenate([M_idxs, keep_idxs]))\n",
    "    return keep_idxs"
   ]
  },
  {
   "cell_type": "code",
   "execution_count": 30,
   "id": "e232013c-a4b7-4adb-98cc-0037d977ef20",
   "metadata": {
    "execution": {
     "iopub.execute_input": "2024-01-18T23:14:01.894195Z",
     "iopub.status.busy": "2024-01-18T23:14:01.893691Z",
     "iopub.status.idle": "2024-01-18T23:14:22.010290Z",
     "shell.execute_reply": "2024-01-18T23:14:22.009451Z",
     "shell.execute_reply.started": "2024-01-18T23:14:01.894170Z"
    },
    "scrolled": true,
    "tags": []
   },
   "outputs": [
    {
     "name": "stderr",
     "output_type": "stream",
     "text": [
      "  0%|                                                                                                                                                  | 0/200 [00:00<?, ?it/s]R[write to console]: \n",
      "Attaching package: ‘orthogonalsplinebasis’\n",
      "\n",
      "\n",
      "R[write to console]: \n",
      "Attaching package: ‘orthogonalsplinebasis’\n",
      "\n",
      "\n",
      "R[write to console]: \n",
      "Attaching package: ‘orthogonalsplinebasis’\n",
      "\n",
      "\n",
      "R[write to console]: \n",
      "Attaching package: ‘orthogonalsplinebasis’\n",
      "\n",
      "\n",
      "R[write to console]: The following object is masked from ‘package:stats’:\n",
      "\n",
      "    integrate\n",
      "\n",
      "\n",
      "R[write to console]: The following object is masked from ‘package:stats’:\n",
      "\n",
      "    integrate\n",
      "\n",
      "\n",
      "R[write to console]: The following object is masked from ‘package:stats’:\n",
      "\n",
      "    integrate\n",
      "\n",
      "\n",
      "R[write to console]: The following object is masked from ‘package:stats’:\n",
      "\n",
      "    integrate\n",
      "\n",
      "\n",
      "R[write to console]: \n",
      "Attaching package: ‘orthogonalsplinebasis’\n",
      "\n",
      "\n",
      "R[write to console]: The following object is masked from ‘package:stats’:\n",
      "\n",
      "    integrate\n",
      "\n",
      "\n",
      "100%|████████████████████████████████████████████████████████████████████████████████████████████████████████████████████████████████████████| 200/200 [00:19<00:00, 10.53it/s]\n"
     ]
    }
   ],
   "source": [
    "obt_bsp = obt_bsp_obasis_Rfn\n",
    "num_rep = 200\n",
    "with Parallel(n_jobs=5) as parallel:\n",
    "    keep_idxss = parallel(delayed(_SIS_fn)(seed, 0.20, N=8, SIS_pen=0.02, setting=setting) for seed in \n",
    "                          tqdm(range(0, num_rep), total=num_rep))"
   ]
  },
  {
   "cell_type": "code",
   "execution_count": 31,
   "id": "fa326890-75ba-4555-a8e2-5931508a002e",
   "metadata": {
    "execution": {
     "iopub.execute_input": "2024-01-18T23:14:22.242930Z",
     "iopub.status.busy": "2024-01-18T23:14:22.242422Z",
     "iopub.status.idle": "2024-01-18T23:14:22.455614Z",
     "shell.execute_reply": "2024-01-18T23:14:22.454922Z",
     "shell.execute_reply.started": "2024-01-18T23:14:22.242901Z"
    },
    "tags": []
   },
   "outputs": [
    {
     "data": {
      "text/plain": [
       "Text(0.5, 1.0, '[0.2   0.18  0.18  0.185 0.19  0.175 1.   ]')"
      ]
     },
     "execution_count": 31,
     "metadata": {},
     "output_type": "execute_result"
    },
    {
     "data": {
      "image/png": "[encoded data removed]",
      "text/plain": [
       "<Figure size 432x288 with 1 Axes>"
      ]
     },
     "metadata": {
      "needs_background": "light"
     },
     "output_type": "display_data"
    }
   ],
   "source": [
    "vs, cts = np.unique(np.concatenate(keep_idxss), return_counts=1);\n",
    "cts = cts[np.argsort(vs)]/len(keep_idxss)\n",
    "vs = np.sort(vs);\n",
    "plt.plot(vs, cts, \".\")\n",
    "plt.title(f\"{cts[vs > 60]}\")"
   ]
  },
  {
   "cell_type": "code",
   "execution_count": null,
   "id": "be9dad8c-0fcf-4d93-b3b9-d9dc5d2dfe77",
   "metadata": {},
   "outputs": [],
   "source": []
  },
  {
   "cell_type": "markdown",
   "id": "8148a0dd-0b8b-4f04-a43a-a75cfd20ae1f",
   "metadata": {},
   "source": [
    "## Simulation"
   ]
  },
  {
   "cell_type": "code",
   "execution_count": null,
   "id": "96d90cac-bc30-4f2a-84fd-86b8af6e2a00",
   "metadata": {},
   "outputs": [],
   "source": []
  },
  {
   "cell_type": "code",
   "execution_count": 10,
   "id": "0f9eca46-ade4-40fa-83f5-b8db4ff10947",
   "metadata": {
    "execution": {
     "iopub.execute_input": "2024-01-16T00:34:16.100013Z",
     "iopub.status.busy": "2024-01-16T00:34:16.099546Z",
     "iopub.status.idle": "2024-01-16T00:34:16.132993Z",
     "shell.execute_reply": "2024-01-16T00:34:16.132174Z",
     "shell.execute_reply.started": "2024-01-16T00:34:16.099985Z"
    },
    "tags": []
   },
   "outputs": [],
   "source": [
    "def _run_fn(seed, lam, N, setting, is_save=False, is_cv=False, verbose=2):\n",
    "    \"\"\"Now (on Aug 25, 2023), if we keep seed the same, the cur_data is the same. \n",
    "       If you want to make any changes, make sure this. \n",
    "    \"\"\"\n",
    "    torch.set_default_dtype(torch.double)\n",
    "    np.random.seed(seed)\n",
    "    torch.manual_seed(seed)\n",
    "        \n",
    "    _setting = edict(setting.copy())\n",
    "    _setting.seed = seed\n",
    "    _setting.lam = lam\n",
    "    _setting.N = N\n",
    "    \n",
    "    data_gen_params = setting.data_gen_params\n",
    "    \n",
    "    f_name = f\"seed_{seed:.0f}-lam_{lam*1000:.0f}-N_{N:.0f}_fit.pkl\"\n",
    "    \n",
    "    \n",
    "    if not (save_dir/f_name).exists():\n",
    "        cur_data = gen_simu_psd_dataset(n=data_gen_params.n, \n",
    "                            d=data_gen_params.d, \n",
    "                            q=data_gen_params.q, \n",
    "                            types_=data_gen_params.types_, \n",
    "                            gt_alp=data_gen_params.gt_alp, \n",
    "                            gt_beta=data_gen_params.gt_beta, \n",
    "                            freqs=data_gen_params.freqs, \n",
    "                            data_type=data_gen_params.data_type, \n",
    "                            data_params=data_gen_params.data_params, \n",
    "                            seed=seed, \n",
    "                            is_std=data_gen_params.is_std, \n",
    "                            verbose=verbose, \n",
    "                            is_gen=False);\n",
    "        hdf_fit = HDFOpt(lam=_setting.lam, \n",
    "                         sel_idx=_setting.sel_idx, \n",
    "                         model_type=_setting.model_type,\n",
    "                         verbose=verbose, \n",
    "                         SIS_ratio=_setting.SIS_ratio, \n",
    "                         N=_setting.N,\n",
    "                         is_std_data=True, \n",
    "                         cov_types=None, \n",
    "                         inits=None,\n",
    "                         model_params = _setting.model_params, \n",
    "                         SIS_params = _setting.SIS_params, \n",
    "                         opt_params = _setting.opt_params,\n",
    "                         bsp_params = _setting.bsp_params, \n",
    "                         pen_params = _setting.pen_params\n",
    "               );\n",
    "        hdf_fit.add_data(cur_data.X, cur_data.Y, cur_data.Z)\n",
    "        opt_res = hdf_fit.fit()\n",
    "        \n",
    "        if is_cv:\n",
    "            hdf_fit.get_cv_est(_setting.num_cv_fold)\n",
    "        if is_save:\n",
    "            hdf_fit.save(save_dir/f_name, is_compact=False, is_force=True)\n",
    "    else:\n",
    "        hdf_fit = load_pkl(save_dir/f_name, verbose>=2);\n",
    "        \n",
    "    return hdf_fit\n"
   ]
  },
  {
   "cell_type": "code",
   "execution_count": null,
   "id": "dde1b6a7-747d-400a-879a-bf4724ebfc13",
   "metadata": {
    "tags": []
   },
   "outputs": [],
   "source": []
  },
  {
   "cell_type": "raw",
   "id": "4c09f840-848b-4c44-9b00-6a038ee2a318",
   "metadata": {
    "execution": {
     "iopub.execute_input": "2023-09-21T23:20:31.625325Z",
     "iopub.status.busy": "2023-09-21T23:20:31.624679Z",
     "iopub.status.idle": "2023-09-21T23:21:25.262561Z",
     "shell.execute_reply": "2023-09-21T23:21:25.261234Z",
     "shell.execute_reply.started": "2023-09-21T23:20:31.625279Z"
    },
    "tags": []
   },
   "source": [
    "all_coms = itertools.product(range(0, num_rep), setting.can_lams, setting.can_Ns)\n",
    "with Parallel(n_jobs=5) as parallel:\n",
    "    ress = parallel(delayed(_run_fn)(seed, lam=lam, N=N, setting=setting, is_save=True, is_cv=True, verbose=1) \n",
    "                    for seed, lam, N \n",
    "                    in tqdm(all_coms, total=len(setting.can_Ns)*len(setting.can_lams)*num_rep))"
   ]
  },
  {
   "cell_type": "code",
   "execution_count": null,
   "id": "b64ec903-256d-4b9f-89be-6725629c1ef4",
   "metadata": {},
   "outputs": [],
   "source": []
  },
  {
   "cell_type": "markdown",
   "id": "ee5b93bf-12d5-40d9-b925-79fc4fb2b4a8",
   "metadata": {},
   "source": [
    "### single test"
   ]
  },
  {
   "cell_type": "code",
   "execution_count": 15,
   "id": "f55e3f06-588a-45cd-8da0-e7ff8c2c72e8",
   "metadata": {
    "execution": {
     "iopub.execute_input": "2024-01-16T00:35:00.402714Z",
     "iopub.status.busy": "2024-01-16T00:35:00.402013Z",
     "iopub.status.idle": "2024-01-16T00:35:00.429446Z",
     "shell.execute_reply": "2024-01-16T00:35:00.428862Z",
     "shell.execute_reply.started": "2024-01-16T00:35:00.402687Z"
    },
    "tags": []
   },
   "outputs": [],
   "source": []
  },
  {
   "cell_type": "code",
   "execution_count": 17,
   "id": "02d10b93-0e05-46e8-b0c1-71d2efeb8ed1",
   "metadata": {
    "execution": {
     "iopub.execute_input": "2024-01-16T00:35:15.832862Z",
     "iopub.status.busy": "2024-01-16T00:35:15.832364Z",
     "iopub.status.idle": "2024-01-16T00:35:17.596546Z",
     "shell.execute_reply": "2024-01-16T00:35:17.595955Z",
     "shell.execute_reply.started": "2024-01-16T00:35:15.832832Z"
    },
    "scrolled": true,
    "tags": []
   },
   "outputs": [
    {
     "name": "stdout",
     "output_type": "stream",
     "text": [
      "Load file /data/rajlab1/user_data/jin/MyResearch/HDF_infer/notebooks/simu_real/../../mypkg/../mid_results/PSD_d-68_n-500_npts-100_is_std-False/seed_2.pkl\n"
     ]
    },
    {
     "name": "stderr",
     "output_type": "stream",
     "text": [
      "2024-01-15 16:35:16,167 - optimization.opt - INFO - opt parmas is {'stop_cv': 0.0005, 'max_iter': 2000, 'one_step_verbose': 0, 'alpha': 0.9, 'beta': 1.5, 'R': 200000.0, 'N_eps': 0.0001, 'N_maxit': 100, 'is_BFGS': 'adaptive'}.\n",
      "2024-01-15 16:35:16,168 - optimization.opt - INFO - SIS parmas is {'SIS_pen': 0.02, 'SIS_basis_N': 8, 'SIS_basis_ord': 4, 'SIS_ratio': 0.2}.\n",
      "2024-01-15 16:35:16,168 - optimization.opt - INFO - model parmas is {}.\n",
      "2024-01-15 16:35:16,169 - optimization.opt - INFO - penalty parmas is {'a': 3.7, 'lam': 0.2}.\n",
      "2024-01-15 16:35:16,169 - optimization.opt - INFO - bspline parmas is {'basis_ord': 4, 'is_orth_basis': True, 'N': 6}.\n",
      "2024-01-15 16:35:16,169 - optimization.opt - INFO - As cov_types is not provided, inferring the continuous covariates.\n",
      "Main Loop:   2%|█▊                                                                                        | 40/2000 [00:00<00:47, 41.20it/s, error=0.00185, GamL0=2, CV=0.0005]\n",
      "2024-01-15 16:35:17,584 - optimization.opt - INFO - hypo parmas is {'svdinv_eps_Q': 1e-07, 'svdinv_eps_Psi': 1e-07, 'Cmat': array([[1.]])}.\n"
     ]
    },
    {
     "data": {
      "text/plain": [
       "{'pval': 0.3193537012746873, 'T_v': tensor(7.0162)}"
      ]
     },
     "execution_count": 17,
     "metadata": {},
     "output_type": "execute_result"
    }
   ],
   "source": [
    "seed = 2\n",
    "lam = 0.2\n",
    "N = 6 \n",
    "\n",
    "setting.SIS_ratio = 0.2\n",
    "res = _run_fn(seed=seed, lam=lam, N=N, setting=setting, is_cv=False, is_save=False, verbose=2)\n",
    "res.hypo_test(Cmat)"
   ]
  },
  {
   "cell_type": "code",
   "execution_count": 18,
   "id": "3a43113b-12c2-4aa7-b798-559aaa31b094",
   "metadata": {
    "execution": {
     "iopub.execute_input": "2024-01-16T00:35:24.805231Z",
     "iopub.status.busy": "2024-01-16T00:35:24.804726Z",
     "iopub.status.idle": "2024-01-16T00:35:55.991737Z",
     "shell.execute_reply": "2024-01-16T00:35:55.991082Z",
     "shell.execute_reply.started": "2024-01-16T00:35:24.805205Z"
    },
    "scrolled": true,
    "tags": []
   },
   "outputs": [
    {
     "name": "stderr",
     "output_type": "stream",
     "text": [
      "2024-01-15 16:35:24,922 - optimization.opt - INFO - opt parmas is {'stop_cv': 0.0005, 'max_iter': 2000, 'one_step_verbose': 0, 'alpha': 0.9, 'beta': 1.5, 'R': 200000.0, 'N_eps': 0.0001, 'N_maxit': 100, 'is_BFGS': 'adaptive'}.\n",
      "2024-01-15 16:35:24,922 - optimization.opt - INFO - SIS parmas is {'SIS_pen': 0.02, 'SIS_basis_N': 8, 'SIS_basis_ord': 4, 'SIS_ratio': 1}.\n",
      "2024-01-15 16:35:24,923 - optimization.opt - INFO - model parmas is {}.\n",
      "2024-01-15 16:35:24,923 - optimization.opt - INFO - penalty parmas is {'a': 3.7, 'lam': 0.2}.\n",
      "2024-01-15 16:35:24,924 - optimization.opt - INFO - bspline parmas is {'basis_ord': 4, 'is_orth_basis': True, 'N': 6}.\n",
      "2024-01-15 16:35:24,924 - optimization.opt - INFO - As cov_types is not provided, inferring the continuous covariates.\n"
     ]
    },
    {
     "name": "stdout",
     "output_type": "stream",
     "text": [
      "Load file /data/rajlab1/user_data/jin/MyResearch/HDF_infer/notebooks/simu_real/../../mypkg/../mid_results/PSD_d-68_n-500_npts-100_is_std-False/seed_2.pkl\n"
     ]
    },
    {
     "name": "stderr",
     "output_type": "stream",
     "text": [
      "Main Loop:   2%|██▏                                                                                        | 48/2000 [00:30<20:55,  1.55it/s, error=0.0157, GamL0=3, CV=0.0005]\n",
      "2024-01-15 16:35:55,823 - optimization.opt - INFO - hypo parmas is {'svdinv_eps_Q': 1e-07, 'svdinv_eps_Psi': 1e-07, 'Cmat': array([[1.]])}.\n"
     ]
    },
    {
     "data": {
      "text/plain": [
       "{'pval': 0.2772457878129873, 'T_v': tensor(7.4979)}"
      ]
     },
     "execution_count": 18,
     "metadata": {},
     "output_type": "execute_result"
    }
   ],
   "source": [
    "seed = 2\n",
    "lam = 0.2\n",
    "N = 6 \n",
    "\n",
    "setting.SIS_ratio = 1\n",
    "res = _run_fn(seed=seed, lam=lam, N=N, setting=setting, is_cv=False, is_save=False, verbose=2)\n",
    "res.hypo_test(Cmat)"
   ]
  },
  {
   "cell_type": "code",
   "execution_count": 20,
   "id": "0ad2dce4-8670-4c0e-a924-14edd25fcd9c",
   "metadata": {
    "execution": {
     "iopub.execute_input": "2024-01-04T04:36:34.621901Z",
     "iopub.status.busy": "2024-01-04T04:36:34.621279Z",
     "iopub.status.idle": "2024-01-04T04:36:34.667772Z",
     "shell.execute_reply": "2024-01-04T04:36:34.667042Z",
     "shell.execute_reply.started": "2024-01-04T04:36:34.621853Z"
    },
    "tags": []
   },
   "outputs": [],
   "source": [
    "from utils.misc import bcross_entropy_loss\n",
    "def _get_valset_metric_fn(res):\n",
    "    valsel_metrics = edict()\n",
    "    valsel_metrics.entroy_loss = bcross_entropy_loss(res.cv_Y_est, res.Y.numpy());\n",
    "    valsel_metrics.mse_loss = np.mean((res.cv_Y_est- res.Y.numpy())**2);\n",
    "    valsel_metrics.mae_loss = np.mean(np.abs(res.cv_Y_est-res.Y.numpy()));\n",
    "    valsel_metrics.cv_probs = res.cv_Y_est\n",
    "    valsel_metrics.tY = res.Y.numpy()\n",
    "    return valsel_metrics\n",
    "def _run_fn_extract(seed, N, lam, c1):\n",
    "    f_name = f\"seed_{seed:.0f}-lam_{lam*1000:.0f}-N_{N:.0f}-c1_{c1*1000:.0f}_fit.pkl\"\n",
    "    res = load_pkl(save_dir/f_name, verbose=0)\n",
    "    return (seed, N, lam), _get_valset_metric_fn(res)"
   ]
  },
  {
   "cell_type": "code",
   "execution_count": null,
   "id": "f6afd8db-a56c-4b54-8889-df560fd981e1",
   "metadata": {
    "execution": {
     "iopub.execute_input": "2024-01-04T00:26:24.663134Z",
     "iopub.status.busy": "2024-01-04T00:26:24.662573Z",
     "iopub.status.idle": "2024-01-04T00:26:24.827913Z",
     "shell.execute_reply": "2024-01-04T00:26:24.827368Z",
     "shell.execute_reply.started": "2024-01-04T00:26:24.663089Z"
    },
    "tags": []
   },
   "outputs": [],
   "source": []
  },
  {
   "cell_type": "code",
   "execution_count": null,
   "id": "1d20191b-e6eb-469e-9432-d8780275a47e",
   "metadata": {
    "execution": {
     "iopub.execute_input": "2024-01-04T00:26:24.663134Z",
     "iopub.status.busy": "2024-01-04T00:26:24.662573Z",
     "iopub.status.idle": "2024-01-04T00:26:24.827913Z",
     "shell.execute_reply": "2024-01-04T00:26:24.827368Z",
     "shell.execute_reply.started": "2024-01-04T00:26:24.663089Z"
    },
    "tags": []
   },
   "outputs": [],
   "source": []
  },
  {
   "cell_type": "code",
   "execution_count": null,
   "id": "1fb460ad-c825-4a0b-a1e7-45669bec59ad",
   "metadata": {
    "execution": {
     "iopub.execute_input": "2024-01-04T00:26:24.663134Z",
     "iopub.status.busy": "2024-01-04T00:26:24.662573Z",
     "iopub.status.idle": "2024-01-04T00:26:24.827913Z",
     "shell.execute_reply": "2024-01-04T00:26:24.827368Z",
     "shell.execute_reply.started": "2024-01-04T00:26:24.663089Z"
    },
    "tags": []
   },
   "outputs": [],
   "source": [
    "est_beta = res.basis_mat @ res.est_Gam\n",
    "gt_beta = paras.beta_GT[:, res.keep_idxs]\n",
    "idx = -1\n",
    "plt.plot(est_beta[:, idx], label=\"EST\")\n",
    "plt.plot(gt_beta[:, idx], label=\"GT\")\n",
    "plt.legend()"
   ]
  },
  {
   "cell_type": "code",
   "execution_count": null,
   "id": "883c4365-e74b-4330-bb1d-e090033a7c2e",
   "metadata": {
    "tags": []
   },
   "outputs": [],
   "source": []
  },
  {
   "cell_type": "code",
   "execution_count": null,
   "id": "5a0bab91-13d0-4d5a-8d4a-c81bf753f101",
   "metadata": {},
   "outputs": [],
   "source": []
  },
  {
   "cell_type": "markdown",
   "id": "c6071092-a8df-482e-a1e4-406cf8da1ef1",
   "metadata": {},
   "source": [
    "### Multipe test"
   ]
  },
  {
   "cell_type": "code",
   "execution_count": 18,
   "id": "b8a5f026-e1d1-42cd-855b-3b16cbc947f9",
   "metadata": {
    "execution": {
     "iopub.execute_input": "2024-01-04T00:38:42.677952Z",
     "iopub.status.busy": "2024-01-04T00:38:42.677371Z",
     "iopub.status.idle": "2024-01-04T00:38:42.718031Z",
     "shell.execute_reply": "2024-01-04T00:38:42.717166Z",
     "shell.execute_reply.started": "2024-01-04T00:38:42.677904Z"
    },
    "tags": []
   },
   "outputs": [],
   "source": [
    "def outlier_det(T_vs, ratio_tol=0.05):\n",
    "    \"\"\"\n",
    "    Detects outliers in a given dataset using the interquartile range (IQR) method.\n",
    "\n",
    "    Parameters:\n",
    "    - T_vs (array-like): The input dataset.\n",
    "    - ratio_tol (float, optional): The tolerance ratio for outlier removal. Default is 0.05.\n",
    "\n",
    "    Returns:\n",
    "    - kpidx (ndarray): A boolean array indicating whether each data point is an outlier or not.\n",
    "    \"\"\"\n",
    "    Q1, Q3 = np.quantile(T_vs, [0.25, 0.75])\n",
    "    IQR = Q3 - Q1\n",
    "    upbd = Q3 + 1.5*IQR\n",
    "    lowbd = Q1 - 1.5*IQR\n",
    "    kpidx = np.bitwise_and(T_vs>=lowbd, T_vs<=upbd)\n",
    "    \n",
    "    if np.mean(kpidx)+ ratio_tol < 1:\n",
    "        out_part = np.stack([T_vs - upbd, lowbd - T_vs]).T.max(axis=1);\n",
    "        kpidx = np.ones(len(T_vs), dtype=bool)\n",
    "        kpidx[np.argsort(-out_part)[:int(len(T_vs)*ratio_tol)]] = False\n",
    "    return kpidx"
   ]
  },
  {
   "cell_type": "code",
   "execution_count": 24,
   "id": "506c46a1-0497-4491-bf75-fb97a632f342",
   "metadata": {
    "execution": {
     "iopub.execute_input": "2024-01-04T00:40:18.859878Z",
     "iopub.status.busy": "2024-01-04T00:40:18.859291Z",
     "iopub.status.idle": "2024-01-04T00:40:55.853609Z",
     "shell.execute_reply": "2024-01-04T00:40:55.852605Z",
     "shell.execute_reply.started": "2024-01-04T00:40:18.859830Z"
    },
    "scrolled": true,
    "tags": []
   },
   "outputs": [
    {
     "name": "stderr",
     "output_type": "stream",
     "text": [
      "\n",
      "\n",
      "\n",
      "  0%|                                                                                                                                                  | 0/200 [00:00<?, ?it/s]\u001b[A\u001b[A\u001b[A\n",
      "\n",
      "\n",
      " 10%|█████████████▋                                                                                                                           | 20/200 [00:00<00:02, 77.22it/s]\u001b[A\u001b[A\u001b[A2024-01-03 16:40:21,776 - optimization.opt - INFO - opt parmas is {'svdinv_eps_Q': 1e-07, 'svdinv_eps_Psi': 1e-07, 'Cmat': array([[1.]])}.\n",
      "\n",
      "\n",
      "\n",
      " 20%|███████████████████████████▍                                                                                                             | 40/200 [00:02<00:13, 12.16it/s]\u001b[A\u001b[A\u001b[AR[write to console]: \n",
      "Attaching package: ‘orthogonalsplinebasis’\n",
      "\n",
      "\n",
      "R[write to console]: The following object is masked from ‘package:stats’:\n",
      "\n",
      "    integrate\n",
      "\n",
      "\n",
      "R[write to console]: \n",
      "Attaching package: ‘orthogonalsplinebasis’\n",
      "\n",
      "\n",
      "R[write to console]: The following object is masked from ‘package:stats’:\n",
      "\n",
      "    integrate\n",
      "\n",
      "\n",
      "R[write to console]: \n",
      "Attaching package: ‘orthogonalsplinebasis’\n",
      "\n",
      "\n",
      "R[write to console]: The following object is masked from ‘package:stats’:\n",
      "\n",
      "    integrate\n",
      "\n",
      "\n",
      "2024-01-03 16:40:22,121 - optimization.opt - INFO - opt parmas is {'svdinv_eps_Q': 1e-07, 'svdinv_eps_Psi': 1e-07, 'Cmat': array([[1.]])}.\n",
      "R[write to console]: \n",
      "Attaching package: ‘orthogonalsplinebasis’\n",
      "\n",
      "\n",
      "R[write to console]: The following object is masked from ‘package:stats’:\n",
      "\n",
      "    integrate\n",
      "\n",
      "\n",
      "R[write to console]: \n",
      "Attaching package: ‘orthogonalsplinebasis’\n",
      "\n",
      "\n",
      "R[write to console]: The following object is masked from ‘package:stats’:\n",
      "\n",
      "    integrate\n",
      "\n",
      "\n",
      "R[write to console]: \n",
      "Attaching package: ‘orthogonalsplinebasis’\n",
      "\n",
      "\n",
      "R[write to console]: The following object is masked from ‘package:stats’:\n",
      "\n",
      "    integrate\n",
      "\n",
      "\n",
      "R[write to console]: \n",
      "Attaching package: ‘orthogonalsplinebasis’\n",
      "\n",
      "\n",
      "R[write to console]: The following object is masked from ‘package:stats’:\n",
      "\n",
      "    integrate\n",
      "\n",
      "\n",
      "R[write to console]: \n",
      "Attaching package: ‘orthogonalsplinebasis’\n",
      "\n",
      "\n",
      "R[write to console]: The following object is masked from ‘package:stats’:\n",
      "\n",
      "    integrate\n",
      "\n",
      "\n",
      "R[write to console]: \n",
      "Attaching package: ‘orthogonalsplinebasis’\n",
      "\n",
      "\n",
      "R[write to console]: The following object is masked from ‘package:stats’:\n",
      "\n",
      "    integrate\n",
      "\n",
      "\n",
      "R[write to console]: \n",
      "Attaching package: ‘orthogonalsplinebasis’\n",
      "\n",
      "\n",
      "R[write to console]: The following object is masked from ‘package:stats’:\n",
      "\n",
      "    integrate\n",
      "\n",
      "\n",
      "R[write to console]: \n",
      "Attaching package: ‘orthogonalsplinebasis’\n",
      "\n",
      "\n",
      "R[write to console]: The following object is masked from ‘package:stats’:\n",
      "\n",
      "    integrate\n",
      "\n",
      "\n",
      "R[write to console]: \n",
      "Attaching package: ‘orthogonalsplinebasis’\n",
      "\n",
      "\n",
      "R[write to console]: The following object is masked from ‘package:stats’:\n",
      "\n",
      "    integrate\n",
      "\n",
      "\n",
      "R[write to console]: \n",
      "Attaching package: ‘orthogonalsplinebasis’\n",
      "\n",
      "\n",
      "R[write to console]: The following object is masked from ‘package:stats’:\n",
      "\n",
      "    integrate\n",
      "\n",
      "\n",
      "R[write to console]: \n",
      "Attaching package: ‘orthogonalsplinebasis’\n",
      "\n",
      "\n",
      "R[write to console]: The following object is masked from ‘package:stats’:\n",
      "\n",
      "    integrate\n",
      "\n",
      "\n",
      "R[write to console]: \n",
      "Attaching package: ‘orthogonalsplinebasis’\n",
      "\n",
      "\n",
      "R[write to console]: The following object is masked from ‘package:stats’:\n",
      "\n",
      "    integrate\n",
      "\n",
      "\n",
      "R[write to console]: \n",
      "Attaching package: ‘orthogonalsplinebasis’\n",
      "\n",
      "\n",
      "R[write to console]: The following object is masked from ‘package:stats’:\n",
      "\n",
      "    integrate\n",
      "\n",
      "\n",
      "R[write to console]: \n",
      "Attaching package: ‘orthogonalsplinebasis’\n",
      "\n",
      "\n",
      "R[write to console]: \n",
      "Attaching package: ‘orthogonalsplinebasis’\n",
      "\n",
      "\n",
      "R[write to console]: The following object is masked from ‘package:stats’:\n",
      "\n",
      "    integrate\n",
      "\n",
      "\n",
      "R[write to console]: The following object is masked from ‘package:stats’:\n",
      "\n",
      "    integrate\n",
      "\n",
      "\n",
      "R[write to console]: \n",
      "Attaching package: ‘orthogonalsplinebasis’\n",
      "\n",
      "\n",
      "R[write to console]: The following object is masked from ‘package:stats’:\n",
      "\n",
      "    integrate\n",
      "\n",
      "\n",
      "R[write to console]: \n",
      "Attaching package: ‘orthogonalsplinebasis’\n",
      "\n",
      "\n",
      "R[write to console]: The following object is masked from ‘package:stats’:\n",
      "\n",
      "    integrate\n",
      "\n",
      "\n",
      "\n",
      "\n",
      "\n",
      " 30%|█████████████████████████████████████████                                                                                                | 60/200 [00:07<00:19,  7.10it/s]\u001b[A\u001b[A\u001b[A\n",
      "\n",
      "\n",
      " 40%|██████████████████████████████████████████████████████▊                                                                                  | 80/200 [00:10<00:19,  6.29it/s]\u001b[A\u001b[A\u001b[A\n",
      "\n",
      "\n",
      " 50%|████████████████████████████████████████████████████████████████████                                                                    | 100/200 [00:14<00:16,  6.24it/s]\u001b[A\u001b[A\u001b[A\n",
      "\n",
      "\n",
      " 60%|█████████████████████████████████████████████████████████████████████████████████▌                                                      | 120/200 [00:18<00:13,  5.73it/s]\u001b[A\u001b[A\u001b[A\n",
      "\n",
      "\n",
      " 70%|███████████████████████████████████████████████████████████████████████████████████████████████▏                                        | 140/200 [00:21<00:10,  5.82it/s]\u001b[A\u001b[A\u001b[A\n",
      "\n",
      "\n",
      " 80%|████████████████████████████████████████████████████████████████████████████████████████████████████████████▊                           | 160/200 [00:24<00:06,  5.87it/s]\u001b[A\u001b[A\u001b[A\n",
      "\n",
      "\n",
      " 90%|██████████████████████████████████████████████████████████████████████████████████████████████████████████████████████████▍             | 180/200 [00:28<00:03,  5.92it/s]\u001b[A\u001b[A\u001b[A\n",
      "\n",
      "\n",
      "100%|████████████████████████████████████████████████████████████████████████████████████████████████████████████████████████████████████████| 200/200 [00:31<00:00,  6.31it/s]\u001b[A\u001b[A\u001b[A\n"
     ]
    }
   ],
   "source": [
    "seed = 12\n",
    "N = 6\n",
    "lam = 0.20\n",
    "setting.opt_params.beta = 1.5\n",
    "def _run_fn1(seed):\n",
    "    res = _run_fn(seed=seed, lam=lam, N=N, setting=setting, is_cv=False, verbose=1)\n",
    "    res.hypo_test(setting.Cmat, is_simpler=False)\n",
    "    test_res = edict()\n",
    "    test_res.update(res.hypo_test_res)\n",
    "    test_res.L0 = torch.sum(torch.linalg.norm(res.est_Gam, axis=0)!=0).item()\n",
    "    test_res.iters = res.conv_iter\n",
    "    return test_res\n",
    "    \n",
    "num_rep = 200\n",
    "with Parallel(n_jobs=20) as parallel:\n",
    "    test_ress = parallel(delayed(_run_fn1)(seed) for seed in tqdm(range(num_rep), total=num_rep))\n",
    "    "
   ]
  },
  {
   "cell_type": "code",
   "execution_count": 26,
   "id": "78d12832-08d2-4390-8003-6718c0552f92",
   "metadata": {
    "execution": {
     "iopub.execute_input": "2024-01-04T00:41:02.692837Z",
     "iopub.status.busy": "2024-01-04T00:41:02.692201Z",
     "iopub.status.idle": "2024-01-04T00:41:02.915506Z",
     "shell.execute_reply": "2024-01-04T00:41:02.915113Z",
     "shell.execute_reply.started": "2024-01-04T00:41:02.692789Z"
    },
    "tags": []
   },
   "outputs": [
    {
     "name": "stdout",
     "output_type": "stream",
     "text": [
      "The size is 0.052 and the mean of Tv is 6.520 and thoeretically it is 6. L0 is 2.93.\n"
     ]
    },
    {
     "data": {
      "text/plain": [
       "<matplotlib.legend.Legend at 0x7fb217884d60>"
      ]
     },
     "execution_count": 26,
     "metadata": {},
     "output_type": "execute_result"
    },
    {
     "data": {
      "image/png": "[encoded data removed]",
      "text/plain": [
       "<Figure size 432x288 with 1 Axes>"
      ]
     },
     "metadata": {
      "needs_background": "light"
     },
     "output_type": "display_data"
    }
   ],
   "source": [
    "pvals = np.array([res.pval for res in test_ress])\n",
    "T_vs = np.array([res.T_v for res in test_ress]);\n",
    "L0s = np.array([res.L0 for res in test_ress]);\n",
    "chi_df = setting.Cmat.shape[0]*N\n",
    "kpidx = outlier_det(T_vs, 0.05)\n",
    "print(\n",
    "    f\"The size is {np.mean(pvals[kpidx]<0.05):.3f} and \"\n",
    "    f\"the mean of Tv is {np.mean(T_vs[kpidx]):.3f} and thoeretically it is {chi_df:.0f}. \"\n",
    "    f\"L0 is {np.mean(L0s[kpidx]):.2f}.\"\n",
    "     )\n",
    "\n",
    "chi_df = setting.Cmat.shape[0]*N\n",
    "xs = np.linspace(0.1, 100, 100)\n",
    "theo_curvs_log = chi2.logpdf(xs, chi_df);\n",
    "plt.plot(xs, np.exp(theo_curvs_log) , label=\"theoretical\")\n",
    "sns.kdeplot(T_vs[kpidx], label=\"empirical\")\n",
    "plt.legend()"
   ]
  },
  {
   "cell_type": "raw",
   "id": "4dfa27d8-68e4-46a5-a1ca-46be460e599a",
   "metadata": {},
   "source": []
  }
 ],
 "metadata": {
  "kernelspec": {
   "display_name": "Python 3 (ipykernel)",
   "language": "python",
   "name": "python3"
  },
  "language_info": {
   "codemirror_mode": {
    "name": "ipython",
    "version": 3
   },
   "file_extension": ".py",
   "mimetype": "text/x-python",
   "name": "python",
   "nbconvert_exporter": "python",
   "pygments_lexer": "ipython3",
   "version": "3.9.7"
  },
  "toc": {
   "base_numbering": 1,
   "nav_menu": {},
   "number_sections": true,
   "sideBar": true,
   "skip_h1_title": false,
   "title_cell": "Table of Contents",
   "title_sidebar": "Contents",
   "toc_cell": false,
   "toc_position": {
    "height": "calc(100% - 180px)",
    "left": "10px",
    "top": "150px",
    "width": "165px"
   },
   "toc_section_display": true,
   "toc_window_display": true
  },
  "toc-autonumbering": true,
  "toc-showcode": false,
  "toc-showmarkdowntxt": false,
  "toc-showtags": false
 },
 "nbformat": 4,
 "nbformat_minor": 5
}
