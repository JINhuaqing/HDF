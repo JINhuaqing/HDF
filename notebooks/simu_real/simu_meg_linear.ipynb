{
 "cells": [
  {
   "cell_type": "markdown",
   "id": "faf0a805",
   "metadata": {},
   "source": [
    "This file contains python code to mimic real setting\n",
    "\n",
    "It is under the linear setting\n",
    "\n",
    "Now, I use the same beta and X from the paper "
   ]
  },
  {
   "cell_type": "code",
   "execution_count": 1,
   "id": "02ae980e",
   "metadata": {
    "ExecuteTime": {
     "end_time": "2023-05-31T19:57:23.490285Z",
     "start_time": "2023-05-31T19:57:23.481769Z"
    },
    "execution": {
     "iopub.execute_input": "2024-01-30T03:38:09.286114Z",
     "iopub.status.busy": "2024-01-30T03:38:09.285485Z",
     "iopub.status.idle": "2024-01-30T03:38:09.300774Z",
     "shell.execute_reply": "2024-01-30T03:38:09.299275Z",
     "shell.execute_reply.started": "2024-01-30T03:38:09.286067Z"
    },
    "tags": []
   },
   "outputs": [],
   "source": [
    "import sys\n",
    "sys.path.append(\"../../mypkg\")"
   ]
  },
  {
   "cell_type": "code",
   "execution_count": 2,
   "id": "023df78a",
   "metadata": {
    "ExecuteTime": {
     "end_time": "2023-05-31T19:57:34.238839Z",
     "start_time": "2023-05-31T19:57:23.494053Z"
    },
    "execution": {
     "iopub.execute_input": "2024-01-30T03:38:09.302545Z",
     "iopub.status.busy": "2024-01-30T03:38:09.302077Z",
     "iopub.status.idle": "2024-01-30T03:38:11.293747Z",
     "shell.execute_reply": "2024-01-30T03:38:11.293208Z",
     "shell.execute_reply.started": "2024-01-30T03:38:09.302509Z"
    },
    "tags": []
   },
   "outputs": [],
   "source": [
    "import numpy as np\n",
    "import torch\n",
    "import matplotlib.pyplot as plt\n",
    "import seaborn as sns\n",
    "\n",
    "from easydict import EasyDict as edict\n",
    "from tqdm import trange, tqdm\n",
    "from pprint import pprint\n",
    "import itertools\n",
    "from scipy.stats import chi2\n"
   ]
  },
  {
   "cell_type": "code",
   "execution_count": 3,
   "id": "b9d3cbc6-1ac5-47d6-a0d1-bcbc0be9267e",
   "metadata": {
    "execution": {
     "iopub.execute_input": "2024-01-30T03:38:11.295630Z",
     "iopub.status.busy": "2024-01-30T03:38:11.294822Z",
     "iopub.status.idle": "2024-01-30T03:38:11.337609Z",
     "shell.execute_reply": "2024-01-30T03:38:11.337172Z",
     "shell.execute_reply.started": "2024-01-30T03:38:11.295609Z"
    },
    "tags": []
   },
   "outputs": [],
   "source": [
    "# This will reload all imports as soon as the code changes\n",
    "%load_ext autoreload\n",
    "%autoreload 2"
   ]
  },
  {
   "cell_type": "code",
   "execution_count": 4,
   "id": "b0aa91b2",
   "metadata": {
    "ExecuteTime": {
     "end_time": "2023-05-31T19:57:59.558229Z",
     "start_time": "2023-05-31T19:57:34.292612Z"
    },
    "execution": {
     "iopub.execute_input": "2024-01-30T03:38:11.338311Z",
     "iopub.status.busy": "2024-01-30T03:38:11.338151Z",
     "iopub.status.idle": "2024-01-30T03:38:12.205463Z",
     "shell.execute_reply": "2024-01-30T03:38:12.204249Z",
     "shell.execute_reply.started": "2024-01-30T03:38:11.338297Z"
    },
    "tags": []
   },
   "outputs": [],
   "source": [
    "from constants import DATA_ROOT, RES_ROOT, FIG_ROOT, MIDRES_ROOT\n",
    "from hdf_utils.data_gen import gen_simu_meg_dataset\n",
    "from hdf_utils.SIS import SIS_GLIM\n",
    "from utils.matrix import col_vec_fn, col_vec2mat_fn, conju_grad, svd_inverse, cholesky_inv\n",
    "from utils.functions import logit_fn\n",
    "from utils.misc import save_pkl, load_pkl\n",
    "from splines import obt_bsp_obasis_Rfn, obt_bsp_basis_Rfn_wrapper\n",
    "from projection import euclidean_proj_l1ball\n",
    "from optimization.opt import HDFOpt\n",
    "from scenarios.real_simu_linear_meg import settings\n",
    "from hdf_utils.fns_sinica import  fourier_basis_fn\n",
    "\n",
    "from joblib import Parallel, delayed"
   ]
  },
  {
   "cell_type": "code",
   "execution_count": 5,
   "id": "fe0a4a46",
   "metadata": {
    "ExecuteTime": {
     "end_time": "2023-05-31T19:57:59.621784Z",
     "start_time": "2023-05-31T19:57:59.568097Z"
    },
    "execution": {
     "iopub.execute_input": "2024-01-30T03:38:12.207393Z",
     "iopub.status.busy": "2024-01-30T03:38:12.206754Z",
     "iopub.status.idle": "2024-01-30T03:38:12.238220Z",
     "shell.execute_reply": "2024-01-30T03:38:12.237675Z",
     "shell.execute_reply.started": "2024-01-30T03:38:12.207358Z"
    },
    "tags": []
   },
   "outputs": [],
   "source": [
    "plt.style.use(FIG_ROOT/\"base.mplstyle\")\n",
    "torch.set_default_tensor_type(torch.DoubleTensor)"
   ]
  },
  {
   "cell_type": "code",
   "execution_count": null,
   "id": "7e3672e9-3d13-43f8-a05a-6fbd399eb0fc",
   "metadata": {},
   "outputs": [],
   "source": []
  },
  {
   "cell_type": "markdown",
   "id": "21e4ccea",
   "metadata": {},
   "source": [
    "# Params"
   ]
  },
  {
   "cell_type": "code",
   "execution_count": 6,
   "id": "6cc21e4c-7327-4afe-a35e-b83aac2d082a",
   "metadata": {
    "execution": {
     "iopub.execute_input": "2024-01-30T03:38:12.239506Z",
     "iopub.status.busy": "2024-01-30T03:38:12.239266Z",
     "iopub.status.idle": "2024-01-30T03:38:17.327290Z",
     "shell.execute_reply": "2024-01-30T03:38:17.326330Z",
     "shell.execute_reply.started": "2024-01-30T03:38:12.239490Z"
    },
    "tags": []
   },
   "outputs": [
    {
     "name": "stdout",
     "output_type": "stream",
     "text": [
      "Load file /data/rajlab1/user_data/jin/MyResearch/HDF_infer/notebooks/simu_real/../../mypkg/../data/AD_vs_Ctrl_ts/AD88_all.pkl\n",
      "Load file /data/rajlab1/user_data/jin/MyResearch/HDF_infer/notebooks/simu_real/../../mypkg/../data/AD_vs_Ctrl_ts/Ctrl92_all.pkl\n"
     ]
    }
   ],
   "source": [
    "AD_ts = load_pkl(DATA_ROOT/\"AD_vs_Ctrl_ts/AD88_all.pkl\")\n",
    "Ctrl_ts = load_pkl(DATA_ROOT/\"AD_vs_Ctrl_ts/Ctrl92_all.pkl\")\n",
    "ts_data = np.concatenate([AD_ts, Ctrl_ts], axis=0)\n",
    "stds = ts_data.std(axis=(1, 2));\n",
    "ts_data_filter = ts_data[np.sort(np.where(stds>100)[0])];"
   ]
  },
  {
   "cell_type": "code",
   "execution_count": 26,
   "id": "977784a7-3e90-4016-9958-9766c871dc0f",
   "metadata": {
    "ExecuteTime": {
     "end_time": "2023-05-31T23:31:16.397628Z",
     "start_time": "2023-05-31T23:31:16.221812Z"
    },
    "execution": {
     "iopub.execute_input": "2024-01-28T20:08:36.410788Z",
     "iopub.status.busy": "2024-01-28T20:08:36.410217Z",
     "iopub.status.idle": "2024-01-28T20:08:36.572188Z",
     "shell.execute_reply": "2024-01-28T20:08:36.570884Z",
     "shell.execute_reply.started": "2024-01-28T20:08:36.410740Z"
    },
    "tags": [
     "param"
    ]
   },
   "outputs": [
    {
     "data": {
      "text/plain": [
       "array([[1., 0.],\n",
       "       [0., 1.]])"
      ]
     },
     "execution_count": 26,
     "metadata": {},
     "output_type": "execute_result"
    }
   ],
   "source": [
    "np.random.seed(0)\n",
    "c = 0.4\n",
    "\n",
    "setting = settings.nm2a\n",
    "data_gen_params = setting.data_gen_params\n",
    "data_gen_params.cs = data_gen_params.cs_fn(c)\n",
    "data_gen_params.gt_beta = data_gen_params.beta_fn(data_gen_params.cs)\n",
    "\n",
    "num_rep = 200\n",
    "Cmat = np.eye(data_gen_params.d - len(setting.sel_idx))\n",
    "save_dir = RES_ROOT/f\"simu_setting{setting.setting}_test\"\n",
    "if not save_dir.exists():\n",
    "    save_dir.mkdir()\n",
    "Cmat"
   ]
  },
  {
   "cell_type": "code",
   "execution_count": 27,
   "id": "09679c60-206b-4948-835e-40cb0bd40764",
   "metadata": {
    "execution": {
     "iopub.execute_input": "2024-01-28T20:08:37.192518Z",
     "iopub.status.busy": "2024-01-28T20:08:37.191989Z",
     "iopub.status.idle": "2024-01-28T20:08:45.190390Z",
     "shell.execute_reply": "2024-01-28T20:08:45.189970Z",
     "shell.execute_reply.started": "2024-01-28T20:08:37.192474Z"
    },
    "scrolled": true,
    "tags": []
   },
   "outputs": [
    {
     "name": "stderr",
     "output_type": "stream",
     "text": [
      "100%|██████████████████████████████████████████████████████████████████████████| 200/200 [00:05<00:00, 33.85it/s]\n"
     ]
    },
    {
     "data": {
      "text/plain": [
       "Text(0.5, 1.0, '[0.065 0.095 0.095 0.135 0.095 0.05  1.   ]')"
      ]
     },
     "execution_count": 27,
     "metadata": {},
     "output_type": "execute_result"
    },
    {
     "data": {
      "image/png": "[encoded data removed]",
      "text/plain": [
       "<Figure size 432x288 with 1 Axes>"
      ]
     },
     "metadata": {
      "needs_background": "light"
     },
     "output_type": "display_data"
    }
   ],
   "source": [
    "def _SIS_fn(seed, SIS_ratio, N, SIS_pen, setting):\n",
    "    torch.set_default_dtype(torch.double)\n",
    "    np.random.seed(seed)\n",
    "    torch.manual_seed(seed)\n",
    "        \n",
    "    data_gen_params = edict(setting.data_gen_params.copy())\n",
    "    basis_mat = torch.tensor(obt_bsp(np.linspace(0, 1, data_gen_params.npts), N, 4)).to(torch.get_default_dtype())\n",
    "    cur_data = gen_simu_meg_dataset(n=data_gen_params.n, \n",
    "                                   q=data_gen_params.q, \n",
    "                                   types_=data_gen_params.types_, \n",
    "                                   gt_alp=data_gen_params.gt_alp, \n",
    "                                   gt_beta=data_gen_params.gt_beta, \n",
    "                                   npts=data_gen_params.npts, \n",
    "                                   base_data=ts_data_filter, \n",
    "                                   data_type=data_gen_params.data_type,\n",
    "                                   data_params=data_gen_params.data_params, \n",
    "                                   seed=seed, \n",
    "                                   verbose=2);\n",
    "    \n",
    "    keep_idxs, _  = SIS_GLIM(Y=cur_data.Y, X=cur_data.X, Z=cur_data.Z, \n",
    "                             basis_mat=basis_mat, keep_ratio=SIS_ratio, \n",
    "                             model_type=setting.model_type, SIS_pen=SIS_pen, sel_idx=setting.sel_idx)\n",
    "    M_idxs = np.delete(np.arange(data_gen_params.d), setting.sel_idx)\n",
    "    keep_idxs = np.sort(np.concatenate([M_idxs, keep_idxs]))\n",
    "    return keep_idxs\n",
    "obt_bsp = obt_bsp_obasis_Rfn\n",
    "num_rep = 200\n",
    "with Parallel(n_jobs=30) as parallel:\n",
    "    keep_idxss = parallel(delayed(_SIS_fn)(seed, 0.10, N=10, SIS_pen=5, setting=setting) for seed in \n",
    "                          tqdm(range(0, num_rep), total=num_rep))\n",
    "vs, cts = np.unique(np.concatenate(keep_idxss), return_counts=1);\n",
    "cts = cts[np.argsort(vs)]/len(keep_idxss)\n",
    "vs = np.sort(vs);\n",
    "plt.plot(vs, cts, \".\")\n",
    "plt.title(f\"{cts[vs > 60]}\")"
   ]
  },
  {
   "cell_type": "code",
   "execution_count": null,
   "id": "d93dffd9-4881-4784-8bf3-e73d803b62e1",
   "metadata": {},
   "outputs": [],
   "source": []
  },
  {
   "cell_type": "markdown",
   "id": "324c61ec-d16f-48ea-a1ad-de39801a40ef",
   "metadata": {},
   "source": [
    "# Simu"
   ]
  },
  {
   "cell_type": "markdown",
   "id": "66c2f90f",
   "metadata": {
    "ExecuteTime": {
     "end_time": "2022-12-08T18:09:55.509389Z",
     "start_time": "2022-12-08T18:09:55.343396Z"
    }
   },
   "source": [
    "## Check data gen fn"
   ]
  },
  {
   "cell_type": "code",
   "execution_count": 60,
   "id": "65314aee-7d17-4a9b-8744-ed6b24c161d7",
   "metadata": {
    "execution": {
     "iopub.execute_input": "2024-01-28T19:46:41.902493Z",
     "iopub.status.busy": "2024-01-28T19:46:41.901842Z",
     "iopub.status.idle": "2024-01-28T19:46:41.992993Z",
     "shell.execute_reply": "2024-01-28T19:46:41.992333Z",
     "shell.execute_reply.started": "2024-01-28T19:46:41.902449Z"
    },
    "tags": []
   },
   "outputs": [],
   "source": [
    "data = gen_simu_meg_dataset(\n",
    "    n=data_gen_params.n, \n",
    "    q=data_gen_params.q, \n",
    "    types_=data_gen_params.types_, \n",
    "    gt_alp=data_gen_params.gt_alp, \n",
    "    gt_beta=data_gen_params.gt_beta, \n",
    "    npts=data_gen_params.npts, \n",
    "    base_data =ts_data_filter,\n",
    "    data_type=data_gen_params.data_type,\n",
    "    data_params=data_gen_params.data_params, \n",
    "    seed=1, \n",
    "    verbose=2);"
   ]
  },
  {
   "cell_type": "code",
   "execution_count": 61,
   "id": "4ae5a212-ef32-4152-8f46-615e2117e931",
   "metadata": {
    "execution": {
     "iopub.execute_input": "2024-01-28T19:46:42.521370Z",
     "iopub.status.busy": "2024-01-28T19:46:42.520670Z",
     "iopub.status.idle": "2024-01-28T19:46:42.694282Z",
     "shell.execute_reply": "2024-01-28T19:46:42.693853Z",
     "shell.execute_reply.started": "2024-01-28T19:46:42.521324Z"
    },
    "tags": []
   },
   "outputs": [
    {
     "data": {
      "text/plain": [
       "[<matplotlib.lines.Line2D at 0x7fd28030fc70>]"
      ]
     },
     "execution_count": 61,
     "metadata": {},
     "output_type": "execute_result"
    },
    {
     "data": {
      "image/png": "[encoded data removed]",
      "text/plain": [
       "<Figure size 432x288 with 1 Axes>"
      ]
     },
     "metadata": {
      "needs_background": "light"
     },
     "output_type": "display_data"
    }
   ],
   "source": [
    "sub_idx = 10\n",
    "for roi_ix in range(20):\n",
    "    plt.plot(data.X[sub_idx, roi_ix, :])\n",
    "plt.plot(data.X[sub_idx, :, :].mean(axis=0))"
   ]
  },
  {
   "cell_type": "markdown",
   "id": "09b0ec89-ac82-4079-acc3-6649993a0444",
   "metadata": {
    "tags": []
   },
   "source": [
    "## SIS check (just for check)"
   ]
  },
  {
   "cell_type": "code",
   "execution_count": 62,
   "id": "95a15192-2e48-424f-acd9-1cd41ee7a215",
   "metadata": {
    "execution": {
     "iopub.execute_input": "2024-01-28T19:46:43.900352Z",
     "iopub.status.busy": "2024-01-28T19:46:43.899677Z",
     "iopub.status.idle": "2024-01-28T19:46:43.940572Z",
     "shell.execute_reply": "2024-01-28T19:46:43.939885Z",
     "shell.execute_reply.started": "2024-01-28T19:46:43.900306Z"
    },
    "tags": []
   },
   "outputs": [],
   "source": [
    "def _SIS_fn(seed, SIS_ratio, N, SIS_pen, setting):\n",
    "    torch.set_default_dtype(torch.double)\n",
    "    np.random.seed(seed)\n",
    "    torch.manual_seed(seed)\n",
    "        \n",
    "    data_gen_params = edict(setting.data_gen_params.copy())\n",
    "    basis_mat = torch.tensor(obt_bsp(np.linspace(0, 1, data_gen_params.npts), N, 4)).to(torch.get_default_dtype())\n",
    "    cur_data = gen_simu_meg_dataset(n=data_gen_params.n, \n",
    "                                   q=data_gen_params.q, \n",
    "                                   types_=data_gen_params.types_, \n",
    "                                   gt_alp=data_gen_params.gt_alp, \n",
    "                                   gt_beta=data_gen_params.gt_beta, \n",
    "                                   npts=data_gen_params.npts, \n",
    "                                   base_data=ts_data_filter, \n",
    "                                   data_type=data_gen_params.data_type,\n",
    "                                   data_params=data_gen_params.data_params, \n",
    "                                   seed=seed, \n",
    "                                   verbose=2);\n",
    "    \n",
    "    keep_idxs, _  = SIS_GLIM(Y=cur_data.Y, X=cur_data.X, Z=cur_data.Z, \n",
    "                             basis_mat=basis_mat, keep_ratio=SIS_ratio, \n",
    "                             model_type=setting.model_type, SIS_pen=SIS_pen, sel_idx=setting.sel_idx)\n",
    "    M_idxs = np.delete(np.arange(data_gen_params.d), setting.sel_idx)\n",
    "    keep_idxs = np.sort(np.concatenate([M_idxs, keep_idxs]))\n",
    "    return keep_idxs"
   ]
  },
  {
   "cell_type": "code",
   "execution_count": null,
   "id": "766970d1-b4b9-49f1-b6ef-bb5e7c867b3b",
   "metadata": {},
   "outputs": [],
   "source": []
  },
  {
   "cell_type": "code",
   "execution_count": 57,
   "id": "e232013c-a4b7-4adb-98cc-0037d977ef20",
   "metadata": {
    "execution": {
     "iopub.execute_input": "2024-01-28T19:45:09.203156Z",
     "iopub.status.busy": "2024-01-28T19:45:09.202486Z",
     "iopub.status.idle": "2024-01-28T19:45:14.154143Z",
     "shell.execute_reply": "2024-01-28T19:45:14.152967Z",
     "shell.execute_reply.started": "2024-01-28T19:45:09.203112Z"
    },
    "scrolled": true,
    "tags": []
   },
   "outputs": [
    {
     "name": "stderr",
     "output_type": "stream",
     "text": [
      "100%|██████████████████████████████████████████████████████████████████████████| 200/200 [00:03<00:00, 51.29it/s]\n"
     ]
    }
   ],
   "source": [
    "obt_bsp = obt_bsp_obasis_Rfn\n",
    "num_rep = 200\n",
    "with Parallel(n_jobs=30) as parallel:\n",
    "    keep_idxss = parallel(delayed(_SIS_fn)(seed, 0.10, N=10, SIS_pen=5, setting=setting) for seed in \n",
    "                          tqdm(range(0, num_rep), total=num_rep))"
   ]
  },
  {
   "cell_type": "code",
   "execution_count": 58,
   "id": "fa326890-75ba-4555-a8e2-5931508a002e",
   "metadata": {
    "execution": {
     "iopub.execute_input": "2024-01-28T19:45:14.156511Z",
     "iopub.status.busy": "2024-01-28T19:45:14.155962Z",
     "iopub.status.idle": "2024-01-28T19:45:14.304163Z",
     "shell.execute_reply": "2024-01-28T19:45:14.303758Z",
     "shell.execute_reply.started": "2024-01-28T19:45:14.156471Z"
    },
    "tags": []
   },
   "outputs": [
    {
     "data": {
      "text/plain": [
       "Text(0.5, 1.0, '[0.05  0.045 0.05  0.305 0.25  0.045 1.   ]')"
      ]
     },
     "execution_count": 58,
     "metadata": {},
     "output_type": "execute_result"
    },
    {
     "data": {
      "image/png": "[encoded data removed]",
      "text/plain": [
       "<Figure size 432x288 with 1 Axes>"
      ]
     },
     "metadata": {
      "needs_background": "light"
     },
     "output_type": "display_data"
    }
   ],
   "source": [
    "vs, cts = np.unique(np.concatenate(keep_idxss), return_counts=1);\n",
    "cts = cts[np.argsort(vs)]/len(keep_idxss)\n",
    "vs = np.sort(vs);\n",
    "plt.plot(vs, cts, \".\")\n",
    "plt.title(f\"{cts[vs > 60]}\")"
   ]
  },
  {
   "cell_type": "code",
   "execution_count": null,
   "id": "be9dad8c-0fcf-4d93-b3b9-d9dc5d2dfe77",
   "metadata": {},
   "outputs": [],
   "source": []
  },
  {
   "cell_type": "markdown",
   "id": "8148a0dd-0b8b-4f04-a43a-a75cfd20ae1f",
   "metadata": {},
   "source": [
    "## Simulation"
   ]
  },
  {
   "cell_type": "code",
   "execution_count": null,
   "id": "96d90cac-bc30-4f2a-84fd-86b8af6e2a00",
   "metadata": {},
   "outputs": [],
   "source": []
  },
  {
   "cell_type": "code",
   "execution_count": 7,
   "id": "0f9eca46-ade4-40fa-83f5-b8db4ff10947",
   "metadata": {
    "execution": {
     "iopub.execute_input": "2024-01-30T03:38:21.713386Z",
     "iopub.status.busy": "2024-01-30T03:38:21.712789Z",
     "iopub.status.idle": "2024-01-30T03:38:21.758042Z",
     "shell.execute_reply": "2024-01-30T03:38:21.757370Z",
     "shell.execute_reply.started": "2024-01-30T03:38:21.713338Z"
    },
    "tags": []
   },
   "outputs": [],
   "source": [
    "def _run_fn(seed, lam, N, setting, is_save=False, is_cv=False, verbose=2):\n",
    "    \"\"\"Now (on Aug 25, 2023), if we keep seed the same, the cur_data is the same. \n",
    "       If you want to make any changes, make sure this. \n",
    "    \"\"\"\n",
    "    torch.set_default_dtype(torch.double)\n",
    "    np.random.seed(seed)\n",
    "    torch.manual_seed(seed)\n",
    "        \n",
    "    _setting = edict(setting.copy())\n",
    "    _setting.seed = seed\n",
    "    _setting.lam = lam\n",
    "    _setting.N = N\n",
    "    \n",
    "    data_gen_params = setting.data_gen_params\n",
    "    \n",
    "    f_name = f\"seed_{seed:.0f}-lam_{lam*1000:.0f}-N_{N:.0f}_fit.pkl\"\n",
    "    \n",
    "    \n",
    "    if not (save_dir/f_name).exists():\n",
    "        cur_data = gen_simu_meg_dataset(n=data_gen_params.n, \n",
    "                                   q=data_gen_params.q, \n",
    "                                   types_=data_gen_params.types_, \n",
    "                                   gt_alp=data_gen_params.gt_alp, \n",
    "                                   gt_beta=data_gen_params.gt_beta, \n",
    "                                   npts=data_gen_params.npts, \n",
    "                                   base_data=ts_data_filter, \n",
    "                                   data_type=data_gen_params.data_type,\n",
    "                                   data_params=data_gen_params.data_params, \n",
    "                                   seed=seed, \n",
    "                                   verbose=verbose);\n",
    "        hdf_fit = HDFOpt(lam=_setting.lam, \n",
    "                         sel_idx=_setting.sel_idx, \n",
    "                         model_type=_setting.model_type,\n",
    "                         verbose=verbose, \n",
    "                         SIS_ratio=_setting.SIS_ratio, \n",
    "                         N=_setting.N,\n",
    "                         is_std_data=True, \n",
    "                         cov_types=None, \n",
    "                         inits=None,\n",
    "                         model_params = _setting.model_params, \n",
    "                         SIS_params = _setting.SIS_params, \n",
    "                         opt_params = _setting.opt_params,\n",
    "                         bsp_params = _setting.bsp_params, \n",
    "                         pen_params = _setting.pen_params\n",
    "               );\n",
    "        hdf_fit.add_data(cur_data.X, cur_data.Y, cur_data.Z)\n",
    "        opt_res = hdf_fit.fit()\n",
    "        \n",
    "        if is_cv:\n",
    "            hdf_fit.get_cv_est(_setting.num_cv_fold)\n",
    "        if is_save:\n",
    "            hdf_fit.save(save_dir/f_name, is_compact=False, is_force=True)\n",
    "    else:\n",
    "        hdf_fit = load_pkl(save_dir/f_name, verbose>=2);\n",
    "        \n",
    "    return hdf_fit\n"
   ]
  },
  {
   "cell_type": "code",
   "execution_count": null,
   "id": "dde1b6a7-747d-400a-879a-bf4724ebfc13",
   "metadata": {
    "tags": []
   },
   "outputs": [],
   "source": []
  },
  {
   "cell_type": "code",
   "execution_count": null,
   "id": "b64ec903-256d-4b9f-89be-6725629c1ef4",
   "metadata": {},
   "outputs": [],
   "source": []
  },
  {
   "cell_type": "markdown",
   "id": "ee5b93bf-12d5-40d9-b925-79fc4fb2b4a8",
   "metadata": {},
   "source": [
    "### single test"
   ]
  },
  {
   "cell_type": "code",
   "execution_count": null,
   "id": "528f7fd8-391f-4583-ae75-c740fe8bbd68",
   "metadata": {
    "tags": []
   },
   "outputs": [],
   "source": []
  },
  {
   "cell_type": "code",
   "execution_count": 64,
   "id": "02d10b93-0e05-46e8-b0c1-71d2efeb8ed1",
   "metadata": {
    "execution": {
     "iopub.execute_input": "2024-01-28T19:46:49.578407Z",
     "iopub.status.busy": "2024-01-28T19:46:49.577882Z",
     "iopub.status.idle": "2024-01-28T19:46:50.058949Z",
     "shell.execute_reply": "2024-01-28T19:46:50.058394Z",
     "shell.execute_reply.started": "2024-01-28T19:46:49.578365Z"
    },
    "scrolled": true,
    "tags": []
   },
   "outputs": [
    {
     "name": "stderr",
     "output_type": "stream",
     "text": [
      "2024-01-28 11:46:49,668 - optimization.opt - INFO - opt parmas is {'stop_cv': 0.0005, 'max_iter': 2000, 'one_step_verbose': 0, 'alpha': 0.9, 'beta': 10, 'R': 200000.0, 'linear_theta_update': 'cholesky_inv'}.\n",
      "2024-01-28 11:46:49,669 - optimization.opt - INFO - SIS parmas is {'SIS_pen': 1, 'SIS_basis_N': 8, 'SIS_basis_ord': 4, 'SIS_ratio': 0.2}.\n",
      "2024-01-28 11:46:49,669 - optimization.opt - INFO - model parmas is {'norminal_sigma2': 1}.\n",
      "2024-01-28 11:46:49,670 - optimization.opt - INFO - penalty parmas is {'a': 3.7, 'lam': 1.2}.\n",
      "2024-01-28 11:46:49,670 - optimization.opt - INFO - bspline parmas is {'basis_ord': 4, 'is_orth_basis': True, 'N': 14}.\n",
      "2024-01-28 11:46:49,671 - optimization.opt - INFO - As cov_types is not provided, inferring the continuous covariates.\n",
      "R[write to console]: \n",
      "Attaching package: ‘orthogonalsplinebasis’\n",
      "\n",
      "\n",
      "R[write to console]: The following object is masked from ‘package:stats’:\n",
      "\n",
      "    integrate\n",
      "\n",
      "\n",
      "Main Loop:   7%|█▉                         | 139/2000 [00:00<00:03, 523.66it/s, error=0.0006, GamL0=9, CV=0.0005]\n"
     ]
    },
    {
     "data": {
      "text/plain": [
       "<optimization.opt.HDFOpt at 0x7fd28023cfd0>"
      ]
     },
     "execution_count": 64,
     "metadata": {},
     "output_type": "execute_result"
    }
   ],
   "source": [
    "seed = 0\n",
    "lam = 1.2\n",
    "N = 14\n",
    "setting.bsp_params.is_orth_basis = True\n",
    "setting.SIS_ratio = 0.2\n",
    "data_gen_params.n = 200\n",
    "res = _run_fn(seed=seed, lam=lam, N=N, setting=setting, is_cv=False, is_save=False, verbose=2)"
   ]
  },
  {
   "cell_type": "code",
   "execution_count": 65,
   "id": "8eee904a-d422-4749-8ab5-66be9ac9e36e",
   "metadata": {
    "execution": {
     "iopub.execute_input": "2024-01-28T19:46:51.693392Z",
     "iopub.status.busy": "2024-01-28T19:46:51.692858Z",
     "iopub.status.idle": "2024-01-28T19:46:51.732484Z",
     "shell.execute_reply": "2024-01-28T19:46:51.731814Z",
     "shell.execute_reply.started": "2024-01-28T19:46:51.693349Z"
    },
    "tags": []
   },
   "outputs": [
    {
     "data": {
      "text/plain": [
       "tensor([-0.9291, -1.0195,  1.9767])"
      ]
     },
     "execution_count": 65,
     "metadata": {},
     "output_type": "execute_result"
    }
   ],
   "source": [
    "res.est_alp"
   ]
  },
  {
   "cell_type": "code",
   "execution_count": 14,
   "id": "336ead9c-2947-4cd7-b588-85b5f781bfbb",
   "metadata": {
    "execution": {
     "iopub.execute_input": "2024-01-28T06:46:44.092711Z",
     "iopub.status.busy": "2024-01-28T06:46:44.092129Z",
     "iopub.status.idle": "2024-01-28T06:46:44.132214Z",
     "shell.execute_reply": "2024-01-28T06:46:44.131557Z",
     "shell.execute_reply.started": "2024-01-28T06:46:44.092653Z"
    },
    "tags": []
   },
   "outputs": [
    {
     "data": {
      "text/plain": [
       "tensor(0.1249)"
      ]
     },
     "execution_count": 14,
     "metadata": {},
     "output_type": "execute_result"
    }
   ],
   "source": [
    "res.X[0, 1].mean()"
   ]
  },
  {
   "cell_type": "code",
   "execution_count": 15,
   "id": "4680598c-3436-4ac3-8d9e-cf017853e8fe",
   "metadata": {
    "execution": {
     "iopub.execute_input": "2024-01-28T06:46:45.494134Z",
     "iopub.status.busy": "2024-01-28T06:46:45.493552Z",
     "iopub.status.idle": "2024-01-28T06:46:45.591086Z",
     "shell.execute_reply": "2024-01-28T06:46:45.590535Z",
     "shell.execute_reply.started": "2024-01-28T06:46:45.494088Z"
    },
    "tags": []
   },
   "outputs": [
    {
     "name": "stderr",
     "output_type": "stream",
     "text": [
      "2024-01-27 22:46:45,528 - optimization.opt - INFO - hypo parmas is {'svdinv_eps_Q': 1e-07, 'svdinv_eps_Psi': 1e-07, 'Cmat': array([[1]])}.\n"
     ]
    },
    {
     "data": {
      "text/plain": [
       "{'pval': 0.4696843524906187, 'T_v': tensor(13.7343)}"
      ]
     },
     "execution_count": 15,
     "metadata": {},
     "output_type": "execute_result"
    }
   ],
   "source": [
    "Cmat = np.array([1]).reshape(1, -1)\n",
    "ts = setting.data_gen_params.gt_beta[:, :1];\n",
    "res.hypo_test(Cmat, ts=None)"
   ]
  },
  {
   "cell_type": "code",
   "execution_count": 16,
   "id": "1fb460ad-c825-4a0b-a1e7-45669bec59ad",
   "metadata": {
    "execution": {
     "iopub.execute_input": "2024-01-28T06:46:50.084165Z",
     "iopub.status.busy": "2024-01-28T06:46:50.083529Z",
     "iopub.status.idle": "2024-01-28T06:46:50.302986Z",
     "shell.execute_reply": "2024-01-28T06:46:50.302553Z",
     "shell.execute_reply.started": "2024-01-28T06:46:50.084119Z"
    },
    "tags": []
   },
   "outputs": [
    {
     "data": {
      "text/plain": [
       "<matplotlib.legend.Legend at 0x7f6a04f6db50>"
      ]
     },
     "execution_count": 16,
     "metadata": {},
     "output_type": "execute_result"
    },
    {
     "data": {
      "image/png": "[encoded data removed]",
      "text/plain": [
       "<Figure size 432x288 with 1 Axes>"
      ]
     },
     "metadata": {
      "needs_background": "light"
     },
     "output_type": "display_data"
    }
   ],
   "source": [
    "est_beta = res.basis_mat @ res.est_Gam\n",
    "gt_beta = setting.data_gen_params.gt_beta[:, res.keep_idxs]\n",
    "idx = -1\n",
    "plt.plot(est_beta[:, idx], label=\"EST\")\n",
    "plt.plot(gt_beta[:, idx], label=\"GT\")\n",
    "plt.legend()"
   ]
  },
  {
   "cell_type": "code",
   "execution_count": null,
   "id": "883c4365-e74b-4330-bb1d-e090033a7c2e",
   "metadata": {
    "tags": []
   },
   "outputs": [],
   "source": []
  },
  {
   "cell_type": "code",
   "execution_count": null,
   "id": "5a0bab91-13d0-4d5a-8d4a-c81bf753f101",
   "metadata": {},
   "outputs": [],
   "source": []
  },
  {
   "cell_type": "markdown",
   "id": "c6071092-a8df-482e-a1e4-406cf8da1ef1",
   "metadata": {},
   "source": [
    "### Multipe test"
   ]
  },
  {
   "cell_type": "code",
   "execution_count": 8,
   "id": "b8a5f026-e1d1-42cd-855b-3b16cbc947f9",
   "metadata": {
    "execution": {
     "iopub.execute_input": "2024-01-30T03:38:31.271709Z",
     "iopub.status.busy": "2024-01-30T03:38:31.271090Z",
     "iopub.status.idle": "2024-01-30T03:38:31.312396Z",
     "shell.execute_reply": "2024-01-30T03:38:31.311349Z",
     "shell.execute_reply.started": "2024-01-30T03:38:31.271647Z"
    },
    "tags": []
   },
   "outputs": [],
   "source": [
    "def outlier_det(T_vs, ratio_tol=0.05):\n",
    "    \"\"\"\n",
    "    Detects outliers in a given dataset using the interquartile range (IQR) method.\n",
    "\n",
    "    Parameters:\n",
    "    - T_vs (array-like): The input dataset.\n",
    "    - ratio_tol (float, optional): The tolerance ratio for outlier removal. Default is 0.05.\n",
    "\n",
    "    Returns:\n",
    "    - kpidx (ndarray): A boolean array indicating whether each data point is an outlier or not.\n",
    "    \"\"\"\n",
    "    Q1, Q3 = np.quantile(T_vs, [0.25, 0.75])\n",
    "    IQR = Q3 - Q1\n",
    "    upbd = Q3 + 1.5*IQR\n",
    "    lowbd = Q1 - 1.5*IQR\n",
    "    kpidx = np.bitwise_and(T_vs>=lowbd, T_vs<=upbd)\n",
    "    \n",
    "    if np.mean(kpidx)+ ratio_tol < 1:\n",
    "        out_part = np.stack([T_vs - upbd, lowbd - T_vs]).T.max(axis=1);\n",
    "        kpidx = np.ones(len(T_vs), dtype=bool)\n",
    "        kpidx[np.argsort(-out_part)[:int(len(T_vs)*ratio_tol)]] = False\n",
    "    return kpidx"
   ]
  },
  {
   "cell_type": "code",
   "execution_count": 49,
   "id": "65cad2cc-565f-41e7-af0c-0e19428b1696",
   "metadata": {
    "execution": {
     "iopub.execute_input": "2024-01-30T04:06:06.906436Z",
     "iopub.status.busy": "2024-01-30T04:06:06.905820Z",
     "iopub.status.idle": "2024-01-30T04:06:06.958256Z",
     "shell.execute_reply": "2024-01-30T04:06:06.957229Z",
     "shell.execute_reply.started": "2024-01-30T04:06:06.906387Z"
    },
    "tags": []
   },
   "outputs": [
    {
     "name": "stdout",
     "output_type": "stream",
     "text": [
      "(1, 2)\n"
     ]
    },
    {
     "data": {
      "text/plain": [
       "0.0"
      ]
     },
     "execution_count": 49,
     "metadata": {},
     "output_type": "execute_result"
    }
   ],
   "source": [
    "c = 0\n",
    "setting = settings.nm2e\n",
    "data_gen_params = setting.data_gen_params\n",
    "data_gen_params.cs = data_gen_params.cs_fn(c)\n",
    "data_gen_params.gt_beta = data_gen_params.beta_fn(data_gen_params.cs)\n",
    "data_gen_params.data_params.sigma2 = 1\n",
    "#data_gen_params.n = 200\n",
    "setting.opt_params.beta = 10\n",
    "setting.bsp_params.is_orth_basis = True\n",
    "setting.pen_params.a = 3.7\n",
    "setting.SIS_ratio = 0.2\n",
    "#setting.SIS_params.SIS_basis_N = 10\n",
    "#setting.SIS_params.SIS_pen = 5\n",
    "\n",
    "save_dir = RES_ROOT/f\"simu_setting{setting.setting}_test\"\n",
    "if not save_dir.exists():\n",
    "    save_dir.mkdir()\n",
    "    \n",
    "Cmat = np.eye(1)\n",
    "Cmat = np.array([1, -1]).reshape(1, -1)\n",
    "print(Cmat.shape)\n",
    "ts = setting.data_gen_params.beta_fn(setting.data_gen_params.cs_fn(c))[:, :Cmat.shape[-1]]\n",
    "ts = ts @ Cmat.T;\n",
    "np.linalg.norm(ts)"
   ]
  },
  {
   "cell_type": "code",
   "execution_count": 50,
   "id": "506c46a1-0497-4491-bf75-fb97a632f342",
   "metadata": {
    "execution": {
     "iopub.execute_input": "2024-01-30T04:06:07.533336Z",
     "iopub.status.busy": "2024-01-30T04:06:07.532822Z",
     "iopub.status.idle": "2024-01-30T04:07:41.807738Z",
     "shell.execute_reply": "2024-01-30T04:07:41.806305Z",
     "shell.execute_reply.started": "2024-01-30T04:06:07.533293Z"
    },
    "scrolled": true,
    "tags": []
   },
   "outputs": [
    {
     "name": "stderr",
     "output_type": "stream",
     "text": [
      "\n",
      "  0%|                                                                                   | 0/1000 [00:00<?, ?it/s]\u001b[A\n",
      "  4%|██▉                                                                       | 40/1000 [00:04<01:37,  9.81it/s]\u001b[A\n",
      "  6%|████▍                                                                     | 60/1000 [00:05<01:27, 10.77it/s]\u001b[A\n",
      "  8%|█████▉                                                                    | 80/1000 [00:07<01:23, 11.06it/s]\u001b[A\n",
      " 10%|███████▎                                                                 | 100/1000 [00:09<01:21, 11.05it/s]\u001b[A\n",
      " 12%|████████▊                                                                | 120/1000 [00:10<01:19, 11.11it/s]\u001b[A\n",
      " 14%|██████████▏                                                              | 140/1000 [00:12<01:16, 11.27it/s]\u001b[A\n",
      " 16%|███████████▋                                                             | 160/1000 [00:14<01:15, 11.07it/s]\u001b[A\n",
      " 18%|█████████████▏                                                           | 180/1000 [00:16<01:12, 11.36it/s]\u001b[A\n",
      " 20%|██████████████▌                                                          | 200/1000 [00:17<01:10, 11.41it/s]\u001b[A\n",
      " 22%|████████████████                                                         | 220/1000 [00:19<01:09, 11.23it/s]\u001b[A\n",
      " 24%|█████████████████▌                                                       | 240/1000 [00:21<01:07, 11.30it/s]\u001b[A\n",
      " 26%|██████████████████▉                                                      | 260/1000 [00:23<01:06, 11.20it/s]\u001b[A\n",
      " 28%|████████████████████▍                                                    | 280/1000 [00:25<01:04, 11.10it/s]\u001b[A\n",
      " 30%|█████████████████████▉                                                   | 300/1000 [00:27<01:03, 11.10it/s]\u001b[A\n",
      " 32%|███████████████████████▎                                                 | 320/1000 [00:28<01:01, 11.14it/s]\u001b[A\n",
      " 34%|████████████████████████▊                                                | 340/1000 [00:30<01:00, 10.98it/s]\u001b[A\n",
      " 36%|██████████████████████████▎                                              | 360/1000 [00:32<00:57, 11.06it/s]\u001b[A\n",
      " 38%|███████████████████████████▋                                             | 380/1000 [00:34<00:55, 11.21it/s]\u001b[A\n",
      " 40%|█████████████████████████████▏                                           | 400/1000 [00:36<00:53, 11.14it/s]\u001b[A\n",
      " 42%|██████████████████████████████▋                                          | 420/1000 [00:37<00:52, 10.98it/s]\u001b[A\n",
      " 44%|████████████████████████████████                                         | 440/1000 [00:39<00:51, 10.96it/s]\u001b[A\n",
      " 46%|█████████████████████████████████▌                                       | 460/1000 [00:41<00:48, 11.08it/s]\u001b[A\n",
      " 48%|███████████████████████████████████                                      | 480/1000 [00:43<00:47, 11.05it/s]\u001b[A\n",
      " 50%|████████████████████████████████████▌                                    | 500/1000 [00:45<00:45, 11.05it/s]\u001b[A\n",
      " 52%|█████████████████████████████████████▉                                   | 520/1000 [00:46<00:43, 11.04it/s]\u001b[A\n",
      " 54%|███████████████████████████████████████▍                                 | 540/1000 [00:48<00:41, 11.09it/s]\u001b[A\n",
      " 56%|████████████████████████████████████████▉                                | 560/1000 [00:50<00:40, 10.76it/s]\u001b[A\n",
      " 58%|██████████████████████████████████████████▎                              | 580/1000 [00:52<00:38, 10.86it/s]\u001b[A\n",
      " 60%|███████████████████████████████████████████▊                             | 600/1000 [00:54<00:36, 11.05it/s]\u001b[A\n",
      " 62%|█████████████████████████████████████████████▎                           | 620/1000 [00:56<00:34, 11.07it/s]\u001b[A\n",
      " 64%|██████████████████████████████████████████████▋                          | 640/1000 [00:57<00:32, 11.12it/s]\u001b[A\n",
      " 66%|████████████████████████████████████████████████▏                        | 660/1000 [00:59<00:30, 11.25it/s]\u001b[A\n",
      " 68%|█████████████████████████████████████████████████▋                       | 680/1000 [01:01<00:28, 11.07it/s]\u001b[A\n",
      " 70%|███████████████████████████████████████████████████                      | 700/1000 [01:03<00:26, 11.19it/s]\u001b[A\n",
      " 72%|████████████████████████████████████████████████████▌                    | 720/1000 [01:04<00:24, 11.33it/s]\u001b[A\n",
      " 74%|██████████████████████████████████████████████████████                   | 740/1000 [01:06<00:23, 11.19it/s]\u001b[A\n",
      " 76%|███████████████████████████████████████████████████████▍                 | 760/1000 [01:08<00:21, 11.15it/s]\u001b[A\n",
      " 78%|████████████████████████████████████████████████████████▉                | 780/1000 [01:10<00:19, 11.00it/s]\u001b[A\n",
      " 80%|██████████████████████████████████████████████████████████▍              | 800/1000 [01:12<00:18, 11.10it/s]\u001b[A\n",
      " 82%|███████████████████████████████████████████████████████████▊             | 820/1000 [01:13<00:16, 11.11it/s]\u001b[A\n",
      " 84%|█████████████████████████████████████████████████████████████▎           | 840/1000 [01:15<00:14, 10.86it/s]\u001b[A\n",
      " 86%|██████████████████████████████████████████████████████████████▊          | 860/1000 [01:17<00:12, 10.95it/s]\u001b[A\n",
      " 88%|████████████████████████████████████████████████████████████████▏        | 880/1000 [01:19<00:10, 11.10it/s]\u001b[A\n",
      " 90%|█████████████████████████████████████████████████████████████████▋       | 900/1000 [01:21<00:09, 11.10it/s]\u001b[A\n",
      " 92%|███████████████████████████████████████████████████████████████████▏     | 920/1000 [01:23<00:07, 11.22it/s]\u001b[A\n",
      " 94%|████████████████████████████████████████████████████████████████████▌    | 940/1000 [01:24<00:05, 11.17it/s]\u001b[A\n",
      " 96%|██████████████████████████████████████████████████████████████████████   | 960/1000 [01:26<00:03, 11.12it/s]\u001b[A\n",
      " 98%|███████████████████████████████████████████████████████████████████████▌ | 980/1000 [01:28<00:01, 11.11it/s]\u001b[A\n",
      "100%|████████████████████████████████████████████████████████████████████████| 1000/1000 [01:30<00:00, 11.08it/s]\u001b[A\n"
     ]
    }
   ],
   "source": [
    "N = 14\n",
    "lam = 0.8\n",
    "\n",
    "\n",
    "\n",
    "def _run_fn1(seed):\n",
    "    res = _run_fn(seed=seed, lam=lam, N=N, setting=setting, is_cv=False, verbose=1)\n",
    "    res.hypo_test(Cmat, ts=ts, is_simpler=False)\n",
    "    test_res = edict()\n",
    "    test_res.update(res.hypo_test_res)\n",
    "    test_res.L0 = torch.sum(torch.linalg.norm(res.est_Gam, axis=0)!=0).item()\n",
    "    test_res.iters = res.conv_iter\n",
    "    return test_res\n",
    "    \n",
    "num_rep = 1000\n",
    "with Parallel(n_jobs=20) as parallel:\n",
    "    test_ress = parallel(delayed(_run_fn1)(seed) for seed in tqdm(range(num_rep), total=num_rep))\n",
    "    "
   ]
  },
  {
   "cell_type": "code",
   "execution_count": 52,
   "id": "78d12832-08d2-4390-8003-6718c0552f92",
   "metadata": {
    "execution": {
     "iopub.execute_input": "2024-01-30T04:08:04.644709Z",
     "iopub.status.busy": "2024-01-30T04:08:04.644072Z",
     "iopub.status.idle": "2024-01-30T04:08:04.866851Z",
     "shell.execute_reply": "2024-01-30T04:08:04.866427Z",
     "shell.execute_reply.started": "2024-01-30T04:08:04.644647Z"
    },
    "tags": []
   },
   "outputs": [
    {
     "name": "stdout",
     "output_type": "stream",
     "text": [
      "The size is 0.048 and the mean of Tv is 13.982 and thoeretically it is 14. L0 is 7.11.\n",
      "1.0\n"
     ]
    },
    {
     "data": {
      "text/plain": [
       "<matplotlib.legend.Legend at 0x7fdb5077a280>"
      ]
     },
     "execution_count": 52,
     "metadata": {},
     "output_type": "execute_result"
    },
    {
     "data": {
      "image/png": "[encoded data removed]",
      "text/plain": [
       "<Figure size 432x288 with 1 Axes>"
      ]
     },
     "metadata": {
      "needs_background": "light"
     },
     "output_type": "display_data"
    }
   ],
   "source": [
    "pvals = np.array([res.pval for res in test_ress[:]])\n",
    "T_vs = np.array([res.T_v for res in test_ress[:]]);\n",
    "L0s = np.array([res.L0 for res in test_ress[:]]);\n",
    "chi_df = Cmat.shape[0]*N\n",
    "kpidx = outlier_det(T_vs, 0.00)\n",
    "print(\n",
    "    f\"The size is {np.mean(pvals[kpidx]<0.05):.3f} and \"\n",
    "    f\"the mean of Tv is {np.mean(T_vs[kpidx]):.3f} and thoeretically it is {chi_df:.0f}. \"\n",
    "    f\"L0 is {np.mean(L0s[kpidx]):.2f}.\"\n",
    "     )\n",
    "\n",
    "print(np.mean(kpidx))\n",
    "xs = np.linspace(0.1, 100, 100)\n",
    "theo_curvs_log = chi2.logpdf(xs, chi_df);\n",
    "plt.plot(xs, np.exp(theo_curvs_log) , label=\"theoretical\")\n",
    "sns.kdeplot(T_vs[kpidx], label=\"empirical\")\n",
    "plt.legend()"
   ]
  },
  {
   "cell_type": "code",
   "execution_count": null,
   "id": "be4f01ee-3f09-4e6c-b4d3-353fd18ed61f",
   "metadata": {},
   "outputs": [],
   "source": []
  },
  {
   "cell_type": "code",
   "execution_count": null,
   "id": "dce16755-b0ca-479b-8c95-77023eb56465",
   "metadata": {},
   "outputs": [],
   "source": []
  },
  {
   "cell_type": "markdown",
   "id": "3cce421d-2e93-4535-ae1b-cb2541c30301",
   "metadata": {},
   "source": [
    "# Back up \n",
    "\n",
    "post_reg"
   ]
  },
  {
   "cell_type": "code",
   "execution_count": 20,
   "id": "b0609d77-743a-4f3b-9cc8-7655d8153d28",
   "metadata": {
    "execution": {
     "iopub.execute_input": "2024-01-26T03:24:27.334483Z",
     "iopub.status.busy": "2024-01-26T03:24:27.333854Z",
     "iopub.status.idle": "2024-01-26T03:24:27.466982Z",
     "shell.execute_reply": "2024-01-26T03:24:27.465651Z",
     "shell.execute_reply.started": "2024-01-26T03:24:27.334436Z"
    }
   },
   "outputs": [],
   "source": [
    "import logging\n",
    "logger = logging.getLogger(__name__)\n",
    "logger.setLevel(logging.DEBUG)\n",
    "if not logger.hasHandlers():\n",
    "    ch = logging.StreamHandler() # for console. \n",
    "    ch.setLevel(logging.DEBUG)\n",
    "    formatter = logging.Formatter('%(asctime)s - %(name)s - %(levelname)s - %(message)s')\n",
    "    ch.setFormatter(formatter)\n",
    "    logger.addHandler(ch)"
   ]
  },
  {
   "cell_type": "code",
   "execution_count": 84,
   "id": "582612dc-4c14-4e2c-adba-f99a48cf97a0",
   "metadata": {
    "execution": {
     "iopub.execute_input": "2024-01-26T00:13:35.798339Z",
     "iopub.status.busy": "2024-01-26T00:13:35.797720Z",
     "iopub.status.idle": "2024-01-26T00:13:35.952963Z",
     "shell.execute_reply": "2024-01-26T00:13:35.951986Z",
     "shell.execute_reply.started": "2024-01-26T00:13:35.798293Z"
    },
    "tags": []
   },
   "outputs": [],
   "source": [
    "from models.linear_model import LinearModel\n",
    "from utils.misc import _update_params\n",
    "class HDFOpt1(HDFOpt):\n",
    "    def _post_reg(self):\n",
    "        oracle_idx = torch.nonzero(torch.norm(self.est_Gam, dim=0))[:, 0]\n",
    "        model_oracle = LinearModel(Y=self.opt_res.model.Y, \n",
    "                                   X=self.opt_res.model.X[:, oracle_idx], \n",
    "                                   Z=self.opt_res.model.Z,\n",
    "                                   basis_mat=self.basis_mat, \n",
    "                                   sigma2=self.model_params.norminal_sigma2)\n",
    "        \n",
    "        model_oracle._linear_term_der()\n",
    "        psX = model_oracle.lin_tm_der\n",
    "        est_theta = torch.inverse(psX.T @ psX) @ psX.T @ self.Y\n",
    "        est_alp = est_theta[:self.data_params.q]\n",
    "        est_Gam = col_vec2mat_fn(est_theta[self.data_params.q:], self.bsp_params.N) * self.bsp_params.N**(1/2);\n",
    "        self.est_Gam_oracle = est_Gam\n",
    "        self.est_alp_oracle = est_alp\n",
    "        self.model_oracle = model_oracle\n",
    "    \n",
    "    \n",
    "    def _prepare_hypotest(self):\n",
    "        \"\"\"Calculate necessary quantities for hypo test\n",
    "        \"\"\"\n",
    "        self._post_reg()\n",
    "        est_alp, est_Gam = self.est_alp_oracle, self.est_Gam_oracle\n",
    "        model = self.model_oracle\n",
    "        d, q = self.data_params.d, self.data_params.q\n",
    "        \n",
    "        est_sigma2 = torch.mean((self.Y - model._obt_lin_tm(est_alp, est_Gam))**2)\n",
    "        \n",
    "        # get Q and Sig mat\n",
    "        Q_mat = -model.log_lik_der2(est_alp, est_Gam)\n",
    "        model.log_lik_der1(est_alp, est_Gam)\n",
    "        Sig_mat = (model.log_lik_der1_vs.unsqueeze(-1) * model.log_lik_der1_vs.unsqueeze(1)).mean(axis=0) \n",
    "        \n",
    "        M_idxs = np.delete(np.arange(d), self.sel_idx)\n",
    "        \n",
    "        \n",
    "        self.hypo_utils = edict({})\n",
    "        self.hypo_utils.Q_mat = Q_mat\n",
    "        self.hypo_utils.Sig_mat = Sig_mat\n",
    "        self.hypo_utils.est_sigma2 = est_sigma2\n",
    "        self.hypo_utils.k = est_Gam.shape[1] - len(M_idxs)\n",
    "        self.hypo_utils.est_sigma2 = est_sigma2\n",
    "        \n",
    "        \n",
    "        \n",
    "    def hypo_test(self, Cmat, ts=None, is_simpler=False, hypo_params={}):\n",
    "        \"\"\"\n",
    "        Conduct hypothesis test based on the fitting resutls\n",
    "        args:\n",
    "            Cmat(np.ndarray): r x m matrix for the hypotest problem\n",
    "            ts (np.ndarray): Hypotest is C Beta = ts, so ts is npts x r. Default to ts =0\n",
    "            is_simpler(bool): only used for linear model, calculate the test stat in a simpler way to \n",
    "                              avoid too many matrix inverses.\n",
    "            hypo_params(dict): other hypo parameters\n",
    "                - svdinv_eps_Q: default to 1e-7, rtol for Q\n",
    "                - svdinv_eps_Psi: default to 1e-7, rtol for Psi \n",
    "        \"\"\"\n",
    "        \n",
    "        d = self.data_params.d\n",
    "        n = self.data_params.n\n",
    "        \n",
    "        hypo_params_def = edict({\n",
    "            \"svdinv_eps_Q\": 1e-7,\n",
    "            \"svdinv_eps_Psi\": 1e-7,\n",
    "        })\n",
    "        hypo_params = _update_params(hypo_params, hypo_params_def, logger)\n",
    "        hypo_params[\"Cmat\"] = Cmat\n",
    "        logger.info(f\"hypo parmas is {hypo_params}.\")\n",
    "        self.hypo_params = hypo_params\n",
    "\n",
    "        if ts is not None:\n",
    "            if ts.ndim == 1:\n",
    "                ts = ts[:, None]\n",
    "            p1 = self.basis_mat.T @ self.basis_mat/self.basis_mat.shape[0]\n",
    "            p2 = self.basis_mat.T @ ts/self.basis_mat.shape[0];\n",
    "            p = torch.linalg.pinv(p1, hermitian=True) @ p2;\n",
    "            vecp = p.T.flatten()/np.sqrt(self.bsp_params.N);\n",
    "        else:\n",
    "            vecp = 0\n",
    "             \n",
    "        \n",
    "        \n",
    "        self._prepare_hypotest()\n",
    "        est_alp, est_Gam = self.est_alp_oracle, self.est_Gam_oracle\n",
    "        \n",
    "        est_theta = torch.cat([est_alp, col_vec_fn(est_Gam)/np.sqrt(self.bsp_params.N)])\n",
    "    \n",
    "        # A mat\n",
    "        Amat = torch.Tensor(self._get_Amat(self.hypo_utils.k, hypo_params.Cmat))\n",
    "        \n",
    "        # calculate Test stats\n",
    "        Q_mat_inv = torch.linalg.pinv(self.hypo_utils.Q_mat, hermitian=True, rtol=hypo_params.svdinv_eps_Q)\n",
    "        if is_simpler:\n",
    "            Psi = self.hypo_utils.est_sigma2*Amat @ Q_mat_inv @ Amat.T/self.model_params.norminal_sigma2\n",
    "        else:\n",
    "            Psi = Amat @ Q_mat_inv @ self.hypo_utils.Sig_mat@ Q_mat_inv @ Amat.T\n",
    "        Psi_inv = torch.linalg.pinv(Psi, hermitian=True, rtol=hypo_params.svdinv_eps_Psi)\n",
    "        \n",
    "        T_p1 = Amat @ est_theta - vecp\n",
    "        T_v = T_p1 @ Psi_inv @ T_p1 * n \n",
    "        \n",
    "        \n",
    "        pval = chi2.sf(T_v, Cmat.shape[0]*self.bsp_params.N)\n",
    "        #print(T_v, Cmat.shape[0]*self.bsp_params.N)\n",
    "        \n",
    "        hypo_test_res = edict()\n",
    "        hypo_test_res.pval = pval\n",
    "        hypo_test_res.T_v = T_v\n",
    "        self.hypo_test_res = hypo_test_res\n",
    "        return hypo_test_res"
   ]
  }
 ],
 "metadata": {
  "kernelspec": {
   "display_name": "Python 3 (ipykernel)",
   "language": "python",
   "name": "python3"
  },
  "language_info": {
   "codemirror_mode": {
    "name": "ipython",
    "version": 3
   },
   "file_extension": ".py",
   "mimetype": "text/x-python",
   "name": "python",
   "nbconvert_exporter": "python",
   "pygments_lexer": "ipython3",
   "version": "3.9.7"
  },
  "toc": {
   "base_numbering": 1,
   "nav_menu": {},
   "number_sections": true,
   "sideBar": true,
   "skip_h1_title": false,
   "title_cell": "Table of Contents",
   "title_sidebar": "Contents",
   "toc_cell": false,
   "toc_position": {
    "height": "calc(100% - 180px)",
    "left": "10px",
    "top": "150px",
    "width": "165px"
   },
   "toc_section_display": true,
   "toc_window_display": true
  },
  "toc-autonumbering": true,
  "toc-showcode": false,
  "toc-showmarkdowntxt": false,
  "toc-showtags": false
 },
 "nbformat": 4,
 "nbformat_minor": 5
}
