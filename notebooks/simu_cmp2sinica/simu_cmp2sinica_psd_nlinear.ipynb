{
 "cells": [
  {
   "cell_type": "markdown",
   "id": "faf0a805",
   "metadata": {},
   "source": [
    "This file contains python code to compare with sinica method\n",
    "\n",
    "It is under the linear setting\n",
    "\n",
    "Now, I use the same beta from the paper but the PSD as X"
   ]
  },
  {
   "cell_type": "code",
   "execution_count": 1,
   "id": "02ae980e",
   "metadata": {
    "ExecuteTime": {
     "end_time": "2023-05-31T19:57:23.490285Z",
     "start_time": "2023-05-31T19:57:23.481769Z"
    },
    "execution": {
     "iopub.execute_input": "2024-02-15T22:32:27.838388Z",
     "iopub.status.busy": "2024-02-15T22:32:27.837862Z",
     "iopub.status.idle": "2024-02-15T22:32:27.853641Z",
     "shell.execute_reply": "2024-02-15T22:32:27.850852Z",
     "shell.execute_reply.started": "2024-02-15T22:32:27.838343Z"
    },
    "tags": []
   },
   "outputs": [],
   "source": [
    "import sys\n",
    "sys.path.append(\"../../mypkg\")"
   ]
  },
  {
   "cell_type": "code",
   "execution_count": 2,
   "id": "023df78a",
   "metadata": {
    "ExecuteTime": {
     "end_time": "2023-05-31T19:57:34.238839Z",
     "start_time": "2023-05-31T19:57:23.494053Z"
    },
    "execution": {
     "iopub.execute_input": "2024-02-15T22:32:27.863106Z",
     "iopub.status.busy": "2024-02-15T22:32:27.862437Z",
     "iopub.status.idle": "2024-02-15T22:32:30.210897Z",
     "shell.execute_reply": "2024-02-15T22:32:30.210317Z",
     "shell.execute_reply.started": "2024-02-15T22:32:27.863066Z"
    },
    "tags": []
   },
   "outputs": [],
   "source": [
    "import numpy as np\n",
    "import torch\n",
    "import matplotlib.pyplot as plt\n",
    "import seaborn as sns\n",
    "\n",
    "from easydict import EasyDict as edict\n",
    "from tqdm import trange, tqdm\n",
    "from pprint import pprint\n",
    "import itertools\n",
    "from scipy.stats import chi2\n"
   ]
  },
  {
   "cell_type": "code",
   "execution_count": 3,
   "id": "b9d3cbc6-1ac5-47d6-a0d1-bcbc0be9267e",
   "metadata": {
    "execution": {
     "iopub.execute_input": "2024-02-15T22:32:30.212663Z",
     "iopub.status.busy": "2024-02-15T22:32:30.212169Z",
     "iopub.status.idle": "2024-02-15T22:32:30.236174Z",
     "shell.execute_reply": "2024-02-15T22:32:30.235664Z",
     "shell.execute_reply.started": "2024-02-15T22:32:30.212644Z"
    },
    "tags": []
   },
   "outputs": [],
   "source": [
    "# This will reload all imports as soon as the code changes\n",
    "%load_ext autoreload\n",
    "%autoreload 2"
   ]
  },
  {
   "cell_type": "code",
   "execution_count": 6,
   "id": "b0aa91b2",
   "metadata": {
    "ExecuteTime": {
     "end_time": "2023-05-31T19:57:59.558229Z",
     "start_time": "2023-05-31T19:57:34.292612Z"
    },
    "execution": {
     "iopub.execute_input": "2024-02-15T22:32:48.792434Z",
     "iopub.status.busy": "2024-02-15T22:32:48.791767Z",
     "iopub.status.idle": "2024-02-15T22:32:48.846024Z",
     "shell.execute_reply": "2024-02-15T22:32:48.845461Z",
     "shell.execute_reply.started": "2024-02-15T22:32:48.792388Z"
    },
    "tags": []
   },
   "outputs": [],
   "source": [
    "from constants import DATA_ROOT, RES_ROOT, FIG_ROOT, MIDRES_ROOT\n",
    "from hdf_utils.data_gen import gen_simu_psd_dataset\n",
    "from hdf_utils.SIS import SIS_GLIM\n",
    "from utils.matrix import col_vec_fn, col_vec2mat_fn, conju_grad, svd_inverse, cholesky_inv\n",
    "from utils.functions import logit_fn\n",
    "from utils.misc import save_pkl, load_pkl\n",
    "from splines import obt_bsp_obasis_Rfn, obt_bsp_basis_Rfn_wrapper\n",
    "from projection import euclidean_proj_l1ball\n",
    "from optimization.opt import HDFOpt\n",
    "from scenarios.simu_linear_psd import settings\n",
    "\n",
    "from joblib import Parallel, delayed"
   ]
  },
  {
   "cell_type": "code",
   "execution_count": 7,
   "id": "fe0a4a46",
   "metadata": {
    "ExecuteTime": {
     "end_time": "2023-05-31T19:57:59.621784Z",
     "start_time": "2023-05-31T19:57:59.568097Z"
    },
    "execution": {
     "iopub.execute_input": "2024-02-15T22:32:49.371759Z",
     "iopub.status.busy": "2024-02-15T22:32:49.371120Z",
     "iopub.status.idle": "2024-02-15T22:32:49.409036Z",
     "shell.execute_reply": "2024-02-15T22:32:49.408525Z",
     "shell.execute_reply.started": "2024-02-15T22:32:49.371716Z"
    },
    "tags": []
   },
   "outputs": [],
   "source": [
    "plt.style.use(FIG_ROOT/\"base.mplstyle\")\n",
    "torch.set_default_tensor_type(torch.DoubleTensor)"
   ]
  },
  {
   "cell_type": "code",
   "execution_count": null,
   "id": "7e3672e9-3d13-43f8-a05a-6fbd399eb0fc",
   "metadata": {},
   "outputs": [],
   "source": []
  },
  {
   "cell_type": "markdown",
   "id": "21e4ccea",
   "metadata": {},
   "source": [
    "# Params"
   ]
  },
  {
   "cell_type": "code",
   "execution_count": 8,
   "id": "977784a7-3e90-4016-9958-9766c871dc0f",
   "metadata": {
    "ExecuteTime": {
     "end_time": "2023-05-31T23:31:16.397628Z",
     "start_time": "2023-05-31T23:31:16.221812Z"
    },
    "execution": {
     "iopub.execute_input": "2024-02-15T22:32:50.045925Z",
     "iopub.status.busy": "2024-02-15T22:32:50.045278Z",
     "iopub.status.idle": "2024-02-15T22:32:50.096572Z",
     "shell.execute_reply": "2024-02-15T22:32:50.095984Z",
     "shell.execute_reply.started": "2024-02-15T22:32:50.045883Z"
    },
    "tags": [
     "param"
    ]
   },
   "outputs": [],
   "source": [
    "np.random.seed(0)\n",
    "c = 0.0\n",
    "\n",
    "setting = settings.cmpn1b\n",
    "data_gen_params = setting.data_gen_params\n",
    "data_gen_params.cs = data_gen_params.cs_fn(c)\n",
    "data_gen_params.gt_beta = data_gen_params.beta_fn(data_gen_params.cs)\n",
    "\n",
    "num_rep = 200\n",
    "Cmat = np.eye(data_gen_params.d - len(setting.sel_idx))\n",
    "save_dir = RES_ROOT/f\"simu_setting{setting.setting}_test\"\n",
    "if not save_dir.exists():\n",
    "    save_dir.mkdir()"
   ]
  },
  {
   "cell_type": "code",
   "execution_count": null,
   "id": "d93dffd9-4881-4784-8bf3-e73d803b62e1",
   "metadata": {},
   "outputs": [],
   "source": []
  },
  {
   "cell_type": "markdown",
   "id": "324c61ec-d16f-48ea-a1ad-de39801a40ef",
   "metadata": {},
   "source": [
    "# Simu"
   ]
  },
  {
   "cell_type": "markdown",
   "id": "66c2f90f",
   "metadata": {
    "ExecuteTime": {
     "end_time": "2022-12-08T18:09:55.509389Z",
     "start_time": "2022-12-08T18:09:55.343396Z"
    }
   },
   "source": [
    "## Check data gen fn"
   ]
  },
  {
   "cell_type": "code",
   "execution_count": 9,
   "id": "b2b0eac7-57e2-48d2-a57d-87f85337b4a7",
   "metadata": {
    "execution": {
     "iopub.execute_input": "2024-02-15T22:32:53.275119Z",
     "iopub.status.busy": "2024-02-15T22:32:53.274447Z",
     "iopub.status.idle": "2024-02-15T22:32:53.371729Z",
     "shell.execute_reply": "2024-02-15T22:32:53.371189Z",
     "shell.execute_reply.started": "2024-02-15T22:32:53.275074Z"
    },
    "tags": []
   },
   "outputs": [],
   "source": [
    "data = gen_simu_psd_dataset(n=data_gen_params.n, \n",
    "                            d=data_gen_params.d, \n",
    "                            q=data_gen_params.q, \n",
    "                            types_=data_gen_params.types_, \n",
    "                            gt_alp=data_gen_params.gt_alp, \n",
    "                            gt_beta=data_gen_params.gt_beta, \n",
    "                            freqs=data_gen_params.freqs, \n",
    "                            data_type=data_gen_params.data_type, \n",
    "                            #data_params={\"psd_noise_sd\":5},\n",
    "                            data_params=data_gen_params.data_params, \n",
    "                            seed=0, \n",
    "                            is_std=data_gen_params.is_std, \n",
    "                            verbose=1, \n",
    "                            is_gen=False);"
   ]
  },
  {
   "cell_type": "code",
   "execution_count": 10,
   "id": "4ae5a212-ef32-4152-8f46-615e2117e931",
   "metadata": {
    "execution": {
     "iopub.execute_input": "2024-02-15T22:32:53.887521Z",
     "iopub.status.busy": "2024-02-15T22:32:53.886865Z",
     "iopub.status.idle": "2024-02-15T22:32:54.117125Z",
     "shell.execute_reply": "2024-02-15T22:32:54.116643Z",
     "shell.execute_reply.started": "2024-02-15T22:32:53.887476Z"
    },
    "tags": []
   },
   "outputs": [
    {
     "data": {
      "text/plain": [
       "[<matplotlib.lines.Line2D at 0x7f1085ef6760>]"
      ]
     },
     "execution_count": 10,
     "metadata": {},
     "output_type": "execute_result"
    },
    {
     "data": {
      "image/png": "[encoded data removed]",
      "text/plain": [
       "<Figure size 432x288 with 1 Axes>"
      ]
     },
     "metadata": {
      "needs_background": "light"
     },
     "output_type": "display_data"
    }
   ],
   "source": [
    "sub_idx = 10\n",
    "for roi_ix in range(20):\n",
    "    plt.plot(data.X[sub_idx, roi_ix, :])\n",
    "plt.plot(data.X[sub_idx, :, :].mean(axis=0))"
   ]
  },
  {
   "cell_type": "markdown",
   "id": "09b0ec89-ac82-4079-acc3-6649993a0444",
   "metadata": {
    "tags": []
   },
   "source": [
    "## SIS check (just for check)"
   ]
  },
  {
   "cell_type": "code",
   "execution_count": 12,
   "id": "95a15192-2e48-424f-acd9-1cd41ee7a215",
   "metadata": {
    "execution": {
     "iopub.execute_input": "2024-02-15T22:33:09.347276Z",
     "iopub.status.busy": "2024-02-15T22:33:09.346609Z",
     "iopub.status.idle": "2024-02-15T22:33:09.387546Z",
     "shell.execute_reply": "2024-02-15T22:33:09.386991Z",
     "shell.execute_reply.started": "2024-02-15T22:33:09.347231Z"
    },
    "tags": []
   },
   "outputs": [],
   "source": [
    "def _SIS_fn(seed, SIS_ratio, N, SIS_pen, setting):\n",
    "    torch.set_default_dtype(torch.double)\n",
    "    np.random.seed(seed)\n",
    "    torch.manual_seed(seed)\n",
    "        \n",
    "    data_gen_params = edict(setting.data_gen_params.copy())\n",
    "    basis_mat = torch.tensor(obt_bsp(np.linspace(0, 1, data_gen_params.npts), N, 4)).to(torch.get_default_dtype())\n",
    "    cur_data = gen_simu_psd_dataset(n=data_gen_params.n, \n",
    "                                    d=data_gen_params.d, \n",
    "                                    q=data_gen_params.q, \n",
    "                                    types_=data_gen_params.types_, \n",
    "                                    gt_alp=data_gen_params.gt_alp, \n",
    "                                    gt_beta=data_gen_params.gt_beta, \n",
    "                                    freqs=data_gen_params.freqs, \n",
    "                                    data_type=data_gen_params.data_type, \n",
    "                                    data_params=data_gen_params.data_params, \n",
    "                                    seed=seed, \n",
    "                                    is_std=data_gen_params.is_std, \n",
    "                                    verbose=1, \n",
    "                                    is_gen=False);\n",
    "    \n",
    "    keep_idxs, _  = SIS_GLIM(Y=cur_data.Y, X=cur_data.X, Z=cur_data.Z, \n",
    "                             basis_mat=basis_mat, keep_ratio=SIS_ratio, \n",
    "                             model_type=setting.model_type, SIS_pen=SIS_pen, sel_idx=setting.sel_idx)\n",
    "    M_idxs = np.delete(np.arange(data_gen_params.d), setting.sel_idx)\n",
    "    keep_idxs = np.sort(np.concatenate([M_idxs, keep_idxs]))\n",
    "    return keep_idxs"
   ]
  },
  {
   "cell_type": "code",
   "execution_count": 13,
   "id": "e232013c-a4b7-4adb-98cc-0037d977ef20",
   "metadata": {
    "execution": {
     "iopub.execute_input": "2024-02-15T22:33:09.743569Z",
     "iopub.status.busy": "2024-02-15T22:33:09.742909Z",
     "iopub.status.idle": "2024-02-15T22:33:16.770343Z",
     "shell.execute_reply": "2024-02-15T22:33:16.768994Z",
     "shell.execute_reply.started": "2024-02-15T22:33:09.743525Z"
    },
    "scrolled": true,
    "tags": []
   },
   "outputs": [
    {
     "name": "stderr",
     "output_type": "stream",
     "text": [
      " 10%|███████▌                                                                   | 20/200 [00:00<00:02, 71.75it/s]R[write to console]: \n",
      "Attaching package: ‘orthogonalsplinebasis’\n",
      "\n",
      "\n",
      "R[write to console]: The following object is masked from ‘package:stats’:\n",
      "\n",
      "    integrate\n",
      "\n",
      "\n",
      "R[write to console]: \n",
      "Attaching package: ‘orthogonalsplinebasis’\n",
      "\n",
      "\n",
      "R[write to console]: The following object is masked from ‘package:stats’:\n",
      "\n",
      "    integrate\n",
      "\n",
      "\n",
      "R[write to console]: \n",
      "Attaching package: ‘orthogonalsplinebasis’\n",
      "\n",
      "\n",
      "R[write to console]: The following object is masked from ‘package:stats’:\n",
      "\n",
      "    integrate\n",
      "\n",
      "\n",
      "R[write to console]: \n",
      "Attaching package: ‘orthogonalsplinebasis’\n",
      "\n",
      "\n",
      "R[write to console]: The following object is masked from ‘package:stats’:\n",
      "\n",
      "    integrate\n",
      "\n",
      "\n",
      "R[write to console]: \n",
      "Attaching package: ‘orthogonalsplinebasis’\n",
      "\n",
      "\n",
      "R[write to console]: The following object is masked from ‘package:stats’:\n",
      "\n",
      "    integrate\n",
      "\n",
      "\n",
      "R[write to console]: \n",
      "Attaching package: ‘orthogonalsplinebasis’\n",
      "\n",
      "\n",
      "R[write to console]: The following object is masked from ‘package:stats’:\n",
      "\n",
      "    integrate\n",
      "\n",
      "\n",
      "R[write to console]: \n",
      "Attaching package: ‘orthogonalsplinebasis’\n",
      "\n",
      "\n",
      "R[write to console]: The following object is masked from ‘package:stats’:\n",
      "\n",
      "    integrate\n",
      "\n",
      "\n",
      "R[write to console]: \n",
      "Attaching package: ‘orthogonalsplinebasis’\n",
      "\n",
      "\n",
      " 20%|███████████████                                                            | 40/200 [00:03<00:15, 10.13it/s]R[write to console]: The following object is masked from ‘package:stats’:\n",
      "\n",
      "    integrate\n",
      "\n",
      "\n",
      "R[write to console]: \n",
      "Attaching package: ‘orthogonalsplinebasis’\n",
      "\n",
      "\n",
      "R[write to console]: The following object is masked from ‘package:stats’:\n",
      "\n",
      "    integrate\n",
      "\n",
      "\n",
      "R[write to console]: \n",
      "Attaching package: ‘orthogonalsplinebasis’\n",
      "\n",
      "\n",
      "R[write to console]: The following object is masked from ‘package:stats’:\n",
      "\n",
      "    integrate\n",
      "\n",
      "\n",
      "R[write to console]: \n",
      "Attaching package: ‘orthogonalsplinebasis’\n",
      "\n",
      "\n",
      "R[write to console]: The following object is masked from ‘package:stats’:\n",
      "\n",
      "    integrate\n",
      "\n",
      "\n",
      "R[write to console]: \n",
      "Attaching package: ‘orthogonalsplinebasis’\n",
      "\n",
      "\n",
      "R[write to console]: The following object is masked from ‘package:stats’:\n",
      "\n",
      "    integrate\n",
      "\n",
      "\n",
      "R[write to console]: \n",
      "Attaching package: ‘orthogonalsplinebasis’\n",
      "\n",
      "\n",
      "R[write to console]: The following object is masked from ‘package:stats’:\n",
      "\n",
      "    integrate\n",
      "\n",
      "\n",
      "R[write to console]: \n",
      "Attaching package: ‘orthogonalsplinebasis’\n",
      "\n",
      "\n",
      "R[write to console]: The following object is masked from ‘package:stats’:\n",
      "\n",
      "    integrate\n",
      "\n",
      "\n",
      "R[write to console]: \n",
      "Attaching package: ‘orthogonalsplinebasis’\n",
      "\n",
      "\n",
      "R[write to console]: The following object is masked from ‘package:stats’:\n",
      "\n",
      "    integrate\n",
      "\n",
      "\n",
      "R[write to console]: \n",
      "Attaching package: ‘orthogonalsplinebasis’\n",
      "\n",
      "\n",
      "R[write to console]: The following object is masked from ‘package:stats’:\n",
      "\n",
      "    integrate\n",
      "\n",
      "\n",
      "R[write to console]: \n",
      "Attaching package: ‘orthogonalsplinebasis’\n",
      "\n",
      "\n",
      "R[write to console]: The following object is masked from ‘package:stats’:\n",
      "\n",
      "    integrate\n",
      "\n",
      "\n",
      "R[write to console]: \n",
      "Attaching package: ‘orthogonalsplinebasis’\n",
      "\n",
      "\n",
      "R[write to console]: The following object is masked from ‘package:stats’:\n",
      "\n",
      "    integrate\n",
      "\n",
      "\n",
      "R[write to console]: \n",
      "Attaching package: ‘orthogonalsplinebasis’\n",
      "\n",
      "\n",
      "R[write to console]: The following object is masked from ‘package:stats’:\n",
      "\n",
      "    integrate\n",
      "\n",
      "\n",
      "R[write to console]: \n",
      "Attaching package: ‘orthogonalsplinebasis’\n",
      "\n",
      "\n",
      "R[write to console]: The following object is masked from ‘package:stats’:\n",
      "\n",
      "    integrate\n",
      "\n",
      "\n",
      "100%|██████████████████████████████████████████████████████████████████████████| 200/200 [00:06<00:00, 31.24it/s]\n"
     ]
    }
   ],
   "source": [
    "obt_bsp = obt_bsp_obasis_Rfn\n",
    "num_rep = 200\n",
    "with Parallel(n_jobs=20) as parallel:\n",
    "    keep_idxss = parallel(delayed(_SIS_fn)(seed, 0.10, N=8, SIS_pen=0.02, setting=setting) for seed in \n",
    "                          tqdm(range(0, num_rep), total=num_rep))"
   ]
  },
  {
   "cell_type": "code",
   "execution_count": 14,
   "id": "fa326890-75ba-4555-a8e2-5931508a002e",
   "metadata": {
    "execution": {
     "iopub.execute_input": "2024-02-15T22:33:18.207225Z",
     "iopub.status.busy": "2024-02-15T22:33:18.206659Z",
     "iopub.status.idle": "2024-02-15T22:33:18.405852Z",
     "shell.execute_reply": "2024-02-15T22:33:18.405414Z",
     "shell.execute_reply.started": "2024-02-15T22:33:18.207179Z"
    },
    "tags": []
   },
   "outputs": [
    {
     "data": {
      "text/plain": [
       "Text(0.5, 1.0, '[0.15  0.07  0.105 0.08  0.135 0.115 0.085 0.075 1.   ]')"
      ]
     },
     "execution_count": 14,
     "metadata": {},
     "output_type": "execute_result"
    },
    {
     "data": {
      "image/png": "[encoded data removed]",
      "text/plain": [
       "<Figure size 432x288 with 1 Axes>"
      ]
     },
     "metadata": {
      "needs_background": "light"
     },
     "output_type": "display_data"
    }
   ],
   "source": [
    "vs, cts = np.unique(np.concatenate(keep_idxss), return_counts=1);\n",
    "cts = cts[np.argsort(vs)]/len(keep_idxss)\n",
    "vs = np.sort(vs);\n",
    "plt.plot(vs, cts, \".\")\n",
    "plt.title(f\"{cts[vs > 190]}\")"
   ]
  },
  {
   "cell_type": "code",
   "execution_count": null,
   "id": "be9dad8c-0fcf-4d93-b3b9-d9dc5d2dfe77",
   "metadata": {},
   "outputs": [],
   "source": []
  },
  {
   "cell_type": "markdown",
   "id": "8148a0dd-0b8b-4f04-a43a-a75cfd20ae1f",
   "metadata": {},
   "source": [
    "## Simulation"
   ]
  },
  {
   "cell_type": "code",
   "execution_count": null,
   "id": "96d90cac-bc30-4f2a-84fd-86b8af6e2a00",
   "metadata": {},
   "outputs": [],
   "source": []
  },
  {
   "cell_type": "code",
   "execution_count": 15,
   "id": "0f9eca46-ade4-40fa-83f5-b8db4ff10947",
   "metadata": {
    "execution": {
     "iopub.execute_input": "2024-02-15T22:33:20.743410Z",
     "iopub.status.busy": "2024-02-15T22:33:20.742733Z",
     "iopub.status.idle": "2024-02-15T22:33:20.785292Z",
     "shell.execute_reply": "2024-02-15T22:33:20.784751Z",
     "shell.execute_reply.started": "2024-02-15T22:33:20.743365Z"
    },
    "tags": []
   },
   "outputs": [],
   "source": [
    "def _run_fn(seed, lam, N, setting, is_save=False, is_cv=False, verbose=2):\n",
    "    \"\"\"Now (on Aug 25, 2023), if we keep seed the same, the cur_data is the same. \n",
    "       If you want to make any changes, make sure this. \n",
    "    \"\"\"\n",
    "    torch.set_default_dtype(torch.double)\n",
    "    np.random.seed(seed)\n",
    "    torch.manual_seed(seed)\n",
    "        \n",
    "    _setting = edict(setting.copy())\n",
    "    _setting.seed = seed\n",
    "    _setting.lam = lam\n",
    "    _setting.N = N\n",
    "    \n",
    "    data_gen_params = setting.data_gen_params\n",
    "    \n",
    "    f_name = f\"seed_{seed:.0f}-lam_{lam*1000:.0f}-N_{N:.0f}_fit.pkl\"\n",
    "    \n",
    "    \n",
    "    if not (save_dir/f_name).exists():\n",
    "        cur_data = gen_simu_psd_dataset(n=data_gen_params.n, \n",
    "                            d=data_gen_params.d, \n",
    "                            q=data_gen_params.q, \n",
    "                            types_=data_gen_params.types_, \n",
    "                            gt_alp=data_gen_params.gt_alp, \n",
    "                            gt_beta=data_gen_params.gt_beta, \n",
    "                            freqs=data_gen_params.freqs, \n",
    "                            data_type=data_gen_params.data_type, \n",
    "                            data_params=data_gen_params.data_params, \n",
    "                            seed=seed, \n",
    "                            is_std=data_gen_params.is_std, \n",
    "                            verbose=verbose, \n",
    "                            is_gen=False);\n",
    "        hdf_fit = HDFOpt(lam=_setting.lam, \n",
    "                         sel_idx=_setting.sel_idx, \n",
    "                         model_type=_setting.model_type,\n",
    "                         verbose=verbose, \n",
    "                         SIS_ratio=_setting.SIS_ratio, \n",
    "                         N=_setting.N,\n",
    "                         is_std_data=True, \n",
    "                         cov_types=None, \n",
    "                         inits=None,\n",
    "                         model_params = _setting.model_params, \n",
    "                         SIS_params = _setting.SIS_params, \n",
    "                         opt_params = _setting.opt_params,\n",
    "                         bsp_params = _setting.bsp_params, \n",
    "                         pen_params = _setting.pen_params\n",
    "               );\n",
    "        hdf_fit.add_data(cur_data.X, cur_data.Y, cur_data.Z)\n",
    "        opt_res = hdf_fit.fit()\n",
    "        \n",
    "        if is_cv:\n",
    "            hdf_fit.get_cv_est(_setting.num_cv_fold)\n",
    "        if is_save:\n",
    "            hdf_fit.save(save_dir/f_name, is_compact=False, is_force=True)\n",
    "    else:\n",
    "        hdf_fit = load_pkl(save_dir/f_name, verbose>=2);\n",
    "        \n",
    "    return hdf_fit\n"
   ]
  },
  {
   "cell_type": "code",
   "execution_count": null,
   "id": "dde1b6a7-747d-400a-879a-bf4724ebfc13",
   "metadata": {
    "tags": []
   },
   "outputs": [],
   "source": []
  },
  {
   "cell_type": "raw",
   "id": "4c09f840-848b-4c44-9b00-6a038ee2a318",
   "metadata": {
    "execution": {
     "iopub.execute_input": "2023-09-21T23:20:31.625325Z",
     "iopub.status.busy": "2023-09-21T23:20:31.624679Z",
     "iopub.status.idle": "2023-09-21T23:21:25.262561Z",
     "shell.execute_reply": "2023-09-21T23:21:25.261234Z",
     "shell.execute_reply.started": "2023-09-21T23:20:31.625279Z"
    },
    "tags": []
   },
   "source": [
    "all_coms = itertools.product(range(0, num_rep), setting.can_lams, setting.can_Ns)\n",
    "with Parallel(n_jobs=5) as parallel:\n",
    "    ress = parallel(delayed(_run_fn)(seed, lam=lam, N=N, setting=setting, is_save=True, is_cv=True, verbose=1) \n",
    "                    for seed, lam, N \n",
    "                    in tqdm(all_coms, total=len(setting.can_Ns)*len(setting.can_lams)*num_rep))"
   ]
  },
  {
   "cell_type": "code",
   "execution_count": null,
   "id": "b64ec903-256d-4b9f-89be-6725629c1ef4",
   "metadata": {},
   "outputs": [],
   "source": []
  },
  {
   "cell_type": "markdown",
   "id": "ee5b93bf-12d5-40d9-b925-79fc4fb2b4a8",
   "metadata": {},
   "source": [
    "### single test"
   ]
  },
  {
   "cell_type": "code",
   "execution_count": null,
   "id": "79c70386-d031-4f98-8952-5cca38d8beeb",
   "metadata": {
    "tags": []
   },
   "outputs": [],
   "source": []
  },
  {
   "cell_type": "code",
   "execution_count": 16,
   "id": "02d10b93-0e05-46e8-b0c1-71d2efeb8ed1",
   "metadata": {
    "execution": {
     "iopub.execute_input": "2024-02-15T22:33:22.829254Z",
     "iopub.status.busy": "2024-02-15T22:33:22.828585Z",
     "iopub.status.idle": "2024-02-15T22:33:25.015438Z",
     "shell.execute_reply": "2024-02-15T22:33:25.014991Z",
     "shell.execute_reply.started": "2024-02-15T22:33:22.829209Z"
    },
    "scrolled": true,
    "tags": []
   },
   "outputs": [
    {
     "name": "stderr",
     "output_type": "stream",
     "text": [
      "2024-02-15 14:33:22,918 - optimization.opt - INFO - opt parmas is {'stop_cv': 0.0005, 'max_iter': 2000, 'one_step_verbose': 0, 'alpha': 0.9, 'beta': 10, 'R': 200000.0, 'linear_theta_update': 'cholesky_inv'}.\n",
      "2024-02-15 14:33:22,919 - optimization.opt - INFO - SIS parmas is {'SIS_pen': 0.02, 'SIS_basis_N': 8, 'SIS_basis_ord': 4, 'SIS_ratio': 0.2}.\n",
      "2024-02-15 14:33:22,920 - optimization.opt - INFO - model parmas is {'norminal_sigma2': 1}.\n",
      "2024-02-15 14:33:22,920 - optimization.opt - INFO - penalty parmas is {'a': 3.7, 'lam': 2.0}.\n",
      "2024-02-15 14:33:22,921 - optimization.opt - INFO - bspline parmas is {'basis_ord': 4, 'is_orth_basis': True, 'N': 6}.\n",
      "2024-02-15 14:33:22,921 - optimization.opt - INFO - As cov_types is not provided, inferring the continuous covariates.\n",
      "R[write to console]: \n",
      "Attaching package: ‘orthogonalsplinebasis’\n",
      "\n",
      "\n",
      "R[write to console]: The following object is masked from ‘package:stats’:\n",
      "\n",
      "    integrate\n",
      "\n",
      "\n"
     ]
    },
    {
     "name": "stdout",
     "output_type": "stream",
     "text": [
      "Load file /data/rajlab1/user_data/jin/MyResearch/HDF_infer/notebooks/simu_cmp2sinica/../../mypkg/../mid_results/PSD_d-200_n-100_npts-100_is_std-False/seed_1.pkl\n"
     ]
    },
    {
     "name": "stderr",
     "output_type": "stream",
     "text": [
      "Main Loop:   2%|▍                         | 33/2000 [00:00<00:04, 467.94it/s, error=0.000771, GamL0=2, CV=0.0005]\n",
      "Cross Validation: 100%|██████████████████████████████████████████████████████████| 10/10 [00:01<00:00,  5.49it/s]\n"
     ]
    },
    {
     "data": {
      "text/plain": [
       "<optimization.opt.HDFOpt at 0x7f1011c52850>"
      ]
     },
     "execution_count": 16,
     "metadata": {},
     "output_type": "execute_result"
    }
   ],
   "source": [
    "seed = 1\n",
    "lam = 2.0\n",
    "N = 6\n",
    "\n",
    "res = _run_fn(seed=seed, lam=lam, N=N, setting=setting, is_cv=True, is_save=False, verbose=2)\n",
    "#res._prepare_hypotest()\n",
    "#res.hypo_test(Cmat)"
   ]
  },
  {
   "cell_type": "code",
   "execution_count": 17,
   "id": "4680598c-3436-4ac3-8d9e-cf017853e8fe",
   "metadata": {
    "execution": {
     "iopub.execute_input": "2024-02-15T22:33:26.054539Z",
     "iopub.status.busy": "2024-02-15T22:33:26.053852Z",
     "iopub.status.idle": "2024-02-15T22:33:26.134091Z",
     "shell.execute_reply": "2024-02-15T22:33:26.133359Z",
     "shell.execute_reply.started": "2024-02-15T22:33:26.054493Z"
    },
    "tags": []
   },
   "outputs": [
    {
     "name": "stderr",
     "output_type": "stream",
     "text": [
      "2024-02-15 14:33:26,113 - optimization.opt - INFO - hypo parmas is {'svdinv_eps_Q': 1e-07, 'svdinv_eps_Psi': 1e-07, 'Cmat': array([[1.]])}.\n"
     ]
    },
    {
     "data": {
      "text/plain": [
       "{'pval': 0.23354556068152926, 'T_v': tensor(8.0627)}"
      ]
     },
     "execution_count": 17,
     "metadata": {},
     "output_type": "execute_result"
    }
   ],
   "source": [
    "Cmat = np.eye(1)\n",
    "#########ts = setting.data_gen_params.gt_beta[:, :1];\n",
    "res.hypo_test(Cmat, ts=None)"
   ]
  },
  {
   "cell_type": "code",
   "execution_count": null,
   "id": "883c4365-e74b-4330-bb1d-e090033a7c2e",
   "metadata": {
    "tags": []
   },
   "outputs": [],
   "source": []
  },
  {
   "cell_type": "code",
   "execution_count": null,
   "id": "5a0bab91-13d0-4d5a-8d4a-c81bf753f101",
   "metadata": {},
   "outputs": [],
   "source": []
  },
  {
   "cell_type": "markdown",
   "id": "c6071092-a8df-482e-a1e4-406cf8da1ef1",
   "metadata": {},
   "source": [
    "### Multipe test"
   ]
  },
  {
   "cell_type": "code",
   "execution_count": 18,
   "id": "b8a5f026-e1d1-42cd-855b-3b16cbc947f9",
   "metadata": {
    "execution": {
     "iopub.execute_input": "2024-02-15T22:33:28.628383Z",
     "iopub.status.busy": "2024-02-15T22:33:28.627695Z",
     "iopub.status.idle": "2024-02-15T22:33:28.691588Z",
     "shell.execute_reply": "2024-02-15T22:33:28.690996Z",
     "shell.execute_reply.started": "2024-02-15T22:33:28.628338Z"
    },
    "tags": []
   },
   "outputs": [],
   "source": [
    "def outlier_det(T_vs, ratio_tol=0.05):\n",
    "    \"\"\"\n",
    "    Detects outliers in a given dataset using the interquartile range (IQR) method.\n",
    "\n",
    "    Parameters:\n",
    "    - T_vs (array-like): The input dataset.\n",
    "    - ratio_tol (float, optional): The tolerance ratio for outlier removal. Default is 0.05.\n",
    "\n",
    "    Returns:\n",
    "    - kpidx (ndarray): A boolean array indicating whether each data point is an outlier or not.\n",
    "    \"\"\"\n",
    "    Q1, Q3 = np.quantile(T_vs, [0.25, 0.75])\n",
    "    IQR = Q3 - Q1\n",
    "    upbd = Q3 + 1.5*IQR\n",
    "    lowbd = Q1 - 1.5*IQR\n",
    "    kpidx = np.bitwise_and(T_vs>=lowbd, T_vs<=upbd)\n",
    "    \n",
    "    if np.mean(kpidx)+ ratio_tol < 1:\n",
    "        out_part = np.stack([T_vs - upbd, lowbd - T_vs]).T.max(axis=1);\n",
    "        kpidx = np.ones(len(T_vs), dtype=bool)\n",
    "        kpidx[np.argsort(-out_part)[:int(len(T_vs)*ratio_tol)]] = False\n",
    "    return kpidx"
   ]
  },
  {
   "cell_type": "code",
   "execution_count": 19,
   "id": "01628aa5-375f-4ad9-be87-504d682709e9",
   "metadata": {
    "execution": {
     "iopub.execute_input": "2024-02-15T22:33:29.615798Z",
     "iopub.status.busy": "2024-02-15T22:33:29.615135Z",
     "iopub.status.idle": "2024-02-15T22:33:29.652888Z",
     "shell.execute_reply": "2024-02-15T22:33:29.652361Z",
     "shell.execute_reply.started": "2024-02-15T22:33:29.615755Z"
    },
    "tags": []
   },
   "outputs": [],
   "source": [
    "Cmat = np.eye(1)\n",
    "ts = None"
   ]
  },
  {
   "cell_type": "code",
   "execution_count": 24,
   "id": "506c46a1-0497-4491-bf75-fb97a632f342",
   "metadata": {
    "execution": {
     "iopub.execute_input": "2024-02-15T22:33:58.856628Z",
     "iopub.status.busy": "2024-02-15T22:33:58.855986Z",
     "iopub.status.idle": "2024-02-15T22:34:05.067059Z",
     "shell.execute_reply": "2024-02-15T22:34:05.065883Z",
     "shell.execute_reply.started": "2024-02-15T22:33:58.856585Z"
    },
    "scrolled": true,
    "tags": []
   },
   "outputs": [
    {
     "name": "stderr",
     "output_type": "stream",
     "text": [
      "100%|██████████████████████████████████████████████████████████████████████████| 200/200 [00:05<00:00, 38.62it/s]\n"
     ]
    }
   ],
   "source": [
    "N = 6\n",
    "lam = 1.0\n",
    "#setting.opt_params.beta = 10\n",
    "def _run_fn1(seed):\n",
    "    res = _run_fn(seed=seed, lam=lam, N=N, setting=setting, is_cv=False, verbose=1)\n",
    "    res.hypo_test(Cmat, ts=ts, is_simpler=False)\n",
    "    test_res = edict()\n",
    "    test_res.update(res.hypo_test_res)\n",
    "    test_res.L0 = torch.sum(torch.linalg.norm(res.est_Gam, axis=0)!=0).item()\n",
    "    test_res.iters = res.conv_iter\n",
    "    return test_res\n",
    "    \n",
    "num_rep = 200\n",
    "with Parallel(n_jobs=20) as parallel:\n",
    "    test_ress = parallel(delayed(_run_fn1)(seed) for seed in tqdm(range(num_rep), total=num_rep))\n",
    "    "
   ]
  },
  {
   "cell_type": "code",
   "execution_count": 25,
   "id": "78d12832-08d2-4390-8003-6718c0552f92",
   "metadata": {
    "execution": {
     "iopub.execute_input": "2024-02-15T22:34:05.459590Z",
     "iopub.status.busy": "2024-02-15T22:34:05.458906Z",
     "iopub.status.idle": "2024-02-15T22:34:05.722944Z",
     "shell.execute_reply": "2024-02-15T22:34:05.722268Z",
     "shell.execute_reply.started": "2024-02-15T22:34:05.459546Z"
    },
    "tags": []
   },
   "outputs": [
    {
     "name": "stdout",
     "output_type": "stream",
     "text": [
      "The size is 0.050 and the mean of Tv is 5.899 and thoeretically it is 6. L0 is 7.26.\n"
     ]
    },
    {
     "data": {
      "text/plain": [
       "<matplotlib.legend.Legend at 0x7f1011dc8310>"
      ]
     },
     "execution_count": 25,
     "metadata": {},
     "output_type": "execute_result"
    },
    {
     "data": {
      "image/png": "[encoded data removed]",
      "text/plain": [
       "<Figure size 432x288 with 1 Axes>"
      ]
     },
     "metadata": {
      "needs_background": "light"
     },
     "output_type": "display_data"
    }
   ],
   "source": [
    "pvals = np.array([res.pval for res in test_ress])\n",
    "T_vs = np.array([res.T_v for res in test_ress]);\n",
    "L0s = np.array([res.L0 for res in test_ress]);\n",
    "chi_df = Cmat.shape[0]*N\n",
    "kpidx = outlier_det(T_vs, 0.00)\n",
    "print(\n",
    "    f\"The size is {np.mean(pvals[kpidx]<0.05):.3f} and \"\n",
    "    f\"the mean of Tv is {np.mean(T_vs[kpidx]):.3f} and thoeretically it is {chi_df:.0f}. \"\n",
    "    f\"L0 is {np.mean(L0s[kpidx]):.2f}.\"\n",
    "     )\n",
    "\n",
    "chi_df = Cmat.shape[0]*N\n",
    "xs = np.linspace(0.1, 100, 100)\n",
    "theo_curvs_log = chi2.logpdf(xs, chi_df);\n",
    "plt.plot(xs, np.exp(theo_curvs_log) , label=\"theoretical\")\n",
    "sns.kdeplot(T_vs[kpidx], label=\"empirical\")\n",
    "plt.legend()"
   ]
  },
  {
   "cell_type": "raw",
   "id": "4dfa27d8-68e4-46a5-a1ca-46be460e599a",
   "metadata": {},
   "source": []
  },
  {
   "cell_type": "markdown",
   "id": "f66c89ef-c98c-4c15-aca7-b7bc0acf9a20",
   "metadata": {},
   "source": [
    "### Chcek"
   ]
  },
  {
   "cell_type": "code",
   "execution_count": 11,
   "id": "fe7ab15c-d427-4520-8a1f-c7f5b7a800d2",
   "metadata": {
    "execution": {
     "iopub.execute_input": "2024-01-06T02:46:55.493289Z",
     "iopub.status.busy": "2024-01-06T02:46:55.492630Z",
     "iopub.status.idle": "2024-01-06T02:46:55.531091Z",
     "shell.execute_reply": "2024-01-06T02:46:55.530596Z",
     "shell.execute_reply.started": "2024-01-06T02:46:55.493238Z"
    },
    "tags": []
   },
   "outputs": [],
   "source": [
    "from hdf_utils.likelihood import obt_lin_tm"
   ]
  },
  {
   "cell_type": "code",
   "execution_count": 8,
   "id": "cf8ad136-f25e-4260-8e3b-94fbbbeee8de",
   "metadata": {
    "execution": {
     "iopub.execute_input": "2024-01-05T23:37:32.950421Z",
     "iopub.status.busy": "2024-01-05T23:37:32.949496Z",
     "iopub.status.idle": "2024-01-05T23:37:32.999343Z",
     "shell.execute_reply": "2024-01-05T23:37:32.998734Z",
     "shell.execute_reply.started": "2024-01-05T23:37:32.950372Z"
    },
    "tags": []
   },
   "outputs": [],
   "source": [
    "class HDFOpt1(HDFOpt):\n",
    "     \n",
    "    def get_cv_est(self, num_cv_fold=5):\n",
    "        \"\"\"\n",
    "        Get CV estimate for each Y\n",
    "        \"\"\"\n",
    "        assert self.X is not None, f\"Plz add data by .add_data() first.\"\n",
    "        n = self.data_params.n\n",
    "        \n",
    "        num_test = int(n/num_cv_fold)\n",
    "        full_idx = np.arange(n)\n",
    "        test_Y_est_all = []\n",
    "        if self.verbose >= 2:\n",
    "            prg_bar = trange(num_cv_fold, desc=\"Cross Validation\")\n",
    "        else:\n",
    "            prg_bar = range(num_cv_fold)\n",
    "            \n",
    "        for ix in prg_bar:\n",
    "            test_idx = full_idx[(ix*num_test):(ix*num_test+num_test)]\n",
    "            if ix == num_cv_fold-1:\n",
    "                test_idx = full_idx[(ix*num_test):] # including all remaining data\n",
    "            train_idx = np.delete(full_idx, test_idx)\n",
    "            \n",
    "            test_set_X = self.X[test_idx]\n",
    "            test_set_Y = self.Y[test_idx]\n",
    "            test_set_Z = self.Z[test_idx]\n",
    "            \n",
    "            train_set_X = self.X[train_idx]\n",
    "            train_set_Y = self.Y[train_idx]\n",
    "            train_set_Z = self.Z[train_idx]\n",
    "            \n",
    "            if self.is_std_data:\n",
    "                con_idxs = self.con_idxs\n",
    "                test_set_X = test_set_X - train_set_X.mean(axis=0, keepdims=True)\n",
    "                test_set_Z[:, con_idxs] = (test_set_Z[:, con_idxs] - train_set_Z[:, con_idxs].mean(axis=0, keepdims=True))/train_set_Z[:, con_idxs].std(axis=0, keepdims=True)\n",
    "                \n",
    "                train_set_X = train_set_X - train_set_X.mean(axis=0, keepdims=True)\n",
    "                train_set_Z[:, con_idxs] = (train_set_Z[:, con_idxs] - train_set_Z[:, con_idxs].mean(axis=0, keepdims=True))/train_set_Z[:, con_idxs].std(axis=0, keepdims=True)\n",
    "                \n",
    "                \n",
    "                if self.model_type.startswith(\"linear\"):\n",
    "                    test_set_Y = test_set_Y - train_set_Y.mean(axis=0, keepdims=True)\n",
    "                    train_set_Y = train_set_Y - train_set_Y.mean(axis=0, keepdims=True)\n",
    "            self.opt_params[\"linear_mat\"] = None\n",
    "            cv_res, cur_keep_idxs = self._fit(self.pen_params.lam, self.bsp_params.N, train_set_X, train_set_Y, train_set_Z, \n",
    "                                              is_pbar=False, is_cv=True)\n",
    "            est_alp = cv_res.alpk\n",
    "            est_Gam = cv_res.Gamk\n",
    "            test_Y_est = obt_lin_tm(test_set_Z, test_set_X[:, cur_keep_idxs], est_alp, est_Gam, self.basis_mat)\n",
    "            if self.model_type.startswith(\"linear\"):\n",
    "                test_Y_est_all.append(test_Y_est.numpy())\n",
    "            elif self.model_type.startswith(\"logi\"):\n",
    "                test_Y_est_all.append(logit_fn(test_Y_est.numpy()))\n",
    "                \n",
    "        self.cv_Y_est = np.concatenate(test_Y_est_all)\n",
    "        self.cv_res = cv_res\n",
    "        return self.cv_Y_est"
   ]
  },
  {
   "cell_type": "code",
   "execution_count": 12,
   "id": "83e88667-95b8-4b4e-bd21-fc4f99cf7dcc",
   "metadata": {
    "execution": {
     "iopub.execute_input": "2024-01-06T02:47:00.831546Z",
     "iopub.status.busy": "2024-01-06T02:47:00.830895Z",
     "iopub.status.idle": "2024-01-06T02:47:01.838594Z",
     "shell.execute_reply": "2024-01-06T02:47:01.838228Z",
     "shell.execute_reply.started": "2024-01-06T02:47:00.831498Z"
    },
    "tags": []
   },
   "outputs": [
    {
     "name": "stderr",
     "output_type": "stream",
     "text": [
      "2024-01-05 18:47:00,935 - optimization.opt - INFO - opt parmas is {'stop_cv': 0.0005, 'max_iter': 2000, 'one_step_verbose': 0, 'alpha': 0.9, 'beta': 10, 'R': 200000.0, 'linear_theta_update': 'cholesky_inv'}.\n",
      "2024-01-05 18:47:00,936 - optimization.opt - INFO - SIS parmas is {'SIS_pen': 0.02, 'SIS_basis_N': 8, 'SIS_basis_ord': 4, 'SIS_ratio': 0.2}.\n",
      "2024-01-05 18:47:00,936 - optimization.opt - INFO - model parmas is {'norminal_sigma2': 1}.\n",
      "2024-01-05 18:47:00,937 - optimization.opt - INFO - penalty parmas is {'a': 3.7, 'lam': 0.9}.\n",
      "2024-01-05 18:47:00,937 - optimization.opt - INFO - bspline parmas is {'basis_ord': 4, 'is_orth_basis': True, 'N': 12}.\n",
      "2024-01-05 18:47:00,938 - optimization.opt - INFO - As cov_types is not provided, inferring the continuous covariates.\n",
      "R[write to console]: \n",
      "Attaching package: ‘orthogonalsplinebasis’\n",
      "\n",
      "\n",
      "R[write to console]: The following object is masked from ‘package:stats’:\n",
      "\n",
      "    integrate\n",
      "\n",
      "\n"
     ]
    },
    {
     "name": "stdout",
     "output_type": "stream",
     "text": [
      "Load file /data/rajlab1/user_data/jin/MyResearch/HDF_infer/notebooks/simu_real/../../mypkg/../mid_results/PSD_d-68_n-500_npts-100_is_std-False/seed_0.pkl\n"
     ]
    },
    {
     "name": "stderr",
     "output_type": "stream",
     "text": [
      "Main Loop:   1%|▌                                                                                       | 12/2000 [00:00<00:04, 410.59it/s, error=0.000763, GamL0=6, CV=0.0005]\n",
      "Cross Validation: 100%|████████████████████████████████████████████████████████████████████████████████████████████████████████████████████████| 10/10 [00:00<00:00, 13.72it/s]\n"
     ]
    }
   ],
   "source": [
    "seed = 0 \n",
    "torch.set_default_dtype(torch.double)\n",
    "np.random.seed(seed)\n",
    "torch.manual_seed(seed)\n",
    "    \n",
    "_setting = edict(setting.copy())\n",
    "_setting.seed = 0\n",
    "_setting.lam = 0.9\n",
    "_setting.N = 12\n",
    "verbose =2\n",
    "\n",
    "data_gen_params = setting.data_gen_params\n",
    "    \n",
    "    \n",
    "cur_data = gen_simu_psd_dataset(n=data_gen_params.n, \n",
    "                    d=data_gen_params.d, \n",
    "                    q=data_gen_params.q, \n",
    "                    types_=data_gen_params.types_, \n",
    "                    gt_alp=data_gen_params.gt_alp, \n",
    "                    gt_beta=data_gen_params.gt_beta, \n",
    "                    freqs=data_gen_params.freqs, \n",
    "                    data_type=data_gen_params.data_type, \n",
    "                    data_params=data_gen_params.data_params, \n",
    "                    seed=seed, \n",
    "                    is_std=data_gen_params.is_std, \n",
    "                    verbose=verbose, \n",
    "                    is_gen=False);\n",
    "hdf_fit = HDFOpt(lam=_setting.lam, \n",
    "                 sel_idx=_setting.sel_idx, \n",
    "                 model_type=_setting.model_type,\n",
    "                 verbose=verbose, \n",
    "                 SIS_ratio=_setting.SIS_ratio, \n",
    "                 N=_setting.N,\n",
    "                 is_std_data=True, \n",
    "                 cov_types=None, \n",
    "                 inits=None,\n",
    "                 model_params = _setting.model_params, \n",
    "                 SIS_params = _setting.SIS_params, \n",
    "                 opt_params = _setting.opt_params,\n",
    "                 bsp_params = _setting.bsp_params, \n",
    "                 pen_params = _setting.pen_params\n",
    "       );\n",
    "hdf_fit.add_data(cur_data.X, cur_data.Y, cur_data.Z)\n",
    "opt_res = hdf_fit.fit()\n",
    "\n",
    "hdf_fit.get_cv_est(_setting.num_cv_fold);"
   ]
  },
  {
   "cell_type": "code",
   "execution_count": null,
   "id": "3babe3b3-0159-4f22-8fe7-ceaec69c37bc",
   "metadata": {},
   "outputs": [],
   "source": []
  },
  {
   "cell_type": "code",
   "execution_count": 13,
   "id": "47b5d564-5061-40f6-91d9-61f91455d1f2",
   "metadata": {
    "execution": {
     "iopub.execute_input": "2024-01-06T02:47:04.443344Z",
     "iopub.status.busy": "2024-01-06T02:47:04.442719Z",
     "iopub.status.idle": "2024-01-06T02:47:04.648197Z",
     "shell.execute_reply": "2024-01-06T02:47:04.647768Z",
     "shell.execute_reply.started": "2024-01-06T02:47:04.443298Z"
    },
    "tags": []
   },
   "outputs": [
    {
     "data": {
      "text/plain": [
       "<matplotlib.legend.Legend at 0x7feaebcecfa0>"
      ]
     },
     "execution_count": 13,
     "metadata": {},
     "output_type": "execute_result"
    },
    {
     "data": {
      "image/png": "[encoded data removed]",
      "text/plain": [
       "<Figure size 432x288 with 1 Axes>"
      ]
     },
     "metadata": {
      "needs_background": "light"
     },
     "output_type": "display_data"
    }
   ],
   "source": [
    "Ypred = obt_lin_tm(hdf_fit.Z, hdf_fit.X[:, hdf_fit.keep_idxs], hdf_fit.est_alp, hdf_fit.est_Gam, hdf_fit.basis_mat);\n",
    "plt.plot(Ypred.numpy(), label=\"PredY\")\n",
    "plt.plot(hdf_fit.Y.numpy(), label=\"TrueY\")\n",
    "plt.plot(hdf_fit.cv_Y_est, label=\"CV Y\")\n",
    "plt.legend()"
   ]
  },
  {
   "cell_type": "code",
   "execution_count": null,
   "id": "be4f01ee-3f09-4e6c-b4d3-353fd18ed61f",
   "metadata": {},
   "outputs": [],
   "source": []
  }
 ],
 "metadata": {
  "kernelspec": {
   "display_name": "Python 3 (ipykernel)",
   "language": "python",
   "name": "python3"
  },
  "language_info": {
   "codemirror_mode": {
    "name": "ipython",
    "version": 3
   },
   "file_extension": ".py",
   "mimetype": "text/x-python",
   "name": "python",
   "nbconvert_exporter": "python",
   "pygments_lexer": "ipython3",
   "version": "3.9.7"
  },
  "toc": {
   "base_numbering": 1,
   "nav_menu": {},
   "number_sections": true,
   "sideBar": true,
   "skip_h1_title": false,
   "title_cell": "Table of Contents",
   "title_sidebar": "Contents",
   "toc_cell": false,
   "toc_position": {
    "height": "calc(100% - 180px)",
    "left": "10px",
    "top": "150px",
    "width": "165px"
   },
   "toc_section_display": true,
   "toc_window_display": true
  },
  "toc-autonumbering": true,
  "toc-showcode": false,
  "toc-showmarkdowntxt": false,
  "toc-showtags": false
 },
 "nbformat": 4,
 "nbformat_minor": 5
}
