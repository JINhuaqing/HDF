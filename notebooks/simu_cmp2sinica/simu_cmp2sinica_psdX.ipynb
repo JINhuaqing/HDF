{
 "cells": [
  {
   "cell_type": "markdown",
   "id": "faf0a805",
   "metadata": {},
   "source": [
    "This file contains python code to compare with sinica paper\n",
    "\n",
    "It is under the linear setting\n",
    "\n",
    "Now, I use the same beta from the paper but the PSD as X"
   ]
  },
  {
   "cell_type": "code",
   "execution_count": 1,
   "id": "02ae980e",
   "metadata": {
    "ExecuteTime": {
     "end_time": "2023-05-31T19:57:23.490285Z",
     "start_time": "2023-05-31T19:57:23.481769Z"
    },
    "execution": {
     "iopub.execute_input": "2023-10-26T20:11:38.038145Z",
     "iopub.status.busy": "2023-10-26T20:11:38.035982Z",
     "iopub.status.idle": "2023-10-26T20:11:38.056261Z",
     "shell.execute_reply": "2023-10-26T20:11:38.054030Z",
     "shell.execute_reply.started": "2023-10-26T20:11:38.038086Z"
    },
    "tags": []
   },
   "outputs": [],
   "source": [
    "import sys\n",
    "sys.path.append(\"../../mypkg\")"
   ]
  },
  {
   "cell_type": "code",
   "execution_count": 2,
   "id": "023df78a",
   "metadata": {
    "ExecuteTime": {
     "end_time": "2023-05-31T19:57:34.238839Z",
     "start_time": "2023-05-31T19:57:23.494053Z"
    },
    "execution": {
     "iopub.execute_input": "2023-10-26T20:11:38.060373Z",
     "iopub.status.busy": "2023-10-26T20:11:38.059778Z",
     "iopub.status.idle": "2023-10-26T20:11:40.271024Z",
     "shell.execute_reply": "2023-10-26T20:11:40.270344Z",
     "shell.execute_reply.started": "2023-10-26T20:11:38.060327Z"
    },
    "tags": []
   },
   "outputs": [],
   "source": [
    "import numpy as np\n",
    "import torch\n",
    "import matplotlib.pyplot as plt\n",
    "import seaborn as sns\n",
    "from scipy.stats import pearsonr\n",
    "from numbers import Number\n",
    "\n",
    "from easydict import EasyDict as edict\n",
    "from tqdm import trange, tqdm\n",
    "from scipy.io import loadmat\n",
    "from pprint import pprint\n",
    "import itertools\n",
    "from scipy.stats import chi2\n"
   ]
  },
  {
   "cell_type": "code",
   "execution_count": 3,
   "id": "b9d3cbc6-1ac5-47d6-a0d1-bcbc0be9267e",
   "metadata": {
    "execution": {
     "iopub.execute_input": "2023-10-26T20:11:40.271837Z",
     "iopub.status.busy": "2023-10-26T20:11:40.271599Z",
     "iopub.status.idle": "2023-10-26T20:11:40.308643Z",
     "shell.execute_reply": "2023-10-26T20:11:40.308028Z",
     "shell.execute_reply.started": "2023-10-26T20:11:40.271822Z"
    },
    "tags": []
   },
   "outputs": [],
   "source": [
    "# This will reload all imports as soon as the code changes\n",
    "%load_ext autoreload\n",
    "%autoreload 2"
   ]
  },
  {
   "cell_type": "code",
   "execution_count": 4,
   "id": "b0aa91b2",
   "metadata": {
    "ExecuteTime": {
     "end_time": "2023-05-31T19:57:59.558229Z",
     "start_time": "2023-05-31T19:57:34.292612Z"
    },
    "execution": {
     "iopub.execute_input": "2023-10-26T20:11:40.309533Z",
     "iopub.status.busy": "2023-10-26T20:11:40.309343Z",
     "iopub.status.idle": "2023-10-26T20:11:44.050533Z",
     "shell.execute_reply": "2023-10-26T20:11:44.049013Z",
     "shell.execute_reply.started": "2023-10-26T20:11:40.309516Z"
    },
    "tags": []
   },
   "outputs": [],
   "source": [
    "from constants import DATA_ROOT, RES_ROOT, FIG_ROOT, MIDRES_ROOT\n",
    "from default_paras import def_paras\n",
    "\n",
    "from hdf_utils.data_gen import gen_covs, gen_simu_psd\n",
    "from hdf_utils.fns_sinica import coef_fn, fourier_basis_fn, gen_sini_Xthetas\n",
    "from hdf_utils.likelihood import obt_lin_tm\n",
    "from hdf_utils.SIS import SIS_linear\n",
    "from hdf_utils.utils import gen_lam_seq\n",
    "from hdf_utils.hypo_test import  MS2idxs, obt_test_stat_simple2, obt_test_stat_simple3\n",
    "from utils.matrix import col_vec_fn, col_vec2mat_fn, conju_grad, svd_inverse, cholesky_inv\n",
    "from utils.functions import logit_fn\n",
    "from utils.misc import save_pkl, load_pkl\n",
    "from splines import obt_bsp_obasis_Rfn, obt_bsp_basis_Rfn_wrapper\n",
    "from projection import euclidean_proj_l1ball\n",
    "from optimization.one_step_opt import OneStepOpt\n",
    "from optimization.cross_validation import CV_err_linear_fn\n",
    "from optimization.opt import optimization\n",
    "from optimization.variable_selection import GIC_fn, GCV_fn\n",
    "from penalties.scad_pen import SCAD\n",
    "from models.linear_model import LinearModel\n",
    "\n",
    "from joblib import Parallel, delayed"
   ]
  },
  {
   "cell_type": "code",
   "execution_count": 5,
   "id": "fe0a4a46",
   "metadata": {
    "ExecuteTime": {
     "end_time": "2023-05-31T19:57:59.621784Z",
     "start_time": "2023-05-31T19:57:59.568097Z"
    },
    "execution": {
     "iopub.execute_input": "2023-10-26T20:11:44.060835Z",
     "iopub.status.busy": "2023-10-26T20:11:44.060314Z",
     "iopub.status.idle": "2023-10-26T20:11:44.098306Z",
     "shell.execute_reply": "2023-10-26T20:11:44.097731Z",
     "shell.execute_reply.started": "2023-10-26T20:11:44.060794Z"
    },
    "tags": []
   },
   "outputs": [],
   "source": [
    "plt.style.use(FIG_ROOT/\"base.mplstyle\")\n",
    "torch.set_default_tensor_type(torch.DoubleTensor)"
   ]
  },
  {
   "cell_type": "code",
   "execution_count": null,
   "id": "e0cb5a3d-1ab1-4bc0-bfce-d7ebaedb0391",
   "metadata": {},
   "outputs": [],
   "source": []
  },
  {
   "cell_type": "code",
   "execution_count": null,
   "id": "d0af2f35",
   "metadata": {},
   "outputs": [],
   "source": []
  },
  {
   "cell_type": "markdown",
   "id": "dd9c6514",
   "metadata": {},
   "source": [
    "# Param and fns"
   ]
  },
  {
   "cell_type": "code",
   "execution_count": null,
   "id": "a10d559c-8d6a-428a-bdb9-23c0a5aac96b",
   "metadata": {},
   "outputs": [],
   "source": []
  },
  {
   "cell_type": "markdown",
   "id": "21e4ccea",
   "metadata": {},
   "source": [
    "## Params"
   ]
  },
  {
   "cell_type": "code",
   "execution_count": 6,
   "id": "fd29f0de",
   "metadata": {
    "ExecuteTime": {
     "end_time": "2023-05-31T23:31:16.397628Z",
     "start_time": "2023-05-31T23:31:16.221812Z"
    },
    "execution": {
     "iopub.execute_input": "2023-10-26T20:11:53.988767Z",
     "iopub.status.busy": "2023-10-26T20:11:53.988157Z",
     "iopub.status.idle": "2023-10-26T20:11:54.270377Z",
     "shell.execute_reply": "2023-10-26T20:11:54.269293Z",
     "shell.execute_reply.started": "2023-10-26T20:11:53.988720Z"
    },
    "tags": [
     "param"
    ]
   },
   "outputs": [
    {
     "name": "stderr",
     "output_type": "stream",
     "text": [
      "R[write to console]: \n",
      "Attaching package: ‘orthogonalsplinebasis’\n",
      "\n",
      "\n",
      "R[write to console]: The following object is masked from ‘package:stats’:\n",
      "\n",
      "    integrate\n",
      "\n",
      "\n"
     ]
    },
    {
     "name": "stdout",
     "output_type": "stream",
     "text": [
      "[14.87358566]\n"
     ]
    }
   ],
   "source": [
    "obt_bsp = obt_bsp_obasis_Rfn\n",
    "#obt_bsp = obt_bsp_basis_Rfn_wrapper\n",
    "np.random.seed(0)\n",
    "paras = edict(def_paras.copy())\n",
    "\n",
    "\n",
    "\n",
    "# Others\n",
    "paras.num_rep = 200 \n",
    "paras.init_noise_sd = -1 # the sd of the noise added to the true value for initial values, if -1, make init 0\n",
    "#paras.SIS_ratio = 1 # the ratio to keep with SIS procedure\n",
    "paras.SIS_ratio = 0.2 # the ratio to keep with SIS procedure\n",
    "paras.linear_theta_update=\"cholesky_inv\"\n",
    "\n",
    "# candidate sets of tuning parameters, only two \n",
    "# lambda: penalty term\n",
    "# N: num of basis\n",
    "paras.can_lams = [0.01, 0.1, 0.2, 0.3, 0.4, 0.6, 1, 2, 8]\n",
    "paras.can_lams = [0.01, 0.4, 0.6, 0.8, 1, 1.2, 1.4, 3, 8] # for orthogonal basis\n",
    "paras.can_Ns = [4, 6, 8, 10, 12]\n",
    "\n",
    "\n",
    "# generating dataset\n",
    "paras.n = 500 # num of data obs to be genareted\n",
    "paras.npts = 100 # num of pts to evaluate X(s)\n",
    "paras.freqs = np.linspace(2, 45, paras.npts) # freqs\n",
    "paras.d = 200 # num of ROIs\n",
    "paras.q = 1 # num of other covariates\n",
    "paras.sigma2 = 1 # variance of the error\n",
    "# variance used for estimation, note that the value does not affect any results \n",
    "# as long as I tune the parameter properly\n",
    "paras.norminal_sigma2 = 1 \n",
    "paras.types_ = [\"int\"]\n",
    "paras.is_std = False\n",
    "\n",
    "# b-spline\n",
    "paras.x = np.linspace(0, 1, paras.npts)\n",
    "paras.basis_mats = []\n",
    "for N in paras.can_Ns:\n",
    "    paras.basis_mats.append(\n",
    "        torch.tensor(obt_bsp(paras.x, N, paras.ord)).to(torch.get_default_dtype())\n",
    "    )\n",
    "\n",
    "# True parameters\n",
    "paras.alp_GT = np.array([0])\n",
    "# fourier basis\n",
    "cs = [0.0, 0.0, 0.0] # for sinica paper\n",
    "paras.fourier_basis = fourier_basis_fn(paras.x)[:, :]\n",
    "paras.fourier_basis_coefs = ([cs[0]*coef_fn(0.2), cs[1]*coef_fn(0.2), cs[2]*coef_fn(0.2)] + \n",
    "                             [np.zeros(50)] * (paras.d-3-1) +\n",
    "                             [coef_fn(0.2)]\n",
    "                             )\n",
    "paras.fourier_basis_coefs = np.array(paras.fourier_basis_coefs).T \n",
    "paras.beta_GT = paras.fourier_basis @ paras.fourier_basis_coefs\n",
    "beta_GT_norm = np.linalg.norm(paras.beta_GT, axis=0)\n",
    "print(beta_GT_norm[beta_GT_norm!=0])\n",
    "\n",
    "paras.Gam_GT_ests = [(np.linalg.inv(basis_mat.numpy().T \n",
    "                                  @ basis_mat.numpy()) \n",
    "                                  @ basis_mat.numpy().T \n",
    "                                  @ paras.beta_GT) \n",
    "                     for basis_mat in paras.basis_mats]\n",
    "\n",
    "# optimization\n",
    "# not used, to use it, you have to know GT\n",
    "Rmins = [(2*(np.linalg.norm(paras.Gam_GT_ests[ix]\n",
    "                            /np.sqrt(paras.can_Ns[ix]), axis=0).sum() \n",
    "           + np.abs(paras.alp_GT).sum())) \n",
    "        for ix in range(len(paras.can_Ns))]\n",
    "paras.Rmin = np.max(Rmins)/5\n",
    "paras.Rmin = 100000\n",
    "paras.Rfct = 2\n",
    "paras.stop_cv = 5e-4\n",
    "paras.max_iter = 10000\n",
    "paras.num_cv_fold = 5\n",
    "\n",
    "# CV\n",
    "paras.cv_is_center = True\n",
    "paras.cv_SIS_ratio = 0.2\n",
    "paras.cv_SIS_pen = 1\n",
    "paras.cv_SIS_basis_mat = torch.tensor(obt_bsp(paras.x, 6, paras.ord)).to(torch.get_default_dtype())\n",
    "paras.num_cv_fold = 5\n",
    "paras.cv_init_noise_sd = -1\n",
    "\n",
    "\n",
    "# hypothesis test\n",
    "#without loss of generality, we assume the idxs in M is the first m betas\n",
    "paras.sel_idx = np.arange(2, paras.d) # M^c set, \n",
    "paras.M_idxs = np.delete(np.arange(paras.d), paras.sel_idx) # the M set\n",
    "paras.Cmats = [\n",
    "    #np.array([1, -1]).reshape(1, 2), # m x m I matrix, [beta1, beta2] = [0, 0]\n",
    "    np.eye(len(paras.M_idxs)), # m x m I matrix, [beta1, beta2] = [0, 0]\n",
    "]\n",
    "paras.svdinv_eps_Q = 0 # now 0 means inverse, small value like 0.01 means remove small eig vals.\n",
    "paras.svdinv_eps_Psi = 0\n",
    "\n",
    "\n",
    "# saving path\n",
    "paras.save_dir = RES_ROOT/\"simu_linear_sinica_samebetaX_tmp\"\n",
    "if not paras.save_dir.exists():\n",
    "    paras.save_dir.mkdir()"
   ]
  },
  {
   "cell_type": "code",
   "execution_count": null,
   "id": "23b081ea-9f16-4275-b1ef-044fa433b439",
   "metadata": {},
   "outputs": [],
   "source": []
  },
  {
   "cell_type": "markdown",
   "id": "66c2f90f",
   "metadata": {
    "ExecuteTime": {
     "end_time": "2022-12-08T18:09:55.509389Z",
     "start_time": "2022-12-08T18:09:55.343396Z"
    }
   },
   "source": [
    "## Fns"
   ]
  },
  {
   "cell_type": "code",
   "execution_count": null,
   "id": "1de5567c-6bab-438d-971c-0e40b0c4c53d",
   "metadata": {
    "ExecuteTime": {
     "end_time": "2023-05-31T23:31:24.456489Z",
     "start_time": "2023-05-31T23:31:24.440199Z"
    },
    "code_folding": [],
    "tags": []
   },
   "outputs": [],
   "source": []
  },
  {
   "cell_type": "code",
   "execution_count": 7,
   "id": "60faf838-bab1-4889-9f15-bed1fadfda82",
   "metadata": {
    "execution": {
     "iopub.execute_input": "2023-10-26T20:12:05.293497Z",
     "iopub.status.busy": "2023-10-26T20:12:05.292720Z",
     "iopub.status.idle": "2023-10-26T20:12:05.339682Z",
     "shell.execute_reply": "2023-10-26T20:12:05.339015Z",
     "shell.execute_reply.started": "2023-10-26T20:12:05.293446Z"
    },
    "tags": []
   },
   "outputs": [],
   "source": [
    "def _is_exists(tmp_paras):\n",
    "    \"\"\"\n",
    "    Check if a file with the given parameters exists.\n",
    "\n",
    "    Args:\n",
    "    tmp_paras:\n",
    "        d (int): The value of d in the file name.\n",
    "        n (int): The value of n in the file name.\n",
    "        npts:\n",
    "        is_std\n",
    "        seed (int): The seed value in the file name.\n",
    "\n",
    "    Returns:\n",
    "    bool or Path: Returns the file path if the file exists, otherwise returns False.\n",
    "    \"\"\"\n",
    "    _get_n = lambda fil: int(fil.stem.split(\"_\")[2].split(\"-\")[-1])\n",
    "    fils = MIDRES_ROOT.glob(f\"PSD_d-{tmp_paras.d}_n-*npts-{tmp_paras.npts}_is_std-{tmp_paras.is_std}\")\n",
    "    # We do not need fil with n as we know the data with corresponding seed does not exist\n",
    "    fils = [fil for fil in fils if _get_n(fil) !=tmp_paras.n]\n",
    "    if len(fils) == 0:\n",
    "        return False\n",
    "    else:\n",
    "        fils = sorted(fils, key=_get_n)\n",
    "        ns = np.array([_get_n(fil) for fil in fils])\n",
    "        idxs = np.where(tmp_paras.n <= ns)[0]\n",
    "        if len(idxs) == 0:\n",
    "            return False\n",
    "        else:\n",
    "            fil =fils[idxs[0]]\n",
    "            path = MIDRES_ROOT/fil/f\"seed_{tmp_paras.seed}.pkl\"\n",
    "            return path if path.exists() else False\n",
    "def _get_filename(params):\n",
    "    keys = [\"d\", \"n\", \"npts\", \"is_std\"]\n",
    "    folder_name = 'PSD_'+'_'.join(f\"{k}-{params[k]}\" for k in keys)\n",
    "    return folder_name + f'/seed_{params.seed}.pkl'\n",
    "def _gen_simu_data_all(seed, paras, verbose=False, is_gen=False):\n",
    "    \"\"\"\n",
    "    Generate simulated data for all parameters.\n",
    "\n",
    "    Args:\n",
    "        seed (int): Seed for random number generator.\n",
    "        paras (dict): Dictionary containing the following parameters:\n",
    "            - n (int): Number of samples.\n",
    "            - d (int): Number of dimensions.\n",
    "            - q (int): Number of covariates.\n",
    "            - types_ (list): List of types for generating covariates.\n",
    "            - alp_GT (list): List of ground truth alpha values.\n",
    "            - beta_GT (list): List of ground truth beta values.\n",
    "            - freqs (list): List of frequencies for generating simulated PSD.\n",
    "            - sigma2 (float): Variance of the noise.\n",
    "        verbose(bool): Verbose or not\n",
    "        is_gen(bool): Only for generating or not. If True, only checking or generating X, not return anything.\n",
    "\n",
    "    Returns:\n",
    "        all_data (dict): Dictionary containing the following simulated data:\n",
    "            - X (torch.Tensor): Tensor of shape (n, d, npts) containing the simulated PSD.\n",
    "            - Y (torch.Tensor): Tensor of shape (n,) containing the response variable.\n",
    "            - Z (torch.Tensor): Tensor of shape (n, q) containing the covariates.\n",
    "    \"\"\"\n",
    "    np.random.seed(seed)\n",
    "    _paras = edict(paras.copy())\n",
    "    # simulated PSD\n",
    "    assert len(_paras.types_) == _paras.q\n",
    "    assert len(_paras.alp_GT) == _paras.q\n",
    "    tmp_paras = edict()\n",
    "    tmp_paras.seed = seed \n",
    "    tmp_paras.n = _paras.n\n",
    "    tmp_paras.d = _paras.d\n",
    "    tmp_paras.npts = _paras.npts\n",
    "    tmp_paras.is_std = _paras.is_std\n",
    "    \n",
    "    file_path = MIDRES_ROOT/_get_filename(tmp_paras)\n",
    "    if file_path.exists():\n",
    "        if is_gen:\n",
    "            return None\n",
    "        simu_curvs = load_pkl(file_path, verbose=verbose)\n",
    "    else:\n",
    "        ofil =  _is_exists(tmp_paras)\n",
    "        if ofil:\n",
    "            if is_gen:\n",
    "                return None\n",
    "            simu_curvs = load_pkl(ofil, verbose=verbose)\n",
    "        else:\n",
    "            if _paras.is_std:\n",
    "                simu_curvs = gen_simu_psd(_paras.n, _paras.d, _paras.freqs, prior_sd=10, n_jobs=28, is_prog=False, is_std=_paras.is_std)\n",
    "            else:\n",
    "                simu_curvs = gen_simu_psd(_paras.n, _paras.d, _paras.freqs, prior_sd=10, n_jobs=28, is_prog=False, is_std=_paras.is_std)\n",
    "                simu_curvs = simu_curvs - simu_curvs.mean(axis=-1, keepdims=True); # not std, but center it\n",
    "            save_pkl(file_path, simu_curvs, verbose=verbose)\n",
    "    if is_gen:\n",
    "        return None\n",
    "    simu_curvs = simu_curvs[:_paras.n]\n",
    "    simu_curvs = (simu_curvs + np.random.randn(*simu_curvs.shape)*5)*1 # larger\n",
    "    #simu_curvs = np.random.randn(_paras.n, _paras.d, _paras.npts)* 10\n",
    "    simu_covs = gen_covs(_paras.n, _paras.types_)\n",
    "    \n",
    "    # linear term and Y\n",
    "    int_part = np.sum(_paras.beta_GT.T* simu_curvs[:, :, :], axis=1).mean(axis=1)\n",
    "    cov_part = simu_covs @ _paras.alp_GT \n",
    "    \n",
    "    # linear term\n",
    "    lin_term = cov_part + int_part\n",
    "    \n",
    "    # Y \n",
    "    #errs_raw = np.random.standard_t(df=3, size=paras.n)                                                                                                                                                   \n",
    "    #errs = np.sqrt(_paras.sigma2)*(errs_raw - errs_raw.mean())/errs_raw.std()\n",
    "    #Y = lin_term + errs\n",
    "    Y = lin_term + np.random.randn(_paras.n)*np.sqrt(_paras.sigma2)\n",
    "    \n",
    "    # center\n",
    "    X_centered = simu_curvs - simu_curvs.mean(axis=0, keepdims=True)\n",
    "    Y_centered = Y - Y.mean(axis=0, keepdims=True)\n",
    "    \n",
    "    # To torch\n",
    "    X = torch.Tensor(X_centered) # n x d x npts\n",
    "    Z = torch.Tensor(simu_covs) # n x q\n",
    "    Y = torch.Tensor(Y_centered)\n",
    "    \n",
    "    all_data = edict()\n",
    "    all_data.X = X\n",
    "    all_data.Y = Y\n",
    "    all_data.Z = Z\n",
    "    all_data.lin_term = lin_term\n",
    "    return all_data\n"
   ]
  },
  {
   "cell_type": "code",
   "execution_count": 8,
   "id": "d08a7b00-ae55-4abd-be7d-fabdcd0b6982",
   "metadata": {
    "execution": {
     "iopub.execute_input": "2023-10-26T20:12:06.544289Z",
     "iopub.status.busy": "2023-10-26T20:12:06.543657Z",
     "iopub.status.idle": "2023-10-26T20:12:07.848831Z",
     "shell.execute_reply": "2023-10-26T20:12:07.848046Z",
     "shell.execute_reply.started": "2023-10-26T20:12:06.544243Z"
    },
    "tags": []
   },
   "outputs": [
    {
     "name": "stdout",
     "output_type": "stream",
     "text": [
      "Load file /data/rajlab1/user_data/jin/MyResearch/HDF_infer/notebooks/simu_cmp2sinica/../../mypkg/../mid_results/PSD_d-200_n-500_npts-100_is_std-False/seed_1.pkl\n"
     ]
    }
   ],
   "source": [
    "data = _gen_simu_data_all(1, paras, verbose=True);"
   ]
  },
  {
   "cell_type": "code",
   "execution_count": 9,
   "id": "983e0211-9b91-4e96-8da2-8484328dfb35",
   "metadata": {
    "execution": {
     "iopub.execute_input": "2023-10-25T17:19:14.757731Z",
     "iopub.status.busy": "2023-10-25T17:19:14.757566Z",
     "iopub.status.idle": "2023-10-25T17:19:15.023750Z",
     "shell.execute_reply": "2023-10-25T17:19:15.023329Z",
     "shell.execute_reply.started": "2023-10-25T17:19:14.757718Z"
    },
    "tags": []
   },
   "outputs": [
    {
     "data": {
      "text/plain": [
       "[<matplotlib.lines.Line2D at 0x7f64274ea970>]"
      ]
     },
     "execution_count": 9,
     "metadata": {},
     "output_type": "execute_result"
    },
    {
     "data": {
      "image/png": "[encoded data removed]",
      "text/plain": [
       "<Figure size 432x288 with 1 Axes>"
      ]
     },
     "metadata": {
      "needs_background": "light"
     },
     "output_type": "display_data"
    }
   ],
   "source": [
    "idx = 0\n",
    "for ix in range(20):\n",
    "    plt.plot(data.X[idx, ix, :])\n",
    "plt.plot(data.X[idx, :, :].mean(axis=0))\n",
    "#plt.plot(data.X[idx, 0, :])\n",
    "#plt.plot(data.X[idx, 1, :])"
   ]
  },
  {
   "cell_type": "code",
   "execution_count": null,
   "id": "96fd3e30",
   "metadata": {},
   "outputs": [],
   "source": []
  },
  {
   "cell_type": "markdown",
   "id": "e4043966",
   "metadata": {},
   "source": [
    "# Simu"
   ]
  },
  {
   "cell_type": "markdown",
   "id": "09b0ec89-ac82-4079-acc3-6649993a0444",
   "metadata": {
    "tags": []
   },
   "source": [
    "## SIS check (just for check)"
   ]
  },
  {
   "cell_type": "code",
   "execution_count": 10,
   "id": "e0717828-0e38-4896-92e1-3bab502fc8c8",
   "metadata": {
    "execution": {
     "iopub.execute_input": "2023-10-25T17:19:18.289482Z",
     "iopub.status.busy": "2023-10-25T17:19:18.288693Z",
     "iopub.status.idle": "2023-10-25T17:19:18.330866Z",
     "shell.execute_reply": "2023-10-25T17:19:18.330142Z",
     "shell.execute_reply.started": "2023-10-25T17:19:18.289432Z"
    },
    "tags": []
   },
   "outputs": [],
   "source": [
    "def _SIS_fn(seed, SIS_ratio, ridge_pen, N, paras):\n",
    "    torch.set_default_tensor_type(torch.DoubleTensor)\n",
    "    np.random.seed(seed)\n",
    "    torch.manual_seed(seed)\n",
    "        \n",
    "    _paras = edict(paras.copy())\n",
    "    _paras.seed = seed\n",
    "    _paras.N = N\n",
    "    _paras.basis_mat = _paras.basis_mats[_paras.can_Ns.index(N)]\n",
    "    cur_data = _gen_simu_data_all(_paras.seed, _paras)\n",
    "    \n",
    "    # do sure independent screening for dim reduction\n",
    "    if SIS_ratio < 1:\n",
    "        keep_idxs, _  = SIS_linear(cur_data.Y, cur_data.X, cur_data.Z, _paras.basis_mat, SIS_ratio, _paras, ridge_pen=ridge_pen)\n",
    "    else:\n",
    "        keep_idxs = _paras.sel_idx\n",
    "    M_idxs = np.delete(np.arange(_paras.d), _paras.sel_idx)\n",
    "    _paras.keep_idxs = np.sort(np.concatenate([M_idxs, keep_idxs]))\n",
    "    return _paras.keep_idxs"
   ]
  },
  {
   "cell_type": "code",
   "execution_count": 11,
   "id": "996ed2fa-df7c-4464-b174-e5b3c3848e95",
   "metadata": {
    "execution": {
     "iopub.execute_input": "2023-10-25T17:19:19.738028Z",
     "iopub.status.busy": "2023-10-25T17:19:19.737374Z",
     "iopub.status.idle": "2023-10-25T17:22:13.068701Z",
     "shell.execute_reply": "2023-10-25T17:22:13.067865Z",
     "shell.execute_reply.started": "2023-10-25T17:19:19.737982Z"
    },
    "tags": []
   },
   "outputs": [
    {
     "name": "stderr",
     "output_type": "stream",
     "text": [
      "100%|████████████████████████████████████████████████████████████████████████████████████████████████████████████████████████████████████████| 200/200 [02:21<00:00,  1.41it/s]\n"
     ]
    }
   ],
   "source": [
    "num_rep = 200\n",
    "with Parallel(n_jobs=20) as parallel:\n",
    "    keep_idxss = parallel(delayed(_SIS_fn)(seed, 0.2, ridge_pen=1, N=6, paras=paras) for seed in \n",
    "                          tqdm(range(num_rep), total=num_rep))"
   ]
  },
  {
   "cell_type": "code",
   "execution_count": 12,
   "id": "fa326890-75ba-4555-a8e2-5931508a002e",
   "metadata": {
    "execution": {
     "iopub.execute_input": "2023-10-25T17:22:14.175658Z",
     "iopub.status.busy": "2023-10-25T17:22:14.175038Z",
     "iopub.status.idle": "2023-10-25T17:22:14.488326Z",
     "shell.execute_reply": "2023-10-25T17:22:14.487897Z",
     "shell.execute_reply.started": "2023-10-25T17:22:14.175606Z"
    },
    "tags": []
   },
   "outputs": [
    {
     "data": {
      "text/plain": [
       "Text(0.5, 1.0, '[1.]')"
      ]
     },
     "execution_count": 12,
     "metadata": {},
     "output_type": "execute_result"
    },
    {
     "data": {
      "image/png": "[encoded data removed]",
      "text/plain": [
       "<Figure size 432x288 with 1 Axes>"
      ]
     },
     "metadata": {
      "needs_background": "light"
     },
     "output_type": "display_data"
    }
   ],
   "source": [
    "vs, cts = np.unique(np.concatenate(keep_idxss), return_counts=1);\n",
    "cts = cts[np.argsort(vs)]/len(keep_idxss)\n",
    "vs = np.sort(vs);\n",
    "plt.plot(vs, cts, \".\")\n",
    "plt.title(f\"{cts[vs >198]}\")"
   ]
  },
  {
   "cell_type": "code",
   "execution_count": null,
   "id": "be9dad8c-0fcf-4d93-b3b9-d9dc5d2dfe77",
   "metadata": {},
   "outputs": [],
   "source": []
  },
  {
   "cell_type": "markdown",
   "id": "8148a0dd-0b8b-4f04-a43a-a75cfd20ae1f",
   "metadata": {},
   "source": [
    "## Simulation"
   ]
  },
  {
   "cell_type": "code",
   "execution_count": 9,
   "id": "0f9eca46-ade4-40fa-83f5-b8db4ff10947",
   "metadata": {
    "execution": {
     "iopub.execute_input": "2023-10-26T20:12:13.104328Z",
     "iopub.status.busy": "2023-10-26T20:12:13.103693Z",
     "iopub.status.idle": "2023-10-26T20:12:13.152622Z",
     "shell.execute_reply": "2023-10-26T20:12:13.151948Z",
     "shell.execute_reply.started": "2023-10-26T20:12:13.104282Z"
    },
    "tags": []
   },
   "outputs": [],
   "source": [
    "def _run_fn(seed, lam, N, paras, is_save=False, is_cv=False, verbose=False):\n",
    "    \"\"\"Now (on Aug 25, 2023), if we keep seed the same, the cur_data is the same. \n",
    "       If you want to make any changes, make sure this. \n",
    "    \"\"\"\n",
    "    torch.set_default_tensor_type(torch.DoubleTensor)\n",
    "    np.random.seed(seed)\n",
    "    torch.manual_seed(seed)\n",
    "        \n",
    "    _paras = edict(paras.copy())\n",
    "    _paras.Rv = _paras.Rfct * _paras.Rmin\n",
    "    _paras.seed = seed\n",
    "    _paras.lam = lam\n",
    "    _paras.N = N\n",
    "    _paras.basis_mat = _paras.basis_mats[_paras.can_Ns.index(N)]\n",
    "    _paras.Gam_GT_est = paras.Gam_GT_ests[_paras.can_Ns.index(N)]\n",
    "    cur_data = _gen_simu_data_all(_paras.seed, _paras)\n",
    "    \n",
    "    f_name = f\"seed_{seed:.0f}-lam_{lam*1000:.0f}-N_{N:.0f}-c1_{cs[0]*1000:.0f}_est.pkl\"\n",
    "    \n",
    "    \n",
    "    res = edict()\n",
    "    if not (_paras.save_dir/f_name).exists():\n",
    "        # do sure independent screening for dim reduction\n",
    "        if _paras.SIS_ratio < 1:\n",
    "            keep_idxs, _  = SIS_linear(cur_data.Y, cur_data.X, cur_data.Z, _paras.basis_mats[_paras.can_Ns.index(6)],\n",
    "                                       _paras.SIS_ratio, _paras, ridge_pen=1)\n",
    "        else:\n",
    "            keep_idxs = _paras.sel_idx\n",
    "        M_idxs = np.delete(np.arange(_paras.d), _paras.sel_idx)\n",
    "        _paras.keep_idxs = np.sort(np.concatenate([M_idxs, keep_idxs]))\n",
    "            \n",
    "        _paras.sel_idx_SIS = np.where(np.array([keep_idx in _paras.sel_idx for keep_idx in _paras.keep_idxs]))[0]\n",
    "        _paras.d_SIS = len(_paras.keep_idxs)\n",
    "        \n",
    "        cur_data_SIS = edict(cur_data.copy())\n",
    "        cur_data_SIS.X = cur_data.X[:, _paras.keep_idxs, :]\n",
    "        \n",
    "        \n",
    "        if _paras.init_noise_sd < 0:\n",
    "            alp_init = torch.zeros(_paras.q)\n",
    "            Gam_init = torch.zeros(_paras.N, _paras.d_SIS)\n",
    "            theta_init = torch.cat([alp_init, col_vec_fn(Gam_init)/np.sqrt(_paras.N)])\n",
    "            rhok_init = torch.zeros(_paras.d_SIS*_paras.N)\n",
    "        else:\n",
    "            alp_init = torch.Tensor(_paras.alp_GT) + torch.randn(_paras.q)*_paras.init_noise_sd\n",
    "            Gam_init = torch.Tensor(_paras.Gam_GT_est[:, _paras.keep_idxs]) + torch.randn(_paras.N, _paras.d_SIS)*_paras.init_noise_sd\n",
    "            theta_init = torch.cat([alp_init, col_vec_fn(Gam_init)/np.sqrt(_paras.N)])\n",
    "            rhok_init = torch.randn(_paras.d_SIS*_paras.N)\n",
    "            \n",
    "        model = LinearModel(Y=cur_data_SIS.Y, \n",
    "                            X=cur_data_SIS.X, \n",
    "                            Z=cur_data_SIS.Z, \n",
    "                            basis_mat=_paras.basis_mat, \n",
    "                            sigma2=_paras.norminal_sigma2)\n",
    "                            #sigma2=_paras.sigma2)\n",
    "        # 3e0\n",
    "        pen = SCAD(lams=_paras.lam, a=_paras.a,  sel_idx=_paras.sel_idx_SIS)\n",
    "            \n",
    "        \n",
    "        main_res = optimization(model=model, \n",
    "                                penalty=pen, \n",
    "                                inits=[alp_init, Gam_init, theta_init, rhok_init],\n",
    "                                is_prg=verbose,\n",
    "                                save_paras=False,    \n",
    "                                input_paras=_paras)\n",
    "        opt = main_res[0]\n",
    "        est_Gam = opt.Gamk\n",
    "        est_alp = opt.alpk\n",
    "        Q_mat = -model.log_lik_der2(est_alp, est_Gam)\n",
    "        model.log_lik_der1(est_alp, est_Gam);\n",
    "        Sig_mat = (model.log_lik_der1_vs.unsqueeze(-1) * model.log_lik_der1_vs.unsqueeze(1)).mean(axis=0) \n",
    "        est_theta = torch.cat([est_alp, col_vec_fn(est_Gam)/np.sqrt(_paras.N)])\n",
    "        nonzero_idxs = torch.nonzero(torch.norm(est_Gam, dim=0)).reshape(-1).numpy()\n",
    "        MS_unions = np.sort(np.union1d(_paras.M_idxs, nonzero_idxs))\n",
    "        keep_idxs_test = MS2idxs(_paras.q, _paras.N, MS_unions)\n",
    "        Q_mat_part = Q_mat[keep_idxs_test][:, keep_idxs_test]\n",
    "        Sig_mat_part = Sig_mat[keep_idxs_test][:, keep_idxs_test]\n",
    "        \n",
    "        res = edict()\n",
    "        _paras.Gam_GT_ests = None\n",
    "        _paras.basis_mats = None\n",
    "        _paras.fourier_basis_coefs = None\n",
    "        _paras.fourier_basis = None\n",
    "        res._paras = _paras\n",
    "        res.est_sigma2 = torch.mean((model.Y - model._obt_lin_tm(est_alp, est_Gam))**2)\n",
    "        res.Sig_mat_part = Sig_mat_part\n",
    "        res.Q_mat_part = Q_mat_part\n",
    "        res.est_Gam = est_Gam\n",
    "        res.est_alp = est_alp\n",
    "        res.conv_num = main_res[1]\n",
    "        #res.cur_data = cur_data\n",
    "        #res.model = model\n",
    "        res.keep_idxs = keep_idxs\n",
    "        res.AIC = GIC_fn(res, \"AIC\")\n",
    "        res.BIC = GIC_fn(res, \"BIC\")\n",
    "        res.GCV = GCV_fn(res)\n",
    "    \n",
    "        if is_cv:\n",
    "            cv_errs = CV_err_linear_fn(data=cur_data, \n",
    "                                       num_cv_fold=_paras.num_cv_fold,\n",
    "                                       is_prg=verbose, \n",
    "                                       save_paras=False,    \n",
    "                                       input_paras=_paras)\n",
    "            \n",
    "            res.cv_errs = cv_errs\n",
    "        else:\n",
    "            res.cv_errs = None\n",
    "        if is_save:\n",
    "            save_pkl(_paras.save_dir/f_name, res, verbose=verbose)\n",
    "    return res\n"
   ]
  },
  {
   "cell_type": "code",
   "execution_count": 17,
   "id": "9533afc8-b6cf-4c80-8f72-6d2d01c721d2",
   "metadata": {
    "execution": {
     "iopub.execute_input": "2023-10-25T17:46:56.791961Z",
     "iopub.status.busy": "2023-10-25T17:46:56.791193Z",
     "iopub.status.idle": "2023-10-25T17:46:56.832881Z",
     "shell.execute_reply": "2023-10-25T17:46:56.831651Z",
     "shell.execute_reply.started": "2023-10-25T17:46:56.791905Z"
    },
    "tags": []
   },
   "outputs": [],
   "source": [
    "from hdf_utils.hypo_test import get_Amat\n",
    "def obt_test_stat_simple2(Q_mat_part, Sig_mat_part, est_alp, est_Gam, Cmat, paras):\n",
    "    \"\"\"\n",
    "    Obtain the test statistics via the estimator, even simpler than simple \n",
    "\n",
    "    Args:\n",
    "        Q_mat_part: Second der of model\n",
    "        Sig_mat_part: first der \n",
    "        est_alp: Estimated alp parameters\n",
    "        est_Gam: Estimated Gam parameters\n",
    "        Cmat: Hypothesis mat, r x m\n",
    "        paras: Dictionary containing parameters for the test\n",
    "            - N: Number of samples\n",
    "            - M_idxs: Indices of the M set\n",
    "            - q: Number of ROIs\n",
    "            - svdinv_eps_Q: Threshold for inverse of Q matrix\n",
    "            - svdinv_eps_Psi: Threshold for inverse of Psi matrix\n",
    "            - n: Number of observations\n",
    "\n",
    "    Returns:\n",
    "        T_v: Test statistic value\n",
    "    \"\"\"\n",
    "    _paras = edict(paras.copy())\n",
    "    est_theta = torch.cat([est_alp, col_vec_fn(est_Gam)/np.sqrt(_paras.N)])\n",
    "    \n",
    "    # obtain the idxs to keep for test\n",
    "    nonzero_idxs = torch.nonzero(torch.norm(est_Gam, dim=0)).reshape(-1).numpy()\n",
    "    MS_unions = np.sort(np.union1d(_paras.M_idxs, nonzero_idxs))\n",
    "    keep_idxs_test = MS2idxs(_paras.q, _paras.N, MS_unions)\n",
    "    \n",
    "    # A mat\n",
    "    k = len(np.setdiff1d(nonzero_idxs, _paras.M_idxs))\n",
    "    Amat = torch.Tensor(get_Amat(k, Cmat, _paras))\n",
    "    \n",
    "    # calculate Test stats\n",
    "    Q_mat_part_inv = torch.linalg.pinv(Q_mat_part, hermitian=True, rtol=_paras.svdinv_eps_Q)\n",
    "    Psi = Amat @ Q_mat_part_inv @ Sig_mat_part @ Q_mat_part_inv @ Amat.T\n",
    "    Psi_inv = torch.linalg.pinv(Psi, hermitian=True, rtol=_paras.svdinv_eps_Psi)\n",
    "    global Psi0\n",
    "    Psi0 = Psi\n",
    "    \n",
    "    T_p1 = Amat @ est_theta[keep_idxs_test]\n",
    "    T_v = T_p1 @ Psi_inv @ T_p1 * _paras.n \n",
    "    return T_v"
   ]
  },
  {
   "cell_type": "code",
   "execution_count": 18,
   "id": "4319365a-205c-43d5-be17-210a35f82f9b",
   "metadata": {
    "execution": {
     "iopub.execute_input": "2023-10-25T17:46:57.215619Z",
     "iopub.status.busy": "2023-10-25T17:46:57.214934Z",
     "iopub.status.idle": "2023-10-25T17:46:57.254747Z",
     "shell.execute_reply": "2023-10-25T17:46:57.253885Z",
     "shell.execute_reply.started": "2023-10-25T17:46:57.215570Z"
    },
    "tags": []
   },
   "outputs": [],
   "source": [
    "def obt_test_stat_simple3(est_sigma2, Q_mat_part, est_alp, est_Gam, Cmat, paras):\n",
    "    \"\"\"\n",
    "    Obtain the test statistics via the estimator, even simpler than simple \n",
    "\n",
    "    Args:\n",
    "        Q_mat_part: Second der of model\n",
    "        est_alp: Estimated alp parameters\n",
    "        est_Gam: Estimated Gam parameters\n",
    "        Cmat: Hypothesis mat, r x m\n",
    "        paras: Dictionary containing parameters for the test\n",
    "            - N: Number of samples\n",
    "            - M_idxs: Indices of the M set\n",
    "            - q: Number of ROIs\n",
    "            - svdinv_eps_Q: Threshold for inverse of Q matrix\n",
    "            - svdinv_eps_Psi: Threshold for inverse of Psi matrix\n",
    "            - n: Number of observations\n",
    "\n",
    "    Returns:\n",
    "        T_v: Test statistic value\n",
    "    \"\"\"\n",
    "    _paras = edict(paras.copy())\n",
    "    est_theta = torch.cat([est_alp, col_vec_fn(est_Gam)/np.sqrt(_paras.N)])\n",
    "    \n",
    "    # obtain the idxs to keep for test\n",
    "    nonzero_idxs = torch.nonzero(torch.norm(est_Gam, dim=0)).reshape(-1).numpy()\n",
    "    MS_unions = np.sort(np.union1d(_paras.M_idxs, nonzero_idxs))\n",
    "    keep_idxs_test = MS2idxs(_paras.q, _paras.N, MS_unions)\n",
    "    \n",
    "    # A mat\n",
    "    k = len(np.setdiff1d(nonzero_idxs, _paras.M_idxs))\n",
    "    Amat = torch.Tensor(get_Amat(k, Cmat, _paras))\n",
    "    \n",
    "    # calculate Test stats\n",
    "    Q_mat_part_inv = torch.linalg.pinv(Q_mat_part, hermitian=True, rtol=_paras.svdinv_eps_Q)\n",
    "    Psi = est_sigma2*Amat @ Q_mat_part_inv @ Amat.T/_paras.norminal_sigma2\n",
    "    Psi_inv = torch.linalg.pinv(Psi, hermitian=True, rtol=_paras.svdinv_eps_Psi)\n",
    "    global Psi1\n",
    "    Psi1 = Psi\n",
    "    \n",
    "    T_p1 = Amat @ est_theta[keep_idxs_test]\n",
    "    T_v = T_p1 @ Psi_inv @ T_p1 * _paras.n \n",
    "    return T_v"
   ]
  },
  {
   "cell_type": "code",
   "execution_count": 10,
   "id": "6e258607-3251-4834-93c2-1bdfa3fc532a",
   "metadata": {
    "execution": {
     "iopub.execute_input": "2023-10-26T20:12:19.694985Z",
     "iopub.status.busy": "2023-10-26T20:12:19.694369Z",
     "iopub.status.idle": "2023-10-26T20:12:19.798451Z",
     "shell.execute_reply": "2023-10-26T20:12:19.797168Z",
     "shell.execute_reply.started": "2023-10-26T20:12:19.694940Z"
    },
    "tags": []
   },
   "outputs": [],
   "source": [
    "def _test_fn(Cmat, est_res, svdinv_eps_Q=0, svdinv_eps_Psi=0, \n",
    "             is_save=False, verbose=False):\n",
    "    torch.set_default_tensor_type(torch.DoubleTensor)\n",
    "    _paras = est_res._paras\n",
    "    _paras.svdinv_eps_Q = svdinv_eps_Q\n",
    "    _paras.svdinv_eps_Psi = svdinv_eps_Psi\n",
    "    f_name = f\"seed_{_paras.seed:.0f}-lam_{_paras.lam*1000:.0f}-N_{_paras.N:.0f}_test_stat.pkl\"\n",
    "    \n",
    "    T_v = obt_test_stat_simple2(Q_mat_part=est_res.Q_mat_part, \n",
    "                               Sig_mat_part=est_res.Sig_mat_part,\n",
    "                               est_alp=est_res.est_alp, \n",
    "                               est_Gam=est_res.est_Gam,\n",
    "                               Cmat=Cmat,\n",
    "                               paras=_paras,\n",
    "                               ).item() \n",
    "    pval = chi2.sf(T_v, Cmat.shape[0]*_paras.N)\n",
    "    \n",
    "    res = edict()\n",
    "    res.T_v = T_v\n",
    "    res.pval = pval\n",
    "    res.Cmat = Cmat\n",
    "    if is_save:\n",
    "        save_pkl(_paras.save_dir/f_name, res, verbose=verbose)\n",
    "    return res"
   ]
  },
  {
   "cell_type": "code",
   "execution_count": 11,
   "id": "411a089f-3d93-450d-af59-f0e14d95342d",
   "metadata": {
    "execution": {
     "iopub.execute_input": "2023-10-26T20:12:20.090741Z",
     "iopub.status.busy": "2023-10-26T20:12:20.090210Z",
     "iopub.status.idle": "2023-10-26T20:12:20.128106Z",
     "shell.execute_reply": "2023-10-26T20:12:20.127271Z",
     "shell.execute_reply.started": "2023-10-26T20:12:20.090697Z"
    },
    "tags": []
   },
   "outputs": [],
   "source": [
    "def _test_fn1(Cmat, est_res, svdinv_eps_Q=0, svdinv_eps_Psi=0, \n",
    "             is_save=False, verbose=False):\n",
    "    torch.set_default_tensor_type(torch.DoubleTensor)\n",
    "    _paras = est_res._paras\n",
    "    _paras.svdinv_eps_Q = svdinv_eps_Q\n",
    "    _paras.svdinv_eps_Psi = svdinv_eps_Psi\n",
    "    f_name = f\"seed_{_paras.seed:.0f}-lam_{_paras.lam*1000:.0f}-N_{_paras.N:.0f}_test_stat.pkl\"\n",
    "    \n",
    "    T_v = obt_test_stat_simple3(est_sigma2=est_res.est_sigma2,\n",
    "                               Q_mat_part=est_res.Q_mat_part, \n",
    "                               est_alp=est_res.est_alp, \n",
    "                               est_Gam=est_res.est_Gam,\n",
    "                               Cmat=Cmat,\n",
    "                               paras=_paras,\n",
    "                               ).item() \n",
    "    pval = chi2.sf(T_v, Cmat.shape[0]*_paras.N)\n",
    "    \n",
    "    res = edict()\n",
    "    res.T_v = T_v\n",
    "    res.pval = pval\n",
    "    res.Cmat = Cmat\n",
    "    if is_save:\n",
    "        save_pkl(_paras.save_dir/f_name, res, verbose=verbose)\n",
    "    return res"
   ]
  },
  {
   "cell_type": "raw",
   "id": "4c09f840-848b-4c44-9b00-6a038ee2a318",
   "metadata": {
    "execution": {
     "iopub.execute_input": "2023-09-21T23:20:31.625325Z",
     "iopub.status.busy": "2023-09-21T23:20:31.624679Z",
     "iopub.status.idle": "2023-09-21T23:21:25.262561Z",
     "shell.execute_reply": "2023-09-21T23:21:25.261234Z",
     "shell.execute_reply.started": "2023-09-21T23:20:31.625279Z"
    },
    "tags": []
   },
   "source": [
    "all_coms = itertools.product(range(0, paras.num_rep), paras.can_lams, paras.can_Ns)\n",
    "with Parallel(n_jobs=5) as parallel:\n",
    "    ress = parallel(delayed(_run_fn)(seed, lam=lam, N=N, paras=paras, is_save=True, is_cv=True, verbose=False) \n",
    "                    for seed, lam, N \n",
    "                    in tqdm(all_coms, total=len(paras.can_Ns)*len(paras.can_lams)*paras.num_rep))"
   ]
  },
  {
   "cell_type": "code",
   "execution_count": null,
   "id": "b64ec903-256d-4b9f-89be-6725629c1ef4",
   "metadata": {},
   "outputs": [],
   "source": []
  },
  {
   "cell_type": "markdown",
   "id": "ee5b93bf-12d5-40d9-b925-79fc4fb2b4a8",
   "metadata": {},
   "source": [
    "### single test"
   ]
  },
  {
   "cell_type": "code",
   "execution_count": 18,
   "id": "02d10b93-0e05-46e8-b0c1-71d2efeb8ed1",
   "metadata": {
    "execution": {
     "iopub.execute_input": "2023-10-25T17:22:35.822659Z",
     "iopub.status.busy": "2023-10-25T17:22:35.822041Z",
     "iopub.status.idle": "2023-10-25T17:22:36.621825Z",
     "shell.execute_reply": "2023-10-25T17:22:36.621345Z",
     "shell.execute_reply.started": "2023-10-25T17:22:35.822615Z"
    },
    "scrolled": true,
    "tags": []
   },
   "outputs": [
    {
     "name": "stderr",
     "output_type": "stream",
     "text": [
      "  1%|▉                                                                                                 | 91/10000 [00:00<00:19, 499.97it/s, error=0.000503, GamL0=4, CV=0.0005]\n"
     ]
    },
    {
     "data": {
      "text/plain": [
       "({'T_v': 7.396456022293995,\n",
       "  'pval': 0.28573311335634355,\n",
       "  'Cmat': array([[1.]])},\n",
       " {'T_v': 6.513349873710608, 'pval': 0.3682015546089928, 'Cmat': array([[1.]])})"
      ]
     },
     "execution_count": 18,
     "metadata": {},
     "output_type": "execute_result"
    }
   ],
   "source": [
    "seed = 5\n",
    "lam = 0.30\n",
    "N = 6 \n",
    "res = _run_fn(seed, lam, N, paras,verbose=True, is_save=0, is_cv=0);\n",
    "paras.svdinv_eps_Q = 1e-6\n",
    "paras.svdinv_eps_Psi = 1e-6;\n",
    "test_res = _test_fn(paras.Cmats[0], res, \n",
    "                    svdinv_eps_Q=paras.svdinv_eps_Q, svdinv_eps_Psi=paras.svdinv_eps_Psi);\n",
    "test_res1 = _test_fn1(paras.Cmats[0], res, \n",
    "                    svdinv_eps_Q=paras.svdinv_eps_Q, svdinv_eps_Psi=paras.svdinv_eps_Psi);\n",
    "test_res, test_res1"
   ]
  },
  {
   "cell_type": "code",
   "execution_count": 20,
   "id": "1ddfb3b9-be46-4627-add7-9d1c78ac6ff6",
   "metadata": {
    "execution": {
     "iopub.execute_input": "2023-10-17T20:11:47.634457Z",
     "iopub.status.busy": "2023-10-17T20:11:47.633824Z",
     "iopub.status.idle": "2023-10-17T20:11:47.669381Z",
     "shell.execute_reply": "2023-10-17T20:11:47.668911Z",
     "shell.execute_reply.started": "2023-10-17T20:11:47.634412Z"
    },
    "tags": []
   },
   "outputs": [
    {
     "data": {
      "text/plain": [
       "torch.Size([6, 6])"
      ]
     },
     "execution_count": 20,
     "metadata": {},
     "output_type": "execute_result"
    }
   ],
   "source": [
    "Psi0.shape"
   ]
  },
  {
   "cell_type": "code",
   "execution_count": 21,
   "id": "154d88ab-602d-4be3-baa6-dc73796448e2",
   "metadata": {
    "execution": {
     "iopub.execute_input": "2023-10-17T20:11:48.094258Z",
     "iopub.status.busy": "2023-10-17T20:11:48.093686Z",
     "iopub.status.idle": "2023-10-17T20:11:48.131616Z",
     "shell.execute_reply": "2023-10-17T20:11:48.130887Z",
     "shell.execute_reply.started": "2023-10-17T20:11:48.094216Z"
    },
    "tags": []
   },
   "outputs": [
    {
     "data": {
      "text/plain": [
       "tensor([10.4628,  8.3385,  8.0842,  5.7405,  4.7425,  3.4754])"
      ]
     },
     "execution_count": 21,
     "metadata": {},
     "output_type": "execute_result"
    }
   ],
   "source": [
    "torch.svd(Psi0).S"
   ]
  },
  {
   "cell_type": "code",
   "execution_count": 22,
   "id": "7a088e90-c270-406e-8e24-789df22b7fb8",
   "metadata": {
    "execution": {
     "iopub.execute_input": "2023-10-17T20:11:49.902996Z",
     "iopub.status.busy": "2023-10-17T20:11:49.902380Z",
     "iopub.status.idle": "2023-10-17T20:11:49.937033Z",
     "shell.execute_reply": "2023-10-17T20:11:49.936589Z",
     "shell.execute_reply.started": "2023-10-17T20:11:49.902951Z"
    },
    "tags": []
   },
   "outputs": [
    {
     "data": {
      "text/plain": [
       "tensor([13.1718,  9.8498,  8.0101,  6.8719,  5.2471,  4.1285])"
      ]
     },
     "execution_count": 22,
     "metadata": {},
     "output_type": "execute_result"
    }
   ],
   "source": [
    "torch.svd(Psi1).S"
   ]
  },
  {
   "cell_type": "code",
   "execution_count": 23,
   "id": "d5a5d5ae-dfc2-4aff-8707-0a58dc6a8d9d",
   "metadata": {
    "execution": {
     "iopub.execute_input": "2023-10-17T20:11:52.600937Z",
     "iopub.status.busy": "2023-10-17T20:11:52.600312Z",
     "iopub.status.idle": "2023-10-17T20:11:52.640307Z",
     "shell.execute_reply": "2023-10-17T20:11:52.639673Z",
     "shell.execute_reply.started": "2023-10-17T20:11:52.600894Z"
    },
    "tags": []
   },
   "outputs": [
    {
     "data": {
      "text/plain": [
       "tensor([5.0764e+02, 1.6096e+02, 2.0163e+01, 1.3945e+01, 5.8890e+00, 2.2157e+00,\n",
       "        1.7424e+00, 1.6542e+00, 1.5121e+00, 1.3912e+00, 1.2719e+00, 1.2110e+00,\n",
       "        1.1905e+00, 1.1096e+00, 1.0872e+00, 1.0267e+00, 1.0000e+00, 9.8166e-01,\n",
       "        9.6904e-01, 8.8453e-01, 8.5911e-01, 8.2601e-01, 7.3433e-01, 7.1722e-01,\n",
       "        6.9824e-01, 6.8193e-01, 6.2280e-01, 5.9596e-01, 5.6996e-01, 5.4988e-01,\n",
       "        5.2925e-01, 5.1365e-01, 4.8635e-01, 4.5069e-01, 4.1569e-01, 3.8358e-01,\n",
       "        3.5341e-01, 3.4694e-01, 3.2186e-01, 3.1411e-01, 2.7730e-01, 2.7052e-01,\n",
       "        2.3455e-01, 2.2242e-01, 2.1734e-01, 2.0335e-01, 1.9913e-01, 1.8417e-01,\n",
       "        1.7043e-01, 1.5422e-01, 1.4867e-01, 1.3888e-01, 1.2395e-01, 1.0874e-01,\n",
       "        9.3884e-02, 8.8066e-02, 7.9243e-02, 6.7308e-02, 5.8674e-02, 5.1434e-02,\n",
       "        4.0141e-02])"
      ]
     },
     "execution_count": 23,
     "metadata": {},
     "output_type": "execute_result"
    }
   ],
   "source": [
    "torch.svd(res.Q_mat_part).S"
   ]
  },
  {
   "cell_type": "code",
   "execution_count": 152,
   "id": "4c761140-ab29-4302-a322-3cfde804fe6a",
   "metadata": {
    "execution": {
     "iopub.execute_input": "2023-10-17T19:50:21.688824Z",
     "iopub.status.busy": "2023-10-17T19:50:21.688152Z",
     "iopub.status.idle": "2023-10-17T19:50:21.728085Z",
     "shell.execute_reply": "2023-10-17T19:50:21.727609Z",
     "shell.execute_reply.started": "2023-10-17T19:50:21.688761Z"
    },
    "tags": []
   },
   "outputs": [
    {
     "data": {
      "text/plain": [
       "tensor([0.7027, 0.0000, 0.0000, 0.0000, 0.0000, 0.0000, 0.0000, 0.0810, 0.0000,\n",
       "        0.0000, 0.0744, 0.0980, 0.0000, 0.0000, 0.1288, 0.2059, 0.0000, 0.0000,\n",
       "        0.0000, 0.0000, 0.0000, 0.0000, 0.0207, 0.0000, 0.0000, 0.0000, 0.0000,\n",
       "        0.0000, 0.0000, 0.1197, 0.0000, 0.0053, 0.0000, 0.0000, 0.0000, 0.0000,\n",
       "        0.0000, 0.0000, 0.0000, 0.0000, 0.0000])"
      ]
     },
     "execution_count": 152,
     "metadata": {},
     "output_type": "execute_result"
    }
   ],
   "source": [
    "#torch.mean((res.model.Y - res.model._obt_lin_tm(res.est_alp, res.est_Gam))**2)\n",
    "torch.linalg.norm(res.est_Gam, axis=0)"
   ]
  },
  {
   "cell_type": "code",
   "execution_count": 74,
   "id": "243498f7-ca57-4b79-9949-966dbf1bf2e3",
   "metadata": {
    "execution": {
     "iopub.execute_input": "2023-10-11T03:57:08.460629Z",
     "iopub.status.busy": "2023-10-11T03:57:08.460097Z",
     "iopub.status.idle": "2023-10-11T03:57:08.630842Z",
     "shell.execute_reply": "2023-10-11T03:57:08.630419Z",
     "shell.execute_reply.started": "2023-10-11T03:57:08.460587Z"
    },
    "tags": []
   },
   "outputs": [
    {
     "data": {
      "text/plain": [
       "<matplotlib.legend.Legend at 0x7f380c75d070>"
      ]
     },
     "execution_count": 74,
     "metadata": {},
     "output_type": "execute_result"
    },
    {
     "data": {
      "image/png": "[encoded data removed]",
      "text/plain": [
       "<Figure size 1000x500 with 1 Axes>"
      ]
     },
     "metadata": {
      "needs_background": "light"
     },
     "output_type": "display_data"
    }
   ],
   "source": [
    "est_beta = res._paras.basis_mat @ res.est_Gam\n",
    "gt_beta = res._paras.beta_GT[:, res._paras.keep_idxs]\n",
    "idx = -1\n",
    "plt.plot(est_beta[:, idx], label=\"EST\")\n",
    "plt.plot(gt_beta[:, idx], label=\"GT\")\n",
    "plt.legend()"
   ]
  },
  {
   "cell_type": "code",
   "execution_count": null,
   "id": "883c4365-e74b-4330-bb1d-e090033a7c2e",
   "metadata": {
    "tags": []
   },
   "outputs": [],
   "source": []
  },
  {
   "cell_type": "code",
   "execution_count": null,
   "id": "5a0bab91-13d0-4d5a-8d4a-c81bf753f101",
   "metadata": {},
   "outputs": [],
   "source": []
  },
  {
   "cell_type": "markdown",
   "id": "c6071092-a8df-482e-a1e4-406cf8da1ef1",
   "metadata": {},
   "source": [
    "### Multipe test"
   ]
  },
  {
   "cell_type": "code",
   "execution_count": null,
   "id": "aff654ba-e91f-4bdb-b6e9-e64879bf1c87",
   "metadata": {
    "execution": {
     "iopub.execute_input": "2023-10-26T23:56:46.376513Z",
     "iopub.status.busy": "2023-10-26T23:56:46.375880Z"
    },
    "scrolled": true,
    "tags": []
   },
   "outputs": [
    {
     "name": "stderr",
     "output_type": "stream",
     "text": [
      " 68%|███████████████████████████████████████████████████████████████████████████████████████████▊                                           | 680/1000 [05:57<03:47,  1.41it/s]"
     ]
    }
   ],
   "source": [
    "seed = 12\n",
    "N = 8\n",
    "# orthbasis\n",
    "# N, lam\n",
    "# 4: 0.2, 0.05, 0.5\n",
    "# can_lams = [0.001, 0.05, 0.10, 0.15, 0.20, 0.25, 0.30, 0.50, 2]\n",
    "#paras.alpha = 0.9\n",
    "#paras.beta = 1\n",
    "#paras.a = 3.7\n",
    "def _run_fn1(seed):\n",
    "    lam = 0.25\n",
    "    Cmat = paras.Cmats[0]\n",
    "    res = _run_fn(seed, lam, N, paras, verbose=False, is_save=0, is_cv=0);\n",
    "    test_res = _test_fn1(Cmat, res, svdinv_eps_Q=1e-7, svdinv_eps_Psi=1e-7);\n",
    "    test_res.L0 = torch.sum(torch.linalg.norm(res.est_Gam, axis=0)!=0).item()\n",
    "    test_res.AIC = res.AIC\n",
    "    test_res.BIC = res.BIC\n",
    "    test_res.GCV = res.GCV\n",
    "    test_res.est_sigma2 = res.est_sigma2\n",
    "    return test_res\n",
    "    \n",
    "num_rep = 1000\n",
    "with Parallel(n_jobs=20) as parallel:\n",
    "    test_ress = parallel(delayed(_run_fn1)(seed) for seed in tqdm(range(num_rep), total=num_rep))\n",
    "    "
   ]
  },
  {
   "cell_type": "code",
   "execution_count": 19,
   "id": "bf1ed22b-4242-4c2c-8c8e-e5a9fb415153",
   "metadata": {
    "execution": {
     "iopub.execute_input": "2023-10-27T02:20:24.580151Z",
     "iopub.status.busy": "2023-10-27T02:20:24.579505Z",
     "iopub.status.idle": "2023-10-27T02:20:24.781809Z",
     "shell.execute_reply": "2023-10-27T02:20:24.781089Z",
     "shell.execute_reply.started": "2023-10-27T02:20:24.580104Z"
    },
    "tags": []
   },
   "outputs": [
    {
     "name": "stdout",
     "output_type": "stream",
     "text": [
      "The size is 0.023 and the mean of Tv is 14.131 and thoeretically it is 16. L0 is 11.19.\n",
      "AIC is 0.32. BIC is 1.09. GCV is 1.45. \n",
      "est_sigma2 is 0.95906. \n"
     ]
    }
   ],
   "source": [
    "pvals = np.array([res.pval for res in test_ress])\n",
    "T_vs = np.array([res.T_v for res in test_ress]);\n",
    "L0s = np.array([res.L0 for res in test_ress]);\n",
    "AICs = np.array([res.AIC for res in test_ress]);\n",
    "BICs = np.array([res.BIC for res in test_ress]);\n",
    "GCVs = np.array([res.GCV for res in test_ress]);\n",
    "est_sigma2s = np.array([res.est_sigma2 for res in test_ress]);\n",
    "chi_df = paras.Cmats[0].shape[0]*N\n",
    "print(\n",
    "    f\"The size is {np.mean(pvals<0.05):.3f} and \"\n",
    "    f\"the mean of Tv is {np.mean(T_vs):.3f} and thoeretically it is {chi_df:.0f}. \"\n",
    "    f\"L0 is {np.mean(L0s):.2f}.\"\n",
    "     )\n",
    "print(\n",
    "    f\"AIC is {np.mean(AICs):.2f}. \"\n",
    "    f\"BIC is {np.mean(BICs):.2f}. \"\n",
    "    f\"GCV is {np.mean(GCVs):.2f}. \\n\"\n",
    "    f\"est_sigma2 is {np.mean(est_sigma2s):.5f}. \"\n",
    "     )"
   ]
  },
  {
   "cell_type": "code",
   "execution_count": 17,
   "id": "72101747-5482-4080-8fde-5c1d16972171",
   "metadata": {
    "execution": {
     "iopub.execute_input": "2023-10-26T20:27:56.476430Z",
     "iopub.status.busy": "2023-10-26T20:27:56.475811Z",
     "iopub.status.idle": "2023-10-26T20:27:56.749853Z",
     "shell.execute_reply": "2023-10-26T20:27:56.749425Z",
     "shell.execute_reply.started": "2023-10-26T20:27:56.476385Z"
    },
    "tags": []
   },
   "outputs": [
    {
     "data": {
      "text/plain": [
       "<matplotlib.legend.Legend at 0x7f2502a85640>"
      ]
     },
     "execution_count": 17,
     "metadata": {},
     "output_type": "execute_result"
    },
    {
     "data": {
      "image/png": "[encoded data removed]",
      "text/plain": [
       "<Figure size 432x288 with 1 Axes>"
      ]
     },
     "metadata": {
      "needs_background": "light"
     },
     "output_type": "display_data"
    }
   ],
   "source": [
    "chi_df = paras.Cmats[0].shape[0]*N\n",
    "xs = np.linspace(0.1, 100, 100)\n",
    "theo_curvs_log = chi2.logpdf(xs, chi_df);\n",
    "plt.plot(xs, np.exp(theo_curvs_log) , label=\"theoretical\")\n",
    "sns.kdeplot(T_vs, label=\"empirical\")\n",
    "plt.legend()"
   ]
  },
  {
   "cell_type": "raw",
   "id": "4dfa27d8-68e4-46a5-a1ca-46be460e599a",
   "metadata": {},
   "source": []
  }
 ],
 "metadata": {
  "kernelspec": {
   "display_name": "Python 3 (ipykernel)",
   "language": "python",
   "name": "python3"
  },
  "language_info": {
   "codemirror_mode": {
    "name": "ipython",
    "version": 3
   },
   "file_extension": ".py",
   "mimetype": "text/x-python",
   "name": "python",
   "nbconvert_exporter": "python",
   "pygments_lexer": "ipython3",
   "version": "3.9.7"
  },
  "toc": {
   "base_numbering": 1,
   "nav_menu": {},
   "number_sections": true,
   "sideBar": true,
   "skip_h1_title": false,
   "title_cell": "Table of Contents",
   "title_sidebar": "Contents",
   "toc_cell": false,
   "toc_position": {
    "height": "calc(100% - 180px)",
    "left": "10px",
    "top": "150px",
    "width": "165px"
   },
   "toc_section_display": true,
   "toc_window_display": true
  },
  "toc-autonumbering": false,
  "toc-showcode": false,
  "toc-showmarkdowntxt": false,
  "toc-showtags": false
 },
 "nbformat": 4,
 "nbformat_minor": 5
}
