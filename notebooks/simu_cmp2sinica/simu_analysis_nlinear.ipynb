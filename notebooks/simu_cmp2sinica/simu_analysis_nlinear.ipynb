{
 "cells": [
  {
   "cell_type": "markdown",
   "id": "942a9fb0-de26-4619-9f8f-1d1ad87c308f",
   "metadata": {},
   "source": [
    "Analysis the results under new code"
   ]
  },
  {
   "cell_type": "code",
   "execution_count": 1,
   "id": "02ae980e",
   "metadata": {
    "ExecuteTime": {
     "end_time": "2023-05-31T19:57:23.490285Z",
     "start_time": "2023-05-31T19:57:23.481769Z"
    },
    "execution": {
     "iopub.execute_input": "2024-02-27T03:03:11.229231Z",
     "iopub.status.busy": "2024-02-27T03:03:11.228693Z",
     "iopub.status.idle": "2024-02-27T03:03:11.245421Z",
     "shell.execute_reply": "2024-02-27T03:03:11.243923Z",
     "shell.execute_reply.started": "2024-02-27T03:03:11.229185Z"
    },
    "tags": []
   },
   "outputs": [],
   "source": [
    "import sys\n",
    "sys.path.append(\"../../mypkg\")"
   ]
  },
  {
   "cell_type": "code",
   "execution_count": 2,
   "id": "023df78a",
   "metadata": {
    "ExecuteTime": {
     "end_time": "2023-05-31T19:57:34.238839Z",
     "start_time": "2023-05-31T19:57:23.494053Z"
    },
    "execution": {
     "iopub.execute_input": "2024-02-27T03:03:11.247005Z",
     "iopub.status.busy": "2024-02-27T03:03:11.246575Z",
     "iopub.status.idle": "2024-02-27T03:03:15.341774Z",
     "shell.execute_reply": "2024-02-27T03:03:15.340794Z",
     "shell.execute_reply.started": "2024-02-27T03:03:11.246972Z"
    },
    "tags": []
   },
   "outputs": [],
   "source": [
    "import numpy as np\n",
    "import torch\n",
    "import matplotlib.pyplot as plt\n",
    "import seaborn as sns\n",
    "from scipy.stats import pearsonr\n",
    "from numbers import Number\n",
    "\n",
    "from joblib import Parallel, delayed\n",
    "\n",
    "from easydict import EasyDict as edict\n",
    "from tqdm import trange, tqdm\n",
    "from scipy.io import loadmat\n",
    "from pprint import pprint\n",
    "import itertools\n",
    "from scipy.stats import chi2\n",
    "import pandas as pd\n",
    "from IPython.display import display\n"
   ]
  },
  {
   "cell_type": "code",
   "execution_count": 3,
   "id": "b9d3cbc6-1ac5-47d6-a0d1-bcbc0be9267e",
   "metadata": {
    "execution": {
     "iopub.execute_input": "2024-02-27T03:03:15.345431Z",
     "iopub.status.busy": "2024-02-27T03:03:15.344414Z",
     "iopub.status.idle": "2024-02-27T03:03:15.382311Z",
     "shell.execute_reply": "2024-02-27T03:03:15.381825Z",
     "shell.execute_reply.started": "2024-02-27T03:03:15.345380Z"
    },
    "tags": []
   },
   "outputs": [],
   "source": [
    "# This will reload all imports as soon as the code changes\n",
    "%load_ext autoreload\n",
    "%autoreload 2"
   ]
  },
  {
   "cell_type": "code",
   "execution_count": 4,
   "id": "b0aa91b2",
   "metadata": {
    "ExecuteTime": {
     "end_time": "2023-05-31T19:57:59.558229Z",
     "start_time": "2023-05-31T19:57:34.292612Z"
    },
    "execution": {
     "iopub.execute_input": "2024-02-27T03:03:15.383403Z",
     "iopub.status.busy": "2024-02-27T03:03:15.383119Z",
     "iopub.status.idle": "2024-02-27T03:03:15.494680Z",
     "shell.execute_reply": "2024-02-27T03:03:15.493640Z",
     "shell.execute_reply.started": "2024-02-27T03:03:15.383385Z"
    },
    "tags": []
   },
   "outputs": [],
   "source": [
    "from constants import DATA_ROOT, RES_ROOT, FIG_ROOT, MIDRES_ROOT\n",
    "\n",
    "from utils.matrix import col_vec_fn, col_vec2mat_fn, conju_grad, svd_inverse, cholesky_inv\n",
    "from utils.misc import save_pkl, load_pkl, get_local_min_idxs\n",
    "from scenarios.simu_linear_psd import settings\n",
    "from scenarios.simu_linear_sinica import settings as settingss\n",
    "from scenarios.simu_linear_sinica0 import settings as setting0ss\n",
    "\n"
   ]
  },
  {
   "cell_type": "code",
   "execution_count": 5,
   "id": "03e8580b-15e9-4a93-8010-aa2d650ffdf6",
   "metadata": {
    "execution": {
     "iopub.execute_input": "2024-02-27T03:03:15.496822Z",
     "iopub.status.busy": "2024-02-27T03:03:15.496080Z",
     "iopub.status.idle": "2024-02-27T03:03:15.530644Z",
     "shell.execute_reply": "2024-02-27T03:03:15.529544Z",
     "shell.execute_reply.started": "2024-02-27T03:03:15.496777Z"
    },
    "tags": []
   },
   "outputs": [],
   "source": [
    "import logging\n",
    "\n",
    "logger = logging.getLogger(\"tmp\")\n",
    "logger.setLevel(logging.DEBUG)\n",
    "formatter = logging.Formatter('%(asctime)s - %(name)s - %(levelname)s - %(message)s')\n",
    "\n",
    "ch = logging.StreamHandler() # for console. \n",
    "ch.setLevel(logging.DEBUG)\n",
    "ch.setFormatter(formatter)\n",
    "\n",
    "logger.addHandler(ch)"
   ]
  },
  {
   "cell_type": "code",
   "execution_count": 6,
   "id": "d29891f5-2fe1-428f-9d0d-4991cd3bfc58",
   "metadata": {
    "execution": {
     "iopub.execute_input": "2024-02-27T03:03:15.531656Z",
     "iopub.status.busy": "2024-02-27T03:03:15.531355Z",
     "iopub.status.idle": "2024-02-27T03:03:16.681148Z",
     "shell.execute_reply": "2024-02-27T03:03:16.679631Z",
     "shell.execute_reply.started": "2024-02-27T03:03:15.531639Z"
    },
    "tags": []
   },
   "outputs": [],
   "source": [
    "from optimization.opt import logger as logger1\n",
    "logger1.handlers[0].setLevel(logging.WARNING)"
   ]
  },
  {
   "cell_type": "code",
   "execution_count": 7,
   "id": "fe0a4a46",
   "metadata": {
    "ExecuteTime": {
     "end_time": "2023-05-31T19:57:59.621784Z",
     "start_time": "2023-05-31T19:57:59.568097Z"
    },
    "execution": {
     "iopub.execute_input": "2024-02-27T03:03:16.683637Z",
     "iopub.status.busy": "2024-02-27T03:03:16.682855Z",
     "iopub.status.idle": "2024-02-27T03:03:16.721301Z",
     "shell.execute_reply": "2024-02-27T03:03:16.720681Z",
     "shell.execute_reply.started": "2024-02-27T03:03:16.683593Z"
    },
    "tags": []
   },
   "outputs": [],
   "source": [
    "plt.style.use(FIG_ROOT/\"base.mplstyle\")\n",
    "torch.set_default_dtype(torch.float64)"
   ]
  },
  {
   "cell_type": "code",
   "execution_count": null,
   "id": "e0cb5a3d-1ab1-4bc0-bfce-d7ebaedb0391",
   "metadata": {},
   "outputs": [],
   "source": []
  },
  {
   "cell_type": "code",
   "execution_count": null,
   "id": "d0af2f35",
   "metadata": {},
   "outputs": [],
   "source": []
  },
  {
   "cell_type": "markdown",
   "id": "dd9c6514",
   "metadata": {},
   "source": [
    "# Param and fns"
   ]
  },
  {
   "cell_type": "code",
   "execution_count": null,
   "id": "a10d559c-8d6a-428a-bdb9-23c0a5aac96b",
   "metadata": {},
   "outputs": [],
   "source": []
  },
  {
   "cell_type": "markdown",
   "id": "e5ccf9dc-c8f3-40a3-92f9-de2cdfa75610",
   "metadata": {},
   "source": [
    "## Fns"
   ]
  },
  {
   "cell_type": "code",
   "execution_count": 8,
   "id": "d93eca7c-5b7c-49ee-bec2-979f08f8d602",
   "metadata": {
    "execution": {
     "iopub.execute_input": "2024-02-27T03:03:16.722103Z",
     "iopub.status.busy": "2024-02-27T03:03:16.721908Z",
     "iopub.status.idle": "2024-02-27T03:03:16.786188Z",
     "shell.execute_reply": "2024-02-27T03:03:16.785133Z",
     "shell.execute_reply.started": "2024-02-27T03:03:16.722088Z"
    },
    "tags": []
   },
   "outputs": [
    {
     "data": {
      "text/plain": [
       "<function __main__.<lambda>(x)>"
      ]
     },
     "execution_count": 8,
     "metadata": {},
     "output_type": "execute_result"
    }
   ],
   "source": [
    "def _get_min_idx(x):\n",
    "    \"\"\"Get the index of the minimal values among the local minimals.\n",
    "       If there are multiple ones, return the largest index\n",
    "       args:\n",
    "           x: a vec\n",
    "        \n",
    "    \"\"\"\n",
    "    x = np.array(x)\n",
    "    lmin_idxs = get_local_min_idxs(x);\n",
    "    if len(lmin_idxs) == 0:\n",
    "        lmin_idxs = np.arange(len(x))\n",
    "    lmin_idxs_inv =  lmin_idxs[::-1]\n",
    "    lmins_inv = x[lmin_idxs_inv];\n",
    "    return  lmin_idxs_inv[np.argmin(lmins_inv)]\n",
    "_err_fn = lambda x: np.nanmean(x**2)\n",
    "#_err_fn = lambda x: np.nanmean(np.abs(x))"
   ]
  },
  {
   "cell_type": "code",
   "execution_count": null,
   "id": "75e10fd4",
   "metadata": {},
   "outputs": [],
   "source": []
  },
  {
   "cell_type": "markdown",
   "id": "ad8553a0-635d-473c-b27e-7bb7fb31a674",
   "metadata": {},
   "source": [
    "# Analysis"
   ]
  },
  {
   "cell_type": "code",
   "execution_count": 9,
   "id": "bab987e3-6895-4b69-bf54-56cd6763138e",
   "metadata": {
    "execution": {
     "iopub.execute_input": "2024-02-27T03:03:16.787988Z",
     "iopub.status.busy": "2024-02-27T03:03:16.787386Z",
     "iopub.status.idle": "2024-02-27T03:03:16.838652Z",
     "shell.execute_reply": "2024-02-27T03:03:16.837524Z",
     "shell.execute_reply.started": "2024-02-27T03:03:16.787953Z"
    },
    "tags": []
   },
   "outputs": [],
   "source": [
    "\n",
    "num_rep = 200;"
   ]
  },
  {
   "cell_type": "code",
   "execution_count": 10,
   "id": "aa2633e4-39fa-4695-af03-f148ff8c29df",
   "metadata": {
    "execution": {
     "iopub.execute_input": "2024-02-27T03:03:21.017657Z",
     "iopub.status.busy": "2024-02-27T03:03:21.017042Z",
     "iopub.status.idle": "2024-02-27T03:03:21.059096Z",
     "shell.execute_reply": "2024-02-27T03:03:21.058389Z",
     "shell.execute_reply.started": "2024-02-27T03:03:21.017607Z"
    },
    "tags": []
   },
   "outputs": [
    {
     "data": {
      "text/plain": [
       "array([[1., 0., 0.],\n",
       "       [0., 1., 0.],\n",
       "       [0., 0., 1.]])"
      ]
     },
     "execution_count": 10,
     "metadata": {},
     "output_type": "execute_result"
    }
   ],
   "source": [
    "nb = 3\n",
    "setting = settings[f\"cmpn{nb}\"] # add more for 0.8\n",
    "#setting = setting0ss[f\"cmpn0s{nb}b\"] # add more for 0.8\n",
    "#setting = settingss[f\"cmpns{nb}\"] # add more for 0.8\n",
    "can_Ns = setting.can_Ns\n",
    "can_lams = setting.can_lams\n",
    "#can_Ns = [4, 6, 8, 10]\n",
    "\n",
    "c1s = [0.0, 0.1, 0.2, 0.4]\n",
    "c1s = [0.0]\n",
    "Cmat = np.eye(nb) # change it depending on test1, test2, test3"
   ]
  },
  {
   "cell_type": "code",
   "execution_count": null,
   "id": "f2cb2207-1fbc-42de-9804-607a14d27e60",
   "metadata": {
    "tags": []
   },
   "outputs": [],
   "source": []
  },
  {
   "cell_type": "code",
   "execution_count": null,
   "id": "3264cfce-b893-450e-b063-e3f4c10d1d08",
   "metadata": {},
   "outputs": [],
   "source": []
  },
  {
   "cell_type": "markdown",
   "id": "f3189271-865f-47c1-ba40-2a026eb64d28",
   "metadata": {},
   "source": [
    "## Pre-ana"
   ]
  },
  {
   "cell_type": "code",
   "execution_count": 11,
   "id": "760e6728-0c64-44b9-ac39-c0ca4c89b3d8",
   "metadata": {
    "execution": {
     "iopub.execute_input": "2024-02-27T03:03:22.511154Z",
     "iopub.status.busy": "2024-02-27T03:03:22.510532Z",
     "iopub.status.idle": "2024-02-27T03:03:22.552071Z",
     "shell.execute_reply": "2024-02-27T03:03:22.551404Z",
     "shell.execute_reply.started": "2024-02-27T03:03:22.511105Z"
    },
    "tags": []
   },
   "outputs": [
    {
     "data": {
      "text/plain": [
       "0.0"
      ]
     },
     "execution_count": 11,
     "metadata": {},
     "output_type": "execute_result"
    }
   ],
   "source": [
    "c1 = 0.0"
   ]
  },
  {
   "cell_type": "code",
   "execution_count": 12,
   "id": "f1b69959-28cc-4ceb-97e8-624abeb2f7e8",
   "metadata": {
    "execution": {
     "iopub.execute_input": "2024-02-27T03:03:23.012457Z",
     "iopub.status.busy": "2024-02-27T03:03:23.011888Z",
     "iopub.status.idle": "2024-02-27T03:03:23.236283Z",
     "shell.execute_reply": "2024-02-27T03:03:23.235583Z",
     "shell.execute_reply.started": "2024-02-27T03:03:23.012410Z"
    },
    "tags": []
   },
   "outputs": [
    {
     "name": "stdout",
     "output_type": "stream",
     "text": [
      "Load file /data/rajlab1/user_data/jin/MyResearch/HDF_infer/notebooks/simu_cmp2sinica/../../mypkg/../results/simu_settingcmpn3_0/all-valsel-metrics.pkl\n"
     ]
    },
    {
     "name": "stderr",
     "output_type": "stream",
     "text": [
      "c1: 0.0: 100%|█████████████████████████████████████████████████████████████████████████████████████████████████████████████████████████████| 200/200 [00:00<00:00, 7776.66it/s]\n"
     ]
    }
   ],
   "source": [
    "def _run_fn1(seed, all_cv_errs):\n",
    "    errs_mat = []\n",
    "    for cur_N in can_Ns:\n",
    "        errs = []\n",
    "        for cur_lam in can_lams:\n",
    "            errs.append(all_cv_errs[(seed, cur_N, cur_lam)][\"mse_loss\"])\n",
    "        errs_mat.append(errs)\n",
    "    errs_mat = np.array(errs_mat)\n",
    "    return errs_mat\n",
    "cur_save_dir = RES_ROOT/f\"simu_setting{setting.setting}_{c1*1000:.0f}\"\n",
    "all_cv_errs = load_pkl(cur_save_dir/f\"all-valsel-metrics.pkl\")\n",
    "num_seed = len(np.unique(list(map(lambda x: x[0], all_cv_errs.keys()))))\n",
    "# do not make n_jobs>1, it is very slow\n",
    "with Parallel(n_jobs=1) as parallel:\n",
    "    err_ten = parallel(delayed(_run_fn1)(cur_seed, all_cv_errs)  \n",
    "                             for cur_seed in tqdm(range(num_seed), total=num_seed, desc=f\"c1: {c1}\"))\n",
    "err_ten = np.array(err_ten);"
   ]
  },
  {
   "cell_type": "code",
   "execution_count": 13,
   "id": "6f9534a4-db3c-4606-a358-d2c4f991c763",
   "metadata": {
    "execution": {
     "iopub.execute_input": "2024-02-27T03:03:23.892395Z",
     "iopub.status.busy": "2024-02-27T03:03:23.891802Z",
     "iopub.status.idle": "2024-02-27T03:03:23.936396Z",
     "shell.execute_reply": "2024-02-27T03:03:23.935745Z",
     "shell.execute_reply.started": "2024-02-27T03:03:23.892346Z"
    },
    "tags": []
   },
   "outputs": [
    {
     "data": {
      "text/plain": [
       "(6, 0.8, 0.9)"
      ]
     },
     "execution_count": 13,
     "metadata": {},
     "output_type": "execute_result"
    }
   ],
   "source": [
    "err_ten_ses = err_ten.std(axis=0)/np.sqrt(err_ten.shape[0])\n",
    "err_m = np.mean(np.array(err_ten), axis=0)\n",
    "errs = []\n",
    "for err in err_m:\n",
    "    lam_min_idx = _get_min_idx(err)\n",
    "    errs.append((err[lam_min_idx], lam_min_idx))\n",
    "errs = np.array(errs)\n",
    "N_min_idx = np.argmin(errs[:, 0]);\n",
    "lam_min_idx = int(errs[N_min_idx][1]);\n",
    "min_opt_N, min_opt_lam = can_Ns[N_min_idx], can_lams[lam_min_idx]\n",
    "min_opt_N, min_opt_lam\n",
    "\n",
    "err_upbd = err_m[N_min_idx, lam_min_idx] + err_ten_ses[N_min_idx, lam_min_idx]; \n",
    "lam_1se_idx = np.where(err_m[N_min_idx] <= err_upbd)[0].max();\n",
    "(can_Ns[N_min_idx], can_lams[lam_min_idx], can_lams[lam_1se_idx])"
   ]
  },
  {
   "cell_type": "code",
   "execution_count": 14,
   "id": "9a21aadc-a8fa-48a9-b505-932f19dbd568",
   "metadata": {
    "execution": {
     "iopub.execute_input": "2024-02-27T03:03:25.789239Z",
     "iopub.status.busy": "2024-02-27T03:03:25.788657Z",
     "iopub.status.idle": "2024-02-27T03:03:26.211426Z",
     "shell.execute_reply": "2024-02-27T03:03:26.210978Z",
     "shell.execute_reply.started": "2024-02-27T03:03:25.789191Z"
    },
    "tags": []
   },
   "outputs": [
    {
     "data": {
      "image/png": "[encoded data removed]",
      "text/plain": [
       "<Figure size 864x432 with 2 Axes>"
      ]
     },
     "metadata": {
      "needs_background": "light"
     },
     "output_type": "display_data"
    }
   ],
   "source": [
    "plt.figure(figsize=[12, 6])\n",
    "sns.heatmap(err_m, annot=err_m, fmt=\".3f\")\n",
    "plt.xticks(np.arange(len(can_lams))+0.5, can_lams);\n",
    "plt.yticks(np.arange(len(can_Ns))+0.5, can_Ns);"
   ]
  },
  {
   "cell_type": "code",
   "execution_count": null,
   "id": "d8df0e15-24b2-4939-84b6-78a48db6d627",
   "metadata": {},
   "outputs": [],
   "source": []
  },
  {
   "cell_type": "code",
   "execution_count": null,
   "id": "c4d346ec-0d18-460b-8eae-79f96d4cd7af",
   "metadata": {},
   "outputs": [],
   "source": []
  },
  {
   "cell_type": "markdown",
   "id": "181957a8-0dd4-48a9-bc45-02938ecc817d",
   "metadata": {},
   "source": [
    "## Step 2-get results"
   ]
  },
  {
   "cell_type": "code",
   "execution_count": 92,
   "id": "5db80e91-cc93-42df-b877-bb403d87675d",
   "metadata": {
    "execution": {
     "iopub.execute_input": "2024-02-27T01:15:36.815427Z",
     "iopub.status.busy": "2024-02-27T01:15:36.814786Z",
     "iopub.status.idle": "2024-02-27T01:15:36.861062Z",
     "shell.execute_reply": "2024-02-27T01:15:36.860154Z",
     "shell.execute_reply.started": "2024-02-27T01:15:36.815379Z"
    },
    "tags": []
   },
   "outputs": [],
   "source": [
    "ada_N = False\n",
    "ada_lam = False\n",
    "\n",
    "if ada_N and ada_lam:\n",
    "    fix = \"\"\n",
    "elif (not ada_N) and ada_lam:\n",
    "    optN = 4\n",
    "    fix = \"fixN\"\n",
    "elif (not ada_N) and (not ada_lam):\n",
    "    fix = \"fixNlam\"\n",
    "    fixN = None\n",
    "    if fixN is not None:\n",
    "        assert fixN in can_Ns\n",
    "save_name = f\"opt_lamNs{fix}_ress.pkl\"\n",
    "loss = \"mse_loss\"\n",
    "if nb == 1:\n",
    "    is_simpler = False\n",
    "else:\n",
    "    is_simpler = True"
   ]
  },
  {
   "cell_type": "code",
   "execution_count": 93,
   "id": "e6c911ba-b66d-47fd-b405-3e779bfb2845",
   "metadata": {
    "execution": {
     "iopub.execute_input": "2024-02-27T01:15:38.743001Z",
     "iopub.status.busy": "2024-02-27T01:15:38.742400Z",
     "iopub.status.idle": "2024-02-27T01:15:38.912764Z",
     "shell.execute_reply": "2024-02-27T01:15:38.912274Z",
     "shell.execute_reply.started": "2024-02-27T01:15:38.742951Z"
    },
    "tags": []
   },
   "outputs": [
    {
     "name": "stdout",
     "output_type": "stream",
     "text": [
      "Load file /data/rajlab1/user_data/jin/MyResearch/HDF_infer/notebooks/simu_cmp2sinica/../../mypkg/../results/simu_settingcmpn3_0/all-valsel-metrics.pkl\n"
     ]
    },
    {
     "name": "stderr",
     "output_type": "stream",
     "text": [
      "c1: 0.0: 100%|████████████████████████████████████████████████████████████████████████████████████████████████████████████████████████████| 200/200 [00:00<00:00, 22331.51it/s]"
     ]
    },
    {
     "name": "stdout",
     "output_type": "stream",
     "text": [
      "{0.0: (6, 0.8)}\n"
     ]
    },
    {
     "name": "stderr",
     "output_type": "stream",
     "text": [
      "\n"
     ]
    }
   ],
   "source": [
    "if ada_lam and ada_N:\n",
    "    def _run_fn(seed, all_cv_errs):\n",
    "        errs_N = []\n",
    "        for cur_N in can_Ns:\n",
    "            errs = []\n",
    "            for cur_lam in can_lams:\n",
    "                errs.append(all_cv_errs[(seed, cur_N, cur_lam)][loss])\n",
    "            min_idx = _get_min_idx(errs);\n",
    "            errs_N.append((seed, cur_N, can_lams[min_idx], errs[min_idx]))\n",
    "        errs_N_sorted = sorted(errs_N, key=lambda x:x[-1]);\n",
    "        return errs_N_sorted[0]\n",
    "    \n",
    "    opt_lamNss = dict()\n",
    "    for c1 in c1s:\n",
    "        cur_save_dir = RES_ROOT/f\"simu_setting{setting.setting}_{c1*1000:.0f}\"\n",
    "        all_cv_errs = load_pkl(cur_save_dir/f\"all-valsel-metrics.pkl\")\n",
    "        num_seed = len(np.unique(list(map(lambda x: x[0], all_cv_errs.keys()))))\n",
    "        # do not make n_jobs>1, it is very slow\n",
    "        with Parallel(n_jobs=1) as parallel:\n",
    "            opt_lamNs = parallel(delayed(_run_fn)(cur_seed, all_cv_errs)  \n",
    "                                 for cur_seed in tqdm(range(num_seed), total=num_seed, desc=f\"c1: {c1}\"))\n",
    "        opt_lamNss[c1] = opt_lamNs\n",
    "elif ada_lam and (not ada_N):\n",
    "    \n",
    "    print(optN)\n",
    "    # then given N, find opt lam\n",
    "    def _run_fn_fixN(seed, optN, all_cv_errs):\n",
    "        errs = []\n",
    "        for cur_lam in can_lams:\n",
    "            errs.append(all_cv_errs[(seed, optN, cur_lam)][loss])\n",
    "        min_idx = _get_min_idx(errs);\n",
    "        return (seed, optN, can_lams[min_idx], errs[min_idx])\n",
    "    \n",
    "    opt_lamNss = dict()\n",
    "    for c1 in tqdm(c1s):\n",
    "        cur_save_dir = RES_ROOT/f\"simu_setting{setting.setting}_{c1*1000:.0f}\"\n",
    "        all_cv_errs = load_pkl(cur_save_dir/f\"all-valsel-metrics.pkl\")\n",
    "        num_seed = len(np.unique(list(map(lambda x: x[0], all_cv_errs.keys()))))\n",
    "        opt_lams = [_run_fn_fixN(seed, optN, all_cv_errs) for seed in range(num_seed)]\n",
    "        opt_lamNss[c1] = opt_lams\n",
    "elif (not ada_lam) and (not ada_N):\n",
    "    def _run_fn_errmat(seed, all_cv_errs):\n",
    "        errs_mat = []\n",
    "        for cur_N in can_Ns:\n",
    "            errs = []\n",
    "            for cur_lam in can_lams:\n",
    "                errs.append(all_cv_errs[(seed, cur_N, cur_lam)][loss])\n",
    "            errs_mat.append(errs)\n",
    "        errs_mat = np.array(errs_mat)\n",
    "        return errs_mat\n",
    "    opt_lamNs_fix = {}\n",
    "    for c1 in c1s:\n",
    "        cur_save_dir = RES_ROOT/f\"simu_setting{setting.setting}_{c1*1000:.0f}\"\n",
    "        all_cv_errs = load_pkl(cur_save_dir/f\"all-valsel-metrics.pkl\")\n",
    "        num_seed = len(np.unique(list(map(lambda x: x[0], all_cv_errs.keys()))))\n",
    "        # do not make n_jobs>1, it is very slow\n",
    "        with Parallel(n_jobs=1) as parallel:\n",
    "            err_ten = parallel(delayed(_run_fn_errmat)(cur_seed, all_cv_errs)  \n",
    "                                     for cur_seed in tqdm(range(num_seed), total=num_seed, desc=f\"c1: {c1}\"))\n",
    "        err_ten = np.array(err_ten);\n",
    "        \n",
    "        err_ten_ses = err_ten.std(axis=0)/np.sqrt(err_ten.shape[0])\n",
    "        err_m = np.mean(np.array(err_ten), axis=0)\n",
    "        errs = []\n",
    "        for err in err_m:\n",
    "            lam_min_idx = _get_min_idx(err)\n",
    "            errs.append((err[lam_min_idx], lam_min_idx))\n",
    "        errs = np.array(errs)\n",
    "        if fixN is None:\n",
    "            N_min_idx = np.argmin(errs[:, 0]);\n",
    "        else:\n",
    "            N_min_idx = can_Ns.index(fixN)\n",
    "        lam_min_idx = int(errs[N_min_idx][1]);\n",
    "        min_opt_N, min_opt_lam = can_Ns[N_min_idx], can_lams[lam_min_idx]\n",
    "        \n",
    "        err_upbd = err_m[N_min_idx, lam_min_idx] + err_ten_ses[N_min_idx, lam_min_idx]; \n",
    "        lam_1se_idx = np.where(err_m[N_min_idx] <= err_upbd)[0].max();\n",
    "        #opt_lamNs_fix[c1] = (can_Ns[N_min_idx],  can_lams[lam_1se_idx])\n",
    "        opt_lamNs_fix[c1] = (can_Ns[N_min_idx],  can_lams[lam_min_idx])\n",
    "    print(opt_lamNs_fix)\n",
    "    \n",
    "    \n",
    "    "
   ]
  },
  {
   "cell_type": "code",
   "execution_count": 94,
   "id": "cdb08d5a-b3ff-451c-8d01-6207895cce17",
   "metadata": {
    "execution": {
     "iopub.execute_input": "2024-02-27T01:15:42.812501Z",
     "iopub.status.busy": "2024-02-27T01:15:42.811861Z",
     "iopub.status.idle": "2024-02-27T01:15:46.414679Z",
     "shell.execute_reply": "2024-02-27T01:15:46.413375Z",
     "shell.execute_reply.started": "2024-02-27T01:15:42.812453Z"
    },
    "scrolled": true,
    "tags": []
   },
   "outputs": [
    {
     "name": "stderr",
     "output_type": "stream",
     "text": [
      "c1: 0:   5%|██████▌                                                                                                                           | 10/200 [00:00<00:03, 60.77it/s]R[write to console]: \n",
      "Attaching package: ‘orthogonalsplinebasis’\n",
      "\n",
      "\n",
      "R[write to console]: The following object is masked from ‘package:stats’:\n",
      "\n",
      "    integrate\n",
      "\n",
      "\n",
      "c1: 0:  10%|█████████████                                                                                                                     | 20/200 [00:02<00:26,  6.74it/s]R[write to console]: \n",
      "Attaching package: ‘orthogonalsplinebasis’\n",
      "\n",
      "\n",
      "R[write to console]: The following object is masked from ‘package:stats’:\n",
      "\n",
      "    integrate\n",
      "\n",
      "\n",
      "R[write to console]: \n",
      "Attaching package: ‘orthogonalsplinebasis’\n",
      "\n",
      "\n",
      "R[write to console]: The following object is masked from ‘package:stats’:\n",
      "\n",
      "    integrate\n",
      "\n",
      "\n",
      "R[write to console]: \n",
      "Attaching package: ‘orthogonalsplinebasis’\n",
      "\n",
      "\n",
      "R[write to console]: The following object is masked from ‘package:stats’:\n",
      "\n",
      "    integrate\n",
      "\n",
      "\n",
      "R[write to console]: \n",
      "Attaching package: ‘orthogonalsplinebasis’\n",
      "\n",
      "\n",
      "R[write to console]: The following object is masked from ‘package:stats’:\n",
      "\n",
      "    integrate\n",
      "\n",
      "\n",
      "R[write to console]: \n",
      "Attaching package: ‘orthogonalsplinebasis’\n",
      "\n",
      "\n",
      "R[write to console]: The following object is masked from ‘package:stats’:\n",
      "\n",
      "    integrate\n",
      "\n",
      "\n",
      "R[write to console]: \n",
      "Attaching package: ‘orthogonalsplinebasis’\n",
      "\n",
      "\n",
      "R[write to console]: The following object is masked from ‘package:stats’:\n",
      "\n",
      "    integrate\n",
      "\n",
      "\n",
      "c1: 0:  15%|███████████████████▌                                                                                                              | 30/200 [00:02<00:15, 11.17it/s]R[write to console]: \n",
      "Attaching package: ‘orthogonalsplinebasis’\n",
      "\n",
      "\n",
      "R[write to console]: The following object is masked from ‘package:stats’:\n",
      "\n",
      "    integrate\n",
      "\n",
      "\n",
      "R[write to console]: \n",
      "Attaching package: ‘orthogonalsplinebasis’\n",
      "\n",
      "\n",
      "R[write to console]: The following object is masked from ‘package:stats’:\n",
      "\n",
      "    integrate\n",
      "\n",
      "\n",
      "R[write to console]: \n",
      "Attaching package: ‘orthogonalsplinebasis’\n",
      "\n",
      "\n",
      "R[write to console]: The following object is masked from ‘package:stats’:\n",
      "\n",
      "    integrate\n",
      "\n",
      "\n",
      "c1: 0: 100%|█████████████████████████████████████████████████████████████████████████████████████████████████████████████████████████████████| 200/200 [00:03<00:00, 62.45it/s]\n"
     ]
    },
    {
     "name": "stdout",
     "output_type": "stream",
     "text": [
      "Save to /data/rajlab1/user_data/jin/MyResearch/HDF_infer/notebooks/simu_cmp2sinica/../../mypkg/../results/simu_settingcmpn3_0/opt_lamNsfixNlam_ress.pkl\n"
     ]
    }
   ],
   "source": [
    "cans = [1e-5, 3e-6, 1e-6, 3e-7, 1e-7, 3e-8, 1e-8, 3e-9, 1e-9, 3e-10, 0]\n",
    "all_coms = [(can, can) for can in cans]\n",
    "def _run_fn_test(cur_seed, cur_N, cur_lam):\n",
    "    from optimization.opt import logger as logger1\n",
    "    logger1.handlers[0].setLevel(logging.WARNING)\n",
    "    torch.set_default_dtype(torch.float64)\n",
    "    f1_name = f\"seed_{cur_seed:.0f}-lam_{cur_lam*1000:.0f}-N_{cur_N:.0f}_fit.pkl\"\n",
    "    res1 = load_pkl(cur_save_dir/f1_name, verbose=False);\n",
    "    res1.basis_mat = torch.tensor(res1.obt_bsp(np.linspace(0, 1, setting.data_gen_params.npts), \n",
    "                                  res1.bsp_params.N, res1.bsp_params.basis_ord)).to(torch.get_default_dtype());\n",
    "    res = []\n",
    "    for rtols in all_coms:\n",
    "        #re = res1.hypo_test(Cmat=Cmat, ts=None, is_simpler=False, hypo_params={\"svdinv_eps_Q\": rtols[0], \"svdinv_eps_Psi\": rtols[1]}) \n",
    "        re = res1.hypo_test(Cmat=Cmat, ts=None, is_simpler=is_simpler, hypo_params={\"svdinv_eps_Q\": rtols[0], \"svdinv_eps_Psi\": rtols[1]}) \n",
    "        res.append(re)\n",
    "\n",
    "    return res \n",
    "if (not ada_lam) and (not ada_N):\n",
    "    for c1 in c1s:\n",
    "        cur_save_dir = RES_ROOT/f\"simu_setting{setting.setting}_{c1*1000:.0f}\"\n",
    "        cur_N, cur_lam = opt_lamNs_fix[c1]\n",
    "        #cur_N, cur_lam = 4, 0.5\n",
    "        with Parallel(n_jobs=10) as parallel:\n",
    "            ress = parallel(delayed(_run_fn_test)(cur_seed=cur_seed, cur_N=cur_N, cur_lam=cur_lam) \n",
    "                            for cur_seed in tqdm(range(num_rep), desc=f\"c1: {c1*1000:.0f}\", total=num_rep))\n",
    "        ress = np.array(ress);\n",
    "        save_pkl(cur_save_dir/save_name, ress, is_force=1)\n",
    "else:\n",
    "    for c1 in c1s:\n",
    "        cur_save_dir = RES_ROOT/f\"simu_setting{setting.setting}_{c1*1000:.0f}\"\n",
    "        opt_lamNs =  opt_lamNss[c1]\n",
    "        with Parallel(n_jobs=10) as parallel:\n",
    "            ress = parallel(delayed(_run_fn_test)(cur_seed=cur_seed, cur_N=cur_N, cur_lam=cur_lam)\n",
    "                               for cur_seed, cur_N, cur_lam, _ in tqdm(opt_lamNs, desc=f\"c1: {c1*1000:.0f}\", total=len(opt_lamNs)))\n",
    "    \n",
    "        ress = np.array(ress);\n",
    "        save_pkl(cur_save_dir/save_name, ress, is_force=1)"
   ]
  },
  {
   "cell_type": "code",
   "execution_count": null,
   "id": "6b1fbd89-13c3-4fe2-9cbd-dd6baef8c59e",
   "metadata": {},
   "outputs": [],
   "source": []
  },
  {
   "cell_type": "code",
   "execution_count": 199,
   "id": "0eec1aec-5497-42c4-b829-a32cee581e54",
   "metadata": {
    "execution": {
     "iopub.execute_input": "2024-02-26T21:49:24.013280Z",
     "iopub.status.busy": "2024-02-26T21:49:24.012692Z",
     "iopub.status.idle": "2024-02-26T21:49:24.063613Z",
     "shell.execute_reply": "2024-02-26T21:49:24.062097Z",
     "shell.execute_reply.started": "2024-02-26T21:49:24.013232Z"
    },
    "scrolled": true,
    "tags": []
   },
   "outputs": [
    {
     "ename": "NameError",
     "evalue": "name 'opt_lamNss' is not defined",
     "output_type": "error",
     "traceback": [
      "\u001b[0;31m---------------------------------------------------------------------------\u001b[0m",
      "\u001b[0;31mNameError\u001b[0m                                 Traceback (most recent call last)",
      "\u001b[0;32m/tmp/ipykernel_13369/3010901204.py\u001b[0m in \u001b[0;36m<module>\u001b[0;34m\u001b[0m\n\u001b[0;32m----> 1\u001b[0;31m \u001b[0;32mfor\u001b[0m \u001b[0mk\u001b[0m\u001b[0;34m,\u001b[0m \u001b[0mv\u001b[0m \u001b[0;32min\u001b[0m \u001b[0mopt_lamNss\u001b[0m\u001b[0;34m.\u001b[0m\u001b[0mitems\u001b[0m\u001b[0;34m(\u001b[0m\u001b[0;34m)\u001b[0m\u001b[0;34m:\u001b[0m\u001b[0;34m\u001b[0m\u001b[0;34m\u001b[0m\u001b[0m\n\u001b[0m\u001b[1;32m      2\u001b[0m     \u001b[0mv\u001b[0m \u001b[0;34m=\u001b[0m \u001b[0mnp\u001b[0m\u001b[0;34m.\u001b[0m\u001b[0marray\u001b[0m\u001b[0;34m(\u001b[0m\u001b[0mv\u001b[0m\u001b[0;34m)\u001b[0m\u001b[0;34m[\u001b[0m\u001b[0;34m:\u001b[0m\u001b[0;34m,\u001b[0m \u001b[0;36m1\u001b[0m\u001b[0;34m:\u001b[0m\u001b[0;36m3\u001b[0m\u001b[0;34m]\u001b[0m\u001b[0;34m\u001b[0m\u001b[0;34m\u001b[0m\u001b[0m\n\u001b[1;32m      3\u001b[0m     \u001b[0mcombos\u001b[0m\u001b[0;34m,\u001b[0m \u001b[0mcts\u001b[0m \u001b[0;34m=\u001b[0m \u001b[0mnp\u001b[0m\u001b[0;34m.\u001b[0m\u001b[0munique\u001b[0m\u001b[0;34m(\u001b[0m\u001b[0mv\u001b[0m\u001b[0;34m,\u001b[0m \u001b[0maxis\u001b[0m\u001b[0;34m=\u001b[0m\u001b[0;36m0\u001b[0m\u001b[0;34m,\u001b[0m \u001b[0mreturn_counts\u001b[0m\u001b[0;34m=\u001b[0m\u001b[0;36m1\u001b[0m\u001b[0;34m)\u001b[0m\u001b[0;34m\u001b[0m\u001b[0;34m\u001b[0m\u001b[0m\n\u001b[1;32m      4\u001b[0m     \u001b[0mtres\u001b[0m \u001b[0;34m=\u001b[0m \u001b[0mnp\u001b[0m\u001b[0;34m.\u001b[0m\u001b[0mconcatenate\u001b[0m\u001b[0;34m(\u001b[0m\u001b[0;34m[\u001b[0m\u001b[0mcombos\u001b[0m\u001b[0;34m,\u001b[0m \u001b[0mcts\u001b[0m\u001b[0;34m.\u001b[0m\u001b[0mreshape\u001b[0m\u001b[0;34m(\u001b[0m\u001b[0;34m-\u001b[0m\u001b[0;36m1\u001b[0m\u001b[0;34m,\u001b[0m \u001b[0;36m1\u001b[0m\u001b[0;34m)\u001b[0m\u001b[0;34m]\u001b[0m\u001b[0;34m,\u001b[0m \u001b[0maxis\u001b[0m\u001b[0;34m=\u001b[0m\u001b[0;36m1\u001b[0m\u001b[0;34m)\u001b[0m\u001b[0;34m\u001b[0m\u001b[0;34m\u001b[0m\u001b[0m\n\u001b[1;32m      5\u001b[0m     \u001b[0mdisplay\u001b[0m\u001b[0;34m(\u001b[0m\u001b[0mpd\u001b[0m\u001b[0;34m.\u001b[0m\u001b[0mDataFrame\u001b[0m\u001b[0;34m(\u001b[0m\u001b[0mtres\u001b[0m\u001b[0;34m)\u001b[0m\u001b[0;34m)\u001b[0m\u001b[0;34m;\u001b[0m\u001b[0;34m\u001b[0m\u001b[0;34m\u001b[0m\u001b[0m\n",
      "\u001b[0;31mNameError\u001b[0m: name 'opt_lamNss' is not defined"
     ]
    }
   ],
   "source": [
    "for k, v in opt_lamNss.items():\n",
    "    v = np.array(v)[:, 1:3]\n",
    "    combos, cts = np.unique(v, axis=0, return_counts=1)\n",
    "    tres = np.concatenate([combos, cts.reshape(-1, 1)], axis=1)\n",
    "    display(pd.DataFrame(tres));"
   ]
  },
  {
   "cell_type": "code",
   "execution_count": null,
   "id": "4fb91ff8-5516-4607-b597-a84764e17df4",
   "metadata": {},
   "outputs": [],
   "source": []
  },
  {
   "cell_type": "markdown",
   "id": "d30d4a08-5de2-4412-8541-5dd78612ed5c",
   "metadata": {},
   "source": [
    "## Find Q and Psi rtol"
   ]
  },
  {
   "cell_type": "code",
   "execution_count": 95,
   "id": "d5348b9e-0fe6-4f79-9b91-d2ab166c527d",
   "metadata": {
    "execution": {
     "iopub.execute_input": "2024-02-27T01:15:50.047586Z",
     "iopub.status.busy": "2024-02-27T01:15:50.046958Z",
     "iopub.status.idle": "2024-02-27T01:15:50.098411Z",
     "shell.execute_reply": "2024-02-27T01:15:50.097134Z",
     "shell.execute_reply.started": "2024-02-27T01:15:50.047535Z"
    },
    "tags": []
   },
   "outputs": [],
   "source": [
    "def outlier_det(T_vs, ratio_tol=0.05):\n",
    "    \"\"\"\n",
    "    Detects outliers in a given dataset using the interquartile range (IQR) method.\n",
    "\n",
    "    Parameters:\n",
    "    - T_vs (array-like): The input dataset.\n",
    "    - ratio_tol (float, optional): The tolerance ratio for outlier removal. Default is 0.05.\n",
    "\n",
    "    Returns:\n",
    "    - kpidx (ndarray): A boolean array indicating whether each data point is an outlier or not.\n",
    "    \"\"\"\n",
    "    Q1, Q3 = np.quantile(T_vs, [0.25, 0.75])\n",
    "    IQR = Q3 - Q1\n",
    "    upbd = Q3 + 1.5*IQR\n",
    "    lowbd = Q1 - 1.5*IQR\n",
    "    kpidx = np.bitwise_and(T_vs>=lowbd, T_vs<=upbd)\n",
    "    \n",
    "    if np.mean(kpidx)+ ratio_tol < 1:\n",
    "        out_part = np.stack([T_vs - upbd, lowbd - T_vs]).T.max(axis=1);\n",
    "        kpidx = np.ones(len(T_vs), dtype=bool)\n",
    "        kpidx[np.argsort(-out_part)[:int(len(T_vs)*ratio_tol)]] = False\n",
    "    return kpidx"
   ]
  },
  {
   "cell_type": "code",
   "execution_count": 96,
   "id": "7039fa92-32c6-42f2-8c9b-53992a05e920",
   "metadata": {
    "execution": {
     "iopub.execute_input": "2024-02-27T01:15:51.737689Z",
     "iopub.status.busy": "2024-02-27T01:15:51.737106Z",
     "iopub.status.idle": "2024-02-27T01:15:51.936945Z",
     "shell.execute_reply": "2024-02-27T01:15:51.935964Z",
     "shell.execute_reply.started": "2024-02-27T01:15:51.737641Z"
    },
    "tags": []
   },
   "outputs": [
    {
     "name": "stdout",
     "output_type": "stream",
     "text": [
      "Load file /data/rajlab1/user_data/jin/MyResearch/HDF_infer/notebooks/simu_cmp2sinica/../../mypkg/../results/simu_settingcmpn3_0/opt_lamNsfixNlam_ress.pkl\n"
     ]
    },
    {
     "data": {
      "text/html": [
       "<div>\n",
       "<style scoped>\n",
       "    .dataframe tbody tr th:only-of-type {\n",
       "        vertical-align: middle;\n",
       "    }\n",
       "\n",
       "    .dataframe tbody tr th {\n",
       "        vertical-align: top;\n",
       "    }\n",
       "\n",
       "    .dataframe thead th {\n",
       "        text-align: right;\n",
       "    }\n",
       "</style>\n",
       "<table border=\"1\" class=\"dataframe\">\n",
       "  <thead>\n",
       "    <tr style=\"text-align: right;\">\n",
       "      <th></th>\n",
       "      <th>0.0</th>\n",
       "      <th>Q</th>\n",
       "      <th>Psi</th>\n",
       "    </tr>\n",
       "  </thead>\n",
       "  <tbody>\n",
       "    <tr>\n",
       "      <th>0</th>\n",
       "      <td>0.08</td>\n",
       "      <td>1.000000e-05</td>\n",
       "      <td>1.000000e-05</td>\n",
       "    </tr>\n",
       "    <tr>\n",
       "      <th>1</th>\n",
       "      <td>0.08</td>\n",
       "      <td>3.000000e-06</td>\n",
       "      <td>3.000000e-06</td>\n",
       "    </tr>\n",
       "    <tr>\n",
       "      <th>2</th>\n",
       "      <td>0.08</td>\n",
       "      <td>1.000000e-06</td>\n",
       "      <td>1.000000e-06</td>\n",
       "    </tr>\n",
       "    <tr>\n",
       "      <th>3</th>\n",
       "      <td>0.08</td>\n",
       "      <td>3.000000e-07</td>\n",
       "      <td>3.000000e-07</td>\n",
       "    </tr>\n",
       "    <tr>\n",
       "      <th>4</th>\n",
       "      <td>0.08</td>\n",
       "      <td>1.000000e-07</td>\n",
       "      <td>1.000000e-07</td>\n",
       "    </tr>\n",
       "    <tr>\n",
       "      <th>5</th>\n",
       "      <td>0.08</td>\n",
       "      <td>3.000000e-08</td>\n",
       "      <td>3.000000e-08</td>\n",
       "    </tr>\n",
       "    <tr>\n",
       "      <th>6</th>\n",
       "      <td>0.08</td>\n",
       "      <td>1.000000e-08</td>\n",
       "      <td>1.000000e-08</td>\n",
       "    </tr>\n",
       "    <tr>\n",
       "      <th>7</th>\n",
       "      <td>0.08</td>\n",
       "      <td>3.000000e-09</td>\n",
       "      <td>3.000000e-09</td>\n",
       "    </tr>\n",
       "    <tr>\n",
       "      <th>8</th>\n",
       "      <td>0.08</td>\n",
       "      <td>1.000000e-09</td>\n",
       "      <td>1.000000e-09</td>\n",
       "    </tr>\n",
       "    <tr>\n",
       "      <th>9</th>\n",
       "      <td>0.08</td>\n",
       "      <td>3.000000e-10</td>\n",
       "      <td>3.000000e-10</td>\n",
       "    </tr>\n",
       "    <tr>\n",
       "      <th>10</th>\n",
       "      <td>0.08</td>\n",
       "      <td>0.000000e+00</td>\n",
       "      <td>0.000000e+00</td>\n",
       "    </tr>\n",
       "  </tbody>\n",
       "</table>\n",
       "</div>"
      ],
      "text/plain": [
       "     0.0             Q           Psi\n",
       "0   0.08  1.000000e-05  1.000000e-05\n",
       "1   0.08  3.000000e-06  3.000000e-06\n",
       "2   0.08  1.000000e-06  1.000000e-06\n",
       "3   0.08  3.000000e-07  3.000000e-07\n",
       "4   0.08  1.000000e-07  1.000000e-07\n",
       "5   0.08  3.000000e-08  3.000000e-08\n",
       "6   0.08  1.000000e-08  1.000000e-08\n",
       "7   0.08  3.000000e-09  3.000000e-09\n",
       "8   0.08  1.000000e-09  1.000000e-09\n",
       "9   0.08  3.000000e-10  3.000000e-10\n",
       "10  0.08  0.000000e+00  0.000000e+00"
      ]
     },
     "execution_count": 96,
     "metadata": {},
     "output_type": "execute_result"
    }
   ],
   "source": [
    "import pandas as pd\n",
    "ress_dict = {}\n",
    "for c1 in c1s:\n",
    "    cur_save_dir = RES_ROOT/f\"simu_setting{setting.setting}_{c1*1000:.0f}\"\n",
    "    ress = load_pkl(cur_save_dir/save_name);\n",
    "    ress_dict[c1] = ress\n",
    "    \n",
    "cans = [1e-5, 3e-6, 1e-6, 3e-7, 1e-7, 3e-8, 1e-8, 3e-9, 1e-9, 3e-10, 0]\n",
    "\n",
    "all_coms = np.array(list(itertools.product(cans, cans)));\n",
    "all_coms = [(can, can) for can in cans]\n",
    "kpidxs = []\n",
    "\n",
    "df = []\n",
    "for c1 in c1s:\n",
    "    ress = ress_dict[c1]\n",
    "    pvals = np.array([[re[\"pval\"] for re in res] for res in ress]);\n",
    "    T_vss = np.array([[re[\"T_v\"] for re in res] for res in ress]);\n",
    "    \n",
    "    kpidxss = [outlier_det(T_vss[:, can_ix], 0.00) for can_ix in range(T_vss.shape[1])];\n",
    "    if True:\n",
    "        vec_pv = np.array([np.mean(pvals[:, can_ix][kpidxss[can_ix]]<0.05) for can_ix in range(len(cans))])\n",
    "    else:\n",
    "        vec_pv = np.array([np.mean(pvals[:, can_ix]<0.05) for can_ix in range(len(cans))])\n",
    "    #vec_pv = np.mean(pvals<0.05, axis=0)\n",
    "    df.append(vec_pv[:, np.newaxis])\n",
    "df.append(all_coms) \n",
    "df = np.hstack(df)\n",
    "df = pd.DataFrame(df) \n",
    "df.columns = c1s+[\"Q\", \"Psi\"]\n",
    "df"
   ]
  },
  {
   "cell_type": "code",
   "execution_count": 99,
   "id": "2d4d9be9-bd4a-4b3a-ae6c-28855e983c3a",
   "metadata": {
    "execution": {
     "iopub.execute_input": "2024-02-27T01:21:23.507161Z",
     "iopub.status.busy": "2024-02-27T01:21:23.506506Z",
     "iopub.status.idle": "2024-02-27T01:21:23.566248Z",
     "shell.execute_reply": "2024-02-27T01:21:23.565631Z",
     "shell.execute_reply.started": "2024-02-27T01:21:23.507112Z"
    },
    "tags": []
   },
   "outputs": [
    {
     "data": {
      "text/plain": [
       "array([16.45330394, 16.38513692, 16.38113988, 16.38113988, 16.38113988,\n",
       "       16.38113988, 16.38113988, 16.38113988, 16.38113988, 16.38113988,\n",
       "       16.31152974])"
      ]
     },
     "execution_count": 99,
     "metadata": {},
     "output_type": "execute_result"
    }
   ],
   "source": [
    "c1 = 0.0\n",
    "ress = ress_dict[c1]\n",
    "pvals = np.array([[re[\"pval\"] for re in res] for res in ress]);\n",
    "T_vss = np.array([[re[\"T_v\"] for re in res] for res in ress]);\n",
    "np.mean(T_vss, axis=0)"
   ]
  },
  {
   "cell_type": "code",
   "execution_count": 160,
   "id": "6f4cece6-1723-486c-ab9b-e8cb63889580",
   "metadata": {
    "execution": {
     "iopub.execute_input": "2024-02-25T20:40:08.041419Z",
     "iopub.status.busy": "2024-02-25T20:40:08.040716Z",
     "iopub.status.idle": "2024-02-25T20:40:08.081414Z",
     "shell.execute_reply": "2024-02-25T20:40:08.080429Z",
     "shell.execute_reply.started": "2024-02-25T20:40:08.041370Z"
    },
    "tags": []
   },
   "outputs": [],
   "source": [
    "c1 = 0.0\n",
    "cur_save_dir = RES_ROOT/f\"simu_settingcmpns1_{0.4*1000:.0f}\"\n",
    "cur_N = 10\n",
    "cur_lam = 0.9\n",
    "def _run_fn_test(cur_seed):\n",
    "        from optimization.opt import logger as logger1\n",
    "        logger1.handlers[0].setLevel(logging.WARNING)\n",
    "        torch.set_default_dtype(torch.float64)\n",
    "        f1_name = f\"seed_{cur_seed:.0f}-lam_{cur_lam*1000:.0f}-N_{cur_N:.0f}_fit.pkl\"\n",
    "        res1 = load_pkl(cur_save_dir/f1_name, verbose=False);\n",
    "        #res1.basis_mat = torch.tensor(res1.obt_bsp(np.linspace(0, 1, setting.data_gen_params.npts), \n",
    "        #                              res1.bsp_params.N, res1.bsp_params.basis_ord)).to(torch.get_default_dtype());\n",
    "        #res = res1.hypo_test(Cmat=Cmat, ts=None, is_simpler=False, \n",
    "        #                     hypo_params={\"svdinv_eps_Q\": 1e-7, \"svdinv_eps_Psi\": 1e-7}) \n",
    "    \n",
    "        return res1 "
   ]
  },
  {
   "cell_type": "code",
   "execution_count": 72,
   "id": "2d1bfd99-9fa3-4a70-8250-f7ec5fe51d68",
   "metadata": {
    "execution": {
     "iopub.execute_input": "2024-02-21T18:10:38.243319Z",
     "iopub.status.busy": "2024-02-21T18:10:38.242653Z",
     "iopub.status.idle": "2024-02-21T18:10:38.283086Z",
     "shell.execute_reply": "2024-02-21T18:10:38.282496Z",
     "shell.execute_reply.started": "2024-02-21T18:10:38.243272Z"
    },
    "tags": []
   },
   "outputs": [
    {
     "data": {
      "text/plain": [
       "<optimization.opt.HDFOpt at 0x7f59600265b0>"
      ]
     },
     "execution_count": 72,
     "metadata": {},
     "output_type": "execute_result"
    }
   ],
   "source": [
    "res = _run_fn_test(0)"
   ]
  },
  {
   "cell_type": "code",
   "execution_count": 73,
   "id": "3fb5282d-fbd3-45f9-a374-5783f59ab2a1",
   "metadata": {
    "execution": {
     "iopub.execute_input": "2024-02-21T18:10:38.603656Z",
     "iopub.status.busy": "2024-02-21T18:10:38.603068Z",
     "iopub.status.idle": "2024-02-21T18:10:38.643648Z",
     "shell.execute_reply": "2024-02-21T18:10:38.642925Z",
     "shell.execute_reply.started": "2024-02-21T18:10:38.603608Z"
    },
    "tags": []
   },
   "outputs": [
    {
     "data": {
      "text/plain": [
       "tensor([0.7034, 0.0000, 0.0000, 0.1218, 0.0000, 0.0000, 0.0000, 0.0000, 0.0000,\n",
       "        0.0000, 0.0000, 0.0000, 0.0000, 0.0000, 0.0000, 0.0000, 0.0000, 0.0000,\n",
       "        0.0000, 0.0000, 0.0000, 0.0107, 0.0000, 0.0000, 0.0000, 0.0000, 0.0000,\n",
       "        0.0000, 0.0000, 0.1118, 0.0000, 0.0355, 0.0000, 0.0000, 0.0000, 0.0000,\n",
       "        0.0000, 0.0000, 0.0000, 0.0791, 0.6702])"
      ]
     },
     "execution_count": 73,
     "metadata": {},
     "output_type": "execute_result"
    }
   ],
   "source": [
    "torch.norm(res.est_Gam, dim=0)"
   ]
  },
  {
   "cell_type": "code",
   "execution_count": 74,
   "id": "6e87accf-9284-4892-b9f6-6596ad8ec9cf",
   "metadata": {
    "execution": {
     "iopub.execute_input": "2024-02-21T18:11:04.105963Z",
     "iopub.status.busy": "2024-02-21T18:11:04.105315Z",
     "iopub.status.idle": "2024-02-21T18:11:05.223695Z",
     "shell.execute_reply": "2024-02-21T18:11:05.222293Z",
     "shell.execute_reply.started": "2024-02-21T18:11:04.105898Z"
    },
    "tags": []
   },
   "outputs": [],
   "source": [
    "ress = []\n",
    "for rep_ix in range(200):\n",
    "    res = _run_fn_test(rep_ix)\n",
    "    ress.append(res.keep_idxs)"
   ]
  },
  {
   "cell_type": "code",
   "execution_count": 75,
   "id": "c94d33eb-1cdd-4035-b8b0-2fef3cd0be8c",
   "metadata": {
    "execution": {
     "iopub.execute_input": "2024-02-21T18:11:10.845579Z",
     "iopub.status.busy": "2024-02-21T18:11:10.844914Z",
     "iopub.status.idle": "2024-02-21T18:11:10.969673Z",
     "shell.execute_reply": "2024-02-21T18:11:10.968504Z",
     "shell.execute_reply.started": "2024-02-21T18:11:10.845527Z"
    },
    "tags": []
   },
   "outputs": [
    {
     "data": {
      "text/plain": [
       "0"
      ]
     },
     "execution_count": 75,
     "metadata": {},
     "output_type": "execute_result"
    }
   ],
   "source": [
    "np.sum(np.array(ress)[:, -1]!=199)"
   ]
  },
  {
   "cell_type": "code",
   "execution_count": null,
   "id": "2b404df1-7735-4348-b212-485417ab16e4",
   "metadata": {},
   "outputs": [],
   "source": [
    "\n"
   ]
  },
  {
   "cell_type": "markdown",
   "id": "44b4c5a7-576b-4c4a-ab86-f29b75309282",
   "metadata": {},
   "source": [
    "# Sinica results"
   ]
  },
  {
   "cell_type": "code",
   "execution_count": null,
   "id": "10322ec2-29e6-488f-aaa5-220af5cbdff9",
   "metadata": {},
   "outputs": [],
   "source": []
  },
  {
   "cell_type": "code",
   "execution_count": 50,
   "id": "09440e25-d64f-44e4-b45a-151c20418205",
   "metadata": {
    "execution": {
     "iopub.execute_input": "2024-02-28T19:04:50.054244Z",
     "iopub.status.busy": "2024-02-28T19:04:50.053609Z",
     "iopub.status.idle": "2024-02-28T19:04:50.193545Z",
     "shell.execute_reply": "2024-02-28T19:04:50.192350Z",
     "shell.execute_reply.started": "2024-02-28T19:04:50.054197Z"
    },
    "tags": []
   },
   "outputs": [
    {
     "data": {
      "text/plain": [
       "PosixPath('/data/rajlab1/user_data/jin/MyResearch/HDF_infer/notebooks/simu_cmp2sinica/../../mypkg/../results/sinica_results/simu_settingcmpn2b')"
      ]
     },
     "execution_count": 50,
     "metadata": {},
     "output_type": "execute_result"
    }
   ],
   "source": [
    "c1s = [0, 0.1, 0.2, 0.4]\n",
    "sinica_dir = RES_ROOT/f\"sinica_results/simu_settingcmpn2b\";\n",
    "#sinica_dir = RES_ROOT/f\"sinica_results/simu_setting{setting.setting}\";\n",
    "sinica_dir"
   ]
  },
  {
   "cell_type": "code",
   "execution_count": 51,
   "id": "4cc223fd-f076-4e33-b641-fc49dd331b2c",
   "metadata": {
    "execution": {
     "iopub.execute_input": "2024-02-28T19:04:50.549090Z",
     "iopub.status.busy": "2024-02-28T19:04:50.548521Z",
     "iopub.status.idle": "2024-02-28T19:05:43.740205Z",
     "shell.execute_reply": "2024-02-28T19:05:43.738873Z",
     "shell.execute_reply.started": "2024-02-28T19:04:50.549044Z"
    },
    "tags": []
   },
   "outputs": [
    {
     "name": "stderr",
     "output_type": "stream",
     "text": [
      "0: 100%|█████████████████████████████████████████████████████████████████████| 1000/1000 [00:16<00:00, 58.84it/s]\n"
     ]
    },
    {
     "name": "stdout",
     "output_type": "stream",
     "text": [
      "Save to /data/rajlab1/user_data/jin/MyResearch/HDF_infer/notebooks/simu_cmp2sinica/../../mypkg/../results/sinica_results/simu_settingcmpn2b/c1_0_all_res.pkl\n"
     ]
    },
    {
     "name": "stderr",
     "output_type": "stream",
     "text": [
      "0.1: 100%|███████████████████████████████████████████████████████████████████| 1000/1000 [00:18<00:00, 53.35it/s]\n"
     ]
    },
    {
     "name": "stdout",
     "output_type": "stream",
     "text": [
      "Save to /data/rajlab1/user_data/jin/MyResearch/HDF_infer/notebooks/simu_cmp2sinica/../../mypkg/../results/sinica_results/simu_settingcmpn2b/c1_100_all_res.pkl\n"
     ]
    },
    {
     "name": "stderr",
     "output_type": "stream",
     "text": [
      "0.2: 100%|███████████████████████████████████████████████████████████████████| 1000/1000 [00:17<00:00, 58.81it/s]\n"
     ]
    },
    {
     "name": "stdout",
     "output_type": "stream",
     "text": [
      "Save to /data/rajlab1/user_data/jin/MyResearch/HDF_infer/notebooks/simu_cmp2sinica/../../mypkg/../results/sinica_results/simu_settingcmpn2b/c1_200_all_res.pkl\n"
     ]
    }
   ],
   "source": [
    "from collections import defaultdict as ddict\n",
    "keys = [\"pval\", \"TT\", \"CV\", \"gopt_lam\", \"gopt_lam_d\", \"gopt_sn\"]\n",
    "for c1 in c1s:\n",
    "    all_res = sinica_dir/f\"c1_{c1*1000:.0f}_all_res.pkl\";\n",
    "    if not all_res.exists():\n",
    "        all_fils = list(sinica_dir.glob(f\"c1_{c1*1000:.0f}_*.mat\"));\n",
    "        if len(all_fils) == 0:\n",
    "            continue\n",
    "        sorted_all_fils = sorted(all_fils, key=lambda x: int(x.stem.split(\"_\")[3]));\n",
    "        saved_res = ddict(list)\n",
    "        for fil in tqdm(sorted_all_fils, desc=f\"{c1}\"):\n",
    "            res = loadmat(fil);\n",
    "            for ky in keys:\n",
    "                saved_res[ky].append(res[ky][0][0])\n",
    "        save_pkl(all_res, saved_res)\n",
    "    "
   ]
  },
  {
   "cell_type": "code",
   "execution_count": 52,
   "id": "18897b6c-ade3-4aa0-97fc-eeb535ba8304",
   "metadata": {
    "execution": {
     "iopub.execute_input": "2024-02-28T19:05:54.793854Z",
     "iopub.status.busy": "2024-02-28T19:05:54.793232Z",
     "iopub.status.idle": "2024-02-28T19:05:55.080022Z",
     "shell.execute_reply": "2024-02-28T19:05:55.079422Z",
     "shell.execute_reply.started": "2024-02-28T19:05:54.793806Z"
    },
    "tags": []
   },
   "outputs": [
    {
     "name": "stdout",
     "output_type": "stream",
     "text": [
      "The power under c1=0.000 with 1000 reps is 0.019.\n",
      "The power under c1=0.100 with 1000 reps is 0.027.\n",
      "The power under c1=0.200 with 1000 reps is 0.020.\n"
     ]
    },
    {
     "ename": "FileNotFoundError",
     "evalue": "[Errno 2] No such file or directory: '/data/rajlab1/user_data/jin/MyResearch/HDF_infer/notebooks/simu_cmp2sinica/../../mypkg/../results/sinica_results/simu_settingcmpn2b/c1_400_all_res.pkl'",
     "output_type": "error",
     "traceback": [
      "\u001b[0;31m---------------------------------------------------------------------------\u001b[0m",
      "\u001b[0;31mFileNotFoundError\u001b[0m                         Traceback (most recent call last)",
      "\u001b[0;32m/tmp/ipykernel_67530/1624463640.py\u001b[0m in \u001b[0;36m<module>\u001b[0;34m\u001b[0m\n\u001b[1;32m      1\u001b[0m \u001b[0mpvals_sinica\u001b[0m \u001b[0;34m=\u001b[0m \u001b[0;34m[\u001b[0m\u001b[0;34m]\u001b[0m\u001b[0;34m\u001b[0m\u001b[0;34m\u001b[0m\u001b[0m\n\u001b[1;32m      2\u001b[0m \u001b[0;32mfor\u001b[0m \u001b[0mc1\u001b[0m \u001b[0;32min\u001b[0m \u001b[0mc1s\u001b[0m\u001b[0;34m:\u001b[0m\u001b[0;34m\u001b[0m\u001b[0;34m\u001b[0m\u001b[0m\n\u001b[0;32m----> 3\u001b[0;31m     \u001b[0msaved_res\u001b[0m \u001b[0;34m=\u001b[0m \u001b[0mload_pkl\u001b[0m\u001b[0;34m(\u001b[0m\u001b[0msinica_dir\u001b[0m\u001b[0;34m/\u001b[0m\u001b[0;34mf\"c1_{c1*1000:.0f}_all_res.pkl\"\u001b[0m\u001b[0;34m,\u001b[0m \u001b[0mverbose\u001b[0m\u001b[0;34m=\u001b[0m\u001b[0;32mFalse\u001b[0m\u001b[0;34m)\u001b[0m\u001b[0;34m\u001b[0m\u001b[0;34m\u001b[0m\u001b[0m\n\u001b[0m\u001b[1;32m      4\u001b[0m \u001b[0;34m\u001b[0m\u001b[0m\n\u001b[1;32m      5\u001b[0m     \u001b[0msini_pvals\u001b[0m \u001b[0;34m=\u001b[0m \u001b[0mnp\u001b[0m\u001b[0;34m.\u001b[0m\u001b[0marray\u001b[0m\u001b[0;34m(\u001b[0m\u001b[0msaved_res\u001b[0m\u001b[0;34m[\u001b[0m\u001b[0;34m\"pval\"\u001b[0m\u001b[0;34m]\u001b[0m\u001b[0;34m)\u001b[0m\u001b[0;34m;\u001b[0m\u001b[0;34m\u001b[0m\u001b[0;34m\u001b[0m\u001b[0m\n",
      "\u001b[0;32m/data/rajlab1/user_data/jin/MyResearch/HDF_infer/notebooks/simu_cmp2sinica/../../mypkg/utils/misc.py\u001b[0m in \u001b[0;36mload_pkl\u001b[0;34m(fil, verbose)\u001b[0m\n\u001b[1;32m    157\u001b[0m     \u001b[0;32mif\u001b[0m \u001b[0mverbose\u001b[0m\u001b[0;34m:\u001b[0m\u001b[0;34m\u001b[0m\u001b[0;34m\u001b[0m\u001b[0m\n\u001b[1;32m    158\u001b[0m         \u001b[0mprint\u001b[0m\u001b[0;34m(\u001b[0m\u001b[0;34mf\"Load file {fil}\"\u001b[0m\u001b[0;34m)\u001b[0m\u001b[0;34m\u001b[0m\u001b[0;34m\u001b[0m\u001b[0m\n\u001b[0;32m--> 159\u001b[0;31m     \u001b[0;32mwith\u001b[0m \u001b[0mopen\u001b[0m\u001b[0;34m(\u001b[0m\u001b[0mfil\u001b[0m\u001b[0;34m,\u001b[0m \u001b[0;34m\"rb\"\u001b[0m\u001b[0;34m)\u001b[0m \u001b[0;32mas\u001b[0m \u001b[0mf\u001b[0m\u001b[0;34m:\u001b[0m\u001b[0;34m\u001b[0m\u001b[0;34m\u001b[0m\u001b[0m\n\u001b[0m\u001b[1;32m    160\u001b[0m         \u001b[0mresult\u001b[0m \u001b[0;34m=\u001b[0m \u001b[0mpickle\u001b[0m\u001b[0;34m.\u001b[0m\u001b[0mload\u001b[0m\u001b[0;34m(\u001b[0m\u001b[0mf\u001b[0m\u001b[0;34m)\u001b[0m\u001b[0;34m\u001b[0m\u001b[0;34m\u001b[0m\u001b[0m\n\u001b[1;32m    161\u001b[0m     \u001b[0;32mreturn\u001b[0m \u001b[0mresult\u001b[0m\u001b[0;34m\u001b[0m\u001b[0;34m\u001b[0m\u001b[0m\n",
      "\u001b[0;31mFileNotFoundError\u001b[0m: [Errno 2] No such file or directory: '/data/rajlab1/user_data/jin/MyResearch/HDF_infer/notebooks/simu_cmp2sinica/../../mypkg/../results/sinica_results/simu_settingcmpn2b/c1_400_all_res.pkl'"
     ]
    }
   ],
   "source": [
    "pvals_sinica = []\n",
    "for c1 in c1s:\n",
    "    saved_res = load_pkl(sinica_dir/f\"c1_{c1*1000:.0f}_all_res.pkl\", verbose=False)\n",
    "    \n",
    "    sini_pvals = np.array(saved_res[\"pval\"]);\n",
    "    pvals_sinica.append(np.mean(sini_pvals < 0.05))\n",
    "    print(f\"The power under c1={c1:.3f} with {len(sini_pvals)} reps \" \n",
    "          f\"is {np.mean(sini_pvals < 0.05):.3f}.\")\n",
    "    "
   ]
  },
  {
   "cell_type": "code",
   "execution_count": null,
   "id": "ac2f1d9d-9415-4b5c-be2c-129a5dc45ae6",
   "metadata": {},
   "outputs": [],
   "source": []
  }
 ],
 "metadata": {
  "kernelspec": {
   "display_name": "Python 3 (ipykernel)",
   "language": "python",
   "name": "python3"
  },
  "language_info": {
   "codemirror_mode": {
    "name": "ipython",
    "version": 3
   },
   "file_extension": ".py",
   "mimetype": "text/x-python",
   "name": "python",
   "nbconvert_exporter": "python",
   "pygments_lexer": "ipython3",
   "version": "3.9.7"
  },
  "toc": {
   "base_numbering": 1,
   "nav_menu": {},
   "number_sections": true,
   "sideBar": true,
   "skip_h1_title": false,
   "title_cell": "Table of Contents",
   "title_sidebar": "Contents",
   "toc_cell": false,
   "toc_position": {
    "height": "calc(100% - 180px)",
    "left": "10px",
    "top": "150px",
    "width": "165px"
   },
   "toc_section_display": true,
   "toc_window_display": true
  },
  "toc-autonumbering": true
 },
 "nbformat": 4,
 "nbformat_minor": 5
}
