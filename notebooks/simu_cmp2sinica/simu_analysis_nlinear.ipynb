{
 "cells": [
  {
   "cell_type": "markdown",
   "id": "942a9fb0-de26-4619-9f8f-1d1ad87c308f",
   "metadata": {},
   "source": [
    "Analysis the results under new code"
   ]
  },
  {
   "cell_type": "code",
   "execution_count": 1,
   "id": "02ae980e",
   "metadata": {
    "ExecuteTime": {
     "end_time": "2023-05-31T19:57:23.490285Z",
     "start_time": "2023-05-31T19:57:23.481769Z"
    },
    "execution": {
     "iopub.execute_input": "2024-02-16T21:18:34.718343Z",
     "iopub.status.busy": "2024-02-16T21:18:34.717676Z",
     "iopub.status.idle": "2024-02-16T21:18:34.734524Z",
     "shell.execute_reply": "2024-02-16T21:18:34.732733Z",
     "shell.execute_reply.started": "2024-02-16T21:18:34.718293Z"
    },
    "tags": []
   },
   "outputs": [],
   "source": [
    "import sys\n",
    "sys.path.append(\"../../mypkg\")"
   ]
  },
  {
   "cell_type": "code",
   "execution_count": 2,
   "id": "023df78a",
   "metadata": {
    "ExecuteTime": {
     "end_time": "2023-05-31T19:57:34.238839Z",
     "start_time": "2023-05-31T19:57:23.494053Z"
    },
    "execution": {
     "iopub.execute_input": "2024-02-16T21:18:34.736755Z",
     "iopub.status.busy": "2024-02-16T21:18:34.736158Z",
     "iopub.status.idle": "2024-02-16T21:18:36.987360Z",
     "shell.execute_reply": "2024-02-16T21:18:36.986842Z",
     "shell.execute_reply.started": "2024-02-16T21:18:34.736710Z"
    },
    "tags": []
   },
   "outputs": [],
   "source": [
    "import numpy as np\n",
    "import torch\n",
    "import matplotlib.pyplot as plt\n",
    "import seaborn as sns\n",
    "from scipy.stats import pearsonr\n",
    "from numbers import Number\n",
    "\n",
    "from joblib import Parallel, delayed\n",
    "\n",
    "from easydict import EasyDict as edict\n",
    "from tqdm import trange, tqdm\n",
    "from scipy.io import loadmat\n",
    "from pprint import pprint\n",
    "import itertools\n",
    "from scipy.stats import chi2\n",
    "import pandas as pd\n",
    "from IPython.display import display\n"
   ]
  },
  {
   "cell_type": "code",
   "execution_count": 3,
   "id": "b9d3cbc6-1ac5-47d6-a0d1-bcbc0be9267e",
   "metadata": {
    "execution": {
     "iopub.execute_input": "2024-02-16T21:18:36.988791Z",
     "iopub.status.busy": "2024-02-16T21:18:36.988454Z",
     "iopub.status.idle": "2024-02-16T21:18:37.008838Z",
     "shell.execute_reply": "2024-02-16T21:18:37.008431Z",
     "shell.execute_reply.started": "2024-02-16T21:18:36.988776Z"
    },
    "tags": []
   },
   "outputs": [],
   "source": [
    "# This will reload all imports as soon as the code changes\n",
    "%load_ext autoreload\n",
    "%autoreload 2"
   ]
  },
  {
   "cell_type": "code",
   "execution_count": 46,
   "id": "b0aa91b2",
   "metadata": {
    "ExecuteTime": {
     "end_time": "2023-05-31T19:57:59.558229Z",
     "start_time": "2023-05-31T19:57:34.292612Z"
    },
    "execution": {
     "iopub.execute_input": "2024-02-16T21:24:54.757677Z",
     "iopub.status.busy": "2024-02-16T21:24:54.756883Z",
     "iopub.status.idle": "2024-02-16T21:24:54.886485Z",
     "shell.execute_reply": "2024-02-16T21:24:54.885296Z",
     "shell.execute_reply.started": "2024-02-16T21:24:54.757626Z"
    },
    "tags": []
   },
   "outputs": [],
   "source": [
    "from constants import DATA_ROOT, RES_ROOT, FIG_ROOT, MIDRES_ROOT\n",
    "\n",
    "from utils.matrix import col_vec_fn, col_vec2mat_fn, conju_grad, svd_inverse, cholesky_inv\n",
    "from utils.misc import save_pkl, load_pkl, get_local_min_idxs\n",
    "from scenarios.simu_linear_psd import settings\n",
    "from scenarios.simu_linear_sinica import settings as settingss\n",
    "\n"
   ]
  },
  {
   "cell_type": "code",
   "execution_count": 47,
   "id": "03e8580b-15e9-4a93-8010-aa2d650ffdf6",
   "metadata": {
    "execution": {
     "iopub.execute_input": "2024-02-16T21:24:55.726820Z",
     "iopub.status.busy": "2024-02-16T21:24:55.726185Z",
     "iopub.status.idle": "2024-02-16T21:24:55.767530Z",
     "shell.execute_reply": "2024-02-16T21:24:55.766361Z",
     "shell.execute_reply.started": "2024-02-16T21:24:55.726773Z"
    },
    "tags": []
   },
   "outputs": [],
   "source": [
    "import logging\n",
    "\n",
    "logger = logging.getLogger(\"tmp\")\n",
    "logger.setLevel(logging.DEBUG)\n",
    "formatter = logging.Formatter('%(asctime)s - %(name)s - %(levelname)s - %(message)s')\n",
    "\n",
    "ch = logging.StreamHandler() # for console. \n",
    "ch.setLevel(logging.DEBUG)\n",
    "ch.setFormatter(formatter)\n",
    "\n",
    "logger.addHandler(ch)"
   ]
  },
  {
   "cell_type": "code",
   "execution_count": 48,
   "id": "d29891f5-2fe1-428f-9d0d-4991cd3bfc58",
   "metadata": {
    "execution": {
     "iopub.execute_input": "2024-02-16T21:24:55.964337Z",
     "iopub.status.busy": "2024-02-16T21:24:55.963685Z",
     "iopub.status.idle": "2024-02-16T21:24:56.001734Z",
     "shell.execute_reply": "2024-02-16T21:24:56.000638Z",
     "shell.execute_reply.started": "2024-02-16T21:24:55.964289Z"
    },
    "tags": []
   },
   "outputs": [],
   "source": [
    "from optimization.opt import logger as logger1\n",
    "logger1.handlers[0].setLevel(logging.WARNING)"
   ]
  },
  {
   "cell_type": "code",
   "execution_count": 49,
   "id": "fe0a4a46",
   "metadata": {
    "ExecuteTime": {
     "end_time": "2023-05-31T19:57:59.621784Z",
     "start_time": "2023-05-31T19:57:59.568097Z"
    },
    "execution": {
     "iopub.execute_input": "2024-02-16T21:24:56.219974Z",
     "iopub.status.busy": "2024-02-16T21:24:56.219229Z",
     "iopub.status.idle": "2024-02-16T21:24:56.261896Z",
     "shell.execute_reply": "2024-02-16T21:24:56.261190Z",
     "shell.execute_reply.started": "2024-02-16T21:24:56.219913Z"
    },
    "tags": []
   },
   "outputs": [],
   "source": [
    "plt.style.use(FIG_ROOT/\"base.mplstyle\")\n",
    "torch.set_default_dtype(torch.float64)"
   ]
  },
  {
   "cell_type": "code",
   "execution_count": null,
   "id": "e0cb5a3d-1ab1-4bc0-bfce-d7ebaedb0391",
   "metadata": {},
   "outputs": [],
   "source": []
  },
  {
   "cell_type": "code",
   "execution_count": null,
   "id": "d0af2f35",
   "metadata": {},
   "outputs": [],
   "source": []
  },
  {
   "cell_type": "markdown",
   "id": "dd9c6514",
   "metadata": {},
   "source": [
    "# Param and fns"
   ]
  },
  {
   "cell_type": "code",
   "execution_count": null,
   "id": "a10d559c-8d6a-428a-bdb9-23c0a5aac96b",
   "metadata": {},
   "outputs": [],
   "source": []
  },
  {
   "cell_type": "markdown",
   "id": "e5ccf9dc-c8f3-40a3-92f9-de2cdfa75610",
   "metadata": {},
   "source": [
    "## Fns"
   ]
  },
  {
   "cell_type": "code",
   "execution_count": 50,
   "id": "d93eca7c-5b7c-49ee-bec2-979f08f8d602",
   "metadata": {
    "execution": {
     "iopub.execute_input": "2024-02-16T21:24:57.868170Z",
     "iopub.status.busy": "2024-02-16T21:24:57.867529Z",
     "iopub.status.idle": "2024-02-16T21:24:57.912224Z",
     "shell.execute_reply": "2024-02-16T21:24:57.911333Z",
     "shell.execute_reply.started": "2024-02-16T21:24:57.868124Z"
    },
    "tags": []
   },
   "outputs": [
    {
     "data": {
      "text/plain": [
       "<function __main__.<lambda>(x)>"
      ]
     },
     "execution_count": 50,
     "metadata": {},
     "output_type": "execute_result"
    }
   ],
   "source": [
    "def _get_min_idx(x):\n",
    "    \"\"\"Get the index of the minimal values among the local minimals.\n",
    "       If there are multiple ones, return the largest index\n",
    "       args:\n",
    "           x: a vec\n",
    "        \n",
    "    \"\"\"\n",
    "    x = np.array(x)\n",
    "    lmin_idxs = get_local_min_idxs(x);\n",
    "    if len(lmin_idxs) == 0:\n",
    "        lmin_idxs = np.arange(len(x))\n",
    "    lmin_idxs_inv =  lmin_idxs[::-1]\n",
    "    lmins_inv = x[lmin_idxs_inv];\n",
    "    return  lmin_idxs_inv[np.argmin(lmins_inv)]\n",
    "_err_fn = lambda x: np.nanmean(x**2)\n",
    "#_err_fn = lambda x: np.nanmean(np.abs(x))"
   ]
  },
  {
   "cell_type": "code",
   "execution_count": null,
   "id": "75e10fd4",
   "metadata": {},
   "outputs": [],
   "source": []
  },
  {
   "cell_type": "markdown",
   "id": "ad8553a0-635d-473c-b27e-7bb7fb31a674",
   "metadata": {},
   "source": [
    "# Analysis"
   ]
  },
  {
   "cell_type": "code",
   "execution_count": 51,
   "id": "bab987e3-6895-4b69-bf54-56cd6763138e",
   "metadata": {
    "execution": {
     "iopub.execute_input": "2024-02-16T21:24:58.981488Z",
     "iopub.status.busy": "2024-02-16T21:24:58.980858Z",
     "iopub.status.idle": "2024-02-16T21:24:59.021257Z",
     "shell.execute_reply": "2024-02-16T21:24:59.020518Z",
     "shell.execute_reply.started": "2024-02-16T21:24:58.981443Z"
    },
    "tags": []
   },
   "outputs": [],
   "source": [
    "\n",
    "num_rep = 200;"
   ]
  },
  {
   "cell_type": "code",
   "execution_count": 232,
   "id": "c979f760-ba7d-44eb-a235-1309a6436855",
   "metadata": {
    "execution": {
     "iopub.execute_input": "2024-02-16T21:51:28.369356Z",
     "iopub.status.busy": "2024-02-16T21:51:28.368704Z",
     "iopub.status.idle": "2024-02-16T21:51:28.502284Z",
     "shell.execute_reply": "2024-02-16T21:51:28.501157Z",
     "shell.execute_reply.started": "2024-02-16T21:51:28.369309Z"
    },
    "tags": []
   },
   "outputs": [
    {
     "data": {
      "text/plain": [
       "array([[1.]])"
      ]
     },
     "execution_count": 232,
     "metadata": {},
     "output_type": "execute_result"
    }
   ],
   "source": [
    "nb = 1\n",
    "setting = settings[f\"cmpn{nb}\"] # add more for 0.8\n",
    "#setting = settingss[f\"cmpns{nb}\"] # add more for 0.8\n",
    "can_Ns = setting.can_Ns\n",
    "can_lams = setting.can_lams\n",
    "can_Ns = [6, 8, 10, 12, 14]\n",
    "\n",
    "c1s = [0.0, 0.2, 0.4]\n",
    "Cmat = np.eye(nb) # change it depending on test1, test2, test3"
   ]
  },
  {
   "cell_type": "code",
   "execution_count": 233,
   "id": "1c07c09b-3cfa-4730-970d-7de1fa5ee8f6",
   "metadata": {
    "execution": {
     "iopub.execute_input": "2024-02-16T21:51:29.091599Z",
     "iopub.status.busy": "2024-02-16T21:51:29.090966Z",
     "iopub.status.idle": "2024-02-16T21:51:29.130491Z",
     "shell.execute_reply": "2024-02-16T21:51:29.129768Z",
     "shell.execute_reply.started": "2024-02-16T21:51:29.091553Z"
    },
    "tags": []
   },
   "outputs": [
    {
     "data": {
      "text/plain": [
       "(1, 1)"
      ]
     },
     "execution_count": 233,
     "metadata": {},
     "output_type": "execute_result"
    }
   ],
   "source": [
    "Cmat.shape"
   ]
  },
  {
   "cell_type": "code",
   "execution_count": null,
   "id": "3264cfce-b893-450e-b063-e3f4c10d1d08",
   "metadata": {},
   "outputs": [],
   "source": []
  },
  {
   "cell_type": "markdown",
   "id": "f3189271-865f-47c1-ba40-2a026eb64d28",
   "metadata": {},
   "source": [
    "## Pre-ana"
   ]
  },
  {
   "cell_type": "code",
   "execution_count": 222,
   "id": "760e6728-0c64-44b9-ac39-c0ca4c89b3d8",
   "metadata": {
    "execution": {
     "iopub.execute_input": "2024-02-16T21:50:14.342197Z",
     "iopub.status.busy": "2024-02-16T21:50:14.341553Z",
     "iopub.status.idle": "2024-02-16T21:50:14.381800Z",
     "shell.execute_reply": "2024-02-16T21:50:14.380906Z",
     "shell.execute_reply.started": "2024-02-16T21:50:14.342150Z"
    },
    "tags": []
   },
   "outputs": [
    {
     "data": {
      "text/plain": [
       "0.0"
      ]
     },
     "execution_count": 222,
     "metadata": {},
     "output_type": "execute_result"
    }
   ],
   "source": [
    "c1 = 0.0"
   ]
  },
  {
   "cell_type": "code",
   "execution_count": 223,
   "id": "f1b69959-28cc-4ceb-97e8-624abeb2f7e8",
   "metadata": {
    "execution": {
     "iopub.execute_input": "2024-02-16T21:50:14.632930Z",
     "iopub.status.busy": "2024-02-16T21:50:14.632311Z",
     "iopub.status.idle": "2024-02-16T21:50:15.144412Z",
     "shell.execute_reply": "2024-02-16T21:50:15.143877Z",
     "shell.execute_reply.started": "2024-02-16T21:50:14.632885Z"
    },
    "tags": []
   },
   "outputs": [
    {
     "name": "stdout",
     "output_type": "stream",
     "text": [
      "Load file /data/rajlab1/user_data/jin/MyResearch/HDF_infer/notebooks/simu_cmp2sinica/../../mypkg/../results/simu_settingcmpns3_0/all-valsel-metrics.pkl\n"
     ]
    },
    {
     "name": "stderr",
     "output_type": "stream",
     "text": [
      "c1: 0.0: 100%|██████████████████████████████████████████████████████████████| 200/200 [00:00<00:00, 16116.13it/s]\n"
     ]
    }
   ],
   "source": [
    "def _run_fn1(seed, all_cv_errs):\n",
    "    errs_mat = []\n",
    "    for cur_N in can_Ns:\n",
    "        errs = []\n",
    "        for cur_lam in can_lams:\n",
    "            errs.append(all_cv_errs[(seed, cur_N, cur_lam)].mse_loss)\n",
    "        errs_mat.append(errs)\n",
    "    errs_mat = np.array(errs_mat)\n",
    "    return errs_mat\n",
    "cur_save_dir = RES_ROOT/f\"simu_setting{setting.setting}_{c1*1000:.0f}\"\n",
    "all_cv_errs = load_pkl(cur_save_dir/f\"all-valsel-metrics.pkl\")\n",
    "num_seed = len(np.unique(list(map(lambda x: x[0], all_cv_errs.keys()))))\n",
    "# do not make n_jobs>1, it is very slow\n",
    "with Parallel(n_jobs=1) as parallel:\n",
    "    err_ten = parallel(delayed(_run_fn1)(cur_seed, all_cv_errs)  \n",
    "                             for cur_seed in tqdm(range(num_seed), total=num_seed, desc=f\"c1: {c1}\"))\n",
    "err_ten = np.array(err_ten);"
   ]
  },
  {
   "cell_type": "code",
   "execution_count": 224,
   "id": "6f9534a4-db3c-4606-a358-d2c4f991c763",
   "metadata": {
    "execution": {
     "iopub.execute_input": "2024-02-16T21:50:15.146874Z",
     "iopub.status.busy": "2024-02-16T21:50:15.146147Z",
     "iopub.status.idle": "2024-02-16T21:50:15.186612Z",
     "shell.execute_reply": "2024-02-16T21:50:15.186158Z",
     "shell.execute_reply.started": "2024-02-16T21:50:15.146830Z"
    },
    "tags": []
   },
   "outputs": [
    {
     "data": {
      "text/plain": [
       "(6, 0.4, 0.5)"
      ]
     },
     "execution_count": 224,
     "metadata": {},
     "output_type": "execute_result"
    }
   ],
   "source": [
    "err_ten_ses = err_ten.std(axis=0)/np.sqrt(err_ten.shape[0])\n",
    "err_m = np.median(np.array(err_ten), axis=0)\n",
    "errs = []\n",
    "for err in err_m:\n",
    "    lam_min_idx = _get_min_idx(err)\n",
    "    errs.append((err[lam_min_idx], lam_min_idx))\n",
    "errs = np.array(errs)\n",
    "N_min_idx = np.argmin(errs[:, 0]);\n",
    "lam_min_idx = int(errs[N_min_idx][1]);\n",
    "min_opt_N, min_opt_lam = can_Ns[N_min_idx], can_lams[lam_min_idx]\n",
    "min_opt_N, min_opt_lam\n",
    "\n",
    "err_upbd = err_m[N_min_idx, lam_min_idx] + err_ten_ses[N_min_idx, lam_min_idx]; \n",
    "lam_1se_idx = np.where(err_m[N_min_idx] <= err_upbd)[0].max();\n",
    "(can_Ns[N_min_idx], can_lams[lam_min_idx], can_lams[lam_1se_idx])"
   ]
  },
  {
   "cell_type": "code",
   "execution_count": 225,
   "id": "9a21aadc-a8fa-48a9-b505-932f19dbd568",
   "metadata": {
    "execution": {
     "iopub.execute_input": "2024-02-16T21:50:17.156113Z",
     "iopub.status.busy": "2024-02-16T21:50:17.155326Z",
     "iopub.status.idle": "2024-02-16T21:50:17.459815Z",
     "shell.execute_reply": "2024-02-16T21:50:17.459319Z",
     "shell.execute_reply.started": "2024-02-16T21:50:17.156065Z"
    },
    "tags": []
   },
   "outputs": [
    {
     "data": {
      "image/png": "[encoded data removed]",
      "text/plain": [
       "<Figure size 1200x600 with 2 Axes>"
      ]
     },
     "metadata": {
      "needs_background": "light"
     },
     "output_type": "display_data"
    }
   ],
   "source": [
    "plt.figure(figsize=[12, 6])\n",
    "sns.heatmap(err_m, annot=err_m, fmt=\".3f\")\n",
    "plt.xticks(np.arange(len(can_lams))+0.5, can_lams);\n",
    "plt.yticks(np.arange(len(can_Ns))+0.5, can_Ns);"
   ]
  },
  {
   "cell_type": "code",
   "execution_count": null,
   "id": "d8df0e15-24b2-4939-84b6-78a48db6d627",
   "metadata": {},
   "outputs": [],
   "source": []
  },
  {
   "cell_type": "code",
   "execution_count": null,
   "id": "c4d346ec-0d18-460b-8eae-79f96d4cd7af",
   "metadata": {},
   "outputs": [],
   "source": []
  },
  {
   "cell_type": "markdown",
   "id": "181957a8-0dd4-48a9-bc45-02938ecc817d",
   "metadata": {},
   "source": [
    "## Step 2 (only need once)"
   ]
  },
  {
   "cell_type": "markdown",
   "id": "22be2a19-2156-4bf5-82e3-db9c86c88f74",
   "metadata": {},
   "source": [
    "### Fix N and adaptive lam"
   ]
  },
  {
   "cell_type": "code",
   "execution_count": 182,
   "id": "bb0efead-1b70-4212-9cf8-ab5832a1bca9",
   "metadata": {
    "execution": {
     "iopub.execute_input": "2024-02-16T21:42:06.232634Z",
     "iopub.status.busy": "2024-02-16T21:42:06.231846Z",
     "iopub.status.idle": "2024-02-16T21:42:07.016345Z",
     "shell.execute_reply": "2024-02-16T21:42:07.015861Z",
     "shell.execute_reply.started": "2024-02-16T21:42:06.232586Z"
    },
    "tags": []
   },
   "outputs": [
    {
     "name": "stderr",
     "output_type": "stream",
     "text": [
      "  0%|                                                                                      | 0/4 [00:00<?, ?it/s]"
     ]
    },
    {
     "name": "stdout",
     "output_type": "stream",
     "text": [
      "Load file /data/rajlab1/user_data/jin/MyResearch/HDF_infer/notebooks/simu_cmp2sinica/../../mypkg/../results/simu_settingcmpns2b_0/all-valsel-metrics.pkl\n"
     ]
    },
    {
     "name": "stderr",
     "output_type": "stream",
     "text": [
      " 50%|███████████████████████████████████████                                       | 2/4 [00:00<00:00,  4.73it/s]"
     ]
    },
    {
     "name": "stdout",
     "output_type": "stream",
     "text": [
      "Load file /data/rajlab1/user_data/jin/MyResearch/HDF_infer/notebooks/simu_cmp2sinica/../../mypkg/../results/simu_settingcmpns2b_100/all-valsel-metrics.pkl\n",
      "Load file /data/rajlab1/user_data/jin/MyResearch/HDF_infer/notebooks/simu_cmp2sinica/../../mypkg/../results/simu_settingcmpns2b_200/all-valsel-metrics.pkl\n"
     ]
    },
    {
     "name": "stderr",
     "output_type": "stream",
     "text": [
      "100%|██████████████████████████████████████████████████████████████████████████████| 4/4 [00:00<00:00,  5.43it/s]"
     ]
    },
    {
     "name": "stdout",
     "output_type": "stream",
     "text": [
      "Load file /data/rajlab1/user_data/jin/MyResearch/HDF_infer/notebooks/simu_cmp2sinica/../../mypkg/../results/simu_settingcmpns2b_400/all-valsel-metrics.pkl\n"
     ]
    },
    {
     "name": "stderr",
     "output_type": "stream",
     "text": [
      "\n"
     ]
    }
   ],
   "source": [
    "# then given N, find opt lam\n",
    "def _run_fn_fixN(seed, optN, all_cv_errs):\n",
    "    errs = []\n",
    "    for cur_lam in can_lams:\n",
    "        errs.append(all_cv_errs[(seed, optN, cur_lam)].mse_loss)\n",
    "    min_idx = _get_min_idx(errs);\n",
    "    return (seed, optN, can_lams[min_idx], errs[min_idx])\n",
    "\n",
    "optN = 6\n",
    "opt_lamss = dict()\n",
    "for c1 in tqdm(c1s):\n",
    "    cur_save_dir = RES_ROOT/f\"simu_setting{setting.setting}_{c1*1000:.0f}\"\n",
    "    all_cv_errs = load_pkl(cur_save_dir/f\"all-valsel-metrics.pkl\")\n",
    "    num_seed = len(np.unique(list(map(lambda x: x[0], all_cv_errs.keys()))))\n",
    "    opt_lams = [_run_fn_fixN(seed, optN, all_cv_errs) for seed in range(num_seed)]\n",
    "    opt_lamss[c1] = opt_lams"
   ]
  },
  {
   "cell_type": "raw",
   "id": "d9fccbdf-b1d2-4c1d-ae7f-b4fc502458e3",
   "metadata": {
    "execution": {
     "iopub.execute_input": "2023-10-21T23:16:13.054860Z",
     "iopub.status.busy": "2023-10-21T23:16:13.054199Z",
     "iopub.status.idle": "2023-10-21T23:16:13.147107Z",
     "shell.execute_reply": "2023-10-21T23:16:13.146287Z",
     "shell.execute_reply.started": "2023-10-21T23:16:13.054817Z"
    },
    "tags": []
   },
   "source": [
    "for k, v in opt_lamss.items():\n",
    "    v = np.array(v)[:, 1:3]\n",
    "    combos, cts = np.unique(v, axis=0, return_counts=1)\n",
    "    tres = np.concatenate([combos, cts.reshape(-1, 1)], axis=1)\n",
    "    display(pd.DataFrame(tres));"
   ]
  },
  {
   "cell_type": "code",
   "execution_count": 183,
   "id": "2b3e20a8-6114-4a8a-9e06-625384f686b9",
   "metadata": {
    "execution": {
     "iopub.execute_input": "2024-02-16T21:42:23.331828Z",
     "iopub.status.busy": "2024-02-16T21:42:23.331053Z",
     "iopub.status.idle": "2024-02-16T21:43:06.861392Z",
     "shell.execute_reply": "2024-02-16T21:43:06.860172Z",
     "shell.execute_reply.started": "2024-02-16T21:42:23.331780Z"
    },
    "tags": []
   },
   "outputs": [
    {
     "name": "stderr",
     "output_type": "stream",
     "text": [
      "c1: 0: 100%|███████████████████████████████████████████████████████████████████| 200/200 [00:11<00:00, 18.11it/s]\n"
     ]
    },
    {
     "name": "stdout",
     "output_type": "stream",
     "text": [
      "Save to /data/rajlab1/user_data/jin/MyResearch/HDF_infer/notebooks/simu_cmp2sinica/../../mypkg/../results/simu_settingcmpns2b_0/opt_lamNsfixN_ress.pkl\n"
     ]
    },
    {
     "name": "stderr",
     "output_type": "stream",
     "text": [
      "c1: 100: 100%|█████████████████████████████████████████████████████████████████| 200/200 [00:10<00:00, 18.26it/s]\n"
     ]
    },
    {
     "name": "stdout",
     "output_type": "stream",
     "text": [
      "Save to /data/rajlab1/user_data/jin/MyResearch/HDF_infer/notebooks/simu_cmp2sinica/../../mypkg/../results/simu_settingcmpns2b_100/opt_lamNsfixN_ress.pkl\n"
     ]
    },
    {
     "name": "stderr",
     "output_type": "stream",
     "text": [
      "c1: 200: 100%|█████████████████████████████████████████████████████████████████| 200/200 [00:10<00:00, 18.50it/s]\n"
     ]
    },
    {
     "name": "stdout",
     "output_type": "stream",
     "text": [
      "Save to /data/rajlab1/user_data/jin/MyResearch/HDF_infer/notebooks/simu_cmp2sinica/../../mypkg/../results/simu_settingcmpns2b_200/opt_lamNsfixN_ress.pkl\n"
     ]
    },
    {
     "name": "stderr",
     "output_type": "stream",
     "text": [
      "c1: 400: 100%|█████████████████████████████████████████████████████████████████| 200/200 [00:09<00:00, 20.02it/s]\n"
     ]
    },
    {
     "name": "stdout",
     "output_type": "stream",
     "text": [
      "Save to /data/rajlab1/user_data/jin/MyResearch/HDF_infer/notebooks/simu_cmp2sinica/../../mypkg/../results/simu_settingcmpns2b_400/opt_lamNsfixN_ress.pkl\n"
     ]
    }
   ],
   "source": [
    "cans = [1e-5, 3e-6, 1e-6, 3e-7, 1e-7, 3e-8, 1e-8, 3e-9, 1e-9, 3e-10, 0]\n",
    "all_coms = [(can, can) for can in cans]\n",
    "#all_coms = list(itertools.product(cans, cans))\n",
    "for c1 in c1s:\n",
    "    cur_save_dir = RES_ROOT/f\"simu_setting{setting.setting}_{c1*1000:.0f}\"\n",
    "    opt_lamNs =  opt_lamss[c1]\n",
    "    ress = []\n",
    "    for cur_seed, cur_N, cur_lam, _ in tqdm(opt_lamNs, desc=f\"c1: {c1*1000:.0f}\"):\n",
    "        f1_name = f\"seed_{cur_seed:.0f}-lam_{cur_lam*1000:.0f}-N_{cur_N:.0f}_fit.pkl\"\n",
    "        res1 = load_pkl(cur_save_dir/f1_name, verbose=False);\n",
    "        _test_fn = res1.hypo_test\n",
    "        with Parallel(n_jobs=1) as parallel:\n",
    "            res = parallel(delayed(_test_fn)(Cmat=Cmat, is_simpler=False,\n",
    "                                             hypo_params={\"svdinv_eps_Q\": rtols[0], \"svdinv_eps_Psi\": rtols[1]}) \n",
    "                           for rtols in all_coms)\n",
    "    \n",
    "        ress.append(res)\n",
    "    ress = np.array(ress);\n",
    "    save_pkl(cur_save_dir/f\"opt_lamNsfixN_ress.pkl\", ress, is_force=1)"
   ]
  },
  {
   "cell_type": "code",
   "execution_count": null,
   "id": "faafd3f6-c6d4-4fc0-92b1-df0cce5f56d5",
   "metadata": {},
   "outputs": [],
   "source": []
  },
  {
   "cell_type": "markdown",
   "id": "cdbb86ff-b4df-4fd5-95b5-35ebb0d6bd12",
   "metadata": {},
   "source": [
    "### Adaptive N and lam"
   ]
  },
  {
   "cell_type": "code",
   "execution_count": 195,
   "id": "b54f2daa-da4e-43a5-9fbd-6615fa32465e",
   "metadata": {
    "execution": {
     "iopub.execute_input": "2024-02-16T21:45:04.525828Z",
     "iopub.status.busy": "2024-02-16T21:45:04.525204Z",
     "iopub.status.idle": "2024-02-16T21:45:05.323612Z",
     "shell.execute_reply": "2024-02-16T21:45:05.323174Z",
     "shell.execute_reply.started": "2024-02-16T21:45:04.525782Z"
    },
    "tags": []
   },
   "outputs": [
    {
     "name": "stdout",
     "output_type": "stream",
     "text": [
      "Load file /data/rajlab1/user_data/jin/MyResearch/HDF_infer/notebooks/simu_cmp2sinica/../../mypkg/../results/simu_settingcmpns1b_0/all-valsel-metrics.pkl\n"
     ]
    },
    {
     "name": "stderr",
     "output_type": "stream",
     "text": [
      "c1: 0.0: 100%|███████████████████████████████████████████████████████████████| 200/200 [00:00<00:00, 4534.95it/s]"
     ]
    },
    {
     "name": "stdout",
     "output_type": "stream",
     "text": [
      "Load file /data/rajlab1/user_data/jin/MyResearch/HDF_infer/notebooks/simu_cmp2sinica/../../mypkg/../results/simu_settingcmpns1b_100/all-valsel-metrics.pkl\n"
     ]
    },
    {
     "name": "stderr",
     "output_type": "stream",
     "text": [
      "\n",
      "c1: 0.1: 100%|███████████████████████████████████████████████████████████████| 200/200 [00:00<00:00, 4454.49it/s]\n"
     ]
    },
    {
     "name": "stdout",
     "output_type": "stream",
     "text": [
      "Load file /data/rajlab1/user_data/jin/MyResearch/HDF_infer/notebooks/simu_cmp2sinica/../../mypkg/../results/simu_settingcmpns1b_200/all-valsel-metrics.pkl\n"
     ]
    },
    {
     "name": "stderr",
     "output_type": "stream",
     "text": [
      "c1: 0.2: 100%|███████████████████████████████████████████████████████████████| 200/200 [00:00<00:00, 4408.79it/s]\n"
     ]
    },
    {
     "name": "stdout",
     "output_type": "stream",
     "text": [
      "Load file /data/rajlab1/user_data/jin/MyResearch/HDF_infer/notebooks/simu_cmp2sinica/../../mypkg/../results/simu_settingcmpns1b_400/all-valsel-metrics.pkl\n"
     ]
    },
    {
     "name": "stderr",
     "output_type": "stream",
     "text": [
      "c1: 0.4: 100%|███████████████████████████████████████████████████████████████| 200/200 [00:00<00:00, 4378.42it/s]\n"
     ]
    }
   ],
   "source": [
    "def _run_fn(seed, all_cv_errs):\n",
    "    errs_N = []\n",
    "    for cur_N in can_Ns:\n",
    "        errs = []\n",
    "        for cur_lam in can_lams:\n",
    "            errs.append(all_cv_errs[(seed, cur_N, cur_lam)].mse_loss)\n",
    "        min_idx = _get_min_idx(errs);\n",
    "        errs_N.append((seed, cur_N, can_lams[min_idx], errs[min_idx]))\n",
    "    errs_N_sorted = sorted(errs_N, key=lambda x:x[-1]);\n",
    "    return errs_N_sorted[0]\n",
    "\n",
    "opt_lamNss = dict()\n",
    "for c1 in c1s:\n",
    "    cur_save_dir = RES_ROOT/f\"simu_setting{setting.setting}_{c1*1000:.0f}\"\n",
    "    all_cv_errs = load_pkl(cur_save_dir/f\"all-valsel-metrics.pkl\")\n",
    "    num_seed = len(np.unique(list(map(lambda x: x[0], all_cv_errs.keys()))))\n",
    "    # do not make n_jobs>1, it is very slow\n",
    "    with Parallel(n_jobs=1) as parallel:\n",
    "        opt_lamNs = parallel(delayed(_run_fn)(cur_seed, all_cv_errs)  \n",
    "                             for cur_seed in tqdm(range(num_seed), total=num_seed, desc=f\"c1: {c1}\"))\n",
    "    opt_lamNss[c1] = opt_lamNs"
   ]
  },
  {
   "cell_type": "code",
   "execution_count": 196,
   "id": "72469e51-ecd0-45b6-8ae5-bfa4b1f5a4cc",
   "metadata": {
    "execution": {
     "iopub.execute_input": "2024-02-16T21:45:06.742919Z",
     "iopub.status.busy": "2024-02-16T21:45:06.742289Z",
     "iopub.status.idle": "2024-02-16T21:45:46.615532Z",
     "shell.execute_reply": "2024-02-16T21:45:46.614343Z",
     "shell.execute_reply.started": "2024-02-16T21:45:06.742871Z"
    },
    "scrolled": true,
    "tags": []
   },
   "outputs": [
    {
     "name": "stderr",
     "output_type": "stream",
     "text": [
      "c1: 0: 100%|███████████████████████████████████████████████████████████████████| 200/200 [00:09<00:00, 20.70it/s]\n"
     ]
    },
    {
     "name": "stdout",
     "output_type": "stream",
     "text": [
      "Save to /data/rajlab1/user_data/jin/MyResearch/HDF_infer/notebooks/simu_cmp2sinica/../../mypkg/../results/simu_settingcmpns1b_0/opt_lamNs_ress.pkl\n"
     ]
    },
    {
     "name": "stderr",
     "output_type": "stream",
     "text": [
      "c1: 100: 100%|█████████████████████████████████████████████████████████████████| 200/200 [00:10<00:00, 19.74it/s]\n"
     ]
    },
    {
     "name": "stdout",
     "output_type": "stream",
     "text": [
      "Save to /data/rajlab1/user_data/jin/MyResearch/HDF_infer/notebooks/simu_cmp2sinica/../../mypkg/../results/simu_settingcmpns1b_100/opt_lamNs_ress.pkl\n"
     ]
    },
    {
     "name": "stderr",
     "output_type": "stream",
     "text": [
      "c1: 200: 100%|█████████████████████████████████████████████████████████████████| 200/200 [00:09<00:00, 20.41it/s]\n"
     ]
    },
    {
     "name": "stdout",
     "output_type": "stream",
     "text": [
      "Save to /data/rajlab1/user_data/jin/MyResearch/HDF_infer/notebooks/simu_cmp2sinica/../../mypkg/../results/simu_settingcmpns1b_200/opt_lamNs_ress.pkl\n"
     ]
    },
    {
     "name": "stderr",
     "output_type": "stream",
     "text": [
      "c1: 400: 100%|█████████████████████████████████████████████████████████████████| 200/200 [00:09<00:00, 21.29it/s]"
     ]
    },
    {
     "name": "stdout",
     "output_type": "stream",
     "text": [
      "Save to /data/rajlab1/user_data/jin/MyResearch/HDF_infer/notebooks/simu_cmp2sinica/../../mypkg/../results/simu_settingcmpns1b_400/opt_lamNs_ress.pkl\n"
     ]
    },
    {
     "name": "stderr",
     "output_type": "stream",
     "text": [
      "\n"
     ]
    }
   ],
   "source": [
    "# for adaptive lam N\n",
    "cans = [1e-5, 3e-6, 1e-6, 3e-7, 1e-7, 3e-8, 1e-8, 3e-9, 1e-9, 3e-10, 0]\n",
    "all_coms = [(can, can) for can in cans]\n",
    "#all_coms = list(itertools.product(cans, cans))\n",
    "for c1 in c1s:\n",
    "    cur_save_dir = RES_ROOT/f\"simu_setting{setting.setting}_{c1*1000:.0f}\"\n",
    "    opt_lamNs =  opt_lamNss[c1]\n",
    "    ress = []\n",
    "    for cur_seed, cur_N, cur_lam, _ in tqdm(opt_lamNs, desc=f\"c1: {c1*1000:.0f}\"):\n",
    "        f1_name = f\"seed_{cur_seed:.0f}-lam_{cur_lam*1000:.0f}-N_{cur_N:.0f}_fit.pkl\"\n",
    "        res1 = load_pkl(cur_save_dir/f1_name, verbose=False);\n",
    "        _test_fn = res1.hypo_test\n",
    "        with Parallel(n_jobs=1) as parallel:\n",
    "            res = parallel(delayed(_test_fn)(Cmat=Cmat, is_simpler=False,\n",
    "                                             hypo_params={\"svdinv_eps_Q\": rtols[0], \"svdinv_eps_Psi\": rtols[1]}) \n",
    "                           for rtols in all_coms)\n",
    "        ress.append(res)\n",
    "    ress = np.array(ress);\n",
    "    save_pkl(cur_save_dir/f\"opt_lamNs_ress.pkl\", ress, is_force=1)\n"
   ]
  },
  {
   "cell_type": "code",
   "execution_count": 40,
   "id": "0eec1aec-5497-42c4-b829-a32cee581e54",
   "metadata": {
    "execution": {
     "iopub.execute_input": "2024-01-08T06:51:22.585965Z",
     "iopub.status.busy": "2024-01-08T06:51:22.585290Z",
     "iopub.status.idle": "2024-01-08T06:51:22.733200Z",
     "shell.execute_reply": "2024-01-08T06:51:22.732661Z",
     "shell.execute_reply.started": "2024-01-08T06:51:22.585919Z"
    },
    "scrolled": true,
    "tags": []
   },
   "outputs": [
    {
     "data": {
      "text/html": [
       "<div>\n",
       "<style scoped>\n",
       "    .dataframe tbody tr th:only-of-type {\n",
       "        vertical-align: middle;\n",
       "    }\n",
       "\n",
       "    .dataframe tbody tr th {\n",
       "        vertical-align: top;\n",
       "    }\n",
       "\n",
       "    .dataframe thead th {\n",
       "        text-align: right;\n",
       "    }\n",
       "</style>\n",
       "<table border=\"1\" class=\"dataframe\">\n",
       "  <thead>\n",
       "    <tr style=\"text-align: right;\">\n",
       "      <th></th>\n",
       "      <th>0</th>\n",
       "      <th>1</th>\n",
       "      <th>2</th>\n",
       "    </tr>\n",
       "  </thead>\n",
       "  <tbody>\n",
       "    <tr>\n",
       "      <th>0</th>\n",
       "      <td>12.0</td>\n",
       "      <td>0.50</td>\n",
       "      <td>3.0</td>\n",
       "    </tr>\n",
       "    <tr>\n",
       "      <th>1</th>\n",
       "      <td>12.0</td>\n",
       "      <td>0.60</td>\n",
       "      <td>7.0</td>\n",
       "    </tr>\n",
       "    <tr>\n",
       "      <th>2</th>\n",
       "      <td>12.0</td>\n",
       "      <td>0.65</td>\n",
       "      <td>5.0</td>\n",
       "    </tr>\n",
       "    <tr>\n",
       "      <th>3</th>\n",
       "      <td>12.0</td>\n",
       "      <td>0.70</td>\n",
       "      <td>6.0</td>\n",
       "    </tr>\n",
       "    <tr>\n",
       "      <th>4</th>\n",
       "      <td>12.0</td>\n",
       "      <td>0.80</td>\n",
       "      <td>7.0</td>\n",
       "    </tr>\n",
       "    <tr>\n",
       "      <th>5</th>\n",
       "      <td>12.0</td>\n",
       "      <td>0.90</td>\n",
       "      <td>7.0</td>\n",
       "    </tr>\n",
       "    <tr>\n",
       "      <th>6</th>\n",
       "      <td>12.0</td>\n",
       "      <td>1.00</td>\n",
       "      <td>23.0</td>\n",
       "    </tr>\n",
       "    <tr>\n",
       "      <th>7</th>\n",
       "      <td>14.0</td>\n",
       "      <td>0.40</td>\n",
       "      <td>1.0</td>\n",
       "    </tr>\n",
       "    <tr>\n",
       "      <th>8</th>\n",
       "      <td>14.0</td>\n",
       "      <td>0.50</td>\n",
       "      <td>7.0</td>\n",
       "    </tr>\n",
       "    <tr>\n",
       "      <th>9</th>\n",
       "      <td>14.0</td>\n",
       "      <td>0.60</td>\n",
       "      <td>7.0</td>\n",
       "    </tr>\n",
       "    <tr>\n",
       "      <th>10</th>\n",
       "      <td>14.0</td>\n",
       "      <td>0.65</td>\n",
       "      <td>3.0</td>\n",
       "    </tr>\n",
       "    <tr>\n",
       "      <th>11</th>\n",
       "      <td>14.0</td>\n",
       "      <td>0.80</td>\n",
       "      <td>12.0</td>\n",
       "    </tr>\n",
       "    <tr>\n",
       "      <th>12</th>\n",
       "      <td>14.0</td>\n",
       "      <td>0.90</td>\n",
       "      <td>25.0</td>\n",
       "    </tr>\n",
       "    <tr>\n",
       "      <th>13</th>\n",
       "      <td>14.0</td>\n",
       "      <td>1.00</td>\n",
       "      <td>87.0</td>\n",
       "    </tr>\n",
       "  </tbody>\n",
       "</table>\n",
       "</div>"
      ],
      "text/plain": [
       "       0     1     2\n",
       "0   12.0  0.50   3.0\n",
       "1   12.0  0.60   7.0\n",
       "2   12.0  0.65   5.0\n",
       "3   12.0  0.70   6.0\n",
       "4   12.0  0.80   7.0\n",
       "5   12.0  0.90   7.0\n",
       "6   12.0  1.00  23.0\n",
       "7   14.0  0.40   1.0\n",
       "8   14.0  0.50   7.0\n",
       "9   14.0  0.60   7.0\n",
       "10  14.0  0.65   3.0\n",
       "11  14.0  0.80  12.0\n",
       "12  14.0  0.90  25.0\n",
       "13  14.0  1.00  87.0"
      ]
     },
     "metadata": {},
     "output_type": "display_data"
    },
    {
     "data": {
      "text/html": [
       "<div>\n",
       "<style scoped>\n",
       "    .dataframe tbody tr th:only-of-type {\n",
       "        vertical-align: middle;\n",
       "    }\n",
       "\n",
       "    .dataframe tbody tr th {\n",
       "        vertical-align: top;\n",
       "    }\n",
       "\n",
       "    .dataframe thead th {\n",
       "        text-align: right;\n",
       "    }\n",
       "</style>\n",
       "<table border=\"1\" class=\"dataframe\">\n",
       "  <thead>\n",
       "    <tr style=\"text-align: right;\">\n",
       "      <th></th>\n",
       "      <th>0</th>\n",
       "      <th>1</th>\n",
       "      <th>2</th>\n",
       "    </tr>\n",
       "  </thead>\n",
       "  <tbody>\n",
       "    <tr>\n",
       "      <th>0</th>\n",
       "      <td>12.0</td>\n",
       "      <td>0.50</td>\n",
       "      <td>2.0</td>\n",
       "    </tr>\n",
       "    <tr>\n",
       "      <th>1</th>\n",
       "      <td>12.0</td>\n",
       "      <td>0.60</td>\n",
       "      <td>2.0</td>\n",
       "    </tr>\n",
       "    <tr>\n",
       "      <th>2</th>\n",
       "      <td>12.0</td>\n",
       "      <td>0.65</td>\n",
       "      <td>6.0</td>\n",
       "    </tr>\n",
       "    <tr>\n",
       "      <th>3</th>\n",
       "      <td>12.0</td>\n",
       "      <td>0.70</td>\n",
       "      <td>6.0</td>\n",
       "    </tr>\n",
       "    <tr>\n",
       "      <th>4</th>\n",
       "      <td>12.0</td>\n",
       "      <td>0.80</td>\n",
       "      <td>4.0</td>\n",
       "    </tr>\n",
       "    <tr>\n",
       "      <th>5</th>\n",
       "      <td>12.0</td>\n",
       "      <td>0.90</td>\n",
       "      <td>12.0</td>\n",
       "    </tr>\n",
       "    <tr>\n",
       "      <th>6</th>\n",
       "      <td>12.0</td>\n",
       "      <td>1.00</td>\n",
       "      <td>21.0</td>\n",
       "    </tr>\n",
       "    <tr>\n",
       "      <th>7</th>\n",
       "      <td>14.0</td>\n",
       "      <td>0.40</td>\n",
       "      <td>1.0</td>\n",
       "    </tr>\n",
       "    <tr>\n",
       "      <th>8</th>\n",
       "      <td>14.0</td>\n",
       "      <td>0.50</td>\n",
       "      <td>3.0</td>\n",
       "    </tr>\n",
       "    <tr>\n",
       "      <th>9</th>\n",
       "      <td>14.0</td>\n",
       "      <td>0.60</td>\n",
       "      <td>11.0</td>\n",
       "    </tr>\n",
       "    <tr>\n",
       "      <th>10</th>\n",
       "      <td>14.0</td>\n",
       "      <td>0.65</td>\n",
       "      <td>4.0</td>\n",
       "    </tr>\n",
       "    <tr>\n",
       "      <th>11</th>\n",
       "      <td>14.0</td>\n",
       "      <td>0.75</td>\n",
       "      <td>4.0</td>\n",
       "    </tr>\n",
       "    <tr>\n",
       "      <th>12</th>\n",
       "      <td>14.0</td>\n",
       "      <td>0.80</td>\n",
       "      <td>10.0</td>\n",
       "    </tr>\n",
       "    <tr>\n",
       "      <th>13</th>\n",
       "      <td>14.0</td>\n",
       "      <td>0.90</td>\n",
       "      <td>32.0</td>\n",
       "    </tr>\n",
       "    <tr>\n",
       "      <th>14</th>\n",
       "      <td>14.0</td>\n",
       "      <td>1.00</td>\n",
       "      <td>82.0</td>\n",
       "    </tr>\n",
       "  </tbody>\n",
       "</table>\n",
       "</div>"
      ],
      "text/plain": [
       "       0     1     2\n",
       "0   12.0  0.50   2.0\n",
       "1   12.0  0.60   2.0\n",
       "2   12.0  0.65   6.0\n",
       "3   12.0  0.70   6.0\n",
       "4   12.0  0.80   4.0\n",
       "5   12.0  0.90  12.0\n",
       "6   12.0  1.00  21.0\n",
       "7   14.0  0.40   1.0\n",
       "8   14.0  0.50   3.0\n",
       "9   14.0  0.60  11.0\n",
       "10  14.0  0.65   4.0\n",
       "11  14.0  0.75   4.0\n",
       "12  14.0  0.80  10.0\n",
       "13  14.0  0.90  32.0\n",
       "14  14.0  1.00  82.0"
      ]
     },
     "metadata": {},
     "output_type": "display_data"
    },
    {
     "data": {
      "text/html": [
       "<div>\n",
       "<style scoped>\n",
       "    .dataframe tbody tr th:only-of-type {\n",
       "        vertical-align: middle;\n",
       "    }\n",
       "\n",
       "    .dataframe tbody tr th {\n",
       "        vertical-align: top;\n",
       "    }\n",
       "\n",
       "    .dataframe thead th {\n",
       "        text-align: right;\n",
       "    }\n",
       "</style>\n",
       "<table border=\"1\" class=\"dataframe\">\n",
       "  <thead>\n",
       "    <tr style=\"text-align: right;\">\n",
       "      <th></th>\n",
       "      <th>0</th>\n",
       "      <th>1</th>\n",
       "      <th>2</th>\n",
       "    </tr>\n",
       "  </thead>\n",
       "  <tbody>\n",
       "    <tr>\n",
       "      <th>0</th>\n",
       "      <td>12.0</td>\n",
       "      <td>0.50</td>\n",
       "      <td>4.0</td>\n",
       "    </tr>\n",
       "    <tr>\n",
       "      <th>1</th>\n",
       "      <td>12.0</td>\n",
       "      <td>0.60</td>\n",
       "      <td>2.0</td>\n",
       "    </tr>\n",
       "    <tr>\n",
       "      <th>2</th>\n",
       "      <td>12.0</td>\n",
       "      <td>0.65</td>\n",
       "      <td>3.0</td>\n",
       "    </tr>\n",
       "    <tr>\n",
       "      <th>3</th>\n",
       "      <td>12.0</td>\n",
       "      <td>0.70</td>\n",
       "      <td>3.0</td>\n",
       "    </tr>\n",
       "    <tr>\n",
       "      <th>4</th>\n",
       "      <td>12.0</td>\n",
       "      <td>0.80</td>\n",
       "      <td>5.0</td>\n",
       "    </tr>\n",
       "    <tr>\n",
       "      <th>5</th>\n",
       "      <td>12.0</td>\n",
       "      <td>0.90</td>\n",
       "      <td>10.0</td>\n",
       "    </tr>\n",
       "    <tr>\n",
       "      <th>6</th>\n",
       "      <td>12.0</td>\n",
       "      <td>1.00</td>\n",
       "      <td>19.0</td>\n",
       "    </tr>\n",
       "    <tr>\n",
       "      <th>7</th>\n",
       "      <td>14.0</td>\n",
       "      <td>0.40</td>\n",
       "      <td>1.0</td>\n",
       "    </tr>\n",
       "    <tr>\n",
       "      <th>8</th>\n",
       "      <td>14.0</td>\n",
       "      <td>0.50</td>\n",
       "      <td>2.0</td>\n",
       "    </tr>\n",
       "    <tr>\n",
       "      <th>9</th>\n",
       "      <td>14.0</td>\n",
       "      <td>0.60</td>\n",
       "      <td>10.0</td>\n",
       "    </tr>\n",
       "    <tr>\n",
       "      <th>10</th>\n",
       "      <td>14.0</td>\n",
       "      <td>0.65</td>\n",
       "      <td>4.0</td>\n",
       "    </tr>\n",
       "    <tr>\n",
       "      <th>11</th>\n",
       "      <td>14.0</td>\n",
       "      <td>0.70</td>\n",
       "      <td>1.0</td>\n",
       "    </tr>\n",
       "    <tr>\n",
       "      <th>12</th>\n",
       "      <td>14.0</td>\n",
       "      <td>0.75</td>\n",
       "      <td>5.0</td>\n",
       "    </tr>\n",
       "    <tr>\n",
       "      <th>13</th>\n",
       "      <td>14.0</td>\n",
       "      <td>0.80</td>\n",
       "      <td>12.0</td>\n",
       "    </tr>\n",
       "    <tr>\n",
       "      <th>14</th>\n",
       "      <td>14.0</td>\n",
       "      <td>0.90</td>\n",
       "      <td>34.0</td>\n",
       "    </tr>\n",
       "    <tr>\n",
       "      <th>15</th>\n",
       "      <td>14.0</td>\n",
       "      <td>1.00</td>\n",
       "      <td>85.0</td>\n",
       "    </tr>\n",
       "  </tbody>\n",
       "</table>\n",
       "</div>"
      ],
      "text/plain": [
       "       0     1     2\n",
       "0   12.0  0.50   4.0\n",
       "1   12.0  0.60   2.0\n",
       "2   12.0  0.65   3.0\n",
       "3   12.0  0.70   3.0\n",
       "4   12.0  0.80   5.0\n",
       "5   12.0  0.90  10.0\n",
       "6   12.0  1.00  19.0\n",
       "7   14.0  0.40   1.0\n",
       "8   14.0  0.50   2.0\n",
       "9   14.0  0.60  10.0\n",
       "10  14.0  0.65   4.0\n",
       "11  14.0  0.70   1.0\n",
       "12  14.0  0.75   5.0\n",
       "13  14.0  0.80  12.0\n",
       "14  14.0  0.90  34.0\n",
       "15  14.0  1.00  85.0"
      ]
     },
     "metadata": {},
     "output_type": "display_data"
    }
   ],
   "source": [
    "for k, v in opt_lamNss.items():\n",
    "    v = np.array(v)[:, 1:3]\n",
    "    combos, cts = np.unique(v, axis=0, return_counts=1)\n",
    "    tres = np.concatenate([combos, cts.reshape(-1, 1)], axis=1)\n",
    "    display(pd.DataFrame(tres));"
   ]
  },
  {
   "cell_type": "markdown",
   "id": "1ce33507-b240-4b72-84b2-d90e1df42822",
   "metadata": {},
   "source": [
    "### Fixed N and fixed lam"
   ]
  },
  {
   "cell_type": "code",
   "execution_count": 234,
   "id": "dfd6d7e4-4870-453b-a7e9-f342802ede3b",
   "metadata": {
    "execution": {
     "iopub.execute_input": "2024-02-16T21:51:34.047904Z",
     "iopub.status.busy": "2024-02-16T21:51:34.047276Z",
     "iopub.status.idle": "2024-02-16T21:51:34.557395Z",
     "shell.execute_reply": "2024-02-16T21:51:34.556946Z",
     "shell.execute_reply.started": "2024-02-16T21:51:34.047858Z"
    },
    "tags": []
   },
   "outputs": [
    {
     "name": "stdout",
     "output_type": "stream",
     "text": [
      "Load file /data/rajlab1/user_data/jin/MyResearch/HDF_infer/notebooks/simu_cmp2sinica/../../mypkg/../results/simu_settingcmpn1_0/all-valsel-metrics.pkl\n"
     ]
    },
    {
     "name": "stderr",
     "output_type": "stream",
     "text": [
      "c1: 0.0: 100%|██████████████████████████████████████████████████████████████| 200/200 [00:00<00:00, 18161.48it/s]"
     ]
    },
    {
     "name": "stdout",
     "output_type": "stream",
     "text": [
      "6 0.8 1.0\n",
      "Load file /data/rajlab1/user_data/jin/MyResearch/HDF_infer/notebooks/simu_cmp2sinica/../../mypkg/../results/simu_settingcmpn1_200/all-valsel-metrics.pkl\n"
     ]
    },
    {
     "name": "stderr",
     "output_type": "stream",
     "text": [
      "\n",
      "c1: 0.2: 100%|██████████████████████████████████████████████████████████████| 200/200 [00:00<00:00, 18311.34it/s]\n"
     ]
    },
    {
     "name": "stdout",
     "output_type": "stream",
     "text": [
      "8 1.0 1.2\n",
      "Load file /data/rajlab1/user_data/jin/MyResearch/HDF_infer/notebooks/simu_cmp2sinica/../../mypkg/../results/simu_settingcmpn1_400/all-valsel-metrics.pkl\n"
     ]
    },
    {
     "name": "stderr",
     "output_type": "stream",
     "text": [
      "c1: 0.4: 100%|██████████████████████████████████████████████████████████████| 200/200 [00:00<00:00, 17900.66it/s]"
     ]
    },
    {
     "name": "stdout",
     "output_type": "stream",
     "text": [
      "8 1.1 1.2\n"
     ]
    },
    {
     "name": "stderr",
     "output_type": "stream",
     "text": [
      "\n"
     ]
    }
   ],
   "source": [
    "def _run_fn1(seed, all_cv_errs):\n",
    "    errs_mat = []\n",
    "    for cur_N in can_Ns:\n",
    "        errs = []\n",
    "        for cur_lam in can_lams:\n",
    "            #errs.append(all_cv_errs[(seed, cur_N, cur_lam)].BIC)\n",
    "            errs.append(all_cv_errs[(seed, cur_N, cur_lam)].mse_loss)\n",
    "        errs_mat.append(errs)\n",
    "    errs_mat = np.array(errs_mat)\n",
    "    return errs_mat\n",
    "opt_lamNs_fix = {}\n",
    "for c1 in c1s:\n",
    "    cur_save_dir = RES_ROOT/f\"simu_setting{setting.setting}_{c1*1000:.0f}\"\n",
    "    all_cv_errs = load_pkl(cur_save_dir/f\"all-valsel-metrics.pkl\")\n",
    "    num_seed = len(np.unique(list(map(lambda x: x[0], all_cv_errs.keys()))))\n",
    "    # do not make n_jobs>1, it is very slow\n",
    "    with Parallel(n_jobs=1) as parallel:\n",
    "        err_ten = parallel(delayed(_run_fn1)(cur_seed, all_cv_errs)  \n",
    "                                 for cur_seed in tqdm(range(num_seed), total=num_seed, desc=f\"c1: {c1}\"))\n",
    "    err_ten = np.array(err_ten);\n",
    "    \n",
    "    err_ten_ses = err_ten.std(axis=0)/np.sqrt(err_ten.shape[0])\n",
    "    err_m = np.median(np.array(err_ten), axis=0)\n",
    "    errs = []\n",
    "    for err in err_m:\n",
    "        lam_min_idx = _get_min_idx(err)\n",
    "        errs.append((err[lam_min_idx], lam_min_idx))\n",
    "    errs = np.array(errs)\n",
    "    N_min_idx = np.argmin(errs[:, 0]);\n",
    "    lam_min_idx = int(errs[N_min_idx][1]);\n",
    "    min_opt_N, min_opt_lam = can_Ns[N_min_idx], can_lams[lam_min_idx]\n",
    "    \n",
    "    err_upbd = err_m[N_min_idx, lam_min_idx] + err_ten_ses[N_min_idx, lam_min_idx]; \n",
    "    lam_1se_idx = np.where(err_m[N_min_idx] <= err_upbd)[0].max();\n",
    "    print(can_Ns[N_min_idx], can_lams[lam_min_idx], can_lams[lam_1se_idx])\n",
    "    opt_lamNs_fix[c1] = (can_Ns[N_min_idx],  can_lams[lam_min_idx])"
   ]
  },
  {
   "cell_type": "code",
   "execution_count": 235,
   "id": "02242202-65e5-4926-8a80-4a313e353195",
   "metadata": {
    "execution": {
     "iopub.execute_input": "2024-02-16T21:51:36.038389Z",
     "iopub.status.busy": "2024-02-16T21:51:36.037740Z",
     "iopub.status.idle": "2024-02-16T21:51:36.078410Z",
     "shell.execute_reply": "2024-02-16T21:51:36.077751Z",
     "shell.execute_reply.started": "2024-02-16T21:51:36.038341Z"
    },
    "tags": []
   },
   "outputs": [
    {
     "data": {
      "text/plain": [
       "{0.0: (6, 0.8), 0.2: (8, 1.0), 0.4: (8, 1.1)}"
      ]
     },
     "execution_count": 235,
     "metadata": {},
     "output_type": "execute_result"
    }
   ],
   "source": [
    "opt_lamNs_fix"
   ]
  },
  {
   "cell_type": "code",
   "execution_count": 236,
   "id": "abe4c784-1a02-4d92-9fb9-53cd9c23f066",
   "metadata": {
    "execution": {
     "iopub.execute_input": "2024-02-16T21:51:37.073373Z",
     "iopub.status.busy": "2024-02-16T21:51:37.072711Z",
     "iopub.status.idle": "2024-02-16T21:51:39.997390Z",
     "shell.execute_reply": "2024-02-16T21:51:39.996812Z",
     "shell.execute_reply.started": "2024-02-16T21:51:37.073321Z"
    },
    "scrolled": true,
    "tags": []
   },
   "outputs": [
    {
     "name": "stderr",
     "output_type": "stream",
     "text": [
      "c1: 0: 100%|██████████████████████████████████████████████████████████████████| 200/200 [00:00<00:00, 652.08it/s]\n"
     ]
    },
    {
     "name": "stdout",
     "output_type": "stream",
     "text": [
      "Save to /data/rajlab1/user_data/jin/MyResearch/HDF_infer/notebooks/simu_cmp2sinica/../../mypkg/../results/simu_settingcmpn1_0/opt_lamNsfixNlam_ress.pkl\n"
     ]
    },
    {
     "name": "stderr",
     "output_type": "stream",
     "text": [
      "c1: 200: 100%|████████████████████████████████████████████████████████████████| 200/200 [00:00<00:00, 592.14it/s]\n"
     ]
    },
    {
     "name": "stdout",
     "output_type": "stream",
     "text": [
      "Save to /data/rajlab1/user_data/jin/MyResearch/HDF_infer/notebooks/simu_cmp2sinica/../../mypkg/../results/simu_settingcmpn1_200/opt_lamNsfixNlam_ress.pkl\n"
     ]
    },
    {
     "name": "stderr",
     "output_type": "stream",
     "text": [
      "c1: 400: 100%|████████████████████████████████████████████████████████████████| 200/200 [00:00<00:00, 628.33it/s]\n"
     ]
    },
    {
     "name": "stdout",
     "output_type": "stream",
     "text": [
      "Save to /data/rajlab1/user_data/jin/MyResearch/HDF_infer/notebooks/simu_cmp2sinica/../../mypkg/../results/simu_settingcmpn1_400/opt_lamNsfixNlam_ress.pkl\n"
     ]
    }
   ],
   "source": [
    "# for adaptive lam N\n",
    "cans = [1e-5, 3e-6, 1e-6, 3e-7, 1e-7, 3e-8, 1e-8, 3e-9, 1e-9, 3e-10, 0]\n",
    "all_coms = [(can, can) for can in cans]\n",
    "#all_coms = list(itertools.product(cans, cans))\n",
    "for c1 in c1s:\n",
    "    cur_save_dir = RES_ROOT/f\"simu_setting{setting.setting}_{c1*1000:.0f}\"\n",
    "    cur_N, cur_lam = opt_lamNs_fix[c1]\n",
    "    def _run_fn_test(cur_seed):\n",
    "        from optimization.opt import logger as logger1\n",
    "        logger1.handlers[0].setLevel(logging.WARNING)\n",
    "        torch.set_default_dtype(torch.float64)\n",
    "        f1_name = f\"seed_{cur_seed:.0f}-lam_{cur_lam*1000:.0f}-N_{cur_N:.0f}_fit.pkl\"\n",
    "        res1 = load_pkl(cur_save_dir/f1_name, verbose=False);\n",
    "        res1.basis_mat = torch.tensor(res1.obt_bsp(np.linspace(0, 1, setting.data_gen_params.npts), \n",
    "                                      res1.bsp_params.N, res1.bsp_params.basis_ord)).to(torch.get_default_dtype());\n",
    "        res = []\n",
    "        for rtols in all_coms:\n",
    "            re = res1.hypo_test(Cmat=Cmat, ts=None, is_simpler=False, hypo_params={\"svdinv_eps_Q\": rtols[0], \"svdinv_eps_Psi\": rtols[1]}) \n",
    "            res.append(re)\n",
    "    \n",
    "        return res \n",
    "    with Parallel(n_jobs=10) as parallel:\n",
    "        ress = parallel(delayed(_run_fn_test)(cur_seed) for cur_seed in tqdm(range(num_rep), desc=f\"c1: {c1*1000:.0f}\", total=num_rep))\n",
    "    ress = np.array(ress);\n",
    "    save_pkl(cur_save_dir/f\"opt_lamNsfixNlam_ress.pkl\", ress, is_force=1)"
   ]
  },
  {
   "cell_type": "code",
   "execution_count": null,
   "id": "d3d8dc76-d28c-44a5-9190-1bd0cefe53a9",
   "metadata": {},
   "outputs": [],
   "source": []
  },
  {
   "cell_type": "code",
   "execution_count": null,
   "id": "4fb91ff8-5516-4607-b597-a84764e17df4",
   "metadata": {},
   "outputs": [],
   "source": []
  },
  {
   "cell_type": "markdown",
   "id": "d30d4a08-5de2-4412-8541-5dd78612ed5c",
   "metadata": {},
   "source": [
    "## Find Q and Psi rtol"
   ]
  },
  {
   "cell_type": "code",
   "execution_count": 237,
   "id": "e4297092-475a-42e3-970b-f8774ef3fb70",
   "metadata": {
    "execution": {
     "iopub.execute_input": "2024-02-16T21:51:41.199967Z",
     "iopub.status.busy": "2024-02-16T21:51:41.199322Z",
     "iopub.status.idle": "2024-02-16T21:51:41.589487Z",
     "shell.execute_reply": "2024-02-16T21:51:41.588982Z",
     "shell.execute_reply.started": "2024-02-16T21:51:41.199910Z"
    },
    "tags": []
   },
   "outputs": [
    {
     "name": "stdout",
     "output_type": "stream",
     "text": [
      "Load file /data/rajlab1/user_data/jin/MyResearch/HDF_infer/notebooks/simu_cmp2sinica/../../mypkg/../results/simu_settingcmpn1_0/opt_lamNsfixNlam_ress.pkl\n",
      "Load file /data/rajlab1/user_data/jin/MyResearch/HDF_infer/notebooks/simu_cmp2sinica/../../mypkg/../results/simu_settingcmpn1_200/opt_lamNsfixNlam_ress.pkl\n",
      "Load file /data/rajlab1/user_data/jin/MyResearch/HDF_infer/notebooks/simu_cmp2sinica/../../mypkg/../results/simu_settingcmpn1_400/opt_lamNsfixNlam_ress.pkl\n"
     ]
    }
   ],
   "source": [
    "ress_dict = {}\n",
    "for c1 in c1s:\n",
    "    cur_save_dir = RES_ROOT/f\"simu_setting{setting.setting}_{c1*1000:.0f}\"\n",
    "    ress = load_pkl(cur_save_dir/f\"opt_lamNsfixNlam_ress.pkl\");\n",
    "    #ress = load_pkl(cur_save_dir/f\"opt_lamNsfixN_ress.pkl\");\n",
    "    #ress = load_pkl(cur_save_dir/f\"opt_lamNs_ress.pkl\");\n",
    "    #ress = load_pkl(cur_save_dir/f\"opt_lamNsfixN1se_c1_{c1*1000:.0f}_ress.pkl\");\n",
    "    ress_dict[c1] = ress"
   ]
  },
  {
   "cell_type": "code",
   "execution_count": 238,
   "id": "d5348b9e-0fe6-4f79-9b91-d2ab166c527d",
   "metadata": {
    "execution": {
     "iopub.execute_input": "2024-02-16T21:51:42.011444Z",
     "iopub.status.busy": "2024-02-16T21:51:42.010809Z",
     "iopub.status.idle": "2024-02-16T21:51:42.052856Z",
     "shell.execute_reply": "2024-02-16T21:51:42.052182Z",
     "shell.execute_reply.started": "2024-02-16T21:51:42.011396Z"
    },
    "tags": []
   },
   "outputs": [],
   "source": [
    "def outlier_det(T_vs, ratio_tol=0.05):\n",
    "    \"\"\"\n",
    "    Detects outliers in a given dataset using the interquartile range (IQR) method.\n",
    "\n",
    "    Parameters:\n",
    "    - T_vs (array-like): The input dataset.\n",
    "    - ratio_tol (float, optional): The tolerance ratio for outlier removal. Default is 0.05.\n",
    "\n",
    "    Returns:\n",
    "    - kpidx (ndarray): A boolean array indicating whether each data point is an outlier or not.\n",
    "    \"\"\"\n",
    "    Q1, Q3 = np.quantile(T_vs, [0.25, 0.75])\n",
    "    IQR = Q3 - Q1\n",
    "    upbd = Q3 + 1.5*IQR\n",
    "    lowbd = Q1 - 1.5*IQR\n",
    "    kpidx = np.bitwise_and(T_vs>=lowbd, T_vs<=upbd)\n",
    "    \n",
    "    if np.mean(kpidx)+ ratio_tol < 1:\n",
    "        out_part = np.stack([T_vs - upbd, lowbd - T_vs]).T.max(axis=1);\n",
    "        kpidx = np.ones(len(T_vs), dtype=bool)\n",
    "        kpidx[np.argsort(-out_part)[:int(len(T_vs)*ratio_tol)]] = False\n",
    "    return kpidx"
   ]
  },
  {
   "cell_type": "code",
   "execution_count": 239,
   "id": "e68ec23d-e727-4160-bba8-5ab94be466bf",
   "metadata": {
    "execution": {
     "iopub.execute_input": "2024-02-16T21:51:42.518271Z",
     "iopub.status.busy": "2024-02-16T21:51:42.517626Z",
     "iopub.status.idle": "2024-02-16T21:51:42.604264Z",
     "shell.execute_reply": "2024-02-16T21:51:42.603615Z",
     "shell.execute_reply.started": "2024-02-16T21:51:42.518224Z"
    },
    "tags": []
   },
   "outputs": [
    {
     "data": {
      "text/html": [
       "<div>\n",
       "<style scoped>\n",
       "    .dataframe tbody tr th:only-of-type {\n",
       "        vertical-align: middle;\n",
       "    }\n",
       "\n",
       "    .dataframe tbody tr th {\n",
       "        vertical-align: top;\n",
       "    }\n",
       "\n",
       "    .dataframe thead th {\n",
       "        text-align: right;\n",
       "    }\n",
       "</style>\n",
       "<table border=\"1\" class=\"dataframe\">\n",
       "  <thead>\n",
       "    <tr style=\"text-align: right;\">\n",
       "      <th></th>\n",
       "      <th>0.0</th>\n",
       "      <th>0.2</th>\n",
       "      <th>0.4</th>\n",
       "      <th>Q</th>\n",
       "      <th>Psi</th>\n",
       "    </tr>\n",
       "  </thead>\n",
       "  <tbody>\n",
       "    <tr>\n",
       "      <th>0</th>\n",
       "      <td>0.055</td>\n",
       "      <td>0.180</td>\n",
       "      <td>0.62</td>\n",
       "      <td>1.000000e-05</td>\n",
       "      <td>1.000000e-05</td>\n",
       "    </tr>\n",
       "    <tr>\n",
       "      <th>1</th>\n",
       "      <td>0.055</td>\n",
       "      <td>0.180</td>\n",
       "      <td>0.62</td>\n",
       "      <td>3.000000e-06</td>\n",
       "      <td>3.000000e-06</td>\n",
       "    </tr>\n",
       "    <tr>\n",
       "      <th>2</th>\n",
       "      <td>0.055</td>\n",
       "      <td>0.180</td>\n",
       "      <td>0.62</td>\n",
       "      <td>1.000000e-06</td>\n",
       "      <td>1.000000e-06</td>\n",
       "    </tr>\n",
       "    <tr>\n",
       "      <th>3</th>\n",
       "      <td>0.055</td>\n",
       "      <td>0.180</td>\n",
       "      <td>0.62</td>\n",
       "      <td>3.000000e-07</td>\n",
       "      <td>3.000000e-07</td>\n",
       "    </tr>\n",
       "    <tr>\n",
       "      <th>4</th>\n",
       "      <td>0.055</td>\n",
       "      <td>0.180</td>\n",
       "      <td>0.62</td>\n",
       "      <td>1.000000e-07</td>\n",
       "      <td>1.000000e-07</td>\n",
       "    </tr>\n",
       "    <tr>\n",
       "      <th>5</th>\n",
       "      <td>0.055</td>\n",
       "      <td>0.180</td>\n",
       "      <td>0.62</td>\n",
       "      <td>3.000000e-08</td>\n",
       "      <td>3.000000e-08</td>\n",
       "    </tr>\n",
       "    <tr>\n",
       "      <th>6</th>\n",
       "      <td>0.055</td>\n",
       "      <td>0.180</td>\n",
       "      <td>0.62</td>\n",
       "      <td>1.000000e-08</td>\n",
       "      <td>1.000000e-08</td>\n",
       "    </tr>\n",
       "    <tr>\n",
       "      <th>7</th>\n",
       "      <td>0.055</td>\n",
       "      <td>0.180</td>\n",
       "      <td>0.62</td>\n",
       "      <td>3.000000e-09</td>\n",
       "      <td>3.000000e-09</td>\n",
       "    </tr>\n",
       "    <tr>\n",
       "      <th>8</th>\n",
       "      <td>0.055</td>\n",
       "      <td>0.180</td>\n",
       "      <td>0.62</td>\n",
       "      <td>1.000000e-09</td>\n",
       "      <td>1.000000e-09</td>\n",
       "    </tr>\n",
       "    <tr>\n",
       "      <th>9</th>\n",
       "      <td>0.055</td>\n",
       "      <td>0.180</td>\n",
       "      <td>0.62</td>\n",
       "      <td>3.000000e-10</td>\n",
       "      <td>3.000000e-10</td>\n",
       "    </tr>\n",
       "    <tr>\n",
       "      <th>10</th>\n",
       "      <td>0.055</td>\n",
       "      <td>0.135</td>\n",
       "      <td>0.61</td>\n",
       "      <td>0.000000e+00</td>\n",
       "      <td>0.000000e+00</td>\n",
       "    </tr>\n",
       "  </tbody>\n",
       "</table>\n",
       "</div>"
      ],
      "text/plain": [
       "      0.0    0.2   0.4             Q           Psi\n",
       "0   0.055  0.180  0.62  1.000000e-05  1.000000e-05\n",
       "1   0.055  0.180  0.62  3.000000e-06  3.000000e-06\n",
       "2   0.055  0.180  0.62  1.000000e-06  1.000000e-06\n",
       "3   0.055  0.180  0.62  3.000000e-07  3.000000e-07\n",
       "4   0.055  0.180  0.62  1.000000e-07  1.000000e-07\n",
       "5   0.055  0.180  0.62  3.000000e-08  3.000000e-08\n",
       "6   0.055  0.180  0.62  1.000000e-08  1.000000e-08\n",
       "7   0.055  0.180  0.62  3.000000e-09  3.000000e-09\n",
       "8   0.055  0.180  0.62  1.000000e-09  1.000000e-09\n",
       "9   0.055  0.180  0.62  3.000000e-10  3.000000e-10\n",
       "10  0.055  0.135  0.61  0.000000e+00  0.000000e+00"
      ]
     },
     "execution_count": 239,
     "metadata": {},
     "output_type": "execute_result"
    }
   ],
   "source": [
    "import pandas as pd\n",
    "cans = [1e-5, 3e-6, 1e-6, 3e-7, 1e-7, 3e-8, 1e-8, 3e-9, 1e-9, 3e-10, 0]\n",
    "\n",
    "all_coms = np.array(list(itertools.product(cans, cans)));\n",
    "all_coms = [(can, can) for can in cans]\n",
    "kpidxs = []\n",
    "\n",
    "df = []\n",
    "for c1 in c1s:\n",
    "    ress = ress_dict[c1]\n",
    "    pvals = np.array([[re[\"pval\"] for re in res] for res in ress]);\n",
    "    T_vss = np.array([[re[\"T_v\"] for re in res] for res in ress]);\n",
    "    \n",
    "    kpidxss = [outlier_det(T_vss[:, can_ix], 0.00) for can_ix in range(T_vss.shape[1])];\n",
    "    if True:\n",
    "        vec_pv = np.array([np.mean(pvals[:, can_ix][kpidxss[can_ix]]<0.05) for can_ix in range(len(cans))])\n",
    "    else:\n",
    "        vec_pv = np.array([np.mean(pvals[:, can_ix]<0.05) for can_ix in range(len(cans))])\n",
    "    #vec_pv = np.mean(pvals<0.05, axis=0)\n",
    "    df.append(vec_pv[:, np.newaxis])\n",
    "df.append(all_coms) \n",
    "df = np.hstack(df)\n",
    "df = pd.DataFrame(df) \n",
    "df.columns = c1s+[\"Q\", \"Psi\"]\n",
    "df"
   ]
  },
  {
   "cell_type": "code",
   "execution_count": 208,
   "id": "2d4d9be9-bd4a-4b3a-ae6c-28855e983c3a",
   "metadata": {
    "execution": {
     "iopub.execute_input": "2024-02-16T21:47:22.905098Z",
     "iopub.status.busy": "2024-02-16T21:47:22.904440Z",
     "iopub.status.idle": "2024-02-16T21:47:22.958378Z",
     "shell.execute_reply": "2024-02-16T21:47:22.957630Z",
     "shell.execute_reply.started": "2024-02-16T21:47:22.905047Z"
    },
    "tags": []
   },
   "outputs": [
    {
     "data": {
      "text/plain": [
       "array([1125.18565091,   16.56158501,   16.1649357 ,   16.3027755 ,\n",
       "         15.25156412,   14.72733094,   14.68217806,   14.65961951,\n",
       "         14.6614984 ,   14.66102065,   14.66102065])"
      ]
     },
     "execution_count": 208,
     "metadata": {},
     "output_type": "execute_result"
    }
   ],
   "source": [
    "c1 = 0.0\n",
    "ress = ress_dict[c1]\n",
    "pvals = np.array([[re[\"pval\"] for re in res] for res in ress]);\n",
    "T_vss = np.array([[re[\"T_v\"] for re in res] for res in ress]);\n",
    "T_vss.mean(axis=0)"
   ]
  },
  {
   "cell_type": "code",
   "execution_count": 133,
   "id": "6f4cece6-1723-486c-ab9b-e8cb63889580",
   "metadata": {
    "execution": {
     "iopub.execute_input": "2024-01-28T20:02:29.489807Z",
     "iopub.status.busy": "2024-01-28T20:02:29.489238Z",
     "iopub.status.idle": "2024-01-28T20:02:29.531374Z",
     "shell.execute_reply": "2024-01-28T20:02:29.530682Z",
     "shell.execute_reply.started": "2024-01-28T20:02:29.489762Z"
    },
    "tags": []
   },
   "outputs": [],
   "source": [
    "c1 = 0.0\n",
    "cur_save_dir = RES_ROOT/f\"simu_settingnm1b_{0.4*1000:.0f}\"\n",
    "cur_N = 14\n",
    "cur_lam = 1.2\n",
    "def _run_fn_test(cur_seed):\n",
    "        from optimization.opt import logger as logger1\n",
    "        logger1.handlers[0].setLevel(logging.WARNING)\n",
    "        torch.set_default_dtype(torch.float64)\n",
    "        f1_name = f\"seed_{cur_seed:.0f}-lam_{cur_lam*1000:.0f}-N_{cur_N:.0f}_fit.pkl\"\n",
    "        res1 = load_pkl(cur_save_dir/f1_name, verbose=False);\n",
    "        #res1.basis_mat = torch.tensor(res1.obt_bsp(np.linspace(0, 1, setting.data_gen_params.npts), \n",
    "        #                              res1.bsp_params.N, res1.bsp_params.basis_ord)).to(torch.get_default_dtype());\n",
    "        #res = res1.hypo_test(Cmat=Cmat, ts=None, is_simpler=False, \n",
    "        #                     hypo_params={\"svdinv_eps_Q\": 1e-7, \"svdinv_eps_Psi\": 1e-7}) \n",
    "    \n",
    "        return res1 "
   ]
  },
  {
   "cell_type": "code",
   "execution_count": 134,
   "id": "6e87accf-9284-4892-b9f6-6596ad8ec9cf",
   "metadata": {
    "execution": {
     "iopub.execute_input": "2024-01-28T20:02:30.152691Z",
     "iopub.status.busy": "2024-01-28T20:02:30.152042Z",
     "iopub.status.idle": "2024-01-28T20:02:39.045342Z",
     "shell.execute_reply": "2024-01-28T20:02:39.043895Z",
     "shell.execute_reply.started": "2024-01-28T20:02:30.152635Z"
    },
    "tags": []
   },
   "outputs": [],
   "source": [
    "ress = []\n",
    "for rep_ix in range(200):\n",
    "    res = _run_fn_test(rep_ix)\n",
    "    ress.append(res.keep_idxs)"
   ]
  },
  {
   "cell_type": "code",
   "execution_count": 135,
   "id": "c94d33eb-1cdd-4035-b8b0-2fef3cd0be8c",
   "metadata": {
    "execution": {
     "iopub.execute_input": "2024-01-28T20:02:39.048248Z",
     "iopub.status.busy": "2024-01-28T20:02:39.047558Z",
     "iopub.status.idle": "2024-01-28T20:02:39.087241Z",
     "shell.execute_reply": "2024-01-28T20:02:39.086025Z",
     "shell.execute_reply.started": "2024-01-28T20:02:39.048202Z"
    },
    "tags": []
   },
   "outputs": [
    {
     "data": {
      "text/plain": [
       "2"
      ]
     },
     "execution_count": 135,
     "metadata": {},
     "output_type": "execute_result"
    }
   ],
   "source": [
    "np.sum(np.array(ress)[:, -1]!=67)"
   ]
  },
  {
   "cell_type": "code",
   "execution_count": null,
   "id": "2b404df1-7735-4348-b212-485417ab16e4",
   "metadata": {},
   "outputs": [],
   "source": [
    "\n"
   ]
  },
  {
   "cell_type": "code",
   "execution_count": null,
   "id": "90c9ee1f-2834-4fec-842e-c54e6bfd5f1e",
   "metadata": {},
   "outputs": [],
   "source": []
  }
 ],
 "metadata": {
  "kernelspec": {
   "display_name": "Python 3 (ipykernel)",
   "language": "python",
   "name": "python3"
  },
  "language_info": {
   "codemirror_mode": {
    "name": "ipython",
    "version": 3
   },
   "file_extension": ".py",
   "mimetype": "text/x-python",
   "name": "python",
   "nbconvert_exporter": "python",
   "pygments_lexer": "ipython3",
   "version": "3.9.7"
  },
  "toc": {
   "base_numbering": 1,
   "nav_menu": {},
   "number_sections": true,
   "sideBar": true,
   "skip_h1_title": false,
   "title_cell": "Table of Contents",
   "title_sidebar": "Contents",
   "toc_cell": false,
   "toc_position": {
    "height": "calc(100% - 180px)",
    "left": "10px",
    "top": "150px",
    "width": "165px"
   },
   "toc_section_display": true,
   "toc_window_display": true
  },
  "toc-autonumbering": true
 },
 "nbformat": 4,
 "nbformat_minor": 5
}
