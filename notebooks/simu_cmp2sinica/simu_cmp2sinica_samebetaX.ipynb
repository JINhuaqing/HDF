{
 "cells": [
  {
   "cell_type": "markdown",
   "id": "faf0a805",
   "metadata": {},
   "source": [
    "This file contains python code to compare with sinica paper\n",
    "\n",
    "It is under the linear setting\n",
    "\n",
    "Now, I use the same X and beta from the paper (on Sep 4, 2023)"
   ]
  },
  {
   "cell_type": "code",
   "execution_count": 1,
   "id": "02ae980e",
   "metadata": {
    "ExecuteTime": {
     "end_time": "2023-05-31T19:57:23.490285Z",
     "start_time": "2023-05-31T19:57:23.481769Z"
    },
    "execution": {
     "iopub.execute_input": "2023-10-27T20:27:42.474621Z",
     "iopub.status.busy": "2023-10-27T20:27:42.474020Z",
     "iopub.status.idle": "2023-10-27T20:27:42.488199Z",
     "shell.execute_reply": "2023-10-27T20:27:42.487145Z",
     "shell.execute_reply.started": "2023-10-27T20:27:42.474569Z"
    },
    "tags": []
   },
   "outputs": [],
   "source": [
    "import sys\n",
    "sys.path.append(\"../../mypkg\")"
   ]
  },
  {
   "cell_type": "code",
   "execution_count": 2,
   "id": "023df78a",
   "metadata": {
    "ExecuteTime": {
     "end_time": "2023-05-31T19:57:34.238839Z",
     "start_time": "2023-05-31T19:57:23.494053Z"
    },
    "execution": {
     "iopub.execute_input": "2023-10-27T20:27:42.490159Z",
     "iopub.status.busy": "2023-10-27T20:27:42.489602Z",
     "iopub.status.idle": "2023-10-27T20:27:44.784285Z",
     "shell.execute_reply": "2023-10-27T20:27:44.783398Z",
     "shell.execute_reply.started": "2023-10-27T20:27:42.490114Z"
    },
    "tags": []
   },
   "outputs": [],
   "source": [
    "import numpy as np\n",
    "import torch\n",
    "import matplotlib.pyplot as plt\n",
    "import seaborn as sns\n",
    "from scipy.stats import pearsonr\n",
    "from numbers import Number\n",
    "\n",
    "from easydict import EasyDict as edict\n",
    "from tqdm import trange, tqdm\n",
    "from scipy.io import loadmat\n",
    "from pprint import pprint\n",
    "import itertools\n",
    "from scipy.stats import chi2\n"
   ]
  },
  {
   "cell_type": "code",
   "execution_count": 3,
   "id": "b9d3cbc6-1ac5-47d6-a0d1-bcbc0be9267e",
   "metadata": {
    "execution": {
     "iopub.execute_input": "2023-10-27T20:27:44.787732Z",
     "iopub.status.busy": "2023-10-27T20:27:44.786658Z",
     "iopub.status.idle": "2023-10-27T20:27:44.824176Z",
     "shell.execute_reply": "2023-10-27T20:27:44.823701Z",
     "shell.execute_reply.started": "2023-10-27T20:27:44.787684Z"
    },
    "tags": []
   },
   "outputs": [],
   "source": [
    "# This will reload all imports as soon as the code changes\n",
    "%load_ext autoreload\n",
    "%autoreload 2"
   ]
  },
  {
   "cell_type": "code",
   "execution_count": 4,
   "id": "b0aa91b2",
   "metadata": {
    "ExecuteTime": {
     "end_time": "2023-05-31T19:57:59.558229Z",
     "start_time": "2023-05-31T19:57:34.292612Z"
    },
    "execution": {
     "iopub.execute_input": "2023-10-27T20:27:44.825088Z",
     "iopub.status.busy": "2023-10-27T20:27:44.824914Z",
     "iopub.status.idle": "2023-10-27T20:27:47.248325Z",
     "shell.execute_reply": "2023-10-27T20:27:47.246657Z",
     "shell.execute_reply.started": "2023-10-27T20:27:44.825073Z"
    },
    "tags": []
   },
   "outputs": [],
   "source": [
    "from constants import DATA_ROOT, RES_ROOT, FIG_ROOT, MIDRES_ROOT\n",
    "from default_paras import def_paras\n",
    "\n",
    "from hdf_utils.data_gen import gen_covs, gen_simu_psd, gen_simu_ts\n",
    "from hdf_utils.fns import fn1, fn2, fn3, fn4, fn5, zero_fn\n",
    "from hdf_utils.fns_sinica import coef_fn, fourier_basis_fn, gen_sini_Xthetas\n",
    "from hdf_utils.likelihood import obt_lin_tm\n",
    "from hdf_utils.SIS import SIS_linear\n",
    "from hdf_utils.utils import gen_lam_seq\n",
    "from hdf_utils.hypo_test import  MS2idxs, obt_test_stat_simple2, obt_test_stat_simple3\n",
    "from utils.matrix import col_vec_fn, col_vec2mat_fn, conju_grad, svd_inverse, cholesky_inv\n",
    "from utils.functions import logit_fn\n",
    "from utils.misc import save_pkl, load_pkl\n",
    "from splines import obt_bsp_obasis_Rfn, obt_bsp_basis_Rfn_wrapper\n",
    "from projection import euclidean_proj_l1ball\n",
    "from optimization.one_step_opt import OneStepOpt\n",
    "from optimization.cross_validation import CV_err_linear_fn\n",
    "from optimization.opt import optimization\n",
    "from penalties.scad_pen import SCAD\n",
    "from models.linear_model import LinearModel\n",
    "from optimization.variable_selection import GIC_fn, GCV_fn\n",
    "\n",
    "from joblib import Parallel, delayed"
   ]
  },
  {
   "cell_type": "code",
   "execution_count": 5,
   "id": "fe0a4a46",
   "metadata": {
    "ExecuteTime": {
     "end_time": "2023-05-31T19:57:59.621784Z",
     "start_time": "2023-05-31T19:57:59.568097Z"
    },
    "execution": {
     "iopub.execute_input": "2023-10-27T20:27:47.250987Z",
     "iopub.status.busy": "2023-10-27T20:27:47.250254Z",
     "iopub.status.idle": "2023-10-27T20:27:47.290854Z",
     "shell.execute_reply": "2023-10-27T20:27:47.289764Z",
     "shell.execute_reply.started": "2023-10-27T20:27:47.250937Z"
    },
    "tags": []
   },
   "outputs": [],
   "source": [
    "plt.style.use(FIG_ROOT/\"base.mplstyle\")\n",
    "torch.set_default_tensor_type(torch.DoubleTensor)"
   ]
  },
  {
   "cell_type": "code",
   "execution_count": null,
   "id": "e0cb5a3d-1ab1-4bc0-bfce-d7ebaedb0391",
   "metadata": {},
   "outputs": [],
   "source": []
  },
  {
   "cell_type": "code",
   "execution_count": null,
   "id": "d0af2f35",
   "metadata": {},
   "outputs": [],
   "source": []
  },
  {
   "cell_type": "markdown",
   "id": "dd9c6514",
   "metadata": {},
   "source": [
    "# Param and fns"
   ]
  },
  {
   "cell_type": "code",
   "execution_count": null,
   "id": "a10d559c-8d6a-428a-bdb9-23c0a5aac96b",
   "metadata": {},
   "outputs": [],
   "source": []
  },
  {
   "cell_type": "markdown",
   "id": "21e4ccea",
   "metadata": {},
   "source": [
    "## Params"
   ]
  },
  {
   "cell_type": "code",
   "execution_count": 6,
   "id": "fd29f0de",
   "metadata": {
    "ExecuteTime": {
     "end_time": "2023-05-31T23:31:16.397628Z",
     "start_time": "2023-05-31T23:31:16.221812Z"
    },
    "execution": {
     "iopub.execute_input": "2023-10-27T20:27:47.291656Z",
     "iopub.status.busy": "2023-10-27T20:27:47.291477Z",
     "iopub.status.idle": "2023-10-27T20:27:47.336985Z",
     "shell.execute_reply": "2023-10-27T20:27:47.335869Z",
     "shell.execute_reply.started": "2023-10-27T20:27:47.291641Z"
    },
    "tags": []
   },
   "outputs": [
    {
     "name": "stdout",
     "output_type": "stream",
     "text": [
      "[ 0.          0.          0.          0.          0.          0.\n",
      "  0.          0.          0.          0.          0.          0.\n",
      "  0.          0.          0.          0.          0.          0.\n",
      "  0.          0.          0.          0.          0.          0.\n",
      "  0.          0.          0.          0.          0.          0.\n",
      "  0.          0.          0.          0.          0.          0.\n",
      "  0.          0.          0.          0.          0.          0.\n",
      "  0.          0.          0.          0.          0.          0.\n",
      "  0.          0.          0.          0.          0.          0.\n",
      "  0.          0.          0.          0.          0.          0.\n",
      "  0.          0.          0.          0.          0.          0.\n",
      "  0.          0.          0.          0.          0.          0.\n",
      "  0.          0.          0.          0.          0.          0.\n",
      "  0.          0.          0.          0.          0.          0.\n",
      "  0.          0.          0.          0.          0.          0.\n",
      "  0.          0.          0.          0.          0.          0.\n",
      "  0.          0.          0.          0.          0.          0.\n",
      "  0.          0.          0.          0.          0.          0.\n",
      "  0.          0.          0.          0.          0.          0.\n",
      "  0.          0.          0.          0.          0.          0.\n",
      "  0.          0.          0.          0.          0.          0.\n",
      "  0.          0.          0.          0.          0.          0.\n",
      "  0.          0.          0.          0.          0.          0.\n",
      "  0.          0.          0.          0.          0.          0.\n",
      "  0.          0.          0.          0.          0.          0.\n",
      "  0.          0.          0.          0.          0.          0.\n",
      "  0.          0.          0.          0.          0.          0.\n",
      "  0.          0.          0.          0.          0.          0.\n",
      "  0.          0.          0.          0.          0.          0.\n",
      "  0.          0.          0.          0.          0.          0.\n",
      "  0.          0.          0.          0.          0.          0.\n",
      "  0.          0.          0.          0.          0.          0.\n",
      "  0.          0.          0.          0.          0.          0.\n",
      "  0.         14.87358566]\n"
     ]
    }
   ],
   "source": [
    "np.random.seed(0)\n",
    "#obt_bsp = obt_bsp_obasis_Rfn\n",
    "obt_bsp = obt_bsp_basis_Rfn_wrapper\n",
    "paras = edict(def_paras.copy())\n",
    "\n",
    "\n",
    "\n",
    "# Others\n",
    "paras.num_rep = 200 \n",
    "paras.init_noise_sd = -1 # the sd of the noise added to the true value for initial values, if -1, make init 0\n",
    "paras.SIS_ratio = 0.20 # the ratio to keep with SIS procedure\n",
    "paras.linear_theta_update=\"cholesky_inv\"\n",
    "\n",
    "# candidate sets of tuning parameters, only two \n",
    "# lambda: penalty term\n",
    "# N: num of basis\n",
    "paras.can_lams = [0.01, 0.1, 0.2, 0.3, 0.4, 0.6, 1, 2, 8] # for non\n",
    "paras.can_lams = [0.001, 0.3, 0.6, 0.8, 1, 1.2, 1.4, 2, 16] # for orthogonal basis\n",
    "paras.can_Ns = [4, 6, 8, 10, 12]\n",
    "\n",
    "\n",
    "# generating dataset\n",
    "paras.n = 500 # num of data obs to be genareted\n",
    "paras.npts = 100 # num of pts to evaluate X(s)\n",
    "paras.d = 200 # num of ROIs\n",
    "paras.q = 1 # num of other covariates\n",
    "paras.sigma2 = 1 # variance of the error\n",
    "# variance used for estimation, note that the value does not affect any results \n",
    "# as long as I tune the parameter properly\n",
    "paras.norminal_sigma2 = 1 \n",
    "paras.types_ = [\"int\"]\n",
    "paras.srho = 0.3 # corr from sinica\n",
    "\n",
    "# b-spline\n",
    "paras.x = np.linspace(0, 1, paras.npts)\n",
    "paras.basis_mats = []\n",
    "for N in paras.can_Ns:\n",
    "    paras.basis_mats.append(\n",
    "        torch.tensor(obt_bsp(paras.x, N, paras.ord)).to(torch.get_default_dtype())\n",
    "    )\n",
    "\n",
    "# True parameters\n",
    "paras.alp_GT = np.array([0])\n",
    "# fourier basis\n",
    "cs = [0.0, 0.0, 0.0] # for sinica paper\n",
    "paras.fourier_basis = fourier_basis_fn(paras.x)[:, :]\n",
    "paras.fourier_basis_coefs = ([cs[0]*coef_fn(0.2), cs[1]*coef_fn(0.2), cs[2]*coef_fn(0.2)] + \n",
    "                             [np.zeros(50)] * (paras.d-3-1) +\n",
    "                             [coef_fn(0.2)]\n",
    "                             )\n",
    "paras.fourier_basis_coefs = np.array(paras.fourier_basis_coefs).T \n",
    "paras.beta_GT = paras.fourier_basis @ paras.fourier_basis_coefs\n",
    "print(np.linalg.norm(paras.beta_GT, axis=0))\n",
    "\n",
    "paras.Gam_GT_ests = [(np.linalg.inv(basis_mat.numpy().T \n",
    "                                  @ basis_mat.numpy()) \n",
    "                                  @ basis_mat.numpy().T \n",
    "                                  @ paras.beta_GT) \n",
    "                     for basis_mat in paras.basis_mats]\n",
    "\n",
    "# optimization\n",
    "# not used, to use it, you have to know GT\n",
    "#Rmins = [(2*(np.linalg.norm(paras.Gam_GT_ests[ix]\n",
    "#                            /np.sqrt(paras.can_Ns[ix]), axis=0).sum() \n",
    "#           + np.abs(paras.alp_GT).sum())) \n",
    "#        for ix in range(len(paras.can_Ns))]\n",
    "#paras.Rmin = np.max(Rmins)\n",
    "paras.Rmin = 100000\n",
    "paras.Rfct = 2\n",
    "paras.stop_cv = 5e-4\n",
    "paras.max_iter = 10000\n",
    "paras.num_cv_fold = 5\n",
    "\n",
    "paras.cv_is_center = True\n",
    "paras.cv_SIS_ratio = 0.2\n",
    "paras.cv_SIS_pen = 1\n",
    "paras.cv_SIS_basis_mat = torch.tensor(obt_bsp(paras.x, 6, paras.ord)).to(torch.get_default_dtype())\n",
    "paras.num_cv_fold = 5\n",
    "paras.cv_init_noise_sd = -1\n",
    "\n",
    "\n",
    "# hypothesis test\n",
    "#without loss of generality, we assume the idxs in M is the first m betas\n",
    "paras.sel_idx = np.arange(1, paras.d) # M^c set, \n",
    "paras.M_idxs = np.delete(np.arange(paras.d), paras.sel_idx) # the M set\n",
    "paras.Cmats = [\n",
    "    np.eye(len(paras.M_idxs)), # m x m I matrix, [beta1, beta2] = [0, 0]\n",
    "]\n",
    "paras.svdinv_eps_Q = 0 # now 0 means inverse, small value like 0.01 means remove small eig vals.\n",
    "paras.svdinv_eps_Psi = 0\n",
    "\n",
    "paras.save_dir = RES_ROOT/\"simu_linear_sinica_samebetaX_tmp\"\n",
    "if not paras.save_dir.exists():\n",
    "    paras.save_dir.mkdir()"
   ]
  },
  {
   "cell_type": "code",
   "execution_count": null,
   "id": "75dc09a0",
   "metadata": {
    "tags": []
   },
   "outputs": [],
   "source": []
  },
  {
   "cell_type": "code",
   "execution_count": null,
   "id": "75e10fd4",
   "metadata": {},
   "outputs": [],
   "source": []
  },
  {
   "cell_type": "markdown",
   "id": "66c2f90f",
   "metadata": {
    "ExecuteTime": {
     "end_time": "2022-12-08T18:09:55.509389Z",
     "start_time": "2022-12-08T18:09:55.343396Z"
    }
   },
   "source": [
    "## Fns"
   ]
  },
  {
   "cell_type": "code",
   "execution_count": null,
   "id": "1de5567c-6bab-438d-971c-0e40b0c4c53d",
   "metadata": {
    "ExecuteTime": {
     "end_time": "2023-05-31T23:31:24.456489Z",
     "start_time": "2023-05-31T23:31:24.440199Z"
    },
    "code_folding": [],
    "tags": []
   },
   "outputs": [],
   "source": []
  },
  {
   "cell_type": "code",
   "execution_count": 7,
   "id": "0f30b88f",
   "metadata": {
    "ExecuteTime": {
     "end_time": "2023-05-31T23:31:24.456489Z",
     "start_time": "2023-05-31T23:31:24.440199Z"
    },
    "code_folding": [],
    "execution": {
     "iopub.execute_input": "2023-10-27T20:27:50.363965Z",
     "iopub.status.busy": "2023-10-27T20:27:50.363218Z",
     "iopub.status.idle": "2023-10-27T20:27:50.410366Z",
     "shell.execute_reply": "2023-10-27T20:27:50.409626Z",
     "shell.execute_reply.started": "2023-10-27T20:27:50.363912Z"
    },
    "tags": []
   },
   "outputs": [],
   "source": [
    "def _gen_simu_data_all(seed, paras, verbose=False):\n",
    "    \"\"\"\n",
    "    Generate simulated data for all parameters.\n",
    "\n",
    "    Args:\n",
    "        seed (int): Seed for random number generator.\n",
    "        paras (dict): Dictionary containing the following parameters:\n",
    "            - srho: corr from sinica\n",
    "            - fourier_basis: The fourier basis for generating X, npts x nbasis\n",
    "            - n (int): Number of samples.\n",
    "            - d (int): Number of dimensions.\n",
    "            - q (int): Number of covariates.\n",
    "            - types_ (list): List of types for generating covariates.\n",
    "            - alp_GT (list): List of ground truth alpha values.\n",
    "            - beta_GT (list): List of ground truth beta values.\n",
    "            - freqs (list): List of frequencies for generating simulated PSD.\n",
    "            - sigma2 (float): Variance of the noise.\n",
    "        verbose(bool): Verbose or not\n",
    "\n",
    "    Returns:\n",
    "        all_data (dict): Dictionary containing the following simulated data:\n",
    "            - X (torch.Tensor): Tensor of shape (n, d, npts) containing the simulated PSD.\n",
    "            - Y (torch.Tensor): Tensor of shape (n,) containing the response variable.\n",
    "            - Z (torch.Tensor): Tensor of shape (n, q) containing the covariates.\n",
    "    \"\"\"\n",
    "    torch.set_default_tensor_type(torch.DoubleTensor)\n",
    "    np.random.seed(seed)\n",
    "    _paras = edict(paras.copy())\n",
    "    # simulated PSD\n",
    "    assert len(_paras.types_) == _paras.q\n",
    "    assert len(_paras.alp_GT) == _paras.q\n",
    "   \n",
    "    thetas = gen_sini_Xthetas(_paras.srho, _paras.n, _paras.d);\n",
    "    simu_curvs = thetas @ _paras.fourier_basis.T; # n x d x npts\n",
    "    #simu_curvs = np.random.randn(_paras.n, _paras.d, _paras.npts)*10\n",
    "    simu_covs = gen_covs(_paras.n, _paras.types_)\n",
    "    \n",
    "    # linear term and Y\n",
    "    int_part = np.sum(_paras.beta_GT.T* simu_curvs[:, :, :], axis=1).mean(axis=1)\n",
    "    cov_part = simu_covs @ _paras.alp_GT \n",
    "    \n",
    "    # linear term\n",
    "    lin_term = cov_part + int_part\n",
    "    \n",
    "    # Y \n",
    "    #errs_raw = np.random.standard_t(df=3, size=_paras.n)\n",
    "    ##errs_raw = np.random.lognormal(0, 1, _paras.n)                                                                                                                                                        \n",
    "    #errs = np.sqrt(_paras.sigma2)*(errs_raw - errs_raw.mean())/errs_raw.std()\n",
    "    #Y = lin_term + errs\n",
    "    Y = lin_term + np.random.randn(_paras.n)*np.sqrt(_paras.sigma2)\n",
    "    \n",
    "    Y_centered = Y - Y.mean(axis=0, keepdims=True)\n",
    "    X_centered = simu_curvs - simu_curvs.mean(axis=0, keepdims=True)\n",
    "    \n",
    "    # To torch\n",
    "    X = torch.Tensor(X_centered) # n x d x npts\n",
    "    Z = torch.Tensor(simu_covs) # n x q\n",
    "    Y = torch.Tensor(Y_centered)\n",
    "    \n",
    "    all_data = edict()\n",
    "    all_data.X = X\n",
    "    all_data.Y = Y\n",
    "    all_data.Z = Z\n",
    "    #all_data.lin_term = lin_term\n",
    "    return all_data"
   ]
  },
  {
   "cell_type": "code",
   "execution_count": null,
   "id": "96fd3e30",
   "metadata": {},
   "outputs": [],
   "source": []
  },
  {
   "cell_type": "markdown",
   "id": "e4043966",
   "metadata": {
    "tags": []
   },
   "source": [
    "# Simu"
   ]
  },
  {
   "cell_type": "code",
   "execution_count": null,
   "id": "911af57c",
   "metadata": {},
   "outputs": [],
   "source": []
  },
  {
   "cell_type": "markdown",
   "id": "09b0ec89-ac82-4079-acc3-6649993a0444",
   "metadata": {
    "tags": []
   },
   "source": [
    "## SIS check (just for check)"
   ]
  },
  {
   "cell_type": "code",
   "execution_count": 8,
   "id": "6b26f159-53c7-4588-8262-53549d388fce",
   "metadata": {
    "execution": {
     "iopub.execute_input": "2023-10-26T20:31:40.683641Z",
     "iopub.status.busy": "2023-10-26T20:31:40.683007Z",
     "iopub.status.idle": "2023-10-26T20:31:40.722239Z",
     "shell.execute_reply": "2023-10-26T20:31:40.721511Z",
     "shell.execute_reply.started": "2023-10-26T20:31:40.683593Z"
    },
    "tags": []
   },
   "outputs": [],
   "source": [
    "def _SIS_fn(seed, SIS_ratio, ridge_pen, N, paras):\n",
    "    torch.set_default_tensor_type(torch.DoubleTensor)\n",
    "    np.random.seed(seed)\n",
    "    torch.manual_seed(seed)\n",
    "        \n",
    "    _paras = edict(paras.copy())\n",
    "    _paras.seed = seed\n",
    "    _paras.N = N\n",
    "    _paras.basis_mat = _paras.basis_mats[_paras.can_Ns.index(N)]\n",
    "    cur_data = _gen_simu_data_all(_paras.seed, _paras)\n",
    "    \n",
    "    # do sure independent screening for dim reduction\n",
    "    if SIS_ratio < 1:\n",
    "        keep_idxs, _  = SIS_linear(cur_data.Y, cur_data.X, cur_data.Z, _paras.basis_mat, SIS_ratio, _paras, ridge_pen=ridge_pen)\n",
    "    else:\n",
    "        keep_idxs = _paras.sel_idx\n",
    "    M_idxs = np.delete(np.arange(_paras.d), _paras.sel_idx)\n",
    "    _paras.keep_idxs = np.sort(np.concatenate([M_idxs, keep_idxs]))\n",
    "    return _paras.keep_idxs"
   ]
  },
  {
   "cell_type": "code",
   "execution_count": 9,
   "id": "29ab2165-8111-4075-bce8-4ce018022743",
   "metadata": {
    "execution": {
     "iopub.execute_input": "2023-10-26T20:31:42.047954Z",
     "iopub.status.busy": "2023-10-26T20:31:42.047371Z",
     "iopub.status.idle": "2023-10-26T20:31:54.058171Z",
     "shell.execute_reply": "2023-10-26T20:31:54.056828Z",
     "shell.execute_reply.started": "2023-10-26T20:31:42.047907Z"
    },
    "tags": []
   },
   "outputs": [
    {
     "name": "stderr",
     "output_type": "stream",
     "text": [
      "100%|██████████████████████████████████████████████████████████████████████████████████████████████████████████████████████████████████████| 1000/1000 [00:11<00:00, 86.09it/s]\n"
     ]
    }
   ],
   "source": [
    "with Parallel(n_jobs=20) as parallel:\n",
    "    keep_idxss = parallel(delayed(_SIS_fn)(seed, 0.2, ridge_pen=1, N=6, paras=paras) for seed in \n",
    "                          tqdm(range(0, 1000), total=1000))"
   ]
  },
  {
   "cell_type": "code",
   "execution_count": 10,
   "id": "fa326890-75ba-4555-a8e2-5931508a002e",
   "metadata": {
    "execution": {
     "iopub.execute_input": "2023-10-26T20:31:55.559486Z",
     "iopub.status.busy": "2023-10-26T20:31:55.558859Z",
     "iopub.status.idle": "2023-10-26T20:31:55.804242Z",
     "shell.execute_reply": "2023-10-26T20:31:55.803676Z",
     "shell.execute_reply.started": "2023-10-26T20:31:55.559436Z"
    },
    "tags": []
   },
   "outputs": [
    {
     "data": {
      "text/plain": [
       "Text(0.5, 1.0, '[0.995 1.   ]')"
      ]
     },
     "execution_count": 10,
     "metadata": {},
     "output_type": "execute_result"
    },
    {
     "data": {
      "image/png": "[encoded data removed]",
      "text/plain": [
       "<Figure size 432x288 with 1 Axes>"
      ]
     },
     "metadata": {
      "needs_background": "light"
     },
     "output_type": "display_data"
    }
   ],
   "source": [
    "vs, cts = np.unique(np.concatenate(keep_idxss), return_counts=1);\n",
    "cts = cts[np.argsort(vs)]/len(keep_idxss)\n",
    "vs = np.sort(vs);\n",
    "plt.plot(vs, cts, \".\")\n",
    "plt.title(f\"{cts[vs >197]}\")"
   ]
  },
  {
   "cell_type": "code",
   "execution_count": null,
   "id": "be9dad8c-0fcf-4d93-b3b9-d9dc5d2dfe77",
   "metadata": {},
   "outputs": [],
   "source": []
  },
  {
   "cell_type": "markdown",
   "id": "8148a0dd-0b8b-4f04-a43a-a75cfd20ae1f",
   "metadata": {},
   "source": [
    "## Simulation"
   ]
  },
  {
   "cell_type": "code",
   "execution_count": 8,
   "id": "5dc00230-dd51-4269-9e96-a6e76f768cc2",
   "metadata": {
    "execution": {
     "iopub.execute_input": "2023-10-27T20:27:54.940995Z",
     "iopub.status.busy": "2023-10-27T20:27:54.940352Z",
     "iopub.status.idle": "2023-10-27T20:27:54.989088Z",
     "shell.execute_reply": "2023-10-27T20:27:54.988467Z",
     "shell.execute_reply.started": "2023-10-27T20:27:54.940942Z"
    },
    "tags": []
   },
   "outputs": [],
   "source": [
    "def _run_fn(seed, lam, N, paras, is_save=False, is_cv=False, verbose=False):\n",
    "    \"\"\"Now (on Aug 25, 2023), if we keep seed the same, the cur_data is the same. \n",
    "       If you want to make any changes, make sure this. \n",
    "    \"\"\"\n",
    "    torch.set_default_tensor_type(torch.DoubleTensor)\n",
    "    np.random.seed(seed)\n",
    "    torch.manual_seed(seed)\n",
    "        \n",
    "    _paras = edict(paras.copy())\n",
    "    _paras.Rv = _paras.Rfct * _paras.Rmin\n",
    "    _paras.seed = seed\n",
    "    _paras.lam = lam\n",
    "    _paras.N = N\n",
    "    _paras.basis_mat = _paras.basis_mats[_paras.can_Ns.index(N)]\n",
    "    _paras.Gam_GT_est = paras.Gam_GT_ests[_paras.can_Ns.index(N)]\n",
    "    cur_data = _gen_simu_data_all(_paras.seed, _paras)\n",
    "    \n",
    "    f_name = f\"seed_{seed:.0f}-lam_{lam*1000:.0f}-N_{N:.0f}-c1_{cs[0]*1000:.0f}_est.pkl\"\n",
    "    \n",
    "    \n",
    "    res = edict()\n",
    "    if not (_paras.save_dir/f_name).exists():\n",
    "        # do sure independent screening for dim reduction\n",
    "        if _paras.SIS_ratio < 1:\n",
    "            keep_idxs, _  = SIS_linear(cur_data.Y, cur_data.X, cur_data.Z, _paras.cv_SIS_basis_mat, \n",
    "                                       _paras.SIS_ratio, _paras, ridge_pen=_paras.cv_SIS_pen)\n",
    "        else:\n",
    "            keep_idxs = _paras.sel_idx\n",
    "        M_idxs = np.delete(np.arange(_paras.d), _paras.sel_idx)\n",
    "        _paras.keep_idxs = np.sort(np.concatenate([M_idxs, keep_idxs]))\n",
    "            \n",
    "        _paras.sel_idx_SIS = np.where(np.array([keep_idx in _paras.sel_idx for keep_idx in _paras.keep_idxs]))[0]\n",
    "        _paras.d_SIS = len(_paras.keep_idxs)\n",
    "        \n",
    "        cur_data_SIS = edict(cur_data.copy())\n",
    "        cur_data_SIS.X = cur_data.X[:, _paras.keep_idxs, :]\n",
    "        \n",
    "        \n",
    "        if _paras.init_noise_sd < 0:\n",
    "            alp_init = torch.zeros(_paras.q)\n",
    "            Gam_init = torch.zeros(_paras.N, _paras.d_SIS)\n",
    "            theta_init = torch.cat([alp_init, col_vec_fn(Gam_init)/np.sqrt(_paras.N)])\n",
    "            rhok_init = torch.zeros(_paras.d_SIS*_paras.N)\n",
    "        else:\n",
    "            alp_init = torch.Tensor(_paras.alp_GT) + torch.randn(_paras.q)*_paras.init_noise_sd\n",
    "            Gam_init = torch.Tensor(_paras.Gam_GT_est[:, _paras.keep_idxs]) + torch.randn(_paras.N, _paras.d_SIS)*_paras.init_noise_sd\n",
    "            theta_init = torch.cat([alp_init, col_vec_fn(Gam_init)/np.sqrt(_paras.N)])\n",
    "            rhok_init = torch.randn(_paras.d_SIS*_paras.N)\n",
    "            \n",
    "        model = LinearModel(Y=cur_data_SIS.Y, \n",
    "                            X=cur_data_SIS.X, \n",
    "                            Z=cur_data_SIS.Z, \n",
    "                            basis_mat=_paras.basis_mat, \n",
    "                            sigma2=_paras.norminal_sigma2)\n",
    "        # 3e0\n",
    "        pen = SCAD(lams=_paras.lam, a=_paras.a,  sel_idx=_paras.sel_idx_SIS)\n",
    "            \n",
    "        \n",
    "        main_res = optimization(model=model, \n",
    "                                penalty=pen, \n",
    "                                inits=[alp_init, Gam_init, theta_init, rhok_init],\n",
    "                                is_prg=verbose,\n",
    "                                save_paras=False,    \n",
    "                                input_paras=_paras)\n",
    "        opt = main_res[0]\n",
    "        est_Gam = opt.Gamk\n",
    "        est_alp = opt.alpk\n",
    "        Q_mat = -model.log_lik_der2(est_alp, est_Gam)\n",
    "        model.log_lik_der1(est_alp, est_Gam);\n",
    "        Sig_mat = (model.log_lik_der1_vs.unsqueeze(-1) * model.log_lik_der1_vs.unsqueeze(1)).mean(axis=0) \n",
    "        est_theta = torch.cat([est_alp, col_vec_fn(est_Gam)/np.sqrt(_paras.N)])\n",
    "        nonzero_idxs = torch.nonzero(torch.norm(est_Gam, dim=0)).reshape(-1).numpy()\n",
    "        MS_unions = np.sort(np.union1d(_paras.M_idxs, nonzero_idxs))\n",
    "        keep_idxs_test = MS2idxs(_paras.q, _paras.N, MS_unions)\n",
    "        Q_mat_part = Q_mat[keep_idxs_test][:, keep_idxs_test]\n",
    "        Sig_mat_part = Sig_mat[keep_idxs_test][:, keep_idxs_test]\n",
    "        \n",
    "        res = edict()\n",
    "        _paras.Gam_GT_ests = None\n",
    "        _paras.basis_mats = None\n",
    "        _paras.fourier_basis_coefs = None\n",
    "        _paras.fourier_basis = None\n",
    "        res._paras = _paras\n",
    "        res.est_sigma2 = torch.mean((model.Y - model._obt_lin_tm(est_alp, est_Gam))**2)\n",
    "        res.Sig_mat_part = Sig_mat_part\n",
    "        res.Q_mat_part = Q_mat_part\n",
    "        res.est_Gam = est_Gam\n",
    "        res.est_alp = est_alp\n",
    "        res.conv_num = main_res[1]\n",
    "        #res.cur_data = cur_data\n",
    "        #res.model = model\n",
    "        res.keep_idxs = keep_idxs\n",
    "        res.AIC = GIC_fn(res, \"AIC\")\n",
    "        res.BIC = GIC_fn(res, \"BIC\")\n",
    "        res.GCV = GCV_fn(res)\n",
    "    \n",
    "        if is_cv:\n",
    "            cv_errs = CV_err_linear_fn(data=cur_data, \n",
    "                                       num_cv_fold=_paras.num_cv_fold,\n",
    "                                       is_prg=verbose, \n",
    "                                       save_paras=False,    \n",
    "                                       input_paras=_paras)\n",
    "            \n",
    "            res.cv_errs = cv_errs\n",
    "        else:\n",
    "            res.cv_errs = None\n",
    "        if is_save:\n",
    "            save_pkl(_paras.save_dir/f_name, res, verbose=verbose)\n",
    "    return res\n"
   ]
  },
  {
   "cell_type": "code",
   "execution_count": 9,
   "id": "03c9a3e3-c34e-4b5d-8da4-74591a55dbc4",
   "metadata": {
    "execution": {
     "iopub.execute_input": "2023-10-27T20:27:59.480452Z",
     "iopub.status.busy": "2023-10-27T20:27:59.479852Z",
     "iopub.status.idle": "2023-10-27T20:27:59.521970Z",
     "shell.execute_reply": "2023-10-27T20:27:59.520965Z",
     "shell.execute_reply.started": "2023-10-27T20:27:59.480405Z"
    },
    "tags": []
   },
   "outputs": [],
   "source": [
    "def _test_fn(Cmat, est_res, svdinv_eps_Q=0, svdinv_eps_Psi=0, \n",
    "             is_save=False, verbose=False):\n",
    "    torch.set_default_tensor_type(torch.DoubleTensor)\n",
    "    _paras = est_res._paras\n",
    "    _paras.svdinv_eps_Q = svdinv_eps_Q\n",
    "    _paras.svdinv_eps_Psi = svdinv_eps_Psi\n",
    "    f_name = f\"seed_{_paras.seed:.0f}-lam_{_paras.lam*1000:.0f}-N_{_paras.N:.0f}_test_stat.pkl\"\n",
    "    \n",
    "    T_v = obt_test_stat_simple2(Q_mat_part=est_res.Q_mat_part, \n",
    "                               Sig_mat_part=est_res.Sig_mat_part,\n",
    "                               est_alp=est_res.est_alp, \n",
    "                               est_Gam=est_res.est_Gam,\n",
    "                               Cmat=Cmat,\n",
    "                               paras=_paras,\n",
    "                               ).item() \n",
    "    pval = chi2.sf(T_v, Cmat.shape[0]*_paras.N)\n",
    "    \n",
    "    res = edict()\n",
    "    res.T_v = T_v\n",
    "    res.pval = pval\n",
    "    res.Cmat = Cmat\n",
    "    if is_save:\n",
    "        save_pkl(_paras.save_dir/f_name, res, verbose=verbose)\n",
    "    return res"
   ]
  },
  {
   "cell_type": "code",
   "execution_count": 10,
   "id": "a36b9a11-7f13-4c65-849f-90a42c105a9f",
   "metadata": {
    "execution": {
     "iopub.execute_input": "2023-10-27T20:27:59.870391Z",
     "iopub.status.busy": "2023-10-27T20:27:59.869718Z",
     "iopub.status.idle": "2023-10-27T20:27:59.909523Z",
     "shell.execute_reply": "2023-10-27T20:27:59.908926Z",
     "shell.execute_reply.started": "2023-10-27T20:27:59.870344Z"
    },
    "tags": []
   },
   "outputs": [],
   "source": [
    "def _test_fn1(Cmat, est_res, svdinv_eps_Q=0, svdinv_eps_Psi=0, \n",
    "             is_save=False, verbose=False):\n",
    "    torch.set_default_tensor_type(torch.DoubleTensor)\n",
    "    _paras = est_res._paras\n",
    "    _paras.svdinv_eps_Q = svdinv_eps_Q\n",
    "    _paras.svdinv_eps_Psi = svdinv_eps_Psi\n",
    "    f_name = f\"seed_{_paras.seed:.0f}-lam_{_paras.lam*1000:.0f}-N_{_paras.N:.0f}_test_stat.pkl\"\n",
    "    \n",
    "    T_v = obt_test_stat_simple3(est_sigma2=est_res.est_sigma2,\n",
    "                               Q_mat_part=est_res.Q_mat_part, \n",
    "                               est_alp=est_res.est_alp, \n",
    "                               est_Gam=est_res.est_Gam,\n",
    "                               Cmat=Cmat,\n",
    "                               paras=_paras,\n",
    "                               ).item() \n",
    "    pval = chi2.sf(T_v, Cmat.shape[0]*_paras.N)\n",
    "    \n",
    "    res = edict()\n",
    "    res.T_v = T_v\n",
    "    res.pval = pval\n",
    "    res.Cmat = Cmat\n",
    "    if is_save:\n",
    "        save_pkl(_paras.save_dir/f_name, res, verbose=verbose)\n",
    "    return res"
   ]
  },
  {
   "cell_type": "raw",
   "id": "1668d828-d3b8-47a1-b4c6-2878c4160117",
   "metadata": {
    "execution": {
     "iopub.execute_input": "2023-09-21T23:20:31.625325Z",
     "iopub.status.busy": "2023-09-21T23:20:31.624679Z",
     "iopub.status.idle": "2023-09-21T23:21:25.262561Z",
     "shell.execute_reply": "2023-09-21T23:21:25.261234Z",
     "shell.execute_reply.started": "2023-09-21T23:20:31.625279Z"
    },
    "tags": []
   },
   "source": [
    "all_coms = itertools.product(range(0, paras.num_rep), paras.can_lams, paras.can_Ns)\n",
    "with Parallel(n_jobs=5) as parallel:\n",
    "    ress = parallel(delayed(_run_fn)(seed, lam=lam, N=N, paras=paras, is_save=True, is_cv=True, verbose=False) \n",
    "                    for seed, lam, N \n",
    "                    in tqdm(all_coms, total=len(paras.can_Ns)*len(paras.can_lams)*paras.num_rep))"
   ]
  },
  {
   "cell_type": "code",
   "execution_count": null,
   "id": "b64ec903-256d-4b9f-89be-6725629c1ef4",
   "metadata": {},
   "outputs": [],
   "source": []
  },
  {
   "cell_type": "markdown",
   "id": "e35aad14-6d43-40a8-8b2d-0c8f075c5496",
   "metadata": {},
   "source": [
    "### single test"
   ]
  },
  {
   "cell_type": "code",
   "execution_count": 22,
   "id": "3822ddb4-1751-4320-a7ce-255d433c9449",
   "metadata": {
    "execution": {
     "iopub.execute_input": "2023-10-24T23:18:48.033357Z",
     "iopub.status.busy": "2023-10-24T23:18:48.032571Z",
     "iopub.status.idle": "2023-10-24T23:18:50.267127Z",
     "shell.execute_reply": "2023-10-24T23:18:50.266630Z",
     "shell.execute_reply.started": "2023-10-24T23:18:48.033312Z"
    },
    "scrolled": true,
    "tags": []
   },
   "outputs": [
    {
     "name": "stderr",
     "output_type": "stream",
     "text": [
      "DEBUG:hdf_utils.fns_sinica:Corr is 0.30, sample size is 100, num of ROIs is 200, num of basis is 50.\n",
      " 18%|█████████████████                                                                               | 1783/10000 [00:01<00:08, 948.65it/s, error=0.000501, GamL0=2, CV=0.0005]\n"
     ]
    },
    {
     "data": {
      "text/plain": [
       "{'T_v': 1.6692691085565579, 'pval': 0.9474690021472175, 'Cmat': array([[1.]])}"
      ]
     },
     "execution_count": 22,
     "metadata": {},
     "output_type": "execute_result"
    }
   ],
   "source": [
    "seed = 2 \n",
    "N = 6\n",
    "lam = 0.6\n",
    "lam = 0.6\n",
    "#paras.num_cv_fold = 100\n",
    "res = _run_fn(seed, lam, N, paras, verbose=True, is_save=0, is_cv=0);\n",
    "test_res = _test_fn1(paras.Cmats[0], res, svdinv_eps_Q=1e-7, svdinv_eps_Psi=1e-7);\n",
    "test_res"
   ]
  },
  {
   "cell_type": "code",
   "execution_count": null,
   "id": "4ed7378e-cbc6-4f0d-9679-34673396ccdf",
   "metadata": {},
   "outputs": [],
   "source": []
  },
  {
   "cell_type": "markdown",
   "id": "c1663e09-0cd8-4db6-8b72-1ea0488fc8da",
   "metadata": {},
   "source": [
    "### Multiple test"
   ]
  },
  {
   "cell_type": "code",
   "execution_count": 15,
   "id": "124d14cb-aa56-4549-8c28-3ce5e4d1159b",
   "metadata": {
    "execution": {
     "iopub.execute_input": "2023-10-27T20:29:31.212732Z",
     "iopub.status.busy": "2023-10-27T20:29:31.212100Z",
     "iopub.status.idle": "2023-10-27T20:29:51.101877Z",
     "shell.execute_reply": "2023-10-27T20:29:51.100971Z",
     "shell.execute_reply.started": "2023-10-27T20:29:31.212682Z"
    },
    "scrolled": true,
    "tags": []
   },
   "outputs": [
    {
     "name": "stderr",
     "output_type": "stream",
     "text": [
      "100%|████████████████████████████████████████████████████████████████████████████████████████████████████████████████████████████████████████| 200/200 [00:16<00:00, 12.12it/s]\n"
     ]
    }
   ],
   "source": [
    "# orthbasis \n",
    "# (4, 0.001, 0.8, 3)\n",
    "# (6, 0.001, 0.9, 4)\n",
    "# (8, 0.001, 1.2, 4)\n",
    "# (10, 0.001, 1.4, 5)\n",
    "# (12, xxx, 1.5, x)\n",
    "# can_lams = [0.001, 0.3, 0.6, 0.8, 1, 1.2, 1.4, 2, 16]\n",
    "# regbasis, X N(0, 25)\n",
    "# can_lams = [0.01, 0.1, 0.15, 0.20, 0.25, 0.5, 1.0, 2.0, 8.0]\n",
    "N = 4\n",
    "def _run_fn1(seed):\n",
    "    lam = 0.35\n",
    "    res = _run_fn(seed, lam, N, paras, verbose=False, is_save=0, is_cv=0);\n",
    "    test_res = _test_fn1(paras.Cmats[0], res, svdinv_eps_Q=1e-7, svdinv_eps_Psi=1e-7);\n",
    "    test_res.L0 = torch.sum(torch.linalg.norm(res.est_Gam, axis=0)!=0).item()\n",
    "    test_res.L0 = torch.sum(torch.linalg.norm(res.est_Gam, axis=0)!=0).item()\n",
    "    test_res.AIC = res.AIC\n",
    "    test_res.BIC = res.BIC\n",
    "    test_res.GCV = res.GCV\n",
    "    test_res.est_sigma2 = res.est_sigma2\n",
    "    return test_res\n",
    "    \n",
    "num_rep = 200\n",
    "with Parallel(n_jobs=20) as parallel:\n",
    "    test_ress = parallel(delayed(_run_fn1)(seed) for seed in tqdm(range(num_rep), total=num_rep))\n",
    "    "
   ]
  },
  {
   "cell_type": "code",
   "execution_count": 16,
   "id": "282d75f5-7986-424d-9168-0de1158fa39e",
   "metadata": {
    "execution": {
     "iopub.execute_input": "2023-10-27T20:29:56.524358Z",
     "iopub.status.busy": "2023-10-27T20:29:56.523731Z",
     "iopub.status.idle": "2023-10-27T20:29:56.735096Z",
     "shell.execute_reply": "2023-10-27T20:29:56.734076Z",
     "shell.execute_reply.started": "2023-10-27T20:29:56.524307Z"
    },
    "tags": []
   },
   "outputs": [
    {
     "name": "stdout",
     "output_type": "stream",
     "text": [
      "The size is 0.015 and the mean of Tv is 2.898 and thoeretically it is 4. L0 is 2.00.\n",
      "AIC is 0.19. BIC is 0.27. GCV is 1.22. \n",
      "est_sigma2 is 1.16709. \n"
     ]
    }
   ],
   "source": [
    "pvals = np.array([res.pval for res in test_ress])\n",
    "T_vs = np.array([res.T_v for res in test_ress]);\n",
    "L0s = np.array([res.L0 for res in test_ress]);\n",
    "AICs = np.array([res.AIC for res in test_ress]);\n",
    "BICs = np.array([res.BIC for res in test_ress]);\n",
    "GCVs = np.array([res.GCV for res in test_ress]);\n",
    "est_sigma2s = np.array([res.est_sigma2 for res in test_ress]);\n",
    "chi_df = paras.Cmats[0].shape[0]*N\n",
    "print(\n",
    "    f\"The size is {np.mean(pvals<0.05):.3f} and \"\n",
    "    f\"the mean of Tv is {np.mean(T_vs):.3f} and thoeretically it is {chi_df:.0f}. \"\n",
    "    f\"L0 is {np.mean(L0s):.2f}.\"\n",
    "     )\n",
    "print(\n",
    "    f\"AIC is {np.mean(AICs):.2f}. \"\n",
    "    f\"BIC is {np.mean(BICs):.2f}. \"\n",
    "    f\"GCV is {np.mean(GCVs):.2f}. \\n\"\n",
    "    f\"est_sigma2 is {np.mean(est_sigma2s):.5f}. \"\n",
    "     )"
   ]
  },
  {
   "cell_type": "code",
   "execution_count": 17,
   "id": "a67649c4-aa54-47a3-a5a2-351f5af9f187",
   "metadata": {
    "execution": {
     "iopub.execute_input": "2023-10-27T20:29:59.031472Z",
     "iopub.status.busy": "2023-10-27T20:29:59.030889Z",
     "iopub.status.idle": "2023-10-27T20:29:59.236779Z",
     "shell.execute_reply": "2023-10-27T20:29:59.236355Z",
     "shell.execute_reply.started": "2023-10-27T20:29:59.031424Z"
    },
    "tags": []
   },
   "outputs": [
    {
     "data": {
      "text/plain": [
       "<matplotlib.legend.Legend at 0x7f4b8fa68100>"
      ]
     },
     "execution_count": 17,
     "metadata": {},
     "output_type": "execute_result"
    },
    {
     "data": {
      "image/png": "[encoded data removed]",
      "text/plain": [
       "<Figure size 432x288 with 1 Axes>"
      ]
     },
     "metadata": {
      "needs_background": "light"
     },
     "output_type": "display_data"
    }
   ],
   "source": [
    "chi_df = paras.Cmats[0].shape[0]*N\n",
    "xs = np.linspace(0.1, 100, 100)\n",
    "theo_curvs_log = chi2.logpdf(xs, chi_df);\n",
    "plt.plot(xs, np.exp(theo_curvs_log) , label=\"theoretical\")\n",
    "sns.kdeplot(T_vs, label=\"empirical\")\n",
    "plt.legend()"
   ]
  },
  {
   "cell_type": "code",
   "execution_count": null,
   "id": "8c346a71-6b20-4e7c-b4fe-c2bdd18a2e38",
   "metadata": {},
   "outputs": [],
   "source": []
  },
  {
   "cell_type": "code",
   "execution_count": null,
   "id": "834a6b14-3484-4a55-833c-fbd87d46e22c",
   "metadata": {},
   "outputs": [],
   "source": []
  }
 ],
 "metadata": {
  "kernelspec": {
   "display_name": "Python 3 (ipykernel)",
   "language": "python",
   "name": "python3"
  },
  "language_info": {
   "codemirror_mode": {
    "name": "ipython",
    "version": 3
   },
   "file_extension": ".py",
   "mimetype": "text/x-python",
   "name": "python",
   "nbconvert_exporter": "python",
   "pygments_lexer": "ipython3",
   "version": "3.9.7"
  },
  "toc": {
   "base_numbering": 1,
   "nav_menu": {},
   "number_sections": true,
   "sideBar": true,
   "skip_h1_title": false,
   "title_cell": "Table of Contents",
   "title_sidebar": "Contents",
   "toc_cell": false,
   "toc_position": {
    "height": "calc(100% - 180px)",
    "left": "10px",
    "top": "150px",
    "width": "165px"
   },
   "toc_section_display": true,
   "toc_window_display": true
  },
  "toc-autonumbering": true
 },
 "nbformat": 4,
 "nbformat_minor": 5
}
