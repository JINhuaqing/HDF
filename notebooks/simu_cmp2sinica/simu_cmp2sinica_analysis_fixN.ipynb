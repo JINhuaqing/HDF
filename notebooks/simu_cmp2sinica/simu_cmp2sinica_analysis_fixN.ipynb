{
 "cells": [
  {
   "cell_type": "markdown",
   "id": "faf0a805",
   "metadata": {},
   "source": [
    "This file contains python code to compare with sinica paper\n",
    "\n",
    "It is under the linear setting\n",
    "\n",
    "Now, I use the same X and beta from the paper (on Sep 4, 2023)\n",
    "\n",
    "I analyze the results under new code, here I save the results seperately."
   ]
  },
  {
   "cell_type": "code",
   "execution_count": 1,
   "id": "02ae980e",
   "metadata": {
    "ExecuteTime": {
     "end_time": "2023-05-31T19:57:23.490285Z",
     "start_time": "2023-05-31T19:57:23.481769Z"
    },
    "execution": {
     "iopub.execute_input": "2023-11-20T18:54:10.542047Z",
     "iopub.status.busy": "2023-11-20T18:54:10.541440Z",
     "iopub.status.idle": "2023-11-20T18:54:10.556448Z",
     "shell.execute_reply": "2023-11-20T18:54:10.554972Z",
     "shell.execute_reply.started": "2023-11-20T18:54:10.541998Z"
    },
    "tags": []
   },
   "outputs": [],
   "source": [
    "import sys\n",
    "sys.path.append(\"../../mypkg\")"
   ]
  },
  {
   "cell_type": "code",
   "execution_count": 2,
   "id": "023df78a",
   "metadata": {
    "ExecuteTime": {
     "end_time": "2023-05-31T19:57:34.238839Z",
     "start_time": "2023-05-31T19:57:23.494053Z"
    },
    "execution": {
     "iopub.execute_input": "2023-11-20T18:54:10.815659Z",
     "iopub.status.busy": "2023-11-20T18:54:10.815123Z",
     "iopub.status.idle": "2023-11-20T18:54:12.967695Z",
     "shell.execute_reply": "2023-11-20T18:54:12.967198Z",
     "shell.execute_reply.started": "2023-11-20T18:54:10.815615Z"
    },
    "tags": []
   },
   "outputs": [],
   "source": [
    "import numpy as np\n",
    "import torch\n",
    "import matplotlib.pyplot as plt\n",
    "import seaborn as sns\n",
    "from scipy.stats import pearsonr\n",
    "from numbers import Number\n",
    "import multiprocessing as mp\n",
    "\n",
    "from easydict import EasyDict as edict\n",
    "from tqdm import trange, tqdm\n",
    "from scipy.io import loadmat\n",
    "from pprint import pprint\n",
    "import itertools\n",
    "from scipy.stats import chi2\n"
   ]
  },
  {
   "cell_type": "code",
   "execution_count": 3,
   "id": "b9d3cbc6-1ac5-47d6-a0d1-bcbc0be9267e",
   "metadata": {
    "execution": {
     "iopub.execute_input": "2023-11-20T18:54:12.968716Z",
     "iopub.status.busy": "2023-11-20T18:54:12.968490Z",
     "iopub.status.idle": "2023-11-20T18:54:12.988310Z",
     "shell.execute_reply": "2023-11-20T18:54:12.987896Z",
     "shell.execute_reply.started": "2023-11-20T18:54:12.968702Z"
    },
    "tags": []
   },
   "outputs": [],
   "source": [
    "# This will reload all imports as soon as the code changes\n",
    "%load_ext autoreload\n",
    "%autoreload 2"
   ]
  },
  {
   "cell_type": "code",
   "execution_count": 4,
   "id": "b0aa91b2",
   "metadata": {
    "ExecuteTime": {
     "end_time": "2023-05-31T19:57:59.558229Z",
     "start_time": "2023-05-31T19:57:34.292612Z"
    },
    "execution": {
     "iopub.execute_input": "2023-11-20T18:54:12.988961Z",
     "iopub.status.busy": "2023-11-20T18:54:12.988819Z",
     "iopub.status.idle": "2023-11-20T18:54:13.195665Z",
     "shell.execute_reply": "2023-11-20T18:54:13.195177Z",
     "shell.execute_reply.started": "2023-11-20T18:54:12.988949Z"
    },
    "tags": []
   },
   "outputs": [],
   "source": [
    "from constants import DATA_ROOT, RES_ROOT, FIG_ROOT, MIDRES_ROOT\n",
    "\n",
    "from hdf_utils.hypo_test import obt_test_stat_simple2, get_Amat\n",
    "from utils.matrix import col_vec_fn, col_vec2mat_fn, conju_grad, svd_inverse, cholesky_inv\n",
    "from utils.misc import save_pkl, load_pkl, get_local_min_idxs\n",
    "from optimization.one_step_opt import OneStepOpt\n",
    "\n",
    "from joblib import Parallel, delayed"
   ]
  },
  {
   "cell_type": "code",
   "execution_count": 5,
   "id": "03e8580b-15e9-4a93-8010-aa2d650ffdf6",
   "metadata": {
    "execution": {
     "iopub.execute_input": "2023-11-20T18:54:13.196969Z",
     "iopub.status.busy": "2023-11-20T18:54:13.196714Z",
     "iopub.status.idle": "2023-11-20T18:54:13.214766Z",
     "shell.execute_reply": "2023-11-20T18:54:13.214311Z",
     "shell.execute_reply.started": "2023-11-20T18:54:13.196955Z"
    },
    "tags": []
   },
   "outputs": [],
   "source": [
    "import logging\n",
    "\n",
    "logger = logging.getLogger(\"tmp\")\n",
    "logger.setLevel(logging.DEBUG)\n",
    "formatter = logging.Formatter('%(asctime)s - %(name)s - %(levelname)s - %(message)s')\n",
    "\n",
    "ch = logging.StreamHandler() # for console. \n",
    "ch.setLevel(logging.DEBUG)\n",
    "ch.setFormatter(formatter)\n",
    "\n",
    "logger.addHandler(ch)"
   ]
  },
  {
   "cell_type": "code",
   "execution_count": 6,
   "id": "fe0a4a46",
   "metadata": {
    "ExecuteTime": {
     "end_time": "2023-05-31T19:57:59.621784Z",
     "start_time": "2023-05-31T19:57:59.568097Z"
    },
    "execution": {
     "iopub.execute_input": "2023-11-20T18:54:13.215431Z",
     "iopub.status.busy": "2023-11-20T18:54:13.215288Z",
     "iopub.status.idle": "2023-11-20T18:54:13.242365Z",
     "shell.execute_reply": "2023-11-20T18:54:13.241899Z",
     "shell.execute_reply.started": "2023-11-20T18:54:13.215419Z"
    },
    "tags": []
   },
   "outputs": [],
   "source": [
    "plt.style.use(FIG_ROOT/\"base.mplstyle\")\n",
    "torch.set_default_tensor_type(torch.DoubleTensor)"
   ]
  },
  {
   "cell_type": "code",
   "execution_count": null,
   "id": "e0cb5a3d-1ab1-4bc0-bfce-d7ebaedb0391",
   "metadata": {},
   "outputs": [],
   "source": []
  },
  {
   "cell_type": "code",
   "execution_count": null,
   "id": "d0af2f35",
   "metadata": {},
   "outputs": [],
   "source": []
  },
  {
   "cell_type": "markdown",
   "id": "dd9c6514",
   "metadata": {},
   "source": [
    "# Param and fns"
   ]
  },
  {
   "cell_type": "code",
   "execution_count": null,
   "id": "a10d559c-8d6a-428a-bdb9-23c0a5aac96b",
   "metadata": {},
   "outputs": [],
   "source": []
  },
  {
   "cell_type": "markdown",
   "id": "e5ccf9dc-c8f3-40a3-92f9-de2cdfa75610",
   "metadata": {},
   "source": [
    "## Fns"
   ]
  },
  {
   "cell_type": "code",
   "execution_count": 7,
   "id": "d93eca7c-5b7c-49ee-bec2-979f08f8d602",
   "metadata": {
    "execution": {
     "iopub.execute_input": "2023-11-20T18:54:13.862229Z",
     "iopub.status.busy": "2023-11-20T18:54:13.861659Z",
     "iopub.status.idle": "2023-11-20T18:54:13.902863Z",
     "shell.execute_reply": "2023-11-20T18:54:13.902186Z",
     "shell.execute_reply.started": "2023-11-20T18:54:13.862184Z"
    },
    "tags": []
   },
   "outputs": [
    {
     "data": {
      "text/plain": [
       "<function __main__.<lambda>(x)>"
      ]
     },
     "execution_count": 7,
     "metadata": {},
     "output_type": "execute_result"
    }
   ],
   "source": [
    "def _get_min_idx(x):\n",
    "    \"\"\"Get the index of the minimal values among the local minimals.\n",
    "       If there are multiple ones, return the largest index\n",
    "       args:\n",
    "           x: a vec\n",
    "        \n",
    "    \"\"\"\n",
    "    x = np.array(x)\n",
    "    lmin_idxs = get_local_min_idxs(x);\n",
    "    if len(lmin_idxs) == 0:\n",
    "        lmin_idxs = np.arange(len(x))\n",
    "    lmin_idxs_inv =  lmin_idxs[::-1]\n",
    "    lmins_inv = x[lmin_idxs_inv];\n",
    "    return  lmin_idxs_inv[np.argmin(lmins_inv)]\n",
    "_err_fn = lambda x: np.nanmean(x**2)"
   ]
  },
  {
   "cell_type": "code",
   "execution_count": null,
   "id": "75e10fd4",
   "metadata": {},
   "outputs": [],
   "source": []
  },
  {
   "cell_type": "markdown",
   "id": "ad8553a0-635d-473c-b27e-7bb7fb31a674",
   "metadata": {},
   "source": [
    "# Analysis"
   ]
  },
  {
   "cell_type": "code",
   "execution_count": 8,
   "id": "d756101d-64d2-40d7-8476-472468440158",
   "metadata": {
    "execution": {
     "iopub.execute_input": "2023-11-20T18:54:19.310007Z",
     "iopub.status.busy": "2023-11-20T18:54:19.309391Z",
     "iopub.status.idle": "2023-11-20T18:54:19.349689Z",
     "shell.execute_reply": "2023-11-20T18:54:19.349018Z",
     "shell.execute_reply.started": "2023-11-20T18:54:19.309959Z"
    },
    "tags": []
   },
   "outputs": [
    {
     "data": {
      "text/plain": [
       "200"
      ]
     },
     "execution_count": 8,
     "metadata": {},
     "output_type": "execute_result"
    }
   ],
   "source": [
    "#c1s = [0, 0.05, 0.1, 0.2, 0.3, 0.4, 0.5, 0.6]\n",
    "#c1s = [0.05, 0.3, 0.5, 0.6]\n",
    "#Cmat = np.array([1, -1]).reshape(1, 2)\n",
    "#c1s = [0.0, 0.2, 0.4]\n",
    "\n",
    "c1s = [0.0, 0.2, 0.4]\n",
    "can_Ns = [4, 6, 8, 10, 12]\n",
    "#can_lams = [0.01, 0.1,  0.3,  0.6, 1, 2, 8];\n",
    "#can_lams = [0.01, 0.1, 0.15, 0.20, 0.25, 0.5, 1.0, 2.0, 8.0]\n",
    "#can_lams = [0.01, 0.1, 0.2, 0.3, 0.4, 0.6, 1, 2, 8];\n",
    "#can_lams = [0.001, 0.3, 0.6, 0.8, 1, 1.2, 1.4, 2, 16];\n",
    "#can_lams = [0.001, 0.05, 0.10, 0.15, 0.20, 0.25, 0.30, 0.50, 2]\n",
    "setting = \"setting4\"\n",
    "can_lams = [0.001, 0.10, 0.15, 0.30, 0.35, 0.50, 2]\n",
    "\n",
    "#Cmat = np.array([1, 0, 0]).reshape(-1, 3) # change it depending on test1, test2, test3\n",
    "Cmat = np.eye(1) # change it depending on test1, test2, test3\n",
    "\n",
    "num_rep = 200;\n",
    "num_rep_cv = 200"
   ]
  },
  {
   "cell_type": "code",
   "execution_count": null,
   "id": "3264cfce-b893-450e-b063-e3f4c10d1d08",
   "metadata": {},
   "outputs": [],
   "source": []
  },
  {
   "cell_type": "markdown",
   "id": "f6b461f7-fe50-4b73-aee2-203c50e562d0",
   "metadata": {},
   "source": [
    "## Step 0 (extract cv errrs)\n",
    "\n",
    "Save in one dict"
   ]
  },
  {
   "cell_type": "raw",
   "id": "661c1963-db5a-4b7f-970a-34429ba5808c",
   "metadata": {
    "execution": {
     "iopub.execute_input": "2023-10-11T17:40:29.210059Z",
     "iopub.status.busy": "2023-10-11T17:40:29.209385Z",
     "iopub.status.idle": "2023-10-11T17:41:30.413041Z",
     "shell.execute_reply": "2023-10-11T17:41:30.411890Z",
     "shell.execute_reply.started": "2023-10-11T17:40:29.210011Z"
    },
    "tags": []
   },
   "source": [
    "c1 = 0.4\n",
    "cur_save_dir = RES_ROOT/f\"simu_{setting}_{c1*1000:.0f}\"\n",
    "\n",
    "def _run_fn(seed, N, lam, c1):\n",
    "    f_fil = list(cur_save_dir.glob(f\"seed_{seed:.0f}-lam_{lam*1000:.0f}-N_{N:.0f}-c1_{c1*1000:.0f}_est.pkl\"))[0]\n",
    "    t_res = load_pkl(f_fil, verbose=0)\n",
    "    return (seed, N, lam), t_res.cv_errs\n",
    "all_coms = itertools.product(range(num_rep), can_Ns, can_lams)\n",
    "with Parallel(n_jobs=20) as parallel:\n",
    "    all_cv_errs_list = parallel(delayed(_run_fn)(cur_seed, cur_N, cur_lam, c1=c1)  \n",
    "                             for cur_seed, cur_N, cur_lam\n",
    "                             in tqdm(all_coms, total=num_rep*len(can_Ns)*len(can_lams), \n",
    "                                                  desc=f\"c1: {c1}\"))\n",
    "all_cv_errs = {res[0]:res[1] for res in all_cv_errs_list};\n",
    "save_pkl(cur_save_dir/f\"all-cv-errs_c1_{c1*1000:.0f}.pkl\", all_cv_errs)"
   ]
  },
  {
   "cell_type": "code",
   "execution_count": null,
   "id": "0d86e546-f1aa-4fa9-99b2-8bc07ac031ec",
   "metadata": {},
   "outputs": [],
   "source": []
  },
  {
   "cell_type": "markdown",
   "id": "f3189271-865f-47c1-ba40-2a026eb64d28",
   "metadata": {},
   "source": [
    "## Step 1 (only need once)"
   ]
  },
  {
   "cell_type": "code",
   "execution_count": 10,
   "id": "a1096452-e49e-46b6-ad33-4e951f4cb46d",
   "metadata": {
    "execution": {
     "iopub.execute_input": "2023-10-16T01:56:37.819329Z",
     "iopub.status.busy": "2023-10-16T01:56:37.818674Z",
     "iopub.status.idle": "2023-10-16T01:56:38.461076Z",
     "shell.execute_reply": "2023-10-16T01:56:38.460613Z",
     "shell.execute_reply.started": "2023-10-16T01:56:37.819286Z"
    },
    "tags": []
   },
   "outputs": [
    {
     "name": "stderr",
     "output_type": "stream",
     "text": [
      "  0%|                                                                                                                                                                                   | 0/3 [00:00<?, ?it/s]"
     ]
    },
    {
     "name": "stdout",
     "output_type": "stream",
     "text": [
      "Load file /data/rajlab1/user_data/jin/MyResearch/HDF_infer/notebooks/simu_cmp2sinica/../../mypkg/../results/simu_setting4i_0/all-cv-errs_c1_0.pkl\n"
     ]
    },
    {
     "name": "stderr",
     "output_type": "stream",
     "text": [
      " 67%|██████████████████████████████████████████████████████████████████████████████████████████████████████████████████                                                         | 2/3 [00:00<00:00,  4.94it/s]"
     ]
    },
    {
     "name": "stdout",
     "output_type": "stream",
     "text": [
      "Load file /data/rajlab1/user_data/jin/MyResearch/HDF_infer/notebooks/simu_cmp2sinica/../../mypkg/../results/simu_setting4i_200/all-cv-errs_c1_200.pkl\n",
      "Load file /data/rajlab1/user_data/jin/MyResearch/HDF_infer/notebooks/simu_cmp2sinica/../../mypkg/../results/simu_setting4i_400/all-cv-errs_c1_400.pkl\n"
     ]
    },
    {
     "name": "stderr",
     "output_type": "stream",
     "text": [
      "100%|███████████████████████████████████████████████████████████████████████████████████████████████████████████████████████████████████████████████████████████████████████████| 3/3 [00:00<00:00,  5.01it/s]"
     ]
    },
    {
     "name": "stdout",
     "output_type": "stream",
     "text": [
      "The optimal N when fix lam is 6\n"
     ]
    },
    {
     "name": "stderr",
     "output_type": "stream",
     "text": [
      "\n"
     ]
    }
   ],
   "source": [
    "def _run_fn_lamwise(seed, lam, all_cv_errs):\n",
    "    errs_N = []\n",
    "    for cur_N in can_Ns:\n",
    "        errs_N.append(_err_fn(all_cv_errs[(seed, cur_N, lam)]))\n",
    "    return can_Ns[np.argmin(errs_N)]\n",
    "\n",
    "opt_Nss_lamwise = []\n",
    "for c1 in tqdm(c1s):\n",
    "    cur_save_dir = RES_ROOT/f\"simu_{setting}_{c1*1000:.0f}\"\n",
    "    all_cv_errs = load_pkl(cur_save_dir/f\"all-cv-errs_c1_{c1*1000:.0f}.pkl\")\n",
    "    num_seed = len(np.unique(list(map(lambda x: x[0], all_cv_errs.keys()))))\n",
    "    for cur_lam in can_lams:\n",
    "        opt_Ns_lamwise = [_run_fn_lamwise(seed, cur_lam, all_cv_errs) for seed in range(num_seed)]\n",
    "    opt_Nss_lamwise.append(opt_Ns_lamwise)\n",
    "opt_Nss_lamwise = np.array(opt_Nss_lamwise);\n",
    "Ns, Cts = np.unique(opt_Nss_lamwise, return_counts=1);\n",
    "optN = Ns[np.argmax(Cts)]\n",
    "print(f\"The optimal N when fix lam is {optN:.0f}\")"
   ]
  },
  {
   "cell_type": "code",
   "execution_count": 11,
   "id": "0b773c8c-32fc-404a-81a7-ea8a93281938",
   "metadata": {
    "execution": {
     "iopub.execute_input": "2023-10-16T01:56:48.604216Z",
     "iopub.status.busy": "2023-10-16T01:56:48.603547Z",
     "iopub.status.idle": "2023-10-16T01:56:48.841863Z",
     "shell.execute_reply": "2023-10-16T01:56:48.841365Z",
     "shell.execute_reply.started": "2023-10-16T01:56:48.604171Z"
    },
    "tags": []
   },
   "outputs": [
    {
     "name": "stderr",
     "output_type": "stream",
     "text": [
      "100%|███████████████████████████████████████████████████████████████████████████████████████████████████████████████████████████████████████████████████████████████████████████| 3/3 [00:00<00:00, 15.07it/s]"
     ]
    },
    {
     "name": "stdout",
     "output_type": "stream",
     "text": [
      "Load file /data/rajlab1/user_data/jin/MyResearch/HDF_infer/notebooks/simu_cmp2sinica/../../mypkg/../results/simu_setting4i_0/all-cv-errs_c1_0.pkl\n",
      "Load file /data/rajlab1/user_data/jin/MyResearch/HDF_infer/notebooks/simu_cmp2sinica/../../mypkg/../results/simu_setting4i_200/all-cv-errs_c1_200.pkl\n",
      "Load file /data/rajlab1/user_data/jin/MyResearch/HDF_infer/notebooks/simu_cmp2sinica/../../mypkg/../results/simu_setting4i_400/all-cv-errs_c1_400.pkl\n"
     ]
    },
    {
     "name": "stderr",
     "output_type": "stream",
     "text": [
      "\n"
     ]
    }
   ],
   "source": [
    "# then given N, find opt lam\n",
    "def _run_fn_fixN(seed, optN, all_cv_errs):\n",
    "    errs = []\n",
    "    for cur_lam in can_lams:\n",
    "        errs.append(_err_fn(all_cv_errs[(seed, optN, cur_lam)]))\n",
    "    min_idx = _get_min_idx(errs);\n",
    "    return (seed, optN, can_lams[min_idx], errs[min_idx])\n",
    "\n",
    "opt_lamss = dict()\n",
    "for c1 in tqdm(c1s):\n",
    "    cur_save_dir = RES_ROOT/f\"simu_{setting}_{c1*1000:.0f}\"\n",
    "    all_cv_errs = load_pkl(cur_save_dir/f\"all-cv-errs_c1_{c1*1000:.0f}.pkl\")\n",
    "    num_seed = len(np.unique(list(map(lambda x: x[0], all_cv_errs.keys()))))\n",
    "    opt_lams = [_run_fn_fixN(seed, optN, all_cv_errs) for seed in range(num_seed)]\n",
    "    opt_lamss[c1] = opt_lams"
   ]
  },
  {
   "cell_type": "code",
   "execution_count": 21,
   "id": "934a13c4-399a-443b-bd7c-8e0ea2391c69",
   "metadata": {
    "execution": {
     "iopub.execute_input": "2023-10-16T01:58:52.210956Z",
     "iopub.status.busy": "2023-10-16T01:58:52.210299Z",
     "iopub.status.idle": "2023-10-16T01:58:52.299816Z",
     "shell.execute_reply": "2023-10-16T01:58:52.299046Z",
     "shell.execute_reply.started": "2023-10-16T01:58:52.210913Z"
    },
    "tags": []
   },
   "outputs": [
    {
     "data": {
      "text/plain": [
       "0.27"
      ]
     },
     "execution_count": 21,
     "metadata": {},
     "output_type": "execute_result"
    }
   ],
   "source": [
    "np.mean(np.array(opt_lamss[0])[:, 2] !=0.3)"
   ]
  },
  {
   "cell_type": "code",
   "execution_count": null,
   "id": "5f0ff057-e527-4dce-bc1d-e5602aacbaa2",
   "metadata": {},
   "outputs": [],
   "source": []
  },
  {
   "cell_type": "code",
   "execution_count": null,
   "id": "edca15f4-ee3a-42c5-bc36-8f337cc8da42",
   "metadata": {},
   "outputs": [],
   "source": []
  },
  {
   "cell_type": "markdown",
   "id": "181957a8-0dd4-48a9-bc45-02938ecc817d",
   "metadata": {},
   "source": [
    "## Step 2 (only need once)"
   ]
  },
  {
   "cell_type": "code",
   "execution_count": 12,
   "id": "bc776081-a661-4ed1-ba4e-f1eccebceac0",
   "metadata": {
    "execution": {
     "iopub.execute_input": "2023-10-16T01:56:51.540918Z",
     "iopub.status.busy": "2023-10-16T01:56:51.540231Z",
     "iopub.status.idle": "2023-10-16T01:56:51.577579Z",
     "shell.execute_reply": "2023-10-16T01:56:51.576994Z",
     "shell.execute_reply.started": "2023-10-16T01:56:51.540871Z"
    },
    "tags": []
   },
   "outputs": [],
   "source": [
    "def _test_fn(Cmat, est_res, svdinv_eps_Q=0, svdinv_eps_Psi=0, verbose=False):\n",
    "    torch.set_default_tensor_type(torch.DoubleTensor)\n",
    "    _paras = est_res._paras\n",
    "    _paras.svdinv_eps_Q = svdinv_eps_Q\n",
    "    _paras.svdinv_eps_Psi = svdinv_eps_Psi\n",
    "    #f_name = f\"seed_{_paras.seed:.0f}-lam_{_paras.lam*1000:.0f}-N_{_paras.N:.0f}_test_stat.pkl\"\n",
    "    \n",
    "    T_v = obt_test_stat_simple2(Q_mat_part=est_res.Q_mat_part, \n",
    "                               Sig_mat_part=est_res.Sig_mat_part,\n",
    "                               est_alp=est_res.est_alp, \n",
    "                               est_Gam=est_res.est_Gam,\n",
    "                               Cmat=Cmat,\n",
    "                               paras=_paras,\n",
    "                               ).item() \n",
    "    pval = chi2.sf(T_v, Cmat.shape[0]*_paras.N)\n",
    "    \n",
    "    res = edict()\n",
    "    res.T_v = T_v\n",
    "    res.pval = pval\n",
    "    res.Cmat = Cmat\n",
    "    return res"
   ]
  },
  {
   "cell_type": "code",
   "execution_count": 13,
   "id": "7d58f93c-53dc-4d30-9199-edf49ad19f9f",
   "metadata": {
    "execution": {
     "iopub.execute_input": "2023-10-16T01:57:00.223167Z",
     "iopub.status.busy": "2023-10-16T01:57:00.222503Z",
     "iopub.status.idle": "2023-10-16T01:57:44.016708Z",
     "shell.execute_reply": "2023-10-16T01:57:44.015449Z",
     "shell.execute_reply.started": "2023-10-16T01:57:00.223123Z"
    },
    "scrolled": true,
    "tags": []
   },
   "outputs": [
    {
     "name": "stderr",
     "output_type": "stream",
     "text": [
      "c1: 0: 100%|████████████████████████████████████████████████████████████████████████████████████████████████████████████████████████████████████████████████████████████████| 200/200 [00:17<00:00, 11.74it/s]\n"
     ]
    },
    {
     "name": "stdout",
     "output_type": "stream",
     "text": [
      "Save to /data/rajlab1/user_data/jin/MyResearch/HDF_infer/notebooks/simu_cmp2sinica/../../mypkg/../results/simu_setting4i_0/opt_lamNsfixN_c1_0_ress.pkl\n"
     ]
    },
    {
     "name": "stderr",
     "output_type": "stream",
     "text": [
      "c1: 200: 100%|██████████████████████████████████████████████████████████████████████████████████████████████████████████████████████████████████████████████████████████████| 200/200 [00:13<00:00, 14.95it/s]\n"
     ]
    },
    {
     "name": "stdout",
     "output_type": "stream",
     "text": [
      "Save to /data/rajlab1/user_data/jin/MyResearch/HDF_infer/notebooks/simu_cmp2sinica/../../mypkg/../results/simu_setting4i_200/opt_lamNsfixN_c1_200_ress.pkl\n"
     ]
    },
    {
     "name": "stderr",
     "output_type": "stream",
     "text": [
      "c1: 400: 100%|██████████████████████████████████████████████████████████████████████████████████████████████████████████████████████████████████████████████████████████████| 200/200 [00:13<00:00, 15.31it/s]\n"
     ]
    },
    {
     "name": "stdout",
     "output_type": "stream",
     "text": [
      "Save to /data/rajlab1/user_data/jin/MyResearch/HDF_infer/notebooks/simu_cmp2sinica/../../mypkg/../results/simu_setting4i_400/opt_lamNsfixN_c1_400_ress.pkl\n"
     ]
    }
   ],
   "source": [
    "cans = [1e-5, 3e-6, 1e-6, 3e-7, 1e-7, 3e-8, 1e-8, 3e-9, 1e-9, 3e-10, 0]\n",
    "all_coms = [(can, can) for can in cans]\n",
    "#all_coms = list(itertools.product(cans, cans))\n",
    "for c1 in c1s:\n",
    "    cur_save_dir = RES_ROOT/f\"simu_{setting}_{c1*1000:.0f}\"\n",
    "    opt_lams =  opt_lamss[c1]\n",
    "    ress = []\n",
    "    for cur_seed, cur_N, cur_lam, _ in tqdm(opt_lams, desc=f\"c1: {c1*1000:.0f}\"):\n",
    "        f1_name = f\"seed_{cur_seed:.0f}-lam_{cur_lam*1000:.0f}-N_{cur_N:.0f}-c1_{c1*1000:.0f}_est.pkl\"\n",
    "        res1 = load_pkl(cur_save_dir/f1_name, verbose=False);\n",
    "        res = []\n",
    "        with Parallel(n_jobs=20) as parallel:\n",
    "            res = parallel(delayed(_test_fn)(Cmat=Cmat, est_res=res1, \n",
    "                                             svdinv_eps_Q=rtols[0], \n",
    "                                             svdinv_eps_Psi=rtols[1]) for rtols\n",
    "                                             in all_coms)\n",
    "    \n",
    "        ress.append(res)\n",
    "    ress = np.array(ress);\n",
    "    save_pkl(cur_save_dir/f\"opt_lamNsfixN_c1_{c1*1000:.0f}_ress.pkl\", ress, is_force=1)"
   ]
  },
  {
   "cell_type": "code",
   "execution_count": null,
   "id": "4fb91ff8-5516-4607-b597-a84764e17df4",
   "metadata": {},
   "outputs": [],
   "source": []
  },
  {
   "cell_type": "markdown",
   "id": "d30d4a08-5de2-4412-8541-5dd78612ed5c",
   "metadata": {},
   "source": [
    "## Find Q and Psi rtol"
   ]
  },
  {
   "cell_type": "raw",
   "id": "ef9f5050-9ea3-446c-8338-b851ee1c0722",
   "metadata": {
    "execution": {
     "iopub.execute_input": "2023-09-30T00:20:20.937949Z",
     "iopub.status.busy": "2023-09-30T00:20:20.937362Z",
     "iopub.status.idle": "2023-09-30T00:20:20.975903Z",
     "shell.execute_reply": "2023-09-30T00:20:20.975266Z",
     "shell.execute_reply.started": "2023-09-30T00:20:20.937902Z"
    },
    "tags": []
   },
   "source": [
    "cans = [1e-5, 3e-6, 1e-6, 3e-7, 1e-7, 3e-8, 1e-8, 3e-9, 1e-9, 3e-10, 0]\n",
    "all_coms = np.array(list(itertools.product(cans, cans)));"
   ]
  },
  {
   "cell_type": "code",
   "execution_count": 14,
   "id": "e4297092-475a-42e3-970b-f8774ef3fb70",
   "metadata": {
    "execution": {
     "iopub.execute_input": "2023-10-16T01:57:45.655668Z",
     "iopub.status.busy": "2023-10-16T01:57:45.654989Z",
     "iopub.status.idle": "2023-10-16T01:57:45.810955Z",
     "shell.execute_reply": "2023-10-16T01:57:45.810457Z",
     "shell.execute_reply.started": "2023-10-16T01:57:45.655624Z"
    },
    "tags": []
   },
   "outputs": [
    {
     "name": "stdout",
     "output_type": "stream",
     "text": [
      "Load file /data/rajlab1/user_data/jin/MyResearch/HDF_infer/notebooks/simu_cmp2sinica/../../mypkg/../results/simu_setting4i_0/opt_lamNsfixN_c1_0_ress.pkl\n",
      "Load file /data/rajlab1/user_data/jin/MyResearch/HDF_infer/notebooks/simu_cmp2sinica/../../mypkg/../results/simu_setting4i_200/opt_lamNsfixN_c1_200_ress.pkl\n",
      "Load file /data/rajlab1/user_data/jin/MyResearch/HDF_infer/notebooks/simu_cmp2sinica/../../mypkg/../results/simu_setting4i_400/opt_lamNsfixN_c1_400_ress.pkl\n"
     ]
    }
   ],
   "source": [
    "ress_dict = {}\n",
    "for c1 in c1s:\n",
    "    cur_save_dir = RES_ROOT/f\"simu_{setting}_{c1*1000:.0f}\"\n",
    "    ress = load_pkl(cur_save_dir/f\"opt_lamNsfixN_c1_{c1*1000:.0f}_ress.pkl\");\n",
    "    ress_dict[c1] = ress"
   ]
  },
  {
   "cell_type": "code",
   "execution_count": 15,
   "id": "1e2c5d33-9970-4cce-a82e-7969ebbbac13",
   "metadata": {
    "execution": {
     "iopub.execute_input": "2023-10-16T01:57:48.239674Z",
     "iopub.status.busy": "2023-10-16T01:57:48.239011Z",
     "iopub.status.idle": "2023-10-16T01:57:48.292135Z",
     "shell.execute_reply": "2023-10-16T01:57:48.291631Z",
     "shell.execute_reply.started": "2023-10-16T01:57:48.239628Z"
    },
    "tags": []
   },
   "outputs": [
    {
     "data": {
      "text/html": [
       "<div>\n",
       "<style scoped>\n",
       "    .dataframe tbody tr th:only-of-type {\n",
       "        vertical-align: middle;\n",
       "    }\n",
       "\n",
       "    .dataframe tbody tr th {\n",
       "        vertical-align: top;\n",
       "    }\n",
       "\n",
       "    .dataframe thead th {\n",
       "        text-align: right;\n",
       "    }\n",
       "</style>\n",
       "<table border=\"1\" class=\"dataframe\">\n",
       "  <thead>\n",
       "    <tr style=\"text-align: right;\">\n",
       "      <th></th>\n",
       "      <th>0.0</th>\n",
       "      <th>0.2</th>\n",
       "      <th>0.4</th>\n",
       "      <th>Q</th>\n",
       "      <th>Psi</th>\n",
       "    </tr>\n",
       "  </thead>\n",
       "  <tbody>\n",
       "    <tr>\n",
       "      <th>0</th>\n",
       "      <td>0.15</td>\n",
       "      <td>0.17</td>\n",
       "      <td>0.295</td>\n",
       "      <td>1.000000e-05</td>\n",
       "      <td>1.000000e-05</td>\n",
       "    </tr>\n",
       "    <tr>\n",
       "      <th>1</th>\n",
       "      <td>0.15</td>\n",
       "      <td>0.17</td>\n",
       "      <td>0.290</td>\n",
       "      <td>3.000000e-06</td>\n",
       "      <td>3.000000e-06</td>\n",
       "    </tr>\n",
       "    <tr>\n",
       "      <th>2</th>\n",
       "      <td>0.15</td>\n",
       "      <td>0.17</td>\n",
       "      <td>0.290</td>\n",
       "      <td>1.000000e-06</td>\n",
       "      <td>1.000000e-06</td>\n",
       "    </tr>\n",
       "    <tr>\n",
       "      <th>3</th>\n",
       "      <td>0.15</td>\n",
       "      <td>0.17</td>\n",
       "      <td>0.290</td>\n",
       "      <td>3.000000e-07</td>\n",
       "      <td>3.000000e-07</td>\n",
       "    </tr>\n",
       "    <tr>\n",
       "      <th>4</th>\n",
       "      <td>0.15</td>\n",
       "      <td>0.17</td>\n",
       "      <td>0.290</td>\n",
       "      <td>1.000000e-07</td>\n",
       "      <td>1.000000e-07</td>\n",
       "    </tr>\n",
       "    <tr>\n",
       "      <th>5</th>\n",
       "      <td>0.15</td>\n",
       "      <td>0.17</td>\n",
       "      <td>0.290</td>\n",
       "      <td>3.000000e-08</td>\n",
       "      <td>3.000000e-08</td>\n",
       "    </tr>\n",
       "    <tr>\n",
       "      <th>6</th>\n",
       "      <td>0.15</td>\n",
       "      <td>0.17</td>\n",
       "      <td>0.290</td>\n",
       "      <td>1.000000e-08</td>\n",
       "      <td>1.000000e-08</td>\n",
       "    </tr>\n",
       "    <tr>\n",
       "      <th>7</th>\n",
       "      <td>0.15</td>\n",
       "      <td>0.17</td>\n",
       "      <td>0.290</td>\n",
       "      <td>3.000000e-09</td>\n",
       "      <td>3.000000e-09</td>\n",
       "    </tr>\n",
       "    <tr>\n",
       "      <th>8</th>\n",
       "      <td>0.15</td>\n",
       "      <td>0.17</td>\n",
       "      <td>0.290</td>\n",
       "      <td>1.000000e-09</td>\n",
       "      <td>1.000000e-09</td>\n",
       "    </tr>\n",
       "    <tr>\n",
       "      <th>9</th>\n",
       "      <td>0.15</td>\n",
       "      <td>0.17</td>\n",
       "      <td>0.290</td>\n",
       "      <td>3.000000e-10</td>\n",
       "      <td>3.000000e-10</td>\n",
       "    </tr>\n",
       "    <tr>\n",
       "      <th>10</th>\n",
       "      <td>0.09</td>\n",
       "      <td>0.10</td>\n",
       "      <td>0.220</td>\n",
       "      <td>0.000000e+00</td>\n",
       "      <td>0.000000e+00</td>\n",
       "    </tr>\n",
       "  </tbody>\n",
       "</table>\n",
       "</div>"
      ],
      "text/plain": [
       "     0.0   0.2    0.4             Q           Psi\n",
       "0   0.15  0.17  0.295  1.000000e-05  1.000000e-05\n",
       "1   0.15  0.17  0.290  3.000000e-06  3.000000e-06\n",
       "2   0.15  0.17  0.290  1.000000e-06  1.000000e-06\n",
       "3   0.15  0.17  0.290  3.000000e-07  3.000000e-07\n",
       "4   0.15  0.17  0.290  1.000000e-07  1.000000e-07\n",
       "5   0.15  0.17  0.290  3.000000e-08  3.000000e-08\n",
       "6   0.15  0.17  0.290  1.000000e-08  1.000000e-08\n",
       "7   0.15  0.17  0.290  3.000000e-09  3.000000e-09\n",
       "8   0.15  0.17  0.290  1.000000e-09  1.000000e-09\n",
       "9   0.15  0.17  0.290  3.000000e-10  3.000000e-10\n",
       "10  0.09  0.10  0.220  0.000000e+00  0.000000e+00"
      ]
     },
     "execution_count": 15,
     "metadata": {},
     "output_type": "execute_result"
    }
   ],
   "source": [
    "import pandas as pd\n",
    "cans = [1e-5, 3e-6, 1e-6, 3e-7, 1e-7, 3e-8, 1e-8, 3e-9, 1e-9, 3e-10, 0]\n",
    "all_coms = np.array(list(itertools.product(cans, cans)));\n",
    "all_coms = [(can, can) for can in cans]\n",
    "kpidxs = []\n",
    "\n",
    "df = []\n",
    "for c1 in c1s:\n",
    "    ress = ress_dict[c1]\n",
    "    pvals = np.array([[re[\"pval\"] for re in res] for res in ress]);\n",
    "    vec_pv = np.mean(pvals<0.05, axis=0)\n",
    "    df.append(vec_pv[:, np.newaxis])\n",
    "df.append(all_coms) \n",
    "df = np.hstack(df)\n",
    "df = pd.DataFrame(df) \n",
    "df.columns = c1s+[\"Q\", \"Psi\"]\n",
    "df"
   ]
  },
  {
   "cell_type": "code",
   "execution_count": null,
   "id": "71b6fd12-b85b-45a7-9851-e58c6c098415",
   "metadata": {},
   "outputs": [],
   "source": []
  },
  {
   "cell_type": "code",
   "execution_count": 26,
   "id": "21fbf1d9-80f3-4d04-b9eb-c5540604bce0",
   "metadata": {
    "execution": {
     "iopub.execute_input": "2023-09-25T04:07:07.810118Z",
     "iopub.status.busy": "2023-09-25T04:07:07.809496Z",
     "iopub.status.idle": "2023-09-25T04:07:07.847925Z",
     "shell.execute_reply": "2023-09-25T04:07:07.847286Z",
     "shell.execute_reply.started": "2023-09-25T04:07:07.810072Z"
    },
    "tags": []
   },
   "outputs": [
    {
     "data": {
      "text/plain": [
       "(121,)"
      ]
     },
     "execution_count": 26,
     "metadata": {},
     "output_type": "execute_result"
    }
   ],
   "source": [
    "vec.shape"
   ]
  },
  {
   "cell_type": "markdown",
   "id": "c08e9922-facb-4e3d-9f57-940077fe5f2a",
   "metadata": {
    "jp-MarkdownHeadingCollapsed": true,
    "tags": []
   },
   "source": [
    "## Opt N and lams"
   ]
  },
  {
   "cell_type": "code",
   "execution_count": null,
   "id": "b285f184-f5b9-40ae-afa2-583792bdc893",
   "metadata": {},
   "outputs": [],
   "source": []
  },
  {
   "cell_type": "code",
   "execution_count": 106,
   "id": "7f53054d-f8bf-4758-ac76-d7c1924bbb12",
   "metadata": {
    "execution": {
     "iopub.execute_input": "2023-09-21T21:14:02.448186Z",
     "iopub.status.busy": "2023-09-21T21:14:02.447551Z",
     "iopub.status.idle": "2023-09-21T21:14:02.512678Z",
     "shell.execute_reply": "2023-09-21T21:14:02.511217Z",
     "shell.execute_reply.started": "2023-09-21T21:14:02.448138Z"
    },
    "tags": []
   },
   "outputs": [
    {
     "name": "stdout",
     "output_type": "stream",
     "text": [
      "Load file /data/rajlab1/user_data/jin/MyResearch/HDF_infer/notebooks/../mypkg/../results/simu_linear_sinica_samebetaX_test1/opt_lamNs_200_c1_200.pkl\n",
      "Load file /data/rajlab1/user_data/jin/MyResearch/HDF_infer/notebooks/../mypkg/../results/simu_linear_sinica_samebetaX_test1/opt_lamNs_200_c1_200_ress.pkl\n"
     ]
    }
   ],
   "source": [
    "c1 = 0.2\n",
    "opt = load_pkl(paras.save_dir/f\"opt_lamNs_200_c1_{c1*1000:.0f}.pkl\");\n",
    "opt_ress = load_pkl(paras.save_dir/f\"opt_lamNs_200_c1_{c1*1000:.0f}_ress.pkl\");\n",
    "all_coms = np.array(list(itertools.product(cans, cans)));"
   ]
  },
  {
   "cell_type": "code",
   "execution_count": 107,
   "id": "2faf4820-cdb5-40aa-9570-7ab54d61c425",
   "metadata": {
    "execution": {
     "iopub.execute_input": "2023-09-21T21:14:03.203007Z",
     "iopub.status.busy": "2023-09-21T21:14:03.202459Z",
     "iopub.status.idle": "2023-09-21T21:14:03.240790Z",
     "shell.execute_reply": "2023-09-21T21:14:03.240127Z",
     "shell.execute_reply.started": "2023-09-21T21:14:03.202963Z"
    },
    "tags": []
   },
   "outputs": [
    {
     "data": {
      "text/plain": [
       "(array([[ 4. ,  0.1],\n",
       "        [ 4. ,  0.2],\n",
       "        [ 4. ,  0.3],\n",
       "        [ 4. ,  0.4],\n",
       "        [ 6. ,  0.1],\n",
       "        [ 6. ,  0.2],\n",
       "        [ 6. ,  0.3],\n",
       "        [ 8. ,  0.2],\n",
       "        [ 8. ,  0.3],\n",
       "        [ 8. ,  0.4],\n",
       "        [10. ,  0.1],\n",
       "        [10. ,  0.3],\n",
       "        [12. ,  0.2],\n",
       "        [12. ,  0.3],\n",
       "        [12. ,  0.4]]),\n",
       " array([ 3, 51, 60,  1,  4, 18, 25, 10, 14,  2,  1,  1,  3,  4,  3]))"
      ]
     },
     "execution_count": 107,
     "metadata": {},
     "output_type": "execute_result"
    }
   ],
   "source": [
    "opt = np.array(opt)\n",
    "np.unique(np.array(opt)[:, 1:3], axis=0, return_counts=1)"
   ]
  },
  {
   "cell_type": "code",
   "execution_count": 108,
   "id": "b08023ba-9d29-486c-a541-304be028caca",
   "metadata": {
    "execution": {
     "iopub.execute_input": "2023-09-21T21:14:06.007469Z",
     "iopub.status.busy": "2023-09-21T21:14:06.006682Z",
     "iopub.status.idle": "2023-09-21T21:14:06.048491Z",
     "shell.execute_reply": "2023-09-21T21:14:06.047796Z",
     "shell.execute_reply.started": "2023-09-21T21:14:06.007421Z"
    },
    "tags": []
   },
   "outputs": [],
   "source": [
    "kpidx = np.bitwise_and(all_coms[:, 0]==1e-7, all_coms[:, 1]==1e-8);\n",
    "Tvs = opt_ress[:, kpidx, 0].reshape(-1)\n",
    "pvals = opt_ress[:, kpidx, 1].reshape(-1);"
   ]
  },
  {
   "cell_type": "code",
   "execution_count": 109,
   "id": "6e8749a7-e759-4b3a-b10f-f080b959c9f6",
   "metadata": {
    "execution": {
     "iopub.execute_input": "2023-09-21T21:14:06.876945Z",
     "iopub.status.busy": "2023-09-21T21:14:06.876393Z",
     "iopub.status.idle": "2023-09-21T21:14:07.032524Z",
     "shell.execute_reply": "2023-09-21T21:14:07.032101Z",
     "shell.execute_reply.started": "2023-09-21T21:14:06.876901Z"
    },
    "tags": []
   },
   "outputs": [
    {
     "data": {
      "text/plain": [
       "[<matplotlib.lines.Line2D at 0x7fae4a69f0d0>]"
      ]
     },
     "execution_count": 109,
     "metadata": {},
     "output_type": "execute_result"
    },
    {
     "data": {
      "image/png": "[encoded data removed]",
      "text/plain": [
       "<Figure size 720x360 with 1 Axes>"
      ]
     },
     "metadata": {
      "needs_background": "light"
     },
     "output_type": "display_data"
    }
   ],
   "source": [
    "plt.figure(figsize=[10, 5])\n",
    "plt.plot(np.sort(Tvs), \".\")"
   ]
  },
  {
   "cell_type": "code",
   "execution_count": null,
   "id": "0f819f4f-3a54-4ce0-9a4e-b844f5f08a05",
   "metadata": {
    "execution": {
     "iopub.execute_input": "2023-09-21T21:14:10.991047Z",
     "iopub.status.busy": "2023-09-21T21:14:10.990404Z",
     "iopub.status.idle": "2023-09-21T21:14:11.033690Z",
     "shell.execute_reply": "2023-09-21T21:14:11.032591Z",
     "shell.execute_reply.started": "2023-09-21T21:14:10.990997Z"
    },
    "tags": []
   },
   "outputs": [],
   "source": [
    "opt[pvals<0.05], Tvs[pvals<0.05]"
   ]
  },
  {
   "cell_type": "code",
   "execution_count": 111,
   "id": "808c0d12-e35d-4718-a646-47574f46182c",
   "metadata": {
    "execution": {
     "iopub.execute_input": "2023-09-21T21:14:12.505904Z",
     "iopub.status.busy": "2023-09-21T21:14:12.505202Z",
     "iopub.status.idle": "2023-09-21T21:14:12.544440Z",
     "shell.execute_reply": "2023-09-21T21:14:12.543729Z",
     "shell.execute_reply.started": "2023-09-21T21:14:12.505855Z"
    },
    "tags": []
   },
   "outputs": [],
   "source": [
    "mat1 = np.zeros((len(can_Ns), len(can_lams)))\n",
    "mat2 = np.zeros((len(can_Ns), len(can_lams)))\n",
    "for lamN, pval in zip(opt, pvals):\n",
    "    if pval >= 0.05:\n",
    "        mat1[can_Ns.index(lamN[1]), can_lams.index(lamN[2])] += 1\n",
    "    else:\n",
    "        mat2[can_Ns.index(lamN[1]), can_lams.index(lamN[2])] += 1"
   ]
  },
  {
   "cell_type": "code",
   "execution_count": 112,
   "id": "75653f98-1ff7-4994-8ee7-afc5a4d9ac49",
   "metadata": {
    "execution": {
     "iopub.execute_input": "2023-09-21T21:14:13.627633Z",
     "iopub.status.busy": "2023-09-21T21:14:13.626987Z",
     "iopub.status.idle": "2023-09-21T21:14:14.171544Z",
     "shell.execute_reply": "2023-09-21T21:14:14.171084Z",
     "shell.execute_reply.started": "2023-09-21T21:14:13.627587Z"
    },
    "tags": []
   },
   "outputs": [
    {
     "data": {
      "text/plain": [
       "Text(970.2, 0.5, 'N')"
      ]
     },
     "execution_count": 112,
     "metadata": {},
     "output_type": "execute_result"
    },
    {
     "data": {
      "image/png": "[encoded data removed]",
      "text/plain": [
       "<Figure size 1728x720 with 4 Axes>"
      ]
     },
     "metadata": {
      "needs_background": "light"
     },
     "output_type": "display_data"
    }
   ],
   "source": [
    "plt.figure(figsize=[24, 10])\n",
    "plt.subplot(121)\n",
    "plt.title(\">=0.05\")\n",
    "sns.heatmap(mat1, annot=True)\n",
    "plt.yticks(np.arange(len(can_Ns))+0.5, can_Ns);\n",
    "plt.xticks(np.arange(len(can_lams))+0.5, can_lams);\n",
    "plt.xlabel(\"Lambda\")\n",
    "plt.ylabel(\"N\")\n",
    "\n",
    "plt.subplot(122)\n",
    "plt.title(\"<0.05\")\n",
    "sns.heatmap(mat2, annot=True)\n",
    "plt.yticks(np.arange(len(can_Ns))+0.5, can_Ns);\n",
    "plt.xticks(np.arange(len(can_lams))+0.5, can_lams);\n",
    "plt.xlabel(\"Lambda\")\n",
    "plt.ylabel(\"N\")"
   ]
  },
  {
   "cell_type": "markdown",
   "id": "fa246ade-76de-47cb-8907-3b8fe8a7ed1e",
   "metadata": {},
   "source": [
    "# Sinica results"
   ]
  },
  {
   "cell_type": "code",
   "execution_count": 11,
   "id": "7e6362d0-498f-4439-ad42-81168bdb552c",
   "metadata": {
    "execution": {
     "iopub.execute_input": "2023-10-11T17:27:43.646981Z",
     "iopub.status.busy": "2023-10-11T17:27:43.646339Z",
     "iopub.status.idle": "2023-10-11T17:27:43.739602Z",
     "shell.execute_reply": "2023-10-11T17:27:43.738430Z",
     "shell.execute_reply.started": "2023-10-11T17:27:43.646935Z"
    },
    "tags": []
   },
   "outputs": [
    {
     "data": {
      "text/plain": [
       "[0.0, 0.2, 0.4]"
      ]
     },
     "execution_count": 11,
     "metadata": {},
     "output_type": "execute_result"
    }
   ],
   "source": [
    "#setting = \"setting1b\"\n",
    "sini_paras = edict()\n",
    "sini_paras.dir = RES_ROOT/f\"sinica_results/SinicaX_d-200_n-100_{setting}\";\n",
    "c1s = [0.0, 0.2, 0.4]"
   ]
  },
  {
   "cell_type": "code",
   "execution_count": 12,
   "id": "d53de042-2cd9-4374-9048-c595c073e31a",
   "metadata": {
    "execution": {
     "iopub.execute_input": "2023-10-11T17:27:44.197021Z",
     "iopub.status.busy": "2023-10-11T17:27:44.196444Z",
     "iopub.status.idle": "2023-10-11T17:27:49.420941Z",
     "shell.execute_reply": "2023-10-11T17:27:49.419586Z",
     "shell.execute_reply.started": "2023-10-11T17:27:44.196975Z"
    },
    "tags": []
   },
   "outputs": [
    {
     "name": "stdout",
     "output_type": "stream",
     "text": [
      "The power under c1=0.000 200 is 0.135.\n",
      "The power under c1=0.200 200 is 0.160.\n",
      "The power under c1=0.400 200 is 0.170.\n"
     ]
    }
   ],
   "source": [
    "pvals_sinica = []\n",
    "for c1 in c1s:\n",
    "    all_fils = list(sini_paras.dir.glob(f\"c1_{c1*1000:.0f}_*.mat\"));\n",
    "    sorted_all_fils = sorted(all_fils, key=lambda x: int(x.stem.split(\"_\")[3]));\n",
    "    \n",
    "    sini_pvals = []\n",
    "    opt_sns = []\n",
    "    for fil in sorted_all_fils:\n",
    "        res = loadmat(fil);\n",
    "        sini_pvals.append(res[\"pval\"][0][0])\n",
    "        opt_sns.append(res[\"opt_sn\"][0][0])\n",
    "    sini_pvals = np.array(sini_pvals);\n",
    "    opt_sns = np.array(opt_sns);\n",
    "    #save_pkl(sini_paras.dir/f\"c1_{c1*1000:.0f}_pvals.pkl\", sini_pvals, is_force=False)\n",
    "    pvals_sinica.append(np.mean(sini_pvals < 0.05))\n",
    "    print(f\"The power under c1={c1:.3f} {len(sini_pvals)} is {np.mean(sini_pvals < 0.05):.3f}.\")"
   ]
  },
  {
   "cell_type": "code",
   "execution_count": 25,
   "id": "75c8bedd-dcc8-4bf0-9762-aba7d742ab90",
   "metadata": {
    "execution": {
     "iopub.execute_input": "2023-09-25T23:08:37.559892Z",
     "iopub.status.busy": "2023-09-25T23:08:37.559057Z",
     "iopub.status.idle": "2023-09-25T23:08:37.621721Z",
     "shell.execute_reply": "2023-09-25T23:08:37.620405Z",
     "shell.execute_reply.started": "2023-09-25T23:08:37.559837Z"
    },
    "tags": []
   },
   "outputs": [
    {
     "name": "stdout",
     "output_type": "stream",
     "text": [
      "Load file /data/rajlab1/user_data/jin/MyResearch/HDF_infer/notebooks/simu_cmp2sinica/../../mypkg/../results/sinica_results/SinicaX_d-200_n-100_test1_setting1/c1_0_pvals.pkl\n",
      "Load file /data/rajlab1/user_data/jin/MyResearch/HDF_infer/notebooks/simu_cmp2sinica/../../mypkg/../results/sinica_results/SinicaX_d-200_n-100_test1_setting1/c1_50_pvals.pkl\n",
      "Load file /data/rajlab1/user_data/jin/MyResearch/HDF_infer/notebooks/simu_cmp2sinica/../../mypkg/../results/sinica_results/SinicaX_d-200_n-100_test1_setting1/c1_100_pvals.pkl\n",
      "Load file /data/rajlab1/user_data/jin/MyResearch/HDF_infer/notebooks/simu_cmp2sinica/../../mypkg/../results/sinica_results/SinicaX_d-200_n-100_test1_setting1/c1_200_pvals.pkl\n",
      "Load file /data/rajlab1/user_data/jin/MyResearch/HDF_infer/notebooks/simu_cmp2sinica/../../mypkg/../results/sinica_results/SinicaX_d-200_n-100_test1_setting1/c1_300_pvals.pkl\n",
      "Load file /data/rajlab1/user_data/jin/MyResearch/HDF_infer/notebooks/simu_cmp2sinica/../../mypkg/../results/sinica_results/SinicaX_d-200_n-100_test1_setting1/c1_400_pvals.pkl\n",
      "Load file /data/rajlab1/user_data/jin/MyResearch/HDF_infer/notebooks/simu_cmp2sinica/../../mypkg/../results/sinica_results/SinicaX_d-200_n-100_test1_setting1/c1_500_pvals.pkl\n",
      "Load file /data/rajlab1/user_data/jin/MyResearch/HDF_infer/notebooks/simu_cmp2sinica/../../mypkg/../results/sinica_results/SinicaX_d-200_n-100_test1_setting1/c1_600_pvals.pkl\n"
     ]
    }
   ],
   "source": [
    "pvals_sinica = []\n",
    "for c1 in c1s:\n",
    "    sini_pvals = load_pkl(sini_paras.dir/f\"c1_{c1*1000:.0f}_pvals.pkl\")\n",
    "    pvals_sinica.append(np.mean(sini_pvals < 0.05))"
   ]
  },
  {
   "cell_type": "code",
   "execution_count": 26,
   "id": "568f3340-70d0-4903-bf42-e738151a2552",
   "metadata": {
    "execution": {
     "iopub.execute_input": "2023-09-25T23:08:38.633583Z",
     "iopub.status.busy": "2023-09-25T23:08:38.632977Z",
     "iopub.status.idle": "2023-09-25T23:08:38.803447Z",
     "shell.execute_reply": "2023-09-25T23:08:38.803018Z",
     "shell.execute_reply.started": "2023-09-25T23:08:38.633537Z"
    },
    "tags": []
   },
   "outputs": [
    {
     "data": {
      "text/plain": [
       "<matplotlib.legend.Legend at 0x7f17413e6340>"
      ]
     },
     "execution_count": 26,
     "metadata": {},
     "output_type": "execute_result"
    },
    {
     "data": {
      "image/png": "[encoded data removed]",
      "text/plain": [
       "<Figure size 720x360 with 1 Axes>"
      ]
     },
     "metadata": {
      "needs_background": "light"
     },
     "output_type": "display_data"
    }
   ],
   "source": [
    "pvals_hdf = np.array(df_sel.iloc[1][:-2]);\n",
    "plt.figure(figsize=[10, 5])\n",
    "plt.plot(c1s, pvals_sinica, \"*\", label=\"SINICA\")\n",
    "plt.plot(c1s, pvals_hdf, \".\", label=\"HDF\")\n",
    "plt.legend()"
   ]
  },
  {
   "cell_type": "code",
   "execution_count": 27,
   "id": "980d94a2-afdd-4742-9ecd-37dfe5f3645d",
   "metadata": {
    "execution": {
     "iopub.execute_input": "2023-09-25T23:08:41.075792Z",
     "iopub.status.busy": "2023-09-25T23:08:41.075028Z",
     "iopub.status.idle": "2023-09-25T23:08:41.184358Z",
     "shell.execute_reply": "2023-09-25T23:08:41.183380Z",
     "shell.execute_reply.started": "2023-09-25T23:08:41.075746Z"
    },
    "tags": []
   },
   "outputs": [
    {
     "data": {
      "text/plain": [
       "array([[0.053, 0.068, 0.132, 0.371, 0.737, 0.932, 0.99 , 0.998],\n",
       "       [0.048, 0.06 , 0.123, 0.421, 0.746, 0.935, 0.992, 0.999]])"
      ]
     },
     "execution_count": 27,
     "metadata": {},
     "output_type": "execute_result"
    }
   ],
   "source": [
    "np.round(np.array([pvals_hdf, pvals_sinica]), 3)"
   ]
  },
  {
   "cell_type": "markdown",
   "id": "9880db4c-87b0-4f64-b465-617fdc6ce79c",
   "metadata": {},
   "source": [
    "# Check"
   ]
  },
  {
   "cell_type": "code",
   "execution_count": null,
   "id": "b56b6fd6-e4fc-49f7-a496-139e0a2a3443",
   "metadata": {},
   "outputs": [],
   "source": [
    "\n"
   ]
  },
  {
   "cell_type": "code",
   "execution_count": 46,
   "id": "818841ac-65d1-4f92-8a09-b429ece0b0a0",
   "metadata": {
    "execution": {
     "iopub.execute_input": "2023-10-09T22:14:26.931877Z",
     "iopub.status.busy": "2023-10-09T22:14:26.931225Z",
     "iopub.status.idle": "2023-10-09T22:14:26.970149Z",
     "shell.execute_reply": "2023-10-09T22:14:26.969365Z",
     "shell.execute_reply.started": "2023-10-09T22:14:26.931829Z"
    },
    "tags": []
   },
   "outputs": [],
   "source": [
    "def _test_fn(Cmat, est_res, svdinv_eps_Q=0, svdinv_eps_Psi=0, verbose=False):\n",
    "    torch.set_default_tensor_type(torch.DoubleTensor)\n",
    "    _paras = est_res._paras\n",
    "    _paras.svdinv_eps_Q = svdinv_eps_Q\n",
    "    _paras.svdinv_eps_Psi = svdinv_eps_Psi\n",
    "    #f_name = f\"seed_{_paras.seed:.0f}-lam_{_paras.lam*1000:.0f}-N_{_paras.N:.0f}_test_stat.pkl\"\n",
    "    \n",
    "    T_v = obt_test_stat_simple2(Q_mat_part=est_res.Q_mat_part, \n",
    "                               Sig_mat_part=est_res.Sig_mat_part,\n",
    "                               est_alp=est_res.est_alp, \n",
    "                               est_Gam=est_res.est_Gam,\n",
    "                               Cmat=Cmat,\n",
    "                               paras=_paras,\n",
    "                               ).item() \n",
    "    pval = chi2.sf(T_v, Cmat.shape[0]*_paras.N)\n",
    "    \n",
    "    res = edict()\n",
    "    res.T_v = T_v\n",
    "    res.pval = pval\n",
    "    res.Cmat = Cmat\n",
    "    return res"
   ]
  },
  {
   "cell_type": "code",
   "execution_count": 47,
   "id": "65d74dc7-20b6-4816-a33c-1fefa718ce74",
   "metadata": {
    "execution": {
     "iopub.execute_input": "2023-10-09T22:14:47.589137Z",
     "iopub.status.busy": "2023-10-09T22:14:47.588497Z",
     "iopub.status.idle": "2023-10-09T22:14:47.699921Z",
     "shell.execute_reply": "2023-10-09T22:14:47.698774Z",
     "shell.execute_reply.started": "2023-10-09T22:14:47.589093Z"
    },
    "tags": []
   },
   "outputs": [
    {
     "data": {
      "text/plain": [
       "PosixPath('/data/rajlab1/user_data/jin/MyResearch/HDF_infer/notebooks/simu_cmp2sinica/../../mypkg/../results/simu_setting7_0')"
      ]
     },
     "execution_count": 47,
     "metadata": {},
     "output_type": "execute_result"
    }
   ],
   "source": [
    "cans = [1e-5, 3e-6, 1e-6, 3e-7, 1e-7, 3e-8, 1e-8, 3e-9, 1e-9, 3e-10, 0]\n",
    "setting = \"setting7\"\n",
    "all_coms = np.array(list(itertools.product(cans, cans)));\n",
    "c1 = 0.0\n",
    "cur_save_dir = RES_ROOT/f\"simu_{setting}_{c1*1000:.0f}\""
   ]
  },
  {
   "cell_type": "code",
   "execution_count": 51,
   "id": "dd745e32-bfa7-4b14-a63c-7e74017e061e",
   "metadata": {
    "execution": {
     "iopub.execute_input": "2023-10-09T22:17:32.026485Z",
     "iopub.status.busy": "2023-10-09T22:17:32.025887Z",
     "iopub.status.idle": "2023-10-09T22:17:32.072915Z",
     "shell.execute_reply": "2023-10-09T22:17:32.072180Z",
     "shell.execute_reply.started": "2023-10-09T22:17:32.026440Z"
    },
    "tags": []
   },
   "outputs": [
    {
     "name": "stdout",
     "output_type": "stream",
     "text": [
      "Load file /data/rajlab1/user_data/jin/MyResearch/HDF_infer/notebooks/simu_cmp2sinica/../../mypkg/../results/simu_setting7_0/seed_19-lam_200-N_6-c1_0_est.pkl\n"
     ]
    }
   ],
   "source": [
    "tmp_res = load_pkl(cur_save_dir/\"seed_19-lam_200-N_6-c1_0_est.pkl\");"
   ]
  },
  {
   "cell_type": "code",
   "execution_count": 53,
   "id": "21d93b81-b766-4bc8-91da-7c2a7b0de9a8",
   "metadata": {
    "execution": {
     "iopub.execute_input": "2023-10-09T22:17:35.334725Z",
     "iopub.status.busy": "2023-10-09T22:17:35.334145Z",
     "iopub.status.idle": "2023-10-09T22:17:35.373675Z",
     "shell.execute_reply": "2023-10-09T22:17:35.372985Z",
     "shell.execute_reply.started": "2023-10-09T22:17:35.334681Z"
    },
    "tags": []
   },
   "outputs": [
    {
     "data": {
      "text/plain": [
       "1.9098572101110067"
      ]
     },
     "execution_count": 53,
     "metadata": {},
     "output_type": "execute_result"
    }
   ],
   "source": [
    "np.mean((tmp_res.cv_errs)**2)"
   ]
  },
  {
   "cell_type": "code",
   "execution_count": 52,
   "id": "c95c283c-d58a-4235-b0fc-fba0c7de8b29",
   "metadata": {
    "execution": {
     "iopub.execute_input": "2023-10-09T22:17:33.259837Z",
     "iopub.status.busy": "2023-10-09T22:17:33.259264Z",
     "iopub.status.idle": "2023-10-09T22:17:33.299454Z",
     "shell.execute_reply": "2023-10-09T22:17:33.298831Z",
     "shell.execute_reply.started": "2023-10-09T22:17:33.259780Z"
    },
    "tags": []
   },
   "outputs": [
    {
     "data": {
      "text/plain": [
       "tensor([3.7125e+00, 0.0000e+00, 0.0000e+00, 0.0000e+00, 0.0000e+00, 0.0000e+00,\n",
       "        1.1353e-01, 0.0000e+00, 0.0000e+00, 0.0000e+00, 0.0000e+00, 0.0000e+00,\n",
       "        0.0000e+00, 0.0000e+00, 0.0000e+00, 0.0000e+00, 0.0000e+00, 0.0000e+00,\n",
       "        0.0000e+00, 0.0000e+00, 0.0000e+00, 0.0000e+00, 0.0000e+00, 0.0000e+00,\n",
       "        1.2641e-04, 0.0000e+00, 0.0000e+00, 0.0000e+00, 0.0000e+00, 0.0000e+00,\n",
       "        0.0000e+00, 0.0000e+00, 0.0000e+00, 0.0000e+00, 0.0000e+00, 4.7981e-02,\n",
       "        0.0000e+00, 0.0000e+00, 0.0000e+00, 0.0000e+00, 0.0000e+00])"
      ]
     },
     "execution_count": 52,
     "metadata": {},
     "output_type": "execute_result"
    }
   ],
   "source": [
    "torch.linalg.norm(tmp_res.est_Gam, dim=0)"
   ]
  },
  {
   "cell_type": "code",
   "execution_count": null,
   "id": "eda1bbde-5c0b-4e58-8fef-80eb641282be",
   "metadata": {},
   "outputs": [],
   "source": []
  },
  {
   "cell_type": "code",
   "execution_count": null,
   "id": "c373570b-9bff-4f30-80fc-931ff8a836c0",
   "metadata": {},
   "outputs": [],
   "source": []
  },
  {
   "cell_type": "code",
   "execution_count": 104,
   "id": "548c7631-3f07-4430-91d9-eceeec75e564",
   "metadata": {
    "execution": {
     "iopub.execute_input": "2023-10-06T21:21:11.831263Z",
     "iopub.status.busy": "2023-10-06T21:21:11.830622Z",
     "iopub.status.idle": "2023-10-06T21:21:11.993589Z",
     "shell.execute_reply": "2023-10-06T21:21:11.992327Z",
     "shell.execute_reply.started": "2023-10-06T21:21:11.831217Z"
    },
    "tags": []
   },
   "outputs": [
    {
     "name": "stdout",
     "output_type": "stream",
     "text": [
      "Load file /data/rajlab1/user_data/jin/MyResearch/HDF_infer/notebooks/simu_cmp2sinica/../../mypkg/../results/simu_setting1i_0/opt_lamNs_c1_0.pkl\n",
      "Load file /data/rajlab1/user_data/jin/MyResearch/HDF_infer/notebooks/simu_cmp2sinica/../../mypkg/../results/simu_setting1i_0/all-cv-errs_c1_0.pkl\n"
     ]
    }
   ],
   "source": [
    "c1 = 0 \n",
    "cur_save_dir = RES_ROOT/f\"simu_{setting}_{c1*1000:.0f}\"\n",
    "optlamNs = load_pkl(cur_save_dir/f\"opt_lamNs_c1_{c1*1000:.0f}.pkl\");\n",
    "all_cv_errs = load_pkl(cur_save_dir/f\"all-cv-errs_c1_{c1*1000:.0f}.pkl\");"
   ]
  },
  {
   "cell_type": "code",
   "execution_count": 129,
   "id": "ce10b920-4f54-414a-8395-c0920f1cf1e4",
   "metadata": {
    "execution": {
     "iopub.execute_input": "2023-10-06T21:32:13.227693Z",
     "iopub.status.busy": "2023-10-06T21:32:13.227092Z",
     "iopub.status.idle": "2023-10-06T21:32:13.266926Z",
     "shell.execute_reply": "2023-10-06T21:32:13.266196Z",
     "shell.execute_reply.started": "2023-10-06T21:32:13.227648Z"
    },
    "tags": []
   },
   "outputs": [
    {
     "data": {
      "text/plain": [
       "(array([[4.0e+00, 3.0e-01],\n",
       "        [6.0e+00, 1.0e-03],\n",
       "        [6.0e+00, 3.0e-01],\n",
       "        [6.0e+00, 6.0e-01],\n",
       "        [8.0e+00, 3.0e-01],\n",
       "        [8.0e+00, 6.0e-01],\n",
       "        [8.0e+00, 8.0e-01],\n",
       "        [1.0e+01, 1.0e-03],\n",
       "        [1.0e+01, 3.0e-01],\n",
       "        [1.0e+01, 6.0e-01],\n",
       "        [1.0e+01, 8.0e-01],\n",
       "        [1.2e+01, 1.0e-03],\n",
       "        [1.2e+01, 3.0e-01],\n",
       "        [1.2e+01, 6.0e-01],\n",
       "        [1.2e+01, 8.0e-01]]),\n",
       " array([14,  1, 98, 27, 11, 11,  1,  1,  8,  5,  2, 10,  9,  1,  1]))"
      ]
     },
     "execution_count": 129,
     "metadata": {},
     "output_type": "execute_result"
    }
   ],
   "source": [
    "np.unique(np.array(optlamNs)[:, 1:3], axis=0, return_counts=1)"
   ]
  },
  {
   "cell_type": "code",
   "execution_count": 119,
   "id": "f73d0dc8-e6c5-420a-8a8c-563544501a9c",
   "metadata": {
    "execution": {
     "iopub.execute_input": "2023-10-06T21:27:17.509910Z",
     "iopub.status.busy": "2023-10-06T21:27:17.509281Z",
     "iopub.status.idle": "2023-10-06T21:27:17.624028Z",
     "shell.execute_reply": "2023-10-06T21:27:17.622893Z",
     "shell.execute_reply.started": "2023-10-06T21:27:17.509864Z"
    },
    "tags": []
   },
   "outputs": [
    {
     "data": {
      "text/plain": [
       "(0, 12, 0.001, 0.7811521027624267)"
      ]
     },
     "execution_count": 119,
     "metadata": {},
     "output_type": "execute_result"
    }
   ],
   "source": [
    "\n",
    "seed = 0\n",
    "lamNs = list(itertools.product([seed], can_Ns, can_lams))\n",
    "errs = []\n",
    "for key in lamNs:\n",
    "    errs.append(np.mean((all_cv_errs[key])**2))\n",
    "errs = np.array(errs)\n",
    "_, optN, optlam, _ = optlamNs[seed]\n",
    "optlamNs[seed]"
   ]
  },
  {
   "cell_type": "code",
   "execution_count": 124,
   "id": "654a92fd-e048-4b69-8bd5-79101577563e",
   "metadata": {
    "execution": {
     "iopub.execute_input": "2023-10-06T21:29:24.494478Z",
     "iopub.status.busy": "2023-10-06T21:29:24.493859Z",
     "iopub.status.idle": "2023-10-06T21:29:24.559434Z",
     "shell.execute_reply": "2023-10-06T21:29:24.558242Z",
     "shell.execute_reply.started": "2023-10-06T21:29:24.494433Z"
    },
    "tags": []
   },
   "outputs": [
    {
     "data": {
      "text/plain": [
       "tensor([0.2214, 0.4468, 0.2343, 0.2204, 0.1974, 0.2667, 0.1496, 0.3123, 0.3195,\n",
       "        0.3026, 0.3238, 0.1254, 0.2767, 0.1914, 0.2042, 0.1299, 0.1522, 0.2194,\n",
       "        0.3077, 0.2846, 0.2165, 0.3433, 0.2467, 0.3257, 0.2703, 0.3141, 0.3256,\n",
       "        0.2452, 0.1793, 0.1581, 0.1918, 0.2839, 0.3419, 0.2224, 0.2938, 0.2582,\n",
       "        0.2572, 0.3183, 0.2445, 0.3869, 0.6264])"
      ]
     },
     "execution_count": 124,
     "metadata": {},
     "output_type": "execute_result"
    }
   ],
   "source": [
    "f_fil = list(cur_save_dir.glob(f\"seed_{seed:.0f}-lam_{optlam*1000:.0f}-N_{optN:.0f}-c1_{c1*1000:.0f}_est.pkl\"))[0]\n",
    "t_res = load_pkl(f_fil, verbose=0);\n",
    "torch.linalg.norm(t_res.est_Gam, dim=0)"
   ]
  },
  {
   "cell_type": "code",
   "execution_count": 125,
   "id": "e82dabfb-2924-441e-8552-497c982603c0",
   "metadata": {
    "execution": {
     "iopub.execute_input": "2023-10-06T21:30:26.795645Z",
     "iopub.status.busy": "2023-10-06T21:30:26.795101Z",
     "iopub.status.idle": "2023-10-06T21:30:26.842228Z",
     "shell.execute_reply": "2023-10-06T21:30:26.841287Z",
     "shell.execute_reply.started": "2023-10-06T21:30:26.795600Z"
    }
   },
   "outputs": [
    {
     "data": {
      "text/plain": [
       "array([  0,   4,   6,   7,  12,  13,  36,  54,  56,  59,  62,  68,  69,\n",
       "        71,  76,  77,  78,  81,  82,  95, 103, 116, 121, 122, 127, 128,\n",
       "       132, 133, 134, 135, 136, 141, 147, 148, 150, 157, 166, 173, 181,\n",
       "       198, 199])"
      ]
     },
     "execution_count": 125,
     "metadata": {},
     "output_type": "execute_result"
    }
   ],
   "source": [
    "t_res._paras.keep_idxs"
   ]
  },
  {
   "cell_type": "code",
   "execution_count": 117,
   "id": "faee8c54-0e7b-4c96-b71e-dd4a9fab63d6",
   "metadata": {
    "execution": {
     "iopub.execute_input": "2023-10-06T21:25:29.722425Z",
     "iopub.status.busy": "2023-10-06T21:25:29.721899Z",
     "iopub.status.idle": "2023-10-06T21:25:30.017295Z",
     "shell.execute_reply": "2023-10-06T21:25:30.016868Z",
     "shell.execute_reply.started": "2023-10-06T21:25:29.722383Z"
    },
    "tags": []
   },
   "outputs": [
    {
     "data": {
      "text/plain": [
       "Text(0.5, 23.20659722222222, 'Lam')"
      ]
     },
     "execution_count": 117,
     "metadata": {},
     "output_type": "execute_result"
    },
    {
     "data": {
      "image/png": "[encoded data removed]",
      "text/plain": [
       "<Figure size 1000x500 with 2 Axes>"
      ]
     },
     "metadata": {
      "needs_background": "light"
     },
     "output_type": "display_data"
    }
   ],
   "source": [
    "lamNsnp = np.array(lamNs);\n",
    "lamNsnp[:, 1].reshape(len(can_Ns), -1)\n",
    "errs_mat = errs.reshape(len(can_Ns), -1)\n",
    "sns.heatmap(errs_mat, annot=np.round(errs_mat, 2))\n",
    "plt.yticks(np.arange(len(can_Ns))+0.5, can_Ns)\n",
    "plt.xticks(np.arange(len(can_lams))+0.5, can_lams);\n",
    "plt.ylabel(\"N\")\n",
    "plt.xlabel(\"Lam\")"
   ]
  },
  {
   "cell_type": "code",
   "execution_count": 28,
   "id": "c921092d-80fc-4080-83d9-310865777b2a",
   "metadata": {
    "execution": {
     "iopub.execute_input": "2023-11-20T18:59:38.317810Z",
     "iopub.status.busy": "2023-11-20T18:59:38.317191Z",
     "iopub.status.idle": "2023-11-20T18:59:47.833465Z",
     "shell.execute_reply": "2023-11-20T18:59:47.832261Z",
     "shell.execute_reply.started": "2023-11-20T18:59:38.317766Z"
    },
    "tags": []
   },
   "outputs": [
    {
     "name": "stderr",
     "output_type": "stream",
     "text": [
      "100%|████████████████████████████████████████████████████████████████████████████████████████████████████████████████████████████████████████| 200/200 [00:09<00:00, 21.12it/s]\n"
     ]
    }
   ],
   "source": [
    "c1 = 0.4\n",
    "setting = \"setting4cil\"\n",
    "cur_save_dir = RES_ROOT/f\"simu_{setting}_{c1*1000:.0f}\"\n",
    "cur_seed, cur_lam, cur_N = (1, 0.3, 4)\n",
    "keep_idxss = []\n",
    "for cur_seed in trange(0, 200):\n",
    "    f1_name = f\"seed_{cur_seed:.0f}-lam_{cur_lam*1000:.0f}-N_{cur_N:.0f}-c1_{c1*1000:.0f}_est.pkl\"\n",
    "    res = load_pkl(cur_save_dir/f1_name, verbose=False);\n",
    "    keep_idxss.append(res._paras.keep_idxs)"
   ]
  },
  {
   "cell_type": "code",
   "execution_count": 29,
   "id": "1109a25a-00bb-4c9c-8d35-924eadcbf63d",
   "metadata": {
    "execution": {
     "iopub.execute_input": "2023-11-20T18:59:48.364077Z",
     "iopub.status.busy": "2023-11-20T18:59:48.363520Z",
     "iopub.status.idle": "2023-11-20T18:59:48.409760Z",
     "shell.execute_reply": "2023-11-20T18:59:48.408688Z",
     "shell.execute_reply.started": "2023-11-20T18:59:48.364031Z"
    },
    "tags": []
   },
   "outputs": [
    {
     "data": {
      "text/plain": [
       "1.0"
      ]
     },
     "execution_count": 29,
     "metadata": {},
     "output_type": "execute_result"
    }
   ],
   "source": [
    "np.mean(np.array(keep_idxss)[:, -1] == 199)"
   ]
  },
  {
   "cell_type": "code",
   "execution_count": 15,
   "id": "432468fa-7baf-465a-9fa2-0f4adae877dd",
   "metadata": {
    "execution": {
     "iopub.execute_input": "2023-11-20T18:56:18.907981Z",
     "iopub.status.busy": "2023-11-20T18:56:18.907353Z",
     "iopub.status.idle": "2023-11-20T18:56:18.949555Z",
     "shell.execute_reply": "2023-11-20T18:56:18.948554Z",
     "shell.execute_reply.started": "2023-11-20T18:56:18.907936Z"
    },
    "tags": []
   },
   "outputs": [
    {
     "data": {
      "text/plain": [
       "array([199, 199, 199, 199, 199, 199, 199, 199, 199, 199, 199, 199, 199,\n",
       "       199, 199, 199, 199, 199, 196, 199, 199, 199, 199, 199, 199, 199,\n",
       "       199, 199, 199, 199, 199, 199, 199, 199, 199, 199, 199, 199, 199,\n",
       "       199, 199, 199, 199, 199, 199, 199, 199, 199, 199, 199, 199, 199,\n",
       "       199, 199, 199, 199, 199, 199, 199, 199, 199, 199, 199, 199, 199,\n",
       "       199, 199, 199, 199, 199, 199, 199, 199, 199, 199, 199, 199, 199,\n",
       "       199, 199, 199, 199, 199, 199, 199, 199, 199, 199, 199, 199, 199,\n",
       "       199, 199, 199, 199, 199, 199, 199, 199, 199])"
      ]
     },
     "execution_count": 15,
     "metadata": {},
     "output_type": "execute_result"
    }
   ],
   "source": [
    "np.array(keep_idxss)[:, -1]"
   ]
  },
  {
   "cell_type": "code",
   "execution_count": 14,
   "id": "3706c7d9-78f7-451b-99e4-285ba30d18b7",
   "metadata": {
    "execution": {
     "iopub.execute_input": "2023-11-20T18:56:09.620940Z",
     "iopub.status.busy": "2023-11-20T18:56:09.620377Z",
     "iopub.status.idle": "2023-11-20T18:56:09.720881Z",
     "shell.execute_reply": "2023-11-20T18:56:09.719590Z",
     "shell.execute_reply.started": "2023-11-20T18:56:09.620900Z"
    },
    "tags": []
   },
   "outputs": [
    {
     "data": {
      "text/plain": [
       "array([ True,  True,  True,  True,  True,  True,  True,  True,  True,\n",
       "        True,  True,  True,  True,  True,  True,  True,  True,  True,\n",
       "       False,  True,  True,  True,  True,  True,  True,  True,  True,\n",
       "        True,  True,  True,  True,  True,  True,  True,  True,  True,\n",
       "        True,  True,  True,  True,  True,  True,  True,  True,  True,\n",
       "        True,  True,  True,  True,  True,  True,  True,  True,  True,\n",
       "        True,  True,  True,  True,  True,  True,  True,  True,  True,\n",
       "        True,  True,  True,  True,  True,  True,  True,  True,  True,\n",
       "        True,  True,  True,  True,  True,  True,  True,  True,  True,\n",
       "        True,  True,  True,  True,  True,  True,  True,  True,  True,\n",
       "        True,  True,  True,  True,  True,  True,  True,  True,  True,\n",
       "        True])"
      ]
     },
     "execution_count": 14,
     "metadata": {},
     "output_type": "execute_result"
    }
   ],
   "source": [
    "np.array(keep_idxss)[:, -1] == 199"
   ]
  },
  {
   "cell_type": "code",
   "execution_count": null,
   "id": "fbd31bd4-b0a4-4a8f-a84f-fa5a8d8e2b3e",
   "metadata": {},
   "outputs": [],
   "source": []
  }
 ],
 "metadata": {
  "kernelspec": {
   "display_name": "Python 3 (ipykernel)",
   "language": "python",
   "name": "python3"
  },
  "language_info": {
   "codemirror_mode": {
    "name": "ipython",
    "version": 3
   },
   "file_extension": ".py",
   "mimetype": "text/x-python",
   "name": "python",
   "nbconvert_exporter": "python",
   "pygments_lexer": "ipython3",
   "version": "3.9.7"
  },
  "toc": {
   "base_numbering": 1,
   "nav_menu": {},
   "number_sections": true,
   "sideBar": true,
   "skip_h1_title": false,
   "title_cell": "Table of Contents",
   "title_sidebar": "Contents",
   "toc_cell": false,
   "toc_position": {
    "height": "calc(100% - 180px)",
    "left": "10px",
    "top": "150px",
    "width": "165px"
   },
   "toc_section_display": true,
   "toc_window_display": true
  },
  "toc-autonumbering": true
 },
 "nbformat": 4,
 "nbformat_minor": 5
}
