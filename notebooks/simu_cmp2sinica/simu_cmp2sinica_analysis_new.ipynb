{
 "cells": [
  {
   "cell_type": "markdown",
   "id": "faf0a805",
   "metadata": {},
   "source": [
    "This file contains python code to compare with sinica paper\n",
    "\n",
    "It is under the linear setting\n",
    "\n",
    "Now, I use the same X and beta from the paper (on Sep 4, 2023)\n",
    "\n",
    "I analyze the results under new code, here I save the results seperately."
   ]
  },
  {
   "cell_type": "code",
   "execution_count": 1,
   "id": "02ae980e",
   "metadata": {
    "ExecuteTime": {
     "end_time": "2023-05-31T19:57:23.490285Z",
     "start_time": "2023-05-31T19:57:23.481769Z"
    },
    "execution": {
     "iopub.execute_input": "2023-10-18T23:13:44.515623Z",
     "iopub.status.busy": "2023-10-18T23:13:44.515069Z",
     "iopub.status.idle": "2023-10-18T23:13:44.530650Z",
     "shell.execute_reply": "2023-10-18T23:13:44.529221Z",
     "shell.execute_reply.started": "2023-10-18T23:13:44.515577Z"
    },
    "tags": []
   },
   "outputs": [],
   "source": [
    "import sys\n",
    "sys.path.append(\"../../mypkg\")"
   ]
  },
  {
   "cell_type": "code",
   "execution_count": 2,
   "id": "023df78a",
   "metadata": {
    "ExecuteTime": {
     "end_time": "2023-05-31T19:57:34.238839Z",
     "start_time": "2023-05-31T19:57:23.494053Z"
    },
    "execution": {
     "iopub.execute_input": "2023-10-18T23:13:44.532583Z",
     "iopub.status.busy": "2023-10-18T23:13:44.532099Z",
     "iopub.status.idle": "2023-10-18T23:13:46.940278Z",
     "shell.execute_reply": "2023-10-18T23:13:46.939155Z",
     "shell.execute_reply.started": "2023-10-18T23:13:44.532548Z"
    },
    "tags": []
   },
   "outputs": [],
   "source": [
    "import numpy as np\n",
    "import torch\n",
    "import matplotlib.pyplot as plt\n",
    "import seaborn as sns\n",
    "from scipy.stats import pearsonr\n",
    "from numbers import Number\n",
    "import multiprocessing as mp\n",
    "\n",
    "from easydict import EasyDict as edict\n",
    "from tqdm import trange, tqdm\n",
    "from scipy.io import loadmat\n",
    "from pprint import pprint\n",
    "import itertools\n",
    "from scipy.stats import chi2\n"
   ]
  },
  {
   "cell_type": "code",
   "execution_count": 3,
   "id": "b9d3cbc6-1ac5-47d6-a0d1-bcbc0be9267e",
   "metadata": {
    "execution": {
     "iopub.execute_input": "2023-10-18T23:13:46.942264Z",
     "iopub.status.busy": "2023-10-18T23:13:46.941876Z",
     "iopub.status.idle": "2023-10-18T23:13:46.966736Z",
     "shell.execute_reply": "2023-10-18T23:13:46.966293Z",
     "shell.execute_reply.started": "2023-10-18T23:13:46.942239Z"
    },
    "tags": []
   },
   "outputs": [],
   "source": [
    "# This will reload all imports as soon as the code changes\n",
    "%load_ext autoreload\n",
    "%autoreload 2"
   ]
  },
  {
   "cell_type": "code",
   "execution_count": 23,
   "id": "b0aa91b2",
   "metadata": {
    "ExecuteTime": {
     "end_time": "2023-05-31T19:57:59.558229Z",
     "start_time": "2023-05-31T19:57:34.292612Z"
    },
    "execution": {
     "iopub.execute_input": "2023-10-18T23:22:53.637991Z",
     "iopub.status.busy": "2023-10-18T23:22:53.637415Z",
     "iopub.status.idle": "2023-10-18T23:22:53.675748Z",
     "shell.execute_reply": "2023-10-18T23:22:53.675085Z",
     "shell.execute_reply.started": "2023-10-18T23:22:53.637943Z"
    },
    "tags": []
   },
   "outputs": [],
   "source": [
    "from constants import DATA_ROOT, RES_ROOT, FIG_ROOT, MIDRES_ROOT\n",
    "\n",
    "from hdf_utils.hypo_test import obt_test_stat_simple2, get_Amat, obt_test_stat_simple3\n",
    "from utils.matrix import col_vec_fn, col_vec2mat_fn, conju_grad, svd_inverse, cholesky_inv\n",
    "from utils.misc import save_pkl, load_pkl, get_local_min_idxs\n",
    "from optimization.one_step_opt import OneStepOpt\n",
    "\n",
    "from joblib import Parallel, delayed"
   ]
  },
  {
   "cell_type": "code",
   "execution_count": 5,
   "id": "03e8580b-15e9-4a93-8010-aa2d650ffdf6",
   "metadata": {
    "execution": {
     "iopub.execute_input": "2023-10-18T23:13:47.089507Z",
     "iopub.status.busy": "2023-10-18T23:13:47.089183Z",
     "iopub.status.idle": "2023-10-18T23:13:47.107259Z",
     "shell.execute_reply": "2023-10-18T23:13:47.106816Z",
     "shell.execute_reply.started": "2023-10-18T23:13:47.089492Z"
    },
    "tags": []
   },
   "outputs": [],
   "source": [
    "import logging\n",
    "\n",
    "logger = logging.getLogger(\"tmp\")\n",
    "logger.setLevel(logging.DEBUG)\n",
    "formatter = logging.Formatter('%(asctime)s - %(name)s - %(levelname)s - %(message)s')\n",
    "\n",
    "ch = logging.StreamHandler() # for console. \n",
    "ch.setLevel(logging.DEBUG)\n",
    "ch.setFormatter(formatter)\n",
    "\n",
    "logger.addHandler(ch)"
   ]
  },
  {
   "cell_type": "code",
   "execution_count": 6,
   "id": "fe0a4a46",
   "metadata": {
    "ExecuteTime": {
     "end_time": "2023-05-31T19:57:59.621784Z",
     "start_time": "2023-05-31T19:57:59.568097Z"
    },
    "execution": {
     "iopub.execute_input": "2023-10-18T23:13:47.752329Z",
     "iopub.status.busy": "2023-10-18T23:13:47.751759Z",
     "iopub.status.idle": "2023-10-18T23:13:47.790047Z",
     "shell.execute_reply": "2023-10-18T23:13:47.789172Z",
     "shell.execute_reply.started": "2023-10-18T23:13:47.752283Z"
    },
    "tags": []
   },
   "outputs": [],
   "source": [
    "plt.style.use(FIG_ROOT/\"base.mplstyle\")\n",
    "torch.set_default_tensor_type(torch.DoubleTensor)"
   ]
  },
  {
   "cell_type": "code",
   "execution_count": null,
   "id": "e0cb5a3d-1ab1-4bc0-bfce-d7ebaedb0391",
   "metadata": {},
   "outputs": [],
   "source": []
  },
  {
   "cell_type": "code",
   "execution_count": null,
   "id": "d0af2f35",
   "metadata": {},
   "outputs": [],
   "source": []
  },
  {
   "cell_type": "markdown",
   "id": "dd9c6514",
   "metadata": {},
   "source": [
    "# Param and fns"
   ]
  },
  {
   "cell_type": "code",
   "execution_count": null,
   "id": "a10d559c-8d6a-428a-bdb9-23c0a5aac96b",
   "metadata": {},
   "outputs": [],
   "source": []
  },
  {
   "cell_type": "markdown",
   "id": "e5ccf9dc-c8f3-40a3-92f9-de2cdfa75610",
   "metadata": {},
   "source": [
    "## Fns"
   ]
  },
  {
   "cell_type": "code",
   "execution_count": 7,
   "id": "d93eca7c-5b7c-49ee-bec2-979f08f8d602",
   "metadata": {
    "execution": {
     "iopub.execute_input": "2023-10-18T23:13:50.308443Z",
     "iopub.status.busy": "2023-10-18T23:13:50.307835Z",
     "iopub.status.idle": "2023-10-18T23:13:50.353291Z",
     "shell.execute_reply": "2023-10-18T23:13:50.352485Z",
     "shell.execute_reply.started": "2023-10-18T23:13:50.308398Z"
    },
    "tags": []
   },
   "outputs": [
    {
     "data": {
      "text/plain": [
       "<function __main__.<lambda>(x)>"
      ]
     },
     "execution_count": 7,
     "metadata": {},
     "output_type": "execute_result"
    }
   ],
   "source": [
    "def _get_min_idx(x):\n",
    "    \"\"\"Get the index of the minimal values among the local minimals.\n",
    "       If there are multiple ones, return the largest index\n",
    "       args:\n",
    "           x: a vec\n",
    "        \n",
    "    \"\"\"\n",
    "    x = np.array(x)\n",
    "    lmin_idxs = get_local_min_idxs(x);\n",
    "    if len(lmin_idxs) == 0:\n",
    "        lmin_idxs = np.arange(len(x))\n",
    "    lmin_idxs_inv =  lmin_idxs[::-1]\n",
    "    lmins_inv = x[lmin_idxs_inv];\n",
    "    return  lmin_idxs_inv[np.argmin(lmins_inv)]\n",
    "_err_fn = lambda x: np.nanmean(x**2)"
   ]
  },
  {
   "cell_type": "code",
   "execution_count": null,
   "id": "75e10fd4",
   "metadata": {},
   "outputs": [],
   "source": []
  },
  {
   "cell_type": "markdown",
   "id": "ad8553a0-635d-473c-b27e-7bb7fb31a674",
   "metadata": {},
   "source": [
    "# Analysis"
   ]
  },
  {
   "cell_type": "code",
   "execution_count": 54,
   "id": "d756101d-64d2-40d7-8476-472468440158",
   "metadata": {
    "execution": {
     "iopub.execute_input": "2023-10-18T23:38:37.143324Z",
     "iopub.status.busy": "2023-10-18T23:38:37.142694Z",
     "iopub.status.idle": "2023-10-18T23:38:37.188084Z",
     "shell.execute_reply": "2023-10-18T23:38:37.187021Z",
     "shell.execute_reply.started": "2023-10-18T23:38:37.143276Z"
    },
    "tags": []
   },
   "outputs": [],
   "source": [
    "#c1s = [0, 0.05, 0.1, 0.2, 0.3, 0.4, 0.5, 0.6]\n",
    "#c1s = [0.05, 0.3, 0.5, 0.6]\n",
    "#Cmat = np.array([1, -1]).reshape(1, 2)\n",
    "#c1s = [0.0, 0.2, 0.4]\n",
    "\n",
    "c1s = [0.0, 0.2, 0.4]\n",
    "can_Ns = [4, 6, 8]\n",
    "#can_lams = [0.01, 0.1,  0.3,  0.6, 1, 2, 8];\n",
    "can_lams = [0.01, 0.1, 0.15, 0.20, 0.25, 0.5, 1.0, 2.0, 8.0]\n",
    "can_lams = [0.01, 0.1, 0.2, 0.3, 0.4, 0.6, 1, 2, 8];\n",
    "can_lams = [0.001, 0.3, 0.6, 0.8, 1, 1.2, 1.4, 2, 16];\n",
    "can_lams = [0.001, 0.05, 0.10, 0.15, 0.20, 0.25, 0.30, 0.50, 2]\n",
    "can_lams = [0.001, 0.05, 0.10, 0.15, 0.30, 0.50, 2]\n",
    "can_lams = [0.01, 0.1, 0.2, 0.3, 0.4, 0.6, 1, 2, 8];\n",
    "setting = \"setting4a\"\n",
    "can_lams = [0.001, 0.1, 0.3, 0.45, 0.50, 0.55, 0.6, 0.7, 1.0, 2.0, 4.0, 16.0]\n",
    "\n",
    "Cmat = np.array([1, 0, 0]).reshape(1, 3) # change it depending on test1, test2, test3\n",
    "Cmat = np.eye(1) # change it depending on test1, test2, test3\n",
    "\n",
    "num_rep = 50;"
   ]
  },
  {
   "cell_type": "code",
   "execution_count": null,
   "id": "3264cfce-b893-450e-b063-e3f4c10d1d08",
   "metadata": {},
   "outputs": [],
   "source": []
  },
  {
   "cell_type": "markdown",
   "id": "f6b461f7-fe50-4b73-aee2-203c50e562d0",
   "metadata": {},
   "source": [
    "## Step 0 (extract cv errrs)\n",
    "\n",
    "Save in one dict"
   ]
  },
  {
   "cell_type": "code",
   "execution_count": 10,
   "id": "1df2fa1e-0291-49ae-a267-5125a77d6825",
   "metadata": {
    "execution": {
     "iopub.execute_input": "2023-10-18T23:15:09.636820Z",
     "iopub.status.busy": "2023-10-18T23:15:09.636175Z",
     "iopub.status.idle": "2023-10-18T23:17:53.260588Z",
     "shell.execute_reply": "2023-10-18T23:17:53.259246Z",
     "shell.execute_reply.started": "2023-10-18T23:15:09.636758Z"
    },
    "tags": []
   },
   "outputs": [
    {
     "name": "stderr",
     "output_type": "stream",
     "text": [
      "c1: 0.0: 100%|█████████████████████████████████████████████████████████████████████████████████████████████████████████████████████████████| 1800/1800 [00:55<00:00, 32.44it/s]\n"
     ]
    },
    {
     "name": "stdout",
     "output_type": "stream",
     "text": [
      "Save to /data/rajlab1/user_data/jin/MyResearch/HDF_infer/notebooks/simu_cmp2sinica/../../mypkg/../results/simu_setting4a_0/all-cv-errs_c1_0.pkl\n"
     ]
    },
    {
     "name": "stderr",
     "output_type": "stream",
     "text": [
      "c1: 0.2: 100%|█████████████████████████████████████████████████████████████████████████████████████████████████████████████████████████████| 1800/1800 [00:52<00:00, 34.14it/s]\n"
     ]
    },
    {
     "name": "stdout",
     "output_type": "stream",
     "text": [
      "Save to /data/rajlab1/user_data/jin/MyResearch/HDF_infer/notebooks/simu_cmp2sinica/../../mypkg/../results/simu_setting4a_200/all-cv-errs_c1_200.pkl\n"
     ]
    },
    {
     "name": "stderr",
     "output_type": "stream",
     "text": [
      "c1: 0.4: 100%|█████████████████████████████████████████████████████████████████████████████████████████████████████████████████████████████| 1800/1800 [00:55<00:00, 32.71it/s]\n"
     ]
    },
    {
     "name": "stdout",
     "output_type": "stream",
     "text": [
      "Save to /data/rajlab1/user_data/jin/MyResearch/HDF_infer/notebooks/simu_cmp2sinica/../../mypkg/../results/simu_setting4a_400/all-cv-errs_c1_400.pkl\n"
     ]
    }
   ],
   "source": [
    "c1 = 0.0\n",
    "cur_num_rep = 50\n",
    "for c1 in c1s:\n",
    "    cur_save_dir = RES_ROOT/f\"simu_{setting}_{c1*1000:.0f}\"\n",
    "    \n",
    "    def _run_fn(seed, N, lam, c1):\n",
    "        f_fil = list(cur_save_dir.glob(f\"seed_{seed:.0f}-lam_{lam*1000:.0f}-N_{N:.0f}-c1_{c1*1000:.0f}_est.pkl\"))[0]\n",
    "        t_res = load_pkl(f_fil, verbose=0)\n",
    "        return (seed, N, lam), t_res.cv_errs\n",
    "    all_coms = itertools.product(range(cur_num_rep), can_Ns, can_lams)\n",
    "    with Parallel(n_jobs=1) as parallel:\n",
    "        all_cv_errs_list = parallel(delayed(_run_fn)(cur_seed, cur_N, cur_lam, c1=c1)  \n",
    "                                 for cur_seed, cur_N, cur_lam\n",
    "                                 in tqdm(all_coms, total=cur_num_rep*len(can_Ns)*len(can_lams), \n",
    "                                                      desc=f\"c1: {c1}\"))\n",
    "    all_cv_errs = {res[0]:res[1] for res in all_cv_errs_list};\n",
    "    save_pkl(cur_save_dir/f\"all-cv-errs_c1_{c1*1000:.0f}.pkl\", all_cv_errs)"
   ]
  },
  {
   "cell_type": "code",
   "execution_count": null,
   "id": "0d86e546-f1aa-4fa9-99b2-8bc07ac031ec",
   "metadata": {},
   "outputs": [],
   "source": []
  },
  {
   "cell_type": "markdown",
   "id": "f3189271-865f-47c1-ba40-2a026eb64d28",
   "metadata": {},
   "source": [
    "## Step 1 (only need once)"
   ]
  },
  {
   "cell_type": "code",
   "execution_count": 11,
   "id": "dba39788-262b-451f-8114-5fe8bd795a3f",
   "metadata": {
    "execution": {
     "iopub.execute_input": "2023-10-18T23:18:33.061134Z",
     "iopub.status.busy": "2023-10-18T23:18:33.060510Z",
     "iopub.status.idle": "2023-10-18T23:18:33.162868Z",
     "shell.execute_reply": "2023-10-18T23:18:33.161516Z",
     "shell.execute_reply.started": "2023-10-18T23:18:33.061088Z"
    },
    "tags": []
   },
   "outputs": [],
   "source": [
    "def _run_fn(seed, all_cv_errs):\n",
    "    errs_N = []\n",
    "    for cur_N in can_Ns:\n",
    "        errs = []\n",
    "        for cur_lam in can_lams:\n",
    "            errs.append(_err_fn(all_cv_errs[(seed, cur_N, cur_lam)]))\n",
    "        min_idx = _get_min_idx(errs);\n",
    "        errs_N.append((seed, cur_N, can_lams[min_idx], errs[min_idx]))\n",
    "    errs_N_sorted = sorted(errs_N, key=lambda x:x[-1]);\n",
    "    return errs_N_sorted[0]"
   ]
  },
  {
   "cell_type": "code",
   "execution_count": 16,
   "id": "34757d05-7b2b-4041-a0e2-ac40a7a2cd4f",
   "metadata": {
    "execution": {
     "iopub.execute_input": "2023-10-18T23:20:41.348882Z",
     "iopub.status.busy": "2023-10-18T23:20:41.348248Z",
     "iopub.status.idle": "2023-10-18T23:20:41.589818Z",
     "shell.execute_reply": "2023-10-18T23:20:41.589332Z",
     "shell.execute_reply.started": "2023-10-18T23:20:41.348838Z"
    },
    "tags": []
   },
   "outputs": [
    {
     "name": "stdout",
     "output_type": "stream",
     "text": [
      "Load file /data/rajlab1/user_data/jin/MyResearch/HDF_infer/notebooks/simu_cmp2sinica/../../mypkg/../results/simu_setting4a_0/all-cv-errs_c1_0.pkl\n"
     ]
    },
    {
     "name": "stderr",
     "output_type": "stream",
     "text": [
      "c1: 0.0: 100%|███████████████████████████████████████████████████████████████████████████████████████████████████████████████████████████████| 50/50 [00:00<00:00, 1090.80it/s]\n"
     ]
    },
    {
     "name": "stdout",
     "output_type": "stream",
     "text": [
      "Save to /data/rajlab1/user_data/jin/MyResearch/HDF_infer/notebooks/simu_cmp2sinica/../../mypkg/../results/simu_setting4a_0/opt_lamNs_c1_0.pkl\n",
      "Load file /data/rajlab1/user_data/jin/MyResearch/HDF_infer/notebooks/simu_cmp2sinica/../../mypkg/../results/simu_setting4a_200/all-cv-errs_c1_200.pkl\n"
     ]
    },
    {
     "name": "stderr",
     "output_type": "stream",
     "text": [
      "c1: 0.2: 100%|████████████████████████████████████████████████████████████████████████████████████████████████████████████████████████████████| 50/50 [00:00<00:00, 942.75it/s]\n"
     ]
    },
    {
     "name": "stdout",
     "output_type": "stream",
     "text": [
      "Save to /data/rajlab1/user_data/jin/MyResearch/HDF_infer/notebooks/simu_cmp2sinica/../../mypkg/../results/simu_setting4a_200/opt_lamNs_c1_200.pkl\n",
      "Load file /data/rajlab1/user_data/jin/MyResearch/HDF_infer/notebooks/simu_cmp2sinica/../../mypkg/../results/simu_setting4a_400/all-cv-errs_c1_400.pkl\n"
     ]
    },
    {
     "name": "stderr",
     "output_type": "stream",
     "text": [
      "c1: 0.4: 100%|███████████████████████████████████████████████████████████████████████████████████████████████████████████████████████████████| 50/50 [00:00<00:00, 1094.07it/s]"
     ]
    },
    {
     "name": "stdout",
     "output_type": "stream",
     "text": [
      "Save to /data/rajlab1/user_data/jin/MyResearch/HDF_infer/notebooks/simu_cmp2sinica/../../mypkg/../results/simu_setting4a_400/opt_lamNs_c1_400.pkl\n"
     ]
    },
    {
     "name": "stderr",
     "output_type": "stream",
     "text": [
      "\n"
     ]
    }
   ],
   "source": [
    "for c1 in c1s:\n",
    "    cur_save_dir = RES_ROOT/f\"simu_{setting}_{c1*1000:.0f}\"\n",
    "    all_cv_errs = load_pkl(cur_save_dir/f\"all-cv-errs_c1_{c1*1000:.0f}.pkl\")\n",
    "    num_seed = len(np.unique(list(map(lambda x: x[0], all_cv_errs.keys()))))\n",
    "    # do not make n_jobs>1, it is very slow\n",
    "    with Parallel(n_jobs=1) as parallel:\n",
    "        opt_lamNs = parallel(delayed(_run_fn)(cur_seed, all_cv_errs)  \n",
    "                             for cur_seed in tqdm(range(num_seed), total=num_seed, desc=f\"c1: {c1}\"))\n",
    "    save_pkl(cur_save_dir/f\"opt_lamNs_c1_{c1*1000:.0f}.pkl\", opt_lamNs,is_force=1)"
   ]
  },
  {
   "cell_type": "code",
   "execution_count": 17,
   "id": "0861c9f0-dc2e-488d-8ee1-d7512bbf9a72",
   "metadata": {
    "execution": {
     "iopub.execute_input": "2023-10-18T23:20:43.334656Z",
     "iopub.status.busy": "2023-10-18T23:20:43.334077Z",
     "iopub.status.idle": "2023-10-18T23:20:43.380974Z",
     "shell.execute_reply": "2023-10-18T23:20:43.380296Z",
     "shell.execute_reply.started": "2023-10-18T23:20:43.334610Z"
    },
    "tags": []
   },
   "outputs": [
    {
     "name": "stdout",
     "output_type": "stream",
     "text": [
      "Load file /data/rajlab1/user_data/jin/MyResearch/HDF_infer/notebooks/simu_cmp2sinica/../../mypkg/../results/simu_setting4a_0/opt_lamNs_c1_0.pkl\n",
      "6.0 0.45\n",
      "Load file /data/rajlab1/user_data/jin/MyResearch/HDF_infer/notebooks/simu_cmp2sinica/../../mypkg/../results/simu_setting4a_200/opt_lamNs_c1_200.pkl\n",
      "6.0 0.45\n",
      "Load file /data/rajlab1/user_data/jin/MyResearch/HDF_infer/notebooks/simu_cmp2sinica/../../mypkg/../results/simu_setting4a_400/opt_lamNs_c1_400.pkl\n",
      "6.0 0.45\n"
     ]
    }
   ],
   "source": [
    "for c1 in c1s:\n",
    "    cur_save_dir = RES_ROOT/f\"simu_{setting}_{c1*1000:.0f}\"\n",
    "    opt_lamNs =  load_pkl(cur_save_dir/f\"opt_lamNs_c1_{c1*1000:.0f}.pkl\");\n",
    "    vs, cts = np.unique(np.array(opt_lamNs)[:, 1:3], axis=0, return_counts=1);\n",
    "    optN, optlam = vs[np.argmax(cts)]\n",
    "    print(optN, optlam)"
   ]
  },
  {
   "cell_type": "code",
   "execution_count": 55,
   "id": "f1b69959-28cc-4ceb-97e8-624abeb2f7e8",
   "metadata": {
    "execution": {
     "iopub.execute_input": "2023-10-18T23:38:44.574860Z",
     "iopub.status.busy": "2023-10-18T23:38:44.574226Z",
     "iopub.status.idle": "2023-10-18T23:38:44.685490Z",
     "shell.execute_reply": "2023-10-18T23:38:44.684957Z",
     "shell.execute_reply.started": "2023-10-18T23:38:44.574814Z"
    },
    "tags": []
   },
   "outputs": [
    {
     "name": "stdout",
     "output_type": "stream",
     "text": [
      "Load file /data/rajlab1/user_data/jin/MyResearch/HDF_infer/notebooks/simu_cmp2sinica/../../mypkg/../results/simu_setting4a_0/all-cv-errs_c1_0.pkl\n"
     ]
    },
    {
     "name": "stderr",
     "output_type": "stream",
     "text": [
      "c1: 0: 100%|██████████████████████████████████████████████████████████████████████████████████████████████████████████████████████████████████| 50/50 [00:00<00:00, 964.03it/s]\n"
     ]
    }
   ],
   "source": [
    "def _run_fn1(seed, all_cv_errs):\n",
    "    errs_mat = []\n",
    "    for cur_N in can_Ns:\n",
    "        errs = []\n",
    "        for cur_lam in can_lams:\n",
    "            errs.append(_err_fn(all_cv_errs[(seed, cur_N, cur_lam)]))\n",
    "        errs_mat.append(errs)\n",
    "    errs_mat = np.array(errs_mat)\n",
    "    return errs_mat\n",
    "c1 = 0\n",
    "cur_save_dir = RES_ROOT/f\"simu_{setting}_{c1*1000:.0f}\"\n",
    "all_cv_errs = load_pkl(cur_save_dir/f\"all-cv-errs_c1_{c1*1000:.0f}.pkl\")\n",
    "num_seed = len(np.unique(list(map(lambda x: x[0], all_cv_errs.keys()))))\n",
    "# do not make n_jobs>1, it is very slow\n",
    "with Parallel(n_jobs=1) as parallel:\n",
    "    err_ten = parallel(delayed(_run_fn1)(cur_seed, all_cv_errs)  \n",
    "                             for cur_seed in tqdm(range(num_seed), total=num_seed, desc=f\"c1: {c1}\"))\n",
    "err_ten = np.array(err_ten)"
   ]
  },
  {
   "cell_type": "code",
   "execution_count": 57,
   "id": "9a21aadc-a8fa-48a9-b505-932f19dbd568",
   "metadata": {
    "execution": {
     "iopub.execute_input": "2023-10-18T23:38:56.950121Z",
     "iopub.status.busy": "2023-10-18T23:38:56.949492Z",
     "iopub.status.idle": "2023-10-18T23:38:57.209177Z",
     "shell.execute_reply": "2023-10-18T23:38:57.208732Z",
     "shell.execute_reply.started": "2023-10-18T23:38:56.950075Z"
    },
    "tags": []
   },
   "outputs": [
    {
     "data": {
      "image/png": "[encoded data removed]",
      "text/plain": [
       "<Figure size 864x432 with 2 Axes>"
      ]
     },
     "metadata": {
      "needs_background": "light"
     },
     "output_type": "display_data"
    }
   ],
   "source": [
    "err_m = np.median(np.array(err_ten), axis=0)\n",
    "plt.figure(figsize=[12, 6])\n",
    "sns.heatmap(err_m, annot=err_m, fmt=\".3f\")\n",
    "plt.xticks(np.arange(len(can_lams))+0.5, can_lams);"
   ]
  },
  {
   "cell_type": "code",
   "execution_count": null,
   "id": "c4d346ec-0d18-460b-8eae-79f96d4cd7af",
   "metadata": {},
   "outputs": [],
   "source": []
  },
  {
   "cell_type": "markdown",
   "id": "181957a8-0dd4-48a9-bc45-02938ecc817d",
   "metadata": {},
   "source": [
    "## Step 2 (only need once)"
   ]
  },
  {
   "cell_type": "code",
   "execution_count": 9,
   "id": "bc776081-a661-4ed1-ba4e-f1eccebceac0",
   "metadata": {
    "execution": {
     "iopub.execute_input": "2023-10-17T06:29:42.022871Z",
     "iopub.status.busy": "2023-10-17T06:29:42.022201Z",
     "iopub.status.idle": "2023-10-17T06:29:42.059535Z",
     "shell.execute_reply": "2023-10-17T06:29:42.058962Z",
     "shell.execute_reply.started": "2023-10-17T06:29:42.022826Z"
    },
    "tags": []
   },
   "outputs": [],
   "source": [
    "def _test_fn(Cmat, est_res, svdinv_eps_Q=0, svdinv_eps_Psi=0, verbose=False):\n",
    "    torch.set_default_tensor_type(torch.DoubleTensor)\n",
    "    _paras = est_res._paras\n",
    "    _paras.svdinv_eps_Q = svdinv_eps_Q\n",
    "    _paras.svdinv_eps_Psi = svdinv_eps_Psi\n",
    "    #f_name = f\"seed_{_paras.seed:.0f}-lam_{_paras.lam*1000:.0f}-N_{_paras.N:.0f}_test_stat.pkl\"\n",
    "    \n",
    "    T_v = obt_test_stat_simple2(Q_mat_part=est_res.Q_mat_part,\n",
    "                               Sig_mat_part=est_res.Sig_mat_part,\n",
    "                               est_alp=est_res.est_alp, \n",
    "                               est_Gam=est_res.est_Gam,\n",
    "                               Cmat=Cmat,\n",
    "                               paras=_paras,\n",
    "                               ).item() \n",
    "    pval = chi2.sf(T_v, Cmat.shape[0]*_paras.N)\n",
    "    \n",
    "    res = edict()\n",
    "    res.T_v = T_v\n",
    "    res.pval = pval\n",
    "    res.Cmat = Cmat\n",
    "    return res"
   ]
  },
  {
   "cell_type": "code",
   "execution_count": 21,
   "id": "f8ee718b-e8c9-42c5-8e91-3b7717e8a5a7",
   "metadata": {
    "execution": {
     "iopub.execute_input": "2023-10-18T23:22:23.707113Z",
     "iopub.status.busy": "2023-10-18T23:22:23.706451Z",
     "iopub.status.idle": "2023-10-18T23:22:23.812132Z",
     "shell.execute_reply": "2023-10-18T23:22:23.810899Z",
     "shell.execute_reply.started": "2023-10-18T23:22:23.707056Z"
    }
   },
   "outputs": [],
   "source": [
    "def _test_fn1(Cmat, est_res, svdinv_eps_Q=0, svdinv_eps_Psi=0, \n",
    "             is_save=False, verbose=False):\n",
    "    torch.set_default_tensor_type(torch.DoubleTensor)\n",
    "    _paras = est_res._paras\n",
    "    _paras.svdinv_eps_Q = svdinv_eps_Q\n",
    "    _paras.svdinv_eps_Psi = svdinv_eps_Psi\n",
    "    \n",
    "    T_v = obt_test_stat_simple3(est_sigma2=est_res.est_sigma2,\n",
    "                               Q_mat_part=est_res.Q_mat_part, \n",
    "                               est_alp=est_res.est_alp, \n",
    "                               est_Gam=est_res.est_Gam,\n",
    "                               Cmat=Cmat,\n",
    "                               paras=_paras,\n",
    "                               ).item() \n",
    "    pval = chi2.sf(T_v, Cmat.shape[0]*_paras.N)\n",
    "    \n",
    "    res = edict()\n",
    "    res.T_v = T_v\n",
    "    res.pval = pval\n",
    "    res.Cmat = Cmat\n",
    "    return res"
   ]
  },
  {
   "cell_type": "code",
   "execution_count": 10,
   "id": "60162cc8-ff56-411c-b18f-8e86fad14ed9",
   "metadata": {
    "execution": {
     "iopub.execute_input": "2023-10-17T06:29:46.697387Z",
     "iopub.status.busy": "2023-10-17T06:29:46.696734Z",
     "iopub.status.idle": "2023-10-17T06:30:53.103129Z",
     "shell.execute_reply": "2023-10-17T06:30:53.102009Z",
     "shell.execute_reply.started": "2023-10-17T06:29:46.697342Z"
    },
    "tags": []
   },
   "outputs": [
    {
     "name": "stdout",
     "output_type": "stream",
     "text": [
      "Load file /data/rajlab1/user_data/jin/MyResearch/HDF_infer/notebooks/simu_cmp2sinica/../../mypkg/../results/simu_setting1i_0/opt_lamNs_c1_0.pkl\n",
      "6.0 0.3\n"
     ]
    },
    {
     "name": "stderr",
     "output_type": "stream",
     "text": [
      "c1: 0: 100%|█████████████████████████████████████████████████████████████████████████████████████████████████████████████████████████████████| 200/200 [00:25<00:00,  8.00it/s]\n"
     ]
    },
    {
     "name": "stdout",
     "output_type": "stream",
     "text": [
      "Save to /data/rajlab1/user_data/jin/MyResearch/HDF_infer/notebooks/simu_cmp2sinica/../../mypkg/../results/simu_setting1i_0/opt_lamNsfixNlam_c1_0_ress.pkl\n",
      "Load file /data/rajlab1/user_data/jin/MyResearch/HDF_infer/notebooks/simu_cmp2sinica/../../mypkg/../results/simu_setting1i_200/opt_lamNs_c1_200.pkl\n",
      "6.0 0.3\n"
     ]
    },
    {
     "name": "stderr",
     "output_type": "stream",
     "text": [
      "c1: 200: 100%|███████████████████████████████████████████████████████████████████████████████████████████████████████████████████████████████| 200/200 [00:20<00:00,  9.66it/s]\n"
     ]
    },
    {
     "name": "stdout",
     "output_type": "stream",
     "text": [
      "Save to /data/rajlab1/user_data/jin/MyResearch/HDF_infer/notebooks/simu_cmp2sinica/../../mypkg/../results/simu_setting1i_200/opt_lamNsfixNlam_c1_200_ress.pkl\n",
      "Load file /data/rajlab1/user_data/jin/MyResearch/HDF_infer/notebooks/simu_cmp2sinica/../../mypkg/../results/simu_setting1i_400/opt_lamNs_c1_400.pkl\n",
      "6.0 0.3\n"
     ]
    },
    {
     "name": "stderr",
     "output_type": "stream",
     "text": [
      "c1: 400: 100%|███████████████████████████████████████████████████████████████████████████████████████████████████████████████████████████████| 200/200 [00:20<00:00,  9.84it/s]"
     ]
    },
    {
     "name": "stdout",
     "output_type": "stream",
     "text": [
      "Save to /data/rajlab1/user_data/jin/MyResearch/HDF_infer/notebooks/simu_cmp2sinica/../../mypkg/../results/simu_setting1i_400/opt_lamNsfixNlam_c1_400_ress.pkl\n"
     ]
    },
    {
     "name": "stderr",
     "output_type": "stream",
     "text": [
      "\n"
     ]
    }
   ],
   "source": [
    "cans = [1e-5, 3e-6, 1e-6, 3e-7, 1e-7, 3e-8, 1e-8, 3e-9, 1e-9, 3e-10, 0]\n",
    "all_coms = [(can, can) for can in cans]\n",
    "#all_coms = list(itertools.product(cans, cans))\n",
    "for c1 in c1s:\n",
    "    cur_save_dir = RES_ROOT/f\"simu_{setting}_{c1*1000:.0f}\"\n",
    "    opt_lamNs =  load_pkl(cur_save_dir/f\"opt_lamNs_c1_{c1*1000:.0f}.pkl\");\n",
    "    vs, cts = np.unique(np.array(opt_lamNs)[:, 1:3], axis=0, return_counts=1);\n",
    "    optN, optlam = vs[np.argmax(cts)]\n",
    "    print(optN, optlam)\n",
    "    ress = []\n",
    "    for cur_seed in tqdm(range(num_rep), desc=f\"c1: {c1*1000:.0f}\"):\n",
    "        cur_N, cur_lam = optN, optlam\n",
    "        f1_name = f\"seed_{cur_seed:.0f}-lam_{cur_lam*1000:.0f}-N_{cur_N:.0f}-c1_{c1*1000:.0f}_est.pkl\"\n",
    "        res1 = load_pkl(cur_save_dir/f1_name, verbose=False);\n",
    "        res = []\n",
    "        with Parallel(n_jobs=20) as parallel:\n",
    "            res = parallel(delayed(_test_fn)(Cmat=Cmat, est_res=res1, \n",
    "                                             svdinv_eps_Q=rtols[0], \n",
    "                                             svdinv_eps_Psi=rtols[1]) for rtols\n",
    "                                             in all_coms)\n",
    "    \n",
    "        ress.append(res)\n",
    "    ress = np.array(ress);\n",
    "    save_pkl(cur_save_dir/f\"opt_lamNsfixNlam_c1_{c1*1000:.0f}_ress.pkl\", ress, is_force=1)"
   ]
  },
  {
   "cell_type": "code",
   "execution_count": 27,
   "id": "7d58f93c-53dc-4d30-9199-edf49ad19f9f",
   "metadata": {
    "execution": {
     "iopub.execute_input": "2023-10-18T23:23:32.209900Z",
     "iopub.status.busy": "2023-10-18T23:23:32.209269Z",
     "iopub.status.idle": "2023-10-18T23:23:41.210419Z",
     "shell.execute_reply": "2023-10-18T23:23:41.209267Z",
     "shell.execute_reply.started": "2023-10-18T23:23:32.209851Z"
    },
    "scrolled": true,
    "tags": []
   },
   "outputs": [
    {
     "name": "stdout",
     "output_type": "stream",
     "text": [
      "Load file /data/rajlab1/user_data/jin/MyResearch/HDF_infer/notebooks/simu_cmp2sinica/../../mypkg/../results/simu_setting4a_0/opt_lamNs_c1_0.pkl\n"
     ]
    },
    {
     "name": "stderr",
     "output_type": "stream",
     "text": [
      "c1: 0: 100%|███████████████████████████████████████████████████████████████████████████████████████████████████████████████████████████████████| 50/50 [00:02<00:00, 17.28it/s]\n"
     ]
    },
    {
     "name": "stdout",
     "output_type": "stream",
     "text": [
      "Save to /data/rajlab1/user_data/jin/MyResearch/HDF_infer/notebooks/simu_cmp2sinica/../../mypkg/../results/simu_setting4a_0/opt_lamNs1_c1_0_ress.pkl\n",
      "Load file /data/rajlab1/user_data/jin/MyResearch/HDF_infer/notebooks/simu_cmp2sinica/../../mypkg/../results/simu_setting4a_200/opt_lamNs_c1_200.pkl\n"
     ]
    },
    {
     "name": "stderr",
     "output_type": "stream",
     "text": [
      "c1: 200: 100%|█████████████████████████████████████████████████████████████████████████████████████████████████████████████████████████████████| 50/50 [00:03<00:00, 16.42it/s]\n"
     ]
    },
    {
     "name": "stdout",
     "output_type": "stream",
     "text": [
      "Save to /data/rajlab1/user_data/jin/MyResearch/HDF_infer/notebooks/simu_cmp2sinica/../../mypkg/../results/simu_setting4a_200/opt_lamNs1_c1_200_ress.pkl\n",
      "Load file /data/rajlab1/user_data/jin/MyResearch/HDF_infer/notebooks/simu_cmp2sinica/../../mypkg/../results/simu_setting4a_400/opt_lamNs_c1_400.pkl\n"
     ]
    },
    {
     "name": "stderr",
     "output_type": "stream",
     "text": [
      "c1: 400: 100%|█████████████████████████████████████████████████████████████████████████████████████████████████████████████████████████████████| 50/50 [00:02<00:00, 17.34it/s]"
     ]
    },
    {
     "name": "stdout",
     "output_type": "stream",
     "text": [
      "Save to /data/rajlab1/user_data/jin/MyResearch/HDF_infer/notebooks/simu_cmp2sinica/../../mypkg/../results/simu_setting4a_400/opt_lamNs1_c1_400_ress.pkl\n"
     ]
    },
    {
     "name": "stderr",
     "output_type": "stream",
     "text": [
      "\n"
     ]
    }
   ],
   "source": [
    "# Given my lam and N\n",
    "cans = [1e-5, 3e-6, 1e-6, 3e-7, 1e-7, 3e-8, 1e-8, 3e-9, 1e-9, 3e-10, 0]\n",
    "all_coms = [(can, can) for can in cans]\n",
    "#all_coms = list(itertools.product(cans, cans))\n",
    "for c1 in c1s:\n",
    "    cur_save_dir = RES_ROOT/f\"simu_{setting}_{c1*1000:.0f}\"\n",
    "    opt_lamNs =  load_pkl(cur_save_dir/f\"opt_lamNs_c1_{c1*1000:.0f}.pkl\");\n",
    "    ress = []\n",
    "    for cur_seed, cur_N, cur_lam, _ in tqdm(opt_lamNs, desc=f\"c1: {c1*1000:.0f}\"):\n",
    "        cur_N, cur_lam = 6, 0.55\n",
    "        f1_name = f\"seed_{cur_seed:.0f}-lam_{cur_lam*1000:.0f}-N_{cur_N:.0f}-c1_{c1*1000:.0f}_est.pkl\"\n",
    "        res1 = load_pkl(cur_save_dir/f1_name, verbose=False);\n",
    "        res = []\n",
    "        with Parallel(n_jobs=20) as parallel:\n",
    "            res = parallel(delayed(_test_fn1)(Cmat=Cmat, est_res=res1, \n",
    "                                             svdinv_eps_Q=rtols[0], \n",
    "                                             svdinv_eps_Psi=rtols[1]) for rtols\n",
    "                                             in all_coms)\n",
    "    \n",
    "        ress.append(res)\n",
    "    ress = np.array(ress);\n",
    "    save_pkl(cur_save_dir/f\"opt_lamNs1_c1_{c1*1000:.0f}_ress.pkl\", ress, is_force=1)"
   ]
  },
  {
   "cell_type": "code",
   "execution_count": 30,
   "id": "72469e51-ecd0-45b6-8ae5-bfa4b1f5a4cc",
   "metadata": {
    "execution": {
     "iopub.execute_input": "2023-10-14T20:28:38.345986Z",
     "iopub.status.busy": "2023-10-14T20:28:38.345681Z",
     "iopub.status.idle": "2023-10-14T20:29:18.831386Z",
     "shell.execute_reply": "2023-10-14T20:29:18.830835Z",
     "shell.execute_reply.started": "2023-10-14T20:28:38.345968Z"
    },
    "scrolled": true,
    "tags": []
   },
   "outputs": [
    {
     "name": "stdout",
     "output_type": "stream",
     "text": [
      "Load file /data/rajlab1/user_data/jin/MyResearch/HDF_infer/notebooks/simu_cmp2sinica/../../mypkg/../results/simu_setting4i_0/opt_lamNs_c1_0.pkl\n"
     ]
    },
    {
     "name": "stderr",
     "output_type": "stream",
     "text": [
      "c1: 0: 100%|████████████████████████████████████████████████████████████████████████████████████████████████████████████████████████████████████████████████████████████████| 200/200 [00:13<00:00, 14.70it/s]\n"
     ]
    },
    {
     "name": "stdout",
     "output_type": "stream",
     "text": [
      "Save to /data/rajlab1/user_data/jin/MyResearch/HDF_infer/notebooks/simu_cmp2sinica/../../mypkg/../results/simu_setting4i_0/opt_lamNs_c1_0_ress.pkl\n",
      "Load file /data/rajlab1/user_data/jin/MyResearch/HDF_infer/notebooks/simu_cmp2sinica/../../mypkg/../results/simu_setting4i_200/opt_lamNs_c1_200.pkl\n"
     ]
    },
    {
     "name": "stderr",
     "output_type": "stream",
     "text": [
      "c1: 200: 100%|██████████████████████████████████████████████████████████████████████████████████████████████████████████████████████████████████████████████████████████████| 200/200 [00:13<00:00, 14.50it/s]\n"
     ]
    },
    {
     "name": "stdout",
     "output_type": "stream",
     "text": [
      "Save to /data/rajlab1/user_data/jin/MyResearch/HDF_infer/notebooks/simu_cmp2sinica/../../mypkg/../results/simu_setting4i_200/opt_lamNs_c1_200_ress.pkl\n",
      "Load file /data/rajlab1/user_data/jin/MyResearch/HDF_infer/notebooks/simu_cmp2sinica/../../mypkg/../results/simu_setting4i_400/opt_lamNs_c1_400.pkl\n"
     ]
    },
    {
     "name": "stderr",
     "output_type": "stream",
     "text": [
      "c1: 400: 100%|██████████████████████████████████████████████████████████████████████████████████████████████████████████████████████████████████████████████████████████████| 200/200 [00:12<00:00, 15.50it/s]"
     ]
    },
    {
     "name": "stdout",
     "output_type": "stream",
     "text": [
      "Save to /data/rajlab1/user_data/jin/MyResearch/HDF_infer/notebooks/simu_cmp2sinica/../../mypkg/../results/simu_setting4i_400/opt_lamNs_c1_400_ress.pkl\n"
     ]
    },
    {
     "name": "stderr",
     "output_type": "stream",
     "text": [
      "\n"
     ]
    }
   ],
   "source": [
    "# for adaptive lam N\n",
    "cans = [1e-5, 3e-6, 1e-6, 3e-7, 1e-7, 3e-8, 1e-8, 3e-9, 1e-9, 3e-10, 0]\n",
    "all_coms = [(can, can) for can in cans]\n",
    "#all_coms = list(itertools.product(cans, cans))\n",
    "for c1 in c1s:\n",
    "    cur_save_dir = RES_ROOT/f\"simu_{setting}_{c1*1000:.0f}\"\n",
    "    opt_lamNs =  load_pkl(cur_save_dir/f\"opt_lamNs_c1_{c1*1000:.0f}.pkl\");\n",
    "    ress = []\n",
    "    for cur_seed, cur_N, cur_lam, _ in tqdm(opt_lamNs, desc=f\"c1: {c1*1000:.0f}\"):\n",
    "        f1_name = f\"seed_{cur_seed:.0f}-lam_{cur_lam*1000:.0f}-N_{cur_N:.0f}-c1_{c1*1000:.0f}_est.pkl\"\n",
    "        res1 = load_pkl(cur_save_dir/f1_name, verbose=False);\n",
    "        res = []\n",
    "        with Parallel(n_jobs=20) as parallel:\n",
    "            res = parallel(delayed(_test_fn)(Cmat=Cmat, est_res=res1, \n",
    "                                             svdinv_eps_Q=rtols[0], \n",
    "                                             svdinv_eps_Psi=rtols[1]) for rtols\n",
    "                                             in all_coms)\n",
    "    \n",
    "        ress.append(res)\n",
    "    ress = np.array(ress);\n",
    "    save_pkl(cur_save_dir/f\"opt_lamNs_c1_{c1*1000:.0f}_ress.pkl\", ress, is_force=1)"
   ]
  },
  {
   "cell_type": "code",
   "execution_count": null,
   "id": "4fb91ff8-5516-4607-b597-a84764e17df4",
   "metadata": {},
   "outputs": [],
   "source": []
  },
  {
   "cell_type": "markdown",
   "id": "d30d4a08-5de2-4412-8541-5dd78612ed5c",
   "metadata": {},
   "source": [
    "## Find Q and Psi rtol"
   ]
  },
  {
   "cell_type": "raw",
   "id": "ef9f5050-9ea3-446c-8338-b851ee1c0722",
   "metadata": {
    "execution": {
     "iopub.execute_input": "2023-09-30T00:20:20.937949Z",
     "iopub.status.busy": "2023-09-30T00:20:20.937362Z",
     "iopub.status.idle": "2023-09-30T00:20:20.975903Z",
     "shell.execute_reply": "2023-09-30T00:20:20.975266Z",
     "shell.execute_reply.started": "2023-09-30T00:20:20.937902Z"
    },
    "tags": []
   },
   "source": [
    "cans = [1e-5, 3e-6, 1e-6, 3e-7, 1e-7, 3e-8, 1e-8, 3e-9, 1e-9, 3e-10, 0]\n",
    "all_coms = np.array(list(itertools.product(cans, cans)));"
   ]
  },
  {
   "cell_type": "code",
   "execution_count": 31,
   "id": "e4297092-475a-42e3-970b-f8774ef3fb70",
   "metadata": {
    "execution": {
     "iopub.execute_input": "2023-10-18T23:27:29.013980Z",
     "iopub.status.busy": "2023-10-18T23:27:29.013339Z",
     "iopub.status.idle": "2023-10-18T23:27:29.073345Z",
     "shell.execute_reply": "2023-10-18T23:27:29.072587Z",
     "shell.execute_reply.started": "2023-10-18T23:27:29.013934Z"
    },
    "tags": []
   },
   "outputs": [
    {
     "name": "stdout",
     "output_type": "stream",
     "text": [
      "Load file /data/rajlab1/user_data/jin/MyResearch/HDF_infer/notebooks/simu_cmp2sinica/../../mypkg/../results/simu_setting4a_0/opt_lamNs1_c1_0_ress.pkl\n",
      "Load file /data/rajlab1/user_data/jin/MyResearch/HDF_infer/notebooks/simu_cmp2sinica/../../mypkg/../results/simu_setting4a_200/opt_lamNs1_c1_200_ress.pkl\n",
      "Load file /data/rajlab1/user_data/jin/MyResearch/HDF_infer/notebooks/simu_cmp2sinica/../../mypkg/../results/simu_setting4a_400/opt_lamNs1_c1_400_ress.pkl\n"
     ]
    }
   ],
   "source": [
    "ress_dict = {}\n",
    "for c1 in c1s:\n",
    "    cur_save_dir = RES_ROOT/f\"simu_{setting}_{c1*1000:.0f}\"\n",
    "    ress = load_pkl(cur_save_dir/f\"opt_lamNs1_c1_{c1*1000:.0f}_ress.pkl\");\n",
    "    ress_dict[c1] = ress"
   ]
  },
  {
   "cell_type": "code",
   "execution_count": null,
   "id": "e68ec23d-e727-4160-bba8-5ab94be466bf",
   "metadata": {},
   "outputs": [],
   "source": []
  },
  {
   "cell_type": "raw",
   "id": "3ada6ad7-e0b9-4ed0-b203-e441916874b5",
   "metadata": {
    "execution": {
     "iopub.execute_input": "2023-09-29T22:42:57.736490Z",
     "iopub.status.busy": "2023-09-29T22:42:57.735906Z",
     "iopub.status.idle": "2023-09-29T22:42:58.252213Z",
     "shell.execute_reply": "2023-09-29T22:42:58.251766Z",
     "shell.execute_reply.started": "2023-09-29T22:42:57.736443Z"
    },
    "tags": []
   },
   "source": [
    "# <0 ct\n",
    "c1 = 0\n",
    "mats = []\n",
    "for c1 in c1s:\n",
    "    ress = ress_dict[c1]\n",
    "    Tvss = np.array([[re[\"T_v\"] for re in res] for res in ress[:200]]);\n",
    "    vec_ct = np.sum(Tvss<0, axis=0)\n",
    "    mat = vec_ct.reshape(len(cans), -1)\n",
    "    mats.append(mat)\n",
    "mats = np.array(mats)\n",
    "mat = mats.sum(axis=0)\n",
    "plt.figure(figsize=[12, 10])\n",
    "plt.title(f\"Count\")\n",
    "sns.heatmap(mat, annot=True, fmt=\".0f\")\n",
    "plt.ylabel(\"Q\")\n",
    "plt.yticks(np.arange(len(cans))+0.5, cans);\n",
    "plt.xlabel(\"Psi\")\n",
    "plt.xticks(np.arange(len(cans))+0.5, cans);\n"
   ]
  },
  {
   "cell_type": "code",
   "execution_count": null,
   "id": "2a5771ca-8c2e-4419-b242-fc04deaac72f",
   "metadata": {},
   "outputs": [],
   "source": []
  },
  {
   "cell_type": "raw",
   "id": "0dc8da02-c949-4fe5-bdff-567651d43bfc",
   "metadata": {
    "execution": {
     "iopub.execute_input": "2023-09-29T22:43:00.558211Z",
     "iopub.status.busy": "2023-09-29T22:43:00.557610Z",
     "iopub.status.idle": "2023-09-29T22:43:01.019008Z",
     "shell.execute_reply": "2023-09-29T22:43:01.018541Z",
     "shell.execute_reply.started": "2023-09-29T22:43:00.558164Z"
    },
    "tags": []
   },
   "source": [
    "# <0 ct\n",
    "c1 = 0\n",
    "mats = []\n",
    "for c1 in c1s:\n",
    "    ress = ress_dict[c1]\n",
    "    res = np.array([[re[\"pval\"] for re in res] for res in ress[:200]]);\n",
    "    vec_ct = np.mean(res<0.05, axis=0)\n",
    "    mat = vec_ct.reshape(len(cans), -1)\n",
    "    mats.append(mat)\n",
    "mats = np.array(mats)\n",
    "mat = mats.sum(axis=0)\n",
    "mat = mats[0]\n",
    "plt.figure(figsize=[12, 10])\n",
    "plt.title(f\"Size\")\n",
    "sns.heatmap(mat, annot=True, fmt=\".3f\")\n",
    "plt.ylabel(\"Q\")\n",
    "plt.yticks(np.arange(len(cans))+0.5, cans);\n",
    "plt.xlabel(\"Psi\")\n",
    "plt.xticks(np.arange(len(cans))+0.5, cans);\n"
   ]
  },
  {
   "cell_type": "code",
   "execution_count": 29,
   "id": "1e2c5d33-9970-4cce-a82e-7969ebbbac13",
   "metadata": {
    "execution": {
     "iopub.execute_input": "2023-10-18T23:23:49.510578Z",
     "iopub.status.busy": "2023-10-18T23:23:49.509993Z",
     "iopub.status.idle": "2023-10-18T23:23:49.560070Z",
     "shell.execute_reply": "2023-10-18T23:23:49.559319Z",
     "shell.execute_reply.started": "2023-10-18T23:23:49.510532Z"
    },
    "tags": []
   },
   "outputs": [
    {
     "data": {
      "text/html": [
       "<div>\n",
       "<style scoped>\n",
       "    .dataframe tbody tr th:only-of-type {\n",
       "        vertical-align: middle;\n",
       "    }\n",
       "\n",
       "    .dataframe tbody tr th {\n",
       "        vertical-align: top;\n",
       "    }\n",
       "\n",
       "    .dataframe thead th {\n",
       "        text-align: right;\n",
       "    }\n",
       "</style>\n",
       "<table border=\"1\" class=\"dataframe\">\n",
       "  <thead>\n",
       "    <tr style=\"text-align: right;\">\n",
       "      <th></th>\n",
       "      <th>0.0</th>\n",
       "      <th>0.2</th>\n",
       "      <th>0.4</th>\n",
       "      <th>Q</th>\n",
       "      <th>Psi</th>\n",
       "    </tr>\n",
       "  </thead>\n",
       "  <tbody>\n",
       "    <tr>\n",
       "      <th>0</th>\n",
       "      <td>0.0</td>\n",
       "      <td>0.14</td>\n",
       "      <td>0.5</td>\n",
       "      <td>1.000000e-05</td>\n",
       "      <td>1.000000e-05</td>\n",
       "    </tr>\n",
       "    <tr>\n",
       "      <th>1</th>\n",
       "      <td>0.0</td>\n",
       "      <td>0.14</td>\n",
       "      <td>0.5</td>\n",
       "      <td>3.000000e-06</td>\n",
       "      <td>3.000000e-06</td>\n",
       "    </tr>\n",
       "    <tr>\n",
       "      <th>2</th>\n",
       "      <td>0.0</td>\n",
       "      <td>0.14</td>\n",
       "      <td>0.5</td>\n",
       "      <td>1.000000e-06</td>\n",
       "      <td>1.000000e-06</td>\n",
       "    </tr>\n",
       "    <tr>\n",
       "      <th>3</th>\n",
       "      <td>0.0</td>\n",
       "      <td>0.14</td>\n",
       "      <td>0.5</td>\n",
       "      <td>3.000000e-07</td>\n",
       "      <td>3.000000e-07</td>\n",
       "    </tr>\n",
       "    <tr>\n",
       "      <th>4</th>\n",
       "      <td>0.0</td>\n",
       "      <td>0.14</td>\n",
       "      <td>0.5</td>\n",
       "      <td>1.000000e-07</td>\n",
       "      <td>1.000000e-07</td>\n",
       "    </tr>\n",
       "    <tr>\n",
       "      <th>5</th>\n",
       "      <td>0.0</td>\n",
       "      <td>0.14</td>\n",
       "      <td>0.5</td>\n",
       "      <td>3.000000e-08</td>\n",
       "      <td>3.000000e-08</td>\n",
       "    </tr>\n",
       "    <tr>\n",
       "      <th>6</th>\n",
       "      <td>0.0</td>\n",
       "      <td>0.14</td>\n",
       "      <td>0.5</td>\n",
       "      <td>1.000000e-08</td>\n",
       "      <td>1.000000e-08</td>\n",
       "    </tr>\n",
       "    <tr>\n",
       "      <th>7</th>\n",
       "      <td>0.0</td>\n",
       "      <td>0.14</td>\n",
       "      <td>0.5</td>\n",
       "      <td>3.000000e-09</td>\n",
       "      <td>3.000000e-09</td>\n",
       "    </tr>\n",
       "    <tr>\n",
       "      <th>8</th>\n",
       "      <td>0.0</td>\n",
       "      <td>0.14</td>\n",
       "      <td>0.5</td>\n",
       "      <td>1.000000e-09</td>\n",
       "      <td>1.000000e-09</td>\n",
       "    </tr>\n",
       "    <tr>\n",
       "      <th>9</th>\n",
       "      <td>0.0</td>\n",
       "      <td>0.14</td>\n",
       "      <td>0.5</td>\n",
       "      <td>3.000000e-10</td>\n",
       "      <td>3.000000e-10</td>\n",
       "    </tr>\n",
       "    <tr>\n",
       "      <th>10</th>\n",
       "      <td>0.0</td>\n",
       "      <td>0.14</td>\n",
       "      <td>0.5</td>\n",
       "      <td>0.000000e+00</td>\n",
       "      <td>0.000000e+00</td>\n",
       "    </tr>\n",
       "  </tbody>\n",
       "</table>\n",
       "</div>"
      ],
      "text/plain": [
       "    0.0   0.2  0.4             Q           Psi\n",
       "0   0.0  0.14  0.5  1.000000e-05  1.000000e-05\n",
       "1   0.0  0.14  0.5  3.000000e-06  3.000000e-06\n",
       "2   0.0  0.14  0.5  1.000000e-06  1.000000e-06\n",
       "3   0.0  0.14  0.5  3.000000e-07  3.000000e-07\n",
       "4   0.0  0.14  0.5  1.000000e-07  1.000000e-07\n",
       "5   0.0  0.14  0.5  3.000000e-08  3.000000e-08\n",
       "6   0.0  0.14  0.5  1.000000e-08  1.000000e-08\n",
       "7   0.0  0.14  0.5  3.000000e-09  3.000000e-09\n",
       "8   0.0  0.14  0.5  1.000000e-09  1.000000e-09\n",
       "9   0.0  0.14  0.5  3.000000e-10  3.000000e-10\n",
       "10  0.0  0.14  0.5  0.000000e+00  0.000000e+00"
      ]
     },
     "execution_count": 29,
     "metadata": {},
     "output_type": "execute_result"
    }
   ],
   "source": [
    "import pandas as pd\n",
    "cans = [1e-5, 3e-6, 1e-6, 3e-7, 1e-7, 3e-8, 1e-8, 3e-9, 1e-9, 3e-10, 0]\n",
    "all_coms = np.array(list(itertools.product(cans, cans)));\n",
    "all_coms = [(can, can) for can in cans]\n",
    "kpidxs = []\n",
    "\n",
    "df = []\n",
    "for c1 in c1s:\n",
    "    ress = ress_dict[c1]\n",
    "    pvals = np.array([[re[\"pval\"] for re in res] for res in ress]);\n",
    "    vec_pv = np.mean(pvals<0.05, axis=0)\n",
    "    df.append(vec_pv[:, np.newaxis])\n",
    "df.append(all_coms) \n",
    "df = np.hstack(df)\n",
    "df = pd.DataFrame(df) \n",
    "df.columns = c1s+[\"Q\", \"Psi\"]\n",
    "df"
   ]
  },
  {
   "cell_type": "code",
   "execution_count": null,
   "id": "3dc63248-0a4f-4b32-b730-bdddd383787d",
   "metadata": {
    "execution": {
     "iopub.execute_input": "2023-10-02T21:56:04.545939Z",
     "iopub.status.busy": "2023-10-02T21:56:04.545295Z",
     "iopub.status.idle": "2023-10-02T21:56:04.589227Z",
     "shell.execute_reply": "2023-10-02T21:56:04.588763Z",
     "shell.execute_reply.started": "2023-10-02T21:56:04.545898Z"
    },
    "tags": []
   },
   "outputs": [],
   "source": [
    "df_sel = df[(df[0.0]<=0.053) & (df[0.2]>=0.37)]"
   ]
  },
  {
   "cell_type": "code",
   "execution_count": null,
   "id": "b2c1686f-63e0-4866-b454-415acea5323c",
   "metadata": {},
   "outputs": [],
   "source": [
    "df"
   ]
  },
  {
   "cell_type": "code",
   "execution_count": 26,
   "id": "21fbf1d9-80f3-4d04-b9eb-c5540604bce0",
   "metadata": {
    "execution": {
     "iopub.execute_input": "2023-09-25T04:07:07.810118Z",
     "iopub.status.busy": "2023-09-25T04:07:07.809496Z",
     "iopub.status.idle": "2023-09-25T04:07:07.847925Z",
     "shell.execute_reply": "2023-09-25T04:07:07.847286Z",
     "shell.execute_reply.started": "2023-09-25T04:07:07.810072Z"
    },
    "tags": []
   },
   "outputs": [
    {
     "data": {
      "text/plain": [
       "(121,)"
      ]
     },
     "execution_count": 26,
     "metadata": {},
     "output_type": "execute_result"
    }
   ],
   "source": [
    "vec.shape"
   ]
  },
  {
   "cell_type": "markdown",
   "id": "c08e9922-facb-4e3d-9f57-940077fe5f2a",
   "metadata": {
    "tags": []
   },
   "source": [
    "## Opt N and lams"
   ]
  },
  {
   "cell_type": "code",
   "execution_count": null,
   "id": "b285f184-f5b9-40ae-afa2-583792bdc893",
   "metadata": {},
   "outputs": [],
   "source": []
  },
  {
   "cell_type": "code",
   "execution_count": 106,
   "id": "7f53054d-f8bf-4758-ac76-d7c1924bbb12",
   "metadata": {
    "execution": {
     "iopub.execute_input": "2023-09-21T21:14:02.448186Z",
     "iopub.status.busy": "2023-09-21T21:14:02.447551Z",
     "iopub.status.idle": "2023-09-21T21:14:02.512678Z",
     "shell.execute_reply": "2023-09-21T21:14:02.511217Z",
     "shell.execute_reply.started": "2023-09-21T21:14:02.448138Z"
    },
    "tags": []
   },
   "outputs": [
    {
     "name": "stdout",
     "output_type": "stream",
     "text": [
      "Load file /data/rajlab1/user_data/jin/MyResearch/HDF_infer/notebooks/../mypkg/../results/simu_linear_sinica_samebetaX_test1/opt_lamNs_200_c1_200.pkl\n",
      "Load file /data/rajlab1/user_data/jin/MyResearch/HDF_infer/notebooks/../mypkg/../results/simu_linear_sinica_samebetaX_test1/opt_lamNs_200_c1_200_ress.pkl\n"
     ]
    }
   ],
   "source": [
    "c1 = 0.2\n",
    "opt = load_pkl(paras.save_dir/f\"opt_lamNs_200_c1_{c1*1000:.0f}.pkl\");\n",
    "opt_ress = load_pkl(paras.save_dir/f\"opt_lamNs_200_c1_{c1*1000:.0f}_ress.pkl\");\n",
    "all_coms = np.array(list(itertools.product(cans, cans)));"
   ]
  },
  {
   "cell_type": "code",
   "execution_count": 107,
   "id": "2faf4820-cdb5-40aa-9570-7ab54d61c425",
   "metadata": {
    "execution": {
     "iopub.execute_input": "2023-09-21T21:14:03.203007Z",
     "iopub.status.busy": "2023-09-21T21:14:03.202459Z",
     "iopub.status.idle": "2023-09-21T21:14:03.240790Z",
     "shell.execute_reply": "2023-09-21T21:14:03.240127Z",
     "shell.execute_reply.started": "2023-09-21T21:14:03.202963Z"
    },
    "tags": []
   },
   "outputs": [
    {
     "data": {
      "text/plain": [
       "(array([[ 4. ,  0.1],\n",
       "        [ 4. ,  0.2],\n",
       "        [ 4. ,  0.3],\n",
       "        [ 4. ,  0.4],\n",
       "        [ 6. ,  0.1],\n",
       "        [ 6. ,  0.2],\n",
       "        [ 6. ,  0.3],\n",
       "        [ 8. ,  0.2],\n",
       "        [ 8. ,  0.3],\n",
       "        [ 8. ,  0.4],\n",
       "        [10. ,  0.1],\n",
       "        [10. ,  0.3],\n",
       "        [12. ,  0.2],\n",
       "        [12. ,  0.3],\n",
       "        [12. ,  0.4]]),\n",
       " array([ 3, 51, 60,  1,  4, 18, 25, 10, 14,  2,  1,  1,  3,  4,  3]))"
      ]
     },
     "execution_count": 107,
     "metadata": {},
     "output_type": "execute_result"
    }
   ],
   "source": [
    "opt = np.array(opt)\n",
    "np.unique(np.array(opt)[:, 1:3], axis=0, return_counts=1)"
   ]
  },
  {
   "cell_type": "code",
   "execution_count": 108,
   "id": "b08023ba-9d29-486c-a541-304be028caca",
   "metadata": {
    "execution": {
     "iopub.execute_input": "2023-09-21T21:14:06.007469Z",
     "iopub.status.busy": "2023-09-21T21:14:06.006682Z",
     "iopub.status.idle": "2023-09-21T21:14:06.048491Z",
     "shell.execute_reply": "2023-09-21T21:14:06.047796Z",
     "shell.execute_reply.started": "2023-09-21T21:14:06.007421Z"
    },
    "tags": []
   },
   "outputs": [],
   "source": [
    "kpidx = np.bitwise_and(all_coms[:, 0]==1e-7, all_coms[:, 1]==1e-8);\n",
    "Tvs = opt_ress[:, kpidx, 0].reshape(-1)\n",
    "pvals = opt_ress[:, kpidx, 1].reshape(-1);"
   ]
  },
  {
   "cell_type": "code",
   "execution_count": 109,
   "id": "6e8749a7-e759-4b3a-b10f-f080b959c9f6",
   "metadata": {
    "execution": {
     "iopub.execute_input": "2023-09-21T21:14:06.876945Z",
     "iopub.status.busy": "2023-09-21T21:14:06.876393Z",
     "iopub.status.idle": "2023-09-21T21:14:07.032524Z",
     "shell.execute_reply": "2023-09-21T21:14:07.032101Z",
     "shell.execute_reply.started": "2023-09-21T21:14:06.876901Z"
    },
    "tags": []
   },
   "outputs": [
    {
     "data": {
      "text/plain": [
       "[<matplotlib.lines.Line2D at 0x7fae4a69f0d0>]"
      ]
     },
     "execution_count": 109,
     "metadata": {},
     "output_type": "execute_result"
    },
    {
     "data": {
      "image/png": "[encoded data removed]",
      "text/plain": [
       "<Figure size 720x360 with 1 Axes>"
      ]
     },
     "metadata": {
      "needs_background": "light"
     },
     "output_type": "display_data"
    }
   ],
   "source": [
    "plt.figure(figsize=[10, 5])\n",
    "plt.plot(np.sort(Tvs), \".\")"
   ]
  },
  {
   "cell_type": "code",
   "execution_count": null,
   "id": "0f819f4f-3a54-4ce0-9a4e-b844f5f08a05",
   "metadata": {
    "execution": {
     "iopub.execute_input": "2023-09-21T21:14:10.991047Z",
     "iopub.status.busy": "2023-09-21T21:14:10.990404Z",
     "iopub.status.idle": "2023-09-21T21:14:11.033690Z",
     "shell.execute_reply": "2023-09-21T21:14:11.032591Z",
     "shell.execute_reply.started": "2023-09-21T21:14:10.990997Z"
    },
    "tags": []
   },
   "outputs": [],
   "source": [
    "opt[pvals<0.05], Tvs[pvals<0.05]"
   ]
  },
  {
   "cell_type": "code",
   "execution_count": 111,
   "id": "808c0d12-e35d-4718-a646-47574f46182c",
   "metadata": {
    "execution": {
     "iopub.execute_input": "2023-09-21T21:14:12.505904Z",
     "iopub.status.busy": "2023-09-21T21:14:12.505202Z",
     "iopub.status.idle": "2023-09-21T21:14:12.544440Z",
     "shell.execute_reply": "2023-09-21T21:14:12.543729Z",
     "shell.execute_reply.started": "2023-09-21T21:14:12.505855Z"
    },
    "tags": []
   },
   "outputs": [],
   "source": [
    "mat1 = np.zeros((len(can_Ns), len(can_lams)))\n",
    "mat2 = np.zeros((len(can_Ns), len(can_lams)))\n",
    "for lamN, pval in zip(opt, pvals):\n",
    "    if pval >= 0.05:\n",
    "        mat1[can_Ns.index(lamN[1]), can_lams.index(lamN[2])] += 1\n",
    "    else:\n",
    "        mat2[can_Ns.index(lamN[1]), can_lams.index(lamN[2])] += 1"
   ]
  },
  {
   "cell_type": "code",
   "execution_count": 112,
   "id": "75653f98-1ff7-4994-8ee7-afc5a4d9ac49",
   "metadata": {
    "execution": {
     "iopub.execute_input": "2023-09-21T21:14:13.627633Z",
     "iopub.status.busy": "2023-09-21T21:14:13.626987Z",
     "iopub.status.idle": "2023-09-21T21:14:14.171544Z",
     "shell.execute_reply": "2023-09-21T21:14:14.171084Z",
     "shell.execute_reply.started": "2023-09-21T21:14:13.627587Z"
    },
    "tags": []
   },
   "outputs": [
    {
     "data": {
      "text/plain": [
       "Text(970.2, 0.5, 'N')"
      ]
     },
     "execution_count": 112,
     "metadata": {},
     "output_type": "execute_result"
    },
    {
     "data": {
      "image/png": "[encoded data removed]",
      "text/plain": [
       "<Figure size 1728x720 with 4 Axes>"
      ]
     },
     "metadata": {
      "needs_background": "light"
     },
     "output_type": "display_data"
    }
   ],
   "source": [
    "plt.figure(figsize=[24, 10])\n",
    "plt.subplot(121)\n",
    "plt.title(\">=0.05\")\n",
    "sns.heatmap(mat1, annot=True)\n",
    "plt.yticks(np.arange(len(can_Ns))+0.5, can_Ns);\n",
    "plt.xticks(np.arange(len(can_lams))+0.5, can_lams);\n",
    "plt.xlabel(\"Lambda\")\n",
    "plt.ylabel(\"N\")\n",
    "\n",
    "plt.subplot(122)\n",
    "plt.title(\"<0.05\")\n",
    "sns.heatmap(mat2, annot=True)\n",
    "plt.yticks(np.arange(len(can_Ns))+0.5, can_Ns);\n",
    "plt.xticks(np.arange(len(can_lams))+0.5, can_lams);\n",
    "plt.xlabel(\"Lambda\")\n",
    "plt.ylabel(\"N\")"
   ]
  },
  {
   "cell_type": "markdown",
   "id": "fa246ade-76de-47cb-8907-3b8fe8a7ed1e",
   "metadata": {},
   "source": [
    "# Sinica results"
   ]
  },
  {
   "cell_type": "code",
   "execution_count": 23,
   "id": "7e6362d0-498f-4439-ad42-81168bdb552c",
   "metadata": {
    "execution": {
     "iopub.execute_input": "2023-10-18T23:01:54.289605Z",
     "iopub.status.busy": "2023-10-18T23:01:54.288989Z",
     "iopub.status.idle": "2023-10-18T23:01:54.543768Z",
     "shell.execute_reply": "2023-10-18T23:01:54.542505Z",
     "shell.execute_reply.started": "2023-10-18T23:01:54.289559Z"
    },
    "tags": []
   },
   "outputs": [
    {
     "data": {
      "text/plain": [
       "[0.0, 0.2, 0.4]"
      ]
     },
     "execution_count": 23,
     "metadata": {},
     "output_type": "execute_result"
    }
   ],
   "source": [
    "setting = \"setting4a\"\n",
    "sini_paras = edict()\n",
    "sini_paras.dir = RES_ROOT/f\"sinica_results/SinicaX_d-200_n-100_{setting}\";\n",
    "c1s = [0.0, 0.05, 0.1, 0.2, 0.3, 0.4, 0.5, 0.6];\n",
    "c1s = [0.0, 0.2, 0.4]"
   ]
  },
  {
   "cell_type": "code",
   "execution_count": 28,
   "id": "d2ce478a-8944-4230-8d1a-bee094dd18e4",
   "metadata": {
    "execution": {
     "iopub.execute_input": "2023-10-18T23:03:25.087835Z",
     "iopub.status.busy": "2023-10-18T23:03:25.087217Z",
     "iopub.status.idle": "2023-10-18T23:03:25.817933Z",
     "shell.execute_reply": "2023-10-18T23:03:25.816582Z",
     "shell.execute_reply.started": "2023-10-18T23:03:25.087775Z"
    },
    "tags": []
   },
   "outputs": [],
   "source": [
    "c1 = 0\n",
    "all_fils = list(sini_paras.dir.glob(f\"c1_{c1*1000:.0f}_*.mat\"));\n",
    "sorted_all_fils = sorted(all_fils, key=lambda x: int(x.stem.split(\"_\")[3]));\n",
    "    \n",
    "sini_pvals = []\n",
    "opt_sns = []\n",
    "for fil in sorted_all_fils:\n",
    "        res = loadmat(fil);\n",
    "        sini_pvals.append(res[\"pval\"][0][0])\n",
    "        opt_sns.append(res[\"gopt_sn\"][0][0])\n",
    "sini_pvals0 = np.array(sini_pvals);\n",
    "opt_sns0 = np.array(opt_sns);"
   ]
  },
  {
   "cell_type": "code",
   "execution_count": 29,
   "id": "e383c8a0-8bb3-49e6-bb95-e794b91fcd8b",
   "metadata": {
    "execution": {
     "iopub.execute_input": "2023-10-18T23:03:26.377597Z",
     "iopub.status.busy": "2023-10-18T23:03:26.377040Z",
     "iopub.status.idle": "2023-10-18T23:03:27.349020Z",
     "shell.execute_reply": "2023-10-18T23:03:27.347689Z",
     "shell.execute_reply.started": "2023-10-18T23:03:26.377553Z"
    },
    "tags": []
   },
   "outputs": [],
   "source": [
    "c1 = 0.2\n",
    "all_fils = list(sini_paras.dir.glob(f\"c1_{c1*1000:.0f}_*.mat\"));\n",
    "sorted_all_fils = sorted(all_fils, key=lambda x: int(x.stem.split(\"_\")[3]));\n",
    "    \n",
    "sini_pvals = []\n",
    "opt_sns = []\n",
    "for fil in sorted_all_fils:\n",
    "        res = loadmat(fil);\n",
    "        sini_pvals.append(res[\"pval\"][0][0])\n",
    "        opt_sns.append(res[\"gopt_sn\"][0][0])\n",
    "sini_pvals1 = np.array(sini_pvals);\n",
    "opt_sns1 = np.array(opt_sns);"
   ]
  },
  {
   "cell_type": "code",
   "execution_count": null,
   "id": "b1812030-d86c-4fed-a949-784ec8602cca",
   "metadata": {},
   "outputs": [],
   "source": [
    "    "
   ]
  },
  {
   "cell_type": "code",
   "execution_count": 24,
   "id": "d53de042-2cd9-4374-9048-c595c073e31a",
   "metadata": {
    "execution": {
     "iopub.execute_input": "2023-10-18T23:01:55.582948Z",
     "iopub.status.busy": "2023-10-18T23:01:55.582378Z",
     "iopub.status.idle": "2023-10-18T23:01:58.170587Z",
     "shell.execute_reply": "2023-10-18T23:01:58.169267Z",
     "shell.execute_reply.started": "2023-10-18T23:01:55.582904Z"
    },
    "tags": []
   },
   "outputs": [
    {
     "name": "stdout",
     "output_type": "stream",
     "text": [
      "The power under c1=0.000 200 is 0.045.\n",
      "The power under c1=0.200 200 is 0.045.\n",
      "The power under c1=0.400 200 is 0.045.\n"
     ]
    }
   ],
   "source": [
    "pvals_sinica = []\n",
    "for c1 in c1s:\n",
    "    all_fils = list(sini_paras.dir.glob(f\"c1_{c1*1000:.0f}_*.mat\"));\n",
    "    sorted_all_fils = sorted(all_fils, key=lambda x: int(x.stem.split(\"_\")[3]));\n",
    "    \n",
    "    sini_pvals = []\n",
    "    opt_sns = []\n",
    "    for fil in sorted_all_fils:\n",
    "        res = loadmat(fil);\n",
    "        sini_pvals.append(res[\"pval\"][0][0])\n",
    "        opt_sns.append(res[\"gopt_sn\"][0][0])\n",
    "    sini_pvals = np.array(sini_pvals);\n",
    "    opt_sns = np.array(opt_sns);\n",
    "    #save_pkl(sini_paras.dir/f\"c1_{c1*1000:.0f}_pvals.pkl\", sini_pvals, is_force=False)\n",
    "    pvals_sinica.append(np.mean(sini_pvals < 0.05))\n",
    "    print(f\"The power under c1={c1:.3f} {len(sini_pvals)} is {np.mean(sini_pvals < 0.05):.3f}.\")"
   ]
  },
  {
   "cell_type": "code",
   "execution_count": 49,
   "id": "5aeecbf1-8565-4323-a855-24f460714b2f",
   "metadata": {
    "execution": {
     "iopub.execute_input": "2023-10-17T06:24:31.181362Z",
     "iopub.status.busy": "2023-10-17T06:24:31.180710Z",
     "iopub.status.idle": "2023-10-17T06:24:31.287649Z",
     "shell.execute_reply": "2023-10-17T06:24:31.286855Z",
     "shell.execute_reply.started": "2023-10-17T06:24:31.181319Z"
    },
    "tags": []
   },
   "outputs": [
    {
     "data": {
      "text/plain": [
       "array([[0.026285]])"
      ]
     },
     "execution_count": 49,
     "metadata": {},
     "output_type": "execute_result"
    }
   ],
   "source": [
    "res[\"gopt_lam_d\"]"
   ]
  },
  {
   "cell_type": "code",
   "execution_count": 21,
   "id": "4660be42-7d15-4416-82de-bd54b3331103",
   "metadata": {
    "execution": {
     "iopub.execute_input": "2023-10-16T23:50:39.562992Z",
     "iopub.status.busy": "2023-10-16T23:50:39.562332Z",
     "iopub.status.idle": "2023-10-16T23:50:39.612011Z",
     "shell.execute_reply": "2023-10-16T23:50:39.611330Z",
     "shell.execute_reply.started": "2023-10-16T23:50:39.562949Z"
    },
    "tags": []
   },
   "outputs": [
    {
     "data": {
      "text/plain": [
       "array([[0.17300987]])"
      ]
     },
     "execution_count": 21,
     "metadata": {},
     "output_type": "execute_result"
    }
   ],
   "source": []
  },
  {
   "cell_type": "code",
   "execution_count": 25,
   "id": "75c8bedd-dcc8-4bf0-9762-aba7d742ab90",
   "metadata": {
    "execution": {
     "iopub.execute_input": "2023-09-25T23:08:37.559892Z",
     "iopub.status.busy": "2023-09-25T23:08:37.559057Z",
     "iopub.status.idle": "2023-09-25T23:08:37.621721Z",
     "shell.execute_reply": "2023-09-25T23:08:37.620405Z",
     "shell.execute_reply.started": "2023-09-25T23:08:37.559837Z"
    },
    "tags": []
   },
   "outputs": [
    {
     "name": "stdout",
     "output_type": "stream",
     "text": [
      "Load file /data/rajlab1/user_data/jin/MyResearch/HDF_infer/notebooks/simu_cmp2sinica/../../mypkg/../results/sinica_results/SinicaX_d-200_n-100_test1_setting1/c1_0_pvals.pkl\n",
      "Load file /data/rajlab1/user_data/jin/MyResearch/HDF_infer/notebooks/simu_cmp2sinica/../../mypkg/../results/sinica_results/SinicaX_d-200_n-100_test1_setting1/c1_50_pvals.pkl\n",
      "Load file /data/rajlab1/user_data/jin/MyResearch/HDF_infer/notebooks/simu_cmp2sinica/../../mypkg/../results/sinica_results/SinicaX_d-200_n-100_test1_setting1/c1_100_pvals.pkl\n",
      "Load file /data/rajlab1/user_data/jin/MyResearch/HDF_infer/notebooks/simu_cmp2sinica/../../mypkg/../results/sinica_results/SinicaX_d-200_n-100_test1_setting1/c1_200_pvals.pkl\n",
      "Load file /data/rajlab1/user_data/jin/MyResearch/HDF_infer/notebooks/simu_cmp2sinica/../../mypkg/../results/sinica_results/SinicaX_d-200_n-100_test1_setting1/c1_300_pvals.pkl\n",
      "Load file /data/rajlab1/user_data/jin/MyResearch/HDF_infer/notebooks/simu_cmp2sinica/../../mypkg/../results/sinica_results/SinicaX_d-200_n-100_test1_setting1/c1_400_pvals.pkl\n",
      "Load file /data/rajlab1/user_data/jin/MyResearch/HDF_infer/notebooks/simu_cmp2sinica/../../mypkg/../results/sinica_results/SinicaX_d-200_n-100_test1_setting1/c1_500_pvals.pkl\n",
      "Load file /data/rajlab1/user_data/jin/MyResearch/HDF_infer/notebooks/simu_cmp2sinica/../../mypkg/../results/sinica_results/SinicaX_d-200_n-100_test1_setting1/c1_600_pvals.pkl\n"
     ]
    }
   ],
   "source": [
    "pvals_sinica = []\n",
    "for c1 in c1s:\n",
    "    sini_pvals = load_pkl(sini_paras.dir/f\"c1_{c1*1000:.0f}_pvals.pkl\")\n",
    "    pvals_sinica.append(np.mean(sini_pvals < 0.05))"
   ]
  },
  {
   "cell_type": "code",
   "execution_count": 26,
   "id": "568f3340-70d0-4903-bf42-e738151a2552",
   "metadata": {
    "execution": {
     "iopub.execute_input": "2023-09-25T23:08:38.633583Z",
     "iopub.status.busy": "2023-09-25T23:08:38.632977Z",
     "iopub.status.idle": "2023-09-25T23:08:38.803447Z",
     "shell.execute_reply": "2023-09-25T23:08:38.803018Z",
     "shell.execute_reply.started": "2023-09-25T23:08:38.633537Z"
    },
    "tags": []
   },
   "outputs": [
    {
     "data": {
      "text/plain": [
       "<matplotlib.legend.Legend at 0x7f17413e6340>"
      ]
     },
     "execution_count": 26,
     "metadata": {},
     "output_type": "execute_result"
    },
    {
     "data": {
      "image/png": "[encoded data removed]",
      "text/plain": [
       "<Figure size 720x360 with 1 Axes>"
      ]
     },
     "metadata": {
      "needs_background": "light"
     },
     "output_type": "display_data"
    }
   ],
   "source": [
    "pvals_hdf = np.array(df_sel.iloc[1][:-2]);\n",
    "plt.figure(figsize=[10, 5])\n",
    "plt.plot(c1s, pvals_sinica, \"*\", label=\"SINICA\")\n",
    "plt.plot(c1s, pvals_hdf, \".\", label=\"HDF\")\n",
    "plt.legend()"
   ]
  },
  {
   "cell_type": "code",
   "execution_count": 27,
   "id": "980d94a2-afdd-4742-9ecd-37dfe5f3645d",
   "metadata": {
    "execution": {
     "iopub.execute_input": "2023-09-25T23:08:41.075792Z",
     "iopub.status.busy": "2023-09-25T23:08:41.075028Z",
     "iopub.status.idle": "2023-09-25T23:08:41.184358Z",
     "shell.execute_reply": "2023-09-25T23:08:41.183380Z",
     "shell.execute_reply.started": "2023-09-25T23:08:41.075746Z"
    },
    "tags": []
   },
   "outputs": [
    {
     "data": {
      "text/plain": [
       "array([[0.053, 0.068, 0.132, 0.371, 0.737, 0.932, 0.99 , 0.998],\n",
       "       [0.048, 0.06 , 0.123, 0.421, 0.746, 0.935, 0.992, 0.999]])"
      ]
     },
     "execution_count": 27,
     "metadata": {},
     "output_type": "execute_result"
    }
   ],
   "source": [
    "np.round(np.array([pvals_hdf, pvals_sinica]), 3)"
   ]
  },
  {
   "cell_type": "markdown",
   "id": "9880db4c-87b0-4f64-b465-617fdc6ce79c",
   "metadata": {},
   "source": [
    "# Check"
   ]
  },
  {
   "cell_type": "code",
   "execution_count": null,
   "id": "b56b6fd6-e4fc-49f7-a496-139e0a2a3443",
   "metadata": {},
   "outputs": [],
   "source": [
    "\n"
   ]
  },
  {
   "cell_type": "code",
   "execution_count": 112,
   "id": "818841ac-65d1-4f92-8a09-b429ece0b0a0",
   "metadata": {
    "execution": {
     "iopub.execute_input": "2023-10-02T23:11:12.532758Z",
     "iopub.status.busy": "2023-10-02T23:11:12.532109Z",
     "iopub.status.idle": "2023-10-02T23:11:12.570825Z",
     "shell.execute_reply": "2023-10-02T23:11:12.569718Z",
     "shell.execute_reply.started": "2023-10-02T23:11:12.532716Z"
    },
    "tags": []
   },
   "outputs": [],
   "source": [
    "def _test_fn(Cmat, est_res, svdinv_eps_Q=0, svdinv_eps_Psi=0, verbose=False):\n",
    "    torch.set_default_tensor_type(torch.DoubleTensor)\n",
    "    _paras = est_res._paras\n",
    "    _paras.svdinv_eps_Q = svdinv_eps_Q\n",
    "    _paras.svdinv_eps_Psi = svdinv_eps_Psi\n",
    "    #f_name = f\"seed_{_paras.seed:.0f}-lam_{_paras.lam*1000:.0f}-N_{_paras.N:.0f}_test_stat.pkl\"\n",
    "    \n",
    "    T_v = obt_test_stat_simple2(Q_mat_part=est_res.Q_mat_part, \n",
    "                               Sig_mat_part=est_res.Sig_mat_part,\n",
    "                               est_alp=est_res.est_alp, \n",
    "                               est_Gam=est_res.est_Gam,\n",
    "                               Cmat=Cmat,\n",
    "                               paras=_paras,\n",
    "                               ).item() \n",
    "    pval = chi2.sf(T_v, Cmat.shape[0]*_paras.N)\n",
    "    \n",
    "    res = edict()\n",
    "    res.T_v = T_v\n",
    "    res.pval = pval\n",
    "    res.Cmat = Cmat\n",
    "    return res"
   ]
  },
  {
   "cell_type": "code",
   "execution_count": 24,
   "id": "abf25a38-d95f-47ba-bb71-835ce5aebdb9",
   "metadata": {
    "execution": {
     "iopub.execute_input": "2023-10-05T17:59:34.709898Z",
     "iopub.status.busy": "2023-10-05T17:59:34.709269Z",
     "iopub.status.idle": "2023-10-05T17:59:34.747446Z",
     "shell.execute_reply": "2023-10-05T17:59:34.746542Z",
     "shell.execute_reply.started": "2023-10-05T17:59:34.709848Z"
    }
   },
   "outputs": [
    {
     "data": {
      "text/plain": [
       "'setting1'"
      ]
     },
     "execution_count": 24,
     "metadata": {},
     "output_type": "execute_result"
    }
   ],
   "source": []
  },
  {
   "cell_type": "code",
   "execution_count": 69,
   "id": "65d74dc7-20b6-4816-a33c-1fefa718ce74",
   "metadata": {
    "execution": {
     "iopub.execute_input": "2023-10-06T21:13:43.397644Z",
     "iopub.status.busy": "2023-10-06T21:13:43.396883Z",
     "iopub.status.idle": "2023-10-06T21:13:43.476059Z",
     "shell.execute_reply": "2023-10-06T21:13:43.475276Z",
     "shell.execute_reply.started": "2023-10-06T21:13:43.397596Z"
    },
    "tags": []
   },
   "outputs": [
    {
     "name": "stdout",
     "output_type": "stream",
     "text": [
      "Load file /data/rajlab1/user_data/jin/MyResearch/HDF_infer/notebooks/simu_cmp2sinica/../../mypkg/../results/simu_setting1i_200/opt_lamNs_c1_200.pkl\n",
      "Load file /data/rajlab1/user_data/jin/MyResearch/HDF_infer/notebooks/simu_cmp2sinica/../../mypkg/../results/simu_setting1i_200/opt_lamNs_c1_200_ress.pkl\n"
     ]
    }
   ],
   "source": [
    "cans = [1e-5, 3e-6, 1e-6, 3e-7, 1e-7, 3e-8, 1e-8, 3e-9, 1e-9, 3e-10, 0]\n",
    "setting = \"setting1i\"\n",
    "all_coms = np.array(list(itertools.product(cans, cans)));\n",
    "c1 = 0.2\n",
    "cur_save_dir = RES_ROOT/f\"simu_{setting}_{c1*1000:.0f}\"\n",
    "res1 = load_pkl(cur_save_dir/f\"opt_lamNs_c1_{c1*1000:.0f}.pkl\");\n",
    "res1 = np.array(res1)\n",
    "res2 = load_pkl(cur_save_dir/f\"opt_lamNs_c1_{c1*1000:.0f}_ress.pkl\");"
   ]
  },
  {
   "cell_type": "code",
   "execution_count": 70,
   "id": "0356d0ae-f5be-4c4b-b05c-91fbc88f23cd",
   "metadata": {
    "execution": {
     "iopub.execute_input": "2023-10-06T21:13:45.575006Z",
     "iopub.status.busy": "2023-10-06T21:13:45.574286Z",
     "iopub.status.idle": "2023-10-06T21:13:45.620744Z",
     "shell.execute_reply": "2023-10-06T21:13:45.620041Z",
     "shell.execute_reply.started": "2023-10-06T21:13:45.574957Z"
    },
    "tags": []
   },
   "outputs": [
    {
     "data": {
      "text/html": [
       "<div>\n",
       "<style scoped>\n",
       "    .dataframe tbody tr th:only-of-type {\n",
       "        vertical-align: middle;\n",
       "    }\n",
       "\n",
       "    .dataframe tbody tr th {\n",
       "        vertical-align: top;\n",
       "    }\n",
       "\n",
       "    .dataframe thead th {\n",
       "        text-align: right;\n",
       "    }\n",
       "</style>\n",
       "<table border=\"1\" class=\"dataframe\">\n",
       "  <thead>\n",
       "    <tr style=\"text-align: right;\">\n",
       "      <th></th>\n",
       "      <th>0</th>\n",
       "      <th>1</th>\n",
       "      <th>2</th>\n",
       "      <th>3</th>\n",
       "    </tr>\n",
       "  </thead>\n",
       "  <tbody>\n",
       "    <tr>\n",
       "      <th>0</th>\n",
       "      <td>0.0</td>\n",
       "      <td>12.0</td>\n",
       "      <td>0.001</td>\n",
       "      <td>0.809441</td>\n",
       "    </tr>\n",
       "    <tr>\n",
       "      <th>1</th>\n",
       "      <td>1.0</td>\n",
       "      <td>6.0</td>\n",
       "      <td>0.300</td>\n",
       "      <td>1.223911</td>\n",
       "    </tr>\n",
       "    <tr>\n",
       "      <th>2</th>\n",
       "      <td>2.0</td>\n",
       "      <td>8.0</td>\n",
       "      <td>0.600</td>\n",
       "      <td>0.957348</td>\n",
       "    </tr>\n",
       "    <tr>\n",
       "      <th>3</th>\n",
       "      <td>3.0</td>\n",
       "      <td>6.0</td>\n",
       "      <td>0.300</td>\n",
       "      <td>1.116402</td>\n",
       "    </tr>\n",
       "    <tr>\n",
       "      <th>4</th>\n",
       "      <td>4.0</td>\n",
       "      <td>6.0</td>\n",
       "      <td>0.600</td>\n",
       "      <td>1.201132</td>\n",
       "    </tr>\n",
       "    <tr>\n",
       "      <th>...</th>\n",
       "      <td>...</td>\n",
       "      <td>...</td>\n",
       "      <td>...</td>\n",
       "      <td>...</td>\n",
       "    </tr>\n",
       "    <tr>\n",
       "      <th>195</th>\n",
       "      <td>195.0</td>\n",
       "      <td>6.0</td>\n",
       "      <td>0.300</td>\n",
       "      <td>1.062005</td>\n",
       "    </tr>\n",
       "    <tr>\n",
       "      <th>196</th>\n",
       "      <td>196.0</td>\n",
       "      <td>6.0</td>\n",
       "      <td>0.300</td>\n",
       "      <td>1.142312</td>\n",
       "    </tr>\n",
       "    <tr>\n",
       "      <th>197</th>\n",
       "      <td>197.0</td>\n",
       "      <td>10.0</td>\n",
       "      <td>0.800</td>\n",
       "      <td>1.186515</td>\n",
       "    </tr>\n",
       "    <tr>\n",
       "      <th>198</th>\n",
       "      <td>198.0</td>\n",
       "      <td>6.0</td>\n",
       "      <td>0.300</td>\n",
       "      <td>1.002838</td>\n",
       "    </tr>\n",
       "    <tr>\n",
       "      <th>199</th>\n",
       "      <td>199.0</td>\n",
       "      <td>6.0</td>\n",
       "      <td>0.600</td>\n",
       "      <td>1.630264</td>\n",
       "    </tr>\n",
       "  </tbody>\n",
       "</table>\n",
       "<p>200 rows × 4 columns</p>\n",
       "</div>"
      ],
      "text/plain": [
       "         0     1      2         3\n",
       "0      0.0  12.0  0.001  0.809441\n",
       "1      1.0   6.0  0.300  1.223911\n",
       "2      2.0   8.0  0.600  0.957348\n",
       "3      3.0   6.0  0.300  1.116402\n",
       "4      4.0   6.0  0.600  1.201132\n",
       "..     ...   ...    ...       ...\n",
       "195  195.0   6.0  0.300  1.062005\n",
       "196  196.0   6.0  0.300  1.142312\n",
       "197  197.0  10.0  0.800  1.186515\n",
       "198  198.0   6.0  0.300  1.002838\n",
       "199  199.0   6.0  0.600  1.630264\n",
       "\n",
       "[200 rows x 4 columns]"
      ]
     },
     "execution_count": 70,
     "metadata": {},
     "output_type": "execute_result"
    }
   ],
   "source": [
    "pd.DataFrame(res1)"
   ]
  },
  {
   "cell_type": "code",
   "execution_count": 42,
   "id": "dd745e32-bfa7-4b14-a63c-7e74017e061e",
   "metadata": {
    "execution": {
     "iopub.execute_input": "2023-10-06T06:16:51.028854Z",
     "iopub.status.busy": "2023-10-06T06:16:51.028219Z",
     "iopub.status.idle": "2023-10-06T06:16:51.077747Z",
     "shell.execute_reply": "2023-10-06T06:16:51.076839Z",
     "shell.execute_reply.started": "2023-10-06T06:16:51.028808Z"
    },
    "tags": []
   },
   "outputs": [
    {
     "name": "stdout",
     "output_type": "stream",
     "text": [
      "Load file /data/rajlab1/user_data/jin/MyResearch/HDF_infer/notebooks/simu_cmp2sinica/../../mypkg/../results/simu_setting1i_200/seed_199-lam_1000-N_6-c1_200_est.pkl\n"
     ]
    }
   ],
   "source": [
    "tmp_res = load_pkl(cur_save_dir/\"seed_199-lam_1000-N_6-c1_200_est.pkl\");"
   ]
  },
  {
   "cell_type": "code",
   "execution_count": 43,
   "id": "21d93b81-b766-4bc8-91da-7c2a7b0de9a8",
   "metadata": {
    "execution": {
     "iopub.execute_input": "2023-10-06T06:16:51.796216Z",
     "iopub.status.busy": "2023-10-06T06:16:51.795464Z",
     "iopub.status.idle": "2023-10-06T06:16:51.834072Z",
     "shell.execute_reply": "2023-10-06T06:16:51.832935Z",
     "shell.execute_reply.started": "2023-10-06T06:16:51.796166Z"
    },
    "tags": []
   },
   "outputs": [
    {
     "data": {
      "text/plain": [
       "1.7311553046967603"
      ]
     },
     "execution_count": 43,
     "metadata": {},
     "output_type": "execute_result"
    }
   ],
   "source": [
    "np.mean((tmp_res.cv_errs)**2)"
   ]
  },
  {
   "cell_type": "code",
   "execution_count": 44,
   "id": "c95c283c-d58a-4235-b0fc-fba0c7de8b29",
   "metadata": {
    "execution": {
     "iopub.execute_input": "2023-10-06T06:16:52.818755Z",
     "iopub.status.busy": "2023-10-06T06:16:52.818051Z",
     "iopub.status.idle": "2023-10-06T06:16:52.857775Z",
     "shell.execute_reply": "2023-10-06T06:16:52.856403Z",
     "shell.execute_reply.started": "2023-10-06T06:16:52.818706Z"
    },
    "tags": []
   },
   "outputs": [
    {
     "data": {
      "text/plain": [
       "tensor([10.1190,  0.0000,  0.0000,  0.0000,  0.0000,  0.0000,  0.0000,  0.0000,\n",
       "         0.0000,  0.0000,  0.0000,  0.0000,  0.0000,  0.0000,  0.0000,  0.0000,\n",
       "         0.0000,  0.0000,  0.0000,  0.0000,  0.0000,  0.0000,  0.0000,  0.0000,\n",
       "         0.0000,  0.0000,  0.0000,  0.0000,  0.0000,  0.0000,  0.0000,  0.0000,\n",
       "         0.0000,  0.0000,  0.0000,  0.0000,  0.0000,  0.0000,  0.0000,  0.0000,\n",
       "         0.8305])"
      ]
     },
     "execution_count": 44,
     "metadata": {},
     "output_type": "execute_result"
    }
   ],
   "source": [
    "torch.linalg.norm(tmp_res.est_Gam, dim=0)"
   ]
  },
  {
   "cell_type": "code",
   "execution_count": null,
   "id": "eda1bbde-5c0b-4e58-8fef-80eb641282be",
   "metadata": {},
   "outputs": [],
   "source": []
  },
  {
   "cell_type": "code",
   "execution_count": null,
   "id": "c373570b-9bff-4f30-80fc-931ff8a836c0",
   "metadata": {},
   "outputs": [],
   "source": []
  },
  {
   "cell_type": "code",
   "execution_count": 104,
   "id": "548c7631-3f07-4430-91d9-eceeec75e564",
   "metadata": {
    "execution": {
     "iopub.execute_input": "2023-10-06T21:21:11.831263Z",
     "iopub.status.busy": "2023-10-06T21:21:11.830622Z",
     "iopub.status.idle": "2023-10-06T21:21:11.993589Z",
     "shell.execute_reply": "2023-10-06T21:21:11.992327Z",
     "shell.execute_reply.started": "2023-10-06T21:21:11.831217Z"
    },
    "tags": []
   },
   "outputs": [
    {
     "name": "stdout",
     "output_type": "stream",
     "text": [
      "Load file /data/rajlab1/user_data/jin/MyResearch/HDF_infer/notebooks/simu_cmp2sinica/../../mypkg/../results/simu_setting1i_0/opt_lamNs_c1_0.pkl\n",
      "Load file /data/rajlab1/user_data/jin/MyResearch/HDF_infer/notebooks/simu_cmp2sinica/../../mypkg/../results/simu_setting1i_0/all-cv-errs_c1_0.pkl\n"
     ]
    }
   ],
   "source": [
    "c1 = 0 \n",
    "cur_save_dir = RES_ROOT/f\"simu_{setting}_{c1*1000:.0f}\"\n",
    "optlamNs = load_pkl(cur_save_dir/f\"opt_lamNs_c1_{c1*1000:.0f}.pkl\");\n",
    "all_cv_errs = load_pkl(cur_save_dir/f\"all-cv-errs_c1_{c1*1000:.0f}.pkl\");"
   ]
  },
  {
   "cell_type": "code",
   "execution_count": 129,
   "id": "ce10b920-4f54-414a-8395-c0920f1cf1e4",
   "metadata": {
    "execution": {
     "iopub.execute_input": "2023-10-06T21:32:13.227693Z",
     "iopub.status.busy": "2023-10-06T21:32:13.227092Z",
     "iopub.status.idle": "2023-10-06T21:32:13.266926Z",
     "shell.execute_reply": "2023-10-06T21:32:13.266196Z",
     "shell.execute_reply.started": "2023-10-06T21:32:13.227648Z"
    },
    "tags": []
   },
   "outputs": [
    {
     "data": {
      "text/plain": [
       "(array([[4.0e+00, 3.0e-01],\n",
       "        [6.0e+00, 1.0e-03],\n",
       "        [6.0e+00, 3.0e-01],\n",
       "        [6.0e+00, 6.0e-01],\n",
       "        [8.0e+00, 3.0e-01],\n",
       "        [8.0e+00, 6.0e-01],\n",
       "        [8.0e+00, 8.0e-01],\n",
       "        [1.0e+01, 1.0e-03],\n",
       "        [1.0e+01, 3.0e-01],\n",
       "        [1.0e+01, 6.0e-01],\n",
       "        [1.0e+01, 8.0e-01],\n",
       "        [1.2e+01, 1.0e-03],\n",
       "        [1.2e+01, 3.0e-01],\n",
       "        [1.2e+01, 6.0e-01],\n",
       "        [1.2e+01, 8.0e-01]]),\n",
       " array([14,  1, 98, 27, 11, 11,  1,  1,  8,  5,  2, 10,  9,  1,  1]))"
      ]
     },
     "execution_count": 129,
     "metadata": {},
     "output_type": "execute_result"
    }
   ],
   "source": [
    "np.unique(np.array(optlamNs)[:, 1:3], axis=0, return_counts=1)"
   ]
  },
  {
   "cell_type": "code",
   "execution_count": 119,
   "id": "f73d0dc8-e6c5-420a-8a8c-563544501a9c",
   "metadata": {
    "execution": {
     "iopub.execute_input": "2023-10-06T21:27:17.509910Z",
     "iopub.status.busy": "2023-10-06T21:27:17.509281Z",
     "iopub.status.idle": "2023-10-06T21:27:17.624028Z",
     "shell.execute_reply": "2023-10-06T21:27:17.622893Z",
     "shell.execute_reply.started": "2023-10-06T21:27:17.509864Z"
    },
    "tags": []
   },
   "outputs": [
    {
     "data": {
      "text/plain": [
       "(0, 12, 0.001, 0.7811521027624267)"
      ]
     },
     "execution_count": 119,
     "metadata": {},
     "output_type": "execute_result"
    }
   ],
   "source": [
    "\n",
    "seed = 0\n",
    "lamNs = list(itertools.product([seed], can_Ns, can_lams))\n",
    "errs = []\n",
    "for key in lamNs:\n",
    "    errs.append(np.mean((all_cv_errs[key])**2))\n",
    "errs = np.array(errs)\n",
    "_, optN, optlam, _ = optlamNs[seed]\n",
    "optlamNs[seed]"
   ]
  },
  {
   "cell_type": "code",
   "execution_count": 124,
   "id": "654a92fd-e048-4b69-8bd5-79101577563e",
   "metadata": {
    "execution": {
     "iopub.execute_input": "2023-10-06T21:29:24.494478Z",
     "iopub.status.busy": "2023-10-06T21:29:24.493859Z",
     "iopub.status.idle": "2023-10-06T21:29:24.559434Z",
     "shell.execute_reply": "2023-10-06T21:29:24.558242Z",
     "shell.execute_reply.started": "2023-10-06T21:29:24.494433Z"
    },
    "tags": []
   },
   "outputs": [
    {
     "data": {
      "text/plain": [
       "tensor([0.2214, 0.4468, 0.2343, 0.2204, 0.1974, 0.2667, 0.1496, 0.3123, 0.3195,\n",
       "        0.3026, 0.3238, 0.1254, 0.2767, 0.1914, 0.2042, 0.1299, 0.1522, 0.2194,\n",
       "        0.3077, 0.2846, 0.2165, 0.3433, 0.2467, 0.3257, 0.2703, 0.3141, 0.3256,\n",
       "        0.2452, 0.1793, 0.1581, 0.1918, 0.2839, 0.3419, 0.2224, 0.2938, 0.2582,\n",
       "        0.2572, 0.3183, 0.2445, 0.3869, 0.6264])"
      ]
     },
     "execution_count": 124,
     "metadata": {},
     "output_type": "execute_result"
    }
   ],
   "source": [
    "f_fil = list(cur_save_dir.glob(f\"seed_{seed:.0f}-lam_{optlam*1000:.0f}-N_{optN:.0f}-c1_{c1*1000:.0f}_est.pkl\"))[0]\n",
    "t_res = load_pkl(f_fil, verbose=0);\n",
    "torch.linalg.norm(t_res.est_Gam, dim=0)"
   ]
  },
  {
   "cell_type": "code",
   "execution_count": 125,
   "id": "e82dabfb-2924-441e-8552-497c982603c0",
   "metadata": {
    "execution": {
     "iopub.execute_input": "2023-10-06T21:30:26.795645Z",
     "iopub.status.busy": "2023-10-06T21:30:26.795101Z",
     "iopub.status.idle": "2023-10-06T21:30:26.842228Z",
     "shell.execute_reply": "2023-10-06T21:30:26.841287Z",
     "shell.execute_reply.started": "2023-10-06T21:30:26.795600Z"
    }
   },
   "outputs": [
    {
     "data": {
      "text/plain": [
       "array([  0,   4,   6,   7,  12,  13,  36,  54,  56,  59,  62,  68,  69,\n",
       "        71,  76,  77,  78,  81,  82,  95, 103, 116, 121, 122, 127, 128,\n",
       "       132, 133, 134, 135, 136, 141, 147, 148, 150, 157, 166, 173, 181,\n",
       "       198, 199])"
      ]
     },
     "execution_count": 125,
     "metadata": {},
     "output_type": "execute_result"
    }
   ],
   "source": [
    "t_res._paras.keep_idxs"
   ]
  },
  {
   "cell_type": "code",
   "execution_count": 117,
   "id": "faee8c54-0e7b-4c96-b71e-dd4a9fab63d6",
   "metadata": {
    "execution": {
     "iopub.execute_input": "2023-10-06T21:25:29.722425Z",
     "iopub.status.busy": "2023-10-06T21:25:29.721899Z",
     "iopub.status.idle": "2023-10-06T21:25:30.017295Z",
     "shell.execute_reply": "2023-10-06T21:25:30.016868Z",
     "shell.execute_reply.started": "2023-10-06T21:25:29.722383Z"
    },
    "tags": []
   },
   "outputs": [
    {
     "data": {
      "text/plain": [
       "Text(0.5, 23.20659722222222, 'Lam')"
      ]
     },
     "execution_count": 117,
     "metadata": {},
     "output_type": "execute_result"
    },
    {
     "data": {
      "image/png": "[encoded data removed]",
      "text/plain": [
       "<Figure size 1000x500 with 2 Axes>"
      ]
     },
     "metadata": {
      "needs_background": "light"
     },
     "output_type": "display_data"
    }
   ],
   "source": [
    "lamNsnp = np.array(lamNs);\n",
    "lamNsnp[:, 1].reshape(len(can_Ns), -1)\n",
    "errs_mat = errs.reshape(len(can_Ns), -1)\n",
    "sns.heatmap(errs_mat, annot=np.round(errs_mat, 2))\n",
    "plt.yticks(np.arange(len(can_Ns))+0.5, can_Ns)\n",
    "plt.xticks(np.arange(len(can_lams))+0.5, can_lams);\n",
    "plt.ylabel(\"N\")\n",
    "plt.xlabel(\"Lam\")"
   ]
  },
  {
   "cell_type": "code",
   "execution_count": null,
   "id": "4bae10bb-afdb-4cbf-855c-f5fc203f903e",
   "metadata": {},
   "outputs": [],
   "source": []
  }
 ],
 "metadata": {
  "kernelspec": {
   "display_name": "Python 3 (ipykernel)",
   "language": "python",
   "name": "python3"
  },
  "language_info": {
   "codemirror_mode": {
    "name": "ipython",
    "version": 3
   },
   "file_extension": ".py",
   "mimetype": "text/x-python",
   "name": "python",
   "nbconvert_exporter": "python",
   "pygments_lexer": "ipython3",
   "version": "3.9.7"
  },
  "toc": {
   "base_numbering": 1,
   "nav_menu": {},
   "number_sections": true,
   "sideBar": true,
   "skip_h1_title": false,
   "title_cell": "Table of Contents",
   "title_sidebar": "Contents",
   "toc_cell": false,
   "toc_position": {
    "height": "calc(100% - 180px)",
    "left": "10px",
    "top": "150px",
    "width": "165px"
   },
   "toc_section_display": true,
   "toc_window_display": true
  },
  "toc-autonumbering": true
 },
 "nbformat": 4,
 "nbformat_minor": 5
}
