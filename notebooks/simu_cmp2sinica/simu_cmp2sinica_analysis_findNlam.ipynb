{
 "cells": [
  {
   "cell_type": "markdown",
   "id": "faf0a805",
   "metadata": {},
   "source": [
    "This file contains python code to compare with sinica paper\n",
    "\n",
    "It is under the linear setting\n",
    "\n",
    "Now, I use the same X and beta from the paper (on Sep 4, 2023)\n",
    "\n",
    "I analyze the results under new code, here I save the results seperately."
   ]
  },
  {
   "cell_type": "code",
   "execution_count": 1,
   "id": "02ae980e",
   "metadata": {
    "ExecuteTime": {
     "end_time": "2023-05-31T19:57:23.490285Z",
     "start_time": "2023-05-31T19:57:23.481769Z"
    },
    "execution": {
     "iopub.execute_input": "2023-10-27T03:00:16.209276Z",
     "iopub.status.busy": "2023-10-27T03:00:16.208322Z",
     "iopub.status.idle": "2023-10-27T03:00:16.226817Z",
     "shell.execute_reply": "2023-10-27T03:00:16.223780Z",
     "shell.execute_reply.started": "2023-10-27T03:00:16.209228Z"
    },
    "tags": []
   },
   "outputs": [],
   "source": [
    "import sys\n",
    "sys.path.append(\"../../mypkg\")"
   ]
  },
  {
   "cell_type": "code",
   "execution_count": 2,
   "id": "023df78a",
   "metadata": {
    "ExecuteTime": {
     "end_time": "2023-05-31T19:57:34.238839Z",
     "start_time": "2023-05-31T19:57:23.494053Z"
    },
    "execution": {
     "iopub.execute_input": "2023-10-27T03:00:16.234003Z",
     "iopub.status.busy": "2023-10-27T03:00:16.233293Z",
     "iopub.status.idle": "2023-10-27T03:00:18.575005Z",
     "shell.execute_reply": "2023-10-27T03:00:18.574338Z",
     "shell.execute_reply.started": "2023-10-27T03:00:16.233962Z"
    },
    "tags": []
   },
   "outputs": [],
   "source": [
    "import numpy as np\n",
    "import torch\n",
    "import matplotlib.pyplot as plt\n",
    "import seaborn as sns\n",
    "from scipy.stats import pearsonr\n",
    "from numbers import Number\n",
    "\n",
    "from joblib import Parallel, delayed\n",
    "\n",
    "from easydict import EasyDict as edict\n",
    "from tqdm import trange, tqdm\n",
    "from scipy.io import loadmat\n",
    "from pprint import pprint\n",
    "import itertools\n",
    "from scipy.stats import chi2\n",
    "import pandas as pd\n",
    "from IPython.display import display\n"
   ]
  },
  {
   "cell_type": "code",
   "execution_count": 3,
   "id": "b9d3cbc6-1ac5-47d6-a0d1-bcbc0be9267e",
   "metadata": {
    "execution": {
     "iopub.execute_input": "2023-10-27T03:00:18.576391Z",
     "iopub.status.busy": "2023-10-27T03:00:18.575818Z",
     "iopub.status.idle": "2023-10-27T03:00:18.598824Z",
     "shell.execute_reply": "2023-10-27T03:00:18.598366Z",
     "shell.execute_reply.started": "2023-10-27T03:00:18.576365Z"
    },
    "tags": []
   },
   "outputs": [],
   "source": [
    "# This will reload all imports as soon as the code changes\n",
    "%load_ext autoreload\n",
    "%autoreload 2"
   ]
  },
  {
   "cell_type": "code",
   "execution_count": 4,
   "id": "b0aa91b2",
   "metadata": {
    "ExecuteTime": {
     "end_time": "2023-05-31T19:57:59.558229Z",
     "start_time": "2023-05-31T19:57:34.292612Z"
    },
    "execution": {
     "iopub.execute_input": "2023-10-27T03:00:18.599904Z",
     "iopub.status.busy": "2023-10-27T03:00:18.599674Z",
     "iopub.status.idle": "2023-10-27T03:00:18.690267Z",
     "shell.execute_reply": "2023-10-27T03:00:18.689309Z",
     "shell.execute_reply.started": "2023-10-27T03:00:18.599891Z"
    },
    "tags": []
   },
   "outputs": [],
   "source": [
    "from constants import DATA_ROOT, RES_ROOT, FIG_ROOT, MIDRES_ROOT\n",
    "\n",
    "from hdf_utils.hypo_test import obt_test_stat_simple2, get_Amat, obt_test_stat_simple3\n",
    "from utils.matrix import col_vec_fn, col_vec2mat_fn, conju_grad, svd_inverse, cholesky_inv\n",
    "from utils.misc import save_pkl, load_pkl, get_local_min_idxs\n",
    "from optimization.one_step_opt import OneStepOpt\n"
   ]
  },
  {
   "cell_type": "code",
   "execution_count": 5,
   "id": "03e8580b-15e9-4a93-8010-aa2d650ffdf6",
   "metadata": {
    "execution": {
     "iopub.execute_input": "2023-10-27T03:00:18.692074Z",
     "iopub.status.busy": "2023-10-27T03:00:18.691554Z",
     "iopub.status.idle": "2023-10-27T03:00:18.723359Z",
     "shell.execute_reply": "2023-10-27T03:00:18.722788Z",
     "shell.execute_reply.started": "2023-10-27T03:00:18.692034Z"
    },
    "tags": []
   },
   "outputs": [],
   "source": [
    "import logging\n",
    "\n",
    "logger = logging.getLogger(\"tmp\")\n",
    "logger.setLevel(logging.DEBUG)\n",
    "formatter = logging.Formatter('%(asctime)s - %(name)s - %(levelname)s - %(message)s')\n",
    "\n",
    "ch = logging.StreamHandler() # for console. \n",
    "ch.setLevel(logging.DEBUG)\n",
    "ch.setFormatter(formatter)\n",
    "\n",
    "logger.addHandler(ch)"
   ]
  },
  {
   "cell_type": "code",
   "execution_count": 6,
   "id": "fe0a4a46",
   "metadata": {
    "ExecuteTime": {
     "end_time": "2023-05-31T19:57:59.621784Z",
     "start_time": "2023-05-31T19:57:59.568097Z"
    },
    "execution": {
     "iopub.execute_input": "2023-10-27T03:00:18.724157Z",
     "iopub.status.busy": "2023-10-27T03:00:18.723974Z",
     "iopub.status.idle": "2023-10-27T03:00:18.784831Z",
     "shell.execute_reply": "2023-10-27T03:00:18.783920Z",
     "shell.execute_reply.started": "2023-10-27T03:00:18.724142Z"
    },
    "tags": []
   },
   "outputs": [],
   "source": [
    "plt.style.use(FIG_ROOT/\"base.mplstyle\")\n",
    "torch.set_default_tensor_type(torch.DoubleTensor)"
   ]
  },
  {
   "cell_type": "code",
   "execution_count": null,
   "id": "e0cb5a3d-1ab1-4bc0-bfce-d7ebaedb0391",
   "metadata": {},
   "outputs": [],
   "source": []
  },
  {
   "cell_type": "code",
   "execution_count": null,
   "id": "d0af2f35",
   "metadata": {},
   "outputs": [],
   "source": []
  },
  {
   "cell_type": "markdown",
   "id": "dd9c6514",
   "metadata": {},
   "source": [
    "# Param and fns"
   ]
  },
  {
   "cell_type": "code",
   "execution_count": null,
   "id": "a10d559c-8d6a-428a-bdb9-23c0a5aac96b",
   "metadata": {},
   "outputs": [],
   "source": []
  },
  {
   "cell_type": "markdown",
   "id": "e5ccf9dc-c8f3-40a3-92f9-de2cdfa75610",
   "metadata": {},
   "source": [
    "## Fns"
   ]
  },
  {
   "cell_type": "code",
   "execution_count": 7,
   "id": "d93eca7c-5b7c-49ee-bec2-979f08f8d602",
   "metadata": {
    "execution": {
     "iopub.execute_input": "2023-10-27T03:00:18.977706Z",
     "iopub.status.busy": "2023-10-27T03:00:18.977118Z",
     "iopub.status.idle": "2023-10-27T03:00:19.015478Z",
     "shell.execute_reply": "2023-10-27T03:00:19.014846Z",
     "shell.execute_reply.started": "2023-10-27T03:00:18.977663Z"
    },
    "tags": []
   },
   "outputs": [
    {
     "data": {
      "text/plain": [
       "<function __main__.<lambda>(x)>"
      ]
     },
     "execution_count": 7,
     "metadata": {},
     "output_type": "execute_result"
    }
   ],
   "source": [
    "def _get_min_idx(x):\n",
    "    \"\"\"Get the index of the minimal values among the local minimals.\n",
    "       If there are multiple ones, return the largest index\n",
    "       args:\n",
    "           x: a vec\n",
    "        \n",
    "    \"\"\"\n",
    "    x = np.array(x)\n",
    "    lmin_idxs = get_local_min_idxs(x);\n",
    "    if len(lmin_idxs) == 0:\n",
    "        lmin_idxs = np.arange(len(x))\n",
    "    lmin_idxs_inv =  lmin_idxs[::-1]\n",
    "    lmins_inv = x[lmin_idxs_inv];\n",
    "    return  lmin_idxs_inv[np.argmin(lmins_inv)]\n",
    "_err_fn = lambda x: np.nanmean(x**2)\n",
    "#_err_fn = lambda x: np.nanmean(np.abs(x))"
   ]
  },
  {
   "cell_type": "code",
   "execution_count": null,
   "id": "75e10fd4",
   "metadata": {},
   "outputs": [],
   "source": []
  },
  {
   "cell_type": "markdown",
   "id": "ad8553a0-635d-473c-b27e-7bb7fb31a674",
   "metadata": {},
   "source": [
    "# Analysis"
   ]
  },
  {
   "cell_type": "code",
   "execution_count": 8,
   "id": "f2d09dc0-e992-4719-bb86-118197d686b6",
   "metadata": {
    "execution": {
     "iopub.execute_input": "2023-10-27T03:00:22.761567Z",
     "iopub.status.busy": "2023-10-27T03:00:22.760822Z",
     "iopub.status.idle": "2023-10-27T03:00:22.799433Z",
     "shell.execute_reply": "2023-10-27T03:00:22.798685Z",
     "shell.execute_reply.started": "2023-10-27T03:00:22.761519Z"
    },
    "tags": []
   },
   "outputs": [],
   "source": [
    "can_Ns = [4, 6, 8]\n",
    "can_lams = [0.001, 0.1, 0.3, 0.35, 0.40, 0.45, 0.50, 0.55, 0.6, 0.65, 0.7, 0.75, 0.80, 1.0, 2.0, 4.0, 16.0]\n",
    "can_lams = [0.001, 0.01, 0.05, 0.1, 0.15, 0.20, 0.25, 0.3, 0.35, 0.40, 0.45, 0.50, 0.55, 1.0, 2.0, 4.0, 16.0]\n",
    "\n",
    "setting = \"setting6a\"\n",
    "\n",
    "c1s = [0.0, 0.2, 0.4]\n",
    "Cmat = np.eye(1) # change it depending on test1, test2, test3\n",
    "\n",
    "#c1s = [0.5, 0.7, 0.9]\n",
    "#Cmat = np.array([1, -1]).reshape(1, 2) # change it depending on test1, test2, test3\n",
    "\n",
    "num_rep = 200;"
   ]
  },
  {
   "cell_type": "code",
   "execution_count": null,
   "id": "3264cfce-b893-450e-b063-e3f4c10d1d08",
   "metadata": {},
   "outputs": [],
   "source": []
  },
  {
   "cell_type": "markdown",
   "id": "f6b461f7-fe50-4b73-aee2-203c50e562d0",
   "metadata": {},
   "source": [
    "## Step 0 (extract cv errrs)\n",
    "\n",
    "Save in one dict"
   ]
  },
  {
   "cell_type": "code",
   "execution_count": 9,
   "id": "7387e4d1-a9c3-40c0-aba4-6638b2e0256a",
   "metadata": {
    "execution": {
     "iopub.execute_input": "2023-10-27T03:00:24.181578Z",
     "iopub.status.busy": "2023-10-27T03:00:24.180887Z",
     "iopub.status.idle": "2023-10-27T03:23:11.239699Z",
     "shell.execute_reply": "2023-10-27T03:23:11.238228Z",
     "shell.execute_reply.started": "2023-10-27T03:00:24.181533Z"
    },
    "tags": []
   },
   "outputs": [
    {
     "name": "stderr",
     "output_type": "stream",
     "text": [
      "c1: 0.4: 100%|███████████████████████████████████████████████████████████████████████████████████████████████████████████████████████████| 10200/10200 [07:22<00:00, 23.06it/s]\n"
     ]
    },
    {
     "name": "stdout",
     "output_type": "stream",
     "text": [
      "Save to /data/rajlab1/user_data/jin/MyResearch/HDF_infer/notebooks/simu_cmp2sinica/../../mypkg/../results/simu_setting6a_400/all-valsel-metrics_c1_400.pkl\n"
     ]
    }
   ],
   "source": [
    "c1 = 0.0\n",
    "cur_num_rep = 200\n",
    "for c1 in c1s:\n",
    "    cur_save_dir = RES_ROOT/f\"simu_{setting}_{c1*1000:.0f}\"\n",
    "    \n",
    "    def _run_fn(seed, N, lam, c1):\n",
    "        f_fil = list(cur_save_dir.glob(f\"seed_{seed:.0f}-lam_{lam*1000:.0f}-N_{N:.0f}-c1_{c1*1000:.0f}_est.pkl\"))[0]\n",
    "        t_res = load_pkl(f_fil, verbose=0)\n",
    "        valsel_metrics = edict()\n",
    "        valsel_metrics.cv_errs = t_res.cv_errs\n",
    "        valsel_metrics.AIC = t_res.AIC\n",
    "        valsel_metrics.BIC = t_res.BIC\n",
    "        valsel_metrics.GCV = t_res.GCV\n",
    "        return (seed, N, lam), valsel_metrics\n",
    "    all_coms = itertools.product(range(cur_num_rep), can_Ns, can_lams)\n",
    "    with Parallel(n_jobs=1) as parallel:\n",
    "        all_cv_errs_list = parallel(delayed(_run_fn)(cur_seed, cur_N, cur_lam, c1=c1)  \n",
    "                                 for cur_seed, cur_N, cur_lam\n",
    "                                 in tqdm(all_coms, total=cur_num_rep*len(can_Ns)*len(can_lams), \n",
    "                                                      desc=f\"c1: {c1}\"))\n",
    "    all_cv_errs = {res[0]:res[1] for res in all_cv_errs_list};\n",
    "    save_pkl(cur_save_dir/f\"all-valsel-metrics_c1_{c1*1000:.0f}.pkl\", all_cv_errs, is_force=1)"
   ]
  },
  {
   "cell_type": "code",
   "execution_count": null,
   "id": "0d86e546-f1aa-4fa9-99b2-8bc07ac031ec",
   "metadata": {},
   "outputs": [],
   "source": []
  },
  {
   "cell_type": "markdown",
   "id": "f3189271-865f-47c1-ba40-2a026eb64d28",
   "metadata": {},
   "source": [
    "## Pre-ana"
   ]
  },
  {
   "cell_type": "code",
   "execution_count": 10,
   "id": "760e6728-0c64-44b9-ac39-c0ca4c89b3d8",
   "metadata": {
    "execution": {
     "iopub.execute_input": "2023-10-27T20:21:02.130587Z",
     "iopub.status.busy": "2023-10-27T20:21:02.129971Z",
     "iopub.status.idle": "2023-10-27T20:21:02.235482Z",
     "shell.execute_reply": "2023-10-27T20:21:02.234571Z",
     "shell.execute_reply.started": "2023-10-27T20:21:02.130542Z"
    },
    "tags": []
   },
   "outputs": [
    {
     "data": {
      "text/plain": [
       "0.0"
      ]
     },
     "execution_count": 10,
     "metadata": {},
     "output_type": "execute_result"
    }
   ],
   "source": [
    "c1 = 0.0"
   ]
  },
  {
   "cell_type": "code",
   "execution_count": 11,
   "id": "f1b69959-28cc-4ceb-97e8-624abeb2f7e8",
   "metadata": {
    "execution": {
     "iopub.execute_input": "2023-10-27T20:21:06.076606Z",
     "iopub.status.busy": "2023-10-27T20:21:06.076021Z",
     "iopub.status.idle": "2023-10-27T20:21:08.242237Z",
     "shell.execute_reply": "2023-10-27T20:21:08.241800Z",
     "shell.execute_reply.started": "2023-10-27T20:21:06.076562Z"
    },
    "tags": []
   },
   "outputs": [
    {
     "name": "stdout",
     "output_type": "stream",
     "text": [
      "Load file /data/rajlab1/user_data/jin/MyResearch/HDF_infer/notebooks/simu_cmp2sinica/../../mypkg/../results/simu_setting6a_0/all-valsel-metrics_c1_0.pkl\n"
     ]
    },
    {
     "name": "stderr",
     "output_type": "stream",
     "text": [
      "c1: 0.0: 100%|██████████████████████████████████████████████████████████████████████████████████████████████████████████████████████████████| 200/200 [00:00<00:00, 747.60it/s]\n"
     ]
    }
   ],
   "source": [
    "def _run_fn1(seed, all_cv_errs):\n",
    "    errs_mat = []\n",
    "    for cur_N in can_Ns:\n",
    "        errs = []\n",
    "        for cur_lam in can_lams:\n",
    "            #errs.append(all_cv_errs[(seed, cur_N, cur_lam)].BIC)\n",
    "            errs.append(_err_fn(all_cv_errs[(seed, cur_N, cur_lam)].cv_errs))\n",
    "        errs_mat.append(errs)\n",
    "    errs_mat = np.array(errs_mat)\n",
    "    return errs_mat\n",
    "cur_save_dir = RES_ROOT/f\"simu_{setting}_{c1*1000:.0f}\"\n",
    "all_cv_errs = load_pkl(cur_save_dir/f\"all-valsel-metrics_c1_{c1*1000:.0f}.pkl\")\n",
    "num_seed = len(np.unique(list(map(lambda x: x[0], all_cv_errs.keys()))))\n",
    "# do not make n_jobs>1, it is very slow\n",
    "with Parallel(n_jobs=1) as parallel:\n",
    "    err_ten = parallel(delayed(_run_fn1)(cur_seed, all_cv_errs)  \n",
    "                             for cur_seed in tqdm(range(num_seed), total=num_seed, desc=f\"c1: {c1}\"))\n",
    "err_ten = np.array(err_ten);"
   ]
  },
  {
   "cell_type": "code",
   "execution_count": 12,
   "id": "6f9534a4-db3c-4606-a358-d2c4f991c763",
   "metadata": {
    "execution": {
     "iopub.execute_input": "2023-10-27T20:21:09.408531Z",
     "iopub.status.busy": "2023-10-27T20:21:09.407979Z",
     "iopub.status.idle": "2023-10-27T20:21:09.451058Z",
     "shell.execute_reply": "2023-10-27T20:21:09.450412Z",
     "shell.execute_reply.started": "2023-10-27T20:21:09.408487Z"
    },
    "tags": []
   },
   "outputs": [
    {
     "data": {
      "text/plain": [
       "(4, 0.25, 0.25)"
      ]
     },
     "execution_count": 12,
     "metadata": {},
     "output_type": "execute_result"
    }
   ],
   "source": [
    "err_ten_ses = err_ten.std(axis=0)/np.sqrt(err_ten.shape[0])\n",
    "err_m = np.mean(np.array(err_ten), axis=0)\n",
    "errs = []\n",
    "for err in err_m:\n",
    "    lam_min_idx = _get_min_idx(err)\n",
    "    errs.append((err[lam_min_idx], lam_min_idx))\n",
    "errs = np.array(errs)\n",
    "N_min_idx = np.argmin(errs[:, 0]);\n",
    "lam_min_idx = int(errs[N_min_idx][1]);\n",
    "min_opt_N, min_opt_lam = can_Ns[N_min_idx], can_lams[lam_min_idx]\n",
    "min_opt_N, min_opt_lam\n",
    "\n",
    "err_upbd = err_m[N_min_idx, lam_min_idx] + err_ten_ses[N_min_idx, lam_min_idx]; \n",
    "lam_1se_idx = np.where(err_m[N_min_idx] <= err_upbd)[0].max();\n",
    "(can_Ns[N_min_idx], can_lams[lam_min_idx], can_lams[lam_1se_idx])"
   ]
  },
  {
   "cell_type": "code",
   "execution_count": 13,
   "id": "9a21aadc-a8fa-48a9-b505-932f19dbd568",
   "metadata": {
    "execution": {
     "iopub.execute_input": "2023-10-27T20:21:11.870520Z",
     "iopub.status.busy": "2023-10-27T20:21:11.869926Z",
     "iopub.status.idle": "2023-10-27T20:21:12.174254Z",
     "shell.execute_reply": "2023-10-27T20:21:12.173826Z",
     "shell.execute_reply.started": "2023-10-27T20:21:11.870473Z"
    },
    "tags": []
   },
   "outputs": [
    {
     "data": {
      "image/png": "[encoded data removed]",
      "text/plain": [
       "<Figure size 864x432 with 2 Axes>"
      ]
     },
     "metadata": {
      "needs_background": "light"
     },
     "output_type": "display_data"
    }
   ],
   "source": [
    "err_m = np.mean(np.array(err_ten), axis=0)\n",
    "plt.figure(figsize=[12, 6])\n",
    "sns.heatmap(err_m, annot=err_m, fmt=\".3f\")\n",
    "plt.xticks(np.arange(len(can_lams))+0.5, can_lams);\n",
    "plt.yticks(np.arange(len(can_Ns))+0.5, can_Ns);"
   ]
  },
  {
   "cell_type": "code",
   "execution_count": null,
   "id": "d8df0e15-24b2-4939-84b6-78a48db6d627",
   "metadata": {},
   "outputs": [],
   "source": []
  },
  {
   "cell_type": "code",
   "execution_count": null,
   "id": "c4d346ec-0d18-460b-8eae-79f96d4cd7af",
   "metadata": {},
   "outputs": [],
   "source": []
  },
  {
   "cell_type": "markdown",
   "id": "181957a8-0dd4-48a9-bc45-02938ecc817d",
   "metadata": {},
   "source": [
    "## Step 2 (only need once)"
   ]
  },
  {
   "cell_type": "code",
   "execution_count": 14,
   "id": "bc776081-a661-4ed1-ba4e-f1eccebceac0",
   "metadata": {
    "execution": {
     "iopub.execute_input": "2023-10-27T20:21:20.523926Z",
     "iopub.status.busy": "2023-10-27T20:21:20.523281Z",
     "iopub.status.idle": "2023-10-27T20:21:20.571233Z",
     "shell.execute_reply": "2023-10-27T20:21:20.570598Z",
     "shell.execute_reply.started": "2023-10-27T20:21:20.523879Z"
    },
    "tags": []
   },
   "outputs": [],
   "source": [
    "def _test_fn(Cmat, est_res, svdinv_eps_Q=0, svdinv_eps_Psi=0):\n",
    "    torch.set_default_tensor_type(torch.DoubleTensor)\n",
    "    _paras = est_res._paras\n",
    "    _paras.svdinv_eps_Q = svdinv_eps_Q\n",
    "    _paras.svdinv_eps_Psi = svdinv_eps_Psi\n",
    "    #f_name = f\"seed_{_paras.seed:.0f}-lam_{_paras.lam*1000:.0f}-N_{_paras.N:.0f}_test_stat.pkl\"\n",
    "    \n",
    "    T_v = obt_test_stat_simple2(Q_mat_part=est_res.Q_mat_part,\n",
    "                               Sig_mat_part=est_res.Sig_mat_part,\n",
    "                               est_alp=est_res.est_alp, \n",
    "                               est_Gam=est_res.est_Gam,\n",
    "                               Cmat=Cmat,\n",
    "                               paras=_paras,\n",
    "                               ).item() \n",
    "    pval = chi2.sf(T_v, Cmat.shape[0]*_paras.N)\n",
    "    \n",
    "    res = edict()\n",
    "    res.T_v = T_v\n",
    "    res.pval = pval\n",
    "    res.Cmat = Cmat\n",
    "    return res"
   ]
  },
  {
   "cell_type": "code",
   "execution_count": 15,
   "id": "f8ee718b-e8c9-42c5-8e91-3b7717e8a5a7",
   "metadata": {
    "execution": {
     "iopub.execute_input": "2023-10-27T20:21:20.950561Z",
     "iopub.status.busy": "2023-10-27T20:21:20.949942Z",
     "iopub.status.idle": "2023-10-27T20:21:20.988721Z",
     "shell.execute_reply": "2023-10-27T20:21:20.988021Z",
     "shell.execute_reply.started": "2023-10-27T20:21:20.950515Z"
    },
    "tags": []
   },
   "outputs": [],
   "source": [
    "def _test_fn1(Cmat, est_res, svdinv_eps_Q=0, svdinv_eps_Psi=0):\n",
    "    torch.set_default_tensor_type(torch.DoubleTensor)\n",
    "    _paras = est_res._paras\n",
    "    _paras.svdinv_eps_Q = svdinv_eps_Q\n",
    "    _paras.svdinv_eps_Psi = svdinv_eps_Psi\n",
    "    \n",
    "    T_v = obt_test_stat_simple3(est_sigma2=est_res.est_sigma2,\n",
    "                               Q_mat_part=est_res.Q_mat_part, \n",
    "                               est_alp=est_res.est_alp, \n",
    "                               est_Gam=est_res.est_Gam,\n",
    "                               Cmat=Cmat,\n",
    "                               paras=_paras,\n",
    "                               ).item() \n",
    "    pval = chi2.sf(T_v, Cmat.shape[0]*_paras.N)\n",
    "    \n",
    "    res = edict()\n",
    "    res.T_v = T_v\n",
    "    res.pval = pval\n",
    "    res.Cmat = Cmat\n",
    "    return res"
   ]
  },
  {
   "cell_type": "code",
   "execution_count": null,
   "id": "1e999a44-3fa8-45e2-a823-32f019843d91",
   "metadata": {},
   "outputs": [],
   "source": []
  },
  {
   "cell_type": "markdown",
   "id": "22be2a19-2156-4bf5-82e3-db9c86c88f74",
   "metadata": {},
   "source": [
    "### Fix N and adaptive lam"
   ]
  },
  {
   "cell_type": "code",
   "execution_count": 34,
   "id": "bb0efead-1b70-4212-9cf8-ab5832a1bca9",
   "metadata": {
    "execution": {
     "iopub.execute_input": "2023-10-26T17:07:37.190156Z",
     "iopub.status.busy": "2023-10-26T17:07:37.189510Z",
     "iopub.status.idle": "2023-10-26T17:07:43.117330Z",
     "shell.execute_reply": "2023-10-26T17:07:43.116812Z",
     "shell.execute_reply.started": "2023-10-26T17:07:37.190112Z"
    },
    "tags": []
   },
   "outputs": [
    {
     "name": "stderr",
     "output_type": "stream",
     "text": [
      "  0%|                                                                                                                                                    | 0/3 [00:00<?, ?it/s]"
     ]
    },
    {
     "name": "stdout",
     "output_type": "stream",
     "text": [
      "Load file /data/rajlab1/user_data/jin/MyResearch/HDF_infer/notebooks/simu_cmp2sinica/../../mypkg/../results/simu_setting5_0/all-valsel-metrics_c1_0.pkl\n"
     ]
    },
    {
     "name": "stderr",
     "output_type": "stream",
     "text": [
      " 33%|██████████████████████████████████████████████▋                                                                                             | 1/3 [00:01<00:03,  1.96s/it]"
     ]
    },
    {
     "name": "stdout",
     "output_type": "stream",
     "text": [
      "Load file /data/rajlab1/user_data/jin/MyResearch/HDF_infer/notebooks/simu_cmp2sinica/../../mypkg/../results/simu_setting5_200/all-valsel-metrics_c1_200.pkl\n"
     ]
    },
    {
     "name": "stderr",
     "output_type": "stream",
     "text": [
      " 67%|█████████████████████████████████████████████████████████████████████████████████████████████▎                                              | 2/3 [00:03<00:01,  1.95s/it]"
     ]
    },
    {
     "name": "stdout",
     "output_type": "stream",
     "text": [
      "Load file /data/rajlab1/user_data/jin/MyResearch/HDF_infer/notebooks/simu_cmp2sinica/../../mypkg/../results/simu_setting5_400/all-valsel-metrics_c1_400.pkl\n"
     ]
    },
    {
     "name": "stderr",
     "output_type": "stream",
     "text": [
      "100%|████████████████████████████████████████████████████████████████████████████████████████████████████████████████████████████████████████████| 3/3 [00:05<00:00,  1.96s/it]\n"
     ]
    }
   ],
   "source": [
    "# then given N, find opt lam\n",
    "def _run_fn_fixN(seed, optN, all_cv_errs):\n",
    "    errs = []\n",
    "    for cur_lam in can_lams:\n",
    "        errs.append(_err_fn(all_cv_errs[(seed, optN, cur_lam)].cv_errs))\n",
    "    min_idx = _get_min_idx(errs);\n",
    "    return (seed, optN, can_lams[min_idx], errs[min_idx])\n",
    "\n",
    "optN = 6\n",
    "opt_lamss = dict()\n",
    "for c1 in tqdm(c1s):\n",
    "    cur_save_dir = RES_ROOT/f\"simu_{setting}_{c1*1000:.0f}\"\n",
    "    all_cv_errs = load_pkl(cur_save_dir/f\"all-valsel-metrics_c1_{c1*1000:.0f}.pkl\")\n",
    "    num_seed = len(np.unique(list(map(lambda x: x[0], all_cv_errs.keys()))))\n",
    "    opt_lams = [_run_fn_fixN(seed, optN, all_cv_errs) for seed in range(num_seed)]\n",
    "    opt_lamss[c1] = opt_lams"
   ]
  },
  {
   "cell_type": "raw",
   "id": "d9fccbdf-b1d2-4c1d-ae7f-b4fc502458e3",
   "metadata": {
    "execution": {
     "iopub.execute_input": "2023-10-21T23:16:13.054860Z",
     "iopub.status.busy": "2023-10-21T23:16:13.054199Z",
     "iopub.status.idle": "2023-10-21T23:16:13.147107Z",
     "shell.execute_reply": "2023-10-21T23:16:13.146287Z",
     "shell.execute_reply.started": "2023-10-21T23:16:13.054817Z"
    },
    "tags": []
   },
   "source": [
    "for k, v in opt_lamss.items():\n",
    "    v = np.array(v)[:, 1:3]\n",
    "    combos, cts = np.unique(v, axis=0, return_counts=1)\n",
    "    tres = np.concatenate([combos, cts.reshape(-1, 1)], axis=1)\n",
    "    display(pd.DataFrame(tres));"
   ]
  },
  {
   "cell_type": "code",
   "execution_count": 53,
   "id": "f59ef092-84d1-4e78-b292-4bac7d16a404",
   "metadata": {
    "execution": {
     "iopub.execute_input": "2023-10-26T17:12:11.802086Z",
     "iopub.status.busy": "2023-10-26T17:12:11.801422Z",
     "iopub.status.idle": "2023-10-26T17:12:39.791747Z",
     "shell.execute_reply": "2023-10-26T17:12:39.790746Z",
     "shell.execute_reply.started": "2023-10-26T17:12:11.802041Z"
    },
    "scrolled": true,
    "tags": []
   },
   "outputs": [
    {
     "name": "stderr",
     "output_type": "stream",
     "text": [
      "c1: 0: 100%|█████████████████████████████████████████████████████████████████████████████████████████████████████████████████████████████████| 200/200 [00:09<00:00, 21.42it/s]\n"
     ]
    },
    {
     "name": "stdout",
     "output_type": "stream",
     "text": [
      "Save to /data/rajlab1/user_data/jin/MyResearch/HDF_infer/notebooks/simu_cmp2sinica/../../mypkg/../results/simu_setting5_0/opt_lamNsfixN_c1_0_ress.pkl\n"
     ]
    },
    {
     "name": "stderr",
     "output_type": "stream",
     "text": [
      "c1: 200: 100%|███████████████████████████████████████████████████████████████████████████████████████████████████████████████████████████████| 200/200 [00:09<00:00, 21.91it/s]\n"
     ]
    },
    {
     "name": "stdout",
     "output_type": "stream",
     "text": [
      "Save to /data/rajlab1/user_data/jin/MyResearch/HDF_infer/notebooks/simu_cmp2sinica/../../mypkg/../results/simu_setting5_200/opt_lamNsfixN_c1_200_ress.pkl\n"
     ]
    },
    {
     "name": "stderr",
     "output_type": "stream",
     "text": [
      "c1: 400: 100%|███████████████████████████████████████████████████████████████████████████████████████████████████████████████████████████████| 200/200 [00:09<00:00, 21.41it/s]"
     ]
    },
    {
     "name": "stdout",
     "output_type": "stream",
     "text": [
      "Save to /data/rajlab1/user_data/jin/MyResearch/HDF_infer/notebooks/simu_cmp2sinica/../../mypkg/../results/simu_setting5_400/opt_lamNsfixN_c1_400_ress.pkl\n"
     ]
    },
    {
     "name": "stderr",
     "output_type": "stream",
     "text": [
      "\n"
     ]
    }
   ],
   "source": [
    "cans = [1e-5, 3e-6, 1e-6, 3e-7, 1e-7, 3e-8, 1e-8, 3e-9, 1e-9, 3e-10, 0]\n",
    "cans = [1e-5, 1e-6, 1e-7, 1e-8, 1e-9, 1e-10, 0]\n",
    "all_coms = [(can, can) for can in cans]\n",
    "#all_coms = list(itertools.product(cans, cans))\n",
    "for c1 in c1s:\n",
    "    cur_save_dir = RES_ROOT/f\"simu_{setting}_{c1*1000:.0f}\"\n",
    "    opt_lamNs =  opt_lamss[c1]\n",
    "    ress = []\n",
    "    for cur_seed, cur_N, cur_lam, _ in tqdm(opt_lamNs, desc=f\"c1: {c1*1000:.0f}\"):\n",
    "        f1_name = f\"seed_{cur_seed:.0f}-lam_{cur_lam*1000:.0f}-N_{cur_N:.0f}-c1_{c1*1000:.0f}_est.pkl\"\n",
    "        res1 = load_pkl(cur_save_dir/f1_name, verbose=False);\n",
    "        res = []\n",
    "        with Parallel(n_jobs=20) as parallel:\n",
    "            res = parallel(delayed(_test_fn1)(Cmat=Cmat, est_res=res1, \n",
    "                                             svdinv_eps_Q=rtols[0], \n",
    "                                             svdinv_eps_Psi=rtols[1]) for rtols\n",
    "                                             in all_coms)\n",
    "    \n",
    "        ress.append(res)\n",
    "    ress = np.array(ress);\n",
    "    save_pkl(cur_save_dir/f\"opt_lamNsfixN_c1_{c1*1000:.0f}_ress.pkl\", ress, is_force=1)"
   ]
  },
  {
   "cell_type": "code",
   "execution_count": null,
   "id": "faafd3f6-c6d4-4fc0-92b1-df0cce5f56d5",
   "metadata": {},
   "outputs": [],
   "source": []
  },
  {
   "cell_type": "markdown",
   "id": "eebcdc95-9745-4ca3-aa64-54b9dee57d1a",
   "metadata": {},
   "source": [
    "### Fix N and adaptive lam but 1se"
   ]
  },
  {
   "cell_type": "code",
   "execution_count": null,
   "id": "61c90327-1fa2-4e35-851b-9c71b0a4524c",
   "metadata": {},
   "outputs": [],
   "source": [
    "def _get_cv_se(cv_errs, num_fold):\n",
    "    \"\"\"Get CV SE to use the one standard error rule.\n",
    "        (from zotero://select/library/items/BPMP3MBP)\n",
    "    \"\"\"\n",
    "    cv_errs_mul = cv_errs.reshape(num_fold, -1);\n",
    "    sd = np.std(np.mean(cv_errs_mul**2, axis=-1))\n",
    "    se = sd/np.sqrt(num_fold)\n",
    "    return se"
   ]
  },
  {
   "cell_type": "code",
   "execution_count": 85,
   "id": "88c53f56-3290-429f-89a5-f675044f7977",
   "metadata": {
    "execution": {
     "iopub.execute_input": "2023-10-23T18:43:36.680150Z",
     "iopub.status.busy": "2023-10-23T18:43:36.679526Z",
     "iopub.status.idle": "2023-10-23T18:43:49.900399Z",
     "shell.execute_reply": "2023-10-23T18:43:49.899895Z",
     "shell.execute_reply.started": "2023-10-23T18:43:36.680101Z"
    },
    "tags": []
   },
   "outputs": [
    {
     "name": "stdout",
     "output_type": "stream",
     "text": [
      "Load file /data/rajlab1/user_data/jin/MyResearch/HDF_infer/notebooks/simu_cmp2sinica/../../mypkg/../results/simu_setting4d_0/all-valsel-metrics_c1_0.pkl\n"
     ]
    },
    {
     "name": "stderr",
     "output_type": "stream",
     "text": [
      "c1: 0.0: 100%|██████████████████████████████████████████████████████████████████████████████████████████████████████████████████████████████| 200/200 [00:00<00:00, 753.69it/s]\n"
     ]
    },
    {
     "name": "stdout",
     "output_type": "stream",
     "text": [
      "Load file /data/rajlab1/user_data/jin/MyResearch/HDF_infer/notebooks/simu_cmp2sinica/../../mypkg/../results/simu_setting4d_0/all-valsel-metrics_c1_0.pkl\n"
     ]
    },
    {
     "name": "stderr",
     "output_type": "stream",
     "text": [
      "c1: 0.0: 100%|██████████████████████████████████████████████████████████████████████████████████████████████████████████████████████████████| 200/200 [00:00<00:00, 626.02it/s]\n"
     ]
    },
    {
     "name": "stdout",
     "output_type": "stream",
     "text": [
      "Load file /data/rajlab1/user_data/jin/MyResearch/HDF_infer/notebooks/simu_cmp2sinica/../../mypkg/../results/simu_setting4d_200/all-valsel-metrics_c1_200.pkl\n"
     ]
    },
    {
     "name": "stderr",
     "output_type": "stream",
     "text": [
      "c1: 0.2: 100%|██████████████████████████████████████████████████████████████████████████████████████████████████████████████████████████████| 200/200 [00:00<00:00, 700.49it/s]\n"
     ]
    },
    {
     "name": "stdout",
     "output_type": "stream",
     "text": [
      "Load file /data/rajlab1/user_data/jin/MyResearch/HDF_infer/notebooks/simu_cmp2sinica/../../mypkg/../results/simu_setting4d_200/all-valsel-metrics_c1_200.pkl\n"
     ]
    },
    {
     "name": "stderr",
     "output_type": "stream",
     "text": [
      "c1: 0.2: 100%|██████████████████████████████████████████████████████████████████████████████████████████████████████████████████████████████| 200/200 [00:00<00:00, 631.33it/s]\n"
     ]
    },
    {
     "name": "stdout",
     "output_type": "stream",
     "text": [
      "Load file /data/rajlab1/user_data/jin/MyResearch/HDF_infer/notebooks/simu_cmp2sinica/../../mypkg/../results/simu_setting4d_400/all-valsel-metrics_c1_400.pkl\n"
     ]
    },
    {
     "name": "stderr",
     "output_type": "stream",
     "text": [
      "c1: 0.4: 100%|██████████████████████████████████████████████████████████████████████████████████████████████████████████████████████████████| 200/200 [00:00<00:00, 705.06it/s]\n"
     ]
    },
    {
     "name": "stdout",
     "output_type": "stream",
     "text": [
      "Load file /data/rajlab1/user_data/jin/MyResearch/HDF_infer/notebooks/simu_cmp2sinica/../../mypkg/../results/simu_setting4d_400/all-valsel-metrics_c1_400.pkl\n"
     ]
    },
    {
     "name": "stderr",
     "output_type": "stream",
     "text": [
      "c1: 0.4: 100%|██████████████████████████████████████████████████████████████████████████████████████████████████████████████████████████████| 200/200 [00:00<00:00, 624.47it/s]\n"
     ]
    }
   ],
   "source": [
    "optN = 6\n",
    "c1 = 0\n",
    "optlamss_1se = {}\n",
    "for c1 in c1s:\n",
    "    def _run_fn1(seed, all_cv_errs):\n",
    "        errs_mat = []\n",
    "        for cur_N in can_Ns:\n",
    "            errs = []\n",
    "            for cur_lam in can_lams:\n",
    "                #errs.append(all_cv_errs[(seed, cur_N, cur_lam)].BIC)\n",
    "                errs.append(_err_fn(all_cv_errs[(seed, cur_N, cur_lam)].cv_errs))\n",
    "            errs_mat.append(errs)\n",
    "        errs_mat = np.array(errs_mat)\n",
    "        return errs_mat\n",
    "    cur_save_dir = RES_ROOT/f\"simu_{setting}_{c1*1000:.0f}\"\n",
    "    all_cv_errs = load_pkl(cur_save_dir/f\"all-valsel-metrics_c1_{c1*1000:.0f}.pkl\")\n",
    "    num_seed = len(np.unique(list(map(lambda x: x[0], all_cv_errs.keys()))))\n",
    "    # do not make n_jobs>1, it is very slow\n",
    "    with Parallel(n_jobs=1) as parallel:\n",
    "        err_ten = parallel(delayed(_run_fn1)(cur_seed, all_cv_errs)  \n",
    "                                 for cur_seed in tqdm(range(num_seed), total=num_seed, desc=f\"c1: {c1}\"))\n",
    "    def _run_fn2(seed, all_cv_errs):\n",
    "        errs_mat = []\n",
    "        for cur_N in can_Ns:\n",
    "            errs = []\n",
    "            for cur_lam in can_lams:\n",
    "                #errs.append(all_cv_errs[(seed, cur_N, cur_lam)].BIC)\n",
    "                errs.append(_get_cv_se(all_cv_errs[(seed, cur_N, cur_lam)].cv_errs, num_fold=20))\n",
    "            errs_mat.append(errs)\n",
    "        errs_mat = np.array(errs_mat)\n",
    "        return errs_mat\n",
    "    cur_save_dir = RES_ROOT/f\"simu_{setting}_{c1*1000:.0f}\"\n",
    "    all_cv_errs = load_pkl(cur_save_dir/f\"all-valsel-metrics_c1_{c1*1000:.0f}.pkl\")\n",
    "    num_seed = len(np.unique(list(map(lambda x: x[0], all_cv_errs.keys()))))\n",
    "    # do not make n_jobs>1, it is very slow\n",
    "    with Parallel(n_jobs=1) as parallel:\n",
    "        err_se_ten = parallel(delayed(_run_fn2)(cur_seed, all_cv_errs)  \n",
    "                                 for cur_seed in tqdm(range(num_seed), total=num_seed, desc=f\"c1: {c1}\"))\n",
    "    err_ten = np.array(err_ten);\n",
    "    err_se_ten = np.array(err_se_ten);\n",
    "    \n",
    "    err_ten_optN = err_ten[:, can_Ns.index(optN)]\n",
    "    err_se_ten_optN = err_se_ten[:, can_Ns.index(optN)];\n",
    "    optlams_1se = []\n",
    "    for cur_seed in range(num_rep):\n",
    "        min_idx_lam = _get_min_idx(err_ten_optN[cur_seed])\n",
    "        upbd = err_ten_optN[cur_seed, min_idx_lam] + err_se_ten_optN[cur_seed, min_idx_lam]\n",
    "        min1se_idx_lam = np.max(np.where(err_ten_optN[cur_seed]<=upbd)[0])\n",
    "        optlams_1se.append((cur_seed, optN, can_lams[min1se_idx_lam]))\n",
    "    optlamss_1se[c1] = optlams_1se"
   ]
  },
  {
   "cell_type": "code",
   "execution_count": 87,
   "id": "5013f70d-a458-4504-88b7-5eef2f6d0620",
   "metadata": {
    "execution": {
     "iopub.execute_input": "2023-10-23T18:44:25.598811Z",
     "iopub.status.busy": "2023-10-23T18:44:25.598046Z",
     "iopub.status.idle": "2023-10-23T18:45:17.109626Z",
     "shell.execute_reply": "2023-10-23T18:45:17.108211Z",
     "shell.execute_reply.started": "2023-10-23T18:44:25.598752Z"
    },
    "tags": []
   },
   "outputs": [
    {
     "name": "stderr",
     "output_type": "stream",
     "text": [
      "c1: 0: 100%|█████████████████████████████████████████████████████████████████████████████████████████████████████████████████████████████████| 200/200 [00:19<00:00, 10.25it/s]\n"
     ]
    },
    {
     "name": "stdout",
     "output_type": "stream",
     "text": [
      "Save to /data/rajlab1/user_data/jin/MyResearch/HDF_infer/notebooks/simu_cmp2sinica/../../mypkg/../results/simu_setting4d_0/opt_lamNsfixN1se_c1_0_ress.pkl\n"
     ]
    },
    {
     "name": "stderr",
     "output_type": "stream",
     "text": [
      "c1: 200: 100%|███████████████████████████████████████████████████████████████████████████████████████████████████████████████████████████████| 200/200 [00:16<00:00, 11.91it/s]\n"
     ]
    },
    {
     "name": "stdout",
     "output_type": "stream",
     "text": [
      "Save to /data/rajlab1/user_data/jin/MyResearch/HDF_infer/notebooks/simu_cmp2sinica/../../mypkg/../results/simu_setting4d_200/opt_lamNsfixN1se_c1_200_ress.pkl\n"
     ]
    },
    {
     "name": "stderr",
     "output_type": "stream",
     "text": [
      "c1: 400: 100%|███████████████████████████████████████████████████████████████████████████████████████████████████████████████████████████████| 200/200 [00:14<00:00, 13.51it/s]\n"
     ]
    },
    {
     "name": "stdout",
     "output_type": "stream",
     "text": [
      "Save to /data/rajlab1/user_data/jin/MyResearch/HDF_infer/notebooks/simu_cmp2sinica/../../mypkg/../results/simu_setting4d_400/opt_lamNsfixN1se_c1_400_ress.pkl\n"
     ]
    }
   ],
   "source": [
    "# for adaptive lam N\n",
    "cans = [1e-5, 3e-6, 1e-6, 3e-7, 1e-7, 3e-8, 1e-8, 3e-9, 1e-9, 3e-10, 0]\n",
    "all_coms = [(can, can) for can in cans]\n",
    "#all_coms = list(itertools.product(cans, cans))\n",
    "for c1 in c1s:\n",
    "    cur_save_dir = RES_ROOT/f\"simu_{setting}_{c1*1000:.0f}\"\n",
    "    optlams_1se =  optlamss_1se[c1]\n",
    "    ress = []\n",
    "    for cur_seed, cur_N, cur_lam in tqdm(optlams_1se, desc=f\"c1: {c1*1000:.0f}\"):\n",
    "        f1_name = f\"seed_{cur_seed:.0f}-lam_{cur_lam*1000:.0f}-N_{cur_N:.0f}-c1_{c1*1000:.0f}_est.pkl\"\n",
    "        res1 = load_pkl(cur_save_dir/f1_name, verbose=False);\n",
    "        res = []\n",
    "        with Parallel(n_jobs=20) as parallel:\n",
    "            res = parallel(delayed(_test_fn1)(Cmat=Cmat, est_res=res1, \n",
    "                                             svdinv_eps_Q=rtols[0], \n",
    "                                             svdinv_eps_Psi=rtols[1]) for rtols\n",
    "                                             in all_coms)\n",
    "    \n",
    "        ress.append(res)\n",
    "    ress = np.array(ress);\n",
    "    save_pkl(cur_save_dir/f\"opt_lamNsfixN1se_c1_{c1*1000:.0f}_ress.pkl\", ress, is_force=1)"
   ]
  },
  {
   "cell_type": "code",
   "execution_count": null,
   "id": "8e55dfd1-c6b8-45bb-afcb-4f6151c42239",
   "metadata": {},
   "outputs": [],
   "source": []
  },
  {
   "cell_type": "markdown",
   "id": "cdbb86ff-b4df-4fd5-95b5-35ebb0d6bd12",
   "metadata": {},
   "source": [
    "### Adaptive N and lam"
   ]
  },
  {
   "cell_type": "code",
   "execution_count": 25,
   "id": "b54f2daa-da4e-43a5-9fbd-6615fa32465e",
   "metadata": {
    "execution": {
     "iopub.execute_input": "2023-10-22T04:06:28.462670Z",
     "iopub.status.busy": "2023-10-22T04:06:28.462015Z",
     "iopub.status.idle": "2023-10-22T04:06:35.211589Z",
     "shell.execute_reply": "2023-10-22T04:06:35.211089Z",
     "shell.execute_reply.started": "2023-10-22T04:06:28.462626Z"
    },
    "tags": []
   },
   "outputs": [
    {
     "name": "stdout",
     "output_type": "stream",
     "text": [
      "Load file /data/rajlab1/user_data/jin/MyResearch/HDF_infer/notebooks/simu_cmp2sinica/../../mypkg/../results/simu_setting4d_0/all-valsel-metrics_c1_0.pkl\n"
     ]
    },
    {
     "name": "stderr",
     "output_type": "stream",
     "text": [
      "c1: 0.0: 100%|██████████████████████████████████████████████████████████████████████████████████████████████████████████████████████████████| 200/200 [00:00<00:00, 718.01it/s]\n"
     ]
    },
    {
     "name": "stdout",
     "output_type": "stream",
     "text": [
      "Load file /data/rajlab1/user_data/jin/MyResearch/HDF_infer/notebooks/simu_cmp2sinica/../../mypkg/../results/simu_setting4d_200/all-valsel-metrics_c1_200.pkl\n"
     ]
    },
    {
     "name": "stderr",
     "output_type": "stream",
     "text": [
      "c1: 0.2: 100%|██████████████████████████████████████████████████████████████████████████████████████████████████████████████████████████████| 200/200 [00:00<00:00, 724.88it/s]\n"
     ]
    },
    {
     "name": "stdout",
     "output_type": "stream",
     "text": [
      "Load file /data/rajlab1/user_data/jin/MyResearch/HDF_infer/notebooks/simu_cmp2sinica/../../mypkg/../results/simu_setting4d_400/all-valsel-metrics_c1_400.pkl\n"
     ]
    },
    {
     "name": "stderr",
     "output_type": "stream",
     "text": [
      "c1: 0.4: 100%|██████████████████████████████████████████████████████████████████████████████████████████████████████████████████████████████| 200/200 [00:00<00:00, 711.01it/s]\n"
     ]
    }
   ],
   "source": [
    "def _run_fn(seed, all_cv_errs):\n",
    "    errs_N = []\n",
    "    for cur_N in can_Ns:\n",
    "        errs = []\n",
    "        for cur_lam in can_lams:\n",
    "            #errs.append(_err_fn(all_cv_errs[(seed, cur_N, cur_lam)].GCV))\n",
    "            errs.append(_err_fn(all_cv_errs[(seed, cur_N, cur_lam)].cv_errs))\n",
    "        min_idx = _get_min_idx(errs);\n",
    "        errs_N.append((seed, cur_N, can_lams[min_idx], errs[min_idx]))\n",
    "    errs_N_sorted = sorted(errs_N, key=lambda x:x[-1]);\n",
    "    return errs_N_sorted[0]\n",
    "\n",
    "opt_lamNss = dict()\n",
    "for c1 in c1s:\n",
    "    cur_save_dir = RES_ROOT/f\"simu_{setting}_{c1*1000:.0f}\"\n",
    "    all_cv_errs = load_pkl(cur_save_dir/f\"all-valsel-metrics_c1_{c1*1000:.0f}.pkl\")\n",
    "    num_seed = len(np.unique(list(map(lambda x: x[0], all_cv_errs.keys()))))\n",
    "    # do not make n_jobs>1, it is very slow\n",
    "    with Parallel(n_jobs=1) as parallel:\n",
    "        opt_lamNs = parallel(delayed(_run_fn)(cur_seed, all_cv_errs)  \n",
    "                             for cur_seed in tqdm(range(num_seed), total=num_seed, desc=f\"c1: {c1}\"))\n",
    "    opt_lamNss[c1] = opt_lamNs"
   ]
  },
  {
   "cell_type": "code",
   "execution_count": 26,
   "id": "72469e51-ecd0-45b6-8ae5-bfa4b1f5a4cc",
   "metadata": {
    "execution": {
     "iopub.execute_input": "2023-10-22T04:06:37.932311Z",
     "iopub.status.busy": "2023-10-22T04:06:37.931648Z",
     "iopub.status.idle": "2023-10-22T04:07:13.016671Z",
     "shell.execute_reply": "2023-10-22T04:07:13.016099Z",
     "shell.execute_reply.started": "2023-10-22T04:06:37.932267Z"
    },
    "scrolled": true,
    "tags": []
   },
   "outputs": [
    {
     "name": "stderr",
     "output_type": "stream",
     "text": [
      "c1: 0: 100%|█████████████████████████████████████████████████████████████████████████████████████████████████████████████████████████████████| 200/200 [00:11<00:00, 16.93it/s]\n"
     ]
    },
    {
     "name": "stdout",
     "output_type": "stream",
     "text": [
      "Save to /data/rajlab1/user_data/jin/MyResearch/HDF_infer/notebooks/simu_cmp2sinica/../../mypkg/../results/simu_setting4d_0/opt_lamNs_c1_0_ress.pkl\n"
     ]
    },
    {
     "name": "stderr",
     "output_type": "stream",
     "text": [
      "c1: 200: 100%|███████████████████████████████████████████████████████████████████████████████████████████████████████████████████████████████| 200/200 [00:11<00:00, 17.10it/s]\n"
     ]
    },
    {
     "name": "stdout",
     "output_type": "stream",
     "text": [
      "Save to /data/rajlab1/user_data/jin/MyResearch/HDF_infer/notebooks/simu_cmp2sinica/../../mypkg/../results/simu_setting4d_200/opt_lamNs_c1_200_ress.pkl\n"
     ]
    },
    {
     "name": "stderr",
     "output_type": "stream",
     "text": [
      "c1: 400: 100%|███████████████████████████████████████████████████████████████████████████████████████████████████████████████████████████████| 200/200 [00:11<00:00, 17.93it/s]\n"
     ]
    },
    {
     "name": "stdout",
     "output_type": "stream",
     "text": [
      "Save to /data/rajlab1/user_data/jin/MyResearch/HDF_infer/notebooks/simu_cmp2sinica/../../mypkg/../results/simu_setting4d_400/opt_lamNs_c1_400_ress.pkl\n"
     ]
    }
   ],
   "source": [
    "# for adaptive lam N\n",
    "cans = [1e-5, 3e-6, 1e-6, 3e-7, 1e-7, 3e-8, 1e-8, 3e-9, 1e-9, 3e-10, 0]\n",
    "all_coms = [(can, can) for can in cans]\n",
    "#all_coms = list(itertools.product(cans, cans))\n",
    "for c1 in c1s:\n",
    "    cur_save_dir = RES_ROOT/f\"simu_{setting}_{c1*1000:.0f}\"\n",
    "    opt_lamNs =  opt_lamNss[c1]\n",
    "    ress = []\n",
    "    for cur_seed, cur_N, cur_lam, _ in tqdm(opt_lamNs, desc=f\"c1: {c1*1000:.0f}\"):\n",
    "        f1_name = f\"seed_{cur_seed:.0f}-lam_{cur_lam*1000:.0f}-N_{cur_N:.0f}-c1_{c1*1000:.0f}_est.pkl\"\n",
    "        res1 = load_pkl(cur_save_dir/f1_name, verbose=False);\n",
    "        res = []\n",
    "        with Parallel(n_jobs=20) as parallel:\n",
    "            res = parallel(delayed(_test_fn1)(Cmat=Cmat, est_res=res1, \n",
    "                                             svdinv_eps_Q=rtols[0], \n",
    "                                             svdinv_eps_Psi=rtols[1]) for rtols\n",
    "                                             in all_coms)\n",
    "    \n",
    "        ress.append(res)\n",
    "    ress = np.array(ress);\n",
    "    save_pkl(cur_save_dir/f\"opt_lamNs_c1_{c1*1000:.0f}_ress.pkl\", ress, is_force=1)"
   ]
  },
  {
   "cell_type": "code",
   "execution_count": 45,
   "id": "0eec1aec-5497-42c4-b829-a32cee581e54",
   "metadata": {
    "execution": {
     "iopub.execute_input": "2023-10-21T22:17:48.263439Z",
     "iopub.status.busy": "2023-10-21T22:17:48.262794Z",
     "iopub.status.idle": "2023-10-21T22:17:48.317695Z",
     "shell.execute_reply": "2023-10-21T22:17:48.317220Z",
     "shell.execute_reply.started": "2023-10-21T22:17:48.263395Z"
    },
    "scrolled": true,
    "tags": []
   },
   "outputs": [
    {
     "data": {
      "text/html": [
       "<div>\n",
       "<style scoped>\n",
       "    .dataframe tbody tr th:only-of-type {\n",
       "        vertical-align: middle;\n",
       "    }\n",
       "\n",
       "    .dataframe tbody tr th {\n",
       "        vertical-align: top;\n",
       "    }\n",
       "\n",
       "    .dataframe thead th {\n",
       "        text-align: right;\n",
       "    }\n",
       "</style>\n",
       "<table border=\"1\" class=\"dataframe\">\n",
       "  <thead>\n",
       "    <tr style=\"text-align: right;\">\n",
       "      <th></th>\n",
       "      <th>0</th>\n",
       "      <th>1</th>\n",
       "      <th>2</th>\n",
       "    </tr>\n",
       "  </thead>\n",
       "  <tbody>\n",
       "    <tr>\n",
       "      <th>0</th>\n",
       "      <td>4.0</td>\n",
       "      <td>0.30</td>\n",
       "      <td>6.0</td>\n",
       "    </tr>\n",
       "    <tr>\n",
       "      <th>1</th>\n",
       "      <td>4.0</td>\n",
       "      <td>0.45</td>\n",
       "      <td>6.0</td>\n",
       "    </tr>\n",
       "    <tr>\n",
       "      <th>2</th>\n",
       "      <td>4.0</td>\n",
       "      <td>0.55</td>\n",
       "      <td>1.0</td>\n",
       "    </tr>\n",
       "    <tr>\n",
       "      <th>3</th>\n",
       "      <td>4.0</td>\n",
       "      <td>16.00</td>\n",
       "      <td>1.0</td>\n",
       "    </tr>\n",
       "    <tr>\n",
       "      <th>4</th>\n",
       "      <td>6.0</td>\n",
       "      <td>0.30</td>\n",
       "      <td>39.0</td>\n",
       "    </tr>\n",
       "    <tr>\n",
       "      <th>5</th>\n",
       "      <td>6.0</td>\n",
       "      <td>0.45</td>\n",
       "      <td>45.0</td>\n",
       "    </tr>\n",
       "    <tr>\n",
       "      <th>6</th>\n",
       "      <td>6.0</td>\n",
       "      <td>0.50</td>\n",
       "      <td>19.0</td>\n",
       "    </tr>\n",
       "    <tr>\n",
       "      <th>7</th>\n",
       "      <td>6.0</td>\n",
       "      <td>0.55</td>\n",
       "      <td>20.0</td>\n",
       "    </tr>\n",
       "    <tr>\n",
       "      <th>8</th>\n",
       "      <td>6.0</td>\n",
       "      <td>0.60</td>\n",
       "      <td>7.0</td>\n",
       "    </tr>\n",
       "    <tr>\n",
       "      <th>9</th>\n",
       "      <td>6.0</td>\n",
       "      <td>0.70</td>\n",
       "      <td>1.0</td>\n",
       "    </tr>\n",
       "    <tr>\n",
       "      <th>10</th>\n",
       "      <td>6.0</td>\n",
       "      <td>1.00</td>\n",
       "      <td>1.0</td>\n",
       "    </tr>\n",
       "    <tr>\n",
       "      <th>11</th>\n",
       "      <td>6.0</td>\n",
       "      <td>16.00</td>\n",
       "      <td>1.0</td>\n",
       "    </tr>\n",
       "    <tr>\n",
       "      <th>12</th>\n",
       "      <td>8.0</td>\n",
       "      <td>0.10</td>\n",
       "      <td>3.0</td>\n",
       "    </tr>\n",
       "    <tr>\n",
       "      <th>13</th>\n",
       "      <td>8.0</td>\n",
       "      <td>0.30</td>\n",
       "      <td>13.0</td>\n",
       "    </tr>\n",
       "    <tr>\n",
       "      <th>14</th>\n",
       "      <td>8.0</td>\n",
       "      <td>0.45</td>\n",
       "      <td>10.0</td>\n",
       "    </tr>\n",
       "    <tr>\n",
       "      <th>15</th>\n",
       "      <td>8.0</td>\n",
       "      <td>0.50</td>\n",
       "      <td>7.0</td>\n",
       "    </tr>\n",
       "    <tr>\n",
       "      <th>16</th>\n",
       "      <td>8.0</td>\n",
       "      <td>0.55</td>\n",
       "      <td>7.0</td>\n",
       "    </tr>\n",
       "    <tr>\n",
       "      <th>17</th>\n",
       "      <td>8.0</td>\n",
       "      <td>0.60</td>\n",
       "      <td>5.0</td>\n",
       "    </tr>\n",
       "    <tr>\n",
       "      <th>18</th>\n",
       "      <td>8.0</td>\n",
       "      <td>0.70</td>\n",
       "      <td>6.0</td>\n",
       "    </tr>\n",
       "    <tr>\n",
       "      <th>19</th>\n",
       "      <td>8.0</td>\n",
       "      <td>16.00</td>\n",
       "      <td>2.0</td>\n",
       "    </tr>\n",
       "  </tbody>\n",
       "</table>\n",
       "</div>"
      ],
      "text/plain": [
       "      0      1     2\n",
       "0   4.0   0.30   6.0\n",
       "1   4.0   0.45   6.0\n",
       "2   4.0   0.55   1.0\n",
       "3   4.0  16.00   1.0\n",
       "4   6.0   0.30  39.0\n",
       "5   6.0   0.45  45.0\n",
       "6   6.0   0.50  19.0\n",
       "7   6.0   0.55  20.0\n",
       "8   6.0   0.60   7.0\n",
       "9   6.0   0.70   1.0\n",
       "10  6.0   1.00   1.0\n",
       "11  6.0  16.00   1.0\n",
       "12  8.0   0.10   3.0\n",
       "13  8.0   0.30  13.0\n",
       "14  8.0   0.45  10.0\n",
       "15  8.0   0.50   7.0\n",
       "16  8.0   0.55   7.0\n",
       "17  8.0   0.60   5.0\n",
       "18  8.0   0.70   6.0\n",
       "19  8.0  16.00   2.0"
      ]
     },
     "metadata": {},
     "output_type": "display_data"
    },
    {
     "data": {
      "text/html": [
       "<div>\n",
       "<style scoped>\n",
       "    .dataframe tbody tr th:only-of-type {\n",
       "        vertical-align: middle;\n",
       "    }\n",
       "\n",
       "    .dataframe tbody tr th {\n",
       "        vertical-align: top;\n",
       "    }\n",
       "\n",
       "    .dataframe thead th {\n",
       "        text-align: right;\n",
       "    }\n",
       "</style>\n",
       "<table border=\"1\" class=\"dataframe\">\n",
       "  <thead>\n",
       "    <tr style=\"text-align: right;\">\n",
       "      <th></th>\n",
       "      <th>0</th>\n",
       "      <th>1</th>\n",
       "      <th>2</th>\n",
       "    </tr>\n",
       "  </thead>\n",
       "  <tbody>\n",
       "    <tr>\n",
       "      <th>0</th>\n",
       "      <td>4.0</td>\n",
       "      <td>0.30</td>\n",
       "      <td>7.0</td>\n",
       "    </tr>\n",
       "    <tr>\n",
       "      <th>1</th>\n",
       "      <td>4.0</td>\n",
       "      <td>0.45</td>\n",
       "      <td>2.0</td>\n",
       "    </tr>\n",
       "    <tr>\n",
       "      <th>2</th>\n",
       "      <td>6.0</td>\n",
       "      <td>0.10</td>\n",
       "      <td>1.0</td>\n",
       "    </tr>\n",
       "    <tr>\n",
       "      <th>3</th>\n",
       "      <td>6.0</td>\n",
       "      <td>0.30</td>\n",
       "      <td>44.0</td>\n",
       "    </tr>\n",
       "    <tr>\n",
       "      <th>4</th>\n",
       "      <td>6.0</td>\n",
       "      <td>0.45</td>\n",
       "      <td>47.0</td>\n",
       "    </tr>\n",
       "    <tr>\n",
       "      <th>5</th>\n",
       "      <td>6.0</td>\n",
       "      <td>0.50</td>\n",
       "      <td>16.0</td>\n",
       "    </tr>\n",
       "    <tr>\n",
       "      <th>6</th>\n",
       "      <td>6.0</td>\n",
       "      <td>0.55</td>\n",
       "      <td>18.0</td>\n",
       "    </tr>\n",
       "    <tr>\n",
       "      <th>7</th>\n",
       "      <td>6.0</td>\n",
       "      <td>0.60</td>\n",
       "      <td>10.0</td>\n",
       "    </tr>\n",
       "    <tr>\n",
       "      <th>8</th>\n",
       "      <td>6.0</td>\n",
       "      <td>0.70</td>\n",
       "      <td>1.0</td>\n",
       "    </tr>\n",
       "    <tr>\n",
       "      <th>9</th>\n",
       "      <td>6.0</td>\n",
       "      <td>1.00</td>\n",
       "      <td>1.0</td>\n",
       "    </tr>\n",
       "    <tr>\n",
       "      <th>10</th>\n",
       "      <td>6.0</td>\n",
       "      <td>16.00</td>\n",
       "      <td>2.0</td>\n",
       "    </tr>\n",
       "    <tr>\n",
       "      <th>11</th>\n",
       "      <td>8.0</td>\n",
       "      <td>0.10</td>\n",
       "      <td>2.0</td>\n",
       "    </tr>\n",
       "    <tr>\n",
       "      <th>12</th>\n",
       "      <td>8.0</td>\n",
       "      <td>0.30</td>\n",
       "      <td>12.0</td>\n",
       "    </tr>\n",
       "    <tr>\n",
       "      <th>13</th>\n",
       "      <td>8.0</td>\n",
       "      <td>0.45</td>\n",
       "      <td>10.0</td>\n",
       "    </tr>\n",
       "    <tr>\n",
       "      <th>14</th>\n",
       "      <td>8.0</td>\n",
       "      <td>0.50</td>\n",
       "      <td>8.0</td>\n",
       "    </tr>\n",
       "    <tr>\n",
       "      <th>15</th>\n",
       "      <td>8.0</td>\n",
       "      <td>0.55</td>\n",
       "      <td>6.0</td>\n",
       "    </tr>\n",
       "    <tr>\n",
       "      <th>16</th>\n",
       "      <td>8.0</td>\n",
       "      <td>0.60</td>\n",
       "      <td>5.0</td>\n",
       "    </tr>\n",
       "    <tr>\n",
       "      <th>17</th>\n",
       "      <td>8.0</td>\n",
       "      <td>0.70</td>\n",
       "      <td>7.0</td>\n",
       "    </tr>\n",
       "    <tr>\n",
       "      <th>18</th>\n",
       "      <td>8.0</td>\n",
       "      <td>16.00</td>\n",
       "      <td>1.0</td>\n",
       "    </tr>\n",
       "  </tbody>\n",
       "</table>\n",
       "</div>"
      ],
      "text/plain": [
       "      0      1     2\n",
       "0   4.0   0.30   7.0\n",
       "1   4.0   0.45   2.0\n",
       "2   6.0   0.10   1.0\n",
       "3   6.0   0.30  44.0\n",
       "4   6.0   0.45  47.0\n",
       "5   6.0   0.50  16.0\n",
       "6   6.0   0.55  18.0\n",
       "7   6.0   0.60  10.0\n",
       "8   6.0   0.70   1.0\n",
       "9   6.0   1.00   1.0\n",
       "10  6.0  16.00   2.0\n",
       "11  8.0   0.10   2.0\n",
       "12  8.0   0.30  12.0\n",
       "13  8.0   0.45  10.0\n",
       "14  8.0   0.50   8.0\n",
       "15  8.0   0.55   6.0\n",
       "16  8.0   0.60   5.0\n",
       "17  8.0   0.70   7.0\n",
       "18  8.0  16.00   1.0"
      ]
     },
     "metadata": {},
     "output_type": "display_data"
    },
    {
     "data": {
      "text/html": [
       "<div>\n",
       "<style scoped>\n",
       "    .dataframe tbody tr th:only-of-type {\n",
       "        vertical-align: middle;\n",
       "    }\n",
       "\n",
       "    .dataframe tbody tr th {\n",
       "        vertical-align: top;\n",
       "    }\n",
       "\n",
       "    .dataframe thead th {\n",
       "        text-align: right;\n",
       "    }\n",
       "</style>\n",
       "<table border=\"1\" class=\"dataframe\">\n",
       "  <thead>\n",
       "    <tr style=\"text-align: right;\">\n",
       "      <th></th>\n",
       "      <th>0</th>\n",
       "      <th>1</th>\n",
       "      <th>2</th>\n",
       "    </tr>\n",
       "  </thead>\n",
       "  <tbody>\n",
       "    <tr>\n",
       "      <th>0</th>\n",
       "      <td>4.0</td>\n",
       "      <td>0.30</td>\n",
       "      <td>5.0</td>\n",
       "    </tr>\n",
       "    <tr>\n",
       "      <th>1</th>\n",
       "      <td>4.0</td>\n",
       "      <td>0.45</td>\n",
       "      <td>1.0</td>\n",
       "    </tr>\n",
       "    <tr>\n",
       "      <th>2</th>\n",
       "      <td>6.0</td>\n",
       "      <td>0.30</td>\n",
       "      <td>47.0</td>\n",
       "    </tr>\n",
       "    <tr>\n",
       "      <th>3</th>\n",
       "      <td>6.0</td>\n",
       "      <td>0.45</td>\n",
       "      <td>44.0</td>\n",
       "    </tr>\n",
       "    <tr>\n",
       "      <th>4</th>\n",
       "      <td>6.0</td>\n",
       "      <td>0.50</td>\n",
       "      <td>16.0</td>\n",
       "    </tr>\n",
       "    <tr>\n",
       "      <th>5</th>\n",
       "      <td>6.0</td>\n",
       "      <td>0.55</td>\n",
       "      <td>15.0</td>\n",
       "    </tr>\n",
       "    <tr>\n",
       "      <th>6</th>\n",
       "      <td>6.0</td>\n",
       "      <td>0.60</td>\n",
       "      <td>12.0</td>\n",
       "    </tr>\n",
       "    <tr>\n",
       "      <th>7</th>\n",
       "      <td>6.0</td>\n",
       "      <td>0.70</td>\n",
       "      <td>1.0</td>\n",
       "    </tr>\n",
       "    <tr>\n",
       "      <th>8</th>\n",
       "      <td>6.0</td>\n",
       "      <td>1.00</td>\n",
       "      <td>1.0</td>\n",
       "    </tr>\n",
       "    <tr>\n",
       "      <th>9</th>\n",
       "      <td>6.0</td>\n",
       "      <td>16.00</td>\n",
       "      <td>2.0</td>\n",
       "    </tr>\n",
       "    <tr>\n",
       "      <th>10</th>\n",
       "      <td>8.0</td>\n",
       "      <td>0.10</td>\n",
       "      <td>1.0</td>\n",
       "    </tr>\n",
       "    <tr>\n",
       "      <th>11</th>\n",
       "      <td>8.0</td>\n",
       "      <td>0.30</td>\n",
       "      <td>17.0</td>\n",
       "    </tr>\n",
       "    <tr>\n",
       "      <th>12</th>\n",
       "      <td>8.0</td>\n",
       "      <td>0.45</td>\n",
       "      <td>10.0</td>\n",
       "    </tr>\n",
       "    <tr>\n",
       "      <th>13</th>\n",
       "      <td>8.0</td>\n",
       "      <td>0.50</td>\n",
       "      <td>7.0</td>\n",
       "    </tr>\n",
       "    <tr>\n",
       "      <th>14</th>\n",
       "      <td>8.0</td>\n",
       "      <td>0.55</td>\n",
       "      <td>8.0</td>\n",
       "    </tr>\n",
       "    <tr>\n",
       "      <th>15</th>\n",
       "      <td>8.0</td>\n",
       "      <td>0.60</td>\n",
       "      <td>8.0</td>\n",
       "    </tr>\n",
       "    <tr>\n",
       "      <th>16</th>\n",
       "      <td>8.0</td>\n",
       "      <td>0.70</td>\n",
       "      <td>4.0</td>\n",
       "    </tr>\n",
       "    <tr>\n",
       "      <th>17</th>\n",
       "      <td>8.0</td>\n",
       "      <td>16.00</td>\n",
       "      <td>1.0</td>\n",
       "    </tr>\n",
       "  </tbody>\n",
       "</table>\n",
       "</div>"
      ],
      "text/plain": [
       "      0      1     2\n",
       "0   4.0   0.30   5.0\n",
       "1   4.0   0.45   1.0\n",
       "2   6.0   0.30  47.0\n",
       "3   6.0   0.45  44.0\n",
       "4   6.0   0.50  16.0\n",
       "5   6.0   0.55  15.0\n",
       "6   6.0   0.60  12.0\n",
       "7   6.0   0.70   1.0\n",
       "8   6.0   1.00   1.0\n",
       "9   6.0  16.00   2.0\n",
       "10  8.0   0.10   1.0\n",
       "11  8.0   0.30  17.0\n",
       "12  8.0   0.45  10.0\n",
       "13  8.0   0.50   7.0\n",
       "14  8.0   0.55   8.0\n",
       "15  8.0   0.60   8.0\n",
       "16  8.0   0.70   4.0\n",
       "17  8.0  16.00   1.0"
      ]
     },
     "metadata": {},
     "output_type": "display_data"
    }
   ],
   "source": [
    "for k, v in opt_lamNss.items():\n",
    "    v = np.array(v)[:, 1:3]\n",
    "    combos, cts = np.unique(v, axis=0, return_counts=1)\n",
    "    tres = np.concatenate([combos, cts.reshape(-1, 1)], axis=1)\n",
    "    display(pd.DataFrame(tres));"
   ]
  },
  {
   "cell_type": "markdown",
   "id": "1ce33507-b240-4b72-84b2-d90e1df42822",
   "metadata": {},
   "source": [
    "### Fixed N and fixed lam"
   ]
  },
  {
   "cell_type": "code",
   "execution_count": 16,
   "id": "dfd6d7e4-4870-453b-a7e9-f342802ede3b",
   "metadata": {
    "execution": {
     "iopub.execute_input": "2023-10-27T20:21:24.544275Z",
     "iopub.status.busy": "2023-10-27T20:21:24.543678Z",
     "iopub.status.idle": "2023-10-27T20:21:30.904031Z",
     "shell.execute_reply": "2023-10-27T20:21:30.903546Z",
     "shell.execute_reply.started": "2023-10-27T20:21:24.544230Z"
    },
    "tags": []
   },
   "outputs": [
    {
     "name": "stdout",
     "output_type": "stream",
     "text": [
      "Load file /data/rajlab1/user_data/jin/MyResearch/HDF_infer/notebooks/simu_cmp2sinica/../../mypkg/../results/simu_setting6a_0/all-valsel-metrics_c1_0.pkl\n"
     ]
    },
    {
     "name": "stderr",
     "output_type": "stream",
     "text": [
      "c1: 0.0: 100%|██████████████████████████████████████████████████████████████████████████████████████████████████████████████████████████████| 200/200 [00:00<00:00, 762.44it/s]\n"
     ]
    },
    {
     "name": "stdout",
     "output_type": "stream",
     "text": [
      "4 0.25 0.25\n",
      "Load file /data/rajlab1/user_data/jin/MyResearch/HDF_infer/notebooks/simu_cmp2sinica/../../mypkg/../results/simu_setting6a_200/all-valsel-metrics_c1_200.pkl\n"
     ]
    },
    {
     "name": "stderr",
     "output_type": "stream",
     "text": [
      "c1: 0.2: 100%|██████████████████████████████████████████████████████████████████████████████████████████████████████████████████████████████| 200/200 [00:00<00:00, 749.71it/s]\n"
     ]
    },
    {
     "name": "stdout",
     "output_type": "stream",
     "text": [
      "4 0.25 0.25\n",
      "Load file /data/rajlab1/user_data/jin/MyResearch/HDF_infer/notebooks/simu_cmp2sinica/../../mypkg/../results/simu_setting6a_400/all-valsel-metrics_c1_400.pkl\n"
     ]
    },
    {
     "name": "stderr",
     "output_type": "stream",
     "text": [
      "c1: 0.4: 100%|██████████████████████████████████████████████████████████████████████████████████████████████████████████████████████████████| 200/200 [00:00<00:00, 750.29it/s]"
     ]
    },
    {
     "name": "stdout",
     "output_type": "stream",
     "text": [
      "4 0.25 0.25\n"
     ]
    },
    {
     "name": "stderr",
     "output_type": "stream",
     "text": [
      "\n"
     ]
    }
   ],
   "source": [
    "def _run_fn1(seed, all_cv_errs):\n",
    "    errs_mat = []\n",
    "    for cur_N in can_Ns:\n",
    "        errs = []\n",
    "        for cur_lam in can_lams:\n",
    "            #errs.append(all_cv_errs[(seed, cur_N, cur_lam)].BIC)\n",
    "            errs.append(_err_fn(all_cv_errs[(seed, cur_N, cur_lam)].cv_errs))\n",
    "        errs_mat.append(errs)\n",
    "    errs_mat = np.array(errs_mat)\n",
    "    return errs_mat\n",
    "opt_lamNs_fix = {}\n",
    "for c1 in c1s:\n",
    "    cur_save_dir = RES_ROOT/f\"simu_{setting}_{c1*1000:.0f}\"\n",
    "    all_cv_errs = load_pkl(cur_save_dir/f\"all-valsel-metrics_c1_{c1*1000:.0f}.pkl\")\n",
    "    num_seed = len(np.unique(list(map(lambda x: x[0], all_cv_errs.keys()))))\n",
    "    # do not make n_jobs>1, it is very slow\n",
    "    with Parallel(n_jobs=1) as parallel:\n",
    "        err_ten = parallel(delayed(_run_fn1)(cur_seed, all_cv_errs)  \n",
    "                                 for cur_seed in tqdm(range(num_seed), total=num_seed, desc=f\"c1: {c1}\"))\n",
    "    err_ten = np.array(err_ten);\n",
    "    \n",
    "    err_ten_ses = err_ten.std(axis=0)/np.sqrt(err_ten.shape[0])\n",
    "    err_m = np.mean(np.array(err_ten), axis=0)\n",
    "    errs = []\n",
    "    for err in err_m:\n",
    "        lam_min_idx = _get_min_idx(err)\n",
    "        errs.append((err[lam_min_idx], lam_min_idx))\n",
    "    errs = np.array(errs)\n",
    "    N_min_idx = np.argmin(errs[:, 0]);\n",
    "    lam_min_idx = int(errs[N_min_idx][1]);\n",
    "    min_opt_N, min_opt_lam = can_Ns[N_min_idx], can_lams[lam_min_idx]\n",
    "    \n",
    "    err_upbd = err_m[N_min_idx, lam_min_idx] + err_ten_ses[N_min_idx, lam_min_idx]; \n",
    "    lam_1se_idx = np.where(err_m[N_min_idx] <= err_upbd)[0].max();\n",
    "    print(can_Ns[N_min_idx], can_lams[lam_min_idx], can_lams[lam_1se_idx])\n",
    "    opt_lamNs_fix[c1] = (can_Ns[N_min_idx],  can_lams[lam_1se_idx])"
   ]
  },
  {
   "cell_type": "code",
   "execution_count": 17,
   "id": "02242202-65e5-4926-8a80-4a313e353195",
   "metadata": {
    "execution": {
     "iopub.execute_input": "2023-10-27T20:21:31.394424Z",
     "iopub.status.busy": "2023-10-27T20:21:31.393752Z",
     "iopub.status.idle": "2023-10-27T20:21:31.431401Z",
     "shell.execute_reply": "2023-10-27T20:21:31.430766Z",
     "shell.execute_reply.started": "2023-10-27T20:21:31.394378Z"
    },
    "tags": []
   },
   "outputs": [
    {
     "data": {
      "text/plain": [
       "{0.0: (4, 0.25), 0.2: (4, 0.25), 0.4: (4, 0.25)}"
      ]
     },
     "execution_count": 17,
     "metadata": {},
     "output_type": "execute_result"
    }
   ],
   "source": [
    "opt_lamNs_fix"
   ]
  },
  {
   "cell_type": "code",
   "execution_count": 24,
   "id": "abe4c784-1a02-4d92-9fb9-53cd9c23f066",
   "metadata": {
    "execution": {
     "iopub.execute_input": "2023-10-27T20:25:35.823388Z",
     "iopub.status.busy": "2023-10-27T20:25:35.822762Z",
     "iopub.status.idle": "2023-10-27T20:26:10.239950Z",
     "shell.execute_reply": "2023-10-27T20:26:10.239057Z",
     "shell.execute_reply.started": "2023-10-27T20:25:35.823343Z"
    },
    "scrolled": true,
    "tags": []
   },
   "outputs": [
    {
     "name": "stderr",
     "output_type": "stream",
     "text": [
      "c1: 0: 100%|█████████████████████████████████████████████████████████████████████████████████████████████████████████████████████████████████| 200/200 [00:11<00:00, 17.55it/s]\n"
     ]
    },
    {
     "name": "stdout",
     "output_type": "stream",
     "text": [
      "Save to /data/rajlab1/user_data/jin/MyResearch/HDF_infer/notebooks/simu_cmp2sinica/../../mypkg/../results/simu_setting6a_0/opt_lamNsfixNlam_c1_0_ress.pkl\n"
     ]
    },
    {
     "name": "stderr",
     "output_type": "stream",
     "text": [
      "c1: 200: 100%|███████████████████████████████████████████████████████████████████████████████████████████████████████████████████████████████| 200/200 [00:11<00:00, 17.42it/s]\n"
     ]
    },
    {
     "name": "stdout",
     "output_type": "stream",
     "text": [
      "Save to /data/rajlab1/user_data/jin/MyResearch/HDF_infer/notebooks/simu_cmp2sinica/../../mypkg/../results/simu_setting6a_200/opt_lamNsfixNlam_c1_200_ress.pkl\n"
     ]
    },
    {
     "name": "stderr",
     "output_type": "stream",
     "text": [
      "c1: 400: 100%|███████████████████████████████████████████████████████████████████████████████████████████████████████████████████████████████| 200/200 [00:11<00:00, 17.75it/s]"
     ]
    },
    {
     "name": "stdout",
     "output_type": "stream",
     "text": [
      "Save to /data/rajlab1/user_data/jin/MyResearch/HDF_infer/notebooks/simu_cmp2sinica/../../mypkg/../results/simu_setting6a_400/opt_lamNsfixNlam_c1_400_ress.pkl\n"
     ]
    },
    {
     "name": "stderr",
     "output_type": "stream",
     "text": [
      "\n"
     ]
    }
   ],
   "source": [
    "# for adaptive lam N\n",
    "cans = [1e-5, 3e-6, 1e-6, 3e-7, 1e-7, 3e-8, 1e-8, 3e-9, 1e-9, 3e-10, 0]\n",
    "all_coms = [(can, can) for can in cans]\n",
    "#all_coms = list(itertools.product(cans, cans))\n",
    "for c1 in c1s:\n",
    "    cur_save_dir = RES_ROOT/f\"simu_{setting}_{c1*1000:.0f}\"\n",
    "    cur_N, cur_lam = opt_lamNs_fix[c1]\n",
    "    #cur_lam = 2.0\n",
    "    ress = []\n",
    "    for cur_seed in tqdm(range(num_rep), desc=f\"c1: {c1*1000:.0f}\"):\n",
    "        f1_name = f\"seed_{cur_seed:.0f}-lam_{cur_lam*1000:.0f}-N_{cur_N:.0f}-c1_{c1*1000:.0f}_est.pkl\"\n",
    "        res1 = load_pkl(cur_save_dir/f1_name, verbose=False);\n",
    "        res = []\n",
    "        with Parallel(n_jobs=20) as parallel:\n",
    "            res = parallel(delayed(_test_fn1)(Cmat=Cmat, est_res=res1, \n",
    "                                             svdinv_eps_Q=rtols[0], \n",
    "                                             svdinv_eps_Psi=rtols[1]) for rtols\n",
    "                                             in all_coms)\n",
    "    \n",
    "        ress.append(res)\n",
    "    ress = np.array(ress);\n",
    "    save_pkl(cur_save_dir/f\"opt_lamNsfixNlam_c1_{c1*1000:.0f}_ress.pkl\", ress, is_force=1)"
   ]
  },
  {
   "cell_type": "code",
   "execution_count": null,
   "id": "d3d8dc76-d28c-44a5-9190-1bd0cefe53a9",
   "metadata": {},
   "outputs": [],
   "source": []
  },
  {
   "cell_type": "code",
   "execution_count": null,
   "id": "4fb91ff8-5516-4607-b597-a84764e17df4",
   "metadata": {},
   "outputs": [],
   "source": []
  },
  {
   "cell_type": "markdown",
   "id": "d30d4a08-5de2-4412-8541-5dd78612ed5c",
   "metadata": {},
   "source": [
    "## Find Q and Psi rtol"
   ]
  },
  {
   "cell_type": "code",
   "execution_count": 25,
   "id": "e4297092-475a-42e3-970b-f8774ef3fb70",
   "metadata": {
    "execution": {
     "iopub.execute_input": "2023-10-27T20:26:14.850202Z",
     "iopub.status.busy": "2023-10-27T20:26:14.849457Z",
     "iopub.status.idle": "2023-10-27T20:26:14.957769Z",
     "shell.execute_reply": "2023-10-27T20:26:14.957209Z",
     "shell.execute_reply.started": "2023-10-27T20:26:14.850148Z"
    },
    "tags": []
   },
   "outputs": [
    {
     "name": "stdout",
     "output_type": "stream",
     "text": [
      "Load file /data/rajlab1/user_data/jin/MyResearch/HDF_infer/notebooks/simu_cmp2sinica/../../mypkg/../results/simu_setting6a_0/opt_lamNsfixNlam_c1_0_ress.pkl\n",
      "Load file /data/rajlab1/user_data/jin/MyResearch/HDF_infer/notebooks/simu_cmp2sinica/../../mypkg/../results/simu_setting6a_200/opt_lamNsfixNlam_c1_200_ress.pkl\n",
      "Load file /data/rajlab1/user_data/jin/MyResearch/HDF_infer/notebooks/simu_cmp2sinica/../../mypkg/../results/simu_setting6a_400/opt_lamNsfixNlam_c1_400_ress.pkl\n"
     ]
    }
   ],
   "source": [
    "ress_dict = {}\n",
    "for c1 in c1s:\n",
    "    cur_save_dir = RES_ROOT/f\"simu_{setting}_{c1*1000:.0f}\"\n",
    "    #ress = load_pkl(cur_save_dir/f\"opt_lamNs_c1_{c1*1000:.0f}_ress.pkl\");\n",
    "    #ress = load_pkl(cur_save_dir/f\"opt_lamNsfixN_c1_{c1*1000:.0f}_ress.pkl\");\n",
    "    #ress = load_pkl(cur_save_dir/f\"opt_lamNsfixN1se_c1_{c1*1000:.0f}_ress.pkl\");\n",
    "    ress = load_pkl(cur_save_dir/f\"opt_lamNsfixNlam_c1_{c1*1000:.0f}_ress.pkl\");\n",
    "    ress_dict[c1] = ress"
   ]
  },
  {
   "cell_type": "code",
   "execution_count": null,
   "id": "e68ec23d-e727-4160-bba8-5ab94be466bf",
   "metadata": {},
   "outputs": [],
   "source": []
  },
  {
   "cell_type": "code",
   "execution_count": 26,
   "id": "1e2c5d33-9970-4cce-a82e-7969ebbbac13",
   "metadata": {
    "execution": {
     "iopub.execute_input": "2023-10-27T20:26:15.807896Z",
     "iopub.status.busy": "2023-10-27T20:26:15.807169Z",
     "iopub.status.idle": "2023-10-27T20:26:15.861024Z",
     "shell.execute_reply": "2023-10-27T20:26:15.860450Z",
     "shell.execute_reply.started": "2023-10-27T20:26:15.807843Z"
    },
    "tags": []
   },
   "outputs": [
    {
     "data": {
      "text/html": [
       "<div>\n",
       "<style scoped>\n",
       "    .dataframe tbody tr th:only-of-type {\n",
       "        vertical-align: middle;\n",
       "    }\n",
       "\n",
       "    .dataframe tbody tr th {\n",
       "        vertical-align: top;\n",
       "    }\n",
       "\n",
       "    .dataframe thead th {\n",
       "        text-align: right;\n",
       "    }\n",
       "</style>\n",
       "<table border=\"1\" class=\"dataframe\">\n",
       "  <thead>\n",
       "    <tr style=\"text-align: right;\">\n",
       "      <th></th>\n",
       "      <th>0.0</th>\n",
       "      <th>0.2</th>\n",
       "      <th>0.4</th>\n",
       "      <th>Q</th>\n",
       "      <th>Psi</th>\n",
       "    </tr>\n",
       "  </thead>\n",
       "  <tbody>\n",
       "    <tr>\n",
       "      <th>0</th>\n",
       "      <td>0.645</td>\n",
       "      <td>0.76</td>\n",
       "      <td>0.990</td>\n",
       "      <td>1.000000e-05</td>\n",
       "      <td>1.000000e-05</td>\n",
       "    </tr>\n",
       "    <tr>\n",
       "      <th>1</th>\n",
       "      <td>0.010</td>\n",
       "      <td>0.28</td>\n",
       "      <td>0.965</td>\n",
       "      <td>3.000000e-06</td>\n",
       "      <td>3.000000e-06</td>\n",
       "    </tr>\n",
       "    <tr>\n",
       "      <th>2</th>\n",
       "      <td>0.010</td>\n",
       "      <td>0.28</td>\n",
       "      <td>0.965</td>\n",
       "      <td>1.000000e-06</td>\n",
       "      <td>1.000000e-06</td>\n",
       "    </tr>\n",
       "    <tr>\n",
       "      <th>3</th>\n",
       "      <td>0.010</td>\n",
       "      <td>0.28</td>\n",
       "      <td>0.965</td>\n",
       "      <td>3.000000e-07</td>\n",
       "      <td>3.000000e-07</td>\n",
       "    </tr>\n",
       "    <tr>\n",
       "      <th>4</th>\n",
       "      <td>0.010</td>\n",
       "      <td>0.28</td>\n",
       "      <td>0.965</td>\n",
       "      <td>1.000000e-07</td>\n",
       "      <td>1.000000e-07</td>\n",
       "    </tr>\n",
       "    <tr>\n",
       "      <th>5</th>\n",
       "      <td>0.010</td>\n",
       "      <td>0.28</td>\n",
       "      <td>0.965</td>\n",
       "      <td>3.000000e-08</td>\n",
       "      <td>3.000000e-08</td>\n",
       "    </tr>\n",
       "    <tr>\n",
       "      <th>6</th>\n",
       "      <td>0.010</td>\n",
       "      <td>0.28</td>\n",
       "      <td>0.965</td>\n",
       "      <td>1.000000e-08</td>\n",
       "      <td>1.000000e-08</td>\n",
       "    </tr>\n",
       "    <tr>\n",
       "      <th>7</th>\n",
       "      <td>0.010</td>\n",
       "      <td>0.28</td>\n",
       "      <td>0.965</td>\n",
       "      <td>3.000000e-09</td>\n",
       "      <td>3.000000e-09</td>\n",
       "    </tr>\n",
       "    <tr>\n",
       "      <th>8</th>\n",
       "      <td>0.010</td>\n",
       "      <td>0.28</td>\n",
       "      <td>0.965</td>\n",
       "      <td>1.000000e-09</td>\n",
       "      <td>1.000000e-09</td>\n",
       "    </tr>\n",
       "    <tr>\n",
       "      <th>9</th>\n",
       "      <td>0.010</td>\n",
       "      <td>0.28</td>\n",
       "      <td>0.965</td>\n",
       "      <td>3.000000e-10</td>\n",
       "      <td>3.000000e-10</td>\n",
       "    </tr>\n",
       "    <tr>\n",
       "      <th>10</th>\n",
       "      <td>0.010</td>\n",
       "      <td>0.28</td>\n",
       "      <td>0.965</td>\n",
       "      <td>0.000000e+00</td>\n",
       "      <td>0.000000e+00</td>\n",
       "    </tr>\n",
       "  </tbody>\n",
       "</table>\n",
       "</div>"
      ],
      "text/plain": [
       "      0.0   0.2    0.4             Q           Psi\n",
       "0   0.645  0.76  0.990  1.000000e-05  1.000000e-05\n",
       "1   0.010  0.28  0.965  3.000000e-06  3.000000e-06\n",
       "2   0.010  0.28  0.965  1.000000e-06  1.000000e-06\n",
       "3   0.010  0.28  0.965  3.000000e-07  3.000000e-07\n",
       "4   0.010  0.28  0.965  1.000000e-07  1.000000e-07\n",
       "5   0.010  0.28  0.965  3.000000e-08  3.000000e-08\n",
       "6   0.010  0.28  0.965  1.000000e-08  1.000000e-08\n",
       "7   0.010  0.28  0.965  3.000000e-09  3.000000e-09\n",
       "8   0.010  0.28  0.965  1.000000e-09  1.000000e-09\n",
       "9   0.010  0.28  0.965  3.000000e-10  3.000000e-10\n",
       "10  0.010  0.28  0.965  0.000000e+00  0.000000e+00"
      ]
     },
     "execution_count": 26,
     "metadata": {},
     "output_type": "execute_result"
    }
   ],
   "source": [
    "import pandas as pd\n",
    "cans = [1e-5, 3e-6, 1e-6, 3e-7, 1e-7, 3e-8, 1e-8, 3e-9, 1e-9, 3e-10, 0]\n",
    "\n",
    "all_coms = np.array(list(itertools.product(cans, cans)));\n",
    "all_coms = [(can, can) for can in cans]\n",
    "kpidxs = []\n",
    "\n",
    "df = []\n",
    "for c1 in c1s:\n",
    "    ress = ress_dict[c1]\n",
    "    pvals = np.array([[re[\"pval\"] for re in res] for res in ress]);\n",
    "    vec_pv = np.mean(pvals<0.05, axis=0)\n",
    "    df.append(vec_pv[:, np.newaxis])\n",
    "df.append(all_coms) \n",
    "df = np.hstack(df)\n",
    "df = pd.DataFrame(df) \n",
    "df.columns = c1s+[\"Q\", \"Psi\"]\n",
    "df"
   ]
  },
  {
   "cell_type": "code",
   "execution_count": null,
   "id": "2b404df1-7735-4348-b212-485417ab16e4",
   "metadata": {},
   "outputs": [],
   "source": []
  },
  {
   "cell_type": "markdown",
   "id": "fa246ade-76de-47cb-8907-3b8fe8a7ed1e",
   "metadata": {},
   "source": [
    "# Sinica results"
   ]
  },
  {
   "cell_type": "code",
   "execution_count": 71,
   "id": "7e6362d0-498f-4439-ad42-81168bdb552c",
   "metadata": {
    "execution": {
     "iopub.execute_input": "2023-10-25T17:02:23.565018Z",
     "iopub.status.busy": "2023-10-25T17:02:23.564371Z",
     "iopub.status.idle": "2023-10-25T17:02:23.666494Z",
     "shell.execute_reply": "2023-10-25T17:02:23.665152Z",
     "shell.execute_reply.started": "2023-10-25T17:02:23.564969Z"
    },
    "tags": []
   },
   "outputs": [
    {
     "data": {
      "text/plain": [
       "[0.0, 0.2, 0.4]"
      ]
     },
     "execution_count": 71,
     "metadata": {},
     "output_type": "execute_result"
    }
   ],
   "source": [
    "setting = \"setting5\"\n",
    "sini_paras = edict()\n",
    "sini_paras.dir = RES_ROOT/f\"sinica_results/SinicaX_d-200_n-100_{setting}\";\n",
    "c1s = [0.0, 0.2, 0.4]"
   ]
  },
  {
   "cell_type": "code",
   "execution_count": 72,
   "id": "d53de042-2cd9-4374-9048-c595c073e31a",
   "metadata": {
    "execution": {
     "iopub.execute_input": "2023-10-25T17:02:24.121346Z",
     "iopub.status.busy": "2023-10-25T17:02:24.120780Z",
     "iopub.status.idle": "2023-10-25T17:02:26.438588Z",
     "shell.execute_reply": "2023-10-25T17:02:26.437284Z",
     "shell.execute_reply.started": "2023-10-25T17:02:24.121299Z"
    },
    "tags": []
   },
   "outputs": [
    {
     "name": "stdout",
     "output_type": "stream",
     "text": [
      "The power under c1=0.000 200 is 0.040.\n",
      "The power under c1=0.200 200 is 0.465.\n",
      "The power under c1=0.400 200 is 0.975.\n"
     ]
    }
   ],
   "source": [
    "pvals_sinica = []\n",
    "pvalss_sinica = []\n",
    "for c1 in c1s:\n",
    "    all_fils = list(sini_paras.dir.glob(f\"c1_{c1*1000:.0f}_*.mat\"));\n",
    "    sorted_all_fils = sorted(all_fils, key=lambda x: int(x.stem.split(\"_\")[3]));\n",
    "    \n",
    "    sini_pvals = []\n",
    "    opt_sns = []\n",
    "    for fil in sorted_all_fils:\n",
    "        res = loadmat(fil);\n",
    "        sini_pvals.append(res[\"pval\"][0][0])\n",
    "        opt_sns.append(res[\"gopt_sn\"][0][0])\n",
    "    sini_pvals = np.array(sini_pvals);\n",
    "    opt_sns = np.array(opt_sns);\n",
    "    #save_pkl(sini_paras.dir/f\"c1_{c1*1000:.0f}_pvals.pkl\", sini_pvals, is_force=False)\n",
    "    pvalss_sinica.append(sini_pvals)\n",
    "    pvals_sinica.append(np.mean(sini_pvals < 0.05))\n",
    "    print(f\"The power under c1={c1:.3f} {len(sini_pvals)} is {np.mean(sini_pvals < 0.05):.3f}.\")"
   ]
  },
  {
   "cell_type": "code",
   "execution_count": null,
   "id": "f2508578-2da4-4697-8a87-8a060776a59a",
   "metadata": {},
   "outputs": [],
   "source": []
  }
 ],
 "metadata": {
  "kernelspec": {
   "display_name": "Python 3 (ipykernel)",
   "language": "python",
   "name": "python3"
  },
  "language_info": {
   "codemirror_mode": {
    "name": "ipython",
    "version": 3
   },
   "file_extension": ".py",
   "mimetype": "text/x-python",
   "name": "python",
   "nbconvert_exporter": "python",
   "pygments_lexer": "ipython3",
   "version": "3.9.7"
  },
  "toc": {
   "base_numbering": 1,
   "nav_menu": {},
   "number_sections": true,
   "sideBar": true,
   "skip_h1_title": false,
   "title_cell": "Table of Contents",
   "title_sidebar": "Contents",
   "toc_cell": false,
   "toc_position": {
    "height": "calc(100% - 180px)",
    "left": "10px",
    "top": "150px",
    "width": "165px"
   },
   "toc_section_display": true,
   "toc_window_display": true
  },
  "toc-autonumbering": true
 },
 "nbformat": 4,
 "nbformat_minor": 5
}
