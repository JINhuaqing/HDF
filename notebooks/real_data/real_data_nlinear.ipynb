{
 "cells": [
  {
   "cell_type": "markdown",
   "id": "faf0a805",
   "metadata": {},
   "source": [
    "This file contains python code to check the hypothesis testing"
   ]
  },
  {
   "cell_type": "code",
   "execution_count": 1,
   "id": "82a6d485-1175-46a4-a95b-a18e7f97e41d",
   "metadata": {
    "execution": {
     "iopub.execute_input": "2024-03-08T17:48:46.360111Z",
     "iopub.status.busy": "2024-03-08T17:48:46.359474Z",
     "iopub.status.idle": "2024-03-08T17:48:46.383480Z",
     "shell.execute_reply": "2024-03-08T17:48:46.381727Z",
     "shell.execute_reply.started": "2024-03-08T17:48:46.360062Z"
    },
    "tags": []
   },
   "outputs": [
    {
     "data": {
      "text/plain": [
       "['AD88_matlab_1-45.pkl', 'Ctrl92_matlab_1-45.pkl']"
      ]
     },
     "execution_count": 1,
     "metadata": {},
     "output_type": "execute_result"
    }
   ],
   "source": [
    "RUN_PYTHON_SCRIPT = False\n",
    "#OUTLIER_IDXS = dict(AD=[], ctrl=[])\n",
    "OUTLIER_IDXS = dict(AD=[49], ctrl=[14, 19, 30, 38])\n",
    "SAVED_FOLDER = \"real_data_nlinear_test\"\n",
    "DATA = [\"AD88_matlab_1-45.pkl\", \"Ctrl92_matlab_1-45.pkl\"]"
   ]
  },
  {
   "cell_type": "code",
   "execution_count": 2,
   "id": "02ae980e",
   "metadata": {
    "ExecuteTime": {
     "end_time": "2023-05-31T19:57:23.490285Z",
     "start_time": "2023-05-31T19:57:23.481769Z"
    },
    "execution": {
     "iopub.execute_input": "2024-03-08T17:48:46.385021Z",
     "iopub.status.busy": "2024-03-08T17:48:46.384600Z",
     "iopub.status.idle": "2024-03-08T17:48:46.420486Z",
     "shell.execute_reply": "2024-03-08T17:48:46.417892Z",
     "shell.execute_reply.started": "2024-03-08T17:48:46.384987Z"
    },
    "tags": []
   },
   "outputs": [],
   "source": [
    "import sys\n",
    "sys.path.append(\"../../mypkg\")\n"
   ]
  },
  {
   "cell_type": "code",
   "execution_count": 3,
   "id": "023df78a",
   "metadata": {
    "ExecuteTime": {
     "end_time": "2023-05-31T19:57:34.238839Z",
     "start_time": "2023-05-31T19:57:23.494053Z"
    },
    "execution": {
     "iopub.execute_input": "2024-03-08T17:48:46.423507Z",
     "iopub.status.busy": "2024-03-08T17:48:46.422930Z",
     "iopub.status.idle": "2024-03-08T17:48:48.918651Z",
     "shell.execute_reply": "2024-03-08T17:48:48.918137Z",
     "shell.execute_reply.started": "2024-03-08T17:48:46.423465Z"
    },
    "tags": []
   },
   "outputs": [],
   "source": [
    "import numpy as np\n",
    "import pandas as pd\n",
    "import torch\n",
    "import matplotlib.pyplot as plt\n",
    "import seaborn as sns\n",
    "from scipy.stats import pearsonr\n",
    "from numbers import Number\n",
    "import itertools\n",
    "\n",
    "from easydict import EasyDict as edict\n",
    "from tqdm import trange, tqdm\n",
    "from scipy.io import loadmat\n",
    "from pprint import pprint\n",
    "from IPython.display import display\n",
    "from joblib import Parallel, delayed"
   ]
  },
  {
   "cell_type": "code",
   "execution_count": 4,
   "id": "331bba84-ccbb-4690-ad1f-3b66b198e7ab",
   "metadata": {
    "execution": {
     "iopub.execute_input": "2024-03-08T17:48:48.920340Z",
     "iopub.status.busy": "2024-03-08T17:48:48.919899Z",
     "iopub.status.idle": "2024-03-08T17:48:48.939756Z",
     "shell.execute_reply": "2024-03-08T17:48:48.939356Z",
     "shell.execute_reply.started": "2024-03-08T17:48:48.920323Z"
    },
    "tags": []
   },
   "outputs": [],
   "source": [
    "# This will reload all imports as soon as the code changes\n",
    "%load_ext autoreload\n",
    "%autoreload 2"
   ]
  },
  {
   "cell_type": "code",
   "execution_count": 5,
   "id": "335e7a01-c328-4376-8b49-9619f096bded",
   "metadata": {
    "execution": {
     "iopub.execute_input": "2024-03-08T17:48:48.940357Z",
     "iopub.status.busy": "2024-03-08T17:48:48.940216Z",
     "iopub.status.idle": "2024-03-08T17:48:49.640419Z",
     "shell.execute_reply": "2024-03-08T17:48:49.639019Z",
     "shell.execute_reply.started": "2024-03-08T17:48:48.940345Z"
    },
    "tags": []
   },
   "outputs": [],
   "source": [
    "from constants import DATA_ROOT, RES_ROOT, FIG_ROOT, MIDRES_ROOT\n",
    "from hdf_utils.data_gen import gen_simu_sinica_dataset\n",
    "from hdf_utils.SIS import SIS_GLIM\n",
    "from utils.matrix import col_vec_fn, col_vec2mat_fn, conju_grad, svd_inverse, cholesky_inv\n",
    "from utils.functions import logit_fn\n",
    "from utils.misc import save_pkl, load_pkl\n",
    "from splines import obt_bsp_obasis_Rfn, obt_bsp_basis_Rfn_wrapper\n",
    "from projection import euclidean_proj_l1ball\n",
    "from optimization.opt import HDFOpt\n",
    "from hdf_utils.fns_sinica import  fourier_basis_fn\n",
    "\n",
    "from joblib import Parallel, delayed"
   ]
  },
  {
   "cell_type": "code",
   "execution_count": 6,
   "id": "fe0a4a46",
   "metadata": {
    "ExecuteTime": {
     "end_time": "2023-05-31T19:57:59.621784Z",
     "start_time": "2023-05-31T19:57:59.568097Z"
    },
    "execution": {
     "iopub.execute_input": "2024-03-08T17:48:49.642780Z",
     "iopub.status.busy": "2024-03-08T17:48:49.642067Z",
     "iopub.status.idle": "2024-03-08T17:48:49.682100Z",
     "shell.execute_reply": "2024-03-08T17:48:49.681578Z",
     "shell.execute_reply.started": "2024-03-08T17:48:49.642738Z"
    },
    "tags": []
   },
   "outputs": [],
   "source": [
    "plt.style.use(FIG_ROOT/\"base.mplstyle\")"
   ]
  },
  {
   "cell_type": "code",
   "execution_count": 7,
   "id": "fdddf8a6",
   "metadata": {
    "ExecuteTime": {
     "end_time": "2023-05-31T19:57:59.637665Z",
     "start_time": "2023-05-31T19:57:59.633997Z"
    },
    "execution": {
     "iopub.execute_input": "2024-03-08T17:48:49.683220Z",
     "iopub.status.busy": "2024-03-08T17:48:49.682955Z",
     "iopub.status.idle": "2024-03-08T17:48:49.704772Z",
     "shell.execute_reply": "2024-03-08T17:48:49.704344Z",
     "shell.execute_reply.started": "2024-03-08T17:48:49.683205Z"
    },
    "tags": []
   },
   "outputs": [
    {
     "data": {
      "text/plain": [
       "torch.float64"
      ]
     },
     "execution_count": 7,
     "metadata": {},
     "output_type": "execute_result"
    }
   ],
   "source": [
    "torch.set_default_tensor_type(torch.DoubleTensor)\n",
    "def_dtype = torch.get_default_dtype()"
   ]
  },
  {
   "cell_type": "code",
   "execution_count": null,
   "id": "2e0b5869-536a-4b5d-9bab-97c3f86fa9cc",
   "metadata": {},
   "outputs": [],
   "source": []
  },
  {
   "cell_type": "markdown",
   "id": "0586bc78-3241-4e7e-a87d-0ea5486aca68",
   "metadata": {},
   "source": [
    "# Load  data and prepare"
   ]
  },
  {
   "cell_type": "code",
   "execution_count": 8,
   "id": "61b4f47c-912a-4068-8837-c05ad0de423b",
   "metadata": {
    "execution": {
     "iopub.execute_input": "2024-03-08T17:48:49.705742Z",
     "iopub.status.busy": "2024-03-08T17:48:49.705491Z",
     "iopub.status.idle": "2024-03-08T17:48:49.771260Z",
     "shell.execute_reply": "2024-03-08T17:48:49.770293Z",
     "shell.execute_reply.started": "2024-03-08T17:48:49.705729Z"
    },
    "tags": []
   },
   "outputs": [
    {
     "name": "stdout",
     "output_type": "stream",
     "text": [
      "Load file /data/rajlab1/user_data/jin/MyResearch/HDF_infer/notebooks/real_data/../../mypkg/../data/AD_vs_Ctrl_PSD/AD88_matlab_1-45.pkl\n",
      "Load file /data/rajlab1/user_data/jin/MyResearch/HDF_infer/notebooks/real_data/../../mypkg/../data/AD_vs_Ctrl_PSD/Ctrl92_matlab_1-45.pkl\n"
     ]
    }
   ],
   "source": [
    "data_root = DATA_ROOT/\"AD_vs_Ctrl_PSD/\";\n",
    "AD_PSD = load_pkl(data_root/DATA[0]);\n",
    "ctrl_PSD = load_pkl(data_root/DATA[1]);\n",
    "df0= pd.read_csv(data_root/\"AllDataBaselineOrdered_r_ncpt.csv\");\n",
    "df1= pd.read_csv(data_root/\"AllDataBaselineOrdered_r_ncpt_more.csv\");\n",
    "df1 = df1.set_index(\"RID\")\n",
    "df0 = df0.set_index(\"RID\");\n",
    "df1 = df1.reindex(df0.index)\n",
    "baseline = df1\n",
    "baseline[\"Gender_binary\"] = baseline[\"Gender\"].apply(lambda x: 0 if x==\"female\" else 1);\n",
    "baseline[\"Grp_binary\"] = baseline[\"Grp\"].apply(lambda x: 1 if x==\"AD\" else 0);"
   ]
  },
  {
   "cell_type": "code",
   "execution_count": 9,
   "id": "fa277e82-510b-4458-965b-25e6ad936ca3",
   "metadata": {
    "execution": {
     "iopub.execute_input": "2024-03-08T17:48:49.772587Z",
     "iopub.status.busy": "2024-03-08T17:48:49.772282Z",
     "iopub.status.idle": "2024-03-08T17:48:49.833604Z",
     "shell.execute_reply": "2024-03-08T17:48:49.832996Z",
     "shell.execute_reply.started": "2024-03-08T17:48:49.772562Z"
    },
    "tags": []
   },
   "outputs": [
    {
     "name": "stdout",
     "output_type": "stream",
     "text": [
      "(143, 68, 74) (143,) (143, 4)\n"
     ]
    }
   ],
   "source": [
    "# The outlier idxs to rm\n",
    "outlier_idxs = np.concatenate([OUTLIER_IDXS[\"AD\"], len(AD_PSD.PSDs)+np.array(OUTLIER_IDXS[\"ctrl\"])])\n",
    "outlier_idxs = outlier_idxs.astype(int)\n",
    "\n",
    "# make PSD in dB and std \n",
    "raw_X = np.concatenate([AD_PSD.PSDs, ctrl_PSD.PSDs]); #n x d x npts\n",
    "X_dB = 10*np.log10(raw_X);\n",
    "outlier_idxs2 = np.where(X_dB.mean(axis=(1, 2))<0)\n",
    "#X = (X_dB - X_dB.mean(axis=-1, keepdims=1))/X_dB.std(axis=-1, keepdims=1);\n",
    "X = X_dB\n",
    "\n",
    "Y = np.array(baseline[\"MMSE\"])[:X.shape[0]];\n",
    "# if logi\n",
    "#Yb = np.array(baseline[\"Grp_binary\"])[:X.shape[0]];\n",
    "\n",
    "sel_cov = [\"Gender_binary\", \"MEG_Age\",\"Education\"]\n",
    "Z_raw = np.array(baseline[sel_cov])[:X.shape[0]];\n",
    "\n",
    "grp_idxs = np.array(baseline[\"Grp\"])[:X.shape[0]];\n",
    "\n",
    "\n",
    "outlier_idxs = np.sort(np.union1d(outlier_idxs, outlier_idxs2))\n",
    "\n",
    "\n",
    "# remove outliers\n",
    "X = np.delete(X, outlier_idxs, axis=0)\n",
    "Y = np.delete(Y, outlier_idxs, axis=0)\n",
    "Z_raw = np.delete(Z_raw, outlier_idxs, axis=0)\n",
    "grp_idxs = np.delete(grp_idxs, outlier_idxs, axis=0)\n",
    "\n",
    "\n",
    "#remove nan\n",
    "keep_idx = ~np.bitwise_or(np.isnan(Y), np.isnan(Z_raw.sum(axis=1)));\n",
    "X = X[keep_idx];\n",
    "Y = Y[keep_idx]\n",
    "Z_raw = Z_raw[keep_idx]\n",
    "grp_idxs = grp_idxs[keep_idx]\n",
    "\n",
    "Z = np.concatenate([np.ones((Z_raw.shape[0], 1)), Z_raw], axis=1); # add intercept\n",
    "\n",
    "\n",
    "freqs = AD_PSD.freqs;\n",
    "# only take PSD between [2, 35] freqs of interest\n",
    "X = X[:, :, np.bitwise_and(freqs>=2, freqs<=35)]\n",
    "X = X/X.mean()\n",
    "\n",
    "\n",
    "print(X.shape, Y.shape, Z.shape)\n",
    "\n",
    "all_data = edict()\n",
    "all_data.X = torch.tensor(X)\n",
    "#all_data.X = torch.tensor(X+np.random.randn(*X.shape)*0.1)\n",
    "all_data.Y = torch.tensor(Y)\n",
    "all_data.Z = torch.tensor(Z)\n"
   ]
  },
  {
   "cell_type": "code",
   "execution_count": 10,
   "id": "7b54af63-0050-48ae-b05f-3ba18c128089",
   "metadata": {
    "execution": {
     "iopub.execute_input": "2024-03-08T17:48:49.834426Z",
     "iopub.status.busy": "2024-03-08T17:48:49.834241Z",
     "iopub.status.idle": "2024-03-08T17:48:49.858017Z",
     "shell.execute_reply": "2024-03-08T17:48:49.857580Z",
     "shell.execute_reply.started": "2024-03-08T17:48:49.834412Z"
    },
    "tags": []
   },
   "outputs": [],
   "source": [
    "# atlas\n",
    "rois = np.loadtxt(DATA_ROOT/\"dk68_utils/ROI_order_DK68.txt\", dtype=str);"
   ]
  },
  {
   "cell_type": "code",
   "execution_count": null,
   "id": "d0af2f35",
   "metadata": {},
   "outputs": [],
   "source": []
  },
  {
   "cell_type": "markdown",
   "id": "dd9c6514",
   "metadata": {},
   "source": [
    "# Param and fns"
   ]
  },
  {
   "cell_type": "markdown",
   "id": "21e4ccea",
   "metadata": {},
   "source": [
    "## Params"
   ]
  },
  {
   "cell_type": "code",
   "execution_count": 33,
   "id": "e7c708d2-f8a3-49f9-ac67-2970c74af8d1",
   "metadata": {
    "execution": {
     "iopub.execute_input": "2024-03-14T23:02:52.560826Z",
     "iopub.status.busy": "2024-03-14T23:02:52.560212Z",
     "iopub.status.idle": "2024-03-14T23:02:52.711799Z",
     "shell.execute_reply": "2024-03-14T23:02:52.710690Z",
     "shell.execute_reply.started": "2024-03-14T23:02:52.560780Z"
    },
    "tags": []
   },
   "outputs": [],
   "source": [
    "from easydict import EasyDict as edict\n",
    "from hdf_utils.fns_sinica import coef_fn, fourier_basis_fn\n",
    "from copy import deepcopy\n",
    "from scenarios.base_params import get_base_params\n",
    "\n",
    "base_params = get_base_params(\"linear\") \n",
    "base_params.data_params = edict()\n",
    "base_params.data_params.d = all_data.X.shape[1]\n",
    "base_params.data_params.n = all_data.X.shape[0]\n",
    "base_params.data_params.npts = all_data.X.shape[-1]\n",
    "base_params.data_params.freqs = AD_PSD.freqs\n",
    "\n",
    "base_params.can_Ns = [4, 6, 8, 10, 12, 14]\n",
    "base_params.SIS_params = edict({\"SIS_pen\": 0.02, \"SIS_basis_N\":8, \"SIS_ws\":\"simpson\"})\n",
    "base_params.opt_params.beta = 10 \n",
    "base_params.can_lams = [0.60,  0.80,  1,  1.2, 1.4, 1.6, 2.0, 4.0]\n",
    "\n",
    "\n",
    "setting = edict(deepcopy(base_params))\n",
    "add_params = edict({})\n",
    "add_params.setting = \"real_data_linear\"\n",
    "add_params.SIS_ratio = 0.2\n",
    "setting.update(add_params)"
   ]
  },
  {
   "cell_type": "code",
   "execution_count": 34,
   "id": "75dc09a0",
   "metadata": {
    "ExecuteTime": {
     "end_time": "2023-05-31T23:31:22.417895Z",
     "start_time": "2023-05-31T23:31:22.400951Z"
    },
    "execution": {
     "iopub.execute_input": "2024-03-14T23:02:53.088859Z",
     "iopub.status.busy": "2024-03-14T23:02:53.088322Z",
     "iopub.status.idle": "2024-03-14T23:02:53.128729Z",
     "shell.execute_reply": "2024-03-14T23:02:53.128082Z",
     "shell.execute_reply.started": "2024-03-14T23:02:53.088815Z"
    },
    "tags": []
   },
   "outputs": [],
   "source": [
    "save_dir = RES_ROOT/SAVED_FOLDER\n",
    "if not save_dir.exists():\n",
    "    save_dir.mkdir()"
   ]
  },
  {
   "cell_type": "code",
   "execution_count": null,
   "id": "a0a4e470-6041-4d5e-88d6-c9a482f6c6ce",
   "metadata": {},
   "outputs": [],
   "source": []
  },
  {
   "cell_type": "code",
   "execution_count": 35,
   "id": "60d582e7-e095-48b2-aee9-fa5ddad441d2",
   "metadata": {
    "execution": {
     "iopub.execute_input": "2024-03-14T23:02:53.723031Z",
     "iopub.status.busy": "2024-03-14T23:02:53.722378Z",
     "iopub.status.idle": "2024-03-14T23:02:53.762398Z",
     "shell.execute_reply": "2024-03-14T23:02:53.761734Z",
     "shell.execute_reply.started": "2024-03-14T23:02:53.722986Z"
    },
    "tags": []
   },
   "outputs": [
    {
     "data": {
      "text/plain": [
       "array([ 7, 16, 25, 76])"
      ]
     },
     "execution_count": 35,
     "metadata": {},
     "output_type": "execute_result"
    }
   ],
   "source": [
    "bands_cut = edict()\n",
    "bands_cut.delta = [2, 4]\n",
    "bands_cut.theta = [4, 8]\n",
    "bands_cut.alpha = [8, 12]\n",
    "bands_cut.beta = [12, 35]\n",
    "bands_cut.pts = [4, 8, 12, 35]\n",
    "\n",
    "cut_pts = np.abs(freqs.reshape(-1, 1) - bands_cut.pts).argmin(axis=0)"
   ]
  },
  {
   "cell_type": "code",
   "execution_count": 36,
   "id": "1bada202-d24e-4371-bd0f-a44ed399f2f2",
   "metadata": {
    "execution": {
     "iopub.execute_input": "2024-03-14T23:02:54.054568Z",
     "iopub.status.busy": "2024-03-14T23:02:54.054047Z",
     "iopub.status.idle": "2024-03-14T23:02:54.095186Z",
     "shell.execute_reply": "2024-03-14T23:02:54.094495Z",
     "shell.execute_reply.started": "2024-03-14T23:02:54.054525Z"
    },
    "tags": []
   },
   "outputs": [],
   "source": [
    "def _run_fn(roi_idx, lam, N, setting, is_save=False, is_cv=False, verbose=2):\n",
    "    torch.set_default_dtype(torch.double)\n",
    "        \n",
    "    _setting = edict(setting.copy())\n",
    "    _setting.lam = lam\n",
    "    _setting.N = N\n",
    "    _setting.sel_idx = np.delete(np.arange(setting.data_params.d), [roi_idx])\n",
    "    \n",
    "    \n",
    "    f_name = f\"roi_{roi_idx:.0f}-lam_{lam*1000:.0f}-N_{N:.0f}_fit.pkl\"\n",
    "    \n",
    "    \n",
    "    if not (save_dir/f_name).exists():\n",
    "        hdf_fit = HDFOpt(lam=_setting.lam, \n",
    "                         sel_idx=_setting.sel_idx, \n",
    "                         model_type=_setting.model_type,\n",
    "                         verbose=verbose, \n",
    "                         SIS_ratio=_setting.SIS_ratio, \n",
    "                         N=_setting.N,\n",
    "                         is_std_data=True, \n",
    "                         cov_types=None, \n",
    "                         inits=None,\n",
    "                         model_params = _setting.model_params, \n",
    "                         SIS_params = _setting.SIS_params, \n",
    "                         opt_params = _setting.opt_params,\n",
    "                         bsp_params = _setting.bsp_params, \n",
    "                         pen_params = _setting.pen_params\n",
    "               );\n",
    "        hdf_fit.add_data(all_data.X, all_data.Y, all_data.Z)\n",
    "        opt_res = hdf_fit.fit()\n",
    "        \n",
    "        if is_cv:\n",
    "            hdf_fit.get_cv_est(_setting.num_cv_fold)\n",
    "        if is_save:\n",
    "            hdf_fit.save(save_dir/f_name, is_compact=False, is_force=True)\n",
    "    else:\n",
    "        hdf_fit = load_pkl(save_dir/f_name, verbose>=2);\n",
    "        \n",
    "    return hdf_fit\n"
   ]
  },
  {
   "cell_type": "code",
   "execution_count": null,
   "id": "75e10fd4",
   "metadata": {},
   "outputs": [],
   "source": []
  },
  {
   "cell_type": "code",
   "execution_count": 37,
   "id": "d9973c88-3d57-4962-bf34-7a95a0b60156",
   "metadata": {
    "execution": {
     "iopub.execute_input": "2024-03-14T23:02:55.070181Z",
     "iopub.status.busy": "2024-03-14T23:02:55.069619Z",
     "iopub.status.idle": "2024-03-14T23:02:56.725662Z",
     "shell.execute_reply": "2024-03-14T23:02:56.725232Z",
     "shell.execute_reply.started": "2024-03-14T23:02:55.070136Z"
    },
    "tags": []
   },
   "outputs": [
    {
     "name": "stderr",
     "output_type": "stream",
     "text": [
      "2024-03-14 16:02:55,107 - optimization.opt - INFO - opt params is {'stop_cv': 0.0005, 'max_iter': 2000, 'one_step_verbose': 0, 'alpha': 0.9, 'beta': 10, 'R': 200000.0, 'linear_theta_update': 'cholesky_inv'}.\n",
      "2024-03-14 16:02:55,108 - optimization.opt - INFO - SIS params is {'SIS_pen': 0.02, 'SIS_basis_N': 8, 'SIS_basis_ord': 4, 'SIS_ratio': 0.2, 'SIS_ws': 'simpson'}.\n",
      "2024-03-14 16:02:55,109 - optimization.opt - INFO - model params is {'norminal_sigma2': 1, 'ws': 'sim'}.\n",
      "2024-03-14 16:02:55,110 - optimization.opt - INFO - penalty params is {'a': 3.7, 'lam': 0.8}.\n",
      "2024-03-14 16:02:55,110 - optimization.opt - INFO - bspline params is {'basis_ord': 4, 'is_orth_basis': True, 'N': 10}.\n",
      "2024-03-14 16:02:55,111 - optimization.opt - INFO - As cov_types is not provided, inferring the continuous covariates.\n",
      "Main Loop:  46%|██████████████████████████████████████████████████████▋                                                                 | 911/2000 [00:01<00:01, 689.55it/s, error=0.0005, GamL0=1, CV=0.0005]\n"
     ]
    }
   ],
   "source": [
    "setting.model_params.ws = \"sim\"\n",
    "setting.bsp_params.is_orth_basis = True\n",
    "res = _run_fn(1, lam=0.8, N=10, setting=setting);"
   ]
  },
  {
   "cell_type": "code",
   "execution_count": 40,
   "id": "1d83b0ad-5118-4fdc-bcdf-db200ab6f232",
   "metadata": {
    "execution": {
     "iopub.execute_input": "2024-03-14T23:04:12.168532Z",
     "iopub.status.busy": "2024-03-14T23:04:12.167748Z",
     "iopub.status.idle": "2024-03-14T23:04:12.580906Z",
     "shell.execute_reply": "2024-03-14T23:04:12.580477Z",
     "shell.execute_reply.started": "2024-03-14T23:04:12.168486Z"
    },
    "tags": []
   },
   "outputs": [
    {
     "name": "stdout",
     "output_type": "stream",
     "text": [
      "tensor(0.)\n",
      "tensor(0.)\n"
     ]
    },
    {
     "data": {
      "text/plain": [
       "[<matplotlib.lines.Line2D at 0x7fd7440932b0>]"
      ]
     },
     "execution_count": 40,
     "metadata": {},
     "output_type": "execute_result"
    },
    {
     "data": {
      "image/png": "[encoded data removed]",
      "text/plain": [
       "<Figure size 432x288 with 1 Axes>"
      ]
     },
     "metadata": {
      "needs_background": "light"
     },
     "output_type": "display_data"
    }
   ],
   "source": [
    "Y = all_data.Y.numpy()\n",
    "Yest = res.predict(all_data.X, all_data.Z).numpy()\n",
    "plt.plot(Y, Yest, \".\")"
   ]
  },
  {
   "cell_type": "code",
   "execution_count": 18,
   "id": "ac202643-c5e0-40b5-b948-a18015283a72",
   "metadata": {
    "execution": {
     "iopub.execute_input": "2024-03-08T17:49:10.038194Z",
     "iopub.status.busy": "2024-03-08T17:49:10.037602Z",
     "iopub.status.idle": "2024-03-08T17:49:10.301600Z",
     "shell.execute_reply": "2024-03-08T17:49:10.301023Z",
     "shell.execute_reply.started": "2024-03-08T17:49:10.038145Z"
    },
    "tags": []
   },
   "outputs": [],
   "source": [
    "res._prepare_hypotest()"
   ]
  },
  {
   "cell_type": "code",
   "execution_count": 19,
   "id": "8782fa7b-4538-4354-b34b-f1cd17c91e53",
   "metadata": {
    "execution": {
     "iopub.execute_input": "2024-03-08T17:49:10.427527Z",
     "iopub.status.busy": "2024-03-08T17:49:10.427010Z",
     "iopub.status.idle": "2024-03-08T17:49:10.470016Z",
     "shell.execute_reply": "2024-03-08T17:49:10.469327Z",
     "shell.execute_reply.started": "2024-03-08T17:49:10.427484Z"
    },
    "tags": []
   },
   "outputs": [
    {
     "name": "stderr",
     "output_type": "stream",
     "text": [
      "2024-03-08 09:49:10,463 - optimization.opt - INFO - hypo params is {'svdinv_eps_Q': 1e-07, 'svdinv_eps_Psi': 1e-07, 'Cmat': array([[1.]])}.\n"
     ]
    },
    {
     "data": {
      "text/plain": [
       "{'pval': 0.2966048796125153, 'T_v': tensor(11.8299)}"
      ]
     },
     "execution_count": 19,
     "metadata": {},
     "output_type": "execute_result"
    }
   ],
   "source": [
    "res.hypo_test(Cmat=np.eye(1))"
   ]
  },
  {
   "cell_type": "code",
   "execution_count": 20,
   "id": "0870196a-6e47-4eb3-8563-6819f5cb7d23",
   "metadata": {
    "execution": {
     "iopub.execute_input": "2024-03-08T17:49:11.479772Z",
     "iopub.status.busy": "2024-03-08T17:49:11.479213Z",
     "iopub.status.idle": "2024-03-08T17:49:11.520892Z",
     "shell.execute_reply": "2024-03-08T17:49:11.520219Z",
     "shell.execute_reply.started": "2024-03-08T17:49:11.479727Z"
    },
    "tags": []
   },
   "outputs": [
    {
     "data": {
      "text/plain": [
       "tensor([2.8986e+02, 9.9787e-01, 2.6951e-01, 2.3088e-01, 8.8919e-02, 2.0845e-02,\n",
       "        1.6791e-02, 1.0680e-02, 5.7116e-03, 5.1549e-03, 3.9168e-03, 3.5008e-03,\n",
       "        2.9215e-03, 2.4729e-03, 2.0387e-03, 1.8379e-03, 1.6804e-03, 1.5759e-03,\n",
       "        1.3515e-03, 1.2938e-03, 1.1222e-03, 8.8350e-04, 7.4500e-04, 7.0903e-04])"
      ]
     },
     "execution_count": 20,
     "metadata": {},
     "output_type": "execute_result"
    }
   ],
   "source": [
    "torch.svd(res.hypo_utils.Q_mat_part).S"
   ]
  },
  {
   "cell_type": "code",
   "execution_count": 21,
   "id": "5555bd96-a935-4054-85ed-73df11fafccd",
   "metadata": {
    "execution": {
     "iopub.execute_input": "2024-03-08T17:49:13.973886Z",
     "iopub.status.busy": "2024-03-08T17:49:13.973290Z",
     "iopub.status.idle": "2024-03-08T17:49:14.017680Z",
     "shell.execute_reply": "2024-03-08T17:49:14.017010Z",
     "shell.execute_reply.started": "2024-03-08T17:49:13.973839Z"
    },
    "tags": []
   },
   "outputs": [
    {
     "data": {
      "text/plain": [
       "tensor([[ 44.9461, -24.9287,   2.2777, -16.4694,  10.2307,   1.5322,   4.8445,\n",
       "         -24.1308,  24.6687, -38.9760],\n",
       "        [-24.9287,  49.6906, -15.0366,  12.9357, -11.3516,   5.5716, -11.5929,\n",
       "           8.7701, -28.6238,  24.1356],\n",
       "        [  2.2777, -15.0366,  31.9810, -23.2351,   2.2462,   4.5686,  -1.0539,\n",
       "          -2.4892,   6.0317,   7.4853],\n",
       "        [-16.4694,  12.9357, -23.2351,  62.1052, -23.7968,  -5.6864,  -9.4192,\n",
       "          14.4072, -19.1438, -17.9629],\n",
       "        [ 10.2307, -11.3516,   2.2462, -23.7968,  39.7964, -14.8564,  -1.1778,\n",
       "          -3.4414,  12.0714,  -1.4925],\n",
       "        [  1.5322,   5.5716,   4.5686,  -5.6864, -14.8564,  40.2852, -15.0887,\n",
       "         -17.5420,   5.3930,  -5.9137],\n",
       "        [  4.8445, -11.5929,  -1.0539,  -9.4192,  -1.1778, -15.0887,  41.2990,\n",
       "         -15.7616,   6.8756,   1.9995],\n",
       "        [-24.1308,   8.7701,  -2.4892,  14.4072,  -3.4414, -17.5420, -15.7616,\n",
       "          61.9129, -32.7373,  23.6528],\n",
       "        [ 24.6687, -28.6238,   6.0317, -19.1438,  12.0714,   5.3930,   6.8756,\n",
       "         -32.7373,  60.5599, -41.3495],\n",
       "        [-38.9760,  24.1356,   7.4853, -17.9629,  -1.4925,  -5.9137,   1.9995,\n",
       "          23.6528, -41.3495, 131.0084]])"
      ]
     },
     "execution_count": 21,
     "metadata": {},
     "output_type": "execute_result"
    }
   ],
   "source": [
    "res.get_covmat().beta"
   ]
  },
  {
   "cell_type": "code",
   "execution_count": null,
   "id": "893fd58c-a0c9-464e-8b08-83262c957260",
   "metadata": {},
   "outputs": [],
   "source": []
  },
  {
   "cell_type": "code",
   "execution_count": null,
   "id": "6fca96ef-fb59-408c-83c3-7aa26e8da584",
   "metadata": {},
   "outputs": [],
   "source": []
  }
 ],
 "metadata": {
  "kernelspec": {
   "display_name": "Python 3 (ipykernel)",
   "language": "python",
   "name": "python3"
  },
  "language_info": {
   "codemirror_mode": {
    "name": "ipython",
    "version": 3
   },
   "file_extension": ".py",
   "mimetype": "text/x-python",
   "name": "python",
   "nbconvert_exporter": "python",
   "pygments_lexer": "ipython3",
   "version": "3.9.7"
  },
  "toc": {
   "base_numbering": 1,
   "nav_menu": {},
   "number_sections": true,
   "sideBar": true,
   "skip_h1_title": false,
   "title_cell": "Table of Contents",
   "title_sidebar": "Contents",
   "toc_cell": false,
   "toc_position": {
    "height": "calc(100% - 180px)",
    "left": "10px",
    "top": "150px",
    "width": "165px"
   },
   "toc_section_display": true,
   "toc_window_display": true
  },
  "toc-autonumbering": true
 },
 "nbformat": 4,
 "nbformat_minor": 5
}
