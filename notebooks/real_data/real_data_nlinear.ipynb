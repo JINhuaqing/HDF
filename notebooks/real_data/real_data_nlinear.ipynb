{
 "cells": [
  {
   "cell_type": "markdown",
   "id": "faf0a805",
   "metadata": {},
   "source": [
    "This file contains python code to check the hypothesis testing"
   ]
  },
  {
   "cell_type": "code",
   "execution_count": 122,
   "id": "82a6d485-1175-46a4-a95b-a18e7f97e41d",
   "metadata": {
    "execution": {
     "iopub.execute_input": "2024-03-06T05:48:37.468672Z",
     "iopub.status.busy": "2024-03-06T05:48:37.468049Z",
     "iopub.status.idle": "2024-03-06T05:48:37.544727Z",
     "shell.execute_reply": "2024-03-06T05:48:37.543474Z",
     "shell.execute_reply.started": "2024-03-06T05:48:37.468622Z"
    },
    "tags": []
   },
   "outputs": [
    {
     "data": {
      "text/plain": [
       "['AD88_PSD89_all_nosm.pkl', 'Ctrl92_PSD89_all_nosm.pkl']"
      ]
     },
     "execution_count": 122,
     "metadata": {},
     "output_type": "execute_result"
    }
   ],
   "source": [
    "RUN_PYTHON_SCRIPT = False\n",
    "#OUTLIER_IDXS = dict(AD=[], ctrl=[])\n",
    "OUTLIER_IDXS = dict(AD=[49], ctrl=[14, 19, 30, 38])\n",
    "SAVED_FOLDER = \"real_data_nlinear_test\"\n",
    "DATA = [\"AD88_PSD89_all_nosm.pkl\", \"Ctrl92_PSD89_all_nosm.pkl\"]"
   ]
  },
  {
   "cell_type": "code",
   "execution_count": 123,
   "id": "02ae980e",
   "metadata": {
    "ExecuteTime": {
     "end_time": "2023-05-31T19:57:23.490285Z",
     "start_time": "2023-05-31T19:57:23.481769Z"
    },
    "execution": {
     "iopub.execute_input": "2024-03-06T05:48:38.109236Z",
     "iopub.status.busy": "2024-03-06T05:48:38.108699Z",
     "iopub.status.idle": "2024-03-06T05:48:38.148209Z",
     "shell.execute_reply": "2024-03-06T05:48:38.147347Z",
     "shell.execute_reply.started": "2024-03-06T05:48:38.109192Z"
    },
    "tags": []
   },
   "outputs": [],
   "source": [
    "import sys\n",
    "sys.path.append(\"../../mypkg\")\n"
   ]
  },
  {
   "cell_type": "code",
   "execution_count": 124,
   "id": "023df78a",
   "metadata": {
    "ExecuteTime": {
     "end_time": "2023-05-31T19:57:34.238839Z",
     "start_time": "2023-05-31T19:57:23.494053Z"
    },
    "execution": {
     "iopub.execute_input": "2024-03-06T05:48:38.449702Z",
     "iopub.status.busy": "2024-03-06T05:48:38.449061Z",
     "iopub.status.idle": "2024-03-06T05:48:38.487779Z",
     "shell.execute_reply": "2024-03-06T05:48:38.487160Z",
     "shell.execute_reply.started": "2024-03-06T05:48:38.449657Z"
    },
    "tags": []
   },
   "outputs": [],
   "source": [
    "import numpy as np\n",
    "import pandas as pd\n",
    "import torch\n",
    "import matplotlib.pyplot as plt\n",
    "import seaborn as sns\n",
    "from scipy.stats import pearsonr\n",
    "from numbers import Number\n",
    "import itertools\n",
    "\n",
    "from easydict import EasyDict as edict\n",
    "from tqdm import trange, tqdm\n",
    "from scipy.io import loadmat\n",
    "from pprint import pprint\n",
    "from IPython.display import display\n",
    "from joblib import Parallel, delayed"
   ]
  },
  {
   "cell_type": "code",
   "execution_count": 125,
   "id": "331bba84-ccbb-4690-ad1f-3b66b198e7ab",
   "metadata": {
    "execution": {
     "iopub.execute_input": "2024-03-06T05:48:38.728321Z",
     "iopub.status.busy": "2024-03-06T05:48:38.727681Z",
     "iopub.status.idle": "2024-03-06T05:48:38.766781Z",
     "shell.execute_reply": "2024-03-06T05:48:38.766087Z",
     "shell.execute_reply.started": "2024-03-06T05:48:38.728275Z"
    },
    "tags": []
   },
   "outputs": [
    {
     "name": "stdout",
     "output_type": "stream",
     "text": [
      "The autoreload extension is already loaded. To reload it, use:\n",
      "  %reload_ext autoreload\n"
     ]
    }
   ],
   "source": [
    "# This will reload all imports as soon as the code changes\n",
    "%load_ext autoreload\n",
    "%autoreload 2"
   ]
  },
  {
   "cell_type": "code",
   "execution_count": 126,
   "id": "335e7a01-c328-4376-8b49-9619f096bded",
   "metadata": {
    "execution": {
     "iopub.execute_input": "2024-03-06T05:48:39.049001Z",
     "iopub.status.busy": "2024-03-06T05:48:39.048478Z",
     "iopub.status.idle": "2024-03-06T05:48:39.086656Z",
     "shell.execute_reply": "2024-03-06T05:48:39.085977Z",
     "shell.execute_reply.started": "2024-03-06T05:48:39.048955Z"
    },
    "tags": []
   },
   "outputs": [],
   "source": [
    "from constants import DATA_ROOT, RES_ROOT, FIG_ROOT, MIDRES_ROOT\n",
    "from hdf_utils.data_gen import gen_simu_sinica_dataset\n",
    "from hdf_utils.SIS import SIS_GLIM\n",
    "from utils.matrix import col_vec_fn, col_vec2mat_fn, conju_grad, svd_inverse, cholesky_inv\n",
    "from utils.functions import logit_fn\n",
    "from utils.misc import save_pkl, load_pkl\n",
    "from splines import obt_bsp_obasis_Rfn, obt_bsp_basis_Rfn_wrapper\n",
    "from projection import euclidean_proj_l1ball\n",
    "from optimization.opt import HDFOpt\n",
    "from hdf_utils.fns_sinica import  fourier_basis_fn\n",
    "\n",
    "from joblib import Parallel, delayed"
   ]
  },
  {
   "cell_type": "code",
   "execution_count": 127,
   "id": "fe0a4a46",
   "metadata": {
    "ExecuteTime": {
     "end_time": "2023-05-31T19:57:59.621784Z",
     "start_time": "2023-05-31T19:57:59.568097Z"
    },
    "execution": {
     "iopub.execute_input": "2024-03-06T05:48:39.574979Z",
     "iopub.status.busy": "2024-03-06T05:48:39.574441Z",
     "iopub.status.idle": "2024-03-06T05:48:39.614526Z",
     "shell.execute_reply": "2024-03-06T05:48:39.613688Z",
     "shell.execute_reply.started": "2024-03-06T05:48:39.574911Z"
    },
    "tags": []
   },
   "outputs": [],
   "source": [
    "plt.style.use(FIG_ROOT/\"base.mplstyle\")"
   ]
  },
  {
   "cell_type": "code",
   "execution_count": 128,
   "id": "fdddf8a6",
   "metadata": {
    "ExecuteTime": {
     "end_time": "2023-05-31T19:57:59.637665Z",
     "start_time": "2023-05-31T19:57:59.633997Z"
    },
    "execution": {
     "iopub.execute_input": "2024-03-06T05:48:39.843134Z",
     "iopub.status.busy": "2024-03-06T05:48:39.842611Z",
     "iopub.status.idle": "2024-03-06T05:48:39.881290Z",
     "shell.execute_reply": "2024-03-06T05:48:39.880647Z",
     "shell.execute_reply.started": "2024-03-06T05:48:39.843090Z"
    },
    "tags": []
   },
   "outputs": [
    {
     "data": {
      "text/plain": [
       "torch.float64"
      ]
     },
     "execution_count": 128,
     "metadata": {},
     "output_type": "execute_result"
    }
   ],
   "source": [
    "torch.set_default_tensor_type(torch.DoubleTensor)\n",
    "def_dtype = torch.get_default_dtype()"
   ]
  },
  {
   "cell_type": "code",
   "execution_count": null,
   "id": "2e0b5869-536a-4b5d-9bab-97c3f86fa9cc",
   "metadata": {},
   "outputs": [],
   "source": []
  },
  {
   "cell_type": "markdown",
   "id": "0586bc78-3241-4e7e-a87d-0ea5486aca68",
   "metadata": {},
   "source": [
    "# Load  data and prepare"
   ]
  },
  {
   "cell_type": "code",
   "execution_count": 129,
   "id": "61b4f47c-912a-4068-8837-c05ad0de423b",
   "metadata": {
    "execution": {
     "iopub.execute_input": "2024-03-06T05:48:40.857903Z",
     "iopub.status.busy": "2024-03-06T05:48:40.857393Z",
     "iopub.status.idle": "2024-03-06T05:48:40.913595Z",
     "shell.execute_reply": "2024-03-06T05:48:40.912711Z",
     "shell.execute_reply.started": "2024-03-06T05:48:40.857860Z"
    },
    "tags": []
   },
   "outputs": [
    {
     "name": "stdout",
     "output_type": "stream",
     "text": [
      "Load file /data/rajlab1/user_data/jin/MyResearch/HDF_infer/notebooks/real_data/../../mypkg/../data/AD_vs_Ctrl_PSD/AD88_PSD89_all_nosm.pkl\n",
      "Load file /data/rajlab1/user_data/jin/MyResearch/HDF_infer/notebooks/real_data/../../mypkg/../data/AD_vs_Ctrl_PSD/Ctrl92_PSD89_all_nosm.pkl\n"
     ]
    }
   ],
   "source": [
    "data_root = DATA_ROOT/\"AD_vs_Ctrl_PSD/\";\n",
    "AD_PSD = load_pkl(data_root/DATA[0]);\n",
    "ctrl_PSD = load_pkl(data_root/DATA[1]);\n",
    "baseline = pd.read_csv(data_root/\"AllDataBaselineOrdered_r_ncpt.csv\");\n",
    "baseline[\"Gender_binary\"] = baseline[\"Gender\"].apply(lambda x: 0 if x==\"female\" else 1);\n",
    "baseline[\"Grp_binary\"] = baseline[\"Grp\"].apply(lambda x: 1 if x==\"AD\" else 0);"
   ]
  },
  {
   "cell_type": "code",
   "execution_count": 141,
   "id": "fa277e82-510b-4458-965b-25e6ad936ca3",
   "metadata": {
    "execution": {
     "iopub.execute_input": "2024-03-06T05:49:03.648714Z",
     "iopub.status.busy": "2024-03-06T05:49:03.648097Z",
     "iopub.status.idle": "2024-03-06T05:49:03.733150Z",
     "shell.execute_reply": "2024-03-06T05:49:03.732575Z",
     "shell.execute_reply.started": "2024-03-06T05:49:03.648667Z"
    },
    "tags": []
   },
   "outputs": [
    {
     "name": "stdout",
     "output_type": "stream",
     "text": [
      "(152, 68, 89) (152,) (152, 3)\n"
     ]
    }
   ],
   "source": [
    "# The outlier idxs to rm\n",
    "outlier_idxs = np.concatenate([OUTLIER_IDXS[\"AD\"], len(AD_PSD.PSDs)+np.array(OUTLIER_IDXS[\"ctrl\"])])\n",
    "outlier_idxs = outlier_idxs.astype(int)\n",
    "\n",
    "# make PSD in dB and std \n",
    "raw_X = np.concatenate([AD_PSD.PSDs, ctrl_PSD.PSDs]); #n x d x npts\n",
    "X_dB = np.log10(raw_X);\n",
    "X = (X_dB - X_dB.mean(axis=-1, keepdims=1))/X_dB.std(axis=-1, keepdims=1);\n",
    "\n",
    "Y = np.array(baseline[\"MMSE\"])[:X.shape[0]];\n",
    "# if logi\n",
    "#Yb = np.array(baseline[\"Grp_binary\"])[:X.shape[0]];\n",
    "\n",
    "sel_cov = [ \"MEG_Age\",\"Gender_binary\"]\n",
    "Z_raw = np.array(baseline[sel_cov])[:X.shape[0]];\n",
    "\n",
    "grp_idxs = np.array(baseline[\"Grp\"])[:X.shape[0]];\n",
    "\n",
    "# remove outliers\n",
    "X = np.delete(X, outlier_idxs, axis=0)\n",
    "Y = np.delete(Y, outlier_idxs, axis=0)\n",
    "Z_raw = np.delete(Z_raw, outlier_idxs, axis=0)\n",
    "grp_idxs = np.delete(grp_idxs, outlier_idxs, axis=0)\n",
    "\n",
    "\n",
    "#remove nan\n",
    "keep_idx = ~np.bitwise_or(np.isnan(Y), np.isnan(Z_raw.sum(axis=1)));\n",
    "X = X[keep_idx];\n",
    "Y = Y[keep_idx]\n",
    "Z_raw = Z_raw[keep_idx]\n",
    "grp_idxs = grp_idxs[keep_idx]\n",
    "\n",
    "Z = np.concatenate([np.ones((Z_raw.shape[0], 1)), Z_raw], axis=1); # add intercept\n",
    "\n",
    "\n",
    "print(X.shape, Y.shape, Z.shape)\n",
    "\n",
    "all_data = edict()\n",
    "all_data.X = torch.tensor(X+np.random.randn(*X.shape)*0.1)\n",
    "all_data.Y = torch.tensor(Y)\n",
    "all_data.Z = torch.tensor(Z)\n",
    "\n",
    "freqs = AD_PSD.freqs;"
   ]
  },
  {
   "cell_type": "code",
   "execution_count": 142,
   "id": "7b54af63-0050-48ae-b05f-3ba18c128089",
   "metadata": {
    "execution": {
     "iopub.execute_input": "2024-03-06T05:49:04.011139Z",
     "iopub.status.busy": "2024-03-06T05:49:04.010428Z",
     "iopub.status.idle": "2024-03-06T05:49:04.051213Z",
     "shell.execute_reply": "2024-03-06T05:49:04.050559Z",
     "shell.execute_reply.started": "2024-03-06T05:49:04.011089Z"
    },
    "tags": []
   },
   "outputs": [],
   "source": [
    "# atlas\n",
    "rois = np.loadtxt(DATA_ROOT/\"dk68_utils/ROI_order_DK68.txt\", dtype=str);"
   ]
  },
  {
   "cell_type": "code",
   "execution_count": null,
   "id": "d0af2f35",
   "metadata": {},
   "outputs": [],
   "source": []
  },
  {
   "cell_type": "markdown",
   "id": "dd9c6514",
   "metadata": {},
   "source": [
    "# Param and fns"
   ]
  },
  {
   "cell_type": "markdown",
   "id": "21e4ccea",
   "metadata": {},
   "source": [
    "## Params"
   ]
  },
  {
   "cell_type": "code",
   "execution_count": 143,
   "id": "e7c708d2-f8a3-49f9-ac67-2970c74af8d1",
   "metadata": {
    "execution": {
     "iopub.execute_input": "2024-03-06T05:49:05.005325Z",
     "iopub.status.busy": "2024-03-06T05:49:05.004626Z",
     "iopub.status.idle": "2024-03-06T05:49:05.046514Z",
     "shell.execute_reply": "2024-03-06T05:49:05.045367Z",
     "shell.execute_reply.started": "2024-03-06T05:49:05.005277Z"
    },
    "tags": []
   },
   "outputs": [],
   "source": [
    "from easydict import EasyDict as edict\n",
    "from hdf_utils.fns_sinica import coef_fn, fourier_basis_fn\n",
    "from copy import deepcopy\n",
    "from scenarios.base_params import get_base_params\n",
    "\n",
    "base_params = get_base_params(\"linear\") \n",
    "base_params.data_params = edict()\n",
    "base_params.data_params.d = all_data.X.shape[1]\n",
    "base_params.data_params.n = all_data.X.shape[0]\n",
    "base_params.data_params.npts = all_data.X.shape[-1]\n",
    "base_params.data_params.freqs = AD_PSD.freqs\n",
    "\n",
    "base_params.can_Ns = [4, 6, 8, 10, 12, 14]\n",
    "base_params.SIS_params = edict({\"SIS_pen\": 0.02, \"SIS_basis_N\":8, \"SIS_ws\":\"simpson\"})\n",
    "base_params.opt_params.beta = 10 \n",
    "base_params.can_lams = [0.60,  0.80,  1,  1.2, 1.4, 1.6, 2.0, 4.0]\n",
    "\n",
    "\n",
    "setting = edict(deepcopy(base_params))\n",
    "add_params = edict({})\n",
    "add_params.setting = \"real_data_linear\"\n",
    "add_params.SIS_ratio = 1\n",
    "setting.update(add_params)"
   ]
  },
  {
   "cell_type": "code",
   "execution_count": 144,
   "id": "75dc09a0",
   "metadata": {
    "ExecuteTime": {
     "end_time": "2023-05-31T23:31:22.417895Z",
     "start_time": "2023-05-31T23:31:22.400951Z"
    },
    "execution": {
     "iopub.execute_input": "2024-03-06T05:49:05.222790Z",
     "iopub.status.busy": "2024-03-06T05:49:05.222277Z",
     "iopub.status.idle": "2024-03-06T05:49:05.259953Z",
     "shell.execute_reply": "2024-03-06T05:49:05.259262Z",
     "shell.execute_reply.started": "2024-03-06T05:49:05.222747Z"
    },
    "tags": []
   },
   "outputs": [],
   "source": [
    "save_dir = RES_ROOT/SAVED_FOLDER\n",
    "if not save_dir.exists():\n",
    "    save_dir.mkdir()"
   ]
  },
  {
   "cell_type": "code",
   "execution_count": null,
   "id": "a0a4e470-6041-4d5e-88d6-c9a482f6c6ce",
   "metadata": {},
   "outputs": [],
   "source": []
  },
  {
   "cell_type": "code",
   "execution_count": 145,
   "id": "60d582e7-e095-48b2-aee9-fa5ddad441d2",
   "metadata": {
    "execution": {
     "iopub.execute_input": "2024-03-06T05:49:05.720079Z",
     "iopub.status.busy": "2024-03-06T05:49:05.719552Z",
     "iopub.status.idle": "2024-03-06T05:49:05.758637Z",
     "shell.execute_reply": "2024-03-06T05:49:05.757959Z",
     "shell.execute_reply.started": "2024-03-06T05:49:05.720035Z"
    },
    "tags": []
   },
   "outputs": [
    {
     "data": {
      "text/plain": [
       "array([ 6, 14, 22, 68])"
      ]
     },
     "execution_count": 145,
     "metadata": {},
     "output_type": "execute_result"
    }
   ],
   "source": [
    "bands_cut = edict()\n",
    "bands_cut.delta = [1, 4]\n",
    "bands_cut.theta = [4, 8]\n",
    "bands_cut.alpha = [8, 12]\n",
    "bands_cut.beta = [12, 35]\n",
    "bands_cut.pts = [4, 8, 12, 35]\n",
    "\n",
    "cut_pts = np.abs(freqs.reshape(-1, 1) - bands_cut.pts).argmin(axis=0)"
   ]
  },
  {
   "cell_type": "code",
   "execution_count": 146,
   "id": "1bada202-d24e-4371-bd0f-a44ed399f2f2",
   "metadata": {
    "execution": {
     "iopub.execute_input": "2024-03-06T05:49:05.985922Z",
     "iopub.status.busy": "2024-03-06T05:49:05.985417Z",
     "iopub.status.idle": "2024-03-06T05:49:06.028409Z",
     "shell.execute_reply": "2024-03-06T05:49:06.027697Z",
     "shell.execute_reply.started": "2024-03-06T05:49:05.985880Z"
    },
    "tags": []
   },
   "outputs": [],
   "source": [
    "def _run_fn(roi_idx, lam, N, setting, is_save=False, is_cv=False, verbose=2):\n",
    "    torch.set_default_dtype(torch.double)\n",
    "        \n",
    "    _setting = edict(setting.copy())\n",
    "    _setting.lam = lam\n",
    "    _setting.N = N\n",
    "    _setting.sel_idx = np.delete(np.arange(setting.data_params.d), [roi_idx])\n",
    "    \n",
    "    \n",
    "    f_name = f\"roi_{roi_idx:.0f}-lam_{lam*1000:.0f}-N_{N:.0f}_fit.pkl\"\n",
    "    \n",
    "    \n",
    "    if not (save_dir/f_name).exists():\n",
    "        hdf_fit = HDFOpt(lam=_setting.lam, \n",
    "                         sel_idx=_setting.sel_idx, \n",
    "                         model_type=_setting.model_type,\n",
    "                         verbose=verbose, \n",
    "                         SIS_ratio=_setting.SIS_ratio, \n",
    "                         N=_setting.N,\n",
    "                         is_std_data=True, \n",
    "                         cov_types=None, \n",
    "                         inits=None,\n",
    "                         model_params = _setting.model_params, \n",
    "                         SIS_params = _setting.SIS_params, \n",
    "                         opt_params = _setting.opt_params,\n",
    "                         bsp_params = _setting.bsp_params, \n",
    "                         pen_params = _setting.pen_params\n",
    "               );\n",
    "        hdf_fit.add_data(all_data.X, all_data.Y, all_data.Z)\n",
    "        opt_res = hdf_fit.fit()\n",
    "        \n",
    "        if is_cv:\n",
    "            hdf_fit.get_cv_est(_setting.num_cv_fold)\n",
    "        if is_save:\n",
    "            hdf_fit.save(save_dir/f_name, is_compact=False, is_force=True)\n",
    "    else:\n",
    "        hdf_fit = load_pkl(save_dir/f_name, verbose>=2);\n",
    "        \n",
    "    return hdf_fit\n"
   ]
  },
  {
   "cell_type": "code",
   "execution_count": null,
   "id": "75e10fd4",
   "metadata": {},
   "outputs": [],
   "source": []
  },
  {
   "cell_type": "code",
   "execution_count": 147,
   "id": "d9973c88-3d57-4962-bf34-7a95a0b60156",
   "metadata": {
    "execution": {
     "iopub.execute_input": "2024-03-06T05:49:06.821005Z",
     "iopub.status.busy": "2024-03-06T05:49:06.820468Z",
     "iopub.status.idle": "2024-03-06T05:49:08.888167Z",
     "shell.execute_reply": "2024-03-06T05:49:08.887684Z",
     "shell.execute_reply.started": "2024-03-06T05:49:06.820961Z"
    },
    "tags": []
   },
   "outputs": [
    {
     "name": "stderr",
     "output_type": "stream",
     "text": [
      "2024-03-05 21:49:06,856 - optimization.opt - INFO - opt params is {'stop_cv': 0.0005, 'max_iter': 2000, 'one_step_verbose': 0, 'alpha': 0.9, 'beta': 10, 'R': 200000.0, 'linear_theta_update': 'cholesky_inv'}.\n",
      "2024-03-05 21:49:06,857 - optimization.opt - INFO - SIS params is {'SIS_pen': 0.02, 'SIS_basis_N': 8, 'SIS_basis_ord': 4, 'SIS_ratio': 1, 'SIS_ws': 'simpson'}.\n",
      "2024-03-05 21:49:06,858 - optimization.opt - INFO - model params is {'norminal_sigma2': 1, 'ws': 'sim'}.\n",
      "2024-03-05 21:49:06,858 - optimization.opt - INFO - penalty params is {'a': 3.7, 'lam': 1}.\n",
      "2024-03-05 21:49:06,859 - optimization.opt - INFO - bspline params is {'basis_ord': 4, 'is_orth_basis': True, 'N': 10}.\n",
      "2024-03-05 21:49:06,860 - optimization.opt - INFO - As cov_types is not provided, inferring the continuous covariates.\n",
      "Main Loop:  48%|██████████████████████████████████████████▏                                            | 969/2000 [00:02<00:02, 482.00it/s, error=0.000505, GamL0=1, CV=0.0005]\n"
     ]
    }
   ],
   "source": [
    "setting.model_params.ws = \"sim\"\n",
    "setting.bsp_params.is_orth_basis = True\n",
    "res = _run_fn(0, lam=1, N=10, setting=setting);"
   ]
  },
  {
   "cell_type": "code",
   "execution_count": 148,
   "id": "ac202643-c5e0-40b5-b948-a18015283a72",
   "metadata": {
    "execution": {
     "iopub.execute_input": "2024-03-06T05:49:09.430698Z",
     "iopub.status.busy": "2024-03-06T05:49:09.430024Z",
     "iopub.status.idle": "2024-03-06T05:49:09.722651Z",
     "shell.execute_reply": "2024-03-06T05:49:09.722075Z",
     "shell.execute_reply.started": "2024-03-06T05:49:09.430648Z"
    },
    "tags": []
   },
   "outputs": [],
   "source": [
    "res._prepare_hypotest()"
   ]
  },
  {
   "cell_type": "code",
   "execution_count": 149,
   "id": "8782fa7b-4538-4354-b34b-f1cd17c91e53",
   "metadata": {
    "execution": {
     "iopub.execute_input": "2024-03-06T05:49:10.334303Z",
     "iopub.status.busy": "2024-03-06T05:49:10.333563Z",
     "iopub.status.idle": "2024-03-06T05:49:10.376778Z",
     "shell.execute_reply": "2024-03-06T05:49:10.376120Z",
     "shell.execute_reply.started": "2024-03-06T05:49:10.334253Z"
    },
    "tags": []
   },
   "outputs": [
    {
     "name": "stderr",
     "output_type": "stream",
     "text": [
      "2024-03-05 21:49:10,370 - optimization.opt - INFO - hypo params is {'svdinv_eps_Q': 1e-07, 'svdinv_eps_Psi': 1e-07, 'Cmat': array([[1.]])}.\n"
     ]
    },
    {
     "data": {
      "text/plain": [
       "{'pval': 3.9207715768051176e-19, 'T_v': tensor(110.6635)}"
      ]
     },
     "execution_count": 149,
     "metadata": {},
     "output_type": "execute_result"
    }
   ],
   "source": [
    "res.hypo_test(Cmat=np.eye(1))"
   ]
  },
  {
   "cell_type": "code",
   "execution_count": 150,
   "id": "0870196a-6e47-4eb3-8563-6819f5cb7d23",
   "metadata": {
    "execution": {
     "iopub.execute_input": "2024-03-06T05:49:11.448733Z",
     "iopub.status.busy": "2024-03-06T05:49:11.448076Z",
     "iopub.status.idle": "2024-03-06T05:49:11.488162Z",
     "shell.execute_reply": "2024-03-06T05:49:11.487581Z",
     "shell.execute_reply.started": "2024-03-06T05:49:11.448685Z"
    },
    "tags": []
   },
   "outputs": [
    {
     "data": {
      "text/plain": [
       "tensor([1.1900e+00, 1.0541e+00, 2.3633e-01, 1.9493e-01, 1.4809e-01, 3.3426e-02,\n",
       "        1.4293e-02, 7.8611e-03, 7.2049e-03, 3.9487e-03, 2.7440e-03, 2.2244e-03,\n",
       "        1.0220e-03])"
      ]
     },
     "execution_count": 150,
     "metadata": {},
     "output_type": "execute_result"
    }
   ],
   "source": [
    "torch.svd(res.hypo_utils.Q_mat_part).S"
   ]
  },
  {
   "cell_type": "code",
   "execution_count": 151,
   "id": "5555bd96-a935-4054-85ed-73df11fafccd",
   "metadata": {
    "execution": {
     "iopub.execute_input": "2024-03-06T05:49:12.168817Z",
     "iopub.status.busy": "2024-03-06T05:49:12.168305Z",
     "iopub.status.idle": "2024-03-06T05:49:12.208885Z",
     "shell.execute_reply": "2024-03-06T05:49:12.208246Z",
     "shell.execute_reply.started": "2024-03-06T05:49:12.168773Z"
    },
    "tags": []
   },
   "outputs": [
    {
     "data": {
      "text/plain": [
       "tensor([[12.9630,  3.1737, 11.1189,  8.5950,  8.7949,  6.7072,  8.9414,  2.4872,\n",
       "          3.1607, -2.0657],\n",
       "        [ 3.1737, 11.9497,  7.6595, 10.8575,  9.1821, 10.0050,  9.6870,  6.5429,\n",
       "          6.9639,  7.7386],\n",
       "        [11.1189,  7.6595, 15.1519, 11.7482, 11.7627, 11.7995, 13.1353,  5.6330,\n",
       "          7.1011,  5.2273],\n",
       "        [ 8.5950, 10.8575, 11.7482, 16.2650,  9.7389, 12.4699, 16.3653,  7.1542,\n",
       "         10.7170,  7.2861],\n",
       "        [ 8.7949,  9.1821, 11.7627,  9.7389, 16.6788,  8.6524, 10.9819, 13.8106,\n",
       "          8.1629,  3.7891],\n",
       "        [ 6.7072, 10.0050, 11.7995, 12.4699,  8.6524, 16.7455, 10.7615,  7.6003,\n",
       "          8.2856, 14.5641],\n",
       "        [ 8.9414,  9.6870, 13.1353, 16.3653, 10.9819, 10.7615, 25.0305,  5.1681,\n",
       "         14.6212, 11.8124],\n",
       "        [ 2.4872,  6.5429,  5.6330,  7.1542, 13.8106,  7.6003,  5.1681, 33.8418,\n",
       "          6.9636,  3.7851],\n",
       "        [ 3.1607,  6.9639,  7.1011, 10.7170,  8.1629,  8.2856, 14.6212,  6.9636,\n",
       "         22.2621,  0.9446],\n",
       "        [-2.0657,  7.7386,  5.2273,  7.2861,  3.7891, 14.5641, 11.8124,  3.7851,\n",
       "          0.9446, 48.1022]])"
      ]
     },
     "execution_count": 151,
     "metadata": {},
     "output_type": "execute_result"
    }
   ],
   "source": [
    "res.get_covmat().beta"
   ]
  },
  {
   "cell_type": "code",
   "execution_count": null,
   "id": "893fd58c-a0c9-464e-8b08-83262c957260",
   "metadata": {},
   "outputs": [],
   "source": []
  },
  {
   "cell_type": "code",
   "execution_count": null,
   "id": "6fca96ef-fb59-408c-83c3-7aa26e8da584",
   "metadata": {},
   "outputs": [],
   "source": []
  }
 ],
 "metadata": {
  "kernelspec": {
   "display_name": "Python 3 (ipykernel)",
   "language": "python",
   "name": "python3"
  },
  "language_info": {
   "codemirror_mode": {
    "name": "ipython",
    "version": 3
   },
   "file_extension": ".py",
   "mimetype": "text/x-python",
   "name": "python",
   "nbconvert_exporter": "python",
   "pygments_lexer": "ipython3",
   "version": "3.9.7"
  },
  "toc": {
   "base_numbering": 1,
   "nav_menu": {},
   "number_sections": true,
   "sideBar": true,
   "skip_h1_title": false,
   "title_cell": "Table of Contents",
   "title_sidebar": "Contents",
   "toc_cell": false,
   "toc_position": {
    "height": "calc(100% - 180px)",
    "left": "10px",
    "top": "150px",
    "width": "165px"
   },
   "toc_section_display": true,
   "toc_window_display": true
  },
  "toc-autonumbering": true
 },
 "nbformat": 4,
 "nbformat_minor": 5
}
