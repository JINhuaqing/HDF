{
 "cells": [
  {
   "cell_type": "markdown",
   "id": "faf0a805",
   "metadata": {},
   "source": [
    "This file contains python code to preprocessing the real data for real data application section. (on Jun 9, 2023)(on Jun 9, 2023)"
   ]
  },
  {
   "cell_type": "code",
   "execution_count": 1,
   "id": "02ae980e",
   "metadata": {
    "ExecuteTime": {
     "end_time": "2023-05-31T19:57:23.490285Z",
     "start_time": "2023-05-31T19:57:23.481769Z"
    },
    "execution": {
     "iopub.execute_input": "2024-03-11T22:32:07.858752Z",
     "iopub.status.busy": "2024-03-11T22:32:07.858147Z",
     "iopub.status.idle": "2024-03-11T22:32:07.880997Z",
     "shell.execute_reply": "2024-03-11T22:32:07.880060Z",
     "shell.execute_reply.started": "2024-03-11T22:32:07.858706Z"
    },
    "tags": []
   },
   "outputs": [],
   "source": [
    "import sys\n",
    "sys.path.append(\"../../mypkg\")\n",
    "import mkl"
   ]
  },
  {
   "cell_type": "code",
   "execution_count": 2,
   "id": "023df78a",
   "metadata": {
    "ExecuteTime": {
     "end_time": "2023-05-31T19:57:34.238839Z",
     "start_time": "2023-05-31T19:57:23.494053Z"
    },
    "execution": {
     "iopub.execute_input": "2024-03-11T22:32:07.883519Z",
     "iopub.status.busy": "2024-03-11T22:32:07.882556Z",
     "iopub.status.idle": "2024-03-11T22:32:10.260801Z",
     "shell.execute_reply": "2024-03-11T22:32:10.259853Z",
     "shell.execute_reply.started": "2024-03-11T22:32:07.883473Z"
    },
    "tags": []
   },
   "outputs": [],
   "source": [
    "import numpy as np\n",
    "import torch\n",
    "import matplotlib.pyplot as plt\n",
    "import seaborn as sns\n",
    "from scipy.stats import pearsonr\n",
    "from numbers import Number\n",
    "from joblib import Parallel, delayed\n",
    "\n",
    "from easydict import EasyDict as edict\n",
    "from tqdm import trange\n",
    "from scipy.io import loadmat\n",
    "from pprint import pprint\n",
    "import pandas as pd\n",
    "from IPython.display import display"
   ]
  },
  {
   "cell_type": "code",
   "execution_count": 3,
   "id": "b0aa91b2",
   "metadata": {
    "ExecuteTime": {
     "end_time": "2023-05-31T19:57:59.558229Z",
     "start_time": "2023-05-31T19:57:34.292612Z"
    },
    "execution": {
     "iopub.execute_input": "2024-03-11T22:32:10.262619Z",
     "iopub.status.busy": "2024-03-11T22:32:10.262214Z",
     "iopub.status.idle": "2024-03-11T22:32:10.302389Z",
     "shell.execute_reply": "2024-03-11T22:32:10.301529Z",
     "shell.execute_reply.started": "2024-03-11T22:32:10.262597Z"
    },
    "tags": []
   },
   "outputs": [],
   "source": [
    "from constants import DATA_ROOT, RES_ROOT, FIG_ROOT, MIDRES_ROOT\n",
    "from utils.misc import save_pkl, load_pkl\n",
    "plt.style.use(FIG_ROOT/\"base.mplstyle\")"
   ]
  },
  {
   "cell_type": "code",
   "execution_count": 4,
   "id": "e67195b6-57e2-4881-9b48-a1297a63cb02",
   "metadata": {
    "execution": {
     "iopub.execute_input": "2024-03-11T22:32:10.304092Z",
     "iopub.status.busy": "2024-03-11T22:32:10.303514Z",
     "iopub.status.idle": "2024-03-11T22:32:10.341134Z",
     "shell.execute_reply": "2024-03-11T22:32:10.340520Z",
     "shell.execute_reply.started": "2024-03-11T22:32:10.304058Z"
    },
    "tags": []
   },
   "outputs": [],
   "source": [
    "%load_ext autoreload\n",
    "%autoreload 2"
   ]
  },
  {
   "cell_type": "code",
   "execution_count": 5,
   "id": "fdddf8a6",
   "metadata": {
    "ExecuteTime": {
     "end_time": "2023-05-31T19:57:59.637665Z",
     "start_time": "2023-05-31T19:57:59.633997Z"
    },
    "execution": {
     "iopub.execute_input": "2024-03-11T22:32:11.419238Z",
     "iopub.status.busy": "2024-03-11T22:32:11.418549Z",
     "iopub.status.idle": "2024-03-11T22:32:11.456275Z",
     "shell.execute_reply": "2024-03-11T22:32:11.455158Z",
     "shell.execute_reply.started": "2024-03-11T22:32:11.419192Z"
    },
    "tags": []
   },
   "outputs": [],
   "source": [
    "torch.set_default_tensor_type(torch.DoubleTensor)"
   ]
  },
  {
   "cell_type": "markdown",
   "id": "2f8c5bb2-6fee-4ee2-a445-85ac0dbfce0d",
   "metadata": {},
   "source": []
  },
  {
   "cell_type": "markdown",
   "id": "a71a1896-97fe-4ebb-85ba-6d1ced67df3f",
   "metadata": {},
   "source": [
    "# Extract data from `mat` file"
   ]
  },
  {
   "cell_type": "raw",
   "id": "c33cb989-35ec-43ff-a999-b51508a403d7",
   "metadata": {
    "execution": {
     "iopub.execute_input": "2024-03-08T17:19:00.793727Z",
     "iopub.status.busy": "2024-03-08T17:19:00.793120Z",
     "iopub.status.idle": "2024-03-08T17:19:01.273200Z",
     "shell.execute_reply": "2024-03-08T17:19:01.271928Z",
     "shell.execute_reply.started": "2024-03-08T17:19:00.793681Z"
    },
    "tags": []
   },
   "source": [
    "AD1 = loadmat(RES_ROOT/\"../tmp/87ADs_before_filter1000100_PSD.mat\");\n",
    "AD2 = loadmat(RES_ROOT/\"../tmp/DK_timecourse100_PSD.mat\");\n",
    "ctrl1 = loadmat(RES_ROOT/\"../tmp/70Ctrls_before_filter1000100_PSD.mat\");\n",
    "ctrl2 = loadmat(RES_ROOT/\"../tmp/timecourse_ucsfCONT_group100_PSD.mat\");\n",
    "\n",
    "all_AD_psd = []\n",
    "freqs = AD1[\"data_1\"][0][0][1].reshape(-1)\n",
    "for ix in range(1, 88):\n",
    "    all_AD_psd.append(AD1[f\"data_{ix}\"][0][0][0])\n",
    "all_AD_psd.append(AD2[f\"data_1\"][0][0][0])\n",
    "res = edict()\n",
    "res.PSDs = np.array(all_AD_psd)\n",
    "res.freqs = freqs\n",
    "save_pkl(DATA_ROOT/f\"AD_vs_Ctrl_PSD/AD88_matlab_{1}-{45}.pkl\", res, \n",
    "         is_force=True)\n",
    "\n",
    "all_ctrl_psd = []\n",
    "freqs = ctrl1[\"data_1\"][0][0][1].reshape(-1)\n",
    "for ix in range(1, 71):\n",
    "    all_ctrl_psd.append(ctrl1[f\"data_{ix}\"][0][0][0])\n",
    "for ix in range(1, 23):\n",
    "    all_ctrl_psd.append(ctrl2[f\"data_{ix}\"][0][0][0])\n",
    "res = edict()\n",
    "res.PSDs = np.array(all_ctrl_psd)\n",
    "res.freqs = freqs\n",
    "save_pkl(DATA_ROOT/f\"AD_vs_Ctrl_PSD/Ctrl92_matlab_{1}-{45}.pkl\", res, \n",
    "         is_force=True)"
   ]
  },
  {
   "cell_type": "raw",
   "id": "e23cdf61-1be1-40e6-bfcb-e1e1a27cab14",
   "metadata": {
    "execution": {
     "iopub.execute_input": "2024-03-08T17:19:02.898298Z",
     "iopub.status.busy": "2024-03-08T17:19:02.897709Z",
     "iopub.status.idle": "2024-03-08T17:19:03.098743Z",
     "shell.execute_reply": "2024-03-08T17:19:03.098308Z",
     "shell.execute_reply.started": "2024-03-08T17:19:02.898252Z"
    },
    "tags": []
   },
   "source": [
    "AD_PSD_dB = np.log10(all_AD_psd) * 10\n",
    "ctrl_PSD_dB = np.log10(all_ctrl_psd) * 10;\n",
    "ADm = AD_PSD_dB.mean(axis=(1, 2))\n",
    "ctrlm = ctrl_PSD_dB.mean(axis=(1, 2));\n",
    "AD_PSD_dB = AD_PSD_dB[ADm >0]\n",
    "ctrl_PSD_dB = ctrl_PSD_dB[ctrlm>0]\n",
    "plt.plot(freqs, AD_PSD_dB.mean(axis=(0, 1)), label=\"AD\")\n",
    "plt.plot(freqs, ctrl_PSD_dB.mean(axis=(0, 1)), label=\"Ctrl\")\n",
    "plt.legend()"
   ]
  },
  {
   "cell_type": "code",
   "execution_count": null,
   "id": "704fd7ae-324d-453a-976b-e3ab71d7bbc3",
   "metadata": {},
   "outputs": [],
   "source": []
  },
  {
   "cell_type": "markdown",
   "id": "570a9628-1011-4116-9fad-b06b02726b5a",
   "metadata": {},
   "source": [
    "# The PSD data from matlab"
   ]
  },
  {
   "cell_type": "code",
   "execution_count": 21,
   "id": "d0af2f35",
   "metadata": {
    "execution": {
     "iopub.execute_input": "2024-03-08T01:10:13.205213Z",
     "iopub.status.busy": "2024-03-08T01:10:13.204415Z",
     "iopub.status.idle": "2024-03-08T01:10:13.307880Z",
     "shell.execute_reply": "2024-03-08T01:10:13.306893Z",
     "shell.execute_reply.started": "2024-03-08T01:10:13.205164Z"
    },
    "tags": []
   },
   "outputs": [
    {
     "name": "stdout",
     "output_type": "stream",
     "text": [
      "Load file /data/rajlab1/user_data/jin/MyResearch/HDF_infer/notebooks/real_data/../../mypkg/../data/AD_vs_Ctrl_PSD/AD88_PSD100_all.pkl\n",
      "Load file /data/rajlab1/user_data/jin/MyResearch/HDF_infer/notebooks/real_data/../../mypkg/../data/AD_vs_Ctrl_PSD/Ctrl70_PSD100_all.pkl\n"
     ]
    }
   ],
   "source": [
    "data_root = DATA_ROOT/\"AD_vs_Ctrl_PSD/\";\n",
    "AD_PSD = load_pkl(data_root/\"AD88_PSD100_all.pkl\");\n",
    "ctrl_PSD = load_pkl(data_root/\"Ctrl70_PSD100_all.pkl\");"
   ]
  },
  {
   "cell_type": "code",
   "execution_count": 22,
   "id": "282af732-8a99-46c0-95c0-01c9cdc276bd",
   "metadata": {
    "execution": {
     "iopub.execute_input": "2024-03-08T01:10:13.849687Z",
     "iopub.status.busy": "2024-03-08T01:10:13.849134Z",
     "iopub.status.idle": "2024-03-08T01:10:13.913921Z",
     "shell.execute_reply": "2024-03-08T01:10:13.912306Z",
     "shell.execute_reply.started": "2024-03-08T01:10:13.849642Z"
    },
    "tags": []
   },
   "outputs": [
    {
     "data": {
      "text/plain": [
       "array([104.08569949,   3.54254871,   1.79620662,   1.18183189,\n",
       "         1.0206017 ,   0.83125816,   0.73498906,   0.58769162,\n",
       "         0.55959897,   0.51322579])"
      ]
     },
     "execution_count": 22,
     "metadata": {},
     "output_type": "execute_result"
    }
   ],
   "source": [
    "PSD_dB = np.log10(ctrl_PSD.PSDs);\n",
    "np.linalg.svd(np.cov(PSD_dB[:, :, 0].T))[1][:10]"
   ]
  },
  {
   "cell_type": "code",
   "execution_count": 23,
   "id": "347aabee-f170-4951-b953-96a2c5fa685c",
   "metadata": {
    "execution": {
     "iopub.execute_input": "2024-03-08T01:10:14.731468Z",
     "iopub.status.busy": "2024-03-08T01:10:14.730913Z",
     "iopub.status.idle": "2024-03-08T01:10:14.889654Z",
     "shell.execute_reply": "2024-03-08T01:10:14.889223Z",
     "shell.execute_reply.started": "2024-03-08T01:10:14.731423Z"
    },
    "tags": []
   },
   "outputs": [
    {
     "data": {
      "text/plain": [
       "<matplotlib.legend.Legend at 0x7f869031b2b0>"
      ]
     },
     "execution_count": 23,
     "metadata": {},
     "output_type": "execute_result"
    },
    {
     "data": {
      "image/png": "[encoded data removed]",
      "text/plain": [
       "<Figure size 432x288 with 1 Axes>"
      ]
     },
     "metadata": {
      "needs_background": "light"
     },
     "output_type": "display_data"
    }
   ],
   "source": [
    "AD_PSD_dB = 20*np.log10(AD_PSD.PSDs)\n",
    "ctrl_PSD_dB = 20*np.log10(ctrl_PSD.PSDs);\n",
    "#AD_PSD_dB_std = (AD_PSD_dB - AD_PSD_dB.mean(axis=-1, keepdims=1))/AD_PSD_dB.std(axis=-1, keepdims=1)\n",
    "#ctrl_PSD_dB_std = (ctrl_PSD_dB - ctrl_PSD_dB.mean(axis=-1, keepdims=1))/ctrl_PSD_dB.std(axis=-1, keepdims=1)\n",
    "ADm = AD_PSD_dB.mean(axis=(1, 2))\n",
    "ctrlm = ctrl_PSD_dB.mean(axis=(1, 2))\n",
    "AD_PSD_dB_std = AD_PSD_dB[ADm >0]\n",
    "ctrl_PSD_dB_std = ctrl_PSD_dB[ctrlm>0]\n",
    "plt.plot(AD_PSD.freqs, AD_PSD_dB_std.mean(axis=(0, 1)), label=\"AD\")\n",
    "plt.plot(AD_PSD.freqs, ctrl_PSD_dB_std.mean(axis=(0, 1)), label=\"Ctrl\")\n",
    "plt.legend()"
   ]
  },
  {
   "cell_type": "code",
   "execution_count": 24,
   "id": "689fb5df-d44b-4ea5-aac1-a2712091e2cf",
   "metadata": {
    "execution": {
     "iopub.execute_input": "2024-03-08T01:10:34.074504Z",
     "iopub.status.busy": "2024-03-08T01:10:34.073861Z",
     "iopub.status.idle": "2024-03-08T01:10:34.277544Z",
     "shell.execute_reply": "2024-03-08T01:10:34.277037Z",
     "shell.execute_reply.started": "2024-03-08T01:10:34.074458Z"
    },
    "tags": []
   },
   "outputs": [
    {
     "data": {
      "image/png": "[encoded data removed]",
      "text/plain": [
       "<Figure size 432x288 with 1 Axes>"
      ]
     },
     "metadata": {
      "needs_background": "light"
     },
     "output_type": "display_data"
    }
   ],
   "source": [
    "sub_ix = 0\n",
    "for roi_ix in range(68):\n",
    "    plt.plot(AD_PSD_dB[sub_ix, roi_ix])"
   ]
  },
  {
   "cell_type": "code",
   "execution_count": 110,
   "id": "046bd597-b4ef-46d3-b994-760d96b33b62",
   "metadata": {
    "execution": {
     "iopub.execute_input": "2023-06-09T17:57:19.460913Z",
     "iopub.status.busy": "2023-06-09T17:57:19.460347Z",
     "iopub.status.idle": "2023-06-09T17:57:19.496280Z",
     "shell.execute_reply": "2023-06-09T17:57:19.495435Z",
     "shell.execute_reply.started": "2023-06-09T17:57:19.460868Z"
    },
    "tags": []
   },
   "outputs": [
    {
     "data": {
      "text/html": [
       "<div>\n",
       "<style scoped>\n",
       "    .dataframe tbody tr th:only-of-type {\n",
       "        vertical-align: middle;\n",
       "    }\n",
       "\n",
       "    .dataframe tbody tr th {\n",
       "        vertical-align: top;\n",
       "    }\n",
       "\n",
       "    .dataframe thead th {\n",
       "        text-align: right;\n",
       "    }\n",
       "</style>\n",
       "<table border=\"1\" class=\"dataframe\">\n",
       "  <thead>\n",
       "    <tr style=\"text-align: right;\">\n",
       "      <th></th>\n",
       "      <th>RID</th>\n",
       "      <th>Gender</th>\n",
       "      <th>MEG_Age</th>\n",
       "      <th>MMSE</th>\n",
       "      <th>CDR</th>\n",
       "      <th>CDR_Box</th>\n",
       "      <th>Grp</th>\n",
       "      <th>idx</th>\n",
       "      <th>KeepIt</th>\n",
       "      <th>ncpts</th>\n",
       "      <th>ranks</th>\n",
       "    </tr>\n",
       "  </thead>\n",
       "  <tbody>\n",
       "    <tr>\n",
       "      <th>0</th>\n",
       "      <td>R1146</td>\n",
       "      <td>female</td>\n",
       "      <td>59.1</td>\n",
       "      <td>20.0</td>\n",
       "      <td>1.0</td>\n",
       "      <td>5.5</td>\n",
       "      <td>AD</td>\n",
       "      <td>0</td>\n",
       "      <td>1</td>\n",
       "      <td>0</td>\n",
       "      <td>6</td>\n",
       "    </tr>\n",
       "    <tr>\n",
       "      <th>1</th>\n",
       "      <td>R1213</td>\n",
       "      <td>male</td>\n",
       "      <td>64.3</td>\n",
       "      <td>22.0</td>\n",
       "      <td>1.0</td>\n",
       "      <td>4.5</td>\n",
       "      <td>AD</td>\n",
       "      <td>1</td>\n",
       "      <td>1</td>\n",
       "      <td>0</td>\n",
       "      <td>6</td>\n",
       "    </tr>\n",
       "    <tr>\n",
       "      <th>2</th>\n",
       "      <td>R1224</td>\n",
       "      <td>female</td>\n",
       "      <td>53.9</td>\n",
       "      <td>23.0</td>\n",
       "      <td>1.0</td>\n",
       "      <td>6.0</td>\n",
       "      <td>AD</td>\n",
       "      <td>2</td>\n",
       "      <td>1</td>\n",
       "      <td>3</td>\n",
       "      <td>8</td>\n",
       "    </tr>\n",
       "    <tr>\n",
       "      <th>3</th>\n",
       "      <td>R1429</td>\n",
       "      <td>female</td>\n",
       "      <td>62.3</td>\n",
       "      <td>19.0</td>\n",
       "      <td>0.5</td>\n",
       "      <td>4.0</td>\n",
       "      <td>AD</td>\n",
       "      <td>3</td>\n",
       "      <td>1</td>\n",
       "      <td>2</td>\n",
       "      <td>6</td>\n",
       "    </tr>\n",
       "    <tr>\n",
       "      <th>4</th>\n",
       "      <td>R1456</td>\n",
       "      <td>male</td>\n",
       "      <td>53.1</td>\n",
       "      <td>24.0</td>\n",
       "      <td>0.5</td>\n",
       "      <td>4.0</td>\n",
       "      <td>AD</td>\n",
       "      <td>4</td>\n",
       "      <td>1</td>\n",
       "      <td>0</td>\n",
       "      <td>4</td>\n",
       "    </tr>\n",
       "    <tr>\n",
       "      <th>...</th>\n",
       "      <td>...</td>\n",
       "      <td>...</td>\n",
       "      <td>...</td>\n",
       "      <td>...</td>\n",
       "      <td>...</td>\n",
       "      <td>...</td>\n",
       "      <td>...</td>\n",
       "      <td>...</td>\n",
       "      <td>...</td>\n",
       "      <td>...</td>\n",
       "      <td>...</td>\n",
       "    </tr>\n",
       "    <tr>\n",
       "      <th>175</th>\n",
       "      <td>UCSF294</td>\n",
       "      <td>female</td>\n",
       "      <td>63.0</td>\n",
       "      <td>NaN</td>\n",
       "      <td>NaN</td>\n",
       "      <td>NaN</td>\n",
       "      <td>Ctrl</td>\n",
       "      <td>175</td>\n",
       "      <td>1</td>\n",
       "      <td>3</td>\n",
       "      <td>3</td>\n",
       "    </tr>\n",
       "    <tr>\n",
       "      <th>176</th>\n",
       "      <td>UCSF302</td>\n",
       "      <td>female</td>\n",
       "      <td>62.0</td>\n",
       "      <td>NaN</td>\n",
       "      <td>NaN</td>\n",
       "      <td>NaN</td>\n",
       "      <td>Ctrl</td>\n",
       "      <td>176</td>\n",
       "      <td>1</td>\n",
       "      <td>6</td>\n",
       "      <td>4</td>\n",
       "    </tr>\n",
       "    <tr>\n",
       "      <th>177</th>\n",
       "      <td>UCSF310</td>\n",
       "      <td>male</td>\n",
       "      <td>47.0</td>\n",
       "      <td>NaN</td>\n",
       "      <td>NaN</td>\n",
       "      <td>NaN</td>\n",
       "      <td>Ctrl</td>\n",
       "      <td>177</td>\n",
       "      <td>1</td>\n",
       "      <td>7</td>\n",
       "      <td>4</td>\n",
       "    </tr>\n",
       "    <tr>\n",
       "      <th>178</th>\n",
       "      <td>UCSF403</td>\n",
       "      <td>male</td>\n",
       "      <td>62.0</td>\n",
       "      <td>NaN</td>\n",
       "      <td>NaN</td>\n",
       "      <td>NaN</td>\n",
       "      <td>Ctrl</td>\n",
       "      <td>178</td>\n",
       "      <td>1</td>\n",
       "      <td>2</td>\n",
       "      <td>4</td>\n",
       "    </tr>\n",
       "    <tr>\n",
       "      <th>179</th>\n",
       "      <td>UCSF411</td>\n",
       "      <td>male</td>\n",
       "      <td>54.0</td>\n",
       "      <td>NaN</td>\n",
       "      <td>NaN</td>\n",
       "      <td>NaN</td>\n",
       "      <td>Ctrl</td>\n",
       "      <td>179</td>\n",
       "      <td>1</td>\n",
       "      <td>7</td>\n",
       "      <td>6</td>\n",
       "    </tr>\n",
       "  </tbody>\n",
       "</table>\n",
       "<p>180 rows × 11 columns</p>\n",
       "</div>"
      ],
      "text/plain": [
       "         RID  Gender  MEG_Age  MMSE  CDR  CDR_Box   Grp  idx  KeepIt  ncpts  \\\n",
       "0      R1146  female     59.1  20.0  1.0      5.5    AD    0       1      0   \n",
       "1      R1213    male     64.3  22.0  1.0      4.5    AD    1       1      0   \n",
       "2      R1224  female     53.9  23.0  1.0      6.0    AD    2       1      3   \n",
       "3      R1429  female     62.3  19.0  0.5      4.0    AD    3       1      2   \n",
       "4      R1456    male     53.1  24.0  0.5      4.0    AD    4       1      0   \n",
       "..       ...     ...      ...   ...  ...      ...   ...  ...     ...    ...   \n",
       "175  UCSF294  female     63.0   NaN  NaN      NaN  Ctrl  175       1      3   \n",
       "176  UCSF302  female     62.0   NaN  NaN      NaN  Ctrl  176       1      6   \n",
       "177  UCSF310    male     47.0   NaN  NaN      NaN  Ctrl  177       1      7   \n",
       "178  UCSF403    male     62.0   NaN  NaN      NaN  Ctrl  178       1      2   \n",
       "179  UCSF411    male     54.0   NaN  NaN      NaN  Ctrl  179       1      7   \n",
       "\n",
       "     ranks  \n",
       "0        6  \n",
       "1        6  \n",
       "2        8  \n",
       "3        6  \n",
       "4        4  \n",
       "..     ...  \n",
       "175      3  \n",
       "176      4  \n",
       "177      4  \n",
       "178      4  \n",
       "179      6  \n",
       "\n",
       "[180 rows x 11 columns]"
      ]
     },
     "execution_count": 110,
     "metadata": {},
     "output_type": "execute_result"
    }
   ],
   "source": [
    "pd.read_csv(data_root/\"AllDataBaselineOrdered_r_ncpt.csv\")"
   ]
  },
  {
   "cell_type": "markdown",
   "id": "27e05f9e-1a17-4fd8-a524-ee9f2fdadbc8",
   "metadata": {},
   "source": [
    "## Another data"
   ]
  },
  {
   "cell_type": "code",
   "execution_count": 10,
   "id": "2a2ac0ae-4df8-4c3b-b2b3-ff704073bf2f",
   "metadata": {
    "execution": {
     "iopub.execute_input": "2024-03-04T19:05:30.091241Z",
     "iopub.status.busy": "2024-03-04T19:05:30.090609Z",
     "iopub.status.idle": "2024-03-04T19:05:30.354680Z",
     "shell.execute_reply": "2024-03-04T19:05:30.353399Z",
     "shell.execute_reply.started": "2024-03-04T19:05:30.091193Z"
    },
    "tags": []
   },
   "outputs": [
    {
     "name": "stdout",
     "output_type": "stream",
     "text": [
      "Load file /data/rajlab1/user_data/jin/MyResearch/HDF_infer/notebooks/real_data/../../mypkg/../data/AD_vs_Ctrl_PSD/AD88_PSD_all.pkl\n",
      "Load file /data/rajlab1/user_data/jin/MyResearch/HDF_infer/notebooks/real_data/../../mypkg/../data/AD_vs_Ctrl_PSD/Ctrl92_PSD_all.pkl\n"
     ]
    }
   ],
   "source": [
    "data_root = DATA_ROOT/\"AD_vs_Ctrl_PSD/\";\n",
    "AD_PSD = load_pkl(data_root/\"AD88_PSD_all.pkl\");\n",
    "ctrl_PSD = load_pkl(data_root/\"Ctrl92_PSD_all.pkl\");"
   ]
  },
  {
   "cell_type": "code",
   "execution_count": 11,
   "id": "e4b53a0e-7eb7-462d-87c4-aec31e62c17d",
   "metadata": {
    "execution": {
     "iopub.execute_input": "2024-03-04T19:05:30.990004Z",
     "iopub.status.busy": "2024-03-04T19:05:30.989446Z",
     "iopub.status.idle": "2024-03-04T19:05:31.153750Z",
     "shell.execute_reply": "2024-03-04T19:05:31.153331Z",
     "shell.execute_reply.started": "2024-03-04T19:05:30.989959Z"
    },
    "tags": []
   },
   "outputs": [
    {
     "data": {
      "text/plain": [
       "<matplotlib.legend.Legend at 0x7f8e708c7df0>"
      ]
     },
     "execution_count": 11,
     "metadata": {},
     "output_type": "execute_result"
    },
    {
     "data": {
      "image/png": "[encoded data removed]",
      "text/plain": [
       "<Figure size 432x288 with 1 Axes>"
      ]
     },
     "metadata": {
      "needs_background": "light"
     },
     "output_type": "display_data"
    }
   ],
   "source": [
    "AD_PSD_dB = np.log10(AD_PSD)\n",
    "ctrl_PSD_dB = np.log10(ctrl_PSD[:70]);\n",
    "AD_PSD_dB_std = (AD_PSD_dB - AD_PSD_dB.mean(axis=-1, keepdims=1))/AD_PSD_dB.std(axis=-1, keepdims=1)\n",
    "ctrl_PSD_dB_std = (ctrl_PSD_dB - ctrl_PSD_dB.mean(axis=-1, keepdims=1))/ctrl_PSD_dB.std(axis=-1, keepdims=1)\n",
    "plt.plot(AD_PSD_dB_std.mean(axis=(0, 1)), label=\"AD\")\n",
    "plt.plot(ctrl_PSD_dB_std.mean(axis=(0, 1)), label=\"Ctrl\")\n",
    "plt.legend()"
   ]
  },
  {
   "cell_type": "raw",
   "id": "60a96da3-b5a1-45de-a022-ef54ecbaf992",
   "metadata": {
    "execution": {
     "iopub.execute_input": "2024-03-04T19:05:32.033476Z",
     "iopub.status.busy": "2024-03-04T19:05:32.032775Z",
     "iopub.status.idle": "2024-03-04T19:05:35.846329Z",
     "shell.execute_reply": "2024-03-04T19:05:35.845122Z",
     "shell.execute_reply.started": "2024-03-04T19:05:32.033431Z"
    },
    "tags": []
   },
   "source": [
    "for sub_ix in trange(88):\n",
    "    f = plt.figure()\n",
    "    for roi_ix in range(68):\n",
    "        plt.plot(AD_PSD_dB[sub_ix, roi_ix])\n",
    "    plt.savefig(MIDRES_ROOT/f\"psd_figs/AD_{sub_ix}.jpg\")\n",
    "    f.clear()\n",
    "    plt.close()"
   ]
  },
  {
   "cell_type": "code",
   "execution_count": null,
   "id": "3699d5c7-b2dc-4e55-84bf-93ecd653b083",
   "metadata": {
    "tags": []
   },
   "outputs": [],
   "source": [
    "for sub_ix in trange(92):\n",
    "    f = plt.figure()\n",
    "    for roi_ix in range(68):\n",
    "        plt.plot(ctrl_PSD_dB[sub_ix, roi_ix])\n",
    "    plt.savefig(MIDRES_ROOT/f\"psd_figs/ctrl_{sub_ix}.jpg\")\n",
    "    f.clear()\n",
    "    plt.close()"
   ]
  },
  {
   "cell_type": "code",
   "execution_count": null,
   "id": "7136ef8a-7b0f-4eb8-86ee-c1e2a869e633",
   "metadata": {},
   "outputs": [],
   "source": []
  },
  {
   "cell_type": "markdown",
   "id": "ff6ecca1-c0c0-40be-b884-60016783084b",
   "metadata": {},
   "source": [
    "# From ts data"
   ]
  },
  {
   "cell_type": "code",
   "execution_count": 69,
   "id": "9c1e74f0-ef86-431a-93fc-e6d2ccec565c",
   "metadata": {
    "execution": {
     "iopub.execute_input": "2024-03-08T01:49:15.124075Z",
     "iopub.status.busy": "2024-03-08T01:49:15.123431Z",
     "iopub.status.idle": "2024-03-08T01:49:15.224569Z",
     "shell.execute_reply": "2024-03-08T01:49:15.223311Z",
     "shell.execute_reply.started": "2024-03-08T01:49:15.124026Z"
    },
    "tags": []
   },
   "outputs": [],
   "source": [
    "from utils.psd import butter_bandpass_filter\n",
    "import scipy.signal as signal\n",
    "def _get_psd_dB(ts, lfreq, hfreq, fs, nperseg=2048, is_smooth=True):\n",
    "    \"\"\"\n",
    "    Calculate the power spectral density (PSD) of a given time series (ts) within a specified frequency range.\n",
    "\n",
    "    Parameters:\n",
    "    ts (array-like): Time series data\n",
    "    lfreq (float): Lower frequency bound\n",
    "    hfreq (float): Upper frequency bound\n",
    "    fs (float): Sampling frequency\n",
    "    nperseg (int, optional): Number of data points used in each segment for Welch's method. Default is 1200.\n",
    "\n",
    "    Returns:\n",
    "    freqs (array-like): Frequencies within the specified range\n",
    "    psd_dB (array-like): Power spectral density in decibels\n",
    "    \"\"\"\n",
    "    lpf = np.array([1, 2, 5, 2, 1]) \n",
    "    lpf = lpf/np.sum(lpf)\n",
    "    \n",
    "    # filter \n",
    "    #ts_filtered = butter_bandpass_filter(ts, lfreq, hfreq, fs=fs);\n",
    "    sos = signal.butter(N=5, Wn=[lfreq, hfreq], fs=fs, btype=\"band\", output=\"sos\")\n",
    "    ts_filtered = signal.sosfilt(sos, ts)\n",
    "    \n",
    "    # estimate \n",
    "    freqs, Sxx = signal.welch(ts_filtered, fs=fs, nperseg=nperseg, detrend=False);\n",
    "    psd_raw = Sxx # !!! it seems no need to take square\n",
    "    \n",
    "    # to dB\n",
    "    psd_dB = 10 * np.log10(psd_raw);\n",
    "    \n",
    "    \n",
    "    # select my interested freq band\n",
    "    idxs = np.bitwise_and(freqs>=lfreq, freqs<=hfreq);\n",
    "    freqs = freqs[idxs]\n",
    "    psd_dB = psd_dB[idxs];\n",
    "    \n",
    "    # convolve\n",
    "    if is_smooth:\n",
    "        psd_dB0 = np.convolve(psd_dB,lpf,'valid');\n",
    "        psd_dB =  np.concatenate([psd_dB[:2], psd_dB0, psd_dB[-2:]])\n",
    "    \n",
    "    # dB to sq mag\n",
    "    psd_raw = 10**(psd_dB/10)\n",
    "    return freqs, psd_dB, psd_raw"
   ]
  },
  {
   "cell_type": "code",
   "execution_count": 70,
   "id": "06b96edd-8759-489b-85fe-5e31196aaa37",
   "metadata": {
    "execution": {
     "iopub.execute_input": "2024-03-08T01:49:17.145231Z",
     "iopub.status.busy": "2024-03-08T01:49:17.144623Z",
     "iopub.status.idle": "2024-03-08T01:49:17.831313Z",
     "shell.execute_reply": "2024-03-08T01:49:17.830266Z",
     "shell.execute_reply.started": "2024-03-08T01:49:17.145184Z"
    },
    "tags": []
   },
   "outputs": [
    {
     "name": "stdout",
     "output_type": "stream",
     "text": [
      "Load file /data/rajlab1/user_data/jin/MyResearch/HDF_infer/notebooks/real_data/../../mypkg/../data/AD_vs_Ctrl_ts/AD88_all.pkl\n",
      "Load file /data/rajlab1/user_data/jin/MyResearch/HDF_infer/notebooks/real_data/../../mypkg/../data/AD_vs_Ctrl_ts/Ctrl92_all.pkl\n"
     ]
    }
   ],
   "source": [
    "data_root = DATA_ROOT/\"AD_vs_Ctrl_ts/\";\n",
    "AD_ts = load_pkl(data_root/\"AD88_all.pkl\");\n",
    "ctrl_ts = load_pkl(data_root/\"Ctrl92_all.pkl\");"
   ]
  },
  {
   "cell_type": "code",
   "execution_count": 71,
   "id": "fa47afa0-3cf7-45b3-afef-137229c76989",
   "metadata": {
    "execution": {
     "iopub.execute_input": "2024-03-08T01:49:18.443303Z",
     "iopub.status.busy": "2024-03-08T01:49:18.442744Z",
     "iopub.status.idle": "2024-03-08T01:49:18.505580Z",
     "shell.execute_reply": "2024-03-08T01:49:18.504248Z",
     "shell.execute_reply.started": "2024-03-08T01:49:18.443258Z"
    },
    "tags": []
   },
   "outputs": [
    {
     "data": {
      "text/plain": [
       "array([5.60218462e+10, 1.32527519e+10, 8.59198999e+09, 7.20514982e+09,\n",
       "       6.78101401e+09, 6.48328217e+09, 4.61843307e+09, 3.32436894e+09,\n",
       "       2.75508768e+09, 2.29678542e+09])"
      ]
     },
     "execution_count": 71,
     "metadata": {},
     "output_type": "execute_result"
    }
   ],
   "source": [
    "np.linalg.svd(np.cov(ctrl_ts[:, :, 0].T))[1][:10]"
   ]
  },
  {
   "cell_type": "code",
   "execution_count": 72,
   "id": "00899b25-84b7-4ebc-9c6e-d2f0e9d7e20a",
   "metadata": {
    "execution": {
     "iopub.execute_input": "2024-03-08T01:49:19.544442Z",
     "iopub.status.busy": "2024-03-08T01:49:19.543885Z",
     "iopub.status.idle": "2024-03-08T01:49:19.581074Z",
     "shell.execute_reply": "2024-03-08T01:49:19.580388Z",
     "shell.execute_reply.started": "2024-03-08T01:49:19.544397Z"
    },
    "tags": []
   },
   "outputs": [],
   "source": [
    "def _run_fn(data, roi_ix, is_freq=False):\n",
    "    ts = data[roi_ix]\n",
    "    ts = signal.detrend(ts)\n",
    "    freqs, _, dat = _get_psd_dB(ts, lfreq, hfreq, fs);\n",
    "    if is_freq:\n",
    "        return freqs\n",
    "    else:\n",
    "        return dat"
   ]
  },
  {
   "cell_type": "code",
   "execution_count": 73,
   "id": "8f5961cc-89e4-4e87-b7da-cb3a2e2d566c",
   "metadata": {
    "execution": {
     "iopub.execute_input": "2024-03-08T01:49:20.593568Z",
     "iopub.status.busy": "2024-03-08T01:49:20.593029Z",
     "iopub.status.idle": "2024-03-08T01:49:45.920488Z",
     "shell.execute_reply": "2024-03-08T01:49:45.919169Z",
     "shell.execute_reply.started": "2024-03-08T01:49:20.593524Z"
    },
    "tags": []
   },
   "outputs": [
    {
     "name": "stderr",
     "output_type": "stream",
     "text": [
      "100%|█████████████████████████████████████████████████████████████████████████████████████████████████████████████████████████████████████████████████████████████████████████| 88/88 [00:25<00:00,  3.50it/s]"
     ]
    },
    {
     "name": "stdout",
     "output_type": "stream",
     "text": [
      "Save to /data/rajlab1/user_data/jin/MyResearch/HDF_infer/notebooks/real_data/../../mypkg/../data/AD_vs_Ctrl_PSD/AD88_PSD89_all_1-40.pkl\n"
     ]
    },
    {
     "name": "stderr",
     "output_type": "stream",
     "text": [
      "\n"
     ]
    }
   ],
   "source": [
    "lfreq, hfreq = 1, 40\n",
    "fs = 600\n",
    "\n",
    "freqs = _run_fn(AD_ts[0], 0, is_freq=True)\n",
    "psds = []\n",
    "for sub_ix in trange(88):\n",
    "    psd = []\n",
    "    data= AD_ts[sub_ix]\n",
    "    with Parallel(n_jobs=10) as parallel:\n",
    "        psd = parallel(delayed(_run_fn)(data, roi_ix) for roi_ix in range(0, 68))\n",
    "    psds.append(psd)\n",
    "psds = np.array(psds);\n",
    "\n",
    "res = edict()\n",
    "res.PSDs = psds\n",
    "res.freqs = freqs\n",
    "res.readme = \"\"\"\n",
    "    The PSD is not in dB, to dB, use 10*log(psd). \n",
    "    I get it in python with welch and convolve\n",
    "    \"\"\"\n",
    "save_pkl(DATA_ROOT/f\"AD_vs_Ctrl_PSD/AD88_PSD89_all_{lfreq}-{hfreq}.pkl\", res, is_force=True)"
   ]
  },
  {
   "cell_type": "code",
   "execution_count": 74,
   "id": "e3e3fb19-ff19-446d-99ab-0899c0ee312b",
   "metadata": {
    "execution": {
     "iopub.execute_input": "2024-03-08T01:49:50.708096Z",
     "iopub.status.busy": "2024-03-08T01:49:50.707456Z",
     "iopub.status.idle": "2024-03-08T01:50:14.918264Z",
     "shell.execute_reply": "2024-03-08T01:50:14.916884Z",
     "shell.execute_reply.started": "2024-03-08T01:49:50.708050Z"
    },
    "tags": []
   },
   "outputs": [
    {
     "name": "stderr",
     "output_type": "stream",
     "text": [
      "100%|█████████████████████████████████████████████████████████████████████████████████████████████████████████████████████████████████████████████████████████████████████████| 92/92 [00:24<00:00,  3.83it/s]"
     ]
    },
    {
     "name": "stdout",
     "output_type": "stream",
     "text": [
      "Save to /data/rajlab1/user_data/jin/MyResearch/HDF_infer/notebooks/real_data/../../mypkg/../data/AD_vs_Ctrl_PSD/Ctrl92_PSD89_all_1-40.pkl\n"
     ]
    },
    {
     "name": "stderr",
     "output_type": "stream",
     "text": [
      "\n"
     ]
    }
   ],
   "source": [
    "freqs = _run_fn(ctrl_ts[0], 0, is_freq=True)\n",
    "psds = []\n",
    "for sub_ix in trange(92):\n",
    "    data= ctrl_ts[sub_ix]\n",
    "    with Parallel(n_jobs=20) as parallel:\n",
    "        psd = parallel(delayed(_run_fn)(data, roi_ix) for roi_ix in range(0, 68))\n",
    "    psds.append(psd)\n",
    "psds = np.array(psds);\n",
    "\n",
    "res = edict()\n",
    "res.PSDs = psds\n",
    "res.freqs = freqs\n",
    "res.readme = \"\"\"\n",
    "    The PSD is not in dB, to dB, use 10*log(psd). \n",
    "    I get it in python with welch and convolve\n",
    "    \"\"\"\n",
    "save_pkl(DATA_ROOT/f\"AD_vs_Ctrl_PSD/Ctrl92_PSD89_all_{lfreq}-{hfreq}.pkl\", res, is_force=True)"
   ]
  },
  {
   "cell_type": "code",
   "execution_count": 75,
   "id": "bef47163-24d1-495b-9c4b-4268c53fecbe",
   "metadata": {
    "execution": {
     "iopub.execute_input": "2024-03-08T01:50:17.947713Z",
     "iopub.status.busy": "2024-03-08T01:50:17.946923Z",
     "iopub.status.idle": "2024-03-08T01:50:18.194456Z",
     "shell.execute_reply": "2024-03-08T01:50:18.193052Z",
     "shell.execute_reply.started": "2024-03-08T01:50:17.947661Z"
    },
    "tags": []
   },
   "outputs": [
    {
     "name": "stdout",
     "output_type": "stream",
     "text": [
      "Load file /data/rajlab1/user_data/jin/MyResearch/HDF_infer/notebooks/real_data/../../mypkg/../data/AD_vs_Ctrl_PSD/AD88_PSD89_all_1-40.pkl\n",
      "Load file /data/rajlab1/user_data/jin/MyResearch/HDF_infer/notebooks/real_data/../../mypkg/../data/AD_vs_Ctrl_PSD/Ctrl92_PSD89_all_1-40.pkl\n"
     ]
    }
   ],
   "source": [
    "AD_PSD = load_pkl(DATA_ROOT/f\"AD_vs_Ctrl_PSD/AD88_PSD89_all_{lfreq}-{hfreq}.pkl\")\n",
    "ctrl_PSD = load_pkl(DATA_ROOT/f\"AD_vs_Ctrl_PSD/Ctrl92_PSD89_all_{lfreq}-{hfreq}.pkl\");"
   ]
  },
  {
   "cell_type": "code",
   "execution_count": 76,
   "id": "cbd04173-5afb-488d-b7ad-5c4dc97951b4",
   "metadata": {
    "execution": {
     "iopub.execute_input": "2024-03-08T01:50:19.131096Z",
     "iopub.status.busy": "2024-03-08T01:50:19.130511Z",
     "iopub.status.idle": "2024-03-08T01:50:19.353913Z",
     "shell.execute_reply": "2024-03-08T01:50:19.353490Z",
     "shell.execute_reply.started": "2024-03-08T01:50:19.131051Z"
    },
    "tags": []
   },
   "outputs": [
    {
     "data": {
      "text/plain": [
       "<matplotlib.legend.Legend at 0x7f878dbaf910>"
      ]
     },
     "execution_count": 76,
     "metadata": {},
     "output_type": "execute_result"
    },
    {
     "data": {
      "image/png": "[encoded data removed]",
      "text/plain": [
       "<Figure size 432x288 with 1 Axes>"
      ]
     },
     "metadata": {
      "needs_background": "light"
     },
     "output_type": "display_data"
    }
   ],
   "source": [
    "AD_PSD_dB = 20*np.log10(AD_PSD.PSDs)\n",
    "ctrl_PSD_dB = 20*np.log10(ctrl_PSD.PSDs)[:];\n",
    "AD_PSD_dB_std = (AD_PSD_dB-AD_PSD_dB.mean(axis=-1, keepdims=True))/AD_PSD_dB.std(axis=-1, keepdims=True)\n",
    "ctrl_PSD_dB_std = (ctrl_PSD_dB-ctrl_PSD_dB.mean(axis=-1, keepdims=True))/ctrl_PSD_dB.std(axis=-1, keepdims=True)\n",
    "AD_PSD_dB_std = AD_PSD_dB\n",
    "ctrl_PSD_dB_std = ctrl_PSD_dB\n",
    "\n",
    "ADm = AD_PSD_dB.mean(axis=(1, 2))\n",
    "ctrlm = ctrl_PSD_dB.mean(axis=(1, 2))\n",
    "AD_PSD_dB_std = AD_PSD_dB[ADm >0]\n",
    "ctrl_PSD_dB_std = ctrl_PSD_dB[ctrlm>0]\n",
    "plt.plot(AD_PSD.freqs, AD_PSD_dB_std.mean(axis=(0, 1)), label=\"AD\")\n",
    "plt.plot(AD_PSD.freqs, ctrl_PSD_dB_std.mean(axis=(0, 1)), label=\"Ctrl\")\n",
    "plt.ylim([50, 70])\n",
    "plt.xlim([2, 35])\n",
    "plt.legend()"
   ]
  },
  {
   "cell_type": "markdown",
   "id": "fe91b1d1-2ff5-43f7-904d-5d1551fa3a8c",
   "metadata": {},
   "source": [
    "# Get raw X and Y for sinica paper\n",
    "\n",
    "Note I will std X across time/freq axis first, then std X across the sample size. "
   ]
  },
  {
   "cell_type": "markdown",
   "id": "68bef092-58aa-4b8f-8460-6657569c285e",
   "metadata": {},
   "source": [
    "Paper: Hypothesis Testing in Large-scale Functional Linear Regression"
   ]
  },
  {
   "cell_type": "code",
   "execution_count": 8,
   "id": "9cd1e804-7868-455d-b061-f82ec0c894a1",
   "metadata": {
    "execution": {
     "iopub.execute_input": "2024-03-11T22:32:37.719287Z",
     "iopub.status.busy": "2024-03-11T22:32:37.718648Z",
     "iopub.status.idle": "2024-03-11T22:32:37.910826Z",
     "shell.execute_reply": "2024-03-11T22:32:37.910208Z",
     "shell.execute_reply.started": "2024-03-11T22:32:37.719240Z"
    },
    "tags": []
   },
   "outputs": [
    {
     "name": "stdout",
     "output_type": "stream",
     "text": [
      "Load file /data/rajlab1/user_data/jin/MyResearch/HDF_infer/notebooks/real_data/../../mypkg/../data/AD_vs_Ctrl_PSD/AD88_matlab_1-45.pkl\n",
      "Load file /data/rajlab1/user_data/jin/MyResearch/HDF_infer/notebooks/real_data/../../mypkg/../data/AD_vs_Ctrl_PSD/Ctrl92_matlab_1-45.pkl\n"
     ]
    }
   ],
   "source": [
    "from scipy.io import savemat\n",
    "\n",
    "# load data and preprocessing\n",
    "OUTLIER_IDXS = dict(AD=[49], ctrl=[14, 19, 30, 38])\n",
    "DATA = [\"AD88_matlab_1-45.pkl\", \"Ctrl92_matlab_1-45.pkl\"]\n",
    "SAVE_PREFIX = \"psd_matlab_1-45\"\n",
    "\n",
    "\n",
    "data_root = DATA_ROOT/\"AD_vs_Ctrl_PSD/\";\n",
    "AD_PSD = load_pkl(data_root/DATA[0]);\n",
    "ctrl_PSD = load_pkl(data_root/DATA[1]);\n",
    "df0= pd.read_csv(data_root/\"AllDataBaselineOrdered_r_ncpt.csv\");\n",
    "df1= pd.read_csv(data_root/\"AllDataBaselineOrdered_r_ncpt_more.csv\");\n",
    "df1 = df1.set_index(\"RID\")\n",
    "df0 = df0.set_index(\"RID\");\n",
    "df1 = df1.reindex(df0.index)\n",
    "baseline = df1\n",
    "baseline[\"Gender_binary\"] = baseline[\"Gender\"].apply(lambda x: 0 if x==\"female\" else 1);\n",
    "baseline[\"Grp_binary\"] = baseline[\"Grp\"].apply(lambda x: 1 if x==\"AD\" else 0);\n",
    "\n",
    "\n",
    "# The outlier idxs to rm\n",
    "outlier_idxs = np.concatenate([OUTLIER_IDXS[\"AD\"], len(AD_PSD.PSDs)+np.array(OUTLIER_IDXS[\"ctrl\"])])\n",
    "outlier_idxs = outlier_idxs.astype(int)\n",
    "\n",
    "# make PSD in dB and std \n",
    "raw_X = np.concatenate([AD_PSD.PSDs, ctrl_PSD.PSDs]); #n x d x npts\n",
    "X_dB = 10*np.log10(raw_X);\n",
    "outlier_idxs2 = np.where(X_dB.mean(axis=(1, 2))<0)\n",
    "#X = (X_dB - X_dB.mean(axis=-1, keepdims=1))/X_dB.std(axis=-1, keepdims=1);\n",
    "X = X_dB\n",
    "\n",
    "Y = np.array(baseline[\"MMSE\"])[:X.shape[0]];\n",
    "# if logi\n",
    "#Yb = np.array(baseline[\"Grp_binary\"])[:X.shape[0]];\n",
    "\n",
    "sel_cov = [\"Gender_binary\", \"MEG_Age\",\"Education\"]\n",
    "Z_raw = np.array(baseline[sel_cov])[:X.shape[0]];\n",
    "\n",
    "grp_idxs = np.array(baseline[\"Grp\"])[:X.shape[0]];\n",
    "\n",
    "\n",
    "outlier_idxs = np.sort(np.union1d(outlier_idxs, outlier_idxs2))\n",
    "\n",
    "\n",
    "# remove outliers\n",
    "X = np.delete(X, outlier_idxs, axis=0)\n",
    "Y = np.delete(Y, outlier_idxs, axis=0)\n",
    "Z_raw = np.delete(Z_raw, outlier_idxs, axis=0)\n",
    "grp_idxs = np.delete(grp_idxs, outlier_idxs, axis=0)\n",
    "\n",
    "\n",
    "#remove nan\n",
    "keep_idx = ~np.bitwise_or(np.isnan(Y), np.isnan(Z_raw.sum(axis=1)));\n",
    "X = X[keep_idx];\n",
    "Y = Y[keep_idx]\n",
    "Z_raw = Z_raw[keep_idx]\n",
    "grp_idxs = grp_idxs[keep_idx]\n",
    "\n",
    "Z = np.concatenate([np.ones((Z_raw.shape[0], 1)), Z_raw], axis=1); # add intercept\n",
    "\n",
    "\n",
    "freqs = AD_PSD.freqs;\n",
    "# only take PSD between [2, 35] freqs of interest\n",
    "X = X[:, :, np.bitwise_and(freqs>=2, freqs<=35)]\n",
    "X = X/X.mean();\n",
    "\n",
    "\n",
    "if SAVE_PREFIX.endswith(\"X1err\"):\n",
    "    print(\"add noise to PSD\")\n",
    "    X = X+np.random.randn(*X.shape)*0.1;\n",
    "\n"
   ]
  },
  {
   "cell_type": "code",
   "execution_count": 9,
   "id": "6b288c3c-e906-43db-a226-2ed28403bed8",
   "metadata": {
    "execution": {
     "iopub.execute_input": "2024-03-11T22:32:39.054840Z",
     "iopub.status.busy": "2024-03-11T22:32:39.054252Z",
     "iopub.status.idle": "2024-03-11T22:32:39.304397Z",
     "shell.execute_reply": "2024-03-11T22:32:39.303209Z",
     "shell.execute_reply.started": "2024-03-11T22:32:39.054794Z"
    },
    "tags": []
   },
   "outputs": [],
   "source": [
    "# remove effect of covs by projection, \n",
    "# refer to HDF (on Mar 11, 2024)\n",
    "pZ = Z[:, 2:]\n",
    "stdpZ = (pZ - pZ.mean(axis=0))/pZ.std(axis=0)\n",
    "Z[:, 2:] = stdpZ;\n",
    "Z = Z[:, 1:];\n",
    "Proj = np.eye(Z.shape[0]) - Z @ np.linalg.inv(Z.T @ Z) @ Z.T;\n",
    "\n",
    "Y = Y - Y.mean(axis=0, keepdims=1)\n",
    "X = X - X.mean(axis=0, keepdims=1)\n",
    "\n",
    "pY = Proj @ Y;\n",
    "pX = Proj[None] @ X.transpose(1, 0, 2);\n",
    "pX = pX.transpose(1, 0, 2);\n",
    "\n",
    "savemat(MIDRES_ROOT/f\"matlab_real_data/{SAVE_PREFIX}.mat\", \n",
    "           {\n",
    "               'X_centered': pX, \n",
    "               'Y_centered': pY\n",
    "           }\n",
    "       )"
   ]
  },
  {
   "cell_type": "code",
   "execution_count": null,
   "id": "54915fd6-4bd4-4954-9c23-67789934a37b",
   "metadata": {},
   "outputs": [],
   "source": []
  },
  {
   "cell_type": "raw",
   "id": "40e9c95e-c288-4a13-b792-08da83c86eab",
   "metadata": {
    "execution": {
     "iopub.execute_input": "2024-03-11T18:13:19.366697Z",
     "iopub.status.busy": "2024-03-11T18:13:19.366047Z",
     "iopub.status.idle": "2024-03-11T18:13:19.412848Z",
     "shell.execute_reply": "2024-03-11T18:13:19.412128Z",
     "shell.execute_reply.started": "2024-03-11T18:13:19.366651Z"
    },
    "tags": []
   },
   "source": [
    "from sklearn.linear_model import LinearRegression\n",
    "# linear reg to remove effect of \n",
    "pZ = Z[:, 2:]\n",
    "stdpZ = (pZ - pZ.mean(axis=0))/pZ.std(axis=0)\n",
    "Z[:, 2:] = stdpZ;\n",
    "\n",
    "fit = LinearRegression(fit_intercept=False).fit(Z, Y);\n",
    "resi_Y = Y - fit.predict(Z);\n",
    "\n",
    "X_centered = X - X.mean(axis=0, keepdims=1);\n",
    "Y_centered = resi_Y - resi_Y.mean(axis=0, keepdims=1);\n",
    "\n",
    "savemat(MIDRES_ROOT/f\"matlab_real_data/{SAVE_PREFIX}.mat\", \n",
    "           {\n",
    "               'X_centered': X_centered, \n",
    "               'Y_centered':Y_centered\n",
    "           }\n",
    "       )"
   ]
  },
  {
   "cell_type": "code",
   "execution_count": 73,
   "id": "2fd9af67-4314-4256-95ad-559a3ab31b74",
   "metadata": {
    "execution": {
     "iopub.execute_input": "2024-03-11T18:13:20.441402Z",
     "iopub.status.busy": "2024-03-11T18:13:20.440592Z",
     "iopub.status.idle": "2024-03-11T18:13:20.576572Z",
     "shell.execute_reply": "2024-03-11T18:13:20.575543Z",
     "shell.execute_reply.started": "2024-03-11T18:13:20.441354Z"
    },
    "tags": []
   },
   "outputs": [],
   "source": []
  },
  {
   "cell_type": "code",
   "execution_count": null,
   "id": "0767df67-4ff6-4f12-91f3-b674b914890a",
   "metadata": {},
   "outputs": [],
   "source": []
  },
  {
   "cell_type": "markdown",
   "id": "90ee3320-bf34-4ca7-b89b-8779910ef401",
   "metadata": {},
   "source": [
    "# Get thetas for sinica paper"
   ]
  },
  {
   "cell_type": "markdown",
   "id": "7f9ecaea-81b6-4b06-83b6-034f45ee62a1",
   "metadata": {},
   "source": [
    "Paper: Hypothesis Testing in Large-scale Functional Linear Regression"
   ]
  },
  {
   "cell_type": "code",
   "execution_count": 6,
   "id": "b065c1e9-6125-47e1-877d-a847cd55c220",
   "metadata": {
    "execution": {
     "iopub.execute_input": "2023-08-20T06:31:16.535898Z",
     "iopub.status.busy": "2023-08-20T06:31:16.535359Z",
     "iopub.status.idle": "2023-08-20T06:31:17.027531Z",
     "shell.execute_reply": "2023-08-20T06:31:17.026843Z",
     "shell.execute_reply.started": "2023-08-20T06:31:16.535866Z"
    },
    "tags": []
   },
   "outputs": [],
   "source": [
    "from splines import obt_bsp_basis_Rfn_wrapper\n",
    "from scipy.io import savemat\n",
    "def gram_schmidt(vectors):\n",
    "    vectors = vectors.T\n",
    "    basis = []\n",
    "    for v in vectors:\n",
    "        for b in basis:\n",
    "            v = v - (np.dot(v, b) / np.dot(b, b)) * b \n",
    "        if np.linalg.norm(v) > 1e-10:  \n",
    "            basis.append(v / np.linalg.norm(v))  \n",
    "    return np.array(basis).T"
   ]
  },
  {
   "cell_type": "code",
   "execution_count": 34,
   "id": "4cf72c04-6a8f-408d-b5c9-7fff589a1109",
   "metadata": {
    "execution": {
     "iopub.execute_input": "2023-07-04T02:44:36.753795Z",
     "iopub.status.busy": "2023-07-04T02:44:36.753169Z",
     "iopub.status.idle": "2023-07-04T02:44:36.818511Z",
     "shell.execute_reply": "2023-07-04T02:44:36.817552Z",
     "shell.execute_reply.started": "2023-07-04T02:44:36.753749Z"
    },
    "tags": []
   },
   "outputs": [
    {
     "name": "stdout",
     "output_type": "stream",
     "text": [
      "Load file /data/rajlab1/user_data/jin/MyResearch/HDF_infer/notebooks/../mypkg/../data/AD_vs_Ctrl_PSD/AD88_PSD89_all.pkl\n",
      "Load file /data/rajlab1/user_data/jin/MyResearch/HDF_infer/notebooks/../mypkg/../data/AD_vs_Ctrl_PSD/Ctrl92_PSD89_all.pkl\n"
     ]
    }
   ],
   "source": [
    "# load data and preprocessing\n",
    "OUTLIER_IDXS = dict(AD=[], ctrl=[])\n",
    "#OUTLIER_IDXS = dict(AD=[49], ctrl=[14, 19, 30, 38])\n",
    "DATA = [\"AD88_PSD89_all.pkl\", \"Ctrl92_PSD89_all.pkl\"]\n",
    "SAVE_PREFIX = \"psd89\"\n",
    "\n",
    "data_root = DATA_ROOT/\"AD_vs_Ctrl_PSD/\";\n",
    "AD_PSD = load_pkl(data_root/DATA[0]);\n",
    "ctrl_PSD = load_pkl(data_root/DATA[1]);\n",
    "if not isinstance(AD_PSD, dict):\n",
    "    tmp1 = AD_PSD\n",
    "    tmp2 = ctrl_PSD\n",
    "    AD_PSD = edict()\n",
    "    AD_PSD.PSDs = tmp1\n",
    "    AD_PSD.freqs = np.arange(1, 41)\n",
    "    ctrl_PSD = edict()\n",
    "    ctrl_PSD.PSDs = tmp2\n",
    "    ctrl_PSD.freqs = np.arange(1, 41)\n",
    "baseline = pd.read_csv(data_root/\"AllDataBaselineOrdered_r_ncpt.csv\");\n",
    "baseline[\"Gender_binary\"] = baseline[\"Gender\"].apply(lambda x: 0 if x==\"female\" else 1);\n",
    "baseline[\"Grp_binary\"] = baseline[\"Grp\"].apply(lambda x: 1 if x==\"AD\" else 0);\n",
    "\n",
    "# The outlier idxs to rm\n",
    "outlier_idxs = np.concatenate([OUTLIER_IDXS[\"AD\"], len(AD_PSD.PSDs)+np.array(OUTLIER_IDXS[\"ctrl\"])])\n",
    "outlier_idxs = outlier_idxs.astype(int)\n",
    "\n",
    "# make PSD in dB and std \n",
    "raw_X = np.concatenate([AD_PSD.PSDs, ctrl_PSD.PSDs]); #n x d x npts\n",
    "X_dB = 10*np.log10(raw_X);\n",
    "#X = (X_dB - X_dB.mean(axis=-1, keepdims=1))/X_dB.std(axis=-1, keepdims=1);\n",
    "X = X_dB # do not std across freq aixs, otherwise, it causes low-rank mat in the subseq step\n",
    "\n",
    "Y = np.array(baseline[\"MMSE\"])[:X.shape[0]];\n",
    "\n",
    "\n",
    "# remove outliers\n",
    "X = np.delete(X, outlier_idxs, axis=0)\n",
    "Y = np.delete(Y, outlier_idxs, axis=0)\n",
    "\n",
    "\n",
    "#remove nan\n",
    "keep_idx = ~np.isnan(Y)\n",
    "X = X[keep_idx];\n",
    "Y = Y[keep_idx]\n",
    "\n",
    "\n",
    "X_centered = X - X.mean(axis=0, keepdims=1);\n",
    "Y_centered = Y - Y.mean(axis=0, keepdims=1);"
   ]
  },
  {
   "cell_type": "code",
   "execution_count": 35,
   "id": "dc6b3883-16b0-4bc0-b909-2e2d20d17ddd",
   "metadata": {
    "execution": {
     "iopub.execute_input": "2023-07-04T02:44:40.865192Z",
     "iopub.status.busy": "2023-07-04T02:44:40.864579Z",
     "iopub.status.idle": "2023-07-04T02:44:41.017801Z",
     "shell.execute_reply": "2023-07-04T02:44:41.016895Z",
     "shell.execute_reply.started": "2023-07-04T02:44:40.865145Z"
    },
    "tags": []
   },
   "outputs": [],
   "source": [
    "sn = 12 # sn is the N in our paper\n",
    "for sn in [6, 8, 10, 12, 14]:\n",
    "    order = 4 # bspline order, cubic\n",
    "    npts = X_centered.shape[-1]\n",
    "    x = np.linspace(0, 1, npts)\n",
    "    basis_mat = obt_bsp_basis_Rfn_wrapper(x, sn, order);\n",
    "    basis_orth = gram_schmidt(basis_mat);\n",
    "    solve_part = np.linalg.inv(basis_orth.T @ basis_orth) @ basis_orth.T;\n",
    "    thetas = np.array([tX @ solve_part.T for tX in X_centered]).transpose(1, 0, 2);\n",
    "    \n",
    "    # save it \n",
    "    savemat(MIDRES_ROOT/f\"matlab_real_data/{SAVE_PREFIX}_{sn}.mat\", {'thetas': [theta for theta in thetas], \n",
    "                                                    'Y_centered':Y_centered})"
   ]
  },
  {
   "cell_type": "code",
   "execution_count": 30,
   "id": "8b0cbf70-6741-4d45-b2d2-5a1f04307ec5",
   "metadata": {
    "execution": {
     "iopub.execute_input": "2023-07-03T21:21:40.454077Z",
     "iopub.status.busy": "2023-07-03T21:21:40.453342Z",
     "iopub.status.idle": "2023-07-03T21:21:40.574942Z",
     "shell.execute_reply": "2023-07-03T21:21:40.574488Z",
     "shell.execute_reply.started": "2023-07-03T21:21:40.454029Z"
    },
    "tags": []
   },
   "outputs": [
    {
     "data": {
      "text/plain": [
       "[<matplotlib.lines.Line2D at 0x7fa36bf90910>]"
      ]
     },
     "execution_count": 30,
     "metadata": {},
     "output_type": "execute_result"
    },
    {
     "data": {
      "image/png": "[encoded data removed]",
      "text/plain": [
       "<Figure size 1000x500 with 1 Axes>"
      ]
     },
     "metadata": {
      "needs_background": "light"
     },
     "output_type": "display_data"
    }
   ],
   "source": [
    "# check it \n",
    "sub_ix = 10\n",
    "roi_ix = 1\n",
    "theta = thetas[roi_ix, sub_ix]\n",
    "recon_psd = basis_orth @ theta\n",
    "true_psd = X_centered[sub_ix, roi_ix];\n",
    "plt.plot(recon_psd)\n",
    "plt.plot(true_psd)"
   ]
  },
  {
   "cell_type": "code",
   "execution_count": null,
   "id": "94820160-8747-4dfa-b9fb-ae9ae172fd35",
   "metadata": {},
   "outputs": [],
   "source": []
  }
 ],
 "metadata": {
  "kernelspec": {
   "display_name": "Python 3 (ipykernel)",
   "language": "python",
   "name": "python3"
  },
  "language_info": {
   "codemirror_mode": {
    "name": "ipython",
    "version": 3
   },
   "file_extension": ".py",
   "mimetype": "text/x-python",
   "name": "python",
   "nbconvert_exporter": "python",
   "pygments_lexer": "ipython3",
   "version": "3.9.7"
  },
  "toc": {
   "base_numbering": 1,
   "nav_menu": {},
   "number_sections": true,
   "sideBar": true,
   "skip_h1_title": false,
   "title_cell": "Table of Contents",
   "title_sidebar": "Contents",
   "toc_cell": false,
   "toc_position": {
    "height": "calc(100% - 180px)",
    "left": "10px",
    "top": "150px",
    "width": "165px"
   },
   "toc_section_display": true,
   "toc_window_display": true
  },
  "toc-autonumbering": true
 },
 "nbformat": 4,
 "nbformat_minor": 5
}
