{
 "cells": [
  {
   "cell_type": "markdown",
   "id": "faf0a805",
   "metadata": {},
   "source": [
    "This file contains python code to check the hypothesis testing"
   ]
  },
  {
   "cell_type": "code",
   "execution_count": 1,
   "id": "82a6d485-1175-46a4-a95b-a18e7f97e41d",
   "metadata": {
    "execution": {
     "iopub.execute_input": "2024-03-12T07:33:18.959495Z",
     "iopub.status.busy": "2024-03-12T07:33:18.959004Z",
     "iopub.status.idle": "2024-03-12T07:33:18.983999Z",
     "shell.execute_reply": "2024-03-12T07:33:18.981294Z",
     "shell.execute_reply.started": "2024-03-12T07:33:18.959451Z"
    },
    "tags": []
   },
   "outputs": [
    {
     "data": {
      "text/plain": [
       "['AD88_matlab_1-45.pkl', 'Ctrl92_matlab_1-45.pkl']"
      ]
     },
     "execution_count": 1,
     "metadata": {},
     "output_type": "execute_result"
    }
   ],
   "source": [
    "RUN_PYTHON_SCRIPT = False\n",
    "#OUTLIER_IDXS = dict(AD=[], ctrl=[])\n",
    "OUTLIER_IDXS = dict(AD=[49], ctrl=[14, 19, 30, 38])\n",
    "SAVED_FOLDER = \"real_data_nlinear_nostd\"\n",
    "DATA = [\"AD88_matlab_1-45.pkl\", \"Ctrl92_matlab_1-45.pkl\"]"
   ]
  },
  {
   "cell_type": "code",
   "execution_count": 2,
   "id": "02ae980e",
   "metadata": {
    "ExecuteTime": {
     "end_time": "2023-05-31T19:57:23.490285Z",
     "start_time": "2023-05-31T19:57:23.481769Z"
    },
    "execution": {
     "iopub.execute_input": "2024-03-12T07:33:18.986412Z",
     "iopub.status.busy": "2024-03-12T07:33:18.985763Z",
     "iopub.status.idle": "2024-03-12T07:33:19.014204Z",
     "shell.execute_reply": "2024-03-12T07:33:19.013166Z",
     "shell.execute_reply.started": "2024-03-12T07:33:18.986374Z"
    },
    "tags": []
   },
   "outputs": [],
   "source": [
    "import sys\n",
    "sys.path.append(\"../../mypkg\")\n"
   ]
  },
  {
   "cell_type": "code",
   "execution_count": 3,
   "id": "023df78a",
   "metadata": {
    "ExecuteTime": {
     "end_time": "2023-05-31T19:57:34.238839Z",
     "start_time": "2023-05-31T19:57:23.494053Z"
    },
    "execution": {
     "iopub.execute_input": "2024-03-12T07:33:19.017466Z",
     "iopub.status.busy": "2024-03-12T07:33:19.016599Z",
     "iopub.status.idle": "2024-03-12T07:33:21.362760Z",
     "shell.execute_reply": "2024-03-12T07:33:21.361655Z",
     "shell.execute_reply.started": "2024-03-12T07:33:19.017423Z"
    },
    "tags": []
   },
   "outputs": [],
   "source": [
    "import numpy as np\n",
    "import pandas as pd\n",
    "import torch\n",
    "import matplotlib.pyplot as plt\n",
    "import seaborn as sns\n",
    "from scipy.stats import pearsonr\n",
    "from numbers import Number\n",
    "import itertools\n",
    "\n",
    "from easydict import EasyDict as edict\n",
    "from tqdm import trange, tqdm\n",
    "from scipy.io import loadmat\n",
    "from pprint import pprint\n",
    "from IPython.display import display\n",
    "from joblib import Parallel, delayed"
   ]
  },
  {
   "cell_type": "code",
   "execution_count": 4,
   "id": "331bba84-ccbb-4690-ad1f-3b66b198e7ab",
   "metadata": {
    "execution": {
     "iopub.execute_input": "2024-03-12T07:33:21.363661Z",
     "iopub.status.busy": "2024-03-12T07:33:21.363338Z",
     "iopub.status.idle": "2024-03-12T07:33:21.402466Z",
     "shell.execute_reply": "2024-03-12T07:33:21.401364Z",
     "shell.execute_reply.started": "2024-03-12T07:33:21.363645Z"
    },
    "tags": []
   },
   "outputs": [],
   "source": [
    "# This will reload all imports as soon as the code changes\n",
    "%load_ext autoreload\n",
    "%autoreload 2"
   ]
  },
  {
   "cell_type": "code",
   "execution_count": 5,
   "id": "335e7a01-c328-4376-8b49-9619f096bded",
   "metadata": {
    "execution": {
     "iopub.execute_input": "2024-03-12T07:33:21.403295Z",
     "iopub.status.busy": "2024-03-12T07:33:21.403085Z",
     "iopub.status.idle": "2024-03-12T07:33:22.164474Z",
     "shell.execute_reply": "2024-03-12T07:33:22.163012Z",
     "shell.execute_reply.started": "2024-03-12T07:33:21.403279Z"
    },
    "tags": []
   },
   "outputs": [],
   "source": [
    "from constants import DATA_ROOT, RES_ROOT, FIG_ROOT, MIDRES_ROOT\n",
    "from hdf_utils.data_gen import gen_simu_sinica_dataset\n",
    "from hdf_utils.SIS import SIS_GLIM\n",
    "from utils.matrix import col_vec_fn, col_vec2mat_fn, conju_grad, svd_inverse, cholesky_inv\n",
    "from utils.functions import logit_fn\n",
    "from utils.misc import save_pkl, load_pkl\n",
    "from splines import obt_bsp_obasis_Rfn, obt_bsp_basis_Rfn_wrapper\n",
    "from projection import euclidean_proj_l1ball\n",
    "from optimization.opt import HDFOpt\n",
    "from hdf_utils.fns_sinica import  fourier_basis_fn\n",
    "\n",
    "from joblib import Parallel, delayed"
   ]
  },
  {
   "cell_type": "code",
   "execution_count": 6,
   "id": "fe0a4a46",
   "metadata": {
    "ExecuteTime": {
     "end_time": "2023-05-31T19:57:59.621784Z",
     "start_time": "2023-05-31T19:57:59.568097Z"
    },
    "execution": {
     "iopub.execute_input": "2024-03-12T07:33:22.167517Z",
     "iopub.status.busy": "2024-03-12T07:33:22.166567Z",
     "iopub.status.idle": "2024-03-12T07:33:22.213335Z",
     "shell.execute_reply": "2024-03-12T07:33:22.212208Z",
     "shell.execute_reply.started": "2024-03-12T07:33:22.167465Z"
    },
    "tags": []
   },
   "outputs": [],
   "source": [
    "plt.style.use(FIG_ROOT/\"base.mplstyle\")"
   ]
  },
  {
   "cell_type": "code",
   "execution_count": 7,
   "id": "fdddf8a6",
   "metadata": {
    "ExecuteTime": {
     "end_time": "2023-05-31T19:57:59.637665Z",
     "start_time": "2023-05-31T19:57:59.633997Z"
    },
    "execution": {
     "iopub.execute_input": "2024-03-12T07:33:22.214900Z",
     "iopub.status.busy": "2024-03-12T07:33:22.214591Z",
     "iopub.status.idle": "2024-03-12T07:33:22.237280Z",
     "shell.execute_reply": "2024-03-12T07:33:22.236707Z",
     "shell.execute_reply.started": "2024-03-12T07:33:22.214882Z"
    },
    "tags": []
   },
   "outputs": [
    {
     "data": {
      "text/plain": [
       "torch.float64"
      ]
     },
     "execution_count": 7,
     "metadata": {},
     "output_type": "execute_result"
    }
   ],
   "source": [
    "torch.set_default_tensor_type(torch.DoubleTensor)\n",
    "def_dtype = torch.get_default_dtype()"
   ]
  },
  {
   "cell_type": "code",
   "execution_count": null,
   "id": "2e0b5869-536a-4b5d-9bab-97c3f86fa9cc",
   "metadata": {},
   "outputs": [],
   "source": []
  },
  {
   "cell_type": "markdown",
   "id": "0586bc78-3241-4e7e-a87d-0ea5486aca68",
   "metadata": {},
   "source": [
    "# Load  data and prepare"
   ]
  },
  {
   "cell_type": "code",
   "execution_count": 8,
   "id": "61b4f47c-912a-4068-8837-c05ad0de423b",
   "metadata": {
    "execution": {
     "iopub.execute_input": "2024-03-12T07:33:22.238112Z",
     "iopub.status.busy": "2024-03-12T07:33:22.237918Z",
     "iopub.status.idle": "2024-03-12T07:33:22.295628Z",
     "shell.execute_reply": "2024-03-12T07:33:22.294704Z",
     "shell.execute_reply.started": "2024-03-12T07:33:22.238098Z"
    },
    "tags": []
   },
   "outputs": [
    {
     "name": "stdout",
     "output_type": "stream",
     "text": [
      "Load file /data/rajlab1/user_data/jin/MyResearch/HDF_infer/notebooks/real_data/../../mypkg/../data/AD_vs_Ctrl_PSD/AD88_matlab_1-45.pkl\n",
      "Load file /data/rajlab1/user_data/jin/MyResearch/HDF_infer/notebooks/real_data/../../mypkg/../data/AD_vs_Ctrl_PSD/Ctrl92_matlab_1-45.pkl\n"
     ]
    }
   ],
   "source": [
    "data_root = DATA_ROOT/\"AD_vs_Ctrl_PSD/\";\n",
    "AD_PSD = load_pkl(data_root/DATA[0]);\n",
    "ctrl_PSD = load_pkl(data_root/DATA[1]);\n",
    "df0= pd.read_csv(data_root/\"AllDataBaselineOrdered_r_ncpt.csv\");\n",
    "df1= pd.read_csv(data_root/\"AllDataBaselineOrdered_r_ncpt_more.csv\");\n",
    "df1 = df1.set_index(\"RID\")\n",
    "df0 = df0.set_index(\"RID\");\n",
    "df1 = df1.reindex(df0.index)\n",
    "baseline = df1\n",
    "baseline[\"Gender_binary\"] = baseline[\"Gender\"].apply(lambda x: 0 if x==\"female\" else 1);\n",
    "baseline[\"Grp_binary\"] = baseline[\"Grp\"].apply(lambda x: 1 if x==\"AD\" else 0);"
   ]
  },
  {
   "cell_type": "code",
   "execution_count": 9,
   "id": "fa277e82-510b-4458-965b-25e6ad936ca3",
   "metadata": {
    "execution": {
     "iopub.execute_input": "2024-03-12T07:33:22.296974Z",
     "iopub.status.busy": "2024-03-12T07:33:22.296626Z",
     "iopub.status.idle": "2024-03-12T07:33:22.357520Z",
     "shell.execute_reply": "2024-03-12T07:33:22.356892Z",
     "shell.execute_reply.started": "2024-03-12T07:33:22.296945Z"
    },
    "tags": []
   },
   "outputs": [
    {
     "name": "stdout",
     "output_type": "stream",
     "text": [
      "(143, 68, 74) (143,) (143, 4)\n"
     ]
    }
   ],
   "source": [
    "# The outlier idxs to rm\n",
    "outlier_idxs = np.concatenate([OUTLIER_IDXS[\"AD\"], len(AD_PSD.PSDs)+np.array(OUTLIER_IDXS[\"ctrl\"])])\n",
    "outlier_idxs = outlier_idxs.astype(int)\n",
    "\n",
    "# make PSD in dB and std \n",
    "raw_X = np.concatenate([AD_PSD.PSDs, ctrl_PSD.PSDs]); #n x d x npts\n",
    "X_dB = 10*np.log10(raw_X);\n",
    "outlier_idxs2 = np.where(X_dB.mean(axis=(1, 2))<0)\n",
    "#X = (X_dB - X_dB.mean(axis=-1, keepdims=1))/X_dB.std(axis=-1, keepdims=1);\n",
    "X = X_dB\n",
    "\n",
    "Y = np.array(baseline[\"MMSE\"])[:X.shape[0]];\n",
    "# if logi\n",
    "Yb = np.array(baseline[\"Grp_binary\"])[:X.shape[0]];\n",
    "\n",
    "sel_cov = [\"Gender_binary\", \"MEG_Age\",\"Education\"]\n",
    "Z_raw = np.array(baseline[sel_cov])[:X.shape[0]];\n",
    "\n",
    "grp_idxs = np.array(baseline[\"Grp\"])[:X.shape[0]];\n",
    "\n",
    "\n",
    "outlier_idxs = np.sort(np.union1d(outlier_idxs, outlier_idxs2))\n",
    "\n",
    "\n",
    "# remove outliers\n",
    "X = np.delete(X, outlier_idxs, axis=0)\n",
    "Y = np.delete(Y, outlier_idxs, axis=0)\n",
    "Yb = np.delete(Yb, outlier_idxs, axis=0)\n",
    "Z_raw = np.delete(Z_raw, outlier_idxs, axis=0)\n",
    "grp_idxs = np.delete(grp_idxs, outlier_idxs, axis=0)\n",
    "\n",
    "\n",
    "#remove nan\n",
    "keep_idx = ~np.bitwise_or(np.isnan(Y), np.isnan(Z_raw.sum(axis=1)));\n",
    "X = X[keep_idx];\n",
    "Y = Y[keep_idx];\n",
    "Yb = Yb[keep_idx]\n",
    "Z_raw = Z_raw[keep_idx]\n",
    "grp_idxs = grp_idxs[keep_idx]\n",
    "\n",
    "Z = np.concatenate([np.ones((Z_raw.shape[0], 1)), Z_raw], axis=1); # add intercept\n",
    "\n",
    "\n",
    "freqs = AD_PSD.freqs;\n",
    "# only take PSD between [2, 35] freqs of interest\n",
    "X = X[:, :, np.bitwise_and(freqs>=2, freqs<=35)]\n",
    "X = X/X.mean()\n",
    "\n",
    "\n",
    "print(X.shape, Y.shape, Z.shape)\n",
    "\n",
    "all_data = edict()\n",
    "if SAVED_FOLDER.endswith(\"X1err\"):\n",
    "    print(\"add noise to PSD\")\n",
    "    all_data.X = torch.tensor(X+np.random.randn(*X.shape)*0.1)\n",
    "else:\n",
    "    all_data.X = torch.tensor(X)\n",
    "all_data.Y = torch.tensor(Yb)\n",
    "all_data.Z = torch.tensor(Z)\n"
   ]
  },
  {
   "cell_type": "code",
   "execution_count": 10,
   "id": "7b54af63-0050-48ae-b05f-3ba18c128089",
   "metadata": {
    "execution": {
     "iopub.execute_input": "2024-03-12T07:33:22.358749Z",
     "iopub.status.busy": "2024-03-12T07:33:22.358411Z",
     "iopub.status.idle": "2024-03-12T07:33:22.383275Z",
     "shell.execute_reply": "2024-03-12T07:33:22.382811Z",
     "shell.execute_reply.started": "2024-03-12T07:33:22.358729Z"
    },
    "tags": []
   },
   "outputs": [],
   "source": [
    "# atlas\n",
    "rois = np.loadtxt(DATA_ROOT/\"dk68_utils/ROI_order_DK68.txt\", dtype=str);"
   ]
  },
  {
   "cell_type": "code",
   "execution_count": null,
   "id": "d0af2f35",
   "metadata": {},
   "outputs": [],
   "source": []
  },
  {
   "cell_type": "markdown",
   "id": "dd9c6514",
   "metadata": {},
   "source": [
    "# Param and fns"
   ]
  },
  {
   "cell_type": "markdown",
   "id": "21e4ccea",
   "metadata": {},
   "source": [
    "## Params"
   ]
  },
  {
   "cell_type": "code",
   "execution_count": 11,
   "id": "e7c708d2-f8a3-49f9-ac67-2970c74af8d1",
   "metadata": {
    "execution": {
     "iopub.execute_input": "2024-03-12T07:33:22.424151Z",
     "iopub.status.busy": "2024-03-12T07:33:22.423588Z",
     "iopub.status.idle": "2024-03-12T07:33:22.465113Z",
     "shell.execute_reply": "2024-03-12T07:33:22.464631Z",
     "shell.execute_reply.started": "2024-03-12T07:33:22.424108Z"
    },
    "tags": []
   },
   "outputs": [],
   "source": [
    "from easydict import EasyDict as edict\n",
    "from hdf_utils.fns_sinica import coef_fn, fourier_basis_fn\n",
    "from copy import deepcopy\n",
    "from scenarios.base_params import get_base_params\n",
    "\n",
    "base_params = get_base_params(\"logi\") \n",
    "base_params.data_params = edict()\n",
    "base_params.data_params.n = all_data.X.shape[0]\n",
    "base_params.data_params.npts = all_data.X.shape[-1]\n",
    "base_params.data_params.freqs = AD_PSD.freqs\n",
    "\n",
    "base_params.can_Ns = [4, 6, 8, 10, 12, 14]\n",
    "base_params.SIS_params = edict({\"SIS_pen\": 0.02, \"SIS_basis_N\":8, \"SIS_ws\":\"simpson\"})\n",
    "base_params.opt_params.beta = 1 \n",
    "base_params.can_lams = [0.001, 0.005, 0.01, 0.03,  0.05, 0.07, 0.1]\n",
    "base_params.is_shuffle_cv = True\n",
    "\n",
    "\n",
    "setting = edict(deepcopy(base_params))\n",
    "add_params = edict({})\n",
    "add_params.setting = \"real_data_linear_postlogi\"\n",
    "add_params.SIS_ratio = 1\n",
    "setting.update(add_params)"
   ]
  },
  {
   "cell_type": "code",
   "execution_count": 12,
   "id": "75dc09a0",
   "metadata": {
    "ExecuteTime": {
     "end_time": "2023-05-31T23:31:22.417895Z",
     "start_time": "2023-05-31T23:31:22.400951Z"
    },
    "execution": {
     "iopub.execute_input": "2024-03-12T07:33:23.128623Z",
     "iopub.status.busy": "2024-03-12T07:33:23.127993Z",
     "iopub.status.idle": "2024-03-12T07:33:23.165354Z",
     "shell.execute_reply": "2024-03-12T07:33:23.164719Z",
     "shell.execute_reply.started": "2024-03-12T07:33:23.128578Z"
    },
    "tags": []
   },
   "outputs": [],
   "source": [
    "save_dir = RES_ROOT/SAVED_FOLDER\n",
    "if not save_dir.exists():\n",
    "    save_dir.mkdir()"
   ]
  },
  {
   "cell_type": "code",
   "execution_count": 13,
   "id": "60d582e7-e095-48b2-aee9-fa5ddad441d2",
   "metadata": {
    "execution": {
     "iopub.execute_input": "2024-03-12T07:33:23.398605Z",
     "iopub.status.busy": "2024-03-12T07:33:23.398076Z",
     "iopub.status.idle": "2024-03-12T07:33:23.436671Z",
     "shell.execute_reply": "2024-03-12T07:33:23.436018Z",
     "shell.execute_reply.started": "2024-03-12T07:33:23.398562Z"
    },
    "tags": []
   },
   "outputs": [
    {
     "data": {
      "text/plain": [
       "array([ 7, 16, 25, 76])"
      ]
     },
     "execution_count": 13,
     "metadata": {},
     "output_type": "execute_result"
    }
   ],
   "source": [
    "bands_cut = edict()\n",
    "bands_cut.delta = [2, 4]\n",
    "bands_cut.theta = [4, 8]\n",
    "bands_cut.alpha = [8, 12]\n",
    "\n",
    "bands_cut.beta = [12, 35]\n",
    "bands_cut.pts = [4, 8, 12, 35]\n",
    "\n",
    "cut_pts = np.abs(freqs.reshape(-1, 1) - bands_cut.pts).argmin(axis=0)"
   ]
  },
  {
   "cell_type": "code",
   "execution_count": 95,
   "id": "1bada202-d24e-4371-bd0f-a44ed399f2f2",
   "metadata": {
    "execution": {
     "iopub.execute_input": "2024-03-14T23:04:52.591243Z",
     "iopub.status.busy": "2024-03-14T23:04:52.590610Z",
     "iopub.status.idle": "2024-03-14T23:04:52.718439Z",
     "shell.execute_reply": "2024-03-14T23:04:52.717803Z",
     "shell.execute_reply.started": "2024-03-14T23:04:52.591194Z"
    },
    "tags": []
   },
   "outputs": [],
   "source": [
    "def _run_fn(sig_roi_idxs, lam, N, setting, prefix, is_save=False, is_cv=False, verbose=2):\n",
    "    torch.set_default_dtype(torch.double)\n",
    "        \n",
    "    Z = all_data.Z.clone()\n",
    "    X = all_data.X[:, sig_roi_idxs].clone()\n",
    "    Y = all_data.Y.float().clone()\n",
    "    _setting = edict(setting.copy())\n",
    "    _setting.lam = lam\n",
    "    _setting.N = N\n",
    "    _setting.data_params.d = X.shape[1]\n",
    "    _setting.sel_idx = np.arange(_setting.data_params.d)\n",
    "    \n",
    "    \n",
    "    f_name = f\"{prefix}_postlogi-lam_{lam*1000:.0f}-N_{N:.0f}_fit.pkl\"\n",
    "    \n",
    "    \n",
    "    if not (save_dir/f_name).exists():\n",
    "        hdf_fit = HDFOpt(lam=_setting.lam, \n",
    "                         sel_idx=_setting.sel_idx, \n",
    "                         model_type=_setting.model_type,\n",
    "                         verbose=verbose, \n",
    "                         SIS_ratio=_setting.SIS_ratio, \n",
    "                         N=_setting.N,\n",
    "                         is_std_data=True, \n",
    "                         cov_types=None, \n",
    "                         inits=None,\n",
    "                         model_params = _setting.model_params, \n",
    "                         SIS_params = _setting.SIS_params, \n",
    "                         opt_params = _setting.opt_params,\n",
    "                         bsp_params = _setting.bsp_params, \n",
    "                         pen_params = _setting.pen_params\n",
    "               );\n",
    "        hdf_fit.add_data(X, Y, Z)\n",
    "        opt_res = hdf_fit.fit()\n",
    "        \n",
    "        if is_cv:\n",
    "            hdf_fit.get_cv_est(_setting.num_cv_fold, _setting.is_shuffle_cv)\n",
    "        if is_save:\n",
    "            hdf_fit.save(save_dir/f_name, is_compact=False, is_force=True)\n",
    "    else:\n",
    "        hdf_fit = load_pkl(save_dir/f_name, verbose>=2);\n",
    "        \n",
    "    return hdf_fit\n"
   ]
  },
  {
   "cell_type": "code",
   "execution_count": 68,
   "id": "75e10fd4",
   "metadata": {
    "execution": {
     "iopub.execute_input": "2024-03-12T07:46:34.967359Z",
     "iopub.status.busy": "2024-03-12T07:46:34.966733Z",
     "iopub.status.idle": "2024-03-12T07:46:35.013297Z",
     "shell.execute_reply": "2024-03-12T07:46:35.012350Z",
     "shell.execute_reply.started": "2024-03-12T07:46:34.967314Z"
    },
    "tags": []
   },
   "outputs": [
    {
     "name": "stdout",
     "output_type": "stream",
     "text": [
      "Load file /data/rajlab1/user_data/jin/MyResearch/HDF_infer/notebooks/real_data/../../mypkg/../results/real_data_nlinear_nostd/sig_roi_idxs.pkl\n",
      "[ 3  7  8 10 13 15 20 21 27 29 31 37 41 42 47 55 59 60 63]\n",
      "Load file /data/rajlab1/user_data/jin/MyResearch/HDF_infer/notebooks/real_data/../../mypkg/../results/real_data_nlinear_nostd/sig_roi_idxs_naive.pkl\n"
     ]
    },
    {
     "data": {
      "text/plain": [
       "array([ 3,  7, 26, 27, 31, 37, 49])"
      ]
     },
     "execution_count": 68,
     "metadata": {},
     "output_type": "execute_result"
    }
   ],
   "source": [
    "print(load_pkl(save_dir/f\"sig_roi_idxs.pkl\"))\n",
    "load_pkl(save_dir/f\"sig_roi_idxs_naive.pkl\")"
   ]
  },
  {
   "cell_type": "code",
   "execution_count": 96,
   "id": "a0a4e470-6041-4d5e-88d6-c9a482f6c6ce",
   "metadata": {
    "execution": {
     "iopub.execute_input": "2024-03-14T23:04:58.224905Z",
     "iopub.status.busy": "2024-03-14T23:04:58.224293Z",
     "iopub.status.idle": "2024-03-14T23:04:58.296486Z",
     "shell.execute_reply": "2024-03-14T23:04:58.295138Z",
     "shell.execute_reply.started": "2024-03-14T23:04:58.224858Z"
    },
    "tags": []
   },
   "outputs": [
    {
     "name": "stdout",
     "output_type": "stream",
     "text": [
      "Load file /data/rajlab1/user_data/jin/MyResearch/HDF_infer/notebooks/real_data/../../mypkg/../results/real_data_nlinear_nostd/sig_roi_idxs.pkl\n"
     ]
    }
   ],
   "source": [
    "sig_roi_idxs = load_pkl(save_dir/f\"sig_roi_idxs.pkl\");\n",
    "#sig_roi_idxs = load_pkl(save_dir/f\"sig_roi_idxs_naive.pkl\");"
   ]
  },
  {
   "cell_type": "code",
   "execution_count": 110,
   "id": "ff9a786b-57d6-4b92-819d-8de5fb202702",
   "metadata": {
    "execution": {
     "iopub.execute_input": "2024-03-14T23:09:47.754203Z",
     "iopub.status.busy": "2024-03-14T23:09:47.753580Z",
     "iopub.status.idle": "2024-03-14T23:09:55.992913Z",
     "shell.execute_reply": "2024-03-14T23:09:55.992571Z",
     "shell.execute_reply.started": "2024-03-14T23:09:47.754155Z"
    },
    "tags": []
   },
   "outputs": [
    {
     "name": "stderr",
     "output_type": "stream",
     "text": [
      "2024-03-14 16:09:47,796 - optimization.opt - INFO - opt params is {'stop_cv': 0.0005, 'max_iter': 2000, 'one_step_verbose': 0, 'alpha': 0.9, 'beta': 1, 'R': 200000.0, 'N_eps': 0.0001, 'N_maxit': 100, 'is_BFGS': 'adaptive'}.\n",
      "2024-03-14 16:09:47,797 - optimization.opt - INFO - SIS params is {'SIS_pen': 0.02, 'SIS_basis_N': 8, 'SIS_basis_ord': 4, 'SIS_ratio': 1, 'SIS_ws': 'simpson'}.\n",
      "2024-03-14 16:09:47,798 - optimization.opt - INFO - model params is {'ws': 'simpson'}.\n",
      "2024-03-14 16:09:47,799 - optimization.opt - INFO - penalty params is {'a': 3.7, 'lam': 0.03}.\n",
      "2024-03-14 16:09:47,800 - optimization.opt - INFO - bspline params is {'basis_ord': 4, 'is_orth_basis': True, 'N': 6}.\n",
      "2024-03-14 16:09:47,800 - optimization.opt - INFO - As cov_types is not provided, inferring the continuous covariates.\n",
      "Main Loop:  46%|██████████████████████████████████████████████████████▍                                                               | 922/2000 [00:02<00:02, 393.65it/s, error=0.000511, GamL0=5, CV=0.0005]\n",
      "Cross Validation: 100%|█████████████████████████████████████████████████████████████████████████████████████████████████████████████████████████████████████████████████████████| 2/2 [00:05<00:00,  2.91s/it]\n"
     ]
    },
    {
     "data": {
      "text/plain": [
       "<optimization.opt.HDFOpt at 0x7fc8354ce970>"
      ]
     },
     "execution_count": 110,
     "metadata": {},
     "output_type": "execute_result"
    }
   ],
   "source": [
    "setting.num_cv_fold = 2\n",
    "setting.is_shuffle_cv = True\n",
    "res = _run_fn(sig_roi_idxs, lam=0.03, N=6, setting=setting, prefix=\"test\", \n",
    "        is_save=False, is_cv=True, verbose=2)"
   ]
  },
  {
   "cell_type": "code",
   "execution_count": 111,
   "id": "74b12e31-b207-4f29-8387-21005a832d53",
   "metadata": {
    "execution": {
     "iopub.execute_input": "2024-03-14T23:09:57.274239Z",
     "iopub.status.busy": "2024-03-14T23:09:57.273561Z",
     "iopub.status.idle": "2024-03-14T23:09:57.322981Z",
     "shell.execute_reply": "2024-03-14T23:09:57.322307Z",
     "shell.execute_reply.started": "2024-03-14T23:09:57.274188Z"
    },
    "tags": []
   },
   "outputs": [
    {
     "data": {
      "text/plain": [
       "0.8568572570971611"
      ]
     },
     "execution_count": 111,
     "metadata": {},
     "output_type": "execute_result"
    }
   ],
   "source": [
    "from utils.misc import bcross_entropy_loss\n",
    "from sklearn.metrics import roc_auc_score, roc_curve, f1_score\n",
    "from sklearn.linear_model import LogisticRegression\n",
    "from sklearn.model_selection import cross_val_predict\n",
    "roc_auc_score(res.Y.numpy(), res.cv_Y_est)"
   ]
  },
  {
   "cell_type": "code",
   "execution_count": null,
   "id": "6fca96ef-fb59-408c-83c3-7aa26e8da584",
   "metadata": {},
   "outputs": [],
   "source": []
  },
  {
   "cell_type": "code",
   "execution_count": null,
   "id": "00d00ae4-7308-4792-98fe-437ec18522ea",
   "metadata": {},
   "outputs": [],
   "source": []
  }
 ],
 "metadata": {
  "kernelspec": {
   "display_name": "Python 3 (ipykernel)",
   "language": "python",
   "name": "python3"
  },
  "language_info": {
   "codemirror_mode": {
    "name": "ipython",
    "version": 3
   },
   "file_extension": ".py",
   "mimetype": "text/x-python",
   "name": "python",
   "nbconvert_exporter": "python",
   "pygments_lexer": "ipython3",
   "version": "3.9.7"
  },
  "toc": {
   "base_numbering": 1,
   "nav_menu": {},
   "number_sections": true,
   "sideBar": true,
   "skip_h1_title": false,
   "title_cell": "Table of Contents",
   "title_sidebar": "Contents",
   "toc_cell": false,
   "toc_position": {
    "height": "calc(100% - 180px)",
    "left": "10px",
    "top": "150px",
    "width": "165px"
   },
   "toc_section_display": true,
   "toc_window_display": true
  },
  "toc-autonumbering": true
 },
 "nbformat": 4,
 "nbformat_minor": 5
}
