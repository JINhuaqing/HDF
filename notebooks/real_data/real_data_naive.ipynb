{
 "cells": [
  {
   "cell_type": "markdown",
   "id": "faf0a805",
   "metadata": {},
   "source": [
    "Use naive way to do the real data analysis\n",
    "\n",
    "1. use cov\n",
    "2. extract psd from 4 bands, and do regression"
   ]
  },
  {
   "cell_type": "code",
   "execution_count": 1,
   "id": "82a6d485-1175-46a4-a95b-a18e7f97e41d",
   "metadata": {
    "execution": {
     "iopub.execute_input": "2024-03-12T08:31:57.541532Z",
     "iopub.status.busy": "2024-03-12T08:31:57.540886Z",
     "iopub.status.idle": "2024-03-12T08:31:57.565768Z",
     "shell.execute_reply": "2024-03-12T08:31:57.564926Z",
     "shell.execute_reply.started": "2024-03-12T08:31:57.541486Z"
    },
    "tags": []
   },
   "outputs": [
    {
     "data": {
      "text/plain": [
       "['AD88_matlab_1-45.pkl', 'Ctrl92_matlab_1-45.pkl']"
      ]
     },
     "execution_count": 1,
     "metadata": {},
     "output_type": "execute_result"
    }
   ],
   "source": [
    "RUN_PYTHON_SCRIPT = False\n",
    "#OUTLIER_IDXS = dict(AD=[], ctrl=[])\n",
    "OUTLIER_IDXS = dict(AD=[49], ctrl=[14, 19, 30, 38])\n",
    "SAVED_FOLDER = \"real_data_nlinear_nostd\"\n",
    "DATA = [\"AD88_matlab_1-45.pkl\", \"Ctrl92_matlab_1-45.pkl\"]"
   ]
  },
  {
   "cell_type": "code",
   "execution_count": 2,
   "id": "02ae980e",
   "metadata": {
    "ExecuteTime": {
     "end_time": "2023-05-31T19:57:23.490285Z",
     "start_time": "2023-05-31T19:57:23.481769Z"
    },
    "execution": {
     "iopub.execute_input": "2024-03-12T08:31:57.567449Z",
     "iopub.status.busy": "2024-03-12T08:31:57.567009Z",
     "iopub.status.idle": "2024-03-12T08:31:57.609263Z",
     "shell.execute_reply": "2024-03-12T08:31:57.608255Z",
     "shell.execute_reply.started": "2024-03-12T08:31:57.567403Z"
    },
    "tags": []
   },
   "outputs": [],
   "source": [
    "import sys\n",
    "sys.path.append(\"../../mypkg\")\n"
   ]
  },
  {
   "cell_type": "code",
   "execution_count": 3,
   "id": "023df78a",
   "metadata": {
    "ExecuteTime": {
     "end_time": "2023-05-31T19:57:34.238839Z",
     "start_time": "2023-05-31T19:57:23.494053Z"
    },
    "execution": {
     "iopub.execute_input": "2024-03-12T08:31:57.612560Z",
     "iopub.status.busy": "2024-03-12T08:31:57.611939Z",
     "iopub.status.idle": "2024-03-12T08:31:59.920840Z",
     "shell.execute_reply": "2024-03-12T08:31:59.920124Z",
     "shell.execute_reply.started": "2024-03-12T08:31:57.612517Z"
    },
    "tags": []
   },
   "outputs": [],
   "source": [
    "import numpy as np\n",
    "import pandas as pd\n",
    "import torch\n",
    "import matplotlib.pyplot as plt\n",
    "import seaborn as sns\n",
    "from scipy.stats import pearsonr\n",
    "from numbers import Number\n",
    "import itertools\n",
    "\n",
    "from easydict import EasyDict as edict\n",
    "from tqdm import trange, tqdm\n",
    "from scipy.io import loadmat\n",
    "from pprint import pprint\n",
    "from IPython.display import display\n",
    "from joblib import Parallel, delayed"
   ]
  },
  {
   "cell_type": "code",
   "execution_count": 4,
   "id": "331bba84-ccbb-4690-ad1f-3b66b198e7ab",
   "metadata": {
    "execution": {
     "iopub.execute_input": "2024-03-12T08:31:59.922696Z",
     "iopub.status.busy": "2024-03-12T08:31:59.921950Z",
     "iopub.status.idle": "2024-03-12T08:31:59.950851Z",
     "shell.execute_reply": "2024-03-12T08:31:59.950426Z",
     "shell.execute_reply.started": "2024-03-12T08:31:59.922664Z"
    },
    "tags": []
   },
   "outputs": [],
   "source": [
    "# This will reload all imports as soon as the code changes\n",
    "%load_ext autoreload\n",
    "%autoreload 2"
   ]
  },
  {
   "cell_type": "code",
   "execution_count": 5,
   "id": "335e7a01-c328-4376-8b49-9619f096bded",
   "metadata": {
    "execution": {
     "iopub.execute_input": "2024-03-12T08:31:59.951648Z",
     "iopub.status.busy": "2024-03-12T08:31:59.951504Z",
     "iopub.status.idle": "2024-03-12T08:32:00.660209Z",
     "shell.execute_reply": "2024-03-12T08:32:00.658698Z",
     "shell.execute_reply.started": "2024-03-12T08:31:59.951636Z"
    },
    "tags": []
   },
   "outputs": [],
   "source": [
    "from constants import DATA_ROOT, RES_ROOT, FIG_ROOT, MIDRES_ROOT\n",
    "from hdf_utils.data_gen import gen_simu_sinica_dataset\n",
    "from hdf_utils.SIS import SIS_GLIM\n",
    "from utils.matrix import col_vec_fn, col_vec2mat_fn, conju_grad, svd_inverse, cholesky_inv\n",
    "from utils.functions import logit_fn\n",
    "from utils.misc import save_pkl, load_pkl\n",
    "from splines import obt_bsp_obasis_Rfn, obt_bsp_basis_Rfn_wrapper\n",
    "from projection import euclidean_proj_l1ball\n",
    "from optimization.opt import HDFOpt\n",
    "from hdf_utils.fns_sinica import  fourier_basis_fn\n",
    "\n",
    "from joblib import Parallel, delayed"
   ]
  },
  {
   "cell_type": "code",
   "execution_count": 6,
   "id": "fe0a4a46",
   "metadata": {
    "ExecuteTime": {
     "end_time": "2023-05-31T19:57:59.621784Z",
     "start_time": "2023-05-31T19:57:59.568097Z"
    },
    "execution": {
     "iopub.execute_input": "2024-03-12T08:32:00.663007Z",
     "iopub.status.busy": "2024-03-12T08:32:00.662038Z",
     "iopub.status.idle": "2024-03-12T08:32:00.703788Z",
     "shell.execute_reply": "2024-03-12T08:32:00.703049Z",
     "shell.execute_reply.started": "2024-03-12T08:32:00.662941Z"
    },
    "tags": []
   },
   "outputs": [],
   "source": [
    "plt.style.use(FIG_ROOT/\"base.mplstyle\")"
   ]
  },
  {
   "cell_type": "code",
   "execution_count": 7,
   "id": "fdddf8a6",
   "metadata": {
    "ExecuteTime": {
     "end_time": "2023-05-31T19:57:59.637665Z",
     "start_time": "2023-05-31T19:57:59.633997Z"
    },
    "execution": {
     "iopub.execute_input": "2024-03-12T08:32:00.704754Z",
     "iopub.status.busy": "2024-03-12T08:32:00.704473Z",
     "iopub.status.idle": "2024-03-12T08:32:00.726814Z",
     "shell.execute_reply": "2024-03-12T08:32:00.726265Z",
     "shell.execute_reply.started": "2024-03-12T08:32:00.704740Z"
    },
    "tags": []
   },
   "outputs": [
    {
     "data": {
      "text/plain": [
       "torch.float64"
      ]
     },
     "execution_count": 7,
     "metadata": {},
     "output_type": "execute_result"
    }
   ],
   "source": [
    "torch.set_default_tensor_type(torch.DoubleTensor)\n",
    "def_dtype = torch.get_default_dtype()"
   ]
  },
  {
   "cell_type": "code",
   "execution_count": null,
   "id": "2e0b5869-536a-4b5d-9bab-97c3f86fa9cc",
   "metadata": {},
   "outputs": [],
   "source": []
  },
  {
   "cell_type": "markdown",
   "id": "0586bc78-3241-4e7e-a87d-0ea5486aca68",
   "metadata": {},
   "source": [
    "# Load  data and prepare"
   ]
  },
  {
   "cell_type": "code",
   "execution_count": 8,
   "id": "61b4f47c-912a-4068-8837-c05ad0de423b",
   "metadata": {
    "execution": {
     "iopub.execute_input": "2024-03-12T08:32:00.727730Z",
     "iopub.status.busy": "2024-03-12T08:32:00.727496Z",
     "iopub.status.idle": "2024-03-12T08:32:00.774507Z",
     "shell.execute_reply": "2024-03-12T08:32:00.773804Z",
     "shell.execute_reply.started": "2024-03-12T08:32:00.727716Z"
    },
    "tags": []
   },
   "outputs": [
    {
     "name": "stdout",
     "output_type": "stream",
     "text": [
      "Load file /data/rajlab1/user_data/jin/MyResearch/HDF_infer/notebooks/real_data/../../mypkg/../data/AD_vs_Ctrl_PSD/AD88_matlab_1-45.pkl\n",
      "Load file /data/rajlab1/user_data/jin/MyResearch/HDF_infer/notebooks/real_data/../../mypkg/../data/AD_vs_Ctrl_PSD/Ctrl92_matlab_1-45.pkl\n"
     ]
    }
   ],
   "source": [
    "data_root = DATA_ROOT/\"AD_vs_Ctrl_PSD/\";\n",
    "AD_PSD = load_pkl(data_root/DATA[0]);\n",
    "ctrl_PSD = load_pkl(data_root/DATA[1]);\n",
    "df0= pd.read_csv(data_root/\"AllDataBaselineOrdered_r_ncpt.csv\");\n",
    "df1= pd.read_csv(data_root/\"AllDataBaselineOrdered_r_ncpt_more.csv\");\n",
    "df1 = df1.set_index(\"RID\")\n",
    "df0 = df0.set_index(\"RID\");\n",
    "df1 = df1.reindex(df0.index)\n",
    "baseline = df1\n",
    "\n",
    "baseline[\"Gender_binary\"] = baseline[\"Gender\"].apply(lambda x: 0 if x==\"female\" else 1);\n",
    "baseline[\"Grp_binary\"] = baseline[\"Grp\"].apply(lambda x: 1 if x==\"AD\" else 0);"
   ]
  },
  {
   "cell_type": "code",
   "execution_count": 9,
   "id": "fa277e82-510b-4458-965b-25e6ad936ca3",
   "metadata": {
    "execution": {
     "iopub.execute_input": "2024-03-12T08:32:00.775744Z",
     "iopub.status.busy": "2024-03-12T08:32:00.775455Z",
     "iopub.status.idle": "2024-03-12T08:32:00.823650Z",
     "shell.execute_reply": "2024-03-12T08:32:00.823084Z",
     "shell.execute_reply.started": "2024-03-12T08:32:00.775725Z"
    },
    "tags": []
   },
   "outputs": [
    {
     "name": "stdout",
     "output_type": "stream",
     "text": [
      "(143, 68, 74) (143,) (143, 4)\n"
     ]
    }
   ],
   "source": [
    "# The outlier idxs to rm\n",
    "outlier_idxs = np.concatenate([OUTLIER_IDXS[\"AD\"], len(AD_PSD.PSDs)+np.array(OUTLIER_IDXS[\"ctrl\"])])\n",
    "outlier_idxs = outlier_idxs.astype(int)\n",
    "\n",
    "# make PSD in dB and std \n",
    "raw_X = np.concatenate([AD_PSD.PSDs, ctrl_PSD.PSDs]); #n x d x npts\n",
    "X_dB = 10*np.log10(raw_X);\n",
    "outlier_idxs2 = np.where(X_dB.mean(axis=(1, 2))<0)\n",
    "#X = (X_dB - X_dB.mean(axis=-1, keepdims=1))/X_dB.std(axis=-1, keepdims=1);\n",
    "X = X_dB\n",
    "\n",
    "Y = np.array(baseline[\"MMSE\"])[:X.shape[0]];\n",
    "# if logi\n",
    "Yb = np.array(baseline[\"Grp_binary\"])[:X.shape[0]];\n",
    "\n",
    "#sel_cov = [\"Gender_binary\", \"MEG_Age\"]\n",
    "sel_cov = [\"Gender_binary\", \"MEG_Age\",\"Education\"]\n",
    "Z_raw = np.array(baseline[sel_cov])[:X.shape[0]];\n",
    "\n",
    "grp_idxs = np.array(baseline[\"Grp\"])[:X.shape[0]];\n",
    "\n",
    "outlier_idxs = np.sort(np.union1d(outlier_idxs, outlier_idxs2))\n",
    "\n",
    "# remove outliers\n",
    "X = np.delete(X, outlier_idxs, axis=0)\n",
    "Y = np.delete(Y, outlier_idxs, axis=0)\n",
    "Yb = np.delete(Yb, outlier_idxs, axis=0)\n",
    "Z_raw = np.delete(Z_raw, outlier_idxs, axis=0)\n",
    "grp_idxs = np.delete(grp_idxs, outlier_idxs, axis=0)\n",
    "\n",
    "\n",
    "#remove nan\n",
    "keep_idx = ~np.bitwise_or(np.isnan(Y), np.isnan(Z_raw.sum(axis=1)));\n",
    "X = X[keep_idx];\n",
    "Y = Y[keep_idx]\n",
    "Yb = Yb[keep_idx]\n",
    "Z_raw = Z_raw[keep_idx]\n",
    "grp_idxs = grp_idxs[keep_idx]\n",
    "\n",
    "Z = np.concatenate([np.ones((Z_raw.shape[0], 1)), Z_raw], axis=1); # add intercept\n",
    "\n",
    "\n",
    "\n",
    "freqs = AD_PSD.freqs.reshape(-1);\n",
    "X = X[:, :, np.bitwise_and(freqs>=2, freqs<=35)]\n",
    "freqs = freqs[np.bitwise_and(freqs>=2, freqs<=35)]\n",
    "\n",
    "print(X.shape, Y.shape, Z.shape)\n",
    "\n",
    "all_data = edict()\n",
    "all_data.X = torch.tensor(X)\n",
    "all_data.Y = torch.tensor(Y)\n",
    "all_data.Z = torch.tensor(Z)\n"
   ]
  },
  {
   "cell_type": "code",
   "execution_count": 10,
   "id": "c14d1a33-6d96-4e64-a4fc-1ccffcea8ae2",
   "metadata": {
    "execution": {
     "iopub.execute_input": "2024-03-12T08:32:00.824524Z",
     "iopub.status.busy": "2024-03-12T08:32:00.824356Z",
     "iopub.status.idle": "2024-03-12T08:32:00.998889Z",
     "shell.execute_reply": "2024-03-12T08:32:00.998500Z",
     "shell.execute_reply.started": "2024-03-12T08:32:00.824511Z"
    },
    "tags": []
   },
   "outputs": [
    {
     "data": {
      "text/plain": [
       "<matplotlib.legend.Legend at 0x7f80c71db130>"
      ]
     },
     "execution_count": 10,
     "metadata": {},
     "output_type": "execute_result"
    },
    {
     "data": {
      "image/png": "[encoded data removed]",
      "text/plain": [
       "<Figure size 432x288 with 1 Axes>"
      ]
     },
     "metadata": {
      "needs_background": "light"
     },
     "output_type": "display_data"
    }
   ],
   "source": [
    "vec1 = all_data.X[grp_idxs==\"AD\"].mean(axis=(0, 1))\n",
    "vec2 = all_data.X[grp_idxs==\"Ctrl\"].mean(axis=(0, 1))\n",
    "plt.plot(freqs, vec2, label=\"Ctrl\")\n",
    "plt.plot(freqs, vec1, label=\"AD\")\n",
    "plt.legend()"
   ]
  },
  {
   "cell_type": "code",
   "execution_count": 11,
   "id": "7b54af63-0050-48ae-b05f-3ba18c128089",
   "metadata": {
    "execution": {
     "iopub.execute_input": "2024-03-12T08:32:01.000200Z",
     "iopub.status.busy": "2024-03-12T08:32:00.999943Z",
     "iopub.status.idle": "2024-03-12T08:32:01.024628Z",
     "shell.execute_reply": "2024-03-12T08:32:01.024233Z",
     "shell.execute_reply.started": "2024-03-12T08:32:01.000186Z"
    },
    "tags": []
   },
   "outputs": [],
   "source": [
    "# atlas\n",
    "rois = np.loadtxt(DATA_ROOT/\"dk68_utils/ROI_order_DK68.txt\", dtype=str);"
   ]
  },
  {
   "cell_type": "code",
   "execution_count": null,
   "id": "d0af2f35",
   "metadata": {},
   "outputs": [],
   "source": []
  },
  {
   "cell_type": "markdown",
   "id": "dd9c6514",
   "metadata": {},
   "source": [
    "# Param and fns"
   ]
  },
  {
   "cell_type": "markdown",
   "id": "21e4ccea",
   "metadata": {},
   "source": [
    "## Params"
   ]
  },
  {
   "cell_type": "code",
   "execution_count": 12,
   "id": "75dc09a0",
   "metadata": {
    "ExecuteTime": {
     "end_time": "2023-05-31T23:31:22.417895Z",
     "start_time": "2023-05-31T23:31:22.400951Z"
    },
    "execution": {
     "iopub.execute_input": "2024-03-12T08:32:01.025299Z",
     "iopub.status.busy": "2024-03-12T08:32:01.025157Z",
     "iopub.status.idle": "2024-03-12T08:32:01.047519Z",
     "shell.execute_reply": "2024-03-12T08:32:01.047106Z",
     "shell.execute_reply.started": "2024-03-12T08:32:01.025287Z"
    },
    "tags": []
   },
   "outputs": [],
   "source": [
    "save_dir = RES_ROOT/SAVED_FOLDER\n",
    "if not save_dir.exists():\n",
    "    save_dir.mkdir()"
   ]
  },
  {
   "cell_type": "code",
   "execution_count": 13,
   "id": "60d582e7-e095-48b2-aee9-fa5ddad441d2",
   "metadata": {
    "execution": {
     "iopub.execute_input": "2024-03-12T08:32:01.048206Z",
     "iopub.status.busy": "2024-03-12T08:32:01.048064Z",
     "iopub.status.idle": "2024-03-12T08:32:01.069620Z",
     "shell.execute_reply": "2024-03-12T08:32:01.069235Z",
     "shell.execute_reply.started": "2024-03-12T08:32:01.048195Z"
    },
    "tags": []
   },
   "outputs": [
    {
     "data": {
      "text/plain": [
       "['delta', 'theta', 'alpha', 'beta', 'all']"
      ]
     },
     "execution_count": 13,
     "metadata": {},
     "output_type": "execute_result"
    }
   ],
   "source": [
    "bands_cut = edict()\n",
    "bands_cut.delta = [2, 4]\n",
    "bands_cut.theta = [4, 8]\n",
    "bands_cut.delta_theta = [2, 8]\n",
    "bands_cut.alpha = [8, 12]\n",
    "bands_cut.beta = [12, 35]\n",
    "bands_cut.pts = [4, 8, 12, 35]\n",
    "\n",
    "cut_pts = np.abs(freqs.reshape(-1, 1) - bands_cut.pts).argmin(axis=0)\n",
    "\n",
    "kys = [\"delta\", \"theta\", \"alpha\", \"beta\", \"all\"]"
   ]
  },
  {
   "cell_type": "code",
   "execution_count": 14,
   "id": "258fa752-5846-4078-a2a3-c1db4b372351",
   "metadata": {
    "execution": {
     "iopub.execute_input": "2024-03-12T08:32:01.070503Z",
     "iopub.status.busy": "2024-03-12T08:32:01.070286Z",
     "iopub.status.idle": "2024-03-12T08:32:01.405842Z",
     "shell.execute_reply": "2024-03-12T08:32:01.405258Z",
     "shell.execute_reply.started": "2024-03-12T08:32:01.070491Z"
    },
    "tags": []
   },
   "outputs": [],
   "source": [
    "import matplotlib.patches as mpatches\n",
    "from nilearn import plotting\n",
    "import matplotlib as mpl\n",
    "from utils.brain_plot import get_bg_data\n",
    "def _brain_plot(vec, cmap=\"Reds\", threshold=None):\n",
    "    root = DATA_ROOT/\"dk68_utils/\"\n",
    "    h = 0.43\n",
    "    \n",
    "    XYZsl = np.loadtxt(root/\"MyBrainMesh_ICBM152_surf_sm20_XYZs_left.txt\")\n",
    "    facesl = np.loadtxt(root/\"MyBrainMesh_ICBM152_surf_sm20_faces_left.txt\").astype(np.int64)\n",
    "    roi_tmpl = np.loadtxt(root/\"brain_tmp_left_DK68.txt\");\n",
    "    bg_datal = get_bg_data(XYZsl, facesl)\n",
    "    \n",
    "    XYZsr = np.loadtxt(root/\"MyBrainMesh_ICBM152_surf_sm20_XYZs_right.txt\")\n",
    "    facesr = np.loadtxt(root/\"MyBrainMesh_ICBM152_surf_sm20_faces_right.txt\").astype(np.int64)\n",
    "    roi_tmpr = np.loadtxt(root/\"brain_tmp_right_DK68.txt\");\n",
    "    bg_datar = get_bg_data(XYZsr, facesr)\n",
    "    \n",
    "    # map vec to the template\n",
    "    vecl = roi_tmpl.copy()\n",
    "    vecr = roi_tmpr.copy()\n",
    "    for roi_ix in range(1, 35):\n",
    "        vecl[roi_tmpl==roi_ix] = vec[roi_ix-1]\n",
    "        vecr[roi_tmpr==roi_ix] = vec[roi_ix-1+34]\n",
    "        \n",
    "    vmin, vmax = np.min(vec), np.max(vec)\n",
    "    #fig, axs = plt.subplots(2, 2, figsize=[10, 10], subplot_kw={'projection': '3d'})\n",
    "    fig = plt.figure(figsize=(10, 10))\n",
    "    # left, bottom, width, height\n",
    "    # facecolor make the bg  transparent\n",
    "    ax1 = fig.add_axes([0.1,  0.5, h,  h], projection='3d',  facecolor='none')\n",
    "    ax2 = fig.add_axes([0.15, 0.1, h,  h], projection='3d',  facecolor='none') \n",
    "    ax3 = fig.add_axes([0.5,  0.5, h,  h], projection='3d',  facecolor='none')\n",
    "    ax4 = fig.add_axes([0.47, 0.1, h,  h], projection='3d',  facecolor='none')  \n",
    "    \n",
    "    plotting.plot_surf_roi([XYZsl, facesl], vecl, hemi='left', view=\"lateral\", axes=ax1, \n",
    "                           bg_on_data=True, darkness=1.5, bg_map=bg_datal, # TO get the depth of the brain plot\n",
    "                           colorbar=False, cmap=cmap, threshold=threshold, \n",
    "                           figure=fig, vmin=vmin, vmax=vmax);\n",
    "    plotting.plot_surf_roi([XYZsl, facesl], vecl, hemi='left', view=\"medial\", axes=ax2, \n",
    "                           bg_on_data=True, darkness=1.5, bg_map=bg_datal,\n",
    "                           colorbar=False, cmap=cmap, threshold=threshold, \n",
    "                           figure=fig, vmin=vmin, vmax=vmax);\n",
    "    plotting.plot_surf_roi([XYZsr, facesr], vecr, hemi='right', view=\"lateral\", axes=ax3, \n",
    "                           bg_on_data=True, darkness=1.5, bg_map=bg_datar,\n",
    "                           colorbar=False, cmap=cmap, threshold=threshold, \n",
    "                           figure=fig, vmin=vmin, vmax=vmax);\n",
    "    plotting.plot_surf_roi([XYZsr, facesr], vecr, hemi='right', view=\"medial\", axes=ax4, \n",
    "                           bg_on_data=True, darkness=1.5, bg_map=bg_datar,\n",
    "                           colorbar=False, cmap=cmap, threshold=threshold, \n",
    "                           figure=fig, vmin=vmin, vmax=vmax);\n",
    "    \n",
    "    fig.text(0.12, 0.30, 'Medial', ha='center', va='center')\n",
    "    fig.text(0.12, 0.72, 'Lateral', ha='center', va='center')\n",
    "    fig.text(0.30, 0.87, 'Left', ha='center', va='center')\n",
    "    fig.text(0.72, 0.87, 'Right', ha='center', va='center')\n",
    "    #plt.suptitle(\"-log pvalues\", fontsize=30)\n",
    "    \n",
    "    norm = mpl.colors.Normalize(vmin=vmin, vmax=vmax)\n",
    "    sm = plt.cm.ScalarMappable(cmap=cmap, norm=norm)\n",
    "    sm.set_array([])  \n",
    "    cbar_ax = fig.add_axes([.91, .3, .03, .4])\n",
    "    fig.colorbar(sm, cax=cbar_ax)\n",
    "    return fig"
   ]
  },
  {
   "cell_type": "code",
   "execution_count": 15,
   "id": "438f8319-790c-460b-a8b3-2ec0ada4d9b2",
   "metadata": {
    "execution": {
     "iopub.execute_input": "2024-03-12T08:32:01.406721Z",
     "iopub.status.busy": "2024-03-12T08:32:01.406542Z",
     "iopub.status.idle": "2024-03-12T08:32:01.432503Z",
     "shell.execute_reply": "2024-03-12T08:32:01.431697Z",
     "shell.execute_reply.started": "2024-03-12T08:32:01.406707Z"
    },
    "tags": []
   },
   "outputs": [],
   "source": [
    "def _get_psd_X(X, kys):\n",
    "    \"\"\"From raw X to get the features with PSD\n",
    "    \"\"\"\n",
    "    X_psd = []\n",
    "    for ky in kys:\n",
    "        if not ky.startswith(\"all\"):\n",
    "            cuts = bands_cut[ky]\n",
    "            kpidxs = np.bitwise_and(freqs>=cuts[0], freqs <cuts[1])\n",
    "            X_sub = np.mean(X[:, kpidxs], axis=-1)\n",
    "        else:\n",
    "            X_sub = X.mean(axis=-1)\n",
    "        X_psd.append(X_sub)\n",
    "        \n",
    "    X_psd = np.array(X_psd).T\n",
    "    return X_psd\n",
    "\n",
    "def _prepare_data(all_data, roi_ix, kys, cen_Y=True, std_X=True):\n",
    "    \"\"\"Prepare data for linear reg with roi_ix \n",
    "    args:\n",
    "        roi_ix: start from 0\n",
    "    return:\n",
    "        Ycen: Y is centered\n",
    "        Zext_std:Z is stded and has intercept col\n",
    "    \"\"\"\n",
    "    X = all_data.X[:, roi_ix].numpy()\n",
    "    Y = all_data.Y.numpy()\n",
    "    Z = all_data.Z.numpy()\n",
    "    X_psd = _get_psd_X(X, kys=kys)\n",
    "    Zext = np.concatenate([Z, X_psd], axis=1)\n",
    "    \n",
    "    # center Y and std Zest\n",
    "    Ycen = Y \n",
    "    if cen_Y:\n",
    "        Ycen = Y - Y.mean()\n",
    "    Zext_std = Zext\n",
    "    if std_X:\n",
    "        Zext_std[:,2:] = (Zext[:, 2:] - Zext[:, 2:].mean(axis=0, keepdims=1))/Zext[:, 2:].std(axis=0, keepdims=1)\n",
    "    Zext_std = pd.DataFrame(Zext_std, columns=[\"int\", \"gender\", \"age\", \"edu\"]+kys)\n",
    "        \n",
    "    return Ycen, Zext_std"
   ]
  },
  {
   "cell_type": "raw",
   "id": "b13698dc-fd8b-4612-851a-6a378550e829",
   "metadata": {
    "execution": {
     "iopub.execute_input": "2024-03-08T03:58:11.069364Z",
     "iopub.status.busy": "2024-03-08T03:58:11.068739Z",
     "iopub.status.idle": "2024-03-08T03:58:11.236883Z",
     "shell.execute_reply": "2024-03-08T03:58:11.236454Z",
     "shell.execute_reply.started": "2024-03-08T03:58:11.069315Z"
    },
    "tags": []
   },
   "source": [
    "# logistc reg\n",
    "import statsmodels.api as sm\n",
    "roi_ix = 0\n",
    "kys = [\"theta\"]\n",
    "vec = []\n",
    "pvals = []\n",
    "for roi_ix in range(68):\n",
    "    Y, X = _prepare_data(all_data, roi_ix=roi_ix, kys=kys);\n",
    "    #X = X.drop([\"age\", \"gender\", \"edu\"], axis=1)\n",
    "    model = sm.Logit(Y, X).fit(disp=0)\n",
    "    pval = model.pvalues[kys[0]]\n",
    "    pvals.append(pval)\n",
    "    if pval<0.05/68:\n",
    "        print(roi_ix if roi_ix < 34 else roi_ix-34, pval)\n",
    "        vec.append(-np.log(pval))\n",
    "    else:\n",
    "        vec.append(0)\n",
    "vec = np.array(vec)"
   ]
  },
  {
   "cell_type": "raw",
   "id": "23d64f01-7d23-494b-8d8a-344d2826ebfa",
   "metadata": {
    "execution": {
     "iopub.execute_input": "2024-03-08T09:07:28.558848Z",
     "iopub.status.busy": "2024-03-08T09:07:28.558216Z",
     "iopub.status.idle": "2024-03-08T09:07:28.802455Z",
     "shell.execute_reply": "2024-03-08T09:07:28.801488Z",
     "shell.execute_reply.started": "2024-03-08T09:07:28.558798Z"
    },
    "tags": []
   },
   "source": [
    "# pool all rois together to test different bands\n",
    "import statsmodels.api as sm\n",
    "roi_ix = 0\n",
    "kys = [\"delta_theta\"]\n",
    "#kys = [\"alpha\"]\n",
    "Ys = []\n",
    "Xs = []\n",
    "for roi_ix in range(68):\n",
    "    Y, X = _prepare_data(all_data, roi_ix=roi_ix, kys=kys, cen_Y=False, std_X=False);\n",
    "    Ys.append(Y)\n",
    "    Xs.append(X)\n",
    "Ys = np.concatenate(Ys)\n",
    "Xs = pd.concat(Xs);\n",
    "Ys = Ys - Ys.mean()\n",
    "sel_cols = list(Xs.columns)[2:]\n",
    "Xs[sel_cols] = Xs[sel_cols].apply(lambda x: (x-x.mean())/x.std())\n",
    "model0 = sm.OLS(Ys, Xs).fit()\n",
    "model0.summary()"
   ]
  },
  {
   "cell_type": "code",
   "execution_count": null,
   "id": "a29412c6-7e34-4a54-a4b1-4567ddbce945",
   "metadata": {
    "tags": []
   },
   "outputs": [],
   "source": []
  },
  {
   "cell_type": "markdown",
   "id": "7bfd6758-789e-4dda-85a7-c65d695921e6",
   "metadata": {},
   "source": [
    "# Analysis"
   ]
  },
  {
   "cell_type": "markdown",
   "id": "dda4253d-5a0c-414e-8d2f-475b5c523512",
   "metadata": {},
   "source": [
    "## Find sig roi for each band"
   ]
  },
  {
   "cell_type": "code",
   "execution_count": 16,
   "id": "e52b0435-b168-42ec-918d-bdfa4b533fa6",
   "metadata": {
    "execution": {
     "iopub.execute_input": "2024-03-12T08:32:01.433685Z",
     "iopub.status.busy": "2024-03-12T08:32:01.433454Z",
     "iopub.status.idle": "2024-03-12T08:32:02.009162Z",
     "shell.execute_reply": "2024-03-12T08:32:02.008676Z",
     "shell.execute_reply.started": "2024-03-12T08:32:01.433672Z"
    },
    "tags": []
   },
   "outputs": [
    {
     "name": "stdout",
     "output_type": "stream",
     "text": [
      "delta_theta\n",
      "26 l.rostralanteriorcingulate 3.0022295016642393e-05\n",
      "delta\n",
      "26 l.rostralanteriorcingulate 2.9476286357583394e-05\n",
      "57 r.posteriorcingulate 0.0006572565502114446\n",
      "theta\n",
      "26 l.rostralanteriorcingulate 8.1356562272227e-05\n",
      "alpha\n",
      "3 l.cuneus 6.850877766127716e-05\n",
      "37 r.cuneus 0.0006941188101338254\n",
      "49 r.middletemporal 0.00010084112007127536\n",
      "beta\n",
      "3 l.cuneus 2.465367565112265e-06\n",
      "7 l.inferiorparietal 7.007720741334193e-05\n",
      "27 l.rostralmiddlefrontal 5.9184974075669626e-05\n",
      "29 l.superiorparietal 0.00038364531862039185\n",
      "31 l.supramarginal 5.552158548267919e-05\n",
      "37 r.cuneus 7.46247094164144e-05\n",
      "49 r.middletemporal 0.00016532413930212962\n",
      "63 r.superiorparietal 0.0001927171699388443\n",
      "all\n",
      "3 l.cuneus 0.00010450943033310505\n",
      "27 l.rostralmiddlefrontal 0.0005950019446000499\n"
     ]
    }
   ],
   "source": [
    "import statsmodels.api as sm\n",
    "cmap = \"Reds\"\n",
    "kys = [\"delta_theta\", \"delta\", \"theta\", \"alpha\", \"beta\", \"all\"]\n",
    "for ky in kys:\n",
    "    print(ky)\n",
    "    vec = []\n",
    "    pvals = []\n",
    "    for roi_ix in range(68):\n",
    "        Y, X = _prepare_data(all_data, roi_ix=roi_ix, kys=[ky]);\n",
    "        model0 = sm.OLS(Y, X).fit()\n",
    "        pval = model0.pvalues[ky]\n",
    "        pvals.append(pval)\n",
    "        if pval<0.05/68:\n",
    "            print(roi_ix, rois[roi_ix], pval)\n",
    "        vec.append(-np.log(pval))\n",
    "    vec = np.array(vec)\n",
    "    pvals = np.array(pvals);\n",
    "    \n",
    "    vec = (vec-vec.min())/(vec.max()-vec.min())\n",
    "    vec[pvals>=0.05/68] = 0\n",
    "    #fig = _brain_plot(vec, cmap=cmap);\n",
    "    #plt.savefig(FIG_ROOT/f\"{SAVED_FOLDER}_pval_brain_plot_naive{ky}.jpg\")"
   ]
  },
  {
   "cell_type": "markdown",
   "id": "35184f99-bf87-4ab3-b176-48a0c26baa47",
   "metadata": {},
   "source": [
    "## extract sig rois with 0.05/68/4"
   ]
  },
  {
   "cell_type": "code",
   "execution_count": 17,
   "id": "4ff53c7e-8479-4c77-9af3-1df771224451",
   "metadata": {
    "execution": {
     "iopub.execute_input": "2024-03-12T08:32:02.674196Z",
     "iopub.status.busy": "2024-03-12T08:32:02.673308Z",
     "iopub.status.idle": "2024-03-12T08:32:02.953605Z",
     "shell.execute_reply": "2024-03-12T08:32:02.953175Z",
     "shell.execute_reply.started": "2024-03-12T08:32:02.674143Z"
    },
    "tags": []
   },
   "outputs": [
    {
     "name": "stdout",
     "output_type": "stream",
     "text": [
      "delta\n",
      "26 l.rostralanteriorcingulate 2.9476286357583394e-05\n",
      "theta\n",
      "26 l.rostralanteriorcingulate 8.1356562272227e-05\n",
      "alpha\n",
      "3 l.cuneus 6.850877766127716e-05\n",
      "49 r.middletemporal 0.00010084112007127536\n",
      "beta\n",
      "3 l.cuneus 2.465367565112265e-06\n",
      "7 l.inferiorparietal 7.007720741334193e-05\n",
      "27 l.rostralmiddlefrontal 5.9184974075669626e-05\n",
      "31 l.supramarginal 5.552158548267919e-05\n",
      "37 r.cuneus 7.46247094164144e-05\n",
      "49 r.middletemporal 0.00016532413930212962\n"
     ]
    },
    {
     "data": {
      "text/plain": [
       "array([ 3,  7, 26, 27, 31, 37, 49])"
      ]
     },
     "execution_count": 17,
     "metadata": {},
     "output_type": "execute_result"
    }
   ],
   "source": [
    "# get the sig roi in all four bands\n",
    "import statsmodels.api as sm\n",
    "#kys = [\"delta_theta\", \"alpha\", \"beta\"]\n",
    "kys = [\"delta\", \"theta\", \"alpha\", \"beta\"]\n",
    "sig_rois = []\n",
    "for ky in kys:\n",
    "    print(ky)\n",
    "    vec = []\n",
    "    pvals = []\n",
    "    for roi_ix in range(68):\n",
    "        Y, X = _prepare_data(all_data, roi_ix=roi_ix, kys=[ky]);\n",
    "        model0 = sm.OLS(Y, X).fit()\n",
    "        pval = model0.pvalues[ky]\n",
    "        pvals.append(pval)\n",
    "        if pval<0.05/68/4:\n",
    "            print(roi_ix, rois[roi_ix], pval)\n",
    "            sig_rois.append(roi_ix)\n",
    "sig_rois = np.sort(list(set(sig_rois)))\n",
    "# save the sig roi idx \n",
    "#save_pkl(RES_ROOT/f\"{SAVED_FOLDER}/sig_roi_idxs_naive.pkl\", sig_rois, is_force=True)"
   ]
  },
  {
   "cell_type": "code",
   "execution_count": 18,
   "id": "e478551c-c972-48a6-afee-d788277df529",
   "metadata": {
    "execution": {
     "iopub.execute_input": "2024-03-12T08:32:03.706050Z",
     "iopub.status.busy": "2024-03-12T08:32:03.705471Z",
     "iopub.status.idle": "2024-03-12T08:32:03.803909Z",
     "shell.execute_reply": "2024-03-12T08:32:03.803456Z",
     "shell.execute_reply.started": "2024-03-12T08:32:03.706003Z"
    },
    "tags": []
   },
   "outputs": [
    {
     "data": {
      "text/plain": [
       "0.9072371051579369"
      ]
     },
     "execution_count": 18,
     "metadata": {},
     "output_type": "execute_result"
    }
   ],
   "source": [
    "# logi on all sig roi and cov\n",
    "# note that if a roi is sig in any of 1 band, \n",
    "# I will include info from 4 bands in that roi here\n",
    "from sklearn.linear_model import LogisticRegression\n",
    "from sklearn.model_selection import cross_val_predict\n",
    "from sklearn.metrics import roc_auc_score, roc_curve, f1_score\n",
    "kys = [\"delta_theta\", \"alpha\", \"beta\"]\n",
    "kys = [\"delta\", \"theta\", \"alpha\", \"beta\"]\n",
    "\n",
    "Xs = []\n",
    "for sig_roi in sig_rois:\n",
    "    psd = all_data.X[:, sig_roi].numpy()\n",
    "    tpsd = _get_psd_X(psd, kys)\n",
    "    Xs.append(tpsd)\n",
    "    \n",
    "    \n",
    "psd_Z = np.concatenate(Xs, axis=1);\n",
    "bZ = np.concatenate([Z, psd_Z], axis=1);\n",
    "bZ[:, 2:] = (bZ[:, 2:] - bZ[:, 2:].mean(axis=0))/bZ[:, 2:].std(axis=0);\n",
    "\n",
    "clf = LogisticRegression(C=1)\n",
    "est_probs1 = cross_val_predict(clf, bZ, Yb, cv=10, method=\"predict_proba\")[:, 1];\n",
    "auc1 = roc_auc_score(Yb, est_probs1)"
   ]
  },
  {
   "cell_type": "code",
   "execution_count": null,
   "id": "84f96c2f-f28a-4ee7-9d69-7cb6d9f7cd02",
   "metadata": {},
   "outputs": [],
   "source": []
  },
  {
   "cell_type": "markdown",
   "id": "5b5bd06b-90f2-4fff-ba3f-9036f059076e",
   "metadata": {},
   "source": [
    "## Another way"
   ]
  },
  {
   "cell_type": "code",
   "execution_count": 19,
   "id": "09b832a2-c146-44f9-8e9e-dd517bf3029b",
   "metadata": {
    "execution": {
     "iopub.execute_input": "2024-03-12T08:32:04.927080Z",
     "iopub.status.busy": "2024-03-12T08:32:04.926483Z",
     "iopub.status.idle": "2024-03-12T08:32:05.207696Z",
     "shell.execute_reply": "2024-03-12T08:32:05.207260Z",
     "shell.execute_reply.started": "2024-03-12T08:32:04.927033Z"
    },
    "tags": []
   },
   "outputs": [
    {
     "name": "stdout",
     "output_type": "stream",
     "text": [
      "delta\n",
      "26 l.rostralanteriorcingulate 2.9476286357583394e-05\n",
      "theta\n",
      "26 l.rostralanteriorcingulate 8.1356562272227e-05\n",
      "alpha\n",
      "3 l.cuneus 6.850877766127716e-05\n",
      "49 r.middletemporal 0.00010084112007127536\n",
      "beta\n",
      "3 l.cuneus 2.465367565112265e-06\n",
      "7 l.inferiorparietal 7.007720741334193e-05\n",
      "27 l.rostralmiddlefrontal 5.9184974075669626e-05\n",
      "31 l.supramarginal 5.552158548267919e-05\n",
      "37 r.cuneus 7.46247094164144e-05\n",
      "49 r.middletemporal 0.00016532413930212962\n"
     ]
    },
    {
     "data": {
      "text/plain": [
       "{'delta': [26],\n",
       " 'theta': [26],\n",
       " 'alpha': [3, 49],\n",
       " 'beta': [3, 7, 27, 31, 37, 49]}"
      ]
     },
     "execution_count": 19,
     "metadata": {},
     "output_type": "execute_result"
    }
   ],
   "source": [
    "# get the sig roi in all four bands\n",
    "import statsmodels.api as sm\n",
    "#kys = [\"delta_theta\", \"alpha\", \"beta\"]\n",
    "kys = [\"delta\", \"theta\", \"alpha\", \"beta\"]\n",
    "all_rois = {}\n",
    "for ky in kys:\n",
    "    sig_rois = []\n",
    "    print(ky)\n",
    "    vec = []\n",
    "    pvals = []\n",
    "    for roi_ix in range(68):\n",
    "        Y, X = _prepare_data(all_data, roi_ix=roi_ix, kys=[ky]);\n",
    "        model0 = sm.OLS(Y, X).fit()\n",
    "        pval = model0.pvalues[ky]\n",
    "        pvals.append(pval)\n",
    "        if pval<0.05/68/4:\n",
    "            print(roi_ix, rois[roi_ix], pval)\n",
    "            sig_rois.append(roi_ix)\n",
    "    all_rois[ky] = sig_rois\n",
    "\n",
    "all_rois"
   ]
  },
  {
   "cell_type": "code",
   "execution_count": 27,
   "id": "1a100b1f-69e8-4e19-9358-f13c2379c15c",
   "metadata": {
    "execution": {
     "iopub.execute_input": "2024-03-12T08:43:25.202360Z",
     "iopub.status.busy": "2024-03-12T08:43:25.201623Z",
     "iopub.status.idle": "2024-03-12T08:43:25.426616Z",
     "shell.execute_reply": "2024-03-12T08:43:25.426089Z",
     "shell.execute_reply.started": "2024-03-12T08:43:25.202311Z"
    },
    "tags": []
   },
   "outputs": [
    {
     "name": "stdout",
     "output_type": "stream",
     "text": [
      "Save to /data/rajlab1/user_data/jin/MyResearch/HDF_infer/notebooks/real_data/../../mypkg/../results/real_data_nlinear_nostd/info_from_sig_bands_naive.pkl\n"
     ]
    },
    {
     "data": {
      "text/plain": [
       "0.8762495001999201"
      ]
     },
     "execution_count": 27,
     "metadata": {},
     "output_type": "execute_result"
    }
   ],
   "source": [
    "# logi on all sig roi and cov\n",
    "# note that if a roi is sig in any of 1 band, \n",
    "# I only include info from the sig bands in that roi here\n",
    "from sklearn.linear_model import LogisticRegression\n",
    "from sklearn.model_selection import cross_val_predict\n",
    "from sklearn.metrics import roc_auc_score, roc_curve, f1_score\n",
    "kys = [\"delta\", \"theta\", \"alpha\", \"beta\"]\n",
    "\n",
    "Xs = []\n",
    "for ky in kys:\n",
    "    t_roi = all_rois[ky]\n",
    "    for sig_roi in t_roi:\n",
    "        psd = all_data.X[:, sig_roi].numpy()\n",
    "        tpsd = _get_psd_X(psd, [ky])\n",
    "        Xs.append(tpsd)\n",
    "\n",
    "    \n",
    "psd_Z = np.concatenate(Xs, axis=1);\n",
    "save_pkl(RES_ROOT/f\"{SAVED_FOLDER}/info_from_sig_bands_naive.pkl\", \n",
    "         psd_Z, is_force=True)\n",
    "bZ = np.concatenate([Z, psd_Z], axis=1);\n",
    "bZ[:, 2:] = (bZ[:, 2:] - bZ[:, 2:].mean(axis=0))/bZ[:, 2:].std(axis=0);\n",
    "\n",
    "clf = LogisticRegression(C=0.01, fit_intercept=False)\n",
    "est_probs1 = cross_val_predict(clf, bZ, Yb, cv=10, method=\"predict_proba\")[:, 1];\n",
    "auc1 = roc_auc_score(Yb, est_probs1)"
   ]
  },
  {
   "cell_type": "code",
   "execution_count": null,
   "id": "7462a31c-0474-497e-9a16-c413f6f4b2b8",
   "metadata": {},
   "outputs": [],
   "source": []
  }
 ],
 "metadata": {
  "kernelspec": {
   "display_name": "Python 3 (ipykernel)",
   "language": "python",
   "name": "python3"
  },
  "language_info": {
   "codemirror_mode": {
    "name": "ipython",
    "version": 3
   },
   "file_extension": ".py",
   "mimetype": "text/x-python",
   "name": "python",
   "nbconvert_exporter": "python",
   "pygments_lexer": "ipython3",
   "version": "3.9.7"
  },
  "toc": {
   "base_numbering": 1,
   "nav_menu": {},
   "number_sections": true,
   "sideBar": true,
   "skip_h1_title": false,
   "title_cell": "Table of Contents",
   "title_sidebar": "Contents",
   "toc_cell": false,
   "toc_position": {
    "height": "calc(100% - 180px)",
    "left": "10px",
    "top": "150px",
    "width": "165px"
   },
   "toc_section_display": true,
   "toc_window_display": true
  },
  "toc-autonumbering": true
 },
 "nbformat": 4,
 "nbformat_minor": 5
}
