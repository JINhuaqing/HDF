{
 "cells": [
  {
   "cell_type": "markdown",
   "id": "faf0a805",
   "metadata": {},
   "source": [
    "This file contains python code to check the hypothesis testing"
   ]
  },
  {
   "cell_type": "code",
   "execution_count": 1,
   "id": "02ae980e",
   "metadata": {
    "ExecuteTime": {
     "end_time": "2023-02-03T11:51:57.119289Z",
     "start_time": "2023-02-03T11:51:57.111476Z"
    }
   },
   "outputs": [],
   "source": [
    "import sys\n",
    "sys.path.append(\"../mypkg\")"
   ]
  },
  {
   "cell_type": "code",
   "execution_count": 2,
   "id": "023df78a",
   "metadata": {
    "ExecuteTime": {
     "end_time": "2023-02-03T11:52:12.023129Z",
     "start_time": "2023-02-03T11:52:00.387574Z"
    }
   },
   "outputs": [],
   "source": [
    "import numpy as np\n",
    "import torch\n",
    "import matplotlib.pyplot as plt\n",
    "import seaborn as sns\n",
    "import xarray as xr\n",
    "from scipy.stats import pearsonr\n",
    "from numbers import Number\n",
    "import multiprocessing as mp\n",
    "\n",
    "from easydict import EasyDict as edict\n",
    "from tqdm import trange\n",
    "from scipy.io import loadmat\n",
    "from pprint import pprint\n",
    "\n",
    "plt.style.use('ggplot')\n",
    "plt.rcParams[\"savefig.bbox\"] = \"tight\""
   ]
  },
  {
   "cell_type": "code",
   "execution_count": 3,
   "id": "053a5249",
   "metadata": {
    "ExecuteTime": {
     "end_time": "2023-02-03T11:52:12.116987Z",
     "start_time": "2023-02-03T11:52:12.026326Z"
    }
   },
   "outputs": [
    {
     "data": {
      "text/plain": [
       "<module 'models.linear_model' from '/data/rajlab1/user_data/jin/MyResearch/HDF_infer/notebooks/../mypkg/models/linear_model.py'>"
      ]
     },
     "execution_count": 3,
     "metadata": {},
     "output_type": "execute_result"
    }
   ],
   "source": [
    "import importlib\n",
    "import models.linear_model \n",
    "importlib.reload(models.linear_model)"
   ]
  },
  {
   "cell_type": "code",
   "execution_count": 4,
   "id": "b0aa91b2",
   "metadata": {
    "ExecuteTime": {
     "end_time": "2023-02-03T11:52:15.363329Z",
     "start_time": "2023-02-03T11:52:12.119663Z"
    }
   },
   "outputs": [],
   "source": [
    "from constants import DATA_ROOT, RES_ROOT, FIG_ROOT\n",
    "from default_paras import def_paras\n",
    "\n",
    "from hdf_utils.data_gen import gen_covs, gen_simu_psd\n",
    "from hdf_utils.fns import fn1, fn2, fn3, fn4, fn5, zero_fn\n",
    "from hdf_utils.fns_sinica import coef_fn, fourier_basis_fn\n",
    "from hdf_utils.likelihood import obt_lin_tm\n",
    "from hdf_utils.SIS import SIS_linear\n",
    "from utils.matrix import col_vec_fn, col_vec2mat_fn, conju_grad, svd_inverse\n",
    "from utils.functions import logit_fn\n",
    "from utils.misc import save_pkl\n",
    "from splines import obt_bsp_basis_Rfn, obt_bsp_basis_Rfn_wrapper\n",
    "from projection import euclidean_proj_l1ball\n",
    "from optimization.one_step_opt import OneStepOpt\n",
    "from optimization.cross_validation import CV_err_linear_fn\n",
    "from optimization.opt import optimization\n",
    "\n",
    "from penalties.scad_pen import SCAD\n",
    "from models.logistic_model import LogisticModel\n",
    "from models.linear_model import LinearModel\n"
   ]
  },
  {
   "cell_type": "code",
   "execution_count": 5,
   "id": "fdddf8a6",
   "metadata": {
    "ExecuteTime": {
     "end_time": "2023-02-03T11:52:15.371419Z",
     "start_time": "2023-02-03T11:52:15.366988Z"
    }
   },
   "outputs": [],
   "source": [
    "torch.set_default_tensor_type(torch.DoubleTensor)"
   ]
  },
  {
   "cell_type": "code",
   "execution_count": null,
   "id": "d0af2f35",
   "metadata": {},
   "outputs": [],
   "source": []
  },
  {
   "cell_type": "markdown",
   "id": "dd9c6514",
   "metadata": {},
   "source": [
    "## Param and fns"
   ]
  },
  {
   "cell_type": "markdown",
   "id": "21e4ccea",
   "metadata": {},
   "source": [
    "### Params"
   ]
  },
  {
   "cell_type": "code",
   "execution_count": 6,
   "id": "fd29f0de",
   "metadata": {
    "ExecuteTime": {
     "end_time": "2023-02-03T11:52:23.492673Z",
     "start_time": "2023-02-03T11:52:23.230655Z"
    }
   },
   "outputs": [
    {
     "name": "stdout",
     "output_type": "stream",
     "text": [
      "The number of B-spline basis is 15.\n"
     ]
    }
   ],
   "source": [
    "np.random.seed(0)\n",
    "paras = edict(def_paras.copy())\n",
    "\n",
    "# Others\n",
    "paras.num_rep = 20\n",
    "paras.ns = [100, 300, 900, 2700, 8100, 24300]\n",
    "paras.can_lams = [1e-1, 3e-1, 1e0, 3e0, 9e0, 3e1]\n",
    "paras.can_Ns = [5, 10, 15, 20]\n",
    "paras.ind_freq = np.linspace(1, 40, 40) # freqs\n",
    "paras.init_noise_sd = 10 # the sd of the noise added to the true value for initial values\n",
    "#paras.SIS_ratio = 1 # the ratio to keep with SIS procedure\n",
    "paras.SIS_ratio = 0.05 # the ratio to keep with SIS procedure\n",
    "\n",
    "# generating dataset\n",
    "paras.n = 10000 # num of data obs to be genareted\n",
    "paras.npts = 40 # num of pts to evaluate X(s)\n",
    "paras.d = 200 # num of ROIs\n",
    "paras.q = 5 # num of other covariates\n",
    "paras.sigma2 = 1 # variance of the error\n",
    "paras.types_ = [\"int\", 2, 2, \"c\", \"c\"]\n",
    "\n",
    "# b-spline\n",
    "paras.N = 15 # int(3*paras.n**(1/paras.ord/2)) # num of basis for bsp\n",
    "paras.x = np.linspace(0, 1, paras.npts)\n",
    "paras.basis_mat = torch.DoubleTensor(obt_bsp_basis_Rfn_wrapper(paras.x, paras.N, paras.ord))\n",
    "assert paras.N == paras.basis_mat.shape[1]\n",
    "print(f\"The number of B-spline basis is {paras.N:.0f}.\")\n",
    "\n",
    "# True parameters\n",
    "paras.alp_GT = np.array([5, 1, -2, 3, -4])\n",
    "\n",
    "# first way\n",
    "#beta_type_GT = [fn1, fn2, fn2] + [zero_fn]*(paras.d-3-2) + [fn1, fn2]\n",
    "#paras.beta_GT = np.array([_fn(paras.x) for _fn in beta_type_GT]).T\n",
    "# second way, fourier basis\n",
    "paras.fourier_basis = fourier_basis_fn(paras.x)\n",
    "#paras.fourier_basis_coefs = ([coef_fn(0.1), coef_fn(0.3), coef_fn(0.5)] + \n",
    "#                             [np.zeros(50)] * (paras.d-3-2) +\n",
    "#                             [coef_fn(0.7), coef_fn(0.9)]\n",
    "#                             )\n",
    "paras.fourier_basis_coefs = ([np.zeros(50)] * (paras.d-2) +\n",
    "                             [coef_fn(0.7), coef_fn(0.9)]\n",
    "                             )\n",
    "paras.fourier_basis_coefs = np.array(paras.fourier_basis_coefs).T * 5\n",
    "paras.beta_GT = paras.fourier_basis @ paras.fourier_basis_coefs\n",
    "#\n",
    "paras.Gam_est = (np.linalg.inv(paras.basis_mat.numpy().T \n",
    "                               @ paras.basis_mat.numpy()) \n",
    "                               @ paras.basis_mat.numpy().T \n",
    "                               @ paras.beta_GT)\n",
    "\n",
    "# optimization\n",
    "paras.Rmin = 2*(np.linalg.norm(paras.Gam_est/np.sqrt(paras.N), axis=0).sum() + np.abs(paras.alp_GT).sum())\n",
    "paras.sel_idx = np.arange(3, paras.d) # M^c set, \n",
    "#without loss of generality, we assume the idxs in M is the first m betas\n",
    "paras.num_cv_fold = 5\n",
    "paras.Rfct = 2\n",
    "paras.stop_cv = 5e-4\n",
    "paras.max_iter = 2000\n",
    "\n",
    "# hypothesis test\n",
    "paras.M_idxs = np.delete(np.arange(paras.d), paras.sel_idx) # the M set\n",
    "paras.Cmat = np.eye(len(paras.M_idxs)) # Cmat \\times beta_M(s), r x m\n",
    "paras.r, paras.m = paras.Cmat.shape\n",
    "paras.t_vec = np.zeros(paras.Cmat.shape[0]) # t vec, typically it is zero vector\n"
   ]
  },
  {
   "cell_type": "code",
   "execution_count": 7,
   "id": "75dc09a0",
   "metadata": {
    "ExecuteTime": {
     "end_time": "2023-02-03T11:52:25.527346Z",
     "start_time": "2023-02-03T11:52:25.520184Z"
    }
   },
   "outputs": [],
   "source": [
    "paras.save_dir = RES_ROOT/\"linear_test\"\n",
    "if not paras.save_dir.exists():\n",
    "    paras.save_dir.mkdir()"
   ]
  },
  {
   "cell_type": "code",
   "execution_count": null,
   "id": "75e10fd4",
   "metadata": {},
   "outputs": [],
   "source": []
  },
  {
   "cell_type": "markdown",
   "id": "66c2f90f",
   "metadata": {
    "ExecuteTime": {
     "end_time": "2022-12-08T18:09:55.509389Z",
     "start_time": "2022-12-08T18:09:55.343396Z"
    }
   },
   "source": [
    "### Fns"
   ]
  },
  {
   "cell_type": "code",
   "execution_count": 8,
   "id": "fea96e90",
   "metadata": {
    "ExecuteTime": {
     "end_time": "2023-02-03T11:52:26.598835Z",
     "start_time": "2023-02-03T11:52:26.592442Z"
    }
   },
   "outputs": [],
   "source": [
    "\n",
    "def MS2idxs(q, N, MS_unions):\n",
    "    \"\"\"This fn is to return the idxs to keep in mat Q, Sigma and vec Theta\n",
    "    \"\"\"\n",
    "    idxs_all = [np.arange(0, q)]\n",
    "    for cur_idx in MS_unions:\n",
    "        idxs_all.append(np.arange(q+cur_idx*N, q+(cur_idx+1)*N))\n",
    "    idxs_all = np.concatenate(idxs_all)\n",
    "    return idxs_all"
   ]
  },
  {
   "cell_type": "code",
   "execution_count": 9,
   "id": "2db5c76b",
   "metadata": {
    "ExecuteTime": {
     "end_time": "2023-02-03T11:52:28.053569Z",
     "start_time": "2023-02-03T11:52:28.046469Z"
    }
   },
   "outputs": [],
   "source": [
    "def get_Amat(k, paras):\n",
    "    \"\"\"Get A matrix for hypothesis test\n",
    "        k: Num of elements in S\n",
    "        paras: parameters\n",
    "                required: N, Cmat, m, q\n",
    "    \"\"\"\n",
    "    _paras = edict(paras.copy())\n",
    "    \n",
    "    part1 = np.kron(_paras.Cmat, np.eye(_paras.N))\n",
    "    part2 = np.zeros((_paras.m*_paras.N, _paras.q+(_paras.m+k)*_paras.N))\n",
    "    part2[:, _paras.q:(_paras.q+_paras.m*_paras.N)] = np.eye(_paras.m*_paras.N)\n",
    "    A = part1 @ part2\n",
    "    return A"
   ]
  },
  {
   "cell_type": "code",
   "execution_count": 63,
   "id": "4c96dc1b",
   "metadata": {
    "ExecuteTime": {
     "end_time": "2023-02-03T04:30:57.960083Z",
     "start_time": "2023-02-03T04:30:57.741419Z"
    }
   },
   "outputs": [
    {
     "data": {
      "image/png": "[encoded data removed]",
      "text/plain": [
       "<Figure size 432x288 with 1 Axes>"
      ]
     },
     "metadata": {},
     "output_type": "display_data"
    }
   ],
   "source": [
    "from utils.misc import load_pkl\n",
    "tmp_data = load_pkl(DATA_ROOT/\"ctrl_vs_AD_nooutlier.pkl\")\n",
    "real_psd = np.log10(np.transpose(tmp_data[\"psd\"], (2, 0, 1)))\n",
    "std_real_psd = (real_psd - real_psd.mean(axis=2)[:, :, np.newaxis])/real_psd.std(axis=2)[:, :, np.newaxis]\n",
    "for iy in range(68):\n",
    "    plt.plot(std_real_psd[0, iy, :])"
   ]
  },
  {
   "cell_type": "code",
   "execution_count": 10,
   "id": "0f30b88f",
   "metadata": {
    "ExecuteTime": {
     "end_time": "2023-02-03T11:52:32.860058Z",
     "start_time": "2023-02-03T11:52:32.849467Z"
    },
    "code_folding": []
   },
   "outputs": [],
   "source": [
    "def _gen_simu_data_all(seed, paras):\n",
    "    np.random.seed(seed)\n",
    "    _paras = edict(paras.copy())\n",
    "    # simulated PSD\n",
    "    assert len(_paras.types_) == _paras.q\n",
    "    assert len(_paras.alp_GT) == _paras.q\n",
    "    \n",
    "    #simu_psd = gen_simu_psd(_paras.n, _paras.d, 10)\n",
    "    simu_psd = np.random.randn(_paras.n, _paras.d, 40)*10\n",
    "    simu_covs = gen_covs(_paras.n, _paras.types_)\n",
    "    \n",
    "    # linear term and Y\n",
    "    int_part = np.sum(_paras.beta_GT.T* simu_psd[:, :, :], axis=1).mean(axis=1)\n",
    "    cov_part = simu_covs @ _paras.alp_GT \n",
    "    \n",
    "    # linear term\n",
    "    lin_term = cov_part + int_part\n",
    "    \n",
    "    # Y \n",
    "    rvs = np.random.rand(_paras.n)\n",
    "    Y = lin_term + np.random.randn(_paras.n)*np.sqrt(_paras.sigma2)\n",
    "    \n",
    "    # To torch\n",
    "    X = torch.tensor(simu_psd) # n x d x npts\n",
    "    Z = torch.tensor(simu_covs) # n x q\n",
    "    Y = torch.tensor(Y)\n",
    "    \n",
    "    all_data = edict()\n",
    "    all_data.X = X\n",
    "    all_data.Y = Y\n",
    "    all_data.Z = Z\n",
    "    return all_data"
   ]
  },
  {
   "cell_type": "code",
   "execution_count": null,
   "id": "b1a2b52d",
   "metadata": {},
   "outputs": [],
   "source": []
  },
  {
   "cell_type": "markdown",
   "id": "e4043966",
   "metadata": {},
   "source": [
    "## Simu"
   ]
  },
  {
   "cell_type": "code",
   "execution_count": null,
   "id": "2492276f",
   "metadata": {
    "ExecuteTime": {
     "start_time": "2023-02-03T12:15:59.826Z"
    },
    "code_folding": [],
    "scrolled": true
   },
   "outputs": [
    {
     "name": "stderr",
     "output_type": "stream",
     "text": [
      "\r",
      "  0%|                                                                                                                                                                                | 0/1000 [00:00<?, ?it/s]"
     ]
    }
   ],
   "source": [
    "seed = 0\n",
    "lam = 2\n",
    "T_vs = []\n",
    "T_p1s = []\n",
    "Psis = []\n",
    "nonzero_idxss = []\n",
    "for seed in trange(1000):\n",
    "    \n",
    "    np.random.seed(seed)\n",
    "    torch.manual_seed(seed)\n",
    "        \n",
    "    _paras = edict(paras.copy())\n",
    "    _paras.lam = lam\n",
    "    _paras.seed = seed\n",
    "    _paras.Rv = _paras.Rfct * _paras.Rmin\n",
    "    cur_data = _gen_simu_data_all(_paras.seed, _paras)\n",
    "    \n",
    "    \n",
    "    # do sure independent screening for dim reduction\n",
    "    if _paras.SIS_ratio < 1:\n",
    "        keep_idxs, _  = SIS_linear(cur_data.Y, cur_data.X, cur_data.Z, _paras.SIS_ratio, _paras)\n",
    "    else:\n",
    "        keep_idxs = _paras.sel_idx\n",
    "    M_idxs = np.delete(np.arange(_paras.d), _paras.sel_idx)\n",
    "    _paras.keep_idxs = np.sort(np.concatenate([M_idxs, keep_idxs]))\n",
    "        \n",
    "    _paras.sel_idx_SIS = np.where(np.array([keep_idx in _paras.sel_idx for keep_idx in _paras.keep_idxs]))[0]\n",
    "    _paras.d_SIS = len(_paras.keep_idxs)\n",
    "    \n",
    "    cur_data_SIS = edict(cur_data.copy())\n",
    "    cur_data_SIS.X = cur_data.X[:, _paras.keep_idxs, :]\n",
    "    \n",
    "    \n",
    "    alp_init = torch.tensor(_paras.alp_GT) + torch.randn(_paras.q)*_paras.init_noise_sd\n",
    "    Gam_init = (torch.tensor(_paras.Gam_est[:, _paras.keep_idxs]) \n",
    "                + torch.randn(_paras.N, _paras.d_SIS)*_paras.init_noise_sd)\n",
    "    theta_init = torch.cat([alp_init, col_vec_fn(Gam_init)/np.sqrt(_paras.N)])\n",
    "    rhok_init = torch.randn(_paras.d_SIS*_paras.N)\n",
    "        \n",
    "    model = LinearModel(Y=cur_data_SIS.Y, \n",
    "                        X=cur_data_SIS.X, \n",
    "                        Z=cur_data_SIS.Z, \n",
    "                        basis_mat=_paras.basis_mat, \n",
    "                        sigma2=_paras.sigma2)\n",
    "    # 3e0\n",
    "    pen = SCAD(lams=_paras.lam, a=_paras.a,  sel_idx=_paras.sel_idx_SIS)\n",
    "        \n",
    "    \n",
    "    main_res = optimization(model=model, \n",
    "                            penalty=pen, \n",
    "                            inits=[alp_init, Gam_init, theta_init, rhok_init],\n",
    "                            is_prg=False,\n",
    "                            save_paras=False,    \n",
    "                            input_paras=_paras)\n",
    "    \n",
    "    #cv_errs = CV_err_linear_fn(data=cur_data_SIS, \n",
    "    #                           penalty=pen, \n",
    "    #                           num_cv_fold=_paras.num_cv_fold,\n",
    "    #                           inits=[alp_init, Gam_init, theta_init, rhok_init], \n",
    "    #                           is_prg=False, \n",
    "    #                           save_paras=False,    \n",
    "    #                           input_paras=_paras)\n",
    "    #print(np.mean(cv_errs**2))\n",
    "    \n",
    "    opt = main_res[0]\n",
    "    est_Gam = opt.Gamk\n",
    "    #est_Gam[:, -2:] = est_Gam[:, -2:]/10\n",
    "    #est_Gam[:, :3] = est_Gam[:, :3]/10\n",
    "    est_alp = opt.alpk\n",
    "    est_theta = torch.cat([est_alp, col_vec_fn(est_Gam)/np.sqrt(_paras.N)])\n",
    "    \n",
    "    Q_mat = -model.log_lik_der2(est_alp, est_Gam)\n",
    "    model.log_lik_der1(est_alp, est_Gam);\n",
    "    Sig_mat = (model.log_lik_der1_vs.unsqueeze(-1) * model.log_lik_der1_vs.unsqueeze(1)).mean(axis=0) \n",
    "    # minus sign canceled\n",
    "    \n",
    "    \n",
    "    # obtain the idxs to keep for test\n",
    "    nonzero_idxs = torch.nonzero(torch.norm(est_Gam, dim=0)).reshape(-1).numpy()\n",
    "    MS_unions = np.sort(np.union1d(_paras.M_idxs, nonzero_idxs))\n",
    "    keep_idxs_test = MS2idxs(_paras.q, _paras.N, MS_unions)\n",
    "    \n",
    "    # A mat\n",
    "    k = len(np.setdiff1d(nonzero_idxs, _paras.M_idxs))\n",
    "    Amat = torch.tensor(get_Amat(k, _paras))\n",
    "    \n",
    "    # calcuate Test stats\n",
    "    Q_mat_part = Q_mat[keep_idxs_test][:, keep_idxs_test]\n",
    "    Q_mat_part_inv = svd_inverse(Q_mat_part)\n",
    "    \n",
    "    Sig_mat_part = Sig_mat[keep_idxs_test][:, keep_idxs_test]\n",
    "    Psi = Amat @ Q_mat_part_inv @ Sig_mat_part @ Q_mat_part_inv @ Amat.T\n",
    "    \n",
    "    T_p1 = Amat @ est_theta[keep_idxs_test]\n",
    "    Psi_inv = svd_inverse(Psi)\n",
    "    T_v = T_p1 @ Psi_inv @ T_p1 * _paras.n \n",
    "    print(T_v)\n",
    "    \n",
    "    Psis.append(Psi)\n",
    "    T_p1s.append(T_p1)\n",
    "    T_vs.append(T_v.item())\n",
    "    nonzero_idxss.append(nonzero_idxs)"
   ]
  },
  {
   "cell_type": "code",
   "execution_count": 12,
   "id": "06605933",
   "metadata": {
    "ExecuteTime": {
     "end_time": "2023-02-03T12:10:20.047245Z",
     "start_time": "2023-02-03T12:10:20.041139Z"
    }
   },
   "outputs": [
    {
     "data": {
      "text/plain": [
       "torch.Size([80, 80])"
      ]
     },
     "execution_count": 12,
     "metadata": {},
     "output_type": "execute_result"
    }
   ],
   "source": [
    "Sig_mat_part.shape"
   ]
  },
  {
   "cell_type": "code",
   "execution_count": 13,
   "id": "a2361a1c",
   "metadata": {
    "ExecuteTime": {
     "end_time": "2023-02-03T12:10:21.775141Z",
     "start_time": "2023-02-03T12:10:21.556590Z"
    }
   },
   "outputs": [
    {
     "data": {
      "text/plain": [
       "[<matplotlib.lines.Line2D at 0x7f7be75064c0>]"
      ]
     },
     "execution_count": 13,
     "metadata": {},
     "output_type": "execute_result"
    },
    {
     "data": {
      "image/png": "[encoded data removed]",
      "text/plain": [
       "<Figure size 432x288 with 1 Axes>"
      ]
     },
     "metadata": {},
     "output_type": "display_data"
    }
   ],
   "source": [
    "plt.plot(torch.svd(Sig_mat_part).S)\n",
    "#plt.yscale(\"log\")"
   ]
  },
  {
   "cell_type": "code",
   "execution_count": 14,
   "id": "307926ce",
   "metadata": {
    "ExecuteTime": {
     "end_time": "2023-02-03T12:10:23.571359Z",
     "start_time": "2023-02-03T12:10:23.564681Z"
    }
   },
   "outputs": [
    {
     "data": {
      "text/plain": [
       "tensor([ 5.0164,  0.9756, -1.9754,  2.9779, -3.9961])"
      ]
     },
     "execution_count": 14,
     "metadata": {},
     "output_type": "execute_result"
    }
   ],
   "source": [
    "est_alp"
   ]
  },
  {
   "cell_type": "code",
   "execution_count": 15,
   "id": "8ded9727",
   "metadata": {
    "ExecuteTime": {
     "end_time": "2023-02-03T12:10:24.982295Z",
     "start_time": "2023-02-03T12:10:24.975296Z"
    }
   },
   "outputs": [
    {
     "data": {
      "text/plain": [
       "tensor([ 0.3323,  0.4758,  0.3230,  0.0000,  0.0000,  0.0000,  0.0000,  0.0000,\n",
       "         0.0000,  0.0000,  0.0000, 62.4331, 96.3231])"
      ]
     },
     "execution_count": 15,
     "metadata": {},
     "output_type": "execute_result"
    }
   ],
   "source": [
    "torch.norm(est_Gam, dim=0)"
   ]
  },
  {
   "cell_type": "code",
   "execution_count": 16,
   "id": "1523dc52",
   "metadata": {
    "ExecuteTime": {
     "end_time": "2023-02-03T12:10:29.733015Z",
     "start_time": "2023-02-03T12:10:29.722656Z"
    }
   },
   "outputs": [
    {
     "data": {
      "text/plain": [
       "array([ 0.        ,  0.        ,  0.        ,  0.        ,  0.        ,\n",
       "        0.        ,  0.        ,  0.        ,  0.        ,  0.        ,\n",
       "        0.        ,  0.        ,  0.        ,  0.        ,  0.        ,\n",
       "        0.        ,  0.        ,  0.        ,  0.        ,  0.        ,\n",
       "        0.        ,  0.        ,  0.        ,  0.        ,  0.        ,\n",
       "        0.        ,  0.        ,  0.        ,  0.        ,  0.        ,\n",
       "        0.        ,  0.        ,  0.        ,  0.        ,  0.        ,\n",
       "        0.        ,  0.        ,  0.        ,  0.        ,  0.        ,\n",
       "        0.        ,  0.        ,  0.        ,  0.        ,  0.        ,\n",
       "        0.        ,  0.        ,  0.        ,  0.        ,  0.        ,\n",
       "        0.        ,  0.        ,  0.        ,  0.        ,  0.        ,\n",
       "        0.        ,  0.        ,  0.        ,  0.        ,  0.        ,\n",
       "        0.        ,  0.        ,  0.        ,  0.        ,  0.        ,\n",
       "        0.        ,  0.        ,  0.        ,  0.        ,  0.        ,\n",
       "        0.        ,  0.        ,  0.        ,  0.        ,  0.        ,\n",
       "        0.        ,  0.        ,  0.        ,  0.        ,  0.        ,\n",
       "        0.        ,  0.        ,  0.        ,  0.        ,  0.        ,\n",
       "        0.        ,  0.        ,  0.        ,  0.        ,  0.        ,\n",
       "        0.        ,  0.        ,  0.        ,  0.        ,  0.        ,\n",
       "        0.        ,  0.        ,  0.        ,  0.        ,  0.        ,\n",
       "        0.        ,  0.        ,  0.        ,  0.        ,  0.        ,\n",
       "        0.        ,  0.        ,  0.        ,  0.        ,  0.        ,\n",
       "        0.        ,  0.        ,  0.        ,  0.        ,  0.        ,\n",
       "        0.        ,  0.        ,  0.        ,  0.        ,  0.        ,\n",
       "        0.        ,  0.        ,  0.        ,  0.        ,  0.        ,\n",
       "        0.        ,  0.        ,  0.        ,  0.        ,  0.        ,\n",
       "        0.        ,  0.        ,  0.        ,  0.        ,  0.        ,\n",
       "        0.        ,  0.        ,  0.        ,  0.        ,  0.        ,\n",
       "        0.        ,  0.        ,  0.        ,  0.        ,  0.        ,\n",
       "        0.        ,  0.        ,  0.        ,  0.        ,  0.        ,\n",
       "        0.        ,  0.        ,  0.        ,  0.        ,  0.        ,\n",
       "        0.        ,  0.        ,  0.        ,  0.        ,  0.        ,\n",
       "        0.        ,  0.        ,  0.        ,  0.        ,  0.        ,\n",
       "        0.        ,  0.        ,  0.        ,  0.        ,  0.        ,\n",
       "        0.        ,  0.        ,  0.        ,  0.        ,  0.        ,\n",
       "        0.        ,  0.        ,  0.        ,  0.        ,  0.        ,\n",
       "        0.        ,  0.        ,  0.        ,  0.        ,  0.        ,\n",
       "        0.        ,  0.        ,  0.        ,  0.        ,  0.        ,\n",
       "        0.        ,  0.        ,  0.        ,  0.        ,  0.        ,\n",
       "        0.        ,  0.        ,  0.        , 62.50363573, 96.14934022])"
      ]
     },
     "execution_count": 16,
     "metadata": {},
     "output_type": "execute_result"
    }
   ],
   "source": [
    "np.linalg.norm(_paras.Gam_est, axis=0)"
   ]
  },
  {
   "cell_type": "code",
   "execution_count": 17,
   "id": "0913f71b",
   "metadata": {
    "ExecuteTime": {
     "end_time": "2023-02-03T12:10:31.822329Z",
     "start_time": "2023-02-03T12:10:31.815104Z"
    }
   },
   "outputs": [
    {
     "data": {
      "text/plain": [
       "tensor([ 37.8155,  29.1688,  41.6286,  49.1545,  45.7443,  33.0805,  46.9089,\n",
       "         41.9271,  45.9416,  31.3612,  43.8160,  77.3970, 115.5249])"
      ]
     },
     "execution_count": 17,
     "metadata": {},
     "output_type": "execute_result"
    }
   ],
   "source": [
    "torch.norm(Gam_init, dim=0)"
   ]
  },
  {
   "cell_type": "code",
   "execution_count": 18,
   "id": "37bb8fa7",
   "metadata": {
    "ExecuteTime": {
     "end_time": "2023-02-03T12:10:33.423398Z",
     "start_time": "2023-02-03T12:10:33.189524Z"
    },
    "scrolled": true
   },
   "outputs": [
    {
     "data": {
      "text/plain": [
       "<AxesSubplot:>"
      ]
     },
     "execution_count": 18,
     "metadata": {},
     "output_type": "execute_result"
    },
    {
     "data": {
      "image/png": "[encoded data removed]",
      "text/plain": [
       "<Figure size 432x288 with 2 Axes>"
      ]
     },
     "metadata": {},
     "output_type": "display_data"
    }
   ],
   "source": [
    "tmp1 = np.mean([ix.numpy() for ix in Psis], axis=0)/paras.n\n",
    "sns.heatmap(tmp1, center=0, cmap=\"bwr\")"
   ]
  },
  {
   "cell_type": "code",
   "execution_count": 19,
   "id": "12844813",
   "metadata": {
    "ExecuteTime": {
     "end_time": "2023-02-03T12:10:35.820524Z",
     "start_time": "2023-02-03T12:10:35.596052Z"
    }
   },
   "outputs": [
    {
     "data": {
      "text/plain": [
       "<AxesSubplot:>"
      ]
     },
     "execution_count": 19,
     "metadata": {},
     "output_type": "execute_result"
    },
    {
     "data": {
      "image/png": "[encoded data removed]",
      "text/plain": [
       "<Figure size 432x288 with 2 Axes>"
      ]
     },
     "metadata": {},
     "output_type": "display_data"
    }
   ],
   "source": [
    "tmp2 = np.cov(np.array([ix.numpy() for ix in T_p1s]).T)\n",
    "sns.heatmap(tmp2, center=0, cmap=\"bwr\")"
   ]
  },
  {
   "cell_type": "code",
   "execution_count": 20,
   "id": "6b6bf4cb",
   "metadata": {
    "ExecuteTime": {
     "end_time": "2023-02-03T12:10:53.472527Z",
     "start_time": "2023-02-03T12:10:53.253445Z"
    }
   },
   "outputs": [
    {
     "data": {
      "text/plain": [
       "<matplotlib.legend.Legend at 0x7f7bd5c57c10>"
      ]
     },
     "execution_count": 20,
     "metadata": {},
     "output_type": "execute_result"
    },
    {
     "data": {
      "image/png": "[encoded data removed]",
      "text/plain": [
       "<Figure size 432x288 with 1 Axes>"
      ]
     },
     "metadata": {},
     "output_type": "display_data"
    }
   ],
   "source": [
    "null_sps = np.random.chisquare(paras.r * paras.N, 10000)\n",
    "sns.kdeplot(null_sps, label=\"theoretical\")\n",
    "sns.kdeplot(np.array(T_vs), label=\"empirical\")\n",
    "plt.legend()"
   ]
  },
  {
   "cell_type": "code",
   "execution_count": 21,
   "id": "54e2f8f9",
   "metadata": {
    "ExecuteTime": {
     "end_time": "2023-02-03T12:10:58.133748Z",
     "start_time": "2023-02-03T12:10:58.124923Z"
    }
   },
   "outputs": [
    {
     "data": {
      "text/plain": [
       "0.05"
      ]
     },
     "execution_count": 21,
     "metadata": {},
     "output_type": "execute_result"
    }
   ],
   "source": [
    "CV = np.quantile(null_sps, 0.95)\n",
    "np.mean(np.array(T_vs)>CV)"
   ]
  },
  {
   "cell_type": "code",
   "execution_count": 22,
   "id": "9c5573d7",
   "metadata": {
    "ExecuteTime": {
     "end_time": "2023-02-03T12:11:02.904755Z",
     "start_time": "2023-02-03T12:11:02.898618Z"
    }
   },
   "outputs": [
    {
     "data": {
      "text/plain": [
       "44.991255478817145"
      ]
     },
     "execution_count": 22,
     "metadata": {},
     "output_type": "execute_result"
    }
   ],
   "source": [
    "np.mean(T_vs)"
   ]
  },
  {
   "cell_type": "code",
   "execution_count": 23,
   "id": "51f8b503",
   "metadata": {
    "ExecuteTime": {
     "end_time": "2023-02-03T12:11:03.582905Z",
     "start_time": "2023-02-03T12:11:03.576793Z"
    }
   },
   "outputs": [
    {
     "data": {
      "text/plain": [
       "45.112252425990285"
      ]
     },
     "execution_count": 23,
     "metadata": {},
     "output_type": "execute_result"
    }
   ],
   "source": [
    "np.mean(null_sps)"
   ]
  },
  {
   "cell_type": "code",
   "execution_count": null,
   "id": "155f1869",
   "metadata": {},
   "outputs": [],
   "source": []
  }
 ],
 "metadata": {
  "kernelspec": {
   "display_name": "Python 3 (ipykernel)",
   "language": "python",
   "name": "python3"
  },
  "language_info": {
   "codemirror_mode": {
    "name": "ipython",
    "version": 3
   },
   "file_extension": ".py",
   "mimetype": "text/x-python",
   "name": "python",
   "nbconvert_exporter": "python",
   "pygments_lexer": "ipython3",
   "version": "3.9.7"
  },
  "toc": {
   "base_numbering": 1,
   "nav_menu": {},
   "number_sections": true,
   "sideBar": true,
   "skip_h1_title": false,
   "title_cell": "Table of Contents",
   "title_sidebar": "Contents",
   "toc_cell": false,
   "toc_position": {
    "height": "calc(100% - 180px)",
    "left": "10px",
    "top": "150px",
    "width": "384px"
   },
   "toc_section_display": true,
   "toc_window_display": true
  }
 },
 "nbformat": 4,
 "nbformat_minor": 5
}
