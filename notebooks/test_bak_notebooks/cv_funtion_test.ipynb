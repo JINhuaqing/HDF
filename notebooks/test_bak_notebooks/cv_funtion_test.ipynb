{
 "cells": [
  {
   "cell_type": "markdown",
   "id": "faf0a805",
   "metadata": {},
   "source": [
    "In this code, I try to add SIS step in CV "
   ]
  },
  {
   "cell_type": "code",
   "execution_count": 1,
   "id": "02ae980e",
   "metadata": {
    "ExecuteTime": {
     "end_time": "2023-05-31T19:57:23.490285Z",
     "start_time": "2023-05-31T19:57:23.481769Z"
    },
    "execution": {
     "iopub.execute_input": "2023-10-20T21:43:07.372762Z",
     "iopub.status.busy": "2023-10-20T21:43:07.371971Z",
     "iopub.status.idle": "2023-10-20T21:43:07.387076Z",
     "shell.execute_reply": "2023-10-20T21:43:07.385810Z",
     "shell.execute_reply.started": "2023-10-20T21:43:07.372708Z"
    },
    "tags": []
   },
   "outputs": [],
   "source": [
    "import sys\n",
    "sys.path.append(\"../../mypkg\")"
   ]
  },
  {
   "cell_type": "code",
   "execution_count": 2,
   "id": "023df78a",
   "metadata": {
    "ExecuteTime": {
     "end_time": "2023-05-31T19:57:34.238839Z",
     "start_time": "2023-05-31T19:57:23.494053Z"
    },
    "execution": {
     "iopub.execute_input": "2023-10-20T21:43:07.388948Z",
     "iopub.status.busy": "2023-10-20T21:43:07.388332Z",
     "iopub.status.idle": "2023-10-20T21:43:09.543485Z",
     "shell.execute_reply": "2023-10-20T21:43:09.542976Z",
     "shell.execute_reply.started": "2023-10-20T21:43:07.388909Z"
    },
    "tags": []
   },
   "outputs": [],
   "source": [
    "import numpy as np\n",
    "import torch\n",
    "import matplotlib.pyplot as plt\n",
    "import seaborn as sns\n",
    "from scipy.stats import pearsonr\n",
    "from numbers import Number\n",
    "\n",
    "from easydict import EasyDict as edict\n",
    "from tqdm import trange, tqdm\n",
    "from scipy.io import loadmat\n",
    "from pprint import pprint\n",
    "import itertools\n",
    "from scipy.stats import chi2\n"
   ]
  },
  {
   "cell_type": "code",
   "execution_count": 3,
   "id": "b9d3cbc6-1ac5-47d6-a0d1-bcbc0be9267e",
   "metadata": {
    "execution": {
     "iopub.execute_input": "2023-10-20T21:43:09.544919Z",
     "iopub.status.busy": "2023-10-20T21:43:09.544685Z",
     "iopub.status.idle": "2023-10-20T21:43:09.564878Z",
     "shell.execute_reply": "2023-10-20T21:43:09.564446Z",
     "shell.execute_reply.started": "2023-10-20T21:43:09.544905Z"
    },
    "tags": []
   },
   "outputs": [],
   "source": [
    "# This will reload all imports as soon as the code changes\n",
    "%load_ext autoreload\n",
    "%autoreload 2"
   ]
  },
  {
   "cell_type": "code",
   "execution_count": 4,
   "id": "b0aa91b2",
   "metadata": {
    "ExecuteTime": {
     "end_time": "2023-05-31T19:57:59.558229Z",
     "start_time": "2023-05-31T19:57:34.292612Z"
    },
    "execution": {
     "iopub.execute_input": "2023-10-20T21:43:09.565502Z",
     "iopub.status.busy": "2023-10-20T21:43:09.565356Z",
     "iopub.status.idle": "2023-10-20T21:43:10.436939Z",
     "shell.execute_reply": "2023-10-20T21:43:10.435677Z",
     "shell.execute_reply.started": "2023-10-20T21:43:09.565490Z"
    },
    "tags": []
   },
   "outputs": [],
   "source": [
    "from constants import DATA_ROOT, RES_ROOT, FIG_ROOT, MIDRES_ROOT\n",
    "from default_paras import def_paras\n",
    "\n",
    "from hdf_utils.data_gen import gen_covs, gen_simu_psd\n",
    "from hdf_utils.fns_sinica import coef_fn, fourier_basis_fn\n",
    "from hdf_utils.likelihood import obt_lin_tm\n",
    "from hdf_utils.SIS import SIS_linear\n",
    "from hdf_utils.utils import gen_lam_seq\n",
    "from hdf_utils.hypo_test import  MS2idxs, obt_test_stat_simple2, obt_test_stat_simple3\n",
    "from utils.matrix import col_vec_fn, col_vec2mat_fn, conju_grad, svd_inverse, cholesky_inv\n",
    "from utils.functions import logit_fn\n",
    "from utils.misc import save_pkl, load_pkl\n",
    "from splines import obt_bsp_obasis_Rfn, obt_bsp_basis_Rfn_wrapper\n",
    "from projection import euclidean_proj_l1ball\n",
    "from optimization.one_step_opt import OneStepOpt\n",
    "from optimization.cross_validation import CV_err_linear_fn\n",
    "from optimization.opt import optimization\n",
    "from optimization.variable_selection import GIC_fn, GCV_fn\n",
    "from penalties.scad_pen import SCAD\n",
    "from models.linear_model import LinearModel\n",
    "\n",
    "from joblib import Parallel, delayed"
   ]
  },
  {
   "cell_type": "code",
   "execution_count": 5,
   "id": "fe0a4a46",
   "metadata": {
    "ExecuteTime": {
     "end_time": "2023-05-31T19:57:59.621784Z",
     "start_time": "2023-05-31T19:57:59.568097Z"
    },
    "execution": {
     "iopub.execute_input": "2023-10-20T21:43:10.439326Z",
     "iopub.status.busy": "2023-10-20T21:43:10.438507Z",
     "iopub.status.idle": "2023-10-20T21:43:10.474138Z",
     "shell.execute_reply": "2023-10-20T21:43:10.473682Z",
     "shell.execute_reply.started": "2023-10-20T21:43:10.439283Z"
    },
    "tags": []
   },
   "outputs": [],
   "source": [
    "plt.style.use(FIG_ROOT/\"base.mplstyle\")\n",
    "torch.set_default_tensor_type(torch.DoubleTensor)"
   ]
  },
  {
   "cell_type": "code",
   "execution_count": null,
   "id": "e0cb5a3d-1ab1-4bc0-bfce-d7ebaedb0391",
   "metadata": {},
   "outputs": [],
   "source": []
  },
  {
   "cell_type": "code",
   "execution_count": null,
   "id": "d0af2f35",
   "metadata": {},
   "outputs": [],
   "source": []
  },
  {
   "cell_type": "markdown",
   "id": "dd9c6514",
   "metadata": {},
   "source": [
    "# Param and fns"
   ]
  },
  {
   "cell_type": "code",
   "execution_count": null,
   "id": "a10d559c-8d6a-428a-bdb9-23c0a5aac96b",
   "metadata": {},
   "outputs": [],
   "source": []
  },
  {
   "cell_type": "markdown",
   "id": "21e4ccea",
   "metadata": {},
   "source": [
    "## Params"
   ]
  },
  {
   "cell_type": "code",
   "execution_count": 6,
   "id": "fd29f0de",
   "metadata": {
    "ExecuteTime": {
     "end_time": "2023-05-31T23:31:16.397628Z",
     "start_time": "2023-05-31T23:31:16.221812Z"
    },
    "execution": {
     "iopub.execute_input": "2023-10-20T21:43:10.475246Z",
     "iopub.status.busy": "2023-10-20T21:43:10.475071Z",
     "iopub.status.idle": "2023-10-20T21:43:10.587570Z",
     "shell.execute_reply": "2023-10-20T21:43:10.586560Z",
     "shell.execute_reply.started": "2023-10-20T21:43:10.475232Z"
    },
    "tags": [
     "param"
    ]
   },
   "outputs": [
    {
     "name": "stderr",
     "output_type": "stream",
     "text": [
      "R[write to console]: \n",
      "Attaching package: ‘orthogonalsplinebasis’\n",
      "\n",
      "\n",
      "R[write to console]: The following object is masked from ‘package:stats’:\n",
      "\n",
      "    integrate\n",
      "\n",
      "\n"
     ]
    },
    {
     "name": "stdout",
     "output_type": "stream",
     "text": [
      "[14.87358566]\n"
     ]
    }
   ],
   "source": [
    "obt_bsp = obt_bsp_obasis_Rfn\n",
    "#obt_bsp = obt_bsp_basis_Rfn_wrapper\n",
    "np.random.seed(0)\n",
    "paras = edict(def_paras.copy())\n",
    "\n",
    "\n",
    "\n",
    "# Others\n",
    "paras.num_rep = 200 \n",
    "paras.linear_theta_update=\"cholesky_inv\"\n",
    "\n",
    "\n",
    "# candidate sets of tuning parameters, only two \n",
    "# lambda: penalty term\n",
    "# N: num of basis\n",
    "paras.can_lams = [0.01, 0.1, 0.2, 0.3, 0.4, 0.6, 1, 2, 8]\n",
    "paras.can_lams = [0.01, 0.4, 0.6, 0.8, 1, 1.2, 1.4, 3, 8] # for orthogonal basis\n",
    "paras.can_Ns = [4, 6, 8, 10, 12]\n",
    "\n",
    "\n",
    "# generating dataset\n",
    "paras.n = 100 # num of data obs to be genareted\n",
    "paras.npts = 100 # num of pts to evaluate X(s)\n",
    "paras.freqs = np.linspace(2, 45, paras.npts) # freqs\n",
    "paras.d = 200 # num of ROIs\n",
    "paras.q = 1 # num of other covariates\n",
    "paras.sigma2 = 1 # variance of the error\n",
    "# variance used for estimation, note that the value does not affect any results \n",
    "# as long as I tune the parameter properly\n",
    "paras.norminal_sigma2 = 1 \n",
    "paras.types_ = [\"int\"]\n",
    "paras.is_std = False\n",
    "\n",
    "# b-spline\n",
    "paras.x = np.linspace(0, 1, paras.npts)\n",
    "paras.basis_mats = []\n",
    "for N in paras.can_Ns:\n",
    "    paras.basis_mats.append(\n",
    "        torch.tensor(obt_bsp(paras.x, N, paras.ord)).to(torch.get_default_dtype())\n",
    "    )\n",
    "\n",
    "# True parameters\n",
    "paras.alp_GT = np.array([0])\n",
    "# fourier basis\n",
    "cs = [0.0, 0.0, 0.0] # for sinica paper\n",
    "paras.fourier_basis = fourier_basis_fn(paras.x)[:, :]\n",
    "paras.fourier_basis_coefs = ([cs[0]*coef_fn(0.2), cs[1]*coef_fn(0.2), cs[2]*coef_fn(0.2)] + \n",
    "                             [np.zeros(50)] * (paras.d-3-1) +\n",
    "                             [coef_fn(0.2)]\n",
    "                             )\n",
    "paras.fourier_basis_coefs = np.array(paras.fourier_basis_coefs).T \n",
    "paras.beta_GT = paras.fourier_basis @ paras.fourier_basis_coefs\n",
    "beta_GT_norm = np.linalg.norm(paras.beta_GT, axis=0)\n",
    "print(beta_GT_norm[beta_GT_norm!=0])\n",
    "\n",
    "paras.Gam_GT_ests = [(np.linalg.inv(basis_mat.numpy().T \n",
    "                                  @ basis_mat.numpy()) \n",
    "                                  @ basis_mat.numpy().T \n",
    "                                  @ paras.beta_GT) \n",
    "                     for basis_mat in paras.basis_mats]\n",
    "\n",
    "# optimization\n",
    "# not used, to use it, you have to know GT\n",
    "Rmins = [(2*(np.linalg.norm(paras.Gam_GT_ests[ix]\n",
    "                            /np.sqrt(paras.can_Ns[ix]), axis=0).sum() \n",
    "           + np.abs(paras.alp_GT).sum())) \n",
    "        for ix in range(len(paras.can_Ns))]\n",
    "paras.Rmin = np.max(Rmins)/5\n",
    "paras.Rmin = 100000\n",
    "paras.Rfct = 2\n",
    "paras.stop_cv = 5e-4\n",
    "paras.max_iter = 100\n",
    "\n",
    "\n",
    "# CV\n",
    "paras.cv_is_center = True\n",
    "paras.cv_SIS_ratio = 0.2\n",
    "paras.cv_SIS_pen = 1\n",
    "paras.cv_SIS_basis_mat = torch.tensor(obt_bsp(paras.x, 6, paras.ord)).to(torch.get_default_dtype())\n",
    "paras.num_cv_fold = 5\n",
    "paras.cv_init_noise_sd = -1\n",
    "\n",
    "# hypothesis test\n",
    "#without loss of generality, we assume the idxs in M is the first m betas\n",
    "paras.sel_idx = np.arange(1, paras.d) # M^c set, \n",
    "paras.M_idxs = np.delete(np.arange(paras.d), paras.sel_idx) # the M set\n",
    "paras.Cmats = [\n",
    "    #np.array([1, 1]).reshape(1, 2), # m x m I matrix, [beta1, beta2] = [0, 0]\n",
    "    np.eye(len(paras.M_idxs)), # m x m I matrix, [beta1, beta2] = [0, 0]\n",
    "]\n",
    "paras.svdinv_eps_Q = 0 # now 0 means inverse, small value like 0.01 means remove small eig vals.\n",
    "paras.svdinv_eps_Psi = 0\n",
    "\n",
    "\n",
    "# saving path\n",
    "paras.save_dir = RES_ROOT/\"simu_linear_sinica_samebetaX_tmp\"\n",
    "if not paras.save_dir.exists():\n",
    "    paras.save_dir.mkdir()"
   ]
  },
  {
   "cell_type": "code",
   "execution_count": null,
   "id": "75e10fd4",
   "metadata": {},
   "outputs": [],
   "source": []
  },
  {
   "cell_type": "markdown",
   "id": "66c2f90f",
   "metadata": {
    "ExecuteTime": {
     "end_time": "2022-12-08T18:09:55.509389Z",
     "start_time": "2022-12-08T18:09:55.343396Z"
    }
   },
   "source": [
    "## Fns"
   ]
  },
  {
   "cell_type": "code",
   "execution_count": null,
   "id": "1de5567c-6bab-438d-971c-0e40b0c4c53d",
   "metadata": {
    "ExecuteTime": {
     "end_time": "2023-05-31T23:31:24.456489Z",
     "start_time": "2023-05-31T23:31:24.440199Z"
    },
    "code_folding": [],
    "tags": []
   },
   "outputs": [],
   "source": []
  },
  {
   "cell_type": "code",
   "execution_count": 7,
   "id": "60faf838-bab1-4889-9f15-bed1fadfda82",
   "metadata": {
    "execution": {
     "iopub.execute_input": "2023-10-20T21:43:10.590023Z",
     "iopub.status.busy": "2023-10-20T21:43:10.589558Z",
     "iopub.status.idle": "2023-10-20T21:43:10.646130Z",
     "shell.execute_reply": "2023-10-20T21:43:10.645789Z",
     "shell.execute_reply.started": "2023-10-20T21:43:10.589992Z"
    },
    "tags": []
   },
   "outputs": [],
   "source": [
    "def _is_exists(tmp_paras):\n",
    "    \"\"\"\n",
    "    Check if a file with the given parameters exists.\n",
    "\n",
    "    Args:\n",
    "    tmp_paras:\n",
    "        d (int): The value of d in the file name.\n",
    "        n (int): The value of n in the file name.\n",
    "        npts:\n",
    "        is_std\n",
    "        seed (int): The seed value in the file name.\n",
    "\n",
    "    Returns:\n",
    "    bool or Path: Returns the file path if the file exists, otherwise returns False.\n",
    "    \"\"\"\n",
    "    _get_n = lambda fil: int(fil.stem.split(\"_\")[2].split(\"-\")[-1])\n",
    "    fils = MIDRES_ROOT.glob(f\"PSD_d-{tmp_paras.d}_n-*npts-{tmp_paras.npts}_is_std-{tmp_paras.is_std}\")\n",
    "    # We do not need fil with n as we know the data with corresponding seed does not exist\n",
    "    fils = [fil for fil in fils if _get_n(fil) !=tmp_paras.n]\n",
    "    if len(fils) == 0:\n",
    "        return False\n",
    "    else:\n",
    "        fils = sorted(fils, key=_get_n)\n",
    "        ns = np.array([_get_n(fil) for fil in fils])\n",
    "        idxs = np.where(tmp_paras.n <= ns)[0]\n",
    "        if len(idxs) == 0:\n",
    "            return False\n",
    "        else:\n",
    "            fil =fils[idxs[0]]\n",
    "            path = MIDRES_ROOT/fil/f\"seed_{tmp_paras.seed}.pkl\"\n",
    "            return path if path.exists() else False\n",
    "def _get_filename(params):\n",
    "    keys = [\"d\", \"n\", \"npts\", \"is_std\"]\n",
    "    folder_name = 'PSD_'+'_'.join(f\"{k}-{params[k]}\" for k in keys)\n",
    "    return folder_name + f'/seed_{params.seed}.pkl'\n",
    "def _gen_simu_data_all(seed, paras, verbose=False, is_gen=False):\n",
    "    \"\"\"\n",
    "    Generate simulated data for all parameters.\n",
    "\n",
    "    Args:\n",
    "        seed (int): Seed for random number generator.\n",
    "        paras (dict): Dictionary containing the following parameters:\n",
    "            - n (int): Number of samples.\n",
    "            - d (int): Number of dimensions.\n",
    "            - q (int): Number of covariates.\n",
    "            - types_ (list): List of types for generating covariates.\n",
    "            - alp_GT (list): List of ground truth alpha values.\n",
    "            - beta_GT (list): List of ground truth beta values.\n",
    "            - freqs (list): List of frequencies for generating simulated PSD.\n",
    "            - sigma2 (float): Variance of the noise.\n",
    "        verbose(bool): Verbose or not\n",
    "        is_gen(bool): Only for generating or not. If True, only checking or generating X, not return anything.\n",
    "\n",
    "    Returns:\n",
    "        all_data (dict): Dictionary containing the following simulated data:\n",
    "            - X (torch.Tensor): Tensor of shape (n, d, npts) containing the simulated PSD.\n",
    "            - Y (torch.Tensor): Tensor of shape (n,) containing the response variable.\n",
    "            - Z (torch.Tensor): Tensor of shape (n, q) containing the covariates.\n",
    "    \"\"\"\n",
    "    np.random.seed(seed)\n",
    "    _paras = edict(paras.copy())\n",
    "    # simulated PSD\n",
    "    assert len(_paras.types_) == _paras.q\n",
    "    assert len(_paras.alp_GT) == _paras.q\n",
    "    tmp_paras = edict()\n",
    "    tmp_paras.seed = seed \n",
    "    tmp_paras.n = _paras.n\n",
    "    tmp_paras.d = _paras.d\n",
    "    tmp_paras.npts = _paras.npts\n",
    "    tmp_paras.is_std = _paras.is_std\n",
    "    \n",
    "    file_path = MIDRES_ROOT/_get_filename(tmp_paras)\n",
    "    if file_path.exists():\n",
    "        if is_gen:\n",
    "            return None\n",
    "        simu_curvs = load_pkl(file_path, verbose=verbose)\n",
    "    else:\n",
    "        ofil =  _is_exists(tmp_paras)\n",
    "        if ofil:\n",
    "            if is_gen:\n",
    "                return None\n",
    "            simu_curvs = load_pkl(ofil, verbose=verbose)\n",
    "        else:\n",
    "            if _paras.is_std:\n",
    "                simu_curvs = gen_simu_psd(_paras.n, _paras.d, _paras.freqs, prior_sd=10, n_jobs=28, is_prog=False, is_std=_paras.is_std)\n",
    "            else:\n",
    "                simu_curvs = gen_simu_psd(_paras.n, _paras.d, _paras.freqs, prior_sd=10, n_jobs=28, is_prog=False, is_std=_paras.is_std)\n",
    "                simu_curvs = simu_curvs - simu_curvs.mean(axis=-1, keepdims=True); # not std, but center it\n",
    "            save_pkl(file_path, simu_curvs, verbose=verbose)\n",
    "    if is_gen:\n",
    "        return None\n",
    "    simu_curvs = simu_curvs[:_paras.n]\n",
    "    simu_curvs = (simu_curvs + np.random.randn(*simu_curvs.shape)*6)*1 # larger\n",
    "    #simu_curvs = np.random.randn(_paras.n, _paras.d, _paras.npts)* 10\n",
    "    simu_covs = gen_covs(_paras.n, _paras.types_)\n",
    "    \n",
    "    # linear term and Y\n",
    "    int_part = np.sum(_paras.beta_GT.T* simu_curvs[:, :, :], axis=1).mean(axis=1)\n",
    "    cov_part = simu_covs @ _paras.alp_GT \n",
    "    \n",
    "    # linear term\n",
    "    lin_term = cov_part + int_part\n",
    "    \n",
    "    # Y \n",
    "    #errs_raw = np.random.standard_t(df=3, size=paras.n)                                                                                                                                                   \n",
    "    #errs = np.sqrt(_paras.sigma2)*(errs_raw - errs_raw.mean())/errs_raw.std()\n",
    "    #Y = lin_term + errs\n",
    "    Y = lin_term + np.random.randn(_paras.n)*np.sqrt(_paras.sigma2)\n",
    "    \n",
    "    # center\n",
    "    X_centered = simu_curvs - simu_curvs.mean(axis=0, keepdims=True)\n",
    "    Y_centered = Y - Y.mean(axis=0, keepdims=True)\n",
    "    \n",
    "    # To torch\n",
    "    X = torch.Tensor(X_centered) # n x d x npts\n",
    "    Z = torch.Tensor(simu_covs) # n x q\n",
    "    Y = torch.Tensor(Y_centered)\n",
    "    \n",
    "    all_data = edict()\n",
    "    all_data.X = X\n",
    "    all_data.Y = Y\n",
    "    all_data.Z = Z\n",
    "    all_data.lin_term = lin_term\n",
    "    return all_data\n"
   ]
  },
  {
   "cell_type": "code",
   "execution_count": null,
   "id": "96fd3e30",
   "metadata": {},
   "outputs": [],
   "source": []
  },
  {
   "cell_type": "markdown",
   "id": "e4043966",
   "metadata": {},
   "source": [
    "# Compare"
   ]
  },
  {
   "cell_type": "code",
   "execution_count": null,
   "id": "be9dad8c-0fcf-4d93-b3b9-d9dc5d2dfe77",
   "metadata": {},
   "outputs": [],
   "source": []
  },
  {
   "cell_type": "markdown",
   "id": "8148a0dd-0b8b-4f04-a43a-a75cfd20ae1f",
   "metadata": {},
   "source": [
    "## some Fns"
   ]
  },
  {
   "cell_type": "code",
   "execution_count": 12,
   "id": "2c3a8ed0-23b6-41cc-9a53-2a4025aafc13",
   "metadata": {
    "execution": {
     "iopub.execute_input": "2023-10-20T21:45:59.547302Z",
     "iopub.status.busy": "2023-10-20T21:45:59.546649Z",
     "iopub.status.idle": "2023-10-20T21:46:00.094137Z",
     "shell.execute_reply": "2023-10-20T21:46:00.092990Z",
     "shell.execute_reply.started": "2023-10-20T21:45:59.547259Z"
    },
    "tags": []
   },
   "outputs": [],
   "source": [
    "def CV_err_linear_fn_org(data, num_cv_fold, penalty, inits, is_prg=False, save_paras=False, input_paras={}):\n",
    "    \"\"\"This fn is to do the cross validation for select parameters for the optimization procedure \n",
    "       for linear model\n",
    "        args:\n",
    "            data: The dataset including, Y, Z, X\n",
    "            num_cv_fold: Num of cross validation folds.\n",
    "            penalty: The penalty fn, SCAD or (to be written)\n",
    "            inits: Initial values of the parameters, \n",
    "                   inits = [alp_init, Gam_init, theta_init, rhok_init]\n",
    "            input_paras: other parameters\n",
    "    \"\"\"\n",
    "    \n",
    "    # default parameter\n",
    "    _paras = {\n",
    "        \"is_small\": True, \n",
    "        \"Rv\": None, \n",
    "        \"sigma2\": 1,\n",
    "        \"basis_mat\": None,\n",
    "        'alpha': 0.9,\n",
    "        'beta': 1,\n",
    "        'NR_eps': 1e-05,\n",
    "        'NR_maxit': 100,\n",
    "        'stop_cv': 0.0005,\n",
    "        'max_iter': 2000, \n",
    "        'cv_is_center': False,\n",
    "        \"linear_theta_update\": \"cholesky_inv\",\n",
    "        \"linear_mat\": None}\n",
    "    _paras = edict(_paras)\n",
    "    _paras.update(input_paras)\n",
    "    \n",
    "    _paras.n = data.Y.shape[0]\n",
    "    \n",
    "    # initial value\n",
    "    alp_init, Gam_init, theta_init, rhok_init = inits\n",
    "    \n",
    "    \n",
    "    num_test = int(_paras.n/num_cv_fold)\n",
    "    full_idx = np.arange(_paras.n)\n",
    "    test_Y_err_all = []\n",
    "    if is_prg:\n",
    "        prg_bar = trange(num_cv_fold)\n",
    "    else:\n",
    "        prg_bar = range(num_cv_fold)\n",
    "    for ix in prg_bar:\n",
    "        test_idx = full_idx[(ix*num_test):(ix*num_test+num_test)]\n",
    "        if ix == num_cv_fold-1:\n",
    "            test_idx = full_idx[(ix*num_test):] # including all remaining data\n",
    "        train_idx = np.delete(full_idx, test_idx)\n",
    "        \n",
    "        test_set_X = data.X[test_idx]\n",
    "        test_set_Y = data.Y[test_idx]\n",
    "        test_set_Z = data.Z[test_idx]\n",
    "        \n",
    "        train_set_X = data.X[train_idx]\n",
    "        train_set_Y = data.Y[train_idx]\n",
    "        train_set_Z = data.Z[train_idx]\n",
    "        \n",
    "        if _paras.cv_is_center:\n",
    "            test_set_X = test_set_X - train_set_X.mean(axis=0, keepdims=True)\n",
    "            test_set_Y = test_set_Y - train_set_Y.mean(axis=0, keepdims=True)\n",
    "            # Now, I do not have time to write code to center Z\n",
    "            # It is a bit tedious, you should exclude intercept and categorical var\n",
    "            #test_set_Z = test_set_Z - train_set_Z.mean(axis=0, keepdims=True)\n",
    "            \n",
    "            train_set_X = train_set_X - train_set_X.mean(axis=0, keepdims=True)\n",
    "            train_set_Y = train_set_Y - train_set_Y.mean(axis=0, keepdims=True)\n",
    "            #train_set_Z = train_set_Z - train_set_Z.mean(axis=0, keepdims=True)\n",
    "        \n",
    "        cur_model = LinearModel(Y=train_set_Y, X=train_set_X, Z=train_set_Z, \n",
    "                        basis_mat=_paras.basis_mat, \n",
    "                        sigma2=_paras.norminal_sigma2)\n",
    "        res = optimization(model=cur_model, \n",
    "                           penalty=penalty, \n",
    "                           inits=[alp_init, Gam_init, theta_init, rhok_init], \n",
    "                           is_prg=False,\n",
    "                           save_paras=False,\n",
    "                           input_paras=_paras)\n",
    "        alp_est = res[0].alpk\n",
    "        gam_est = res[0].Gamk\n",
    "        test_Y_est = obt_lin_tm(test_set_Z, test_set_X, alp_est, gam_est, _paras.basis_mat)\n",
    "        test_Y_err = test_set_Y - test_Y_est\n",
    "        test_Y_err_all.append(test_Y_err.numpy())\n",
    "    test_Y_err_all = np.concatenate(test_Y_err_all)\n",
    "    if save_paras:\n",
    "        return test_Y_err_all, _paras\n",
    "    else:\n",
    "        return test_Y_err_all"
   ]
  },
  {
   "cell_type": "code",
   "execution_count": 14,
   "id": "0f9eca46-ade4-40fa-83f5-b8db4ff10947",
   "metadata": {
    "execution": {
     "iopub.execute_input": "2023-10-20T21:46:06.878471Z",
     "iopub.status.busy": "2023-10-20T21:46:06.877811Z",
     "iopub.status.idle": "2023-10-20T21:46:06.920722Z",
     "shell.execute_reply": "2023-10-20T21:46:06.920257Z",
     "shell.execute_reply.started": "2023-10-20T21:46:06.878428Z"
    },
    "tags": []
   },
   "outputs": [],
   "source": [
    "def _cv_run_fn(seed, lam, N, paras, verbose=False):\n",
    "    \"\"\"Now (on Aug 25, 2023), if we keep seed the same, the cur_data is the same. \n",
    "       If you want to make any changes, make sure this. \n",
    "    \"\"\"\n",
    "    torch.set_default_tensor_type(torch.DoubleTensor)\n",
    "    np.random.seed(seed)\n",
    "    torch.manual_seed(seed)\n",
    "        \n",
    "    _paras = edict(paras.copy())\n",
    "    _paras.Rv = _paras.Rfct * _paras.Rmin\n",
    "    _paras.seed = seed\n",
    "    _paras.lam = lam\n",
    "    _paras.N = N\n",
    "    _paras.basis_mat = _paras.basis_mats[_paras.can_Ns.index(N)]\n",
    "    _paras.Gam_GT_est = paras.Gam_GT_ests[_paras.can_Ns.index(N)]\n",
    "    cur_data = _gen_simu_data_all(_paras.seed, _paras)\n",
    "    \n",
    "    f_name = f\"seed_{seed:.0f}-lam_{lam*1000:.0f}-N_{N:.0f}-c1_{cs[0]*1000:.0f}_est.pkl\"\n",
    "    \n",
    "    \n",
    "    # do sure independent screening for dim reduction\n",
    "    if _paras.cv_SIS_ratio < 1:\n",
    "        keep_idxs, _  = SIS_linear(cur_data.Y, cur_data.X, cur_data.Z, paras.cv_SIS_basis_mat, \n",
    "                                   _paras.cv_SIS_ratio, _paras, ridge_pen=_paras.cv_SIS_pen)\n",
    "    else:\n",
    "        keep_idxs = _paras.sel_idx\n",
    "    M_idxs = np.delete(np.arange(_paras.d), _paras.sel_idx)\n",
    "    _paras.keep_idxs = np.sort(np.concatenate([M_idxs, keep_idxs]))\n",
    "        \n",
    "    _paras.sel_idx_SIS = np.where(np.array([keep_idx in _paras.sel_idx for keep_idx in _paras.keep_idxs]))[0]\n",
    "    _paras.d_SIS = len(_paras.keep_idxs)\n",
    "    \n",
    "    cur_data_SIS = edict(cur_data.copy())\n",
    "    cur_data_SIS.X = cur_data.X[:, _paras.keep_idxs, :]\n",
    "    \n",
    "    \n",
    "    if _paras.cv_init_noise_sd < 0:\n",
    "        alp_init = torch.zeros(_paras.q)\n",
    "        Gam_init = torch.zeros(_paras.N, _paras.d_SIS)\n",
    "        theta_init = torch.cat([alp_init, col_vec_fn(Gam_init)/np.sqrt(_paras.N)])\n",
    "        rhok_init = torch.zeros(_paras.d_SIS*_paras.N) + 1\n",
    "    else:\n",
    "        alp_init = torch.Tensor(_paras.alp_GT) + torch.randn(_paras.q)*_paras.cv_init_noise_sd\n",
    "        Gam_init = torch.Tensor(_paras.Gam_GT_est[:, _paras.keep_idxs]) + torch.randn(_paras.N, _paras.d_SIS)*_paras.cv_init_noise_sd\n",
    "        theta_init = torch.cat([alp_init, col_vec_fn(Gam_init)/np.sqrt(_paras.N)])\n",
    "        rhok_init = torch.randn(_paras.d_SIS*_paras.N)\n",
    "        \n",
    "    model = LinearModel(Y=cur_data_SIS.Y, \n",
    "                        X=cur_data_SIS.X, \n",
    "                        Z=cur_data_SIS.Z, \n",
    "                        basis_mat=_paras.basis_mat, \n",
    "                        sigma2=_paras.norminal_sigma2)\n",
    "    # 3e0\n",
    "    pen = SCAD(lams=_paras.lam, a=_paras.a,  sel_idx=_paras.sel_idx_SIS)\n",
    "        \n",
    "    \n",
    "    cv_errs = CV_err_linear_fn_org(data=cur_data_SIS, \n",
    "                              penalty=pen, \n",
    "                              num_cv_fold=_paras.num_cv_fold,\n",
    "                              # do not use estimated value for initial, severe overfitting !!! (on Aug 25, 2023)\n",
    "                              inits=[alp_init, Gam_init, theta_init, rhok_init], \n",
    "                              is_prg=verbose, \n",
    "                              save_paras=False,    \n",
    "                              input_paras=_paras)\n",
    "            \n",
    "    return cv_errs\n"
   ]
  },
  {
   "cell_type": "code",
   "execution_count": 16,
   "id": "b505638d-564c-4131-a8ee-805d202fe3c4",
   "metadata": {
    "execution": {
     "iopub.execute_input": "2023-10-20T21:46:24.085830Z",
     "iopub.status.busy": "2023-10-20T21:46:24.085159Z",
     "iopub.status.idle": "2023-10-20T21:46:24.130949Z",
     "shell.execute_reply": "2023-10-20T21:46:24.130409Z",
     "shell.execute_reply.started": "2023-10-20T21:46:24.085770Z"
    },
    "tags": []
   },
   "outputs": [],
   "source": [
    "def CV_err_linear_fn_new(data, num_cv_fold, is_prg=False, save_paras=False, input_paras={}):\n",
    "    \"\"\"This fn is to do the cross validation for select parameters for the optimization procedure \n",
    "       for linear model\n",
    "        args:\n",
    "            data: The dataset including, Y, Z, X\n",
    "            num_cv_fold: Num of cross validation folds.\n",
    "            input_paras: other parameters\n",
    "    \"\"\"\n",
    "    \n",
    "    # default parameter\n",
    "    _paras = {\n",
    "        \"is_small\": True, \n",
    "        \"Rv\": None, \n",
    "        \"sigma2\": 1,\n",
    "        \"basis_mat\": None,\n",
    "        'alpha': 0.9,\n",
    "        'beta': 1,\n",
    "        'NR_eps': 1e-05,\n",
    "        'NR_maxit': 100,\n",
    "        'stop_cv': 0.0005,\n",
    "        'max_iter': 2000, \n",
    "        'cv_is_center': False,\n",
    "        'cv_SIS_ratio': 0.2, \n",
    "        'cv_SIS_pen': 1, \n",
    "        'cv_SIS_basis_mat': None, \n",
    "        'cv_init_noise_sd': -1, \n",
    "        \"linear_theta_update\": \"cholesky_inv\",\n",
    "        \"linear_mat\": None}\n",
    "    _paras = edict(_paras)\n",
    "    _paras.update(input_paras)\n",
    "    \n",
    "    _paras.n = data.Y.shape[0]\n",
    "    \n",
    "    \n",
    "    num_test = int(_paras.n/num_cv_fold)\n",
    "    full_idx = np.arange(_paras.n)\n",
    "    test_Y_err_all = []\n",
    "    if is_prg:\n",
    "        prg_bar = trange(num_cv_fold)\n",
    "    else:\n",
    "        prg_bar = range(num_cv_fold)\n",
    "    for ix in prg_bar:\n",
    "        test_idx = full_idx[(ix*num_test):(ix*num_test+num_test)]\n",
    "        if ix == num_cv_fold-1:\n",
    "            test_idx = full_idx[(ix*num_test):] # including all remaining data\n",
    "        train_idx = np.delete(full_idx, test_idx)\n",
    "        \n",
    "        test_set_X = data.X[test_idx]\n",
    "        test_set_Y = data.Y[test_idx]\n",
    "        test_set_Z = data.Z[test_idx]\n",
    "        \n",
    "        train_set_X = data.X[train_idx]\n",
    "        train_set_Y = data.Y[train_idx]\n",
    "        train_set_Z = data.Z[train_idx]\n",
    "        \n",
    "        if _paras.cv_is_center:\n",
    "            test_set_X = test_set_X - train_set_X.mean(axis=0, keepdims=True)\n",
    "            test_set_Y = test_set_Y - train_set_Y.mean(axis=0, keepdims=True)\n",
    "            # Now, I do not have time to write code to center Z\n",
    "            # It is a bit tedious, you should exclude intercept and categorical var\n",
    "            #test_set_Z = test_set_Z - train_set_Z.mean(axis=0, keepdims=True)\n",
    "            \n",
    "            train_set_X = train_set_X - train_set_X.mean(axis=0, keepdims=True)\n",
    "            train_set_Y = train_set_Y - train_set_Y.mean(axis=0, keepdims=True)\n",
    "            #train_set_Z = train_set_Z - train_set_Z.mean(axis=0, keepdims=True)\n",
    "            \n",
    "        # SIS step\n",
    "        if _paras.cv_SIS_ratio < 1:\n",
    "            keep_idxs, _  = SIS_linear(train_set_Y, train_set_X, train_set_Z, _paras.cv_SIS_basis_mat,\n",
    "                                       _paras.cv_SIS_ratio, _paras, ridge_pen=_paras.cv_SIS_pen)\n",
    "        else:\n",
    "            keep_idxs = _paras.sel_idx\n",
    "        M_idxs = np.delete(np.arange(_paras.d), _paras.sel_idx)\n",
    "        keep_idxs = np.sort(np.concatenate([M_idxs, keep_idxs]))\n",
    "            \n",
    "        sel_idx_SIS = np.where(np.array([keep_idx in _paras.sel_idx for keep_idx in keep_idxs]))[0]\n",
    "        d_SIS = len(keep_idxs)\n",
    "        pen = SCAD(lams=_paras.lam, a=_paras.a,  sel_idx=sel_idx_SIS)\n",
    "        \n",
    "        train_set_X = train_set_X[:, keep_idxs]\n",
    "        test_set_X = test_set_X[:, keep_idxs]\n",
    "        \n",
    "        # initial value\n",
    "        if _paras.cv_init_noise_sd < 0:\n",
    "            alp_init = torch.zeros(_paras.q)\n",
    "            Gam_init = torch.zeros(_paras.N, d_SIS)\n",
    "            theta_init = torch.cat([alp_init, col_vec_fn(Gam_init)/np.sqrt(_paras.N)])\n",
    "            rhok_init = torch.zeros(d_SIS*_paras.N) + 1\n",
    "        else:\n",
    "            alp_init = torch.Tensor(_paras.alp_GT) + torch.randn(_paras.q)*_paras.init_noise_sd\n",
    "            Gam_init = torch.Tensor(_paras.Gam_GT_est[:, keep_idxs]) + torch.randn(_paras.N, d_SIS)*_paras.init_noise_sd\n",
    "            theta_init = torch.cat([alp_init, col_vec_fn(Gam_init)/np.sqrt(_paras.N)])\n",
    "            rhok_init = torch.randn(d_SIS*_paras.N)\n",
    "        \n",
    "        cur_model = LinearModel(Y=train_set_Y, X=train_set_X, Z=train_set_Z, \n",
    "                        basis_mat=_paras.basis_mat, \n",
    "                        sigma2=_paras.norminal_sigma2)\n",
    "        res = optimization(model=cur_model, \n",
    "                           penalty=pen, \n",
    "                           inits=[alp_init, Gam_init, theta_init, rhok_init], \n",
    "                           is_prg=False,\n",
    "                           save_paras=False,\n",
    "                           input_paras=_paras)\n",
    "        alp_est = res[0].alpk\n",
    "        gam_est = res[0].Gamk\n",
    "        test_Y_est = obt_lin_tm(test_set_Z, test_set_X, alp_est, gam_est, _paras.basis_mat)\n",
    "        test_Y_err = test_set_Y - test_Y_est\n",
    "        test_Y_err_all.append(test_Y_err.numpy())\n",
    "    test_Y_err_all = np.concatenate(test_Y_err_all)\n",
    "    if save_paras:\n",
    "        return test_Y_err_all, _paras\n",
    "    else:\n",
    "        return test_Y_err_all"
   ]
  },
  {
   "cell_type": "code",
   "execution_count": 15,
   "id": "2353e855-b2f7-4eab-a4c5-6959b00266c3",
   "metadata": {
    "execution": {
     "iopub.execute_input": "2023-10-20T21:46:11.146616Z",
     "iopub.status.busy": "2023-10-20T21:46:11.145962Z",
     "iopub.status.idle": "2023-10-20T21:46:13.736621Z",
     "shell.execute_reply": "2023-10-20T21:46:13.736088Z",
     "shell.execute_reply.started": "2023-10-20T21:46:11.146573Z"
    },
    "scrolled": true,
    "tags": []
   },
   "outputs": [
    {
     "name": "stderr",
     "output_type": "stream",
     "text": [
      "100%|██████████████████████████████████████████████████████████████████████████████████████████████████████████████████████████████████████████| 10/10 [00:02<00:00,  4.22it/s]\n"
     ]
    }
   ],
   "source": [
    "paras.lam = 0.5\n",
    "paras.N = 6\n",
    "paras.basis_mat = paras.basis_mats[1]\n",
    "paras.Rv = paras.Rfct * paras.Rmin\n",
    "\n",
    "paras.cv_is_center = False\n",
    "paras.cv_SIS_ratio = 1\n",
    "paras.cv_SIS_pen = 1\n",
    "paras.cv_SIS_basis_mat = torch.tensor(obt_bsp(paras.x, 6, paras.ord)).to(torch.get_default_dtype())\n",
    "paras.num_cv_fold =10 \n",
    "paras.cv_init_noise_sd = -1\n",
    "\n",
    "cur_data = _gen_simu_data_all(1, paras);\n",
    "res0 = _cv_run_fn(1, paras.lam, paras.N, paras, verbose=True);"
   ]
  },
  {
   "cell_type": "code",
   "execution_count": 17,
   "id": "ab36ec74-9c36-4749-af56-94fb3cce7e54",
   "metadata": {
    "execution": {
     "iopub.execute_input": "2023-10-20T21:46:28.158758Z",
     "iopub.status.busy": "2023-10-20T21:46:28.158112Z",
     "iopub.status.idle": "2023-10-20T21:46:30.538067Z",
     "shell.execute_reply": "2023-10-20T21:46:30.537556Z",
     "shell.execute_reply.started": "2023-10-20T21:46:28.158716Z"
    },
    "tags": []
   },
   "outputs": [
    {
     "name": "stderr",
     "output_type": "stream",
     "text": [
      "100%|██████████████████████████████████████████████████████████████████████████████████████████████████████████████████████████████████████████| 10/10 [00:02<00:00,  4.27it/s]\n"
     ]
    }
   ],
   "source": [
    "\n",
    "res1 = CV_err_linear_fn_new(cur_data, num_cv_fold=10, is_prg=True, \n",
    "                             save_paras=False,\n",
    "                             input_paras=paras);"
   ]
  },
  {
   "cell_type": "code",
   "execution_count": 18,
   "id": "e22d5064-87f1-417c-8416-83f0aa49776b",
   "metadata": {
    "execution": {
     "iopub.execute_input": "2023-10-20T21:46:43.174208Z",
     "iopub.status.busy": "2023-10-20T21:46:43.173548Z",
     "iopub.status.idle": "2023-10-20T21:46:45.492801Z",
     "shell.execute_reply": "2023-10-20T21:46:45.492118Z",
     "shell.execute_reply.started": "2023-10-20T21:46:43.174166Z"
    },
    "tags": []
   },
   "outputs": [
    {
     "name": "stderr",
     "output_type": "stream",
     "text": [
      "100%|██████████████████████████████████████████████████████████████████████████████████████████████████████████████████████████████████████████| 10/10 [00:02<00:00,  4.40it/s]\n"
     ]
    }
   ],
   "source": [
    "\n",
    "res2 = CV_err_linear_fn(cur_data, num_cv_fold=10, is_prg=True, \n",
    "                             save_paras=False,\n",
    "                             input_paras=paras);"
   ]
  },
  {
   "cell_type": "code",
   "execution_count": 55,
   "id": "beeea45c-1934-4c92-9ff1-4b4b86a14ea2",
   "metadata": {
    "execution": {
     "iopub.execute_input": "2023-10-20T21:13:25.156763Z",
     "iopub.status.busy": "2023-10-20T21:13:25.156108Z",
     "iopub.status.idle": "2023-10-20T21:13:25.193937Z",
     "shell.execute_reply": "2023-10-20T21:13:25.193420Z",
     "shell.execute_reply.started": "2023-10-20T21:13:25.156718Z"
    },
    "tags": []
   },
   "outputs": [
    {
     "data": {
      "text/plain": [
       "(2214.840235044776, 2214.840235044776)"
      ]
     },
     "execution_count": 55,
     "metadata": {},
     "output_type": "execute_result"
    }
   ],
   "source": [
    "np.mean(res0**2), np.mean(res1**2)"
   ]
  },
  {
   "cell_type": "code",
   "execution_count": 19,
   "id": "d2f8d474-c5eb-4c6b-988e-cdfc417413e8",
   "metadata": {
    "execution": {
     "iopub.execute_input": "2023-10-20T21:46:51.070285Z",
     "iopub.status.busy": "2023-10-20T21:46:51.069623Z",
     "iopub.status.idle": "2023-10-20T21:46:51.107581Z",
     "shell.execute_reply": "2023-10-20T21:46:51.107122Z",
     "shell.execute_reply.started": "2023-10-20T21:46:51.070241Z"
    },
    "tags": []
   },
   "outputs": [
    {
     "data": {
      "text/plain": [
       "array([0., 0., 0., 0., 0., 0., 0., 0., 0., 0., 0., 0., 0., 0., 0., 0., 0.,\n",
       "       0., 0., 0., 0., 0., 0., 0., 0., 0., 0., 0., 0., 0., 0., 0., 0., 0.,\n",
       "       0., 0., 0., 0., 0., 0., 0., 0., 0., 0., 0., 0., 0., 0., 0., 0., 0.,\n",
       "       0., 0., 0., 0., 0., 0., 0., 0., 0., 0., 0., 0., 0., 0., 0., 0., 0.,\n",
       "       0., 0., 0., 0., 0., 0., 0., 0., 0., 0., 0., 0., 0., 0., 0., 0., 0.,\n",
       "       0., 0., 0., 0., 0., 0., 0., 0., 0., 0., 0., 0., 0., 0., 0.])"
      ]
     },
     "execution_count": 19,
     "metadata": {},
     "output_type": "execute_result"
    }
   ],
   "source": [
    "res0 - res2"
   ]
  },
  {
   "cell_type": "code",
   "execution_count": 49,
   "id": "2584979f-f0db-486f-b9ca-ac9e80ecf3b4",
   "metadata": {
    "execution": {
     "iopub.execute_input": "2023-10-20T21:09:29.817632Z",
     "iopub.status.busy": "2023-10-20T21:09:29.817003Z",
     "iopub.status.idle": "2023-10-20T21:09:29.868201Z",
     "shell.execute_reply": "2023-10-20T21:09:29.867646Z",
     "shell.execute_reply.started": "2023-10-20T21:09:29.817588Z"
    }
   },
   "outputs": [
    {
     "data": {
      "text/plain": [
       "array([-51.06846235,  -0.30634412, -40.5774444 ,  -4.76131364,\n",
       "       -58.7184458 ,  -6.55665913, -50.43280137, -22.74676969,\n",
       "        29.64581913, -77.12632053, -53.16565135,  62.64163026,\n",
       "        22.19185488,  62.57887712, -34.16286689,  -6.56210735,\n",
       "       -68.5617616 ,  87.97145194,  14.30533021,  -4.77158378,\n",
       "        42.27857912, -18.935531  , -27.59007688,  12.40301657,\n",
       "       -21.24646532, -26.7457793 , -48.7748092 ,  40.19589144,\n",
       "        -5.37965031, -55.32291013,  67.54743867,  21.1031445 ,\n",
       "        99.17966284, -44.4000363 ,   6.05910372, -18.16176177,\n",
       "       -41.37194573,  -9.93332984, -42.02253645, -25.99992751,\n",
       "        35.3368326 ,  68.78168171,  46.4139923 ,  70.18068091,\n",
       "         7.34992396, -27.50165744,  40.71829126,  -0.71595727,\n",
       "       -91.37371164, -10.23087003, -40.65945183, -64.70983024,\n",
       "       -77.94775121,  -1.35415564,   7.86041738, -26.71422407,\n",
       "       107.15361478,  93.27049425,  43.98367398,   3.98912584,\n",
       "        53.79194959, -72.0711326 , -92.77093175,  10.78541334,\n",
       "        39.01941318,  68.09544386, -29.26095443, -35.51296788,\n",
       "         2.24344588,  52.8085697 ,  18.49782802,  24.94687472,\n",
       "        92.33278583,  18.09159299,  29.45647766,  69.08323556,\n",
       "       -46.70141841,  15.89169607,  20.18599366,  -7.15326729,\n",
       "       -58.45161458,  27.24892586,  50.07053289, -30.1113346 ,\n",
       "       -28.34412372,  42.44052426, -33.47626719,  -5.71951939,\n",
       "        29.37420009,  -9.56525879,  50.93481209, -64.10261087,\n",
       "        88.46288502,  -7.40928637, -36.4844647 ,  36.80574372,\n",
       "        34.9215234 ,  -6.36587976,  -2.03111527, 100.93143468])"
      ]
     },
     "execution_count": 49,
     "metadata": {},
     "output_type": "execute_result"
    }
   ],
   "source": [
    "res0"
   ]
  },
  {
   "cell_type": "code",
   "execution_count": null,
   "id": "12ff67e0-a72f-4eb9-b47a-e15ece350b4c",
   "metadata": {},
   "outputs": [],
   "source": []
  },
  {
   "cell_type": "code",
   "execution_count": null,
   "id": "142b81ee-b4d0-49ce-a8c5-68150b03ab61",
   "metadata": {},
   "outputs": [],
   "source": []
  }
 ],
 "metadata": {
  "kernelspec": {
   "display_name": "Python 3 (ipykernel)",
   "language": "python",
   "name": "python3"
  },
  "language_info": {
   "codemirror_mode": {
    "name": "ipython",
    "version": 3
   },
   "file_extension": ".py",
   "mimetype": "text/x-python",
   "name": "python",
   "nbconvert_exporter": "python",
   "pygments_lexer": "ipython3",
   "version": "3.9.7"
  },
  "toc": {
   "base_numbering": 1,
   "nav_menu": {},
   "number_sections": true,
   "sideBar": true,
   "skip_h1_title": false,
   "title_cell": "Table of Contents",
   "title_sidebar": "Contents",
   "toc_cell": false,
   "toc_position": {
    "height": "calc(100% - 180px)",
    "left": "10px",
    "top": "150px",
    "width": "165px"
   },
   "toc_section_display": true,
   "toc_window_display": true
  },
  "toc-autonumbering": false,
  "toc-showcode": false,
  "toc-showmarkdowntxt": false,
  "toc-showtags": false
 },
 "nbformat": 4,
 "nbformat_minor": 5
}
