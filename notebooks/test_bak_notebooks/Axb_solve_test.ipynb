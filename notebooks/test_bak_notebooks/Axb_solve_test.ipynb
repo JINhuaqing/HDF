{
 "cells": [
  {
   "cell_type": "code",
   "execution_count": 2,
   "id": "4a439690-1778-486a-a158-f1f88f577ddf",
   "metadata": {
    "execution": {
     "iopub.execute_input": "2023-09-09T06:25:09.967873Z",
     "iopub.status.busy": "2023-09-09T06:25:09.967263Z",
     "iopub.status.idle": "2023-09-09T06:25:09.974214Z",
     "shell.execute_reply": "2023-09-09T06:25:09.972940Z",
     "shell.execute_reply.started": "2023-09-09T06:25:09.967821Z"
    },
    "tags": []
   },
   "outputs": [],
   "source": [
    "import sys\n",
    "sys.path.append(\"../mypkg\")"
   ]
  },
  {
   "cell_type": "code",
   "execution_count": 3,
   "id": "40df3354-a144-427c-8831-15beca1aee50",
   "metadata": {
    "execution": {
     "iopub.execute_input": "2023-09-09T06:25:10.745781Z",
     "iopub.status.busy": "2023-09-09T06:25:10.745188Z",
     "iopub.status.idle": "2023-09-09T06:25:10.799160Z",
     "shell.execute_reply": "2023-09-09T06:25:10.798087Z",
     "shell.execute_reply.started": "2023-09-09T06:25:10.745731Z"
    },
    "tags": []
   },
   "outputs": [],
   "source": [
    "import numpy as np\n",
    "import matplotlib.pyplot as plt\n",
    "import torch\n",
    "from utils.matrix import conju_grad\n",
    "from tqdm import trange"
   ]
  },
  {
   "cell_type": "code",
   "execution_count": 4,
   "id": "7d547e0c-c302-4529-acb8-713c5f7d5fb4",
   "metadata": {
    "execution": {
     "iopub.execute_input": "2023-09-09T06:25:11.756258Z",
     "iopub.status.busy": "2023-09-09T06:25:11.755593Z",
     "iopub.status.idle": "2023-09-09T06:25:11.762286Z",
     "shell.execute_reply": "2023-09-09T06:25:11.761053Z",
     "shell.execute_reply.started": "2023-09-09T06:25:11.756211Z"
    }
   },
   "outputs": [],
   "source": [
    "def cholesky_inv(A):\n",
    "    U = torch.linalg.cholesky(A)\n",
    "    Ainv = torch.cholesky_inverse(U)\n",
    "    return Ainv"
   ]
  },
  {
   "cell_type": "code",
   "execution_count": 25,
   "id": "3beec649-1cbc-419c-bb30-4248ef5cb2aa",
   "metadata": {
    "execution": {
     "iopub.execute_input": "2023-09-09T06:39:43.546904Z",
     "iopub.status.busy": "2023-09-09T06:39:43.546268Z",
     "iopub.status.idle": "2023-09-09T06:39:44.536335Z",
     "shell.execute_reply": "2023-09-09T06:39:44.535938Z",
     "shell.execute_reply.started": "2023-09-09T06:39:43.546852Z"
    },
    "tags": []
   },
   "outputs": [
    {
     "name": "stderr",
     "output_type": "stream",
     "text": [
      "100%|██████████████████████████████████████████████████████████████████████████████████████████████████████████████████████████████████████████| 10/10 [00:00<00:00, 10.25it/s]\n"
     ]
    }
   ],
   "source": [
    "errs = []\n",
    "for i in trange(10):\n",
    "    n = 500\n",
    "    B = torch.randn(n, n);\n",
    "    A = B.T @ B + 0.1*torch.eye(n);\n",
    "    \n",
    "    x = torch.randn(n);\n",
    "    b = A @ x;\n",
    "    \n",
    "    Ainv1 = torch.inverse(A);\n",
    "    Ainv2 = cholesky_inv(A);\n",
    "    recI1 = A@Ainv1;\n",
    "    recI2 = A@Ainv2;\n",
    "    torch.norm(recI1-torch.eye(n)),  torch.norm(recI2-torch.eye(n))\n",
    "    \n",
    "    x0 = conju_grad(A, b, 10000, eps=1e-5);\n",
    "    x1 = Ainv1 @ b;\n",
    "    x2 = Ainv2 @ b;\n",
    "    U = torch.linalg.cholesky(A);\n",
    "    x3 = torch.cholesky_solve(b.reshape(-1, 1), U).reshape(-1);\n",
    "    errs.append([torch.norm(x0-x).item(), torch.norm(x1-x).item(), torch.norm(x2-x).item(), torch.norm(x3-x).item()])"
   ]
  },
  {
   "cell_type": "code",
   "execution_count": 26,
   "id": "41af9d21-df70-4644-ab01-74b8c62bc7cc",
   "metadata": {
    "execution": {
     "iopub.execute_input": "2023-09-09T06:39:45.398351Z",
     "iopub.status.busy": "2023-09-09T06:39:45.397769Z",
     "iopub.status.idle": "2023-09-09T06:39:45.556418Z",
     "shell.execute_reply": "2023-09-09T06:39:45.555994Z",
     "shell.execute_reply.started": "2023-09-09T06:39:45.398302Z"
    },
    "tags": []
   },
   "outputs": [
    {
     "data": {
      "text/plain": [
       "Text(0.5, 1.0, 'Matrix size 500')"
      ]
     },
     "execution_count": 26,
     "metadata": {},
     "output_type": "execute_result"
    },
    {
     "data": {
      "image/png": "[encoded data removed]",
      "text/plain": [
       "<Figure size 720x720 with 1 Axes>"
      ]
     },
     "metadata": {
      "needs_background": "light"
     },
     "output_type": "display_data"
    }
   ],
   "source": [
    "errs = np.array(errs);\n",
    "plt.figure(figsize=[10, 10])\n",
    "plt.boxplot(errs);\n",
    "plt.xticks(np.arange(1, 5), [\"Conj\", \"raw inv\", \"Ch_inv\", \"Ch_sol\"]);\n",
    "plt.ylabel(\"Error\")\n",
    "plt.title(f\"Matrix size {n}\")"
   ]
  },
  {
   "cell_type": "code",
   "execution_count": 16,
   "id": "e392f6e0-03fb-43a1-99bd-1e3670a3b95c",
   "metadata": {
    "execution": {
     "iopub.execute_input": "2023-09-09T06:28:45.571396Z",
     "iopub.status.busy": "2023-09-09T06:28:45.570652Z",
     "iopub.status.idle": "2023-09-09T06:29:04.397860Z",
     "shell.execute_reply": "2023-09-09T06:29:04.397327Z",
     "shell.execute_reply.started": "2023-09-09T06:28:45.571340Z"
    },
    "tags": []
   },
   "outputs": [
    {
     "name": "stdout",
     "output_type": "stream",
     "text": [
      "21.5 µs ± 5.79 µs per loop (mean ± std. dev. of 7 runs, 100000 loops each)\n",
      "253 µs ± 413 ns per loop (mean ± std. dev. of 7 runs, 1000 loops each)\n"
     ]
    }
   ],
   "source": [
    "%timeit Ainv2 @ b;\n",
    "%timeit torch.cholesky_solve(b.reshape(-1, 1), U).reshape(-1);"
   ]
  },
  {
   "cell_type": "code",
   "execution_count": 110,
   "id": "8c778c79-d32b-4446-8986-80a2124601d5",
   "metadata": {
    "execution": {
     "iopub.execute_input": "2023-09-08T14:46:20.848529Z",
     "iopub.status.busy": "2023-09-08T14:46:20.847893Z",
     "iopub.status.idle": "2023-09-08T14:46:20.856306Z",
     "shell.execute_reply": "2023-09-08T14:46:20.855268Z",
     "shell.execute_reply.started": "2023-09-08T14:46:20.848468Z"
    },
    "tags": []
   },
   "outputs": [
    {
     "data": {
      "text/plain": [
       "torch.Size([500, 1])"
      ]
     },
     "execution_count": 110,
     "metadata": {},
     "output_type": "execute_result"
    }
   ],
   "source": [
    "x3.shape"
   ]
  },
  {
   "cell_type": "code",
   "execution_count": 30,
   "id": "cbadb9ad-72fb-476a-9f49-30ec68ebe1de",
   "metadata": {
    "execution": {
     "iopub.execute_input": "2023-09-09T07:00:26.970569Z",
     "iopub.status.busy": "2023-09-09T07:00:26.969952Z",
     "iopub.status.idle": "2023-09-09T07:00:26.987327Z",
     "shell.execute_reply": "2023-09-09T07:00:26.986191Z",
     "shell.execute_reply.started": "2023-09-09T07:00:26.970519Z"
    },
    "tags": []
   },
   "outputs": [
    {
     "ename": "TypeError",
     "evalue": "test 0.7229570150375366",
     "output_type": "error",
     "traceback": [
      "\u001b[0;31m---------------------------------------------------------------------------\u001b[0m",
      "\u001b[0;31mTypeError\u001b[0m                                 Traceback (most recent call last)",
      "\u001b[0;32m/tmp/ipykernel_10503/3718101120.py\u001b[0m in \u001b[0;36m<module>\u001b[0;34m\u001b[0m\n\u001b[0;32m----> 1\u001b[0;31m \u001b[0;32mraise\u001b[0m \u001b[0mTypeError\u001b[0m\u001b[0;34m(\u001b[0m\u001b[0;34mf\"test {x2[0]}\"\u001b[0m\u001b[0;34m)\u001b[0m\u001b[0;34m\u001b[0m\u001b[0;34m\u001b[0m\u001b[0m\n\u001b[0m",
      "\u001b[0;31mTypeError\u001b[0m: test 0.7229570150375366"
     ]
    }
   ],
   "source": [
    "raise TypeError(f\"test {x2[0]}\")"
   ]
  },
  {
   "cell_type": "code",
   "execution_count": null,
   "id": "5c98bc32-0d56-4ef8-80c5-109db24f15ae",
   "metadata": {},
   "outputs": [],
   "source": []
  }
 ],
 "metadata": {
  "kernelspec": {
   "display_name": "Python 3 (ipykernel)",
   "language": "python",
   "name": "python3"
  },
  "language_info": {
   "codemirror_mode": {
    "name": "ipython",
    "version": 3
   },
   "file_extension": ".py",
   "mimetype": "text/x-python",
   "name": "python",
   "nbconvert_exporter": "python",
   "pygments_lexer": "ipython3",
   "version": "3.9.7"
  }
 },
 "nbformat": 4,
 "nbformat_minor": 5
}
