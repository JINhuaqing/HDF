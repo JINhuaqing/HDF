{
 "cells": [
  {
   "cell_type": "markdown",
   "id": "faf0a805",
   "metadata": {},
   "source": [
    "This file contains python code to check the hypothesis testing"
   ]
  },
  {
   "cell_type": "code",
   "execution_count": 1,
   "id": "02ae980e",
   "metadata": {
    "ExecuteTime": {
     "end_time": "2023-05-31T19:57:23.490285Z",
     "start_time": "2023-05-31T19:57:23.481769Z"
    },
    "execution": {
     "iopub.execute_input": "2023-08-29T02:47:36.512998Z",
     "iopub.status.busy": "2023-08-29T02:47:36.512598Z",
     "iopub.status.idle": "2023-08-29T02:47:36.520429Z",
     "shell.execute_reply": "2023-08-29T02:47:36.518989Z",
     "shell.execute_reply.started": "2023-08-29T02:47:36.512966Z"
    },
    "tags": []
   },
   "outputs": [],
   "source": [
    "import sys\n",
    "sys.path.append(\"../mypkg\")"
   ]
  },
  {
   "cell_type": "code",
   "execution_count": 2,
   "id": "023df78a",
   "metadata": {
    "ExecuteTime": {
     "end_time": "2023-05-31T19:57:34.238839Z",
     "start_time": "2023-05-31T19:57:23.494053Z"
    },
    "execution": {
     "iopub.execute_input": "2023-08-29T02:47:38.746911Z",
     "iopub.status.busy": "2023-08-29T02:47:38.746454Z",
     "iopub.status.idle": "2023-08-29T02:47:41.171919Z",
     "shell.execute_reply": "2023-08-29T02:47:41.171311Z",
     "shell.execute_reply.started": "2023-08-29T02:47:38.746881Z"
    },
    "tags": []
   },
   "outputs": [
    {
     "name": "stderr",
     "output_type": "stream",
     "text": [
      "/opt/conda/lib/python3.9/site-packages/scipy/__init__.py:146: UserWarning: A NumPy version >=1.16.5 and <1.23.0 is required for this version of SciPy (detected version 1.24.3\n",
      "  warnings.warn(f\"A NumPy version >={np_minversion} and <{np_maxversion}\"\n"
     ]
    }
   ],
   "source": [
    "import numpy as np\n",
    "import torch\n",
    "import matplotlib.pyplot as plt\n",
    "import seaborn as sns\n",
    "from scipy.stats import pearsonr\n",
    "from numbers import Number\n",
    "import multiprocessing as mp\n",
    "\n",
    "from easydict import EasyDict as edict\n",
    "from tqdm import trange\n",
    "from scipy.io import loadmat\n",
    "from pprint import pprint\n"
   ]
  },
  {
   "cell_type": "code",
   "execution_count": 3,
   "id": "053a5249",
   "metadata": {
    "ExecuteTime": {
     "end_time": "2023-05-31T19:57:34.286739Z",
     "start_time": "2023-05-31T19:57:34.245604Z"
    },
    "execution": {
     "iopub.execute_input": "2023-08-29T02:47:43.569079Z",
     "iopub.status.busy": "2023-08-29T02:47:43.568294Z",
     "iopub.status.idle": "2023-08-29T02:47:43.613698Z",
     "shell.execute_reply": "2023-08-29T02:47:43.613166Z",
     "shell.execute_reply.started": "2023-08-29T02:47:43.569044Z"
    },
    "tags": []
   },
   "outputs": [
    {
     "data": {
      "text/plain": [
       "<module 'optimization.opt' from '/data/rajlab1/user_data/jin/MyResearch/HDF_infer/notebooks/../mypkg/optimization/opt.py'>"
      ]
     },
     "execution_count": 3,
     "metadata": {},
     "output_type": "execute_result"
    }
   ],
   "source": [
    "import importlib\n",
    "import optimization.one_step_opt\n",
    "importlib.reload(optimization.one_step_opt)\n",
    "import optimization.opt\n",
    "importlib.reload(optimization.opt)"
   ]
  },
  {
   "cell_type": "code",
   "execution_count": 4,
   "id": "b0aa91b2",
   "metadata": {
    "ExecuteTime": {
     "end_time": "2023-05-31T19:57:59.558229Z",
     "start_time": "2023-05-31T19:57:34.292612Z"
    },
    "execution": {
     "iopub.execute_input": "2023-08-29T02:47:45.174907Z",
     "iopub.status.busy": "2023-08-29T02:47:45.174329Z",
     "iopub.status.idle": "2023-08-29T02:47:45.954243Z",
     "shell.execute_reply": "2023-08-29T02:47:45.953515Z",
     "shell.execute_reply.started": "2023-08-29T02:47:45.174879Z"
    },
    "tags": []
   },
   "outputs": [],
   "source": [
    "from constants import DATA_ROOT, RES_ROOT, FIG_ROOT, MIDRES_ROOT\n",
    "from default_paras import def_paras\n",
    "\n",
    "from hdf_utils.data_gen import gen_covs, gen_simu_psd, gen_simu_ts\n",
    "from hdf_utils.fns import fn1, fn2, fn3, fn4, fn5, zero_fn\n",
    "from hdf_utils.fns_sinica import coef_fn, fourier_basis_fn\n",
    "from hdf_utils.likelihood import obt_lin_tm\n",
    "from hdf_utils.SIS import SIS_linear\n",
    "from utils.matrix import col_vec_fn, col_vec2mat_fn, conju_grad, svd_inverse\n",
    "from utils.functions import logit_fn\n",
    "from utils.misc import save_pkl, load_pkl\n",
    "from splines import obt_bsp_basis_Rfn, obt_bsp_basis_Rfn_wrapper\n",
    "from projection import euclidean_proj_l1ball\n",
    "from optimization.one_step_opt import OneStepOpt\n",
    "from optimization.cross_validation import CV_err_linear_fn\n",
    "from optimization.opt import optimization\n",
    "from penalties.scad_pen import SCAD\n",
    "from models.linear_model import LinearModel\n",
    "\n",
    "from joblib import Parallel, delayed"
   ]
  },
  {
   "cell_type": "code",
   "execution_count": 5,
   "id": "fe0a4a46",
   "metadata": {
    "ExecuteTime": {
     "end_time": "2023-05-31T19:57:59.621784Z",
     "start_time": "2023-05-31T19:57:59.568097Z"
    },
    "execution": {
     "iopub.execute_input": "2023-08-29T02:47:46.304849Z",
     "iopub.status.busy": "2023-08-29T02:47:46.304238Z",
     "iopub.status.idle": "2023-08-29T02:47:46.311212Z",
     "shell.execute_reply": "2023-08-29T02:47:46.310701Z",
     "shell.execute_reply.started": "2023-08-29T02:47:46.304816Z"
    },
    "tags": []
   },
   "outputs": [],
   "source": [
    "plt.style.use(FIG_ROOT/\"base.mplstyle\")"
   ]
  },
  {
   "cell_type": "code",
   "execution_count": 6,
   "id": "fdddf8a6",
   "metadata": {
    "ExecuteTime": {
     "end_time": "2023-05-31T19:57:59.637665Z",
     "start_time": "2023-05-31T19:57:59.633997Z"
    },
    "execution": {
     "iopub.execute_input": "2023-08-29T02:47:47.045681Z",
     "iopub.status.busy": "2023-08-29T02:47:47.044898Z",
     "iopub.status.idle": "2023-08-29T02:47:47.048950Z",
     "shell.execute_reply": "2023-08-29T02:47:47.048208Z",
     "shell.execute_reply.started": "2023-08-29T02:47:47.045651Z"
    },
    "tags": []
   },
   "outputs": [],
   "source": [
    "torch.set_default_tensor_type(torch.DoubleTensor)"
   ]
  },
  {
   "cell_type": "code",
   "execution_count": null,
   "id": "d0af2f35",
   "metadata": {},
   "outputs": [],
   "source": []
  },
  {
   "cell_type": "markdown",
   "id": "dd9c6514",
   "metadata": {},
   "source": [
    "# Param and fns"
   ]
  },
  {
   "cell_type": "markdown",
   "id": "21e4ccea",
   "metadata": {},
   "source": [
    "## Params"
   ]
  },
  {
   "cell_type": "code",
   "execution_count": 96,
   "id": "fd29f0de",
   "metadata": {
    "ExecuteTime": {
     "end_time": "2023-05-31T23:31:16.397628Z",
     "start_time": "2023-05-31T23:31:16.221812Z"
    },
    "execution": {
     "iopub.execute_input": "2023-08-29T03:13:20.171589Z",
     "iopub.status.busy": "2023-08-29T03:13:20.170831Z",
     "iopub.status.idle": "2023-08-29T03:13:20.186362Z",
     "shell.execute_reply": "2023-08-29T03:13:20.185832Z",
     "shell.execute_reply.started": "2023-08-29T03:13:20.171553Z"
    },
    "tags": []
   },
   "outputs": [
    {
     "name": "stdout",
     "output_type": "stream",
     "text": [
      "The number of B-spline basis is 16.\n"
     ]
    }
   ],
   "source": [
    "np.random.seed(0)\n",
    "paras = edict(def_paras.copy())\n",
    "\n",
    "# Others\n",
    "paras.num_rep = 100 \n",
    "paras.freqs = np.linspace(2, 45, 40) # freqs\n",
    "paras.init_noise_sd = 2 # the sd of the noise added to the true value for initial values\n",
    "paras.SIS_ratio = 1 # the ratio to keep with SIS procedure\n",
    "#paras.SIS_ratio = 0.3 # the ratio to keep with SIS procedure\n",
    "paras.svdinv_eps_Q = 1\n",
    "paras.svdinv_eps_Psi = 1\n",
    "\n",
    "# multiple sets of params\n",
    "paras.ns = [100, 300, 900, 2700, 8100, 24300]\n",
    "paras.can_lams = [1e-1, 3e-1, 1e0, 3e0, 9e0, 3e1]\n",
    "paras.can_Ns = [5, 10, 15, 20]\n",
    "\n",
    "# generating dataset\n",
    "paras.n = 100 # num of data obs to be genareted\n",
    "paras.npts = 40 # num of pts to evaluate X(s)\n",
    "paras.d = 20 # num of ROIs\n",
    "paras.q = 5 # num of other covariates\n",
    "paras.sigma2 = 0.1 # variance of the error\n",
    "paras.types_ = [\"int\", 2, 2, \"c\", \"c\"]\n",
    "\n",
    "# b-spline\n",
    "paras.N = 16 # int(3*paras.n**(1/paras.ord/2)) # num of basis for bsp\n",
    "paras.x = np.linspace(0, 1, paras.npts)\n",
    "paras.basis_mat = torch.tensor(obt_bsp_basis_Rfn_wrapper(paras.x, paras.N, paras.ord)).to(torch.get_default_dtype())\n",
    "assert paras.N == paras.basis_mat.shape[1]\n",
    "print(f\"The number of B-spline basis is {paras.N:.0f}.\")\n",
    "\n",
    "# True parameters\n",
    "paras.alp_GT = np.array([5, 1, -2, 3, -4])\n",
    "\n",
    "# first way\n",
    "#beta_type_GT = [fn1, fn2, fn2] + [zero_fn]*(paras.d-3-2) + [fn1, fn2]\n",
    "#paras.beta_GT = np.array([_fn(paras.x) for _fn in beta_type_GT]).T\n",
    "# second way, fourier basis\n",
    "paras.fourier_basis = fourier_basis_fn(paras.x)\n",
    "#paras.fourier_basis_coefs = ([coef_fn(0.1), coef_fn(0.3), coef_fn(0.5)] + \n",
    "#                             [np.zeros(50)] * (paras.d-3-2) +\n",
    "#                             [coef_fn(0.7), coef_fn(0.9)]\n",
    "#                             )\n",
    "paras.fourier_basis_coefs = ([np.zeros(50)] * (paras.d-2) +\n",
    "                             [coef_fn(0.7), coef_fn(0.9)]\n",
    "                             )\n",
    "paras.fourier_basis_coefs = np.array(paras.fourier_basis_coefs).T * 5\n",
    "paras.beta_GT = paras.fourier_basis @ paras.fourier_basis_coefs #* 10\n",
    "#\n",
    "paras.Gam_GT_est = (np.linalg.inv(paras.basis_mat.numpy().T \n",
    "                               @ paras.basis_mat.numpy()) \n",
    "                               @ paras.basis_mat.numpy().T \n",
    "                               @ paras.beta_GT)\n",
    "\n",
    "# optimization\n",
    "paras.Rmin = 2*(np.linalg.norm(paras.Gam_GT_est/np.sqrt(paras.N), axis=0).sum() + np.abs(paras.alp_GT).sum())\n",
    "paras.sel_idx = np.arange(1, paras.d) # M^c set, \n",
    "#without loss of generality, we assume the idxs in M is the first m betas\n",
    "paras.num_cv_fold = 5\n",
    "paras.Rfct = 2\n",
    "#paras.stop_cv = 5e-5\n",
    "paras.stop_cv = 5e-4\n",
    "#paras.max_iter = 10000\n",
    "paras.max_iter = 2000\n",
    "\n",
    "# hypothesis test\n",
    "paras.M_idxs = np.delete(np.arange(paras.d), paras.sel_idx) # the M set\n",
    "paras.Cmat = np.eye(len(paras.M_idxs)) # Cmat \\times beta_M(s), r x m\n",
    "paras.r, paras.m = paras.Cmat.shape\n",
    "paras.t_vec = np.zeros(paras.Cmat.shape[0]) # t vec, typically it is zero vector\n"
   ]
  },
  {
   "cell_type": "code",
   "execution_count": 46,
   "id": "75dc09a0",
   "metadata": {
    "ExecuteTime": {
     "end_time": "2023-05-31T23:31:22.417895Z",
     "start_time": "2023-05-31T23:31:22.400951Z"
    },
    "execution": {
     "iopub.execute_input": "2023-08-29T03:01:10.099516Z",
     "iopub.status.busy": "2023-08-29T03:01:10.098855Z",
     "iopub.status.idle": "2023-08-29T03:01:10.105029Z",
     "shell.execute_reply": "2023-08-29T03:01:10.104486Z",
     "shell.execute_reply.started": "2023-08-29T03:01:10.099487Z"
    },
    "tags": []
   },
   "outputs": [],
   "source": [
    "paras.save_dir = RES_ROOT/\"linear_test\"\n",
    "if not paras.save_dir.exists():\n",
    "    paras.save_dir.mkdir()"
   ]
  },
  {
   "cell_type": "code",
   "execution_count": null,
   "id": "75e10fd4",
   "metadata": {},
   "outputs": [],
   "source": []
  },
  {
   "cell_type": "markdown",
   "id": "66c2f90f",
   "metadata": {
    "ExecuteTime": {
     "end_time": "2022-12-08T18:09:55.509389Z",
     "start_time": "2022-12-08T18:09:55.343396Z"
    }
   },
   "source": [
    "## Fns"
   ]
  },
  {
   "cell_type": "code",
   "execution_count": 47,
   "id": "d0ceafe2-0b92-4163-852c-8c8da48fcd75",
   "metadata": {
    "execution": {
     "iopub.execute_input": "2023-08-29T03:01:11.181340Z",
     "iopub.status.busy": "2023-08-29T03:01:11.180653Z",
     "iopub.status.idle": "2023-08-29T03:01:11.184962Z",
     "shell.execute_reply": "2023-08-29T03:01:11.184417Z",
     "shell.execute_reply.started": "2023-08-29T03:01:11.181308Z"
    },
    "tags": []
   },
   "outputs": [],
   "source": [
    "from scipy.stats import gaussian_kde\n",
    "def _plot_kde(data, label=None):\n",
    "    \"\"\"Due to the error in sns.kdeplot\n",
    "    \"\"\"\n",
    "    kde = gaussian_kde(data)\n",
    "    x = np.linspace(min(data), max(data), 100)\n",
    "    plt.plot(x, kde(x), label=label)"
   ]
  },
  {
   "cell_type": "code",
   "execution_count": 48,
   "id": "fea96e90",
   "metadata": {
    "ExecuteTime": {
     "end_time": "2023-05-31T23:31:23.288890Z",
     "start_time": "2023-05-31T23:31:23.282599Z"
    },
    "execution": {
     "iopub.execute_input": "2023-08-29T03:01:11.585376Z",
     "iopub.status.busy": "2023-08-29T03:01:11.584900Z",
     "iopub.status.idle": "2023-08-29T03:01:11.589356Z",
     "shell.execute_reply": "2023-08-29T03:01:11.588799Z",
     "shell.execute_reply.started": "2023-08-29T03:01:11.585349Z"
    },
    "tags": []
   },
   "outputs": [],
   "source": [
    "def MS2idxs(q, N, MS_unions):\n",
    "    \"\"\"This fn is to return the idxs to keep in mat Q, Sigma and vec Theta\n",
    "    \"\"\"\n",
    "    idxs_all = [np.arange(0, q)]\n",
    "    for cur_idx in MS_unions:\n",
    "        idxs_all.append(np.arange(q+cur_idx*N, q+(cur_idx+1)*N))\n",
    "    idxs_all = np.concatenate(idxs_all)\n",
    "    return idxs_all"
   ]
  },
  {
   "cell_type": "code",
   "execution_count": 49,
   "id": "2db5c76b",
   "metadata": {
    "ExecuteTime": {
     "end_time": "2023-05-31T23:31:23.640599Z",
     "start_time": "2023-05-31T23:31:23.633146Z"
    },
    "execution": {
     "iopub.execute_input": "2023-08-29T03:01:11.931001Z",
     "iopub.status.busy": "2023-08-29T03:01:11.930515Z",
     "iopub.status.idle": "2023-08-29T03:01:11.935712Z",
     "shell.execute_reply": "2023-08-29T03:01:11.935019Z",
     "shell.execute_reply.started": "2023-08-29T03:01:11.930971Z"
    },
    "tags": []
   },
   "outputs": [],
   "source": [
    "def get_Amat(k, paras):\n",
    "    \"\"\"Get A matrix for hypothesis test\n",
    "        k: Num of elements in S\n",
    "        paras: parameters\n",
    "                required: N, Cmat, m, q\n",
    "    \"\"\"\n",
    "    _paras = edict(paras.copy())\n",
    "    \n",
    "    part1 = np.kron(_paras.Cmat, np.eye(_paras.N))\n",
    "    part2 = np.zeros((_paras.m*_paras.N, _paras.q+(_paras.m+k)*_paras.N))\n",
    "    part2[:, _paras.q:(_paras.q+_paras.m*_paras.N)] = np.eye(_paras.m*_paras.N)\n",
    "    A = part1 @ part2\n",
    "    return A"
   ]
  },
  {
   "cell_type": "code",
   "execution_count": 104,
   "id": "0f30b88f",
   "metadata": {
    "ExecuteTime": {
     "end_time": "2023-05-31T23:31:24.456489Z",
     "start_time": "2023-05-31T23:31:24.440199Z"
    },
    "code_folding": [],
    "execution": {
     "iopub.execute_input": "2023-08-29T03:14:06.849996Z",
     "iopub.status.busy": "2023-08-29T03:14:06.849144Z",
     "iopub.status.idle": "2023-08-29T03:14:06.862778Z",
     "shell.execute_reply": "2023-08-29T03:14:06.862026Z",
     "shell.execute_reply.started": "2023-08-29T03:14:06.849955Z"
    },
    "tags": []
   },
   "outputs": [],
   "source": [
    "def _is_exists(d, n, seed):\n",
    "    \"\"\"\n",
    "    Check if a file with the given parameters exists.\n",
    "\n",
    "    Args:\n",
    "    d (int): The value of d in the file name.\n",
    "    n (int): The value of n in the file name.\n",
    "    seed (int): The seed value in the file name.\n",
    "\n",
    "    Returns:\n",
    "    bool or Path: Returns the file path if the file exists, otherwise returns False.\n",
    "    \"\"\"\n",
    "    _get_n = lambda fil: int(fil.stem.split(\"-\")[-1])\n",
    "    fils = MIDRES_ROOT.glob(f\"PSD_d-{d}_n*\")\n",
    "    # We do not need fil with n as we know the data with corresponding seed does not exist\n",
    "    fils = [fil for fil in fils if _get_n(fil) !=n]\n",
    "    if len(fils) == 0:\n",
    "        return False\n",
    "    else:\n",
    "        fils = sorted(fils, key=_get_n)\n",
    "        ns = np.array([_get_n(fil) for fil in fils])\n",
    "        idxs = np.where(n <= ns)[0]\n",
    "        if len(idxs) == 0:\n",
    "            return False\n",
    "        else:\n",
    "            fil =fils[idxs[0]]\n",
    "            path = MIDRES_ROOT/fil/f\"seed_{seed}.pkl\"\n",
    "            return path if path.exists() else False\n",
    "def _get_filename(params):\n",
    "    keys = [\"d\", \"n\"]\n",
    "    folder_name = 'PSD_'+'_'.join(f\"{k}-{params[k]}\" for k in keys)\n",
    "    return folder_name + f'/seed_{params.seed}.pkl'\n",
    "def _gen_simu_data_all(seed, paras, verbose=False, is_gen=False):\n",
    "    \"\"\"\n",
    "    Generate simulated data for all parameters.\n",
    "\n",
    "    Args:\n",
    "        seed (int): Seed for random number generator.\n",
    "        paras (dict): Dictionary containing the following parameters:\n",
    "            - n (int): Number of samples.\n",
    "            - d (int): Number of dimensions.\n",
    "            - q (int): Number of covariates.\n",
    "            - types_ (list): List of types for generating covariates.\n",
    "            - alp_GT (list): List of ground truth alpha values.\n",
    "            - beta_GT (list): List of ground truth beta values.\n",
    "            - freqs (list): List of frequencies for generating simulated PSD.\n",
    "            - sigma2 (float): Variance of the noise.\n",
    "        verbose(bool): Verbose or not\n",
    "        is_gen(bool): Only for generating or not. If True, only checking or generating X, not return anything.\n",
    "\n",
    "    Returns:\n",
    "        all_data (dict): Dictionary containing the following simulated data:\n",
    "            - X (torch.Tensor): Tensor of shape (n, d, npts) containing the simulated PSD.\n",
    "            - Y (torch.Tensor): Tensor of shape (n,) containing the response variable.\n",
    "            - Z (torch.Tensor): Tensor of shape (n, q) containing the covariates.\n",
    "    \"\"\"\n",
    "    np.random.seed(seed)\n",
    "    _paras = edict(paras.copy())\n",
    "    # simulated PSD\n",
    "    assert len(_paras.types_) == _paras.q\n",
    "    assert len(_paras.alp_GT) == _paras.q\n",
    "    tmp_paras = edict()\n",
    "    tmp_paras.seed = seed \n",
    "    tmp_paras.n = _paras.n\n",
    "    tmp_paras.d = _paras.d\n",
    "    \n",
    "    file_path = MIDRES_ROOT/_get_filename(tmp_paras)\n",
    "    if file_path.exists():\n",
    "        if is_gen:\n",
    "            return None\n",
    "        simu_curvs = load_pkl(file_path, verbose=verbose)\n",
    "    else:\n",
    "        ofil =  _is_exists(_paras.d, _paras.n, seed)\n",
    "        if ofil:\n",
    "            if is_gen:\n",
    "                return None\n",
    "            simu_curvs = load_pkl(ofil, verbose=verbose)\n",
    "        else:\n",
    "            simu_curvs = gen_simu_psd(_paras.n, _paras.d, _paras.freqs, prior_sd=10, n_jobs=20, is_prog=False)\n",
    "            save_pkl(file_path, simu_curvs, verbose=verbose)\n",
    "    if is_gen:\n",
    "        return None\n",
    "    #simu_curvs = simu_curvs[:_paras.n]\n",
    "    simu_curvs = np.random.randn(_paras.n, _paras.d, _paras.npts) * 10\n",
    "    simu_curvs = simu_curvs + np.random.randn(*simu_curvs.shape)*0.2\n",
    "    simu_covs = gen_covs(_paras.n, _paras.types_)\n",
    "    \n",
    "    # linear term and Y\n",
    "    int_part = np.sum(_paras.beta_GT.T* simu_curvs[:, :, :], axis=1).mean(axis=1)\n",
    "    cov_part = simu_covs @ _paras.alp_GT \n",
    "    \n",
    "    # linear term\n",
    "    lin_term = cov_part + int_part\n",
    "    \n",
    "    # Y \n",
    "    rvs = np.random.rand(_paras.n)\n",
    "    Y = lin_term + np.random.randn(_paras.n)*np.sqrt(_paras.sigma2)\n",
    "    \n",
    "    # To torch\n",
    "    X = torch.Tensor(simu_curvs) # n x d x npts\n",
    "    Z = torch.Tensor(simu_covs) # n x q\n",
    "    Y = torch.Tensor(Y)\n",
    "    \n",
    "    all_data = edict()\n",
    "    all_data.X = X\n",
    "    all_data.Y = Y\n",
    "    all_data.Z = Z\n",
    "    all_data.lin_term = lin_term\n",
    "    return all_data"
   ]
  },
  {
   "cell_type": "code",
   "execution_count": 51,
   "id": "73e03f1f",
   "metadata": {
    "ExecuteTime": {
     "end_time": "2023-05-31T23:31:25.476103Z",
     "start_time": "2023-05-31T23:31:25.463474Z"
    },
    "code_folding": [
     0
    ],
    "execution": {
     "iopub.execute_input": "2023-08-29T03:01:13.192837Z",
     "iopub.status.busy": "2023-08-29T03:01:13.191961Z",
     "iopub.status.idle": "2023-08-29T03:01:13.199870Z",
     "shell.execute_reply": "2023-08-29T03:01:13.199238Z",
     "shell.execute_reply.started": "2023-08-29T03:01:13.192803Z"
    },
    "tags": []
   },
   "outputs": [],
   "source": [
    "def obt_test_stat(model, est_alp, est_Gam, paras):\n",
    "    \"\"\"\n",
    "    Obtain the test statistics via the estimator.\n",
    "\n",
    "    Args:\n",
    "        model: The model you used, LinearModel or LogisticModel\n",
    "        est_alp: Estimated alp parameters\n",
    "        est_Gam: Estimated Gam parameters\n",
    "        paras: Dictionary containing parameters for the test\n",
    "            - N: Number of samples\n",
    "            - M_idxs: Indices of the M set\n",
    "            - q: Number of ROIs\n",
    "            - svdinv_eps_Q: Threshold for SVD inverse of Q matrix\n",
    "            - svdinv_eps_Psi: Threshold for SVD inverse of Psi matrix\n",
    "            - n: Number of observations\n",
    "\n",
    "    Returns:\n",
    "        T_v: Test statistic value\n",
    "    \"\"\"\n",
    "    _paras = edict(paras.copy())\n",
    "    est_theta = torch.cat([est_alp, col_vec_fn(est_Gam)/np.sqrt(_paras.N)])\n",
    "    Q_mat = -model.log_lik_der2(est_alp, est_Gam)\n",
    "    model.log_lik_der1(est_alp, est_Gam);\n",
    "    Sig_mat = (model.log_lik_der1_vs.unsqueeze(-1) * model.log_lik_der1_vs.unsqueeze(1)).mean(axis=0) \n",
    "    # minus sign canceled\n",
    "    \n",
    "    \n",
    "    # obtain the idxs to keep for test\n",
    "    nonzero_idxs = torch.nonzero(torch.norm(est_Gam, dim=0)).reshape(-1).numpy()\n",
    "    MS_unions = np.sort(np.union1d(_paras.M_idxs, nonzero_idxs))\n",
    "    keep_idxs_test = MS2idxs(_paras.q, _paras.N, MS_unions)\n",
    "    \n",
    "    # A mat\n",
    "    k = len(np.setdiff1d(nonzero_idxs, _paras.M_idxs))\n",
    "    Amat = torch.Tensor(get_Amat(k, _paras))\n",
    "    \n",
    "    # calculate Test stats\n",
    "    Q_mat_part = Q_mat[keep_idxs_test][:, keep_idxs_test]\n",
    "    if _paras.svdinv_eps_Q >= 1:\n",
    "        Q_mat_part_inv = torch.pinverse(Q_mat_part)\n",
    "    else:\n",
    "        Q_mat_part_inv = svd_inverse(Q_mat_part, _paras.svdinv_eps_Q)\n",
    "    \n",
    "    Sig_mat_part = Sig_mat[keep_idxs_test][:, keep_idxs_test]\n",
    "    Psi = Amat @ Q_mat_part_inv @ Sig_mat_part @ Q_mat_part_inv @ Amat.T\n",
    "    \n",
    "    T_p1 = Amat @ est_theta[keep_idxs_test]\n",
    "    if _paras.svdinv_eps_Psi >= 1:\n",
    "        Psi_inv = torch.pinverse(Psi)\n",
    "    else:\n",
    "        Psi_inv = svd_inverse(Psi, _paras.svdinv_eps_Psi)\n",
    "    T_v = T_p1 @ Psi_inv @ T_p1 * _paras.n \n",
    "    return T_v"
   ]
  },
  {
   "cell_type": "code",
   "execution_count": null,
   "id": "96fd3e30",
   "metadata": {},
   "outputs": [],
   "source": []
  },
  {
   "cell_type": "markdown",
   "id": "e4043966",
   "metadata": {},
   "source": [
    "# Simu"
   ]
  },
  {
   "cell_type": "code",
   "execution_count": null,
   "id": "911af57c",
   "metadata": {},
   "outputs": [],
   "source": []
  },
  {
   "cell_type": "markdown",
   "id": "000c8870-7efb-401a-962f-d867aaffd1f1",
   "metadata": {},
   "source": [
    "## Generate data\n",
    "To avoid nested joblib"
   ]
  },
  {
   "cell_type": "code",
   "execution_count": 14,
   "id": "190cc282-67f5-4a4e-b566-a49e57fa5cb4",
   "metadata": {
    "execution": {
     "iopub.execute_input": "2023-08-29T02:48:08.602686Z",
     "iopub.status.busy": "2023-08-29T02:48:08.602217Z",
     "iopub.status.idle": "2023-08-29T02:48:08.712106Z",
     "shell.execute_reply": "2023-08-29T02:48:08.711468Z",
     "shell.execute_reply.started": "2023-08-29T02:48:08.602655Z"
    },
    "tags": []
   },
   "outputs": [
    {
     "name": "stderr",
     "output_type": "stream",
     "text": [
      "100%|███████████████████████████████████████████████████████████████████████████████████████████████████████████████████████████████████████| 100/100 [00:00<00:00, 976.05it/s]\n"
     ]
    }
   ],
   "source": [
    "for seed in trange(paras.num_rep):\n",
    "    _gen_simu_data_all(seed, paras, is_gen=True)"
   ]
  },
  {
   "cell_type": "code",
   "execution_count": null,
   "id": "8294442d-585f-4047-9d99-bd6d6b190490",
   "metadata": {},
   "outputs": [],
   "source": []
  },
  {
   "cell_type": "markdown",
   "id": "8148a0dd-0b8b-4f04-a43a-a75cfd20ae1f",
   "metadata": {},
   "source": [
    "## Simulation"
   ]
  },
  {
   "cell_type": "code",
   "execution_count": 97,
   "id": "9f11fd57",
   "metadata": {
    "ExecuteTime": {
     "start_time": "2023-06-01T00:11:00.652Z"
    },
    "code_folding": [],
    "execution": {
     "iopub.execute_input": "2023-08-29T03:13:23.263591Z",
     "iopub.status.busy": "2023-08-29T03:13:23.262653Z",
     "iopub.status.idle": "2023-08-29T03:13:23.274808Z",
     "shell.execute_reply": "2023-08-29T03:13:23.274137Z",
     "shell.execute_reply.started": "2023-08-29T03:13:23.263555Z"
    },
    "scrolled": true,
    "tags": []
   },
   "outputs": [],
   "source": [
    "def _run_fn(seed, lam):\n",
    "    torch.set_default_tensor_type(torch.DoubleTensor)\n",
    "    np.random.seed(seed)\n",
    "    torch.manual_seed(seed)\n",
    "        \n",
    "    _paras = edict(paras.copy())\n",
    "    _paras.lam = lam\n",
    "    _paras.seed = seed\n",
    "    _paras.Rv = _paras.Rfct * _paras.Rmin\n",
    "    cur_data = _gen_simu_data_all(_paras.seed, _paras)\n",
    "    est_Gam_full = torch.zeros_like(torch.tensor(_paras.Gam_GT_est)).to(torch.get_default_dtype());\n",
    "    \n",
    "    \n",
    "    # do sure independent screening for dim reduction\n",
    "    if _paras.SIS_ratio < 1:\n",
    "        keep_idxs, _  = SIS_linear(cur_data.Y, cur_data.X, cur_data.Z, _paras.SIS_ratio, _paras, ridge_pen=0)\n",
    "    else:\n",
    "        keep_idxs = _paras.sel_idx\n",
    "    M_idxs = np.delete(np.arange(_paras.d), _paras.sel_idx)\n",
    "    _paras.keep_idxs = np.sort(np.concatenate([M_idxs, keep_idxs]))\n",
    "        \n",
    "    _paras.sel_idx_SIS = np.where(np.array([keep_idx in _paras.sel_idx for keep_idx in _paras.keep_idxs]))[0]\n",
    "    _paras.d_SIS = len(_paras.keep_idxs)\n",
    "    \n",
    "    cur_data_SIS = edict(cur_data.copy())\n",
    "    cur_data_SIS.X = cur_data.X[:, _paras.keep_idxs, :]\n",
    "    \n",
    "    \n",
    "    alp_init = torch.Tensor(_paras.alp_GT) + torch.randn(_paras.q)*_paras.init_noise_sd\n",
    "    Gam_init = (torch.Tensor(_paras.Gam_GT_est[:, _paras.keep_idxs]) \n",
    "                + torch.randn(_paras.N, _paras.d_SIS)*_paras.init_noise_sd)\n",
    "    theta_init = torch.cat([alp_init, col_vec_fn(Gam_init)/np.sqrt(_paras.N)])\n",
    "    rhok_init = torch.randn(_paras.d_SIS*_paras.N)\n",
    "        \n",
    "    model = LinearModel(Y=cur_data_SIS.Y, \n",
    "                        X=cur_data_SIS.X, \n",
    "                        Z=cur_data_SIS.Z, \n",
    "                        basis_mat=_paras.basis_mat, \n",
    "                        sigma2=_paras.sigma2)\n",
    "    # 3e0\n",
    "    pen = SCAD(lams=_paras.lam, a=_paras.a,  sel_idx=_paras.sel_idx_SIS)\n",
    "        \n",
    "    \n",
    "    main_res = optimization(model=model, \n",
    "                            penalty=pen, \n",
    "                            inits=[alp_init, Gam_init, theta_init, rhok_init],\n",
    "                            is_prg=False,\n",
    "                            save_paras=False,    \n",
    "                            input_paras=_paras)\n",
    "    \n",
    "    #cv_errs = CV_err_linear_fn(data=cur_data_SIS, \n",
    "    #                           penalty=pen, \n",
    "    #                           num_cv_fold=_paras.num_cv_fold,\n",
    "    #                           inits=[alp_init, Gam_init, theta_init, rhok_init], \n",
    "    #                           is_prg=False, \n",
    "    #                           save_paras=False,    \n",
    "    #                           input_paras=_paras)\n",
    "    cv_errs = None\n",
    "    \n",
    "    opt = main_res[0]\n",
    "    est_Gam = opt.Gamk\n",
    "    est_alp = opt.alpk\n",
    "    est_theta = torch.cat([est_alp, col_vec_fn(est_Gam)/np.sqrt(_paras.N)])\n",
    "    est_Gam_full[:, _paras.keep_idxs] = est_Gam.clone()\n",
    "    T_v = obt_test_stat(model, est_alp, est_Gam, _paras)\n",
    "    return main_res, cv_errs, T_v, cur_data, keep_idxs"
   ]
  },
  {
   "cell_type": "code",
   "execution_count": 110,
   "id": "04434da4-731d-4f47-99f0-7044cd635850",
   "metadata": {
    "execution": {
     "iopub.execute_input": "2023-08-29T03:15:19.179712Z",
     "iopub.status.busy": "2023-08-29T03:15:19.179152Z",
     "iopub.status.idle": "2023-08-29T03:16:00.632355Z",
     "shell.execute_reply": "2023-08-29T03:16:00.631534Z",
     "shell.execute_reply.started": "2023-08-29T03:15:19.179677Z"
    },
    "scrolled": true,
    "tags": []
   },
   "outputs": [
    {
     "name": "stderr",
     "output_type": "stream",
     "text": [
      "100%|████████████████████████████████████████████████████████████████████████████████████████████████████████████████████████████████████████| 100/100 [00:29<00:00,  3.39it/s]\n"
     ]
    }
   ],
   "source": [
    "lam = 3.0\n",
    "with Parallel(n_jobs=20) as parallel:\n",
    "    res = parallel(delayed(_run_fn)(seed, lam) for seed in trange(100))\n",
    "    "
   ]
  },
  {
   "cell_type": "code",
   "execution_count": null,
   "id": "0983bcc3-88f7-4dde-92b8-84a9eb808b71",
   "metadata": {},
   "outputs": [],
   "source": []
  },
  {
   "cell_type": "markdown",
   "id": "47fd735c-adc5-4e66-af83-ed668af1093e",
   "metadata": {},
   "source": [
    "# Analysis"
   ]
  },
  {
   "cell_type": "code",
   "execution_count": 111,
   "id": "5cb2d362-b5ea-4fac-8ac2-397a1a1e2055",
   "metadata": {
    "execution": {
     "iopub.execute_input": "2023-08-29T03:16:04.829310Z",
     "iopub.status.busy": "2023-08-29T03:16:04.828756Z",
     "iopub.status.idle": "2023-08-29T03:16:04.835645Z",
     "shell.execute_reply": "2023-08-29T03:16:04.835074Z",
     "shell.execute_reply.started": "2023-08-29T03:16:04.829275Z"
    },
    "tags": []
   },
   "outputs": [
    {
     "data": {
      "text/plain": [
       "tensor([ 2.4817,  0.0000,  0.0000,  0.0000,  0.0000,  0.0000,  0.0000,  0.0000,\n",
       "         0.0000,  0.0000,  0.0000,  0.0000,  0.0000,  0.0000,  0.0000,  0.0000,\n",
       "         0.0000,  0.0000, 59.0285, 91.2822])"
      ]
     },
     "execution_count": 111,
     "metadata": {},
     "output_type": "execute_result"
    }
   ],
   "source": [
    "res[0][0][0].Gamk.norm(dim=0)"
   ]
  },
  {
   "cell_type": "code",
   "execution_count": 112,
   "id": "a064cdc8-0d53-4bae-b100-b368e9646cd7",
   "metadata": {
    "execution": {
     "iopub.execute_input": "2023-08-29T03:16:06.949268Z",
     "iopub.status.busy": "2023-08-29T03:16:06.948547Z",
     "iopub.status.idle": "2023-08-29T03:16:06.953002Z",
     "shell.execute_reply": "2023-08-29T03:16:06.952445Z",
     "shell.execute_reply.started": "2023-08-29T03:16:06.949232Z"
    },
    "tags": []
   },
   "outputs": [],
   "source": [
    "T_vs = [ix[-3].item() for ix in res];"
   ]
  },
  {
   "cell_type": "code",
   "execution_count": 113,
   "id": "6b6bf4cb",
   "metadata": {
    "ExecuteTime": {
     "end_time": "2023-06-01T00:09:33.663365Z",
     "start_time": "2023-06-01T00:09:33.441266Z"
    },
    "execution": {
     "iopub.execute_input": "2023-08-29T03:16:08.000290Z",
     "iopub.status.busy": "2023-08-29T03:16:07.999619Z",
     "iopub.status.idle": "2023-08-29T03:16:08.121082Z",
     "shell.execute_reply": "2023-08-29T03:16:08.120468Z",
     "shell.execute_reply.started": "2023-08-29T03:16:08.000256Z"
    },
    "tags": []
   },
   "outputs": [
    {
     "data": {
      "text/plain": [
       "<matplotlib.legend.Legend at 0x7fc5805afbb0>"
      ]
     },
     "execution_count": 113,
     "metadata": {},
     "output_type": "execute_result"
    },
    {
     "data": {
      "image/png": "[encoded data removed]",
      "text/plain": [
       "<Figure size 1000x500 with 1 Axes>"
      ]
     },
     "metadata": {
      "needs_background": "light"
     },
     "output_type": "display_data"
    }
   ],
   "source": [
    "def _filtered_outliers(vec):\n",
    "    vec = np.array(vec)\n",
    "    Q1, Q3 = np.quantile(vec, [0.25, 0.75])\n",
    "    IQR = Q3-Q1\n",
    "    lb, ub = Q1-1.5*IQR, Q3+1.5*IQR\n",
    "    #vec_filtered = vec[(vec>0) & (vec<30)]\n",
    "    vec_filtered = vec[(vec>lb) & (vec<ub)]\n",
    "    vec_filtered = vec\n",
    "    return vec_filtered\n",
    "\n",
    "from scipy.stats import chi2\n",
    "T_vs_new = _filtered_outliers(T_vs)\n",
    "#T_vs_new = np.array(T_vs)\n",
    "chi_df = paras.r*paras.N\n",
    "xs = np.linspace(0.1, 100, 100)\n",
    "theo_curvs_log = chi2.logpdf(xs, chi_df);\n",
    "plt.plot(xs, np.exp(theo_curvs_log) , label=\"theoretical\")\n",
    "_plot_kde(T_vs_new, label=\"empirical\")\n",
    "#_plot_kde(np.array(T_vs), label=\"empirical\")\n",
    "plt.legend()"
   ]
  },
  {
   "cell_type": "code",
   "execution_count": 114,
   "id": "54e2f8f9",
   "metadata": {
    "ExecuteTime": {
     "end_time": "2023-06-01T00:09:38.570202Z",
     "start_time": "2023-06-01T00:09:38.528037Z"
    },
    "execution": {
     "iopub.execute_input": "2023-08-29T03:16:12.966612Z",
     "iopub.status.busy": "2023-08-29T03:16:12.965690Z",
     "iopub.status.idle": "2023-08-29T03:16:12.971899Z",
     "shell.execute_reply": "2023-08-29T03:16:12.971320Z",
     "shell.execute_reply.started": "2023-08-29T03:16:12.966569Z"
    },
    "tags": []
   },
   "outputs": [
    {
     "data": {
      "text/plain": [
       "0.62"
      ]
     },
     "execution_count": 114,
     "metadata": {},
     "output_type": "execute_result"
    }
   ],
   "source": [
    "CV = chi2.ppf(0.95, chi_df)\n",
    "np.mean(T_vs_new>CV)"
   ]
  },
  {
   "cell_type": "code",
   "execution_count": 115,
   "id": "9c5573d7",
   "metadata": {
    "ExecuteTime": {
     "end_time": "2023-06-01T00:09:43.996888Z",
     "start_time": "2023-06-01T00:09:43.989408Z"
    },
    "execution": {
     "iopub.execute_input": "2023-08-29T03:16:14.198303Z",
     "iopub.status.busy": "2023-08-29T03:16:14.197707Z",
     "iopub.status.idle": "2023-08-29T03:16:14.203165Z",
     "shell.execute_reply": "2023-08-29T03:16:14.202540Z",
     "shell.execute_reply.started": "2023-08-29T03:16:14.198255Z"
    },
    "tags": []
   },
   "outputs": [
    {
     "data": {
      "text/plain": [
       "(44.755967308679494, (100,))"
      ]
     },
     "execution_count": 115,
     "metadata": {},
     "output_type": "execute_result"
    }
   ],
   "source": [
    "np.mean(T_vs_new),  T_vs_new.shape"
   ]
  },
  {
   "cell_type": "code",
   "execution_count": 116,
   "id": "a57cd151",
   "metadata": {
    "ExecuteTime": {
     "end_time": "2023-06-01T00:10:01.629025Z",
     "start_time": "2023-06-01T00:10:01.528100Z"
    },
    "execution": {
     "iopub.execute_input": "2023-08-29T03:16:15.663452Z",
     "iopub.status.busy": "2023-08-29T03:16:15.662945Z",
     "iopub.status.idle": "2023-08-29T03:16:15.767413Z",
     "shell.execute_reply": "2023-08-29T03:16:15.766822Z",
     "shell.execute_reply.started": "2023-08-29T03:16:15.663420Z"
    },
    "tags": []
   },
   "outputs": [
    {
     "data": {
      "text/plain": [
       "[<matplotlib.lines.Line2D at 0x7fc570e270d0>]"
      ]
     },
     "execution_count": 116,
     "metadata": {},
     "output_type": "execute_result"
    },
    {
     "data": {
      "image/png": "[encoded data removed]",
      "text/plain": [
       "<Figure size 1000x500 with 1 Axes>"
      ]
     },
     "metadata": {
      "needs_background": "light"
     },
     "output_type": "display_data"
    }
   ],
   "source": [
    "plt.plot(np.sort(T_vs), \".\")"
   ]
  },
  {
   "cell_type": "code",
   "execution_count": null,
   "id": "149f1666-9b71-4d26-84af-8e435d80d2f8",
   "metadata": {},
   "outputs": [],
   "source": []
  }
 ],
 "metadata": {
  "kernelspec": {
   "display_name": "Python 3 (ipykernel)",
   "language": "python",
   "name": "python3"
  },
  "language_info": {
   "codemirror_mode": {
    "name": "ipython",
    "version": 3
   },
   "file_extension": ".py",
   "mimetype": "text/x-python",
   "name": "python",
   "nbconvert_exporter": "python",
   "pygments_lexer": "ipython3",
   "version": "3.9.7"
  },
  "toc": {
   "base_numbering": 1,
   "nav_menu": {},
   "number_sections": true,
   "sideBar": true,
   "skip_h1_title": false,
   "title_cell": "Table of Contents",
   "title_sidebar": "Contents",
   "toc_cell": false,
   "toc_position": {
    "height": "calc(100% - 180px)",
    "left": "10px",
    "top": "150px",
    "width": "165px"
   },
   "toc_section_display": true,
   "toc_window_display": true
  },
  "toc-autonumbering": true
 },
 "nbformat": 4,
 "nbformat_minor": 5
}
