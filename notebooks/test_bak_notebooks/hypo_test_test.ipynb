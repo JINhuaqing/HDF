{
 "cells": [
  {
   "cell_type": "markdown",
   "id": "faf0a805",
   "metadata": {},
   "source": [
    "This file contains python code to check the hypothesis testing\n",
    "\n",
    "I can get good match to the theoretical when sample size is large enough (n=5000)"
   ]
  },
  {
   "cell_type": "code",
   "execution_count": 1,
   "id": "02ae980e",
   "metadata": {
    "ExecuteTime": {
     "end_time": "2023-05-31T19:57:23.490285Z",
     "start_time": "2023-05-31T19:57:23.481769Z"
    },
    "execution": {
     "iopub.execute_input": "2023-09-28T22:28:05.289597Z",
     "iopub.status.busy": "2023-09-28T22:28:05.288959Z",
     "iopub.status.idle": "2023-09-28T22:28:05.301918Z",
     "shell.execute_reply": "2023-09-28T22:28:05.300920Z",
     "shell.execute_reply.started": "2023-09-28T22:28:05.289558Z"
    },
    "tags": []
   },
   "outputs": [],
   "source": [
    "import sys\n",
    "sys.path.append(\"../../mypkg\")"
   ]
  },
  {
   "cell_type": "code",
   "execution_count": 2,
   "id": "023df78a",
   "metadata": {
    "ExecuteTime": {
     "end_time": "2023-05-31T19:57:34.238839Z",
     "start_time": "2023-05-31T19:57:23.494053Z"
    },
    "execution": {
     "iopub.execute_input": "2023-09-28T22:28:05.303834Z",
     "iopub.status.busy": "2023-09-28T22:28:05.302969Z",
     "iopub.status.idle": "2023-09-28T22:28:19.496870Z",
     "shell.execute_reply": "2023-09-28T22:28:19.495643Z",
     "shell.execute_reply.started": "2023-09-28T22:28:05.303777Z"
    },
    "tags": []
   },
   "outputs": [],
   "source": [
    "import numpy as np\n",
    "import torch\n",
    "import matplotlib.pyplot as plt\n",
    "import seaborn as sns\n",
    "from scipy.stats import pearsonr\n",
    "from numbers import Number\n",
    "\n",
    "from easydict import EasyDict as edict\n",
    "from tqdm import trange, tqdm\n",
    "from scipy.io import loadmat\n",
    "from pprint import pprint\n"
   ]
  },
  {
   "cell_type": "code",
   "execution_count": 3,
   "id": "053a5249",
   "metadata": {
    "ExecuteTime": {
     "end_time": "2023-05-31T19:57:34.286739Z",
     "start_time": "2023-05-31T19:57:34.245604Z"
    },
    "execution": {
     "iopub.execute_input": "2023-09-28T22:28:19.499955Z",
     "iopub.status.busy": "2023-09-28T22:28:19.499386Z",
     "iopub.status.idle": "2023-09-28T22:28:19.532840Z",
     "shell.execute_reply": "2023-09-28T22:28:19.531622Z",
     "shell.execute_reply.started": "2023-09-28T22:28:19.499922Z"
    },
    "tags": []
   },
   "outputs": [
    {
     "data": {
      "text/plain": [
       "<module 'constants' from '/data/rajlab1/user_data/jin/MyResearch/HDF_infer/notebooks/test_bak_notebooks/../../mypkg/constants.py'>"
      ]
     },
     "execution_count": 3,
     "metadata": {},
     "output_type": "execute_result"
    }
   ],
   "source": [
    "import importlib\n",
    "import constants\n",
    "importlib.reload(constants)"
   ]
  },
  {
   "cell_type": "code",
   "execution_count": 4,
   "id": "b0aa91b2",
   "metadata": {
    "ExecuteTime": {
     "end_time": "2023-05-31T19:57:59.558229Z",
     "start_time": "2023-05-31T19:57:34.292612Z"
    },
    "execution": {
     "iopub.execute_input": "2023-09-28T22:28:19.535125Z",
     "iopub.status.busy": "2023-09-28T22:28:19.534401Z",
     "iopub.status.idle": "2023-09-28T22:28:23.079969Z",
     "shell.execute_reply": "2023-09-28T22:28:23.078322Z",
     "shell.execute_reply.started": "2023-09-28T22:28:19.535086Z"
    },
    "tags": []
   },
   "outputs": [],
   "source": [
    "from constants import DATA_ROOT, RES_ROOT, FIG_ROOT, MIDRES_ROOT\n",
    "from default_paras import def_paras\n",
    "\n",
    "from hdf_utils.data_gen import gen_covs, gen_simu_psd, gen_simu_ts\n",
    "from hdf_utils.fns import fn1, fn2, fn3, fn4, fn5, zero_fn\n",
    "from hdf_utils.fns_sinica import coef_fn, fourier_basis_fn\n",
    "from hdf_utils.likelihood import obt_lin_tm\n",
    "from hdf_utils.SIS import SIS_linear\n",
    "from hdf_utils.hypo_test import obt_test_stat_simple2\n",
    "from utils.matrix import col_vec_fn, col_vec2mat_fn, conju_grad, svd_inverse\n",
    "from utils.functions import logit_fn\n",
    "from utils.misc import save_pkl, load_pkl\n",
    "from splines import obt_bsp_basis_Rfn, obt_bsp_basis_Rfn_wrapper\n",
    "from projection import euclidean_proj_l1ball\n",
    "from optimization.one_step_opt import OneStepOpt\n",
    "from optimization.cross_validation import CV_err_linear_fn\n",
    "from optimization.opt import optimization\n",
    "\n",
    "\n",
    "from penalties.scad_pen import SCAD\n",
    "from models.logistic_model import LogisticModel\n",
    "from models.linear_model import LinearModel\n",
    "\n",
    "from joblib import Parallel, delayed"
   ]
  },
  {
   "cell_type": "code",
   "execution_count": 5,
   "id": "fe0a4a46",
   "metadata": {
    "ExecuteTime": {
     "end_time": "2023-05-31T19:57:59.621784Z",
     "start_time": "2023-05-31T19:57:59.568097Z"
    },
    "execution": {
     "iopub.execute_input": "2023-09-28T22:28:23.082729Z",
     "iopub.status.busy": "2023-09-28T22:28:23.081993Z",
     "iopub.status.idle": "2023-09-28T22:28:23.100449Z",
     "shell.execute_reply": "2023-09-28T22:28:23.099275Z",
     "shell.execute_reply.started": "2023-09-28T22:28:23.082677Z"
    },
    "tags": []
   },
   "outputs": [],
   "source": [
    "plt.style.use(FIG_ROOT/\"base.mplstyle\")"
   ]
  },
  {
   "cell_type": "code",
   "execution_count": 6,
   "id": "fdddf8a6",
   "metadata": {
    "ExecuteTime": {
     "end_time": "2023-05-31T19:57:59.637665Z",
     "start_time": "2023-05-31T19:57:59.633997Z"
    },
    "execution": {
     "iopub.execute_input": "2023-09-28T22:28:23.102766Z",
     "iopub.status.busy": "2023-09-28T22:28:23.101978Z",
     "iopub.status.idle": "2023-09-28T22:28:23.117829Z",
     "shell.execute_reply": "2023-09-28T22:28:23.116603Z",
     "shell.execute_reply.started": "2023-09-28T22:28:23.102718Z"
    },
    "tags": []
   },
   "outputs": [],
   "source": [
    "torch.set_default_tensor_type(torch.DoubleTensor)"
   ]
  },
  {
   "cell_type": "code",
   "execution_count": null,
   "id": "d0af2f35",
   "metadata": {},
   "outputs": [],
   "source": []
  },
  {
   "cell_type": "markdown",
   "id": "dd9c6514",
   "metadata": {},
   "source": [
    "## Param and fns"
   ]
  },
  {
   "cell_type": "markdown",
   "id": "21e4ccea",
   "metadata": {},
   "source": [
    "### Params"
   ]
  },
  {
   "cell_type": "code",
   "execution_count": 45,
   "id": "fd29f0de",
   "metadata": {
    "ExecuteTime": {
     "end_time": "2023-05-31T23:31:16.397628Z",
     "start_time": "2023-05-31T23:31:16.221812Z"
    },
    "execution": {
     "iopub.execute_input": "2023-09-28T22:54:54.045109Z",
     "iopub.status.busy": "2023-09-28T22:54:54.044469Z",
     "iopub.status.idle": "2023-09-28T22:54:54.073027Z",
     "shell.execute_reply": "2023-09-28T22:54:54.071873Z",
     "shell.execute_reply.started": "2023-09-28T22:54:54.045061Z"
    },
    "tags": []
   },
   "outputs": [
    {
     "name": "stdout",
     "output_type": "stream",
     "text": [
      "The number of B-spline basis is 6.\n"
     ]
    }
   ],
   "source": [
    "np.random.seed(0)\n",
    "paras = edict(def_paras.copy())\n",
    "\n",
    "# Others\n",
    "paras.num_rep = 20\n",
    "paras.ns = [100, 300, 900, 2700, 8100, 24300]\n",
    "paras.can_lams = [1e-1, 3e-1, 1e0, 3e0, 9e0, 3e1]\n",
    "paras.can_Ns = [5, 10, 15, 20]\n",
    "paras.ind_freq = np.linspace(1, 40, 40) # freqs\n",
    "paras.init_noise_sd = 0 # the sd of the noise added to the true value for initial values\n",
    "paras.SIS_ratio = 1 # the ratio to keep with SIS procedure\n",
    "#paras.SIS_ratio = 0.02 # the ratio to keep with SIS procedure\n",
    "paras.svdinv_eps_Q = 1\n",
    "paras.svdinv_eps_Psi = 1\n",
    "\n",
    "# generating dataset\n",
    "paras.n = 5000 # num of data obs to be genareted\n",
    "paras.npts = 40 # num of pts to evaluate X(s)\n",
    "paras.d = 20 # num of ROIs\n",
    "paras.q = 5 # num of other covariates\n",
    "paras.sigma2 = 0.1 # variance of the error\n",
    "paras.types_ = [\"int\", 2, 2, \"c\", \"c\"]\n",
    "\n",
    "# b-spline\n",
    "paras.N = 6 # int(3*paras.n**(1/paras.ord/2)) # num of basis for bsp\n",
    "paras.x = np.linspace(0, 1, paras.npts)\n",
    "paras.basis_mat = torch.DoubleTensor(obt_bsp_basis_Rfn_wrapper(paras.x, paras.N, paras.ord))\n",
    "assert paras.N == paras.basis_mat.shape[1]\n",
    "print(f\"The number of B-spline basis is {paras.N:.0f}.\")\n",
    "\n",
    "# True parameters\n",
    "paras.alp_GT = np.array([5, 1, -2, 3, -4])\n",
    "\n",
    "# first way\n",
    "#beta_type_GT = [fn1, fn2, fn2] + [zero_fn]*(paras.d-3-2) + [fn1, fn2]\n",
    "#paras.beta_GT = np.array([_fn(paras.x) for _fn in beta_type_GT]).T\n",
    "# second way, fourier basis\n",
    "paras.fourier_basis = fourier_basis_fn(paras.x)\n",
    "paras.fourier_basis_coefs = ([0*coef_fn(0.3), 0*coef_fn(0.3)] + \n",
    "                             [np.zeros(50)] * (paras.d-2-2) +\n",
    "                             [coef_fn(0.7)*0, coef_fn(0.9)]\n",
    "                             )\n",
    "#paras.fourier_basis_coefs = ([np.zeros(50)] * (paras.d-2) +\n",
    "#                             [coef_fn(0.7), coef_fn(0.9)]\n",
    "#                             )\n",
    "paras.fourier_basis_coefs = np.array(paras.fourier_basis_coefs).T * 5\n",
    "paras.beta_GT = paras.fourier_basis @ paras.fourier_basis_coefs #* 10\n",
    "#\n",
    "paras.Gam_GT_est = (np.linalg.inv(paras.basis_mat.numpy().T \n",
    "                               @ paras.basis_mat.numpy()) \n",
    "                               @ paras.basis_mat.numpy().T \n",
    "                               @ paras.beta_GT)\n",
    "\n",
    "# optimization\n",
    "paras.Rmin = 2*(np.linalg.norm(paras.Gam_GT_est/np.sqrt(paras.N), axis=0).sum() + np.abs(paras.alp_GT).sum())\n",
    "paras.Rmin = 10000\n",
    "paras.sel_idx = np.arange(4, paras.d) # M^c set, \n",
    "#without loss of generality, we assume the idxs in M is the first m betas\n",
    "paras.num_cv_fold = 5\n",
    "paras.Rfct = 2\n",
    "#paras.stop_cv = 5e-5\n",
    "paras.stop_cv = 5e-4\n",
    "#paras.max_iter = 10000\n",
    "paras.max_iter = 2000\n",
    "\n",
    "# hypothesis test\n",
    "paras.M_idxs = np.delete(np.arange(paras.d), paras.sel_idx) # the M set\n",
    "#paras.Cmat = np.eye(len(paras.M_idxs)) # Cmat \\times beta_M(s), r x m\n",
    "#paras.Cmat = np.array([1, -1]).reshape(-1, 2) # Cmat \\times beta_M(s), r x m\n",
    "paras.Cmats = [\n",
    "    np.eye(len(paras.M_idxs)), # m x m I matrix, [beta1, beta2] = [0, 0]\n",
    "    np.array([1, 1, -1, -1]).reshape(1, 4), # beta1-beta2\n",
    "    np.array([1, 1, 1, 1]).reshape(1, 4), # beta1+beta2\n",
    "]\n",
    "#paras.r, paras.m = paras.Cmat.shape\n",
    "#paras.t_vec = np.zeros(paras.Cmat.shape[0]) # t vec, typically it is zero vector\n"
   ]
  },
  {
   "cell_type": "code",
   "execution_count": 32,
   "id": "75dc09a0",
   "metadata": {
    "ExecuteTime": {
     "end_time": "2023-05-31T23:31:22.417895Z",
     "start_time": "2023-05-31T23:31:22.400951Z"
    },
    "execution": {
     "iopub.execute_input": "2023-09-28T22:48:01.542640Z",
     "iopub.status.busy": "2023-09-28T22:48:01.542029Z",
     "iopub.status.idle": "2023-09-28T22:48:01.552078Z",
     "shell.execute_reply": "2023-09-28T22:48:01.550871Z",
     "shell.execute_reply.started": "2023-09-28T22:48:01.542592Z"
    },
    "tags": []
   },
   "outputs": [],
   "source": [
    "paras.save_dir = RES_ROOT/\"linear_test\"\n",
    "if not paras.save_dir.exists():\n",
    "    paras.save_dir.mkdir()"
   ]
  },
  {
   "cell_type": "code",
   "execution_count": null,
   "id": "75e10fd4",
   "metadata": {},
   "outputs": [],
   "source": []
  },
  {
   "cell_type": "markdown",
   "id": "66c2f90f",
   "metadata": {
    "ExecuteTime": {
     "end_time": "2022-12-08T18:09:55.509389Z",
     "start_time": "2022-12-08T18:09:55.343396Z"
    }
   },
   "source": [
    "### Fns"
   ]
  },
  {
   "cell_type": "code",
   "execution_count": 25,
   "id": "fea96e90",
   "metadata": {
    "ExecuteTime": {
     "end_time": "2023-05-31T23:31:23.288890Z",
     "start_time": "2023-05-31T23:31:23.282599Z"
    },
    "execution": {
     "iopub.execute_input": "2023-09-28T22:45:48.144369Z",
     "iopub.status.busy": "2023-09-28T22:45:48.143802Z",
     "iopub.status.idle": "2023-09-28T22:45:48.151953Z",
     "shell.execute_reply": "2023-09-28T22:45:48.150851Z",
     "shell.execute_reply.started": "2023-09-28T22:45:48.144322Z"
    },
    "tags": []
   },
   "outputs": [],
   "source": [
    "\n",
    "def MS2idxs(q, N, MS_unions):\n",
    "    \"\"\"This fn is to return the idxs to keep in mat Q, Sigma and vec Theta\n",
    "    \"\"\"\n",
    "    idxs_all = [np.arange(0, q)]\n",
    "    for cur_idx in MS_unions:\n",
    "        idxs_all.append(np.arange(q+cur_idx*N, q+(cur_idx+1)*N))\n",
    "    idxs_all = np.concatenate(idxs_all)\n",
    "    return idxs_all"
   ]
  },
  {
   "cell_type": "code",
   "execution_count": 26,
   "id": "2db5c76b",
   "metadata": {
    "ExecuteTime": {
     "end_time": "2023-05-31T23:31:23.640599Z",
     "start_time": "2023-05-31T23:31:23.633146Z"
    },
    "execution": {
     "iopub.execute_input": "2023-09-28T22:45:48.570319Z",
     "iopub.status.busy": "2023-09-28T22:45:48.569776Z",
     "iopub.status.idle": "2023-09-28T22:45:48.579489Z",
     "shell.execute_reply": "2023-09-28T22:45:48.578192Z",
     "shell.execute_reply.started": "2023-09-28T22:45:48.570274Z"
    },
    "tags": []
   },
   "outputs": [],
   "source": [
    "\n",
    "def get_Amat(k, Cmat, paras):\n",
    "    \"\"\"Get A matrix for hypothesis test\n",
    "        k: Num of elements in S\n",
    "        Cmat: Hypothesis matrix\n",
    "        paras: parameters\n",
    "                required: N, m, q\n",
    "    \"\"\"\n",
    "    _paras = edict(paras.copy())\n",
    "    \n",
    "    m = Cmat.shape[-1]\n",
    "    part1 = np.kron(Cmat, np.eye(_paras.N))\n",
    "    part2 = np.zeros((m*_paras.N, _paras.q+(m+k)*_paras.N))\n",
    "    part2[:, _paras.q:(_paras.q+m*_paras.N)] = np.eye(m*_paras.N)\n",
    "    A = part1 @ part2\n",
    "    return A"
   ]
  },
  {
   "cell_type": "code",
   "execution_count": 27,
   "id": "0f30b88f",
   "metadata": {
    "ExecuteTime": {
     "end_time": "2023-05-31T23:31:24.456489Z",
     "start_time": "2023-05-31T23:31:24.440199Z"
    },
    "code_folding": [],
    "execution": {
     "iopub.execute_input": "2023-09-28T22:45:48.907493Z",
     "iopub.status.busy": "2023-09-28T22:45:48.906944Z",
     "iopub.status.idle": "2023-09-28T22:45:48.923333Z",
     "shell.execute_reply": "2023-09-28T22:45:48.922195Z",
     "shell.execute_reply.started": "2023-09-28T22:45:48.907450Z"
    },
    "tags": []
   },
   "outputs": [],
   "source": [
    "def get_filename(params):\n",
    "    keys = [\"seed\", \"n\", \"d\", \"decimate_rate\"]\n",
    "    return '_'.join(f\"{k}-{params[k]}\" for k in keys) + '.pkl'\n",
    "def _gen_simu_data_all(seed, paras):\n",
    "    np.random.seed(seed)\n",
    "    _paras = edict(paras.copy())\n",
    "    # simulated PSD\n",
    "    assert len(_paras.types_) == _paras.q\n",
    "    assert len(_paras.alp_GT) == _paras.q\n",
    "    tmp_paras = edict()\n",
    "    tmp_paras.seed = seed \n",
    "    tmp_paras.n = 1000\n",
    "    #tmp_paras.n = _paras.n\n",
    "    tmp_paras.d = _paras.d\n",
    "    tmp_paras.decimate_rate = 30\n",
    "    \n",
    "    #file_path = MIDRES_ROOT/get_filename(tmp_paras)\n",
    "    #if file_path.exists():\n",
    "    #    #simu_curvs = np.random.randn(_paras.n, _paras.d, _paras.npts) /10\n",
    "    #    simu_curvs = load_pkl(file_path, verbose=False)\n",
    "    #else:\n",
    "    #    simu_curvs = gen_simu_ts(_paras.n, _paras.d, 5, decimate_rate=tmp_paras.decimate_rate, verbose=False)\n",
    "    #    save_pkl(file_path, simu_curvs)\n",
    "    #simu_curvs = gen_simu_psd(_paras.n, _paras.d, 10)\n",
    "    #simu_curvs = 1*(simu_curvs- simu_curvs.mean(axis=2, keepdims=True))/simu_curvs.std(axis=2, keepdims=True)\n",
    "    simu_curvs = np.random.randn(_paras.n, _paras.d, _paras.npts) * 2\n",
    "    #simu_curvs = (simu_curvs)/simu_curvs.std(axis=2)[:, :, np.newaxis]\n",
    "    #simu_curvs = simu_curvs + np.random.randn(_paras.n, _paras.d, 1)*0.5\n",
    "    simu_curvs = simu_curvs[:_paras.n, :, :_paras.npts]\n",
    "    simu_covs = gen_covs(_paras.n, _paras.types_)\n",
    "    \n",
    "    # linear term and Y\n",
    "    int_part = np.sum(_paras.beta_GT.T* simu_curvs[:, :, :], axis=1).mean(axis=1)\n",
    "    cov_part = simu_covs @ _paras.alp_GT \n",
    "    \n",
    "    # linear term\n",
    "    lin_term = cov_part + int_part\n",
    "    \n",
    "    \n",
    "    \n",
    "    # Y \n",
    "    rvs = np.random.rand(_paras.n)\n",
    "    Y = lin_term + np.random.randn(_paras.n)*np.sqrt(_paras.sigma2)\n",
    "    \n",
    "    # To torch\n",
    "    X = torch.Tensor(simu_curvs) # n x d x npts\n",
    "    Z = torch.Tensor(simu_covs) # n x q\n",
    "    Y = torch.Tensor(Y)\n",
    "    \n",
    "    all_data = edict()\n",
    "    all_data.X = X\n",
    "    all_data.Y = Y\n",
    "    all_data.Z = Z\n",
    "    return all_data"
   ]
  },
  {
   "cell_type": "code",
   "execution_count": null,
   "id": "25fe047b",
   "metadata": {},
   "outputs": [],
   "source": []
  },
  {
   "cell_type": "code",
   "execution_count": 28,
   "id": "73e03f1f",
   "metadata": {
    "ExecuteTime": {
     "end_time": "2023-05-31T23:31:25.476103Z",
     "start_time": "2023-05-31T23:31:25.463474Z"
    },
    "code_folding": [
     0
    ],
    "execution": {
     "iopub.execute_input": "2023-09-28T22:45:50.009186Z",
     "iopub.status.busy": "2023-09-28T22:45:50.008650Z",
     "iopub.status.idle": "2023-09-28T22:45:50.023277Z",
     "shell.execute_reply": "2023-09-28T22:45:50.022171Z",
     "shell.execute_reply.started": "2023-09-28T22:45:50.009143Z"
    },
    "tags": []
   },
   "outputs": [],
   "source": [
    "def obt_test_stat(model, est_alp, est_Gam, Cmat, paras):\n",
    "    \"\"\"Obtiaining the test statistics via the estimator\n",
    "        args:\n",
    "            model: The model you used, LinearModel or LogisticModel\n",
    "            est_alp: Estimated alp parameters\n",
    "            est_Gam: Estimated Gam parameters\n",
    "    \"\"\"\n",
    "    _paras = edict(paras.copy())\n",
    "    est_theta = torch.cat([est_alp, col_vec_fn(est_Gam)/np.sqrt(_paras.N)])\n",
    "    Q_mat = -model.log_lik_der2(est_alp, est_Gam)\n",
    "    model.log_lik_der1(est_alp, est_Gam);\n",
    "    Sig_mat = (model.log_lik_der1_vs.unsqueeze(-1) * model.log_lik_der1_vs.unsqueeze(1)).mean(axis=0) \n",
    "    # minus sign canceled\n",
    "    \n",
    "    \n",
    "    # obtain the idxs to keep for test\n",
    "    nonzero_idxs = torch.nonzero(torch.norm(est_Gam, dim=0)).reshape(-1).numpy()\n",
    "    MS_unions = np.sort(np.union1d(_paras.M_idxs, nonzero_idxs))\n",
    "    keep_idxs_test = MS2idxs(_paras.q, _paras.N, MS_unions)\n",
    "    \n",
    "    # A mat\n",
    "    k = len(np.setdiff1d(nonzero_idxs, _paras.M_idxs))\n",
    "    Amat = torch.Tensor(get_Amat(k, Cmat, _paras))\n",
    "    \n",
    "    # calcuate Test stats\n",
    "    Q_mat_part = Q_mat[keep_idxs_test][:, keep_idxs_test]\n",
    "    Q_mat_part_inv = torch.pinverse(Q_mat_part)\n",
    "    #Q_mat_part_inv = svd_inverse(Q_mat_part, _paras.svdinv_eps_Q)\n",
    "    \n",
    "    Sig_mat_part = Sig_mat[keep_idxs_test][:, keep_idxs_test]\n",
    "    Psi = Amat @ Q_mat_part_inv @ Sig_mat_part @ Q_mat_part_inv @ Amat.T\n",
    "    \n",
    "    T_p1 = Amat @ est_theta[keep_idxs_test]\n",
    "    Psi_inv = torch.pinverse(Psi)\n",
    "    #Psi_inv = svd_inverse(Psi, _paras.svdinv_eps_Psi)\n",
    "    T_v = T_p1 @ Psi_inv @ T_p1 * _paras.n \n",
    "    return T_v"
   ]
  },
  {
   "cell_type": "code",
   "execution_count": null,
   "id": "96fd3e30",
   "metadata": {},
   "outputs": [],
   "source": []
  },
  {
   "cell_type": "markdown",
   "id": "e4043966",
   "metadata": {},
   "source": [
    "## Simu"
   ]
  },
  {
   "cell_type": "code",
   "execution_count": null,
   "id": "911af57c",
   "metadata": {},
   "outputs": [],
   "source": []
  },
  {
   "cell_type": "markdown",
   "id": "27f9ae1e-db9a-4f01-9240-6a3e5f2ae9da",
   "metadata": {
    "jp-MarkdownHeadingCollapsed": true,
    "tags": []
   },
   "source": [
    "### Backup"
   ]
  },
  {
   "cell_type": "code",
   "execution_count": null,
   "id": "e9e6ea67-2142-4237-ad33-73c50e9d3850",
   "metadata": {
    "ExecuteTime": {
     "start_time": "2023-06-01T00:11:00.652Z"
    },
    "code_folding": [],
    "execution": {
     "iopub.execute_input": "2023-09-28T21:24:49.636978Z",
     "iopub.status.busy": "2023-09-28T21:24:49.636352Z",
     "iopub.status.idle": "2023-09-28T21:26:02.447675Z",
     "shell.execute_reply": "2023-09-28T21:26:02.447131Z",
     "shell.execute_reply.started": "2023-09-28T21:24:49.636927Z"
    },
    "tags": []
   },
   "outputs": [],
   "source": [
    "# for back up\n",
    "seed = 1\n",
    "#lam = 3\n",
    "lam = 2.0\n",
    "#lam = 0.5\n",
    "#lam = 0.6\n",
    "#lam = 30\n",
    "T_vs = []\n",
    "T_p1s = []\n",
    "Q_mat_parts = []\n",
    "Psis = []\n",
    "nonzero_idxss = []\n",
    "est_alps = []\n",
    "for seed in trange(0, 1000):\n",
    "    \n",
    "    np.random.seed(seed)\n",
    "    torch.manual_seed(seed)\n",
    "    est_Gam_full = torch.zeros_like(torch.tensor(paras.Gam_GT_est));\n",
    "        \n",
    "    _paras = edict(paras.copy())\n",
    "    _paras.lam = lam\n",
    "    _paras.seed = seed\n",
    "    _paras.Rv = _paras.Rfct * _paras.Rmin\n",
    "    cur_data = _gen_simu_data_all(_paras.seed, _paras)\n",
    "    \n",
    "    \n",
    "    # do sure independent screening for dim reduction\n",
    "    if _paras.SIS_ratio < 1:\n",
    "        keep_idxs, _  = SIS_linear(cur_data.Y, cur_data.X, cur_data.Z, _paras.SIS_ratio, _paras, ridge_pen=1)\n",
    "    else:\n",
    "        keep_idxs = _paras.sel_idx\n",
    "    M_idxs = np.delete(np.arange(_paras.d), _paras.sel_idx)\n",
    "    _paras.keep_idxs = np.sort(np.concatenate([M_idxs, keep_idxs]))\n",
    "    #print(keep_idxs)\n",
    "        \n",
    "    _paras.sel_idx_SIS = np.where(np.array([keep_idx in _paras.sel_idx for keep_idx in _paras.keep_idxs]))[0]\n",
    "    _paras.d_SIS = len(_paras.keep_idxs)\n",
    "    \n",
    "    cur_data_SIS = edict(cur_data.copy())\n",
    "    cur_data_SIS.X = cur_data.X[:, _paras.keep_idxs, :]\n",
    "    \n",
    "    \n",
    "    alp_init = torch.Tensor(_paras.alp_GT) + torch.randn(_paras.q)*_paras.init_noise_sd\n",
    "    Gam_init = (torch.Tensor(_paras.Gam_GT_est[:, _paras.keep_idxs]) \n",
    "                + torch.randn(_paras.N, _paras.d_SIS)*_paras.init_noise_sd)\n",
    "    theta_init = torch.cat([alp_init, col_vec_fn(Gam_init)/np.sqrt(_paras.N)])\n",
    "    rhok_init = torch.randn(_paras.d_SIS*_paras.N)\n",
    "        \n",
    "    model = LinearModel(Y=cur_data_SIS.Y, \n",
    "                        X=cur_data_SIS.X, \n",
    "                        Z=cur_data_SIS.Z, \n",
    "                        basis_mat=_paras.basis_mat, \n",
    "                        sigma2=_paras.sigma2)\n",
    "    # 3e0\n",
    "    pen = SCAD(lams=_paras.lam, a=_paras.a,  sel_idx=_paras.sel_idx_SIS)\n",
    "        \n",
    "    \n",
    "    main_res = optimization(model=model, \n",
    "                            penalty=pen, \n",
    "                            inits=[alp_init, Gam_init, theta_init, rhok_init],\n",
    "                            is_prg=False,\n",
    "                            save_paras=False,    \n",
    "                            input_paras=_paras)\n",
    "    \n",
    "    #cv_errs = CV_err_linear_fn(data=cur_data_SIS, \n",
    "    #                           penalty=pen, \n",
    "    #                           num_cv_fold=_paras.num_cv_fold,\n",
    "    #                           inits=[alp_init, Gam_init, theta_init, rhok_init], \n",
    "    #                           is_prg=False, \n",
    "    #                           save_paras=False,    \n",
    "    #                           input_paras=_paras)\n",
    "    #print(np.mean(cv_errs**2))\n",
    "    \n",
    "    opt = main_res[0]\n",
    "    est_Gam = opt.Gamk\n",
    "    est_alp = opt.alpk\n",
    "    est_theta = torch.cat([est_alp, col_vec_fn(est_Gam)/np.sqrt(_paras.N)])\n",
    "    est_Gam_full[:, _paras.keep_idxs] = est_Gam.clone()\n",
    "    est_alps.append(est_alp.numpy())\n",
    "    \n",
    "    Q_mat = -model.log_lik_der2(est_alp, est_Gam)\n",
    "    model.log_lik_der1(est_alp, est_Gam);\n",
    "    Sig_mat = (model.log_lik_der1_vs.unsqueeze(-1) * model.log_lik_der1_vs.unsqueeze(1)).mean(axis=0) \n",
    "    # minus sign canceled\n",
    "    \n",
    "    \n",
    "    # obtain the idxs to keep for test\n",
    "    nonzero_idxs = torch.nonzero(torch.norm(est_Gam, dim=0)).reshape(-1).numpy()\n",
    "    #print(nonzero_idxs)\n",
    "    MS_unions = np.sort(np.union1d(_paras.M_idxs, nonzero_idxs))\n",
    "    keep_idxs_test = MS2idxs(_paras.q, _paras.N, MS_unions)\n",
    "    \n",
    "    # A mat\n",
    "    \n",
    "    k = len(np.setdiff1d(nonzero_idxs, _paras.M_idxs))\n",
    "    tT_vs = []\n",
    "    for Cmat in _paras.Cmats:\n",
    "        Q_mat_part = Q_mat[keep_idxs_test][:, keep_idxs_test]\n",
    "        Sig_mat_part = Sig_mat[keep_idxs_test][:, keep_idxs_test]\n",
    "        _paras.svdinv_eps_Psi = 1e-7\n",
    "        _paras.svdinv_eps_Q = 1e-7\n",
    "        T_v = obt_test_stat_simple2(Q_mat_part, Sig_mat_part, est_alp, est_Gam, Cmat, _paras)\n",
    "        tT_vs.append(T_v.item())\n",
    "        \n",
    "        #Amat = torch.Tensor(get_Amat(k, Cmat, _paras))\n",
    "        #\n",
    "        ## calcuate Test stats\n",
    "        #Q_mat_part = Q_mat[keep_idxs_test][:, keep_idxs_test]\n",
    "        #Q_mat_part_inv = torch.pinverse(Q_mat_part)\n",
    "        ##Q_mat_part_inv = svd_inverse(Q_mat_part, _paras.svdinv_eps_Q)\n",
    "        #\n",
    "        #Sig_mat_part = Sig_mat[keep_idxs_test][:, keep_idxs_test]\n",
    "        #Psi = Amat @ Q_mat_part_inv @ Sig_mat_part @ Q_mat_part_inv @ Amat.T\n",
    "        #\n",
    "        #T_p1 = Amat @ est_theta[keep_idxs_test]\n",
    "        #Psi_inv = torch.pinverse(Psi)\n",
    "        ##Psi_inv = svd_inverse(Psi, _paras.svdinv_eps_Psi)\n",
    "        #T_v = T_p1 @ Psi_inv @ T_p1 * _paras.n \n",
    "        #tT_vs.append(T_v.item())\n",
    "    \n",
    "    #Psis.append(Psi)\n",
    "    #Q_mat_parts.append(Q_mat_part)\n",
    "    #T_p1s.append(T_p1)\n",
    "    T_vs.append(tT_vs)\n",
    "    nonzero_idxss.append(nonzero_idxs)\n",
    "    \n",
    "    #print(torch.stack([\n",
    "    #torch.norm(est_Gam, dim=0),\n",
    "    #torch.norm(Gam_init, dim=0),\n",
    "    #torch.tensor(np.linalg.norm(paras.Gam_GT_est, axis=0)[_paras.keep_idxs])]))"
   ]
  },
  {
   "cell_type": "code",
   "execution_count": 33,
   "id": "ad5019e8",
   "metadata": {
    "ExecuteTime": {
     "end_time": "2023-06-01T00:09:25.859254Z",
     "start_time": "2023-06-01T00:09:25.771065Z"
    },
    "execution": {
     "iopub.execute_input": "2023-09-28T21:24:18.852999Z",
     "iopub.status.busy": "2023-09-28T21:24:18.852463Z",
     "iopub.status.idle": "2023-09-28T21:24:18.960545Z",
     "shell.execute_reply": "2023-09-28T21:24:18.960012Z",
     "shell.execute_reply.started": "2023-09-28T21:24:18.852953Z"
    },
    "tags": []
   },
   "outputs": [
    {
     "data": {
      "image/png": "[encoded data removed]",
      "text/plain": [
       "<Figure size 432x288 with 1 Axes>"
      ]
     },
     "metadata": {
      "needs_background": "light"
     },
     "output_type": "display_data"
    }
   ],
   "source": [
    "idxs, cts = np.unique(np.concatenate(nonzero_idxss), return_counts=True)\n",
    "plt.bar(idxs, cts)\n",
    "plt.xticks(idxs, cts);"
   ]
  },
  {
   "cell_type": "code",
   "execution_count": null,
   "id": "15cd6bcc-fa62-4740-8152-1efdde39e5db",
   "metadata": {
    "ExecuteTime": {
     "end_time": "2023-06-01T00:09:29.965670Z",
     "start_time": "2023-06-01T00:09:29.731836Z"
    },
    "execution": {
     "iopub.execute_input": "2023-09-28T21:19:28.064854Z",
     "iopub.status.busy": "2023-09-28T21:19:28.064296Z",
     "iopub.status.idle": "2023-09-28T21:19:28.093950Z",
     "shell.execute_reply": "2023-09-28T21:19:28.092961Z",
     "shell.execute_reply.started": "2023-09-28T21:19:28.064807Z"
    },
    "tags": []
   },
   "outputs": [],
   "source": [
    "tmp1 = np.mean([ix.numpy() for ix in Psis], axis=0)/paras.n\n",
    "sns.heatmap(tmp1, center=0, cmap=\"bwr\")"
   ]
  },
  {
   "cell_type": "code",
   "execution_count": 83,
   "id": "12844813",
   "metadata": {
    "ExecuteTime": {
     "end_time": "2023-06-01T00:09:31.772025Z",
     "start_time": "2023-06-01T00:09:31.599918Z"
    },
    "execution": {
     "iopub.execute_input": "2023-09-28T21:13:01.841125Z",
     "iopub.status.busy": "2023-09-28T21:13:01.840567Z",
     "iopub.status.idle": "2023-09-28T21:13:02.023757Z",
     "shell.execute_reply": "2023-09-28T21:13:02.023338Z",
     "shell.execute_reply.started": "2023-09-28T21:13:01.841081Z"
    },
    "tags": []
   },
   "outputs": [
    {
     "data": {
      "text/plain": [
       "<Axes: >"
      ]
     },
     "execution_count": 83,
     "metadata": {},
     "output_type": "execute_result"
    },
    {
     "data": {
      "image/png": "[encoded data removed]",
      "text/plain": [
       "<Figure size 1000x500 with 2 Axes>"
      ]
     },
     "metadata": {
      "needs_background": "light"
     },
     "output_type": "display_data"
    }
   ],
   "source": [
    "tmp2 = np.cov(np.array([ix.numpy() for ix in T_p1s]).T)\n",
    "sns.heatmap(tmp2, center=0, cmap=\"bwr\")"
   ]
  },
  {
   "cell_type": "markdown",
   "id": "c8b3bf6b-8ef3-4545-b042-4e9a29a5397a",
   "metadata": {},
   "source": [
    "### Run"
   ]
  },
  {
   "cell_type": "code",
   "execution_count": 48,
   "id": "9f11fd57",
   "metadata": {
    "ExecuteTime": {
     "start_time": "2023-06-01T00:11:00.652Z"
    },
    "code_folding": [],
    "execution": {
     "iopub.execute_input": "2023-09-28T22:55:28.783833Z",
     "iopub.status.busy": "2023-09-28T22:55:28.783184Z",
     "iopub.status.idle": "2023-09-28T22:56:41.008491Z",
     "shell.execute_reply": "2023-09-28T22:56:41.007666Z",
     "shell.execute_reply.started": "2023-09-28T22:55:28.783785Z"
    },
    "tags": []
   },
   "outputs": [
    {
     "name": "stderr",
     "output_type": "stream",
     "text": [
      "100%|████████████████████████████████████████████████████████████████████████████████████████████████████████████████████████████████████████| 500/500 [01:07<00:00,  7.40it/s]\n"
     ]
    }
   ],
   "source": [
    "seed = 1\n",
    "#lam = 3\n",
    "lam = 2.0\n",
    "#lam = 0.5\n",
    "#lam = 0.6\n",
    "#lam = 30\n",
    "T_vs = []\n",
    "def _run_fn(seed):\n",
    "    np.random.seed(seed)\n",
    "    torch.manual_seed(seed)\n",
    "    torch.set_default_tensor_type(torch.DoubleTensor)\n",
    "    est_Gam_full = torch.zeros_like(torch.tensor(paras.Gam_GT_est));\n",
    "        \n",
    "    _paras = edict(paras.copy())\n",
    "    _paras.lam = lam\n",
    "    _paras.seed = seed\n",
    "    _paras.Rv = _paras.Rfct * _paras.Rmin\n",
    "    cur_data = _gen_simu_data_all(_paras.seed, _paras)\n",
    "    \n",
    "    \n",
    "    # do sure independent screening for dim reduction\n",
    "    if _paras.SIS_ratio < 1:\n",
    "        keep_idxs, _  = SIS_linear(cur_data.Y, cur_data.X, cur_data.Z, _paras.SIS_ratio, _paras, ridge_pen=1)\n",
    "    else:\n",
    "        keep_idxs = _paras.sel_idx\n",
    "    M_idxs = np.delete(np.arange(_paras.d), _paras.sel_idx)\n",
    "    _paras.keep_idxs = np.sort(np.concatenate([M_idxs, keep_idxs]))\n",
    "    #print(keep_idxs)\n",
    "        \n",
    "    _paras.sel_idx_SIS = np.where(np.array([keep_idx in _paras.sel_idx for keep_idx in _paras.keep_idxs]))[0]\n",
    "    _paras.d_SIS = len(_paras.keep_idxs)\n",
    "    \n",
    "    cur_data_SIS = edict(cur_data.copy())\n",
    "    cur_data_SIS.X = cur_data.X[:, _paras.keep_idxs, :]\n",
    "    \n",
    "    \n",
    "    alp_init = torch.Tensor(_paras.alp_GT) + torch.randn(_paras.q)*_paras.init_noise_sd\n",
    "    Gam_init = (torch.Tensor(_paras.Gam_GT_est[:, _paras.keep_idxs]) \n",
    "                + torch.randn(_paras.N, _paras.d_SIS)*_paras.init_noise_sd)\n",
    "    theta_init = torch.cat([alp_init, col_vec_fn(Gam_init)/np.sqrt(_paras.N)])\n",
    "    rhok_init = torch.randn(_paras.d_SIS*_paras.N)\n",
    "        \n",
    "    model = LinearModel(Y=cur_data_SIS.Y, \n",
    "                        X=cur_data_SIS.X, \n",
    "                        Z=cur_data_SIS.Z, \n",
    "                        basis_mat=_paras.basis_mat, \n",
    "                        sigma2=_paras.sigma2)\n",
    "    # 3e0\n",
    "    pen = SCAD(lams=_paras.lam, a=_paras.a,  sel_idx=_paras.sel_idx_SIS)\n",
    "        \n",
    "    \n",
    "    main_res = optimization(model=model, \n",
    "                            penalty=pen, \n",
    "                            inits=[alp_init, Gam_init, theta_init, rhok_init],\n",
    "                            is_prg=False,\n",
    "                            save_paras=False,    \n",
    "                            input_paras=_paras)\n",
    "    \n",
    "    #cv_errs = CV_err_linear_fn(data=cur_data_SIS, \n",
    "    #                           penalty=pen, \n",
    "    #                           num_cv_fold=_paras.num_cv_fold,\n",
    "    #                           inits=[alp_init, Gam_init, theta_init, rhok_init], \n",
    "    #                           is_prg=False, \n",
    "    #                           save_paras=False,    \n",
    "    #                           input_paras=_paras)\n",
    "    #print(np.mean(cv_errs**2))\n",
    "    \n",
    "    opt = main_res[0]\n",
    "    est_Gam = opt.Gamk\n",
    "    est_alp = opt.alpk\n",
    "    est_theta = torch.cat([est_alp, col_vec_fn(est_Gam)/np.sqrt(_paras.N)])\n",
    "    est_Gam_full[:, _paras.keep_idxs] = est_Gam.clone()\n",
    "    \n",
    "    Q_mat = -model.log_lik_der2(est_alp, est_Gam)\n",
    "    model.log_lik_der1(est_alp, est_Gam);\n",
    "    Sig_mat = (model.log_lik_der1_vs.unsqueeze(-1) * model.log_lik_der1_vs.unsqueeze(1)).mean(axis=0) \n",
    "    # minus sign canceled\n",
    "    \n",
    "    \n",
    "    # obtain the idxs to keep for test\n",
    "    nonzero_idxs = torch.nonzero(torch.norm(est_Gam, dim=0)).reshape(-1).numpy()\n",
    "    #print(nonzero_idxs)\n",
    "    MS_unions = np.sort(np.union1d(_paras.M_idxs, nonzero_idxs))\n",
    "    keep_idxs_test = MS2idxs(_paras.q, _paras.N, MS_unions)\n",
    "    \n",
    "    # A mat\n",
    "    \n",
    "    k = len(np.setdiff1d(nonzero_idxs, _paras.M_idxs))\n",
    "    tT_vs = []\n",
    "    for Cmat in _paras.Cmats:\n",
    "        Q_mat_part = Q_mat[keep_idxs_test][:, keep_idxs_test]\n",
    "        Sig_mat_part = Sig_mat[keep_idxs_test][:, keep_idxs_test]\n",
    "        _paras.svdinv_eps_Psi = 1e-8\n",
    "        _paras.svdinv_eps_Q = 1e-8\n",
    "        T_v = obt_test_stat_simple2(Q_mat_part, Sig_mat_part, est_alp, est_Gam, Cmat, _paras)\n",
    "        tT_vs.append(T_v.item())\n",
    "        \n",
    "        #Amat = torch.Tensor(get_Amat(k, Cmat, _paras))\n",
    "        #\n",
    "        ## calcuate Test stats\n",
    "        #Q_mat_part = Q_mat[keep_idxs_test][:, keep_idxs_test]\n",
    "        #Q_mat_part_inv = torch.pinverse(Q_mat_part)\n",
    "        ##Q_mat_part_inv = svd_inverse(Q_mat_part, _paras.svdinv_eps_Q)\n",
    "        #\n",
    "        #Sig_mat_part = Sig_mat[keep_idxs_test][:, keep_idxs_test]\n",
    "        #Psi = Amat @ Q_mat_part_inv @ Sig_mat_part @ Q_mat_part_inv @ Amat.T\n",
    "        #\n",
    "        #T_p1 = Amat @ est_theta[keep_idxs_test]\n",
    "        #Psi_inv = torch.pinverse(Psi)\n",
    "        ##Psi_inv = svd_inverse(Psi, _paras.svdinv_eps_Psi)\n",
    "        #T_v = T_p1 @ Psi_inv @ T_p1 * _paras.n \n",
    "        #tT_vs.append(T_v.item())\n",
    "    \n",
    "    return tT_vs\n",
    "\n",
    "with Parallel(n_jobs=20) as parallel:\n",
    "    T_vs = parallel(delayed(_run_fn)(cur_seed)  \n",
    "                             for cur_seed in tqdm(range(500), total=500))"
   ]
  },
  {
   "cell_type": "code",
   "execution_count": 49,
   "id": "6b6bf4cb",
   "metadata": {
    "ExecuteTime": {
     "end_time": "2023-06-01T00:09:33.663365Z",
     "start_time": "2023-06-01T00:09:33.441266Z"
    },
    "execution": {
     "iopub.execute_input": "2023-09-28T22:56:47.080929Z",
     "iopub.status.busy": "2023-09-28T22:56:47.080336Z",
     "iopub.status.idle": "2023-09-28T22:56:47.646743Z",
     "shell.execute_reply": "2023-09-28T22:56:47.646316Z",
     "shell.execute_reply.started": "2023-09-28T22:56:47.080880Z"
    },
    "tags": []
   },
   "outputs": [
    {
     "name": "stdout",
     "output_type": "stream",
     "text": [
      "size is 0.062. (4, 4)\n",
      "size is 0.056. (1, 4)\n",
      "size is 0.050. (1, 4)\n"
     ]
    },
    {
     "data": {
      "image/png": "[encoded data removed]",
      "text/plain": [
       "<Figure size 720x720 with 3 Axes>"
      ]
     },
     "metadata": {
      "needs_background": "light"
     },
     "output_type": "display_data"
    }
   ],
   "source": [
    "def _filtered_outliers(vec):\n",
    "    vec = np.array(vec)\n",
    "    Q1, Q3 = np.quantile(vec, [0.25, 0.75])\n",
    "    IQR = Q3-Q1\n",
    "    lb, ub = Q1-1.5*IQR, Q3+1.5*IQR\n",
    "    #vec_filtered = vec[(vec>0) & (vec<30)]\n",
    "    vec_filtered = vec[(vec>lb) & (vec<ub)]\n",
    "    vec_filtered = vec\n",
    "    return vec_filtered\n",
    "\n",
    "from scipy.stats import chi2\n",
    "plt.figure(figsize=[10, 10])\n",
    "T_vs = np.array(T_vs)\n",
    "xs = np.linspace(0.1, 100, 100)\n",
    "for idx, Cmat in enumerate(paras.Cmats):\n",
    "    plt.subplot(3, 1, idx+1)\n",
    "    chi_df = Cmat.shape[0]*paras.N\n",
    "    sps_from_true = chi2.rvs(df=chi_df, size=len(T_vs[:, idx]))\n",
    "    curTvs = _filtered_outliers(T_vs[:, idx])\n",
    "    pvals = chi2.sf(curTvs, chi_df)\n",
    "    pvals1 = chi2.sf(sps_from_true, chi_df)\n",
    "    print(f\"size is {np.mean(pvals<0.05):.3f}.\", Cmat.shape)\n",
    "    theo_curvs_log = chi2.logpdf(xs, chi_df);\n",
    "    plt.plot(xs, np.exp(theo_curvs_log) , label=\"theoretical\")\n",
    "    sns.kdeplot(curTvs, label=\"empirical\")\n",
    "    sns.kdeplot(sps_from_true, ls=\"--\", label=\"KDE from chi2\")\n",
    "    plt.legend()"
   ]
  },
  {
   "cell_type": "code",
   "execution_count": 56,
   "id": "ca061cf6-9f3e-4b7d-94f4-414e24f767e1",
   "metadata": {
    "execution": {
     "iopub.execute_input": "2023-09-28T23:00:20.675856Z",
     "iopub.status.busy": "2023-09-28T23:00:20.675274Z",
     "iopub.status.idle": "2023-09-28T23:00:20.685801Z",
     "shell.execute_reply": "2023-09-28T23:00:20.684474Z",
     "shell.execute_reply.started": "2023-09-28T23:00:20.675810Z"
    },
    "tags": []
   },
   "outputs": [
    {
     "data": {
      "text/plain": [
       "6.160857939199605"
      ]
     },
     "execution_count": 56,
     "metadata": {},
     "output_type": "execute_result"
    }
   ],
   "source": [
    "T_vs.shape\n",
    "sps_from_true = chi2.rvs(df=chi_df, size=len(T_vs[:, 0]))\n",
    "sps_from_true.mean()"
   ]
  },
  {
   "cell_type": "code",
   "execution_count": 44,
   "id": "267b0022-ffa1-4345-a171-8ac108bc58c2",
   "metadata": {
    "execution": {
     "iopub.execute_input": "2023-09-28T22:54:22.815080Z",
     "iopub.status.busy": "2023-09-28T22:54:22.814437Z",
     "iopub.status.idle": "2023-09-28T22:54:22.990612Z",
     "shell.execute_reply": "2023-09-28T22:54:22.990174Z",
     "shell.execute_reply.started": "2023-09-28T22:54:22.815031Z"
    },
    "tags": []
   },
   "outputs": [
    {
     "data": {
      "text/plain": [
       "0.869"
      ]
     },
     "execution_count": 44,
     "metadata": {},
     "output_type": "execute_result"
    }
   ],
   "source": [
    "\n",
    "sizes = []\n",
    "for ix in range(1000):\n",
    "    chi_df = 1 * paras.N\n",
    "    sps_from_true = chi2.rvs(df=chi_df, size=len(T_vs[:, 0]))\n",
    "    pvals1 = chi2.sf(sps_from_true, chi_df)\n",
    "    size = np.mean(pvals1<0.05)\n",
    "    sizes.append(size)\n",
    "sizes = np.array(sizes);\n",
    "np.mean(sizes <0.08)"
   ]
  },
  {
   "cell_type": "code",
   "execution_count": 48,
   "id": "d37fa6d0-527b-4459-b9b1-7f303365e2b7",
   "metadata": {
    "execution": {
     "iopub.execute_input": "2023-09-28T21:48:58.001426Z",
     "iopub.status.busy": "2023-09-28T21:48:58.000787Z",
     "iopub.status.idle": "2023-09-28T21:48:58.009929Z",
     "shell.execute_reply": "2023-09-28T21:48:58.008869Z",
     "shell.execute_reply.started": "2023-09-28T21:48:58.001381Z"
    },
    "tags": []
   },
   "outputs": [
    {
     "data": {
      "text/plain": [
       "0.614"
      ]
     },
     "execution_count": 48,
     "metadata": {},
     "output_type": "execute_result"
    }
   ],
   "source": []
  },
  {
   "cell_type": "code",
   "execution_count": 23,
   "id": "54e2f8f9",
   "metadata": {
    "ExecuteTime": {
     "end_time": "2023-06-01T00:09:38.570202Z",
     "start_time": "2023-06-01T00:09:38.528037Z"
    },
    "execution": {
     "iopub.execute_input": "2023-09-28T20:54:26.499566Z",
     "iopub.status.busy": "2023-09-28T20:54:26.498971Z",
     "iopub.status.idle": "2023-09-28T20:54:26.512133Z",
     "shell.execute_reply": "2023-09-28T20:54:26.511078Z",
     "shell.execute_reply.started": "2023-09-28T20:54:26.499519Z"
    },
    "tags": []
   },
   "outputs": [
    {
     "data": {
      "text/plain": [
       "(0.05128205128205128, 0.05128205128205128)"
      ]
     },
     "execution_count": 23,
     "metadata": {},
     "output_type": "execute_result"
    }
   ],
   "source": [
    "CV = chi2.ppf(0.95, chi_df)\n",
    "np.mean(T_vs_new>CV), np.mean(sps_from_true>CV)"
   ]
  },
  {
   "cell_type": "code",
   "execution_count": 24,
   "id": "9c5573d7",
   "metadata": {
    "ExecuteTime": {
     "end_time": "2023-06-01T00:09:43.996888Z",
     "start_time": "2023-06-01T00:09:43.989408Z"
    },
    "execution": {
     "iopub.execute_input": "2023-09-28T20:54:40.147847Z",
     "iopub.status.busy": "2023-09-28T20:54:40.147121Z",
     "iopub.status.idle": "2023-09-28T20:54:40.156160Z",
     "shell.execute_reply": "2023-09-28T20:54:40.155003Z",
     "shell.execute_reply.started": "2023-09-28T20:54:40.147800Z"
    },
    "tags": []
   },
   "outputs": [
    {
     "data": {
      "text/plain": [
       "(10.024007639306257, 9.897626989979361, (78,))"
      ]
     },
     "execution_count": 24,
     "metadata": {},
     "output_type": "execute_result"
    }
   ],
   "source": [
    "np.mean(T_vs_new),  np.mean(sps_from_true), T_vs_new.shape"
   ]
  },
  {
   "cell_type": "code",
   "execution_count": 33,
   "id": "1d22aadd",
   "metadata": {
    "ExecuteTime": {
     "end_time": "2023-05-31T23:20:52.021912Z",
     "start_time": "2023-05-31T23:20:51.988051Z"
    },
    "execution": {
     "iopub.execute_input": "2023-08-30T06:17:32.288177Z",
     "iopub.status.busy": "2023-08-30T06:17:32.287583Z",
     "iopub.status.idle": "2023-08-30T06:17:32.293574Z",
     "shell.execute_reply": "2023-08-30T06:17:32.292262Z",
     "shell.execute_reply.started": "2023-08-30T06:17:32.288130Z"
    },
    "tags": []
   },
   "outputs": [],
   "source": [
    "#save_pkl(MIDRES_ROOT/f\"T_vs_res452.pkl\", [T_vs, _paras])"
   ]
  },
  {
   "cell_type": "code",
   "execution_count": 34,
   "id": "a57cd151",
   "metadata": {
    "ExecuteTime": {
     "end_time": "2023-06-01T00:10:01.629025Z",
     "start_time": "2023-06-01T00:10:01.528100Z"
    },
    "execution": {
     "iopub.execute_input": "2023-08-30T06:17:33.094714Z",
     "iopub.status.busy": "2023-08-30T06:17:33.094190Z",
     "iopub.status.idle": "2023-08-30T06:17:33.229874Z",
     "shell.execute_reply": "2023-08-30T06:17:33.229474Z",
     "shell.execute_reply.started": "2023-08-30T06:17:33.094671Z"
    },
    "tags": []
   },
   "outputs": [
    {
     "data": {
      "text/plain": [
       "[<matplotlib.lines.Line2D at 0x7f52884c05b0>]"
      ]
     },
     "execution_count": 34,
     "metadata": {},
     "output_type": "execute_result"
    },
    {
     "data": {
      "image/png": "[encoded data removed]",
      "text/plain": [
       "<Figure size 1000x500 with 1 Axes>"
      ]
     },
     "metadata": {
      "needs_background": "light"
     },
     "output_type": "display_data"
    }
   ],
   "source": [
    "plt.plot(np.sort(T_vs), \".\")"
   ]
  },
  {
   "cell_type": "code",
   "execution_count": null,
   "id": "149f1666-9b71-4d26-84af-8e435d80d2f8",
   "metadata": {},
   "outputs": [],
   "source": []
  }
 ],
 "metadata": {
  "kernelspec": {
   "display_name": "Python 3 (ipykernel)",
   "language": "python",
   "name": "python3"
  },
  "language_info": {
   "codemirror_mode": {
    "name": "ipython",
    "version": 3
   },
   "file_extension": ".py",
   "mimetype": "text/x-python",
   "name": "python",
   "nbconvert_exporter": "python",
   "pygments_lexer": "ipython3",
   "version": "3.9.7"
  },
  "toc": {
   "base_numbering": 1,
   "nav_menu": {},
   "number_sections": true,
   "sideBar": true,
   "skip_h1_title": false,
   "title_cell": "Table of Contents",
   "title_sidebar": "Contents",
   "toc_cell": false,
   "toc_position": {
    "height": "calc(100% - 180px)",
    "left": "10px",
    "top": "150px",
    "width": "165px"
   },
   "toc_section_display": true,
   "toc_window_display": true
  },
  "toc-showcode": false,
  "toc-showtags": false
 },
 "nbformat": 4,
 "nbformat_minor": 5
}
