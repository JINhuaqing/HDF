{
 "cells": [
  {
   "cell_type": "markdown",
   "id": "faf0a805",
   "metadata": {},
   "source": [
    "Test using quasi-Newton method to update theta"
   ]
  },
  {
   "cell_type": "code",
   "execution_count": 1,
   "id": "02ae980e",
   "metadata": {
    "ExecuteTime": {
     "end_time": "2023-05-31T19:57:23.490285Z",
     "start_time": "2023-05-31T19:57:23.481769Z"
    },
    "execution": {
     "iopub.execute_input": "2023-11-15T03:45:58.077260Z",
     "iopub.status.busy": "2023-11-15T03:45:58.076619Z",
     "iopub.status.idle": "2023-11-15T03:45:58.090810Z",
     "shell.execute_reply": "2023-11-15T03:45:58.089770Z",
     "shell.execute_reply.started": "2023-11-15T03:45:58.077213Z"
    },
    "tags": []
   },
   "outputs": [],
   "source": [
    "import sys\n",
    "sys.path.append(\"../../mypkg\")"
   ]
  },
  {
   "cell_type": "code",
   "execution_count": 2,
   "id": "023df78a",
   "metadata": {
    "ExecuteTime": {
     "end_time": "2023-05-31T19:57:34.238839Z",
     "start_time": "2023-05-31T19:57:23.494053Z"
    },
    "execution": {
     "iopub.execute_input": "2023-11-15T03:45:58.092513Z",
     "iopub.status.busy": "2023-11-15T03:45:58.092077Z",
     "iopub.status.idle": "2023-11-15T03:46:00.446594Z",
     "shell.execute_reply": "2023-11-15T03:46:00.445718Z",
     "shell.execute_reply.started": "2023-11-15T03:45:58.092477Z"
    },
    "tags": []
   },
   "outputs": [],
   "source": [
    "import numpy as np\n",
    "import torch\n",
    "import matplotlib.pyplot as plt\n",
    "import seaborn as sns\n",
    "from scipy.stats import pearsonr\n",
    "from numbers import Number\n",
    "\n",
    "from easydict import EasyDict as edict\n",
    "from tqdm import trange, tqdm\n",
    "from scipy.io import loadmat\n",
    "from pprint import pprint\n",
    "import itertools\n",
    "from scipy.stats import chi2\n"
   ]
  },
  {
   "cell_type": "code",
   "execution_count": 3,
   "id": "b9d3cbc6-1ac5-47d6-a0d1-bcbc0be9267e",
   "metadata": {
    "execution": {
     "iopub.execute_input": "2023-11-15T03:46:00.448227Z",
     "iopub.status.busy": "2023-11-15T03:46:00.447866Z",
     "iopub.status.idle": "2023-11-15T03:46:00.467762Z",
     "shell.execute_reply": "2023-11-15T03:46:00.467319Z",
     "shell.execute_reply.started": "2023-11-15T03:46:00.448210Z"
    },
    "tags": []
   },
   "outputs": [],
   "source": [
    "# This will reload all imports as soon as the code changes\n",
    "%load_ext autoreload\n",
    "%autoreload 2"
   ]
  },
  {
   "cell_type": "code",
   "execution_count": 4,
   "id": "b0aa91b2",
   "metadata": {
    "ExecuteTime": {
     "end_time": "2023-05-31T19:57:59.558229Z",
     "start_time": "2023-05-31T19:57:34.292612Z"
    },
    "execution": {
     "iopub.execute_input": "2023-11-15T03:46:00.468514Z",
     "iopub.status.busy": "2023-11-15T03:46:00.468359Z",
     "iopub.status.idle": "2023-11-15T03:46:01.244206Z",
     "shell.execute_reply": "2023-11-15T03:46:01.242685Z",
     "shell.execute_reply.started": "2023-11-15T03:46:00.468501Z"
    },
    "tags": []
   },
   "outputs": [],
   "source": [
    "from constants import DATA_ROOT, RES_ROOT, FIG_ROOT, MIDRES_ROOT\n",
    "from default_paras import def_paras\n",
    "\n",
    "from hdf_utils.data_gen import gen_covs, gen_simu_psd, gen_simu_ts\n",
    "from hdf_utils.fns import fn1, fn2, fn3, fn4, fn5, zero_fn\n",
    "from hdf_utils.fns_sinica import coef_fn, fourier_basis_fn, gen_sini_Xthetas\n",
    "from hdf_utils.likelihood import obt_lin_tm\n",
    "from hdf_utils.SIS import SIS_linear, SIS_ballcor\n",
    "from hdf_utils.utils import gen_lam_seq\n",
    "from hdf_utils.hypo_test import  MS2idxs, obt_test_stat_simple2\n",
    "from utils.matrix import col_vec_fn, col_vec2mat_fn, conju_grad, svd_inverse, cholesky_inv, gen_Dmat \n",
    "from utils.functions import logit_fn\n",
    "from utils.misc import save_pkl, load_pkl, bcross_entropy_loss\n",
    "from splines import obt_bsp_obasis_Rfn, obt_bsp_basis_Rfn_wrapper\n",
    "from projection import euclidean_proj_l1ball\n",
    "from optimization.one_step_opt import OneStepOpt\n",
    "from optimization.cross_validation import CV_err_logi_fn\n",
    "from optimization.opt import optimization\n",
    "from penalties.scad_pen import SCAD\n",
    "from models.logistic_model import LogisticModel\n",
    "from optimization.variable_selection import GIC_fn, GCV_fn\n",
    "\n",
    "from joblib import Parallel, delayed"
   ]
  },
  {
   "cell_type": "code",
   "execution_count": 5,
   "id": "fe0a4a46",
   "metadata": {
    "ExecuteTime": {
     "end_time": "2023-05-31T19:57:59.621784Z",
     "start_time": "2023-05-31T19:57:59.568097Z"
    },
    "execution": {
     "iopub.execute_input": "2023-11-15T03:46:01.246809Z",
     "iopub.status.busy": "2023-11-15T03:46:01.246109Z",
     "iopub.status.idle": "2023-11-15T03:46:01.288535Z",
     "shell.execute_reply": "2023-11-15T03:46:01.287601Z",
     "shell.execute_reply.started": "2023-11-15T03:46:01.246759Z"
    },
    "tags": []
   },
   "outputs": [],
   "source": [
    "plt.style.use(FIG_ROOT/\"base.mplstyle\")\n",
    "torch.set_default_tensor_type(torch.DoubleTensor)"
   ]
  },
  {
   "cell_type": "code",
   "execution_count": null,
   "id": "e0cb5a3d-1ab1-4bc0-bfce-d7ebaedb0391",
   "metadata": {},
   "outputs": [],
   "source": []
  },
  {
   "cell_type": "code",
   "execution_count": null,
   "id": "d0af2f35",
   "metadata": {},
   "outputs": [],
   "source": []
  },
  {
   "cell_type": "markdown",
   "id": "dd9c6514",
   "metadata": {},
   "source": [
    "# Param and fns"
   ]
  },
  {
   "cell_type": "code",
   "execution_count": null,
   "id": "a10d559c-8d6a-428a-bdb9-23c0a5aac96b",
   "metadata": {},
   "outputs": [],
   "source": []
  },
  {
   "cell_type": "markdown",
   "id": "21e4ccea",
   "metadata": {},
   "source": [
    "## Params"
   ]
  },
  {
   "cell_type": "code",
   "execution_count": 84,
   "id": "fd29f0de",
   "metadata": {
    "ExecuteTime": {
     "end_time": "2023-05-31T23:31:16.397628Z",
     "start_time": "2023-05-31T23:31:16.221812Z"
    },
    "execution": {
     "iopub.execute_input": "2023-11-15T04:16:06.500436Z",
     "iopub.status.busy": "2023-11-15T04:16:06.499782Z",
     "iopub.status.idle": "2023-11-15T04:16:06.651477Z",
     "shell.execute_reply": "2023-11-15T04:16:06.650426Z",
     "shell.execute_reply.started": "2023-11-15T04:16:06.500387Z"
    },
    "tags": []
   },
   "outputs": [
    {
     "name": "stdout",
     "output_type": "stream",
     "text": [
      "[ 0.          0.          0.          0.          0.          0.\n",
      "  0.          0.          0.          0.          0.          0.\n",
      "  0.          0.          0.          0.          0.          0.\n",
      "  0.          0.          0.          0.          0.          0.\n",
      "  0.          0.          0.          0.          0.          0.\n",
      "  0.          0.          0.          0.          0.          0.\n",
      "  0.          0.          0.          0.          0.          0.\n",
      "  0.          0.          0.          0.          0.          0.\n",
      "  0.         14.87358566]\n"
     ]
    }
   ],
   "source": [
    "np.random.seed(0)\n",
    "#obt_bsp = obt_bsp_obasis_Rfn\n",
    "obt_bsp = obt_bsp_basis_Rfn_wrapper\n",
    "paras = edict(def_paras.copy())\n",
    "\n",
    "\n",
    "\n",
    "# Others\n",
    "paras.num_rep = 200 \n",
    "paras.init_noise_sd = -1 # the sd of the noise added to the true value for initial values, if -1, make init 0\n",
    "paras.SIS_ratio = 0.20 # the ratio to keep with SIS procedure\n",
    "paras.linear_theta_update=\"cholesky_inv\"\n",
    "\n",
    "# candidate sets of tuning parameters, only two \n",
    "# lambda: penalty term\n",
    "# N: num of basis\n",
    "paras.can_lams = [0.01, 0.1, 0.2, 0.3, 0.4, 0.6, 1, 2, 8] # for non\n",
    "paras.can_lams = [0.001, 0.3, 0.6, 0.8, 1, 1.2, 1.4, 2, 16] # for orthogonal basis\n",
    "paras.can_Ns = [4, 6, 8]\n",
    "\n",
    "\n",
    "# generating dataset\n",
    "paras.n = 200 # num of data obs to be genareted\n",
    "paras.npts = 100 # num of pts to evaluate X(s)\n",
    "paras.d = 50 # num of ROIs\n",
    "paras.q = 3 # num of other covariates\n",
    "paras.types_ = [\"int\", \"c\", \"c\"]\n",
    "paras.srho = 0.3 # corr from sinica\n",
    "\n",
    "# b-spline\n",
    "paras.x = np.linspace(0, 1, paras.npts)\n",
    "paras.basis_mats = []\n",
    "for N in paras.can_Ns:\n",
    "    paras.basis_mats.append(\n",
    "        torch.tensor(obt_bsp(paras.x, N, paras.ord)).to(torch.get_default_dtype())\n",
    "    )\n",
    "\n",
    "# True parameters\n",
    "paras.alp_GT = np.array([3, -1, 5])\n",
    "# fourier basis\n",
    "cs = [0.0, 0.0, 0.0] # for sinica paper\n",
    "paras.fourier_basis = fourier_basis_fn(paras.x)[:, :]\n",
    "paras.fourier_basis_coefs = ([cs[0]*coef_fn(0.2), cs[1]*coef_fn(0.2), cs[2]*coef_fn(0.2)] + \n",
    "                             [np.zeros(50)] * (paras.d-3-1) +\n",
    "                             [coef_fn(0.2)]\n",
    "                             )\n",
    "paras.fourier_basis_coefs = np.array(paras.fourier_basis_coefs).T \n",
    "paras.beta_GT = paras.fourier_basis @ paras.fourier_basis_coefs\n",
    "print(np.linalg.norm(paras.beta_GT, axis=0))\n",
    "\n",
    "paras.Gam_GT_ests = [(np.linalg.inv(basis_mat.numpy().T \n",
    "                                  @ basis_mat.numpy()) \n",
    "                                  @ basis_mat.numpy().T \n",
    "                                  @ paras.beta_GT) \n",
    "                     for basis_mat in paras.basis_mats]\n",
    "\n",
    "# optimization\n",
    "# not used, to use it, you have to know GT\n",
    "#Rmins = [(2*(np.linalg.norm(paras.Gam_GT_ests[ix]\n",
    "#                            /np.sqrt(paras.can_Ns[ix]), axis=0).sum() \n",
    "#           + np.abs(paras.alp_GT).sum())) \n",
    "#        for ix in range(len(paras.can_Ns))]\n",
    "#paras.Rmin = np.max(Rmins)\n",
    "paras.Rmin = 100000\n",
    "paras.Rfct = 2\n",
    "paras.stop_cv = 5e-4\n",
    "paras.max_iter = 10000\n",
    "paras.num_cv_fold = 5\n",
    "\n",
    "paras.NR_eps = 1e-4 # the stop criteria for Newton-Ralpson method, only for logistic model\n",
    "paras.NR_maxit = 100\n",
    "\n",
    "paras.cv_is_center = True\n",
    "paras.cv_SIS_ratio = 0.2\n",
    "paras.cv_SIS_pen = 1\n",
    "paras.cv_SIS_basis_mat = torch.tensor(obt_bsp(paras.x, 6, paras.ord)).to(torch.get_default_dtype())\n",
    "paras.num_cv_fold = 5\n",
    "paras.cv_init_noise_sd = -1\n",
    "\n",
    "\n",
    "# hypothesis test\n",
    "#without loss of generality, we assume the idxs in M is the first m betas\n",
    "paras.sel_idx = np.arange(1, paras.d) # M^c set, \n",
    "paras.M_idxs = np.delete(np.arange(paras.d), paras.sel_idx) # the M set\n",
    "paras.Cmats = [\n",
    "    np.eye(len(paras.M_idxs)), # m x m I matrix, [beta1, beta2] = [0, 0]\n",
    "]\n",
    "paras.svdinv_eps_Q = 1e-7 # now 0 means inverse, small value like 0.01 means remove small eig vals.\n",
    "paras.svdinv_eps_Psi = 1e-7\n",
    "\n",
    "paras.save_dir = RES_ROOT/\"simu_linear_sinica_samebetaX_tmp\"\n",
    "if not paras.save_dir.exists():\n",
    "    paras.save_dir.mkdir()"
   ]
  },
  {
   "cell_type": "code",
   "execution_count": null,
   "id": "b2111295-b7e5-412e-928a-cc0d9cee2083",
   "metadata": {},
   "outputs": [],
   "source": []
  },
  {
   "cell_type": "markdown",
   "id": "66c2f90f",
   "metadata": {
    "ExecuteTime": {
     "end_time": "2022-12-08T18:09:55.509389Z",
     "start_time": "2022-12-08T18:09:55.343396Z"
    }
   },
   "source": [
    "## Fns"
   ]
  },
  {
   "cell_type": "code",
   "execution_count": null,
   "id": "1de5567c-6bab-438d-971c-0e40b0c4c53d",
   "metadata": {
    "ExecuteTime": {
     "end_time": "2023-05-31T23:31:24.456489Z",
     "start_time": "2023-05-31T23:31:24.440199Z"
    },
    "code_folding": [],
    "tags": []
   },
   "outputs": [],
   "source": []
  },
  {
   "cell_type": "code",
   "execution_count": 7,
   "id": "0f30b88f",
   "metadata": {
    "ExecuteTime": {
     "end_time": "2023-05-31T23:31:24.456489Z",
     "start_time": "2023-05-31T23:31:24.440199Z"
    },
    "code_folding": [],
    "execution": {
     "iopub.execute_input": "2023-11-15T03:46:01.458616Z",
     "iopub.status.busy": "2023-11-15T03:46:01.458260Z",
     "iopub.status.idle": "2023-11-15T03:46:01.491924Z",
     "shell.execute_reply": "2023-11-15T03:46:01.491472Z",
     "shell.execute_reply.started": "2023-11-15T03:46:01.458587Z"
    },
    "tags": []
   },
   "outputs": [],
   "source": [
    "def _gen_simu_data_all(seed, paras, verbose=False):\n",
    "    \"\"\"\n",
    "    Generate simulated data for all parameters.\n",
    "\n",
    "    Args:\n",
    "        seed (int): Seed for random number generator.\n",
    "        paras (dict): Dictionary containing the following parameters:\n",
    "            - srho: corr from sinica\n",
    "            - fourier_basis: The fourier basis for generating X, npts x nbasis\n",
    "            - n (int): Number of samples.\n",
    "            - d (int): Number of dimensions.\n",
    "            - q (int): Number of covariates.\n",
    "            - types_ (list): List of types for generating covariates.\n",
    "            - alp_GT (list): List of ground truth alpha values.\n",
    "            - beta_GT (list): List of ground truth beta values.\n",
    "            - freqs (list): List of frequencies for generating simulated PSD.\n",
    "            - sigma2 (float): Variance of the noise.\n",
    "        verbose(bool): Verbose or not\n",
    "\n",
    "    Returns:\n",
    "        all_data (dict): Dictionary containing the following simulated data:\n",
    "            - X (torch.Tensor): Tensor of shape (n, d, npts) containing the simulated PSD.\n",
    "            - Y (torch.Tensor): Tensor of shape (n,) containing the response variable.\n",
    "            - Z (torch.Tensor): Tensor of shape (n, q) containing the covariates.\n",
    "    \"\"\"\n",
    "    torch.set_default_tensor_type(torch.DoubleTensor)\n",
    "    np.random.seed(seed)\n",
    "    _paras = edict(paras.copy())\n",
    "    # simulated PSD\n",
    "    assert len(_paras.types_) == _paras.q\n",
    "    assert len(_paras.alp_GT) == _paras.q\n",
    "    con_idxs = [typ ==\"c\" for typ in _paras.types_]\n",
    "   \n",
    "    thetas = gen_sini_Xthetas(_paras.srho, _paras.n, _paras.d);\n",
    "    simu_curvs = thetas @ _paras.fourier_basis.T; # n x d x npts\n",
    "    #simu_curvs = np.random.randn(_paras.n, _paras.d, _paras.npts)*10\n",
    "    simu_covs = gen_covs(_paras.n, _paras.types_)\n",
    "    \n",
    "    # linear term and Y\n",
    "    int_part = np.sum(_paras.beta_GT.T* simu_curvs[:, :, :], axis=1).mean(axis=1)\n",
    "    cov_part = simu_covs @ _paras.alp_GT \n",
    "    \n",
    "    # linear term\n",
    "    lin_term = cov_part + int_part\n",
    "    probs = logit_fn(lin_term)\n",
    "    \n",
    "    # Y \n",
    "    Y = np.random.binomial(1, probs, size=len(probs))\n",
    "    \n",
    "    X_centered = simu_curvs - simu_curvs.mean(axis=0, keepdims=True)\n",
    "    # this step is not necessary for simulation as I did so in generating data step\n",
    "    # but for real data, plz do this\n",
    "    Z_std = simu_covs.copy()\n",
    "    Z_std[:, con_idxs] = (simu_covs[:, con_idxs] - simu_covs[:, con_idxs].mean(axis=0, keepdims=True))/simu_covs[:, con_idxs].std(axis=0, keepdims=True)\n",
    "    \n",
    "    \n",
    "    # To torch\n",
    "    X = torch.Tensor(X_centered) # n x d x npts\n",
    "    Z = torch.Tensor(Z_std) # n x q\n",
    "    Y = torch.Tensor(Y)\n",
    "    \n",
    "    all_data = edict()\n",
    "    all_data.X = X\n",
    "    all_data.Y = Y\n",
    "    all_data.Z = Z\n",
    "    all_data.lin_term = lin_term\n",
    "    return all_data"
   ]
  },
  {
   "cell_type": "code",
   "execution_count": null,
   "id": "2cac7402-45d2-4d85-8ecf-d91b9f3028fe",
   "metadata": {},
   "outputs": [],
   "source": []
  },
  {
   "cell_type": "markdown",
   "id": "ee0de6a8-ca63-437c-b278-84ab4dc50a0a",
   "metadata": {},
   "source": [
    "# Simu"
   ]
  },
  {
   "cell_type": "markdown",
   "id": "818e50cf-d531-4cea-b8d8-99cf671ec8ea",
   "metadata": {},
   "source": [
    "## In one step"
   ]
  },
  {
   "cell_type": "code",
   "execution_count": 13,
   "id": "a9d60de1-29c4-464a-b7e3-f13e6c5eea03",
   "metadata": {
    "execution": {
     "iopub.execute_input": "2023-11-15T03:47:49.661535Z",
     "iopub.status.busy": "2023-11-15T03:47:49.660891Z",
     "iopub.status.idle": "2023-11-15T03:47:52.228637Z",
     "shell.execute_reply": "2023-11-15T03:47:52.227566Z",
     "shell.execute_reply.started": "2023-11-15T03:47:49.661489Z"
    },
    "tags": []
   },
   "outputs": [
    {
     "data": {
      "text/plain": [
       "<penalties.scad_pen.SCAD at 0x7fb5aff41ac0>"
      ]
     },
     "execution_count": 13,
     "metadata": {},
     "output_type": "execute_result"
    }
   ],
   "source": [
    "_paras = edict(paras.copy())\n",
    "_paras.Rv = _paras.Rfct * _paras.Rmin\n",
    "_paras.seed = 0\n",
    "_paras.lam = 0.2\n",
    "_paras.N = 8\n",
    "_paras.basis_mat = _paras.basis_mats[_paras.can_Ns.index(_paras.N)]\n",
    "_paras.Gam_GT_est = paras.Gam_GT_ests[_paras.can_Ns.index(_paras.N)]\n",
    "cur_data = _gen_simu_data_all(_paras.seed, _paras)\n",
    "    \n",
    "res = edict()\n",
    "keep_idxs, _  = SIS_ballcor(cur_data.Y, cur_data.X, _paras.sel_idx, _paras.SIS_ratio)\n",
    "M_idxs = np.delete(np.arange(_paras.d), _paras.sel_idx)\n",
    "_paras.keep_idxs = np.sort(np.concatenate([M_idxs, keep_idxs]))\n",
    "                    \n",
    "_paras.sel_idx_SIS = np.where(np.array([keep_idx in _paras.sel_idx for keep_idx in _paras.keep_idxs]))[0]\n",
    "_paras.d_SIS = len(_paras.keep_idxs)\n",
    "                \n",
    "cur_data_SIS = edict(cur_data.copy())\n",
    "cur_data_SIS.X = cur_data.X[:, _paras.keep_idxs, :]\n",
    "                \n",
    "                \n",
    "alp_init = torch.zeros(_paras.q)\n",
    "Gam_init = torch.zeros(_paras.N, _paras.d_SIS)\n",
    "theta_init = torch.cat([alp_init, col_vec_fn(Gam_init)/np.sqrt(_paras.N)])\n",
    "rhok_init = torch.zeros(_paras.d_SIS*_paras.N)\n",
    "            \n",
    "model = LogisticModel(Y=cur_data_SIS.Y, \n",
    "                              X=cur_data_SIS.X, \n",
    "                              Z=cur_data_SIS.Z, \n",
    "                              basis_mat=_paras.basis_mat)\n",
    "pen = SCAD(lams=_paras.lam, a=_paras.a,  sel_idx=_paras.sel_idx_SIS)"
   ]
  },
  {
   "cell_type": "code",
   "execution_count": 18,
   "id": "bc2e1483-45b4-406b-a020-5cab9be620c4",
   "metadata": {
    "execution": {
     "iopub.execute_input": "2023-11-15T03:48:39.611820Z",
     "iopub.status.busy": "2023-11-15T03:48:39.611189Z",
     "iopub.status.idle": "2023-11-15T03:48:39.744045Z",
     "shell.execute_reply": "2023-11-15T03:48:39.742895Z",
     "shell.execute_reply.started": "2023-11-15T03:48:39.611771Z"
    },
    "tags": []
   },
   "outputs": [],
   "source": [
    "def _update_theta_NR(thetak, rhok, Gamk, model, paras):\n",
    "    \"\"\"First step of optimization, update theta \n",
    "           This step can be slow\n",
    "    \"\"\"\n",
    "    paras = edict(paras.copy())\n",
    "    D = gen_Dmat(paras.d_SIS, paras.N, paras.q)\n",
    "    thetal = thetak\n",
    "    alpl = thetal[:paras.q]\n",
    "    Gaml = col_vec2mat_fn(thetal[paras.q:], nrow=paras.N)*np.sqrt(paras.N)\n",
    "    for ix in range(paras.N_maxit):\n",
    "        der1_p1 = -model.log_lik_der1(alpl, Gaml)\n",
    "        der1_p2 = -D.T @ rhok\n",
    "        der1_p3 = paras.beta * (D.T@D@thetal - D.T@col_vec_fn(Gamk)/np.sqrt(paras.N))\n",
    "        der1 = der1_p1 + der1_p2 + der1_p3\n",
    "            \n",
    "        der2_p1 = -model.log_lik_der2(alpl, Gaml)\n",
    "        der2_p2 = paras.beta * D.T @ D \n",
    "        der2 = der2_p1 + der2_p2 \n",
    "            \n",
    "        theta_last = thetal.clone()\n",
    "        #der2_inv = svd_inverse(der2)\n",
    "        der2_inv = torch.linalg.pinv(der2, hermitian=True, rtol=1e-7)\n",
    "        thetal = theta_last - der2_inv @ der1 # update \n",
    "        alpl = thetal[:paras.q]\n",
    "        Gaml = col_vec2mat_fn(thetal[paras.q:], nrow=paras.N)*np.sqrt(paras.N)\n",
    "            \n",
    "        stop_cv = torch.norm(thetal-theta_last)/torch.norm(thetal)\n",
    "        if stop_cv <= paras.N_eps:\n",
    "            break\n",
    "    if ix == (paras.N_maxit-1):\n",
    "        print(\"The NR algorithm may not converge\")\n",
    "    return thetal, ix"
   ]
  },
  {
   "cell_type": "code",
   "execution_count": 19,
   "id": "c6ba407c-fedb-4c5b-ba1a-814ce5f7f6ba",
   "metadata": {
    "execution": {
     "iopub.execute_input": "2023-11-15T03:48:40.292651Z",
     "iopub.status.busy": "2023-11-15T03:48:40.291966Z",
     "iopub.status.idle": "2023-11-15T03:48:40.339791Z",
     "shell.execute_reply": "2023-11-15T03:48:40.339067Z",
     "shell.execute_reply.started": "2023-11-15T03:48:40.292604Z"
    },
    "tags": []
   },
   "outputs": [],
   "source": [
    "def _update_theta_BFGS(thetak, rhok, Gamk, model, paras):\n",
    "    def _obj_fn(thetalk):\n",
    "        alplk = thetalk[:paras.q]\n",
    "        Gamlk = col_vec2mat_fn(thetalk[paras.q:], nrow=paras.N)*np.sqrt(paras.N)\n",
    "        der0_p1 = -model.log_lik(alplk, Gamlk)\n",
    "        der0_p2 = - rhok @ (D @ thetalk - col_vec_fn(Gamk)/np.sqrt(paras.N))\n",
    "        der0_p3 = paras.beta * torch.norm(D @ thetalk - col_vec_fn(Gamk)/np.sqrt(paras.N), p=2)**2/2\n",
    "        der0 = der0_p1 + der0_p2 + der0_p3\n",
    "        return der0\n",
    "    \n",
    "    def _obj_fn_der1(thetalk):\n",
    "        alplk = thetalk[:paras.q]\n",
    "        Gamlk = col_vec2mat_fn(thetalk[paras.q:], nrow=paras.N)*np.sqrt(paras.N)\n",
    "        der1_p1 = -model.log_lik_der1(alplk, Gamlk)\n",
    "        der1_p2 = -D.T @ rhok\n",
    "        der1_p3 = paras.beta * (D.T@D@thetalk - D.T@col_vec_fn(Gamk)/np.sqrt(paras.N))\n",
    "        der1 = der1_p1 + der1_p2 + der1_p3\n",
    "        return der1\n",
    "    \n",
    "    def _obj_fn_der2(thetalk):\n",
    "        alplk = thetalk[:paras.q]\n",
    "        Gamlk = col_vec2mat_fn(thetalk[paras.q:], nrow=paras.N)*np.sqrt(paras.N)\n",
    "        der2_p1 = -model.log_lik_der2(alplk, Gamlk)\n",
    "        der2_p2 = paras.beta * D.T @ D \n",
    "        der2 = der2_p1 + der2_p2 \n",
    "        return der2\n",
    "    \n",
    "    def _wolfe_cond_check(stepsizel, c1=1e-4, c2=0.9):\n",
    "        left1 = _obj_fn(thetal+stepsizel*dlt_thetal_raw)-_obj_fn(thetal)\n",
    "        right1 = c1*stepsizel*dlt_thetal_raw @ der1\n",
    "        \n",
    "        left2 = - dlt_thetal_raw @ _obj_fn_der1(thetal+stepsizel*dlt_thetal_raw)\n",
    "        right2 = -c2* dlt_thetal_raw @ der1\n",
    "        return (left1 <= right1).float() +  (left2 <= right2).float()\n",
    "    \n",
    "    paras = edict(paras.copy())\n",
    "    D = gen_Dmat(paras.d_SIS, paras.N, paras.q)\n",
    "    \n",
    "    # initial\n",
    "    thetal = thetak\n",
    "    der1 = _obj_fn_der1(thetal)\n",
    "    stepsizel = 1\n",
    "    Binvl = torch.eye(thetal.shape[0])\n",
    "    #Binvl = svd_inverse(_obj_fn_der2(thetal))\n",
    "    for ix in range(paras.N_maxit):\n",
    "        # get move step \n",
    "        dlt_thetal = - stepsizel * Binvl @ der1\n",
    "        \n",
    "        # stop criterion \n",
    "        stop_cv = torch.norm(dlt_thetal)/torch.norm(thetal)\n",
    "        if (stop_cv <= paras.N_eps) and (ix >=2):\n",
    "            break\n",
    "            \n",
    "        # get new thetal\n",
    "        thetal = thetal + dlt_thetal\n",
    "        \n",
    "        \n",
    "        # save old der1\n",
    "        der1_last = der1.clone()\n",
    "        \n",
    "        # new der1\n",
    "        der1 = _obj_fn_der1(thetal)\n",
    "        \n",
    "        # yl\n",
    "        yl = der1 - der1_last\n",
    "        \n",
    "        # get new Binvl\n",
    "        Binvl_p1 = torch.eye(thetal.shape[0]) - torch.outer(dlt_thetal, yl)/(torch.inner(dlt_thetal, yl))\n",
    "        Binvl_p2 = torch.outer(dlt_thetal, dlt_thetal)/(torch.inner(dlt_thetal, yl))\n",
    "        Binvl = Binvl_p1 @ Binvl @ Binvl_p1.T + Binvl_p2\n",
    "        #Binvl = svd_inverse(_obj_fn_der2(thetal))\n",
    "        \n",
    "        # get step size\n",
    "        dlt_thetal_raw = -Binvl @ der1\n",
    "        can_stepsizes = torch.linspace(1e-4, 5, 10)\n",
    "        obj_fns = [_obj_fn(thetal+can_stepsize*dlt_thetal_raw).item() for can_stepsize in can_stepsizes]\n",
    "        stepsizel = can_stepsizes[np.argmin(obj_fns)]\n",
    "        #stepsizel = 1\n",
    "        \n",
    "        if False:\n",
    "            _wolfe_cond_check(stepsizel)\n",
    "    \n",
    "    if ix == (paras.N_maxit-1):\n",
    "        print(\"The BGFS algorithm may not converge\")\n",
    "    return thetal, ix"
   ]
  },
  {
   "cell_type": "code",
   "execution_count": 59,
   "id": "ede4ed22-6b23-491e-b030-82a166a7218f",
   "metadata": {
    "execution": {
     "iopub.execute_input": "2023-11-14T03:52:05.789474Z",
     "iopub.status.busy": "2023-11-14T03:52:05.788900Z",
     "iopub.status.idle": "2023-11-14T03:52:16.314615Z",
     "shell.execute_reply": "2023-11-14T03:52:16.314174Z",
     "shell.execute_reply.started": "2023-11-14T03:52:05.789429Z"
    },
    "tags": []
   },
   "outputs": [
    {
     "name": "stdout",
     "output_type": "stream",
     "text": [
      "129 ms ± 5.79 ms per loop (mean ± std. dev. of 7 runs, 10 loops each)\n"
     ]
    }
   ],
   "source": [
    "%timeit resNR = _update_theta_NR(theta_init, rhok_init, Gam_init, model, _paras);"
   ]
  },
  {
   "cell_type": "code",
   "execution_count": 60,
   "id": "1a98f809-b911-43a3-9537-dfcea1a777ec",
   "metadata": {
    "execution": {
     "iopub.execute_input": "2023-11-14T03:52:16.315580Z",
     "iopub.status.busy": "2023-11-14T03:52:16.315324Z",
     "iopub.status.idle": "2023-11-14T03:52:20.115630Z",
     "shell.execute_reply": "2023-11-14T03:52:20.115189Z",
     "shell.execute_reply.started": "2023-11-14T03:52:16.315564Z"
    },
    "tags": []
   },
   "outputs": [
    {
     "name": "stdout",
     "output_type": "stream",
     "text": [
      "46.7 ms ± 75.7 µs per loop (mean ± std. dev. of 7 runs, 10 loops each)\n"
     ]
    }
   ],
   "source": [
    "%timeit resQN = _update_theta_BFGS(theta_init, rhok_init, Gam_init, model, _paras);"
   ]
  },
  {
   "cell_type": "code",
   "execution_count": 20,
   "id": "1b583e95-5f1a-44b0-adba-7e1bd5980c37",
   "metadata": {
    "execution": {
     "iopub.execute_input": "2023-11-15T03:48:42.616246Z",
     "iopub.status.busy": "2023-11-15T03:48:42.615636Z",
     "iopub.status.idle": "2023-11-15T03:48:42.953546Z",
     "shell.execute_reply": "2023-11-15T03:48:42.952978Z",
     "shell.execute_reply.started": "2023-11-15T03:48:42.616199Z"
    },
    "tags": []
   },
   "outputs": [],
   "source": [
    "resNR = _update_theta_NR(theta_init, rhok_init, Gam_init, model, _paras);\n",
    "resQN = _update_theta_BFGS(theta_init, rhok_init, Gam_init, model, _paras);"
   ]
  },
  {
   "cell_type": "code",
   "execution_count": 21,
   "id": "605a4ec3-93e0-4824-a2a9-9e1ca705f355",
   "metadata": {
    "execution": {
     "iopub.execute_input": "2023-11-15T03:48:43.526855Z",
     "iopub.status.busy": "2023-11-15T03:48:43.526262Z",
     "iopub.status.idle": "2023-11-15T03:48:43.711903Z",
     "shell.execute_reply": "2023-11-15T03:48:43.711492Z",
     "shell.execute_reply.started": "2023-11-15T03:48:43.526808Z"
    },
    "tags": []
   },
   "outputs": [
    {
     "data": {
      "text/plain": [
       "[<matplotlib.lines.Line2D at 0x7fb6389c9910>]"
      ]
     },
     "execution_count": 21,
     "metadata": {},
     "output_type": "execute_result"
    },
    {
     "data": {
      "image/png": "[encoded data removed]",
      "text/plain": [
       "<Figure size 432x288 with 1 Axes>"
      ]
     },
     "metadata": {
      "needs_background": "light"
     },
     "output_type": "display_data"
    }
   ],
   "source": [
    "plt.plot(resNR[0], resQN[0], \".\")\n",
    "x = np.linspace(-1, 1, 100)\n",
    "plt.plot(x, x, color=\"red\")"
   ]
  },
  {
   "cell_type": "code",
   "execution_count": null,
   "id": "e5ffacc7-576c-4290-a70a-2dc6cd4055fc",
   "metadata": {},
   "outputs": [],
   "source": []
  },
  {
   "cell_type": "markdown",
   "id": "79dc7327-e282-481b-b84f-e241df23f6dc",
   "metadata": {},
   "source": [
    "## IN the whole procedure"
   ]
  },
  {
   "cell_type": "code",
   "execution_count": null,
   "id": "9a10fda8-f83b-4470-91ac-186007cdbff6",
   "metadata": {},
   "outputs": [],
   "source": []
  },
  {
   "cell_type": "code",
   "execution_count": 85,
   "id": "cd54b8dc-d1fb-4ef5-9c5c-6aeafc4881d2",
   "metadata": {
    "execution": {
     "iopub.execute_input": "2023-11-15T04:16:09.280488Z",
     "iopub.status.busy": "2023-11-15T04:16:09.279845Z",
     "iopub.status.idle": "2023-11-15T04:16:09.328665Z",
     "shell.execute_reply": "2023-11-15T04:16:09.327644Z",
     "shell.execute_reply.started": "2023-11-15T04:16:09.280439Z"
    },
    "scrolled": true,
    "tags": []
   },
   "outputs": [],
   "source": [
    "\n",
    "def _run_fn(seed, lam, N, paras, verbose=False):\n",
    "    _paras = edict(paras.copy())\n",
    "    _paras.Rv = _paras.Rfct * _paras.Rmin\n",
    "    _paras.seed = seed\n",
    "    _paras.lam = lam\n",
    "    _paras.N = N\n",
    "    _paras.basis_mat = _paras.basis_mats[_paras.can_Ns.index(N)]\n",
    "    _paras.Gam_GT_est = paras.Gam_GT_ests[_paras.can_Ns.index(N)]\n",
    "    cur_data = _gen_simu_data_all(_paras.seed, _paras)\n",
    "    \n",
    "    f_name = f\"seed_{seed:.0f}-lam_{lam*1000:.0f}-N_{N:.0f}-c1_{cs[0]*1000:.0f}_estfasf.pkl\"\n",
    "        \n",
    "    res = edict()\n",
    "    if not (_paras.save_dir/f_name).exists():\n",
    "        if _paras.SIS_ratio < 1:\n",
    "            keep_idxs, _  = SIS_ballcor(cur_data.Y, cur_data.X, _paras.sel_idx, _paras.SIS_ratio)\n",
    "        else:\n",
    "            keep_idxs = _paras.sel_idx\n",
    "        M_idxs = np.delete(np.arange(_paras.d), _paras.sel_idx)\n",
    "        _paras.keep_idxs = np.sort(np.concatenate([M_idxs, keep_idxs]))\n",
    "                    \n",
    "        _paras.sel_idx_SIS = np.where(np.array([keep_idx in _paras.sel_idx for keep_idx in _paras.keep_idxs]))[0]\n",
    "        _paras.d_SIS = len(_paras.keep_idxs)\n",
    "                \n",
    "        cur_data_SIS = edict(cur_data.copy())\n",
    "        cur_data_SIS.X = cur_data.X[:, _paras.keep_idxs, :]\n",
    "                \n",
    "                \n",
    "        if _paras.init_noise_sd < 0:\n",
    "            alp_init = torch.zeros(_paras.q)\n",
    "            Gam_init = torch.zeros(_paras.N, _paras.d_SIS)\n",
    "            theta_init = torch.cat([alp_init, col_vec_fn(Gam_init)/np.sqrt(_paras.N)])\n",
    "            rhok_init = torch.zeros(_paras.d_SIS*_paras.N)\n",
    "        else:\n",
    "            alp_init = torch.Tensor(_paras.alp_GT) + torch.randn(_paras.q)*_paras.init_noise_sd\n",
    "            Gam_init = torch.Tensor(_paras.Gam_GT_est[:, _paras.keep_idxs]) + torch.randn(_paras.N, _paras.d_SIS)*_paras.init_noise_sd\n",
    "            theta_init = torch.cat([alp_init, col_vec_fn(Gam_init)/np.sqrt(_paras.N)])\n",
    "            rhok_init = torch.randn(_paras.d_SIS*_paras.N)\n",
    "            \n",
    "        model = LogisticModel(Y=cur_data_SIS.Y, \n",
    "                              X=cur_data_SIS.X, \n",
    "                              Z=cur_data_SIS.Z, \n",
    "                              basis_mat=_paras.basis_mat)\n",
    "        pen = SCAD(lams=_paras.lam, a=_paras.a,  sel_idx=_paras.sel_idx_SIS)\n",
    "                    \n",
    "                \n",
    "        main_res = optimization(model=model, \n",
    "                                penalty=pen, \n",
    "                                inits=[alp_init, Gam_init, theta_init, rhok_init],\n",
    "                                is_prg=verbose,\n",
    "                                save_paras=False,    \n",
    "                                input_paras=_paras)\n",
    "        opt = main_res[0]\n",
    "        est_beta = (_paras.basis_mat @ opt.Gamk).numpy()\n",
    "        \n",
    "        est_Gam = opt.Gamk\n",
    "        est_alp = opt.alpk\n",
    "        Q_mat = -model.log_lik_der2(est_alp, est_Gam)\n",
    "        model.log_lik_der1(est_alp, est_Gam);\n",
    "        Sig_mat = (model.log_lik_der1_vs.unsqueeze(-1) * model.log_lik_der1_vs.unsqueeze(1)).mean(axis=0) \n",
    "        est_theta = torch.cat([est_alp, col_vec_fn(est_Gam)/np.sqrt(_paras.N)])\n",
    "        nonzero_idxs = torch.nonzero(torch.norm(est_Gam, dim=0)).reshape(-1).numpy()\n",
    "        MS_unions = np.sort(np.union1d(_paras.M_idxs, nonzero_idxs))\n",
    "        keep_idxs_test = MS2idxs(_paras.q, _paras.N, MS_unions)\n",
    "        Q_mat_part = Q_mat[keep_idxs_test][:, keep_idxs_test]\n",
    "        Sig_mat_part = Sig_mat[keep_idxs_test][:, keep_idxs_test]\n",
    "        \n",
    "        res._paras = _paras\n",
    "        res.Q_mat_part = Q_mat_part\n",
    "        res.Sig_mat_part = Sig_mat_part\n",
    "        res.est_alp = est_alp\n",
    "        res.est_Gam = est_Gam\n",
    "        \n",
    "        \n",
    "    return res"
   ]
  },
  {
   "cell_type": "code",
   "execution_count": 86,
   "id": "121d8c10-1d45-463a-93cc-26f5d5069ffe",
   "metadata": {
    "execution": {
     "iopub.execute_input": "2023-11-15T04:16:11.050336Z",
     "iopub.status.busy": "2023-11-15T04:16:11.049696Z",
     "iopub.status.idle": "2023-11-15T04:16:14.228493Z",
     "shell.execute_reply": "2023-11-15T04:16:14.228093Z",
     "shell.execute_reply.started": "2023-11-15T04:16:11.050285Z"
    },
    "scrolled": true,
    "tags": []
   },
   "outputs": [
    {
     "name": "stderr",
     "output_type": "stream",
     "text": [
      "  9%|████████▎                                                                                        | 862/10000 [00:02<00:27, 337.97it/s, error=0.000501, GamL0=1, CV=0.0005]\n"
     ]
    }
   ],
   "source": [
    "paras.is_BFGS = False\n",
    "res1  = _run_fn(seed=1, lam=0.05, N=4, paras=paras, verbose=True);"
   ]
  },
  {
   "cell_type": "code",
   "execution_count": 92,
   "id": "79dd9a36-1ed3-44a0-bd92-29ef691b1006",
   "metadata": {
    "execution": {
     "iopub.execute_input": "2023-11-15T04:16:34.903693Z",
     "iopub.status.busy": "2023-11-15T04:16:34.902871Z",
     "iopub.status.idle": "2023-11-15T04:16:51.930111Z",
     "shell.execute_reply": "2023-11-15T04:16:51.929530Z",
     "shell.execute_reply.started": "2023-11-15T04:16:34.903639Z"
    },
    "scrolled": true,
    "tags": []
   },
   "outputs": [
    {
     "name": "stderr",
     "output_type": "stream",
     "text": [
      "  9%|████████▎                                                                                        | 862/10000 [00:01<00:17, 530.92it/s, error=0.000501, GamL0=1, CV=0.0005]\n",
      "  9%|████████▎                                                                                        | 862/10000 [00:01<00:16, 566.39it/s, error=0.000501, GamL0=1, CV=0.0005]\n",
      "  9%|████████▎                                                                                        | 862/10000 [00:01<00:15, 593.84it/s, error=0.000501, GamL0=1, CV=0.0005]\n",
      "  9%|████████▎                                                                                        | 862/10000 [00:01<00:16, 565.71it/s, error=0.000501, GamL0=1, CV=0.0005]\n",
      "  9%|████████▎                                                                                        | 862/10000 [00:01<00:16, 564.41it/s, error=0.000501, GamL0=1, CV=0.0005]\n",
      "  9%|████████▎                                                                                        | 862/10000 [00:01<00:15, 572.67it/s, error=0.000501, GamL0=1, CV=0.0005]\n",
      "  9%|████████▎                                                                                        | 862/10000 [00:01<00:15, 571.86it/s, error=0.000501, GamL0=1, CV=0.0005]\n",
      "  9%|████████▎                                                                                        | 862/10000 [00:01<00:16, 560.89it/s, error=0.000501, GamL0=1, CV=0.0005]"
     ]
    },
    {
     "name": "stdout",
     "output_type": "stream",
     "text": [
      "2.11 s ± 30 ms per loop (mean ± std. dev. of 7 runs, 1 loop each)\n"
     ]
    },
    {
     "name": "stderr",
     "output_type": "stream",
     "text": [
      "\n"
     ]
    }
   ],
   "source": [
    "paras.is_BFGS = True\n",
    "%timeit res2  = _run_fn(seed=1, lam=0.05, N=4, paras=paras, verbose=True);"
   ]
  },
  {
   "cell_type": "code",
   "execution_count": 94,
   "id": "aa4c5c53-7638-4e48-af31-8dce4437130d",
   "metadata": {
    "execution": {
     "iopub.execute_input": "2023-11-15T04:18:48.021858Z",
     "iopub.status.busy": "2023-11-15T04:18:48.021281Z",
     "iopub.status.idle": "2023-11-15T04:19:05.606647Z",
     "shell.execute_reply": "2023-11-15T04:19:05.606066Z",
     "shell.execute_reply.started": "2023-11-15T04:18:48.021810Z"
    },
    "scrolled": true,
    "tags": []
   },
   "outputs": [
    {
     "name": "stderr",
     "output_type": "stream",
     "text": [
      "  9%|████████▎                                                                                        | 862/10000 [00:01<00:18, 501.70it/s, error=0.000501, GamL0=1, CV=0.0005]\n",
      "  9%|████████▎                                                                                        | 862/10000 [00:01<00:16, 551.73it/s, error=0.000501, GamL0=1, CV=0.0005]\n",
      "  9%|████████▎                                                                                        | 862/10000 [00:01<00:16, 562.87it/s, error=0.000501, GamL0=1, CV=0.0005]\n",
      "  9%|████████▎                                                                                        | 862/10000 [00:01<00:16, 566.41it/s, error=0.000501, GamL0=1, CV=0.0005]\n",
      "  9%|████████▎                                                                                        | 862/10000 [00:01<00:16, 565.70it/s, error=0.000501, GamL0=1, CV=0.0005]\n",
      "  9%|████████▎                                                                                        | 862/10000 [00:01<00:16, 567.76it/s, error=0.000501, GamL0=1, CV=0.0005]\n",
      "  9%|████████▎                                                                                        | 862/10000 [00:01<00:15, 589.72it/s, error=0.000501, GamL0=1, CV=0.0005]\n",
      "  9%|████████▎                                                                                        | 862/10000 [00:01<00:15, 591.72it/s, error=0.000501, GamL0=1, CV=0.0005]"
     ]
    },
    {
     "name": "stdout",
     "output_type": "stream",
     "text": [
      "2.11 s ± 25.5 ms per loop (mean ± std. dev. of 7 runs, 1 loop each)\n"
     ]
    },
    {
     "name": "stderr",
     "output_type": "stream",
     "text": [
      "\n"
     ]
    }
   ],
   "source": [
    "paras.is_BFGS = True\n",
    "%timeit res2  = _run_fn(seed=1, lam=0.05, N=4, paras=paras, verbose=True);"
   ]
  },
  {
   "cell_type": "code",
   "execution_count": 88,
   "id": "8c346a71-6b20-4e7c-b4fe-c2bdd18a2e38",
   "metadata": {
    "execution": {
     "iopub.execute_input": "2023-11-15T04:16:20.003126Z",
     "iopub.status.busy": "2023-11-15T04:16:20.002526Z",
     "iopub.status.idle": "2023-11-15T04:16:20.045535Z",
     "shell.execute_reply": "2023-11-15T04:16:20.044890Z",
     "shell.execute_reply.started": "2023-11-15T04:16:20.003079Z"
    },
    "tags": []
   },
   "outputs": [
    {
     "data": {
      "text/plain": [
       "tensor(0.0003)"
      ]
     },
     "execution_count": 88,
     "metadata": {},
     "output_type": "execute_result"
    }
   ],
   "source": [
    "torch.norm(res1.est_alp - res2.est_alp)/torch.norm(res1.est_alp)"
   ]
  },
  {
   "cell_type": "code",
   "execution_count": 89,
   "id": "65cdfaaa-92a7-4591-b04d-30be2b356b89",
   "metadata": {
    "execution": {
     "iopub.execute_input": "2023-11-15T04:16:20.645617Z",
     "iopub.status.busy": "2023-11-15T04:16:20.644658Z",
     "iopub.status.idle": "2023-11-15T04:16:20.684519Z",
     "shell.execute_reply": "2023-11-15T04:16:20.683855Z",
     "shell.execute_reply.started": "2023-11-15T04:16:20.645570Z"
    },
    "tags": []
   },
   "outputs": [
    {
     "data": {
      "text/plain": [
       "tensor(0.0002)"
      ]
     },
     "execution_count": 89,
     "metadata": {},
     "output_type": "execute_result"
    }
   ],
   "source": [
    "torch.norm(res1.est_Gam - res2.est_Gam)/torch.norm(res1.est_Gam)"
   ]
  },
  {
   "cell_type": "code",
   "execution_count": 90,
   "id": "ee624a2b-7296-4575-b1f5-fcdec50d950e",
   "metadata": {
    "execution": {
     "iopub.execute_input": "2023-11-15T04:16:21.945385Z",
     "iopub.status.busy": "2023-11-15T04:16:21.944629Z",
     "iopub.status.idle": "2023-11-15T04:16:21.984515Z",
     "shell.execute_reply": "2023-11-15T04:16:21.983821Z",
     "shell.execute_reply.started": "2023-11-15T04:16:21.945333Z"
    },
    "tags": []
   },
   "outputs": [
    {
     "data": {
      "text/plain": [
       "tensor([ 2.3634, -0.9962,  3.3454])"
      ]
     },
     "execution_count": 90,
     "metadata": {},
     "output_type": "execute_result"
    }
   ],
   "source": [
    "res1.est_alp"
   ]
  },
  {
   "cell_type": "code",
   "execution_count": 91,
   "id": "5c9d8739-f45e-4810-9a06-b58f89dd4db8",
   "metadata": {
    "execution": {
     "iopub.execute_input": "2023-11-15T04:16:22.301714Z",
     "iopub.status.busy": "2023-11-15T04:16:22.301180Z",
     "iopub.status.idle": "2023-11-15T04:16:22.343176Z",
     "shell.execute_reply": "2023-11-15T04:16:22.342518Z",
     "shell.execute_reply.started": "2023-11-15T04:16:22.301670Z"
    },
    "tags": []
   },
   "outputs": [
    {
     "data": {
      "text/plain": [
       "tensor([ 2.3627, -0.9959,  3.3443])"
      ]
     },
     "execution_count": 91,
     "metadata": {},
     "output_type": "execute_result"
    }
   ],
   "source": [
    "res2.est_alp"
   ]
  },
  {
   "cell_type": "code",
   "execution_count": null,
   "id": "7897f3d7-3352-4f2a-9ad5-c8d983f90bd2",
   "metadata": {},
   "outputs": [],
   "source": []
  }
 ],
 "metadata": {
  "kernelspec": {
   "display_name": "Python 3 (ipykernel)",
   "language": "python",
   "name": "python3"
  },
  "language_info": {
   "codemirror_mode": {
    "name": "ipython",
    "version": 3
   },
   "file_extension": ".py",
   "mimetype": "text/x-python",
   "name": "python",
   "nbconvert_exporter": "python",
   "pygments_lexer": "ipython3",
   "version": "3.9.7"
  },
  "toc": {
   "base_numbering": 1,
   "nav_menu": {},
   "number_sections": true,
   "sideBar": true,
   "skip_h1_title": false,
   "title_cell": "Table of Contents",
   "title_sidebar": "Contents",
   "toc_cell": false,
   "toc_position": {
    "height": "calc(100% - 180px)",
    "left": "10px",
    "top": "150px",
    "width": "165px"
   },
   "toc_section_display": true,
   "toc_window_display": true
  },
  "toc-autonumbering": true
 },
 "nbformat": 4,
 "nbformat_minor": 5
}
