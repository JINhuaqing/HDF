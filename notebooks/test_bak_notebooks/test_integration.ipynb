{
 "cells": [
  {
   "cell_type": "markdown",
   "id": "faf0a805",
   "metadata": {},
   "source": [
    "This file contains python code to\n",
    "\n",
    "test integration with Gaussian quature vs naive mean\n",
    "\n"
   ]
  },
  {
   "cell_type": "code",
   "execution_count": 1,
   "id": "02ae980e",
   "metadata": {
    "ExecuteTime": {
     "end_time": "2023-05-31T19:57:23.490285Z",
     "start_time": "2023-05-31T19:57:23.481769Z"
    },
    "execution": {
     "iopub.execute_input": "2024-02-20T23:00:12.817467Z",
     "iopub.status.busy": "2024-02-20T23:00:12.816774Z",
     "iopub.status.idle": "2024-02-20T23:00:12.833455Z",
     "shell.execute_reply": "2024-02-20T23:00:12.831337Z",
     "shell.execute_reply.started": "2024-02-20T23:00:12.817419Z"
    },
    "tags": []
   },
   "outputs": [],
   "source": [
    "import sys\n",
    "sys.path.append(\"../../mypkg\")"
   ]
  },
  {
   "cell_type": "code",
   "execution_count": 2,
   "id": "023df78a",
   "metadata": {
    "ExecuteTime": {
     "end_time": "2023-05-31T19:57:34.238839Z",
     "start_time": "2023-05-31T19:57:23.494053Z"
    },
    "execution": {
     "iopub.execute_input": "2024-02-20T23:00:12.836460Z",
     "iopub.status.busy": "2024-02-20T23:00:12.835704Z",
     "iopub.status.idle": "2024-02-20T23:00:15.043996Z",
     "shell.execute_reply": "2024-02-20T23:00:15.042948Z",
     "shell.execute_reply.started": "2024-02-20T23:00:12.836414Z"
    },
    "tags": []
   },
   "outputs": [],
   "source": [
    "import numpy as np\n",
    "import torch\n",
    "import matplotlib.pyplot as plt\n",
    "import seaborn as sns\n",
    "\n",
    "from easydict import EasyDict as edict\n",
    "from tqdm import trange, tqdm\n",
    "from pprint import pprint\n",
    "import itertools\n",
    "from scipy.stats import chi2\n"
   ]
  },
  {
   "cell_type": "code",
   "execution_count": 3,
   "id": "b9d3cbc6-1ac5-47d6-a0d1-bcbc0be9267e",
   "metadata": {
    "execution": {
     "iopub.execute_input": "2024-02-20T23:00:15.046449Z",
     "iopub.status.busy": "2024-02-20T23:00:15.045581Z",
     "iopub.status.idle": "2024-02-20T23:00:15.080446Z",
     "shell.execute_reply": "2024-02-20T23:00:15.079703Z",
     "shell.execute_reply.started": "2024-02-20T23:00:15.046404Z"
    },
    "tags": []
   },
   "outputs": [],
   "source": [
    "# This will reload all imports as soon as the code changes\n",
    "%load_ext autoreload\n",
    "%autoreload 2"
   ]
  },
  {
   "cell_type": "code",
   "execution_count": 10,
   "id": "b0aa91b2",
   "metadata": {
    "ExecuteTime": {
     "end_time": "2023-05-31T19:57:59.558229Z",
     "start_time": "2023-05-31T19:57:34.292612Z"
    },
    "execution": {
     "iopub.execute_input": "2024-02-20T23:01:05.203894Z",
     "iopub.status.busy": "2024-02-20T23:01:05.203313Z",
     "iopub.status.idle": "2024-02-20T23:01:05.241906Z",
     "shell.execute_reply": "2024-02-20T23:01:05.241093Z",
     "shell.execute_reply.started": "2024-02-20T23:01:05.203846Z"
    },
    "tags": []
   },
   "outputs": [],
   "source": [
    "from constants import DATA_ROOT, RES_ROOT, FIG_ROOT, MIDRES_ROOT\n",
    "from utils.misc import save_pkl, load_pkl\n",
    "from hdf_utils.utils import integration_fn, gen_int_ws\n"
   ]
  },
  {
   "cell_type": "code",
   "execution_count": 5,
   "id": "fe0a4a46",
   "metadata": {
    "ExecuteTime": {
     "end_time": "2023-05-31T19:57:59.621784Z",
     "start_time": "2023-05-31T19:57:59.568097Z"
    },
    "execution": {
     "iopub.execute_input": "2024-02-20T23:00:15.138826Z",
     "iopub.status.busy": "2024-02-20T23:00:15.138228Z",
     "iopub.status.idle": "2024-02-20T23:00:15.173070Z",
     "shell.execute_reply": "2024-02-20T23:00:15.172009Z",
     "shell.execute_reply.started": "2024-02-20T23:00:15.138783Z"
    },
    "tags": []
   },
   "outputs": [],
   "source": [
    "plt.style.use(FIG_ROOT/\"base.mplstyle\")\n",
    "torch.set_default_tensor_type(torch.DoubleTensor)"
   ]
  },
  {
   "cell_type": "code",
   "execution_count": null,
   "id": "7e3672e9-3d13-43f8-a05a-6fbd399eb0fc",
   "metadata": {},
   "outputs": [],
   "source": []
  },
  {
   "cell_type": "markdown",
   "id": "21e4ccea",
   "metadata": {},
   "source": [
    "# Params"
   ]
  },
  {
   "cell_type": "code",
   "execution_count": 6,
   "id": "58181d17-48c1-4cdc-9fc0-3e9ddc862b5a",
   "metadata": {
    "execution": {
     "iopub.execute_input": "2024-02-20T23:00:22.741098Z",
     "iopub.status.busy": "2024-02-20T23:00:22.740459Z",
     "iopub.status.idle": "2024-02-20T23:00:22.780669Z",
     "shell.execute_reply": "2024-02-20T23:00:22.779989Z",
     "shell.execute_reply.started": "2024-02-20T23:00:22.741049Z"
    },
    "tags": []
   },
   "outputs": [
    {
     "data": {
      "text/plain": [
       "array([2.21828183, 0.33333333, 0.95969769])"
      ]
     },
     "execution_count": 6,
     "metadata": {},
     "output_type": "execute_result"
    }
   ],
   "source": [
    "gtvs = np.array([\n",
    "    np.exp(1)-0.5, \n",
    "    1/3,\n",
    "    np.cos(0)-np.cos(1)+0.5\n",
    "                ])"
   ]
  },
  {
   "cell_type": "code",
   "execution_count": 11,
   "id": "072d90fd-fba8-4fa3-abc5-fda8f015c3d4",
   "metadata": {
    "execution": {
     "iopub.execute_input": "2024-02-20T23:01:16.047931Z",
     "iopub.status.busy": "2024-02-20T23:01:16.047306Z",
     "iopub.status.idle": "2024-02-20T23:01:16.148759Z",
     "shell.execute_reply": "2024-02-20T23:01:16.147544Z",
     "shell.execute_reply.started": "2024-02-20T23:01:16.047885Z"
    },
    "tags": []
   },
   "outputs": [],
   "source": [
    "Qs = [10, 100, 1000, 10000]\n",
    "Q = Qs[0]\n",
    "\n",
    "err1s = []\n",
    "err2s = []\n",
    "for Q in Qs:\n",
    "    x = np.linspace(0, 1, Q+1)\n",
    "    f1s = np.exp(x) + x;\n",
    "    f2s = x**2;\n",
    "    f3s = np.sin(x) + x;\n",
    "    fs = np.stack([f1s, f2s, f3s]).T;\n",
    "    int1s = integration_fn(fs, ws=\"naive\")\n",
    "    int2s = integration_fn(fs, ws=\"sim\");\n",
    "    err1 = np.abs(int1s.numpy()-gtvs)\n",
    "    err2 = np.abs(int2s.numpy()-gtvs)\n",
    "\n",
    "    err1s.append(err1)\n",
    "    err2s.append(err2)\n",
    "err1s = np.array(err1s)\n",
    "err2s = np.array(err2s);"
   ]
  },
  {
   "cell_type": "code",
   "execution_count": 12,
   "id": "980145ff-322f-4fb6-9170-50094a727ab1",
   "metadata": {
    "execution": {
     "iopub.execute_input": "2024-02-20T23:01:16.720752Z",
     "iopub.status.busy": "2024-02-20T23:01:16.720179Z",
     "iopub.status.idle": "2024-02-20T23:01:17.100164Z",
     "shell.execute_reply": "2024-02-20T23:01:17.099114Z",
     "shell.execute_reply.started": "2024-02-20T23:01:16.720703Z"
    },
    "tags": []
   },
   "outputs": [
    {
     "data": {
      "text/plain": [
       "<matplotlib.legend.Legend at 0x7ff56b76f6a0>"
      ]
     },
     "execution_count": 12,
     "metadata": {},
     "output_type": "execute_result"
    },
    {
     "data": {
      "image/png": "[encoded data removed]",
      "text/plain": [
       "<Figure size 432x288 with 1 Axes>"
      ]
     },
     "metadata": {
      "needs_background": "light"
     },
     "output_type": "display_data"
    }
   ],
   "source": [
    "plt.plot(Qs, np.mean(err1s, axis=1), \"o-\", label=\"Naive\")\n",
    "plt.plot(Qs, np.mean(err2s, axis=1), \"*-\", label=\"Simpson\")\n",
    "plt.yscale(\"log\")\n",
    "plt.xscale(\"log\")\n",
    "plt.legend()"
   ]
  },
  {
   "cell_type": "code",
   "execution_count": null,
   "id": "9db59220-b783-450a-91d6-21e3706ff6a2",
   "metadata": {},
   "outputs": [],
   "source": []
  }
 ],
 "metadata": {
  "kernelspec": {
   "display_name": "Python 3 (ipykernel)",
   "language": "python",
   "name": "python3"
  },
  "language_info": {
   "codemirror_mode": {
    "name": "ipython",
    "version": 3
   },
   "file_extension": ".py",
   "mimetype": "text/x-python",
   "name": "python",
   "nbconvert_exporter": "python",
   "pygments_lexer": "ipython3",
   "version": "3.9.7"
  },
  "toc": {
   "base_numbering": 1,
   "nav_menu": {},
   "number_sections": true,
   "sideBar": true,
   "skip_h1_title": false,
   "title_cell": "Table of Contents",
   "title_sidebar": "Contents",
   "toc_cell": false,
   "toc_position": {
    "height": "calc(100% - 180px)",
    "left": "10px",
    "top": "150px",
    "width": "165px"
   },
   "toc_section_display": true,
   "toc_window_display": true
  },
  "toc-autonumbering": true,
  "toc-showcode": false,
  "toc-showmarkdowntxt": false,
  "toc-showtags": false
 },
 "nbformat": 4,
 "nbformat_minor": 5
}
