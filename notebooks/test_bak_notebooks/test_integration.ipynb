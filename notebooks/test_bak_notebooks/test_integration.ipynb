{
 "cells": [
  {
   "cell_type": "markdown",
   "id": "faf0a805",
   "metadata": {},
   "source": [
    "This file contains python code to\n",
    "\n",
    "test integration with Gaussian quature vs naive mean\n",
    "\n"
   ]
  },
  {
   "cell_type": "code",
   "execution_count": 1,
   "id": "02ae980e",
   "metadata": {
    "ExecuteTime": {
     "end_time": "2023-05-31T19:57:23.490285Z",
     "start_time": "2023-05-31T19:57:23.481769Z"
    },
    "execution": {
     "iopub.execute_input": "2024-02-21T06:54:15.052300Z",
     "iopub.status.busy": "2024-02-21T06:54:15.051792Z",
     "iopub.status.idle": "2024-02-21T06:54:15.068839Z",
     "shell.execute_reply": "2024-02-21T06:54:15.065921Z",
     "shell.execute_reply.started": "2024-02-21T06:54:15.052256Z"
    },
    "tags": []
   },
   "outputs": [],
   "source": [
    "import sys\n",
    "sys.path.append(\"../../mypkg\")"
   ]
  },
  {
   "cell_type": "code",
   "execution_count": 2,
   "id": "023df78a",
   "metadata": {
    "ExecuteTime": {
     "end_time": "2023-05-31T19:57:34.238839Z",
     "start_time": "2023-05-31T19:57:23.494053Z"
    },
    "execution": {
     "iopub.execute_input": "2024-02-21T06:54:15.071750Z",
     "iopub.status.busy": "2024-02-21T06:54:15.071159Z",
     "iopub.status.idle": "2024-02-21T06:54:17.311065Z",
     "shell.execute_reply": "2024-02-21T06:54:17.309996Z",
     "shell.execute_reply.started": "2024-02-21T06:54:15.071710Z"
    },
    "tags": []
   },
   "outputs": [],
   "source": [
    "import numpy as np\n",
    "import torch\n",
    "import matplotlib.pyplot as plt\n",
    "import seaborn as sns\n",
    "\n",
    "from easydict import EasyDict as edict\n",
    "from tqdm import trange, tqdm\n",
    "from pprint import pprint\n",
    "import itertools\n",
    "from scipy.stats import chi2\n"
   ]
  },
  {
   "cell_type": "code",
   "execution_count": 3,
   "id": "b9d3cbc6-1ac5-47d6-a0d1-bcbc0be9267e",
   "metadata": {
    "execution": {
     "iopub.execute_input": "2024-02-21T06:54:17.312570Z",
     "iopub.status.busy": "2024-02-21T06:54:17.312139Z",
     "iopub.status.idle": "2024-02-21T06:54:17.332254Z",
     "shell.execute_reply": "2024-02-21T06:54:17.331827Z",
     "shell.execute_reply.started": "2024-02-21T06:54:17.312553Z"
    },
    "tags": []
   },
   "outputs": [],
   "source": [
    "# This will reload all imports as soon as the code changes\n",
    "%load_ext autoreload\n",
    "%autoreload 2"
   ]
  },
  {
   "cell_type": "code",
   "execution_count": 4,
   "id": "b0aa91b2",
   "metadata": {
    "ExecuteTime": {
     "end_time": "2023-05-31T19:57:59.558229Z",
     "start_time": "2023-05-31T19:57:34.292612Z"
    },
    "execution": {
     "iopub.execute_input": "2024-02-21T06:54:17.332842Z",
     "iopub.status.busy": "2024-02-21T06:54:17.332702Z",
     "iopub.status.idle": "2024-02-21T06:54:17.483392Z",
     "shell.execute_reply": "2024-02-21T06:54:17.482252Z",
     "shell.execute_reply.started": "2024-02-21T06:54:17.332829Z"
    },
    "tags": []
   },
   "outputs": [],
   "source": [
    "from constants import DATA_ROOT, RES_ROOT, FIG_ROOT, MIDRES_ROOT\n",
    "from utils.misc import save_pkl, load_pkl\n",
    "from hdf_utils.utils import integration_fn, gen_int_ws\n"
   ]
  },
  {
   "cell_type": "code",
   "execution_count": 13,
   "id": "fe0a4a46",
   "metadata": {
    "ExecuteTime": {
     "end_time": "2023-05-31T19:57:59.621784Z",
     "start_time": "2023-05-31T19:57:59.568097Z"
    },
    "execution": {
     "iopub.execute_input": "2024-02-21T07:01:10.594580Z",
     "iopub.status.busy": "2024-02-21T07:01:10.593959Z",
     "iopub.status.idle": "2024-02-21T07:01:10.634608Z",
     "shell.execute_reply": "2024-02-21T07:01:10.633899Z",
     "shell.execute_reply.started": "2024-02-21T07:01:10.594534Z"
    },
    "tags": []
   },
   "outputs": [],
   "source": [
    "plt.style.use(FIG_ROOT/\"base.mplstyle\")\n",
    "torch.set_default_tensor_type(torch.DoubleTensor)"
   ]
  },
  {
   "cell_type": "code",
   "execution_count": null,
   "id": "7e3672e9-3d13-43f8-a05a-6fbd399eb0fc",
   "metadata": {},
   "outputs": [],
   "source": []
  },
  {
   "cell_type": "markdown",
   "id": "21e4ccea",
   "metadata": {},
   "source": [
    "# Params"
   ]
  },
  {
   "cell_type": "code",
   "execution_count": 16,
   "id": "58181d17-48c1-4cdc-9fc0-3e9ddc862b5a",
   "metadata": {
    "execution": {
     "iopub.execute_input": "2024-02-21T07:01:16.364233Z",
     "iopub.status.busy": "2024-02-21T07:01:16.363621Z",
     "iopub.status.idle": "2024-02-21T07:01:16.400679Z",
     "shell.execute_reply": "2024-02-21T07:01:16.400024Z",
     "shell.execute_reply.started": "2024-02-21T07:01:16.364186Z"
    },
    "tags": []
   },
   "outputs": [
    {
     "data": {
      "text/plain": [
       "array([2.21828183, 0.33333333, 0.95969769])"
      ]
     },
     "execution_count": 16,
     "metadata": {},
     "output_type": "execute_result"
    }
   ],
   "source": [
    "gtvs = np.array([\n",
    "    np.exp(1)-0.5, \n",
    "    1/3,\n",
    "    np.cos(0)-np.cos(1)+0.5\n",
    "                ])"
   ]
  },
  {
   "cell_type": "code",
   "execution_count": 19,
   "id": "072d90fd-fba8-4fa3-abc5-fda8f015c3d4",
   "metadata": {
    "execution": {
     "iopub.execute_input": "2024-02-21T07:01:39.846963Z",
     "iopub.status.busy": "2024-02-21T07:01:39.846328Z",
     "iopub.status.idle": "2024-02-21T07:01:39.891142Z",
     "shell.execute_reply": "2024-02-21T07:01:39.890462Z",
     "shell.execute_reply.started": "2024-02-21T07:01:39.846905Z"
    },
    "tags": []
   },
   "outputs": [],
   "source": [
    "Qs = [10, 100, 1000, 10000]\n",
    "Q = Qs[0]\n",
    "\n",
    "err1s = []\n",
    "err2s = []\n",
    "for Q in Qs:\n",
    "    x = np.linspace(0, 1, Q+1)\n",
    "    f1s = np.exp(x) + x;\n",
    "    f2s = x**2;\n",
    "    f3s = np.sin(x) + x;\n",
    "    fs = np.stack([f1s, f2s, f3s]).T;\n",
    "    int1s = integration_fn(fs, ws=\"naive\")\n",
    "    int2s = integration_fn(fs, ws=\"sim\");\n",
    "    err1 = np.abs(int1s.numpy()-gtvs)\n",
    "    err2 = np.abs(int2s.numpy()-gtvs)\n",
    "\n",
    "    err1s.append(err1)\n",
    "    err2s.append(err2)\n",
    "err1s = np.array(err1s)\n",
    "err2s = np.array(err2s);"
   ]
  },
  {
   "cell_type": "code",
   "execution_count": 20,
   "id": "980145ff-322f-4fb6-9170-50094a727ab1",
   "metadata": {
    "execution": {
     "iopub.execute_input": "2024-02-21T07:01:40.976013Z",
     "iopub.status.busy": "2024-02-21T07:01:40.975412Z",
     "iopub.status.idle": "2024-02-21T07:01:41.418719Z",
     "shell.execute_reply": "2024-02-21T07:01:41.418290Z",
     "shell.execute_reply.started": "2024-02-21T07:01:40.975968Z"
    },
    "tags": []
   },
   "outputs": [
    {
     "data": {
      "text/plain": [
       "<matplotlib.legend.Legend at 0x7f2105256550>"
      ]
     },
     "execution_count": 20,
     "metadata": {},
     "output_type": "execute_result"
    },
    {
     "data": {
      "image/png": "[encoded data removed]",
      "text/plain": [
       "<Figure size 432x288 with 1 Axes>"
      ]
     },
     "metadata": {
      "needs_background": "light"
     },
     "output_type": "display_data"
    }
   ],
   "source": [
    "plt.plot(Qs, np.mean(err1s, axis=1), \"o-\", label=\"Naive\")\n",
    "plt.plot(Qs, np.mean(err2s, axis=1), \"*-\", label=\"Simpson\")\n",
    "plt.yscale(\"log\")\n",
    "plt.xscale(\"log\")\n",
    "plt.legend()"
   ]
  },
  {
   "cell_type": "code",
   "execution_count": 26,
   "id": "aa7629ef-b870-4494-bdf9-8fb6d0c30811",
   "metadata": {
    "execution": {
     "iopub.execute_input": "2024-02-21T07:03:57.596533Z",
     "iopub.status.busy": "2024-02-21T07:03:57.595721Z",
     "iopub.status.idle": "2024-02-21T07:03:57.731345Z",
     "shell.execute_reply": "2024-02-21T07:03:57.730488Z",
     "shell.execute_reply.started": "2024-02-21T07:03:57.596484Z"
    },
    "tags": []
   },
   "outputs": [],
   "source": [
    "Qs = [10, 100, 1000, 10000]\n",
    "\n",
    "err1s = []\n",
    "err2s = []\n",
    "for Q in Qs:\n",
    "    x1 = np.linspace(0, 1, Q+1)\n",
    "    x2 = np.linspace(0, 1, Q+2)\n",
    "    f1s = np.exp(x1) + x1;\n",
    "    f2s = x1**2;\n",
    "    f3s = np.sin(x1) + x1;\n",
    "    fs1 = np.stack([f1s, f2s, f3s]).T;\n",
    "    \n",
    "    f1s = np.exp(x2) + x2;\n",
    "    f2s = x2**2;\n",
    "    f3s = np.sin(x2) + x2;\n",
    "    fs2 = np.stack([f1s, f2s, f3s]).T;\n",
    "    int1s = integration_fn(fs1, ws=\"sim\")\n",
    "    int2s = integration_fn(fs2, ws=\"sim\");\n",
    "    err1 = np.abs(int1s.numpy()-gtvs)\n",
    "    err2 = np.abs(int2s.numpy()-gtvs)\n",
    "\n",
    "    err1s.append(err1)\n",
    "    err2s.append(err2)\n",
    "err1s = np.array(err1s)\n",
    "err2s = np.array(err2s);"
   ]
  },
  {
   "cell_type": "code",
   "execution_count": 27,
   "id": "b780fc73-cc62-4134-8818-eaa40ab75546",
   "metadata": {
    "execution": {
     "iopub.execute_input": "2024-02-21T07:03:58.132915Z",
     "iopub.status.busy": "2024-02-21T07:03:58.132368Z",
     "iopub.status.idle": "2024-02-21T07:03:58.490527Z",
     "shell.execute_reply": "2024-02-21T07:03:58.490110Z",
     "shell.execute_reply.started": "2024-02-21T07:03:58.132873Z"
    },
    "tags": []
   },
   "outputs": [
    {
     "data": {
      "text/plain": [
       "<matplotlib.legend.Legend at 0x7f21028a85b0>"
      ]
     },
     "execution_count": 27,
     "metadata": {},
     "output_type": "execute_result"
    },
    {
     "data": {
      "image/png": "[encoded data removed]",
      "text/plain": [
       "<Figure size 432x288 with 1 Axes>"
      ]
     },
     "metadata": {
      "needs_background": "light"
     },
     "output_type": "display_data"
    }
   ],
   "source": [
    "plt.plot(Qs, np.mean(err1s, axis=1), \"o-\", label=\"Uneven\")\n",
    "plt.plot(Qs, np.mean(err2s, axis=1), \"*-\", label=\"Even\")\n",
    "plt.yscale(\"log\")\n",
    "plt.xscale(\"log\")\n",
    "plt.legend()"
   ]
  },
  {
   "cell_type": "code",
   "execution_count": null,
   "id": "9db59220-b783-450a-91d6-21e3706ff6a2",
   "metadata": {},
   "outputs": [],
   "source": []
  }
 ],
 "metadata": {
  "kernelspec": {
   "display_name": "Python 3 (ipykernel)",
   "language": "python",
   "name": "python3"
  },
  "language_info": {
   "codemirror_mode": {
    "name": "ipython",
    "version": 3
   },
   "file_extension": ".py",
   "mimetype": "text/x-python",
   "name": "python",
   "nbconvert_exporter": "python",
   "pygments_lexer": "ipython3",
   "version": "3.9.7"
  },
  "toc": {
   "base_numbering": 1,
   "nav_menu": {},
   "number_sections": true,
   "sideBar": true,
   "skip_h1_title": false,
   "title_cell": "Table of Contents",
   "title_sidebar": "Contents",
   "toc_cell": false,
   "toc_position": {
    "height": "calc(100% - 180px)",
    "left": "10px",
    "top": "150px",
    "width": "165px"
   },
   "toc_section_display": true,
   "toc_window_display": true
  },
  "toc-autonumbering": true,
  "toc-showcode": false,
  "toc-showmarkdowntxt": false,
  "toc-showtags": false
 },
 "nbformat": 4,
 "nbformat_minor": 5
}
