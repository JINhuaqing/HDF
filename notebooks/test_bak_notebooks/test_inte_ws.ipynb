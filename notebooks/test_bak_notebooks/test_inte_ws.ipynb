{
 "cells": [
  {
   "cell_type": "markdown",
   "id": "faf0a805",
   "metadata": {},
   "source": [
    "This file contains python code to test the code when integration way is changed"
   ]
  },
  {
   "cell_type": "code",
   "execution_count": 1,
   "id": "02ae980e",
   "metadata": {
    "ExecuteTime": {
     "end_time": "2023-05-31T19:57:23.490285Z",
     "start_time": "2023-05-31T19:57:23.481769Z"
    },
    "execution": {
     "iopub.execute_input": "2024-02-21T04:01:44.154211Z",
     "iopub.status.busy": "2024-02-21T04:01:44.153313Z",
     "iopub.status.idle": "2024-02-21T04:01:44.169414Z",
     "shell.execute_reply": "2024-02-21T04:01:44.168418Z",
     "shell.execute_reply.started": "2024-02-21T04:01:44.154163Z"
    },
    "tags": []
   },
   "outputs": [],
   "source": [
    "import sys\n",
    "sys.path.append(\"../../mypkg\")"
   ]
  },
  {
   "cell_type": "code",
   "execution_count": 2,
   "id": "023df78a",
   "metadata": {
    "ExecuteTime": {
     "end_time": "2023-05-31T19:57:34.238839Z",
     "start_time": "2023-05-31T19:57:23.494053Z"
    },
    "execution": {
     "iopub.execute_input": "2024-02-21T04:01:44.170992Z",
     "iopub.status.busy": "2024-02-21T04:01:44.170463Z",
     "iopub.status.idle": "2024-02-21T04:01:48.153350Z",
     "shell.execute_reply": "2024-02-21T04:01:48.152572Z",
     "shell.execute_reply.started": "2024-02-21T04:01:44.170959Z"
    },
    "tags": []
   },
   "outputs": [],
   "source": [
    "import numpy as np\n",
    "import torch\n",
    "import matplotlib.pyplot as plt\n",
    "import seaborn as sns\n",
    "\n",
    "from easydict import EasyDict as edict\n",
    "from tqdm import trange, tqdm\n",
    "from pprint import pprint\n",
    "import itertools\n",
    "from scipy.stats import chi2\n"
   ]
  },
  {
   "cell_type": "code",
   "execution_count": 3,
   "id": "b9d3cbc6-1ac5-47d6-a0d1-bcbc0be9267e",
   "metadata": {
    "execution": {
     "iopub.execute_input": "2024-02-21T04:01:48.154420Z",
     "iopub.status.busy": "2024-02-21T04:01:48.154155Z",
     "iopub.status.idle": "2024-02-21T04:01:48.177911Z",
     "shell.execute_reply": "2024-02-21T04:01:48.177453Z",
     "shell.execute_reply.started": "2024-02-21T04:01:48.154404Z"
    },
    "tags": []
   },
   "outputs": [],
   "source": [
    "# This will reload all imports as soon as the code changes\n",
    "%load_ext autoreload\n",
    "%autoreload 2"
   ]
  },
  {
   "cell_type": "code",
   "execution_count": 4,
   "id": "b0aa91b2",
   "metadata": {
    "ExecuteTime": {
     "end_time": "2023-05-31T19:57:59.558229Z",
     "start_time": "2023-05-31T19:57:34.292612Z"
    },
    "execution": {
     "iopub.execute_input": "2024-02-21T04:01:48.179319Z",
     "iopub.status.busy": "2024-02-21T04:01:48.179064Z",
     "iopub.status.idle": "2024-02-21T04:01:49.109238Z",
     "shell.execute_reply": "2024-02-21T04:01:49.107868Z",
     "shell.execute_reply.started": "2024-02-21T04:01:48.179304Z"
    },
    "tags": []
   },
   "outputs": [],
   "source": [
    "from constants import DATA_ROOT, RES_ROOT, FIG_ROOT, MIDRES_ROOT\n",
    "from hdf_utils.data_gen import gen_simu_sinica_dataset\n",
    "from hdf_utils.SIS import SIS_GLIM\n",
    "from hdf_utils.utils import gen_int_ws, integration_fn\n",
    "from utils.matrix import col_vec_fn, col_vec2mat_fn, conju_grad, svd_inverse, cholesky_inv\n",
    "from utils.functions import logit_fn\n",
    "from utils.misc import save_pkl, load_pkl\n",
    "from splines import obt_bsp_obasis_Rfn, obt_bsp_basis_Rfn_wrapper\n",
    "from projection import euclidean_proj_l1ball\n",
    "from optimization.opt import HDFOpt\n",
    "from scenarios.simu_linear_sinica import settings\n",
    "from hdf_utils.fns_sinica import  fourier_basis_fn\n",
    "\n",
    "from joblib import Parallel, delayed"
   ]
  },
  {
   "cell_type": "code",
   "execution_count": 5,
   "id": "fe0a4a46",
   "metadata": {
    "ExecuteTime": {
     "end_time": "2023-05-31T19:57:59.621784Z",
     "start_time": "2023-05-31T19:57:59.568097Z"
    },
    "execution": {
     "iopub.execute_input": "2024-02-21T04:01:49.111647Z",
     "iopub.status.busy": "2024-02-21T04:01:49.110866Z",
     "iopub.status.idle": "2024-02-21T04:01:49.158580Z",
     "shell.execute_reply": "2024-02-21T04:01:49.157821Z",
     "shell.execute_reply.started": "2024-02-21T04:01:49.111609Z"
    },
    "tags": []
   },
   "outputs": [],
   "source": [
    "plt.style.use(FIG_ROOT/\"base.mplstyle\")\n",
    "torch.set_default_tensor_type(torch.DoubleTensor)"
   ]
  },
  {
   "cell_type": "code",
   "execution_count": null,
   "id": "7e3672e9-3d13-43f8-a05a-6fbd399eb0fc",
   "metadata": {},
   "outputs": [],
   "source": []
  },
  {
   "cell_type": "markdown",
   "id": "21e4ccea",
   "metadata": {},
   "source": [
    "# Params"
   ]
  },
  {
   "cell_type": "code",
   "execution_count": 6,
   "id": "977784a7-3e90-4016-9958-9766c871dc0f",
   "metadata": {
    "ExecuteTime": {
     "end_time": "2023-05-31T23:31:16.397628Z",
     "start_time": "2023-05-31T23:31:16.221812Z"
    },
    "execution": {
     "iopub.execute_input": "2024-02-21T04:01:49.159732Z",
     "iopub.status.busy": "2024-02-21T04:01:49.159413Z",
     "iopub.status.idle": "2024-02-21T04:01:49.213948Z",
     "shell.execute_reply": "2024-02-21T04:01:49.212887Z",
     "shell.execute_reply.started": "2024-02-21T04:01:49.159713Z"
    },
    "tags": [
     "param"
    ]
   },
   "outputs": [
    {
     "data": {
      "text/plain": [
       "array([[1.]])"
      ]
     },
     "execution_count": 6,
     "metadata": {},
     "output_type": "execute_result"
    }
   ],
   "source": [
    "np.random.seed(0)\n",
    "c = 0.0\n",
    "\n",
    "setting = settings.cmpns1\n",
    "data_gen_params = setting.data_gen_params\n",
    "data_gen_params.cs = data_gen_params.cs_fn(c)\n",
    "data_gen_params.gt_beta = data_gen_params.beta_fn(data_gen_params.cs)\n",
    "#data_gen_params.gt_beta[:, -1] = 0\n",
    "x = np.linspace(0, 1, data_gen_params.npts)\n",
    "\n",
    "num_rep = 200\n",
    "Cmat = np.eye(data_gen_params.d - len(setting.sel_idx))\n",
    "save_dir = RES_ROOT/f\"simu_setting{setting.setting}_test\"\n",
    "if not save_dir.exists():\n",
    "    save_dir.mkdir()\n",
    "Cmat"
   ]
  },
  {
   "cell_type": "code",
   "execution_count": 7,
   "id": "fe40edc6-b1d5-4037-910e-ffad65d81d37",
   "metadata": {
    "execution": {
     "iopub.execute_input": "2024-02-21T04:01:49.216449Z",
     "iopub.status.busy": "2024-02-21T04:01:49.215699Z",
     "iopub.status.idle": "2024-02-21T04:01:49.346346Z",
     "shell.execute_reply": "2024-02-21T04:01:49.345506Z",
     "shell.execute_reply.started": "2024-02-21T04:01:49.216402Z"
    },
    "tags": []
   },
   "outputs": [],
   "source": [
    "cur_data = gen_simu_sinica_dataset(n=data_gen_params.n, \n",
    "                                   d=data_gen_params.d, \n",
    "                                   q=data_gen_params.q, \n",
    "                                   types_=data_gen_params.types_, \n",
    "                                   gt_alp=data_gen_params.gt_alp, \n",
    "                                   gt_beta=data_gen_params.gt_beta, \n",
    "                                   x=x,\n",
    "                                   data_type=data_gen_params.data_type,\n",
    "                                   data_params=data_gen_params.data_params, \n",
    "                                   seed=0, \n",
    "                                   verbose=2);"
   ]
  },
  {
   "cell_type": "code",
   "execution_count": null,
   "id": "d93dffd9-4881-4784-8bf3-e73d803b62e1",
   "metadata": {},
   "outputs": [],
   "source": []
  },
  {
   "cell_type": "code",
   "execution_count": null,
   "id": "be9dad8c-0fcf-4d93-b3b9-d9dc5d2dfe77",
   "metadata": {},
   "outputs": [],
   "source": []
  },
  {
   "cell_type": "markdown",
   "id": "8148a0dd-0b8b-4f04-a43a-a75cfd20ae1f",
   "metadata": {},
   "source": [
    "## Simulation"
   ]
  },
  {
   "cell_type": "code",
   "execution_count": null,
   "id": "96d90cac-bc30-4f2a-84fd-86b8af6e2a00",
   "metadata": {},
   "outputs": [],
   "source": []
  },
  {
   "cell_type": "code",
   "execution_count": 14,
   "id": "0f9eca46-ade4-40fa-83f5-b8db4ff10947",
   "metadata": {
    "execution": {
     "iopub.execute_input": "2024-02-21T04:04:23.118512Z",
     "iopub.status.busy": "2024-02-21T04:04:23.117919Z",
     "iopub.status.idle": "2024-02-21T04:04:23.338431Z",
     "shell.execute_reply": "2024-02-21T04:04:23.337395Z",
     "shell.execute_reply.started": "2024-02-21T04:04:23.118465Z"
    },
    "tags": []
   },
   "outputs": [],
   "source": [
    "def _run_fn(seed, lam, N, setting, is_save=False, is_cv=False, verbose=2):\n",
    "    \"\"\"Now (on Aug 25, 2023), if we keep seed the same, the cur_data is the same. \n",
    "       If you want to make any changes, make sure this. \n",
    "    \"\"\"\n",
    "    torch.set_default_dtype(torch.double)\n",
    "    np.random.seed(seed)\n",
    "    torch.manual_seed(seed)\n",
    "        \n",
    "    _setting = edict(setting.copy())\n",
    "    _setting.seed = seed\n",
    "    _setting.lam = lam\n",
    "    _setting.N = N\n",
    "    \n",
    "    data_gen_params = setting.data_gen_params\n",
    "    \n",
    "    f_name = f\"seed_{seed:.0f}-lam_{lam*1000:.0f}-N_{N:.0f}_fit.pkl\"\n",
    "    \n",
    "    \n",
    "    if not (save_dir/f_name).exists():\n",
    "        cur_data = gen_simu_sinica_dataset(n=data_gen_params.n, \n",
    "                                   d=data_gen_params.d, \n",
    "                                   q=data_gen_params.q, \n",
    "                                   types_=data_gen_params.types_, \n",
    "                                   gt_alp=data_gen_params.gt_alp, \n",
    "                                   gt_beta=data_gen_params.gt_beta, \n",
    "                                   x = np.linspace(0, 1, data_gen_params.npts),\n",
    "                                   data_type=data_gen_params.data_type,\n",
    "                                   data_params=data_gen_params.data_params, \n",
    "                                   seed=seed, \n",
    "                                   verbose=verbose);\n",
    "        hdf_fit = HDFOpt(lam=_setting.lam, \n",
    "                         sel_idx=_setting.sel_idx, \n",
    "                         model_type=_setting.model_type,\n",
    "                         verbose=verbose, \n",
    "                         SIS_ratio=_setting.SIS_ratio, \n",
    "                         N=_setting.N,\n",
    "                         is_std_data=True, \n",
    "                         cov_types=None, \n",
    "                         inits=None,\n",
    "                         model_params = _setting.model_params, \n",
    "                         SIS_params = _setting.SIS_params, \n",
    "                         opt_params = _setting.opt_params,\n",
    "                         bsp_params = _setting.bsp_params, \n",
    "                         pen_params = _setting.pen_params\n",
    "               );\n",
    "        hdf_fit.add_data(cur_data.X, cur_data.Y, cur_data.Z)\n",
    "        opt_res = hdf_fit.fit()\n",
    "        \n",
    "        if is_cv:\n",
    "            hdf_fit.get_cv_est(_setting.num_cv_fold)\n",
    "        if is_save:\n",
    "            hdf_fit.save(save_dir/f_name, is_compact=False, is_force=True)\n",
    "    else:\n",
    "        hdf_fit = load_pkl(save_dir/f_name, verbose>=2);\n",
    "        \n",
    "    return hdf_fit\n"
   ]
  },
  {
   "cell_type": "code",
   "execution_count": null,
   "id": "dde1b6a7-747d-400a-879a-bf4724ebfc13",
   "metadata": {
    "tags": []
   },
   "outputs": [],
   "source": []
  },
  {
   "cell_type": "code",
   "execution_count": null,
   "id": "b64ec903-256d-4b9f-89be-6725629c1ef4",
   "metadata": {},
   "outputs": [],
   "source": []
  },
  {
   "cell_type": "markdown",
   "id": "ee5b93bf-12d5-40d9-b925-79fc4fb2b4a8",
   "metadata": {},
   "source": [
    "### single test"
   ]
  },
  {
   "cell_type": "code",
   "execution_count": null,
   "id": "95a166c2-21b7-4356-8b30-af610094a927",
   "metadata": {
    "tags": []
   },
   "outputs": [],
   "source": []
  },
  {
   "cell_type": "code",
   "execution_count": null,
   "id": "ed82d9c4-1ad8-41a6-bc47-1ed741547f3b",
   "metadata": {
    "tags": []
   },
   "outputs": [],
   "source": []
  },
  {
   "cell_type": "code",
   "execution_count": 34,
   "id": "f866902c-68d1-4c9a-9570-754bd0857eda",
   "metadata": {
    "execution": {
     "iopub.execute_input": "2024-02-21T04:08:40.742697Z",
     "iopub.status.busy": "2024-02-21T04:08:40.742064Z",
     "iopub.status.idle": "2024-02-21T04:08:40.780595Z",
     "shell.execute_reply": "2024-02-21T04:08:40.779997Z",
     "shell.execute_reply.started": "2024-02-21T04:08:40.742648Z"
    },
    "tags": []
   },
   "outputs": [],
   "source": [
    "setting.model_params.ws = \"sim\"\n",
    "setting.SIS_params.SIS_ws = \"naive\"\n",
    "setting.data_gen_params.npts = 11"
   ]
  },
  {
   "cell_type": "code",
   "execution_count": 35,
   "id": "02d10b93-0e05-46e8-b0c1-71d2efeb8ed1",
   "metadata": {
    "execution": {
     "iopub.execute_input": "2024-02-21T04:08:41.478740Z",
     "iopub.status.busy": "2024-02-21T04:08:41.478072Z",
     "iopub.status.idle": "2024-02-21T04:08:42.425454Z",
     "shell.execute_reply": "2024-02-21T04:08:42.424900Z",
     "shell.execute_reply.started": "2024-02-21T04:08:41.478695Z"
    },
    "scrolled": true,
    "tags": []
   },
   "outputs": [
    {
     "name": "stderr",
     "output_type": "stream",
     "text": [
      "2024-02-20 20:08:41,586 - optimization.opt - INFO - opt parmas is {'stop_cv': 0.0005, 'max_iter': 2000, 'one_step_verbose': 0, 'alpha': 0.9, 'beta': 10, 'R': 200000.0, 'linear_theta_update': 'cholesky_inv'}.\n",
      "2024-02-20 20:08:41,588 - optimization.opt - INFO - SIS parmas is {'SIS_pen': 100, 'SIS_basis_N': 4, 'SIS_basis_ord': 4, 'SIS_ratio': 0.2, 'SIS_ws': 'naive'}.\n",
      "2024-02-20 20:08:41,588 - optimization.opt - INFO - model parmas is {'norminal_sigma2': 1, 'ws': 'sim'}.\n",
      "2024-02-20 20:08:41,589 - optimization.opt - INFO - penalty parmas is {'a': 3.7, 'lam': 0.3}.\n",
      "2024-02-20 20:08:41,590 - optimization.opt - INFO - bspline parmas is {'basis_ord': 4, 'is_orth_basis': True, 'N': 4}.\n",
      "2024-02-20 20:08:41,591 - optimization.opt - INFO - As cov_types is not provided, inferring the continuous covariates.\n",
      "Main Loop:  22%|█████▍                   | 437/2000 [00:00<00:02, 643.66it/s, error=0.000516, GamL0=8, CV=0.0005]\n"
     ]
    },
    {
     "data": {
      "text/plain": [
       "<optimization.opt.HDFOpt at 0x7f58b33cc970>"
      ]
     },
     "execution_count": 35,
     "metadata": {},
     "output_type": "execute_result"
    }
   ],
   "source": [
    "seed = 1\n",
    "lam = 0.3\n",
    "N = 4\n",
    "\n",
    "res = _run_fn(seed=seed, lam=lam, N=N, setting=setting, is_cv=False, is_save=False, verbose=2)"
   ]
  },
  {
   "cell_type": "code",
   "execution_count": 33,
   "id": "4680598c-3436-4ac3-8d9e-cf017853e8fe",
   "metadata": {
    "execution": {
     "iopub.execute_input": "2024-02-21T04:08:35.050823Z",
     "iopub.status.busy": "2024-02-21T04:08:35.050222Z",
     "iopub.status.idle": "2024-02-21T04:08:35.103085Z",
     "shell.execute_reply": "2024-02-21T04:08:35.102260Z",
     "shell.execute_reply.started": "2024-02-21T04:08:35.050777Z"
    },
    "tags": []
   },
   "outputs": [
    {
     "name": "stderr",
     "output_type": "stream",
     "text": [
      "2024-02-20 20:08:35,086 - optimization.opt - INFO - hypo parmas is {'svdinv_eps_Q': 1e-07, 'svdinv_eps_Psi': 1e-07, 'Cmat': array([[1.]])}.\n"
     ]
    },
    {
     "data": {
      "text/plain": [
       "{'pval': 0.7910009369984625, 'T_v': tensor(1.6984)}"
      ]
     },
     "execution_count": 33,
     "metadata": {},
     "output_type": "execute_result"
    }
   ],
   "source": [
    "res.hypo_test(Cmat, ts=None)"
   ]
  },
  {
   "cell_type": "code",
   "execution_count": 36,
   "id": "a61a7f71-a6de-40eb-abcc-0c9f6453e8c0",
   "metadata": {
    "execution": {
     "iopub.execute_input": "2024-02-21T04:08:45.233540Z",
     "iopub.status.busy": "2024-02-21T04:08:45.232784Z",
     "iopub.status.idle": "2024-02-21T04:08:45.288230Z",
     "shell.execute_reply": "2024-02-21T04:08:45.287412Z",
     "shell.execute_reply.started": "2024-02-21T04:08:45.233490Z"
    },
    "tags": []
   },
   "outputs": [
    {
     "name": "stderr",
     "output_type": "stream",
     "text": [
      "2024-02-20 20:08:45,272 - optimization.opt - INFO - hypo parmas is {'svdinv_eps_Q': 1e-07, 'svdinv_eps_Psi': 1e-07, 'Cmat': array([[1.]])}.\n"
     ]
    },
    {
     "data": {
      "text/plain": [
       "{'pval': 0.7048890524849398, 'T_v': tensor(2.1680)}"
      ]
     },
     "execution_count": 36,
     "metadata": {},
     "output_type": "execute_result"
    }
   ],
   "source": [
    "res.hypo_test(Cmat, ts=None)"
   ]
  },
  {
   "cell_type": "code",
   "execution_count": 109,
   "id": "1fb460ad-c825-4a0b-a1e7-45669bec59ad",
   "metadata": {
    "execution": {
     "iopub.execute_input": "2024-02-16T00:06:21.527430Z",
     "iopub.status.busy": "2024-02-16T00:06:21.526775Z",
     "iopub.status.idle": "2024-02-16T00:06:21.688663Z",
     "shell.execute_reply": "2024-02-16T00:06:21.688202Z",
     "shell.execute_reply.started": "2024-02-16T00:06:21.527385Z"
    },
    "tags": []
   },
   "outputs": [
    {
     "data": {
      "text/plain": [
       "<matplotlib.legend.Legend at 0x7f8260aebd90>"
      ]
     },
     "execution_count": 109,
     "metadata": {},
     "output_type": "execute_result"
    },
    {
     "data": {
      "image/png": "[encoded data removed]",
      "text/plain": [
       "<Figure size 432x288 with 1 Axes>"
      ]
     },
     "metadata": {
      "needs_background": "light"
     },
     "output_type": "display_data"
    }
   ],
   "source": [
    "est_beta = res.basis_mat @ res.est_Gam\n",
    "gt_beta = setting.data_gen_params.gt_beta[:, res.keep_idxs]\n",
    "idx = -1\n",
    "plt.plot(est_beta[:, idx], label=\"EST\")\n",
    "plt.plot(gt_beta[:, idx], label=\"GT\")\n",
    "plt.legend()"
   ]
  },
  {
   "cell_type": "code",
   "execution_count": null,
   "id": "883c4365-e74b-4330-bb1d-e090033a7c2e",
   "metadata": {
    "tags": []
   },
   "outputs": [],
   "source": []
  },
  {
   "cell_type": "code",
   "execution_count": null,
   "id": "5a0bab91-13d0-4d5a-8d4a-c81bf753f101",
   "metadata": {},
   "outputs": [],
   "source": []
  },
  {
   "cell_type": "markdown",
   "id": "c6071092-a8df-482e-a1e4-406cf8da1ef1",
   "metadata": {},
   "source": [
    "### Multipe test"
   ]
  },
  {
   "cell_type": "code",
   "execution_count": 13,
   "id": "b8a5f026-e1d1-42cd-855b-3b16cbc947f9",
   "metadata": {
    "execution": {
     "iopub.execute_input": "2024-02-21T03:46:10.353665Z",
     "iopub.status.busy": "2024-02-21T03:46:10.353052Z",
     "iopub.status.idle": "2024-02-21T03:46:10.393945Z",
     "shell.execute_reply": "2024-02-21T03:46:10.393050Z",
     "shell.execute_reply.started": "2024-02-21T03:46:10.353618Z"
    },
    "tags": []
   },
   "outputs": [],
   "source": [
    "def outlier_det(T_vs, ratio_tol=0.05):\n",
    "    \"\"\"\n",
    "    Detects outliers in a given dataset using the interquartile range (IQR) method.\n",
    "\n",
    "    Parameters:\n",
    "    - T_vs (array-like): The input dataset.\n",
    "    - ratio_tol (float, optional): The tolerance ratio for outlier removal. Default is 0.05.\n",
    "\n",
    "    Returns:\n",
    "    - kpidx (ndarray): A boolean array indicating whether each data point is an outlier or not.\n",
    "    \"\"\"\n",
    "    Q1, Q3 = np.quantile(T_vs, [0.25, 0.75])\n",
    "    IQR = Q3 - Q1\n",
    "    upbd = Q3 + 1.5*IQR\n",
    "    lowbd = Q1 - 1.5*IQR\n",
    "    kpidx = np.bitwise_and(T_vs>=lowbd, T_vs<=upbd)\n",
    "    \n",
    "    if np.mean(kpidx)+ ratio_tol < 1:\n",
    "        out_part = np.stack([T_vs - upbd, lowbd - T_vs]).T.max(axis=1);\n",
    "        kpidx = np.ones(len(T_vs), dtype=bool)\n",
    "        kpidx[np.argsort(-out_part)[:int(len(T_vs)*ratio_tol)]] = False\n",
    "    return kpidx"
   ]
  },
  {
   "cell_type": "code",
   "execution_count": 22,
   "id": "506c46a1-0497-4491-bf75-fb97a632f342",
   "metadata": {
    "execution": {
     "iopub.execute_input": "2024-02-21T03:50:24.646006Z",
     "iopub.status.busy": "2024-02-21T03:50:24.645368Z",
     "iopub.status.idle": "2024-02-21T03:51:02.063661Z",
     "shell.execute_reply": "2024-02-21T03:51:02.062479Z",
     "shell.execute_reply.started": "2024-02-21T03:50:24.645955Z"
    },
    "scrolled": true,
    "tags": []
   },
   "outputs": [
    {
     "name": "stderr",
     "output_type": "stream",
     "text": [
      "100%|██████████████████████████████████████████████████████████████████████████| 500/500 [00:34<00:00, 14.40it/s]\n"
     ]
    }
   ],
   "source": [
    "seed = 6\n",
    "N = 4\n",
    "lam = 1.0\n",
    "\n",
    "setting.opt_params.beta = 10 \n",
    "setting.model_params.ws = \"naive\"\n",
    "setting.data_gen_params.n = 500\n",
    "setting.data_gen_params.npts = 10\n",
    "def _run_fn1(seed):\n",
    "    res = _run_fn(seed=seed, lam=lam, N=N, setting=setting, is_cv=False, verbose=1)\n",
    "    res.hypo_test(Cmat, ts=None, is_simpler=False)\n",
    "    test_res = edict()\n",
    "    test_res.update(res.hypo_test_res)\n",
    "    test_res.L0 = torch.sum(torch.linalg.norm(res.est_Gam, axis=0)!=0).item()\n",
    "    test_res.iters = res.conv_iter\n",
    "    return test_res\n",
    "    \n",
    "num_rep = 500\n",
    "with Parallel(n_jobs=20) as parallel:\n",
    "    test_ress = parallel(delayed(_run_fn1)(seed) for seed in tqdm(range(num_rep), total=num_rep))\n",
    "    "
   ]
  },
  {
   "cell_type": "code",
   "execution_count": 23,
   "id": "49b38fe1-fc08-4895-a71a-eb84cc853a8b",
   "metadata": {
    "execution": {
     "iopub.execute_input": "2024-02-21T03:51:03.861145Z",
     "iopub.status.busy": "2024-02-21T03:51:03.860490Z",
     "iopub.status.idle": "2024-02-21T03:51:04.204639Z",
     "shell.execute_reply": "2024-02-21T03:51:04.204104Z",
     "shell.execute_reply.started": "2024-02-21T03:51:03.861091Z"
    },
    "tags": []
   },
   "outputs": [
    {
     "name": "stdout",
     "output_type": "stream",
     "text": [
      "The size is 0.050 and the mean of Tv is 3.889 and thoeretically it is 4. L0 is 2.00.\n",
      "1.0\n"
     ]
    },
    {
     "data": {
      "text/plain": [
       "<matplotlib.legend.Legend at 0x7f54085d9490>"
      ]
     },
     "execution_count": 23,
     "metadata": {},
     "output_type": "execute_result"
    },
    {
     "data": {
      "image/png": "[encoded data removed]",
      "text/plain": [
       "<Figure size 432x288 with 1 Axes>"
      ]
     },
     "metadata": {
      "needs_background": "light"
     },
     "output_type": "display_data"
    }
   ],
   "source": [
    "pvals = np.array([res.pval for res in test_ress])\n",
    "T_vs = np.array([res.T_v for res in test_ress]);\n",
    "L0s = np.array([res.L0 for res in test_ress]);\n",
    "chi_df = Cmat.shape[0]*N\n",
    "kpidx = outlier_det(T_vs, 0.00)\n",
    "print(\n",
    "    f\"The size is {np.mean(pvals[kpidx]<0.05):.3f} and \"\n",
    "    f\"the mean of Tv is {np.mean(T_vs[kpidx]):.3f} and thoeretically it is {chi_df:.0f}. \"\n",
    "    f\"L0 is {np.mean(L0s[kpidx]):.2f}.\"\n",
    "     )\n",
    "\n",
    "print(np.mean(kpidx))\n",
    "xs = np.linspace(0.1, 100, 100)\n",
    "theo_curvs_log = chi2.logpdf(xs, chi_df);\n",
    "plt.plot(xs, np.exp(theo_curvs_log) , label=\"theoretical\")\n",
    "sns.kdeplot(T_vs[kpidx], label=\"empirical\")\n",
    "plt.legend()"
   ]
  },
  {
   "cell_type": "code",
   "execution_count": 33,
   "id": "69217087-2a23-4621-bf04-50e5835a91b6",
   "metadata": {
    "execution": {
     "iopub.execute_input": "2024-02-21T00:33:29.109164Z",
     "iopub.status.busy": "2024-02-21T00:33:29.108469Z",
     "iopub.status.idle": "2024-02-21T00:33:29.414052Z",
     "shell.execute_reply": "2024-02-21T00:33:29.413576Z",
     "shell.execute_reply.started": "2024-02-21T00:33:29.109117Z"
    },
    "tags": []
   },
   "outputs": [
    {
     "name": "stdout",
     "output_type": "stream",
     "text": [
      "The size is 0.060 and the mean of Tv is 3.336 and thoeretically it is 4. L0 is 2.00.\n",
      "1.0\n"
     ]
    },
    {
     "data": {
      "text/plain": [
       "<matplotlib.legend.Legend at 0x7fd3c06fffa0>"
      ]
     },
     "execution_count": 33,
     "metadata": {},
     "output_type": "execute_result"
    },
    {
     "data": {
      "image/png": "[encoded data removed]",
      "text/plain": [
       "<Figure size 432x288 with 1 Axes>"
      ]
     },
     "metadata": {
      "needs_background": "light"
     },
     "output_type": "display_data"
    }
   ],
   "source": [
    "pvals = np.array([res.pval for res in test_ress])\n",
    "T_vs = np.array([res.T_v for res in test_ress]);\n",
    "L0s = np.array([res.L0 for res in test_ress]);\n",
    "chi_df = Cmat.shape[0]*N\n",
    "kpidx = outlier_det(T_vs, 0.00)\n",
    "print(\n",
    "    f\"The size is {np.mean(pvals[kpidx]<0.05):.3f} and \"\n",
    "    f\"the mean of Tv is {np.mean(T_vs[kpidx]):.3f} and thoeretically it is {chi_df:.0f}. \"\n",
    "    f\"L0 is {np.mean(L0s[kpidx]):.2f}.\"\n",
    "     )\n",
    "\n",
    "print(np.mean(kpidx))\n",
    "xs = np.linspace(0.1, 100, 100)\n",
    "theo_curvs_log = chi2.logpdf(xs, chi_df);\n",
    "plt.plot(xs, np.exp(theo_curvs_log) , label=\"theoretical\")\n",
    "sns.kdeplot(T_vs[kpidx], label=\"empirical\")\n",
    "plt.legend()"
   ]
  },
  {
   "cell_type": "code",
   "execution_count": null,
   "id": "804cb3e7-9743-49c8-9603-32fd67e9eb84",
   "metadata": {},
   "outputs": [],
   "source": []
  }
 ],
 "metadata": {
  "kernelspec": {
   "display_name": "Python 3 (ipykernel)",
   "language": "python",
   "name": "python3"
  },
  "language_info": {
   "codemirror_mode": {
    "name": "ipython",
    "version": 3
   },
   "file_extension": ".py",
   "mimetype": "text/x-python",
   "name": "python",
   "nbconvert_exporter": "python",
   "pygments_lexer": "ipython3",
   "version": "3.9.7"
  },
  "toc": {
   "base_numbering": 1,
   "nav_menu": {},
   "number_sections": true,
   "sideBar": true,
   "skip_h1_title": false,
   "title_cell": "Table of Contents",
   "title_sidebar": "Contents",
   "toc_cell": false,
   "toc_position": {
    "height": "calc(100% - 180px)",
    "left": "10px",
    "top": "150px",
    "width": "165px"
   },
   "toc_section_display": true,
   "toc_window_display": true
  },
  "toc-autonumbering": true,
  "toc-showcode": false,
  "toc-showmarkdowntxt": false,
  "toc-showtags": false
 },
 "nbformat": 4,
 "nbformat_minor": 5
}
