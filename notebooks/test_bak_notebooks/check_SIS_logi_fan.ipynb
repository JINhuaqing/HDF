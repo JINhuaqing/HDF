{
 "cells": [
  {
   "cell_type": "markdown",
   "id": "faf0a805",
   "metadata": {},
   "source": []
  },
  {
   "cell_type": "code",
   "execution_count": 1,
   "id": "02ae980e",
   "metadata": {
    "ExecuteTime": {
     "end_time": "2023-05-31T19:57:23.490285Z",
     "start_time": "2023-05-31T19:57:23.481769Z"
    },
    "execution": {
     "iopub.execute_input": "2023-11-21T05:16:53.145911Z",
     "iopub.status.busy": "2023-11-21T05:16:53.145251Z",
     "iopub.status.idle": "2023-11-21T05:16:53.158631Z",
     "shell.execute_reply": "2023-11-21T05:16:53.157807Z",
     "shell.execute_reply.started": "2023-11-21T05:16:53.145862Z"
    },
    "tags": []
   },
   "outputs": [],
   "source": [
    "import sys\n",
    "sys.path.append(\"../../mypkg\")"
   ]
  },
  {
   "cell_type": "code",
   "execution_count": 2,
   "id": "023df78a",
   "metadata": {
    "ExecuteTime": {
     "end_time": "2023-05-31T19:57:34.238839Z",
     "start_time": "2023-05-31T19:57:23.494053Z"
    },
    "execution": {
     "iopub.execute_input": "2023-11-21T05:16:53.637604Z",
     "iopub.status.busy": "2023-11-21T05:16:53.637038Z",
     "iopub.status.idle": "2023-11-21T05:16:56.109356Z",
     "shell.execute_reply": "2023-11-21T05:16:56.108438Z",
     "shell.execute_reply.started": "2023-11-21T05:16:53.637560Z"
    },
    "tags": []
   },
   "outputs": [],
   "source": [
    "import numpy as np\n",
    "import torch\n",
    "import matplotlib.pyplot as plt\n",
    "import seaborn as sns\n",
    "from scipy.stats import pearsonr\n",
    "from numbers import Number\n",
    "\n",
    "from easydict import EasyDict as edict\n",
    "from tqdm import trange, tqdm\n",
    "from scipy.io import loadmat\n",
    "from pprint import pprint\n",
    "import itertools\n",
    "from scipy.stats import chi2\n"
   ]
  },
  {
   "cell_type": "code",
   "execution_count": 3,
   "id": "b9d3cbc6-1ac5-47d6-a0d1-bcbc0be9267e",
   "metadata": {
    "execution": {
     "iopub.execute_input": "2023-11-21T05:16:56.111313Z",
     "iopub.status.busy": "2023-11-21T05:16:56.110738Z",
     "iopub.status.idle": "2023-11-21T05:16:56.138649Z",
     "shell.execute_reply": "2023-11-21T05:16:56.138113Z",
     "shell.execute_reply.started": "2023-11-21T05:16:56.111278Z"
    },
    "tags": []
   },
   "outputs": [],
   "source": [
    "# This will reload all imports as soon as the code changes\n",
    "%load_ext autoreload\n",
    "%autoreload 2"
   ]
  },
  {
   "cell_type": "code",
   "execution_count": 4,
   "id": "b0aa91b2",
   "metadata": {
    "ExecuteTime": {
     "end_time": "2023-05-31T19:57:59.558229Z",
     "start_time": "2023-05-31T19:57:34.292612Z"
    },
    "execution": {
     "iopub.execute_input": "2023-11-21T05:17:03.830316Z",
     "iopub.status.busy": "2023-11-21T05:17:03.829620Z",
     "iopub.status.idle": "2023-11-21T05:17:04.012600Z",
     "shell.execute_reply": "2023-11-21T05:17:04.011238Z",
     "shell.execute_reply.started": "2023-11-21T05:17:03.830253Z"
    },
    "tags": []
   },
   "outputs": [],
   "source": [
    "from constants import DATA_ROOT, RES_ROOT, FIG_ROOT, MIDRES_ROOT\n",
    "from default_paras import def_paras\n",
    "\n",
    "from hdf_utils.data_gen import gen_covs, gen_simu_psd, gen_simu_ts\n",
    "from hdf_utils.fns import fn1, fn2, fn3, fn4, fn5, zero_fn\n",
    "from hdf_utils.fns_sinica import coef_fn, fourier_basis_fn, gen_sini_Xthetas\n",
    "from hdf_utils.likelihood import obt_lin_tm\n",
    "from hdf_utils.SIS import SIS_linear, SIS_GLIM\n",
    "from hdf_utils.utils import gen_lam_seq\n",
    "from hdf_utils.hypo_test import  MS2idxs, obt_test_stat_simple2\n",
    "from utils.matrix import col_vec_fn, col_vec2mat_fn, conju_grad, svd_inverse, cholesky_inv, gen_Dmat \n",
    "from utils.functions import logit_fn\n",
    "from utils.misc import save_pkl, load_pkl, bcross_entropy_loss\n",
    "from splines import obt_bsp_obasis_Rfn, obt_bsp_basis_Rfn_wrapper\n",
    "from projection import euclidean_proj_l1ball\n",
    "from optimization.one_step_opt import OneStepOpt\n",
    "from optimization.cross_validation import CV_err_logi_fn\n",
    "from optimization.opt import optimization\n",
    "from penalties.scad_pen import SCAD\n",
    "from models.logistic_model import LogisticModel\n",
    "from optimization.variable_selection import GIC_fn, GCV_fn\n",
    "\n",
    "from joblib import Parallel, delayed"
   ]
  },
  {
   "cell_type": "code",
   "execution_count": 5,
   "id": "fe0a4a46",
   "metadata": {
    "ExecuteTime": {
     "end_time": "2023-05-31T19:57:59.621784Z",
     "start_time": "2023-05-31T19:57:59.568097Z"
    },
    "execution": {
     "iopub.execute_input": "2023-11-21T05:17:05.049202Z",
     "iopub.status.busy": "2023-11-21T05:17:05.048516Z",
     "iopub.status.idle": "2023-11-21T05:17:05.087726Z",
     "shell.execute_reply": "2023-11-21T05:17:05.087190Z",
     "shell.execute_reply.started": "2023-11-21T05:17:05.049156Z"
    },
    "tags": []
   },
   "outputs": [],
   "source": [
    "plt.style.use(FIG_ROOT/\"base.mplstyle\")\n",
    "torch.set_default_tensor_type(torch.DoubleTensor)"
   ]
  },
  {
   "cell_type": "code",
   "execution_count": null,
   "id": "e0cb5a3d-1ab1-4bc0-bfce-d7ebaedb0391",
   "metadata": {},
   "outputs": [],
   "source": []
  },
  {
   "cell_type": "code",
   "execution_count": null,
   "id": "d0af2f35",
   "metadata": {},
   "outputs": [],
   "source": []
  },
  {
   "cell_type": "markdown",
   "id": "dd9c6514",
   "metadata": {},
   "source": [
    "# Param and fns"
   ]
  },
  {
   "cell_type": "code",
   "execution_count": null,
   "id": "a10d559c-8d6a-428a-bdb9-23c0a5aac96b",
   "metadata": {},
   "outputs": [],
   "source": []
  },
  {
   "cell_type": "markdown",
   "id": "21e4ccea",
   "metadata": {},
   "source": [
    "## Params"
   ]
  },
  {
   "cell_type": "code",
   "execution_count": 6,
   "id": "fd29f0de",
   "metadata": {
    "ExecuteTime": {
     "end_time": "2023-05-31T23:31:16.397628Z",
     "start_time": "2023-05-31T23:31:16.221812Z"
    },
    "execution": {
     "iopub.execute_input": "2023-11-21T05:17:14.800687Z",
     "iopub.status.busy": "2023-11-21T05:17:14.800013Z",
     "iopub.status.idle": "2023-11-21T05:17:14.872867Z",
     "shell.execute_reply": "2023-11-21T05:17:14.871826Z",
     "shell.execute_reply.started": "2023-11-21T05:17:14.800643Z"
    },
    "tags": []
   },
   "outputs": [
    {
     "name": "stdout",
     "output_type": "stream",
     "text": [
      "[ 0.          0.          0.          0.          0.          0.\n",
      "  0.          0.          0.          0.          0.          0.\n",
      "  0.          0.          0.          0.          0.          0.\n",
      "  0.          0.          0.          0.          0.          0.\n",
      "  0.          0.          0.          0.          0.          0.\n",
      "  0.          0.          0.          0.          0.          0.\n",
      "  0.          0.          0.          0.          0.          0.\n",
      "  0.          0.          0.          0.          0.          0.\n",
      "  0.          0.          0.          0.          0.          0.\n",
      "  0.          0.          0.          0.          0.          0.\n",
      "  0.          0.          0.          0.          0.          0.\n",
      "  0.         14.87358566]\n"
     ]
    }
   ],
   "source": [
    "np.random.seed(0)\n",
    "#obt_bsp = obt_bsp_obasis_Rfn\n",
    "obt_bsp = obt_bsp_basis_Rfn_wrapper\n",
    "paras = edict(def_paras.copy())\n",
    "\n",
    "\n",
    "\n",
    "# Others\n",
    "paras.num_rep = 200 \n",
    "paras.init_noise_sd = -1 # the sd of the noise added to the true value for initial values, if -1, make init 0\n",
    "paras.SIS_ratio = 0.20 # the ratio to keep with SIS procedure\n",
    "paras.linear_theta_update=\"cholesky_inv\"\n",
    "\n",
    "# candidate sets of tuning parameters, only two \n",
    "# lambda: penalty term\n",
    "# N: num of basis\n",
    "paras.can_lams = [0.01, 0.1, 0.2, 0.3, 0.4, 0.6, 1, 2, 8] # for non\n",
    "paras.can_lams = [0.001, 0.3, 0.6, 0.8, 1, 1.2, 1.4, 2, 16] # for orthogonal basis\n",
    "paras.can_Ns = [4, 6, 8]\n",
    "\n",
    "\n",
    "# generating dataset\n",
    "paras.n = 200 # num of data obs to be genareted\n",
    "paras.npts = 100 # num of pts to evaluate X(s)\n",
    "paras.d = 68 # num of ROIs\n",
    "paras.q = 3 # num of other covariates\n",
    "paras.types_ = [\"int\", \"c\", 2]\n",
    "paras.srho = 0.3 # corr from sinica\n",
    "paras.is_std = False # std PSD or not\n",
    "\n",
    "# b-spline\n",
    "paras.x = np.linspace(0, 1, paras.npts)\n",
    "paras.basis_mats = []\n",
    "for N in paras.can_Ns:\n",
    "    paras.basis_mats.append(\n",
    "        torch.tensor(obt_bsp(paras.x, N, paras.ord)).to(torch.get_default_dtype())\n",
    "    )\n",
    "\n",
    "# True parameters\n",
    "paras.alp_GT = np.array([-1, -1, 2])\n",
    "# fourier basis\n",
    "cs = [0.0, 0.0, 0.0] # for sinica paper\n",
    "paras.fourier_basis = fourier_basis_fn(paras.x)[:, :]\n",
    "paras.fourier_basis_coefs = ([cs[0]*coef_fn(0.2), cs[1]*coef_fn(0.2), cs[2]*coef_fn(0.2)] + \n",
    "                             [np.zeros(50)] * (paras.d-3-1) +\n",
    "                             [coef_fn(0.2)]\n",
    "                             )\n",
    "paras.fourier_basis_coefs = np.array(paras.fourier_basis_coefs).T \n",
    "paras.beta_GT = paras.fourier_basis @ paras.fourier_basis_coefs\n",
    "print(np.linalg.norm(paras.beta_GT, axis=0))\n",
    "\n",
    "paras.Gam_GT_ests = [(np.linalg.inv(basis_mat.numpy().T \n",
    "                                  @ basis_mat.numpy()) \n",
    "                                  @ basis_mat.numpy().T \n",
    "                                  @ paras.beta_GT) \n",
    "                     for basis_mat in paras.basis_mats]\n",
    "\n",
    "# optimization\n",
    "# not used, to use it, you have to know GT\n",
    "#Rmins = [(2*(np.linalg.norm(paras.Gam_GT_ests[ix]\n",
    "#                            /np.sqrt(paras.can_Ns[ix]), axis=0).sum() \n",
    "#           + np.abs(paras.alp_GT).sum())) \n",
    "#        for ix in range(len(paras.can_Ns))]\n",
    "#paras.Rmin = np.max(Rmins)\n",
    "paras.Rmin = 100000\n",
    "paras.Rfct = 2\n",
    "paras.stop_cv = 5e-4\n",
    "paras.max_iter = 10000\n",
    "paras.num_cv_fold = 5\n",
    "\n",
    "paras.NR_eps = 1e-4 # the stop criteria for Newton-Ralpson method, only for logistic model\n",
    "paras.NR_maxit = 100\n",
    "\n",
    "paras.cv_is_center = True\n",
    "paras.cv_SIS_ratio = 0.2\n",
    "paras.cv_SIS_pen = 1\n",
    "paras.cv_SIS_basis_mat = torch.tensor(obt_bsp(paras.x, 6, paras.ord)).to(torch.get_default_dtype())\n",
    "paras.num_cv_fold = 5\n",
    "paras.cv_init_noise_sd = -1\n",
    "\n",
    "\n",
    "# hypothesis test\n",
    "#without loss of generality, we assume the idxs in M is the first m betas\n",
    "paras.sel_idx = np.arange(1, paras.d) # M^c set, \n",
    "paras.M_idxs = np.delete(np.arange(paras.d), paras.sel_idx) # the M set\n",
    "paras.Cmats = [\n",
    "    np.eye(len(paras.M_idxs)), # m x m I matrix, [beta1, beta2] = [0, 0]\n",
    "]\n",
    "paras.svdinv_eps_Q = 1e-7 # now 0 means inverse, small value like 0.01 means remove small eig vals.\n",
    "paras.svdinv_eps_Psi = 1e-7\n",
    "\n",
    "paras.save_dir = RES_ROOT/\"simu_linear_sinica_samebetaX_tmp\"\n",
    "if not paras.save_dir.exists():\n",
    "    paras.save_dir.mkdir()"
   ]
  },
  {
   "cell_type": "code",
   "execution_count": null,
   "id": "b2111295-b7e5-412e-928a-cc0d9cee2083",
   "metadata": {},
   "outputs": [],
   "source": []
  },
  {
   "cell_type": "markdown",
   "id": "66c2f90f",
   "metadata": {
    "ExecuteTime": {
     "end_time": "2022-12-08T18:09:55.509389Z",
     "start_time": "2022-12-08T18:09:55.343396Z"
    }
   },
   "source": [
    "## Fns"
   ]
  },
  {
   "cell_type": "code",
   "execution_count": null,
   "id": "1de5567c-6bab-438d-971c-0e40b0c4c53d",
   "metadata": {
    "ExecuteTime": {
     "end_time": "2023-05-31T23:31:24.456489Z",
     "start_time": "2023-05-31T23:31:24.440199Z"
    },
    "code_folding": [],
    "tags": []
   },
   "outputs": [],
   "source": []
  },
  {
   "cell_type": "code",
   "execution_count": 7,
   "id": "34850066-543b-4578-9e3e-9c9bd736fbd1",
   "metadata": {
    "execution": {
     "iopub.execute_input": "2023-11-21T05:17:17.015796Z",
     "iopub.status.busy": "2023-11-21T05:17:17.015122Z",
     "iopub.status.idle": "2023-11-21T05:17:17.061523Z",
     "shell.execute_reply": "2023-11-21T05:17:17.060947Z",
     "shell.execute_reply.started": "2023-11-21T05:17:17.015751Z"
    },
    "tags": []
   },
   "outputs": [],
   "source": [
    "def _is_exists(tmp_paras):\n",
    "    \"\"\"\n",
    "    Check if a file with the given parameters exists.\n",
    "\n",
    "    Args:\n",
    "    tmp_paras:\n",
    "        d (int): The value of d in the file name.\n",
    "        n (int): The value of n in the file name.\n",
    "        npts:\n",
    "        is_std\n",
    "        seed (int): The seed value in the file name.\n",
    "\n",
    "    Returns:\n",
    "    bool or Path: Returns the file path if the file exists, otherwise returns False.\n",
    "    \"\"\"\n",
    "    _get_n = lambda fil: int(fil.stem.split(\"_\")[2].split(\"-\")[-1])\n",
    "    fils = MIDRES_ROOT.glob(f\"PSD_d-{tmp_paras.d}_n-*npts-{tmp_paras.npts}_is_std-{tmp_paras.is_std}\")\n",
    "    # We do not need fil with n as we know the data with corresponding seed does not exist\n",
    "    fils = [fil for fil in fils if _get_n(fil) !=tmp_paras.n]\n",
    "    if len(fils) == 0:\n",
    "        return False\n",
    "    else:\n",
    "        fils = sorted(fils, key=_get_n)\n",
    "        ns = np.array([_get_n(fil) for fil in fils])\n",
    "        idxs = np.where(tmp_paras.n <= ns)[0]\n",
    "        if len(idxs) == 0:\n",
    "            return False\n",
    "        else:\n",
    "            fil =fils[idxs[0]]\n",
    "            path = MIDRES_ROOT/fil/f\"seed_{tmp_paras.seed}.pkl\"\n",
    "            return path if path.exists() else False\n",
    "def _get_filename(params):\n",
    "    keys = [\"d\", \"n\", \"npts\", \"is_std\"]\n",
    "    folder_name = 'PSD_'+'_'.join(f\"{k}-{params[k]}\" for k in keys)\n",
    "    return folder_name + f'/seed_{params.seed}.pkl'\n",
    "def _gen_simu_data_all_PSD(seed, paras, verbose=False, is_gen=False):\n",
    "    \"\"\"\n",
    "    Generate simulated data for all parameters.\n",
    "\n",
    "    Args:\n",
    "        seed (int): Seed for random number generator.\n",
    "        paras (dict): Dictionary containing the following parameters:\n",
    "            - n (int): Number of samples.\n",
    "            - d (int): Number of dimensions.\n",
    "            - q (int): Number of covariates.\n",
    "            - types_ (list): List of types for generating covariates.\n",
    "            - alp_GT (list): List of ground truth alpha values.\n",
    "            - beta_GT (list): List of ground truth beta values.\n",
    "            - freqs (list): List of frequencies for generating simulated PSD.\n",
    "            - sigma2 (float): Variance of the noise.\n",
    "        verbose(bool): Verbose or not\n",
    "        is_gen(bool): Only for generating or not. If True, only checking or generating X, not return anything.\n",
    "\n",
    "    Returns:\n",
    "        all_data (dict): Dictionary containing the following simulated data:\n",
    "            - X (torch.Tensor): Tensor of shape (n, d, npts) containing the simulated PSD.\n",
    "            - Y (torch.Tensor): Tensor of shape (n,) containing the response variable.\n",
    "            - Z (torch.Tensor): Tensor of shape (n, q) containing the covariates.\n",
    "    \"\"\"\n",
    "    np.random.seed(seed)\n",
    "    _paras = edict(paras.copy())\n",
    "    # simulated PSD\n",
    "    assert len(_paras.types_) == _paras.q\n",
    "    assert len(_paras.alp_GT) == _paras.q\n",
    "    con_idxs = [typ ==\"c\" for typ in _paras.types_]\n",
    "    tmp_paras = edict()\n",
    "    tmp_paras.seed = seed \n",
    "    tmp_paras.n = _paras.n\n",
    "    tmp_paras.d = _paras.d\n",
    "    tmp_paras.npts = _paras.npts\n",
    "    tmp_paras.is_std = _paras.is_std\n",
    "    \n",
    "    file_path = MIDRES_ROOT/_get_filename(tmp_paras)\n",
    "    if file_path.exists():\n",
    "        if is_gen:\n",
    "            return None\n",
    "        simu_curvs = load_pkl(file_path, verbose=verbose)\n",
    "    else:\n",
    "        ofil =  _is_exists(tmp_paras)\n",
    "        if ofil:\n",
    "            if is_gen:\n",
    "                return None\n",
    "            simu_curvs = load_pkl(ofil, verbose=verbose)\n",
    "        else:\n",
    "            if _paras.is_std:\n",
    "                simu_curvs = gen_simu_psd(_paras.n, _paras.d, _paras.freqs, prior_sd=10, n_jobs=28, is_prog=False, is_std=_paras.is_std)\n",
    "            else:\n",
    "                simu_curvs = gen_simu_psd(_paras.n, _paras.d, _paras.freqs, prior_sd=10, n_jobs=28, is_prog=False, is_std=_paras.is_std)\n",
    "                simu_curvs = simu_curvs - simu_curvs.mean(axis=-1, keepdims=True); # not std, but center it\n",
    "            save_pkl(file_path, simu_curvs, verbose=verbose)\n",
    "    if is_gen:\n",
    "        return None\n",
    "    simu_curvs = simu_curvs[:_paras.n]\n",
    "    simu_curvs = (simu_curvs + np.random.randn(*simu_curvs.shape)*5)*1 # larger\n",
    "    #simu_curvs = np.random.randn(_paras.n, _paras.d, _paras.npts)* 10\n",
    "    simu_covs = gen_covs(_paras.n, _paras.types_)\n",
    "    \n",
    "    # linear term and Y\n",
    "    int_part = np.sum(_paras.beta_GT.T* simu_curvs[:, :, :], axis=1).mean(axis=1)\n",
    "    cov_part = simu_covs @ _paras.alp_GT \n",
    "    \n",
    "    # linear term\n",
    "    lin_term = cov_part + int_part\n",
    "    probs = logit_fn(lin_term)\n",
    "    \n",
    "    # Y \n",
    "    Y = np.random.binomial(1, probs, size=len(probs))\n",
    "    \n",
    "    # center\n",
    "    X_centered = simu_curvs - simu_curvs.mean(axis=0, keepdims=True)\n",
    "    # this step is not necessary for simulation as I did so in generating data step\n",
    "    # but for real data, plz do this\n",
    "    Z_std = simu_covs.copy()\n",
    "    Z_std[:, con_idxs] = ((simu_covs[:, con_idxs] - simu_covs[:, con_idxs].mean(axis=0, keepdims=True))\n",
    "                          /simu_covs[:, con_idxs].std(axis=0, keepdims=True))\n",
    "    \n",
    "    \n",
    "    # To torch\n",
    "    X = torch.Tensor(X_centered) # n x d x npts\n",
    "    Z = torch.Tensor(Z_std) # n x q\n",
    "    Y = torch.Tensor(Y)\n",
    "    \n",
    "    all_data = edict()\n",
    "    all_data.X = X\n",
    "    all_data.Y = Y\n",
    "    all_data.Z = Z\n",
    "    #all_data.lin_term = lin_term\n",
    "    return all_data\n"
   ]
  },
  {
   "cell_type": "code",
   "execution_count": 8,
   "id": "41ecf812-4dea-45f9-bd0e-086ccd3d9aab",
   "metadata": {
    "execution": {
     "iopub.execute_input": "2023-11-21T05:17:17.333995Z",
     "iopub.status.busy": "2023-11-21T05:17:17.333379Z",
     "iopub.status.idle": "2023-11-21T05:17:17.380784Z",
     "shell.execute_reply": "2023-11-21T05:17:17.380164Z",
     "shell.execute_reply.started": "2023-11-21T05:17:17.333947Z"
    },
    "tags": []
   },
   "outputs": [],
   "source": [
    "def _gen_simu_data_all_linear_PSD(seed, paras, verbose=False, is_gen=False):\n",
    "    \"\"\"\n",
    "    Generate simulated data for all parameters.\n",
    "\n",
    "    Args:\n",
    "        seed (int): Seed for random number generator.\n",
    "        paras (dict): Dictionary containing the following parameters:\n",
    "            - n (int): Number of samples.\n",
    "            - d (int): Number of dimensions.\n",
    "            - q (int): Number of covariates.\n",
    "            - types_ (list): List of types for generating covariates.\n",
    "            - alp_GT (list): List of ground truth alpha values.\n",
    "            - beta_GT (list): List of ground truth beta values.\n",
    "            - freqs (list): List of frequencies for generating simulated PSD.\n",
    "            - sigma2 (float): Variance of the noise.\n",
    "        verbose(bool): Verbose or not\n",
    "        is_gen(bool): Only for generating or not. If True, only checking or generating X, not return anything.\n",
    "\n",
    "    Returns:\n",
    "        all_data (dict): Dictionary containing the following simulated data:\n",
    "            - X (torch.Tensor): Tensor of shape (n, d, npts) containing the simulated PSD.\n",
    "            - Y (torch.Tensor): Tensor of shape (n,) containing the response variable.\n",
    "            - Z (torch.Tensor): Tensor of shape (n, q) containing the covariates.\n",
    "    \"\"\"\n",
    "    np.random.seed(seed)\n",
    "    _paras = edict(paras.copy())\n",
    "    # simulated PSD\n",
    "    assert len(_paras.types_) == _paras.q\n",
    "    assert len(_paras.alp_GT) == _paras.q\n",
    "    con_idxs = [typ ==\"c\" for typ in _paras.types_]\n",
    "    tmp_paras = edict()\n",
    "    tmp_paras.seed = seed \n",
    "    tmp_paras.n = _paras.n\n",
    "    tmp_paras.d = _paras.d\n",
    "    tmp_paras.npts = _paras.npts\n",
    "    tmp_paras.is_std = _paras.is_std\n",
    "    \n",
    "    file_path = MIDRES_ROOT/_get_filename(tmp_paras)\n",
    "    if file_path.exists():\n",
    "        if is_gen:\n",
    "            return None\n",
    "        simu_curvs = load_pkl(file_path, verbose=verbose)\n",
    "    else:\n",
    "        ofil =  _is_exists(tmp_paras)\n",
    "        if ofil:\n",
    "            if is_gen:\n",
    "                return None\n",
    "            simu_curvs = load_pkl(ofil, verbose=verbose)\n",
    "        else:\n",
    "            if _paras.is_std:\n",
    "                simu_curvs = gen_simu_psd(_paras.n, _paras.d, _paras.freqs, prior_sd=10, n_jobs=28, is_prog=False, is_std=_paras.is_std)\n",
    "            else:\n",
    "                simu_curvs = gen_simu_psd(_paras.n, _paras.d, _paras.freqs, prior_sd=10, n_jobs=28, is_prog=False, is_std=_paras.is_std)\n",
    "                simu_curvs = simu_curvs - simu_curvs.mean(axis=-1, keepdims=True); # not std, but center it\n",
    "            save_pkl(file_path, simu_curvs, verbose=verbose)\n",
    "    if is_gen:\n",
    "        return None\n",
    "    simu_curvs = simu_curvs[:_paras.n]\n",
    "    simu_curvs = (simu_curvs + np.random.randn(*simu_curvs.shape)*5)*1 # larger\n",
    "    #simu_curvs = np.random.randn(_paras.n, _paras.d, _paras.npts)* 10\n",
    "    simu_covs = gen_covs(_paras.n, _paras.types_)\n",
    "    \n",
    "    # linear term and Y\n",
    "    int_part = np.sum(_paras.beta_GT.T* simu_curvs[:, :, :], axis=1).mean(axis=1)\n",
    "    cov_part = simu_covs @ _paras.alp_GT \n",
    "    \n",
    "    # linear term\n",
    "    lin_term = cov_part + int_part\n",
    "    \n",
    "    # Y \n",
    "    Y = lin_term + np.random.randn(_paras.n)*np.sqrt(1)\n",
    "    \n",
    "    # center\n",
    "    Y_centered = Y - Y.mean(axis=0, keepdims=True)\n",
    "    X_centered = simu_curvs - simu_curvs.mean(axis=0, keepdims=True)\n",
    "    # this step is not necessary for simulation as I did so in generating data step\n",
    "    # but for real data, plz do this\n",
    "    Z_std = simu_covs.copy()\n",
    "    Z_std[:, con_idxs] = ((simu_covs[:, con_idxs] - simu_covs[:, con_idxs].mean(axis=0, keepdims=True))\n",
    "                          /simu_covs[:, con_idxs].std(axis=0, keepdims=True))\n",
    "    \n",
    "    \n",
    "    # To torch\n",
    "    X = torch.Tensor(X_centered) # n x d x npts\n",
    "    Z = torch.Tensor(Z_std) # n x q\n",
    "    Y = torch.Tensor(Y_centered)\n",
    "    \n",
    "    all_data = edict()\n",
    "    all_data.X = X\n",
    "    all_data.Y = Y\n",
    "    all_data.Z = Z\n",
    "    #all_data.lin_term = lin_term\n",
    "    return all_data\n"
   ]
  },
  {
   "cell_type": "code",
   "execution_count": 9,
   "id": "0f30b88f",
   "metadata": {
    "ExecuteTime": {
     "end_time": "2023-05-31T23:31:24.456489Z",
     "start_time": "2023-05-31T23:31:24.440199Z"
    },
    "code_folding": [],
    "execution": {
     "iopub.execute_input": "2023-11-21T05:17:17.595645Z",
     "iopub.status.busy": "2023-11-21T05:17:17.594974Z",
     "iopub.status.idle": "2023-11-21T05:17:17.636721Z",
     "shell.execute_reply": "2023-11-21T05:17:17.636193Z",
     "shell.execute_reply.started": "2023-11-21T05:17:17.595601Z"
    },
    "tags": []
   },
   "outputs": [],
   "source": [
    "def _gen_simu_data_all(seed, paras, verbose=False):\n",
    "    \"\"\"\n",
    "    Generate simulated data for all parameters.\n",
    "\n",
    "    Args:\n",
    "        seed (int): Seed for random number generator.\n",
    "        paras (dict): Dictionary containing the following parameters:\n",
    "            - srho: corr from sinica\n",
    "            - fourier_basis: The fourier basis for generating X, npts x nbasis\n",
    "            - n (int): Number of samples.\n",
    "            - d (int): Number of dimensions.\n",
    "            - q (int): Number of covariates.\n",
    "            - types_ (list): List of types for generating covariates.\n",
    "            - alp_GT (list): List of ground truth alpha values.\n",
    "            - beta_GT (list): List of ground truth beta values.\n",
    "            - freqs (list): List of frequencies for generating simulated PSD.\n",
    "            - sigma2 (float): Variance of the noise.\n",
    "        verbose(bool): Verbose or not\n",
    "\n",
    "    Returns:\n",
    "        all_data (dict): Dictionary containing the following simulated data:\n",
    "            - X (torch.Tensor): Tensor of shape (n, d, npts) containing the simulated PSD.\n",
    "            - Y (torch.Tensor): Tensor of shape (n,) containing the response variable.\n",
    "            - Z (torch.Tensor): Tensor of shape (n, q) containing the covariates.\n",
    "    \"\"\"\n",
    "    torch.set_default_tensor_type(torch.DoubleTensor)\n",
    "    np.random.seed(seed)\n",
    "    _paras = edict(paras.copy())\n",
    "    # simulated PSD\n",
    "    assert len(_paras.types_) == _paras.q\n",
    "    assert len(_paras.alp_GT) == _paras.q\n",
    "    con_idxs = [typ ==\"c\" for typ in _paras.types_]\n",
    "   \n",
    "    thetas = gen_sini_Xthetas(_paras.srho, _paras.n, _paras.d);\n",
    "    simu_curvs = thetas @ _paras.fourier_basis.T; # n x d x npts\n",
    "    #simu_curvs = np.random.randn(_paras.n, _paras.d, _paras.npts)*10\n",
    "    simu_covs = gen_covs(_paras.n, _paras.types_)\n",
    "    \n",
    "    # linear term and Y\n",
    "    int_part = np.sum(_paras.beta_GT.T* simu_curvs[:, :, :], axis=1).mean(axis=1)\n",
    "    cov_part = simu_covs @ _paras.alp_GT \n",
    "    \n",
    "    # linear term\n",
    "    lin_term = cov_part + int_part\n",
    "    probs = logit_fn(lin_term)\n",
    "    \n",
    "    # Y \n",
    "    Y = np.random.binomial(1, probs, size=len(probs))\n",
    "    \n",
    "    X_centered = simu_curvs - simu_curvs.mean(axis=0, keepdims=True)\n",
    "    # this step is not necessary for simulation as I did so in generating data step\n",
    "    # but for real data, plz do this\n",
    "    Z_std = simu_covs.copy()\n",
    "    Z_std[:, con_idxs] = (simu_covs[:, con_idxs] - simu_covs[:, con_idxs].mean(axis=0, keepdims=True))/simu_covs[:, con_idxs].std(axis=0, keepdims=True)\n",
    "    \n",
    "    \n",
    "    # To torch\n",
    "    X = torch.Tensor(X_centered) # n x d x npts\n",
    "    Z = torch.Tensor(Z_std) # n x q\n",
    "    Y = torch.Tensor(Y)\n",
    "    \n",
    "    all_data = edict()\n",
    "    all_data.X = X\n",
    "    all_data.Y = Y\n",
    "    all_data.Z = Z\n",
    "    all_data.lin_term = lin_term\n",
    "    return all_data"
   ]
  },
  {
   "cell_type": "code",
   "execution_count": 10,
   "id": "84ee463e-8f66-414e-a177-7f206fc2e5f6",
   "metadata": {
    "execution": {
     "iopub.execute_input": "2023-11-21T05:17:17.914106Z",
     "iopub.status.busy": "2023-11-21T05:17:17.913491Z",
     "iopub.status.idle": "2023-11-21T05:17:17.956992Z",
     "shell.execute_reply": "2023-11-21T05:17:17.956311Z",
     "shell.execute_reply.started": "2023-11-21T05:17:17.914059Z"
    },
    "tags": []
   },
   "outputs": [],
   "source": [
    "def _gen_simu_data_all_linear(seed, paras, verbose=False):\n",
    "    \"\"\"\n",
    "    Generate simulated data for all parameters.\n",
    "\n",
    "    Args:\n",
    "        seed (int): Seed for random number generator.\n",
    "        paras (dict): Dictionary containing the following parameters:\n",
    "            - srho: corr from sinica\n",
    "            - fourier_basis: The fourier basis for generating X, npts x nbasis\n",
    "            - n (int): Number of samples.\n",
    "            - d (int): Number of dimensions.\n",
    "            - q (int): Number of covariates.\n",
    "            - types_ (list): List of types for generating covariates.\n",
    "            - alp_GT (list): List of ground truth alpha values.\n",
    "            - beta_GT (list): List of ground truth beta values.\n",
    "            - freqs (list): List of frequencies for generating simulated PSD.\n",
    "            - sigma2 (float): Variance of the noise.\n",
    "        verbose(bool): Verbose or not\n",
    "\n",
    "    Returns:\n",
    "        all_data (dict): Dictionary containing the following simulated data:\n",
    "            - X (torch.Tensor): Tensor of shape (n, d, npts) containing the simulated PSD.\n",
    "            - Y (torch.Tensor): Tensor of shape (n,) containing the response variable.\n",
    "            - Z (torch.Tensor): Tensor of shape (n, q) containing the covariates.\n",
    "    \"\"\"\n",
    "    torch.set_default_tensor_type(torch.DoubleTensor)\n",
    "    np.random.seed(seed)\n",
    "    _paras = edict(paras.copy())\n",
    "    # simulated PSD\n",
    "    assert len(_paras.types_) == _paras.q\n",
    "    assert len(_paras.alp_GT) == _paras.q\n",
    "    con_idxs = [typ ==\"c\" for typ in _paras.types_]\n",
    "   \n",
    "    thetas = gen_sini_Xthetas(_paras.srho, _paras.n, _paras.d);\n",
    "    simu_curvs = thetas @ _paras.fourier_basis.T; # n x d x npts\n",
    "    #simu_curvs = np.random.randn(_paras.n, _paras.d, _paras.npts)*10\n",
    "    simu_covs = gen_covs(_paras.n, _paras.types_)\n",
    "    \n",
    "    # linear term and Y\n",
    "    int_part = np.sum(_paras.beta_GT.T* simu_curvs[:, :, :], axis=1).mean(axis=1)\n",
    "    cov_part = simu_covs @ _paras.alp_GT \n",
    "    \n",
    "    # linear term\n",
    "    lin_term = cov_part + int_part\n",
    "    \n",
    "    # Y \n",
    "    Y = lin_term + np.random.randn(_paras.n)*np.sqrt(1)\n",
    "    \n",
    "    Y_centered = Y - Y.mean(axis=0, keepdims=True)\n",
    "    X_centered = simu_curvs - simu_curvs.mean(axis=0, keepdims=True)\n",
    "    # this step is not necessary for simulation as I did so in generating data step\n",
    "    # but for real data, plz do this\n",
    "    Z_std = simu_covs.copy()\n",
    "    Z_std[:, con_idxs] = (simu_covs[:, con_idxs] - simu_covs[:, con_idxs].mean(axis=0, keepdims=True))/simu_covs[:, con_idxs].std(axis=0, keepdims=True)\n",
    "    \n",
    "    \n",
    "    # To torch\n",
    "    X = torch.Tensor(X_centered) # n x d x npts\n",
    "    Z = torch.Tensor(Z_std) # n x q\n",
    "    Y = torch.Tensor(Y_centered)\n",
    "    \n",
    "    all_data = edict()\n",
    "    all_data.X = X\n",
    "    all_data.Y = Y\n",
    "    all_data.Z = Z\n",
    "    #all_data.lin_term = lin_term\n",
    "    return all_data"
   ]
  },
  {
   "cell_type": "code",
   "execution_count": 11,
   "id": "98698202-7d40-4646-b807-4b2e3886ca74",
   "metadata": {
    "execution": {
     "iopub.execute_input": "2023-11-21T05:17:18.544651Z",
     "iopub.status.busy": "2023-11-21T05:17:18.544076Z",
     "iopub.status.idle": "2023-11-21T05:17:18.648546Z",
     "shell.execute_reply": "2023-11-21T05:17:18.647993Z",
     "shell.execute_reply.started": "2023-11-21T05:17:18.544607Z"
    },
    "tags": []
   },
   "outputs": [
    {
     "data": {
      "text/plain": [
       "(tensor([ 1.0000e+00, -1.1102e-17,  5.2500e-01]),\n",
       " tensor([-1.2223, -0.1714,  0.2592, -1.8299, -3.2163, -2.6977,  0.2903,  2.8682,\n",
       "         -0.6938,  0.5188, -2.1654,  0.3697, -0.7638,  0.9261,  0.5361, -1.3614,\n",
       "         -1.7256,  1.1519,  2.0933,  5.4448,  0.0158,  0.1649, -1.9775,  2.5033,\n",
       "         -1.3338, -1.1901, -4.5474,  2.5667, -5.2240, -0.1789,  2.0546,  4.0578,\n",
       "         -1.1062,  2.6920, -1.1512, -1.7981, -1.3846, -4.7357,  3.3282,  1.6827,\n",
       "          0.9379, -2.2843,  1.3728, -2.4531, -6.3198, -2.4061,  1.1092,  0.8318,\n",
       "         -2.2973, -0.7115,  0.2879, -2.3900,  0.0137,  2.3592,  3.1975,  2.4395,\n",
       "         -3.3832, -2.4672, -0.2525, -2.6322,  1.1833,  0.6883,  2.3989, -0.6867,\n",
       "          1.6730,  1.1484,  1.1989, -0.2415, -0.2462,  2.3820,  3.9740,  2.0459,\n",
       "          0.2325, -0.9444,  1.0879, -3.3824, -1.5098,  4.9409,  4.0964, -0.2297,\n",
       "          0.3981, -0.7960,  3.2956, -4.0978,  1.4195,  2.0332, -0.8023,  1.6129,\n",
       "          1.4886, -0.2471,  2.2839,  0.4192,  0.7189,  5.2990, -0.0900,  2.7811,\n",
       "          1.2618, -2.6418,  1.2626, -0.2209, -2.9068,  1.3877, -4.7045,  0.0805,\n",
       "         -1.6541,  0.6073, -0.1223, -5.6273, -1.3367,  2.0052, -2.1121,  1.6885,\n",
       "         -4.5297,  3.5251,  0.1710, -7.6202, -1.4736,  0.2529, -0.6795,  0.1558,\n",
       "          1.7127,  2.5992,  3.2106,  0.0080, -1.0520,  3.5005,  0.7292, -1.1201,\n",
       "          1.9949, -0.5085, -2.0489,  2.2624,  1.7611, -0.1607,  1.7802,  0.2666,\n",
       "         -4.6890, -2.0962,  0.0442,  1.2556, -0.9603,  3.0800,  2.8593, -3.2235,\n",
       "          1.9699,  2.6239, -3.3198, -0.0704, -1.7771,  1.4904,  3.0036, -2.0220,\n",
       "          3.0117,  3.3767,  1.3584,  3.6521, -1.7558, -7.1438, -3.5469,  0.9581,\n",
       "          2.6137, -0.7034, -2.4635,  2.1760, -1.5254,  2.6152, -4.0343,  2.1448,\n",
       "         -4.5645,  1.9679,  0.4043,  0.3655,  4.0473,  1.2234,  0.0927, -4.6048,\n",
       "          2.0324, -0.7535, -0.7778,  1.4206, -0.0977,  4.1416, -2.8832, -2.6831,\n",
       "         -1.5178,  4.1262,  3.0950, -2.2649,  1.4587, -0.6530, -0.7098, -1.8817,\n",
       "          1.7477, -0.5562, -1.4573, -0.7910, -4.4543, -0.9180,  2.8594, -1.5492]),\n",
       " tensor(-7.9936e-17),\n",
       " tensor([[-2.4869e-16,  4.7695e-15, -2.4869e-15,  ..., -1.0658e-14,\n",
       "           1.3056e-15, -4.8495e-15],\n",
       "         [-6.1640e-15, -6.0130e-15, -1.3500e-15,  ..., -1.1404e-14,\n",
       "           1.2852e-14,  8.2157e-15],\n",
       "         [ 3.6948e-15,  1.2470e-14,  1.6129e-14,  ..., -1.4477e-15,\n",
       "           5.7909e-15,  1.2612e-15],\n",
       "         ...,\n",
       "         [-1.7231e-15,  3.4817e-15,  3.9879e-15,  ..., -5.9242e-15,\n",
       "           6.1995e-15,  7.5406e-15],\n",
       "         [-5.0360e-15, -5.9508e-16,  5.4268e-15,  ...,  1.0143e-14,\n",
       "          -8.3134e-15,  4.6541e-15],\n",
       "         [ 3.6326e-15, -1.4477e-14, -9.1127e-15,  ...,  3.6415e-15,\n",
       "           2.4070e-15,  8.7041e-16]]))"
      ]
     },
     "execution_count": 11,
     "metadata": {},
     "output_type": "execute_result"
    }
   ],
   "source": [
    "data = _gen_simu_data_all_linear_PSD(0, paras);\n",
    "data.Z.mean(axis=0), data.Y, data.Y.mean(), data.X.mean(axis=0)"
   ]
  },
  {
   "cell_type": "code",
   "execution_count": 62,
   "id": "ac3f6608-0b4e-4da4-9c66-a9c7efa29492",
   "metadata": {
    "execution": {
     "iopub.execute_input": "2023-11-21T04:59:15.092949Z",
     "iopub.status.busy": "2023-11-21T04:59:15.092286Z",
     "iopub.status.idle": "2023-11-21T04:59:15.372742Z",
     "shell.execute_reply": "2023-11-21T04:59:15.372261Z",
     "shell.execute_reply.started": "2023-11-21T04:59:15.092903Z"
    },
    "tags": []
   },
   "outputs": [
    {
     "data": {
      "image/png": "[encoded data removed]",
      "text/plain": [
       "<Figure size 432x288 with 1 Axes>"
      ]
     },
     "metadata": {
      "needs_background": "light"
     },
     "output_type": "display_data"
    }
   ],
   "source": [
    "for roi_ix in range(68):\n",
    "    plt.plot(data.X[10][roi_ix])"
   ]
  },
  {
   "cell_type": "code",
   "execution_count": null,
   "id": "2cac7402-45d2-4d85-8ecf-d91b9f3028fe",
   "metadata": {},
   "outputs": [],
   "source": []
  },
  {
   "cell_type": "markdown",
   "id": "ee0de6a8-ca63-437c-b278-84ab4dc50a0a",
   "metadata": {},
   "source": [
    "# Simu"
   ]
  },
  {
   "cell_type": "code",
   "execution_count": 12,
   "id": "cb286d07-da3b-44f2-8104-305076319aab",
   "metadata": {
    "execution": {
     "iopub.execute_input": "2023-11-21T05:11:49.445460Z",
     "iopub.status.busy": "2023-11-21T05:11:49.444763Z",
     "iopub.status.idle": "2023-11-21T05:11:49.581714Z",
     "shell.execute_reply": "2023-11-21T05:11:49.581175Z",
     "shell.execute_reply.started": "2023-11-21T05:11:49.445415Z"
    },
    "tags": []
   },
   "outputs": [],
   "source": [
    "from sklearn.linear_model import LogisticRegression, LinearRegression, Ridge\n",
    "def SIS_GLIM(data, basis_mat, keep_ratio=0.3, model_type=\"logi\", input_paras={}, SIS_pen=1):\n",
    "    \"\"\"The function is to do the sure ind screening when d (num of ROIs) is large under GLIM\n",
    "       Ref to FanAoS2010\n",
    "    \"\"\"\n",
    "    _paras = edict(input_paras.copy())\n",
    "    num_kp = int(np.round(len(_paras.sel_idx)*keep_ratio, 0))\n",
    "    N = basis_mat.shape[1]\n",
    "    if model_type.lower().startswith(\"lin\"):\n",
    "        if SIS_pen == 0:\n",
    "            clf = LinearRegression(fit_intercept=False)\n",
    "        else:\n",
    "            clf = Ridge(fit_intercept=False, alpha=SIS_pen)\n",
    "    elif model_type.lower().startswith(\"log\"):\n",
    "        clf = LogisticRegression(fit_intercept=False, random_state=0, C=1/SIS_pen)\n",
    "        \n",
    "        \n",
    "    tbets = []\n",
    "    for roi_ix in _paras.sel_idx:\n",
    "        Xl = data.X[:, roi_ix];\n",
    "        Sl = (Xl.unsqueeze(-1) * basis_mat.unsqueeze(0)).mean(axis=1); # num of sbj x N\n",
    "        cur_X = torch.cat([data.Z.clone(), Sl], axis=1);\n",
    "        clf = clf.fit(cur_X.numpy(), data.Y.numpy())\n",
    "        if model_type.lower().startswith(\"lin\"):\n",
    "            tgam = clf.coef_[data.Z.shape[1]:]\n",
    "        elif model_type.lower().startswith(\"log\"):\n",
    "            tgam = clf.coef_[0][data.Z.shape[1]:]\n",
    "        tbet = basis_mat.numpy() @ tgam;\n",
    "        tbets.append(tbet)\n",
    "    tbets = np.array(tbets);\n",
    "    norm_vs = np.sqrt(np.mean(tbets**2, axis=1));\n",
    "    keep_idxs = np.sort(np.argsort(-norm_vs)[:num_kp])\n",
    "    return _paras.sel_idx[keep_idxs], norm_vs"
   ]
  },
  {
   "cell_type": "code",
   "execution_count": null,
   "id": "2a265ea3-998a-462b-a26c-ded43443d9fd",
   "metadata": {
    "tags": []
   },
   "outputs": [],
   "source": []
  },
  {
   "cell_type": "markdown",
   "id": "3f3d1d6d-6bc5-43e4-9cb0-d177e190941d",
   "metadata": {},
   "source": [
    "## One time"
   ]
  },
  {
   "cell_type": "code",
   "execution_count": 10,
   "id": "7897f3d7-3352-4f2a-9ad5-c8d983f90bd2",
   "metadata": {
    "execution": {
     "iopub.execute_input": "2023-11-21T04:36:06.338176Z",
     "iopub.status.busy": "2023-11-21T04:36:06.337491Z",
     "iopub.status.idle": "2023-11-21T04:36:06.425729Z",
     "shell.execute_reply": "2023-11-21T04:36:06.425228Z",
     "shell.execute_reply.started": "2023-11-21T04:36:06.338106Z"
    },
    "tags": []
   },
   "outputs": [
    {
     "data": {
      "text/plain": [
       "'Logi'"
      ]
     },
     "execution_count": 10,
     "metadata": {},
     "output_type": "execute_result"
    }
   ],
   "source": [
    "data_lin = _gen_simu_data_all_linear(1, paras);\n",
    "data_logi = _gen_simu_data_all(1, paras);\n",
    "basis_mat = paras.basis_mats[1];\n",
    "keep_ratio = 0.3\n",
    "input_paras = paras\n",
    "ridge_pen = 1\n",
    "model_type = \"Logi\" # or \"Linear\""
   ]
  },
  {
   "cell_type": "code",
   "execution_count": 11,
   "id": "c2b46ccb-b1e7-4efe-af1a-ec7b10c879bd",
   "metadata": {
    "execution": {
     "iopub.execute_input": "2023-11-21T04:36:09.436559Z",
     "iopub.status.busy": "2023-11-21T04:36:09.435897Z",
     "iopub.status.idle": "2023-11-21T04:36:09.630688Z",
     "shell.execute_reply": "2023-11-21T04:36:09.630310Z",
     "shell.execute_reply.started": "2023-11-21T04:36:09.436513Z"
    },
    "tags": []
   },
   "outputs": [
    {
     "data": {
      "text/plain": [
       "(array([ 5,  6, 12, 20, 21, 23, 24, 25, 31, 35, 40, 41, 45, 48, 49]),\n",
       " array([0.09572371, 0.12421089, 0.10190923, 0.12105885, 0.2736974 ,\n",
       "        0.18978499, 0.10267235, 0.16260608, 0.14737045, 0.12136038,\n",
       "        0.10881577, 0.21469687, 0.12146507, 0.04463251, 0.17127476,\n",
       "        0.15129547, 0.12798112, 0.05728026, 0.09415319, 0.24530704,\n",
       "        0.19216601, 0.06047954, 0.28737487, 0.25399517, 0.31249887,\n",
       "        0.08910311, 0.17288966, 0.06203061, 0.0797308 , 0.05229787,\n",
       "        0.20470089, 0.06169277, 0.15047209, 0.14130178, 0.39275409,\n",
       "        0.09668569, 0.14441577, 0.04982321, 0.15232474, 0.26803061,\n",
       "        0.19290051, 0.13519248, 0.07429146, 0.09722368, 0.24936655,\n",
       "        0.12544275, 0.11564954, 0.18667697, 0.56327092]))"
      ]
     },
     "execution_count": 11,
     "metadata": {},
     "output_type": "execute_result"
    }
   ],
   "source": [
    "SIS_GLIM(data_logi, basis_mat, input_paras=paras, model_type=\"logi\")"
   ]
  },
  {
   "cell_type": "code",
   "execution_count": 13,
   "id": "6cb84d69-519f-492e-b4e7-df7590abf985",
   "metadata": {
    "execution": {
     "iopub.execute_input": "2023-11-21T04:36:47.627620Z",
     "iopub.status.busy": "2023-11-21T04:36:47.626954Z",
     "iopub.status.idle": "2023-11-21T04:36:47.790422Z",
     "shell.execute_reply": "2023-11-21T04:36:47.790017Z",
     "shell.execute_reply.started": "2023-11-21T04:36:47.627574Z"
    },
    "tags": []
   },
   "outputs": [
    {
     "data": {
      "text/plain": [
       "(array([ 1,  8, 11, 16, 18, 19, 20, 30, 35, 36, 39, 40, 45, 48, 49]),\n",
       " array([0.32842954, 0.20649929, 0.14711255, 0.06695871, 0.23318261,\n",
       "        0.18948799, 0.21367264, 0.34507739, 0.15641553, 0.06287044,\n",
       "        0.33078152, 0.27631219, 0.19440094, 0.2287634 , 0.18101487,\n",
       "        0.36646681, 0.26498701, 0.4225144 , 0.39748636, 0.38185695,\n",
       "        0.06791201, 0.12284213, 0.12306106, 0.18509838, 0.19411622,\n",
       "        0.14583482, 0.14670107, 0.20414093, 0.18851737, 0.36319749,\n",
       "        0.2686109 , 0.12205839, 0.29206194, 0.28209529, 0.30560107,\n",
       "        0.32401494, 0.21624683, 0.26229621, 0.32323048, 0.30389642,\n",
       "        0.20474416, 0.18227863, 0.09979183, 0.17412261, 0.40964484,\n",
       "        0.20513882, 0.18858406, 0.47663627, 1.27850897]))"
      ]
     },
     "execution_count": 13,
     "metadata": {},
     "output_type": "execute_result"
    }
   ],
   "source": [
    "SIS_GLIM(data_lin, basis_mat, input_paras=paras, model_type=\"lin\", SIS_pen=1)"
   ]
  },
  {
   "cell_type": "markdown",
   "id": "62bf5662-7659-4cc5-bc66-9421f6393a4d",
   "metadata": {},
   "source": [
    "## Multipe"
   ]
  },
  {
   "cell_type": "markdown",
   "id": "019d476b-1ddb-49f0-83f9-f3521b41ff29",
   "metadata": {},
   "source": [
    "### Sinica + linear"
   ]
  },
  {
   "cell_type": "code",
   "execution_count": 12,
   "id": "673b6632-e2f0-476d-814a-f1d743ab96ff",
   "metadata": {
    "execution": {
     "iopub.execute_input": "2023-11-21T05:17:34.011632Z",
     "iopub.status.busy": "2023-11-21T05:17:34.010950Z",
     "iopub.status.idle": "2023-11-21T05:17:40.685670Z",
     "shell.execute_reply": "2023-11-21T05:17:40.685270Z",
     "shell.execute_reply.started": "2023-11-21T05:17:34.011585Z"
    },
    "tags": []
   },
   "outputs": [
    {
     "name": "stderr",
     "output_type": "stream",
     "text": [
      "100%|████████████████████████████████████████████████████████████████████████████████████████████████████████████████████████████████████████| 100/100 [00:06<00:00, 15.10it/s]\n"
     ]
    }
   ],
   "source": [
    "basis_mat = paras.basis_mats[2];\n",
    "keep_ratio = 0.1\n",
    "input_paras = paras\n",
    "SIS_pen = 1\n",
    "\n",
    "keep_idxss = []\n",
    "for seed in trange(100):\n",
    "    data_lin = _gen_simu_data_all_linear(seed, paras);\n",
    "    keep_idxs, _ = SIS_GLIM(data_lin, basis_mat, input_paras=paras, model_type=\"lin\", SIS_pen=SIS_pen)\n",
    "    keep_idxss.append(keep_idxs)\n",
    "keep_idxss = np.array(keep_idxss);    "
   ]
  },
  {
   "cell_type": "code",
   "execution_count": 13,
   "id": "41d52615-d1db-40f7-8f5d-37a0a287af7f",
   "metadata": {
    "execution": {
     "iopub.execute_input": "2023-11-21T05:17:41.431910Z",
     "iopub.status.busy": "2023-11-21T05:17:41.431353Z",
     "iopub.status.idle": "2023-11-21T05:17:41.472461Z",
     "shell.execute_reply": "2023-11-21T05:17:41.471953Z",
     "shell.execute_reply.started": "2023-11-21T05:17:41.431866Z"
    },
    "tags": []
   },
   "outputs": [
    {
     "data": {
      "text/plain": [
       "1.0"
      ]
     },
     "execution_count": 13,
     "metadata": {},
     "output_type": "execute_result"
    }
   ],
   "source": [
    "np.mean(keep_idxss[:, -1] == paras.d-1)"
   ]
  },
  {
   "cell_type": "markdown",
   "id": "c995ba2f-97cf-4caf-91c4-bd2f759a3fe7",
   "metadata": {},
   "source": [
    "### Sinica + logi"
   ]
  },
  {
   "cell_type": "code",
   "execution_count": 14,
   "id": "b9e091b9-4d26-4626-a1ec-81c56f93961f",
   "metadata": {
    "execution": {
     "iopub.execute_input": "2023-11-21T05:17:49.540880Z",
     "iopub.status.busy": "2023-11-21T05:17:49.540306Z",
     "iopub.status.idle": "2023-11-21T05:17:49.631460Z",
     "shell.execute_reply": "2023-11-21T05:17:49.630906Z",
     "shell.execute_reply.started": "2023-11-21T05:17:49.540837Z"
    },
    "tags": []
   },
   "outputs": [
    {
     "data": {
      "text/plain": [
       "tensor(0.5100)"
      ]
     },
     "execution_count": 14,
     "metadata": {},
     "output_type": "execute_result"
    }
   ],
   "source": [
    "paras.alp_GT = np.array([-1, -1, 2])\n",
    "data = _gen_simu_data_all(0, paras)\n",
    "data.Y.mean()"
   ]
  },
  {
   "cell_type": "code",
   "execution_count": 15,
   "id": "0a7c91db-42b4-41ba-8730-e1292a1c6d35",
   "metadata": {
    "execution": {
     "iopub.execute_input": "2023-11-21T05:17:54.870930Z",
     "iopub.status.busy": "2023-11-21T05:17:54.870258Z",
     "iopub.status.idle": "2023-11-21T05:18:16.106566Z",
     "shell.execute_reply": "2023-11-21T05:18:16.106095Z",
     "shell.execute_reply.started": "2023-11-21T05:17:54.870882Z"
    },
    "tags": []
   },
   "outputs": [
    {
     "name": "stderr",
     "output_type": "stream",
     "text": [
      "100%|████████████████████████████████████████████████████████████████████████████████████████████████████████████████████████████████████████| 100/100 [00:21<00:00,  4.72it/s]\n"
     ]
    }
   ],
   "source": [
    "basis_mat = paras.basis_mats[2];\n",
    "keep_ratio = 0.2\n",
    "input_paras = paras\n",
    "SIS_pen = 1\n",
    "\n",
    "keep_idxss = []\n",
    "for seed in trange(100):\n",
    "    data = _gen_simu_data_all(seed, paras);\n",
    "    keep_idxs, _ = SIS_GLIM(data, basis_mat, input_paras=paras, model_type=\"logi\", SIS_pen=SIS_pen)\n",
    "    keep_idxss.append(keep_idxs)\n",
    "keep_idxss = np.array(keep_idxss);    "
   ]
  },
  {
   "cell_type": "code",
   "execution_count": 16,
   "id": "a72cc4b4-b1e3-4f03-a746-1ddac235c171",
   "metadata": {
    "execution": {
     "iopub.execute_input": "2023-11-21T05:18:17.283993Z",
     "iopub.status.busy": "2023-11-21T05:18:17.283085Z",
     "iopub.status.idle": "2023-11-21T05:18:17.362051Z",
     "shell.execute_reply": "2023-11-21T05:18:17.361167Z",
     "shell.execute_reply.started": "2023-11-21T05:18:17.283947Z"
    },
    "tags": []
   },
   "outputs": [
    {
     "data": {
      "text/plain": [
       "1.0"
      ]
     },
     "execution_count": 16,
     "metadata": {},
     "output_type": "execute_result"
    }
   ],
   "source": [
    "np.mean(keep_idxss[:, -1] == paras.d-1)"
   ]
  },
  {
   "cell_type": "markdown",
   "id": "2af4fb45-b484-49ce-9121-8d822d94bf45",
   "metadata": {},
   "source": [
    "### PSD + linear"
   ]
  },
  {
   "cell_type": "code",
   "execution_count": 18,
   "id": "b67b987d-086d-4c69-aecf-ad5dbf8e9a2f",
   "metadata": {
    "execution": {
     "iopub.execute_input": "2023-11-21T05:18:37.429529Z",
     "iopub.status.busy": "2023-11-21T05:18:37.428593Z",
     "iopub.status.idle": "2023-11-21T05:18:46.219125Z",
     "shell.execute_reply": "2023-11-21T05:18:46.218739Z",
     "shell.execute_reply.started": "2023-11-21T05:18:37.429482Z"
    },
    "tags": []
   },
   "outputs": [
    {
     "name": "stderr",
     "output_type": "stream",
     "text": [
      "100%|████████████████████████████████████████████████████████████████████████████████████████████████████████████████████████████████████████| 100/100 [00:08<00:00, 11.42it/s]\n"
     ]
    }
   ],
   "source": [
    "basis_mat = paras.basis_mats[2];\n",
    "keep_ratio = 0.2\n",
    "input_paras = paras\n",
    "SIS_pen = 1\n",
    "\n",
    "keep_idxss = []\n",
    "for seed in trange(100):\n",
    "    data = _gen_simu_data_all_linear_PSD(seed, paras);\n",
    "    keep_idxs, _ = SIS_GLIM(data, basis_mat, input_paras=paras, model_type=\"linear\", SIS_pen=SIS_pen)\n",
    "    keep_idxss.append(keep_idxs)\n",
    "keep_idxss = np.array(keep_idxss);    "
   ]
  },
  {
   "cell_type": "code",
   "execution_count": 19,
   "id": "07285c87-89bd-4ca6-97a6-3ed7a224d05e",
   "metadata": {
    "execution": {
     "iopub.execute_input": "2023-11-21T05:18:48.389385Z",
     "iopub.status.busy": "2023-11-21T05:18:48.388761Z",
     "iopub.status.idle": "2023-11-21T05:18:48.434340Z",
     "shell.execute_reply": "2023-11-21T05:18:48.433680Z",
     "shell.execute_reply.started": "2023-11-21T05:18:48.389338Z"
    },
    "tags": []
   },
   "outputs": [
    {
     "data": {
      "text/plain": [
       "1.0"
      ]
     },
     "execution_count": 19,
     "metadata": {},
     "output_type": "execute_result"
    }
   ],
   "source": [
    "np.mean(keep_idxss[:, -1] == paras.d-1)"
   ]
  },
  {
   "cell_type": "markdown",
   "id": "eb04df4a-d031-4a45-8e96-154cf2e26435",
   "metadata": {},
   "source": [
    "### PSD + logi"
   ]
  },
  {
   "cell_type": "code",
   "execution_count": 26,
   "id": "52c4018f-2fb9-4134-80ed-1ed51a68c03d",
   "metadata": {
    "execution": {
     "iopub.execute_input": "2023-11-21T22:51:35.652002Z",
     "iopub.status.busy": "2023-11-21T22:51:35.651369Z",
     "iopub.status.idle": "2023-11-21T22:51:35.737034Z",
     "shell.execute_reply": "2023-11-21T22:51:35.736493Z",
     "shell.execute_reply.started": "2023-11-21T22:51:35.651955Z"
    },
    "tags": []
   },
   "outputs": [
    {
     "data": {
      "text/plain": [
       "tensor(0.4250)"
      ]
     },
     "execution_count": 26,
     "metadata": {},
     "output_type": "execute_result"
    }
   ],
   "source": [
    "paras.alp_GT = np.array([-4, -1, 2])\n",
    "data = _gen_simu_data_all_PSD(1, paras)\n",
    "data.Y.mean()"
   ]
  },
  {
   "cell_type": "code",
   "execution_count": 37,
   "id": "c23115ee-ec71-4ca6-8de7-c31e455822bd",
   "metadata": {
    "execution": {
     "iopub.execute_input": "2023-11-21T22:59:48.732368Z",
     "iopub.status.busy": "2023-11-21T22:59:48.731733Z",
     "iopub.status.idle": "2023-11-21T23:00:26.900996Z",
     "shell.execute_reply": "2023-11-21T23:00:26.900634Z",
     "shell.execute_reply.started": "2023-11-21T22:59:48.732322Z"
    },
    "tags": []
   },
   "outputs": [
    {
     "name": "stderr",
     "output_type": "stream",
     "text": [
      "100%|████████████████████████████████████████████████████████████████████████████████████████████████████████████████████████████████████████| 100/100 [00:38<00:00,  2.63it/s]\n"
     ]
    }
   ],
   "source": [
    "basis_mat = paras.basis_mats[2];\n",
    "keep_ratio = 0.2\n",
    "input_paras = paras\n",
    "SIS_pen = 0.1 \n",
    "\n",
    "keep_idxss = []\n",
    "for seed in trange(100):\n",
    "    data = _gen_simu_data_all_PSD(seed, paras);\n",
    "    keep_idxs, _ = SIS_GLIM(data.Y, data.X, data.Z, basis_mat, keep_ratio=keep_ratio, input_paras=paras, model_type=\"logi\", SIS_pen=SIS_pen)\n",
    "    keep_idxss.append(keep_idxs)\n",
    "keep_idxss = np.array(keep_idxss);    "
   ]
  },
  {
   "cell_type": "code",
   "execution_count": 38,
   "id": "2bc0cecc-faa1-48c0-8f2f-7f4b2968a408",
   "metadata": {
    "execution": {
     "iopub.execute_input": "2023-11-21T23:00:29.159219Z",
     "iopub.status.busy": "2023-11-21T23:00:29.158598Z",
     "iopub.status.idle": "2023-11-21T23:00:29.208448Z",
     "shell.execute_reply": "2023-11-21T23:00:29.207699Z",
     "shell.execute_reply.started": "2023-11-21T23:00:29.159169Z"
    },
    "tags": []
   },
   "outputs": [
    {
     "data": {
      "text/plain": [
       "0.95"
      ]
     },
     "execution_count": 38,
     "metadata": {},
     "output_type": "execute_result"
    }
   ],
   "source": [
    "np.mean(keep_idxss[:, -1] == paras.d-1)"
   ]
  },
  {
   "cell_type": "code",
   "execution_count": 39,
   "id": "6def46ad-2178-4747-b026-cf9fb694c121",
   "metadata": {
    "execution": {
     "iopub.execute_input": "2023-11-21T23:00:30.638703Z",
     "iopub.status.busy": "2023-11-21T23:00:30.638117Z",
     "iopub.status.idle": "2023-11-21T23:00:31.049040Z",
     "shell.execute_reply": "2023-11-21T23:00:31.048545Z",
     "shell.execute_reply.started": "2023-11-21T23:00:30.638655Z"
    },
    "tags": []
   },
   "outputs": [],
   "source": [
    "seed = 0\n",
    "data = _gen_simu_data_all_PSD(seed, paras);\n",
    "keep_idxs, _ = SIS_GLIM(data.Y, data.X, data.Z, basis_mat, keep_ratio=keep_ratio, input_paras=paras, model_type=\"logi\", SIS_pen=SIS_pen)"
   ]
  },
  {
   "cell_type": "code",
   "execution_count": 40,
   "id": "69427765-6cc2-4b10-b8f1-18acf10bb1cb",
   "metadata": {
    "execution": {
     "iopub.execute_input": "2023-11-21T23:00:36.200684Z",
     "iopub.status.busy": "2023-11-21T23:00:36.199930Z",
     "iopub.status.idle": "2023-11-21T23:00:36.239509Z",
     "shell.execute_reply": "2023-11-21T23:00:36.238843Z",
     "shell.execute_reply.started": "2023-11-21T23:00:36.200633Z"
    },
    "tags": []
   },
   "outputs": [
    {
     "data": {
      "text/plain": [
       "array([ 7, 10, 26, 27, 28, 32, 42, 50, 56, 62, 64, 65, 67])"
      ]
     },
     "execution_count": 40,
     "metadata": {},
     "output_type": "execute_result"
    }
   ],
   "source": [
    "keep_idxs"
   ]
  },
  {
   "cell_type": "code",
   "execution_count": 33,
   "id": "052d7380-b835-4a75-a3d6-22c888e70935",
   "metadata": {
    "execution": {
     "iopub.execute_input": "2023-11-21T22:55:24.565597Z",
     "iopub.status.busy": "2023-11-21T22:55:24.564846Z",
     "iopub.status.idle": "2023-11-21T22:55:24.604319Z",
     "shell.execute_reply": "2023-11-21T22:55:24.603652Z",
     "shell.execute_reply.started": "2023-11-21T22:55:24.565547Z"
    },
    "tags": []
   },
   "outputs": [
    {
     "data": {
      "text/plain": [
       "tensor(305.)"
      ]
     },
     "execution_count": 33,
     "metadata": {},
     "output_type": "execute_result"
    }
   ],
   "source": [
    "data.Z.sum()"
   ]
  },
  {
   "cell_type": "code",
   "execution_count": null,
   "id": "f4aeae95-53e1-41b9-92b5-cf0470ad85db",
   "metadata": {},
   "outputs": [],
   "source": []
  }
 ],
 "metadata": {
  "kernelspec": {
   "display_name": "Python 3 (ipykernel)",
   "language": "python",
   "name": "python3"
  },
  "language_info": {
   "codemirror_mode": {
    "name": "ipython",
    "version": 3
   },
   "file_extension": ".py",
   "mimetype": "text/x-python",
   "name": "python",
   "nbconvert_exporter": "python",
   "pygments_lexer": "ipython3",
   "version": "3.9.7"
  },
  "toc": {
   "base_numbering": 1,
   "nav_menu": {},
   "number_sections": true,
   "sideBar": true,
   "skip_h1_title": false,
   "title_cell": "Table of Contents",
   "title_sidebar": "Contents",
   "toc_cell": false,
   "toc_position": {
    "height": "calc(100% - 180px)",
    "left": "10px",
    "top": "150px",
    "width": "165px"
   },
   "toc_section_display": true,
   "toc_window_display": true
  },
  "toc-autonumbering": true
 },
 "nbformat": 4,
 "nbformat_minor": 5
}
