{
 "cells": [
  {
   "cell_type": "markdown",
   "id": "faf0a805",
   "metadata": {},
   "source": [
    "This file contains python code to \n",
    "test old model code vs new model code (integration for once)"
   ]
  },
  {
   "cell_type": "code",
   "execution_count": 1,
   "id": "02ae980e",
   "metadata": {
    "ExecuteTime": {
     "end_time": "2023-05-31T19:57:23.490285Z",
     "start_time": "2023-05-31T19:57:23.481769Z"
    },
    "execution": {
     "iopub.execute_input": "2024-02-21T03:04:07.070146Z",
     "iopub.status.busy": "2024-02-21T03:04:07.069298Z",
     "iopub.status.idle": "2024-02-21T03:04:07.088339Z",
     "shell.execute_reply": "2024-02-21T03:04:07.085079Z",
     "shell.execute_reply.started": "2024-02-21T03:04:07.070100Z"
    },
    "tags": []
   },
   "outputs": [],
   "source": [
    "import sys\n",
    "sys.path.append(\"../../mypkg\")"
   ]
  },
  {
   "cell_type": "code",
   "execution_count": 2,
   "id": "023df78a",
   "metadata": {
    "ExecuteTime": {
     "end_time": "2023-05-31T19:57:34.238839Z",
     "start_time": "2023-05-31T19:57:23.494053Z"
    },
    "execution": {
     "iopub.execute_input": "2024-02-21T03:04:07.096410Z",
     "iopub.status.busy": "2024-02-21T03:04:07.095522Z",
     "iopub.status.idle": "2024-02-21T03:04:09.464673Z",
     "shell.execute_reply": "2024-02-21T03:04:09.464148Z",
     "shell.execute_reply.started": "2024-02-21T03:04:07.096366Z"
    },
    "tags": []
   },
   "outputs": [],
   "source": [
    "import numpy as np\n",
    "import torch\n",
    "import matplotlib.pyplot as plt\n",
    "import seaborn as sns\n",
    "\n",
    "from easydict import EasyDict as edict\n",
    "from tqdm import trange, tqdm\n",
    "from pprint import pprint\n",
    "import itertools\n",
    "from scipy.stats import chi2\n"
   ]
  },
  {
   "cell_type": "code",
   "execution_count": 3,
   "id": "b9d3cbc6-1ac5-47d6-a0d1-bcbc0be9267e",
   "metadata": {
    "execution": {
     "iopub.execute_input": "2024-02-21T03:04:09.465579Z",
     "iopub.status.busy": "2024-02-21T03:04:09.465344Z",
     "iopub.status.idle": "2024-02-21T03:04:09.485317Z",
     "shell.execute_reply": "2024-02-21T03:04:09.484886Z",
     "shell.execute_reply.started": "2024-02-21T03:04:09.465565Z"
    },
    "tags": []
   },
   "outputs": [],
   "source": [
    "# This will reload all imports as soon as the code changes\n",
    "%load_ext autoreload\n",
    "%autoreload 2"
   ]
  },
  {
   "cell_type": "code",
   "execution_count": 4,
   "id": "b0aa91b2",
   "metadata": {
    "ExecuteTime": {
     "end_time": "2023-05-31T19:57:59.558229Z",
     "start_time": "2023-05-31T19:57:34.292612Z"
    },
    "execution": {
     "iopub.execute_input": "2024-02-21T03:04:09.486554Z",
     "iopub.status.busy": "2024-02-21T03:04:09.486320Z",
     "iopub.status.idle": "2024-02-21T03:04:10.457372Z",
     "shell.execute_reply": "2024-02-21T03:04:10.455821Z",
     "shell.execute_reply.started": "2024-02-21T03:04:09.486541Z"
    },
    "tags": []
   },
   "outputs": [],
   "source": [
    "from constants import DATA_ROOT, RES_ROOT, FIG_ROOT, MIDRES_ROOT\n",
    "from hdf_utils.data_gen import gen_simu_sinica_dataset\n",
    "from hdf_utils.SIS import SIS_GLIM\n",
    "from hdf_utils.utils import gen_int_ws, integration_fn\n",
    "from utils.matrix import col_vec_fn, col_vec2mat_fn, conju_grad, svd_inverse, cholesky_inv\n",
    "from utils.functions import logit_fn\n",
    "from utils.misc import save_pkl, load_pkl\n",
    "from splines import obt_bsp_obasis_Rfn, obt_bsp_basis_Rfn_wrapper\n",
    "from projection import euclidean_proj_l1ball\n",
    "from optimization.opt import HDFOpt\n",
    "from scenarios.simu_linear_sinica import settings\n",
    "from hdf_utils.fns_sinica import  fourier_basis_fn\n",
    "from models.linear_model import LinearModel\n",
    "from models1.linear_model import LinearModel as LinearModel1\n",
    "from models.logistic_model import LogisticModel\n",
    "from models1.logistic_model import LogisticModel as LogisticModel1\n",
    "\n",
    "from joblib import Parallel, delayed"
   ]
  },
  {
   "cell_type": "code",
   "execution_count": 5,
   "id": "fe0a4a46",
   "metadata": {
    "ExecuteTime": {
     "end_time": "2023-05-31T19:57:59.621784Z",
     "start_time": "2023-05-31T19:57:59.568097Z"
    },
    "execution": {
     "iopub.execute_input": "2024-02-21T03:04:10.460048Z",
     "iopub.status.busy": "2024-02-21T03:04:10.459154Z",
     "iopub.status.idle": "2024-02-21T03:04:10.499459Z",
     "shell.execute_reply": "2024-02-21T03:04:10.498686Z",
     "shell.execute_reply.started": "2024-02-21T03:04:10.459997Z"
    },
    "tags": []
   },
   "outputs": [],
   "source": [
    "plt.style.use(FIG_ROOT/\"base.mplstyle\")\n",
    "torch.set_default_tensor_type(torch.DoubleTensor)"
   ]
  },
  {
   "cell_type": "code",
   "execution_count": null,
   "id": "7e3672e9-3d13-43f8-a05a-6fbd399eb0fc",
   "metadata": {},
   "outputs": [],
   "source": []
  },
  {
   "cell_type": "markdown",
   "id": "21e4ccea",
   "metadata": {},
   "source": [
    "# Params"
   ]
  },
  {
   "cell_type": "code",
   "execution_count": 6,
   "id": "977784a7-3e90-4016-9958-9766c871dc0f",
   "metadata": {
    "ExecuteTime": {
     "end_time": "2023-05-31T23:31:16.397628Z",
     "start_time": "2023-05-31T23:31:16.221812Z"
    },
    "execution": {
     "iopub.execute_input": "2024-02-21T03:04:10.500739Z",
     "iopub.status.busy": "2024-02-21T03:04:10.500367Z",
     "iopub.status.idle": "2024-02-21T03:04:10.540567Z",
     "shell.execute_reply": "2024-02-21T03:04:10.539514Z",
     "shell.execute_reply.started": "2024-02-21T03:04:10.500720Z"
    },
    "tags": [
     "param"
    ]
   },
   "outputs": [
    {
     "data": {
      "text/plain": [
       "array([[1.]])"
      ]
     },
     "execution_count": 6,
     "metadata": {},
     "output_type": "execute_result"
    }
   ],
   "source": [
    "np.random.seed(0)\n",
    "c = 0.0\n",
    "\n",
    "setting = settings.cmpns1\n",
    "data_gen_params = setting.data_gen_params\n",
    "data_gen_params.cs = data_gen_params.cs_fn(c)\n",
    "data_gen_params.gt_beta = data_gen_params.beta_fn(data_gen_params.cs)\n",
    "data_gen_params.gt_alp = [1, 2]\n",
    "data_gen_params.types_ = [\"int\", \"c\"]\n",
    "data_gen_params.q = 2\n",
    "#data_gen_params.gt_beta[:, -1] = 0\n",
    "x = np.linspace(0, 1, data_gen_params.npts)\n",
    "\n",
    "num_rep = 200\n",
    "Cmat = np.eye(data_gen_params.d - len(setting.sel_idx))\n",
    "save_dir = RES_ROOT/f\"simu_setting{setting.setting}_test\"\n",
    "if not save_dir.exists():\n",
    "    save_dir.mkdir()\n",
    "Cmat"
   ]
  },
  {
   "cell_type": "code",
   "execution_count": 7,
   "id": "fe40edc6-b1d5-4037-910e-ffad65d81d37",
   "metadata": {
    "execution": {
     "iopub.execute_input": "2024-02-21T03:04:12.592008Z",
     "iopub.status.busy": "2024-02-21T03:04:12.591414Z",
     "iopub.status.idle": "2024-02-21T03:04:12.781871Z",
     "shell.execute_reply": "2024-02-21T03:04:12.780986Z",
     "shell.execute_reply.started": "2024-02-21T03:04:12.591960Z"
    },
    "tags": []
   },
   "outputs": [],
   "source": [
    "cur_data = gen_simu_sinica_dataset(n=data_gen_params.n, \n",
    "                                   d=data_gen_params.d, \n",
    "                                   q=data_gen_params.q, \n",
    "                                   types_=data_gen_params.types_, \n",
    "                                   gt_alp=data_gen_params.gt_alp, \n",
    "                                   gt_beta=data_gen_params.gt_beta, \n",
    "                                   x=x,\n",
    "                                   data_type=data_gen_params.data_type,\n",
    "                                   data_params=data_gen_params.data_params, \n",
    "                                   seed=0, \n",
    "                                   verbose=2);"
   ]
  },
  {
   "cell_type": "code",
   "execution_count": 8,
   "id": "6fe97d51-5cbe-4d5b-b813-aac2031cda46",
   "metadata": {
    "execution": {
     "iopub.execute_input": "2024-02-21T03:04:19.159538Z",
     "iopub.status.busy": "2024-02-21T03:04:19.158759Z",
     "iopub.status.idle": "2024-02-21T03:04:19.275320Z",
     "shell.execute_reply": "2024-02-21T03:04:19.274716Z",
     "shell.execute_reply.started": "2024-02-21T03:04:19.159489Z"
    },
    "tags": []
   },
   "outputs": [
    {
     "name": "stderr",
     "output_type": "stream",
     "text": [
      "R[write to console]: \n",
      "Attaching package: ‘orthogonalsplinebasis’\n",
      "\n",
      "\n",
      "R[write to console]: The following object is masked from ‘package:stats’:\n",
      "\n",
      "    integrate\n",
      "\n",
      "\n"
     ]
    }
   ],
   "source": [
    "N = 10\n",
    "basis_mat = torch.tensor(obt_bsp_obasis_Rfn(x, N=N, bsp_ord=4));"
   ]
  },
  {
   "cell_type": "code",
   "execution_count": 9,
   "id": "d93dffd9-4881-4784-8bf3-e73d803b62e1",
   "metadata": {
    "execution": {
     "iopub.execute_input": "2024-02-21T03:04:24.701100Z",
     "iopub.status.busy": "2024-02-21T03:04:24.700474Z",
     "iopub.status.idle": "2024-02-21T03:04:26.733871Z",
     "shell.execute_reply": "2024-02-21T03:04:26.733470Z",
     "shell.execute_reply.started": "2024-02-21T03:04:24.701052Z"
    },
    "tags": []
   },
   "outputs": [
    {
     "data": {
      "text/plain": [
       "[tensor(0.), tensor(7.4546e-14), tensor(0.), tensor(5.4386e-14), tensor(0.)]"
      ]
     },
     "execution_count": 9,
     "metadata": {},
     "output_type": "execute_result"
    }
   ],
   "source": [
    "# test linear model\n",
    "model = LinearModel(\n",
    "    Y = cur_data.Y,\n",
    "    X = cur_data.X, \n",
    "    Z = cur_data.Z, \n",
    "    ws= None, \n",
    "    basis_mat=basis_mat\n",
    ")\n",
    "model1 = LinearModel1(\n",
    "    Y = cur_data.Y,\n",
    "    X = cur_data.X, \n",
    "    Z = cur_data.Z, \n",
    "    ws= None, \n",
    "    basis_mat=basis_mat\n",
    ")\n",
    "\n",
    "alp = torch.randn(2)\n",
    "Gam = torch.randn(N, data_gen_params.d);\n",
    "model._linear_term_der()\n",
    "model1._linear_term_der()\n",
    "diffs = [\n",
    "    torch.norm(model.lin_tm_der - model1.lin_tm_der),\n",
    "    torch.norm(model._obt_lin_tm(alp, Gam)- model1._obt_lin_tm(alp, Gam)), \n",
    "    torch.norm(model.log_lik(alp, Gam)- model1.log_lik(alp, Gam)), \n",
    "    torch.norm(model.log_lik_der1(alp, Gam)- model1.log_lik_der1(alp, Gam)), \n",
    "    torch.norm(model.log_lik_der2(alp, Gam)- model1.log_lik_der2(alp, Gam)), \n",
    "]"
   ]
  },
  {
   "cell_type": "code",
   "execution_count": 10,
   "id": "b0733b7e-ee41-4f52-861e-fbba85de6497",
   "metadata": {
    "execution": {
     "iopub.execute_input": "2024-02-21T03:04:30.369285Z",
     "iopub.status.busy": "2024-02-21T03:04:30.368664Z",
     "iopub.status.idle": "2024-02-21T03:04:31.567135Z",
     "shell.execute_reply": "2024-02-21T03:04:31.566651Z",
     "shell.execute_reply.started": "2024-02-21T03:04:30.369240Z"
    },
    "tags": []
   },
   "outputs": [
    {
     "data": {
      "text/plain": [
       "[tensor(0.),\n",
       " tensor(7.0080e-14),\n",
       " tensor(0.),\n",
       " tensor(3.0120e-15),\n",
       " tensor(8.6893e-14)]"
      ]
     },
     "execution_count": 10,
     "metadata": {},
     "output_type": "execute_result"
    }
   ],
   "source": [
    "# test logi model\n",
    "model = LogisticModel(\n",
    "    Y = (cur_data.Y>1).float(),\n",
    "    X = cur_data.X, \n",
    "    Z = cur_data.Z, \n",
    "    ws= None, \n",
    "    basis_mat=basis_mat\n",
    ")\n",
    "model1 = LogisticModel1(\n",
    "    Y = (cur_data.Y>1).float(),\n",
    "    X = cur_data.X, \n",
    "    Z = cur_data.Z, \n",
    "    ws= None, \n",
    "    basis_mat=basis_mat\n",
    ")\n",
    "\n",
    "alp = torch.randn(2)\n",
    "Gam = torch.randn(N, data_gen_params.d);\n",
    "model._linear_term_der()\n",
    "model1._linear_term_der()\n",
    "diffs = [\n",
    "    torch.norm(model.lin_tm_der - model1.lin_tm_der),\n",
    "    torch.norm(model._obt_lin_tm(alp, Gam)- model1._obt_lin_tm(alp, Gam)), \n",
    "    torch.norm(model.log_lik(alp, Gam)- model1.log_lik(alp, Gam)), \n",
    "    torch.norm(model.log_lik_der1(alp, Gam)- model1.log_lik_der1(alp, Gam)), \n",
    "    torch.norm(model.log_lik_der2(alp, Gam)- model1.log_lik_der2(alp, Gam)), \n",
    "]"
   ]
  },
  {
   "cell_type": "code",
   "execution_count": null,
   "id": "be9dad8c-0fcf-4d93-b3b9-d9dc5d2dfe77",
   "metadata": {},
   "outputs": [],
   "source": []
  }
 ],
 "metadata": {
  "kernelspec": {
   "display_name": "Python 3 (ipykernel)",
   "language": "python",
   "name": "python3"
  },
  "language_info": {
   "codemirror_mode": {
    "name": "ipython",
    "version": 3
   },
   "file_extension": ".py",
   "mimetype": "text/x-python",
   "name": "python",
   "nbconvert_exporter": "python",
   "pygments_lexer": "ipython3",
   "version": "3.9.7"
  },
  "toc": {
   "base_numbering": 1,
   "nav_menu": {},
   "number_sections": true,
   "sideBar": true,
   "skip_h1_title": false,
   "title_cell": "Table of Contents",
   "title_sidebar": "Contents",
   "toc_cell": false,
   "toc_position": {
    "height": "calc(100% - 180px)",
    "left": "10px",
    "top": "150px",
    "width": "165px"
   },
   "toc_section_display": true,
   "toc_window_display": true
  },
  "toc-autonumbering": true,
  "toc-showcode": false,
  "toc-showmarkdowntxt": false,
  "toc-showtags": false
 },
 "nbformat": 4,
 "nbformat_minor": 5
}
