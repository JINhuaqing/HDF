{
 "cells": [
  {
   "cell_type": "code",
   "execution_count": 1,
   "id": "e97f8760-cc53-4cbc-8e7e-23052de503c8",
   "metadata": {
    "execution": {
     "iopub.execute_input": "2024-01-24T23:56:12.307544Z",
     "iopub.status.busy": "2024-01-24T23:56:12.306965Z",
     "iopub.status.idle": "2024-01-24T23:56:12.324592Z",
     "shell.execute_reply": "2024-01-24T23:56:12.322183Z",
     "shell.execute_reply.started": "2024-01-24T23:56:12.307498Z"
    },
    "tags": []
   },
   "outputs": [],
   "source": [
    "import sys\n",
    "sys.path.append(\"../../mypkg\")"
   ]
  },
  {
   "cell_type": "code",
   "execution_count": 2,
   "id": "15fd619e-7e90-4359-99ad-582402352b88",
   "metadata": {
    "execution": {
     "iopub.execute_input": "2024-01-24T23:56:12.338000Z",
     "iopub.status.busy": "2024-01-24T23:56:12.337353Z",
     "iopub.status.idle": "2024-01-24T23:56:14.448268Z",
     "shell.execute_reply": "2024-01-24T23:56:14.447473Z",
     "shell.execute_reply.started": "2024-01-24T23:56:12.337956Z"
    },
    "tags": []
   },
   "outputs": [],
   "source": [
    "import numpy as np\n",
    "import torch\n",
    "import matplotlib.pyplot as plt\n",
    "import seaborn as sns\n",
    "\n",
    "from easydict import EasyDict as edict\n",
    "from tqdm import trange, tqdm\n",
    "from pprint import pprint\n",
    "import itertools\n",
    "from scipy.stats import chi2"
   ]
  },
  {
   "cell_type": "code",
   "execution_count": 3,
   "id": "2cffae3b-1992-4b37-9115-870edf07bf46",
   "metadata": {
    "execution": {
     "iopub.execute_input": "2024-01-24T23:56:14.451608Z",
     "iopub.status.busy": "2024-01-24T23:56:14.449960Z",
     "iopub.status.idle": "2024-01-24T23:56:14.480114Z",
     "shell.execute_reply": "2024-01-24T23:56:14.479682Z",
     "shell.execute_reply.started": "2024-01-24T23:56:14.451572Z"
    },
    "tags": []
   },
   "outputs": [],
   "source": [
    "# This will reload all imports as soon as the code changes\n",
    "%load_ext autoreload\n",
    "%autoreload 2"
   ]
  },
  {
   "cell_type": "code",
   "execution_count": 4,
   "id": "db24e3fe-e580-4ef7-b03d-85f4b64e5040",
   "metadata": {
    "execution": {
     "iopub.execute_input": "2024-01-24T23:56:14.480976Z",
     "iopub.status.busy": "2024-01-24T23:56:14.480827Z",
     "iopub.status.idle": "2024-01-24T23:56:14.507685Z",
     "shell.execute_reply": "2024-01-24T23:56:14.507292Z",
     "shell.execute_reply.started": "2024-01-24T23:56:14.480964Z"
    },
    "tags": []
   },
   "outputs": [],
   "source": [
    "from constants import DATA_ROOT, RES_ROOT, FIG_ROOT, MIDRES_ROOT\n",
    "from utils.misc import load_pkl, save_pkl"
   ]
  },
  {
   "cell_type": "code",
   "execution_count": 13,
   "id": "d273e87d-e77f-428b-95e6-af4816d63d9d",
   "metadata": {
    "execution": {
     "iopub.execute_input": "2024-01-24T23:58:16.653504Z",
     "iopub.status.busy": "2024-01-24T23:58:16.652884Z",
     "iopub.status.idle": "2024-01-24T23:58:24.116375Z",
     "shell.execute_reply": "2024-01-24T23:58:24.115304Z",
     "shell.execute_reply.started": "2024-01-24T23:58:16.653459Z"
    },
    "tags": []
   },
   "outputs": [
    {
     "name": "stdout",
     "output_type": "stream",
     "text": [
      "Load file /data/rajlab1/user_data/jin/MyResearch/HDF_infer/notebooks/simu_real/../../mypkg/../data/AD_vs_Ctrl_ts/AD88_all.pkl\n",
      "Load file /data/rajlab1/user_data/jin/MyResearch/HDF_infer/notebooks/simu_real/../../mypkg/../data/AD_vs_Ctrl_ts/Ctrl92_all.pkl\n"
     ]
    }
   ],
   "source": [
    "AD_ts = load_pkl(DATA_ROOT/\"AD_vs_Ctrl_ts/AD88_all.pkl\")\n",
    "Ctrl_ts = load_pkl(DATA_ROOT/\"AD_vs_Ctrl_ts/Ctrl92_all.pkl\")\n",
    "ts_data = np.concatenate([AD_ts, Ctrl_ts], axis=0)\n",
    "stds = ts_data.std(axis=(1, 2));\n",
    "ts_data_filter = ts_data[np.sort(np.where(stds>100)[0])];"
   ]
  },
  {
   "cell_type": "code",
   "execution_count": 14,
   "id": "48c1028f-2d0a-4af0-bcab-9bff0386d96d",
   "metadata": {
    "execution": {
     "iopub.execute_input": "2024-01-24T23:58:29.619253Z",
     "iopub.status.busy": "2024-01-24T23:58:29.618607Z",
     "iopub.status.idle": "2024-01-24T23:58:29.675157Z",
     "shell.execute_reply": "2024-01-24T23:58:29.674434Z",
     "shell.execute_reply.started": "2024-01-24T23:58:29.619205Z"
    },
    "tags": []
   },
   "outputs": [],
   "source": [
    "from hdf_utils.data_gen import gen_simu_meg_dataset\n",
    "npts = 100\n",
    "data = gen_simu_meg_dataset(n=100, q=3, types_=[\"int\", 2, 2], \n",
    "                     gt_alp=np.array([1, 2, 3]), \n",
    "                     gt_beta=np.random.randn(npts, 68), \n",
    "                     npts=npts, \n",
    "                     base_data=ts_data_filter, \n",
    "                     data_type=\"logi\",\n",
    "                     data_params={}, seed=0, verbose=2);"
   ]
  },
  {
   "cell_type": "code",
   "execution_count": 12,
   "id": "d16d9653-ef6f-4c0f-b356-e34fdeebb53e",
   "metadata": {
    "execution": {
     "iopub.execute_input": "2024-01-24T23:57:42.620834Z",
     "iopub.status.busy": "2024-01-24T23:57:42.620192Z",
     "iopub.status.idle": "2024-01-24T23:57:47.569127Z",
     "shell.execute_reply": "2024-01-24T23:57:47.568653Z",
     "shell.execute_reply.started": "2024-01-24T23:57:42.620788Z"
    },
    "tags": []
   },
   "outputs": [
    {
     "data": {
      "text/plain": [
       "(169, 68, 36000)"
      ]
     },
     "execution_count": 12,
     "metadata": {},
     "output_type": "execute_result"
    }
   ],
   "source": []
  },
  {
   "cell_type": "code",
   "execution_count": null,
   "id": "224e8fbb-b75d-4643-83c8-ae88cd1019f6",
   "metadata": {},
   "outputs": [],
   "source": []
  }
 ],
 "metadata": {
  "kernelspec": {
   "display_name": "Python 3 (ipykernel)",
   "language": "python",
   "name": "python3"
  },
  "language_info": {
   "codemirror_mode": {
    "name": "ipython",
    "version": 3
   },
   "file_extension": ".py",
   "mimetype": "text/x-python",
   "name": "python",
   "nbconvert_exporter": "python",
   "pygments_lexer": "ipython3",
   "version": "3.9.7"
  }
 },
 "nbformat": 4,
 "nbformat_minor": 5
}
