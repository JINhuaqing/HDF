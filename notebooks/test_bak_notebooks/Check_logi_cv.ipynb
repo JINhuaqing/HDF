{
 "cells": [
  {
   "cell_type": "markdown",
   "id": "faf0a805",
   "metadata": {},
   "source": [
    "test the CV for logi"
   ]
  },
  {
   "cell_type": "code",
   "execution_count": 1,
   "id": "02ae980e",
   "metadata": {
    "ExecuteTime": {
     "end_time": "2023-05-31T19:57:23.490285Z",
     "start_time": "2023-05-31T19:57:23.481769Z"
    },
    "execution": {
     "iopub.execute_input": "2023-11-10T00:34:05.220516Z",
     "iopub.status.busy": "2023-11-10T00:34:05.219894Z",
     "iopub.status.idle": "2023-11-10T00:34:05.234532Z",
     "shell.execute_reply": "2023-11-10T00:34:05.233405Z",
     "shell.execute_reply.started": "2023-11-10T00:34:05.220469Z"
    },
    "tags": []
   },
   "outputs": [],
   "source": [
    "import sys\n",
    "sys.path.append(\"../../mypkg\")"
   ]
  },
  {
   "cell_type": "code",
   "execution_count": 2,
   "id": "023df78a",
   "metadata": {
    "ExecuteTime": {
     "end_time": "2023-05-31T19:57:34.238839Z",
     "start_time": "2023-05-31T19:57:23.494053Z"
    },
    "execution": {
     "iopub.execute_input": "2023-11-10T00:34:05.956176Z",
     "iopub.status.busy": "2023-11-10T00:34:05.955633Z",
     "iopub.status.idle": "2023-11-10T00:34:08.246789Z",
     "shell.execute_reply": "2023-11-10T00:34:08.245981Z",
     "shell.execute_reply.started": "2023-11-10T00:34:05.956119Z"
    },
    "tags": []
   },
   "outputs": [],
   "source": [
    "import numpy as np\n",
    "import torch\n",
    "import matplotlib.pyplot as plt\n",
    "import seaborn as sns\n",
    "from scipy.stats import pearsonr\n",
    "from numbers import Number\n",
    "\n",
    "from easydict import EasyDict as edict\n",
    "from tqdm import trange, tqdm\n",
    "from scipy.io import loadmat\n",
    "from pprint import pprint\n",
    "import itertools\n",
    "from scipy.stats import chi2\n"
   ]
  },
  {
   "cell_type": "code",
   "execution_count": 3,
   "id": "b9d3cbc6-1ac5-47d6-a0d1-bcbc0be9267e",
   "metadata": {
    "execution": {
     "iopub.execute_input": "2023-11-10T00:34:08.248437Z",
     "iopub.status.busy": "2023-11-10T00:34:08.247965Z",
     "iopub.status.idle": "2023-11-10T00:34:08.271300Z",
     "shell.execute_reply": "2023-11-10T00:34:08.270833Z",
     "shell.execute_reply.started": "2023-11-10T00:34:08.248415Z"
    },
    "tags": []
   },
   "outputs": [],
   "source": [
    "# This will reload all imports as soon as the code changes\n",
    "%load_ext autoreload\n",
    "%autoreload 2"
   ]
  },
  {
   "cell_type": "code",
   "execution_count": 52,
   "id": "b0aa91b2",
   "metadata": {
    "ExecuteTime": {
     "end_time": "2023-05-31T19:57:59.558229Z",
     "start_time": "2023-05-31T19:57:34.292612Z"
    },
    "execution": {
     "iopub.execute_input": "2023-11-10T01:03:40.605661Z",
     "iopub.status.busy": "2023-11-10T01:03:40.605070Z",
     "iopub.status.idle": "2023-11-10T01:03:40.826579Z",
     "shell.execute_reply": "2023-11-10T01:03:40.825259Z",
     "shell.execute_reply.started": "2023-11-10T01:03:40.605616Z"
    },
    "tags": []
   },
   "outputs": [],
   "source": [
    "from constants import DATA_ROOT, RES_ROOT, FIG_ROOT, MIDRES_ROOT\n",
    "from default_paras import def_paras\n",
    "\n",
    "from hdf_utils.data_gen import gen_covs, gen_simu_psd, gen_simu_ts\n",
    "from hdf_utils.fns import fn1, fn2, fn3, fn4, fn5, zero_fn\n",
    "from hdf_utils.fns_sinica import coef_fn, fourier_basis_fn, gen_sini_Xthetas\n",
    "from hdf_utils.likelihood import obt_lin_tm\n",
    "from hdf_utils.SIS import SIS_linear, SIS_ballcor\n",
    "from hdf_utils.utils import gen_lam_seq\n",
    "from hdf_utils.hypo_test import  MS2idxs, obt_test_stat_simple2\n",
    "from utils.matrix import col_vec_fn, col_vec2mat_fn, conju_grad, svd_inverse, cholesky_inv\n",
    "from utils.functions import logit_fn\n",
    "from utils.misc import save_pkl, load_pkl, bcross_entropy_loss\n",
    "from splines import obt_bsp_obasis_Rfn, obt_bsp_basis_Rfn_wrapper\n",
    "from projection import euclidean_proj_l1ball\n",
    "from optimization.one_step_opt import OneStepOpt\n",
    "from optimization.cross_validation import CV_err_linear_fn\n",
    "from optimization.opt import optimization\n",
    "from penalties.scad_pen import SCAD\n",
    "from models.linear_model import LinearModel\n",
    "from models.logistic_model import LogisticModel\n",
    "from optimization.variable_selection import GIC_fn, GCV_fn\n",
    "\n",
    "from joblib import Parallel, delayed"
   ]
  },
  {
   "cell_type": "code",
   "execution_count": 5,
   "id": "fe0a4a46",
   "metadata": {
    "ExecuteTime": {
     "end_time": "2023-05-31T19:57:59.621784Z",
     "start_time": "2023-05-31T19:57:59.568097Z"
    },
    "execution": {
     "iopub.execute_input": "2023-11-10T00:34:10.335267Z",
     "iopub.status.busy": "2023-11-10T00:34:10.334476Z",
     "iopub.status.idle": "2023-11-10T00:34:10.374665Z",
     "shell.execute_reply": "2023-11-10T00:34:10.374076Z",
     "shell.execute_reply.started": "2023-11-10T00:34:10.335219Z"
    },
    "tags": []
   },
   "outputs": [],
   "source": [
    "plt.style.use(FIG_ROOT/\"base.mplstyle\")\n",
    "torch.set_default_tensor_type(torch.DoubleTensor)"
   ]
  },
  {
   "cell_type": "code",
   "execution_count": null,
   "id": "e0cb5a3d-1ab1-4bc0-bfce-d7ebaedb0391",
   "metadata": {},
   "outputs": [],
   "source": []
  },
  {
   "cell_type": "code",
   "execution_count": null,
   "id": "d0af2f35",
   "metadata": {},
   "outputs": [],
   "source": []
  },
  {
   "cell_type": "markdown",
   "id": "dd9c6514",
   "metadata": {},
   "source": [
    "# Param and fns"
   ]
  },
  {
   "cell_type": "code",
   "execution_count": null,
   "id": "a10d559c-8d6a-428a-bdb9-23c0a5aac96b",
   "metadata": {},
   "outputs": [],
   "source": []
  },
  {
   "cell_type": "markdown",
   "id": "21e4ccea",
   "metadata": {},
   "source": [
    "## Params"
   ]
  },
  {
   "cell_type": "code",
   "execution_count": 10,
   "id": "fd29f0de",
   "metadata": {
    "ExecuteTime": {
     "end_time": "2023-05-31T23:31:16.397628Z",
     "start_time": "2023-05-31T23:31:16.221812Z"
    },
    "execution": {
     "iopub.execute_input": "2023-11-10T00:40:05.319838Z",
     "iopub.status.busy": "2023-11-10T00:40:05.319210Z",
     "iopub.status.idle": "2023-11-10T00:40:05.482785Z",
     "shell.execute_reply": "2023-11-10T00:40:05.480946Z",
     "shell.execute_reply.started": "2023-11-10T00:40:05.319793Z"
    },
    "tags": []
   },
   "outputs": [
    {
     "name": "stdout",
     "output_type": "stream",
     "text": [
      "[ 0.          0.          0.          0.          0.          0.\n",
      "  0.          0.          0.          0.          0.          0.\n",
      "  0.          0.          0.          0.          0.          0.\n",
      "  0.          0.          0.          0.          0.          0.\n",
      "  0.          0.          0.          0.          0.          0.\n",
      "  0.          0.          0.          0.          0.          0.\n",
      "  0.          0.          0.          0.          0.          0.\n",
      "  0.          0.          0.          0.          0.          0.\n",
      "  0.          0.          0.          0.          0.          0.\n",
      "  0.          0.          0.          0.          0.          0.\n",
      "  0.          0.          0.          0.          0.          0.\n",
      "  0.          0.          0.          0.          0.          0.\n",
      "  0.          0.          0.          0.          0.          0.\n",
      "  0.          0.          0.          0.          0.          0.\n",
      "  0.          0.          0.          0.          0.          0.\n",
      "  0.          0.          0.          0.          0.          0.\n",
      "  0.          0.          0.          0.          0.          0.\n",
      "  0.          0.          0.          0.          0.          0.\n",
      "  0.          0.          0.          0.          0.          0.\n",
      "  0.          0.          0.          0.          0.         14.87358566]\n"
     ]
    }
   ],
   "source": [
    "np.random.seed(0)\n",
    "#obt_bsp = obt_bsp_obasis_Rfn\n",
    "obt_bsp = obt_bsp_basis_Rfn_wrapper\n",
    "paras = edict(def_paras.copy())\n",
    "\n",
    "\n",
    "\n",
    "# Others\n",
    "paras.num_rep = 200 \n",
    "paras.init_noise_sd = -1 # the sd of the noise added to the true value for initial values, if -1, make init 0\n",
    "paras.SIS_ratio = 0.20 # the ratio to keep with SIS procedure\n",
    "paras.linear_theta_update=\"cholesky_inv\"\n",
    "\n",
    "# candidate sets of tuning parameters, only two \n",
    "# lambda: penalty term\n",
    "# N: num of basis\n",
    "paras.can_lams = [0.01, 0.1, 0.2, 0.3, 0.4, 0.6, 1, 2, 8] # for non\n",
    "paras.can_lams = [0.001, 0.3, 0.6, 0.8, 1, 1.2, 1.4, 2, 16] # for orthogonal basis\n",
    "paras.can_Ns = [4, 6, 8, 10, 12]\n",
    "\n",
    "\n",
    "# generating dataset\n",
    "paras.n = 200 # num of data obs to be genareted\n",
    "paras.npts = 100 # num of pts to evaluate X(s)\n",
    "paras.d = 120 # num of ROIs\n",
    "paras.q = 3 # num of other covariates\n",
    "paras.types_ = [\"int\", \"c\", 2]\n",
    "paras.srho = 0.3 # corr from sinica\n",
    "\n",
    "# b-spline\n",
    "paras.x = np.linspace(0, 1, paras.npts)\n",
    "paras.basis_mats = []\n",
    "for N in paras.can_Ns:\n",
    "    paras.basis_mats.append(\n",
    "        torch.tensor(obt_bsp(paras.x, N, paras.ord)).to(torch.get_default_dtype())\n",
    "    )\n",
    "\n",
    "# True parameters\n",
    "paras.alp_GT = np.array([0, -1, 1])\n",
    "# fourier basis\n",
    "cs = [0.0, 0.0, 0.0] # for sinica paper\n",
    "paras.fourier_basis = fourier_basis_fn(paras.x)[:, :]\n",
    "paras.fourier_basis_coefs = ([cs[0]*coef_fn(0.2), cs[1]*coef_fn(0.2), cs[2]*coef_fn(0.2)] + \n",
    "                             [np.zeros(50)] * (paras.d-3-1) +\n",
    "                             [coef_fn(0.2)]\n",
    "                             )\n",
    "paras.fourier_basis_coefs = np.array(paras.fourier_basis_coefs).T \n",
    "paras.beta_GT = paras.fourier_basis @ paras.fourier_basis_coefs\n",
    "print(np.linalg.norm(paras.beta_GT, axis=0))\n",
    "\n",
    "paras.Gam_GT_ests = [(np.linalg.inv(basis_mat.numpy().T \n",
    "                                  @ basis_mat.numpy()) \n",
    "                                  @ basis_mat.numpy().T \n",
    "                                  @ paras.beta_GT) \n",
    "                     for basis_mat in paras.basis_mats]\n",
    "\n",
    "# optimization\n",
    "# not used, to use it, you have to know GT\n",
    "#Rmins = [(2*(np.linalg.norm(paras.Gam_GT_ests[ix]\n",
    "#                            /np.sqrt(paras.can_Ns[ix]), axis=0).sum() \n",
    "#           + np.abs(paras.alp_GT).sum())) \n",
    "#        for ix in range(len(paras.can_Ns))]\n",
    "#paras.Rmin = np.max(Rmins)\n",
    "paras.Rmin = 100000\n",
    "paras.Rfct = 2\n",
    "paras.stop_cv = 5e-4\n",
    "paras.max_iter = 10000\n",
    "paras.num_cv_fold = 5\n",
    "\n",
    "paras.NR_eps = 1e-4 # the stop criteria for Newton-Ralpson method, only for logistic model\n",
    "paras.NR_maxit = 100\n",
    "\n",
    "paras.cv_is_center = True\n",
    "paras.cv_SIS_ratio = 0.2\n",
    "paras.num_cv_fold = 5\n",
    "paras.cv_init_noise_sd = -1\n",
    "\n",
    "\n",
    "# hypothesis test\n",
    "#without loss of generality, we assume the idxs in M is the first m betas\n",
    "paras.sel_idx = np.arange(1, paras.d) # M^c set, \n",
    "paras.M_idxs = np.delete(np.arange(paras.d), paras.sel_idx) # the M set\n",
    "paras.Cmats = [\n",
    "    np.eye(len(paras.M_idxs)), # m x m I matrix, [beta1, beta2] = [0, 0]\n",
    "]\n",
    "paras.svdinv_eps_Q = 1e-7 # now 0 means inverse, small value like 0.01 means remove small eig vals.\n",
    "paras.svdinv_eps_Psi = 1e-7\n",
    "\n",
    "paras.save_dir = RES_ROOT/\"simu_linear_sinica_samebetaX_tmp\"\n",
    "if not paras.save_dir.exists():\n",
    "    paras.save_dir.mkdir()"
   ]
  },
  {
   "cell_type": "code",
   "execution_count": null,
   "id": "b2111295-b7e5-412e-928a-cc0d9cee2083",
   "metadata": {},
   "outputs": [],
   "source": []
  },
  {
   "cell_type": "markdown",
   "id": "66c2f90f",
   "metadata": {
    "ExecuteTime": {
     "end_time": "2022-12-08T18:09:55.509389Z",
     "start_time": "2022-12-08T18:09:55.343396Z"
    }
   },
   "source": [
    "## Fns"
   ]
  },
  {
   "cell_type": "code",
   "execution_count": null,
   "id": "1de5567c-6bab-438d-971c-0e40b0c4c53d",
   "metadata": {
    "ExecuteTime": {
     "end_time": "2023-05-31T23:31:24.456489Z",
     "start_time": "2023-05-31T23:31:24.440199Z"
    },
    "code_folding": [],
    "tags": []
   },
   "outputs": [],
   "source": []
  },
  {
   "cell_type": "code",
   "execution_count": 16,
   "id": "0f30b88f",
   "metadata": {
    "ExecuteTime": {
     "end_time": "2023-05-31T23:31:24.456489Z",
     "start_time": "2023-05-31T23:31:24.440199Z"
    },
    "code_folding": [],
    "execution": {
     "iopub.execute_input": "2023-11-10T00:42:43.704673Z",
     "iopub.status.busy": "2023-11-10T00:42:43.704018Z",
     "iopub.status.idle": "2023-11-10T00:42:43.755206Z",
     "shell.execute_reply": "2023-11-10T00:42:43.753941Z",
     "shell.execute_reply.started": "2023-11-10T00:42:43.704625Z"
    },
    "tags": []
   },
   "outputs": [],
   "source": [
    "def _gen_simu_data_all(seed, paras, verbose=False):\n",
    "    \"\"\"\n",
    "    Generate simulated data for all parameters.\n",
    "\n",
    "    Args:\n",
    "        seed (int): Seed for random number generator.\n",
    "        paras (dict): Dictionary containing the following parameters:\n",
    "            - srho: corr from sinica\n",
    "            - fourier_basis: The fourier basis for generating X, npts x nbasis\n",
    "            - n (int): Number of samples.\n",
    "            - d (int): Number of dimensions.\n",
    "            - q (int): Number of covariates.\n",
    "            - types_ (list): List of types for generating covariates.\n",
    "            - alp_GT (list): List of ground truth alpha values.\n",
    "            - beta_GT (list): List of ground truth beta values.\n",
    "            - freqs (list): List of frequencies for generating simulated PSD.\n",
    "            - sigma2 (float): Variance of the noise.\n",
    "        verbose(bool): Verbose or not\n",
    "\n",
    "    Returns:\n",
    "        all_data (dict): Dictionary containing the following simulated data:\n",
    "            - X (torch.Tensor): Tensor of shape (n, d, npts) containing the simulated PSD.\n",
    "            - Y (torch.Tensor): Tensor of shape (n,) containing the response variable.\n",
    "            - Z (torch.Tensor): Tensor of shape (n, q) containing the covariates.\n",
    "    \"\"\"\n",
    "    torch.set_default_tensor_type(torch.DoubleTensor)\n",
    "    np.random.seed(seed)\n",
    "    _paras = edict(paras.copy())\n",
    "    # simulated PSD\n",
    "    assert len(_paras.types_) == _paras.q\n",
    "    assert len(_paras.alp_GT) == _paras.q\n",
    "    con_idxs = [typ ==\"c\" for typ in _paras.types_]\n",
    "   \n",
    "    thetas = gen_sini_Xthetas(_paras.srho, _paras.n, _paras.d);\n",
    "    simu_curvs = thetas @ _paras.fourier_basis.T; # n x d x npts\n",
    "    #simu_curvs = np.random.randn(_paras.n, _paras.d, _paras.npts)*10\n",
    "    simu_covs = gen_covs(_paras.n, _paras.types_)\n",
    "    \n",
    "    # linear term and Y\n",
    "    int_part = np.sum(_paras.beta_GT.T* simu_curvs[:, :, :], axis=1).mean(axis=1)\n",
    "    cov_part = simu_covs @ _paras.alp_GT \n",
    "    \n",
    "    # linear term\n",
    "    lin_term = cov_part + int_part\n",
    "    \n",
    "    probs = logit_fn(lin_term)\n",
    "    \n",
    "    # Y \n",
    "    Y = np.random.binomial(1, probs, size=len(probs))\n",
    "    \n",
    "    X_centered = simu_curvs - simu_curvs.mean(axis=0, keepdims=True)\n",
    "    # this step is not necessary for simulation as I did so in generating data step\n",
    "    # but for real data, plz do this\n",
    "    Z_std = simu_covs.copy()\n",
    "    Z_std[:, con_idxs] = (simu_covs[:, con_idxs] - simu_covs[:, con_idxs].mean(axis=0, keepdims=True))/simu_covs[:, con_idxs].std(axis=0, keepdims=True)\n",
    "    \n",
    "    # To torch\n",
    "    X = torch.Tensor(X_centered) # n x d x npts\n",
    "    Z = torch.Tensor(Z_std) # n x q\n",
    "    Y = torch.Tensor(Y)\n",
    "    \n",
    "    all_data = edict()\n",
    "    all_data.X = X\n",
    "    all_data.Y = Y\n",
    "    all_data.Z = Z\n",
    "    all_data.lin_term = lin_term\n",
    "    return all_data"
   ]
  },
  {
   "cell_type": "code",
   "execution_count": 33,
   "id": "ea195cf1-7237-45f5-9b1d-a17134c2b968",
   "metadata": {
    "execution": {
     "iopub.execute_input": "2023-11-10T00:49:12.082498Z",
     "iopub.status.busy": "2023-11-10T00:49:12.081696Z",
     "iopub.status.idle": "2023-11-10T00:49:12.231630Z",
     "shell.execute_reply": "2023-11-10T00:49:12.230399Z",
     "shell.execute_reply.started": "2023-11-10T00:49:12.082440Z"
    },
    "tags": []
   },
   "outputs": [],
   "source": [
    "def CV_err_logi_fn(data, num_cv_fold, is_prg=False, save_paras=False, input_paras={}):\n",
    "    \"\"\"This fn is to do the cross validation for select parameters for the optimization procedure \n",
    "       for logistic model, also include SIS in CV\n",
    "        args:\n",
    "            data: The dataset including, Y, Z, X\n",
    "            num_cv_fold: Num of cross validation folds.\n",
    "            input_paras: other parameters\n",
    "    \"\"\"\n",
    "    \n",
    "    # default parameter\n",
    "    _paras = {\n",
    "        \"is_small\": True, \n",
    "        \"Rv\": None, \n",
    "        \"sigma2\": 1,\n",
    "        \"basis_mat\": None,\n",
    "        'alpha': 0.9,\n",
    "        'beta': 1,\n",
    "        'NR_eps': 1e-05,\n",
    "        'NR_maxit': 100,\n",
    "        'stop_cv': 0.0005,\n",
    "        'max_iter': 2000, \n",
    "        'cv_is_center': False,\n",
    "        'cv_SIS_ratio': 0.2, \n",
    "        'cv_init_noise_sd': -1\n",
    "    }\n",
    "    _paras = edict(_paras)\n",
    "    _paras.update(input_paras)\n",
    "    \n",
    "    _paras.n = data.Y.shape[0]\n",
    "    _, N = paras.basis_mat.shape\n",
    "    \n",
    "    #We std continous variable\n",
    "    con_idxs = [typ == 'c' for typ in paras.types_]\n",
    "    \n",
    "    \n",
    "    num_test = int(_paras.n/num_cv_fold)\n",
    "    full_idx = np.arange(_paras.n)\n",
    "    test_Y_prob_all = []\n",
    "    if is_prg:\n",
    "        prg_bar = trange(num_cv_fold)\n",
    "    else:\n",
    "        prg_bar = range(num_cv_fold)\n",
    "    for ix in prg_bar:\n",
    "        test_idx = full_idx[(ix*num_test):(ix*num_test+num_test)]\n",
    "        if ix == num_cv_fold-1:\n",
    "            test_idx = full_idx[(ix*num_test):] # including all remaining data\n",
    "        train_idx = np.delete(full_idx, test_idx)\n",
    "        \n",
    "        test_set_X = data.X[test_idx]\n",
    "        test_set_Y = data.Y[test_idx]\n",
    "        test_set_Z = data.Z[test_idx]\n",
    "        \n",
    "        train_set_X = data.X[train_idx]\n",
    "        train_set_Y = data.Y[train_idx]\n",
    "        train_set_Z = data.Z[train_idx]\n",
    "        \n",
    "        if _paras.cv_is_center:\n",
    "            test_set_X = test_set_X - train_set_X.mean(axis=0, keepdims=True)\n",
    "            test_set_Z[:, con_idxs] = (test_set_Z[:, con_idxs] - train_set_Z[:, con_idxs].mean(axis=0, keepdims=True))/train_set_Z[:, con_idxs].std(axis=0, keepdims=True)\n",
    "            \n",
    "            train_set_X = train_set_X - train_set_X.mean(axis=0, keepdims=True)\n",
    "            train_set_Z[:, con_idxs] = (train_set_Z[:, con_idxs] - train_set_Z[:, con_idxs].mean(axis=0, keepdims=True))/train_set_Z[:, con_idxs].std(axis=0, keepdims=True)\n",
    "            \n",
    "        # SIS step\n",
    "        if _paras.cv_SIS_ratio < 1:\n",
    "            keep_idxs, _ = SIS_ballcor(train_set_Y, train_set_X, _paras.sel_idx, _paras.cv_SIS_ratio)\n",
    "        else:\n",
    "            keep_idxs = _paras.sel_idx\n",
    "        M_idxs = np.delete(np.arange(_paras.d), _paras.sel_idx)\n",
    "        keep_idxs = np.sort(np.concatenate([M_idxs, keep_idxs]))\n",
    "            \n",
    "        sel_idx_SIS = np.where(np.array([keep_idx in _paras.sel_idx for keep_idx in keep_idxs]))[0]\n",
    "        d_SIS = len(keep_idxs)\n",
    "        pen = SCAD(lams=_paras.lam, a=_paras.a,  sel_idx=sel_idx_SIS)\n",
    "        \n",
    "        train_set_X = train_set_X[:, keep_idxs]\n",
    "        test_set_X = test_set_X[:, keep_idxs]\n",
    "        \n",
    "        # initial value\n",
    "        if _paras.cv_init_noise_sd < 0:\n",
    "            alp_init = torch.zeros(_paras.q)\n",
    "            Gam_init = torch.zeros(N, d_SIS)\n",
    "            theta_init = torch.cat([alp_init, col_vec_fn(Gam_init)/np.sqrt(N)])\n",
    "            rhok_init = torch.zeros(d_SIS*N) \n",
    "        else:\n",
    "            alp_init = torch.Tensor(_paras.alp_GT) + torch.randn(_paras.q)*_paras.init_noise_sd\n",
    "            Gam_init = torch.Tensor(_paras.Gam_GT_est[:, keep_idxs]) + torch.randn(N, d_SIS)*_paras.init_noise_sd\n",
    "            theta_init = torch.cat([alp_init, col_vec_fn(Gam_init)/np.sqrt(N)])\n",
    "            rhok_init = torch.randn(d_SIS*N)\n",
    "        \n",
    "    \n",
    "        cur_model = LogisticModel(Y=train_set_Y, \n",
    "                                  X=train_set_X, \n",
    "                                  Z=train_set_Z, \n",
    "                                  basis_mat=_paras.basis_mat)\n",
    "        res = optimization(model=cur_model, \n",
    "                           penalty=pen, \n",
    "                           inits=[alp_init, Gam_init, theta_init, rhok_init], \n",
    "                           is_prg=False,\n",
    "                           save_paras=False,\n",
    "                           input_paras=_paras)\n",
    "        alp_est = res[0].alpk\n",
    "        gam_est = res[0].Gamk\n",
    "        test_Y_est = obt_lin_tm(test_set_Z, test_set_X, alp_est, gam_est, _paras.basis_mat)\n",
    "        test_Y_prob_all.append(logit_fn(test_Y_est.numpy()))\n",
    "    test_Y_prob_all = np.concatenate(test_Y_prob_all)\n",
    "    if save_paras:\n",
    "        return test_Y_prob_all, _paras\n",
    "    else:\n",
    "        return test_Y_prob_all\n"
   ]
  },
  {
   "cell_type": "code",
   "execution_count": 34,
   "id": "63ed86d6-928d-4f0a-8e70-34125729d35f",
   "metadata": {
    "execution": {
     "iopub.execute_input": "2023-11-10T00:49:12.838054Z",
     "iopub.status.busy": "2023-11-10T00:49:12.837484Z",
     "iopub.status.idle": "2023-11-10T00:49:12.921977Z",
     "shell.execute_reply": "2023-11-10T00:49:12.921397Z",
     "shell.execute_reply.started": "2023-11-10T00:49:12.838007Z"
    },
    "tags": []
   },
   "outputs": [],
   "source": [
    "data = _gen_simu_data_all(0, paras);"
   ]
  },
  {
   "cell_type": "code",
   "execution_count": null,
   "id": "21125af9-9907-4244-9359-08d611ece23c",
   "metadata": {
    "execution": {
     "iopub.execute_input": "2023-11-10T00:49:13.311250Z",
     "iopub.status.busy": "2023-11-10T00:49:13.310531Z",
     "iopub.status.idle": "2023-11-10T00:50:28.356117Z",
     "shell.execute_reply": "2023-11-10T00:50:28.355495Z",
     "shell.execute_reply.started": "2023-11-10T00:49:13.311203Z"
    },
    "tags": []
   },
   "outputs": [],
   "source": [
    "paras.lam = 0.1\n",
    "paras.basis_mat = paras.basis_mats[1]\n",
    "paras.Rv = paras.Rfct * paras.Rmin\n",
    "res = CV_err_logi_fn(data, num_cv_fold=5, is_prg=True, save_paras=True, input_paras=paras)"
   ]
  },
  {
   "cell_type": "code",
   "execution_count": 59,
   "id": "442156ea-43bc-49b1-bfa7-d1f39b2c5d7b",
   "metadata": {
    "execution": {
     "iopub.execute_input": "2023-11-10T01:06:14.634736Z",
     "iopub.status.busy": "2023-11-10T01:06:14.634113Z",
     "iopub.status.idle": "2023-11-10T01:06:14.768925Z",
     "shell.execute_reply": "2023-11-10T01:06:14.767649Z",
     "shell.execute_reply.started": "2023-11-10T01:06:14.634690Z"
    },
    "tags": []
   },
   "outputs": [
    {
     "data": {
      "text/plain": [
       "0.5551750496718584"
      ]
     },
     "execution_count": 59,
     "metadata": {},
     "output_type": "execute_result"
    }
   ],
   "source": [
    "bcross_entropy_loss(res[0], data.Y.numpy())"
   ]
  },
  {
   "cell_type": "code",
   "execution_count": 62,
   "id": "17d52505-a9aa-4b15-96a4-14b77e047e4d",
   "metadata": {
    "execution": {
     "iopub.execute_input": "2023-11-10T01:06:35.304735Z",
     "iopub.status.busy": "2023-11-10T01:06:35.304124Z",
     "iopub.status.idle": "2023-11-10T01:06:35.348567Z",
     "shell.execute_reply": "2023-11-10T01:06:35.347913Z",
     "shell.execute_reply.started": "2023-11-10T01:06:35.304688Z"
    },
    "tags": []
   },
   "outputs": [
    {
     "data": {
      "text/plain": [
       "array([0.00472153, 0.00799697, 0.00816439, 0.01334131, 0.02961459,\n",
       "       0.03047471, 0.03258976, 0.04519336, 0.0480683 , 0.05107867,\n",
       "       0.05217791, 0.05267721, 0.05762995, 0.05892226, 0.05908698,\n",
       "       0.05976103, 0.0615461 , 0.06290772, 0.06449015, 0.0667923 ,\n",
       "       0.06962228, 0.07071257, 0.07273082, 0.08131482, 0.0863873 ,\n",
       "       0.08738386, 0.09360772, 0.09438288, 0.09772966, 0.10058314,\n",
       "       0.10181476, 0.10417931, 0.1069586 , 0.10780388, 0.11326041,\n",
       "       0.11473099, 0.11635528, 0.1182939 , 0.11859332, 0.12696471,\n",
       "       0.12844354, 0.1291101 , 0.13034337, 0.1311781 , 0.14417465,\n",
       "       0.14417658, 0.14466161, 0.14496064, 0.14738013, 0.14868348,\n",
       "       0.15146195, 0.15415498, 0.15550805, 0.15621734, 0.1568475 ,\n",
       "       0.16116373, 0.16764059, 0.17229558, 0.1774315 , 0.1775114 ,\n",
       "       0.18482441, 0.18639062, 0.18979778, 0.19778805, 0.20546656,\n",
       "       0.21358749, 0.21782472, 0.23426547, 0.23494848, 0.23683035,\n",
       "       0.23762993, 0.2385621 , 0.24093869, 0.24167679, 0.24511669,\n",
       "       0.25651493, 0.26598996, 0.2679961 , 0.27022101, 0.27797231,\n",
       "       0.28116206, 0.28612343, 0.29434533, 0.2944564 , 0.29461138,\n",
       "       0.29934787, 0.30642166, 0.30826257, 0.3108086 , 0.31408147,\n",
       "       0.31772126, 0.32708822, 0.33562514, 0.33801993, 0.33943815,\n",
       "       0.35319122, 0.35337003, 0.35396265, 0.36149901, 0.36939657,\n",
       "       0.38433052, 0.39562187, 0.39895013, 0.39977931, 0.41984424,\n",
       "       0.42561495, 0.43283316, 0.43986992, 0.44217503, 0.44290736,\n",
       "       0.44893517, 0.45753879, 0.45938044, 0.46114826, 0.4631787 ,\n",
       "       0.46439641, 0.49755152, 0.50381752, 0.50961363, 0.51618239,\n",
       "       0.51989657, 0.52673839, 0.52950233, 0.53073044, 0.53336713,\n",
       "       0.53650064, 0.54544842, 0.55860834, 0.57162381, 0.57488518,\n",
       "       0.57577165, 0.59431278, 0.59613317, 0.60130183, 0.60800902,\n",
       "       0.61143139, 0.61454488, 0.621276  , 0.63481831, 0.64389691,\n",
       "       0.65530834, 0.65713545, 0.66474261, 0.66684793, 0.68365457,\n",
       "       0.68608594, 0.69657646, 0.70599123, 0.73496216, 0.74111737,\n",
       "       0.74238124, 0.75233888, 0.76601644, 0.76760738, 0.78686001,\n",
       "       0.80817682, 0.88177638, 0.89936659, 0.90324041, 0.9322588 ,\n",
       "       0.93245109, 0.94392997, 0.98925726, 0.99426346, 0.99673158,\n",
       "       0.99866899, 1.01448826, 1.02699343, 1.03845724, 1.0439416 ,\n",
       "       1.04471675, 1.0591491 , 1.07774438, 1.08800632, 1.09767574,\n",
       "       1.10454007, 1.13357578, 1.15394238, 1.23583121, 1.24499287,\n",
       "       1.26901248, 1.3184168 , 1.32327695, 1.33160975, 1.40926088,\n",
       "       1.42028611, 1.43955088, 1.48674527, 1.53728636, 1.6022611 ,\n",
       "       1.66330682, 1.6794381 , 2.02711362, 2.20019983, 2.31948969,\n",
       "       2.46153171, 2.63245917, 2.65313456, 2.69945025, 2.75964496])"
      ]
     },
     "execution_count": 62,
     "metadata": {},
     "output_type": "execute_result"
    }
   ],
   "source": [
    "probs = res[0]\n",
    "y = data.Y.numpy()\n",
    "loss = -(y*np.log(probs) + (1-y)*np.log(1-probs))\n",
    "np.sort(loss)"
   ]
  },
  {
   "cell_type": "code",
   "execution_count": 55,
   "id": "79f0c473-4b01-4529-b0db-b915a6af2255",
   "metadata": {
    "execution": {
     "iopub.execute_input": "2023-11-10T01:04:40.365861Z",
     "iopub.status.busy": "2023-11-10T01:04:40.365671Z",
     "iopub.status.idle": "2023-11-10T01:04:40.391558Z",
     "shell.execute_reply": "2023-11-10T01:04:40.390973Z",
     "shell.execute_reply.started": "2023-11-10T01:04:40.365847Z"
    },
    "tags": []
   },
   "outputs": [
    {
     "data": {
      "text/plain": [
       "PearsonRResult(statistic=0.5035674853931045, pvalue=2.952285052997972e-14)"
      ]
     },
     "execution_count": 55,
     "metadata": {},
     "output_type": "execute_result"
    }
   ],
   "source": [
    "import scipy\n",
    "scipy.stats.pearsonr(res[0], data.Y.numpy())"
   ]
  },
  {
   "cell_type": "code",
   "execution_count": 12,
   "id": "0e54aff6-7774-4a56-91bf-4d6ff5036592",
   "metadata": {
    "execution": {
     "iopub.execute_input": "2023-11-10T00:41:00.978487Z",
     "iopub.status.busy": "2023-11-10T00:41:00.977858Z",
     "iopub.status.idle": "2023-11-10T00:41:01.019385Z",
     "shell.execute_reply": "2023-11-10T00:41:01.018691Z",
     "shell.execute_reply.started": "2023-11-10T00:41:00.978441Z"
    }
   },
   "outputs": [
    {
     "data": {
      "text/plain": [
       "torch.Size([200, 1])"
      ]
     },
     "execution_count": 12,
     "metadata": {},
     "output_type": "execute_result"
    }
   ],
   "source": [
    "data.Z.shape"
   ]
  },
  {
   "cell_type": "code",
   "execution_count": 28,
   "id": "c7b02dd1-2404-497b-8a42-44881d8dc5c7",
   "metadata": {
    "execution": {
     "iopub.execute_input": "2023-11-08T22:17:32.838562Z",
     "iopub.status.busy": "2023-11-08T22:17:32.837758Z",
     "iopub.status.idle": "2023-11-08T22:17:32.880966Z",
     "shell.execute_reply": "2023-11-08T22:17:32.880217Z",
     "shell.execute_reply.started": "2023-11-08T22:17:32.838511Z"
    },
    "tags": []
   },
   "outputs": [
    {
     "name": "stdout",
     "output_type": "stream",
     "text": [
      "0.02 3.8\n"
     ]
    }
   ],
   "source": [
    "pvals = np.array([res[\"pval\"] for res in ress])\n",
    "L0s = np.array([torch.sum(res[\"est_Gam\"].norm(dim=0)!=0) for res in ress]);\n",
    "print(np.mean(pvals<0.05), L0s.mean())\n"
   ]
  },
  {
   "cell_type": "code",
   "execution_count": 28,
   "id": "0fcc2bc3-3ecf-41f7-8f23-691cedc49eb6",
   "metadata": {
    "execution": {
     "iopub.execute_input": "2023-11-08T03:27:25.199499Z",
     "iopub.status.busy": "2023-11-08T03:27:25.198885Z",
     "iopub.status.idle": "2023-11-08T03:27:25.257361Z",
     "shell.execute_reply": "2023-11-08T03:27:25.256813Z",
     "shell.execute_reply.started": "2023-11-08T03:27:25.199453Z"
    },
    "tags": []
   },
   "outputs": [],
   "source": []
  },
  {
   "cell_type": "code",
   "execution_count": null,
   "id": "96fd3e30",
   "metadata": {},
   "outputs": [],
   "source": []
  },
  {
   "cell_type": "code",
   "execution_count": null,
   "id": "8c346a71-6b20-4e7c-b4fe-c2bdd18a2e38",
   "metadata": {},
   "outputs": [],
   "source": []
  },
  {
   "cell_type": "code",
   "execution_count": null,
   "id": "65cdfaaa-92a7-4591-b04d-30be2b356b89",
   "metadata": {},
   "outputs": [],
   "source": []
  }
 ],
 "metadata": {
  "kernelspec": {
   "display_name": "Python 3 (ipykernel)",
   "language": "python",
   "name": "python3"
  },
  "language_info": {
   "codemirror_mode": {
    "name": "ipython",
    "version": 3
   },
   "file_extension": ".py",
   "mimetype": "text/x-python",
   "name": "python",
   "nbconvert_exporter": "python",
   "pygments_lexer": "ipython3",
   "version": "3.9.7"
  },
  "toc": {
   "base_numbering": 1,
   "nav_menu": {},
   "number_sections": true,
   "sideBar": true,
   "skip_h1_title": false,
   "title_cell": "Table of Contents",
   "title_sidebar": "Contents",
   "toc_cell": false,
   "toc_position": {
    "height": "calc(100% - 180px)",
    "left": "10px",
    "top": "150px",
    "width": "165px"
   },
   "toc_section_display": true,
   "toc_window_display": true
  },
  "toc-autonumbering": true
 },
 "nbformat": 4,
 "nbformat_minor": 5
}
