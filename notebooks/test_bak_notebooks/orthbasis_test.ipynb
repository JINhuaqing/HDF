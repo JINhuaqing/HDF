{
 "cells": [
  {
   "cell_type": "code",
   "execution_count": 35,
   "id": "6a04ec8d",
   "metadata": {
    "ExecuteTime": {
     "end_time": "2022-12-13T23:19:27.701061Z",
     "start_time": "2022-12-13T23:19:27.696496Z"
    },
    "execution": {
     "iopub.execute_input": "2023-10-04T06:47:52.331962Z",
     "iopub.status.busy": "2023-10-04T06:47:52.331408Z",
     "iopub.status.idle": "2023-10-04T06:47:52.426852Z",
     "shell.execute_reply": "2023-10-04T06:47:52.425786Z",
     "shell.execute_reply.started": "2023-10-04T06:47:52.331915Z"
    },
    "tags": []
   },
   "outputs": [],
   "source": [
    "import sys\n",
    "sys.path.append(\"../../mypkg\")"
   ]
  },
  {
   "cell_type": "code",
   "execution_count": 36,
   "id": "f92c949a-320b-46de-966a-bb2254f78b1f",
   "metadata": {
    "execution": {
     "iopub.execute_input": "2023-10-04T06:47:52.592438Z",
     "iopub.status.busy": "2023-10-04T06:47:52.591916Z",
     "iopub.status.idle": "2023-10-04T06:47:52.612425Z",
     "shell.execute_reply": "2023-10-04T06:47:52.611391Z",
     "shell.execute_reply.started": "2023-10-04T06:47:52.592395Z"
    },
    "tags": []
   },
   "outputs": [],
   "source": [
    "import numpy as np\n",
    "import matplotlib.pyplot as plt\n",
    "from easydict import EasyDict as edict\n",
    "from splines import obt_bsp_basis_Rfn_wrapper, obt_bsp_obasis_Rfn"
   ]
  },
  {
   "cell_type": "code",
   "execution_count": 37,
   "id": "16f98be9-ccbc-4c5e-9d93-a3dad81def15",
   "metadata": {
    "execution": {
     "iopub.execute_input": "2023-10-04T06:47:52.848109Z",
     "iopub.status.busy": "2023-10-04T06:47:52.847595Z",
     "iopub.status.idle": "2023-10-04T06:47:52.869130Z",
     "shell.execute_reply": "2023-10-04T06:47:52.868314Z",
     "shell.execute_reply.started": "2023-10-04T06:47:52.848066Z"
    },
    "tags": []
   },
   "outputs": [
    {
     "name": "stdout",
     "output_type": "stream",
     "text": [
      "The autoreload extension is already loaded. To reload it, use:\n",
      "  %reload_ext autoreload\n"
     ]
    }
   ],
   "source": [
    "# This will reload all imports as soon as the code changes\n",
    "%load_ext autoreload\n",
    "%autoreload 2"
   ]
  },
  {
   "cell_type": "code",
   "execution_count": 40,
   "id": "099e67d8-1436-4271-b287-8732fc23c5e1",
   "metadata": {
    "execution": {
     "iopub.execute_input": "2023-10-04T06:48:20.752076Z",
     "iopub.status.busy": "2023-10-04T06:48:20.751337Z",
     "iopub.status.idle": "2023-10-04T06:48:20.782523Z",
     "shell.execute_reply": "2023-10-04T06:48:20.781795Z",
     "shell.execute_reply.started": "2023-10-04T06:48:20.752028Z"
    },
    "tags": []
   },
   "outputs": [
    {
     "data": {
      "text/plain": [
       "7.449400879832973e-17"
      ]
     },
     "execution_count": 40,
     "metadata": {},
     "output_type": "execute_result"
    }
   ],
   "source": [
    "bsp_ord = 3\n",
    "N = 6\n",
    "x = np.linspace(0, 1, 100);\n",
    "basis1 = obt_bsp_basis_Rfn_wrapper(x, N, bsp_ord, intercept=1);\n",
    "basis2 = obt_bsp_obasis_Rfn(x, N, bsp_ord); # when use non-orth basis (on Oct 3, 2023)\n",
    "np.linalg.norm(basis1 - basis2)/np.linalg.norm(basis1)"
   ]
  },
  {
   "cell_type": "code",
   "execution_count": 25,
   "id": "4d6b91b0-8126-4faa-8f6b-2a7d93fc7dc6",
   "metadata": {
    "execution": {
     "iopub.execute_input": "2023-10-04T06:46:19.641065Z",
     "iopub.status.busy": "2023-10-04T06:46:19.640492Z",
     "iopub.status.idle": "2023-10-04T06:46:19.670533Z",
     "shell.execute_reply": "2023-10-04T06:46:19.669721Z",
     "shell.execute_reply.started": "2023-10-04T06:46:19.641018Z"
    },
    "tags": []
   },
   "outputs": [],
   "source": []
  },
  {
   "cell_type": "code",
   "execution_count": null,
   "id": "b0604154-cda6-4ee9-b97c-61e0d7cea18a",
   "metadata": {
    "tags": []
   },
   "outputs": [],
   "source": []
  },
  {
   "cell_type": "code",
   "execution_count": null,
   "id": "dda276e3-060b-4a5c-b4b0-437df5accd79",
   "metadata": {},
   "outputs": [],
   "source": []
  }
 ],
 "metadata": {
  "kernelspec": {
   "display_name": "Python 3 (ipykernel)",
   "language": "python",
   "name": "python3"
  },
  "language_info": {
   "codemirror_mode": {
    "name": "ipython",
    "version": 3
   },
   "file_extension": ".py",
   "mimetype": "text/x-python",
   "name": "python",
   "nbconvert_exporter": "python",
   "pygments_lexer": "ipython3",
   "version": "3.9.7"
  },
  "toc": {
   "base_numbering": 1,
   "nav_menu": {},
   "number_sections": true,
   "sideBar": true,
   "skip_h1_title": false,
   "title_cell": "Table of Contents",
   "title_sidebar": "Contents",
   "toc_cell": false,
   "toc_position": {},
   "toc_section_display": true,
   "toc_window_display": false
  }
 },
 "nbformat": 4,
 "nbformat_minor": 5
}
