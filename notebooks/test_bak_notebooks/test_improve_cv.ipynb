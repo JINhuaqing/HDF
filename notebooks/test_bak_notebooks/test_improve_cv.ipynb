{
 "cells": [
  {
   "cell_type": "markdown",
   "id": "faf0a805",
   "metadata": {},
   "source": [
    "This file is to test my code\n",
    "\n",
    "I try to improve my code for HDF to make it better."
   ]
  },
  {
   "cell_type": "code",
   "execution_count": 1,
   "id": "02ae980e",
   "metadata": {
    "ExecuteTime": {
     "end_time": "2023-05-31T19:57:23.490285Z",
     "start_time": "2023-05-31T19:57:23.481769Z"
    },
    "execution": {
     "iopub.execute_input": "2023-12-30T03:33:27.288745Z",
     "iopub.status.busy": "2023-12-30T03:33:27.288110Z",
     "iopub.status.idle": "2023-12-30T03:33:27.305008Z",
     "shell.execute_reply": "2023-12-30T03:33:27.303275Z",
     "shell.execute_reply.started": "2023-12-30T03:33:27.288697Z"
    },
    "tags": []
   },
   "outputs": [],
   "source": [
    "import sys\n",
    "sys.path.append(\"../../mypkg\")"
   ]
  },
  {
   "cell_type": "code",
   "execution_count": 2,
   "id": "023df78a",
   "metadata": {
    "ExecuteTime": {
     "end_time": "2023-05-31T19:57:34.238839Z",
     "start_time": "2023-05-31T19:57:23.494053Z"
    },
    "execution": {
     "iopub.execute_input": "2023-12-30T03:33:27.307236Z",
     "iopub.status.busy": "2023-12-30T03:33:27.306512Z",
     "iopub.status.idle": "2023-12-30T03:33:29.640254Z",
     "shell.execute_reply": "2023-12-30T03:33:29.639194Z",
     "shell.execute_reply.started": "2023-12-30T03:33:27.307191Z"
    },
    "tags": []
   },
   "outputs": [],
   "source": [
    "import numpy as np\n",
    "import torch\n",
    "import matplotlib.pyplot as plt\n",
    "import seaborn as sns\n",
    "from scipy.stats import pearsonr\n",
    "from numbers import Number\n",
    "\n",
    "from easydict import EasyDict as edict\n",
    "from tqdm import trange, tqdm\n",
    "from scipy.io import loadmat\n",
    "from pprint import pprint\n",
    "import itertools\n",
    "from scipy.stats import chi2\n"
   ]
  },
  {
   "cell_type": "code",
   "execution_count": 3,
   "id": "b9d3cbc6-1ac5-47d6-a0d1-bcbc0be9267e",
   "metadata": {
    "execution": {
     "iopub.execute_input": "2023-12-30T03:33:29.642593Z",
     "iopub.status.busy": "2023-12-30T03:33:29.642119Z",
     "iopub.status.idle": "2023-12-30T03:33:29.672115Z",
     "shell.execute_reply": "2023-12-30T03:33:29.671676Z",
     "shell.execute_reply.started": "2023-12-30T03:33:29.642563Z"
    },
    "tags": []
   },
   "outputs": [],
   "source": [
    "# This will reload all imports as soon as the code changes\n",
    "%load_ext autoreload\n",
    "%autoreload 2"
   ]
  },
  {
   "cell_type": "code",
   "execution_count": 4,
   "id": "b0aa91b2",
   "metadata": {
    "ExecuteTime": {
     "end_time": "2023-05-31T19:57:59.558229Z",
     "start_time": "2023-05-31T19:57:34.292612Z"
    },
    "execution": {
     "iopub.execute_input": "2023-12-30T03:33:29.672824Z",
     "iopub.status.busy": "2023-12-30T03:33:29.672681Z",
     "iopub.status.idle": "2023-12-30T03:33:30.516257Z",
     "shell.execute_reply": "2023-12-30T03:33:30.514865Z",
     "shell.execute_reply.started": "2023-12-30T03:33:29.672812Z"
    },
    "tags": []
   },
   "outputs": [],
   "source": [
    "from constants import DATA_ROOT, RES_ROOT, FIG_ROOT, MIDRES_ROOT\n",
    "from default_paras import def_paras\n",
    "\n",
    "from hdf_utils.data_gen import gen_covs, gen_simu_psd, gen_simu_psd_dataset\n",
    "from hdf_utils.fns_sinica import coef_fn, fourier_basis_fn, gen_sini_Xthetas\n",
    "from hdf_utils.likelihood import obt_lin_tm\n",
    "from hdf_utils.SIS_ch import SIS_GLIM\n",
    "from hdf_utils.utils import gen_lam_seq\n",
    "from hdf_utils.hypo_test import  MS2idxs, obt_test_stat_simple2, obt_test_stat_simple3\n",
    "from utils.matrix import col_vec_fn, col_vec2mat_fn, conju_grad, svd_inverse, cholesky_inv\n",
    "from utils.functions import logit_fn\n",
    "from utils.misc import save_pkl, load_pkl\n",
    "from splines import obt_bsp_obasis_Rfn, obt_bsp_basis_Rfn_wrapper\n",
    "from projection import euclidean_proj_l1ball\n",
    "from optimization_ch.cross_validation import CV_err_linear_fn, CV_err_logi_fn\n",
    "from optimization_ch.opt import optimization, HDFOpt\n",
    "from optimization.variable_selection import GIC_fn, GCV_fn\n",
    "from penalties.scad_pen import SCAD\n",
    "from models.linear_model import LinearModel\n",
    "from models.logistic_model import LogisticModel\n",
    "\n",
    "\n",
    "from joblib import Parallel, delayed"
   ]
  },
  {
   "cell_type": "code",
   "execution_count": 5,
   "id": "fe0a4a46",
   "metadata": {
    "ExecuteTime": {
     "end_time": "2023-05-31T19:57:59.621784Z",
     "start_time": "2023-05-31T19:57:59.568097Z"
    },
    "execution": {
     "iopub.execute_input": "2023-12-30T03:33:30.518589Z",
     "iopub.status.busy": "2023-12-30T03:33:30.517846Z",
     "iopub.status.idle": "2023-12-30T03:33:30.555552Z",
     "shell.execute_reply": "2023-12-30T03:33:30.554861Z",
     "shell.execute_reply.started": "2023-12-30T03:33:30.518547Z"
    },
    "tags": []
   },
   "outputs": [],
   "source": [
    "plt.style.use(FIG_ROOT/\"base.mplstyle\")\n",
    "torch.set_default_tensor_type(torch.DoubleTensor)"
   ]
  },
  {
   "cell_type": "code",
   "execution_count": null,
   "id": "e0cb5a3d-1ab1-4bc0-bfce-d7ebaedb0391",
   "metadata": {},
   "outputs": [],
   "source": []
  },
  {
   "cell_type": "code",
   "execution_count": null,
   "id": "d0af2f35",
   "metadata": {},
   "outputs": [],
   "source": []
  },
  {
   "cell_type": "code",
   "execution_count": null,
   "id": "a10d559c-8d6a-428a-bdb9-23c0a5aac96b",
   "metadata": {},
   "outputs": [],
   "source": []
  },
  {
   "cell_type": "markdown",
   "id": "21e4ccea",
   "metadata": {},
   "source": [
    "# Params"
   ]
  },
  {
   "cell_type": "code",
   "execution_count": 7,
   "id": "fd29f0de",
   "metadata": {
    "ExecuteTime": {
     "end_time": "2023-05-31T23:31:16.397628Z",
     "start_time": "2023-05-31T23:31:16.221812Z"
    },
    "execution": {
     "iopub.execute_input": "2023-12-30T03:33:37.951527Z",
     "iopub.status.busy": "2023-12-30T03:33:37.950737Z",
     "iopub.status.idle": "2023-12-30T03:33:38.181202Z",
     "shell.execute_reply": "2023-12-30T03:33:38.180523Z",
     "shell.execute_reply.started": "2023-12-30T03:33:37.951474Z"
    },
    "tags": [
     "param"
    ]
   },
   "outputs": [
    {
     "name": "stdout",
     "output_type": "stream",
     "text": [
      "[29.74717132]\n"
     ]
    }
   ],
   "source": [
    "#obt_bsp = obt_bsp_obasis_Rfn\n",
    "obt_bsp = obt_bsp_basis_Rfn_wrapper\n",
    "np.random.seed(0)\n",
    "paras = edict(def_paras.copy())\n",
    "\n",
    "\n",
    "\n",
    "# Others\n",
    "paras.num_rep = 200 \n",
    "paras.init_noise_sd = -1 # the sd of the noise added to the true value for initial values, if -1, make init 0\n",
    "paras.SIS_ratio = 0.2 # the ratio to keep with SIS procedure\n",
    "#paras.SIS_ratio = 0.2 # the ratio to keep with SIS procedure\n",
    "paras.SIS_pen = 0.02\n",
    "paras.linear_theta_update=\"cholesky_inv\"\n",
    "\n",
    "# candidate sets of tuning parameters, only two \n",
    "# lambda: penalty term\n",
    "# N: num of basis\n",
    "paras.can_lams = [0.01, 0.1, 0.2, 0.3, 0.4, 0.6, 1, 2, 8]\n",
    "paras.can_Ns = [4, 6, 8, 10, 12]\n",
    "\n",
    "\n",
    "# generating dataset\n",
    "paras.n = 200 # num of data obs to be genareted\n",
    "paras.npts = 100 # num of pts to evaluate X(s)\n",
    "paras.freqs = np.linspace(2, 45, paras.npts) # freqs\n",
    "paras.d = 68 # num of ROIs\n",
    "paras.q = 3 # num of other covariates\n",
    "paras.sigma2 = 1 # variance of the error\n",
    "# variance used for estimation, note that the value does not affect any results \n",
    "# as long as I tune the parameter properly\n",
    "paras.norminal_sigma2 = 1 \n",
    "paras.types_ = [\"int\", \"c\", 2]\n",
    "paras.is_psd_std = False\n",
    "\n",
    "# b-spline\n",
    "paras.x = np.linspace(0, 1, paras.npts)\n",
    "paras.basis_mats = []\n",
    "for N in paras.can_Ns:\n",
    "    paras.basis_mats.append(\n",
    "        torch.tensor(obt_bsp(paras.x, N, paras.ord)).to(torch.get_default_dtype())\n",
    "    )\n",
    "paras.SIS_basis_mat = torch.tensor(obt_bsp(paras.x, 8, paras.ord)).to(torch.get_default_dtype())\n",
    "\n",
    "# True parameters\n",
    "paras.alp_GT = np.array([5, -1, 2])\n",
    "# fourier basis\n",
    "cs = [0.0, 0.0, 0.0] # for sinica paper\n",
    "paras.fourier_basis = fourier_basis_fn(paras.x)[:, :]\n",
    "paras.fourier_basis_coefs = ([cs[0]*coef_fn(0.2), cs[1]*coef_fn(0.2), cs[2]*coef_fn(0.2)] + \n",
    "                             [np.zeros(50)] * (paras.d-3-1) +\n",
    "                             [coef_fn(0.2)]\n",
    "                             )\n",
    "paras.fourier_basis_coefs = np.array(paras.fourier_basis_coefs).T \n",
    "paras.beta_GT = paras.fourier_basis @ paras.fourier_basis_coefs * 2\n",
    "beta_GT_norm = np.linalg.norm(paras.beta_GT, axis=0)\n",
    "print(beta_GT_norm[beta_GT_norm!=0])\n",
    "\n",
    "paras.Gam_GT_ests = [(np.linalg.inv(basis_mat.numpy().T \n",
    "                                  @ basis_mat.numpy()) \n",
    "                                  @ basis_mat.numpy().T \n",
    "                                  @ paras.beta_GT) \n",
    "                     for basis_mat in paras.basis_mats]\n",
    "\n",
    "# optimization\n",
    "# not used, to use it, you have to know GT\n",
    "Rmins = [(2*(np.linalg.norm(paras.Gam_GT_ests[ix]\n",
    "                            /np.sqrt(paras.can_Ns[ix]), axis=0).sum() \n",
    "           + np.abs(paras.alp_GT).sum())) \n",
    "        for ix in range(len(paras.can_Ns))]\n",
    "paras.Rmin = np.max(Rmins)/5\n",
    "paras.Rmin = 100000\n",
    "paras.Rfct = 2\n",
    "paras.stop_cv = 5e-4\n",
    "paras.max_iter = 2000\n",
    "paras.beta = 1.2 # default is 1, but will make a lot of iteration non-conv\n",
    "\n",
    "paras.N_eps = 1e-4 # the stop criteria for Newton-Ralpson method, only for logistic model\n",
    "paras.N_maxit = 100\n",
    "paras.is_BFGS = \"adaptive\"\n",
    "\n",
    "# CV\n",
    "paras.cv_is_center = True\n",
    "paras.cv_SIS_ratio = paras.SIS_ratio\n",
    "paras.cv_SIS_pen = paras.SIS_pen\n",
    "paras.cv_SIS_basis_mat = paras.SIS_basis_mat\n",
    "paras.num_cv_fold = 5\n",
    "paras.cv_init_noise_sd = paras.init_noise_sd\n",
    "\n",
    "\n",
    "# hypothesis test\n",
    "#without loss of generality, we assume the idxs in M is the first m betas\n",
    "paras.sel_idx = np.arange(3, paras.d) # M^c set, \n",
    "paras.M_idxs = np.delete(np.arange(paras.d), paras.sel_idx) # the M set\n",
    "paras.Cmats = [\n",
    "    np.array([[1, 0, 0], [0, 1, -1]])\n",
    "    #np.array([1, -1]).reshape(1, 2), # m x m I matrix, [beta1, beta2] = [0, 0]\n",
    "    #np.eye(len(paras.M_idxs)), # m x m I matrix, [beta1, beta2] = [0, 0]\n",
    "]\n",
    "paras.svdinv_eps_Q = 1e-7 # now 0 means inverse, small value like 0.01 means remove small eig vals.\n",
    "paras.svdinv_eps_Psi = 1e-7 \n",
    "\n",
    "\n",
    "# saving path\n",
    "paras.save_dir = RES_ROOT/\"test\"\n",
    "if not paras.save_dir.exists():\n",
    "    paras.save_dir.mkdir()"
   ]
  },
  {
   "cell_type": "code",
   "execution_count": null,
   "id": "0fd898ca-898f-4507-b585-65c04b98a9ea",
   "metadata": {
    "tags": []
   },
   "outputs": [],
   "source": []
  },
  {
   "cell_type": "markdown",
   "id": "6fed36a7-f893-42a8-989a-146549615d33",
   "metadata": {},
   "source": [
    "# logi"
   ]
  },
  {
   "cell_type": "code",
   "execution_count": 8,
   "id": "808a1f35-a27a-4c1d-b30e-a2c8bc139cbb",
   "metadata": {
    "execution": {
     "iopub.execute_input": "2023-12-30T03:33:41.444115Z",
     "iopub.status.busy": "2023-12-30T03:33:41.443460Z",
     "iopub.status.idle": "2023-12-30T03:33:41.561885Z",
     "shell.execute_reply": "2023-12-30T03:33:41.561314Z",
     "shell.execute_reply.started": "2023-12-30T03:33:41.444065Z"
    },
    "tags": []
   },
   "outputs": [
    {
     "name": "stderr",
     "output_type": "stream",
     "text": [
      "2023-12-29 19:33:41,480 - hdf_utils.data_gen - WARNING - Check your input, sigma2 is not used.\n",
      "2023-12-29 19:33:41,481 - hdf_utils.data_gen - WARNING - Check your input, err_dist is not used.\n"
     ]
    }
   ],
   "source": [
    "cur_data = gen_simu_psd_dataset(n=paras.n, d=paras.d, q=paras.q, types_=paras.types_, \n",
    "                            alp_GT=paras.alp_GT, beta_GT=paras.beta_GT, freqs=paras.freqs, \n",
    "                            data_type=\"logi\", data_params={\"sigma2\":1, \"err_dist\": \"t\"}, \n",
    "                            seed=0, is_std=paras.is_psd_std);"
   ]
  },
  {
   "cell_type": "code",
   "execution_count": 9,
   "id": "3486e11c-cb4e-4136-ac55-b98dee4f99ff",
   "metadata": {
    "execution": {
     "iopub.execute_input": "2023-12-30T03:33:52.285821Z",
     "iopub.status.busy": "2023-12-30T03:33:52.285034Z",
     "iopub.status.idle": "2023-12-30T03:34:02.564303Z",
     "shell.execute_reply": "2023-12-30T03:34:02.563848Z",
     "shell.execute_reply.started": "2023-12-30T03:33:52.285768Z"
    },
    "tags": []
   },
   "outputs": [
    {
     "name": "stderr",
     "output_type": "stream",
     "text": [
      "2023-12-29 19:33:52,323 - optimization_ch.opt - INFO - opt parmas is {'stop_cv': 0.0005, 'max_iter': 2000, 'inner_loop_verbose': 0, 'alpha': 0.9, 'beta': 1.2, 'R': 10000, 'N_eps': 0.0001, 'N_maxit': 100, 'is_BFGS': 'adaptive', 'linear_theta_update': 'cholesky_inv', 'linear_mat': None, 'is_full': False}.\n",
      "2023-12-29 19:33:52,324 - optimization_ch.opt - INFO - SIS parmas is {'SIS_pen': 0.02, 'SIS_basis_N': 8, 'SIS_basis_ord': 4}.\n",
      "2023-12-29 19:33:52,324 - optimization_ch.opt - INFO - model parmas is {'norminal_sigma2': 1}.\n",
      "2023-12-29 19:33:52,325 - optimization_ch.opt - INFO - As cov_types is not provided, inferring the continuous covariates.\n",
      "100%|████████████████████████████████████████████████████████████████████████████████████████████████████████████████████████████████████████████| 5/5 [00:08<00:00,  1.66s/it]\n"
     ]
    }
   ],
   "source": [
    "lam = 0.5\n",
    "N = 8\n",
    "paras.SIS_ratio = 0.2\n",
    "paras.lam = lam \n",
    "paras.N = N\n",
    "paras.R = 10000\n",
    "paras.basis_mat = paras.basis_mats[paras.can_Ns.index(N)]\n",
    "\n",
    "hdf_fit = HDFOpt(is_std=True,  model_type=\"logi\", verbose=2, is_orth_basis=False,\n",
    "        SIS_ratio=paras.SIS_ratio, lam=paras.lam, N=paras.N, sel_idx=paras.sel_idx, opt_params={\"beta\":paras.beta, \"R\":paras.R})\n",
    "hdf_fit.add_data(X=cur_data.X, Y=cur_data.Y, Z=cur_data.Z)\n",
    "hdf_fit.fit()\n",
    "hdf_fit.get_cv_est(5);"
   ]
  },
  {
   "cell_type": "code",
   "execution_count": 10,
   "id": "bfed1770-b72b-49e2-844d-e58204c0fcb5",
   "metadata": {
    "execution": {
     "iopub.execute_input": "2023-12-30T03:34:03.397876Z",
     "iopub.status.busy": "2023-12-30T03:34:03.397279Z",
     "iopub.status.idle": "2023-12-30T03:34:11.468780Z",
     "shell.execute_reply": "2023-12-30T03:34:11.468260Z",
     "shell.execute_reply.started": "2023-12-30T03:34:03.397832Z"
    },
    "tags": []
   },
   "outputs": [
    {
     "name": "stderr",
     "output_type": "stream",
     "text": [
      "100%|████████████████████████████████████████████████████████████████████████████████████████████████████████████████████████████████████████████| 5/5 [00:08<00:00,  1.61s/it]\n"
     ]
    }
   ],
   "source": [
    "cv_probs = CV_err_logi_fn(data=cur_data, \n",
    "                          num_cv_fold=5, \n",
    "                          is_prg=1, \n",
    "                          save_paras=False,    \n",
    "                          input_paras=paras);"
   ]
  },
  {
   "cell_type": "code",
   "execution_count": 11,
   "id": "cd91d757-7798-4e7e-ab46-e2b4a5b80019",
   "metadata": {
    "execution": {
     "iopub.execute_input": "2023-12-30T03:34:13.221894Z",
     "iopub.status.busy": "2023-12-30T03:34:13.221289Z",
     "iopub.status.idle": "2023-12-30T03:34:13.255440Z",
     "shell.execute_reply": "2023-12-30T03:34:13.254934Z",
     "shell.execute_reply.started": "2023-12-30T03:34:13.221847Z"
    },
    "tags": []
   },
   "outputs": [
    {
     "data": {
      "text/plain": [
       "array([ 2.15288423e-06,  1.29239403e-07,  4.35164732e-06,  0.00000000e+00,\n",
       "        0.00000000e+00,  0.00000000e+00,  0.00000000e+00,  0.00000000e+00,\n",
       "        7.69124499e-06,  0.00000000e+00,  2.26551896e-06,  0.00000000e+00,\n",
       "        1.00259516e-05,  2.40196593e-06,  3.10513359e-07,  0.00000000e+00,\n",
       "        1.49461365e-04,  1.53385871e-05,  0.00000000e+00,  0.00000000e+00,\n",
       "        5.82569206e-08,  9.08694035e-07, -1.11022302e-16,  0.00000000e+00,\n",
       "        4.13906838e-06,  0.00000000e+00,  1.08175779e-04,  3.07763978e-06,\n",
       "        2.02546858e-07,  2.30564560e-06,  2.15935477e-07,  0.00000000e+00,\n",
       "        9.20919362e-07,  0.00000000e+00,  0.00000000e+00,  1.42439143e-07,\n",
       "        3.34702082e-05,  3.51702657e-05,  0.00000000e+00,  0.00000000e+00,\n",
       "        0.00000000e+00,  1.21356741e-06,  2.72718697e-04, -4.55374807e-05,\n",
       "       -6.67951091e-04,  3.63880417e-06,  0.00000000e+00,  0.00000000e+00,\n",
       "       -4.14048632e-05, -3.10691398e-05,  9.67903312e-06,  0.00000000e+00,\n",
       "        0.00000000e+00,  0.00000000e+00,  0.00000000e+00,  1.14956877e-06,\n",
       "        2.97572001e-05,  0.00000000e+00,  0.00000000e+00,  0.00000000e+00,\n",
       "        0.00000000e+00, -2.12366657e-07,  1.77683863e-06,  0.00000000e+00,\n",
       "        5.08152257e-07,  0.00000000e+00,  0.00000000e+00,  0.00000000e+00,\n",
       "       -1.67273096e-06, -1.65030484e-07,  0.00000000e+00,  5.99351901e-10,\n",
       "        0.00000000e+00,  1.64408794e-04,  0.00000000e+00,  5.81831157e-08,\n",
       "        3.08133043e-06,  0.00000000e+00,  0.00000000e+00,  0.00000000e+00,\n",
       "        0.00000000e+00,  0.00000000e+00,  2.22044605e-16,  0.00000000e+00,\n",
       "        0.00000000e+00,  0.00000000e+00, -1.11022302e-16,  1.44328993e-15,\n",
       "        0.00000000e+00,  0.00000000e+00,  0.00000000e+00, -2.15383267e-14,\n",
       "        0.00000000e+00,  0.00000000e+00,  0.00000000e+00,  0.00000000e+00,\n",
       "        0.00000000e+00,  0.00000000e+00,  0.00000000e+00,  0.00000000e+00,\n",
       "        0.00000000e+00,  1.70696790e-13,  1.11022302e-16,  0.00000000e+00,\n",
       "        0.00000000e+00,  0.00000000e+00,  0.00000000e+00,  0.00000000e+00,\n",
       "        0.00000000e+00,  2.22044605e-16,  0.00000000e+00,  0.00000000e+00,\n",
       "        2.22044605e-16,  0.00000000e+00,  0.00000000e+00,  0.00000000e+00,\n",
       "        0.00000000e+00,  0.00000000e+00,  0.00000000e+00,  8.01581024e-13,\n",
       "        0.00000000e+00, -5.41809331e-07,  0.00000000e+00,  0.00000000e+00,\n",
       "        0.00000000e+00,  0.00000000e+00,  5.49234559e-08, -3.22722044e-06,\n",
       "        0.00000000e+00, -9.47757328e-09,  0.00000000e+00,  0.00000000e+00,\n",
       "        0.00000000e+00,  4.98744267e-06,  0.00000000e+00,  8.27549597e-06,\n",
       "       -4.43449392e-05, -1.79974597e-06,  0.00000000e+00, -3.19459800e-06,\n",
       "        6.52187025e-05,  0.00000000e+00,  0.00000000e+00, -9.56828544e-04,\n",
       "        0.00000000e+00, -1.35589164e-06, -8.89946864e-07, -1.60388054e-03,\n",
       "        0.00000000e+00, -2.26513529e-06,  0.00000000e+00, -2.83329642e-05,\n",
       "        0.00000000e+00,  0.00000000e+00,  0.00000000e+00,  0.00000000e+00,\n",
       "       -5.72059399e-07,  1.39454947e-04, -1.52524412e-05,  0.00000000e+00,\n",
       "        0.00000000e+00, -2.96770782e-07,  0.00000000e+00,  0.00000000e+00,\n",
       "       -8.47493557e-03,  0.00000000e+00,  0.00000000e+00, -3.80899282e-04,\n",
       "        2.90455515e-06,  0.00000000e+00,  0.00000000e+00,  0.00000000e+00,\n",
       "        0.00000000e+00,  0.00000000e+00,  3.58818267e-04,  0.00000000e+00,\n",
       "        2.88665320e-05,  2.21775833e-05,  9.90139350e-06,  0.00000000e+00,\n",
       "        0.00000000e+00,  0.00000000e+00,  9.39133690e-08,  1.50359496e-05,\n",
       "        0.00000000e+00,  0.00000000e+00,  0.00000000e+00,  5.00691039e-03,\n",
       "        0.00000000e+00,  0.00000000e+00,  0.00000000e+00,  1.17217577e-07,\n",
       "        0.00000000e+00,  0.00000000e+00, -1.90583533e-05, -1.83084707e-05,\n",
       "        1.13775108e-05, -1.01612233e-05,  0.00000000e+00,  0.00000000e+00])"
      ]
     },
     "execution_count": 11,
     "metadata": {},
     "output_type": "execute_result"
    }
   ],
   "source": [
    "hdf_fit.cv_Y_est - cv_probs"
   ]
  },
  {
   "cell_type": "markdown",
   "id": "330ea38d-b3ef-4bb6-a615-ab4f7cb058be",
   "metadata": {},
   "source": [
    "# Linear"
   ]
  },
  {
   "cell_type": "code",
   "execution_count": 12,
   "id": "b9efb2ed-4726-4b47-94d0-0545e7dc81a6",
   "metadata": {
    "execution": {
     "iopub.execute_input": "2023-12-30T03:34:18.980387Z",
     "iopub.status.busy": "2023-12-30T03:34:18.979876Z",
     "iopub.status.idle": "2023-12-30T03:34:19.063286Z",
     "shell.execute_reply": "2023-12-30T03:34:19.062712Z",
     "shell.execute_reply.started": "2023-12-30T03:34:18.980352Z"
    },
    "tags": []
   },
   "outputs": [],
   "source": [
    "cur_data = gen_simu_psd_dataset(n=paras.n, d=paras.d, q=paras.q, types_=paras.types_, \n",
    "                            alp_GT=paras.alp_GT, beta_GT=paras.beta_GT, freqs=paras.freqs, \n",
    "                            data_type=\"linear\", data_params={\"sigma2\":1, \"err_dist\": \"t\"}, \n",
    "                            seed=0, is_std=paras.is_psd_std);"
   ]
  },
  {
   "cell_type": "code",
   "execution_count": 19,
   "id": "a70373c1-135e-4ad4-b8ee-2371620209d6",
   "metadata": {
    "execution": {
     "iopub.execute_input": "2023-12-30T03:36:54.808378Z",
     "iopub.status.busy": "2023-12-30T03:36:54.807542Z",
     "iopub.status.idle": "2023-12-30T03:36:56.370429Z",
     "shell.execute_reply": "2023-12-30T03:36:56.369373Z",
     "shell.execute_reply.started": "2023-12-30T03:36:54.808323Z"
    },
    "tags": []
   },
   "outputs": [
    {
     "name": "stderr",
     "output_type": "stream",
     "text": [
      "2023-12-29 19:36:55,005 - optimization_ch.opt - INFO - opt parmas is {'stop_cv': 0.0005, 'max_iter': 2000, 'inner_loop_verbose': 0, 'alpha': 0.9, 'beta': 1.2, 'R': 10000, 'N_eps': 0.0001, 'N_maxit': 100, 'is_BFGS': 'adaptive', 'linear_theta_update': 'cholesky_inv', 'linear_mat': None, 'is_full': True}.\n",
      "2023-12-29 19:36:55,006 - optimization_ch.opt - INFO - SIS parmas is {'SIS_pen': 0.02, 'SIS_basis_N': 8, 'SIS_basis_ord': 4}.\n",
      "2023-12-29 19:36:55,007 - optimization_ch.opt - INFO - model parmas is {'norminal_sigma2': 1}.\n",
      "2023-12-29 19:36:55,009 - optimization_ch.opt - INFO - As cov_types is not provided, inferring the continuous covariates.\n",
      "100%|██████████████████████████████████████████████████████████████████████████████████████████████████████████████████████████████████████████| 10/10 [00:01<00:00,  8.28it/s]\n"
     ]
    }
   ],
   "source": [
    "lam = 0.5\n",
    "N = 8\n",
    "paras.SIS_ratio = 0.2\n",
    "paras.lam = lam \n",
    "paras.N = N\n",
    "paras.R = 10000\n",
    "paras.basis_mat = paras.basis_mats[paras.can_Ns.index(N)]\n",
    "\n",
    "hdf_fit = HDFOpt(is_std=True,  model_type=\"linear\", verbose=2, is_orth_basis=False,\n",
    "        SIS_ratio=paras.SIS_ratio, lam=paras.lam, N=paras.N, sel_idx=paras.sel_idx, opt_params={\"beta\":paras.beta, \"R\":paras.R, \"is_full\": True})\n",
    "hdf_fit.add_data(X=cur_data.X, Y=cur_data.Y, Z=cur_data.Z)\n",
    "hdf_fit.fit()\n",
    "hdf_fit.get_cv_est(10);"
   ]
  },
  {
   "cell_type": "code",
   "execution_count": 17,
   "id": "6fe37f79-d4ac-4e5b-bd60-4cacfa435812",
   "metadata": {
    "execution": {
     "iopub.execute_input": "2023-12-30T03:34:43.419433Z",
     "iopub.status.busy": "2023-12-30T03:34:43.418794Z",
     "iopub.status.idle": "2023-12-30T03:34:44.761022Z",
     "shell.execute_reply": "2023-12-30T03:34:44.760586Z",
     "shell.execute_reply.started": "2023-12-30T03:34:43.419386Z"
    },
    "scrolled": true,
    "tags": []
   },
   "outputs": [
    {
     "name": "stderr",
     "output_type": "stream",
     "text": [
      "100%|██████████████████████████████████████████████████████████████████████████████████████████████████████████████████████████████████████████| 10/10 [00:01<00:00,  7.69it/s]\n"
     ]
    }
   ],
   "source": [
    "cv_errs = CV_err_linear_fn(data=cur_data, \n",
    "                            num_cv_fold=10, \n",
    "                            is_prg=1, \n",
    "                            save_paras=False,    \n",
    "                            input_paras=paras);"
   ]
  },
  {
   "cell_type": "code",
   "execution_count": 18,
   "id": "79ce3980-6caa-4077-9943-24d81fc867d5",
   "metadata": {
    "execution": {
     "iopub.execute_input": "2023-12-30T03:34:45.236154Z",
     "iopub.status.busy": "2023-12-30T03:34:45.235386Z",
     "iopub.status.idle": "2023-12-30T03:34:45.277099Z",
     "shell.execute_reply": "2023-12-30T03:34:45.275761Z",
     "shell.execute_reply.started": "2023-12-30T03:34:45.236101Z"
    },
    "tags": []
   },
   "outputs": [
    {
     "data": {
      "text/plain": [
       "array([-5.39568390e-14,  4.28546088e-14, -1.46549439e-14, -8.88178420e-15,\n",
       "        1.42108547e-14,  1.95399252e-14,  3.99680289e-14, -5.32907052e-15,\n",
       "       -2.66453526e-15, -7.54951657e-15,  1.72639680e-14,  1.21014310e-14,\n",
       "       -4.14113188e-14, -7.10542736e-15,  1.15463195e-14, -1.77635684e-14,\n",
       "        5.68434189e-14, -2.59792188e-14,  4.44089210e-16, -2.39808173e-14,\n",
       "       -2.08721929e-14,  8.88178420e-16,  3.55271368e-14,  1.77635684e-14,\n",
       "       -1.06581410e-14,  6.21724894e-15,  1.50990331e-14, -9.76996262e-15,\n",
       "        9.76996262e-15,  2.22044605e-14,  1.77635684e-14,  7.99360578e-15,\n",
       "       -2.17603713e-14, -5.77315973e-15, -1.11022302e-14, -8.43769499e-15,\n",
       "        0.00000000e+00, -1.42108547e-14, -1.15463195e-14,  2.57571742e-14,\n",
       "       -1.44328993e-14,  1.33226763e-14,  3.10862447e-15, -4.44089210e-16,\n",
       "        3.55271368e-15, -7.54951657e-15,  7.10542736e-15,  1.77635684e-15,\n",
       "       -2.66453526e-15, -1.33226763e-14, -1.33226763e-14, -5.77315973e-15,\n",
       "        1.46549439e-14,  1.33226763e-14,  1.24344979e-14,  7.99360578e-15,\n",
       "        1.68753900e-14, -3.55271368e-15, -2.22044605e-15, -9.32587341e-15,\n",
       "        1.99840144e-14,  1.50990331e-14,  5.32907052e-15, -1.33226763e-15,\n",
       "       -2.66453526e-14, -4.44089210e-16,  1.46549439e-14, -2.30926389e-14,\n",
       "        2.17603713e-14, -2.66453526e-15,  1.77635684e-14,  2.62012634e-14,\n",
       "        4.44089210e-15,  1.53210777e-14,  2.93098879e-14, -5.32907052e-15,\n",
       "       -8.88178420e-16,  3.55271368e-15,  1.24344979e-14, -1.24344979e-14,\n",
       "       -4.44089210e-15,  1.58761893e-14, -1.42108547e-14,  3.10862447e-15,\n",
       "        0.00000000e+00,  1.33226763e-14, -2.04281037e-14, -2.79776202e-14,\n",
       "        2.26485497e-14,  2.26485497e-14, -3.55271368e-15, -2.86437540e-14,\n",
       "       -4.35207426e-14, -1.59872116e-14, -6.21724894e-15,  7.10542736e-15,\n",
       "       -4.17443857e-14, -8.88178420e-15, -7.10542736e-15,  2.79776202e-14,\n",
       "       -2.30926389e-14, -6.21724894e-15, -3.55271368e-15, -2.53130850e-14,\n",
       "       -5.21804822e-14,  1.55431223e-14, -2.06501483e-14,  1.59872116e-14,\n",
       "        7.10542736e-15,  2.70894418e-14, -2.99760217e-15,  6.21724894e-15,\n",
       "       -1.59872116e-14, -4.44089210e-15, -5.10702591e-15, -3.90798505e-14,\n",
       "       -8.88178420e-15, -9.32587341e-15, -6.43929354e-15, -1.19904087e-14,\n",
       "       -1.99840144e-14,  9.76996262e-15,  7.99360578e-15,  2.66453526e-15,\n",
       "        1.82076576e-14,  2.57571742e-14,  4.66293670e-15, -4.44089210e-15,\n",
       "        4.61852778e-14,  2.44249065e-14, -4.66293670e-15,  8.88178420e-15,\n",
       "        3.50830476e-14,  1.55431223e-14,  3.55271368e-14,  2.35367281e-14,\n",
       "       -2.13162821e-14, -3.55271368e-15, -3.97459843e-14, -1.50990331e-14,\n",
       "        6.37268016e-14,  3.68594044e-14, -6.21724894e-15,  3.95239397e-14,\n",
       "       -6.21724894e-15, -3.19744231e-14, -6.21724894e-14,  1.75415238e-14,\n",
       "        1.24344979e-14, -1.02140518e-14,  3.55271368e-15, -7.99360578e-15,\n",
       "       -1.42108547e-14, -7.54951657e-15,  3.99680289e-15, -8.88178420e-15,\n",
       "       -8.88178420e-15,  3.37507799e-14,  3.10862447e-14, -2.70894418e-14,\n",
       "       -3.47499807e-14,  4.11892742e-14,  2.84217094e-14, -2.30926389e-14,\n",
       "       -3.99680289e-14,  3.37507799e-14, -2.84217094e-14, -1.82076576e-14,\n",
       "       -7.10542736e-15, -1.77635684e-15, -1.39888101e-14,  1.42108547e-14,\n",
       "       -3.01980663e-14,  2.57571742e-14, -1.33226763e-15,  5.15143483e-14,\n",
       "       -1.86517468e-14, -1.84297022e-14, -2.90878432e-14,  5.00710584e-14,\n",
       "       -1.95399252e-14, -4.44089210e-14, -1.33226763e-15,  9.76996262e-15,\n",
       "        3.90798505e-14,  2.30926389e-14, -1.59872116e-14, -3.55271368e-15,\n",
       "       -5.55111512e-14,  4.97379915e-14,  5.01820807e-14, -1.68753900e-14,\n",
       "        7.10542736e-15,  4.88498131e-15, -6.08402217e-14, -4.08562073e-14,\n",
       "        1.42108547e-14,  3.88578059e-15,  1.37667655e-14, -7.10542736e-14])"
      ]
     },
     "execution_count": 18,
     "metadata": {},
     "output_type": "execute_result"
    }
   ],
   "source": [
    "cv_errs - hdf_fit.cv_Y_est"
   ]
  },
  {
   "cell_type": "code",
   "execution_count": null,
   "id": "ecc048f3-868a-4a69-8627-bf6a750b7486",
   "metadata": {},
   "outputs": [],
   "source": []
  }
 ],
 "metadata": {
  "kernelspec": {
   "display_name": "Python 3 (ipykernel)",
   "language": "python",
   "name": "python3"
  },
  "language_info": {
   "codemirror_mode": {
    "name": "ipython",
    "version": 3
   },
   "file_extension": ".py",
   "mimetype": "text/x-python",
   "name": "python",
   "nbconvert_exporter": "python",
   "pygments_lexer": "ipython3",
   "version": "3.9.7"
  },
  "toc": {
   "base_numbering": 1,
   "nav_menu": {},
   "number_sections": true,
   "sideBar": true,
   "skip_h1_title": false,
   "title_cell": "Table of Contents",
   "title_sidebar": "Contents",
   "toc_cell": false,
   "toc_position": {
    "height": "calc(100% - 180px)",
    "left": "10px",
    "top": "150px",
    "width": "165px"
   },
   "toc_section_display": true,
   "toc_window_display": true
  },
  "toc-autonumbering": true,
  "toc-showcode": false,
  "toc-showmarkdowntxt": false,
  "toc-showtags": false
 },
 "nbformat": 4,
 "nbformat_minor": 5
}
