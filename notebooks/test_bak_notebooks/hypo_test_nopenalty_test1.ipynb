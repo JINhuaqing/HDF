{
 "cells": [
  {
   "cell_type": "markdown",
   "id": "faf0a805",
   "metadata": {},
   "source": [
    "This file contains python code to check the hypothesis testing"
   ]
  },
  {
   "cell_type": "code",
   "execution_count": 1,
   "id": "02ae980e",
   "metadata": {
    "ExecuteTime": {
     "end_time": "2023-05-26T04:17:30.603704Z",
     "start_time": "2023-05-26T04:17:30.586881Z"
    },
    "execution": {
     "iopub.execute_input": "2023-10-04T19:08:37.759056Z",
     "iopub.status.busy": "2023-10-04T19:08:37.758227Z",
     "iopub.status.idle": "2023-10-04T19:08:37.774613Z",
     "shell.execute_reply": "2023-10-04T19:08:37.772716Z",
     "shell.execute_reply.started": "2023-10-04T19:08:37.759011Z"
    },
    "tags": []
   },
   "outputs": [],
   "source": [
    "import sys\n",
    "sys.path.append(\"../../mypkg\")"
   ]
  },
  {
   "cell_type": "code",
   "execution_count": 2,
   "id": "023df78a",
   "metadata": {
    "ExecuteTime": {
     "end_time": "2023-05-26T04:17:43.173460Z",
     "start_time": "2023-05-26T04:17:31.330077Z"
    },
    "execution": {
     "iopub.execute_input": "2023-10-04T19:08:37.857350Z",
     "iopub.status.busy": "2023-10-04T19:08:37.856624Z",
     "iopub.status.idle": "2023-10-04T19:08:41.485852Z",
     "shell.execute_reply": "2023-10-04T19:08:41.484908Z",
     "shell.execute_reply.started": "2023-10-04T19:08:37.857306Z"
    },
    "tags": []
   },
   "outputs": [],
   "source": [
    "import numpy as np\n",
    "import torch\n",
    "import matplotlib.pyplot as plt\n",
    "import seaborn as sns\n",
    "import xarray as xr\n",
    "from scipy.stats import pearsonr\n",
    "from numbers import Number\n",
    "import multiprocessing as mp\n",
    "\n",
    "from easydict import EasyDict as edict\n",
    "from tqdm import trange\n",
    "from scipy.io import loadmat\n",
    "from pprint import pprint\n",
    "\n",
    "plt.style.use('ggplot')\n",
    "plt.rcParams[\"savefig.bbox\"] = \"tight\""
   ]
  },
  {
   "cell_type": "code",
   "execution_count": 6,
   "id": "b0aa91b2",
   "metadata": {
    "ExecuteTime": {
     "end_time": "2023-05-26T04:18:09.036581Z",
     "start_time": "2023-05-26T04:18:09.026603Z"
    },
    "execution": {
     "iopub.execute_input": "2023-10-04T19:08:43.754956Z",
     "iopub.status.busy": "2023-10-04T19:08:43.754400Z",
     "iopub.status.idle": "2023-10-04T19:08:43.763286Z",
     "shell.execute_reply": "2023-10-04T19:08:43.762156Z",
     "shell.execute_reply.started": "2023-10-04T19:08:43.754910Z"
    },
    "tags": []
   },
   "outputs": [],
   "source": [
    "from constants import DATA_ROOT, RES_ROOT, FIG_ROOT\n",
    "from default_paras import def_paras\n",
    "\n",
    "from hdf_utils.data_gen import gen_covs#, gen_simu_psd\n",
    "from hdf_utils.fns_sinica import coef_fn, fourier_basis_fn\n",
    "from hdf_utils.likelihood import obt_lin_tm\n",
    "from hdf_utils.SIS import SIS_linear\n",
    "from utils.matrix import col_vec_fn, col_vec2mat_fn, conju_grad, svd_inverse\n",
    "from utils.functions import logit_fn\n",
    "from utils.misc import save_pkl\n",
    "from splines import obt_bsp_basis_Rfn, obt_bsp_basis_Rfn_wrapper, obt_bsp_obasis_Rfn\n",
    "from models.linear_model import LinearModel\n"
   ]
  },
  {
   "cell_type": "code",
   "execution_count": 7,
   "id": "fdddf8a6",
   "metadata": {
    "ExecuteTime": {
     "end_time": "2023-05-26T04:18:17.072310Z",
     "start_time": "2023-05-26T04:18:17.066796Z"
    },
    "execution": {
     "iopub.execute_input": "2023-10-04T19:08:44.571281Z",
     "iopub.status.busy": "2023-10-04T19:08:44.570623Z",
     "iopub.status.idle": "2023-10-04T19:08:44.576611Z",
     "shell.execute_reply": "2023-10-04T19:08:44.575546Z",
     "shell.execute_reply.started": "2023-10-04T19:08:44.571235Z"
    },
    "tags": []
   },
   "outputs": [],
   "source": [
    "torch.set_default_tensor_type(torch.DoubleTensor)"
   ]
  },
  {
   "cell_type": "code",
   "execution_count": null,
   "id": "d0af2f35",
   "metadata": {},
   "outputs": [],
   "source": []
  },
  {
   "cell_type": "markdown",
   "id": "dd9c6514",
   "metadata": {},
   "source": [
    "## Param and fns"
   ]
  },
  {
   "cell_type": "markdown",
   "id": "21e4ccea",
   "metadata": {},
   "source": [
    "### Params"
   ]
  },
  {
   "cell_type": "code",
   "execution_count": 75,
   "id": "fd29f0de",
   "metadata": {
    "ExecuteTime": {
     "end_time": "2023-05-26T06:24:44.844079Z",
     "start_time": "2023-05-26T06:24:44.817778Z"
    },
    "execution": {
     "iopub.execute_input": "2023-10-04T19:13:37.097129Z",
     "iopub.status.busy": "2023-10-04T19:13:37.096492Z",
     "iopub.status.idle": "2023-10-04T19:13:37.127499Z",
     "shell.execute_reply": "2023-10-04T19:13:37.126190Z",
     "shell.execute_reply.started": "2023-10-04T19:13:37.097080Z"
    },
    "tags": []
   },
   "outputs": [
    {
     "name": "stdout",
     "output_type": "stream",
     "text": [
      "The number of B-spline basis is 6.\n"
     ]
    }
   ],
   "source": [
    "np.random.seed(0)\n",
    "paras = edict(def_paras.copy())\n",
    "\n",
    "# Others\n",
    "paras.num_rep = 20\n",
    "paras.ns = [100, 300, 900, 2700, 8100, 24300]\n",
    "paras.can_lams = [1e-1, 3e-1, 1e0, 3e0, 9e0, 3e1]\n",
    "paras.can_Ns = [5, 10, 15, 20]\n",
    "paras.ind_freq = np.linspace(1, 40, 40) # freqs\n",
    "paras.init_noise_sd = 0 # the sd of the noise added to the true value for initial values\n",
    "paras.SIS_ratio = 1 # the ratio to keep with SIS procedure\n",
    "#paras.SIS_ratio = 0.4 # the ratio to keep with SIS procedure\n",
    "\n",
    "# generating dataset\n",
    "paras.n = 100 # num of data obs to be genareted\n",
    "paras.npts = 40 # num of pts to evaluate X(s)\n",
    "paras.d = 5 # num of ROIs\n",
    "paras.q = 5 # num of other covariates\n",
    "paras.sigma2 = 1 # variance of the error\n",
    "paras.types_ = [\"int\", 2, 2, \"c\", \"c\"]\n",
    "\n",
    "# b-spline\n",
    "paras.N = 6 # int(3*paras.n**(1/paras.ord/2)) # num of basis for bsp\n",
    "paras.x = np.linspace(0, 1, paras.npts)\n",
    "paras.basis_mat = torch.DoubleTensor(obt_bsp_obasis_Rfn(paras.x, paras.N, paras.ord))\n",
    "#paras.basis_mat = torch.DoubleTensor(obt_bsp_basis_Rfn_wrapper(paras.x, paras.N, paras.ord))\n",
    "assert paras.N == paras.basis_mat.shape[1]\n",
    "print(f\"The number of B-spline basis is {paras.N:.0f}.\")\n",
    "\n",
    "# True parameters\n",
    "paras.alp_GT = np.array([5, 1, -2, 3, -4])\n",
    "\n",
    "# first way\n",
    "#beta_type_GT = [fn1, fn2, fn2] + [zero_fn]*(paras.d-3-2) + [fn1, fn2]\n",
    "#paras.beta_GT = np.array([_fn(paras.x) for _fn in beta_type_GT]).T\n",
    "# second way, fourier basis\n",
    "paras.fourier_basis = fourier_basis_fn(paras.x)\n",
    "#paras.fourier_basis_coefs = ([coef_fn(0.1), coef_fn(0.3), coef_fn(0.5)] + \n",
    "#                             [np.zeros(50)] * (paras.d-3-2) +\n",
    "#                             [coef_fn(0.7), coef_fn(0.9)]\n",
    "#                             )\n",
    "paras.fourier_basis_coefs = ([np.zeros(50)] * (paras.d-2) +\n",
    "                             [coef_fn(0.7), coef_fn(0.9)]\n",
    "                             )\n",
    "#paras.fourier_basis_coefs = [coef_fn(0.7), coef_fn(0.9)]\n",
    "                             \n",
    "#paras.fourier_basis_coefs = ([np.zeros(50)] * paras.d)\n",
    "paras.fourier_basis_coefs = np.array(paras.fourier_basis_coefs).T * 5\n",
    "paras.beta_GT = paras.fourier_basis @ paras.fourier_basis_coefs\n",
    "#\n",
    "paras.Gam_est = (np.linalg.inv(paras.basis_mat.numpy().T \n",
    "                               @ paras.basis_mat.numpy()) \n",
    "                               @ paras.basis_mat.numpy().T \n",
    "                               @ paras.beta_GT)\n",
    "\n",
    "\n",
    "# hypothesis test\n",
    "paras.sel_idx = np.arange(1, paras.d) # M^c set, \n",
    "paras.M_idxs = np.delete(np.arange(paras.d), paras.sel_idx) # the M set\n",
    "paras.Cmat = np.eye(len(paras.M_idxs)) # Cmat \\times beta_M(s), r x m\n",
    "paras.r, paras.m = paras.Cmat.shape\n",
    "paras.t_vec = np.zeros(paras.Cmat.shape[0]) # t vec, typically it is zero vector\n"
   ]
  },
  {
   "cell_type": "code",
   "execution_count": 76,
   "id": "75dc09a0",
   "metadata": {
    "ExecuteTime": {
     "end_time": "2023-05-26T06:24:45.469932Z",
     "start_time": "2023-05-26T06:24:45.452450Z"
    },
    "execution": {
     "iopub.execute_input": "2023-10-04T19:13:37.410273Z",
     "iopub.status.busy": "2023-10-04T19:13:37.409630Z",
     "iopub.status.idle": "2023-10-04T19:13:37.415586Z",
     "shell.execute_reply": "2023-10-04T19:13:37.414655Z",
     "shell.execute_reply.started": "2023-10-04T19:13:37.410227Z"
    },
    "tags": []
   },
   "outputs": [],
   "source": [
    "paras.save_dir = RES_ROOT/\"linear_test\"\n",
    "if not paras.save_dir.exists():\n",
    "    paras.save_dir.mkdir()"
   ]
  },
  {
   "cell_type": "code",
   "execution_count": null,
   "id": "75e10fd4",
   "metadata": {},
   "outputs": [],
   "source": []
  },
  {
   "cell_type": "markdown",
   "id": "66c2f90f",
   "metadata": {
    "ExecuteTime": {
     "end_time": "2022-12-08T18:09:55.509389Z",
     "start_time": "2022-12-08T18:09:55.343396Z"
    }
   },
   "source": [
    "### Fns"
   ]
  },
  {
   "cell_type": "code",
   "execution_count": 77,
   "id": "fea96e90",
   "metadata": {
    "ExecuteTime": {
     "end_time": "2023-05-26T06:24:46.638923Z",
     "start_time": "2023-05-26T06:24:46.632795Z"
    },
    "execution": {
     "iopub.execute_input": "2023-10-04T19:13:38.142245Z",
     "iopub.status.busy": "2023-10-04T19:13:38.141717Z",
     "iopub.status.idle": "2023-10-04T19:13:38.149596Z",
     "shell.execute_reply": "2023-10-04T19:13:38.148472Z",
     "shell.execute_reply.started": "2023-10-04T19:13:38.142203Z"
    },
    "tags": []
   },
   "outputs": [],
   "source": [
    "\n",
    "def MS2idxs(q, N, MS_unions):\n",
    "    \"\"\"This fn is to return the idxs to keep in mat Q, Sigma and vec Theta\n",
    "    \"\"\"\n",
    "    idxs_all = [np.arange(0, q)]\n",
    "    for cur_idx in MS_unions:\n",
    "        idxs_all.append(np.arange(q+cur_idx*N, q+(cur_idx+1)*N))\n",
    "    idxs_all = np.concatenate(idxs_all)\n",
    "    return idxs_all"
   ]
  },
  {
   "cell_type": "code",
   "execution_count": 78,
   "id": "2db5c76b",
   "metadata": {
    "ExecuteTime": {
     "end_time": "2023-05-26T06:24:47.094794Z",
     "start_time": "2023-05-26T06:24:47.087236Z"
    },
    "execution": {
     "iopub.execute_input": "2023-10-04T19:13:38.349843Z",
     "iopub.status.busy": "2023-10-04T19:13:38.349309Z",
     "iopub.status.idle": "2023-10-04T19:13:38.358282Z",
     "shell.execute_reply": "2023-10-04T19:13:38.357168Z",
     "shell.execute_reply.started": "2023-10-04T19:13:38.349775Z"
    },
    "tags": []
   },
   "outputs": [],
   "source": [
    "def get_Amat(k, paras):\n",
    "    \"\"\"Get A matrix for hypothesis test\n",
    "        k: Num of elements in S\n",
    "        paras: parameters\n",
    "                required: N, Cmat, m, q\n",
    "    \"\"\"\n",
    "    _paras = edict(paras.copy())\n",
    "    \n",
    "    part1 = np.kron(_paras.Cmat, np.eye(_paras.N))\n",
    "    part2 = np.zeros((_paras.m*_paras.N, _paras.q+(_paras.m+k)*_paras.N))\n",
    "    part2[:, _paras.q:(_paras.q+_paras.m*_paras.N)] = np.eye(_paras.m*_paras.N)\n",
    "    A = part1 @ part2\n",
    "    return A"
   ]
  },
  {
   "cell_type": "code",
   "execution_count": 79,
   "id": "0f30b88f",
   "metadata": {
    "ExecuteTime": {
     "end_time": "2023-05-26T06:24:47.877983Z",
     "start_time": "2023-05-26T06:24:47.866316Z"
    },
    "code_folding": [],
    "execution": {
     "iopub.execute_input": "2023-10-04T19:13:38.667012Z",
     "iopub.status.busy": "2023-10-04T19:13:38.666481Z",
     "iopub.status.idle": "2023-10-04T19:13:38.679279Z",
     "shell.execute_reply": "2023-10-04T19:13:38.678316Z",
     "shell.execute_reply.started": "2023-10-04T19:13:38.666968Z"
    },
    "tags": []
   },
   "outputs": [],
   "source": [
    "def _gen_simu_data_all(seed, paras):\n",
    "    np.random.seed(seed)\n",
    "    _paras = edict(paras.copy())\n",
    "    # simulated PSD\n",
    "    assert len(_paras.types_) == _paras.q\n",
    "    assert len(_paras.alp_GT) == _paras.q\n",
    "    \n",
    "    #simu_psd = gen_simu_psd(_paras.n, _paras.d, 10, 2)\n",
    "    simu_psd = np.random.randn(_paras.n, _paras.d, 40)*1\n",
    "    #simu_psd = std_real_psd[:, :_paras.d]\n",
    "    simu_covs = gen_covs(_paras.n, _paras.types_)\n",
    "    \n",
    "    # linear term and Y\n",
    "    int_part = np.sum(_paras.beta_GT.T* simu_psd[:, :, :], axis=1).mean(axis=1)\n",
    "    cov_part = simu_covs @ _paras.alp_GT \n",
    "    \n",
    "    # linear term\n",
    "    lin_term = cov_part + int_part\n",
    "    \n",
    "    # Y \n",
    "    rvs = np.random.rand(_paras.n)\n",
    "    Y = lin_term + np.random.randn(_paras.n)*np.sqrt(_paras.sigma2)\n",
    "    \n",
    "    # To torch\n",
    "    X = torch.tensor(simu_psd) # n x d x npts\n",
    "    Z = torch.tensor(simu_covs) # n x q\n",
    "    Y = torch.tensor(Y)\n",
    "    \n",
    "    all_data = edict()\n",
    "    all_data.X = X\n",
    "    all_data.Y = Y\n",
    "    all_data.Z = Z\n",
    "    all_data.lin_term = lin_term\n",
    "    return all_data"
   ]
  },
  {
   "cell_type": "code",
   "execution_count": null,
   "id": "b1a2b52d",
   "metadata": {},
   "outputs": [],
   "source": []
  },
  {
   "cell_type": "markdown",
   "id": "e4043966",
   "metadata": {},
   "source": [
    "## Simu"
   ]
  },
  {
   "cell_type": "code",
   "execution_count": 80,
   "id": "eb44d701",
   "metadata": {
    "ExecuteTime": {
     "end_time": "2023-06-01T00:02:50.562448Z",
     "start_time": "2023-06-01T00:02:33.206851Z"
    },
    "execution": {
     "iopub.execute_input": "2023-10-04T19:13:39.433447Z",
     "iopub.status.busy": "2023-10-04T19:13:39.432943Z",
     "iopub.status.idle": "2023-10-04T19:13:40.174876Z",
     "shell.execute_reply": "2023-10-04T19:13:40.174326Z",
     "shell.execute_reply.started": "2023-10-04T19:13:39.433405Z"
    },
    "scrolled": true,
    "tags": []
   },
   "outputs": [
    {
     "name": "stderr",
     "output_type": "stream",
     "text": [
      "100%|███████████████████████████████████████████████████████████████████████████████████████████████████████████████████████████████████████| 200/200 [00:00<00:00, 279.57it/s]\n"
     ]
    }
   ],
   "source": [
    "seed = 0\n",
    "T_vs = []\n",
    "T_p1s = []\n",
    "Psis = []\n",
    "est_alps = []\n",
    "nonzero_idxss = []\n",
    "#for seed in [10]:\n",
    "for seed in trange(200):\n",
    "\n",
    "    _paras = edict(paras.copy())\n",
    "    _paras.seed = seed\n",
    "    cur_data = _gen_simu_data_all(_paras.seed, _paras)\n",
    "    \n",
    "    # do sure independent screening for dim reduction\n",
    "    if _paras.SIS_ratio < 1:\n",
    "        keep_idxs, _  = SIS_linear(cur_data.Y, cur_data.X, cur_data.Z, _paras.SIS_ratio, _paras)\n",
    "    else:\n",
    "        keep_idxs = _paras.sel_idx\n",
    "    M_idxs = np.delete(np.arange(_paras.d), _paras.sel_idx)\n",
    "    _paras.keep_idxs = np.sort(np.concatenate([M_idxs, keep_idxs]))\n",
    "        \n",
    "    _paras.d_SIS = len(_paras.keep_idxs)\n",
    "    \n",
    "    cur_data_SIS = edict(cur_data.copy())\n",
    "    cur_data_SIS.X = cur_data.X[:, _paras.keep_idxs, :]\n",
    "    \n",
    "    model = LinearModel(Y=cur_data_SIS.Y, \n",
    "                        X=cur_data_SIS.X, \n",
    "                        Z=cur_data_SIS.Z, \n",
    "                        basis_mat=_paras.basis_mat, \n",
    "                        sigma2=_paras.sigma2)\n",
    "    model._linear_term_der()\n",
    "    Xt = model.lin_tm_der # Mx(q+dN)\n",
    "    #est_theta = torch.inverse(Xt.T @ Xt )@Xt.T@cur_data_SIS.Y\n",
    "    est_theta = svd_inverse(Xt.T @ Xt + 0*torch.eye(Xt.shape[-1]), 0.999)@Xt.T@cur_data_SIS.Y\n",
    "    ##est_theta = torch.inverse(Xt.T @ Xt)@Xt.T@Y\n",
    "    #\n",
    "    est_alp = est_theta[:_paras.q]\n",
    "    est_Gam = col_vec2mat_fn(est_theta[_paras.q:], nrow=_paras.N)*np.sqrt(_paras.N)\n",
    "    est_theta = torch.cat([est_alp, col_vec_fn(est_Gam)/np.sqrt(_paras.N)])\n",
    "    \n",
    "    Q_mat = -model.log_lik_der2(est_alp, est_Gam)\n",
    "    model.log_lik_der1(est_alp, est_Gam);\n",
    "    Sig_mat = (model.log_lik_der1_vs.unsqueeze(-1) * model.log_lik_der1_vs.unsqueeze(1)).mean(axis=0) \n",
    "    \n",
    "    # obtain the idxs to keep for test\n",
    "    nonzero_idxs = torch.nonzero(torch.norm(est_Gam, dim=0)).reshape(-1).numpy()\n",
    "    MS_unions = np.sort(np.union1d(_paras.M_idxs, nonzero_idxs))\n",
    "    keep_idxs_test = MS2idxs(_paras.q, _paras.N, MS_unions)\n",
    "        \n",
    "    # A mat\n",
    "    k = len(np.setdiff1d(nonzero_idxs, _paras.M_idxs))\n",
    "    Amat = torch.tensor(get_Amat(k, _paras))\n",
    "        \n",
    "    # calcuate Test stats\n",
    "    Q_mat_part = Q_mat[keep_idxs_test][:, keep_idxs_test]\n",
    "    #Q_mat_part_inv = torch.linalg.pinv(Q_mat_part)\n",
    "    Q_mat_part_inv = svd_inverse(Q_mat_part, 0.9999)\n",
    "        \n",
    "    Sig_mat_part = Sig_mat[keep_idxs_test][:, keep_idxs_test]\n",
    "    Psi = Amat @ Q_mat_part_inv @ Sig_mat_part @ Q_mat_part_inv.T @ Amat.T\n",
    "        \n",
    "    T_p1 = Amat @ est_theta[keep_idxs_test]\n",
    "    #Psi_inv = torch.linalg.pinv(Psi)\n",
    "    Psi_inv = svd_inverse(Psi, 0.9999)\n",
    "    T_v = T_p1 @ Psi_inv @ T_p1 * _paras.n \n",
    "    #print(T_v)\n",
    "\n",
    "    Psis.append(Psi)\n",
    "    T_p1s.append(T_p1)\n",
    "    T_vs.append(T_v.item())\n",
    "    est_alps.append(est_alp)\n",
    "    nonzero_idxss.append(nonzero_idxs)"
   ]
  },
  {
   "cell_type": "code",
   "execution_count": 81,
   "id": "307926ce",
   "metadata": {
    "ExecuteTime": {
     "end_time": "2023-05-26T06:37:08.376793Z",
     "start_time": "2023-05-26T06:37:08.369425Z"
    },
    "execution": {
     "iopub.execute_input": "2023-10-04T19:13:40.890238Z",
     "iopub.status.busy": "2023-10-04T19:13:40.889679Z",
     "iopub.status.idle": "2023-10-04T19:13:40.901024Z",
     "shell.execute_reply": "2023-10-04T19:13:40.899955Z",
     "shell.execute_reply.started": "2023-10-04T19:13:40.890194Z"
    },
    "tags": []
   },
   "outputs": [
    {
     "data": {
      "text/plain": [
       "array([ 4.95783027,  1.08825347, -1.96502849,  2.98951253, -4.03129191])"
      ]
     },
     "execution_count": 81,
     "metadata": {},
     "output_type": "execute_result"
    }
   ],
   "source": [
    "np.array([ix.numpy() for ix in est_alps]).mean(axis=0)"
   ]
  },
  {
   "cell_type": "code",
   "execution_count": 82,
   "id": "d754993f-1cc5-4d56-b0dd-caa4fbd9ab0d",
   "metadata": {
    "execution": {
     "iopub.execute_input": "2023-10-04T19:13:42.630397Z",
     "iopub.status.busy": "2023-10-04T19:13:42.629839Z",
     "iopub.status.idle": "2023-10-04T19:13:42.640354Z",
     "shell.execute_reply": "2023-10-04T19:13:42.639368Z",
     "shell.execute_reply.started": "2023-10-04T19:13:42.630351Z"
    },
    "tags": []
   },
   "outputs": [
    {
     "data": {
      "text/plain": [
       "tensor([165.9843, 110.1473, 105.1871,  43.0570,  36.9883,  34.6017,  30.2952,\n",
       "         29.8579,  28.0910,  26.1707,  21.6192,  20.9955,  19.9739,  18.9743,\n",
       "         18.0383,  17.3341,  16.5435,  16.3002,  15.2569,  14.0901,  12.6515,\n",
       "         11.8622,  11.5558,  10.9332,  10.2803,   9.8360,   9.5862,   7.6688,\n",
       "          7.3670,   6.5040,   5.9181,   5.2570,   4.8583,   4.2076,   3.5483])"
      ]
     },
     "execution_count": 82,
     "metadata": {},
     "output_type": "execute_result"
    }
   ],
   "source": [
    "XX = Xt.T @ Xt;\n",
    "torch.svd(XX).S"
   ]
  },
  {
   "cell_type": "code",
   "execution_count": 83,
   "id": "32621f00",
   "metadata": {
    "ExecuteTime": {
     "end_time": "2023-05-26T06:37:06.729905Z",
     "start_time": "2023-05-26T06:37:06.528082Z"
    },
    "execution": {
     "iopub.execute_input": "2023-10-04T19:13:45.238522Z",
     "iopub.status.busy": "2023-10-04T19:13:45.237983Z",
     "iopub.status.idle": "2023-10-04T19:13:45.377299Z",
     "shell.execute_reply": "2023-10-04T19:13:45.376893Z",
     "shell.execute_reply.started": "2023-10-04T19:13:45.238477Z"
    },
    "tags": []
   },
   "outputs": [
    {
     "data": {
      "text/plain": [
       "[<matplotlib.lines.Line2D at 0x7fdbf81efee0>]"
      ]
     },
     "execution_count": 83,
     "metadata": {},
     "output_type": "execute_result"
    },
    {
     "data": {
      "image/png": "[encoded data removed]",
      "text/plain": [
       "<Figure size 432x288 with 1 Axes>"
      ]
     },
     "metadata": {
      "needs_background": "light"
     },
     "output_type": "display_data"
    }
   ],
   "source": [
    "Sig_mat = (model.log_lik_der1_vs.unsqueeze(-1) * model.log_lik_der1_vs.unsqueeze(1)).mean(axis=0)\n",
    "plt.plot(torch.svd(Sig_mat).S)"
   ]
  },
  {
   "cell_type": "code",
   "execution_count": 84,
   "id": "c97b50f2",
   "metadata": {
    "ExecuteTime": {
     "end_time": "2023-05-26T06:37:10.635229Z",
     "start_time": "2023-05-26T06:37:10.513791Z"
    },
    "execution": {
     "iopub.execute_input": "2023-10-04T19:13:47.059826Z",
     "iopub.status.busy": "2023-10-04T19:13:47.059256Z",
     "iopub.status.idle": "2023-10-04T19:13:47.367245Z",
     "shell.execute_reply": "2023-10-04T19:13:47.366799Z",
     "shell.execute_reply.started": "2023-10-04T19:13:47.059756Z"
    },
    "tags": []
   },
   "outputs": [
    {
     "data": {
      "text/plain": [
       "<matplotlib.legend.Legend at 0x7fdbf812a3a0>"
      ]
     },
     "execution_count": 84,
     "metadata": {},
     "output_type": "execute_result"
    },
    {
     "data": {
      "image/png": "[encoded data removed]",
      "text/plain": [
       "<Figure size 432x288 with 1 Axes>"
      ]
     },
     "metadata": {
      "needs_background": "light"
     },
     "output_type": "display_data"
    }
   ],
   "source": [
    "rec_curs = paras.basis_mat @ est_Gam\n",
    "idx = -1\n",
    "plt.plot(rec_curs[:, idx], label=\"rec\")\n",
    "plt.plot(paras.beta_GT[:, idx], label=\"GT\")\n",
    "plt.legend()"
   ]
  },
  {
   "cell_type": "code",
   "execution_count": 85,
   "id": "8ded9727",
   "metadata": {
    "ExecuteTime": {
     "end_time": "2023-05-26T06:37:12.507075Z",
     "start_time": "2023-05-26T06:37:12.499334Z"
    },
    "execution": {
     "iopub.execute_input": "2023-10-04T19:13:48.982348Z",
     "iopub.status.busy": "2023-10-04T19:13:48.981768Z",
     "iopub.status.idle": "2023-10-04T19:13:48.991381Z",
     "shell.execute_reply": "2023-10-04T19:13:48.990380Z",
     "shell.execute_reply.started": "2023-10-04T19:13:48.982302Z"
    },
    "tags": []
   },
   "outputs": [
    {
     "data": {
      "text/plain": [
       "tensor([5.8346, 6.0313, 3.9423, 6.9271, 8.0213])"
      ]
     },
     "execution_count": 85,
     "metadata": {},
     "output_type": "execute_result"
    }
   ],
   "source": [
    "torch.norm(est_Gam, dim=0)"
   ]
  },
  {
   "cell_type": "code",
   "execution_count": 86,
   "id": "1523dc52",
   "metadata": {
    "ExecuteTime": {
     "end_time": "2023-05-26T06:37:14.775804Z",
     "start_time": "2023-05-26T06:37:14.768433Z"
    },
    "execution": {
     "iopub.execute_input": "2023-10-04T19:13:50.520324Z",
     "iopub.status.busy": "2023-10-04T19:13:50.519775Z",
     "iopub.status.idle": "2023-10-04T19:13:50.529129Z",
     "shell.execute_reply": "2023-10-04T19:13:50.527923Z",
     "shell.execute_reply.started": "2023-10-04T19:13:50.520278Z"
    },
    "tags": []
   },
   "outputs": [
    {
     "data": {
      "text/plain": [
       "array([0.        , 0.        , 0.        , 5.85220627, 9.29150404])"
      ]
     },
     "execution_count": 86,
     "metadata": {},
     "output_type": "execute_result"
    }
   ],
   "source": [
    "np.linalg.norm(_paras.Gam_est, axis=0)"
   ]
  },
  {
   "cell_type": "code",
   "execution_count": 87,
   "id": "37bb8fa7",
   "metadata": {
    "ExecuteTime": {
     "end_time": "2023-05-26T06:37:16.875106Z",
     "start_time": "2023-05-26T06:37:16.643505Z"
    },
    "execution": {
     "iopub.execute_input": "2023-10-04T19:13:52.301877Z",
     "iopub.status.busy": "2023-10-04T19:13:52.301313Z",
     "iopub.status.idle": "2023-10-04T19:13:52.666738Z",
     "shell.execute_reply": "2023-10-04T19:13:52.666331Z",
     "shell.execute_reply.started": "2023-10-04T19:13:52.301830Z"
    },
    "tags": []
   },
   "outputs": [
    {
     "data": {
      "text/plain": [
       "<Axes: >"
      ]
     },
     "execution_count": 87,
     "metadata": {},
     "output_type": "execute_result"
    },
    {
     "data": {
      "image/png": "[encoded data removed]",
      "text/plain": [
       "<Figure size 864x360 with 4 Axes>"
      ]
     },
     "metadata": {
      "needs_background": "light"
     },
     "output_type": "display_data"
    }
   ],
   "source": [
    "plt.figure(figsize=[12, 5])\n",
    "plt.subplot(121)\n",
    "tmp1 = np.mean([ix.numpy() for ix in Psis], axis=0)/paras.n\n",
    "sns.heatmap(tmp1, center=0, cmap=\"bwr\")\n",
    "plt.subplot(122)\n",
    "tmp2 = np.cov(np.array([ix.numpy() for ix in T_p1s]).T)\n",
    "sns.heatmap(tmp2, center=0, cmap=\"bwr\")"
   ]
  },
  {
   "cell_type": "code",
   "execution_count": 88,
   "id": "6b6bf4cb",
   "metadata": {
    "ExecuteTime": {
     "end_time": "2023-05-26T19:39:12.502904Z",
     "start_time": "2023-05-26T19:39:12.377780Z"
    },
    "execution": {
     "iopub.execute_input": "2023-10-04T19:13:54.920742Z",
     "iopub.status.busy": "2023-10-04T19:13:54.920165Z",
     "iopub.status.idle": "2023-10-04T19:13:55.127329Z",
     "shell.execute_reply": "2023-10-04T19:13:55.126939Z",
     "shell.execute_reply.started": "2023-10-04T19:13:54.920696Z"
    },
    "tags": []
   },
   "outputs": [
    {
     "data": {
      "text/plain": [
       "<matplotlib.legend.Legend at 0x7fdbf06eb0a0>"
      ]
     },
     "execution_count": 88,
     "metadata": {},
     "output_type": "execute_result"
    },
    {
     "data": {
      "image/png": "[encoded data removed]",
      "text/plain": [
       "<Figure size 432x288 with 1 Axes>"
      ]
     },
     "metadata": {
      "needs_background": "light"
     },
     "output_type": "display_data"
    }
   ],
   "source": [
    "from scipy.stats import chi2\n",
    "T_vs = np.array(T_vs)\n",
    "chi_df = paras.r*paras.N\n",
    "xs = np.linspace(0.1, 100, 100)\n",
    "theo_curvs_log = chi2.logpdf(xs, chi_df);\n",
    "plt.plot(xs, np.exp(theo_curvs_log) , label=\"theoretical\")\n",
    "sns.kdeplot(T_vs, label=\"empirical\")\n",
    "plt.legend()"
   ]
  },
  {
   "cell_type": "code",
   "execution_count": 89,
   "id": "54e2f8f9",
   "metadata": {
    "ExecuteTime": {
     "end_time": "2023-05-26T19:39:12.974538Z",
     "start_time": "2023-05-26T19:39:12.966221Z"
    },
    "execution": {
     "iopub.execute_input": "2023-10-04T19:13:57.093876Z",
     "iopub.status.busy": "2023-10-04T19:13:57.093170Z",
     "iopub.status.idle": "2023-10-04T19:13:57.102725Z",
     "shell.execute_reply": "2023-10-04T19:13:57.101708Z",
     "shell.execute_reply.started": "2023-10-04T19:13:57.093827Z"
    },
    "tags": []
   },
   "outputs": [
    {
     "data": {
      "text/plain": [
       "0.37"
      ]
     },
     "execution_count": 89,
     "metadata": {},
     "output_type": "execute_result"
    }
   ],
   "source": [
    "CV = chi2.ppf(0.95, chi_df)\n",
    "np.mean(T_vs>CV)"
   ]
  },
  {
   "cell_type": "code",
   "execution_count": 74,
   "id": "d2ce47ab-95f9-4a39-bebb-2ae588b71098",
   "metadata": {
    "execution": {
     "iopub.execute_input": "2023-10-04T19:13:27.685872Z",
     "iopub.status.busy": "2023-10-04T19:13:27.685352Z",
     "iopub.status.idle": "2023-10-04T19:13:27.693219Z",
     "shell.execute_reply": "2023-10-04T19:13:27.691948Z",
     "shell.execute_reply.started": "2023-10-04T19:13:27.685827Z"
    },
    "tags": []
   },
   "outputs": [
    {
     "data": {
      "text/plain": [
       "6"
      ]
     },
     "execution_count": 74,
     "metadata": {},
     "output_type": "execute_result"
    }
   ],
   "source": [
    "chi_df"
   ]
  },
  {
   "cell_type": "code",
   "execution_count": 58,
   "id": "9c5573d7",
   "metadata": {
    "ExecuteTime": {
     "end_time": "2023-05-26T19:39:15.047119Z",
     "start_time": "2023-05-26T19:39:15.040039Z"
    },
    "execution": {
     "iopub.execute_input": "2023-10-04T19:12:59.073613Z",
     "iopub.status.busy": "2023-10-04T19:12:59.073085Z",
     "iopub.status.idle": "2023-10-04T19:12:59.081297Z",
     "shell.execute_reply": "2023-10-04T19:12:59.080299Z",
     "shell.execute_reply.started": "2023-10-04T19:12:59.073568Z"
    },
    "tags": []
   },
   "outputs": [
    {
     "data": {
      "text/plain": [
       "18.9091151710488"
      ]
     },
     "execution_count": 58,
     "metadata": {},
     "output_type": "execute_result"
    }
   ],
   "source": [
    "np.mean(T_vs)"
   ]
  },
  {
   "cell_type": "code",
   "execution_count": null,
   "id": "7cde70e7-5f73-4bbc-a1f7-4000fd7f031d",
   "metadata": {},
   "outputs": [],
   "source": []
  }
 ],
 "metadata": {
  "kernelspec": {
   "display_name": "Python 3 (ipykernel)",
   "language": "python",
   "name": "python3"
  },
  "language_info": {
   "codemirror_mode": {
    "name": "ipython",
    "version": 3
   },
   "file_extension": ".py",
   "mimetype": "text/x-python",
   "name": "python",
   "nbconvert_exporter": "python",
   "pygments_lexer": "ipython3",
   "version": "3.9.7"
  },
  "toc": {
   "base_numbering": 1,
   "nav_menu": {},
   "number_sections": true,
   "sideBar": true,
   "skip_h1_title": false,
   "title_cell": "Table of Contents",
   "title_sidebar": "Contents",
   "toc_cell": false,
   "toc_position": {
    "height": "calc(100% - 180px)",
    "left": "10px",
    "top": "150px",
    "width": "182px"
   },
   "toc_section_display": true,
   "toc_window_display": true
  }
 },
 "nbformat": 4,
 "nbformat_minor": 5
}
