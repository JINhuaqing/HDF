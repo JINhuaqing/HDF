{
 "cells": [
  {
   "cell_type": "markdown",
   "id": "faf0a805",
   "metadata": {},
   "source": [
    "This file contains python code to test \n",
    "what is the best way to use the MEG data.\n",
    "\n",
    "- PSD or time-series?\n",
    "\n",
    "- Raw or stdz\n",
    "\n",
    "- if PSD, dB or orgianl scale\n",
    "\n",
    "It seems the best way is to use the standardized time seiers."
   ]
  },
  {
   "cell_type": "code",
   "execution_count": 1,
   "id": "02ae980e",
   "metadata": {
    "ExecuteTime": {
     "end_time": "2023-02-16T06:23:14.563111Z",
     "start_time": "2023-02-16T06:23:14.547485Z"
    }
   },
   "outputs": [],
   "source": [
    "import sys\n",
    "sys.path.append(\"../mypkg\")"
   ]
  },
  {
   "cell_type": "code",
   "execution_count": 2,
   "id": "023df78a",
   "metadata": {
    "ExecuteTime": {
     "end_time": "2023-02-07T13:29:18.735904Z",
     "start_time": "2023-02-07T13:29:15.441434Z"
    }
   },
   "outputs": [],
   "source": [
    "import numpy as np\n",
    "import torch\n",
    "import matplotlib.pyplot as plt\n",
    "import seaborn as sns\n",
    "from scipy.stats import pearsonr\n",
    "from numbers import Number\n",
    "import multiprocessing as mp\n",
    "\n",
    "from easydict import EasyDict as edict\n",
    "from tqdm import trange\n",
    "from scipy.io import loadmat\n",
    "from pprint import pprint\n",
    "\n",
    "plt.style.use('ggplot')\n",
    "plt.rcParams[\"savefig.bbox\"] = \"tight\""
   ]
  },
  {
   "cell_type": "code",
   "execution_count": 3,
   "id": "053a5249",
   "metadata": {
    "ExecuteTime": {
     "end_time": "2023-02-07T13:29:18.768560Z",
     "start_time": "2023-02-07T13:29:18.737782Z"
    }
   },
   "outputs": [
    {
     "data": {
      "text/plain": [
       "<module 'models.linear_model' from '/data/rajlab1/user_data/jin/MyResearch/HDF_infer/notebooks/../mypkg/models/linear_model.py'>"
      ]
     },
     "execution_count": 3,
     "metadata": {},
     "output_type": "execute_result"
    }
   ],
   "source": [
    "import importlib\n",
    "import models.linear_model \n",
    "importlib.reload(models.linear_model)"
   ]
  },
  {
   "cell_type": "code",
   "execution_count": 4,
   "id": "b0aa91b2",
   "metadata": {
    "ExecuteTime": {
     "end_time": "2023-02-07T13:29:27.421847Z",
     "start_time": "2023-02-07T13:29:18.770905Z"
    }
   },
   "outputs": [],
   "source": [
    "from constants import DATA_ROOT, RES_ROOT, FIG_ROOT\n",
    "from default_paras import def_paras\n",
    "\n",
    "from hdf_utils.data_gen import gen_covs, gen_simu_ts\n",
    "from hdf_utils.fns import fn1, fn2, fn3, fn4, fn5, zero_fn\n",
    "from hdf_utils.fns_sinica import coef_fn, fourier_basis_fn\n",
    "from hdf_utils.likelihood import obt_lin_tm\n",
    "from hdf_utils.SIS import SIS_linear\n",
    "from utils.matrix import col_vec_fn, col_vec2mat_fn, conju_grad, svd_inverse\n",
    "from utils.functions import logit_fn\n",
    "from utils.misc import save_pkl, load_pkl\n",
    "from splines import obt_bsp_basis_Rfn, obt_bsp_basis_Rfn_wrapper\n",
    "from projection import euclidean_proj_l1ball\n",
    "from optimization.one_step_opt import OneStepOpt\n",
    "from optimization.cross_validation import CV_err_linear_fn\n",
    "from optimization.opt import optimization\n",
    "\n",
    "from penalties.scad_pen import SCAD\n",
    "from models.logistic_model import LogisticModel\n",
    "from models.linear_model import LinearModel\n"
   ]
  },
  {
   "cell_type": "code",
   "execution_count": 5,
   "id": "fdddf8a6",
   "metadata": {
    "ExecuteTime": {
     "end_time": "2023-02-07T13:29:27.425641Z",
     "start_time": "2023-02-07T13:29:27.423058Z"
    }
   },
   "outputs": [],
   "source": [
    "torch.set_default_tensor_type(torch.DoubleTensor)"
   ]
  },
  {
   "cell_type": "code",
   "execution_count": null,
   "id": "d0af2f35",
   "metadata": {},
   "outputs": [],
   "source": []
  },
  {
   "cell_type": "markdown",
   "id": "dd9c6514",
   "metadata": {},
   "source": [
    "## Param and fns"
   ]
  },
  {
   "cell_type": "markdown",
   "id": "21e4ccea",
   "metadata": {},
   "source": [
    "### Params"
   ]
  },
  {
   "cell_type": "code",
   "execution_count": 12,
   "id": "fd29f0de",
   "metadata": {
    "ExecuteTime": {
     "end_time": "2023-02-07T13:30:12.857880Z",
     "start_time": "2023-02-07T13:30:12.829453Z"
    }
   },
   "outputs": [
    {
     "name": "stdout",
     "output_type": "stream",
     "text": [
      "The number of B-spline basis is 10.\n"
     ]
    }
   ],
   "source": [
    "np.random.seed(0)\n",
    "paras = edict(def_paras.copy())\n",
    "\n",
    "# Others\n",
    "paras.num_rep = 20\n",
    "paras.ns = [100, 300, 900, 2700, 8100, 24300]\n",
    "paras.can_lams = [1e-1, 3e-1, 1e0, 3e0, 9e0, 3e1]\n",
    "paras.can_Ns = [5, 10, 15, 20]\n",
    "paras.ind_freq = np.linspace(1, 40, 40) # freqs\n",
    "paras.init_noise_sd = 10 # the sd of the noise added to the true value for initial values\n",
    "paras.SIS_ratio = 1 # the ratio to keep with SIS procedure\n",
    "#paras.SIS_ratio = 0.4 # the ratio to keep with SIS procedure\n",
    "\n",
    "# generating dataset\n",
    "paras.n = 180 # num of data obs to be genareted\n",
    "paras.npts = 1200 # num of pts to evaluate X(s)\n",
    "paras.d = 2 # num of ROIs\n",
    "paras.q = 5 # num of other covariates\n",
    "paras.sigma2 = 1 # variance of the error\n",
    "paras.types_ = [\"int\", 2, 2, \"c\", \"c\"]\n",
    "\n",
    "# b-spline\n",
    "paras.N = 10 # int(3*paras.n**(1/paras.ord/2)) # num of basis for bsp\n",
    "paras.x = np.linspace(0, 1, paras.npts)\n",
    "paras.basis_mat = torch.DoubleTensor(obt_bsp_basis_Rfn_wrapper(paras.x, paras.N, paras.ord))\n",
    "assert paras.N == paras.basis_mat.shape[1]\n",
    "print(f\"The number of B-spline basis is {paras.N:.0f}.\")\n",
    "\n",
    "# True parameters\n",
    "paras.alp_GT = np.array([5, 1, -2, 3, -4])\n",
    "\n",
    "# first way\n",
    "#beta_type_GT = [fn1, fn2, fn2] + [zero_fn]*(paras.d-3-2) + [fn1, fn2]\n",
    "#paras.beta_GT = np.array([_fn(paras.x) for _fn in beta_type_GT]).T\n",
    "# second way, fourier basis\n",
    "paras.fourier_basis = fourier_basis_fn(paras.x)\n",
    "#paras.fourier_basis_coefs = ([coef_fn(0.1), coef_fn(0.3), coef_fn(0.5)] + \n",
    "#                             [np.zeros(50)] * (paras.d-3-2) +\n",
    "#                             [coef_fn(0.7), coef_fn(0.9)]\n",
    "#                             )\n",
    "#paras.fourier_basis_coefs = ([np.zeros(50)] * (paras.d-2) +\n",
    "#                             [coef_fn(0.7), coef_fn(0.9)]\n",
    "#                             )\n",
    "paras.fourier_basis_coefs = ([np.zeros(50)] * paras.d)\n",
    "paras.fourier_basis_coefs = np.array(paras.fourier_basis_coefs).T * 5\n",
    "paras.beta_GT = paras.fourier_basis @ paras.fourier_basis_coefs\n",
    "#\n",
    "paras.Gam_est = (np.linalg.inv(paras.basis_mat.numpy().T \n",
    "                               @ paras.basis_mat.numpy()) \n",
    "                               @ paras.basis_mat.numpy().T \n",
    "                               @ paras.beta_GT)\n",
    "\n",
    "# optimization\n",
    "paras.Rmin = 2*(np.linalg.norm(paras.Gam_est/np.sqrt(paras.N), axis=0).sum() + np.abs(paras.alp_GT).sum())\n",
    "paras.sel_idx = np.arange(2, paras.d) # M^c set, \n",
    "#without loss of generality, we assume the idxs in M is the first m betas\n",
    "paras.num_cv_fold = 5\n",
    "paras.Rfct = 2\n",
    "paras.stop_cv = 5e-4\n",
    "paras.max_iter = 2000\n",
    "\n",
    "# hypothesis test\n",
    "paras.M_idxs = np.delete(np.arange(paras.d), paras.sel_idx) # the M set\n",
    "paras.Cmat = np.eye(len(paras.M_idxs)) # Cmat \\times beta_M(s), r x m\n",
    "paras.r, paras.m = paras.Cmat.shape\n",
    "paras.t_vec = np.zeros(paras.Cmat.shape[0]) # t vec, typically it is zero vector\n"
   ]
  },
  {
   "cell_type": "markdown",
   "id": "66c2f90f",
   "metadata": {
    "ExecuteTime": {
     "end_time": "2022-12-08T18:09:55.509389Z",
     "start_time": "2022-12-08T18:09:55.343396Z"
    }
   },
   "source": [
    "### Fns"
   ]
  },
  {
   "cell_type": "code",
   "execution_count": 13,
   "id": "fea96e90",
   "metadata": {
    "ExecuteTime": {
     "end_time": "2023-02-07T13:30:13.729990Z",
     "start_time": "2023-02-07T13:30:13.726162Z"
    }
   },
   "outputs": [],
   "source": [
    "\n",
    "def MS2idxs(q, N, MS_unions):\n",
    "    \"\"\"This fn is to return the idxs to keep in mat Q, Sigma and vec Theta\n",
    "    \"\"\"\n",
    "    idxs_all = [np.arange(0, q)]\n",
    "    for cur_idx in MS_unions:\n",
    "        idxs_all.append(np.arange(q+cur_idx*N, q+(cur_idx+1)*N))\n",
    "    idxs_all = np.concatenate(idxs_all)\n",
    "    return idxs_all"
   ]
  },
  {
   "cell_type": "code",
   "execution_count": 14,
   "id": "2db5c76b",
   "metadata": {
    "ExecuteTime": {
     "end_time": "2023-02-07T13:30:14.100002Z",
     "start_time": "2023-02-07T13:30:14.095385Z"
    }
   },
   "outputs": [],
   "source": [
    "def get_Amat(k, paras):\n",
    "    \"\"\"Get A matrix for hypothesis test\n",
    "        k: Num of elements in S\n",
    "        paras: parameters\n",
    "                required: N, Cmat, m, q\n",
    "    \"\"\"\n",
    "    _paras = edict(paras.copy())\n",
    "    \n",
    "    part1 = np.kron(_paras.Cmat, np.eye(_paras.N))\n",
    "    part2 = np.zeros((_paras.m*_paras.N, _paras.q+(_paras.m+k)*_paras.N))\n",
    "    part2[:, _paras.q:(_paras.q+_paras.m*_paras.N)] = np.eye(_paras.m*_paras.N)\n",
    "    A = part1 @ part2\n",
    "    return A"
   ]
  },
  {
   "cell_type": "code",
   "execution_count": 18,
   "id": "0f30b88f",
   "metadata": {
    "ExecuteTime": {
     "end_time": "2023-02-07T13:30:51.404053Z",
     "start_time": "2023-02-07T13:30:51.397355Z"
    },
    "code_folding": []
   },
   "outputs": [],
   "source": [
    "def _gen_simu_data_all(seed, paras):\n",
    "    np.random.seed(seed)\n",
    "    _paras = edict(paras.copy())\n",
    "    # simulated PSD\n",
    "    assert len(_paras.types_) == _paras.q\n",
    "    assert len(_paras.alp_GT) == _paras.q\n",
    "    \n",
    "    simu_psd = gen_simu_ts(_paras.n, _paras.d, 5, decimate_rate=30)\n",
    "    simu_covs = gen_covs(_paras.n, _paras.types_)\n",
    "    \n",
    "    # linear term and Y\n",
    "    int_part = np.sum(_paras.beta_GT.T* simu_psd[:, :, :], axis=1).mean(axis=1)\n",
    "    cov_part = simu_covs @ _paras.alp_GT \n",
    "    \n",
    "    # linear term\n",
    "    lin_term = cov_part + int_part\n",
    "    \n",
    "    # Y \n",
    "    rvs = np.random.rand(_paras.n)\n",
    "    Y = lin_term + np.random.randn(_paras.n)*np.sqrt(_paras.sigma2)\n",
    "    \n",
    "    # To torch\n",
    "    X = torch.tensor(simu_psd) # n x d x npts\n",
    "    Z = torch.tensor(simu_covs) # n x q\n",
    "    Y = torch.tensor(Y)\n",
    "    \n",
    "    all_data = edict()\n",
    "    all_data.X = X\n",
    "    all_data.Y = Y\n",
    "    all_data.Z = Z\n",
    "    all_data.lin_term = lin_term\n",
    "    return all_data"
   ]
  },
  {
   "cell_type": "code",
   "execution_count": null,
   "id": "c0b3bb96",
   "metadata": {},
   "outputs": [],
   "source": []
  },
  {
   "cell_type": "markdown",
   "id": "e4043966",
   "metadata": {},
   "source": [
    "## Simu"
   ]
  },
  {
   "cell_type": "code",
   "execution_count": 22,
   "id": "aaaef720",
   "metadata": {
    "ExecuteTime": {
     "end_time": "2023-02-07T13:32:04.660786Z",
     "start_time": "2023-02-07T13:31:17.206703Z"
    },
    "scrolled": true
   },
   "outputs": [
    {
     "name": "stderr",
     "output_type": "stream",
     "text": [
      "  1%|█▋                                                                                                                                                                       | 1/100 [00:00<00:56,  1.74it/s]"
     ]
    },
    {
     "name": "stdout",
     "output_type": "stream",
     "text": [
      "tensor(26.3907)\n"
     ]
    },
    {
     "name": "stderr",
     "output_type": "stream",
     "text": [
      "\r",
      "  2%|███▍                                                                                                                                                                     | 2/100 [00:01<00:58,  1.67it/s]"
     ]
    },
    {
     "name": "stdout",
     "output_type": "stream",
     "text": [
      "tensor(20.9848)\n"
     ]
    },
    {
     "name": "stderr",
     "output_type": "stream",
     "text": [
      "\r",
      "  3%|█████                                                                                                                                                                    | 3/100 [00:01<00:48,  2.00it/s]"
     ]
    },
    {
     "name": "stdout",
     "output_type": "stream",
     "text": [
      "tensor(9.4980)\n"
     ]
    },
    {
     "name": "stderr",
     "output_type": "stream",
     "text": [
      "\r",
      "  4%|██████▊                                                                                                                                                                  | 4/100 [00:02<00:46,  2.08it/s]"
     ]
    },
    {
     "name": "stdout",
     "output_type": "stream",
     "text": [
      "tensor(30.1757)\n"
     ]
    },
    {
     "name": "stderr",
     "output_type": "stream",
     "text": [
      "\r",
      "  5%|████████▍                                                                                                                                                                | 5/100 [00:02<00:42,  2.24it/s]"
     ]
    },
    {
     "name": "stdout",
     "output_type": "stream",
     "text": [
      "tensor(26.5112)\n"
     ]
    },
    {
     "name": "stderr",
     "output_type": "stream",
     "text": [
      "\r",
      "  6%|██████████▏                                                                                                                                                              | 6/100 [00:02<00:40,  2.35it/s]"
     ]
    },
    {
     "name": "stdout",
     "output_type": "stream",
     "text": [
      "tensor(36.4792)\n"
     ]
    },
    {
     "name": "stderr",
     "output_type": "stream",
     "text": [
      "\r",
      "  7%|███████████▊                                                                                                                                                             | 7/100 [00:03<00:39,  2.34it/s]"
     ]
    },
    {
     "name": "stdout",
     "output_type": "stream",
     "text": [
      "tensor(9.8240)\n"
     ]
    },
    {
     "name": "stderr",
     "output_type": "stream",
     "text": [
      "\r",
      "  8%|█████████████▌                                                                                                                                                           | 8/100 [00:03<00:36,  2.51it/s]"
     ]
    },
    {
     "name": "stdout",
     "output_type": "stream",
     "text": [
      "tensor(20.2817)\n"
     ]
    },
    {
     "name": "stderr",
     "output_type": "stream",
     "text": [
      "\r",
      "  9%|███████████████▏                                                                                                                                                         | 9/100 [00:04<00:38,  2.37it/s]"
     ]
    },
    {
     "name": "stdout",
     "output_type": "stream",
     "text": [
      "tensor(9.6393)\n"
     ]
    },
    {
     "name": "stderr",
     "output_type": "stream",
     "text": [
      "\r",
      " 10%|████████████████▊                                                                                                                                                       | 10/100 [00:04<00:38,  2.32it/s]"
     ]
    },
    {
     "name": "stdout",
     "output_type": "stream",
     "text": [
      "tensor(16.8836)\n"
     ]
    },
    {
     "name": "stderr",
     "output_type": "stream",
     "text": [
      "\r",
      " 11%|██████████████████▍                                                                                                                                                     | 11/100 [00:04<00:36,  2.44it/s]"
     ]
    },
    {
     "name": "stdout",
     "output_type": "stream",
     "text": [
      "tensor(20.0045)\n"
     ]
    },
    {
     "name": "stderr",
     "output_type": "stream",
     "text": [
      "\r",
      " 12%|████████████████████▏                                                                                                                                                   | 12/100 [00:05<00:38,  2.26it/s]"
     ]
    },
    {
     "name": "stdout",
     "output_type": "stream",
     "text": [
      "tensor(22.7537)\n"
     ]
    },
    {
     "name": "stderr",
     "output_type": "stream",
     "text": [
      "\r",
      " 13%|█████████████████████▊                                                                                                                                                  | 13/100 [00:05<00:42,  2.03it/s]"
     ]
    },
    {
     "name": "stdout",
     "output_type": "stream",
     "text": [
      "tensor(17.1533)\n"
     ]
    },
    {
     "name": "stderr",
     "output_type": "stream",
     "text": [
      "\r",
      " 14%|███████████████████████▌                                                                                                                                                | 14/100 [00:06<00:43,  1.99it/s]"
     ]
    },
    {
     "name": "stdout",
     "output_type": "stream",
     "text": [
      "tensor(18.3042)\n"
     ]
    },
    {
     "name": "stderr",
     "output_type": "stream",
     "text": [
      "\r",
      " 15%|█████████████████████████▏                                                                                                                                              | 15/100 [00:06<00:40,  2.09it/s]"
     ]
    },
    {
     "name": "stdout",
     "output_type": "stream",
     "text": [
      "tensor(13.3104)\n"
     ]
    },
    {
     "name": "stderr",
     "output_type": "stream",
     "text": [
      "\r",
      " 16%|██████████████████████████▉                                                                                                                                             | 16/100 [00:07<00:39,  2.11it/s]"
     ]
    },
    {
     "name": "stdout",
     "output_type": "stream",
     "text": [
      "tensor(21.9052)\n"
     ]
    },
    {
     "name": "stderr",
     "output_type": "stream",
     "text": [
      "\r",
      " 17%|████████████████████████████▌                                                                                                                                           | 17/100 [00:07<00:39,  2.09it/s]"
     ]
    },
    {
     "name": "stdout",
     "output_type": "stream",
     "text": [
      "tensor(15.0005)\n"
     ]
    },
    {
     "name": "stderr",
     "output_type": "stream",
     "text": [
      "\r",
      " 18%|██████████████████████████████▏                                                                                                                                         | 18/100 [00:08<00:37,  2.20it/s]"
     ]
    },
    {
     "name": "stdout",
     "output_type": "stream",
     "text": [
      "tensor(16.2219)\n"
     ]
    },
    {
     "name": "stderr",
     "output_type": "stream",
     "text": [
      "\r",
      " 19%|███████████████████████████████▉                                                                                                                                        | 19/100 [00:08<00:40,  2.01it/s]"
     ]
    },
    {
     "name": "stdout",
     "output_type": "stream",
     "text": [
      "tensor(28.7932)\n"
     ]
    },
    {
     "name": "stderr",
     "output_type": "stream",
     "text": [
      "\r",
      " 20%|█████████████████████████████████▌                                                                                                                                      | 20/100 [00:09<00:41,  1.94it/s]"
     ]
    },
    {
     "name": "stdout",
     "output_type": "stream",
     "text": [
      "tensor(11.0375)\n"
     ]
    },
    {
     "name": "stderr",
     "output_type": "stream",
     "text": [
      "\r",
      " 21%|███████████████████████████████████▎                                                                                                                                    | 21/100 [00:09<00:40,  1.97it/s]"
     ]
    },
    {
     "name": "stdout",
     "output_type": "stream",
     "text": [
      "tensor(20.4946)\n"
     ]
    },
    {
     "name": "stderr",
     "output_type": "stream",
     "text": [
      "\r",
      " 22%|████████████████████████████████████▉                                                                                                                                   | 22/100 [00:10<00:36,  2.11it/s]"
     ]
    },
    {
     "name": "stdout",
     "output_type": "stream",
     "text": [
      "tensor(22.6941)\n"
     ]
    },
    {
     "name": "stderr",
     "output_type": "stream",
     "text": [
      "\r",
      " 23%|██████████████████████████████████████▋                                                                                                                                 | 23/100 [00:10<00:36,  2.10it/s]"
     ]
    },
    {
     "name": "stdout",
     "output_type": "stream",
     "text": [
      "tensor(25.1565)\n"
     ]
    },
    {
     "name": "stderr",
     "output_type": "stream",
     "text": [
      "\r",
      " 24%|████████████████████████████████████████▎                                                                                                                               | 24/100 [00:11<00:34,  2.18it/s]"
     ]
    },
    {
     "name": "stdout",
     "output_type": "stream",
     "text": [
      "tensor(10.1003)\n"
     ]
    },
    {
     "name": "stderr",
     "output_type": "stream",
     "text": [
      "\r",
      " 25%|██████████████████████████████████████████                                                                                                                              | 25/100 [00:11<00:32,  2.31it/s]"
     ]
    },
    {
     "name": "stdout",
     "output_type": "stream",
     "text": [
      "tensor(14.3599)\n"
     ]
    },
    {
     "name": "stderr",
     "output_type": "stream",
     "text": [
      "\r",
      " 26%|███████████████████████████████████████████▋                                                                                                                            | 26/100 [00:12<00:32,  2.25it/s]"
     ]
    },
    {
     "name": "stdout",
     "output_type": "stream",
     "text": [
      "tensor(10.8248)\n"
     ]
    },
    {
     "name": "stderr",
     "output_type": "stream",
     "text": [
      "\r",
      " 27%|█████████████████████████████████████████████▎                                                                                                                          | 27/100 [00:12<00:35,  2.09it/s]"
     ]
    },
    {
     "name": "stdout",
     "output_type": "stream",
     "text": [
      "tensor(8.3166)\n"
     ]
    },
    {
     "name": "stderr",
     "output_type": "stream",
     "text": [
      "\r",
      " 28%|███████████████████████████████████████████████                                                                                                                         | 28/100 [00:13<00:34,  2.10it/s]"
     ]
    },
    {
     "name": "stdout",
     "output_type": "stream",
     "text": [
      "tensor(22.5488)\n"
     ]
    },
    {
     "name": "stderr",
     "output_type": "stream",
     "text": [
      "\r",
      " 29%|████████████████████████████████████████████████▋                                                                                                                       | 29/100 [00:13<00:32,  2.17it/s]"
     ]
    },
    {
     "name": "stdout",
     "output_type": "stream",
     "text": [
      "tensor(10.8033)\n"
     ]
    },
    {
     "name": "stderr",
     "output_type": "stream",
     "text": [
      "\r",
      " 30%|██████████████████████████████████████████████████▍                                                                                                                     | 30/100 [00:14<00:33,  2.08it/s]"
     ]
    },
    {
     "name": "stdout",
     "output_type": "stream",
     "text": [
      "tensor(22.2607)\n"
     ]
    },
    {
     "name": "stderr",
     "output_type": "stream",
     "text": [
      "\r",
      " 31%|████████████████████████████████████████████████████                                                                                                                    | 31/100 [00:14<00:31,  2.19it/s]"
     ]
    },
    {
     "name": "stdout",
     "output_type": "stream",
     "text": [
      "tensor(17.4695)\n"
     ]
    },
    {
     "name": "stderr",
     "output_type": "stream",
     "text": [
      "\r",
      " 32%|█████████████████████████████████████████████████████▊                                                                                                                  | 32/100 [00:14<00:31,  2.14it/s]"
     ]
    },
    {
     "name": "stdout",
     "output_type": "stream",
     "text": [
      "tensor(16.5953)\n"
     ]
    },
    {
     "name": "stderr",
     "output_type": "stream",
     "text": [
      "\r",
      " 33%|███████████████████████████████████████████████████████▍                                                                                                                | 33/100 [00:15<00:33,  2.01it/s]"
     ]
    },
    {
     "name": "stdout",
     "output_type": "stream",
     "text": [
      "tensor(17.4709)\n"
     ]
    },
    {
     "name": "stderr",
     "output_type": "stream",
     "text": [
      "\r",
      " 34%|█████████████████████████████████████████████████████████                                                                                                               | 34/100 [00:16<00:33,  1.98it/s]"
     ]
    },
    {
     "name": "stdout",
     "output_type": "stream",
     "text": [
      "tensor(21.6901)\n"
     ]
    },
    {
     "name": "stderr",
     "output_type": "stream",
     "text": [
      "\r",
      " 35%|██████████████████████████████████████████████████████████▊                                                                                                             | 35/100 [00:16<00:30,  2.13it/s]"
     ]
    },
    {
     "name": "stdout",
     "output_type": "stream",
     "text": [
      "tensor(11.5888)\n"
     ]
    },
    {
     "name": "stderr",
     "output_type": "stream",
     "text": [
      "\r",
      " 36%|████████████████████████████████████████████████████████████▍                                                                                                           | 36/100 [00:16<00:30,  2.12it/s]"
     ]
    },
    {
     "name": "stdout",
     "output_type": "stream",
     "text": [
      "tensor(11.8396)\n"
     ]
    },
    {
     "name": "stderr",
     "output_type": "stream",
     "text": [
      "\r",
      " 37%|██████████████████████████████████████████████████████████████▏                                                                                                         | 37/100 [00:17<00:32,  1.93it/s]"
     ]
    },
    {
     "name": "stdout",
     "output_type": "stream",
     "text": [
      "tensor(28.8544)\n"
     ]
    },
    {
     "name": "stderr",
     "output_type": "stream",
     "text": [
      "\r",
      " 38%|███████████████████████████████████████████████████████████████▊                                                                                                        | 38/100 [00:18<00:33,  1.84it/s]"
     ]
    },
    {
     "name": "stdout",
     "output_type": "stream",
     "text": [
      "tensor(18.0723)\n"
     ]
    },
    {
     "name": "stderr",
     "output_type": "stream",
     "text": [
      "\r",
      " 39%|█████████████████████████████████████████████████████████████████▌                                                                                                      | 39/100 [00:18<00:31,  1.94it/s]"
     ]
    },
    {
     "name": "stdout",
     "output_type": "stream",
     "text": [
      "tensor(16.0494)\n"
     ]
    },
    {
     "name": "stderr",
     "output_type": "stream",
     "text": [
      "\r",
      " 40%|███████████████████████████████████████████████████████████████████▏                                                                                                    | 40/100 [00:19<00:31,  1.88it/s]"
     ]
    },
    {
     "name": "stdout",
     "output_type": "stream",
     "text": [
      "tensor(8.6464)\n"
     ]
    },
    {
     "name": "stderr",
     "output_type": "stream",
     "text": [
      "\r",
      " 41%|████████████████████████████████████████████████████████████████████▉                                                                                                   | 41/100 [00:19<00:28,  2.06it/s]"
     ]
    },
    {
     "name": "stdout",
     "output_type": "stream",
     "text": [
      "tensor(26.8402)\n"
     ]
    },
    {
     "name": "stderr",
     "output_type": "stream",
     "text": [
      "\r",
      " 42%|██████████████████████████████████████████████████████████████████████▌                                                                                                 | 42/100 [00:20<00:28,  2.00it/s]"
     ]
    },
    {
     "name": "stdout",
     "output_type": "stream",
     "text": [
      "tensor(11.4809)\n"
     ]
    },
    {
     "name": "stderr",
     "output_type": "stream",
     "text": [
      "\r",
      " 43%|████████████████████████████████████████████████████████████████████████▏                                                                                               | 43/100 [00:20<00:28,  2.00it/s]"
     ]
    },
    {
     "name": "stdout",
     "output_type": "stream",
     "text": [
      "tensor(32.4770)\n"
     ]
    },
    {
     "name": "stderr",
     "output_type": "stream",
     "text": [
      "\r",
      " 44%|█████████████████████████████████████████████████████████████████████████▉                                                                                              | 44/100 [00:21<00:27,  2.02it/s]"
     ]
    },
    {
     "name": "stdout",
     "output_type": "stream",
     "text": [
      "tensor(9.9811)\n"
     ]
    },
    {
     "name": "stderr",
     "output_type": "stream",
     "text": [
      "\r",
      " 45%|███████████████████████████████████████████████████████████████████████████▌                                                                                            | 45/100 [00:21<00:27,  1.98it/s]"
     ]
    },
    {
     "name": "stdout",
     "output_type": "stream",
     "text": [
      "tensor(8.2100)\n"
     ]
    },
    {
     "name": "stderr",
     "output_type": "stream",
     "text": [
      "\r",
      " 46%|█████████████████████████████████████████████████████████████████████████████▎                                                                                          | 46/100 [00:22<00:28,  1.87it/s]"
     ]
    },
    {
     "name": "stdout",
     "output_type": "stream",
     "text": [
      "tensor(20.0342)\n"
     ]
    },
    {
     "name": "stderr",
     "output_type": "stream",
     "text": [
      "\r",
      " 47%|██████████████████████████████████████████████████████████████████████████████▉                                                                                         | 47/100 [00:22<00:26,  2.01it/s]"
     ]
    },
    {
     "name": "stdout",
     "output_type": "stream",
     "text": [
      "tensor(6.9569)\n"
     ]
    },
    {
     "name": "stderr",
     "output_type": "stream",
     "text": [
      "\r",
      " 48%|████████████████████████████████████████████████████████████████████████████████▋                                                                                       | 48/100 [00:23<00:27,  1.91it/s]"
     ]
    },
    {
     "name": "stdout",
     "output_type": "stream",
     "text": [
      "tensor(22.5652)\n"
     ]
    },
    {
     "name": "stderr",
     "output_type": "stream",
     "text": [
      "\r",
      " 49%|██████████████████████████████████████████████████████████████████████████████████▎                                                                                     | 49/100 [00:23<00:27,  1.87it/s]"
     ]
    },
    {
     "name": "stdout",
     "output_type": "stream",
     "text": [
      "tensor(18.4173)\n"
     ]
    },
    {
     "name": "stderr",
     "output_type": "stream",
     "text": [
      "\r",
      " 50%|████████████████████████████████████████████████████████████████████████████████████                                                                                    | 50/100 [00:24<00:25,  1.96it/s]"
     ]
    },
    {
     "name": "stdout",
     "output_type": "stream",
     "text": [
      "tensor(26.1610)\n"
     ]
    },
    {
     "name": "stderr",
     "output_type": "stream",
     "text": [
      "\r",
      " 51%|█████████████████████████████████████████████████████████████████████████████████████▋                                                                                  | 51/100 [00:24<00:25,  1.90it/s]"
     ]
    },
    {
     "name": "stdout",
     "output_type": "stream",
     "text": [
      "tensor(21.5735)\n"
     ]
    },
    {
     "name": "stderr",
     "output_type": "stream",
     "text": [
      "\r",
      " 52%|███████████████████████████████████████████████████████████████████████████████████████▎                                                                                | 52/100 [00:25<00:24,  1.96it/s]"
     ]
    },
    {
     "name": "stdout",
     "output_type": "stream",
     "text": [
      "tensor(12.8442)\n"
     ]
    },
    {
     "name": "stderr",
     "output_type": "stream",
     "text": [
      "\r",
      " 53%|█████████████████████████████████████████████████████████████████████████████████████████                                                                               | 53/100 [00:25<00:21,  2.23it/s]"
     ]
    },
    {
     "name": "stdout",
     "output_type": "stream",
     "text": [
      "tensor(29.8657)\n"
     ]
    },
    {
     "name": "stderr",
     "output_type": "stream",
     "text": [
      "\r",
      " 54%|██████████████████████████████████████████████████████████████████████████████████████████▋                                                                             | 54/100 [00:25<00:19,  2.35it/s]"
     ]
    },
    {
     "name": "stdout",
     "output_type": "stream",
     "text": [
      "tensor(14.5013)\n"
     ]
    },
    {
     "name": "stderr",
     "output_type": "stream",
     "text": [
      "\r",
      " 55%|████████████████████████████████████████████████████████████████████████████████████████████▍                                                                           | 55/100 [00:26<00:19,  2.35it/s]"
     ]
    },
    {
     "name": "stdout",
     "output_type": "stream",
     "text": [
      "tensor(26.8413)\n"
     ]
    },
    {
     "name": "stderr",
     "output_type": "stream",
     "text": [
      "\r",
      " 56%|██████████████████████████████████████████████████████████████████████████████████████████████                                                                          | 56/100 [00:26<00:20,  2.19it/s]"
     ]
    },
    {
     "name": "stdout",
     "output_type": "stream",
     "text": [
      "tensor(14.9844)\n"
     ]
    },
    {
     "name": "stderr",
     "output_type": "stream",
     "text": [
      "\r",
      " 57%|███████████████████████████████████████████████████████████████████████████████████████████████▊                                                                        | 57/100 [00:27<00:20,  2.14it/s]"
     ]
    },
    {
     "name": "stdout",
     "output_type": "stream",
     "text": [
      "tensor(9.6356)\n"
     ]
    },
    {
     "name": "stderr",
     "output_type": "stream",
     "text": [
      "\r",
      " 58%|█████████████████████████████████████████████████████████████████████████████████████████████████▍                                                                      | 58/100 [00:27<00:17,  2.35it/s]"
     ]
    },
    {
     "name": "stdout",
     "output_type": "stream",
     "text": [
      "tensor(40.1773)\n"
     ]
    },
    {
     "name": "stderr",
     "output_type": "stream",
     "text": [
      "\r",
      " 59%|███████████████████████████████████████████████████████████████████████████████████████████████████                                                                     | 59/100 [00:28<00:17,  2.37it/s]"
     ]
    },
    {
     "name": "stdout",
     "output_type": "stream",
     "text": [
      "tensor(8.2453)\n"
     ]
    },
    {
     "name": "stderr",
     "output_type": "stream",
     "text": [
      "\r",
      " 60%|████████████████████████████████████████████████████████████████████████████████████████████████████▊                                                                   | 60/100 [00:28<00:17,  2.34it/s]"
     ]
    },
    {
     "name": "stdout",
     "output_type": "stream",
     "text": [
      "tensor(15.5885)\n"
     ]
    },
    {
     "name": "stderr",
     "output_type": "stream",
     "text": [
      "\r",
      " 61%|██████████████████████████████████████████████████████████████████████████████████████████████████████▍                                                                 | 61/100 [00:29<00:17,  2.21it/s]"
     ]
    },
    {
     "name": "stdout",
     "output_type": "stream",
     "text": [
      "tensor(12.2721)\n"
     ]
    },
    {
     "name": "stderr",
     "output_type": "stream",
     "text": [
      "\r",
      " 62%|████████████████████████████████████████████████████████████████████████████████████████████████████████▏                                                               | 62/100 [00:29<00:17,  2.22it/s]"
     ]
    },
    {
     "name": "stdout",
     "output_type": "stream",
     "text": [
      "tensor(18.3063)\n"
     ]
    },
    {
     "name": "stderr",
     "output_type": "stream",
     "text": [
      "\r",
      " 63%|█████████████████████████████████████████████████████████████████████████████████████████████████████████▊                                                              | 63/100 [00:29<00:17,  2.15it/s]"
     ]
    },
    {
     "name": "stdout",
     "output_type": "stream",
     "text": [
      "tensor(7.5599)\n"
     ]
    },
    {
     "name": "stderr",
     "output_type": "stream",
     "text": [
      "\r",
      " 64%|███████████████████████████████████████████████████████████████████████████████████████████████████████████▌                                                            | 64/100 [00:30<00:17,  2.08it/s]"
     ]
    },
    {
     "name": "stdout",
     "output_type": "stream",
     "text": [
      "tensor(23.5300)\n"
     ]
    },
    {
     "name": "stderr",
     "output_type": "stream",
     "text": [
      "\r",
      " 65%|█████████████████████████████████████████████████████████████████████████████████████████████████████████████▏                                                          | 65/100 [00:31<00:17,  2.03it/s]"
     ]
    },
    {
     "name": "stdout",
     "output_type": "stream",
     "text": [
      "tensor(21.8973)\n"
     ]
    },
    {
     "name": "stderr",
     "output_type": "stream",
     "text": [
      "\r",
      " 66%|██████████████████████████████████████████████████████████████████████████████████████████████████████████████▉                                                         | 66/100 [00:31<00:16,  2.05it/s]"
     ]
    },
    {
     "name": "stdout",
     "output_type": "stream",
     "text": [
      "tensor(4.5975)\n"
     ]
    },
    {
     "name": "stderr",
     "output_type": "stream",
     "text": [
      "\r",
      " 67%|████████████████████████████████████████████████████████████████████████████████████████████████████████████████▌                                                       | 67/100 [00:31<00:16,  2.02it/s]"
     ]
    },
    {
     "name": "stdout",
     "output_type": "stream",
     "text": [
      "tensor(19.7319)\n"
     ]
    },
    {
     "name": "stderr",
     "output_type": "stream",
     "text": [
      "\r",
      " 68%|██████████████████████████████████████████████████████████████████████████████████████████████████████████████████▏                                                     | 68/100 [00:32<00:16,  1.98it/s]"
     ]
    },
    {
     "name": "stdout",
     "output_type": "stream",
     "text": [
      "tensor(25.2201)\n"
     ]
    },
    {
     "name": "stderr",
     "output_type": "stream",
     "text": [
      "\r",
      " 69%|███████████████████████████████████████████████████████████████████████████████████████████████████████████████████▉                                                    | 69/100 [00:32<00:15,  2.02it/s]"
     ]
    },
    {
     "name": "stdout",
     "output_type": "stream",
     "text": [
      "tensor(28.2423)\n"
     ]
    },
    {
     "name": "stderr",
     "output_type": "stream",
     "text": [
      "\r",
      " 70%|█████████████████████████████████████████████████████████████████████████████████████████████████████████████████████▌                                                  | 70/100 [00:33<00:14,  2.01it/s]"
     ]
    },
    {
     "name": "stdout",
     "output_type": "stream",
     "text": [
      "tensor(7.2225)\n"
     ]
    },
    {
     "name": "stderr",
     "output_type": "stream",
     "text": [
      "\r",
      " 71%|███████████████████████████████████████████████████████████████████████████████████████████████████████████████████████▎                                                | 71/100 [00:33<00:13,  2.09it/s]"
     ]
    },
    {
     "name": "stdout",
     "output_type": "stream",
     "text": [
      "tensor(34.7606)\n"
     ]
    },
    {
     "name": "stderr",
     "output_type": "stream",
     "text": [
      "\r",
      " 72%|████████████████████████████████████████████████████████████████████████████████████████████████████████████████████████▉                                               | 72/100 [00:34<00:13,  2.10it/s]"
     ]
    },
    {
     "name": "stdout",
     "output_type": "stream",
     "text": [
      "tensor(8.6852)\n"
     ]
    },
    {
     "name": "stderr",
     "output_type": "stream",
     "text": [
      "\r",
      " 73%|██████████████████████████████████████████████████████████████████████████████████████████████████████████████████████████▋                                             | 73/100 [00:34<00:13,  2.04it/s]"
     ]
    },
    {
     "name": "stdout",
     "output_type": "stream",
     "text": [
      "tensor(18.5382)\n"
     ]
    },
    {
     "name": "stderr",
     "output_type": "stream",
     "text": [
      "\r",
      " 74%|████████████████████████████████████████████████████████████████████████████████████████████████████████████████████████████▎                                           | 74/100 [00:35<00:13,  1.87it/s]"
     ]
    },
    {
     "name": "stdout",
     "output_type": "stream",
     "text": [
      "tensor(15.2411)\n"
     ]
    },
    {
     "name": "stderr",
     "output_type": "stream",
     "text": [
      "\r",
      " 75%|██████████████████████████████████████████████████████████████████████████████████████████████████████████████████████████████                                          | 75/100 [00:35<00:12,  2.01it/s]"
     ]
    },
    {
     "name": "stdout",
     "output_type": "stream",
     "text": [
      "tensor(37.3869)\n"
     ]
    },
    {
     "name": "stderr",
     "output_type": "stream",
     "text": [
      "\r",
      " 76%|███████████████████████████████████████████████████████████████████████████████████████████████████████████████████████████████▋                                        | 76/100 [00:36<00:11,  2.09it/s]"
     ]
    },
    {
     "name": "stdout",
     "output_type": "stream",
     "text": [
      "tensor(11.2779)\n"
     ]
    },
    {
     "name": "stderr",
     "output_type": "stream",
     "text": [
      "\r",
      " 77%|█████████████████████████████████████████████████████████████████████████████████████████████████████████████████████████████████▎                                      | 77/100 [00:36<00:11,  2.06it/s]"
     ]
    },
    {
     "name": "stdout",
     "output_type": "stream",
     "text": [
      "tensor(23.6018)\n"
     ]
    },
    {
     "name": "stderr",
     "output_type": "stream",
     "text": [
      "\r",
      " 78%|███████████████████████████████████████████████████████████████████████████████████████████████████████████████████████████████████                                     | 78/100 [00:37<00:10,  2.08it/s]"
     ]
    },
    {
     "name": "stdout",
     "output_type": "stream",
     "text": [
      "tensor(14.1669)\n"
     ]
    },
    {
     "name": "stderr",
     "output_type": "stream",
     "text": [
      "\r",
      " 79%|████████████████████████████████████████████████████████████████████████████████████████████████████████████████████████████████████▋                                   | 79/100 [00:37<00:10,  2.06it/s]"
     ]
    },
    {
     "name": "stdout",
     "output_type": "stream",
     "text": [
      "tensor(9.7990)\n"
     ]
    },
    {
     "name": "stderr",
     "output_type": "stream",
     "text": [
      "\r",
      " 80%|██████████████████████████████████████████████████████████████████████████████████████████████████████████████████████████████████████▍                                 | 80/100 [00:38<00:09,  2.22it/s]"
     ]
    },
    {
     "name": "stdout",
     "output_type": "stream",
     "text": [
      "tensor(13.5162)\n"
     ]
    },
    {
     "name": "stderr",
     "output_type": "stream",
     "text": [
      "\r",
      " 81%|████████████████████████████████████████████████████████████████████████████████████████████████████████████████████████████████████████                                | 81/100 [00:38<00:08,  2.31it/s]"
     ]
    },
    {
     "name": "stdout",
     "output_type": "stream",
     "text": [
      "tensor(16.5586)\n"
     ]
    },
    {
     "name": "stderr",
     "output_type": "stream",
     "text": [
      "\r",
      " 82%|█████████████████████████████████████████████████████████████████████████████████████████████████████████████████████████████████████████▊                              | 82/100 [00:39<00:07,  2.37it/s]"
     ]
    },
    {
     "name": "stdout",
     "output_type": "stream",
     "text": [
      "tensor(8.2894)\n"
     ]
    },
    {
     "name": "stderr",
     "output_type": "stream",
     "text": [
      "\r",
      " 83%|███████████████████████████████████████████████████████████████████████████████████████████████████████████████████████████████████████████▍                            | 83/100 [00:39<00:06,  2.45it/s]"
     ]
    },
    {
     "name": "stdout",
     "output_type": "stream",
     "text": [
      "tensor(8.5472)\n"
     ]
    },
    {
     "name": "stderr",
     "output_type": "stream",
     "text": [
      "\r",
      " 84%|█████████████████████████████████████████████████████████████████████████████████████████████████████████████████████████████████████████████                           | 84/100 [00:39<00:07,  2.20it/s]"
     ]
    },
    {
     "name": "stdout",
     "output_type": "stream",
     "text": [
      "tensor(38.0530)\n"
     ]
    },
    {
     "name": "stderr",
     "output_type": "stream",
     "text": [
      "\r",
      " 85%|██████████████████████████████████████████████████████████████████████████████████████████████████████████████████████████████████████████████▊                         | 85/100 [00:40<00:07,  2.13it/s]"
     ]
    },
    {
     "name": "stdout",
     "output_type": "stream",
     "text": [
      "tensor(8.4784)\n"
     ]
    },
    {
     "name": "stderr",
     "output_type": "stream",
     "text": [
      "\r",
      " 86%|████████████████████████████████████████████████████████████████████████████████████████████████████████████████████████████████████████████████▍                       | 86/100 [00:41<00:07,  1.91it/s]"
     ]
    },
    {
     "name": "stdout",
     "output_type": "stream",
     "text": [
      "tensor(17.4791)\n"
     ]
    },
    {
     "name": "stderr",
     "output_type": "stream",
     "text": [
      "\r",
      " 87%|██████████████████████████████████████████████████████████████████████████████████████████████████████████████████████████████████████████████████▏                     | 87/100 [00:41<00:05,  2.19it/s]"
     ]
    },
    {
     "name": "stdout",
     "output_type": "stream",
     "text": [
      "tensor(16.4345)\n"
     ]
    },
    {
     "name": "stderr",
     "output_type": "stream",
     "text": [
      "\r",
      " 88%|███████████████████████████████████████████████████████████████████████████████████████████████████████████████████████████████████████████████████▊                    | 88/100 [00:41<00:05,  2.10it/s]"
     ]
    },
    {
     "name": "stdout",
     "output_type": "stream",
     "text": [
      "tensor(16.5600)\n"
     ]
    },
    {
     "name": "stderr",
     "output_type": "stream",
     "text": [
      "\r",
      " 89%|█████████████████████████████████████████████████████████████████████████████████████████████████████████████████████████████████████████████████████▌                  | 89/100 [00:42<00:05,  2.15it/s]"
     ]
    },
    {
     "name": "stdout",
     "output_type": "stream",
     "text": [
      "tensor(12.3924)\n"
     ]
    },
    {
     "name": "stderr",
     "output_type": "stream",
     "text": [
      "\r",
      " 90%|███████████████████████████████████████████████████████████████████████████████████████████████████████████████████████████████████████████████████████▏                | 90/100 [00:42<00:04,  2.32it/s]"
     ]
    },
    {
     "name": "stdout",
     "output_type": "stream",
     "text": [
      "tensor(17.7019)\n"
     ]
    },
    {
     "name": "stderr",
     "output_type": "stream",
     "text": [
      "\r",
      " 91%|████████████████████████████████████████████████████████████████████████████████████████████████████████████████████████████████████████████████████████▉               | 91/100 [00:43<00:03,  2.44it/s]"
     ]
    },
    {
     "name": "stdout",
     "output_type": "stream",
     "text": [
      "tensor(29.5618)\n"
     ]
    },
    {
     "name": "stderr",
     "output_type": "stream",
     "text": [
      "\r",
      " 92%|██████████████████████████████████████████████████████████████████████████████████████████████████████████████████████████████████████████████████████████▌             | 92/100 [00:43<00:03,  2.36it/s]"
     ]
    },
    {
     "name": "stdout",
     "output_type": "stream",
     "text": [
      "tensor(11.5492)\n"
     ]
    },
    {
     "name": "stderr",
     "output_type": "stream",
     "text": [
      "\r",
      " 93%|████████████████████████████████████████████████████████████████████████████████████████████████████████████████████████████████████████████████████████████▏           | 93/100 [00:43<00:02,  2.33it/s]"
     ]
    },
    {
     "name": "stdout",
     "output_type": "stream",
     "text": [
      "tensor(7.3565)\n"
     ]
    },
    {
     "name": "stderr",
     "output_type": "stream",
     "text": [
      "\r",
      " 94%|█████████████████████████████████████████████████████████████████████████████████████████████████████████████████████████████████████████████████████████████▉          | 94/100 [00:44<00:02,  2.41it/s]"
     ]
    },
    {
     "name": "stdout",
     "output_type": "stream",
     "text": [
      "tensor(7.1483)\n"
     ]
    },
    {
     "name": "stderr",
     "output_type": "stream",
     "text": [
      "\r",
      " 95%|███████████████████████████████████████████████████████████████████████████████████████████████████████████████████████████████████████████████████████████████▌        | 95/100 [00:44<00:02,  2.37it/s]"
     ]
    },
    {
     "name": "stdout",
     "output_type": "stream",
     "text": [
      "tensor(14.0122)\n"
     ]
    },
    {
     "name": "stderr",
     "output_type": "stream",
     "text": [
      "\r",
      " 96%|█████████████████████████████████████████████████████████████████████████████████████████████████████████████████████████████████████████████████████████████████▎      | 96/100 [00:45<00:01,  2.24it/s]"
     ]
    },
    {
     "name": "stdout",
     "output_type": "stream",
     "text": [
      "tensor(18.2795)\n"
     ]
    },
    {
     "name": "stderr",
     "output_type": "stream",
     "text": [
      "\r",
      " 97%|██████████████████████████████████████████████████████████████████████████████████████████████████████████████████████████████████████████████████████████████████▉     | 97/100 [00:45<00:01,  2.26it/s]"
     ]
    },
    {
     "name": "stdout",
     "output_type": "stream",
     "text": [
      "tensor(14.5131)\n"
     ]
    },
    {
     "name": "stderr",
     "output_type": "stream",
     "text": [
      "\r",
      " 98%|████████████████████████████████████████████████████████████████████████████████████████████████████████████████████████████████████████████████████████████████████▋   | 98/100 [00:46<00:00,  2.08it/s]"
     ]
    },
    {
     "name": "stdout",
     "output_type": "stream",
     "text": [
      "tensor(9.5330)\n"
     ]
    },
    {
     "name": "stderr",
     "output_type": "stream",
     "text": [
      "\r",
      " 99%|██████████████████████████████████████████████████████████████████████████████████████████████████████████████████████████████████████████████████████████████████████▎ | 99/100 [00:46<00:00,  1.92it/s]"
     ]
    },
    {
     "name": "stdout",
     "output_type": "stream",
     "text": [
      "tensor(6.3379)\n"
     ]
    },
    {
     "name": "stderr",
     "output_type": "stream",
     "text": [
      "100%|███████████████████████████████████████████████████████████████████████████████████████████████████████████████████████████████████████████████████████████████████████| 100/100 [00:47<00:00,  2.11it/s]"
     ]
    },
    {
     "name": "stdout",
     "output_type": "stream",
     "text": [
      "tensor(4.4350)\n"
     ]
    },
    {
     "name": "stderr",
     "output_type": "stream",
     "text": [
      "\n"
     ]
    }
   ],
   "source": [
    "seed = 0\n",
    "T_vs = []\n",
    "T_p1s = []\n",
    "Psis = []\n",
    "nonzero_idxss = []\n",
    "for seed in trange(100):\n",
    "\n",
    "    _paras = edict(paras.copy())\n",
    "    _paras.seed = seed\n",
    "    cur_data = _gen_simu_data_all(_paras.seed, _paras )\n",
    "    \n",
    "    # do sure independent screening for dim reduction\n",
    "    if _paras.SIS_ratio < 1:\n",
    "        keep_idxs, _  = SIS_linear(cur_data.Y, cur_data.X, cur_data.Z, _paras.SIS_ratio, _paras)\n",
    "    else:\n",
    "        keep_idxs = _paras.sel_idx\n",
    "    M_idxs = np.delete(np.arange(_paras.d), _paras.sel_idx)\n",
    "    _paras.keep_idxs = np.sort(np.concatenate([M_idxs, keep_idxs]))\n",
    "        \n",
    "    _paras.d_SIS = len(_paras.keep_idxs)\n",
    "    \n",
    "    cur_data_SIS = edict(cur_data.copy())\n",
    "    cur_data_SIS.X = cur_data.X[:, _paras.keep_idxs, :]\n",
    "    \n",
    "    model = LinearModel(Y=cur_data_SIS.Y, \n",
    "                        X=cur_data_SIS.X, \n",
    "                        Z=cur_data_SIS.Z, \n",
    "                        basis_mat=_paras.basis_mat, \n",
    "                        sigma2=_paras.sigma2)\n",
    "    model._linear_term_der()\n",
    "    Xt = model.lin_tm_der # Mx(q+dN)\n",
    "    est_theta = svd_inverse(Xt.T @ Xt + 0*torch.eye(Xt.shape[-1]))@Xt.T@cur_data_SIS.Y\n",
    "    ##est_theta = torch.inverse(Xt.T @ Xt)@Xt.T@Y\n",
    "    #\n",
    "    est_alp = est_theta[:_paras.q]\n",
    "    est_Gam = col_vec2mat_fn(est_theta[_paras.q:], nrow=_paras.N)*np.sqrt(_paras.N)\n",
    "    est_theta = torch.cat([est_alp, col_vec_fn(est_Gam)/np.sqrt(_paras.N)])\n",
    "    \n",
    "    Q_mat = -model.log_lik_der2(est_alp, est_Gam)\n",
    "    model.log_lik_der1(est_alp, est_Gam);\n",
    "    Sig_mat = (model.log_lik_der1_vs.unsqueeze(-1) * model.log_lik_der1_vs.unsqueeze(1)).mean(axis=0) \n",
    "    \n",
    "    # obtain the idxs to keep for test\n",
    "    nonzero_idxs = torch.nonzero(torch.norm(est_Gam, dim=0)).reshape(-1).numpy()\n",
    "    MS_unions = np.sort(np.union1d(_paras.M_idxs, nonzero_idxs))\n",
    "    keep_idxs_test = MS2idxs(_paras.q, _paras.N, MS_unions)\n",
    "        \n",
    "    # A mat\n",
    "    k = len(np.setdiff1d(nonzero_idxs, _paras.M_idxs))\n",
    "    Amat = torch.tensor(get_Amat(k, _paras))\n",
    "        \n",
    "    # calcuate Test stats\n",
    "    Q_mat_part = Q_mat[keep_idxs_test][:, keep_idxs_test]\n",
    "    Q_mat_part_inv = svd_inverse(Q_mat_part)\n",
    "        \n",
    "    Sig_mat_part = Sig_mat[keep_idxs_test][:, keep_idxs_test]\n",
    "    Psi = Amat @ Q_mat_part_inv @ Sig_mat_part @ Q_mat_part_inv @ Amat.T\n",
    "        \n",
    "    T_p1 = Amat @ est_theta[keep_idxs_test]\n",
    "    Psi_inv = svd_inverse(Psi)\n",
    "    T_v = T_p1 @ Psi_inv @ T_p1 * _paras.n \n",
    "    print(T_v)\n",
    "\n",
    "    Psis.append(Psi)\n",
    "    T_p1s.append(T_p1)\n",
    "    T_vs.append(T_v.item())\n",
    "    nonzero_idxss.append(nonzero_idxs)"
   ]
  },
  {
   "cell_type": "code",
   "execution_count": 23,
   "id": "307926ce",
   "metadata": {
    "ExecuteTime": {
     "end_time": "2023-02-07T13:32:07.928163Z",
     "start_time": "2023-02-07T13:32:07.923675Z"
    }
   },
   "outputs": [
    {
     "data": {
      "text/plain": [
       "tensor([ 4.9420,  1.1242, -2.0257,  3.0718, -4.0289])"
      ]
     },
     "execution_count": 23,
     "metadata": {},
     "output_type": "execute_result"
    }
   ],
   "source": [
    "est_alp"
   ]
  },
  {
   "cell_type": "code",
   "execution_count": 24,
   "id": "60bf63cb",
   "metadata": {
    "ExecuteTime": {
     "end_time": "2023-02-07T13:32:09.473736Z",
     "start_time": "2023-02-07T13:32:09.236586Z"
    }
   },
   "outputs": [
    {
     "data": {
      "text/plain": [
       "<matplotlib.legend.Legend at 0x7f649025fd30>"
      ]
     },
     "execution_count": 24,
     "metadata": {},
     "output_type": "execute_result"
    },
    {
     "data": {
      "image/png": "[encoded data removed]",
      "text/plain": [
       "<Figure size 432x288 with 1 Axes>"
      ]
     },
     "metadata": {},
     "output_type": "display_data"
    }
   ],
   "source": [
    "rec_curs = paras.basis_mat @ est_Gam\n",
    "idx = -1\n",
    "plt.plot(rec_curs[:, idx], label=\"rec\")\n",
    "plt.plot(paras.beta_GT[:, idx], label=\"GT\")\n",
    "plt.legend()"
   ]
  },
  {
   "cell_type": "code",
   "execution_count": 25,
   "id": "8ded9727",
   "metadata": {
    "ExecuteTime": {
     "end_time": "2023-02-07T13:32:11.453263Z",
     "start_time": "2023-02-07T13:32:11.448919Z"
    }
   },
   "outputs": [
    {
     "data": {
      "text/plain": [
       "tensor([6.9607, 3.4710])"
      ]
     },
     "execution_count": 25,
     "metadata": {},
     "output_type": "execute_result"
    }
   ],
   "source": [
    "torch.norm(est_Gam, dim=0)"
   ]
  },
  {
   "cell_type": "code",
   "execution_count": 26,
   "id": "1523dc52",
   "metadata": {
    "ExecuteTime": {
     "end_time": "2023-02-07T13:32:13.087903Z",
     "start_time": "2023-02-07T13:32:13.083873Z"
    }
   },
   "outputs": [
    {
     "data": {
      "text/plain": [
       "array([0., 0.])"
      ]
     },
     "execution_count": 26,
     "metadata": {},
     "output_type": "execute_result"
    }
   ],
   "source": [
    "np.linalg.norm(_paras.Gam_est, axis=0)"
   ]
  },
  {
   "cell_type": "code",
   "execution_count": 27,
   "id": "37bb8fa7",
   "metadata": {
    "ExecuteTime": {
     "end_time": "2023-02-07T13:32:14.285061Z",
     "start_time": "2023-02-07T13:32:13.853150Z"
    },
    "scrolled": true
   },
   "outputs": [
    {
     "data": {
      "text/plain": [
       "<AxesSubplot:>"
      ]
     },
     "execution_count": 27,
     "metadata": {},
     "output_type": "execute_result"
    },
    {
     "data": {
      "image/png": "[encoded data removed]",
      "text/plain": [
       "<Figure size 432x288 with 2 Axes>"
      ]
     },
     "metadata": {},
     "output_type": "display_data"
    }
   ],
   "source": [
    "tmp1 = np.mean([ix.numpy() for ix in Psis], axis=0)/paras.n\n",
    "sns.heatmap(tmp1, center=0, cmap=\"bwr\")"
   ]
  },
  {
   "cell_type": "code",
   "execution_count": 28,
   "id": "12844813",
   "metadata": {
    "ExecuteTime": {
     "end_time": "2023-02-07T13:32:16.229909Z",
     "start_time": "2023-02-07T13:32:15.662483Z"
    }
   },
   "outputs": [
    {
     "data": {
      "text/plain": [
       "<AxesSubplot:>"
      ]
     },
     "execution_count": 28,
     "metadata": {},
     "output_type": "execute_result"
    },
    {
     "data": {
      "image/png": "[encoded data removed]",
      "text/plain": [
       "<Figure size 432x288 with 2 Axes>"
      ]
     },
     "metadata": {},
     "output_type": "display_data"
    }
   ],
   "source": [
    "tmp2 = np.cov(np.array([ix.numpy() for ix in T_p1s]).T)\n",
    "sns.heatmap(tmp2, center=0, cmap=\"bwr\")"
   ]
  },
  {
   "cell_type": "code",
   "execution_count": 29,
   "id": "6b6bf4cb",
   "metadata": {
    "ExecuteTime": {
     "end_time": "2023-02-07T13:32:18.878993Z",
     "start_time": "2023-02-07T13:32:18.476439Z"
    }
   },
   "outputs": [
    {
     "data": {
      "text/plain": [
       "<matplotlib.legend.Legend at 0x7f6490130700>"
      ]
     },
     "execution_count": 29,
     "metadata": {},
     "output_type": "execute_result"
    },
    {
     "data": {
      "image/png": "[encoded data removed]",
      "text/plain": [
       "<Figure size 432x288 with 1 Axes>"
      ]
     },
     "metadata": {},
     "output_type": "display_data"
    }
   ],
   "source": [
    "#null_sps = np.random.chisquare(3, 10000)\n",
    "null_sps = np.random.chisquare(paras.r * paras.N, 10000)\n",
    "sns.kdeplot(null_sps, label=\"theoretical\")\n",
    "sns.kdeplot(np.array(T_vs), label=\"empirical\")\n",
    "plt.legend()"
   ]
  },
  {
   "cell_type": "code",
   "execution_count": 30,
   "id": "54e2f8f9",
   "metadata": {
    "ExecuteTime": {
     "end_time": "2023-02-07T13:32:21.549368Z",
     "start_time": "2023-02-07T13:32:21.543950Z"
    }
   },
   "outputs": [
    {
     "data": {
      "text/plain": [
       "0.06"
      ]
     },
     "execution_count": 30,
     "metadata": {},
     "output_type": "execute_result"
    }
   ],
   "source": [
    "CV = np.quantile(null_sps, 0.95)\n",
    "np.mean(np.array(T_vs)>CV)"
   ]
  },
  {
   "cell_type": "code",
   "execution_count": 31,
   "id": "9c5573d7",
   "metadata": {
    "ExecuteTime": {
     "end_time": "2023-02-07T13:32:25.831092Z",
     "start_time": "2023-02-07T13:32:25.826769Z"
    }
   },
   "outputs": [
    {
     "data": {
      "text/plain": [
       "17.43144808561027"
      ]
     },
     "execution_count": 31,
     "metadata": {},
     "output_type": "execute_result"
    }
   ],
   "source": [
    "np.mean(T_vs)"
   ]
  },
  {
   "cell_type": "code",
   "execution_count": 32,
   "id": "51f8b503",
   "metadata": {
    "ExecuteTime": {
     "end_time": "2023-02-07T13:32:26.566538Z",
     "start_time": "2023-02-07T13:32:26.562179Z"
    }
   },
   "outputs": [
    {
     "data": {
      "text/plain": [
       "19.980063291556338"
      ]
     },
     "execution_count": 32,
     "metadata": {},
     "output_type": "execute_result"
    }
   ],
   "source": [
    "np.mean(null_sps)"
   ]
  },
  {
   "cell_type": "code",
   "execution_count": null,
   "id": "155f1869",
   "metadata": {},
   "outputs": [],
   "source": []
  }
 ],
 "metadata": {
  "kernelspec": {
   "display_name": "Python 3 (ipykernel)",
   "language": "python",
   "name": "python3"
  },
  "language_info": {
   "codemirror_mode": {
    "name": "ipython",
    "version": 3
   },
   "file_extension": ".py",
   "mimetype": "text/x-python",
   "name": "python",
   "nbconvert_exporter": "python",
   "pygments_lexer": "ipython3",
   "version": "3.9.7"
  },
  "toc": {
   "base_numbering": 1,
   "nav_menu": {},
   "number_sections": true,
   "sideBar": true,
   "skip_h1_title": false,
   "title_cell": "Table of Contents",
   "title_sidebar": "Contents",
   "toc_cell": false,
   "toc_position": {
    "height": "calc(100% - 180px)",
    "left": "10px",
    "top": "150px",
    "width": "384px"
   },
   "toc_section_display": true,
   "toc_window_display": true
  }
 },
 "nbformat": 4,
 "nbformat_minor": 5
}
