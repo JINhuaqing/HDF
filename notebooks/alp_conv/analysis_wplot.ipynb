{
 "cells": [
  {
   "cell_type": "markdown",
   "id": "942a9fb0-de26-4619-9f8f-1d1ad87c308f",
   "metadata": {},
   "source": [
    "Analysis the results under new code"
   ]
  },
  {
   "cell_type": "code",
   "execution_count": 1,
   "id": "02ae980e",
   "metadata": {
    "ExecuteTime": {
     "end_time": "2023-05-31T19:57:23.490285Z",
     "start_time": "2023-05-31T19:57:23.481769Z"
    },
    "execution": {
     "iopub.execute_input": "2024-03-03T00:07:51.486545Z",
     "iopub.status.busy": "2024-03-03T00:07:51.485881Z",
     "iopub.status.idle": "2024-03-03T00:07:51.502577Z",
     "shell.execute_reply": "2024-03-03T00:07:51.500778Z",
     "shell.execute_reply.started": "2024-03-03T00:07:51.486496Z"
    },
    "tags": []
   },
   "outputs": [],
   "source": [
    "import sys\n",
    "sys.path.append(\"../../mypkg\")"
   ]
  },
  {
   "cell_type": "code",
   "execution_count": 2,
   "id": "b9d3cbc6-1ac5-47d6-a0d1-bcbc0be9267e",
   "metadata": {
    "execution": {
     "iopub.execute_input": "2024-03-03T00:07:51.504159Z",
     "iopub.status.busy": "2024-03-03T00:07:51.503741Z",
     "iopub.status.idle": "2024-03-03T00:07:51.562712Z",
     "shell.execute_reply": "2024-03-03T00:07:51.561840Z",
     "shell.execute_reply.started": "2024-03-03T00:07:51.504125Z"
    },
    "tags": []
   },
   "outputs": [],
   "source": [
    "# This will reload all imports as soon as the code changes\n",
    "%load_ext autoreload\n",
    "%autoreload 2"
   ]
  },
  {
   "cell_type": "code",
   "execution_count": 3,
   "id": "023df78a",
   "metadata": {
    "ExecuteTime": {
     "end_time": "2023-05-31T19:57:34.238839Z",
     "start_time": "2023-05-31T19:57:23.494053Z"
    },
    "execution": {
     "iopub.execute_input": "2024-03-03T00:07:51.565179Z",
     "iopub.status.busy": "2024-03-03T00:07:51.564450Z",
     "iopub.status.idle": "2024-03-03T00:07:54.030787Z",
     "shell.execute_reply": "2024-03-03T00:07:54.029841Z",
     "shell.execute_reply.started": "2024-03-03T00:07:51.565143Z"
    },
    "tags": []
   },
   "outputs": [],
   "source": [
    "import numpy as np\n",
    "import torch\n",
    "import scipy\n",
    "import matplotlib.pyplot as plt\n",
    "import seaborn as sns\n",
    "from scipy.stats import pearsonr\n",
    "from numbers import Number\n",
    "\n",
    "from joblib import Parallel, delayed\n",
    "\n",
    "from easydict import EasyDict as edict\n",
    "from tqdm import trange, tqdm\n",
    "from scipy.io import loadmat\n",
    "from pprint import pprint\n",
    "import itertools\n",
    "from scipy.stats import chi2\n",
    "from IPython.display import display\n",
    "import pandas as pd\n",
    "from collections import defaultdict as ddict\n",
    "\n"
   ]
  },
  {
   "cell_type": "code",
   "execution_count": 4,
   "id": "b0aa91b2",
   "metadata": {
    "ExecuteTime": {
     "end_time": "2023-05-31T19:57:59.558229Z",
     "start_time": "2023-05-31T19:57:34.292612Z"
    },
    "execution": {
     "iopub.execute_input": "2024-03-03T00:07:54.032272Z",
     "iopub.status.busy": "2024-03-03T00:07:54.031907Z",
     "iopub.status.idle": "2024-03-03T00:07:54.064916Z",
     "shell.execute_reply": "2024-03-03T00:07:54.063856Z",
     "shell.execute_reply.started": "2024-03-03T00:07:54.032253Z"
    },
    "tags": []
   },
   "outputs": [],
   "source": [
    "from constants import DATA_ROOT, RES_ROOT, FIG_ROOT, MIDRES_ROOT\n",
    "\n",
    "from utils.misc import save_pkl, load_pkl, get_local_min_idxs\n",
    "from utils import colors\n"
   ]
  },
  {
   "cell_type": "code",
   "execution_count": 5,
   "id": "d29891f5-2fe1-428f-9d0d-4991cd3bfc58",
   "metadata": {
    "execution": {
     "iopub.execute_input": "2024-03-03T00:07:54.066983Z",
     "iopub.status.busy": "2024-03-03T00:07:54.066298Z",
     "iopub.status.idle": "2024-03-03T00:07:54.882378Z",
     "shell.execute_reply": "2024-03-03T00:07:54.881160Z",
     "shell.execute_reply.started": "2024-03-03T00:07:54.066924Z"
    },
    "tags": []
   },
   "outputs": [],
   "source": [
    "import logging\n",
    "from optimization.opt import logger as logger1\n",
    "logger1.handlers[0].setLevel(logging.WARNING)\n",
    "\n",
    "plt.style.use(FIG_ROOT/\"base.mplstyle\")\n",
    "torch.set_default_dtype(torch.float64)"
   ]
  },
  {
   "cell_type": "code",
   "execution_count": 12,
   "id": "d93eca7c-5b7c-49ee-bec2-979f08f8d602",
   "metadata": {
    "execution": {
     "iopub.execute_input": "2024-03-03T00:13:23.147111Z",
     "iopub.status.busy": "2024-03-03T00:13:23.146408Z",
     "iopub.status.idle": "2024-03-03T00:13:23.188061Z",
     "shell.execute_reply": "2024-03-03T00:13:23.187332Z",
     "shell.execute_reply.started": "2024-03-03T00:13:23.147058Z"
    },
    "tags": []
   },
   "outputs": [],
   "source": [
    "def _get_min_idx(x):\n",
    "    \"\"\"Get the index of the minimal values among the local minimals.\n",
    "       If there are multiple ones, return the largest index\n",
    "       args:\n",
    "           x: a vec\n",
    "        \n",
    "    \"\"\"\n",
    "    x = np.array(x)\n",
    "    lmin_idxs = get_local_min_idxs(x);\n",
    "    if len(lmin_idxs) == 0:\n",
    "        lmin_idxs = np.arange(len(x))\n",
    "    lmin_idxs_inv =  lmin_idxs[::-1]\n",
    "    lmins_inv = x[lmin_idxs_inv];\n",
    "    return  lmin_idxs_inv[np.argmin(lmins_inv)]\n",
    "\n",
    "def get_ci(est_alp, cov_mat, alp_idx, qv=1.96):\n",
    "    ci_lim = qv*cov_mat[alp_idx, alp_idx].sqrt().item()\n",
    "    ci = [est_alp[alp_idx].item()-ci_lim,  est_alp[alp_idx].item()+ci_lim]\n",
    "    return ci\n",
    "def get_alp_cov(hdf_fit):\n",
    "    Q_mat = hdf_fit.hypo_utils.Q_mat_part\n",
    "    Q_mat_inv = torch.linalg.pinv(Q_mat, hermitian=True, rtol=1e-7)\n",
    "    Sig_mat = hdf_fit.hypo_utils.Sig_mat_part\n",
    "    Cov_mat = Q_mat_inv @ Sig_mat @  Q_mat_inv / hdf_fit.data_params.n\n",
    "    return Cov_mat[:hdf_fit.data_params.q,:hdf_fit.data_params.q];"
   ]
  },
  {
   "cell_type": "code",
   "execution_count": 13,
   "id": "f42b07c9-9c04-4acc-8fda-3e5b622a3bba",
   "metadata": {
    "execution": {
     "iopub.execute_input": "2024-03-03T00:13:24.930489Z",
     "iopub.status.busy": "2024-03-03T00:13:24.929892Z",
     "iopub.status.idle": "2024-03-03T00:13:24.975310Z",
     "shell.execute_reply": "2024-03-03T00:13:24.974678Z",
     "shell.execute_reply.started": "2024-03-03T00:13:24.930443Z"
    },
    "tags": []
   },
   "outputs": [
    {
     "data": {
      "text/plain": [
       "array([ 5, -1,  2])"
      ]
     },
     "execution_count": 13,
     "metadata": {},
     "output_type": "execute_result"
    },
    {
     "name": "stderr",
     "output_type": "stream",
     "text": [
      "n: 100:   6%|███████▋                                                                                                                        | 60/1000 [00:17<00:28, 32.84it/s]"
     ]
    }
   ],
   "source": [
    "ns = [100, 200, 400, 800, 1600, 3200]\n",
    "num_rep = 1000\n",
    "cols = colors.div_cmap(2)\n",
    "norm_ci = 0.95\n",
    "qv = np.abs(scipy.stats.norm.ppf((1-norm_ci)/2))\n",
    "gt_alp = np.array([5, -1, 2]) "
   ]
  },
  {
   "cell_type": "code",
   "execution_count": 14,
   "id": "dfd6d7e4-4870-453b-a7e9-f342802ede3b",
   "metadata": {
    "execution": {
     "iopub.execute_input": "2024-03-03T00:13:25.980959Z",
     "iopub.status.busy": "2024-03-03T00:13:25.980321Z",
     "iopub.status.idle": "2024-03-03T00:13:26.031632Z",
     "shell.execute_reply": "2024-03-03T00:13:26.030990Z",
     "shell.execute_reply.started": "2024-03-03T00:13:25.980891Z"
    },
    "scrolled": true,
    "tags": []
   },
   "outputs": [],
   "source": [
    "def _get_res(is_logi):\n",
    "    if is_logi:\n",
    "        all_res = load_pkl(RES_ROOT/f\"simu_logi_alpconv_n100/all-valsel-metrics.pkl\")\n",
    "    else:\n",
    "        all_res = load_pkl(RES_ROOT/f\"simu_alpconv_n100/all-valsel-metrics.pkl\")\n",
    "    all_coms = np.array(list(all_res.keys()))\n",
    "    can_Ns = np.sort(np.unique(all_coms[:, 1]))\n",
    "    can_lams = np.sort(np.unique(all_coms[:, 2]));\n",
    "    \n",
    "    def _run_fn1(seed, all_cv_errs):\n",
    "        errs_mat = []\n",
    "        for cur_N in can_Ns:\n",
    "            errs = []\n",
    "            for cur_lam in can_lams:\n",
    "                errs.append(all_cv_errs[(seed, cur_N, cur_lam)].mse_loss)\n",
    "            errs_mat.append(errs)\n",
    "        errs_mat = np.array(errs_mat)\n",
    "        return errs_mat\n",
    "    opt_lamNs_fix = {}\n",
    "    for n in ns:\n",
    "        if is_logi:\n",
    "            cur_save_dir = RES_ROOT/f\"simu_logi_alpconv_n{n}\"\n",
    "        else:\n",
    "            cur_save_dir = RES_ROOT/f\"simu_alpconv_n{n}\"\n",
    "        all_cv_errs = load_pkl(cur_save_dir/f\"all-valsel-metrics.pkl\")\n",
    "        num_seed = len(np.unique(list(map(lambda x: x[0], all_cv_errs.keys()))))\n",
    "        # do not make n_jobs>1, it is very slow\n",
    "        with Parallel(n_jobs=1) as parallel:\n",
    "            err_ten = parallel(delayed(_run_fn1)(cur_seed, all_cv_errs)  \n",
    "                                     for cur_seed in tqdm(range(num_seed), \n",
    "                                                          total=num_seed, desc=f\"n: {n}\"))\n",
    "        err_ten = np.array(err_ten);\n",
    "        \n",
    "        err_ten_ses = err_ten.std(axis=0)/np.sqrt(err_ten.shape[0])\n",
    "        err_m = np.mean(np.array(err_ten), axis=0)\n",
    "        errs = []\n",
    "        for err in err_m:\n",
    "            lam_min_idx = _get_min_idx(err)\n",
    "            errs.append((err[lam_min_idx], lam_min_idx))\n",
    "        errs = np.array(errs)\n",
    "        N_min_idx = np.argmin(errs[:, 0]);\n",
    "        lam_min_idx = int(errs[N_min_idx][1]);\n",
    "        print(n, can_Ns[N_min_idx], can_lams[lam_min_idx])\n",
    "        opt_lamNs_fix[n] = (can_Ns[N_min_idx],  can_lams[lam_min_idx])\n",
    "    \n",
    "    \n",
    "    ress_dict = {}\n",
    "    for n in ns:\n",
    "        if is_logi:\n",
    "            cur_save_dir = RES_ROOT/f\"simu_logi_alpconv_n{n}\"\n",
    "        else:\n",
    "            cur_save_dir = RES_ROOT/f\"simu_alpconv_n{n}\"\n",
    "        cur_N, cur_lam = opt_lamNs_fix[n]\n",
    "        def _run_fn_test(cur_seed):\n",
    "            from optimization.opt import logger as logger1\n",
    "            logger1.handlers[0].setLevel(logging.WARNING)\n",
    "            torch.set_default_dtype(torch.float64)\n",
    "            f1_name = f\"seed_{cur_seed:.0f}-lam_{cur_lam*1000:.0f}-N_{cur_N:.0f}_fit.pkl\"\n",
    "            res1 = load_pkl(cur_save_dir/f1_name, verbose=False);\n",
    "            res = edict()\n",
    "            res.est_alp = res1.est_alp\n",
    "            res.cov_mat = get_alp_cov(res1)\n",
    "            res.ci_lens = np.zeros(len(gt_alp)-1)\n",
    "            res.cov_probs = np.zeros(len(gt_alp)-1)\n",
    "            for alp_idx in range(1, res1.data_params.q):\n",
    "                ci = get_ci(res.est_alp, res.cov_mat, alp_idx=alp_idx, qv=qv) \n",
    "                res.cov_probs[alp_idx-1] = np.bitwise_and(ci[0] <= gt_alp[alp_idx], \n",
    "                                                          ci[1] >= gt_alp[alp_idx]).mean()\n",
    "                res.ci_lens[alp_idx-1]= np.diff(ci)\n",
    "            \n",
    "            res.err = np.linalg.norm(res.est_alp[1:]-gt_alp[1:])\n",
    "            return res \n",
    "        with Parallel(n_jobs=10) as parallel:\n",
    "            ress = parallel(delayed(_run_fn_test)(cur_seed) for cur_seed in tqdm(range(num_rep), desc=f\"n: {n}\", \n",
    "                                                                                 total=num_rep))\n",
    "        ress_dict[n] = ress\n",
    "        \n",
    "    err_infos = []\n",
    "    cov_prob_infos = []\n",
    "    for n in ns:\n",
    "        ress = ress_dict[n]\n",
    "        errs = np.array([res.err for res in ress])\n",
    "        err_cilim = qv*errs.std()/np.sqrt(len(errs))\n",
    "        err_info = [errs.mean(), \n",
    "                     errs.mean()-err_cilim, \n",
    "                     errs.mean()+err_cilim]\n",
    "        \n",
    "        cov_prob = np.array([res.cov_probs for res in ress])\n",
    "        cov_prob_mean = cov_prob.mean(axis=0);\n",
    "        cov_prob_cilim = 1.96 * cov_prob.std(axis=0)/np.sqrt(len(ress))\n",
    "        cov_prob_info = np.array([\n",
    "            cov_prob_mean, \n",
    "            cov_prob_mean-cov_prob_cilim,\n",
    "            cov_prob_mean+cov_prob_cilim,\n",
    "        ])\n",
    "        \n",
    "        err_infos.append(err_info)\n",
    "        cov_prob_infos.append(cov_prob_info)\n",
    "    \n",
    "    err_infos = np.array(err_infos)\n",
    "    cov_prob_infos = np.array(cov_prob_infos);\n",
    "    \n",
    "    return err_infos, cov_prob_infos"
   ]
  },
  {
   "cell_type": "code",
   "execution_count": 15,
   "id": "2ee36e94-1f53-4940-ba65-c3f220786869",
   "metadata": {
    "execution": {
     "iopub.execute_input": "2024-03-03T00:13:27.146808Z",
     "iopub.status.busy": "2024-03-03T00:13:27.146223Z",
     "iopub.status.idle": "2024-03-03T00:13:49.553734Z",
     "shell.execute_reply": "2024-03-03T00:13:49.553202Z",
     "shell.execute_reply.started": "2024-03-03T00:13:27.146763Z"
    },
    "scrolled": true,
    "tags": []
   },
   "outputs": [
    {
     "name": "stdout",
     "output_type": "stream",
     "text": [
      "Load file /data/rajlab1/user_data/jin/MyResearch/HDF_infer/notebooks/alp_conv/../../mypkg/../results/simu_alpconv_n100/all-valsel-metrics.pkl\n",
      "Load file /data/rajlab1/user_data/jin/MyResearch/HDF_infer/notebooks/alp_conv/../../mypkg/../results/simu_alpconv_n100/all-valsel-metrics.pkl\n"
     ]
    },
    {
     "name": "stderr",
     "output_type": "stream",
     "text": [
      "\n",
      "n: 100: 100%|██████████████████████████████████████████████████████████████████████████████████████████████████████████████████████████████| 200/200 [00:00<00:00, 9628.35it/s]\u001b[A\n"
     ]
    },
    {
     "name": "stdout",
     "output_type": "stream",
     "text": [
      "100 12.0 1.4\n",
      "Load file /data/rajlab1/user_data/jin/MyResearch/HDF_infer/notebooks/alp_conv/../../mypkg/../results/simu_alpconv_n200/all-valsel-metrics.pkl\n"
     ]
    },
    {
     "name": "stderr",
     "output_type": "stream",
     "text": [
      "\n",
      "n: 200: 100%|██████████████████████████████████████████████████████████████████████████████████████████████████████████████████████████████| 200/200 [00:00<00:00, 9904.72it/s]\u001b[A\n"
     ]
    },
    {
     "name": "stdout",
     "output_type": "stream",
     "text": [
      "200 12.0 1.0\n",
      "Load file /data/rajlab1/user_data/jin/MyResearch/HDF_infer/notebooks/alp_conv/../../mypkg/../results/simu_alpconv_n400/all-valsel-metrics.pkl\n"
     ]
    },
    {
     "name": "stderr",
     "output_type": "stream",
     "text": [
      "\n",
      "n: 400: 100%|██████████████████████████████████████████████████████████████████████████████████████████████████████████████████████████████| 200/200 [00:00<00:00, 9637.20it/s]\u001b[A\n"
     ]
    },
    {
     "name": "stdout",
     "output_type": "stream",
     "text": [
      "400 10.0 0.6\n",
      "Load file /data/rajlab1/user_data/jin/MyResearch/HDF_infer/notebooks/alp_conv/../../mypkg/../results/simu_alpconv_n800/all-valsel-metrics.pkl\n"
     ]
    },
    {
     "name": "stderr",
     "output_type": "stream",
     "text": [
      "\n",
      "n: 800: 100%|██████████████████████████████████████████████████████████████████████████████████████████████████████████████████████████████| 200/200 [00:00<00:00, 9403.32it/s]\u001b[A\n"
     ]
    },
    {
     "name": "stdout",
     "output_type": "stream",
     "text": [
      "800 10.0 0.5\n",
      "Load file /data/rajlab1/user_data/jin/MyResearch/HDF_infer/notebooks/alp_conv/../../mypkg/../results/simu_alpconv_n1600/all-valsel-metrics.pkl\n"
     ]
    },
    {
     "name": "stderr",
     "output_type": "stream",
     "text": [
      "\n",
      "n: 1600: 100%|█████████████████████████████████████████████████████████████████████████████████████████████████████████████████████████████| 200/200 [00:00<00:00, 9223.72it/s]\u001b[A\n"
     ]
    },
    {
     "name": "stdout",
     "output_type": "stream",
     "text": [
      "1600 10.0 0.4\n",
      "Load file /data/rajlab1/user_data/jin/MyResearch/HDF_infer/notebooks/alp_conv/../../mypkg/../results/simu_alpconv_n3200/all-valsel-metrics.pkl\n"
     ]
    },
    {
     "name": "stderr",
     "output_type": "stream",
     "text": [
      "\n",
      "n: 3200: 100%|█████████████████████████████████████████████████████████████████████████████████████████████████████████████████████████████| 200/200 [00:00<00:00, 9185.34it/s]\u001b[A\n"
     ]
    },
    {
     "name": "stdout",
     "output_type": "stream",
     "text": [
      "3200 10.0 0.3\n"
     ]
    },
    {
     "name": "stderr",
     "output_type": "stream",
     "text": [
      "\n",
      "n: 100:   0%|                                                                                                                                         | 0/1000 [00:00<?, ?it/s]\u001b[A\n",
      "n: 100:   1%|█▎                                                                                                                              | 10/1000 [00:00<00:49, 20.19it/s]\u001b[A\n",
      "n: 100:   2%|██▌                                                                                                                             | 20/1000 [00:02<02:21,  6.91it/s]\u001b[A\n",
      "n: 100:   3%|███▊                                                                                                                            | 30/1000 [00:02<01:21, 11.95it/s]\u001b[A\n",
      "n: 100:   5%|██████▍                                                                                                                         | 50/1000 [00:02<00:37, 25.46it/s]\u001b[A\n",
      "n: 100:   7%|████████▉                                                                                                                       | 70/1000 [00:02<00:23, 39.84it/s]\u001b[A\n",
      "n: 100:  12%|███████████████▏                                                                                                               | 120/1000 [00:03<00:10, 85.38it/s]\u001b[A\n",
      "n: 100:  16%|████████████████████▏                                                                                                         | 160/1000 [00:03<00:06, 126.05it/s]\u001b[A\n",
      "n: 100:  28%|███████████████████████████████████▎                                                                                          | 280/1000 [00:03<00:02, 261.87it/s]\u001b[A\n",
      "n: 100:  52%|█████████████████████████████████████████████████████████████████▌                                                            | 520/1000 [00:03<00:00, 492.65it/s]\u001b[A\n",
      "n: 100:  68%|█████████████████████████████████████████████████████████████████████████████████████▋                                        | 680/1000 [00:04<00:00, 485.74it/s]\u001b[A\n",
      "n: 100:  84%|█████████████████████████████████████████████████████████████████████████████████████████████████████████▊                    | 840/1000 [00:04<00:00, 484.92it/s]\u001b[A\n",
      "n: 100: 100%|█████████████████████████████████████████████████████████████████████████████████████████████████████████████████████████████| 1000/1000 [00:04<00:00, 213.73it/s]\u001b[A\n",
      "\n",
      "n: 200:   0%|                                                                                                                                         | 0/1000 [00:00<?, ?it/s]\u001b[A\n",
      "n: 200:   4%|█████                                                                                                                          | 40/1000 [00:00<00:03, 271.14it/s]\u001b[A\n",
      "n: 200:  10%|████████████▌                                                                                                                 | 100/1000 [00:00<00:02, 337.54it/s]\u001b[A\n",
      "n: 200:  22%|███████████████████████████▋                                                                                                  | 220/1000 [00:00<00:01, 515.01it/s]\u001b[A\n",
      "n: 200:  30%|█████████████████████████████████████▊                                                                                        | 300/1000 [00:00<00:01, 529.90it/s]\u001b[A\n",
      "n: 200:  38%|███████████████████████████████████████████████▉                                                                              | 380/1000 [00:00<00:01, 501.47it/s]\u001b[A\n",
      "n: 200:  46%|█████████████████████████████████████████████████████████▉                                                                    | 460/1000 [00:00<00:01, 512.79it/s]\u001b[A\n",
      "n: 200:  54%|████████████████████████████████████████████████████████████████████                                                          | 540/1000 [00:01<00:00, 516.45it/s]\u001b[A\n",
      "n: 200:  62%|██████████████████████████████████████████████████████████████████████████████                                                | 620/1000 [00:01<00:00, 510.18it/s]\u001b[A\n",
      "n: 200:  70%|████████████████████████████████████████████████████████████████████████████████████████▏                                     | 700/1000 [00:01<00:00, 507.96it/s]\u001b[A\n",
      "n: 200:  78%|██████████████████████████████████████████████████████████████████████████████████████████████████▎                           | 780/1000 [00:01<00:00, 513.77it/s]\u001b[A\n",
      "n: 200:  86%|████████████████████████████████████████████████████████████████████████████████████████████████████████████▎                 | 860/1000 [00:01<00:00, 495.80it/s]\u001b[A\n",
      "n: 200: 100%|█████████████████████████████████████████████████████████████████████████████████████████████████████████████████████████████| 1000/1000 [00:01<00:00, 526.82it/s]\u001b[A\n",
      "\n",
      "n: 400:   0%|                                                                                                                                         | 0/1000 [00:00<?, ?it/s]\u001b[A\n",
      "n: 400:   4%|█████                                                                                                                          | 40/1000 [00:00<00:03, 269.66it/s]\u001b[A\n",
      "n: 400:  10%|████████████▌                                                                                                                 | 100/1000 [00:00<00:02, 326.08it/s]\u001b[A\n",
      "n: 400:  22%|███████████████████████████▋                                                                                                  | 220/1000 [00:00<00:01, 505.19it/s]\u001b[A\n",
      "n: 400:  30%|█████████████████████████████████████▊                                                                                        | 300/1000 [00:00<00:01, 486.01it/s]\u001b[A\n",
      "n: 400:  38%|███████████████████████████████████████████████▉                                                                              | 380/1000 [00:00<00:01, 454.26it/s]\u001b[A\n",
      "n: 400:  46%|█████████████████████████████████████████████████████████▉                                                                    | 460/1000 [00:01<00:01, 473.92it/s]\u001b[A\n",
      "n: 400:  54%|████████████████████████████████████████████████████████████████████                                                          | 540/1000 [00:01<00:01, 244.10it/s]\u001b[A\n",
      "n: 400:  62%|██████████████████████████████████████████████████████████████████████████████                                                | 620/1000 [00:02<00:01, 215.32it/s]\u001b[A\n",
      "n: 400:  70%|████████████████████████████████████████████████████████████████████████████████████████▏                                     | 700/1000 [00:02<00:01, 255.66it/s]\u001b[A\n",
      "n: 400:  78%|██████████████████████████████████████████████████████████████████████████████████████████████████▎                           | 780/1000 [00:02<00:00, 288.87it/s]\u001b[A\n",
      "n: 400:  86%|████████████████████████████████████████████████████████████████████████████████████████████████████████████▎                 | 860/1000 [00:02<00:00, 323.17it/s]\u001b[A\n",
      "n: 400: 100%|█████████████████████████████████████████████████████████████████████████████████████████████████████████████████████████████| 1000/1000 [00:02<00:00, 346.07it/s]\u001b[A\n",
      "\n",
      "n: 800:   0%|                                                                                                                                         | 0/1000 [00:00<?, ?it/s]\u001b[A\n",
      "n: 800:   4%|█████                                                                                                                          | 40/1000 [00:00<00:02, 356.57it/s]\u001b[A\n",
      "n: 800:  10%|████████████▌                                                                                                                 | 100/1000 [00:00<00:02, 405.11it/s]\u001b[A\n",
      "n: 800:  14%|█████████████████▊                                                                                                            | 141/1000 [00:00<00:02, 403.56it/s]\u001b[A\n",
      "n: 800:  30%|█████████████████████████████████████▊                                                                                        | 300/1000 [00:00<00:01, 530.77it/s]\u001b[A\n",
      "n: 800:  38%|███████████████████████████████████████████████▉                                                                              | 380/1000 [00:00<00:01, 504.55it/s]\u001b[A\n",
      "n: 800:  46%|█████████████████████████████████████████████████████████▉                                                                    | 460/1000 [00:00<00:01, 485.78it/s]\u001b[A\n",
      "n: 800:  54%|████████████████████████████████████████████████████████████████████                                                          | 540/1000 [00:01<00:00, 471.52it/s]\u001b[A\n",
      "n: 800:  62%|██████████████████████████████████████████████████████████████████████████████                                                | 620/1000 [00:01<00:00, 461.32it/s]\u001b[A\n",
      "n: 800:  70%|████████████████████████████████████████████████████████████████████████████████████████▏                                     | 700/1000 [00:01<00:00, 454.44it/s]\u001b[A\n",
      "n: 800:  78%|██████████████████████████████████████████████████████████████████████████████████████████████████▎                           | 780/1000 [00:01<00:00, 451.52it/s]\u001b[A\n",
      "n: 800:  86%|████████████████████████████████████████████████████████████████████████████████████████████████████████████▎                 | 860/1000 [00:01<00:00, 447.85it/s]\u001b[A\n",
      "n: 800: 100%|█████████████████████████████████████████████████████████████████████████████████████████████████████████████████████████████| 1000/1000 [00:02<00:00, 484.92it/s]\u001b[A\n",
      "\n",
      "n: 1600:   0%|                                                                                                                                        | 0/1000 [00:00<?, ?it/s]\u001b[A\n",
      "n: 1600:   6%|███████▌                                                                                                                      | 60/1000 [00:00<00:02, 336.38it/s]\u001b[A\n",
      "n: 1600:  14%|█████████████████▌                                                                                                           | 140/1000 [00:00<00:01, 486.86it/s]\u001b[A\n",
      "n: 1600:  19%|████████████████████████                                                                                                     | 192/1000 [00:00<00:01, 498.79it/s]\u001b[A\n",
      "n: 1600:  26%|████████████████████████████████▌                                                                                            | 260/1000 [00:00<00:01, 546.65it/s]\u001b[A\n",
      "n: 1600:  34%|██████████████████████████████████████████▌                                                                                  | 340/1000 [00:00<00:01, 589.08it/s]\u001b[A\n",
      "n: 1600:  42%|████████████████████████████████████████████████████▌                                                                        | 420/1000 [00:00<00:00, 637.88it/s]\u001b[A\n",
      "n: 1600:  50%|██████████████████████████████████████████████████████████████▌                                                              | 500/1000 [00:00<00:00, 524.61it/s]\u001b[A\n",
      "n: 1600:  58%|████████████████████████████████████████████████████████████████████████▌                                                    | 580/1000 [00:01<00:00, 487.06it/s]\u001b[A\n",
      "n: 1600:  66%|██████████████████████████████████████████████████████████████████████████████████▌                                          | 660/1000 [00:01<00:00, 465.72it/s]\u001b[A\n",
      "n: 1600:  74%|████████████████████████████████████████████████████████████████████████████████████████████▌                                | 740/1000 [00:01<00:00, 453.65it/s]\u001b[A\n",
      "n: 1600:  82%|██████████████████████████████████████████████████████████████████████████████████████████████████████▌                      | 820/1000 [00:01<00:00, 433.90it/s]\u001b[A\n",
      "n: 1600:  90%|████████████████████████████████████████████████████████████████████████████████████████████████████████████████▌            | 900/1000 [00:01<00:00, 429.50it/s]\u001b[A\n",
      "n: 1600: 100%|████████████████████████████████████████████████████████████████████████████████████████████████████████████████████████████| 1000/1000 [00:02<00:00, 479.33it/s]\u001b[A\n",
      "\n",
      "n: 3200:   0%|                                                                                                                                        | 0/1000 [00:00<?, ?it/s]\u001b[A\n",
      "n: 3200:   4%|█████                                                                                                                         | 40/1000 [00:00<00:03, 294.72it/s]\u001b[A\n",
      "n: 3200:  10%|████████████▌                                                                                                                | 100/1000 [00:00<00:02, 434.88it/s]\u001b[A\n",
      "n: 3200:  22%|███████████████████████████▌                                                                                                 | 220/1000 [00:00<00:01, 561.71it/s]\u001b[A\n",
      "n: 3200:  30%|█████████████████████████████████████▌                                                                                       | 300/1000 [00:00<00:01, 601.22it/s]\u001b[A\n",
      "n: 3200:  38%|███████████████████████████████████████████████▌                                                                             | 380/1000 [00:00<00:01, 530.07it/s]\u001b[A\n",
      "n: 3200:  46%|█████████████████████████████████████████████████████████▌                                                                   | 460/1000 [00:00<00:01, 477.21it/s]\u001b[A\n",
      "n: 3200:  54%|███████████████████████████████████████████████████████████████████▌                                                         | 540/1000 [00:01<00:01, 449.05it/s]\u001b[A\n",
      "n: 3200:  62%|█████████████████████████████████████████████████████████████████████████████▌                                               | 620/1000 [00:01<00:00, 436.61it/s]\u001b[A\n",
      "n: 3200:  70%|███████████████████████████████████████████████████████████████████████████████████████▌                                     | 700/1000 [00:01<00:00, 436.28it/s]\u001b[A\n",
      "n: 3200:  78%|█████████████████████████████████████████████████████████████████████████████████████████████████▌                           | 780/1000 [00:01<00:00, 431.45it/s]\u001b[A\n",
      "n: 3200:  86%|███████████████████████████████████████████████████████████████████████████████████████████████████████████▌                 | 860/1000 [00:01<00:00, 427.69it/s]\u001b[A\n",
      "n: 3200: 100%|████████████████████████████████████████████████████████████████████████████████████████████████████████████████████████████| 1000/1000 [00:02<00:00, 480.90it/s]\u001b[A\n"
     ]
    },
    {
     "data": {
      "text/plain": [
       "(array([[0.23052092, 0.22211884, 0.238923  ],\n",
       "        [0.14571077, 0.14039552, 0.15102603],\n",
       "        [0.1003629 , 0.09679132, 0.10393449],\n",
       "        [0.07089487, 0.06812466, 0.07366508],\n",
       "        [0.04898598, 0.04720506, 0.0507669 ],\n",
       "        [0.03435431, 0.03315956, 0.03554907]]),\n",
       " array([[[0.977     , 0.941     ],\n",
       "         [0.9677089 , 0.92639583],\n",
       "         [0.9862911 , 0.95560417]],\n",
       " \n",
       "        [[0.98      , 0.982     ],\n",
       "         [0.97132271, 0.9737596 ],\n",
       "         [0.98867729, 0.9902404 ]],\n",
       " \n",
       "        [[0.962     , 0.963     ],\n",
       "         [0.95014953, 0.95130043],\n",
       "         [0.97385047, 0.97469957]],\n",
       " \n",
       "        [[0.951     , 0.941     ],\n",
       "         [0.93762036, 0.92639583],\n",
       "         [0.96437964, 0.95560417]],\n",
       " \n",
       "        [[0.955     , 0.941     ],\n",
       "         [0.94215116, 0.92639583],\n",
       "         [0.96784884, 0.95560417]],\n",
       " \n",
       "        [[0.946     , 0.952     ],\n",
       "         [0.93199128, 0.93875063],\n",
       "         [0.96000872, 0.96524937]]]))"
      ]
     },
     "execution_count": 15,
     "metadata": {},
     "output_type": "execute_result"
    }
   ],
   "source": [
    "res_linear = _get_res(is_logi=False);"
   ]
  },
  {
   "cell_type": "code",
   "execution_count": 17,
   "id": "3b742dfe-8eeb-40a0-85e5-58431f99638a",
   "metadata": {
    "execution": {
     "iopub.execute_input": "2024-03-03T00:15:03.548636Z",
     "iopub.status.busy": "2024-03-03T00:15:03.547990Z",
     "iopub.status.idle": "2024-03-03T00:15:18.989641Z",
     "shell.execute_reply": "2024-03-03T00:15:18.988536Z",
     "shell.execute_reply.started": "2024-03-03T00:15:03.548588Z"
    },
    "scrolled": true,
    "tags": []
   },
   "outputs": [
    {
     "name": "stdout",
     "output_type": "stream",
     "text": [
      "Load file /data/rajlab1/user_data/jin/MyResearch/HDF_infer/notebooks/alp_conv/../../mypkg/../results/simu_logi_alpconv_n100/all-valsel-metrics.pkl\n",
      "Load file /data/rajlab1/user_data/jin/MyResearch/HDF_infer/notebooks/alp_conv/../../mypkg/../results/simu_logi_alpconv_n100/all-valsel-metrics.pkl\n"
     ]
    },
    {
     "name": "stderr",
     "output_type": "stream",
     "text": [
      "\n",
      "n: 100: 100%|█████████████████████████████████████████████████████████████████████████████████████████████████████████████████████████████| 200/200 [00:00<00:00, 19405.95it/s]\u001b[A\n"
     ]
    },
    {
     "name": "stdout",
     "output_type": "stream",
     "text": [
      "100 6.0 0.3\n",
      "Load file /data/rajlab1/user_data/jin/MyResearch/HDF_infer/notebooks/alp_conv/../../mypkg/../results/simu_logi_alpconv_n200/all-valsel-metrics.pkl\n"
     ]
    },
    {
     "name": "stderr",
     "output_type": "stream",
     "text": [
      "\n",
      "n: 200: 100%|█████████████████████████████████████████████████████████████████████████████████████████████████████████████████████████████| 200/200 [00:00<00:00, 19295.25it/s]\u001b[A\n"
     ]
    },
    {
     "name": "stdout",
     "output_type": "stream",
     "text": [
      "200 6.0 0.2\n",
      "Load file /data/rajlab1/user_data/jin/MyResearch/HDF_infer/notebooks/alp_conv/../../mypkg/../results/simu_logi_alpconv_n400/all-valsel-metrics.pkl\n"
     ]
    },
    {
     "name": "stderr",
     "output_type": "stream",
     "text": [
      "\n",
      "n: 400: 100%|█████████████████████████████████████████████████████████████████████████████████████████████████████████████████████████████| 200/200 [00:00<00:00, 18343.77it/s]\u001b[A\n"
     ]
    },
    {
     "name": "stdout",
     "output_type": "stream",
     "text": [
      "400 8.0 0.2\n",
      "Load file /data/rajlab1/user_data/jin/MyResearch/HDF_infer/notebooks/alp_conv/../../mypkg/../results/simu_logi_alpconv_n800/all-valsel-metrics.pkl\n"
     ]
    },
    {
     "name": "stderr",
     "output_type": "stream",
     "text": [
      "\n",
      "n: 800: 100%|█████████████████████████████████████████████████████████████████████████████████████████████████████████████████████████████| 200/200 [00:00<00:00, 18176.83it/s]\u001b[A\n"
     ]
    },
    {
     "name": "stdout",
     "output_type": "stream",
     "text": [
      "800 8.0 0.2\n",
      "Load file /data/rajlab1/user_data/jin/MyResearch/HDF_infer/notebooks/alp_conv/../../mypkg/../results/simu_logi_alpconv_n1600/all-valsel-metrics.pkl\n"
     ]
    },
    {
     "name": "stderr",
     "output_type": "stream",
     "text": [
      "\n",
      "n: 1600: 100%|████████████████████████████████████████████████████████████████████████████████████████████████████████████████████████████| 200/200 [00:00<00:00, 17461.72it/s]\u001b[A\n"
     ]
    },
    {
     "name": "stdout",
     "output_type": "stream",
     "text": [
      "1600 8.0 0.2\n",
      "Load file /data/rajlab1/user_data/jin/MyResearch/HDF_infer/notebooks/alp_conv/../../mypkg/../results/simu_logi_alpconv_n3200/all-valsel-metrics.pkl\n"
     ]
    },
    {
     "name": "stderr",
     "output_type": "stream",
     "text": [
      "\n",
      "n: 3200: 100%|████████████████████████████████████████████████████████████████████████████████████████████████████████████████████████████| 200/200 [00:00<00:00, 17542.78it/s]\u001b[A\n"
     ]
    },
    {
     "name": "stdout",
     "output_type": "stream",
     "text": [
      "3200 10.0 0.2\n"
     ]
    },
    {
     "name": "stderr",
     "output_type": "stream",
     "text": [
      "\n",
      "n: 100:   0%|                                                                                                                                         | 0/1000 [00:00<?, ?it/s]\u001b[A\n",
      "n: 100:   4%|█████                                                                                                                          | 40/1000 [00:00<00:03, 278.49it/s]\u001b[A\n",
      "n: 100:  10%|████████████▌                                                                                                                 | 100/1000 [00:00<00:02, 344.11it/s]\u001b[A\n",
      "n: 100:  22%|███████████████████████████▋                                                                                                  | 220/1000 [00:00<00:01, 500.92it/s]\u001b[A\n",
      "n: 100:  46%|█████████████████████████████████████████████████████████▉                                                                    | 460/1000 [00:00<00:00, 696.33it/s]\u001b[A\n",
      "n: 100:  62%|██████████████████████████████████████████████████████████████████████████████                                                | 620/1000 [00:01<00:00, 619.79it/s]\u001b[A\n",
      "n: 100:  78%|██████████████████████████████████████████████████████████████████████████████████████████████████▎                           | 780/1000 [00:01<00:00, 566.12it/s]\u001b[A\n",
      "n: 100: 100%|█████████████████████████████████████████████████████████████████████████████████████████████████████████████████████████████| 1000/1000 [00:01<00:00, 583.70it/s]\u001b[A\n",
      "\n",
      "n: 200:   0%|                                                                                                                                         | 0/1000 [00:00<?, ?it/s]\u001b[A\n",
      "n: 200:   4%|█████                                                                                                                          | 40/1000 [00:00<00:03, 303.91it/s]\u001b[A\n",
      "n: 200:  14%|█████████████████▋                                                                                                            | 140/1000 [00:00<00:01, 542.21it/s]\u001b[A\n",
      "n: 200:  30%|█████████████████████████████████████▊                                                                                        | 300/1000 [00:00<00:01, 611.80it/s]\u001b[A\n",
      "n: 200:  38%|███████████████████████████████████████████████▉                                                                              | 380/1000 [00:00<00:01, 606.02it/s]\u001b[A\n",
      "n: 200:  46%|█████████████████████████████████████████████████████████▉                                                                    | 460/1000 [00:00<00:00, 568.80it/s]\u001b[A\n",
      "n: 200:  54%|████████████████████████████████████████████████████████████████████                                                          | 540/1000 [00:00<00:00, 539.68it/s]\u001b[A\n",
      "n: 200:  62%|██████████████████████████████████████████████████████████████████████████████                                                | 620/1000 [00:01<00:00, 518.10it/s]\u001b[A\n",
      "n: 200:  70%|████████████████████████████████████████████████████████████████████████████████████████▏                                     | 700/1000 [00:01<00:00, 514.27it/s]\u001b[A\n",
      "n: 200:  78%|██████████████████████████████████████████████████████████████████████████████████████████████████▎                           | 780/1000 [00:01<00:00, 508.30it/s]\u001b[A\n",
      "n: 200:  86%|████████████████████████████████████████████████████████████████████████████████████████████████████████████▎                 | 860/1000 [00:01<00:00, 506.06it/s]\u001b[A\n",
      "n: 200: 100%|█████████████████████████████████████████████████████████████████████████████████████████████████████████████████████████████| 1000/1000 [00:01<00:00, 555.60it/s]\u001b[A\n",
      "\n",
      "n: 400:   0%|                                                                                                                                         | 0/1000 [00:00<?, ?it/s]\u001b[A\n",
      "n: 400:   4%|█████                                                                                                                          | 40/1000 [00:00<00:02, 339.20it/s]\u001b[A\n",
      "n: 400:  10%|████████████▌                                                                                                                 | 100/1000 [00:00<00:01, 480.90it/s]\u001b[A\n",
      "n: 400:  22%|███████████████████████████▋                                                                                                  | 220/1000 [00:00<00:01, 724.26it/s]\u001b[A\n",
      "n: 400:  30%|█████████████████████████████████████▊                                                                                        | 300/1000 [00:00<00:01, 652.37it/s]\u001b[A\n",
      "n: 400:  38%|███████████████████████████████████████████████▉                                                                              | 380/1000 [00:00<00:01, 599.95it/s]\u001b[A\n",
      "n: 400:  46%|█████████████████████████████████████████████████████████▉                                                                    | 460/1000 [00:00<00:00, 563.25it/s]\u001b[A\n",
      "n: 400:  54%|████████████████████████████████████████████████████████████████████                                                          | 540/1000 [00:00<00:00, 551.47it/s]\u001b[A\n",
      "n: 400:  62%|██████████████████████████████████████████████████████████████████████████████                                                | 620/1000 [00:01<00:00, 539.72it/s]\u001b[A\n",
      "n: 400:  70%|████████████████████████████████████████████████████████████████████████████████████████▏                                     | 700/1000 [00:01<00:00, 521.65it/s]\u001b[A\n",
      "n: 400:  78%|██████████████████████████████████████████████████████████████████████████████████████████████████▎                           | 780/1000 [00:01<00:00, 517.22it/s]\u001b[A\n",
      "n: 400:  86%|████████████████████████████████████████████████████████████████████████████████████████████████████████████▎                 | 860/1000 [00:01<00:00, 516.05it/s]\u001b[A\n",
      "n: 400: 100%|█████████████████████████████████████████████████████████████████████████████████████████████████████████████████████████████| 1000/1000 [00:01<00:00, 573.45it/s]\u001b[A\n",
      "\n",
      "n: 800:   0%|                                                                                                                                         | 0/1000 [00:00<?, ?it/s]\u001b[A\n",
      "n: 800:   4%|█████                                                                                                                          | 40/1000 [00:00<00:02, 327.35it/s]\u001b[A\n",
      "n: 800:  10%|████████████▌                                                                                                                 | 100/1000 [00:00<00:02, 410.24it/s]\u001b[A\n",
      "n: 800:  22%|███████████████████████████▋                                                                                                  | 220/1000 [00:00<00:01, 626.35it/s]\u001b[A\n",
      "n: 800:  30%|█████████████████████████████████████▊                                                                                        | 300/1000 [00:00<00:01, 672.28it/s]\u001b[A\n",
      "n: 800:  46%|█████████████████████████████████████████████████████████▉                                                                    | 460/1000 [00:00<00:00, 816.03it/s]\u001b[A\n",
      "n: 800:  62%|██████████████████████████████████████████████████████████████████████████████                                                | 620/1000 [00:00<00:00, 626.03it/s]\u001b[A\n",
      "n: 800:  78%|██████████████████████████████████████████████████████████████████████████████████████████████████▎                           | 780/1000 [00:01<00:00, 593.94it/s]\u001b[A\n",
      "n: 800: 100%|█████████████████████████████████████████████████████████████████████████████████████████████████████████████████████████████| 1000/1000 [00:01<00:00, 619.66it/s]\u001b[A\n",
      "\n",
      "n: 1600:   0%|                                                                                                                                        | 0/1000 [00:00<?, ?it/s]\u001b[A\n",
      "n: 1600:   4%|█████                                                                                                                         | 40/1000 [00:00<00:03, 275.84it/s]\u001b[A\n",
      "n: 1600:  10%|████████████▌                                                                                                                | 100/1000 [00:00<00:02, 436.20it/s]\u001b[A\n",
      "n: 1600:  22%|███████████████████████████▌                                                                                                 | 220/1000 [00:00<00:01, 600.73it/s]\u001b[A\n",
      "n: 1600:  30%|█████████████████████████████████████▌                                                                                       | 300/1000 [00:00<00:01, 637.88it/s]\u001b[A\n",
      "n: 1600:  38%|███████████████████████████████████████████████▌                                                                             | 380/1000 [00:00<00:01, 609.85it/s]\u001b[A\n",
      "n: 1600:  46%|█████████████████████████████████████████████████████████▌                                                                   | 460/1000 [00:00<00:00, 584.13it/s]\u001b[A\n",
      "n: 1600:  54%|███████████████████████████████████████████████████████████████████▌                                                         | 540/1000 [00:00<00:00, 544.73it/s]\u001b[A\n",
      "n: 1600:  62%|█████████████████████████████████████████████████████████████████████████████▌                                               | 620/1000 [00:01<00:00, 527.80it/s]\u001b[A\n",
      "n: 1600:  70%|███████████████████████████████████████████████████████████████████████████████████████▌                                     | 700/1000 [00:01<00:00, 511.04it/s]\u001b[A\n",
      "n: 1600:  78%|█████████████████████████████████████████████████████████████████████████████████████████████████▌                           | 780/1000 [00:01<00:00, 505.75it/s]\u001b[A\n",
      "n: 1600:  86%|███████████████████████████████████████████████████████████████████████████████████████████████████████████▌                 | 860/1000 [00:01<00:00, 501.32it/s]\u001b[A\n",
      "n: 1600: 100%|████████████████████████████████████████████████████████████████████████████████████████████████████████████████████████████| 1000/1000 [00:01<00:00, 555.91it/s]\u001b[A\n",
      "\n",
      "n: 3200:   0%|                                                                                                                                        | 0/1000 [00:00<?, ?it/s]\u001b[A\n",
      "n: 3200:   4%|█████                                                                                                                         | 40/1000 [00:00<00:03, 297.43it/s]\u001b[A\n",
      "n: 3200:  10%|████████████▌                                                                                                                | 100/1000 [00:00<00:02, 365.17it/s]\u001b[A\n",
      "n: 3200:  22%|███████████████████████████▌                                                                                                 | 220/1000 [00:00<00:01, 578.36it/s]\u001b[A\n",
      "n: 3200:  30%|█████████████████████████████████████▌                                                                                       | 300/1000 [00:00<00:01, 615.04it/s]\u001b[A\n",
      "n: 3200:  46%|█████████████████████████████████████████████████████████▌                                                                   | 460/1000 [00:00<00:00, 810.66it/s]\u001b[A\n",
      "n: 3200:  62%|█████████████████████████████████████████████████████████████████████████████▌                                               | 620/1000 [00:01<00:00, 631.16it/s]\u001b[A\n",
      "n: 3200:  78%|█████████████████████████████████████████████████████████████████████████████████████████████████▌                           | 780/1000 [00:01<00:00, 595.80it/s]\u001b[A\n",
      "n: 3200: 100%|████████████████████████████████████████████████████████████████████████████████████████████████████████████████████████████| 1000/1000 [00:01<00:00, 610.09it/s]\u001b[A\n"
     ]
    }
   ],
   "source": [
    "res_logi = _get_res(is_logi=True);"
   ]
  },
  {
   "cell_type": "code",
   "execution_count": 41,
   "id": "029d5599-473a-4dd8-a91f-c9e14e0eb98a",
   "metadata": {
    "execution": {
     "iopub.execute_input": "2024-03-03T00:26:05.439598Z",
     "iopub.status.busy": "2024-03-03T00:26:05.438755Z",
     "iopub.status.idle": "2024-03-03T00:26:06.275247Z",
     "shell.execute_reply": "2024-03-03T00:26:06.274794Z",
     "shell.execute_reply.started": "2024-03-03T00:26:05.439548Z"
    },
    "tags": []
   },
   "outputs": [
    {
     "data": {
      "text/plain": [
       "<matplotlib.legend.Legend at 0x7f2318470520>"
      ]
     },
     "execution_count": 41,
     "metadata": {},
     "output_type": "execute_result"
    },
    {
     "data": {
      "image/png": "[encoded data removed]",
      "text/plain": [
       "<Figure size 1440x360 with 3 Axes>"
      ]
     },
     "metadata": {
      "needs_background": "light"
     },
     "output_type": "display_data"
    }
   ],
   "source": [
    "\n",
    "plt.figure(figsize=[20, 5])\n",
    "\n",
    "plt.subplot(131)\n",
    "alp_ix = 0\n",
    "plt.plot(ns, res_linear[1][:, 0, alp_ix], \"*-\",\n",
    "         label=f\"Linear\", \n",
    "         color=cols[0])\n",
    "plt.fill_between(ns, res_linear[1][:, 1, alp_ix], res_linear[1][:, 2, alp_ix], \n",
    "    color=cols[0], alpha=0.5)\n",
    "plt.plot(ns, res_logi[1][:, 0, alp_ix], \"o-\",\n",
    "         label=f\"Logistic\", \n",
    "         color=cols[1])\n",
    "plt.fill_between(ns, res_logi[1][:, 1, alp_ix], res_logi[1][:, 2, alp_ix], \n",
    "    color=cols[1], alpha=0.5)\n",
    "plt.xscale(\"log\")\n",
    "plt.ylabel(\"Empirical coverage prob.\")\n",
    "plt.xlabel(\"Sample size\")\n",
    "plt.title(r\"$\\alpha_1$ (cov. is continuous)\", fontsize=20)\n",
    "plt.axhline(y=norm_ci, ls=\"--\", color=\"black\")\n",
    "plt.legend()\n",
    "\n",
    "plt.subplot(132)\n",
    "alp_ix = 1\n",
    "plt.plot(ns, res_linear[1][:, 0, alp_ix], \"*-\",\n",
    "         label=f\"Linear\", \n",
    "         color=cols[0])\n",
    "plt.fill_between(ns, res_linear[1][:, 1, alp_ix], res_linear[1][:, 2, alp_ix], \n",
    "    color=cols[0], alpha=0.5)\n",
    "plt.plot(ns, res_logi[1][:, 0, alp_ix], \"o-\",\n",
    "         label=f\"Logistic\", \n",
    "         color=cols[1])\n",
    "plt.fill_between(ns, res_logi[1][:, 1, alp_ix], res_logi[1][:, 2, alp_ix], \n",
    "    color=cols[1], alpha=0.5)\n",
    "plt.xscale(\"log\")\n",
    "plt.ylabel(\"Empirical coverage prob.\")\n",
    "plt.xlabel(\"Sample size\")\n",
    "plt.title(r\"$\\alpha_2$ (cov. is binary)\", fontsize=20)\n",
    "plt.axhline(y=norm_ci, ls=\"--\", color=\"black\")\n",
    "plt.legend()\n",
    "\n",
    "plt.subplot(133)\n",
    "plt.plot(ns, res_linear[0][:, 0], \"*-\",\n",
    "         label=f\"Linear\", \n",
    "         color=cols[0])\n",
    "plt.fill_between(ns, res_linear[0][:, 1], res_linear[0][:, 2], \n",
    "                     color=cols[0], alpha=0.5)\n",
    "plt.plot(ns, res_logi[0][:, 0], \"o-\",\n",
    "         label=f\"Logistic\", \n",
    "         color=cols[1])\n",
    "plt.fill_between(ns, res_logi[0][:, 1], res_logi[0][:, 2], \n",
    "                     color=cols[1], alpha=0.5)\n",
    "plt.xlabel(\"Sample size\")\n",
    "plt.ylabel(\"Estimate error (L2 norm)\")\n",
    "plt.xscale(\"log\")\n",
    "plt.legend()"
   ]
  },
  {
   "cell_type": "code",
   "execution_count": null,
   "id": "d2844ed4-7a1a-491b-8507-a0fe6a14e212",
   "metadata": {
    "tags": []
   },
   "outputs": [],
   "source": []
  },
  {
   "cell_type": "code",
   "execution_count": null,
   "id": "543a70f9-8a7b-41f0-ae7d-69cb5c514ed7",
   "metadata": {},
   "outputs": [],
   "source": []
  }
 ],
 "metadata": {
  "kernelspec": {
   "display_name": "Python 3 (ipykernel)",
   "language": "python",
   "name": "python3"
  },
  "language_info": {
   "codemirror_mode": {
    "name": "ipython",
    "version": 3
   },
   "file_extension": ".py",
   "mimetype": "text/x-python",
   "name": "python",
   "nbconvert_exporter": "python",
   "pygments_lexer": "ipython3",
   "version": "3.9.7"
  },
  "toc": {
   "base_numbering": 1,
   "nav_menu": {},
   "number_sections": true,
   "sideBar": true,
   "skip_h1_title": false,
   "title_cell": "Table of Contents",
   "title_sidebar": "Contents",
   "toc_cell": false,
   "toc_position": {
    "height": "calc(100% - 180px)",
    "left": "10px",
    "top": "150px",
    "width": "165px"
   },
   "toc_section_display": true,
   "toc_window_display": true
  },
  "toc-autonumbering": true
 },
 "nbformat": 4,
 "nbformat_minor": 5
}
