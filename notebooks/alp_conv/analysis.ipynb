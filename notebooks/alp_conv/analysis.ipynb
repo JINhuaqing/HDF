{
 "cells": [
  {
   "cell_type": "markdown",
   "id": "942a9fb0-de26-4619-9f8f-1d1ad87c308f",
   "metadata": {},
   "source": [
    "Analysis the results under new code"
   ]
  },
  {
   "cell_type": "code",
   "execution_count": 1,
   "id": "02ae980e",
   "metadata": {
    "ExecuteTime": {
     "end_time": "2023-05-31T19:57:23.490285Z",
     "start_time": "2023-05-31T19:57:23.481769Z"
    },
    "execution": {
     "iopub.execute_input": "2024-02-29T19:18:10.963609Z",
     "iopub.status.busy": "2024-02-29T19:18:10.963099Z",
     "iopub.status.idle": "2024-02-29T19:18:10.973901Z",
     "shell.execute_reply": "2024-02-29T19:18:10.973159Z",
     "shell.execute_reply.started": "2024-02-29T19:18:10.963570Z"
    },
    "tags": []
   },
   "outputs": [],
   "source": [
    "import sys\n",
    "sys.path.append(\"../../mypkg\")"
   ]
  },
  {
   "cell_type": "code",
   "execution_count": 2,
   "id": "b9d3cbc6-1ac5-47d6-a0d1-bcbc0be9267e",
   "metadata": {
    "execution": {
     "iopub.execute_input": "2024-02-29T19:18:10.975177Z",
     "iopub.status.busy": "2024-02-29T19:18:10.974846Z",
     "iopub.status.idle": "2024-02-29T19:18:11.064340Z",
     "shell.execute_reply": "2024-02-29T19:18:11.063271Z",
     "shell.execute_reply.started": "2024-02-29T19:18:10.975148Z"
    },
    "tags": []
   },
   "outputs": [],
   "source": [
    "# This will reload all imports as soon as the code changes\n",
    "%load_ext autoreload\n",
    "%autoreload 2"
   ]
  },
  {
   "cell_type": "code",
   "execution_count": 3,
   "id": "023df78a",
   "metadata": {
    "ExecuteTime": {
     "end_time": "2023-05-31T19:57:34.238839Z",
     "start_time": "2023-05-31T19:57:23.494053Z"
    },
    "execution": {
     "iopub.execute_input": "2024-02-29T19:18:11.065844Z",
     "iopub.status.busy": "2024-02-29T19:18:11.065485Z",
     "iopub.status.idle": "2024-02-29T19:18:15.399241Z",
     "shell.execute_reply": "2024-02-29T19:18:15.398551Z",
     "shell.execute_reply.started": "2024-02-29T19:18:11.065814Z"
    },
    "tags": []
   },
   "outputs": [],
   "source": [
    "import numpy as np\n",
    "import torch\n",
    "import scipy\n",
    "import matplotlib.pyplot as plt\n",
    "import seaborn as sns\n",
    "from scipy.stats import pearsonr\n",
    "from numbers import Number\n",
    "\n",
    "from joblib import Parallel, delayed\n",
    "\n",
    "from easydict import EasyDict as edict\n",
    "from tqdm import trange, tqdm\n",
    "from scipy.io import loadmat\n",
    "from pprint import pprint\n",
    "import itertools\n",
    "from scipy.stats import chi2\n",
    "from IPython.display import display\n",
    "import pandas as pd\n",
    "from collections import defaultdict as ddict\n",
    "\n"
   ]
  },
  {
   "cell_type": "code",
   "execution_count": 4,
   "id": "b0aa91b2",
   "metadata": {
    "ExecuteTime": {
     "end_time": "2023-05-31T19:57:59.558229Z",
     "start_time": "2023-05-31T19:57:34.292612Z"
    },
    "execution": {
     "iopub.execute_input": "2024-02-29T19:18:15.400557Z",
     "iopub.status.busy": "2024-02-29T19:18:15.400141Z",
     "iopub.status.idle": "2024-02-29T19:18:15.433013Z",
     "shell.execute_reply": "2024-02-29T19:18:15.432499Z",
     "shell.execute_reply.started": "2024-02-29T19:18:15.400538Z"
    },
    "tags": []
   },
   "outputs": [],
   "source": [
    "from constants import DATA_ROOT, RES_ROOT, FIG_ROOT, MIDRES_ROOT\n",
    "\n",
    "from utils.misc import save_pkl, load_pkl, get_local_min_idxs\n",
    "from utils import colors\n"
   ]
  },
  {
   "cell_type": "code",
   "execution_count": 5,
   "id": "d29891f5-2fe1-428f-9d0d-4991cd3bfc58",
   "metadata": {
    "execution": {
     "iopub.execute_input": "2024-02-29T19:18:15.434179Z",
     "iopub.status.busy": "2024-02-29T19:18:15.433874Z",
     "iopub.status.idle": "2024-02-29T19:18:16.219965Z",
     "shell.execute_reply": "2024-02-29T19:18:16.218594Z",
     "shell.execute_reply.started": "2024-02-29T19:18:15.434159Z"
    },
    "tags": []
   },
   "outputs": [],
   "source": [
    "import logging\n",
    "from optimization.opt import logger as logger1\n",
    "logger1.handlers[0].setLevel(logging.WARNING)\n",
    "\n",
    "plt.style.use(FIG_ROOT/\"base.mplstyle\")\n",
    "torch.set_default_dtype(torch.float64)"
   ]
  },
  {
   "cell_type": "code",
   "execution_count": null,
   "id": "fe0a4a46",
   "metadata": {
    "ExecuteTime": {
     "end_time": "2023-05-31T19:57:59.621784Z",
     "start_time": "2023-05-31T19:57:59.568097Z"
    },
    "tags": []
   },
   "outputs": [],
   "source": []
  },
  {
   "cell_type": "code",
   "execution_count": null,
   "id": "e0cb5a3d-1ab1-4bc0-bfce-d7ebaedb0391",
   "metadata": {},
   "outputs": [],
   "source": []
  },
  {
   "cell_type": "code",
   "execution_count": null,
   "id": "d0af2f35",
   "metadata": {},
   "outputs": [],
   "source": []
  },
  {
   "cell_type": "code",
   "execution_count": 6,
   "id": "d93eca7c-5b7c-49ee-bec2-979f08f8d602",
   "metadata": {
    "execution": {
     "iopub.execute_input": "2024-02-29T19:18:16.222354Z",
     "iopub.status.busy": "2024-02-29T19:18:16.221685Z",
     "iopub.status.idle": "2024-02-29T19:18:16.255989Z",
     "shell.execute_reply": "2024-02-29T19:18:16.255596Z",
     "shell.execute_reply.started": "2024-02-29T19:18:16.222307Z"
    },
    "tags": []
   },
   "outputs": [],
   "source": [
    "def _get_min_idx(x):\n",
    "    \"\"\"Get the index of the minimal values among the local minimals.\n",
    "       If there are multiple ones, return the largest index\n",
    "       args:\n",
    "           x: a vec\n",
    "        \n",
    "    \"\"\"\n",
    "    x = np.array(x)\n",
    "    lmin_idxs = get_local_min_idxs(x);\n",
    "    if len(lmin_idxs) == 0:\n",
    "        lmin_idxs = np.arange(len(x))\n",
    "    lmin_idxs_inv =  lmin_idxs[::-1]\n",
    "    lmins_inv = x[lmin_idxs_inv];\n",
    "    return  lmin_idxs_inv[np.argmin(lmins_inv)]"
   ]
  },
  {
   "cell_type": "code",
   "execution_count": 7,
   "id": "cab8f86e-8ec9-45c1-a0a4-14f1d1cbea87",
   "metadata": {
    "execution": {
     "iopub.execute_input": "2024-02-29T19:18:16.256771Z",
     "iopub.status.busy": "2024-02-29T19:18:16.256523Z",
     "iopub.status.idle": "2024-02-29T19:18:16.667153Z",
     "shell.execute_reply": "2024-02-29T19:18:16.666689Z",
     "shell.execute_reply.started": "2024-02-29T19:18:16.256754Z"
    },
    "tags": []
   },
   "outputs": [
    {
     "name": "stdout",
     "output_type": "stream",
     "text": [
      "Load file /data/rajlab1/user_data/jin/MyResearch/HDF_infer/notebooks/alp_conv/../../mypkg/../results/simu_alpconv_n100/all-valsel-metrics.pkl\n",
      "[0.6 0.8 1.  1.2 1.4 1.6 2.  4. ]\n"
     ]
    },
    {
     "data": {
      "text/plain": [
       "[100, 200, 400, 800, 1600, 3200]"
      ]
     },
     "execution_count": 7,
     "metadata": {},
     "output_type": "execute_result"
    }
   ],
   "source": [
    "all_res = load_pkl(RES_ROOT/f\"simu_alpconv_n100/all-valsel-metrics.pkl\")\n",
    "all_coms = np.array(list(all_res.keys()))\n",
    "seeds = np.sort(np.unique(all_coms[:, 0]))\n",
    "can_Ns = np.sort(np.unique(all_coms[:, 1]))\n",
    "can_lams = np.sort(np.unique(all_coms[:, 2]));\n",
    "print(can_lams)\n",
    "ns = [100, 200, 400, 800, 1600, 3200]"
   ]
  },
  {
   "cell_type": "code",
   "execution_count": 8,
   "id": "f42b07c9-9c04-4acc-8fda-3e5b622a3bba",
   "metadata": {
    "execution": {
     "iopub.execute_input": "2024-02-29T19:18:16.668098Z",
     "iopub.status.busy": "2024-02-29T19:18:16.667769Z",
     "iopub.status.idle": "2024-02-29T19:18:16.698658Z",
     "shell.execute_reply": "2024-02-29T19:18:16.698281Z",
     "shell.execute_reply.started": "2024-02-29T19:18:16.668080Z"
    },
    "tags": []
   },
   "outputs": [
    {
     "data": {
      "text/plain": [
       "1.959963984540054"
      ]
     },
     "execution_count": 8,
     "metadata": {},
     "output_type": "execute_result"
    }
   ],
   "source": [
    "cols = colors.div_cmap(2)\n",
    "norm_ci = 0.95\n",
    "qv = np.abs(scipy.stats.norm.ppf((1-norm_ci)/2))"
   ]
  },
  {
   "cell_type": "code",
   "execution_count": 13,
   "id": "a29e214d-233e-413d-97ab-1c0339aadf20",
   "metadata": {
    "execution": {
     "iopub.execute_input": "2024-02-29T19:26:14.200237Z",
     "iopub.status.busy": "2024-02-29T19:26:14.199564Z",
     "iopub.status.idle": "2024-02-29T19:26:14.329423Z",
     "shell.execute_reply": "2024-02-29T19:26:14.328194Z",
     "shell.execute_reply.started": "2024-02-29T19:26:14.200186Z"
    },
    "tags": []
   },
   "outputs": [],
   "source": [
    "def get_ci(est_alp, cov_mat, alp_idx, qv=1.96):\n",
    "    ci_lim = qv*cov_mat[alp_idx, alp_idx].sqrt().item()\n",
    "    ci = [est_alp[alp_idx].item()-ci_lim,  est_alp[alp_idx].item()+ci_lim]\n",
    "    return ci\n",
    "def get_alp_cov(hdf_fit):\n",
    "    Q_mat = hdf_fit.hypo_utils.Q_mat_part\n",
    "    Q_mat_inv = torch.linalg.pinv(Q_mat, hermitian=True, rtol=1e-7)\n",
    "    Sig_mat = hdf_fit.hypo_utils.Sig_mat_part\n",
    "    #Q_mat = hdf_fit.hypo_utils.Q_mat_part[:hdf_fit.data_params.q,:hdf_fit.data_params.q]\n",
    "    #Q_mat_inv = torch.linalg.pinv(Q_mat, hermitian=True, rtol=1e-7)\n",
    "    #Sig_mat = hdf_fit.hypo_utils.Sig_mat_part[:hdf_fit.data_params.q,:hdf_fit.data_params.q];\n",
    "    Cov_mat = Q_mat_inv @ Sig_mat @  Q_mat_inv / hdf_fit.data_params.n\n",
    "    return Cov_mat[:hdf_fit.data_params.q,:hdf_fit.data_params.q];"
   ]
  },
  {
   "cell_type": "code",
   "execution_count": 14,
   "id": "dfd6d7e4-4870-453b-a7e9-f342802ede3b",
   "metadata": {
    "execution": {
     "iopub.execute_input": "2024-02-29T19:26:18.850678Z",
     "iopub.status.busy": "2024-02-29T19:26:18.850046Z",
     "iopub.status.idle": "2024-02-29T19:26:27.101833Z",
     "shell.execute_reply": "2024-02-29T19:26:27.100510Z",
     "shell.execute_reply.started": "2024-02-29T19:26:18.850628Z"
    },
    "scrolled": true,
    "tags": []
   },
   "outputs": [
    {
     "name": "stdout",
     "output_type": "stream",
     "text": [
      "Load file /data/rajlab1/user_data/jin/MyResearch/HDF_infer/notebooks/alp_conv/../../mypkg/../results/simu_alpconv_n100/all-valsel-metrics.pkl\n"
     ]
    },
    {
     "name": "stderr",
     "output_type": "stream",
     "text": [
      "n: 100: 100%|███████████████████████████████████████████████████████████████| 200/200 [00:00<00:00, 17008.19it/s]"
     ]
    },
    {
     "name": "stdout",
     "output_type": "stream",
     "text": [
      "100 12.0 1.4\n",
      "Load file /data/rajlab1/user_data/jin/MyResearch/HDF_infer/notebooks/alp_conv/../../mypkg/../results/simu_alpconv_n200/all-valsel-metrics.pkl\n"
     ]
    },
    {
     "name": "stderr",
     "output_type": "stream",
     "text": [
      "\n",
      "n: 200: 100%|███████████████████████████████████████████████████████████████| 200/200 [00:00<00:00, 16247.86it/s]\n"
     ]
    },
    {
     "name": "stdout",
     "output_type": "stream",
     "text": [
      "200 12.0 1.0\n",
      "Load file /data/rajlab1/user_data/jin/MyResearch/HDF_infer/notebooks/alp_conv/../../mypkg/../results/simu_alpconv_n400/all-valsel-metrics.pkl\n"
     ]
    },
    {
     "name": "stderr",
     "output_type": "stream",
     "text": [
      "n: 400: 100%|███████████████████████████████████████████████████████████████| 200/200 [00:00<00:00, 16169.56it/s]\n"
     ]
    },
    {
     "name": "stdout",
     "output_type": "stream",
     "text": [
      "400 10.0 0.6\n",
      "Load file /data/rajlab1/user_data/jin/MyResearch/HDF_infer/notebooks/alp_conv/../../mypkg/../results/simu_alpconv_n800/all-valsel-metrics.pkl\n"
     ]
    },
    {
     "name": "stderr",
     "output_type": "stream",
     "text": [
      "n: 800: 100%|███████████████████████████████████████████████████████████████| 200/200 [00:00<00:00, 15828.16it/s]\n"
     ]
    },
    {
     "name": "stdout",
     "output_type": "stream",
     "text": [
      "800 12.0 0.6\n",
      "Load file /data/rajlab1/user_data/jin/MyResearch/HDF_infer/notebooks/alp_conv/../../mypkg/../results/simu_alpconv_n1600/all-valsel-metrics.pkl\n"
     ]
    },
    {
     "name": "stderr",
     "output_type": "stream",
     "text": [
      "n: 1600: 100%|██████████████████████████████████████████████████████████████| 200/200 [00:00<00:00, 15355.88it/s]\n"
     ]
    },
    {
     "name": "stdout",
     "output_type": "stream",
     "text": [
      "1600 14.0 0.6\n",
      "Load file /data/rajlab1/user_data/jin/MyResearch/HDF_infer/notebooks/alp_conv/../../mypkg/../results/simu_alpconv_n3200/all-valsel-metrics.pkl\n"
     ]
    },
    {
     "name": "stderr",
     "output_type": "stream",
     "text": [
      "n: 3200: 100%|██████████████████████████████████████████████████████████████| 200/200 [00:00<00:00, 15323.62it/s]\n"
     ]
    },
    {
     "name": "stdout",
     "output_type": "stream",
     "text": [
      "3200 14.0 0.6\n"
     ]
    },
    {
     "name": "stderr",
     "output_type": "stream",
     "text": [
      "n: 100: 100%|██████████████████████████████████████████████████████████████████| 200/200 [00:03<00:00, 66.04it/s]\n",
      "n: 200: 100%|█████████████████████████████████████████████████████████████████| 200/200 [00:00<00:00, 510.93it/s]\n",
      "n: 400: 100%|█████████████████████████████████████████████████████████████████| 200/200 [00:00<00:00, 572.10it/s]\n",
      "n: 800: 100%|█████████████████████████████████████████████████████████████████| 200/200 [00:00<00:00, 706.94it/s]\n",
      "n: 1600: 100%|████████████████████████████████████████████████████████████████| 200/200 [00:00<00:00, 636.22it/s]\n",
      "n: 3200: 100%|████████████████████████████████████████████████████████████████| 200/200 [00:00<00:00, 682.00it/s]\n"
     ]
    }
   ],
   "source": [
    "if True:\n",
    "    def _run_fn1(seed, all_cv_errs):\n",
    "        errs_mat = []\n",
    "        for cur_N in can_Ns:\n",
    "            errs = []\n",
    "            for cur_lam in can_lams:\n",
    "                errs.append(all_cv_errs[(seed, cur_N, cur_lam)].mse_loss)\n",
    "            errs_mat.append(errs)\n",
    "        errs_mat = np.array(errs_mat)\n",
    "        return errs_mat\n",
    "    opt_lamNs_fix = {}\n",
    "    for n in ns:\n",
    "        cur_save_dir = RES_ROOT/f\"simu_alpconv_n{n}\"\n",
    "        all_cv_errs = load_pkl(cur_save_dir/f\"all-valsel-metrics.pkl\")\n",
    "        num_seed = len(np.unique(list(map(lambda x: x[0], all_cv_errs.keys()))))\n",
    "        # do not make n_jobs>1, it is very slow\n",
    "        with Parallel(n_jobs=1) as parallel:\n",
    "            err_ten = parallel(delayed(_run_fn1)(cur_seed, all_cv_errs)  \n",
    "                                     for cur_seed in tqdm(range(num_seed), \n",
    "                                                          total=num_seed, desc=f\"n: {n}\"))\n",
    "        err_ten = np.array(err_ten);\n",
    "        \n",
    "        err_ten_ses = err_ten.std(axis=0)/np.sqrt(err_ten.shape[0])\n",
    "        err_m = np.mean(np.array(err_ten), axis=0)\n",
    "        errs = []\n",
    "        for err in err_m:\n",
    "            lam_min_idx = _get_min_idx(err)\n",
    "            errs.append((err[lam_min_idx], lam_min_idx))\n",
    "        errs = np.array(errs)\n",
    "        N_min_idx = np.argmin(errs[:, 0]);\n",
    "        lam_min_idx = int(errs[N_min_idx][1]);\n",
    "        min_opt_N, min_opt_lam = can_Ns[N_min_idx], can_lams[lam_min_idx]\n",
    "        \n",
    "        err_upbd = err_m[N_min_idx, lam_min_idx] + err_ten_ses[N_min_idx, lam_min_idx]; \n",
    "        lam_1se_idx = np.where(err_m[N_min_idx] <= err_upbd)[0].max();\n",
    "        print(n, can_Ns[N_min_idx], can_lams[lam_min_idx])\n",
    "        opt_lamNs_fix[n] = (can_Ns[N_min_idx],  can_lams[lam_min_idx])\n",
    "    \n",
    "    \n",
    "gt_alp = np.array([5, -1, 2]) \n",
    "ress_dict = {}\n",
    "for n in ns:\n",
    "    cur_save_dir = RES_ROOT/f\"simu_alpconv_n{n}\"\n",
    "    cur_N, cur_lam = opt_lamNs_fix[n]\n",
    "    def _run_fn_test(cur_seed):\n",
    "        from optimization.opt import logger as logger1\n",
    "        logger1.handlers[0].setLevel(logging.WARNING)\n",
    "        torch.set_default_dtype(torch.float64)\n",
    "        f1_name = f\"seed_{cur_seed:.0f}-lam_{cur_lam*1000:.0f}-N_{cur_N:.0f}_fit.pkl\"\n",
    "        res1 = load_pkl(cur_save_dir/f1_name, verbose=False);\n",
    "        res = edict()\n",
    "        res.est_alp = res1.est_alp\n",
    "        res.cov_mat = get_alp_cov(res1)\n",
    "        res.ci_lens = np.zeros(len(gt_alp)-1)\n",
    "        res.cov_probs = np.zeros(len(gt_alp)-1)\n",
    "        for alp_idx in range(1, res1.data_params.q):\n",
    "            ci = get_ci(res.est_alp, res.cov_mat, alp_idx=alp_idx, qv=qv) \n",
    "            res.cov_probs[alp_idx-1] = np.bitwise_and(ci[0] < gt_alp[alp_idx], \n",
    "                                                      ci[1] > gt_alp[alp_idx]).mean()\n",
    "            res.ci_lens[alp_idx-1]= np.diff(ci)\n",
    "        \n",
    "        res.err = np.linalg.norm(res.est_alp[1:]-gt_alp[1:])\n",
    "        return res \n",
    "    with Parallel(n_jobs=10) as parallel:\n",
    "        ress = parallel(delayed(_run_fn_test)(cur_seed) for cur_seed in tqdm(seeds, desc=f\"n: {n}\", \n",
    "                                                                             total=len(seeds)))\n",
    "    ress_dict[n] = ress"
   ]
  },
  {
   "cell_type": "code",
   "execution_count": 15,
   "id": "2ee36e94-1f53-4940-ba65-c3f220786869",
   "metadata": {
    "execution": {
     "iopub.execute_input": "2024-02-29T19:26:28.911076Z",
     "iopub.status.busy": "2024-02-29T19:26:28.910444Z",
     "iopub.status.idle": "2024-02-29T19:26:28.960275Z",
     "shell.execute_reply": "2024-02-29T19:26:28.959632Z",
     "shell.execute_reply.started": "2024-02-29T19:26:28.911026Z"
    },
    "tags": []
   },
   "outputs": [],
   "source": [
    "err_infos = []\n",
    "ci_infos = []\n",
    "cov_probs = []\n",
    "for n in ns:\n",
    "    ress = ress_dict[n]\n",
    "    errs = np.array([res.err for res in ress])\n",
    "    err_cilim = qv*errs.std()/np.sqrt(len(errs))\n",
    "    err_info = [errs.mean(), \n",
    "                 errs.mean()-err_cilim, \n",
    "                 errs.mean()+err_cilim]\n",
    "    \n",
    "    ci_lens = np.array([res.ci_lens for res in ress]);\n",
    "    ci_len_cilim = qv*ci_lens.std(axis=0)/np.sqrt(ci_lens[0])\n",
    "    ci_info = np.array(\n",
    "        [ci_lens.mean(axis=0), \n",
    "         ci_lens.mean(axis=0)-ci_len_cilim, \n",
    "         ci_lens.mean(axis=0)+ci_len_cilim])\n",
    "    \n",
    "    cov_prob = np.array([res.cov_probs for res in ress]).mean(axis=0);\n",
    "    \n",
    "    err_infos.append(err_info)\n",
    "    ci_infos.append(ci_info)\n",
    "    cov_probs.append(cov_prob)\n",
    "\n",
    "err_infos = np.array(err_infos)\n",
    "ci_infos = np.array(ci_infos)\n",
    "cov_probs = np.array(cov_probs);"
   ]
  },
  {
   "cell_type": "code",
   "execution_count": 16,
   "id": "fef79b1b-bd77-410b-8226-3beee60690e0",
   "metadata": {
    "execution": {
     "iopub.execute_input": "2024-02-29T19:26:29.724188Z",
     "iopub.status.busy": "2024-02-29T19:26:29.723598Z",
     "iopub.status.idle": "2024-02-29T19:26:30.365656Z",
     "shell.execute_reply": "2024-02-29T19:26:30.365215Z",
     "shell.execute_reply.started": "2024-02-29T19:26:29.724141Z"
    },
    "tags": []
   },
   "outputs": [
    {
     "data": {
      "image/png": "[encoded data removed]",
      "text/plain": [
       "<Figure size 1080x360 with 3 Axes>"
      ]
     },
     "metadata": {
      "needs_background": "light"
     },
     "output_type": "display_data"
    }
   ],
   "source": [
    "plt.figure(figsize=[15, 5])\n",
    "plt.subplot(131)\n",
    "for alp_ix in range(len(gt_alp)-1):\n",
    "    plt.plot(ns, cov_probs[:, alp_ix], label=f\"alp {alp_ix+1}\", \n",
    "             color=cols[alp_ix])\n",
    "plt.axhline(y=norm_ci, ls=\"--\")\n",
    "plt.xscale(\"log\")\n",
    "plt.ylabel(\"Empirical coverage prob.\")\n",
    "plt.xlabel(\"Sample size\")\n",
    "plt.legend()\n",
    "plt.subplot(132)\n",
    "for alp_ix in range(len(gt_alp)-1):\n",
    "    plt.plot(ns, ci_infos[:, 0, alp_ix], \n",
    "             label=f\"alp {alp_ix+1}\", \n",
    "            color=cols[alp_ix])\n",
    "    plt.fill_between(ns, ci_infos[:, 1, alp_ix], ci_infos[:, 2, alp_ix], \n",
    "                     color=cols[alp_ix], alpha=0.5)\n",
    "plt.xlabel(\"Sample size\")\n",
    "plt.ylabel(\"Len of CIs\")\n",
    "plt.xscale(\"log\")\n",
    "plt.legend()\n",
    "\n",
    "plt.subplot(133)\n",
    "plt.plot(ns, err_infos[:, 0], \n",
    "         color=cols[0])\n",
    "plt.fill_between(ns, err_infos[:, 1], err_infos[:, 2], \n",
    "                     color=cols[0], alpha=0.5)\n",
    "plt.xlabel(\"Sample size\")\n",
    "plt.ylabel(\"L2 error\")\n",
    "plt.xscale(\"log\")"
   ]
  },
  {
   "cell_type": "code",
   "execution_count": null,
   "id": "d2844ed4-7a1a-491b-8507-a0fe6a14e212",
   "metadata": {
    "tags": []
   },
   "outputs": [],
   "source": []
  },
  {
   "cell_type": "code",
   "execution_count": null,
   "id": "543a70f9-8a7b-41f0-ae7d-69cb5c514ed7",
   "metadata": {},
   "outputs": [],
   "source": []
  }
 ],
 "metadata": {
  "kernelspec": {
   "display_name": "Python 3 (ipykernel)",
   "language": "python",
   "name": "python3"
  },
  "language_info": {
   "codemirror_mode": {
    "name": "ipython",
    "version": 3
   },
   "file_extension": ".py",
   "mimetype": "text/x-python",
   "name": "python",
   "nbconvert_exporter": "python",
   "pygments_lexer": "ipython3",
   "version": "3.9.7"
  },
  "toc": {
   "base_numbering": 1,
   "nav_menu": {},
   "number_sections": true,
   "sideBar": true,
   "skip_h1_title": false,
   "title_cell": "Table of Contents",
   "title_sidebar": "Contents",
   "toc_cell": false,
   "toc_position": {
    "height": "calc(100% - 180px)",
    "left": "10px",
    "top": "150px",
    "width": "165px"
   },
   "toc_section_display": true,
   "toc_window_display": true
  },
  "toc-autonumbering": true
 },
 "nbformat": 4,
 "nbformat_minor": 5
}
