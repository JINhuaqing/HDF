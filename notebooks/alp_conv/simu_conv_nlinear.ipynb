{
 "cells": [
  {
   "cell_type": "markdown",
   "id": "faf0a805",
   "metadata": {},
   "source": [
    "This file contains python code to \n",
    "get the convergence curve for alpha"
   ]
  },
  {
   "cell_type": "code",
   "execution_count": 13,
   "id": "02ae980e",
   "metadata": {
    "ExecuteTime": {
     "end_time": "2023-05-31T19:57:23.490285Z",
     "start_time": "2023-05-31T19:57:23.481769Z"
    },
    "execution": {
     "iopub.execute_input": "2024-03-04T21:38:32.304151Z",
     "iopub.status.busy": "2024-03-04T21:38:32.303581Z",
     "iopub.status.idle": "2024-03-04T21:38:32.407876Z",
     "shell.execute_reply": "2024-03-04T21:38:32.407175Z",
     "shell.execute_reply.started": "2024-03-04T21:38:32.304105Z"
    },
    "tags": []
   },
   "outputs": [],
   "source": [
    "import sys\n",
    "sys.path.append(\"../../mypkg\")"
   ]
  },
  {
   "cell_type": "code",
   "execution_count": 14,
   "id": "023df78a",
   "metadata": {
    "ExecuteTime": {
     "end_time": "2023-05-31T19:57:34.238839Z",
     "start_time": "2023-05-31T19:57:23.494053Z"
    },
    "execution": {
     "iopub.execute_input": "2024-03-04T21:38:32.551768Z",
     "iopub.status.busy": "2024-03-04T21:38:32.550853Z",
     "iopub.status.idle": "2024-03-04T21:38:32.588533Z",
     "shell.execute_reply": "2024-03-04T21:38:32.587848Z",
     "shell.execute_reply.started": "2024-03-04T21:38:32.551724Z"
    },
    "tags": []
   },
   "outputs": [],
   "source": [
    "import numpy as np\n",
    "import torch\n",
    "import matplotlib.pyplot as plt\n",
    "import seaborn as sns\n",
    "\n",
    "from easydict import EasyDict as edict\n",
    "from tqdm import trange, tqdm\n",
    "from pprint import pprint\n",
    "import itertools\n",
    "from scipy.stats import chi2\n"
   ]
  },
  {
   "cell_type": "code",
   "execution_count": 15,
   "id": "b9d3cbc6-1ac5-47d6-a0d1-bcbc0be9267e",
   "metadata": {
    "execution": {
     "iopub.execute_input": "2024-03-04T21:38:32.778914Z",
     "iopub.status.busy": "2024-03-04T21:38:32.778285Z",
     "iopub.status.idle": "2024-03-04T21:38:32.817435Z",
     "shell.execute_reply": "2024-03-04T21:38:32.816766Z",
     "shell.execute_reply.started": "2024-03-04T21:38:32.778871Z"
    },
    "tags": []
   },
   "outputs": [
    {
     "name": "stdout",
     "output_type": "stream",
     "text": [
      "The autoreload extension is already loaded. To reload it, use:\n",
      "  %reload_ext autoreload\n"
     ]
    }
   ],
   "source": [
    "# This will reload all imports as soon as the code changes\n",
    "%load_ext autoreload\n",
    "%autoreload 2"
   ]
  },
  {
   "cell_type": "code",
   "execution_count": 16,
   "id": "b0aa91b2",
   "metadata": {
    "ExecuteTime": {
     "end_time": "2023-05-31T19:57:59.558229Z",
     "start_time": "2023-05-31T19:57:34.292612Z"
    },
    "execution": {
     "iopub.execute_input": "2024-03-04T21:38:32.988788Z",
     "iopub.status.busy": "2024-03-04T21:38:32.988125Z",
     "iopub.status.idle": "2024-03-04T21:38:33.026411Z",
     "shell.execute_reply": "2024-03-04T21:38:33.025727Z",
     "shell.execute_reply.started": "2024-03-04T21:38:32.988744Z"
    },
    "tags": []
   },
   "outputs": [],
   "source": [
    "from constants import DATA_ROOT, RES_ROOT, FIG_ROOT, MIDRES_ROOT\n",
    "from hdf_utils.data_gen import gen_simu_sinica_dataset\n",
    "from hdf_utils.SIS import SIS_GLIM\n",
    "from utils.matrix import col_vec_fn, col_vec2mat_fn, conju_grad, svd_inverse, cholesky_inv\n",
    "from utils.functions import logit_fn\n",
    "from utils.misc import save_pkl, load_pkl\n",
    "from splines import obt_bsp_obasis_Rfn, obt_bsp_basis_Rfn_wrapper\n",
    "from projection import euclidean_proj_l1ball\n",
    "from optimization.opt import HDFOpt\n",
    "from hdf_utils.fns_sinica import  fourier_basis_fn\n",
    "\n",
    "from joblib import Parallel, delayed"
   ]
  },
  {
   "cell_type": "code",
   "execution_count": 17,
   "id": "fe0a4a46",
   "metadata": {
    "ExecuteTime": {
     "end_time": "2023-05-31T19:57:59.621784Z",
     "start_time": "2023-05-31T19:57:59.568097Z"
    },
    "execution": {
     "iopub.execute_input": "2024-03-04T21:38:33.246220Z",
     "iopub.status.busy": "2024-03-04T21:38:33.245688Z",
     "iopub.status.idle": "2024-03-04T21:38:33.285631Z",
     "shell.execute_reply": "2024-03-04T21:38:33.284950Z",
     "shell.execute_reply.started": "2024-03-04T21:38:33.246178Z"
    },
    "tags": []
   },
   "outputs": [],
   "source": [
    "plt.style.use(FIG_ROOT/\"base.mplstyle\")\n",
    "torch.set_default_tensor_type(torch.DoubleTensor)"
   ]
  },
  {
   "cell_type": "markdown",
   "id": "89206533-c2c7-4e5b-bcae-4bae2ee8b52f",
   "metadata": {},
   "source": [
    "# Get settings"
   ]
  },
  {
   "cell_type": "code",
   "execution_count": 18,
   "id": "271a344f-4c6d-4385-923a-1ce76100184e",
   "metadata": {
    "execution": {
     "iopub.execute_input": "2024-03-04T21:38:33.701643Z",
     "iopub.status.busy": "2024-03-04T21:38:33.701011Z",
     "iopub.status.idle": "2024-03-04T21:38:33.746334Z",
     "shell.execute_reply": "2024-03-04T21:38:33.745682Z",
     "shell.execute_reply.started": "2024-03-04T21:38:33.701598Z"
    },
    "tags": []
   },
   "outputs": [],
   "source": [
    "from easydict import EasyDict as edict\n",
    "from hdf_utils.fns_sinica import coef_fn, fourier_basis_fn\n",
    "from copy import deepcopy\n",
    "from scenarios.base_params import get_base_params\n",
    "\n",
    "base_params = get_base_params(\"linear\") \n",
    "base_params.data_gen_params = edict()\n",
    "base_params.data_gen_params.d = 200 # num of ROIs\n",
    "base_params.data_gen_params.q = 3 # num of other covariates\n",
    "base_params.data_gen_params.npts = 100 # num of pts to evaluate X(s)\n",
    "base_params.data_gen_params.types_ = [\"int\", \"c\", 2]\n",
    "base_params.data_gen_params.gt_alp = np.array([5, -1, 2]) \n",
    "base_params.data_gen_params.data_params={\"sigma2\":0.5, \"srho\":0.3, \"basis_type\":\"bsp\"}\n",
    "base_params.data_gen_params.data_type = base_params.model_type\n",
    "base_params.can_Ns = [4, 6, 8, 10, 12, 14]\n",
    "base_params.SIS_params = edict({\"SIS_pen\": 0.02, \"SIS_basis_N\":8, \"SIS_ws\":\"simpson\"})\n",
    "base_params.opt_params.beta = 10 \n",
    "base_params.can_lams = [0.60,  0.80,  1,  1.2, 1.4, 1.6, 2.0, 4.0]\n",
    "\n",
    "def _get_gt_beta_wrapper(d, fct=2):\n",
    "    def _get_gt_beta(cs):\n",
    "        x = np.linspace(0, 1, 100)\n",
    "        fourier_basis = fourier_basis_fn(x)\n",
    "        fourier_basis_coefs = ([cs[0]*coef_fn(0.2), cs[1]*coef_fn(0.2), cs[2]*coef_fn(0.2)] + \n",
    "                                     [np.zeros(50)] * (d-3-1) +\n",
    "                                     [coef_fn(0.2)]\n",
    "                                     )\n",
    "        fourier_basis_coefs = np.array(fourier_basis_coefs).T \n",
    "        gt_beta = fourier_basis @ fourier_basis_coefs * fct\n",
    "        return gt_beta\n",
    "    return _get_gt_beta\n",
    "\n",
    "\n",
    "\n",
    "setting = edict(deepcopy(base_params))\n",
    "add_params = edict({})\n",
    "add_params.data_gen_params = edict(deepcopy(base_params.data_gen_params))\n",
    "add_params.data_gen_params.ns = [100, 300, 900, 2700, 8100]\n",
    "add_params.data_gen_params.cs = [0, 0, 0]\n",
    "add_params.data_gen_params.npts = 100 # num of pts to evaluate X(s)\n",
    "add_params.data_gen_params.data_params[\"err_dist\"] = \"normal\"\n",
    "beta_fn = _get_gt_beta_wrapper(add_params.data_gen_params.d, \n",
    "                                                          fct=2)\n",
    "add_params.data_gen_params.gt_beta = beta_fn(add_params.data_gen_params.cs)\n",
    "\n",
    "add_params.setting = \"alpcov\"\n",
    "add_params.sel_idx =  np.arange(0, add_params.data_gen_params.d)\n",
    "add_params.SIS_ratio = 0.2\n",
    "setting.update(add_params)"
   ]
  },
  {
   "cell_type": "code",
   "execution_count": null,
   "id": "6c2ac112-221a-43fd-9e0c-0721ee3b155f",
   "metadata": {},
   "outputs": [],
   "source": []
  },
  {
   "cell_type": "code",
   "execution_count": null,
   "id": "7e3672e9-3d13-43f8-a05a-6fbd399eb0fc",
   "metadata": {},
   "outputs": [],
   "source": []
  },
  {
   "cell_type": "markdown",
   "id": "21e4ccea",
   "metadata": {},
   "source": [
    "# Params"
   ]
  },
  {
   "cell_type": "code",
   "execution_count": 19,
   "id": "977784a7-3e90-4016-9958-9766c871dc0f",
   "metadata": {
    "ExecuteTime": {
     "end_time": "2023-05-31T23:31:16.397628Z",
     "start_time": "2023-05-31T23:31:16.221812Z"
    },
    "execution": {
     "iopub.execute_input": "2024-03-04T21:38:34.864344Z",
     "iopub.status.busy": "2024-03-04T21:38:34.863648Z",
     "iopub.status.idle": "2024-03-04T21:38:34.903680Z",
     "shell.execute_reply": "2024-03-04T21:38:34.902977Z",
     "shell.execute_reply.started": "2024-03-04T21:38:34.864298Z"
    },
    "tags": [
     "param"
    ]
   },
   "outputs": [],
   "source": [
    "np.random.seed(0)\n",
    "\n",
    "data_gen_params = setting.data_gen_params\n",
    "x = np.linspace(0, 1, data_gen_params.npts)\n",
    "\n",
    "\n",
    "num_rep = 200\n",
    "save_dir = RES_ROOT/f\"alp_test\"\n",
    "if not save_dir.exists():\n",
    "    save_dir.mkdir()"
   ]
  },
  {
   "cell_type": "code",
   "execution_count": null,
   "id": "a8efa086-3a73-4672-a51a-bdcdadb3337d",
   "metadata": {},
   "outputs": [],
   "source": []
  },
  {
   "cell_type": "markdown",
   "id": "324c61ec-d16f-48ea-a1ad-de39801a40ef",
   "metadata": {},
   "source": [
    "# Simu"
   ]
  },
  {
   "cell_type": "markdown",
   "id": "66c2f90f",
   "metadata": {
    "ExecuteTime": {
     "end_time": "2022-12-08T18:09:55.509389Z",
     "start_time": "2022-12-08T18:09:55.343396Z"
    }
   },
   "source": [
    "## Check data gen fn"
   ]
  },
  {
   "cell_type": "code",
   "execution_count": 22,
   "id": "65314aee-7d17-4a9b-8744-ed6b24c161d7",
   "metadata": {
    "execution": {
     "iopub.execute_input": "2024-03-04T21:39:57.101081Z",
     "iopub.status.busy": "2024-03-04T21:39:57.100477Z",
     "iopub.status.idle": "2024-03-04T21:39:57.337132Z",
     "shell.execute_reply": "2024-03-04T21:39:57.336190Z",
     "shell.execute_reply.started": "2024-03-04T21:39:57.101033Z"
    },
    "tags": []
   },
   "outputs": [],
   "source": [
    "data = gen_simu_sinica_dataset(\n",
    "    n=data_gen_params.ns[0], \n",
    "    d=data_gen_params.d, \n",
    "    q=data_gen_params.q, \n",
    "    types_=data_gen_params.types_, \n",
    "    gt_alp=data_gen_params.gt_alp, \n",
    "    gt_beta=data_gen_params.gt_beta, \n",
    "    x=x,\n",
    "    data_type=data_gen_params.data_type,\n",
    "    data_params=data_gen_params.data_params, \n",
    "    seed=1, \n",
    "    verbose=2);"
   ]
  },
  {
   "cell_type": "markdown",
   "id": "09b0ec89-ac82-4079-acc3-6649993a0444",
   "metadata": {
    "tags": []
   },
   "source": [
    "## SIS check (just for check)"
   ]
  },
  {
   "cell_type": "code",
   "execution_count": 11,
   "id": "95a15192-2e48-424f-acd9-1cd41ee7a215",
   "metadata": {
    "execution": {
     "iopub.execute_input": "2024-02-29T19:13:26.908606Z",
     "iopub.status.busy": "2024-02-29T19:13:26.907871Z",
     "iopub.status.idle": "2024-02-29T19:13:26.950520Z",
     "shell.execute_reply": "2024-02-29T19:13:26.949943Z",
     "shell.execute_reply.started": "2024-02-29T19:13:26.908560Z"
    },
    "tags": []
   },
   "outputs": [],
   "source": [
    "def _SIS_fn(seed, SIS_ratio, N, SIS_pen, setting):\n",
    "    torch.set_default_dtype(torch.double)\n",
    "    np.random.seed(seed)\n",
    "    torch.manual_seed(seed)\n",
    "        \n",
    "    data_gen_params = edict(setting.data_gen_params.copy())\n",
    "    basis_mat = torch.tensor(obt_bsp(np.linspace(0, 1, data_gen_params.npts), N, 4)).to(torch.get_default_dtype())\n",
    "    cur_data = gen_simu_sinica_dataset(n=data_gen_params.ns[2], \n",
    "                                   d=data_gen_params.d, \n",
    "                                   q=data_gen_params.q, \n",
    "                                   types_=data_gen_params.types_, \n",
    "                                   gt_alp=data_gen_params.gt_alp, \n",
    "                                   gt_beta=data_gen_params.gt_beta, \n",
    "                                   x=x, \n",
    "                                   data_type=data_gen_params.data_type,\n",
    "                                   data_params=data_gen_params.data_params, \n",
    "                                   seed=seed, \n",
    "                                   verbose=2);\n",
    "    \n",
    "    keep_idxs, _  = SIS_GLIM(Y=cur_data.Y, X=cur_data.X, Z=cur_data.Z, ws=setting.SIS_params.SIS_ws,\n",
    "                             basis_mat=basis_mat, keep_ratio=SIS_ratio, \n",
    "                             model_type=setting.model_type, SIS_pen=SIS_pen, sel_idx=setting.sel_idx)\n",
    "    M_idxs = np.delete(np.arange(data_gen_params.d), setting.sel_idx)\n",
    "    keep_idxs = np.sort(np.concatenate([M_idxs, keep_idxs]))\n",
    "    return keep_idxs"
   ]
  },
  {
   "cell_type": "code",
   "execution_count": 20,
   "id": "9004447d-e6ac-4f09-962c-e231abd6b51a",
   "metadata": {
    "execution": {
     "iopub.execute_input": "2024-02-29T05:27:47.075000Z",
     "iopub.status.busy": "2024-02-29T05:27:47.074372Z",
     "iopub.status.idle": "2024-02-29T05:28:01.241748Z",
     "shell.execute_reply": "2024-02-29T05:28:01.240718Z",
     "shell.execute_reply.started": "2024-02-29T05:27:47.074954Z"
    },
    "scrolled": true,
    "tags": []
   },
   "outputs": [
    {
     "name": "stderr",
     "output_type": "stream",
     "text": [
      "100%|██████████████████████████████████████████████████████████████████████████| 100/100 [00:06<00:00, 15.61it/s]\n"
     ]
    }
   ],
   "source": [
    "obt_bsp = obt_bsp_obasis_Rfn\n",
    "num_rep = 100\n",
    "with Parallel(n_jobs=30) as parallel:\n",
    "    keep_idxss = parallel(delayed(_SIS_fn)(seed, 0.05, N=8, SIS_pen=0.02, setting=setting) for seed in \n",
    "                          tqdm(range(0, num_rep), total=num_rep))"
   ]
  },
  {
   "cell_type": "code",
   "execution_count": 21,
   "id": "fa326890-75ba-4555-a8e2-5931508a002e",
   "metadata": {
    "execution": {
     "iopub.execute_input": "2024-02-29T05:28:01.244275Z",
     "iopub.status.busy": "2024-02-29T05:28:01.243563Z",
     "iopub.status.idle": "2024-02-29T05:28:01.399339Z",
     "shell.execute_reply": "2024-02-29T05:28:01.398948Z",
     "shell.execute_reply.started": "2024-02-29T05:28:01.244233Z"
    },
    "tags": []
   },
   "outputs": [
    {
     "data": {
      "text/plain": [
       "Text(0.5, 1.0, '[0.06 0.04 0.06 0.02 0.06 0.07 0.06 0.04 1.  ]')"
      ]
     },
     "execution_count": 21,
     "metadata": {},
     "output_type": "execute_result"
    },
    {
     "data": {
      "image/png": "[encoded data removed]",
      "text/plain": [
       "<Figure size 432x288 with 1 Axes>"
      ]
     },
     "metadata": {
      "needs_background": "light"
     },
     "output_type": "display_data"
    }
   ],
   "source": [
    "vs, cts = np.unique(np.concatenate(keep_idxss), return_counts=1);\n",
    "cts = cts[np.argsort(vs)]/len(keep_idxss)\n",
    "vs = np.sort(vs);\n",
    "plt.plot(vs, cts, \".\")\n",
    "plt.title(f\"{cts[vs > 190]}\")"
   ]
  },
  {
   "cell_type": "code",
   "execution_count": null,
   "id": "be9dad8c-0fcf-4d93-b3b9-d9dc5d2dfe77",
   "metadata": {},
   "outputs": [],
   "source": []
  },
  {
   "cell_type": "markdown",
   "id": "8148a0dd-0b8b-4f04-a43a-a75cfd20ae1f",
   "metadata": {},
   "source": [
    "## Simulation"
   ]
  },
  {
   "cell_type": "code",
   "execution_count": null,
   "id": "96d90cac-bc30-4f2a-84fd-86b8af6e2a00",
   "metadata": {},
   "outputs": [],
   "source": []
  },
  {
   "cell_type": "code",
   "execution_count": 23,
   "id": "0f9eca46-ade4-40fa-83f5-b8db4ff10947",
   "metadata": {
    "execution": {
     "iopub.execute_input": "2024-03-04T21:40:02.473514Z",
     "iopub.status.busy": "2024-03-04T21:40:02.472849Z",
     "iopub.status.idle": "2024-03-04T21:40:02.518279Z",
     "shell.execute_reply": "2024-03-04T21:40:02.517572Z",
     "shell.execute_reply.started": "2024-03-04T21:40:02.473469Z"
    },
    "tags": []
   },
   "outputs": [],
   "source": [
    "def _run_fn(seed, n, lam, N, setting, is_save=False, is_cv=False, verbose=2):\n",
    "    \"\"\"Now (on Aug 25, 2023), if we keep seed the same, the cur_data is the same. \n",
    "       If you want to make any changes, make sure this. \n",
    "    \"\"\"\n",
    "    torch.set_default_dtype(torch.double)\n",
    "    np.random.seed(seed)\n",
    "    torch.manual_seed(seed)\n",
    "        \n",
    "    _setting = edict(setting.copy())\n",
    "    _setting.seed = seed\n",
    "    _setting.lam = lam\n",
    "    _setting.N = N\n",
    "    \n",
    "    data_gen_params = setting.data_gen_params\n",
    "    x = np.linspace(0, 1, data_gen_params.npts)\n",
    "    \n",
    "    f_name = f\"seed_{seed:.0f}-lam_{lam*1000:.0f}-N_{N:.0f}_fit.pkl\"\n",
    "    \n",
    "    \n",
    "    if not (save_dir/f_name).exists():\n",
    "        cur_data = gen_simu_sinica_dataset(n=n, \n",
    "                                   d=data_gen_params.d, \n",
    "                                   q=data_gen_params.q, \n",
    "                                   types_=data_gen_params.types_, \n",
    "                                   gt_alp=data_gen_params.gt_alp, \n",
    "                                   gt_beta=data_gen_params.gt_beta, \n",
    "                                   x=x,\n",
    "                                   data_type=data_gen_params.data_type,\n",
    "                                   data_params=data_gen_params.data_params, \n",
    "                                   seed=seed, \n",
    "                                   verbose=verbose);\n",
    "        hdf_fit = HDFOpt(lam=_setting.lam, \n",
    "                         sel_idx=_setting.sel_idx, \n",
    "                         model_type=_setting.model_type,\n",
    "                         verbose=verbose, \n",
    "                         SIS_ratio=_setting.SIS_ratio, \n",
    "                         N=_setting.N,\n",
    "                         is_std_data=True, \n",
    "                         cov_types=None, \n",
    "                         inits=None,\n",
    "                         model_params = _setting.model_params, \n",
    "                         SIS_params = _setting.SIS_params, \n",
    "                         opt_params = _setting.opt_params,\n",
    "                         bsp_params = _setting.bsp_params, \n",
    "                         pen_params = _setting.pen_params\n",
    "               );\n",
    "        hdf_fit.add_data(cur_data.X, cur_data.Y, cur_data.Z)\n",
    "        opt_res = hdf_fit.fit()\n",
    "        \n",
    "        if is_cv:\n",
    "            hdf_fit.get_cv_est(_setting.num_cv_fold)\n",
    "        if is_save:\n",
    "            hdf_fit.save(save_dir/f_name, is_compact=False, is_force=True)\n",
    "    else:\n",
    "        hdf_fit = load_pkl(save_dir/f_name, verbose>=2);\n",
    "        \n",
    "    return hdf_fit\n"
   ]
  },
  {
   "cell_type": "code",
   "execution_count": null,
   "id": "b64ec903-256d-4b9f-89be-6725629c1ef4",
   "metadata": {},
   "outputs": [],
   "source": []
  },
  {
   "cell_type": "markdown",
   "id": "ee5b93bf-12d5-40d9-b925-79fc4fb2b4a8",
   "metadata": {},
   "source": [
    "### single test"
   ]
  },
  {
   "cell_type": "code",
   "execution_count": 24,
   "id": "02d10b93-0e05-46e8-b0c1-71d2efeb8ed1",
   "metadata": {
    "execution": {
     "iopub.execute_input": "2024-03-04T21:40:03.580016Z",
     "iopub.status.busy": "2024-03-04T21:40:03.579389Z",
     "iopub.status.idle": "2024-03-04T21:40:47.795810Z",
     "shell.execute_reply": "2024-03-04T21:40:47.794600Z",
     "shell.execute_reply.started": "2024-03-04T21:40:03.579970Z"
    },
    "scrolled": true,
    "tags": []
   },
   "outputs": [
    {
     "name": "stderr",
     "output_type": "stream",
     "text": [
      "2024-03-04 13:40:03,695 - optimization.opt - INFO - opt params is {'stop_cv': 0.0005, 'max_iter': 2000, 'one_step_verbose': 0, 'alpha': 0.9, 'beta': 10, 'R': 200000.0, 'linear_theta_update': 'cholesky_inv'}.\n",
      "2024-03-04 13:40:03,696 - optimization.opt - INFO - SIS params is {'SIS_pen': 0.02, 'SIS_basis_N': 8, 'SIS_basis_ord': 4, 'SIS_ratio': 0.2, 'SIS_ws': 'simpson'}.\n",
      "2024-03-04 13:40:03,696 - optimization.opt - INFO - model params is {'norminal_sigma2': 1, 'ws': 'simpson'}.\n",
      "2024-03-04 13:40:03,697 - optimization.opt - INFO - penalty params is {'a': 3.7, 'lam': 100}.\n",
      "2024-03-04 13:40:03,697 - optimization.opt - INFO - bspline params is {'basis_ord': 4, 'is_orth_basis': True, 'N': 4}.\n",
      "2024-03-04 13:40:03,698 - optimization.opt - INFO - As cov_types is not provided, inferring the continuous covariates.\n",
      "Main Loop:   0%|                                                                                                                                      | 0/2000 [00:00<?, ?it/s]"
     ]
    },
    {
     "name": "stdout",
     "output_type": "stream",
     "text": [
      "> \u001b[0;32m/data/rajlab1/user_data/jin/MyResearch/HDF_infer/mypkg/optimization/one_step_opt.py\u001b[0m(137)\u001b[0;36m_update_theta_linearmodel\u001b[0;34m()\u001b[0m\n",
      "\u001b[0;32m    135 \u001b[0;31m                \u001b[0mleft_mat\u001b[0m \u001b[0;34m=\u001b[0m \u001b[0mtmp_mat\u001b[0m\u001b[0;34m/\u001b[0m\u001b[0mself\u001b[0m\u001b[0;34m.\u001b[0m\u001b[0mmodel\u001b[0m\u001b[0;34m.\u001b[0m\u001b[0msigma2\u001b[0m \u001b[0;34m+\u001b[0m \u001b[0mself\u001b[0m\u001b[0;34m.\u001b[0m\u001b[0mparas\u001b[0m\u001b[0;34m.\u001b[0m\u001b[0mbeta\u001b[0m \u001b[0;34m*\u001b[0m \u001b[0mself\u001b[0m\u001b[0;34m.\u001b[0m\u001b[0mD\u001b[0m\u001b[0;34m.\u001b[0m\u001b[0mT\u001b[0m\u001b[0;34m@\u001b[0m\u001b[0mself\u001b[0m\u001b[0;34m.\u001b[0m\u001b[0mD\u001b[0m\u001b[0;34m\u001b[0m\u001b[0;34m\u001b[0m\u001b[0m\n",
      "\u001b[0m\u001b[0;32m    136 \u001b[0;31m                \u001b[0mpdb\u001b[0m\u001b[0;34m.\u001b[0m\u001b[0mset_trace\u001b[0m\u001b[0;34m(\u001b[0m\u001b[0;34m)\u001b[0m\u001b[0;34m\u001b[0m\u001b[0;34m\u001b[0m\u001b[0m\n",
      "\u001b[0m\u001b[0;32m--> 137 \u001b[0;31m                \u001b[0mself\u001b[0m\u001b[0;34m.\u001b[0m\u001b[0mlinear_mat\u001b[0m \u001b[0;34m=\u001b[0m \u001b[0mcholesky_inv\u001b[0m\u001b[0;34m(\u001b[0m\u001b[0mleft_mat\u001b[0m\u001b[0;34m)\u001b[0m\u001b[0;34m\u001b[0m\u001b[0;34m\u001b[0m\u001b[0m\n",
      "\u001b[0m\u001b[0;32m    138 \u001b[0;31m            \u001b[0mthetak_raw\u001b[0m \u001b[0;34m=\u001b[0m \u001b[0mself\u001b[0m\u001b[0;34m.\u001b[0m\u001b[0mlinear_mat\u001b[0m \u001b[0;34m@\u001b[0m \u001b[0mright_vec\u001b[0m\u001b[0;34m;\u001b[0m\u001b[0;34m\u001b[0m\u001b[0;34m\u001b[0m\u001b[0m\n",
      "\u001b[0m\u001b[0;32m    139 \u001b[0;31m\u001b[0;34m\u001b[0m\u001b[0m\n",
      "\u001b[0m\n"
     ]
    },
    {
     "name": "stdin",
     "output_type": "stream",
     "text": [
      "ipdb>  left_mat.shape\n"
     ]
    },
    {
     "name": "stdout",
     "output_type": "stream",
     "text": [
      "torch.Size([163, 163])\n"
     ]
    },
    {
     "name": "stdin",
     "output_type": "stream",
     "text": [
      "ipdb>  torch.svd(left_mat).S\n"
     ]
    },
    {
     "name": "stdout",
     "output_type": "stream",
     "text": [
      "tensor([57.2178, 55.4058, 53.0694, 52.2118, 51.3775, 47.8044, 46.0220, 45.2815,\n",
      "        43.7509, 42.7666, 41.9594, 40.4098, 39.6580, 39.2003, 38.9800, 37.6679,\n",
      "        36.5946, 34.9945, 34.7039, 34.0370, 33.6203, 32.8404, 32.3798, 31.3055,\n",
      "        30.4223, 29.9873, 29.1361, 28.9585, 28.6499, 28.1087, 27.9160, 27.4978,\n",
      "        27.1378, 25.7890, 25.1854, 24.8404, 24.6366, 24.1599, 23.9131, 23.4125,\n",
      "        23.1589, 22.9629, 22.3370, 22.1382, 21.4552, 21.2015, 21.1237, 20.7163,\n",
      "        19.9676, 19.7914, 19.6671, 19.4105, 18.7373, 18.5432, 18.2826, 17.8794,\n",
      "        17.6677, 17.3771, 17.1284, 16.9192, 16.7981, 16.3064, 16.2359, 15.9525,\n",
      "        15.8461, 15.6535, 15.3985, 15.2262, 15.0489, 14.5539, 14.5317, 14.2966,\n",
      "        14.2322, 13.8541, 13.6342, 13.4466, 13.2702, 13.2582, 13.1214, 13.0767,\n",
      "        12.9660, 12.7295, 12.6570, 12.5933, 12.3740, 12.2150, 12.0669, 12.0203,\n",
      "        11.8055, 11.7589, 11.5589, 11.4674, 11.3755, 11.2755, 11.1043, 10.9633,\n",
      "        10.9070, 10.8346, 10.7289, 10.0000, 10.0000, 10.0000, 10.0000, 10.0000,\n",
      "        10.0000, 10.0000, 10.0000, 10.0000, 10.0000, 10.0000, 10.0000, 10.0000,\n",
      "        10.0000, 10.0000, 10.0000, 10.0000, 10.0000, 10.0000, 10.0000, 10.0000,\n",
      "        10.0000, 10.0000, 10.0000, 10.0000, 10.0000, 10.0000, 10.0000, 10.0000,\n",
      "        10.0000, 10.0000, 10.0000, 10.0000, 10.0000, 10.0000, 10.0000, 10.0000,\n",
      "        10.0000, 10.0000, 10.0000, 10.0000, 10.0000, 10.0000, 10.0000, 10.0000,\n",
      "        10.0000, 10.0000, 10.0000, 10.0000, 10.0000, 10.0000, 10.0000, 10.0000,\n",
      "        10.0000, 10.0000, 10.0000, 10.0000, 10.0000, 10.0000, 10.0000, 10.0000,\n",
      "         1.2639,  0.4854,  0.0924])\n"
     ]
    },
    {
     "name": "stdin",
     "output_type": "stream",
     "text": [
      "ipdb>  q\n"
     ]
    },
    {
     "name": "stderr",
     "output_type": "stream",
     "text": [
      "Main Loop:   0%|                                                                                                                                      | 0/2000 [00:43<?, ?it/s]\n"
     ]
    },
    {
     "ename": "BdbQuit",
     "evalue": "",
     "output_type": "error",
     "traceback": [
      "\u001b[0;31m---------------------------------------------------------------------------\u001b[0m",
      "\u001b[0;31mBdbQuit\u001b[0m                                   Traceback (most recent call last)",
      "\u001b[0;32m/tmp/ipykernel_49695/50476698.py\u001b[0m in \u001b[0;36m<module>\u001b[0;34m\u001b[0m\n\u001b[1;32m      3\u001b[0m \u001b[0mN\u001b[0m \u001b[0;34m=\u001b[0m \u001b[0;36m4\u001b[0m\u001b[0;34m\u001b[0m\u001b[0;34m\u001b[0m\u001b[0m\n\u001b[1;32m      4\u001b[0m \u001b[0;34m\u001b[0m\u001b[0m\n\u001b[0;32m----> 5\u001b[0;31m \u001b[0mres\u001b[0m \u001b[0;34m=\u001b[0m \u001b[0m_run_fn\u001b[0m\u001b[0;34m(\u001b[0m\u001b[0mn\u001b[0m\u001b[0;34m=\u001b[0m\u001b[0;36m100\u001b[0m\u001b[0;34m,\u001b[0m \u001b[0mseed\u001b[0m\u001b[0;34m=\u001b[0m\u001b[0mseed\u001b[0m\u001b[0;34m,\u001b[0m \u001b[0mlam\u001b[0m\u001b[0;34m=\u001b[0m\u001b[0mlam\u001b[0m\u001b[0;34m,\u001b[0m \u001b[0mN\u001b[0m\u001b[0;34m=\u001b[0m\u001b[0mN\u001b[0m\u001b[0;34m,\u001b[0m \u001b[0msetting\u001b[0m\u001b[0;34m=\u001b[0m\u001b[0msetting\u001b[0m\u001b[0;34m,\u001b[0m \u001b[0mis_cv\u001b[0m\u001b[0;34m=\u001b[0m\u001b[0;32mFalse\u001b[0m\u001b[0;34m,\u001b[0m \u001b[0mis_save\u001b[0m\u001b[0;34m=\u001b[0m\u001b[0;32mFalse\u001b[0m\u001b[0;34m,\u001b[0m \u001b[0mverbose\u001b[0m\u001b[0;34m=\u001b[0m\u001b[0;36m2\u001b[0m\u001b[0;34m)\u001b[0m\u001b[0;34m\u001b[0m\u001b[0;34m\u001b[0m\u001b[0m\n\u001b[0m",
      "\u001b[0;32m/tmp/ipykernel_49695/3166090289.py\u001b[0m in \u001b[0;36m_run_fn\u001b[0;34m(seed, n, lam, N, setting, is_save, is_cv, verbose)\u001b[0m\n\u001b[1;32m     46\u001b[0m                );\n\u001b[1;32m     47\u001b[0m         \u001b[0mhdf_fit\u001b[0m\u001b[0;34m.\u001b[0m\u001b[0madd_data\u001b[0m\u001b[0;34m(\u001b[0m\u001b[0mcur_data\u001b[0m\u001b[0;34m.\u001b[0m\u001b[0mX\u001b[0m\u001b[0;34m,\u001b[0m \u001b[0mcur_data\u001b[0m\u001b[0;34m.\u001b[0m\u001b[0mY\u001b[0m\u001b[0;34m,\u001b[0m \u001b[0mcur_data\u001b[0m\u001b[0;34m.\u001b[0m\u001b[0mZ\u001b[0m\u001b[0;34m)\u001b[0m\u001b[0;34m\u001b[0m\u001b[0;34m\u001b[0m\u001b[0m\n\u001b[0;32m---> 48\u001b[0;31m         \u001b[0mopt_res\u001b[0m \u001b[0;34m=\u001b[0m \u001b[0mhdf_fit\u001b[0m\u001b[0;34m.\u001b[0m\u001b[0mfit\u001b[0m\u001b[0;34m(\u001b[0m\u001b[0;34m)\u001b[0m\u001b[0;34m\u001b[0m\u001b[0;34m\u001b[0m\u001b[0m\n\u001b[0m\u001b[1;32m     49\u001b[0m \u001b[0;34m\u001b[0m\u001b[0m\n\u001b[1;32m     50\u001b[0m         \u001b[0;32mif\u001b[0m \u001b[0mis_cv\u001b[0m\u001b[0;34m:\u001b[0m\u001b[0;34m\u001b[0m\u001b[0;34m\u001b[0m\u001b[0m\n",
      "\u001b[0;32m/data/rajlab1/user_data/jin/MyResearch/HDF_infer/notebooks/alp_conv/../../mypkg/optimization/opt.py\u001b[0m in \u001b[0;36mfit\u001b[0;34m(self)\u001b[0m\n\u001b[1;32m    369\u001b[0m \u001b[0;34m\u001b[0m\u001b[0m\n\u001b[1;32m    370\u001b[0m     \u001b[0;32mdef\u001b[0m \u001b[0mfit\u001b[0m\u001b[0;34m(\u001b[0m\u001b[0mself\u001b[0m\u001b[0;34m)\u001b[0m\u001b[0;34m:\u001b[0m\u001b[0;34m\u001b[0m\u001b[0;34m\u001b[0m\u001b[0m\n\u001b[0;32m--> 371\u001b[0;31m         \u001b[0mself\u001b[0m\u001b[0;34m.\u001b[0m\u001b[0mopt_res\u001b[0m \u001b[0;34m=\u001b[0m \u001b[0mself\u001b[0m\u001b[0;34m.\u001b[0m\u001b[0m_fit\u001b[0m\u001b[0;34m(\u001b[0m\u001b[0mself\u001b[0m\u001b[0;34m.\u001b[0m\u001b[0mpen_params\u001b[0m\u001b[0;34m.\u001b[0m\u001b[0mlam\u001b[0m\u001b[0;34m,\u001b[0m \u001b[0mself\u001b[0m\u001b[0;34m.\u001b[0m\u001b[0mbsp_params\u001b[0m\u001b[0;34m.\u001b[0m\u001b[0mN\u001b[0m\u001b[0;34m,\u001b[0m \u001b[0mself\u001b[0m\u001b[0;34m.\u001b[0m\u001b[0mX\u001b[0m\u001b[0;34m,\u001b[0m \u001b[0mself\u001b[0m\u001b[0;34m.\u001b[0m\u001b[0mY\u001b[0m\u001b[0;34m,\u001b[0m \u001b[0mself\u001b[0m\u001b[0;34m.\u001b[0m\u001b[0mZ\u001b[0m\u001b[0;34m)\u001b[0m\u001b[0;34m\u001b[0m\u001b[0;34m\u001b[0m\u001b[0m\n\u001b[0m\u001b[1;32m    372\u001b[0m         \u001b[0mself\u001b[0m\u001b[0;34m.\u001b[0m\u001b[0mest_alp\u001b[0m\u001b[0;34m,\u001b[0m \u001b[0mself\u001b[0m\u001b[0;34m.\u001b[0m\u001b[0mest_Gam\u001b[0m \u001b[0;34m=\u001b[0m \u001b[0mself\u001b[0m\u001b[0;34m.\u001b[0m\u001b[0mopt_res\u001b[0m\u001b[0;34m.\u001b[0m\u001b[0malpk\u001b[0m\u001b[0;34m,\u001b[0m \u001b[0mself\u001b[0m\u001b[0;34m.\u001b[0m\u001b[0mopt_res\u001b[0m\u001b[0;34m.\u001b[0m\u001b[0mGamk\u001b[0m\u001b[0;34m\u001b[0m\u001b[0;34m\u001b[0m\u001b[0m\n\u001b[1;32m    373\u001b[0m         \u001b[0mself\u001b[0m\u001b[0;34m.\u001b[0m\u001b[0mconv_iter\u001b[0m \u001b[0;34m=\u001b[0m \u001b[0mself\u001b[0m\u001b[0;34m.\u001b[0m\u001b[0mopt_res\u001b[0m\u001b[0;34m.\u001b[0m\u001b[0mconv_iter\u001b[0m\u001b[0;34m\u001b[0m\u001b[0;34m\u001b[0m\u001b[0m\n",
      "\u001b[0;32m/data/rajlab1/user_data/jin/MyResearch/HDF_infer/notebooks/alp_conv/../../mypkg/optimization/opt.py\u001b[0m in \u001b[0;36m_fit\u001b[0;34m(self, lam, N, X, Y, Z, is_cv, is_pbar)\u001b[0m\n\u001b[1;32m    271\u001b[0m             \u001b[0mrhok_init\u001b[0m \u001b[0;34m=\u001b[0m \u001b[0mrhok_init\u001b[0m\u001b[0;34m[\u001b[0m\u001b[0;34m:\u001b[0m\u001b[0;34m(\u001b[0m\u001b[0mN\u001b[0m\u001b[0;34m*\u001b[0m\u001b[0md_SIS\u001b[0m\u001b[0;34m)\u001b[0m\u001b[0;34m]\u001b[0m\u001b[0;34m\u001b[0m\u001b[0;34m\u001b[0m\u001b[0m\n\u001b[1;32m    272\u001b[0m \u001b[0;34m\u001b[0m\u001b[0m\n\u001b[0;32m--> 273\u001b[0;31m         \u001b[0mopt_res\u001b[0m \u001b[0;34m=\u001b[0m \u001b[0mself\u001b[0m\u001b[0;34m.\u001b[0m\u001b[0m_optimization\u001b[0m\u001b[0;34m(\u001b[0m\u001b[0mmodel\u001b[0m\u001b[0;34m=\u001b[0m\u001b[0mmodel\u001b[0m\u001b[0;34m,\u001b[0m  \u001b[0mpenalty\u001b[0m\u001b[0;34m=\u001b[0m\u001b[0mpen\u001b[0m\u001b[0;34m,\u001b[0m  \u001b[0minits\u001b[0m\u001b[0;34m=\u001b[0m\u001b[0;34m[\u001b[0m\u001b[0mGam_init\u001b[0m\u001b[0;34m,\u001b[0m \u001b[0mtheta_init\u001b[0m\u001b[0;34m,\u001b[0m \u001b[0mrhok_init\u001b[0m\u001b[0;34m]\u001b[0m\u001b[0;34m,\u001b[0m \u001b[0mis_pbar\u001b[0m\u001b[0;34m=\u001b[0m\u001b[0mis_pbar\u001b[0m\u001b[0;34m)\u001b[0m\u001b[0;34m\u001b[0m\u001b[0;34m\u001b[0m\u001b[0m\n\u001b[0m\u001b[1;32m    274\u001b[0m \u001b[0;34m\u001b[0m\u001b[0m\n\u001b[1;32m    275\u001b[0m         \u001b[0;32mif\u001b[0m \u001b[0;32mnot\u001b[0m \u001b[0mis_cv\u001b[0m\u001b[0;34m:\u001b[0m\u001b[0;34m\u001b[0m\u001b[0;34m\u001b[0m\u001b[0m\n",
      "\u001b[0;32m/data/rajlab1/user_data/jin/MyResearch/HDF_infer/notebooks/alp_conv/../../mypkg/optimization/opt.py\u001b[0m in \u001b[0;36m_optimization\u001b[0;34m(self, model, penalty, inits, is_pbar)\u001b[0m\n\u001b[1;32m    311\u001b[0m                              \u001b[0;34m**\u001b[0m\u001b[0mone_step_params\u001b[0m\u001b[0;34m,\u001b[0m\u001b[0;34m\u001b[0m\u001b[0;34m\u001b[0m\u001b[0m\n\u001b[1;32m    312\u001b[0m                              )\n\u001b[0;32m--> 313\u001b[0;31m             \u001b[0mopt\u001b[0m\u001b[0;34m(\u001b[0m\u001b[0;34m)\u001b[0m\u001b[0;34m\u001b[0m\u001b[0;34m\u001b[0m\u001b[0m\n\u001b[0m\u001b[1;32m    314\u001b[0m             \u001b[0mGam_init\u001b[0m \u001b[0;34m=\u001b[0m \u001b[0mopt\u001b[0m\u001b[0;34m.\u001b[0m\u001b[0mGamk\u001b[0m\u001b[0;34m\u001b[0m\u001b[0;34m\u001b[0m\u001b[0m\n\u001b[1;32m    315\u001b[0m             \u001b[0mrhok_init\u001b[0m \u001b[0;34m=\u001b[0m \u001b[0mopt\u001b[0m\u001b[0;34m.\u001b[0m\u001b[0mrhok\u001b[0m\u001b[0;34m\u001b[0m\u001b[0;34m\u001b[0m\u001b[0m\n",
      "\u001b[0;32m/data/rajlab1/user_data/jin/MyResearch/HDF_infer/notebooks/alp_conv/../../mypkg/optimization/one_step_opt.py\u001b[0m in \u001b[0;36m__call__\u001b[0;34m(self)\u001b[0m\n\u001b[1;32m    310\u001b[0m     \u001b[0;32mdef\u001b[0m \u001b[0m__call__\u001b[0m\u001b[0;34m(\u001b[0m\u001b[0mself\u001b[0m\u001b[0;34m)\u001b[0m\u001b[0;34m:\u001b[0m\u001b[0;34m\u001b[0m\u001b[0;34m\u001b[0m\u001b[0m\n\u001b[1;32m    311\u001b[0m         \u001b[0;32mif\u001b[0m \u001b[0misinstance\u001b[0m\u001b[0;34m(\u001b[0m\u001b[0mself\u001b[0m\u001b[0;34m.\u001b[0m\u001b[0mmodel\u001b[0m\u001b[0;34m,\u001b[0m \u001b[0mLinearModel\u001b[0m\u001b[0;34m)\u001b[0m\u001b[0;34m:\u001b[0m\u001b[0;34m\u001b[0m\u001b[0;34m\u001b[0m\u001b[0m\n\u001b[0;32m--> 312\u001b[0;31m             \u001b[0mself\u001b[0m\u001b[0;34m.\u001b[0m\u001b[0m_update_theta_linearmodel\u001b[0m\u001b[0;34m(\u001b[0m\u001b[0;34m)\u001b[0m\u001b[0;34m\u001b[0m\u001b[0;34m\u001b[0m\u001b[0m\n\u001b[0m\u001b[1;32m    313\u001b[0m         \u001b[0;32melse\u001b[0m\u001b[0;34m:\u001b[0m\u001b[0;34m\u001b[0m\u001b[0;34m\u001b[0m\u001b[0m\n\u001b[1;32m    314\u001b[0m             \u001b[0;32mif\u001b[0m \u001b[0misinstance\u001b[0m\u001b[0;34m(\u001b[0m\u001b[0mself\u001b[0m\u001b[0;34m.\u001b[0m\u001b[0mparas\u001b[0m\u001b[0;34m.\u001b[0m\u001b[0mis_BFGS\u001b[0m\u001b[0;34m,\u001b[0m \u001b[0mstr\u001b[0m\u001b[0;34m)\u001b[0m\u001b[0;34m:\u001b[0m\u001b[0;34m\u001b[0m\u001b[0;34m\u001b[0m\u001b[0m\n",
      "\u001b[0;32m/data/rajlab1/user_data/jin/MyResearch/HDF_infer/notebooks/alp_conv/../../mypkg/optimization/one_step_opt.py\u001b[0m in \u001b[0;36m_update_theta_linearmodel\u001b[0;34m(self)\u001b[0m\n\u001b[1;32m    135\u001b[0m                 \u001b[0mleft_mat\u001b[0m \u001b[0;34m=\u001b[0m \u001b[0mtmp_mat\u001b[0m\u001b[0;34m/\u001b[0m\u001b[0mself\u001b[0m\u001b[0;34m.\u001b[0m\u001b[0mmodel\u001b[0m\u001b[0;34m.\u001b[0m\u001b[0msigma2\u001b[0m \u001b[0;34m+\u001b[0m \u001b[0mself\u001b[0m\u001b[0;34m.\u001b[0m\u001b[0mparas\u001b[0m\u001b[0;34m.\u001b[0m\u001b[0mbeta\u001b[0m \u001b[0;34m*\u001b[0m \u001b[0mself\u001b[0m\u001b[0;34m.\u001b[0m\u001b[0mD\u001b[0m\u001b[0;34m.\u001b[0m\u001b[0mT\u001b[0m\u001b[0;34m@\u001b[0m\u001b[0mself\u001b[0m\u001b[0;34m.\u001b[0m\u001b[0mD\u001b[0m\u001b[0;34m\u001b[0m\u001b[0;34m\u001b[0m\u001b[0m\n\u001b[1;32m    136\u001b[0m                 \u001b[0mpdb\u001b[0m\u001b[0;34m.\u001b[0m\u001b[0mset_trace\u001b[0m\u001b[0;34m(\u001b[0m\u001b[0;34m)\u001b[0m\u001b[0;34m\u001b[0m\u001b[0;34m\u001b[0m\u001b[0m\n\u001b[0;32m--> 137\u001b[0;31m                 \u001b[0mself\u001b[0m\u001b[0;34m.\u001b[0m\u001b[0mlinear_mat\u001b[0m \u001b[0;34m=\u001b[0m \u001b[0mcholesky_inv\u001b[0m\u001b[0;34m(\u001b[0m\u001b[0mleft_mat\u001b[0m\u001b[0;34m)\u001b[0m\u001b[0;34m\u001b[0m\u001b[0;34m\u001b[0m\u001b[0m\n\u001b[0m\u001b[1;32m    138\u001b[0m             \u001b[0mthetak_raw\u001b[0m \u001b[0;34m=\u001b[0m \u001b[0mself\u001b[0m\u001b[0;34m.\u001b[0m\u001b[0mlinear_mat\u001b[0m \u001b[0;34m@\u001b[0m \u001b[0mright_vec\u001b[0m\u001b[0;34m;\u001b[0m\u001b[0;34m\u001b[0m\u001b[0;34m\u001b[0m\u001b[0m\n\u001b[1;32m    139\u001b[0m \u001b[0;34m\u001b[0m\u001b[0m\n",
      "\u001b[0;32m/data/rajlab1/user_data/jin/MyResearch/HDF_infer/notebooks/alp_conv/../../mypkg/optimization/one_step_opt.py\u001b[0m in \u001b[0;36m_update_theta_linearmodel\u001b[0;34m(self)\u001b[0m\n\u001b[1;32m    135\u001b[0m                 \u001b[0mleft_mat\u001b[0m \u001b[0;34m=\u001b[0m \u001b[0mtmp_mat\u001b[0m\u001b[0;34m/\u001b[0m\u001b[0mself\u001b[0m\u001b[0;34m.\u001b[0m\u001b[0mmodel\u001b[0m\u001b[0;34m.\u001b[0m\u001b[0msigma2\u001b[0m \u001b[0;34m+\u001b[0m \u001b[0mself\u001b[0m\u001b[0;34m.\u001b[0m\u001b[0mparas\u001b[0m\u001b[0;34m.\u001b[0m\u001b[0mbeta\u001b[0m \u001b[0;34m*\u001b[0m \u001b[0mself\u001b[0m\u001b[0;34m.\u001b[0m\u001b[0mD\u001b[0m\u001b[0;34m.\u001b[0m\u001b[0mT\u001b[0m\u001b[0;34m@\u001b[0m\u001b[0mself\u001b[0m\u001b[0;34m.\u001b[0m\u001b[0mD\u001b[0m\u001b[0;34m\u001b[0m\u001b[0;34m\u001b[0m\u001b[0m\n\u001b[1;32m    136\u001b[0m                 \u001b[0mpdb\u001b[0m\u001b[0;34m.\u001b[0m\u001b[0mset_trace\u001b[0m\u001b[0;34m(\u001b[0m\u001b[0;34m)\u001b[0m\u001b[0;34m\u001b[0m\u001b[0;34m\u001b[0m\u001b[0m\n\u001b[0;32m--> 137\u001b[0;31m                 \u001b[0mself\u001b[0m\u001b[0;34m.\u001b[0m\u001b[0mlinear_mat\u001b[0m \u001b[0;34m=\u001b[0m \u001b[0mcholesky_inv\u001b[0m\u001b[0;34m(\u001b[0m\u001b[0mleft_mat\u001b[0m\u001b[0;34m)\u001b[0m\u001b[0;34m\u001b[0m\u001b[0;34m\u001b[0m\u001b[0m\n\u001b[0m\u001b[1;32m    138\u001b[0m             \u001b[0mthetak_raw\u001b[0m \u001b[0;34m=\u001b[0m \u001b[0mself\u001b[0m\u001b[0;34m.\u001b[0m\u001b[0mlinear_mat\u001b[0m \u001b[0;34m@\u001b[0m \u001b[0mright_vec\u001b[0m\u001b[0;34m;\u001b[0m\u001b[0;34m\u001b[0m\u001b[0;34m\u001b[0m\u001b[0m\n\u001b[1;32m    139\u001b[0m \u001b[0;34m\u001b[0m\u001b[0m\n",
      "\u001b[0;32m/opt/conda/lib/python3.9/bdb.py\u001b[0m in \u001b[0;36mtrace_dispatch\u001b[0;34m(self, frame, event, arg)\u001b[0m\n\u001b[1;32m     86\u001b[0m             \u001b[0;32mreturn\u001b[0m \u001b[0;31m# None\u001b[0m\u001b[0;34m\u001b[0m\u001b[0;34m\u001b[0m\u001b[0m\n\u001b[1;32m     87\u001b[0m         \u001b[0;32mif\u001b[0m \u001b[0mevent\u001b[0m \u001b[0;34m==\u001b[0m \u001b[0;34m'line'\u001b[0m\u001b[0;34m:\u001b[0m\u001b[0;34m\u001b[0m\u001b[0;34m\u001b[0m\u001b[0m\n\u001b[0;32m---> 88\u001b[0;31m             \u001b[0;32mreturn\u001b[0m \u001b[0mself\u001b[0m\u001b[0;34m.\u001b[0m\u001b[0mdispatch_line\u001b[0m\u001b[0;34m(\u001b[0m\u001b[0mframe\u001b[0m\u001b[0;34m)\u001b[0m\u001b[0;34m\u001b[0m\u001b[0;34m\u001b[0m\u001b[0m\n\u001b[0m\u001b[1;32m     89\u001b[0m         \u001b[0;32mif\u001b[0m \u001b[0mevent\u001b[0m \u001b[0;34m==\u001b[0m \u001b[0;34m'call'\u001b[0m\u001b[0;34m:\u001b[0m\u001b[0;34m\u001b[0m\u001b[0;34m\u001b[0m\u001b[0m\n\u001b[1;32m     90\u001b[0m             \u001b[0;32mreturn\u001b[0m \u001b[0mself\u001b[0m\u001b[0;34m.\u001b[0m\u001b[0mdispatch_call\u001b[0m\u001b[0;34m(\u001b[0m\u001b[0mframe\u001b[0m\u001b[0;34m,\u001b[0m \u001b[0marg\u001b[0m\u001b[0;34m)\u001b[0m\u001b[0;34m\u001b[0m\u001b[0;34m\u001b[0m\u001b[0m\n",
      "\u001b[0;32m/opt/conda/lib/python3.9/bdb.py\u001b[0m in \u001b[0;36mdispatch_line\u001b[0;34m(self, frame)\u001b[0m\n\u001b[1;32m    111\u001b[0m         \u001b[0;32mif\u001b[0m \u001b[0mself\u001b[0m\u001b[0;34m.\u001b[0m\u001b[0mstop_here\u001b[0m\u001b[0;34m(\u001b[0m\u001b[0mframe\u001b[0m\u001b[0;34m)\u001b[0m \u001b[0;32mor\u001b[0m \u001b[0mself\u001b[0m\u001b[0;34m.\u001b[0m\u001b[0mbreak_here\u001b[0m\u001b[0;34m(\u001b[0m\u001b[0mframe\u001b[0m\u001b[0;34m)\u001b[0m\u001b[0;34m:\u001b[0m\u001b[0;34m\u001b[0m\u001b[0;34m\u001b[0m\u001b[0m\n\u001b[1;32m    112\u001b[0m             \u001b[0mself\u001b[0m\u001b[0;34m.\u001b[0m\u001b[0muser_line\u001b[0m\u001b[0;34m(\u001b[0m\u001b[0mframe\u001b[0m\u001b[0;34m)\u001b[0m\u001b[0;34m\u001b[0m\u001b[0;34m\u001b[0m\u001b[0m\n\u001b[0;32m--> 113\u001b[0;31m             \u001b[0;32mif\u001b[0m \u001b[0mself\u001b[0m\u001b[0;34m.\u001b[0m\u001b[0mquitting\u001b[0m\u001b[0;34m:\u001b[0m \u001b[0;32mraise\u001b[0m \u001b[0mBdbQuit\u001b[0m\u001b[0;34m\u001b[0m\u001b[0;34m\u001b[0m\u001b[0m\n\u001b[0m\u001b[1;32m    114\u001b[0m         \u001b[0;32mreturn\u001b[0m \u001b[0mself\u001b[0m\u001b[0;34m.\u001b[0m\u001b[0mtrace_dispatch\u001b[0m\u001b[0;34m\u001b[0m\u001b[0;34m\u001b[0m\u001b[0m\n\u001b[1;32m    115\u001b[0m \u001b[0;34m\u001b[0m\u001b[0m\n",
      "\u001b[0;31mBdbQuit\u001b[0m: "
     ]
    }
   ],
   "source": [
    "seed = 1\n",
    "lam = 100\n",
    "N = 4\n",
    "\n",
    "res = _run_fn(n=100, seed=seed, lam=lam, N=N, setting=setting, is_cv=False, is_save=False, verbose=2)"
   ]
  },
  {
   "cell_type": "code",
   "execution_count": null,
   "id": "0c81e976-8949-4d0d-a4b9-a33c352d0218",
   "metadata": {
    "tags": []
   },
   "outputs": [],
   "source": []
  },
  {
   "cell_type": "code",
   "execution_count": 10,
   "id": "1e54f8cc-9d4b-4c67-a1a3-c8fc21702e91",
   "metadata": {
    "execution": {
     "iopub.execute_input": "2024-03-01T04:41:33.345691Z",
     "iopub.status.busy": "2024-03-01T04:41:33.345073Z",
     "iopub.status.idle": "2024-03-01T04:41:33.499255Z",
     "shell.execute_reply": "2024-03-01T04:41:33.498688Z",
     "shell.execute_reply.started": "2024-03-01T04:41:33.345648Z"
    },
    "tags": []
   },
   "outputs": [
    {
     "ename": "NameError",
     "evalue": "name 'get_alp_cov' is not defined",
     "output_type": "error",
     "traceback": [
      "\u001b[0;31m---------------------------------------------------------------------------\u001b[0m",
      "\u001b[0;31mNameError\u001b[0m                                 Traceback (most recent call last)",
      "\u001b[0;32m/tmp/ipykernel_49695/2876792015.py\u001b[0m in \u001b[0;36m<module>\u001b[0;34m\u001b[0m\n\u001b[0;32m----> 1\u001b[0;31m \u001b[0mget_alp_cov\u001b[0m\u001b[0;34m(\u001b[0m\u001b[0mres\u001b[0m\u001b[0;34m)\u001b[0m\u001b[0;34m\u001b[0m\u001b[0;34m\u001b[0m\u001b[0m\n\u001b[0m",
      "\u001b[0;31mNameError\u001b[0m: name 'get_alp_cov' is not defined"
     ]
    }
   ],
   "source": [
    "get_alp_cov(res)"
   ]
  },
  {
   "cell_type": "code",
   "execution_count": 32,
   "id": "4680598c-3436-4ac3-8d9e-cf017853e8fe",
   "metadata": {
    "execution": {
     "iopub.execute_input": "2024-02-29T05:32:11.903191Z",
     "iopub.status.busy": "2024-02-29T05:32:11.902366Z",
     "iopub.status.idle": "2024-02-29T05:32:12.065835Z",
     "shell.execute_reply": "2024-02-29T05:32:12.065255Z",
     "shell.execute_reply.started": "2024-02-29T05:32:11.903144Z"
    },
    "tags": []
   },
   "outputs": [],
   "source": [
    "res._prepare_hypotest()"
   ]
  },
  {
   "cell_type": "code",
   "execution_count": null,
   "id": "883c4365-e74b-4330-bb1d-e090033a7c2e",
   "metadata": {
    "tags": []
   },
   "outputs": [],
   "source": []
  },
  {
   "cell_type": "code",
   "execution_count": null,
   "id": "5a0bab91-13d0-4d5a-8d4a-c81bf753f101",
   "metadata": {},
   "outputs": [],
   "source": []
  },
  {
   "cell_type": "markdown",
   "id": "c6071092-a8df-482e-a1e4-406cf8da1ef1",
   "metadata": {},
   "source": [
    "### Multipe test"
   ]
  },
  {
   "cell_type": "code",
   "execution_count": 27,
   "id": "f2425289-d1bb-4832-ac1e-8ca55bb4cfbb",
   "metadata": {
    "execution": {
     "iopub.execute_input": "2024-02-29T19:19:22.206030Z",
     "iopub.status.busy": "2024-02-29T19:19:22.205394Z",
     "iopub.status.idle": "2024-02-29T19:19:22.249959Z",
     "shell.execute_reply": "2024-02-29T19:19:22.249255Z",
     "shell.execute_reply.started": "2024-02-29T19:19:22.205983Z"
    },
    "tags": []
   },
   "outputs": [],
   "source": [
    "def get_ci(est_alp, cov_mat, alp_idx):\n",
    "    ci_lim = 1.96*cov_mat[alp_idx, alp_idx].sqrt().item()\n",
    "    ci = [est_alp[alp_idx].item()-ci_lim,  est_alp[alp_idx].item()+ci_lim]\n",
    "    return ci\n",
    "def get_alp_cov(hdf_fit):\n",
    "    Q_mat = hdf_fit.hypo_utils.Q_mat_part\n",
    "    Q_mat_inv = torch.linalg.pinv(Q_mat, hermitian=True, rtol=1e-7)\n",
    "    Sig_mat = hdf_fit.hypo_utils.Sig_mat_part\n",
    "    Cov_mat = Q_mat_inv @ Sig_mat @  Q_mat_inv / hdf_fit.data_params.n\n",
    "    return Cov_mat[:hdf_fit.data_params.q,:hdf_fit.data_params.q];"
   ]
  },
  {
   "cell_type": "code",
   "execution_count": 31,
   "id": "506c46a1-0497-4491-bf75-fb97a632f342",
   "metadata": {
    "execution": {
     "iopub.execute_input": "2024-02-29T19:20:37.351126Z",
     "iopub.status.busy": "2024-02-29T19:20:37.350493Z",
     "iopub.status.idle": "2024-02-29T19:20:37.461295Z",
     "shell.execute_reply": "2024-02-29T19:20:37.460028Z",
     "shell.execute_reply.started": "2024-02-29T19:20:37.351079Z"
    },
    "scrolled": true,
    "tags": []
   },
   "outputs": [
    {
     "data": {
      "text/plain": [
       "200"
      ]
     },
     "execution_count": 31,
     "metadata": {},
     "output_type": "execute_result"
    }
   ],
   "source": [
    "seed = 6\n",
    "N = 12\n",
    "lam = 1.0\n",
    "\n",
    "def _run_fn1(seed, n=100):\n",
    "    res = _run_fn(seed=seed, n=n, lam=lam, N=N, setting=setting, is_cv=False, verbose=1)\n",
    "    res._prepare_hypotest()\n",
    "    test_res = edict()\n",
    "    test_res.est_alp = res.est_alp\n",
    "    test_res.cov_mat = get_alp_cov(res)\n",
    "    return test_res\n",
    "    \n",
    "num_rep = 200\n",
    "    "
   ]
  },
  {
   "cell_type": "code",
   "execution_count": 32,
   "id": "a6039cdc-1775-418e-9f3a-791495f7f672",
   "metadata": {
    "execution": {
     "iopub.execute_input": "2024-02-29T19:20:37.893696Z",
     "iopub.status.busy": "2024-02-29T19:20:37.893162Z",
     "iopub.status.idle": "2024-02-29T19:22:03.293178Z",
     "shell.execute_reply": "2024-02-29T19:22:03.292239Z",
     "shell.execute_reply.started": "2024-02-29T19:20:37.893653Z"
    },
    "scrolled": true,
    "tags": []
   },
   "outputs": [
    {
     "name": "stderr",
     "output_type": "stream",
     "text": [
      "\n",
      "n: 100:   0%|                                                                            | 0/200 [00:00<?, ?it/s]\u001b[A\n",
      "n: 100:  20%|█████████████▍                                                     | 40/200 [00:01<00:05, 30.72it/s]\u001b[A\n",
      "n: 100:  30%|████████████████████                                               | 60/200 [00:02<00:06, 22.67it/s]\u001b[A\n",
      "n: 100:  40%|██████████████████████████▊                                        | 80/200 [00:03<00:06, 19.68it/s]\u001b[A\n",
      "n: 100:  50%|█████████████████████████████████                                 | 100/200 [00:04<00:05, 19.07it/s]\u001b[A\n",
      "n: 100:  60%|███████████████████████████████████████▌                          | 120/200 [00:06<00:04, 18.28it/s]\u001b[A\n",
      "n: 100:  70%|██████████████████████████████████████████████▏                   | 140/200 [00:07<00:03, 17.48it/s]\u001b[A\n",
      "n: 100:  80%|████████████████████████████████████████████████████▊             | 160/200 [00:08<00:02, 16.79it/s]\u001b[A\n",
      "n: 100:  90%|███████████████████████████████████████████████████████████▍      | 180/200 [00:09<00:01, 16.32it/s]\u001b[A\n",
      "n: 100: 100%|██████████████████████████████████████████████████████████████████| 200/200 [00:11<00:00, 17.82it/s]\u001b[A\n",
      "\n",
      "n: 200:   0%|                                                                            | 0/200 [00:00<?, ?it/s]\u001b[A\n",
      "n: 200:  20%|█████████████▍                                                     | 40/200 [00:02<00:09, 16.70it/s]\u001b[A\n",
      "n: 200:  30%|████████████████████                                               | 60/200 [00:04<00:11, 11.89it/s]\u001b[A\n",
      "n: 200:  40%|██████████████████████████▊                                        | 80/200 [00:06<00:11, 10.68it/s]\u001b[A\n",
      "n: 200:  50%|█████████████████████████████████                                 | 100/200 [00:09<00:09, 10.04it/s]\u001b[A\n",
      "n: 200:  60%|███████████████████████████████████████▌                          | 120/200 [00:11<00:08,  9.78it/s]\u001b[A\n",
      "n: 200:  70%|██████████████████████████████████████████████▏                   | 140/200 [00:13<00:06,  9.50it/s]\u001b[A\n",
      "n: 200:  80%|████████████████████████████████████████████████████▊             | 160/200 [00:15<00:04,  9.38it/s]\u001b[A\n",
      "n: 200:  90%|███████████████████████████████████████████████████████████▍      | 180/200 [00:17<00:02,  9.32it/s]\u001b[A\n",
      "n: 200: 100%|██████████████████████████████████████████████████████████████████| 200/200 [00:20<00:00,  9.91it/s]\u001b[A\n",
      "\n",
      "n: 400:   0%|                                                                            | 0/200 [00:00<?, ?it/s]\u001b[A\n",
      "n: 400:  20%|█████████████▍                                                     | 40/200 [00:04<00:18,  8.63it/s]\u001b[A\n",
      "n: 400:  30%|████████████████████                                               | 60/200 [00:09<00:23,  6.04it/s]\u001b[A\n",
      "n: 400:  40%|██████████████████████████▊                                        | 80/200 [00:13<00:22,  5.38it/s]\u001b[A\n",
      "n: 400:  50%|█████████████████████████████████                                 | 100/200 [00:18<00:19,  5.03it/s]\u001b[A\n",
      "n: 400:  60%|███████████████████████████████████████▌                          | 120/200 [00:22<00:16,  4.80it/s]\u001b[A\n",
      "n: 400:  70%|██████████████████████████████████████████████▏                   | 140/200 [00:27<00:12,  4.66it/s]\u001b[A\n",
      "n: 400:  80%|████████████████████████████████████████████████████▊             | 160/200 [00:31<00:08,  4.64it/s]\u001b[A\n",
      "n: 400:  90%|███████████████████████████████████████████████████████████▍      | 180/200 [00:36<00:04,  4.55it/s]\u001b[A\n",
      "n: 400: 100%|██████████████████████████████████████████████████████████████████| 200/200 [00:40<00:00,  4.90it/s]\u001b[A\n"
     ]
    }
   ],
   "source": [
    "gt_alp = data_gen_params.gt_alp;\n",
    "ns = data_gen_params.ns\n",
    "ns = [100, 200, 400]\n",
    "\n",
    "ci_lens = np.zeros((len(ns), len(gt_alp)-1))\n",
    "cov_probs = np.zeros((len(ns), len(gt_alp)-1))\n",
    "for n in ns:\n",
    "    with Parallel(n_jobs=20) as parallel:\n",
    "        ress = parallel(delayed(_run_fn1)(seed, n=n) for seed in tqdm(range(num_rep), total=num_rep, desc=f\"n: {n}\"))\n",
    "    for alp_idx in range(1, data_gen_params.q):\n",
    "        cis = np.array([get_ci(res.est_alp, res.cov_mat, alp_idx=alp_idx) for res in ress]);\n",
    "        cov_prob = np.bitwise_and(cis[:, 0] < gt_alp[alp_idx], cis[:, 1] > gt_alp[alp_idx]).mean()\n",
    "        ci_len = np.diff(cis, axis=1).mean()\n",
    "        \n",
    "        cov_probs[ns.index(n), alp_idx-1] = cov_prob\n",
    "        ci_lens[ns.index(n), alp_idx-1] = ci_len"
   ]
  },
  {
   "cell_type": "code",
   "execution_count": 33,
   "id": "1817dbc6-6904-49b8-94fa-11a58061405d",
   "metadata": {
    "execution": {
     "iopub.execute_input": "2024-02-29T19:22:03.295143Z",
     "iopub.status.busy": "2024-02-29T19:22:03.294654Z",
     "iopub.status.idle": "2024-02-29T19:22:03.424980Z",
     "shell.execute_reply": "2024-02-29T19:22:03.423487Z",
     "shell.execute_reply.started": "2024-02-29T19:22:03.295110Z"
    },
    "tags": []
   },
   "outputs": [
    {
     "data": {
      "text/plain": [
       "array([[0.81 , 0.885],\n",
       "       [0.925, 0.935],\n",
       "       [0.915, 0.94 ]])"
      ]
     },
     "execution_count": 33,
     "metadata": {},
     "output_type": "execute_result"
    }
   ],
   "source": [
    "cov_probs"
   ]
  },
  {
   "cell_type": "code",
   "execution_count": 76,
   "id": "4663b55a-7b43-47e7-9a3c-588878a732cf",
   "metadata": {
    "execution": {
     "iopub.execute_input": "2024-02-29T05:54:42.653695Z",
     "iopub.status.busy": "2024-02-29T05:54:42.652921Z",
     "iopub.status.idle": "2024-02-29T05:54:42.692913Z",
     "shell.execute_reply": "2024-02-29T05:54:42.692016Z",
     "shell.execute_reply.started": "2024-02-29T05:54:42.653649Z"
    },
    "tags": []
   },
   "outputs": [
    {
     "data": {
      "text/plain": [
       "1.326774923937027"
      ]
     },
     "execution_count": 76,
     "metadata": {},
     "output_type": "execute_result"
    }
   ],
   "source": []
  },
  {
   "cell_type": "code",
   "execution_count": null,
   "id": "804cb3e7-9743-49c8-9603-32fd67e9eb84",
   "metadata": {},
   "outputs": [],
   "source": []
  }
 ],
 "metadata": {
  "kernelspec": {
   "display_name": "Python 3 (ipykernel)",
   "language": "python",
   "name": "python3"
  },
  "language_info": {
   "codemirror_mode": {
    "name": "ipython",
    "version": 3
   },
   "file_extension": ".py",
   "mimetype": "text/x-python",
   "name": "python",
   "nbconvert_exporter": "python",
   "pygments_lexer": "ipython3",
   "version": "3.9.7"
  },
  "toc": {
   "base_numbering": 1,
   "nav_menu": {},
   "number_sections": true,
   "sideBar": true,
   "skip_h1_title": false,
   "title_cell": "Table of Contents",
   "title_sidebar": "Contents",
   "toc_cell": false,
   "toc_position": {
    "height": "calc(100% - 180px)",
    "left": "10px",
    "top": "150px",
    "width": "165px"
   },
   "toc_section_display": true,
   "toc_window_display": true
  },
  "toc-autonumbering": true,
  "toc-showcode": false,
  "toc-showmarkdowntxt": false,
  "toc-showtags": false
 },
 "nbformat": 4,
 "nbformat_minor": 5
}
