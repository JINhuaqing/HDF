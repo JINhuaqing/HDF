{
 "cells": [
  {
   "cell_type": "markdown",
   "id": "df256559",
   "metadata": {},
   "source": [
    "This file contains python code for convergence test under linear setting"
   ]
  },
  {
   "cell_type": "code",
   "execution_count": 1,
   "id": "02ae980e",
   "metadata": {
    "ExecuteTime": {
     "end_time": "2022-12-14T19:56:31.390023Z",
     "start_time": "2022-12-14T19:56:31.377480Z"
    }
   },
   "outputs": [],
   "source": [
    "import sys\n",
    "sys.path.append(\"../mypkg\")"
   ]
  },
  {
   "cell_type": "code",
   "execution_count": 2,
   "id": "023df78a",
   "metadata": {
    "ExecuteTime": {
     "end_time": "2022-12-14T19:56:33.313846Z",
     "start_time": "2022-12-14T19:56:31.391822Z"
    }
   },
   "outputs": [],
   "source": [
    "import numpy as np\n",
    "import torch\n",
    "import matplotlib.pyplot as plt\n",
    "import seaborn as sns\n",
    "import xarray as xr\n",
    "from scipy.stats import pearsonr\n",
    "from numbers import Number\n",
    "import multiprocessing as mp\n",
    "\n",
    "from easydict import EasyDict as edict\n",
    "from tqdm import trange\n",
    "from scipy.io import loadmat\n",
    "from pprint import pprint\n",
    "\n",
    "plt.style.use('ggplot')\n",
    "plt.rcParams[\"savefig.bbox\"] = \"tight\""
   ]
  },
  {
   "cell_type": "code",
   "execution_count": 3,
   "id": "053a5249",
   "metadata": {
    "ExecuteTime": {
     "end_time": "2022-12-14T19:56:33.357088Z",
     "start_time": "2022-12-14T19:56:33.315842Z"
    }
   },
   "outputs": [
    {
     "data": {
      "text/plain": [
       "<module 'optimization.opt' from '/data/rajlab1/user_data/jin/MyResearch/HDF_infer/notebooks/../mypkg/optimization/opt.py'>"
      ]
     },
     "execution_count": 3,
     "metadata": {},
     "output_type": "execute_result"
    }
   ],
   "source": [
    "import importlib\n",
    "import optimization.opt\n",
    "importlib.reload(optimization.opt)"
   ]
  },
  {
   "cell_type": "code",
   "execution_count": 4,
   "id": "b0aa91b2",
   "metadata": {
    "ExecuteTime": {
     "end_time": "2022-12-14T19:56:34.115026Z",
     "start_time": "2022-12-14T19:56:33.363179Z"
    }
   },
   "outputs": [],
   "source": [
    "from constants import DATA_ROOT, RES_ROOT, FIG_ROOT\n",
    "from default_paras import def_paras\n",
    "\n",
    "from hdf_utils.data_gen import gen_covs, gen_simu_psd\n",
    "from hdf_utils.fns import fn1, fn2, fn3, fn4, fn5, zero_fn\n",
    "from hdf_utils.likelihood import obt_lin_tm\n",
    "from utils.matrix import col_vec_fn, col_vec2mat_fn, conju_grad, svd_inverse\n",
    "from utils.functions import logit_fn\n",
    "from utils.misc import save_pkl\n",
    "from splines import obt_bsp_basis_Rfn, obt_bsp_basis_Rfn_wrapper\n",
    "from projection import euclidean_proj_l1ball\n",
    "from optimization.one_step_opt import OneStepOpt\n",
    "from optimization.cross_validation import CV_err_linear_fn\n",
    "from optimization.opt import optimization\n",
    "\n",
    "from penalties.scad_pen import SCAD\n",
    "from models.logistic_model import LogisticModel\n",
    "from models.linear_model import LinearModel\n"
   ]
  },
  {
   "cell_type": "code",
   "execution_count": 5,
   "id": "fdddf8a6",
   "metadata": {
    "ExecuteTime": {
     "end_time": "2022-12-14T19:56:34.123143Z",
     "start_time": "2022-12-14T19:56:34.117978Z"
    }
   },
   "outputs": [],
   "source": [
    "torch.set_default_tensor_type(torch.DoubleTensor)"
   ]
  },
  {
   "cell_type": "code",
   "execution_count": null,
   "id": "d0af2f35",
   "metadata": {},
   "outputs": [],
   "source": []
  },
  {
   "cell_type": "markdown",
   "id": "dd9c6514",
   "metadata": {},
   "source": [
    "## Param and fns"
   ]
  },
  {
   "cell_type": "markdown",
   "id": "f349a2a4",
   "metadata": {},
   "source": [
    "### Params"
   ]
  },
  {
   "cell_type": "code",
   "execution_count": 6,
   "id": "fd29f0de",
   "metadata": {
    "ExecuteTime": {
     "end_time": "2022-12-14T19:56:34.165079Z",
     "start_time": "2022-12-14T19:56:34.125621Z"
    }
   },
   "outputs": [
    {
     "name": "stdout",
     "output_type": "stream",
     "text": [
      "The number of B-spline basis is 7.\n"
     ]
    }
   ],
   "source": [
    "np.random.seed(0)\n",
    "paras = edict(def_paras.copy())\n",
    "\n",
    "# Others\n",
    "paras.num_rep = 20\n",
    "paras.ns = [100, 300, 900, 2700, 8100, 24300]\n",
    "paras.can_lams = [1e-1, 3e-1, 1e0, 3e0, 9e0, 3e1]\n",
    "paras.can_Ns = [5, 10, 15, 20]\n",
    "paras.ind_freq = np.linspace(1, 40, 40) # freqs\n",
    "paras.init_noise_sd = 100 # the sd of the noise added to the true value for initial values\n",
    "\n",
    "# generating dataset\n",
    "paras.n = 1000 # num of data obs to be genareted\n",
    "paras.npts = 40 # num of pts to evaluate X(s)\n",
    "paras.d = 10 # num of ROIs\n",
    "paras.q = 5 # num of other covariates\n",
    "paras.sigma2 = 1 # variance of the error\n",
    "paras.types_ = [\"int\", 2, 2, \"c\", \"c\"]\n",
    "\n",
    "# b-spline\n",
    "paras.N = int(3*paras.n**(1/paras.ord/2)) # num of basis for bsp\n",
    "paras.x = np.linspace(0, 1, paras.npts)\n",
    "paras.basis_mat = torch.DoubleTensor(obt_bsp_basis_Rfn_wrapper(paras.x, paras.N, paras.ord))\n",
    "assert paras.N == paras.basis_mat.shape[1]\n",
    "print(f\"The number of B-spline basis is {paras.N:.0f}.\")\n",
    "\n",
    "# True parameters\n",
    "paras.alp_GT = np.array([5, 1, -2, 3, -4])\n",
    "\n",
    "beta_type_GT = [fn1, fn2, fn3] + [zero_fn]*(paras.d-3-2) + [fn4, fn5]\n",
    "paras.beta_GT = np.array([_fn(paras.x) for _fn in beta_type_GT]).T\n",
    "paras.Gam_est = (np.linalg.inv(paras.basis_mat.numpy().T \n",
    "                               @ paras.basis_mat.numpy()) \n",
    "                 @ paras.basis_mat.numpy().T \n",
    "                 @ paras.beta_GT)\n",
    "\n",
    "# optimization\n",
    "paras.Rmin = 2*(np.linalg.norm(paras.Gam_est/np.sqrt(paras.N), axis=0).sum() + np.abs(paras.alp_GT).sum())\n",
    "paras.sel_idx = np.arange(2, paras.d) # M^c set\n",
    "paras.num_cv_fold = 5\n",
    "paras.Rfct = 2"
   ]
  },
  {
   "cell_type": "code",
   "execution_count": 7,
   "id": "5380103d",
   "metadata": {
    "ExecuteTime": {
     "end_time": "2022-12-14T19:56:34.182412Z",
     "start_time": "2022-12-14T19:56:34.167890Z"
    }
   },
   "outputs": [],
   "source": [
    "paras.save_dir = RES_ROOT/\"linear_test\"\n",
    "if not paras.save_dir.exists():\n",
    "    paras.save_dir.mkdir()"
   ]
  },
  {
   "cell_type": "code",
   "execution_count": null,
   "id": "af372a58",
   "metadata": {},
   "outputs": [],
   "source": []
  },
  {
   "cell_type": "markdown",
   "id": "51957fcb",
   "metadata": {
    "ExecuteTime": {
     "end_time": "2022-12-08T18:09:55.509389Z",
     "start_time": "2022-12-08T18:09:55.343396Z"
    }
   },
   "source": [
    "### Fns"
   ]
  },
  {
   "cell_type": "code",
   "execution_count": 8,
   "id": "0f30b88f",
   "metadata": {
    "ExecuteTime": {
     "end_time": "2022-12-14T19:56:35.333133Z",
     "start_time": "2022-12-14T19:56:35.321983Z"
    },
    "code_folding": []
   },
   "outputs": [],
   "source": [
    "def _gen_simu_data_all(seed, paras):\n",
    "    np.random.seed(seed)\n",
    "    _paras = edict(paras.copy())\n",
    "    # simulated PSD\n",
    "    assert len(_paras.types_) == _paras.q\n",
    "    assert len(_paras.alp_GT) == _paras.q\n",
    "    \n",
    "    simu_psd = gen_simu_psd(_paras.n, _paras.d, 10)\n",
    "    simu_covs = gen_covs(_paras.n, _paras.types_)\n",
    "    \n",
    "    # linear term and Y\n",
    "    int_part = np.sum(_paras.beta_GT.T* simu_psd[:, :, :], axis=1).mean(axis=1)\n",
    "    cov_part = simu_covs @ _paras.alp_GT \n",
    "    \n",
    "    # linear term\n",
    "    lin_term = cov_part + int_part\n",
    "    \n",
    "    # Y \n",
    "    rvs = np.random.rand(_paras.n)\n",
    "    Y = lin_term + np.random.randn(_paras.n)*np.sqrt(_paras.sigma2)\n",
    "    \n",
    "    # To torch\n",
    "    X = torch.tensor(simu_psd) # n x d x npts\n",
    "    Z = torch.tensor(simu_covs) # n x q\n",
    "    Y = torch.tensor(Y)\n",
    "    \n",
    "    all_data = edict()\n",
    "    all_data.X = X\n",
    "    all_data.Y = Y\n",
    "    all_data.Z = Z\n",
    "    return all_data"
   ]
  },
  {
   "cell_type": "code",
   "execution_count": null,
   "id": "b1a2b52d",
   "metadata": {},
   "outputs": [],
   "source": []
  },
  {
   "cell_type": "markdown",
   "id": "e4043966",
   "metadata": {},
   "source": [
    "## Simu"
   ]
  },
  {
   "cell_type": "code",
   "execution_count": 9,
   "id": "2492276f",
   "metadata": {
    "ExecuteTime": {
     "end_time": "2022-12-14T19:56:36.849272Z",
     "start_time": "2022-12-14T19:56:36.831752Z"
    },
    "code_folding": []
   },
   "outputs": [],
   "source": [
    "def _run_fn(seed, lam, N, paras):\n",
    "    np.random.seed(seed)\n",
    "    torch.manual_seed(seed)\n",
    "    \n",
    "    _paras = edict(paras.copy())\n",
    "    _paras.lam = lam\n",
    "    _paras.N = N\n",
    "    _paras.basis_mat = torch.DoubleTensor(obt_bsp_basis_Rfn_wrapper(_paras.x, _paras.N, _paras.ord))\n",
    "    _paras.Gam_est = (np.linalg.inv(_paras.basis_mat.numpy().T \n",
    "                               @ _paras.basis_mat.numpy()) \n",
    "                               @ _paras.basis_mat.numpy().T \n",
    "                               @ _paras.beta_GT)\n",
    "    _paras.Rmin = 2*(np.linalg.norm(_paras.Gam_est/np.sqrt(_paras.N), axis=0).sum() + np.abs(_paras.alp_GT).sum())\n",
    "    _paras.seed = seed\n",
    "    _paras.Rv = _paras.Rfct * _paras.Rmin\n",
    "    print((_paras.seed, lam, N), \"\\n\")\n",
    "    \n",
    "    alp_init = torch.tensor(_paras.alp_GT) + torch.randn(_paras.q)*_paras.init_noise_sd\n",
    "    Gam_init = torch.tensor(_paras.Gam_est) + torch.randn(_paras.N, _paras.d)*_paras.init_noise_sd\n",
    "    theta_init = torch.cat([alp_init, col_vec_fn(Gam_init)/np.sqrt(_paras.N)])\n",
    "    rhok_init = torch.randn(_paras.d*_paras.N)\n",
    "    \n",
    "    cur_data = _gen_simu_data_all(_paras.seed, _paras)\n",
    "    model = LinearModel(Y=cur_data.Y, X=cur_data.X, Z=cur_data.Z, \n",
    "                        basis_mat=_paras.basis_mat, \n",
    "                        sigma2=_paras.sigma2)\n",
    "    # 3e0\n",
    "    pen = SCAD(lams=_paras.lam, a=_paras.a,  sel_idx=_paras.sel_idx)\n",
    "    \n",
    "\n",
    "    main_res = optimization(model=model, penalty=pen, \n",
    "                            inits=[alp_init, Gam_init, theta_init, rhok_init],\n",
    "                            is_prg=False,\n",
    "                            **_paras\n",
    "                           )\n",
    "\n",
    "    cv_errs = CV_err_linear_fn(data=cur_data, penalty=pen, \n",
    "                              inits=[alp_init, Gam_init, theta_init, rhok_init], \n",
    "                              is_prg=False, \n",
    "                              **_paras\n",
    "                              )\n",
    "    return main_res, cv_errs, _paras"
   ]
  },
  {
   "cell_type": "code",
   "execution_count": 31,
   "id": "f109f7cd",
   "metadata": {
    "ExecuteTime": {
     "end_time": "2022-12-14T19:56:19.647418Z",
     "start_time": "2022-12-14T19:56:17.010253Z"
    }
   },
   "outputs": [
    {
     "name": "stdout",
     "output_type": "stream",
     "text": [
      "(1, 0.1, 5)(0, 0.1, 5)  \n",
      "(2, 0.1, 5)\n",
      "\n",
      " \n",
      "(3, 0.1, 5)\n",
      " \n",
      "\n",
      "\n",
      "(4, 0.1, 5)(5, 0.1, 5)(6, 0.1, 5)   \n",
      "\n",
      "(7, 0.1, 5)\n",
      " \n",
      "(9, 0.1, 5)(8, 0.1, 5)\n",
      "\n",
      " (11, 0.1, 5)"
     ]
    }
   ],
   "source": [
    "num_core = 20\n",
    "if __name__ == \"__main__\":\n",
    "    for cur_lam in paras.can_lams:\n",
    "        for cur_N in paras.can_Ns:\n",
    "            fil_name = f\"result_lam1-{cur_lam*100:.0f}_Rfct-20_N-{cur_N:.0f}_n-{paras.n:.0f}.pkl\"\n",
    "            with mp.Pool(num_core) as pool:\n",
    "                res_proc = []\n",
    "                for seed in range(paras.num_rep):\n",
    "                    res_proc.append(pool.apply_async(_run_fn, (seed, cur_lam, cur_N, paras)))\n",
    "                opt_results = [ix.get() for ix in res_proc]\n",
    "            pool.join()\n",
    "            #save_pkl(paras.save_dir/fil_name, opt_results)\n"
   ]
  },
  {
   "cell_type": "code",
   "execution_count": 10,
   "id": "6a6ee8f2",
   "metadata": {
    "ExecuteTime": {
     "end_time": "2022-12-14T19:57:19.562984Z",
     "start_time": "2022-12-14T19:56:40.056552Z"
    }
   },
   "outputs": [
    {
     "name": "stdout",
     "output_type": "stream",
     "text": [
      "(0, 0.1, 8) \n",
      "\n",
      "(0, 1e-05, 8) \n",
      "\n",
      "(0, 1, 8) \n",
      "\n",
      "(0, 2, 8) \n",
      "\n",
      "(0, 3, 8) \n",
      "\n",
      "(0, 10, 8) \n",
      "\n",
      "(0, 100, 8) \n",
      "\n"
     ]
    }
   ],
   "source": [
    "ress = []\n",
    "for cur_lam in [1e-1, 1e-5, 1, 2, 3, 10, 100]:\n",
    "    ress.append(_run_fn(0, cur_lam, 8, paras))"
   ]
  },
  {
   "cell_type": "code",
   "execution_count": 11,
   "id": "c8a66a71",
   "metadata": {
    "ExecuteTime": {
     "end_time": "2022-12-14T19:57:21.224299Z",
     "start_time": "2022-12-14T19:57:21.218275Z"
    }
   },
   "outputs": [],
   "source": [
    "lams = [1e-1, 1e-5, 1, 2, 3, 10, 100]\n",
    "cv_e = [np.mean(res[1]**2) for res in ress]"
   ]
  },
  {
   "cell_type": "code",
   "execution_count": 12,
   "id": "8cc36a13",
   "metadata": {
    "ExecuteTime": {
     "end_time": "2022-12-14T19:57:21.817068Z",
     "start_time": "2022-12-14T19:57:21.810336Z"
    }
   },
   "outputs": [
    {
     "data": {
      "text/plain": [
       "[1.4115241379083552,\n",
       " 1.4115241379083552,\n",
       " 1.4089394906383175,\n",
       " 1.3963656738049406,\n",
       " 12.058464496821678,\n",
       " 27.00176840779858,\n",
       " 27.001753918125207]"
      ]
     },
     "execution_count": 12,
     "metadata": {},
     "output_type": "execute_result"
    }
   ],
   "source": [
    "cv_e"
   ]
  },
  {
   "cell_type": "code",
   "execution_count": 14,
   "id": "2ecd124c",
   "metadata": {
    "ExecuteTime": {
     "end_time": "2022-12-14T19:57:46.600964Z",
     "start_time": "2022-12-14T19:57:46.116710Z"
    }
   },
   "outputs": [
    {
     "data": {
      "image/png": "[encoded data removed]",
      "text/plain": [
       "<Figure size 432x288 with 1 Axes>"
      ]
     },
     "metadata": {},
     "output_type": "display_data"
    }
   ],
   "source": [
    "plt.plot(lams, cv_e, \"o--\")\n",
    "plt.xscale(\"log\")\n",
    "plt.yscale(\"log\")"
   ]
  },
  {
   "cell_type": "code",
   "execution_count": null,
   "id": "8497793b",
   "metadata": {},
   "outputs": [],
   "source": []
  }
 ],
 "metadata": {
  "kernelspec": {
   "display_name": "Python 3 (ipykernel)",
   "language": "python",
   "name": "python3"
  },
  "language_info": {
   "codemirror_mode": {
    "name": "ipython",
    "version": 3
   },
   "file_extension": ".py",
   "mimetype": "text/x-python",
   "name": "python",
   "nbconvert_exporter": "python",
   "pygments_lexer": "ipython3",
   "version": "3.9.7"
  },
  "toc": {
   "base_numbering": 1,
   "nav_menu": {},
   "number_sections": true,
   "sideBar": true,
   "skip_h1_title": false,
   "title_cell": "Table of Contents",
   "title_sidebar": "Contents",
   "toc_cell": false,
   "toc_position": {},
   "toc_section_display": true,
   "toc_window_display": true
  }
 },
 "nbformat": 4,
 "nbformat_minor": 5
}
