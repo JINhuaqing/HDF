{
 "cells": [
  {
   "cell_type": "markdown",
   "id": "faf0a805",
   "metadata": {},
   "source": [
    "This file contains python code to check the hypothesis testing"
   ]
  },
  {
   "cell_type": "code",
   "execution_count": 1,
   "id": "02ae980e",
   "metadata": {
    "ExecuteTime": {
     "start_time": "2023-06-01T16:33:31.981Z"
    },
    "execution": {
     "iopub.execute_input": "2023-06-01T16:38:12.559160Z",
     "iopub.status.busy": "2023-06-01T16:38:12.558464Z",
     "iopub.status.idle": "2023-06-01T16:38:12.571920Z",
     "shell.execute_reply": "2023-06-01T16:38:12.570744Z",
     "shell.execute_reply.started": "2023-06-01T16:38:12.559103Z"
    }
   },
   "outputs": [],
   "source": [
    "import sys\n",
    "sys.path.append(\"../mypkg\")"
   ]
  },
  {
   "cell_type": "code",
   "execution_count": 3,
   "id": "023df78a",
   "metadata": {
    "ExecuteTime": {
     "end_time": "2023-06-01T03:45:59.334116Z",
     "start_time": "2023-06-01T03:45:57.134899Z"
    },
    "execution": {
     "iopub.execute_input": "2023-06-01T16:38:45.821641Z",
     "iopub.status.busy": "2023-06-01T16:38:45.821008Z",
     "iopub.status.idle": "2023-06-01T16:38:45.872551Z",
     "shell.execute_reply": "2023-06-01T16:38:45.871578Z",
     "shell.execute_reply.started": "2023-06-01T16:38:45.821598Z"
    },
    "tags": []
   },
   "outputs": [],
   "source": [
    "import numpy as np\n",
    "import torch\n",
    "import matplotlib.pyplot as plt\n",
    "import seaborn as sns\n",
    "#import xarray as xr\n",
    "from scipy.stats import pearsonr\n",
    "from numbers import Number\n",
    "import multiprocessing as mp\n",
    "\n",
    "from easydict import EasyDict as edict\n",
    "from tqdm import trange,tqdm\n",
    "from scipy.io import loadmat\n",
    "from pprint import pprint\n"
   ]
  },
  {
   "cell_type": "code",
   "execution_count": 4,
   "id": "053a5249",
   "metadata": {
    "ExecuteTime": {
     "end_time": "2023-06-01T03:45:59.357256Z",
     "start_time": "2023-06-01T03:45:59.337409Z"
    },
    "execution": {
     "iopub.execute_input": "2023-06-01T16:38:46.403181Z",
     "iopub.status.busy": "2023-06-01T16:38:46.402671Z",
     "iopub.status.idle": "2023-06-01T16:38:46.445673Z",
     "shell.execute_reply": "2023-06-01T16:38:46.444719Z",
     "shell.execute_reply.started": "2023-06-01T16:38:46.403141Z"
    }
   },
   "outputs": [
    {
     "data": {
      "text/plain": [
       "<module 'constants' from '/data/rajlab1/user_data/jin/MyResearch/HDF_infer/notebooks/../mypkg/constants.py'>"
      ]
     },
     "execution_count": 4,
     "metadata": {},
     "output_type": "execute_result"
    }
   ],
   "source": [
    "import importlib\n",
    "import constants\n",
    "importlib.reload(constants)"
   ]
  },
  {
   "cell_type": "code",
   "execution_count": 5,
   "id": "b0aa91b2",
   "metadata": {
    "ExecuteTime": {
     "end_time": "2023-06-01T03:46:03.292794Z",
     "start_time": "2023-06-01T03:45:59.359710Z"
    },
    "execution": {
     "iopub.execute_input": "2023-06-01T16:38:46.763788Z",
     "iopub.status.busy": "2023-06-01T16:38:46.763249Z",
     "iopub.status.idle": "2023-06-01T16:39:13.239477Z",
     "shell.execute_reply": "2023-06-01T16:39:13.237860Z",
     "shell.execute_reply.started": "2023-06-01T16:38:46.763744Z"
    }
   },
   "outputs": [
    {
     "name": "stdout",
     "output_type": "stream",
     "text": [
      "Load file /data/rajlab1/user_data/jin/MyResearch/HDF_infer/notebooks/../mypkg/../data/AD_vs_Ctrl_ts/AD88_all.pkl\n",
      "Load file /data/rajlab1/user_data/jin/MyResearch/HDF_infer/notebooks/../mypkg/../data/AD_vs_Ctrl_ts/Ctrl92_all.pkl\n",
      "Load file /data/rajlab1/user_data/jin/MyResearch/HDF_infer/notebooks/../mypkg/../data/ctrl_vs_AD_nooutlier.pkl\n"
     ]
    }
   ],
   "source": [
    "from constants import DATA_ROOT, RES_ROOT, FIG_ROOT, MIDRES_ROOT\n",
    "from default_paras import def_paras\n",
    "\n",
    "from hdf_utils.data_gen import gen_covs, gen_simu_psd, gen_simu_ts\n",
    "from hdf_utils.fns import fn1, fn2, fn3, fn4, fn5, zero_fn\n",
    "from hdf_utils.fns_sinica import coef_fn, fourier_basis_fn\n",
    "from hdf_utils.likelihood import obt_lin_tm\n",
    "from hdf_utils.SIS import SIS_linear\n",
    "from utils.matrix import col_vec_fn, col_vec2mat_fn, conju_grad, svd_inverse\n",
    "from utils.functions import logit_fn\n",
    "from utils.misc import save_pkl, load_pkl\n",
    "from splines import obt_bsp_basis_Rfn, obt_bsp_basis_Rfn_wrapper\n",
    "from projection import euclidean_proj_l1ball\n",
    "from optimization.one_step_opt import OneStepOpt\n",
    "from optimization.cross_validation import CV_err_linear_fn\n",
    "from optimization.opt import optimization\n",
    "\n",
    "from penalties.scad_pen import SCAD\n",
    "from models.logistic_model import LogisticModel\n",
    "from models.linear_model import LinearModel\n"
   ]
  },
  {
   "cell_type": "code",
   "execution_count": 6,
   "id": "fe0a4a46",
   "metadata": {
    "ExecuteTime": {
     "end_time": "2023-06-01T03:46:03.306274Z",
     "start_time": "2023-06-01T03:46:03.295944Z"
    },
    "execution": {
     "iopub.execute_input": "2023-06-01T16:39:13.244358Z",
     "iopub.status.busy": "2023-06-01T16:39:13.243472Z",
     "iopub.status.idle": "2023-06-01T16:39:13.267042Z",
     "shell.execute_reply": "2023-06-01T16:39:13.265801Z",
     "shell.execute_reply.started": "2023-06-01T16:39:13.244307Z"
    }
   },
   "outputs": [],
   "source": [
    "plt.style.use(FIG_ROOT/\"base.mplstyle\")"
   ]
  },
  {
   "cell_type": "code",
   "execution_count": 7,
   "id": "fdddf8a6",
   "metadata": {
    "ExecuteTime": {
     "end_time": "2023-06-01T03:46:03.332012Z",
     "start_time": "2023-06-01T03:46:03.309330Z"
    },
    "execution": {
     "iopub.execute_input": "2023-06-01T16:39:13.269090Z",
     "iopub.status.busy": "2023-06-01T16:39:13.268467Z",
     "iopub.status.idle": "2023-06-01T16:39:13.287375Z",
     "shell.execute_reply": "2023-06-01T16:39:13.286170Z",
     "shell.execute_reply.started": "2023-06-01T16:39:13.269046Z"
    }
   },
   "outputs": [],
   "source": [
    "torch.set_default_tensor_type(torch.DoubleTensor)"
   ]
  },
  {
   "cell_type": "code",
   "execution_count": null,
   "id": "d0af2f35",
   "metadata": {},
   "outputs": [],
   "source": []
  },
  {
   "cell_type": "markdown",
   "id": "dd9c6514",
   "metadata": {},
   "source": [
    "## Param and fns"
   ]
  },
  {
   "cell_type": "markdown",
   "id": "21e4ccea",
   "metadata": {},
   "source": [
    "### Params"
   ]
  },
  {
   "cell_type": "code",
   "execution_count": 142,
   "id": "fd29f0de",
   "metadata": {
    "ExecuteTime": {
     "end_time": "2023-06-01T03:46:03.388773Z",
     "start_time": "2023-06-01T03:46:03.334888Z"
    },
    "execution": {
     "iopub.execute_input": "2023-06-01T19:52:20.536243Z",
     "iopub.status.busy": "2023-06-01T19:52:20.535623Z",
     "iopub.status.idle": "2023-06-01T19:52:20.563012Z",
     "shell.execute_reply": "2023-06-01T19:52:20.561898Z",
     "shell.execute_reply.started": "2023-06-01T19:52:20.536195Z"
    },
    "tags": []
   },
   "outputs": [
    {
     "name": "stdout",
     "output_type": "stream",
     "text": [
      "The number of B-spline basis is 6.\n"
     ]
    }
   ],
   "source": [
    "np.random.seed(0)\n",
    "paras = edict(def_paras.copy())\n",
    "\n",
    "# Others\n",
    "paras.num_rep = 20\n",
    "paras.ns = [100, 300, 900, 2700, 8100, 24300]\n",
    "paras.can_lams = [1e-1, 3e-1, 1e0, 3e0, 9e0, 3e1]\n",
    "paras.can_Ns = [5, 10, 15, 20]\n",
    "paras.ind_freq = np.linspace(1, 40, 40) # freqs\n",
    "paras.init_noise_sd = 0 # the sd of the noise added to the true value for initial values\n",
    "#paras.SIS_ratio = 1 # the ratio to keep with SIS procedure\n",
    "paras.SIS_ratio = 0.02 # the ratio to keep with SIS procedure\n",
    "paras.svdinv_eps = 0.999\n",
    "\n",
    "# generating dataset\n",
    "paras.n = 1000 # num of data obs to be genareted\n",
    "paras.npts = 100 # num of pts to evaluate X(s)\n",
    "paras.d = 200 # num of ROIs\n",
    "paras.q = 5 # num of other covariates\n",
    "paras.sigma2 = 1 # variance of the error\n",
    "paras.types_ = [\"int\", 2, 2, \"c\", \"c\"]\n",
    "\n",
    "# b-spline\n",
    "paras.N = 6 # int(3*paras.n**(1/paras.ord/2)) # num of basis for bsp\n",
    "paras.x = np.linspace(0, 1, paras.npts)\n",
    "paras.basis_mat = torch.DoubleTensor(obt_bsp_basis_Rfn_wrapper(paras.x, paras.N, paras.ord))\n",
    "assert paras.N == paras.basis_mat.shape[1]\n",
    "print(f\"The number of B-spline basis is {paras.N:.0f}.\")\n",
    "\n",
    "# True parameters\n",
    "paras.alp_GT = np.array([5, 1, -2, 3, -4])\n",
    "\n",
    "# first way\n",
    "#beta_type_GT = [fn1, fn2, fn2] + [zero_fn]*(paras.d-3-2) + [fn1, fn2]\n",
    "#paras.beta_GT = np.array([_fn(paras.x) for _fn in beta_type_GT]).T\n",
    "# second way, fourier basis\n",
    "paras.fourier_basis = fourier_basis_fn(paras.x)\n",
    "#paras.fourier_basis_coefs = ([coef_fn(0.1), coef_fn(0.3), coef_fn(0.5)] + \n",
    "#                             [np.zeros(50)] * (paras.d-3-2) +\n",
    "#                             [coef_fn(0.7), coef_fn(0.9)]\n",
    "#                             )\n",
    "paras.fourier_basis_coefs = ([np.zeros(50)] * (paras.d-2) +\n",
    "                             [coef_fn(0.7), coef_fn(0.9)]\n",
    "                             )\n",
    "paras.fourier_basis_coefs = np.array(paras.fourier_basis_coefs).T * 5\n",
    "paras.beta_GT = paras.fourier_basis @ paras.fourier_basis_coefs #* 10\n",
    "#\n",
    "paras.Gam_GT_est = (np.linalg.inv(paras.basis_mat.numpy().T \n",
    "                               @ paras.basis_mat.numpy()) \n",
    "                               @ paras.basis_mat.numpy().T \n",
    "                               @ paras.beta_GT)\n",
    "\n",
    "# optimization\n",
    "paras.Rmin = 2*(np.linalg.norm(paras.Gam_GT_est/np.sqrt(paras.N), axis=0).sum() + np.abs(paras.alp_GT).sum())\n",
    "paras.sel_idx = np.arange(2, paras.d) # M^c set, \n",
    "#without loss of generality, we assume the idxs in M is the first m betas\n",
    "paras.num_cv_fold = 5\n",
    "paras.Rfct = 2\n",
    "paras.stop_cv = 5e-5\n",
    "#paras.stop_cv = 5e-4\n",
    "#paras.max_iter = 10000\n",
    "paras.max_iter = 2000\n",
    "\n",
    "# hypothesis test\n",
    "paras.M_idxs = np.delete(np.arange(paras.d), paras.sel_idx) # the M set\n",
    "paras.Cmat = np.eye(len(paras.M_idxs)) # Cmat \\times beta_M(s), r x m\n",
    "paras.r, paras.m = paras.Cmat.shape\n",
    "paras.t_vec = np.zeros(paras.Cmat.shape[0]) # t vec, typically it is zero vector\n"
   ]
  },
  {
   "cell_type": "code",
   "execution_count": 143,
   "id": "75dc09a0",
   "metadata": {
    "ExecuteTime": {
     "end_time": "2023-06-01T03:46:03.411157Z",
     "start_time": "2023-06-01T03:46:03.391948Z"
    },
    "execution": {
     "iopub.execute_input": "2023-06-01T19:52:20.843860Z",
     "iopub.status.busy": "2023-06-01T19:52:20.843379Z",
     "iopub.status.idle": "2023-06-01T19:52:20.857246Z",
     "shell.execute_reply": "2023-06-01T19:52:20.856199Z",
     "shell.execute_reply.started": "2023-06-01T19:52:20.843821Z"
    },
    "tags": []
   },
   "outputs": [],
   "source": [
    "paras.save_dir = RES_ROOT/\"linear_test\"\n",
    "if not paras.save_dir.exists():\n",
    "    paras.save_dir.mkdir()"
   ]
  },
  {
   "cell_type": "code",
   "execution_count": null,
   "id": "75e10fd4",
   "metadata": {},
   "outputs": [],
   "source": []
  },
  {
   "cell_type": "markdown",
   "id": "66c2f90f",
   "metadata": {
    "ExecuteTime": {
     "end_time": "2022-12-08T18:09:55.509389Z",
     "start_time": "2022-12-08T18:09:55.343396Z"
    }
   },
   "source": [
    "### Fns"
   ]
  },
  {
   "cell_type": "code",
   "execution_count": 144,
   "id": "fea96e90",
   "metadata": {
    "ExecuteTime": {
     "end_time": "2023-06-01T03:46:03.435644Z",
     "start_time": "2023-06-01T03:46:03.415214Z"
    },
    "execution": {
     "iopub.execute_input": "2023-06-01T19:52:21.708776Z",
     "iopub.status.busy": "2023-06-01T19:52:21.708237Z",
     "iopub.status.idle": "2023-06-01T19:52:21.716085Z",
     "shell.execute_reply": "2023-06-01T19:52:21.715034Z",
     "shell.execute_reply.started": "2023-06-01T19:52:21.708733Z"
    },
    "tags": []
   },
   "outputs": [],
   "source": [
    "\n",
    "def MS2idxs(q, N, MS_unions):\n",
    "    \"\"\"This fn is to return the idxs to keep in mat Q, Sigma and vec Theta\n",
    "    \"\"\"\n",
    "    idxs_all = [np.arange(0, q)]\n",
    "    for cur_idx in MS_unions:\n",
    "        idxs_all.append(np.arange(q+cur_idx*N, q+(cur_idx+1)*N))\n",
    "    idxs_all = np.concatenate(idxs_all)\n",
    "    return idxs_all"
   ]
  },
  {
   "cell_type": "code",
   "execution_count": 145,
   "id": "2db5c76b",
   "metadata": {
    "ExecuteTime": {
     "end_time": "2023-06-01T03:46:03.464714Z",
     "start_time": "2023-06-01T03:46:03.438209Z"
    },
    "execution": {
     "iopub.execute_input": "2023-06-01T19:52:22.045513Z",
     "iopub.status.busy": "2023-06-01T19:52:22.045011Z",
     "iopub.status.idle": "2023-06-01T19:52:22.054191Z",
     "shell.execute_reply": "2023-06-01T19:52:22.052975Z",
     "shell.execute_reply.started": "2023-06-01T19:52:22.045473Z"
    },
    "tags": []
   },
   "outputs": [],
   "source": [
    "def get_Amat(k, paras):\n",
    "    \"\"\"Get A matrix for hypothesis test\n",
    "        k: Num of elements in S\n",
    "        paras: parameters\n",
    "                required: N, Cmat, m, q\n",
    "    \"\"\"\n",
    "    _paras = edict(paras.copy())\n",
    "    \n",
    "    part1 = np.kron(_paras.Cmat, np.eye(_paras.N))\n",
    "    part2 = np.zeros((_paras.m*_paras.N, _paras.q+(_paras.m+k)*_paras.N))\n",
    "    part2[:, _paras.q:(_paras.q+_paras.m*_paras.N)] = np.eye(_paras.m*_paras.N)\n",
    "    A = part1 @ part2\n",
    "    return A"
   ]
  },
  {
   "cell_type": "code",
   "execution_count": null,
   "id": "cac9ddbe",
   "metadata": {},
   "outputs": [],
   "source": []
  },
  {
   "cell_type": "code",
   "execution_count": 146,
   "id": "0f30b88f",
   "metadata": {
    "ExecuteTime": {
     "end_time": "2023-06-01T03:46:03.503395Z",
     "start_time": "2023-06-01T03:46:03.467338Z"
    },
    "code_folding": [],
    "execution": {
     "iopub.execute_input": "2023-06-01T19:52:23.181127Z",
     "iopub.status.busy": "2023-06-01T19:52:23.180605Z",
     "iopub.status.idle": "2023-06-01T19:52:23.196561Z",
     "shell.execute_reply": "2023-06-01T19:52:23.195681Z",
     "shell.execute_reply.started": "2023-06-01T19:52:23.181085Z"
    },
    "tags": []
   },
   "outputs": [],
   "source": [
    "def get_filename(params):\n",
    "    keys = [\"seed\", \"n\", \"d\", \"decimate_rate\"]\n",
    "    return '_'.join(f\"{k}-{params[k]}\" for k in keys) + '.pkl'\n",
    "def _gen_simu_data_all(seed, paras):\n",
    "    np.random.seed(seed)\n",
    "    _paras = edict(paras.copy())\n",
    "    # simulated PSD\n",
    "    assert len(_paras.types_) == _paras.q\n",
    "    assert len(_paras.alp_GT) == _paras.q\n",
    "    tmp_paras = edict()\n",
    "    tmp_paras.seed = seed \n",
    "    tmp_paras.n = _paras.n\n",
    "    tmp_paras.d = _paras.d\n",
    "    tmp_paras.decimate_rate = 30\n",
    "    \n",
    "    file_path = MIDRES_ROOT/get_filename(tmp_paras)\n",
    "    if file_path.exists():\n",
    "        #simu_curvs = np.random.randn(_paras.n, _paras.d, _paras.npts) /10\n",
    "        simu_curvs = load_pkl(file_path, verbose=False)\n",
    "    else:\n",
    "        simu_curvs = gen_simu_ts(_paras.n, _paras.d, 5, decimate_rate=tmp_paras.decimate_rate, verbose=False)\n",
    "        save_pkl(file_path, simu_curvs)\n",
    "    #simu_curvs = gen_simu_psd(_paras.n, _paras.d, 10)\n",
    "    #simu_curvs = 1*(simu_curvs- simu_curvs.mean(axis=2, keepdims=True))/simu_curvs.std(axis=2, keepdims=True)\n",
    "    #simu_curvs = np.random.randn(_paras.n, _paras.d, _paras.npts) * 20\n",
    "    #simu_curvs = (simu_curvs)/simu_curvs.std(axis=2)[:, :, np.newaxis]\n",
    "    #simu_curvs = simu_curvs + np.random.randn(_paras.n, _paras.d, 1)*0.5\n",
    "    simu_curvs = simu_curvs[:, :, :_paras.npts]\n",
    "    simu_covs = gen_covs(_paras.n, _paras.types_)\n",
    "    \n",
    "    # linear term and Y\n",
    "    int_part = np.sum(_paras.beta_GT.T* simu_curvs[:, :, :], axis=1).mean(axis=1)\n",
    "    cov_part = simu_covs @ _paras.alp_GT \n",
    "    \n",
    "    # linear term\n",
    "    lin_term = cov_part + int_part\n",
    "    \n",
    "    \n",
    "    \n",
    "    # Y \n",
    "    rvs = np.random.rand(_paras.n)\n",
    "    Y = lin_term + np.random.randn(_paras.n)*np.sqrt(_paras.sigma2)\n",
    "    \n",
    "    # To torch\n",
    "    X = torch.Tensor(simu_curvs) # n x d x npts\n",
    "    Z = torch.Tensor(simu_covs) # n x q\n",
    "    Y = torch.Tensor(Y)\n",
    "    \n",
    "    all_data = edict()\n",
    "    all_data.X = X\n",
    "    all_data.Y = Y\n",
    "    all_data.Z = Z\n",
    "    return all_data"
   ]
  },
  {
   "cell_type": "code",
   "execution_count": null,
   "id": "25fe047b",
   "metadata": {},
   "outputs": [],
   "source": []
  },
  {
   "cell_type": "code",
   "execution_count": 147,
   "id": "73e03f1f",
   "metadata": {
    "ExecuteTime": {
     "end_time": "2023-06-01T03:46:03.534521Z",
     "start_time": "2023-06-01T03:46:03.505879Z"
    },
    "code_folding": [],
    "execution": {
     "iopub.execute_input": "2023-06-01T19:52:24.526809Z",
     "iopub.status.busy": "2023-06-01T19:52:24.526258Z",
     "iopub.status.idle": "2023-06-01T19:52:24.540715Z",
     "shell.execute_reply": "2023-06-01T19:52:24.539649Z",
     "shell.execute_reply.started": "2023-06-01T19:52:24.526767Z"
    },
    "tags": []
   },
   "outputs": [],
   "source": [
    "def obt_test_stat(model, est_alp, est_Gam, paras):\n",
    "    \"\"\"Obtiaining the test statistics via the estimator\n",
    "        args:\n",
    "            model: The model you used, LinearModel or LogisticModel\n",
    "            est_alp: Estimated alp parameters\n",
    "            est_Gam: Estimated Gam parameters\n",
    "    \"\"\"\n",
    "    _paras = edict(paras.copy())\n",
    "    est_theta = torch.cat([est_alp, col_vec_fn(est_Gam)/np.sqrt(_paras.N)])\n",
    "    Q_mat = -model.log_lik_der2(est_alp, est_Gam)\n",
    "    model.log_lik_der1(est_alp, est_Gam);\n",
    "    Sig_mat = (model.log_lik_der1_vs.unsqueeze(-1) * model.log_lik_der1_vs.unsqueeze(1)).mean(axis=0) \n",
    "    # minus sign canceled\n",
    "    \n",
    "    \n",
    "    # obtain the idxs to keep for test\n",
    "    nonzero_idxs = torch.nonzero(torch.norm(est_Gam, dim=0)).reshape(-1).numpy()\n",
    "    MS_unions = np.sort(np.union1d(_paras.M_idxs, nonzero_idxs))\n",
    "    keep_idxs_test = MS2idxs(_paras.q, _paras.N, MS_unions)\n",
    "    \n",
    "    # A mat\n",
    "    k = len(np.setdiff1d(nonzero_idxs, _paras.M_idxs))\n",
    "    Amat = torch.Tensor(get_Amat(k, _paras))\n",
    "    \n",
    "    # calcuate Test stats\n",
    "    Q_mat_part = Q_mat[keep_idxs_test][:, keep_idxs_test]\n",
    "    Q_mat_part_inv = svd_inverse(Q_mat_part, _paras.svdinv_eps)\n",
    "    \n",
    "    Sig_mat_part = Sig_mat[keep_idxs_test][:, keep_idxs_test]\n",
    "    Psi = Amat @ Q_mat_part_inv @ Sig_mat_part @ Q_mat_part_inv @ Amat.T\n",
    "    \n",
    "    T_p1 = Amat @ est_theta[keep_idxs_test]\n",
    "    Psi_inv = svd_inverse(Psi, _paras.svdinv_eps)\n",
    "    T_v = T_p1 @ Psi_inv @ T_p1 * _paras.n \n",
    "    return T_v"
   ]
  },
  {
   "cell_type": "code",
   "execution_count": null,
   "id": "96fd3e30",
   "metadata": {},
   "outputs": [],
   "source": []
  },
  {
   "cell_type": "markdown",
   "id": "e4043966",
   "metadata": {},
   "source": [
    "## Check"
   ]
  },
  {
   "cell_type": "code",
   "execution_count": null,
   "id": "911af57c",
   "metadata": {},
   "outputs": [],
   "source": []
  },
  {
   "cell_type": "code",
   "execution_count": 148,
   "id": "00aecb94",
   "metadata": {
    "ExecuteTime": {
     "end_time": "2023-06-01T03:46:42.734955Z",
     "start_time": "2023-06-01T03:46:42.709317Z"
    },
    "code_folding": [],
    "execution": {
     "iopub.execute_input": "2023-06-01T19:52:26.041897Z",
     "iopub.status.busy": "2023-06-01T19:52:26.041345Z",
     "iopub.status.idle": "2023-06-01T19:52:26.067655Z",
     "shell.execute_reply": "2023-06-01T19:52:26.066762Z",
     "shell.execute_reply.started": "2023-06-01T19:52:26.041854Z"
    },
    "tags": []
   },
   "outputs": [],
   "source": [
    "seed = 1\n",
    "lam = 1.0\n",
    "#cur_data = _gen_simu_data_all(_paras.seed, paras)\n",
    "    \n",
    "def run(seed, paras):\n",
    "    np.random.seed(seed)\n",
    "    torch.manual_seed(seed)\n",
    "    est_Gam_full = torch.zeros_like(torch.tensor(paras.Gam_GT_est));\n",
    "        \n",
    "    _paras = edict(paras.copy())\n",
    "    #_paras.lam = lam\n",
    "    _paras.seed = seed\n",
    "    _paras.Rv = _paras.Rfct * _paras.Rmin\n",
    "    cur_data = _gen_simu_data_all(seed, _paras)\n",
    "    \n",
    "    \n",
    "    # do sure independent screening for dim reduction\n",
    "    if _paras.SIS_ratio < 1:\n",
    "        keep_idxs, _  = SIS_linear(cur_data.Y, cur_data.X, cur_data.Z, _paras.SIS_ratio, _paras, ridge_pen=1)\n",
    "    else:\n",
    "        keep_idxs = _paras.sel_idx\n",
    "    M_idxs = np.delete(np.arange(_paras.d), _paras.sel_idx)\n",
    "    _paras.keep_idxs = np.sort(np.concatenate([M_idxs, keep_idxs]))\n",
    "        \n",
    "    _paras.sel_idx_SIS = np.where(np.array([keep_idx in _paras.sel_idx for keep_idx in _paras.keep_idxs]))[0]\n",
    "    _paras.d_SIS = len(_paras.keep_idxs)\n",
    "    \n",
    "    cur_data_SIS = edict(cur_data.copy())\n",
    "    cur_data_SIS.X = cur_data.X[:, _paras.keep_idxs, :]\n",
    "    \n",
    "    \n",
    "    alp_init = torch.Tensor(_paras.alp_GT) + torch.randn(_paras.q)*_paras.init_noise_sd\n",
    "    Gam_init = (torch.Tensor(_paras.Gam_GT_est[:, _paras.keep_idxs]) \n",
    "                + torch.randn(_paras.N, _paras.d_SIS)*_paras.init_noise_sd)\n",
    "    theta_init = torch.cat([alp_init, col_vec_fn(Gam_init)/np.sqrt(_paras.N)])\n",
    "    rhok_init = torch.randn(_paras.d_SIS*_paras.N)\n",
    "        \n",
    "    model = LinearModel(Y=cur_data_SIS.Y, \n",
    "                        X=cur_data_SIS.X, \n",
    "                        Z=cur_data_SIS.Z, \n",
    "                        basis_mat=_paras.basis_mat, \n",
    "                        sigma2=_paras.sigma2)\n",
    "    # 3e0\n",
    "    pen = SCAD(lams=_paras.lam, a=_paras.a,  sel_idx=_paras.sel_idx_SIS)\n",
    "        \n",
    "    \n",
    "    main_res = optimization(model=model, \n",
    "                            penalty=pen, \n",
    "                            inits=[alp_init, Gam_init, theta_init, rhok_init],\n",
    "                            is_prg=False,\n",
    "                            save_paras=False,    \n",
    "                            input_paras=_paras)\n",
    "    \n",
    "    opt = main_res[0]\n",
    "    est_Gam = opt.Gamk\n",
    "    est_alp = opt.alpk\n",
    "    est_theta = torch.cat([est_alp, col_vec_fn(est_Gam)/np.sqrt(_paras.N)])\n",
    "    est_Gam_full[:, _paras.keep_idxs] = est_Gam.clone()\n",
    "    \n",
    "    Q_mat = -model.log_lik_der2(est_alp, est_Gam)\n",
    "    model.log_lik_der1(est_alp, est_Gam);\n",
    "    Sig_mat = (model.log_lik_der1_vs.unsqueeze(-1) * model.log_lik_der1_vs.unsqueeze(1)).mean(axis=0) \n",
    "    # minus sign canceled\n",
    "    \n",
    "    \n",
    "    # obtain the idxs to keep for test\n",
    "    nonzero_idxs = torch.nonzero(torch.norm(est_Gam, dim=0)).reshape(-1).numpy()\n",
    "    MS_unions = np.sort(np.union1d(_paras.M_idxs, nonzero_idxs))\n",
    "    keep_idxs_test = MS2idxs(_paras.q, _paras.N, MS_unions)\n",
    "    \n",
    "    # A mat\n",
    "    k = len(np.setdiff1d(nonzero_idxs, _paras.M_idxs))\n",
    "    Amat = torch.Tensor(get_Amat(k, _paras))\n",
    "    \n",
    "    # calcuate Test stats\n",
    "    Q_mat_part = Q_mat[keep_idxs_test][:, keep_idxs_test]\n",
    "    Q_mat_part_inv = svd_inverse(Q_mat_part, _paras.svdinv_eps)\n",
    "    \n",
    "    Sig_mat_part = Sig_mat[keep_idxs_test][:, keep_idxs_test]\n",
    "    Psi = Amat @ Q_mat_part_inv @ Sig_mat_part @ Q_mat_part_inv @ Amat.T\n",
    "    \n",
    "    T_p1 = Amat @ est_theta[keep_idxs_test]\n",
    "    Psi_inv = svd_inverse(Psi, _paras.svdinv_eps)\n",
    "    T_v = T_p1 @ Psi_inv @ T_p1 * _paras.n \n",
    "    \n",
    "    res = edict()\n",
    "    res.Psi = Psi\n",
    "    res.T_v = T_v\n",
    "    res.Sig_mat = Sig_mat_part\n",
    "    res.Q_mat_part = Q_mat_part\n",
    "    res.nonzero_idxs = nonzero_idxs\n",
    "    res.keep_idxs_test = keep_idxs_test\n",
    "    res.keep_idxs = keep_idxs\n",
    "    res.model = model\n",
    "    res.est_Gam = est_Gam\n",
    "    res.est_alp = est_alp\n",
    "    return res"
   ]
  },
  {
   "cell_type": "code",
   "execution_count": null,
   "id": "4fc2a84d",
   "metadata": {},
   "outputs": [],
   "source": []
  },
  {
   "cell_type": "code",
   "execution_count": 149,
   "id": "d2e706a9",
   "metadata": {
    "ExecuteTime": {
     "end_time": "2023-06-01T03:46:43.579264Z",
     "start_time": "2023-06-01T03:46:43.568109Z"
    },
    "execution": {
     "iopub.execute_input": "2023-06-01T19:52:27.633938Z",
     "iopub.status.busy": "2023-06-01T19:52:27.633407Z",
     "iopub.status.idle": "2023-06-01T19:52:27.646797Z",
     "shell.execute_reply": "2023-06-01T19:52:27.645714Z",
     "shell.execute_reply.started": "2023-06-01T19:52:27.633896Z"
    },
    "tags": []
   },
   "outputs": [
    {
     "name": "stdout",
     "output_type": "stream",
     "text": [
      "Load file /data/rajlab1/user_data/jin/MyResearch/HDF_infer/notebooks/../mypkg/../mid_results/T_vs_res452.pkl\n",
      "The df of chisq is 12.\n"
     ]
    }
   ],
   "source": [
    "T_vs, tparas = load_pkl(MIDRES_ROOT/f\"T_vs_res452.pkl\");\n",
    "T_vs = np.array(T_vs);\n",
    "print(f\"The df of chisq is {tparas.r * tparas.N}.\")"
   ]
  },
  {
   "cell_type": "code",
   "execution_count": 310,
   "id": "a624c2c1",
   "metadata": {
    "ExecuteTime": {
     "end_time": "2023-06-01T03:46:44.141347Z",
     "start_time": "2023-06-01T03:46:44.135146Z"
    },
    "execution": {
     "iopub.execute_input": "2023-06-01T20:54:55.065463Z",
     "iopub.status.busy": "2023-06-01T20:54:55.064851Z",
     "iopub.status.idle": "2023-06-01T20:54:55.073985Z",
     "shell.execute_reply": "2023-06-01T20:54:55.072550Z",
     "shell.execute_reply.started": "2023-06-01T20:54:55.065417Z"
    },
    "tags": []
   },
   "outputs": [],
   "source": [
    "large_seeds = np.where(T_vs>100)[0];\n",
    "good_seeds = np.where(np.bitwise_and(T_vs>0, T_vs<30))[0];\n",
    "\n",
    "cur_paras = edict(tparas.copy())\n",
    "cur_paras.svdinv_eps = 0.99\n",
    "cur_paras.sigma2 = 1\n",
    "cur_paras.npts = 100"
   ]
  },
  {
   "cell_type": "code",
   "execution_count": 311,
   "id": "7b642184",
   "metadata": {
    "ExecuteTime": {
     "end_time": "2023-06-01T03:47:29.028166Z",
     "start_time": "2023-06-01T03:46:44.736661Z"
    },
    "execution": {
     "iopub.execute_input": "2023-06-01T20:55:02.642414Z",
     "iopub.status.busy": "2023-06-01T20:55:02.641834Z",
     "iopub.status.idle": "2023-06-01T20:58:13.963764Z",
     "shell.execute_reply": "2023-06-01T20:58:13.963340Z",
     "shell.execute_reply.started": "2023-06-01T20:55:02.642367Z"
    },
    "tags": []
   },
   "outputs": [
    {
     "name": "stderr",
     "output_type": "stream",
     "text": [
      " 90%|█████████████████████████████████████████████████████████████████████████████████████████████████████████████████████████████████████████████████████████                 | 9/10 [02:53<00:18, 18.01s/it]"
     ]
    },
    {
     "name": "stdout",
     "output_type": "stream",
     "text": [
      "The optimization may not converge with stop value 5.009E-05\n"
     ]
    },
    {
     "name": "stderr",
     "output_type": "stream",
     "text": [
      "100%|█████████████████████████████████████████████████████████████████████████████████████████████████████████████████████████████████████████████████████████████████████████| 10/10 [03:11<00:00, 19.13s/it]\n"
     ]
    }
   ],
   "source": [
    "large_ress = []\n",
    "for lseed in tqdm(large_seeds[:10]):\n",
    "    #cur_data = _gen_simu_data_all(lseed, cur_paras)\n",
    "    large_ress.append(run(lseed,  cur_paras))"
   ]
  },
  {
   "cell_type": "code",
   "execution_count": 294,
   "id": "75b66440",
   "metadata": {
    "ExecuteTime": {
     "start_time": "2023-06-01T03:26:32.645Z"
    },
    "execution": {
     "iopub.execute_input": "2023-06-01T20:51:36.503323Z",
     "iopub.status.busy": "2023-06-01T20:51:36.502735Z",
     "iopub.status.idle": "2023-06-01T20:52:54.219408Z",
     "shell.execute_reply": "2023-06-01T20:52:54.218941Z",
     "shell.execute_reply.started": "2023-06-01T20:51:36.503279Z"
    },
    "tags": []
   },
   "outputs": [
    {
     "name": "stderr",
     "output_type": "stream",
     "text": [
      "100%|█████████████████████████████████████████████████████████████████████████████████████████████████████████████████████████████████████████████████████████████████████████| 10/10 [01:17<00:00,  7.77s/it]\n"
     ]
    }
   ],
   "source": [
    "if True:\n",
    "    good_ress = []\n",
    "    for gseed in tqdm(good_seeds[:10]):\n",
    "        #cur_data = _gen_simu_data_all(gseed, cur_paras)\n",
    "        good_ress.append(run(gseed,  cur_paras))"
   ]
  },
  {
   "cell_type": "code",
   "execution_count": null,
   "id": "c88f8ec7",
   "metadata": {},
   "outputs": [],
   "source": []
  },
  {
   "cell_type": "code",
   "execution_count": null,
   "id": "dbac1711",
   "metadata": {},
   "outputs": [],
   "source": []
  },
  {
   "cell_type": "markdown",
   "id": "64f481d6",
   "metadata": {},
   "source": [
    "## Analysis"
   ]
  },
  {
   "cell_type": "code",
   "execution_count": 312,
   "id": "d999796a",
   "metadata": {
    "ExecuteTime": {
     "end_time": "2023-06-01T03:47:52.748635Z",
     "start_time": "2023-06-01T03:47:52.725953Z"
    },
    "execution": {
     "iopub.execute_input": "2023-06-01T20:58:18.619081Z",
     "iopub.status.busy": "2023-06-01T20:58:18.618471Z",
     "iopub.status.idle": "2023-06-01T20:58:18.643033Z",
     "shell.execute_reply": "2023-06-01T20:58:18.641980Z",
     "shell.execute_reply.started": "2023-06-01T20:58:18.619036Z"
    },
    "tags": []
   },
   "outputs": [
    {
     "name": "stdout",
     "output_type": "stream",
     "text": [
      "[ 77 146 198 199] [0 1 4 5] tensor(179.8866) 179.88655217429906\n",
      "[122 148 198 199] [0 1 4 5] tensor(251.6365) 251.63647976894364\n",
      "[ 61 180 198 199] [0 1 4 5] tensor(283.6828) 283.6828043413423\n",
      "[  8 140 198 199] [0 1 4 5] tensor(272.3910) 272.39100461333356\n",
      "[110 133 198 199] [0 1 4 5] tensor(406.4239) 406.4239070966155\n",
      "[ 20 145 198 199] [0 1 4 5] tensor(283.6654) 283.6654330206331\n",
      "[169 189 198 199] [0 1 4 5] tensor(108.2869) 108.28689040381117\n",
      "[ 74 174 198 199] [0 1 4 5] tensor(331.8448) 331.84476672543815\n",
      "[ 49  98 198 199] [0 1 4 5] tensor(117.5644) 117.56443682898995\n",
      "[ 75 101 198 199] [0 1 4 5] tensor(130.0853) 130.08526659976283\n"
     ]
    }
   ],
   "source": [
    "for cur_seed, res in zip(large_seeds, large_ress):\n",
    "    print(res.keep_idxs, res.nonzero_idxs, res.T_v, T_vs[cur_seed])"
   ]
  },
  {
   "cell_type": "code",
   "execution_count": 313,
   "id": "5d333391-5e38-4738-a384-3cb03b0adbdf",
   "metadata": {
    "ExecuteTime": {
     "end_time": "2023-06-01T03:47:52.748635Z",
     "start_time": "2023-06-01T03:47:52.725953Z"
    },
    "execution": {
     "iopub.execute_input": "2023-06-01T20:58:20.412495Z",
     "iopub.status.busy": "2023-06-01T20:58:20.411841Z",
     "iopub.status.idle": "2023-06-01T20:58:20.434184Z",
     "shell.execute_reply": "2023-06-01T20:58:20.433207Z",
     "shell.execute_reply.started": "2023-06-01T20:58:20.412447Z"
    },
    "tags": []
   },
   "outputs": [
    {
     "name": "stdout",
     "output_type": "stream",
     "text": [
      "[  7  50 198 199] [0 1 4 5] tensor(6.0949) 6.094867254646679\n",
      "[ 25  77 198 199] [0 1 4 5] tensor(10.5515) 10.551492795876067\n",
      "[ 60 145 198 199] [0 1 4 5] tensor(4.0259) 4.025918125050123\n",
      "[115 165 198 199] [0 1 4 5] tensor(5.9923) 5.992253196832215\n",
      "[ 97 133 198 199] [0 1 4 5] tensor(11.0164) 11.016401582316634\n",
      "[ 81 173 198 199] [0 1 4 5] tensor(20.7508) 20.750802512435342\n",
      "[ 14  33 198 199] [0 1 4 5] tensor(9.5770) 9.577017291993666\n",
      "[ 58 157 198 199] [0 1 4 5] tensor(11.3236) 11.323624112811\n",
      "[ 17 162 198 199] [0 1 4 5] tensor(2.5931) 2.5931060885799075\n",
      "[158 167 198 199] [0 1 4 5] tensor(10.4540) 10.453974537130762\n"
     ]
    }
   ],
   "source": [
    "for cur_seed, res in zip(good_seeds, good_ress):\n",
    "    print(res.keep_idxs, res.nonzero_idxs, res.T_v, T_vs[cur_seed])"
   ]
  },
  {
   "cell_type": "code",
   "execution_count": 314,
   "id": "18968479-616b-4f97-a70a-712a467cbd5a",
   "metadata": {
    "execution": {
     "iopub.execute_input": "2023-06-01T20:58:22.659273Z",
     "iopub.status.busy": "2023-06-01T20:58:22.658630Z",
     "iopub.status.idle": "2023-06-01T20:58:22.775782Z",
     "shell.execute_reply": "2023-06-01T20:58:22.775270Z",
     "shell.execute_reply.started": "2023-06-01T20:58:22.659227Z"
    },
    "tags": []
   },
   "outputs": [
    {
     "data": {
      "text/plain": [
       "[<matplotlib.lines.Line2D at 0x7fd1b2439070>]"
      ]
     },
     "execution_count": 314,
     "metadata": {},
     "output_type": "execute_result"
    },
    {
     "data": {
      "image/png": "[encoded data removed]",
      "text/plain": [
       "<Figure size 1000x500 with 1 Axes>"
      ]
     },
     "metadata": {
      "needs_background": "light"
     },
     "output_type": "display_data"
    }
   ],
   "source": [
    "lres = large_ress[0]\n",
    "gres = good_ress[0]\n",
    "plt.plot(lres.model.Y, \".\")\n",
    "plt.plot(gres.model.Y, \"*\")"
   ]
  },
  {
   "cell_type": "code",
   "execution_count": 428,
   "id": "1f70acfb",
   "metadata": {
    "ExecuteTime": {
     "end_time": "2023-06-01T03:44:05.359385Z",
     "start_time": "2023-06-01T03:44:05.326180Z"
    },
    "execution": {
     "iopub.execute_input": "2023-06-01T21:25:12.804470Z",
     "iopub.status.busy": "2023-06-01T21:25:12.803808Z",
     "iopub.status.idle": "2023-06-01T21:25:12.820313Z",
     "shell.execute_reply": "2023-06-01T21:25:12.819018Z",
     "shell.execute_reply.started": "2023-06-01T21:25:12.804421Z"
    },
    "tags": []
   },
   "outputs": [],
   "source": [
    "def obt_test_stat1(model, est_alp, est_Gam, paras):\n",
    "    \"\"\"Obtiaining the test statistics via the estimator\n",
    "        args:\n",
    "            model: The model you used, LinearModel or LogisticModel\n",
    "            est_alp: Estimated alp parameters\n",
    "            est_Gam: Estimated Gam parameters\n",
    "    \"\"\"\n",
    "    _paras = edict(paras.copy())\n",
    "    est_theta = torch.cat([est_alp, col_vec_fn(est_Gam)/np.sqrt(_paras.N)])\n",
    "    Q_mat = -model.log_lik_der2(est_alp, est_Gam)\n",
    "    model.log_lik_der1(est_alp, est_Gam);\n",
    "    Sig_mat = (model.log_lik_der1_vs.unsqueeze(-1) * model.log_lik_der1_vs.unsqueeze(1)).mean(axis=0) \n",
    "    # minus sign canceled\n",
    "    \n",
    "    \n",
    "    # obtain the idxs to keep for test\n",
    "    nonzero_idxs = torch.nonzero(torch.norm(est_Gam, dim=0)).reshape(-1).numpy()\n",
    "    MS_unions = np.sort(np.union1d(_paras.M_idxs, nonzero_idxs))\n",
    "    keep_idxs_test = MS2idxs(_paras.q, _paras.N, MS_unions)\n",
    "    \n",
    "    # A mat\n",
    "    k = len(np.setdiff1d(nonzero_idxs, _paras.M_idxs))\n",
    "    Amat = torch.Tensor(get_Amat(k, _paras))\n",
    "    \n",
    "    # calcuate Test stats\n",
    "    Q_mat_part = Q_mat[keep_idxs_test][:, keep_idxs_test]\n",
    "    #Q_mat_part_inv = torch.pinverse(Q_mat_part)\n",
    "    Q_mat_part_inv = svd_inverse(Q_mat_part, 0.999)\n",
    "    \n",
    "    Sig_mat_part = Sig_mat[keep_idxs_test][:, keep_idxs_test]\n",
    "    Psi = Amat @ Q_mat_part_inv @ Sig_mat_part @ Q_mat_part_inv @ Amat.T\n",
    "    \n",
    "    T_p1 = Amat @ est_theta[keep_idxs_test]\n",
    "    #Psi_inv = torch.pinverse(Psi)\n",
    "    Psi_inv = svd_inverse(Psi, _paras.svdinv_eps)\n",
    "    #print(Psi_inv)\n",
    "    T_v = T_p1 @ Psi_inv @ T_p1 * _paras.n \n",
    "    return T_v\n",
    "\n"
   ]
  },
  {
   "cell_type": "code",
   "execution_count": 430,
   "id": "6bae5be4-7f8c-4d66-bfac-0b1522d317a5",
   "metadata": {
    "execution": {
     "iopub.execute_input": "2023-06-01T21:25:19.793078Z",
     "iopub.status.busy": "2023-06-01T21:25:19.792259Z",
     "iopub.status.idle": "2023-06-01T21:25:19.865815Z",
     "shell.execute_reply": "2023-06-01T21:25:19.865001Z",
     "shell.execute_reply.started": "2023-06-01T21:25:19.793021Z"
    },
    "tags": []
   },
   "outputs": [
    {
     "name": "stdout",
     "output_type": "stream",
     "text": [
      "370.6154079523257\n",
      "7.6555661173036835\n",
      "4.997027387394482\n",
      "14.144125855101281\n",
      "15.404911373027206\n",
      "15.851100580130186\n",
      "15.863699107907362\n",
      "12.796658566648917\n",
      "9.678703258707912\n",
      "5.250914968085727\n"
     ]
    }
   ],
   "source": [
    "ix = 1\n",
    "cur_paras.svdinv_eps = 0.999\n",
    "for ix in range(10):\n",
    "    print(obt_test_stat1(\n",
    "                  good_ress[ix].model, \n",
    "                  good_ress[ix].est_alp,\n",
    "                  good_ress[ix].est_Gam,\n",
    "                  cur_paras).item())"
   ]
  },
  {
   "cell_type": "code",
   "execution_count": 384,
   "id": "b68e60ea-eb4b-4473-b3f8-1096f189f825",
   "metadata": {
    "execution": {
     "iopub.execute_input": "2023-06-01T21:11:51.308973Z",
     "iopub.status.busy": "2023-06-01T21:11:51.308338Z",
     "iopub.status.idle": "2023-06-01T21:11:51.507829Z",
     "shell.execute_reply": "2023-06-01T21:11:51.507364Z",
     "shell.execute_reply.started": "2023-06-01T21:11:51.308922Z"
    },
    "tags": []
   },
   "outputs": [
    {
     "data": {
      "text/plain": [
       "<matplotlib.legend.Legend at 0x7fd1b9290040>"
      ]
     },
     "execution_count": 384,
     "metadata": {},
     "output_type": "execute_result"
    },
    {
     "data": {
      "image/png": "[encoded data removed]",
      "text/plain": [
       "<Figure size 1000x500 with 1 Axes>"
      ]
     },
     "metadata": {
      "needs_background": "light"
     },
     "output_type": "display_data"
    }
   ],
   "source": [
    "\n",
    "cur_paras.svdinv_eps = 0.999\n",
    "vs = []\n",
    "for ix in range(10):\n",
    "    vs.append(obt_test_stat1(\n",
    "                  large_ress[ix].model, \n",
    "                  large_ress[ix].est_alp,\n",
    "                  large_ress[ix].est_Gam,\n",
    "                  cur_paras).item())\n",
    "for ix in range(10):\n",
    "    vs.append(obt_test_stat1(\n",
    "                  good_ress[ix].model, \n",
    "                  good_ress[ix].est_alp,\n",
    "                  good_ress[ix].est_Gam,\n",
    "                  cur_paras).item())\n",
    "    \n",
    "from scipy.stats import chi2\n",
    "chi_df = cur_paras.r*cur_paras.N\n",
    "xs = np.linspace(0.1, 100, 100)\n",
    "theo_curvs_log = chi2.logpdf(xs, chi_df);\n",
    "plt.plot(xs, np.exp(theo_curvs_log) , label=\"theoretical\")\n",
    "sns.kdeplot(vs)\n",
    "plt.legend()"
   ]
  },
  {
   "cell_type": "code",
   "execution_count": 350,
   "id": "7ae5f677-793c-4ce9-a423-3144edde8a7e",
   "metadata": {
    "execution": {
     "iopub.execute_input": "2023-06-01T21:01:47.284788Z",
     "iopub.status.busy": "2023-06-01T21:01:47.284154Z",
     "iopub.status.idle": "2023-06-01T21:01:47.294871Z",
     "shell.execute_reply": "2023-06-01T21:01:47.293279Z",
     "shell.execute_reply.started": "2023-06-01T21:01:47.284738Z"
    },
    "tags": []
   },
   "outputs": [],
   "source": [
    "def svd_inverse1(mat, eps=0.999):\n",
    "    \"\"\"This fn is to caculate inverse for mat with SVD decom\n",
    "    \"\"\"\n",
    "    res = torch.svd(mat)\n",
    "    \n",
    "    # to avoid non-inveritble matrix\n",
    "    sing_v_ratios = torch.cumsum(res.S, dim=0)/torch.sum(res.S)\n",
    "    idx = torch.where(sing_v_ratios >= eps)[0][0] + 1\n",
    "    #print(res.S[:idx], res.S)\n",
    "    \n",
    "    inv_mat = res.V[:, :idx] @ torch.diag(1/res.S[:idx]) @ res.U.T[:idx, :]\n",
    "    return inv_mat, idx.item(), res.S"
   ]
  },
  {
   "cell_type": "code",
   "execution_count": 279,
   "id": "a6b64ec9-3fa6-4a32-9cc6-d9d324f3c007",
   "metadata": {
    "execution": {
     "iopub.execute_input": "2023-06-01T20:46:06.538650Z",
     "iopub.status.busy": "2023-06-01T20:46:06.538134Z",
     "iopub.status.idle": "2023-06-01T20:46:06.656471Z",
     "shell.execute_reply": "2023-06-01T20:46:06.656015Z",
     "shell.execute_reply.started": "2023-06-01T20:46:06.538610Z"
    },
    "tags": []
   },
   "outputs": [
    {
     "data": {
      "image/png": "[encoded data removed]",
      "text/plain": [
       "<Figure size 1000x500 with 1 Axes>"
      ]
     },
     "metadata": {
      "needs_background": "light"
     },
     "output_type": "display_data"
    }
   ],
   "source": [
    "for res in good_ress:\n",
    "    eps = np.random.randn(1) * 0.1\n",
    "    #eps = 0\n",
    "    _, idx, cur_S = svd_inverse1(res.Psi, 0.99)\n",
    "    #plt.plot(cur_S, \".\", color=\"blue\")\n",
    "    plt.plot(idx-1+eps, cur_S[idx-1], \".r\", label=\"good\")\n",
    "for res in large_ress:\n",
    "    eps = np.random.randn(1) * 0.1\n",
    "    #eps = 0\n",
    "    _, idx, cur_S = svd_inverse1(res.Psi, 0.99)\n",
    "    #plt.plot(cur_S, \".\", color=\"green\")\n",
    "    plt.plot(idx-1+eps, cur_S[idx-1], \".k\", label=\"large\")\n",
    "#plt.yscale(\"log\")"
   ]
  },
  {
   "cell_type": "code",
   "execution_count": 280,
   "id": "ad7434a5-764a-4d89-a27a-cde85553d0b9",
   "metadata": {
    "execution": {
     "iopub.execute_input": "2023-06-01T20:46:11.500074Z",
     "iopub.status.busy": "2023-06-01T20:46:11.499479Z",
     "iopub.status.idle": "2023-06-01T20:46:11.613114Z",
     "shell.execute_reply": "2023-06-01T20:46:11.612655Z",
     "shell.execute_reply.started": "2023-06-01T20:46:11.500029Z"
    },
    "tags": []
   },
   "outputs": [
    {
     "data": {
      "text/plain": [
       "[<matplotlib.lines.Line2D at 0x7fd1b1ce64c0>]"
      ]
     },
     "execution_count": 280,
     "metadata": {},
     "output_type": "execute_result"
    },
    {
     "data": {
      "image/png": "[encoded data removed]",
      "text/plain": [
       "<Figure size 1000x500 with 1 Axes>"
      ]
     },
     "metadata": {
      "needs_background": "light"
     },
     "output_type": "display_data"
    }
   ],
   "source": [
    "v1 = [torch.norm(svd_inverse(res.Psi, 0.99)).item() for res in large_ress]\n",
    "v11 = [res.T_v for res in large_ress]\n",
    "v2 = [torch.norm(svd_inverse(res.Psi, 0.99)).item() for res in good_ress]\n",
    "v21 = [res.T_v for res in good_ress]\n",
    "plt.plot(v11, v1, \".\")\n",
    "plt.plot(v21, v2, \"*\")"
   ]
  },
  {
   "cell_type": "code",
   "execution_count": null,
   "id": "a8e5cb8a-3fdf-4e87-8bf0-fdc5b32f3f39",
   "metadata": {},
   "outputs": [],
   "source": []
  }
 ],
 "metadata": {
  "kernelspec": {
   "display_name": "Python 3 (ipykernel)",
   "language": "python",
   "name": "python3"
  },
  "language_info": {
   "codemirror_mode": {
    "name": "ipython",
    "version": 3
   },
   "file_extension": ".py",
   "mimetype": "text/x-python",
   "name": "python",
   "nbconvert_exporter": "python",
   "pygments_lexer": "ipython3",
   "version": "3.9.7"
  },
  "toc": {
   "base_numbering": 1,
   "nav_menu": {},
   "number_sections": true,
   "sideBar": true,
   "skip_h1_title": false,
   "title_cell": "Table of Contents",
   "title_sidebar": "Contents",
   "toc_cell": false,
   "toc_position": {
    "height": "calc(100% - 180px)",
    "left": "10px",
    "top": "150px",
    "width": "165px"
   },
   "toc_section_display": true,
   "toc_window_display": true
  }
 },
 "nbformat": 4,
 "nbformat_minor": 5
}
