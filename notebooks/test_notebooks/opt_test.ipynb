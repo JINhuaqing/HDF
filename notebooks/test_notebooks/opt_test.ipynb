{
 "cells": [
  {
   "cell_type": "code",
   "execution_count": 1,
   "id": "02ae980e",
   "metadata": {
    "ExecuteTime": {
     "end_time": "2023-05-25T22:11:42.217808Z",
     "start_time": "2023-05-25T22:11:42.199895Z"
    }
   },
   "outputs": [],
   "source": [
    "import sys\n",
    "sys.path.append(\"../mypkg\")"
   ]
  },
  {
   "cell_type": "code",
   "execution_count": 2,
   "id": "023df78a",
   "metadata": {
    "ExecuteTime": {
     "end_time": "2023-05-25T22:11:45.091745Z",
     "start_time": "2023-05-25T22:11:42.666898Z"
    }
   },
   "outputs": [],
   "source": [
    "import numpy as np\n",
    "import torch\n",
    "import matplotlib.pyplot as plt\n",
    "import seaborn as sns\n",
    "import xarray as xr\n",
    "from scipy.stats import pearsonr\n",
    "\n",
    "from easydict import EasyDict as edict\n",
    "from tqdm import trange\n",
    "from scipy.io import loadmat\n",
    "\n",
    "plt.style.use('ggplot')\n",
    "plt.rcParams[\"savefig.bbox\"] = \"tight\""
   ]
  },
  {
   "cell_type": "code",
   "execution_count": 3,
   "id": "053a5249",
   "metadata": {
    "ExecuteTime": {
     "end_time": "2023-05-25T22:11:46.033643Z",
     "start_time": "2023-05-25T22:11:45.921411Z"
    }
   },
   "outputs": [
    {
     "data": {
      "text/plain": [
       "<module 'optimization.one_step_opt' from '/data/rajlab1/user_data/jin/MyResearch/HDF_infer/notebooks/../mypkg/optimization/one_step_opt.py'>"
      ]
     },
     "execution_count": 3,
     "metadata": {},
     "output_type": "execute_result"
    }
   ],
   "source": [
    "import importlib\n",
    "import optimization.one_step_opt\n",
    "importlib.reload(optimization.one_step_opt)"
   ]
  },
  {
   "cell_type": "code",
   "execution_count": 5,
   "id": "b0aa91b2",
   "metadata": {
    "ExecuteTime": {
     "end_time": "2023-05-25T22:11:58.652049Z",
     "start_time": "2023-05-25T22:11:56.102373Z"
    }
   },
   "outputs": [],
   "source": [
    "from constants import DATA_ROOT, RES_ROOT, FIG_ROOT\n",
    "\n",
    "from hdf_utils.data_gen import gen_covs\n",
    "from utils.matrix import col_vec_fn, col_vec2mat_fn, conju_grad, svd_inverse\n",
    "from utils.functions import logit_fn\n",
    "from utils.misc import save_pkl\n",
    "from splines import obt_bsp_basis_Rfn\n",
    "from projection import euclidean_proj_l1ball\n",
    "from optimization.one_step_opt import OneStepOpt\n",
    "\n",
    "from penalties.scad_pen import SCAD\n",
    "from penalties.base_pen import PenaltyBase\n",
    "from models.logistic_model import LogisticModel\n",
    "from models.linear_model import LinearModel\n"
   ]
  },
  {
   "cell_type": "code",
   "execution_count": 6,
   "id": "fdddf8a6",
   "metadata": {
    "ExecuteTime": {
     "end_time": "2023-05-25T22:11:59.415970Z",
     "start_time": "2023-05-25T22:11:59.410338Z"
    }
   },
   "outputs": [],
   "source": [
    "torch.set_default_tensor_type(torch.DoubleTensor)"
   ]
  },
  {
   "cell_type": "code",
   "execution_count": null,
   "id": "d0af2f35",
   "metadata": {},
   "outputs": [],
   "source": []
  },
  {
   "cell_type": "markdown",
   "id": "dd9c6514",
   "metadata": {},
   "source": [
    "## Param and data"
   ]
  },
  {
   "cell_type": "markdown",
   "id": "82416c0e",
   "metadata": {},
   "source": [
    "### load data"
   ]
  },
  {
   "cell_type": "code",
   "execution_count": 9,
   "id": "84f0272f",
   "metadata": {
    "ExecuteTime": {
     "end_time": "2023-05-25T22:12:45.121812Z",
     "start_time": "2023-05-25T22:12:45.114441Z"
    }
   },
   "outputs": [
    {
     "data": {
      "text/plain": [
       "False"
      ]
     },
     "execution_count": 9,
     "metadata": {},
     "output_type": "execute_result"
    }
   ],
   "source": [
    "tt = DATA_ROOT/\"87ADs_before_filter1000_PSD.mat\"\n",
    "tt.exists()"
   ]
  },
  {
   "cell_type": "code",
   "execution_count": 10,
   "id": "a7d873ad",
   "metadata": {
    "ExecuteTime": {
     "end_time": "2023-05-25T22:13:35.449450Z",
     "start_time": "2023-05-25T22:13:35.057798Z"
    }
   },
   "outputs": [
    {
     "name": "stdout",
     "output_type": "stream",
     "text": [
      "(68, 40, 168)\n",
      "Save to /data/rajlab1/user_data/jin/MyResearch/HDF_infer/notebooks/../mypkg/../data/ctrl_vs_AD_nooutlier.pkl\n"
     ]
    }
   ],
   "source": [
    "# PSD from AD vs Ctrl\n",
    "dat_AD = loadmat(DATA_ROOT/\"AD_vs_Ctrl_PSD/87ADs_before_filter1000_PSD.mat\")[\"fmegall\"]\n",
    "dat_AD_add = loadmat(DATA_ROOT/\"AD_vs_Ctrl_PSD/DK_timecourse_PSD.mat\")[\"FMEGdata\"]\n",
    "dat_AD = np.concatenate([dat_AD, dat_AD_add[np.newaxis]], axis=0)\n",
    "dat_AD = np.transpose(dat_AD, (1, 2, 0))\n",
    "\n",
    "dat_ctrl = loadmat(DATA_ROOT/\"AD_vs_Ctrl_PSD/70Ctrls_before_filter1000_PSD.mat\")[\"fmegall\"]\n",
    "dat_ctrl_add = loadmat(DATA_ROOT/\"AD_vs_Ctrl_PSD/timecourse_ucsfCONT_group_PSD.mat\")[\"fmegall\"]\n",
    "dat_ctrl = np.concatenate([dat_ctrl, dat_ctrl_add], axis=0)\n",
    "dat_ctrl = np.transpose(dat_ctrl, (1, 2, 0))\n",
    "\n",
    "ind_freq = np.linspace(1, 40, 40)\n",
    "dat_all = np.concatenate([dat_AD, dat_ctrl], axis=-1)\n",
    "kp_idx = np.log10(dat_all).mean(axis=0).mean(axis=0) > 2\n",
    "dat_all = dat_all[:, :, kp_idx]\n",
    "print(dat_all.shape)\n",
    "\n",
    "res_dat = edict()\n",
    "res_dat.psd = dat_all\n",
    "res_dat.ind_freq = ind_freq\n",
    "save_pkl(DATA_ROOT/\"ctrl_vs_AD_nooutlier.pkl\", res_dat, is_force=True)"
   ]
  },
  {
   "cell_type": "code",
   "execution_count": null,
   "id": "2f2a3a28",
   "metadata": {},
   "outputs": [],
   "source": []
  },
  {
   "cell_type": "code",
   "execution_count": 12,
   "id": "e973f5b4",
   "metadata": {
    "ExecuteTime": {
     "end_time": "2023-05-25T22:14:07.323076Z",
     "start_time": "2023-05-25T22:14:07.300043Z"
    }
   },
   "outputs": [],
   "source": [
    "# 36 dataset\n",
    "ind_psd_xr = xr.open_dataarray(DATA_ROOT/'individual_psd_reordered_matlab.nc')                                                                                              \n",
    "ind_psd = ind_psd_xr.values\n",
    "ind_freq = ind_psd_xr[\"frequencies\"].values;"
   ]
  },
  {
   "cell_type": "code",
   "execution_count": null,
   "id": "3a22deb8",
   "metadata": {},
   "outputs": [],
   "source": []
  },
  {
   "cell_type": "markdown",
   "id": "b7889df2",
   "metadata": {},
   "source": [
    "### Parameters"
   ]
  },
  {
   "cell_type": "code",
   "execution_count": 28,
   "id": "fd29f0de",
   "metadata": {
    "ExecuteTime": {
     "end_time": "2023-05-25T22:16:51.607797Z",
     "start_time": "2023-05-25T22:16:51.595125Z"
    }
   },
   "outputs": [],
   "source": [
    "paras = edict()\n",
    "paras.seed = 0\n",
    "paras.npts = 40 # num of pts to evaluate X(s)\n",
    "paras.d = 10 # num of ROIs\n",
    "paras.q = 3 # num of other covariates\n",
    "paras.M = 168 # num of data obs to be genareted\n",
    "paras.sigma2 = 1 # variance of the error\n",
    "\n",
    "paras.bsp = edict()\n",
    "paras.bsp.aknots_raw = np.linspace(0, 1, 20)\n",
    "paras.bsp.iknots = paras.bsp.aknots_raw[1:-1]\n",
    "paras.bsp.bknots = np.array([0, 1])\n",
    "paras.bsp.ord = 4\n",
    "paras.bsp.x = np.linspace(0, 1, paras.npts)\n",
    "#paras.bsp.x = np.linspace(0, 1, paras.npts+1)[:-1]\n",
    "paras.bsp.basis_mat = obt_bsp_basis_Rfn(paras.bsp.x, \n",
    "                                        paras.bsp.iknots, \n",
    "                                        paras.bsp.bknots, \n",
    "                                        paras.bsp.ord)\n",
    "paras.bsp.N = paras.bsp.basis_mat.shape[1] # num of basis for bsp"
   ]
  },
  {
   "cell_type": "code",
   "execution_count": null,
   "id": "fbc28eac",
   "metadata": {},
   "outputs": [],
   "source": []
  },
  {
   "cell_type": "markdown",
   "id": "17087b38",
   "metadata": {},
   "source": [
    "### Fns"
   ]
  },
  {
   "cell_type": "markdown",
   "id": "3c2f9f6e",
   "metadata": {},
   "source": [
    "## Generate simulated data"
   ]
  },
  {
   "cell_type": "code",
   "execution_count": 21,
   "id": "1500d32b",
   "metadata": {
    "ExecuteTime": {
     "end_time": "2023-05-25T22:16:13.785306Z",
     "start_time": "2023-05-25T22:16:13.763409Z"
    }
   },
   "outputs": [],
   "source": [
    "np.random.seed(paras.seed)\n",
    "# simulated PSD\n",
    "\n",
    "simu_psd = np.log10(dat_all.transpose((2, 0, 1)))[:paras.M, :paras.d, :]\n",
    "#simu_psd = gen_simu_psd(paras.M, paras.d, 10)\n",
    "# simulated covs\n",
    "types_ = [\"int\", 2, \"c\"]\n",
    "assert len(types_) == paras.q\n",
    "simu_covs = gen_covs(paras.M, types_)\n",
    "simu_covs;"
   ]
  },
  {
   "cell_type": "code",
   "execution_count": 22,
   "id": "0f30b88f",
   "metadata": {
    "ExecuteTime": {
     "end_time": "2023-05-25T22:16:14.285100Z",
     "start_time": "2023-05-25T22:16:14.278472Z"
    }
   },
   "outputs": [],
   "source": [
    "# parameters\n",
    "np.random.seed(paras.seed)\n",
    "rm_idxs = np.arange(2)\n",
    "#rm_idxs = np.random.choice(paras.d, 10, replace=False)\n",
    "Gam_GT = np.random.randn(paras.bsp.N, paras.d)*50\n",
    "alp_GT = np.array([5, 1, 2])*1\n",
    "assert len(alp_GT) == paras.q\n",
    "\n",
    "Gam_GT[:, rm_idxs] = 0"
   ]
  },
  {
   "cell_type": "code",
   "execution_count": 24,
   "id": "94de75ea",
   "metadata": {
    "ExecuteTime": {
     "end_time": "2023-05-25T22:16:18.490057Z",
     "start_time": "2023-05-25T22:16:18.477608Z"
    }
   },
   "outputs": [
    {
     "name": "stdout",
     "output_type": "stream",
     "text": [
      " The percentage of probs>0.5 is 100.0%.\n"
     ]
    }
   ],
   "source": [
    "# linear term and Y\n",
    "beta_mat = paras.bsp.basis_mat @ Gam_GT\n",
    "beta_mat = np.asarray(beta_mat.T)\n",
    "\n",
    "#simu_psd = np.log10(np.transpose(ind_psd, (-1, 0, 1)))\n",
    "int_part = np.sum(beta_mat * simu_psd[:, :, :], axis=1).mean(axis=1)\n",
    "\n",
    "cov_part = simu_covs @ alp_GT \n",
    "\n",
    "# linear term\n",
    "lin_term = cov_part + int_part\n",
    "probs = logit_fn(lin_term)\n",
    "print(f\" The percentage of probs>0.5 is {np.mean(probs>0.5)*100:.1f}%.\")\n",
    "\n",
    "# Y \n",
    "rvs = np.random.rand(paras.M)\n",
    "Y = (rvs<probs).astype(float)\n",
    "Y = lin_term + np.random.randn(paras.M)*np.sqrt(paras.sigma2);"
   ]
  },
  {
   "cell_type": "code",
   "execution_count": 29,
   "id": "6d2e8611",
   "metadata": {
    "ExecuteTime": {
     "end_time": "2023-05-25T22:16:54.756404Z",
     "start_time": "2023-05-25T22:16:54.747916Z"
    }
   },
   "outputs": [
    {
     "name": "stderr",
     "output_type": "stream",
     "text": [
      "/tmp/ipykernel_53809/1514095574.py:4: UserWarning: To copy construct from a tensor, it is recommended to use sourceTensor.clone().detach() or sourceTensor.clone().detach().requires_grad_(True), rather than torch.tensor(sourceTensor).\n",
      "  Y = torch.tensor(Y)\n"
     ]
    }
   ],
   "source": [
    "# To torch\n",
    "X = torch.tensor(simu_psd) # M x d x npts\n",
    "Z = torch.tensor(simu_covs) # M x q\n",
    "Y = torch.tensor(Y)\n",
    "\n",
    "\n",
    "basis_mat = torch.DoubleTensor(paras.bsp.basis_mat); # npts x N\n"
   ]
  },
  {
   "cell_type": "code",
   "execution_count": 30,
   "id": "7c1bc6e2",
   "metadata": {
    "ExecuteTime": {
     "end_time": "2023-05-25T22:17:08.162142Z",
     "start_time": "2023-05-25T22:17:06.630629Z"
    },
    "code_folding": []
   },
   "outputs": [
    {
     "name": "stdout",
     "output_type": "stream",
     "text": [
      "tensor([-3.6077,  0.9386,  2.3132])\n"
     ]
    },
    {
     "data": {
      "text/plain": [
       "tensor([-1.5884, -2.1365,  2.0519,  3.4077,  0.3534,  3.4093,  0.3271, -2.8944,\n",
       "         1.3125, -2.9965])"
      ]
     },
     "execution_count": 30,
     "metadata": {},
     "output_type": "execute_result"
    }
   ],
   "source": [
    "# estimate with linear regression (only for check)\n",
    "model = LinearModel(Y=Y, X=X, Z=Z, basis_mat=basis_mat, sigma2=paras.sigma2)\n",
    "model._linear_term_der()\n",
    "Xt = model.lin_tm_der # Mx(q+dN)\n",
    "est_theta = svd_inverse(Xt.T @ Xt + 0*torch.eye(Xt.shape[-1]))@Xt.T@Y\n",
    "#est_theta = torch.inverse(Xt.T @ Xt)@Xt.T@Y\n",
    "\n",
    "est_alp = est_theta[:paras.q]\n",
    "est_gam = col_vec2mat_fn(est_theta[paras.q:], nrow=paras.bsp.N)*np.sqrt(paras.bsp.N)\n",
    "print(est_alp)\n",
    "\n",
    "Yt1 = Xt@est_theta\n",
    "(Yt1-lin_term)[:10]"
   ]
  },
  {
   "cell_type": "code",
   "execution_count": null,
   "id": "b1a2b52d",
   "metadata": {},
   "outputs": [],
   "source": []
  },
  {
   "cell_type": "markdown",
   "id": "e4043966",
   "metadata": {},
   "source": [
    "## Test optimization"
   ]
  },
  {
   "cell_type": "code",
   "execution_count": 55,
   "id": "2492276f",
   "metadata": {
    "ExecuteTime": {
     "end_time": "2023-05-25T22:24:10.942056Z",
     "start_time": "2023-05-25T22:24:10.925119Z"
    }
   },
   "outputs": [
    {
     "data": {
      "text/plain": [
       "802.8232605710607"
      ]
     },
     "execution_count": 55,
     "metadata": {},
     "output_type": "execute_result"
    }
   ],
   "source": [
    "np.random.seed(paras.seed)\n",
    "torch.manual_seed(paras.seed)\n",
    "\n",
    "alp_init = torch.randn(paras.q)\n",
    "Gam_init = torch.randn(paras.bsp.N, paras.d) # N x d\n",
    "theta_init = None\n",
    "alp_init = torch.tensor(alp_GT) + torch.randn(paras.q)*10\n",
    "Gam_init = torch.tensor(Gam_GT) + torch.randn(paras.bsp.N, paras.d)*10\n",
    "theta_init = torch.cat([alp_init, col_vec_fn(Gam_init)/np.sqrt(paras.bsp.N)])\n",
    "\n",
    "rhok_init = torch.randn(paras.d*paras.bsp.N)\n",
    "\n",
    "Rmin = 2*(np.linalg.norm(Gam_GT/np.sqrt(paras.bsp.N), axis=0).sum() + np.abs(alp_GT).sum())\n",
    "Rmin"
   ]
  },
  {
   "cell_type": "code",
   "execution_count": 60,
   "id": "40a2b11d",
   "metadata": {
    "ExecuteTime": {
     "end_time": "2023-05-25T22:24:26.632907Z",
     "start_time": "2023-05-25T22:24:26.177899Z"
    }
   },
   "outputs": [
    {
     "name": "stderr",
     "output_type": "stream",
     "text": [
      "100%|███████████████████████████████████████████████████████████████████████████████████████████████████████████████████████████████████████| 200/200 [00:00<00:00, 451.86it/s]\n"
     ]
    }
   ],
   "source": [
    "#model = LogisticModel(Y=Y, X=X, Z=Z, basis_mat=basis_mat)\n",
    "model = LinearModel(Y=Y, X=X, Z=Z, basis_mat=basis_mat, sigma2=paras.sigma2)\n",
    "pen = SCAD(lams=3e0, a=2.7, \n",
    "          sel_idx=np.arange(1, paras.d)\n",
    "          )\n",
    "\n",
    "max_iter = 200\n",
    "for ix in trange(max_iter):\n",
    "    opt = OneStepOpt(Gamk=Gam_init, \n",
    "                  rhok=rhok_init, \n",
    "                  theta_init=theta_init, \n",
    "                  alpha=0.9, beta=1, model=model, penalty=pen, \n",
    "                  q=paras.q, NR_eps=1e-5, NR_maxit=100, R=Rmin*0.5)\n",
    "    #print(opt.theta_init[:paras.q])\n",
    "    opt()\n",
    "    #print(opt.Gamk)\n",
    "    Gam_init = opt.Gamk\n",
    "    rhok_init = opt.rhok\n",
    "    theta_init = opt.thetak"
   ]
  },
  {
   "cell_type": "code",
   "execution_count": 61,
   "id": "d5de4966",
   "metadata": {
    "ExecuteTime": {
     "end_time": "2023-05-25T22:24:27.194105Z",
     "start_time": "2023-05-25T22:24:27.186503Z"
    }
   },
   "outputs": [
    {
     "data": {
      "text/plain": [
       "tensor([4.5083, 0.9127, 1.8693])"
      ]
     },
     "execution_count": 61,
     "metadata": {},
     "output_type": "execute_result"
    }
   ],
   "source": [
    "opt.thetak[:paras.q]"
   ]
  },
  {
   "cell_type": "code",
   "execution_count": 62,
   "id": "927774fa",
   "metadata": {
    "ExecuteTime": {
     "end_time": "2023-05-25T22:24:27.817305Z",
     "start_time": "2023-05-25T22:24:27.809913Z"
    }
   },
   "outputs": [
    {
     "data": {
      "text/plain": [
       "tensor([ 23.0919,   0.0000, 188.0010, 291.9281, 238.2823, 237.0050, 207.3813,\n",
       "        183.8208, 247.8678, 177.3008])"
      ]
     },
     "execution_count": 62,
     "metadata": {},
     "output_type": "execute_result"
    }
   ],
   "source": [
    "opt.Gamk.norm(dim=0)"
   ]
  },
  {
   "cell_type": "code",
   "execution_count": 59,
   "id": "3e23bf78",
   "metadata": {
    "ExecuteTime": {
     "end_time": "2023-05-25T22:24:14.939423Z",
     "start_time": "2023-05-25T22:24:14.931631Z"
    }
   },
   "outputs": [
    {
     "data": {
      "text/plain": [
       "array([  0.        ,   0.        , 198.90526615, 305.57298593,\n",
       "       246.55160588, 229.6490149 , 213.21863098, 204.35053708,\n",
       "       262.00288114, 185.01318873])"
      ]
     },
     "execution_count": 59,
     "metadata": {},
     "output_type": "execute_result"
    }
   ],
   "source": [
    "np.linalg.norm(Gam_GT, axis=0)"
   ]
  },
  {
   "cell_type": "code",
   "execution_count": 52,
   "id": "de80e8f5",
   "metadata": {
    "ExecuteTime": {
     "end_time": "2023-05-25T22:19:46.517265Z",
     "start_time": "2023-05-25T22:19:46.507526Z"
    }
   },
   "outputs": [
    {
     "data": {
      "text/plain": [
       "tensor(0.0012)"
      ]
     },
     "execution_count": 52,
     "metadata": {},
     "output_type": "execute_result"
    }
   ],
   "source": [
    "diff = opt.Gamk - col_vec2mat_fn(opt.thetak[paras.q:], nrow=paras.bsp.N)*np.sqrt(paras.bsp.N)\n",
    "torch.norm(diff)/torch.norm(opt.Gamk)"
   ]
  },
  {
   "cell_type": "code",
   "execution_count": 53,
   "id": "1ca4d717",
   "metadata": {
    "ExecuteTime": {
     "end_time": "2023-05-25T22:19:47.411960Z",
     "start_time": "2023-05-25T22:19:47.296739Z"
    }
   },
   "outputs": [
    {
     "data": {
      "text/plain": [
       "<matplotlib.legend.Legend at 0x7f8f0069ebe0>"
      ]
     },
     "execution_count": 53,
     "metadata": {},
     "output_type": "execute_result"
    },
    {
     "data": {
      "image/png": "[encoded data removed]",
      "text/plain": [
       "<Figure size 432x288 with 1 Axes>"
      ]
     },
     "metadata": {},
     "output_type": "display_data"
    }
   ],
   "source": [
    "est_beta_mat = (basis_mat @opt.Gamk).T.numpy()\n",
    "ix = 2\n",
    "plt.plot(paras.bsp.x, est_beta_mat[ix, :], label=\"estimate\")\n",
    "plt.plot(paras.bsp.x, beta_mat[ix, :], label=\"GT\")\n",
    "plt.legend()"
   ]
  },
  {
   "cell_type": "code",
   "execution_count": 38,
   "id": "f32e0cf9",
   "metadata": {
    "ExecuteTime": {
     "end_time": "2023-05-25T22:18:39.820273Z",
     "start_time": "2023-05-25T22:18:39.592984Z"
    }
   },
   "outputs": [
    {
     "name": "stderr",
     "output_type": "stream",
     "text": [
      "/opt/conda/lib/python3.9/site-packages/scipy/stats/stats.py:4023: PearsonRConstantInputWarning: An input array is constant; the correlation coefficient is not defined.\n",
      "  warnings.warn(PearsonRConstantInputWarning())\n"
     ]
    },
    {
     "data": {
      "text/plain": [
       "[<matplotlib.lines.Line2D at 0x7f8f006a4250>]"
      ]
     },
     "execution_count": 38,
     "metadata": {},
     "output_type": "execute_result"
    },
    {
     "data": {
      "image/png": "[encoded data removed]",
      "text/plain": [
       "<Figure size 432x288 with 1 Axes>"
      ]
     },
     "metadata": {},
     "output_type": "display_data"
    }
   ],
   "source": [
    "corrs_res = []\n",
    "for ix in range(paras.d):\n",
    "    corr_res = pearsonr(est_beta_mat[ix, :], beta_mat[ix, :])\n",
    "    corrs_res.append(corr_res)\n",
    "corrs_res = np.array(corrs_res)\n",
    "\n",
    "plt.plot(corrs_res[:, 0])"
   ]
  },
  {
   "cell_type": "code",
   "execution_count": null,
   "id": "66a37ff3",
   "metadata": {},
   "outputs": [],
   "source": []
  }
 ],
 "metadata": {
  "kernelspec": {
   "display_name": "Python 3 (ipykernel)",
   "language": "python",
   "name": "python3"
  },
  "language_info": {
   "codemirror_mode": {
    "name": "ipython",
    "version": 3
   },
   "file_extension": ".py",
   "mimetype": "text/x-python",
   "name": "python",
   "nbconvert_exporter": "python",
   "pygments_lexer": "ipython3",
   "version": "3.9.7"
  },
  "toc": {
   "base_numbering": 1,
   "nav_menu": {},
   "number_sections": true,
   "sideBar": true,
   "skip_h1_title": false,
   "title_cell": "Table of Contents",
   "title_sidebar": "Contents",
   "toc_cell": false,
   "toc_position": {},
   "toc_section_display": true,
   "toc_window_display": false
  }
 },
 "nbformat": 4,
 "nbformat_minor": 5
}
