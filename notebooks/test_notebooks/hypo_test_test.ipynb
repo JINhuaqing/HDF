{
 "cells": [
  {
   "cell_type": "markdown",
   "id": "faf0a805",
   "metadata": {},
   "source": [
    "This file contains python code to check the hypothesis testing"
   ]
  },
  {
   "cell_type": "code",
   "execution_count": 1,
   "id": "02ae980e",
   "metadata": {
    "ExecuteTime": {
     "end_time": "2023-05-31T19:57:23.490285Z",
     "start_time": "2023-05-31T19:57:23.481769Z"
    },
    "execution": {
     "iopub.execute_input": "2023-06-04T23:51:10.094516Z",
     "iopub.status.busy": "2023-06-04T23:51:10.093229Z",
     "iopub.status.idle": "2023-06-04T23:51:10.108030Z",
     "shell.execute_reply": "2023-06-04T23:51:10.106430Z",
     "shell.execute_reply.started": "2023-06-04T23:51:10.094471Z"
    },
    "tags": []
   },
   "outputs": [],
   "source": [
    "import sys\n",
    "sys.path.append(\"../mypkg\")"
   ]
  },
  {
   "cell_type": "code",
   "execution_count": 2,
   "id": "023df78a",
   "metadata": {
    "ExecuteTime": {
     "end_time": "2023-05-31T19:57:34.238839Z",
     "start_time": "2023-05-31T19:57:23.494053Z"
    },
    "execution": {
     "iopub.execute_input": "2023-06-04T23:51:11.473464Z",
     "iopub.status.busy": "2023-06-04T23:51:11.472943Z",
     "iopub.status.idle": "2023-06-04T23:51:23.511209Z",
     "shell.execute_reply": "2023-06-04T23:51:23.509776Z",
     "shell.execute_reply.started": "2023-06-04T23:51:11.473421Z"
    },
    "tags": []
   },
   "outputs": [],
   "source": [
    "import numpy as np\n",
    "import torch\n",
    "import matplotlib.pyplot as plt\n",
    "import seaborn as sns\n",
    "from scipy.stats import pearsonr\n",
    "from numbers import Number\n",
    "import multiprocessing as mp\n",
    "\n",
    "from easydict import EasyDict as edict\n",
    "from tqdm import trange\n",
    "from scipy.io import loadmat\n",
    "from pprint import pprint\n"
   ]
  },
  {
   "cell_type": "code",
   "execution_count": 3,
   "id": "053a5249",
   "metadata": {
    "ExecuteTime": {
     "end_time": "2023-05-31T19:57:34.286739Z",
     "start_time": "2023-05-31T19:57:34.245604Z"
    },
    "execution": {
     "iopub.execute_input": "2023-06-04T23:51:23.514383Z",
     "iopub.status.busy": "2023-06-04T23:51:23.513227Z",
     "iopub.status.idle": "2023-06-04T23:51:23.554408Z",
     "shell.execute_reply": "2023-06-04T23:51:23.553238Z",
     "shell.execute_reply.started": "2023-06-04T23:51:23.514330Z"
    },
    "tags": []
   },
   "outputs": [
    {
     "data": {
      "text/plain": [
       "<module 'constants' from '/data/rajlab1/user_data/jin/MyResearch/HDF_infer/notebooks/../mypkg/constants.py'>"
      ]
     },
     "execution_count": 3,
     "metadata": {},
     "output_type": "execute_result"
    }
   ],
   "source": [
    "import importlib\n",
    "import constants\n",
    "importlib.reload(constants)"
   ]
  },
  {
   "cell_type": "code",
   "execution_count": 4,
   "id": "b0aa91b2",
   "metadata": {
    "ExecuteTime": {
     "end_time": "2023-05-31T19:57:59.558229Z",
     "start_time": "2023-05-31T19:57:34.292612Z"
    },
    "execution": {
     "iopub.execute_input": "2023-06-04T23:51:27.114638Z",
     "iopub.status.busy": "2023-06-04T23:51:27.114046Z",
     "iopub.status.idle": "2023-06-04T23:51:53.245548Z",
     "shell.execute_reply": "2023-06-04T23:51:53.243965Z",
     "shell.execute_reply.started": "2023-06-04T23:51:27.114591Z"
    },
    "tags": []
   },
   "outputs": [
    {
     "name": "stdout",
     "output_type": "stream",
     "text": [
      "Load file /data/rajlab1/user_data/jin/MyResearch/HDF_infer/notebooks/../mypkg/../data/AD_vs_Ctrl_ts/AD88_all.pkl\n",
      "Load file /data/rajlab1/user_data/jin/MyResearch/HDF_infer/notebooks/../mypkg/../data/AD_vs_Ctrl_ts/Ctrl92_all.pkl\n",
      "Load file /data/rajlab1/user_data/jin/MyResearch/HDF_infer/notebooks/../mypkg/../data/ctrl_vs_AD_nooutlier.pkl\n"
     ]
    }
   ],
   "source": [
    "from constants import DATA_ROOT, RES_ROOT, FIG_ROOT, MIDRES_ROOT\n",
    "from default_paras import def_paras\n",
    "\n",
    "from hdf_utils.data_gen import gen_covs, gen_simu_psd, gen_simu_ts\n",
    "from hdf_utils.fns import fn1, fn2, fn3, fn4, fn5, zero_fn\n",
    "from hdf_utils.fns_sinica import coef_fn, fourier_basis_fn\n",
    "from hdf_utils.likelihood import obt_lin_tm\n",
    "from hdf_utils.SIS import SIS_linear\n",
    "from utils.matrix import col_vec_fn, col_vec2mat_fn, conju_grad, svd_inverse\n",
    "from utils.functions import logit_fn\n",
    "from utils.misc import save_pkl, load_pkl\n",
    "from splines import obt_bsp_basis_Rfn, obt_bsp_basis_Rfn_wrapper\n",
    "from projection import euclidean_proj_l1ball\n",
    "from optimization.one_step_opt import OneStepOpt\n",
    "from optimization.cross_validation import CV_err_linear_fn\n",
    "from optimization.opt import optimization\n",
    "\n",
    "from penalties.scad_pen import SCAD\n",
    "from models.logistic_model import LogisticModel\n",
    "from models.linear_model import LinearModel\n"
   ]
  },
  {
   "cell_type": "code",
   "execution_count": 5,
   "id": "fe0a4a46",
   "metadata": {
    "ExecuteTime": {
     "end_time": "2023-05-31T19:57:59.621784Z",
     "start_time": "2023-05-31T19:57:59.568097Z"
    },
    "execution": {
     "iopub.execute_input": "2023-06-04T23:51:59.019647Z",
     "iopub.status.busy": "2023-06-04T23:51:59.018875Z",
     "iopub.status.idle": "2023-06-04T23:51:59.035570Z",
     "shell.execute_reply": "2023-06-04T23:51:59.034493Z",
     "shell.execute_reply.started": "2023-06-04T23:51:59.019592Z"
    },
    "tags": []
   },
   "outputs": [],
   "source": [
    "plt.style.use(FIG_ROOT/\"base.mplstyle\")"
   ]
  },
  {
   "cell_type": "code",
   "execution_count": 6,
   "id": "fdddf8a6",
   "metadata": {
    "ExecuteTime": {
     "end_time": "2023-05-31T19:57:59.637665Z",
     "start_time": "2023-05-31T19:57:59.633997Z"
    },
    "execution": {
     "iopub.execute_input": "2023-06-04T23:51:59.627545Z",
     "iopub.status.busy": "2023-06-04T23:51:59.626996Z",
     "iopub.status.idle": "2023-06-04T23:51:59.633200Z",
     "shell.execute_reply": "2023-06-04T23:51:59.632001Z",
     "shell.execute_reply.started": "2023-06-04T23:51:59.627502Z"
    },
    "tags": []
   },
   "outputs": [],
   "source": [
    "torch.set_default_tensor_type(torch.DoubleTensor)"
   ]
  },
  {
   "cell_type": "code",
   "execution_count": null,
   "id": "d0af2f35",
   "metadata": {},
   "outputs": [],
   "source": []
  },
  {
   "cell_type": "markdown",
   "id": "dd9c6514",
   "metadata": {},
   "source": [
    "## Param and fns"
   ]
  },
  {
   "cell_type": "markdown",
   "id": "21e4ccea",
   "metadata": {},
   "source": [
    "### Params"
   ]
  },
  {
   "cell_type": "code",
   "execution_count": 7,
   "id": "fd29f0de",
   "metadata": {
    "ExecuteTime": {
     "end_time": "2023-05-31T23:31:16.397628Z",
     "start_time": "2023-05-31T23:31:16.221812Z"
    },
    "execution": {
     "iopub.execute_input": "2023-06-04T23:52:13.201029Z",
     "iopub.status.busy": "2023-06-04T23:52:13.200383Z",
     "iopub.status.idle": "2023-06-04T23:52:13.236196Z",
     "shell.execute_reply": "2023-06-04T23:52:13.235337Z",
     "shell.execute_reply.started": "2023-06-04T23:52:13.200978Z"
    },
    "tags": []
   },
   "outputs": [
    {
     "name": "stdout",
     "output_type": "stream",
     "text": [
      "The number of B-spline basis is 8.\n"
     ]
    }
   ],
   "source": [
    "np.random.seed(0)\n",
    "paras = edict(def_paras.copy())\n",
    "\n",
    "# Others\n",
    "paras.num_rep = 20\n",
    "paras.ns = [100, 300, 900, 2700, 8100, 24300]\n",
    "paras.can_lams = [1e-1, 3e-1, 1e0, 3e0, 9e0, 3e1]\n",
    "paras.can_Ns = [5, 10, 15, 20]\n",
    "paras.ind_freq = np.linspace(1, 40, 40) # freqs\n",
    "paras.init_noise_sd = 2 # the sd of the noise added to the true value for initial values\n",
    "#paras.SIS_ratio = 1 # the ratio to keep with SIS procedure\n",
    "paras.SIS_ratio = 0.02 # the ratio to keep with SIS procedure\n",
    "paras.svdinv_eps_Q = 0.999\n",
    "paras.svdinv_eps_Psi = 0.999\n",
    "\n",
    "# generating dataset\n",
    "paras.n = 500 # num of data obs to be genareted\n",
    "paras.npts = 40 # num of pts to evaluate X(s)\n",
    "paras.d = 200 # num of ROIs\n",
    "paras.q = 5 # num of other covariates\n",
    "paras.sigma2 = 0.1 # variance of the error\n",
    "paras.types_ = [\"int\", 2, 2, \"c\", \"c\"]\n",
    "\n",
    "# b-spline\n",
    "paras.N = 8 # int(3*paras.n**(1/paras.ord/2)) # num of basis for bsp\n",
    "paras.x = np.linspace(0, 1, paras.npts)\n",
    "paras.basis_mat = torch.DoubleTensor(obt_bsp_basis_Rfn_wrapper(paras.x, paras.N, paras.ord))\n",
    "assert paras.N == paras.basis_mat.shape[1]\n",
    "print(f\"The number of B-spline basis is {paras.N:.0f}.\")\n",
    "\n",
    "# True parameters\n",
    "paras.alp_GT = np.array([5, 1, -2, 3, -4])\n",
    "\n",
    "# first way\n",
    "#beta_type_GT = [fn1, fn2, fn2] + [zero_fn]*(paras.d-3-2) + [fn1, fn2]\n",
    "#paras.beta_GT = np.array([_fn(paras.x) for _fn in beta_type_GT]).T\n",
    "# second way, fourier basis\n",
    "paras.fourier_basis = fourier_basis_fn(paras.x)\n",
    "#paras.fourier_basis_coefs = ([coef_fn(0.1), coef_fn(0.3), coef_fn(0.5)] + \n",
    "#                             [np.zeros(50)] * (paras.d-3-2) +\n",
    "#                             [coef_fn(0.7), coef_fn(0.9)]\n",
    "#                             )\n",
    "paras.fourier_basis_coefs = ([np.zeros(50)] * (paras.d-2) +\n",
    "                             [coef_fn(0.7), coef_fn(0.9)]\n",
    "                             )\n",
    "paras.fourier_basis_coefs = np.array(paras.fourier_basis_coefs).T * 5\n",
    "paras.beta_GT = paras.fourier_basis @ paras.fourier_basis_coefs #* 10\n",
    "#\n",
    "paras.Gam_GT_est = (np.linalg.inv(paras.basis_mat.numpy().T \n",
    "                               @ paras.basis_mat.numpy()) \n",
    "                               @ paras.basis_mat.numpy().T \n",
    "                               @ paras.beta_GT)\n",
    "\n",
    "# optimization\n",
    "paras.Rmin = 2*(np.linalg.norm(paras.Gam_GT_est/np.sqrt(paras.N), axis=0).sum() + np.abs(paras.alp_GT).sum())\n",
    "paras.sel_idx = np.arange(2, paras.d) # M^c set, \n",
    "#without loss of generality, we assume the idxs in M is the first m betas\n",
    "paras.num_cv_fold = 5\n",
    "paras.Rfct = 2\n",
    "#paras.stop_cv = 5e-5\n",
    "paras.stop_cv = 5e-4\n",
    "#paras.max_iter = 10000\n",
    "paras.max_iter = 2000\n",
    "\n",
    "# hypothesis test\n",
    "paras.M_idxs = np.delete(np.arange(paras.d), paras.sel_idx) # the M set\n",
    "paras.Cmat = np.eye(len(paras.M_idxs)) # Cmat \\times beta_M(s), r x m\n",
    "paras.r, paras.m = paras.Cmat.shape\n",
    "paras.t_vec = np.zeros(paras.Cmat.shape[0]) # t vec, typically it is zero vector\n"
   ]
  },
  {
   "cell_type": "code",
   "execution_count": 8,
   "id": "75dc09a0",
   "metadata": {
    "ExecuteTime": {
     "end_time": "2023-05-31T23:31:22.417895Z",
     "start_time": "2023-05-31T23:31:22.400951Z"
    },
    "execution": {
     "iopub.execute_input": "2023-06-04T23:52:14.594162Z",
     "iopub.status.busy": "2023-06-04T23:52:14.593599Z",
     "iopub.status.idle": "2023-06-04T23:52:14.603248Z",
     "shell.execute_reply": "2023-06-04T23:52:14.602001Z",
     "shell.execute_reply.started": "2023-06-04T23:52:14.594117Z"
    },
    "tags": []
   },
   "outputs": [],
   "source": [
    "paras.save_dir = RES_ROOT/\"linear_test\"\n",
    "if not paras.save_dir.exists():\n",
    "    paras.save_dir.mkdir()"
   ]
  },
  {
   "cell_type": "code",
   "execution_count": null,
   "id": "75e10fd4",
   "metadata": {},
   "outputs": [],
   "source": []
  },
  {
   "cell_type": "markdown",
   "id": "66c2f90f",
   "metadata": {
    "ExecuteTime": {
     "end_time": "2022-12-08T18:09:55.509389Z",
     "start_time": "2022-12-08T18:09:55.343396Z"
    }
   },
   "source": [
    "### Fns"
   ]
  },
  {
   "cell_type": "code",
   "execution_count": 9,
   "id": "fea96e90",
   "metadata": {
    "ExecuteTime": {
     "end_time": "2023-05-31T23:31:23.288890Z",
     "start_time": "2023-05-31T23:31:23.282599Z"
    },
    "execution": {
     "iopub.execute_input": "2023-06-04T23:52:15.965349Z",
     "iopub.status.busy": "2023-06-04T23:52:15.964823Z",
     "iopub.status.idle": "2023-06-04T23:52:15.973253Z",
     "shell.execute_reply": "2023-06-04T23:52:15.972167Z",
     "shell.execute_reply.started": "2023-06-04T23:52:15.965306Z"
    },
    "tags": []
   },
   "outputs": [],
   "source": [
    "\n",
    "def MS2idxs(q, N, MS_unions):\n",
    "    \"\"\"This fn is to return the idxs to keep in mat Q, Sigma and vec Theta\n",
    "    \"\"\"\n",
    "    idxs_all = [np.arange(0, q)]\n",
    "    for cur_idx in MS_unions:\n",
    "        idxs_all.append(np.arange(q+cur_idx*N, q+(cur_idx+1)*N))\n",
    "    idxs_all = np.concatenate(idxs_all)\n",
    "    return idxs_all"
   ]
  },
  {
   "cell_type": "code",
   "execution_count": 10,
   "id": "2db5c76b",
   "metadata": {
    "ExecuteTime": {
     "end_time": "2023-05-31T23:31:23.640599Z",
     "start_time": "2023-05-31T23:31:23.633146Z"
    },
    "execution": {
     "iopub.execute_input": "2023-06-04T23:52:17.041831Z",
     "iopub.status.busy": "2023-06-04T23:52:17.041277Z",
     "iopub.status.idle": "2023-06-04T23:52:17.050563Z",
     "shell.execute_reply": "2023-06-04T23:52:17.049474Z",
     "shell.execute_reply.started": "2023-06-04T23:52:17.041786Z"
    },
    "tags": []
   },
   "outputs": [],
   "source": [
    "def get_Amat(k, paras):\n",
    "    \"\"\"Get A matrix for hypothesis test\n",
    "        k: Num of elements in S\n",
    "        paras: parameters\n",
    "                required: N, Cmat, m, q\n",
    "    \"\"\"\n",
    "    _paras = edict(paras.copy())\n",
    "    \n",
    "    part1 = np.kron(_paras.Cmat, np.eye(_paras.N))\n",
    "    part2 = np.zeros((_paras.m*_paras.N, _paras.q+(_paras.m+k)*_paras.N))\n",
    "    part2[:, _paras.q:(_paras.q+_paras.m*_paras.N)] = np.eye(_paras.m*_paras.N)\n",
    "    A = part1 @ part2\n",
    "    return A"
   ]
  },
  {
   "cell_type": "code",
   "execution_count": null,
   "id": "cac9ddbe",
   "metadata": {},
   "outputs": [],
   "source": []
  },
  {
   "cell_type": "code",
   "execution_count": 11,
   "id": "0f30b88f",
   "metadata": {
    "ExecuteTime": {
     "end_time": "2023-05-31T23:31:24.456489Z",
     "start_time": "2023-05-31T23:31:24.440199Z"
    },
    "code_folding": [],
    "execution": {
     "iopub.execute_input": "2023-06-04T23:52:31.936062Z",
     "iopub.status.busy": "2023-06-04T23:52:31.935428Z",
     "iopub.status.idle": "2023-06-04T23:52:31.951160Z",
     "shell.execute_reply": "2023-06-04T23:52:31.950005Z",
     "shell.execute_reply.started": "2023-06-04T23:52:31.936014Z"
    },
    "tags": []
   },
   "outputs": [],
   "source": [
    "def get_filename(params):\n",
    "    keys = [\"seed\", \"n\", \"d\", \"decimate_rate\"]\n",
    "    return '_'.join(f\"{k}-{params[k]}\" for k in keys) + '.pkl'\n",
    "def _gen_simu_data_all(seed, paras):\n",
    "    np.random.seed(seed)\n",
    "    _paras = edict(paras.copy())\n",
    "    # simulated PSD\n",
    "    assert len(_paras.types_) == _paras.q\n",
    "    assert len(_paras.alp_GT) == _paras.q\n",
    "    tmp_paras = edict()\n",
    "    tmp_paras.seed = seed \n",
    "    tmp_paras.n = 1000\n",
    "    #tmp_paras.n = _paras.n\n",
    "    tmp_paras.d = _paras.d\n",
    "    tmp_paras.decimate_rate = 30\n",
    "    \n",
    "    #file_path = MIDRES_ROOT/get_filename(tmp_paras)\n",
    "    #if file_path.exists():\n",
    "    #    #simu_curvs = np.random.randn(_paras.n, _paras.d, _paras.npts) /10\n",
    "    #    simu_curvs = load_pkl(file_path, verbose=False)\n",
    "    #else:\n",
    "    #    simu_curvs = gen_simu_ts(_paras.n, _paras.d, 5, decimate_rate=tmp_paras.decimate_rate, verbose=False)\n",
    "    #    save_pkl(file_path, simu_curvs)\n",
    "    simu_curvs = gen_simu_psd(_paras.n, _paras.d, 10)\n",
    "    #simu_curvs = 1*(simu_curvs- simu_curvs.mean(axis=2, keepdims=True))/simu_curvs.std(axis=2, keepdims=True)\n",
    "    #simu_curvs = np.random.randn(_paras.n, _paras.d, _paras.npts) * 20\n",
    "    #simu_curvs = (simu_curvs)/simu_curvs.std(axis=2)[:, :, np.newaxis]\n",
    "    #simu_curvs = simu_curvs + np.random.randn(_paras.n, _paras.d, 1)*0.5\n",
    "    simu_curvs = simu_curvs[:_paras.n, :, :_paras.npts]\n",
    "    simu_covs = gen_covs(_paras.n, _paras.types_)\n",
    "    \n",
    "    # linear term and Y\n",
    "    int_part = np.sum(_paras.beta_GT.T* simu_curvs[:, :, :], axis=1).mean(axis=1)\n",
    "    cov_part = simu_covs @ _paras.alp_GT \n",
    "    \n",
    "    # linear term\n",
    "    lin_term = cov_part + int_part\n",
    "    \n",
    "    \n",
    "    \n",
    "    # Y \n",
    "    rvs = np.random.rand(_paras.n)\n",
    "    Y = lin_term + np.random.randn(_paras.n)*np.sqrt(_paras.sigma2)\n",
    "    \n",
    "    # To torch\n",
    "    X = torch.Tensor(simu_curvs) # n x d x npts\n",
    "    Z = torch.Tensor(simu_covs) # n x q\n",
    "    Y = torch.Tensor(Y)\n",
    "    \n",
    "    all_data = edict()\n",
    "    all_data.X = X\n",
    "    all_data.Y = Y\n",
    "    all_data.Z = Z\n",
    "    return all_data"
   ]
  },
  {
   "cell_type": "code",
   "execution_count": null,
   "id": "25fe047b",
   "metadata": {},
   "outputs": [],
   "source": []
  },
  {
   "cell_type": "code",
   "execution_count": 12,
   "id": "73e03f1f",
   "metadata": {
    "ExecuteTime": {
     "end_time": "2023-05-31T23:31:25.476103Z",
     "start_time": "2023-05-31T23:31:25.463474Z"
    },
    "code_folding": [
     0
    ],
    "execution": {
     "iopub.execute_input": "2023-06-04T23:52:36.373150Z",
     "iopub.status.busy": "2023-06-04T23:52:36.372500Z",
     "iopub.status.idle": "2023-06-04T23:52:36.386955Z",
     "shell.execute_reply": "2023-06-04T23:52:36.385874Z",
     "shell.execute_reply.started": "2023-06-04T23:52:36.373101Z"
    },
    "tags": []
   },
   "outputs": [],
   "source": [
    "def obt_test_stat(model, est_alp, est_Gam, paras):\n",
    "    \"\"\"Obtiaining the test statistics via the estimator\n",
    "        args:\n",
    "            model: The model you used, LinearModel or LogisticModel\n",
    "            est_alp: Estimated alp parameters\n",
    "            est_Gam: Estimated Gam parameters\n",
    "    \"\"\"\n",
    "    _paras = edict(paras.copy())\n",
    "    est_theta = torch.cat([est_alp, col_vec_fn(est_Gam)/np.sqrt(_paras.N)])\n",
    "    Q_mat = -model.log_lik_der2(est_alp, est_Gam)\n",
    "    model.log_lik_der1(est_alp, est_Gam);\n",
    "    Sig_mat = (model.log_lik_der1_vs.unsqueeze(-1) * model.log_lik_der1_vs.unsqueeze(1)).mean(axis=0) \n",
    "    # minus sign canceled\n",
    "    \n",
    "    \n",
    "    # obtain the idxs to keep for test\n",
    "    nonzero_idxs = torch.nonzero(torch.norm(est_Gam, dim=0)).reshape(-1).numpy()\n",
    "    MS_unions = np.sort(np.union1d(_paras.M_idxs, nonzero_idxs))\n",
    "    keep_idxs_test = MS2idxs(_paras.q, _paras.N, MS_unions)\n",
    "    \n",
    "    # A mat\n",
    "    k = len(np.setdiff1d(nonzero_idxs, _paras.M_idxs))\n",
    "    Amat = torch.Tensor(get_Amat(k, _paras))\n",
    "    \n",
    "    # calcuate Test stats\n",
    "    Q_mat_part = Q_mat[keep_idxs_test][:, keep_idxs_test]\n",
    "    Q_mat_part_inv = torch.pinverse(Q_mat_part)\n",
    "    #Q_mat_part_inv = svd_inverse(Q_mat_part, _paras.svdinv_eps_Q)\n",
    "    \n",
    "    Sig_mat_part = Sig_mat[keep_idxs_test][:, keep_idxs_test]\n",
    "    Psi = Amat @ Q_mat_part_inv @ Sig_mat_part @ Q_mat_part_inv @ Amat.T\n",
    "    \n",
    "    T_p1 = Amat @ est_theta[keep_idxs_test]\n",
    "    Psi_inv = torch.pinverse(Psi)\n",
    "    #Psi_inv = svd_inverse(Psi, _paras.svdinv_eps_Psi)\n",
    "    T_v = T_p1 @ Psi_inv @ T_p1 * _paras.n \n",
    "    return T_v"
   ]
  },
  {
   "cell_type": "code",
   "execution_count": null,
   "id": "96fd3e30",
   "metadata": {},
   "outputs": [],
   "source": []
  },
  {
   "cell_type": "markdown",
   "id": "e4043966",
   "metadata": {},
   "source": [
    "## Simu"
   ]
  },
  {
   "cell_type": "code",
   "execution_count": null,
   "id": "911af57c",
   "metadata": {},
   "outputs": [],
   "source": []
  },
  {
   "cell_type": "code",
   "execution_count": 24,
   "id": "9f11fd57",
   "metadata": {
    "ExecuteTime": {
     "start_time": "2023-06-01T00:11:00.652Z"
    },
    "code_folding": [],
    "execution": {
     "iopub.execute_input": "2023-06-04T23:54:43.197185Z",
     "iopub.status.busy": "2023-06-04T23:54:43.196540Z",
     "iopub.status.idle": "2023-06-04T23:57:34.541291Z",
     "shell.execute_reply": "2023-06-04T23:57:34.540725Z",
     "shell.execute_reply.started": "2023-06-04T23:54:43.197134Z"
    },
    "scrolled": true,
    "tags": []
   },
   "outputs": [
    {
     "name": "stderr",
     "output_type": "stream",
     "text": [
      "  0%|                                                                                                                                                                                 | 0/100 [00:00<?, ?it/s]"
     ]
    },
    {
     "name": "stdout",
     "output_type": "stream",
     "text": [
      "[ 75 186 198 199]\n"
     ]
    },
    {
     "name": "stderr",
     "output_type": "stream",
     "text": [
      "  1%|█▋                                                                                                                                                                       | 1/100 [00:07<11:39,  7.06s/it]"
     ]
    },
    {
     "name": "stdout",
     "output_type": "stream",
     "text": [
      "[0 1 4 5]\n",
      "tensor(17.9412)\n",
      "tensor([[ 7.3097,  5.4579,  0.0000,  0.0000, 40.2072, 72.2742],\n",
      "        [ 2.9227,  3.3975,  5.8526,  5.4750, 40.2834, 66.3454],\n",
      "        [ 0.0000,  0.0000,  0.0000,  0.0000, 43.1070, 65.4046]])\n",
      "[ 42 147 198 199]\n"
     ]
    },
    {
     "name": "stderr",
     "output_type": "stream",
     "text": [
      "  2%|███▍                                                                                                                                                                     | 2/100 [00:14<11:49,  7.24s/it]"
     ]
    },
    {
     "name": "stdout",
     "output_type": "stream",
     "text": [
      "[0 1 4 5]\n",
      "tensor(5.6152)\n",
      "tensor([[ 3.9854,  6.7310,  0.0000,  0.0000, 37.1385, 67.8769],\n",
      "        [ 4.3921,  4.7366,  5.3615,  4.2435, 44.6568, 66.1864],\n",
      "        [ 0.0000,  0.0000,  0.0000,  0.0000, 43.1070, 65.4046]])\n",
      "[136 178 198 199]\n"
     ]
    },
    {
     "name": "stderr",
     "output_type": "stream",
     "text": [
      "  3%|█████                                                                                                                                                                    | 3/100 [00:21<11:36,  7.18s/it]"
     ]
    },
    {
     "name": "stdout",
     "output_type": "stream",
     "text": [
      "[0 1 4 5]\n",
      "tensor(8.4328)\n",
      "tensor([[ 5.7296,  5.5038,  0.0000,  0.0000, 43.2450, 65.4288],\n",
      "        [ 4.1264,  4.5258,  4.7104,  5.2128, 42.6830, 65.6692],\n",
      "        [ 0.0000,  0.0000,  0.0000,  0.0000, 43.1070, 65.4046]])\n",
      "[ 22 105 198 199]\n"
     ]
    },
    {
     "name": "stderr",
     "output_type": "stream",
     "text": [
      "  4%|██████▊                                                                                                                                                                  | 4/100 [00:28<11:29,  7.19s/it]"
     ]
    },
    {
     "name": "stdout",
     "output_type": "stream",
     "text": [
      "[0 1 4 5]\n",
      "tensor(9.9128)\n",
      "tensor([[ 4.7493,  6.0389,  0.0000,  0.0000, 41.9407, 63.9586],\n",
      "        [ 4.5181,  4.2071,  3.6191,  5.7912, 42.6257, 63.6392],\n",
      "        [ 0.0000,  0.0000,  0.0000,  0.0000, 43.1070, 65.4046]])\n",
      "[ 15 170 198 199]\n"
     ]
    },
    {
     "name": "stderr",
     "output_type": "stream",
     "text": [
      "  5%|████████▍                                                                                                                                                                | 5/100 [00:35<11:21,  7.18s/it]"
     ]
    },
    {
     "name": "stdout",
     "output_type": "stream",
     "text": [
      "[0 1 4 5]\n",
      "tensor(9.0185)\n",
      "tensor([[ 5.6461,  6.9558,  0.0000,  0.0000, 43.7207, 69.6267],\n",
      "        [ 5.3145,  6.1982,  3.1147,  5.1504, 47.3439, 64.8872],\n",
      "        [ 0.0000,  0.0000,  0.0000,  0.0000, 43.1070, 65.4046]])\n",
      "[ 72  95 198 199]\n"
     ]
    },
    {
     "name": "stderr",
     "output_type": "stream",
     "text": [
      "  6%|██████████▏                                                                                                                                                              | 6/100 [00:43<11:24,  7.28s/it]"
     ]
    },
    {
     "name": "stdout",
     "output_type": "stream",
     "text": [
      "[0 1 4 5]\n",
      "tensor(25.3224)\n",
      "tensor([[ 5.1746,  8.3877,  0.0000,  0.0000, 46.7468, 63.5058],\n",
      "        [ 4.1241,  5.3925,  7.0411,  5.1094, 44.1210, 64.9622],\n",
      "        [ 0.0000,  0.0000,  0.0000,  0.0000, 43.1070, 65.4046]])\n",
      "[ 13  79 198 199]\n"
     ]
    },
    {
     "name": "stderr",
     "output_type": "stream",
     "text": [
      "  7%|███████████▊                                                                                                                                                             | 7/100 [00:50<11:16,  7.28s/it]"
     ]
    },
    {
     "name": "stdout",
     "output_type": "stream",
     "text": [
      "[0 1 4 5]\n",
      "tensor(16.5876)\n",
      "tensor([[ 6.2894,  7.7999,  0.0000,  0.0000, 43.6770, 68.6335],\n",
      "        [ 6.8006,  5.8293,  5.6169,  4.8954, 44.2717, 63.5147],\n",
      "        [ 0.0000,  0.0000,  0.0000,  0.0000, 43.1070, 65.4046]])\n",
      "[ 19  91 198 199]\n"
     ]
    },
    {
     "name": "stderr",
     "output_type": "stream",
     "text": [
      "  8%|█████████████▌                                                                                                                                                           | 8/100 [00:57<11:02,  7.20s/it]"
     ]
    },
    {
     "name": "stdout",
     "output_type": "stream",
     "text": [
      "[0 1 4 5]\n",
      "tensor(4.9617)\n",
      "tensor([[ 4.7284,  3.4588,  0.0000,  0.0000, 43.8134, 66.0262],\n",
      "        [ 3.8978,  5.0571,  5.7488,  6.5414, 40.7354, 67.5801],\n",
      "        [ 0.0000,  0.0000,  0.0000,  0.0000, 43.1070, 65.4046]])\n",
      "[ 11  64 198 199]\n"
     ]
    },
    {
     "name": "stderr",
     "output_type": "stream",
     "text": [
      "  9%|███████████████▏                                                                                                                                                         | 9/100 [01:04<10:52,  7.17s/it]"
     ]
    },
    {
     "name": "stdout",
     "output_type": "stream",
     "text": [
      "[0 1 4 5]\n",
      "tensor(12.0929)\n",
      "tensor([[ 5.8380,  3.7573,  0.0000,  0.0000, 41.3060, 67.0113],\n",
      "        [ 5.5446,  7.1538,  5.3114,  4.8026, 42.2924, 64.2331],\n",
      "        [ 0.0000,  0.0000,  0.0000,  0.0000, 43.1070, 65.4046]])\n",
      "[ 89 115 198 199]\n"
     ]
    },
    {
     "name": "stderr",
     "output_type": "stream",
     "text": [
      " 10%|████████████████▊                                                                                                                                                       | 10/100 [01:12<10:49,  7.22s/it]"
     ]
    },
    {
     "name": "stdout",
     "output_type": "stream",
     "text": [
      "[0 1 4 5]\n",
      "tensor(5.1873)\n",
      "tensor([[ 4.1283,  4.8985,  0.0000,  0.0000, 44.4990, 69.4869],\n",
      "        [ 3.9129,  2.4652,  6.4106,  2.7738, 45.3457, 67.1140],\n",
      "        [ 0.0000,  0.0000,  0.0000,  0.0000, 43.1070, 65.4046]])\n",
      "[ 37 136 198 199]\n"
     ]
    },
    {
     "name": "stderr",
     "output_type": "stream",
     "text": [
      " 11%|██████████████████▍                                                                                                                                                     | 11/100 [01:19<10:43,  7.23s/it]"
     ]
    },
    {
     "name": "stdout",
     "output_type": "stream",
     "text": [
      "[0 1 4 5]\n",
      "tensor(17.2253)\n",
      "tensor([[ 6.5105,  5.9412,  0.0000,  0.0000, 40.3837, 66.7794],\n",
      "        [ 4.8777,  6.7118,  4.0700,  7.1287, 43.8311, 71.2651],\n",
      "        [ 0.0000,  0.0000,  0.0000,  0.0000, 43.1070, 65.4046]])\n",
      "[133 147 198 199]\n"
     ]
    },
    {
     "name": "stderr",
     "output_type": "stream",
     "text": [
      " 12%|████████████████████▏                                                                                                                                                   | 12/100 [01:26<10:34,  7.21s/it]"
     ]
    },
    {
     "name": "stdout",
     "output_type": "stream",
     "text": [
      "[0 1 4 5]\n",
      "tensor(13.2156)\n",
      "tensor([[ 7.5409,  4.9875,  0.0000,  0.0000, 45.7688, 63.9321],\n",
      "        [ 5.4879,  7.0490,  5.1407,  3.4989, 42.5780, 67.8619],\n",
      "        [ 0.0000,  0.0000,  0.0000,  0.0000, 43.1070, 65.4046]])\n",
      "[ 15 165 198 199]\n"
     ]
    },
    {
     "name": "stderr",
     "output_type": "stream",
     "text": [
      " 13%|█████████████████████▊                                                                                                                                                  | 13/100 [01:33<10:26,  7.20s/it]"
     ]
    },
    {
     "name": "stdout",
     "output_type": "stream",
     "text": [
      "[0 1 4 5]\n",
      "tensor(9.2699)\n",
      "tensor([[ 8.0867,  7.8595,  0.0000,  0.0000, 43.0956, 61.4680],\n",
      "        [ 4.6769,  3.5332,  7.2701,  3.0011, 41.2731, 63.3763],\n",
      "        [ 0.0000,  0.0000,  0.0000,  0.0000, 43.1070, 65.4046]])\n",
      "[ 56 155 198 199]\n"
     ]
    },
    {
     "name": "stderr",
     "output_type": "stream",
     "text": [
      " 14%|███████████████████████▌                                                                                                                                                | 14/100 [01:40<10:21,  7.22s/it]"
     ]
    },
    {
     "name": "stdout",
     "output_type": "stream",
     "text": [
      "[0 1 4 5]\n",
      "tensor(21.7608)\n",
      "tensor([[ 7.4757,  8.9661,  0.0000,  0.0000, 49.6241, 62.2448],\n",
      "        [ 4.4497,  6.3680,  4.8849,  5.3378, 45.4505, 65.9175],\n",
      "        [ 0.0000,  0.0000,  0.0000,  0.0000, 43.1070, 65.4046]])\n",
      "[  3  48 198 199]\n"
     ]
    },
    {
     "name": "stderr",
     "output_type": "stream",
     "text": [
      " 15%|█████████████████████████▏                                                                                                                                              | 15/100 [01:48<10:15,  7.25s/it]"
     ]
    },
    {
     "name": "stdout",
     "output_type": "stream",
     "text": [
      "[0 1 4 5]\n",
      "tensor(14.0055)\n",
      "tensor([[ 8.2103,  7.6065,  0.0000,  0.0000, 42.4340, 65.9688],\n",
      "        [ 4.5855,  7.0805,  7.1654,  4.4954, 38.0863, 61.2167],\n",
      "        [ 0.0000,  0.0000,  0.0000,  0.0000, 43.1070, 65.4046]])\n",
      "[150 167 198 199]\n"
     ]
    },
    {
     "name": "stderr",
     "output_type": "stream",
     "text": [
      " 16%|██████████████████████████▉                                                                                                                                             | 16/100 [01:55<10:03,  7.19s/it]"
     ]
    },
    {
     "name": "stdout",
     "output_type": "stream",
     "text": [
      "[0 1 4 5]\n",
      "tensor(20.2613)\n",
      "tensor([[ 6.6272,  8.2795,  0.0000,  0.0000, 42.0301, 62.3998],\n",
      "        [ 5.1638,  7.6142,  6.1671,  7.6698, 42.8682, 63.8784],\n",
      "        [ 0.0000,  0.0000,  0.0000,  0.0000, 43.1070, 65.4046]])\n",
      "[ 31  47 198 199]\n"
     ]
    },
    {
     "name": "stderr",
     "output_type": "stream",
     "text": [
      " 17%|████████████████████████████▌                                                                                                                                           | 17/100 [02:02<09:51,  7.13s/it]"
     ]
    },
    {
     "name": "stdout",
     "output_type": "stream",
     "text": [
      "[0 1 4 5]\n",
      "tensor(14.6698)\n",
      "tensor([[12.9527,  5.8978,  0.0000,  0.0000, 43.6284, 66.7343],\n",
      "        [ 7.7355,  5.1324,  3.9990,  5.3259, 41.9532, 66.0917],\n",
      "        [ 0.0000,  0.0000,  0.0000,  0.0000, 43.1070, 65.4046]])\n",
      "[138 156 198 199]\n"
     ]
    },
    {
     "name": "stderr",
     "output_type": "stream",
     "text": [
      " 18%|██████████████████████████████▏                                                                                                                                         | 18/100 [02:09<09:45,  7.14s/it]"
     ]
    },
    {
     "name": "stdout",
     "output_type": "stream",
     "text": [
      "[0 1 4 5]\n",
      "tensor(13.6897)\n",
      "tensor([[ 6.0853,  3.6991,  0.0000,  0.0000, 40.7701, 65.4441],\n",
      "        [ 5.8509,  5.4867,  4.2658,  5.8371, 44.5912, 67.9002],\n",
      "        [ 0.0000,  0.0000,  0.0000,  0.0000, 43.1070, 65.4046]])\n",
      "[ 65 177 198 199]\n"
     ]
    },
    {
     "name": "stderr",
     "output_type": "stream",
     "text": [
      " 19%|███████████████████████████████▉                                                                                                                                        | 19/100 [02:16<09:38,  7.14s/it]"
     ]
    },
    {
     "name": "stdout",
     "output_type": "stream",
     "text": [
      "[0 1 4 5]\n",
      "tensor(13.3133)\n",
      "tensor([[ 7.0148,  7.0571,  0.0000,  0.0000, 46.7430, 66.0857],\n",
      "        [ 8.0741,  3.7978,  6.8850,  5.8123, 42.6287, 62.7196],\n",
      "        [ 0.0000,  0.0000,  0.0000,  0.0000, 43.1070, 65.4046]])\n",
      "[170 187 198 199]\n"
     ]
    },
    {
     "name": "stderr",
     "output_type": "stream",
     "text": [
      " 20%|█████████████████████████████████▌                                                                                                                                      | 20/100 [02:23<09:32,  7.15s/it]"
     ]
    },
    {
     "name": "stdout",
     "output_type": "stream",
     "text": [
      "[0 1 4 5]\n",
      "tensor(5.6982)\n",
      "tensor([[ 6.9011,  6.1339,  0.0000,  0.0000, 46.2957, 65.4281],\n",
      "        [ 4.3826,  3.7835,  7.1603,  7.4276, 46.8445, 67.5300],\n",
      "        [ 0.0000,  0.0000,  0.0000,  0.0000, 43.1070, 65.4046]])\n",
      "[147 152 198 199]\n"
     ]
    },
    {
     "name": "stderr",
     "output_type": "stream",
     "text": [
      " 21%|███████████████████████████████████▎                                                                                                                                    | 21/100 [02:30<09:24,  7.15s/it]"
     ]
    },
    {
     "name": "stdout",
     "output_type": "stream",
     "text": [
      "[0 1 4 5]\n",
      "tensor(5.0941)\n",
      "tensor([[ 5.6552,  6.6500,  0.0000,  0.0000, 44.5188, 64.2597],\n",
      "        [ 5.4187,  7.1099,  6.7235,  6.3737, 44.2063, 64.5610],\n",
      "        [ 0.0000,  0.0000,  0.0000,  0.0000, 43.1070, 65.4046]])\n",
      "[ 14  29 198 199]\n"
     ]
    },
    {
     "name": "stderr",
     "output_type": "stream",
     "text": [
      " 22%|████████████████████████████████████▉                                                                                                                                   | 22/100 [02:38<09:17,  7.15s/it]"
     ]
    },
    {
     "name": "stdout",
     "output_type": "stream",
     "text": [
      "[0 1 4 5]\n",
      "tensor(8.5577)\n",
      "tensor([[ 8.2280,  4.5404,  0.0000,  0.0000, 43.6813, 68.4674],\n",
      "        [ 5.1204,  5.0426,  4.3682,  5.6343, 41.7800, 65.0311],\n",
      "        [ 0.0000,  0.0000,  0.0000,  0.0000, 43.1070, 65.4046]])\n",
      "[ 64 132 198 199]\n"
     ]
    },
    {
     "name": "stderr",
     "output_type": "stream",
     "text": [
      " 23%|██████████████████████████████████████▋                                                                                                                                 | 23/100 [02:45<09:09,  7.14s/it]"
     ]
    },
    {
     "name": "stdout",
     "output_type": "stream",
     "text": [
      "[0 1 4 5]\n",
      "tensor(12.2745)\n",
      "tensor([[ 7.5087,  7.0565,  0.0000,  0.0000, 45.6089, 62.8701],\n",
      "        [ 6.1099,  6.4559,  6.0914,  3.9936, 47.1763, 67.1468],\n",
      "        [ 0.0000,  0.0000,  0.0000,  0.0000, 43.1070, 65.4046]])\n"
     ]
    },
    {
     "name": "stderr",
     "output_type": "stream",
     "text": [
      " 23%|██████████████████████████████████████▋                                                                                                                                 | 23/100 [02:51<09:33,  7.45s/it]\n"
     ]
    },
    {
     "ename": "KeyboardInterrupt",
     "evalue": "",
     "output_type": "error",
     "traceback": [
      "\u001b[0;31m---------------------------------------------------------------------------\u001b[0m",
      "\u001b[0;31mKeyboardInterrupt\u001b[0m                         Traceback (most recent call last)",
      "\u001b[0;32m/tmp/ipykernel_46368/3469481550.py\u001b[0m in \u001b[0;36m<module>\u001b[0;34m\u001b[0m\n\u001b[1;32m     21\u001b[0m     \u001b[0m_paras\u001b[0m\u001b[0;34m.\u001b[0m\u001b[0mseed\u001b[0m \u001b[0;34m=\u001b[0m \u001b[0mseed\u001b[0m\u001b[0;34m\u001b[0m\u001b[0;34m\u001b[0m\u001b[0m\n\u001b[1;32m     22\u001b[0m     \u001b[0m_paras\u001b[0m\u001b[0;34m.\u001b[0m\u001b[0mRv\u001b[0m \u001b[0;34m=\u001b[0m \u001b[0m_paras\u001b[0m\u001b[0;34m.\u001b[0m\u001b[0mRfct\u001b[0m \u001b[0;34m*\u001b[0m \u001b[0m_paras\u001b[0m\u001b[0;34m.\u001b[0m\u001b[0mRmin\u001b[0m\u001b[0;34m\u001b[0m\u001b[0;34m\u001b[0m\u001b[0m\n\u001b[0;32m---> 23\u001b[0;31m     \u001b[0mcur_data\u001b[0m \u001b[0;34m=\u001b[0m \u001b[0m_gen_simu_data_all\u001b[0m\u001b[0;34m(\u001b[0m\u001b[0m_paras\u001b[0m\u001b[0;34m.\u001b[0m\u001b[0mseed\u001b[0m\u001b[0;34m,\u001b[0m \u001b[0m_paras\u001b[0m\u001b[0;34m)\u001b[0m\u001b[0;34m\u001b[0m\u001b[0;34m\u001b[0m\u001b[0m\n\u001b[0m\u001b[1;32m     24\u001b[0m \u001b[0;34m\u001b[0m\u001b[0m\n\u001b[1;32m     25\u001b[0m \u001b[0;34m\u001b[0m\u001b[0m\n",
      "\u001b[0;32m/tmp/ipykernel_46368/3138734561.py\u001b[0m in \u001b[0;36m_gen_simu_data_all\u001b[0;34m(seed, paras)\u001b[0m\n\u001b[1;32m     22\u001b[0m     \u001b[0;31m#    simu_curvs = gen_simu_ts(_paras.n, _paras.d, 5, decimate_rate=tmp_paras.decimate_rate, verbose=False)\u001b[0m\u001b[0;34m\u001b[0m\u001b[0;34m\u001b[0m\u001b[0m\n\u001b[1;32m     23\u001b[0m     \u001b[0;31m#    save_pkl(file_path, simu_curvs)\u001b[0m\u001b[0;34m\u001b[0m\u001b[0;34m\u001b[0m\u001b[0m\n\u001b[0;32m---> 24\u001b[0;31m     \u001b[0msimu_curvs\u001b[0m \u001b[0;34m=\u001b[0m \u001b[0mgen_simu_psd\u001b[0m\u001b[0;34m(\u001b[0m\u001b[0m_paras\u001b[0m\u001b[0;34m.\u001b[0m\u001b[0mn\u001b[0m\u001b[0;34m,\u001b[0m \u001b[0m_paras\u001b[0m\u001b[0;34m.\u001b[0m\u001b[0md\u001b[0m\u001b[0;34m,\u001b[0m \u001b[0;36m10\u001b[0m\u001b[0;34m)\u001b[0m\u001b[0;34m\u001b[0m\u001b[0;34m\u001b[0m\u001b[0m\n\u001b[0m\u001b[1;32m     25\u001b[0m     \u001b[0;31m#simu_curvs = 1*(simu_curvs- simu_curvs.mean(axis=2, keepdims=True))/simu_curvs.std(axis=2, keepdims=True)\u001b[0m\u001b[0;34m\u001b[0m\u001b[0;34m\u001b[0m\u001b[0m\n\u001b[1;32m     26\u001b[0m     \u001b[0;31m#simu_curvs = np.random.randn(_paras.n, _paras.d, _paras.npts) * 20\u001b[0m\u001b[0;34m\u001b[0m\u001b[0;34m\u001b[0m\u001b[0m\n",
      "\u001b[0;32m/data/rajlab1/user_data/jin/MyResearch/HDF_infer/notebooks/../mypkg/hdf_utils/data_gen.py\u001b[0m in \u001b[0;36mgen_simu_psd\u001b[0;34m(n, d, num_sel, noise_sd)\u001b[0m\n\u001b[1;32m     34\u001b[0m         \u001b[0mpsds\u001b[0m \u001b[0;34m=\u001b[0m \u001b[0;34m[\u001b[0m\u001b[0;34m]\u001b[0m\u001b[0;34m\u001b[0m\u001b[0;34m\u001b[0m\u001b[0m\n\u001b[1;32m     35\u001b[0m         \u001b[0;32mfor\u001b[0m \u001b[0mix\u001b[0m \u001b[0;32min\u001b[0m \u001b[0mrange\u001b[0m\u001b[0;34m(\u001b[0m\u001b[0mn\u001b[0m\u001b[0;34m)\u001b[0m\u001b[0;34m:\u001b[0m\u001b[0;34m\u001b[0m\u001b[0;34m\u001b[0m\u001b[0m\n\u001b[0;32m---> 36\u001b[0;31m             \u001b[0mcur_sel_idxs\u001b[0m \u001b[0;34m=\u001b[0m \u001b[0mnp\u001b[0m\u001b[0;34m.\u001b[0m\u001b[0mrandom\u001b[0m\u001b[0;34m.\u001b[0m\u001b[0mchoice\u001b[0m\u001b[0;34m(\u001b[0m\u001b[0;36m168\u001b[0m\u001b[0;34m,\u001b[0m \u001b[0mnum_sel\u001b[0m\u001b[0;34m,\u001b[0m \u001b[0mreplace\u001b[0m\u001b[0;34m=\u001b[0m\u001b[0;32mFalse\u001b[0m\u001b[0;34m)\u001b[0m\u001b[0;34m\u001b[0m\u001b[0;34m\u001b[0m\u001b[0m\n\u001b[0m\u001b[1;32m     37\u001b[0m             \u001b[0mpsd_std\u001b[0m \u001b[0;34m=\u001b[0m \u001b[0mroi_dat\u001b[0m\u001b[0;34m[\u001b[0m\u001b[0;34m:\u001b[0m\u001b[0;34m,\u001b[0m \u001b[0mcur_sel_idxs\u001b[0m\u001b[0;34m]\u001b[0m\u001b[0;34m.\u001b[0m\u001b[0mmean\u001b[0m\u001b[0;34m(\u001b[0m\u001b[0maxis\u001b[0m\u001b[0;34m=\u001b[0m\u001b[0;34m-\u001b[0m\u001b[0;36m1\u001b[0m\u001b[0;34m)\u001b[0m\u001b[0;34m\u001b[0m\u001b[0;34m\u001b[0m\u001b[0m\n\u001b[1;32m     38\u001b[0m             \u001b[0mpsd_std\u001b[0m \u001b[0;34m=\u001b[0m \u001b[0;34m(\u001b[0m\u001b[0mpsd_std\u001b[0m \u001b[0;34m-\u001b[0m \u001b[0mpsd_std\u001b[0m\u001b[0;34m.\u001b[0m\u001b[0mmean\u001b[0m\u001b[0;34m(\u001b[0m\u001b[0;34m)\u001b[0m\u001b[0;34m)\u001b[0m\u001b[0;34m/\u001b[0m\u001b[0mpsd_std\u001b[0m\u001b[0;34m.\u001b[0m\u001b[0mstd\u001b[0m\u001b[0;34m(\u001b[0m\u001b[0;34m)\u001b[0m\u001b[0;34m\u001b[0m\u001b[0;34m\u001b[0m\u001b[0m\n",
      "\u001b[0;31mKeyboardInterrupt\u001b[0m: "
     ]
    }
   ],
   "source": [
    "seed = 1\n",
    "#lam = 3\n",
    "lam = 1.0\n",
    "#lam = 0.5\n",
    "#lam = 0.6\n",
    "#lam = 30\n",
    "T_vs = []\n",
    "T_p1s = []\n",
    "Q_mat_parts = []\n",
    "Psis = []\n",
    "nonzero_idxss = []\n",
    "est_alps = []\n",
    "for seed in trange(0, 100):\n",
    "    \n",
    "    np.random.seed(seed)\n",
    "    torch.manual_seed(seed)\n",
    "    est_Gam_full = torch.zeros_like(torch.tensor(paras.Gam_GT_est));\n",
    "        \n",
    "    _paras = edict(paras.copy())\n",
    "    _paras.lam = lam\n",
    "    _paras.seed = seed\n",
    "    _paras.Rv = _paras.Rfct * _paras.Rmin\n",
    "    cur_data = _gen_simu_data_all(_paras.seed, _paras)\n",
    "    \n",
    "    \n",
    "    # do sure independent screening for dim reduction\n",
    "    if _paras.SIS_ratio < 1:\n",
    "        keep_idxs, _  = SIS_linear(cur_data.Y, cur_data.X, cur_data.Z, _paras.SIS_ratio, _paras, ridge_pen=1)\n",
    "    else:\n",
    "        keep_idxs = _paras.sel_idx\n",
    "    M_idxs = np.delete(np.arange(_paras.d), _paras.sel_idx)\n",
    "    _paras.keep_idxs = np.sort(np.concatenate([M_idxs, keep_idxs]))\n",
    "    print(keep_idxs)\n",
    "        \n",
    "    _paras.sel_idx_SIS = np.where(np.array([keep_idx in _paras.sel_idx for keep_idx in _paras.keep_idxs]))[0]\n",
    "    _paras.d_SIS = len(_paras.keep_idxs)\n",
    "    \n",
    "    cur_data_SIS = edict(cur_data.copy())\n",
    "    cur_data_SIS.X = cur_data.X[:, _paras.keep_idxs, :]\n",
    "    \n",
    "    \n",
    "    alp_init = torch.Tensor(_paras.alp_GT) + torch.randn(_paras.q)*_paras.init_noise_sd\n",
    "    Gam_init = (torch.Tensor(_paras.Gam_GT_est[:, _paras.keep_idxs]) \n",
    "                + torch.randn(_paras.N, _paras.d_SIS)*_paras.init_noise_sd)\n",
    "    theta_init = torch.cat([alp_init, col_vec_fn(Gam_init)/np.sqrt(_paras.N)])\n",
    "    rhok_init = torch.randn(_paras.d_SIS*_paras.N)\n",
    "        \n",
    "    model = LinearModel(Y=cur_data_SIS.Y, \n",
    "                        X=cur_data_SIS.X, \n",
    "                        Z=cur_data_SIS.Z, \n",
    "                        basis_mat=_paras.basis_mat, \n",
    "                        sigma2=_paras.sigma2)\n",
    "    # 3e0\n",
    "    pen = SCAD(lams=_paras.lam, a=_paras.a,  sel_idx=_paras.sel_idx_SIS)\n",
    "        \n",
    "    \n",
    "    main_res = optimization(model=model, \n",
    "                            penalty=pen, \n",
    "                            inits=[alp_init, Gam_init, theta_init, rhok_init],\n",
    "                            is_prg=False,\n",
    "                            save_paras=False,    \n",
    "                            input_paras=_paras)\n",
    "    \n",
    "    #cv_errs = CV_err_linear_fn(data=cur_data_SIS, \n",
    "    #                           penalty=pen, \n",
    "    #                           num_cv_fold=_paras.num_cv_fold,\n",
    "    #                           inits=[alp_init, Gam_init, theta_init, rhok_init], \n",
    "    #                           is_prg=False, \n",
    "    #                           save_paras=False,    \n",
    "    #                           input_paras=_paras)\n",
    "    #print(np.mean(cv_errs**2))\n",
    "    \n",
    "    opt = main_res[0]\n",
    "    est_Gam = opt.Gamk\n",
    "    est_alp = opt.alpk\n",
    "    est_theta = torch.cat([est_alp, col_vec_fn(est_Gam)/np.sqrt(_paras.N)])\n",
    "    est_Gam_full[:, _paras.keep_idxs] = est_Gam.clone()\n",
    "    est_alps.append(est_alp.numpy())\n",
    "    \n",
    "    Q_mat = -model.log_lik_der2(est_alp, est_Gam)\n",
    "    model.log_lik_der1(est_alp, est_Gam);\n",
    "    Sig_mat = (model.log_lik_der1_vs.unsqueeze(-1) * model.log_lik_der1_vs.unsqueeze(1)).mean(axis=0) \n",
    "    # minus sign canceled\n",
    "    \n",
    "    \n",
    "    # obtain the idxs to keep for test\n",
    "    nonzero_idxs = torch.nonzero(torch.norm(est_Gam, dim=0)).reshape(-1).numpy()\n",
    "    print(nonzero_idxs)\n",
    "    MS_unions = np.sort(np.union1d(_paras.M_idxs, nonzero_idxs))\n",
    "    keep_idxs_test = MS2idxs(_paras.q, _paras.N, MS_unions)\n",
    "    \n",
    "    # A mat\n",
    "    k = len(np.setdiff1d(nonzero_idxs, _paras.M_idxs))\n",
    "    Amat = torch.Tensor(get_Amat(k, _paras))\n",
    "    \n",
    "    # calcuate Test stats\n",
    "    Q_mat_part = Q_mat[keep_idxs_test][:, keep_idxs_test]\n",
    "    Q_mat_part_inv = torch.pinverse(Q_mat_part)\n",
    "    #Q_mat_part_inv = svd_inverse(Q_mat_part, _paras.svdinv_eps_Q)\n",
    "    \n",
    "    Sig_mat_part = Sig_mat[keep_idxs_test][:, keep_idxs_test]\n",
    "    Psi = Amat @ Q_mat_part_inv @ Sig_mat_part @ Q_mat_part_inv @ Amat.T\n",
    "    \n",
    "    T_p1 = Amat @ est_theta[keep_idxs_test]\n",
    "    Psi_inv = torch.pinverse(Psi)\n",
    "    #Psi_inv = svd_inverse(Psi, _paras.svdinv_eps_Psi)\n",
    "    T_v = T_p1 @ Psi_inv @ T_p1 * _paras.n \n",
    "    print(T_v)\n",
    "    \n",
    "    Psis.append(Psi)\n",
    "    Q_mat_parts.append(Q_mat_part)\n",
    "    T_p1s.append(T_p1)\n",
    "    T_vs.append(T_v.item())\n",
    "    nonzero_idxss.append(nonzero_idxs)\n",
    "    \n",
    "    print(torch.stack([\n",
    "    torch.norm(est_Gam, dim=0),\n",
    "    torch.norm(Gam_init, dim=0),\n",
    "    torch.tensor(np.linalg.norm(paras.Gam_GT_est, axis=0)[_paras.keep_idxs])]))"
   ]
  },
  {
   "cell_type": "code",
   "execution_count": 25,
   "id": "854cc902",
   "metadata": {
    "ExecuteTime": {
     "end_time": "2023-06-01T00:09:20.646611Z",
     "start_time": "2023-06-01T00:09:20.638493Z"
    },
    "execution": {
     "iopub.execute_input": "2023-06-04T23:57:39.965134Z",
     "iopub.status.busy": "2023-06-04T23:57:39.964487Z",
     "iopub.status.idle": "2023-06-04T23:57:39.974477Z",
     "shell.execute_reply": "2023-06-04T23:57:39.973405Z",
     "shell.execute_reply.started": "2023-06-04T23:57:39.965085Z"
    },
    "tags": []
   },
   "outputs": [
    {
     "data": {
      "text/plain": [
       "array([ 5.01968653,  1.00838902, -2.00649968,  2.99257173, -4.00260483])"
      ]
     },
     "execution_count": 25,
     "metadata": {},
     "output_type": "execute_result"
    }
   ],
   "source": [
    "np.mean(est_alps, axis=0)"
   ]
  },
  {
   "cell_type": "code",
   "execution_count": 26,
   "id": "b3f557f2",
   "metadata": {
    "ExecuteTime": {
     "end_time": "2023-06-01T00:09:23.617752Z",
     "start_time": "2023-06-01T00:09:23.497337Z"
    },
    "execution": {
     "iopub.execute_input": "2023-06-04T23:57:41.011336Z",
     "iopub.status.busy": "2023-06-04T23:57:41.010674Z",
     "iopub.status.idle": "2023-06-04T23:57:41.136870Z",
     "shell.execute_reply": "2023-06-04T23:57:41.136394Z",
     "shell.execute_reply.started": "2023-06-04T23:57:41.011290Z"
    },
    "tags": []
   },
   "outputs": [
    {
     "data": {
      "text/plain": [
       "<matplotlib.legend.Legend at 0x7f58f22fb5b0>"
      ]
     },
     "execution_count": 26,
     "metadata": {},
     "output_type": "execute_result"
    },
    {
     "data": {
      "image/png": "[encoded data removed]",
      "text/plain": [
       "<Figure size 1000x500 with 1 Axes>"
      ]
     },
     "metadata": {
      "needs_background": "light"
     },
     "output_type": "display_data"
    }
   ],
   "source": [
    "beta_est_part = paras.basis_mat @ est_Gam;\n",
    "idx = -1\n",
    "plt.plot(beta_est_part[:, idx], label=\"est\")\n",
    "plt.plot(paras.beta_GT[:, idx], label=\"true\")\n",
    "plt.legend()"
   ]
  },
  {
   "cell_type": "code",
   "execution_count": 27,
   "id": "ad5019e8",
   "metadata": {
    "ExecuteTime": {
     "end_time": "2023-06-01T00:09:25.859254Z",
     "start_time": "2023-06-01T00:09:25.771065Z"
    },
    "execution": {
     "iopub.execute_input": "2023-06-04T23:57:43.008040Z",
     "iopub.status.busy": "2023-06-04T23:57:43.007459Z",
     "iopub.status.idle": "2023-06-04T23:57:43.093972Z",
     "shell.execute_reply": "2023-06-04T23:57:43.093377Z",
     "shell.execute_reply.started": "2023-06-04T23:57:43.007993Z"
    },
    "tags": []
   },
   "outputs": [
    {
     "data": {
      "image/png": "[encoded data removed]",
      "text/plain": [
       "<Figure size 1000x500 with 1 Axes>"
      ]
     },
     "metadata": {
      "needs_background": "light"
     },
     "output_type": "display_data"
    }
   ],
   "source": [
    "idxs, cts = np.unique(np.concatenate(nonzero_idxss), return_counts=True)\n",
    "plt.bar(idxs, cts)\n",
    "plt.xticks(idxs, cts);"
   ]
  },
  {
   "cell_type": "code",
   "execution_count": 28,
   "id": "06605933",
   "metadata": {
    "ExecuteTime": {
     "end_time": "2023-06-01T00:09:27.816750Z",
     "start_time": "2023-06-01T00:09:27.809865Z"
    },
    "execution": {
     "iopub.execute_input": "2023-06-04T23:57:44.760026Z",
     "iopub.status.busy": "2023-06-04T23:57:44.759398Z",
     "iopub.status.idle": "2023-06-04T23:57:44.767905Z",
     "shell.execute_reply": "2023-06-04T23:57:44.766771Z",
     "shell.execute_reply.started": "2023-06-04T23:57:44.759978Z"
    },
    "tags": []
   },
   "outputs": [
    {
     "data": {
      "text/plain": [
       "torch.Size([37, 37])"
      ]
     },
     "execution_count": 28,
     "metadata": {},
     "output_type": "execute_result"
    }
   ],
   "source": [
    "Sig_mat_part.shape"
   ]
  },
  {
   "cell_type": "code",
   "execution_count": 29,
   "id": "37bb8fa7",
   "metadata": {
    "ExecuteTime": {
     "end_time": "2023-06-01T00:09:29.965670Z",
     "start_time": "2023-06-01T00:09:29.731836Z"
    },
    "execution": {
     "iopub.execute_input": "2023-06-04T23:57:45.189722Z",
     "iopub.status.busy": "2023-06-04T23:57:45.189185Z",
     "iopub.status.idle": "2023-06-04T23:57:45.361775Z",
     "shell.execute_reply": "2023-06-04T23:57:45.361350Z",
     "shell.execute_reply.started": "2023-06-04T23:57:45.189668Z"
    },
    "tags": []
   },
   "outputs": [
    {
     "data": {
      "text/plain": [
       "<AxesSubplot:>"
      ]
     },
     "execution_count": 29,
     "metadata": {},
     "output_type": "execute_result"
    },
    {
     "data": {
      "image/png": "[encoded data removed]",
      "text/plain": [
       "<Figure size 1000x500 with 2 Axes>"
      ]
     },
     "metadata": {
      "needs_background": "light"
     },
     "output_type": "display_data"
    }
   ],
   "source": [
    "tmp1 = np.mean([ix.numpy() for ix in Psis], axis=0)/paras.n\n",
    "sns.heatmap(tmp1, center=0, cmap=\"bwr\")"
   ]
  },
  {
   "cell_type": "code",
   "execution_count": 30,
   "id": "12844813",
   "metadata": {
    "ExecuteTime": {
     "end_time": "2023-06-01T00:09:31.772025Z",
     "start_time": "2023-06-01T00:09:31.599918Z"
    },
    "execution": {
     "iopub.execute_input": "2023-06-04T23:57:47.128422Z",
     "iopub.status.busy": "2023-06-04T23:57:47.127858Z",
     "iopub.status.idle": "2023-06-04T23:57:47.297002Z",
     "shell.execute_reply": "2023-06-04T23:57:47.296566Z",
     "shell.execute_reply.started": "2023-06-04T23:57:47.128376Z"
    },
    "tags": []
   },
   "outputs": [
    {
     "data": {
      "text/plain": [
       "<AxesSubplot:>"
      ]
     },
     "execution_count": 30,
     "metadata": {},
     "output_type": "execute_result"
    },
    {
     "data": {
      "image/png": "[encoded data removed]",
      "text/plain": [
       "<Figure size 1000x500 with 2 Axes>"
      ]
     },
     "metadata": {
      "needs_background": "light"
     },
     "output_type": "display_data"
    }
   ],
   "source": [
    "tmp2 = np.cov(np.array([ix.numpy() for ix in T_p1s]).T)\n",
    "sns.heatmap(tmp2, center=0, cmap=\"bwr\")"
   ]
  },
  {
   "cell_type": "code",
   "execution_count": 31,
   "id": "6b6bf4cb",
   "metadata": {
    "ExecuteTime": {
     "end_time": "2023-06-01T00:09:33.663365Z",
     "start_time": "2023-06-01T00:09:33.441266Z"
    },
    "execution": {
     "iopub.execute_input": "2023-06-04T23:57:49.959001Z",
     "iopub.status.busy": "2023-06-04T23:57:49.958289Z",
     "iopub.status.idle": "2023-06-04T23:57:50.082063Z",
     "shell.execute_reply": "2023-06-04T23:57:50.081599Z",
     "shell.execute_reply.started": "2023-06-04T23:57:49.958951Z"
    },
    "tags": []
   },
   "outputs": [
    {
     "data": {
      "text/plain": [
       "<matplotlib.legend.Legend at 0x7f58f205af70>"
      ]
     },
     "execution_count": 31,
     "metadata": {},
     "output_type": "execute_result"
    },
    {
     "data": {
      "image/png": "[encoded data removed]",
      "text/plain": [
       "<Figure size 1000x500 with 1 Axes>"
      ]
     },
     "metadata": {
      "needs_background": "light"
     },
     "output_type": "display_data"
    }
   ],
   "source": [
    "def _filtered_outliers(vec):\n",
    "    vec = np.array(vec)\n",
    "    Q1, Q3 = np.quantile(vec, [0.25, 0.75])\n",
    "    IQR = Q3-Q1\n",
    "    lb, ub = Q1-1.5*IQR, Q3+1.5*IQR\n",
    "    #vec_filtered = vec[(vec>0) & (vec<30)]\n",
    "    vec_filtered = vec[(vec>lb) & (vec<ub)]\n",
    "    vec_filtered = vec\n",
    "    return vec_filtered\n",
    "\n",
    "from scipy.stats import chi2\n",
    "T_vs_new = _filtered_outliers(T_vs)\n",
    "chi_df = paras.r*paras.N\n",
    "xs = np.linspace(0.1, 100, 100)\n",
    "theo_curvs_log = chi2.logpdf(xs, chi_df);\n",
    "plt.plot(xs, np.exp(theo_curvs_log) , label=\"theoretical\")\n",
    "sns.kdeplot(T_vs_new, label=\"empirical\")\n",
    "#sns.kdeplot(np.array(T_vs), label=\"empirical\")\n",
    "plt.legend()"
   ]
  },
  {
   "cell_type": "code",
   "execution_count": 32,
   "id": "124e69fc",
   "metadata": {
    "ExecuteTime": {
     "end_time": "2023-06-01T00:09:35.887242Z",
     "start_time": "2023-06-01T00:09:35.742341Z"
    },
    "execution": {
     "iopub.execute_input": "2023-06-04T23:57:51.926328Z",
     "iopub.status.busy": "2023-06-04T23:57:51.925630Z",
     "iopub.status.idle": "2023-06-04T23:57:52.070509Z",
     "shell.execute_reply": "2023-06-04T23:57:52.070078Z",
     "shell.execute_reply.started": "2023-06-04T23:57:51.926281Z"
    },
    "tags": []
   },
   "outputs": [
    {
     "data": {
      "text/plain": [
       "[<matplotlib.lines.Line2D at 0x7f58f1fd7160>]"
      ]
     },
     "execution_count": 32,
     "metadata": {},
     "output_type": "execute_result"
    },
    {
     "data": {
      "image/png": "[encoded data removed]",
      "text/plain": [
       "<Figure size 1000x500 with 1 Axes>"
      ]
     },
     "metadata": {
      "needs_background": "light"
     },
     "output_type": "display_data"
    }
   ],
   "source": [
    "sns.histplot(T_vs, binrange=[0, 30], binwidth=1)\n",
    "plt.plot(xs, np.exp(theo_curvs_log)*180)"
   ]
  },
  {
   "cell_type": "code",
   "execution_count": 33,
   "id": "54e2f8f9",
   "metadata": {
    "ExecuteTime": {
     "end_time": "2023-06-01T00:09:38.570202Z",
     "start_time": "2023-06-01T00:09:38.528037Z"
    },
    "execution": {
     "iopub.execute_input": "2023-06-04T23:57:54.501796Z",
     "iopub.status.busy": "2023-06-04T23:57:54.501078Z",
     "iopub.status.idle": "2023-06-04T23:57:54.510730Z",
     "shell.execute_reply": "2023-06-04T23:57:54.509500Z",
     "shell.execute_reply.started": "2023-06-04T23:57:54.501746Z"
    },
    "tags": []
   },
   "outputs": [
    {
     "data": {
      "text/plain": [
       "0.0"
      ]
     },
     "execution_count": 33,
     "metadata": {},
     "output_type": "execute_result"
    }
   ],
   "source": [
    "CV = chi2.ppf(0.95, chi_df)\n",
    "np.mean(T_vs_new>CV)"
   ]
  },
  {
   "cell_type": "code",
   "execution_count": 34,
   "id": "9c5573d7",
   "metadata": {
    "ExecuteTime": {
     "end_time": "2023-06-01T00:09:43.996888Z",
     "start_time": "2023-06-01T00:09:43.989408Z"
    },
    "execution": {
     "iopub.execute_input": "2023-06-04T23:57:54.941499Z",
     "iopub.status.busy": "2023-06-04T23:57:54.940988Z",
     "iopub.status.idle": "2023-06-04T23:57:54.949111Z",
     "shell.execute_reply": "2023-06-04T23:57:54.948067Z",
     "shell.execute_reply.started": "2023-06-04T23:57:54.941456Z"
    },
    "tags": []
   },
   "outputs": [
    {
     "data": {
      "text/plain": [
       "(12.352527618350152, (23,))"
      ]
     },
     "execution_count": 34,
     "metadata": {},
     "output_type": "execute_result"
    }
   ],
   "source": [
    "np.mean(T_vs_new),  T_vs_new.shape"
   ]
  },
  {
   "cell_type": "code",
   "execution_count": 35,
   "id": "1d22aadd",
   "metadata": {
    "ExecuteTime": {
     "end_time": "2023-05-31T23:20:52.021912Z",
     "start_time": "2023-05-31T23:20:51.988051Z"
    },
    "execution": {
     "iopub.execute_input": "2023-06-04T23:58:04.467760Z",
     "iopub.status.busy": "2023-06-04T23:58:04.467127Z",
     "iopub.status.idle": "2023-06-04T23:58:04.473030Z",
     "shell.execute_reply": "2023-06-04T23:58:04.471938Z",
     "shell.execute_reply.started": "2023-06-04T23:58:04.467712Z"
    },
    "tags": []
   },
   "outputs": [],
   "source": [
    "#save_pkl(MIDRES_ROOT/f\"T_vs_res452.pkl\", [T_vs, _paras])"
   ]
  },
  {
   "cell_type": "code",
   "execution_count": 36,
   "id": "a57cd151",
   "metadata": {
    "ExecuteTime": {
     "end_time": "2023-06-01T00:10:01.629025Z",
     "start_time": "2023-06-01T00:10:01.528100Z"
    },
    "execution": {
     "iopub.execute_input": "2023-06-04T23:58:04.751477Z",
     "iopub.status.busy": "2023-06-04T23:58:04.750959Z",
     "iopub.status.idle": "2023-06-04T23:58:04.850826Z",
     "shell.execute_reply": "2023-06-04T23:58:04.850277Z",
     "shell.execute_reply.started": "2023-06-04T23:58:04.751435Z"
    },
    "tags": []
   },
   "outputs": [
    {
     "data": {
      "text/plain": [
       "[<matplotlib.lines.Line2D at 0x7f58f1f6d280>]"
      ]
     },
     "execution_count": 36,
     "metadata": {},
     "output_type": "execute_result"
    },
    {
     "data": {
      "image/png": "[encoded data removed]",
      "text/plain": [
       "<Figure size 1000x500 with 1 Axes>"
      ]
     },
     "metadata": {
      "needs_background": "light"
     },
     "output_type": "display_data"
    }
   ],
   "source": [
    "plt.plot(np.sort(T_vs), \".\")"
   ]
  },
  {
   "cell_type": "code",
   "execution_count": null,
   "id": "149f1666-9b71-4d26-84af-8e435d80d2f8",
   "metadata": {},
   "outputs": [],
   "source": []
  }
 ],
 "metadata": {
  "kernelspec": {
   "display_name": "Python 3 (ipykernel)",
   "language": "python",
   "name": "python3"
  },
  "language_info": {
   "codemirror_mode": {
    "name": "ipython",
    "version": 3
   },
   "file_extension": ".py",
   "mimetype": "text/x-python",
   "name": "python",
   "nbconvert_exporter": "python",
   "pygments_lexer": "ipython3",
   "version": "3.9.7"
  },
  "toc": {
   "base_numbering": 1,
   "nav_menu": {},
   "number_sections": true,
   "sideBar": true,
   "skip_h1_title": false,
   "title_cell": "Table of Contents",
   "title_sidebar": "Contents",
   "toc_cell": false,
   "toc_position": {
    "height": "calc(100% - 180px)",
    "left": "10px",
    "top": "150px",
    "width": "165px"
   },
   "toc_section_display": true,
   "toc_window_display": true
  }
 },
 "nbformat": 4,
 "nbformat_minor": 5
}
