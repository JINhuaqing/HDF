{
 "cells": [
  {
   "cell_type": "markdown",
   "id": "faf0a805",
   "metadata": {},
   "source": [
    "This file contains python code for sure ind screening from Jianqing Fan"
   ]
  },
  {
   "cell_type": "code",
   "execution_count": 2,
   "id": "02ae980e",
   "metadata": {
    "ExecuteTime": {
     "end_time": "2022-12-21T03:39:35.345825Z",
     "start_time": "2022-12-21T03:39:35.341381Z"
    }
   },
   "outputs": [],
   "source": [
    "import sys\n",
    "sys.path.append(\"../mypkg\")"
   ]
  },
  {
   "cell_type": "code",
   "execution_count": 3,
   "id": "023df78a",
   "metadata": {
    "ExecuteTime": {
     "end_time": "2022-12-21T03:39:53.893930Z",
     "start_time": "2022-12-21T03:39:35.806712Z"
    }
   },
   "outputs": [],
   "source": [
    "import numpy as np\n",
    "import torch\n",
    "import matplotlib.pyplot as plt\n",
    "import seaborn as sns\n",
    "import xarray as xr\n",
    "from scipy.stats import pearsonr\n",
    "from numbers import Number\n",
    "import multiprocessing as mp\n",
    "\n",
    "from easydict import EasyDict as edict\n",
    "from tqdm import trange\n",
    "from scipy.io import loadmat\n",
    "from pprint import pprint\n",
    "\n",
    "plt.style.use('ggplot')\n",
    "plt.rcParams[\"savefig.bbox\"] = \"tight\""
   ]
  },
  {
   "cell_type": "code",
   "execution_count": 4,
   "id": "053a5249",
   "metadata": {
    "ExecuteTime": {
     "end_time": "2022-12-21T03:39:56.327650Z",
     "start_time": "2022-12-21T03:39:53.899341Z"
    }
   },
   "outputs": [
    {
     "data": {
      "text/plain": [
       "<module 'optimization.opt' from '/data/rajlab1/user_data/jin/MyResearch/HDF_infer/notebooks/../mypkg/optimization/opt.py'>"
      ]
     },
     "execution_count": 4,
     "metadata": {},
     "output_type": "execute_result"
    }
   ],
   "source": [
    "import importlib\n",
    "import optimization.opt\n",
    "importlib.reload(optimization.opt)"
   ]
  },
  {
   "cell_type": "code",
   "execution_count": 5,
   "id": "b0aa91b2",
   "metadata": {
    "ExecuteTime": {
     "end_time": "2022-12-21T03:40:01.040939Z",
     "start_time": "2022-12-21T03:39:56.329993Z"
    }
   },
   "outputs": [],
   "source": [
    "from constants import DATA_ROOT, RES_ROOT, FIG_ROOT\n",
    "from default_paras import def_paras\n",
    "\n",
    "from hdf_utils.data_gen import gen_covs, gen_simu_psd\n",
    "from hdf_utils.fns import fn1, fn2, fn3, fn4, fn5, zero_fn\n",
    "from hdf_utils.fns_sinica import coef_fn, fourier_basis_fn\n",
    "from hdf_utils.likelihood import obt_lin_tm\n",
    "from hdf_utils.SIS import SIS_linear\n",
    "from utils.matrix import col_vec_fn, col_vec2mat_fn, conju_grad, svd_inverse\n",
    "from utils.functions import logit_fn\n",
    "from utils.misc import save_pkl\n",
    "from splines import obt_bsp_basis_Rfn, obt_bsp_basis_Rfn_wrapper\n",
    "from projection import euclidean_proj_l1ball\n",
    "from optimization.one_step_opt import OneStepOpt\n",
    "from optimization.cross_validation import CV_err_linear_fn\n",
    "from optimization.opt import optimization\n",
    "\n",
    "from penalties.scad_pen import SCAD\n",
    "from models.logistic_model import LogisticModel\n",
    "from models.linear_model import LinearModel\n"
   ]
  },
  {
   "cell_type": "code",
   "execution_count": 6,
   "id": "fdddf8a6",
   "metadata": {
    "ExecuteTime": {
     "end_time": "2022-12-21T03:40:01.050611Z",
     "start_time": "2022-12-21T03:40:01.045332Z"
    }
   },
   "outputs": [],
   "source": [
    "torch.set_default_tensor_type(torch.DoubleTensor)"
   ]
  },
  {
   "cell_type": "code",
   "execution_count": null,
   "id": "d0af2f35",
   "metadata": {},
   "outputs": [],
   "source": []
  },
  {
   "cell_type": "markdown",
   "id": "dd9c6514",
   "metadata": {},
   "source": [
    "## Param and fns"
   ]
  },
  {
   "cell_type": "markdown",
   "id": "21e4ccea",
   "metadata": {},
   "source": [
    "### Params"
   ]
  },
  {
   "cell_type": "code",
   "execution_count": null,
   "id": "75e10fd4",
   "metadata": {},
   "outputs": [],
   "source": []
  },
  {
   "cell_type": "markdown",
   "id": "66c2f90f",
   "metadata": {
    "ExecuteTime": {
     "end_time": "2022-12-08T18:09:55.509389Z",
     "start_time": "2022-12-08T18:09:55.343396Z"
    }
   },
   "source": [
    "### Fns"
   ]
  },
  {
   "cell_type": "code",
   "execution_count": 24,
   "id": "0f30b88f",
   "metadata": {
    "ExecuteTime": {
     "end_time": "2022-12-21T18:51:39.794385Z",
     "start_time": "2022-12-21T18:51:39.782821Z"
    },
    "code_folding": []
   },
   "outputs": [],
   "source": [
    "def _gen_simu_data_all(seed, paras):\n",
    "    np.random.seed(seed)\n",
    "    _paras = edict(paras.copy())\n",
    "    # simulated PSD\n",
    "    assert len(_paras.types_) == _paras.q\n",
    "    assert len(_paras.alp_GT) == _paras.q\n",
    "    \n",
    "    simu_psd = gen_simu_psd(_paras.n, _paras.d, 10)\n",
    "    #simu_psd = torch.randn(_paras.n, _paras.d, _paras.npts).numpy()\n",
    "    simu_covs = gen_covs(_paras.n, _paras.types_)\n",
    "    \n",
    "    # linear term and Y\n",
    "    int_part = np.sum(_paras.beta_GT.T* simu_psd[:, :, :], axis=1).mean(axis=1)\n",
    "    cov_part = simu_covs @ _paras.alp_GT \n",
    "    \n",
    "    # linear term\n",
    "    lin_term = cov_part + int_part\n",
    "    \n",
    "    # Y \n",
    "    rvs = np.random.rand(_paras.n)\n",
    "    Y = lin_term + np.random.randn(_paras.n)*np.sqrt(_paras.sigma2)\n",
    "    \n",
    "    # To torch\n",
    "    X = torch.tensor(simu_psd) # n x d x npts\n",
    "    Z = torch.tensor(simu_covs) # n x q\n",
    "    Y = torch.tensor(Y)\n",
    "    \n",
    "    all_data = edict()\n",
    "    all_data.X = X\n",
    "    all_data.Y = Y\n",
    "    all_data.Z = Z\n",
    "    return all_data"
   ]
  },
  {
   "cell_type": "code",
   "execution_count": null,
   "id": "3a1c92b3",
   "metadata": {},
   "outputs": [],
   "source": []
  },
  {
   "cell_type": "markdown",
   "id": "a92d8f4b",
   "metadata": {},
   "source": [
    "## Test"
   ]
  },
  {
   "cell_type": "markdown",
   "id": "86b5a8a2",
   "metadata": {},
   "source": [
    "### When model is correct"
   ]
  },
  {
   "cell_type": "code",
   "execution_count": 25,
   "id": "91daf62b",
   "metadata": {
    "ExecuteTime": {
     "end_time": "2022-12-21T18:51:41.332366Z",
     "start_time": "2022-12-21T18:51:41.310067Z"
    }
   },
   "outputs": [
    {
     "name": "stdout",
     "output_type": "stream",
     "text": [
      "The number of B-spline basis is 20.\n"
     ]
    }
   ],
   "source": [
    "np.random.seed(0)\n",
    "paras = edict(def_paras.copy())\n",
    "\n",
    "# Others\n",
    "paras.num_rep = 20\n",
    "paras.ns = [100, 300, 900, 2700, 8100, 24300]\n",
    "paras.can_lams = [1e-1, 3e-1, 1e0, 3e0, 9e0, 3e1]\n",
    "paras.can_Ns = [5, 10, 15, 20]\n",
    "paras.ind_freq = np.linspace(1, 40, 40) # freqs\n",
    "paras.init_noise_sd = 0 # the sd of the noise added to the true value for initial values\n",
    "\n",
    "# generating dataset\n",
    "paras.n = 5000 # num of data obs to be genareted\n",
    "paras.npts = 40 # num of pts to evaluate X(s)\n",
    "paras.d = 1 # num of ROIs\n",
    "paras.q = 5 # num of other covariates\n",
    "paras.sigma2 = 1 # variance of the error\n",
    "#paras.types_ = [\"int\"]\n",
    "paras.types_ = [\"int\", 2, 2, \"c\", \"c\"]\n",
    "\n",
    "# b-spline\n",
    "paras.N = 20# int(3*paras.n**(1/paras.ord/2)) # num of basis for bsp\n",
    "paras.x = np.linspace(0, 1, paras.npts)\n",
    "paras.basis_mat = torch.DoubleTensor(obt_bsp_basis_Rfn_wrapper(paras.x, paras.N, paras.ord))\n",
    "assert paras.N == paras.basis_mat.shape[1]\n",
    "print(f\"The number of B-spline basis is {paras.N:.0f}.\")\n",
    "\n",
    "# True parameters\n",
    "#paras.alp_GT = np.array([5])\n",
    "paras.alp_GT = np.array([5, 1, -2, 3, -4])\n",
    "\n",
    "paras.fourier_basis = fourier_basis_fn(paras.x)\n",
    "paras.beta_GT = paras.fourier_basis @ coef_fn(0.5) * 0\n",
    "paras.beta_GT = paras.beta_GT.reshape(-1, 1)\n",
    "#\n",
    "paras.Gam_est = (np.linalg.inv(paras.basis_mat.numpy().T \n",
    "                               @ paras.basis_mat.numpy()) \n",
    "                               @ paras.basis_mat.numpy().T \n",
    "                               @ paras.beta_GT)\n",
    "\n",
    "# optimization\n",
    "paras.Rmin = 2*(np.linalg.norm(paras.Gam_est/np.sqrt(paras.N), axis=0).sum() + np.abs(paras.alp_GT).sum())\n",
    "paras.sel_idx = np.arange(2, paras.d) # M^c set\n",
    "paras.num_cv_fold = 5\n",
    "paras.Rfct = 2"
   ]
  },
  {
   "cell_type": "code",
   "execution_count": 26,
   "id": "d3ee19b9",
   "metadata": {
    "ExecuteTime": {
     "end_time": "2022-12-21T18:51:43.190954Z",
     "start_time": "2022-12-21T18:51:42.810285Z"
    }
   },
   "outputs": [],
   "source": [
    "dat = _gen_simu_data_all(1, paras)"
   ]
  },
  {
   "cell_type": "code",
   "execution_count": 27,
   "id": "b0a0384b",
   "metadata": {
    "ExecuteTime": {
     "end_time": "2022-12-21T18:51:44.392257Z",
     "start_time": "2022-12-21T18:51:44.368828Z"
    }
   },
   "outputs": [
    {
     "data": {
      "text/plain": [
       "tensor([ 4.9317,  1.0162, -2.0151,  3.0023, -4.0106])"
      ]
     },
     "execution_count": 27,
     "metadata": {},
     "output_type": "execute_result"
    }
   ],
   "source": [
    "X, Y, Z = dat.X, dat.Y, dat.Z\n",
    "_paras = edict(paras.copy())\n",
    "\n",
    "ix = 0\n",
    "cur_X = X[:, ix, :].unsqueeze(-1)\n",
    "tmp_BX = (cur_X * _paras.basis_mat).mean(axis=1)\n",
    "vec_p2 = tmp_BX*np.sqrt(_paras.N)\n",
    "vec_p = torch.cat([Z, vec_p2], dim=1)\n",
    "    \n",
    "right_vec = torch.sum(vec_p * Y.unsqueeze(-1), axis=0)\n",
    "left_mat = torch.sum(vec_p.unsqueeze(-1) * vec_p.unsqueeze(1), axis=0)\n",
    "cur_gam = torch.linalg.solve(left_mat, right_vec)[paras.q:] * np.sqrt(paras.N)\n",
    "cur_all = torch.linalg.solve(left_mat, right_vec)[:paras.q]\n",
    "beta_est = paras.basis_mat @ cur_gam\n",
    "cur_all"
   ]
  },
  {
   "cell_type": "code",
   "execution_count": 28,
   "id": "0fb18d98",
   "metadata": {
    "ExecuteTime": {
     "end_time": "2022-12-21T18:51:45.173054Z",
     "start_time": "2022-12-21T18:51:45.165066Z"
    }
   },
   "outputs": [
    {
     "data": {
      "text/plain": [
       "tensor(12.6765)"
      ]
     },
     "execution_count": 28,
     "metadata": {},
     "output_type": "execute_result"
    }
   ],
   "source": [
    "torch.norm(beta_est)"
   ]
  },
  {
   "cell_type": "code",
   "execution_count": 29,
   "id": "333d5cce",
   "metadata": {
    "ExecuteTime": {
     "end_time": "2022-12-21T18:51:47.448679Z",
     "start_time": "2022-12-21T18:51:47.438802Z"
    }
   },
   "outputs": [
    {
     "data": {
      "text/plain": [
       "0.007666854485178513"
      ]
     },
     "execution_count": 29,
     "metadata": {},
     "output_type": "execute_result"
    }
   ],
   "source": [
    "int_part = np.sum(beta_est.numpy().reshape(1, -1)* X.numpy()[:, :, :], axis=1).mean(axis=1)\n",
    "np.mean(int_part**2)"
   ]
  },
  {
   "cell_type": "code",
   "execution_count": 30,
   "id": "63bdec18",
   "metadata": {
    "ExecuteTime": {
     "end_time": "2022-12-21T18:51:48.694367Z",
     "start_time": "2022-12-21T18:51:48.590436Z"
    }
   },
   "outputs": [
    {
     "data": {
      "text/plain": [
       "[<matplotlib.lines.Line2D at 0x7f7ca4f9b070>]"
      ]
     },
     "execution_count": 30,
     "metadata": {},
     "output_type": "execute_result"
    },
    {
     "data": {
      "image/png": "[encoded data removed]",
      "text/plain": [
       "<Figure size 432x288 with 1 Axes>"
      ]
     },
     "metadata": {},
     "output_type": "display_data"
    }
   ],
   "source": [
    "plt.plot(beta_est)\n",
    "plt.plot(paras.beta_GT)"
   ]
  },
  {
   "cell_type": "code",
   "execution_count": null,
   "id": "f659d0c6",
   "metadata": {},
   "outputs": [],
   "source": []
  },
  {
   "cell_type": "markdown",
   "id": "c7455bb6",
   "metadata": {},
   "source": [
    "### When SIS"
   ]
  },
  {
   "cell_type": "code",
   "execution_count": 8,
   "id": "efcb2bb9",
   "metadata": {
    "ExecuteTime": {
     "end_time": "2022-12-21T03:40:01.150822Z",
     "start_time": "2022-12-21T03:40:01.080952Z"
    }
   },
   "outputs": [
    {
     "name": "stdout",
     "output_type": "stream",
     "text": [
      "The number of B-spline basis is 20.\n"
     ]
    }
   ],
   "source": [
    "np.random.seed(0)\n",
    "paras = edict(def_paras.copy())\n",
    "\n",
    "# Others\n",
    "paras.num_rep = 20\n",
    "paras.ns = [100, 300, 900, 2700, 8100, 24300]\n",
    "paras.can_lams = [1e-1, 3e-1, 1e0, 3e0, 9e0, 3e1]\n",
    "paras.can_Ns = [5, 10, 15, 20]\n",
    "paras.ind_freq = np.linspace(1, 40, 40) # freqs\n",
    "paras.init_noise_sd = 0 # the sd of the noise added to the true value for initial values\n",
    "\n",
    "# generating dataset\n",
    "paras.n = 5000 # num of data obs to be genareted\n",
    "paras.npts = 40 # num of pts to evaluate X(s)\n",
    "paras.d = 68 # num of ROIs\n",
    "paras.q = 5 # num of other covariates\n",
    "paras.sigma2 = 1 # variance of the error\n",
    "paras.types_ = [\"int\", 2, 2, \"c\", \"c\"]\n",
    "#paras.types_ = [\"int\"]\n",
    "\n",
    "# b-spline\n",
    "paras.N = 20# int(3*paras.n**(1/paras.ord/2)) # num of basis for bsp\n",
    "paras.x = np.linspace(0, 1, paras.npts)\n",
    "paras.basis_mat = torch.DoubleTensor(obt_bsp_basis_Rfn_wrapper(paras.x, paras.N, paras.ord))\n",
    "assert paras.N == paras.basis_mat.shape[1]\n",
    "print(f\"The number of B-spline basis is {paras.N:.0f}.\")\n",
    "\n",
    "# True parameters\n",
    "paras.alp_GT = np.array([5, 1, -2, 3, -4])\n",
    "#paras.alp_GT = np.array([5])\n",
    "\n",
    "# first way\n",
    "#beta_type_GT = [fn1, fn2, fn2] + [zero_fn]*(paras.d-3-2) + [fn1, fn2]\n",
    "#paras.beta_GT = np.array([_fn(paras.x) for _fn in beta_type_GT]).T\n",
    "# second way, fourier basis\n",
    "paras.fourier_basis = fourier_basis_fn(paras.x)\n",
    "paras.fourier_basis_coefs = ([coef_fn(0.1), coef_fn(0.3), coef_fn(0.5)] + \n",
    "                             [np.zeros(50)] * (paras.d-3-2) +\n",
    "                             [coef_fn(0.7), coef_fn(0.9)]\n",
    "                             )\n",
    "paras.fourier_basis_coefs = np.array(paras.fourier_basis_coefs).T * 5\n",
    "paras.beta_GT = paras.fourier_basis @ paras.fourier_basis_coefs\n",
    "#\n",
    "paras.Gam_est = (np.linalg.inv(paras.basis_mat.numpy().T \n",
    "                               @ paras.basis_mat.numpy()) \n",
    "                               @ paras.basis_mat.numpy().T \n",
    "                               @ paras.beta_GT)\n",
    "\n",
    "# optimization\n",
    "paras.Rmin = 2*(np.linalg.norm(paras.Gam_est/np.sqrt(paras.N), axis=0).sum() + np.abs(paras.alp_GT).sum())\n",
    "paras.sel_idx = np.arange(2, paras.d) # M^c set\n",
    "paras.num_cv_fold = 5\n",
    "paras.Rfct = 2"
   ]
  },
  {
   "cell_type": "code",
   "execution_count": 9,
   "id": "51ee800d",
   "metadata": {
    "ExecuteTime": {
     "end_time": "2022-12-21T03:40:31.420491Z",
     "start_time": "2022-12-21T03:40:07.737825Z"
    }
   },
   "outputs": [],
   "source": [
    "dat = _gen_simu_data_all(0, paras)"
   ]
  },
  {
   "cell_type": "code",
   "execution_count": 413,
   "id": "27174e62",
   "metadata": {
    "ExecuteTime": {
     "end_time": "2022-12-21T03:36:42.125474Z",
     "start_time": "2022-12-21T03:36:42.111026Z"
    }
   },
   "outputs": [],
   "source": [
    "\n",
    "def SIS_linear(Y, X, Z, paras, keep_ratio=0.3):\n",
    "    \"\"\"The function is to do the sure ind screening when d (num of ROIs) is large under linear model\n",
    "       Ref to Fan_and_Lv_JRSSB_2008\n",
    "       args:\n",
    "            Y: Response\n",
    "            X: The psd \n",
    "            Z: Covariates\n",
    "            paras: Other parameters\n",
    "            keep_ratio: The ratio between the keeped rois and all rois\n",
    "    \"\"\"\n",
    "    _paras = edict(paras.copy())\n",
    "    \n",
    "    num_kp = int(np.round(_paras.d*keep_ratio, 0))\n",
    "    \n",
    "    SIS_gams = []\n",
    "    for ix in range(_paras.d):\n",
    "        cur_X = X[:, ix, :].unsqueeze(-1)\n",
    "        tmp_BX = (cur_X * _paras.basis_mat).mean(axis=1)\n",
    "        vec_p2 = tmp_BX*np.sqrt(_paras.N)\n",
    "        vec_p = torch.cat([Z, vec_p2], dim=1)\n",
    "        \n",
    "        right_vec = torch.sum(vec_p * Y.unsqueeze(-1), axis=0)\n",
    "        left_mat = torch.sum(vec_p.unsqueeze(-1) * vec_p.unsqueeze(1), axis=0)\n",
    "        cur_gam = torch.linalg.solve(left_mat, right_vec)[_paras.q:] * np.sqrt(_paras.N)\n",
    "        SIS_gams.append(cur_gam.numpy())\n",
    "    SIS_gams = np.array(SIS_gams)\n",
    "    SIS_betas = _paras.basis_mat.numpy() @ SIS_gams.T\n",
    "    norm_vs =  np.sqrt(np.mean(SIS_betas**2, axis=0))\n",
    "    keep_idxs = np.argsort(-norm_vs)[:num_kp]\n",
    "    return keep_idxs, norm_vs"
   ]
  },
  {
   "cell_type": "code",
   "execution_count": 10,
   "id": "29d3a7b0",
   "metadata": {
    "ExecuteTime": {
     "end_time": "2022-12-21T03:40:31.663451Z",
     "start_time": "2022-12-21T03:40:31.422733Z"
    }
   },
   "outputs": [
    {
     "data": {
      "text/plain": [
       "(array([67,  0, 66,  2, 48, 18, 38,  1, 19, 51,  9, 29, 36, 21, 42, 52, 35,\n",
       "        20, 47, 56]),\n",
       " array([10.04072826,  6.07242904,  6.64047794,  4.08619213,  3.79271146,\n",
       "         3.94283349,  4.83781116,  4.75978521,  4.85295388,  5.86878253,\n",
       "         4.79664168,  3.49568471,  4.4954055 ,  3.56828191,  4.59338282,\n",
       "         4.9854682 ,  3.66615283,  3.99828962,  6.2832365 ,  6.0247902 ,\n",
       "         5.13628813,  5.44641278,  2.73078377,  4.51173739,  4.29656783,\n",
       "         4.54447257,  4.35723135,  4.99381266,  4.61027356,  5.81197583,\n",
       "         3.61287697,  3.72331175,  4.98511664,  4.45792044,  4.59514774,\n",
       "         5.30187279,  5.66880008,  4.26832851,  6.20632656,  4.06622298,\n",
       "         3.72030059,  3.14232352,  5.44404749,  4.08900446,  4.79056298,\n",
       "         4.93822693,  3.78497863,  5.11166118,  6.32538595,  4.03092089,\n",
       "         3.20445077,  6.01364093,  5.37095886,  4.42416514,  3.75284975,\n",
       "         4.57934396,  5.04037465,  3.71900828,  4.24595837,  4.86958067,\n",
       "         3.0723421 ,  3.96038157,  3.78915777,  4.89585924,  3.7368781 ,\n",
       "         4.77610385,  8.99209123, 14.3954996 ]))"
      ]
     },
     "execution_count": 10,
     "metadata": {},
     "output_type": "execute_result"
    }
   ],
   "source": [
    "X, Y, Z = dat.X, dat.Y, dat.Z\n",
    "SIS_linear(Y, X, Z, paras, 0.3)"
   ]
  },
  {
   "cell_type": "code",
   "execution_count": null,
   "id": "f6a4ef6e",
   "metadata": {},
   "outputs": [],
   "source": []
  }
 ],
 "metadata": {
  "kernelspec": {
   "display_name": "Python 3 (ipykernel)",
   "language": "python",
   "name": "python3"
  },
  "language_info": {
   "codemirror_mode": {
    "name": "ipython",
    "version": 3
   },
   "file_extension": ".py",
   "mimetype": "text/x-python",
   "name": "python",
   "nbconvert_exporter": "python",
   "pygments_lexer": "ipython3",
   "version": "3.9.7"
  },
  "toc": {
   "base_numbering": 1,
   "nav_menu": {},
   "number_sections": true,
   "sideBar": true,
   "skip_h1_title": false,
   "title_cell": "Table of Contents",
   "title_sidebar": "Contents",
   "toc_cell": false,
   "toc_position": {
    "height": "calc(100% - 180px)",
    "left": "10px",
    "top": "150px",
    "width": "384px"
   },
   "toc_section_display": true,
   "toc_window_display": true
  }
 },
 "nbformat": 4,
 "nbformat_minor": 5
}
