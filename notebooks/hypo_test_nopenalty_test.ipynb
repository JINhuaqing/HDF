{
 "cells": [
  {
   "cell_type": "markdown",
   "id": "faf0a805",
   "metadata": {},
   "source": [
    "This file contains python code to check the hypothesis testing"
   ]
  },
  {
   "cell_type": "code",
   "execution_count": 1,
   "id": "02ae980e",
   "metadata": {
    "ExecuteTime": {
     "end_time": "2023-01-31T08:04:14.966752Z",
     "start_time": "2023-01-31T08:04:14.952806Z"
    }
   },
   "outputs": [],
   "source": [
    "import sys\n",
    "sys.path.append(\"../mypkg\")"
   ]
  },
  {
   "cell_type": "code",
   "execution_count": 2,
   "id": "023df78a",
   "metadata": {
    "ExecuteTime": {
     "end_time": "2023-01-31T08:04:17.900272Z",
     "start_time": "2023-01-31T08:04:15.772382Z"
    }
   },
   "outputs": [],
   "source": [
    "import numpy as np\n",
    "import torch\n",
    "import matplotlib.pyplot as plt\n",
    "import seaborn as sns\n",
    "import xarray as xr\n",
    "from scipy.stats import pearsonr\n",
    "from numbers import Number\n",
    "import multiprocessing as mp\n",
    "\n",
    "from easydict import EasyDict as edict\n",
    "from tqdm import trange\n",
    "from scipy.io import loadmat\n",
    "from pprint import pprint\n",
    "\n",
    "plt.style.use('ggplot')\n",
    "plt.rcParams[\"savefig.bbox\"] = \"tight\""
   ]
  },
  {
   "cell_type": "code",
   "execution_count": 3,
   "id": "053a5249",
   "metadata": {
    "ExecuteTime": {
     "end_time": "2023-01-31T08:04:21.931643Z",
     "start_time": "2023-01-31T08:04:21.895990Z"
    }
   },
   "outputs": [
    {
     "data": {
      "text/plain": [
       "<module 'models.linear_model' from '/data/rajlab1/user_data/jin/MyResearch/HDF_infer/notebooks/../mypkg/models/linear_model.py'>"
      ]
     },
     "execution_count": 3,
     "metadata": {},
     "output_type": "execute_result"
    }
   ],
   "source": [
    "import importlib\n",
    "import models.linear_model \n",
    "importlib.reload(models.linear_model)"
   ]
  },
  {
   "cell_type": "code",
   "execution_count": 4,
   "id": "b0aa91b2",
   "metadata": {
    "ExecuteTime": {
     "end_time": "2023-01-31T08:04:23.541064Z",
     "start_time": "2023-01-31T08:04:22.654561Z"
    }
   },
   "outputs": [],
   "source": [
    "from constants import DATA_ROOT, RES_ROOT, FIG_ROOT\n",
    "from default_paras import def_paras\n",
    "\n",
    "from hdf_utils.data_gen import gen_covs, gen_simu_psd\n",
    "from hdf_utils.fns import fn1, fn2, fn3, fn4, fn5, zero_fn\n",
    "from hdf_utils.fns_sinica import coef_fn, fourier_basis_fn\n",
    "from hdf_utils.likelihood import obt_lin_tm\n",
    "from hdf_utils.SIS import SIS_linear\n",
    "from utils.matrix import col_vec_fn, col_vec2mat_fn, conju_grad, svd_inverse\n",
    "from utils.functions import logit_fn\n",
    "from utils.misc import save_pkl\n",
    "from splines import obt_bsp_basis_Rfn, obt_bsp_basis_Rfn_wrapper\n",
    "from projection import euclidean_proj_l1ball\n",
    "from optimization.one_step_opt import OneStepOpt\n",
    "from optimization.cross_validation import CV_err_linear_fn\n",
    "from optimization.opt import optimization\n",
    "\n",
    "from penalties.scad_pen import SCAD\n",
    "from models.logistic_model import LogisticModel\n",
    "from models.linear_model import LinearModel\n"
   ]
  },
  {
   "cell_type": "code",
   "execution_count": 5,
   "id": "fdddf8a6",
   "metadata": {
    "ExecuteTime": {
     "end_time": "2023-01-31T08:04:24.414658Z",
     "start_time": "2023-01-31T08:04:24.409731Z"
    }
   },
   "outputs": [],
   "source": [
    "torch.set_default_tensor_type(torch.DoubleTensor)"
   ]
  },
  {
   "cell_type": "code",
   "execution_count": null,
   "id": "d0af2f35",
   "metadata": {},
   "outputs": [],
   "source": []
  },
  {
   "cell_type": "markdown",
   "id": "dd9c6514",
   "metadata": {},
   "source": [
    "## Param and fns"
   ]
  },
  {
   "cell_type": "markdown",
   "id": "21e4ccea",
   "metadata": {},
   "source": [
    "### Params"
   ]
  },
  {
   "cell_type": "code",
   "execution_count": 448,
   "id": "fd29f0de",
   "metadata": {
    "ExecuteTime": {
     "end_time": "2023-02-03T04:28:22.514802Z",
     "start_time": "2023-02-03T04:28:22.490486Z"
    }
   },
   "outputs": [
    {
     "name": "stdout",
     "output_type": "stream",
     "text": [
      "The number of B-spline basis is 7.\n"
     ]
    }
   ],
   "source": [
    "np.random.seed(0)\n",
    "paras = edict(def_paras.copy())\n",
    "\n",
    "# Others\n",
    "paras.num_rep = 20\n",
    "paras.ns = [100, 300, 900, 2700, 8100, 24300]\n",
    "paras.can_lams = [1e-1, 3e-1, 1e0, 3e0, 9e0, 3e1]\n",
    "paras.can_Ns = [5, 10, 15, 20]\n",
    "paras.ind_freq = np.linspace(1, 40, 40) # freqs\n",
    "paras.init_noise_sd = 10 # the sd of the noise added to the true value for initial values\n",
    "paras.SIS_ratio = 1 # the ratio to keep with SIS procedure\n",
    "#paras.SIS_ratio = 0.4 # the ratio to keep with SIS procedure\n",
    "\n",
    "# generating dataset\n",
    "paras.n = 168 # num of data obs to be genareted\n",
    "paras.npts = 40 # num of pts to evaluate X(s)\n",
    "paras.d = 68 # num of ROIs\n",
    "paras.q = 5 # num of other covariates\n",
    "paras.sigma2 = 1 # variance of the error\n",
    "paras.types_ = [\"int\", 2, 2, \"c\", \"c\"]\n",
    "\n",
    "# b-spline\n",
    "paras.N = 7 # int(3*paras.n**(1/paras.ord/2)) # num of basis for bsp\n",
    "paras.x = np.linspace(0, 1, paras.npts)\n",
    "paras.basis_mat = torch.DoubleTensor(obt_bsp_basis_Rfn_wrapper(paras.x, paras.N, paras.ord))\n",
    "assert paras.N == paras.basis_mat.shape[1]\n",
    "print(f\"The number of B-spline basis is {paras.N:.0f}.\")\n",
    "\n",
    "# True parameters\n",
    "paras.alp_GT = np.array([5, 1, -2, 3, -4])\n",
    "\n",
    "# first way\n",
    "#beta_type_GT = [fn1, fn2, fn2] + [zero_fn]*(paras.d-3-2) + [fn1, fn2]\n",
    "#paras.beta_GT = np.array([_fn(paras.x) for _fn in beta_type_GT]).T\n",
    "# second way, fourier basis\n",
    "paras.fourier_basis = fourier_basis_fn(paras.x)\n",
    "#paras.fourier_basis_coefs = ([coef_fn(0.1), coef_fn(0.3), coef_fn(0.5)] + \n",
    "#                             [np.zeros(50)] * (paras.d-3-2) +\n",
    "#                             [coef_fn(0.7), coef_fn(0.9)]\n",
    "#                             )\n",
    "paras.fourier_basis_coefs = ([np.zeros(50)] * (paras.d-2) +\n",
    "                             [coef_fn(0.7), coef_fn(0.9)]\n",
    "                             )\n",
    "#paras.fourier_basis_coefs = ([np.zeros(50)] * paras.d)\n",
    "paras.fourier_basis_coefs = np.array(paras.fourier_basis_coefs).T * 5\n",
    "paras.beta_GT = paras.fourier_basis @ paras.fourier_basis_coefs\n",
    "#\n",
    "paras.Gam_est = (np.linalg.inv(paras.basis_mat.numpy().T \n",
    "                               @ paras.basis_mat.numpy()) \n",
    "                               @ paras.basis_mat.numpy().T \n",
    "                               @ paras.beta_GT)\n",
    "\n",
    "# optimization\n",
    "paras.Rmin = 2*(np.linalg.norm(paras.Gam_est/np.sqrt(paras.N), axis=0).sum() + np.abs(paras.alp_GT).sum())\n",
    "paras.sel_idx = np.arange(3, paras.d) # M^c set, \n",
    "#without loss of generality, we assume the idxs in M is the first m betas\n",
    "paras.num_cv_fold = 5\n",
    "paras.Rfct = 2\n",
    "paras.stop_cv = 5e-4\n",
    "paras.max_iter = 2000\n",
    "\n",
    "# hypothesis test\n",
    "paras.M_idxs = np.delete(np.arange(paras.d), paras.sel_idx) # the M set\n",
    "paras.Cmat = np.eye(len(paras.M_idxs)) # Cmat \\times beta_M(s), r x m\n",
    "paras.r, paras.m = paras.Cmat.shape\n",
    "paras.t_vec = np.zeros(paras.Cmat.shape[0]) # t vec, typically it is zero vector\n"
   ]
  },
  {
   "cell_type": "code",
   "execution_count": 449,
   "id": "75dc09a0",
   "metadata": {
    "ExecuteTime": {
     "end_time": "2023-02-03T04:28:23.929619Z",
     "start_time": "2023-02-03T04:28:23.917590Z"
    }
   },
   "outputs": [],
   "source": [
    "paras.save_dir = RES_ROOT/\"linear_test\"\n",
    "if not paras.save_dir.exists():\n",
    "    paras.save_dir.mkdir()"
   ]
  },
  {
   "cell_type": "code",
   "execution_count": null,
   "id": "75e10fd4",
   "metadata": {},
   "outputs": [],
   "source": []
  },
  {
   "cell_type": "markdown",
   "id": "66c2f90f",
   "metadata": {
    "ExecuteTime": {
     "end_time": "2022-12-08T18:09:55.509389Z",
     "start_time": "2022-12-08T18:09:55.343396Z"
    }
   },
   "source": [
    "### Fns"
   ]
  },
  {
   "cell_type": "code",
   "execution_count": 450,
   "id": "fea96e90",
   "metadata": {
    "ExecuteTime": {
     "end_time": "2023-02-03T04:28:25.130372Z",
     "start_time": "2023-02-03T04:28:25.123886Z"
    }
   },
   "outputs": [],
   "source": [
    "\n",
    "def MS2idxs(q, N, MS_unions):\n",
    "    \"\"\"This fn is to return the idxs to keep in mat Q, Sigma and vec Theta\n",
    "    \"\"\"\n",
    "    idxs_all = [np.arange(0, q)]\n",
    "    for cur_idx in MS_unions:\n",
    "        idxs_all.append(np.arange(q+cur_idx*N, q+(cur_idx+1)*N))\n",
    "    idxs_all = np.concatenate(idxs_all)\n",
    "    return idxs_all"
   ]
  },
  {
   "cell_type": "code",
   "execution_count": 451,
   "id": "2db5c76b",
   "metadata": {
    "ExecuteTime": {
     "end_time": "2023-02-03T04:28:26.919720Z",
     "start_time": "2023-02-03T04:28:26.912251Z"
    }
   },
   "outputs": [],
   "source": [
    "def get_Amat(k, paras):\n",
    "    \"\"\"Get A matrix for hypothesis test\n",
    "        k: Num of elements in S\n",
    "        paras: parameters\n",
    "                required: N, Cmat, m, q\n",
    "    \"\"\"\n",
    "    _paras = edict(paras.copy())\n",
    "    \n",
    "    part1 = np.kron(_paras.Cmat, np.eye(_paras.N))\n",
    "    part2 = np.zeros((_paras.m*_paras.N, _paras.q+(_paras.m+k)*_paras.N))\n",
    "    part2[:, _paras.q:(_paras.q+_paras.m*_paras.N)] = np.eye(_paras.m*_paras.N)\n",
    "    A = part1 @ part2\n",
    "    return A"
   ]
  },
  {
   "cell_type": "code",
   "execution_count": 453,
   "id": "0f30b88f",
   "metadata": {
    "ExecuteTime": {
     "end_time": "2023-02-03T04:28:41.010819Z",
     "start_time": "2023-02-03T04:28:40.999720Z"
    },
    "code_folding": []
   },
   "outputs": [],
   "source": [
    "def _gen_simu_data_all(seed, paras):\n",
    "    np.random.seed(seed)\n",
    "    _paras = edict(paras.copy())\n",
    "    # simulated PSD\n",
    "    assert len(_paras.types_) == _paras.q\n",
    "    assert len(_paras.alp_GT) == _paras.q\n",
    "    \n",
    "    #simu_psd = gen_simu_psd(_paras.n, _paras.d, 10, 2)\n",
    "    #simu_psd = np.random.randn(_paras.n, _paras.d, 40)*10\n",
    "    simu_psd = std_real_psd[:, :_paras.d]\n",
    "    simu_covs = gen_covs(_paras.n, _paras.types_)\n",
    "    \n",
    "    # linear term and Y\n",
    "    int_part = np.sum(_paras.beta_GT.T* simu_psd[:, :, :], axis=1).mean(axis=1)\n",
    "    cov_part = simu_covs @ _paras.alp_GT \n",
    "    \n",
    "    # linear term\n",
    "    lin_term = cov_part + int_part\n",
    "    \n",
    "    # Y \n",
    "    rvs = np.random.rand(_paras.n)\n",
    "    Y = lin_term + np.random.randn(_paras.n)*np.sqrt(_paras.sigma2)\n",
    "    \n",
    "    # To torch\n",
    "    X = torch.tensor(simu_psd) # n x d x npts\n",
    "    Z = torch.tensor(simu_covs) # n x q\n",
    "    Y = torch.tensor(Y)\n",
    "    \n",
    "    all_data = edict()\n",
    "    all_data.X = X\n",
    "    all_data.Y = Y\n",
    "    all_data.Z = Z\n",
    "    all_data.lin_term = lin_term\n",
    "    return all_data"
   ]
  },
  {
   "cell_type": "code",
   "execution_count": null,
   "id": "b1a2b52d",
   "metadata": {},
   "outputs": [],
   "source": []
  },
  {
   "cell_type": "markdown",
   "id": "e4043966",
   "metadata": {},
   "source": [
    "## Simu"
   ]
  },
  {
   "cell_type": "code",
   "execution_count": 455,
   "id": "eb44d701",
   "metadata": {
    "ExecuteTime": {
     "end_time": "2023-02-03T04:28:48.316013Z",
     "start_time": "2023-02-03T04:28:47.859072Z"
    },
    "scrolled": true
   },
   "outputs": [
    {
     "name": "stderr",
     "output_type": "stream",
     "text": [
      " 46%|████████████████████████████████████████████████████████████████████████████▊                                                                                          | 46/100 [00:00<00:00, 225.27it/s]"
     ]
    },
    {
     "name": "stdout",
     "output_type": "stream",
     "text": [
      "tensor(106.3634)\n",
      "tensor(127.6671)\n",
      "tensor(161.6841)\n",
      "tensor(147.1777)\n",
      "tensor(102.6666)\n",
      "tensor(112.8376)\n",
      "tensor(138.8527)\n",
      "tensor(114.9729)\n",
      "tensor(189.4739)\n",
      "tensor(162.2693)\n",
      "tensor(130.2976)\n",
      "tensor(97.2571)\n",
      "tensor(68.3450)\n",
      "tensor(112.3855)\n",
      "tensor(126.8839)\n",
      "tensor(82.7357)\n",
      "tensor(129.4807)\n",
      "tensor(78.4710)\n",
      "tensor(81.9203)\n",
      "tensor(89.1562)\n",
      "tensor(117.5851)\n",
      "tensor(83.8753)\n",
      "tensor(108.2606)\n",
      "tensor(125.7238)\n",
      "tensor(186.7428)\n",
      "tensor(76.9552)\n",
      "tensor(100.6316)\n",
      "tensor(156.3647)\n",
      "tensor(124.9702)\n",
      "tensor(124.3348)\n",
      "tensor(142.4283)\n",
      "tensor(73.9898)\n",
      "tensor(142.2935)\n",
      "tensor(224.3636)\n",
      "tensor(160.7818)\n",
      "tensor(149.3964)\n",
      "tensor(99.3698)\n",
      "tensor(83.8588)\n",
      "tensor(104.9325)\n",
      "tensor(112.1364)\n",
      "tensor(89.6345)\n",
      "tensor(122.3424)\n",
      "tensor(97.2107)\n",
      "tensor(207.2720)\n",
      "tensor(111.0460)\n",
      "tensor(142.9961)\n"
     ]
    },
    {
     "name": "stderr",
     "output_type": "stream",
     "text": [
      " 94%|████████████████████████████████████████████████████████████████████████████████████████████████████████████████████████████████████████████████████████████▉          | 94/100 [00:00<00:00, 232.57it/s]"
     ]
    },
    {
     "name": "stdout",
     "output_type": "stream",
     "text": [
      "tensor(119.1636)\n",
      "tensor(105.7900)\n",
      "tensor(111.9881)\n",
      "tensor(127.1268)\n",
      "tensor(91.2698)\n",
      "tensor(121.3933)\n",
      "tensor(115.8437)\n",
      "tensor(104.3038)\n",
      "tensor(92.1259)\n",
      "tensor(163.9716)\n",
      "tensor(143.3750)\n",
      "tensor(160.5424)\n",
      "tensor(112.0703)\n",
      "tensor(118.4187)\n",
      "tensor(154.9105)\n",
      "tensor(137.2557)\n",
      "tensor(160.6430)\n",
      "tensor(175.8084)\n",
      "tensor(128.9841)\n",
      "tensor(113.4120)\n",
      "tensor(116.0439)\n",
      "tensor(123.1054)\n",
      "tensor(110.1283)\n",
      "tensor(103.8536)\n",
      "tensor(98.3991)\n",
      "tensor(126.2178)\n",
      "tensor(113.7780)\n",
      "tensor(114.8609)\n",
      "tensor(104.1737)\n",
      "tensor(107.2385)\n",
      "tensor(155.5657)\n",
      "tensor(186.2934)\n",
      "tensor(98.2733)\n",
      "tensor(110.9487)\n",
      "tensor(146.6130)\n",
      "tensor(106.6265)\n",
      "tensor(101.4901)\n",
      "tensor(89.3301)\n",
      "tensor(110.5512)\n",
      "tensor(137.8357)\n",
      "tensor(92.0951)\n",
      "tensor(123.8225)\n",
      "tensor(135.5598)\n",
      "tensor(136.8821)\n",
      "tensor(68.1203)\n",
      "tensor(137.9920)\n",
      "tensor(135.9544)\n",
      "tensor(128.8974)\n"
     ]
    },
    {
     "name": "stderr",
     "output_type": "stream",
     "text": [
      "\r",
      "100%|██████████████████████████████████████████████████████████████████████████████████████████████████████████████████████████████████████████████████████████████████████| 100/100 [00:00<00:00, 230.48it/s]"
     ]
    },
    {
     "name": "stdout",
     "output_type": "stream",
     "text": [
      "tensor(125.5522)\n",
      "tensor(89.4954)\n",
      "tensor(80.8862)\n",
      "tensor(214.7542)\n",
      "tensor(154.6844)\n",
      "tensor(156.5610)\n"
     ]
    },
    {
     "name": "stderr",
     "output_type": "stream",
     "text": [
      "\n"
     ]
    }
   ],
   "source": [
    "seed = 0\n",
    "T_vs = []\n",
    "T_p1s = []\n",
    "Psis = []\n",
    "nonzero_idxss = []\n",
    "for seed in trange(100):\n",
    "\n",
    "    _paras = edict(paras.copy())\n",
    "    _paras.seed = seed\n",
    "    cur_data = _gen_simu_data_all(_paras.seed, _paras)\n",
    "    \n",
    "    # do sure independent screening for dim reduction\n",
    "    if _paras.SIS_ratio < 1:\n",
    "        keep_idxs, _  = SIS_linear(cur_data.Y, cur_data.X, cur_data.Z, _paras.SIS_ratio, _paras)\n",
    "    else:\n",
    "        keep_idxs = _paras.sel_idx\n",
    "    M_idxs = np.delete(np.arange(_paras.d), _paras.sel_idx)\n",
    "    _paras.keep_idxs = np.sort(np.concatenate([M_idxs, keep_idxs]))\n",
    "        \n",
    "    _paras.d_SIS = len(_paras.keep_idxs)\n",
    "    \n",
    "    cur_data_SIS = edict(cur_data.copy())\n",
    "    cur_data_SIS.X = cur_data.X[:, _paras.keep_idxs, :]\n",
    "    \n",
    "    model = LinearModel(Y=cur_data_SIS.Y, \n",
    "                        X=cur_data_SIS.X, \n",
    "                        Z=cur_data_SIS.Z, \n",
    "                        basis_mat=_paras.basis_mat, \n",
    "                        sigma2=_paras.sigma2)\n",
    "    model._linear_term_der()\n",
    "    Xt = model.lin_tm_der # Mx(q+dN)\n",
    "    est_theta = svd_inverse(Xt.T @ Xt + 0*torch.eye(Xt.shape[-1]))@Xt.T@cur_data_SIS.Y\n",
    "    ##est_theta = torch.inverse(Xt.T @ Xt)@Xt.T@Y\n",
    "    #\n",
    "    est_alp = est_theta[:_paras.q]\n",
    "    est_Gam = col_vec2mat_fn(est_theta[_paras.q:], nrow=_paras.N)*np.sqrt(_paras.N)\n",
    "    est_theta = torch.cat([est_alp, col_vec_fn(est_Gam)/np.sqrt(_paras.N)])\n",
    "    \n",
    "    Q_mat = -model.log_lik_der2(est_alp, est_Gam)\n",
    "    model.log_lik_der1(est_alp, est_Gam);\n",
    "    Sig_mat = (model.log_lik_der1_vs.unsqueeze(-1) * model.log_lik_der1_vs.unsqueeze(1)).mean(axis=0) \n",
    "    \n",
    "    # obtain the idxs to keep for test\n",
    "    nonzero_idxs = torch.nonzero(torch.norm(est_Gam, dim=0)).reshape(-1).numpy()\n",
    "    MS_unions = np.sort(np.union1d(_paras.M_idxs, nonzero_idxs))\n",
    "    keep_idxs_test = MS2idxs(_paras.q, _paras.N, MS_unions)\n",
    "        \n",
    "    # A mat\n",
    "    k = len(np.setdiff1d(nonzero_idxs, _paras.M_idxs))\n",
    "    Amat = torch.tensor(get_Amat(k, _paras))\n",
    "        \n",
    "    # calcuate Test stats\n",
    "    Q_mat_part = Q_mat[keep_idxs_test][:, keep_idxs_test]\n",
    "    Q_mat_part_inv = svd_inverse(Q_mat_part)\n",
    "        \n",
    "    Sig_mat_part = Sig_mat[keep_idxs_test][:, keep_idxs_test]\n",
    "    Psi = Amat @ Q_mat_part_inv @ Sig_mat_part @ Q_mat_part_inv @ Amat.T\n",
    "        \n",
    "    T_p1 = Amat @ est_theta[keep_idxs_test]\n",
    "    Psi_inv = svd_inverse(Psi)\n",
    "    T_v = T_p1 @ Psi_inv @ T_p1 * _paras.n \n",
    "    print(T_v)\n",
    "\n",
    "    Psis.append(Psi)\n",
    "    T_p1s.append(T_p1)\n",
    "    T_vs.append(T_v.item())\n",
    "    nonzero_idxss.append(nonzero_idxs)"
   ]
  },
  {
   "cell_type": "code",
   "execution_count": 456,
   "id": "3ed9485c",
   "metadata": {
    "ExecuteTime": {
     "end_time": "2023-02-03T04:28:53.490953Z",
     "start_time": "2023-02-03T04:28:53.484544Z"
    }
   },
   "outputs": [
    {
     "data": {
      "text/plain": [
       "(40,)"
      ]
     },
     "execution_count": 456,
     "metadata": {},
     "output_type": "execute_result"
    }
   ],
   "source": [
    "keep_idxs_test.shape"
   ]
  },
  {
   "cell_type": "code",
   "execution_count": 457,
   "id": "32621f00",
   "metadata": {
    "ExecuteTime": {
     "end_time": "2023-02-03T04:28:56.056387Z",
     "start_time": "2023-02-03T04:28:55.953719Z"
    }
   },
   "outputs": [
    {
     "data": {
      "text/plain": [
       "[<matplotlib.lines.Line2D at 0x7f8e861810a0>]"
      ]
     },
     "execution_count": 457,
     "metadata": {},
     "output_type": "execute_result"
    },
    {
     "data": {
      "image/png": "[encoded data removed]",
      "text/plain": [
       "<Figure size 432x288 with 1 Axes>"
      ]
     },
     "metadata": {},
     "output_type": "display_data"
    }
   ],
   "source": [
    "Sig_mat = (model.log_lik_der1_vs.unsqueeze(-1) * model.log_lik_der1_vs.unsqueeze(1)).mean(axis=0)\n",
    "plt.plot(torch.svd(Sig_mat).S)"
   ]
  },
  {
   "cell_type": "code",
   "execution_count": 458,
   "id": "307926ce",
   "metadata": {
    "ExecuteTime": {
     "end_time": "2023-02-03T04:28:57.945822Z",
     "start_time": "2023-02-03T04:28:57.939062Z"
    }
   },
   "outputs": [
    {
     "data": {
      "text/plain": [
       "tensor([ 6.8114,  1.1836, -2.0003,  2.7902, -4.0997])"
      ]
     },
     "execution_count": 458,
     "metadata": {},
     "output_type": "execute_result"
    }
   ],
   "source": [
    "est_alp"
   ]
  },
  {
   "cell_type": "code",
   "execution_count": 459,
   "id": "c97b50f2",
   "metadata": {
    "ExecuteTime": {
     "end_time": "2023-02-03T04:28:59.928504Z",
     "start_time": "2023-02-03T04:28:59.813238Z"
    }
   },
   "outputs": [
    {
     "data": {
      "text/plain": [
       "<matplotlib.legend.Legend at 0x7f8e86060cd0>"
      ]
     },
     "execution_count": 459,
     "metadata": {},
     "output_type": "execute_result"
    },
    {
     "data": {
      "image/png": "[encoded data removed]",
      "text/plain": [
       "<Figure size 432x288 with 1 Axes>"
      ]
     },
     "metadata": {},
     "output_type": "display_data"
    }
   ],
   "source": [
    "rec_curs = paras.basis_mat @ est_Gam\n",
    "idx = -1\n",
    "plt.plot(rec_curs[:, idx], label=\"rec\")\n",
    "plt.plot(paras.beta_GT[:, idx], label=\"GT\")\n",
    "plt.legend()"
   ]
  },
  {
   "cell_type": "code",
   "execution_count": 460,
   "id": "8ded9727",
   "metadata": {
    "ExecuteTime": {
     "end_time": "2023-02-03T04:29:01.537397Z",
     "start_time": "2023-02-03T04:29:01.530303Z"
    }
   },
   "outputs": [
    {
     "data": {
      "text/plain": [
       "tensor([21.5480,  5.6539, 16.6865, 26.3862, 56.3241])"
      ]
     },
     "execution_count": 460,
     "metadata": {},
     "output_type": "execute_result"
    }
   ],
   "source": [
    "torch.norm(est_Gam, dim=0)"
   ]
  },
  {
   "cell_type": "code",
   "execution_count": 461,
   "id": "1523dc52",
   "metadata": {
    "ExecuteTime": {
     "end_time": "2023-02-03T04:29:02.226100Z",
     "start_time": "2023-02-03T04:29:02.219510Z"
    }
   },
   "outputs": [
    {
     "data": {
      "text/plain": [
       "array([ 0.        ,  0.        ,  0.        , 43.63860385, 65.8028688 ])"
      ]
     },
     "execution_count": 461,
     "metadata": {},
     "output_type": "execute_result"
    }
   ],
   "source": [
    "np.linalg.norm(_paras.Gam_est, axis=0)"
   ]
  },
  {
   "cell_type": "code",
   "execution_count": 462,
   "id": "37bb8fa7",
   "metadata": {
    "ExecuteTime": {
     "end_time": "2023-02-03T04:29:03.229807Z",
     "start_time": "2023-02-03T04:29:03.034734Z"
    },
    "scrolled": true
   },
   "outputs": [
    {
     "data": {
      "text/plain": [
       "<AxesSubplot:>"
      ]
     },
     "execution_count": 462,
     "metadata": {},
     "output_type": "execute_result"
    },
    {
     "data": {
      "image/png": "[encoded data removed]",
      "text/plain": [
       "<Figure size 432x288 with 2 Axes>"
      ]
     },
     "metadata": {},
     "output_type": "display_data"
    }
   ],
   "source": [
    "tmp1 = np.mean([ix.numpy() for ix in Psis], axis=0)/paras.n\n",
    "sns.heatmap(tmp1, center=0, cmap=\"bwr\")"
   ]
  },
  {
   "cell_type": "code",
   "execution_count": 463,
   "id": "12844813",
   "metadata": {
    "ExecuteTime": {
     "end_time": "2023-02-03T04:29:07.679986Z",
     "start_time": "2023-02-03T04:29:07.488117Z"
    }
   },
   "outputs": [
    {
     "data": {
      "text/plain": [
       "<AxesSubplot:>"
      ]
     },
     "execution_count": 463,
     "metadata": {},
     "output_type": "execute_result"
    },
    {
     "data": {
      "image/png": "[encoded data removed]",
      "text/plain": [
       "<Figure size 432x288 with 2 Axes>"
      ]
     },
     "metadata": {},
     "output_type": "display_data"
    }
   ],
   "source": [
    "tmp2 = np.cov(np.array([ix.numpy() for ix in T_p1s]).T)\n",
    "sns.heatmap(tmp2, center=0, cmap=\"bwr\")"
   ]
  },
  {
   "cell_type": "code",
   "execution_count": 464,
   "id": "6b6bf4cb",
   "metadata": {
    "ExecuteTime": {
     "end_time": "2023-02-03T04:29:09.511082Z",
     "start_time": "2023-02-03T04:29:09.371479Z"
    }
   },
   "outputs": [
    {
     "data": {
      "text/plain": [
       "<matplotlib.legend.Legend at 0x7f8e85af1f70>"
      ]
     },
     "execution_count": 464,
     "metadata": {},
     "output_type": "execute_result"
    },
    {
     "data": {
      "image/png": "[encoded data removed]",
      "text/plain": [
       "<Figure size 432x288 with 1 Axes>"
      ]
     },
     "metadata": {},
     "output_type": "display_data"
    }
   ],
   "source": [
    "#null_sps = np.random.chisquare(3, 10000)\n",
    "null_sps = np.random.chisquare(paras.r * paras.N, 10000)\n",
    "sns.kdeplot(null_sps, label=\"theoretical\")\n",
    "sns.kdeplot(np.array(T_vs), label=\"empirical\")\n",
    "plt.legend()"
   ]
  },
  {
   "cell_type": "code",
   "execution_count": 465,
   "id": "54e2f8f9",
   "metadata": {
    "ExecuteTime": {
     "end_time": "2023-02-03T04:29:14.707006Z",
     "start_time": "2023-02-03T04:29:14.699337Z"
    }
   },
   "outputs": [
    {
     "data": {
      "text/plain": [
       "1.0"
      ]
     },
     "execution_count": 465,
     "metadata": {},
     "output_type": "execute_result"
    }
   ],
   "source": [
    "CV = np.quantile(null_sps, 0.95)\n",
    "np.mean(np.array(T_vs)>CV)"
   ]
  },
  {
   "cell_type": "code",
   "execution_count": 242,
   "id": "9c5573d7",
   "metadata": {
    "ExecuteTime": {
     "end_time": "2023-02-01T15:35:49.115923Z",
     "start_time": "2023-02-01T15:35:49.111781Z"
    }
   },
   "outputs": [
    {
     "data": {
      "text/plain": [
       "3.3668088988434626"
      ]
     },
     "execution_count": 242,
     "metadata": {},
     "output_type": "execute_result"
    }
   ],
   "source": [
    "np.mean(T_vs)"
   ]
  },
  {
   "cell_type": "code",
   "execution_count": 243,
   "id": "51f8b503",
   "metadata": {
    "ExecuteTime": {
     "end_time": "2023-02-01T15:35:51.151868Z",
     "start_time": "2023-02-01T15:35:51.145797Z"
    }
   },
   "outputs": [
    {
     "data": {
      "text/plain": [
       "18.954537768642414"
      ]
     },
     "execution_count": 243,
     "metadata": {},
     "output_type": "execute_result"
    }
   ],
   "source": [
    "np.mean(null_sps)"
   ]
  },
  {
   "cell_type": "code",
   "execution_count": null,
   "id": "155f1869",
   "metadata": {},
   "outputs": [],
   "source": []
  }
 ],
 "metadata": {
  "kernelspec": {
   "display_name": "Python 3 (ipykernel)",
   "language": "python",
   "name": "python3"
  },
  "language_info": {
   "codemirror_mode": {
    "name": "ipython",
    "version": 3
   },
   "file_extension": ".py",
   "mimetype": "text/x-python",
   "name": "python",
   "nbconvert_exporter": "python",
   "pygments_lexer": "ipython3",
   "version": "3.9.7"
  },
  "toc": {
   "base_numbering": 1,
   "nav_menu": {},
   "number_sections": true,
   "sideBar": true,
   "skip_h1_title": false,
   "title_cell": "Table of Contents",
   "title_sidebar": "Contents",
   "toc_cell": false,
   "toc_position": {
    "height": "calc(100% - 180px)",
    "left": "10px",
    "top": "150px",
    "width": "384px"
   },
   "toc_section_display": true,
   "toc_window_display": true
  }
 },
 "nbformat": 4,
 "nbformat_minor": 5
}
