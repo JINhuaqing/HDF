{
 "cells": [
  {
   "cell_type": "markdown",
   "id": "faf0a805",
   "metadata": {},
   "source": [
    "This file contains python code to compare with sinica paper\n",
    "\n",
    "It is under the linear setting\n",
    "\n",
    "Now, I use the same X and beta from the paper (on Sep 4, 2023)"
   ]
  },
  {
   "cell_type": "code",
   "execution_count": 1,
   "id": "02ae980e",
   "metadata": {
    "ExecuteTime": {
     "end_time": "2023-05-31T19:57:23.490285Z",
     "start_time": "2023-05-31T19:57:23.481769Z"
    },
    "execution": {
     "iopub.execute_input": "2023-10-04T16:37:15.094661Z",
     "iopub.status.busy": "2023-10-04T16:37:15.094156Z",
     "iopub.status.idle": "2023-10-04T16:37:15.110193Z",
     "shell.execute_reply": "2023-10-04T16:37:15.107557Z",
     "shell.execute_reply.started": "2023-10-04T16:37:15.094617Z"
    },
    "tags": []
   },
   "outputs": [],
   "source": [
    "import sys\n",
    "sys.path.append(\"../../mypkg\")"
   ]
  },
  {
   "cell_type": "code",
   "execution_count": 2,
   "id": "023df78a",
   "metadata": {
    "ExecuteTime": {
     "end_time": "2023-05-31T19:57:34.238839Z",
     "start_time": "2023-05-31T19:57:23.494053Z"
    },
    "execution": {
     "iopub.execute_input": "2023-10-04T16:37:15.114846Z",
     "iopub.status.busy": "2023-10-04T16:37:15.114279Z",
     "iopub.status.idle": "2023-10-04T16:37:17.338793Z",
     "shell.execute_reply": "2023-10-04T16:37:17.338007Z",
     "shell.execute_reply.started": "2023-10-04T16:37:15.114779Z"
    },
    "tags": []
   },
   "outputs": [],
   "source": [
    "import numpy as np\n",
    "import torch\n",
    "import matplotlib.pyplot as plt\n",
    "import seaborn as sns\n",
    "from scipy.stats import pearsonr\n",
    "from numbers import Number\n",
    "\n",
    "from easydict import EasyDict as edict\n",
    "from tqdm import trange, tqdm\n",
    "from scipy.io import loadmat\n",
    "from pprint import pprint\n",
    "import itertools\n",
    "from scipy.stats import chi2\n"
   ]
  },
  {
   "cell_type": "code",
   "execution_count": 3,
   "id": "b9d3cbc6-1ac5-47d6-a0d1-bcbc0be9267e",
   "metadata": {
    "execution": {
     "iopub.execute_input": "2023-10-04T16:37:17.340284Z",
     "iopub.status.busy": "2023-10-04T16:37:17.339906Z",
     "iopub.status.idle": "2023-10-04T16:37:17.368385Z",
     "shell.execute_reply": "2023-10-04T16:37:17.367823Z",
     "shell.execute_reply.started": "2023-10-04T16:37:17.340260Z"
    },
    "tags": []
   },
   "outputs": [],
   "source": [
    "# This will reload all imports as soon as the code changes\n",
    "%load_ext autoreload\n",
    "%autoreload 2"
   ]
  },
  {
   "cell_type": "code",
   "execution_count": 4,
   "id": "b0aa91b2",
   "metadata": {
    "ExecuteTime": {
     "end_time": "2023-05-31T19:57:59.558229Z",
     "start_time": "2023-05-31T19:57:34.292612Z"
    },
    "execution": {
     "iopub.execute_input": "2023-10-04T16:37:17.369249Z",
     "iopub.status.busy": "2023-10-04T16:37:17.369016Z",
     "iopub.status.idle": "2023-10-04T16:37:18.169157Z",
     "shell.execute_reply": "2023-10-04T16:37:18.168332Z",
     "shell.execute_reply.started": "2023-10-04T16:37:17.369236Z"
    },
    "tags": []
   },
   "outputs": [
    {
     "name": "stderr",
     "output_type": "stream",
     "text": [
      "R[write to console]: \n",
      "Attaching package: ‘orthogonalsplinebasis’\n",
      "\n",
      "\n",
      "R[write to console]: The following object is masked from ‘package:stats’:\n",
      "\n",
      "    integrate\n",
      "\n",
      "\n"
     ]
    }
   ],
   "source": [
    "from constants import DATA_ROOT, RES_ROOT, FIG_ROOT, MIDRES_ROOT\n",
    "from default_paras import def_paras\n",
    "\n",
    "from hdf_utils.data_gen import gen_covs, gen_simu_psd, gen_simu_ts\n",
    "from hdf_utils.fns import fn1, fn2, fn3, fn4, fn5, zero_fn\n",
    "from hdf_utils.fns_sinica import coef_fn, fourier_basis_fn, gen_sini_Xthetas\n",
    "from hdf_utils.likelihood import obt_lin_tm\n",
    "from hdf_utils.SIS import SIS_linear\n",
    "from hdf_utils.utils import gen_lam_seq\n",
    "from hdf_utils.hypo_test import  MS2idxs, obt_test_stat_simple2\n",
    "from utils.matrix import col_vec_fn, col_vec2mat_fn, conju_grad, svd_inverse, cholesky_inv, gen_Dmat\n",
    "from utils.functions import logit_fn\n",
    "from utils.misc import save_pkl, load_pkl\n",
    "from splines import obt_bsp_obasis_Rfn, obt_bsp_basis_Rfn_wrapper\n",
    "from projection import euclidean_proj_l1ball\n",
    "from optimization.one_step_opt import OneStepOpt\n",
    "from optimization.cross_validation import CV_err_linear_fn\n",
    "from optimization.opt import optimization\n",
    "from penalties.scad_pen import SCAD\n",
    "from models.linear_model import LinearModel\n",
    "\n",
    "from joblib import Parallel, delayed"
   ]
  },
  {
   "cell_type": "code",
   "execution_count": 5,
   "id": "fe0a4a46",
   "metadata": {
    "ExecuteTime": {
     "end_time": "2023-05-31T19:57:59.621784Z",
     "start_time": "2023-05-31T19:57:59.568097Z"
    },
    "execution": {
     "iopub.execute_input": "2023-10-04T16:37:18.172738Z",
     "iopub.status.busy": "2023-10-04T16:37:18.171985Z",
     "iopub.status.idle": "2023-10-04T16:37:18.207265Z",
     "shell.execute_reply": "2023-10-04T16:37:18.206818Z",
     "shell.execute_reply.started": "2023-10-04T16:37:18.172681Z"
    },
    "tags": []
   },
   "outputs": [],
   "source": [
    "plt.style.use(FIG_ROOT/\"base.mplstyle\")\n",
    "torch.set_default_tensor_type(torch.DoubleTensor)"
   ]
  },
  {
   "cell_type": "code",
   "execution_count": null,
   "id": "e0cb5a3d-1ab1-4bc0-bfce-d7ebaedb0391",
   "metadata": {},
   "outputs": [],
   "source": []
  },
  {
   "cell_type": "code",
   "execution_count": null,
   "id": "d0af2f35",
   "metadata": {},
   "outputs": [],
   "source": []
  },
  {
   "cell_type": "markdown",
   "id": "dd9c6514",
   "metadata": {},
   "source": [
    "# Param and fns"
   ]
  },
  {
   "cell_type": "code",
   "execution_count": null,
   "id": "a10d559c-8d6a-428a-bdb9-23c0a5aac96b",
   "metadata": {},
   "outputs": [],
   "source": []
  },
  {
   "cell_type": "markdown",
   "id": "21e4ccea",
   "metadata": {},
   "source": [
    "## Params"
   ]
  },
  {
   "cell_type": "code",
   "execution_count": 97,
   "id": "fd29f0de",
   "metadata": {
    "ExecuteTime": {
     "end_time": "2023-05-31T23:31:16.397628Z",
     "start_time": "2023-05-31T23:31:16.221812Z"
    },
    "execution": {
     "iopub.execute_input": "2023-10-04T16:53:35.001589Z",
     "iopub.status.busy": "2023-10-04T16:53:35.001000Z",
     "iopub.status.idle": "2023-10-04T16:53:35.068874Z",
     "shell.execute_reply": "2023-10-04T16:53:35.068141Z",
     "shell.execute_reply.started": "2023-10-04T16:53:35.001543Z"
    },
    "tags": []
   },
   "outputs": [
    {
     "name": "stdout",
     "output_type": "stream",
     "text": [
      "[ 0.          0.          0.          0.          0.          0.\n",
      "  0.          0.          0.         14.87358566]\n",
      "[0.         0.         0.         0.         0.         0.\n",
      " 0.         0.         0.         1.08287322]\n"
     ]
    }
   ],
   "source": [
    "np.random.seed(0)\n",
    "paras = edict(def_paras.copy())\n",
    "\n",
    "\n",
    "\n",
    "# Others\n",
    "paras.num_rep = 200 \n",
    "paras.init_noise_sd = -1 # the sd of the noise added to the true value for initial values, if -1, make init 0\n",
    "paras.SIS_ratio = 0.20 # the ratio to keep with SIS procedure\n",
    "paras.linear_theta_update=\"cholesky_inv\"\n",
    "paras.is_center = True\n",
    "\n",
    "# candidate sets of tuning parameters, only two \n",
    "# lambda: penalty term\n",
    "# N: num of basis\n",
    "paras.can_Ns = [4, 6, 8, 10, 12]\n",
    "\n",
    "\n",
    "# generating dataset\n",
    "paras.n = 100 # num of data obs to be genareted\n",
    "paras.npts = 100 # num of pts to evaluate X(s)\n",
    "paras.d = 10 # num of ROIs\n",
    "paras.q = 1 # num of other covariates\n",
    "paras.sigma2 = 1 # variance of the error\n",
    "paras.types_ = [\"int\"]\n",
    "paras.srho = 0.3 # corr from sinica\n",
    "\n",
    "# b-spline\n",
    "paras.x = np.linspace(0, 1, paras.npts)\n",
    "paras.basis_mats = []\n",
    "for N in paras.can_Ns:\n",
    "    paras.basis_mats.append(\n",
    "        #torch.tensor(obt_bsp_basis_Rfn_wrapper(paras.x, N, paras.ord)).to(torch.get_default_dtype())\n",
    "        torch.tensor(obt_bsp_obasis_Rfn(paras.x, N, paras.ord)).to(torch.get_default_dtype())\n",
    "    )\n",
    "\n",
    "# True parameters\n",
    "paras.alp_GT = np.array([0])\n",
    "# fourier basis\n",
    "cs = [0.0, 0.0, 0.0] # for sinica paper\n",
    "paras.fourier_basis = fourier_basis_fn(paras.x)[:, :]\n",
    "paras.fourier_basis_coefs = ([cs[0]*coef_fn(0.2), cs[1]*coef_fn(0.2), cs[2]*coef_fn(0.2)] + \n",
    "                             [np.zeros(50)] * (paras.d-3-1) +\n",
    "                             [coef_fn(0.2)]\n",
    "                             )\n",
    "paras.fourier_basis_coefs = np.array(paras.fourier_basis_coefs).T \n",
    "paras.beta_GT = paras.fourier_basis @ paras.fourier_basis_coefs\n",
    "print(np.linalg.norm(paras.beta_GT, axis=0))\n",
    "\n",
    "paras.Gam_GT_ests = [(np.linalg.inv(basis_mat.numpy().T \n",
    "                                  @ basis_mat.numpy()) \n",
    "                                  @ basis_mat.numpy().T \n",
    "                                  @ paras.beta_GT) \n",
    "                     for basis_mat in paras.basis_mats]\n",
    "print(np.linalg.norm(paras.Gam_GT_ests[0], axis=0))\n",
    "\n",
    "paras.num_cv_fold = 5\n",
    "\n",
    "\n",
    "# hypothesis test\n",
    "#without loss of generality, we assume the idxs in M is the first m betas\n",
    "paras.sel_idx = np.arange(1, paras.d) # M^c set, \n",
    "paras.M_idxs = np.delete(np.arange(paras.d), paras.sel_idx) # the M set\n",
    "paras.Cmats = [\n",
    "    np.eye(len(paras.M_idxs)), # m x m I matrix, [beta1, beta2] = [0, 0]\n",
    "]\n",
    "paras.svdinv_eps_Q = 1e-6 # now 0 means inverse, small value like 0.01 means remove small eig vals.\n",
    "paras.svdinv_eps_Psi = 1e-6"
   ]
  },
  {
   "cell_type": "code",
   "execution_count": 67,
   "id": "75dc09a0",
   "metadata": {
    "execution": {
     "iopub.execute_input": "2023-10-04T16:47:56.141468Z",
     "iopub.status.busy": "2023-10-04T16:47:56.140894Z",
     "iopub.status.idle": "2023-10-04T16:47:56.181514Z",
     "shell.execute_reply": "2023-10-04T16:47:56.180824Z",
     "shell.execute_reply.started": "2023-10-04T16:47:56.141425Z"
    },
    "tags": []
   },
   "outputs": [],
   "source": [
    "paras.save_dir = RES_ROOT/\"simu_linear_sinica_samebetaX_tmp\"\n",
    "if not paras.save_dir.exists():\n",
    "    paras.save_dir.mkdir()"
   ]
  },
  {
   "cell_type": "code",
   "execution_count": null,
   "id": "75e10fd4",
   "metadata": {},
   "outputs": [],
   "source": []
  },
  {
   "cell_type": "markdown",
   "id": "66c2f90f",
   "metadata": {
    "ExecuteTime": {
     "end_time": "2022-12-08T18:09:55.509389Z",
     "start_time": "2022-12-08T18:09:55.343396Z"
    }
   },
   "source": [
    "## Fns"
   ]
  },
  {
   "cell_type": "code",
   "execution_count": null,
   "id": "1de5567c-6bab-438d-971c-0e40b0c4c53d",
   "metadata": {
    "ExecuteTime": {
     "end_time": "2023-05-31T23:31:24.456489Z",
     "start_time": "2023-05-31T23:31:24.440199Z"
    },
    "code_folding": [],
    "tags": []
   },
   "outputs": [],
   "source": []
  },
  {
   "cell_type": "code",
   "execution_count": 8,
   "id": "0f30b88f",
   "metadata": {
    "ExecuteTime": {
     "end_time": "2023-05-31T23:31:24.456489Z",
     "start_time": "2023-05-31T23:31:24.440199Z"
    },
    "code_folding": [],
    "execution": {
     "iopub.execute_input": "2023-10-04T16:37:20.578165Z",
     "iopub.status.busy": "2023-10-04T16:37:20.577570Z",
     "iopub.status.idle": "2023-10-04T16:37:20.620466Z",
     "shell.execute_reply": "2023-10-04T16:37:20.619822Z",
     "shell.execute_reply.started": "2023-10-04T16:37:20.578119Z"
    },
    "tags": []
   },
   "outputs": [],
   "source": [
    "def _gen_simu_data_all(seed, paras, verbose=False):\n",
    "    \"\"\"\n",
    "    Generate simulated data for all parameters.\n",
    "\n",
    "    Args:\n",
    "        seed (int): Seed for random number generator.\n",
    "        paras (dict): Dictionary containing the following parameters:\n",
    "            - srho: corr from sinica\n",
    "            - fourier_basis: The fourier basis for generating X, npts x nbasis\n",
    "            - n (int): Number of samples.\n",
    "            - d (int): Number of dimensions.\n",
    "            - q (int): Number of covariates.\n",
    "            - types_ (list): List of types for generating covariates.\n",
    "            - alp_GT (list): List of ground truth alpha values.\n",
    "            - beta_GT (list): List of ground truth beta values.\n",
    "            - freqs (list): List of frequencies for generating simulated PSD.\n",
    "            - sigma2 (float): Variance of the noise.\n",
    "        verbose(bool): Verbose or not\n",
    "\n",
    "    Returns:\n",
    "        all_data (dict): Dictionary containing the following simulated data:\n",
    "            - X (torch.Tensor): Tensor of shape (n, d, npts) containing the simulated PSD.\n",
    "            - Y (torch.Tensor): Tensor of shape (n,) containing the response variable.\n",
    "            - Z (torch.Tensor): Tensor of shape (n, q) containing the covariates.\n",
    "    \"\"\"\n",
    "    torch.set_default_tensor_type(torch.DoubleTensor)\n",
    "    np.random.seed(seed)\n",
    "    _paras = edict(paras.copy())\n",
    "    # simulated PSD\n",
    "    assert len(_paras.types_) == _paras.q\n",
    "    assert len(_paras.alp_GT) == _paras.q\n",
    "   \n",
    "    thetas = gen_sini_Xthetas(_paras.srho, _paras.n, _paras.d);\n",
    "    simu_curvs = thetas @ _paras.fourier_basis.T; # n x d x npts\n",
    "    #simu_curvs = np.random.randn(_paras.n, _paras.d, _paras.npts)*10\n",
    "    simu_covs = gen_covs(_paras.n, _paras.types_)\n",
    "    \n",
    "    # linear term and Y\n",
    "    int_part = np.sum(_paras.beta_GT.T* simu_curvs[:, :, :], axis=1).mean(axis=1)\n",
    "    cov_part = simu_covs @ _paras.alp_GT \n",
    "    \n",
    "    # linear term\n",
    "    lin_term = cov_part + int_part\n",
    "    \n",
    "    # Y \n",
    "    errs_raw = np.random.lognormal(0, 1, _paras.n)\n",
    "    errs = np.sqrt(_paras.sigma2)*(errs_raw - errs_raw.mean())/errs_raw.std()  \n",
    "    errs = np.sqrt(_paras.sigma2)*np.random.randn(_paras.n)\n",
    "    Y = lin_term + errs\n",
    "    \n",
    "    Y_centered = Y - Y.mean(axis=0, keepdims=True)\n",
    "    X_centered = simu_curvs - simu_curvs.mean(axis=0, keepdims=True)\n",
    "    \n",
    "    # To torch\n",
    "    X = torch.Tensor(X_centered) # n x d x npts\n",
    "    Z = torch.Tensor(simu_covs) # n x q\n",
    "    Y = torch.Tensor(Y_centered)\n",
    "    \n",
    "    all_data = edict()\n",
    "    all_data.X = X\n",
    "    all_data.Y = Y\n",
    "    all_data.Z = Z\n",
    "    all_data.errs = errs\n",
    "    return all_data"
   ]
  },
  {
   "cell_type": "code",
   "execution_count": null,
   "id": "96fd3e30",
   "metadata": {},
   "outputs": [],
   "source": []
  },
  {
   "cell_type": "markdown",
   "id": "e4043966",
   "metadata": {},
   "source": [
    "# Simu"
   ]
  },
  {
   "cell_type": "code",
   "execution_count": null,
   "id": "be9dad8c-0fcf-4d93-b3b9-d9dc5d2dfe77",
   "metadata": {},
   "outputs": [],
   "source": []
  },
  {
   "cell_type": "markdown",
   "id": "8148a0dd-0b8b-4f04-a43a-a75cfd20ae1f",
   "metadata": {},
   "source": [
    "## Simulation"
   ]
  },
  {
   "cell_type": "code",
   "execution_count": 77,
   "id": "707f8156-9d1f-4e74-aaf8-1b59829b2332",
   "metadata": {
    "execution": {
     "iopub.execute_input": "2023-10-04T16:50:42.576024Z",
     "iopub.status.busy": "2023-10-04T16:50:42.575393Z",
     "iopub.status.idle": "2023-10-04T16:50:42.619731Z",
     "shell.execute_reply": "2023-10-04T16:50:42.618647Z",
     "shell.execute_reply.started": "2023-10-04T16:50:42.575975Z"
    },
    "tags": []
   },
   "outputs": [],
   "source": [
    "# this file contains fns for CV\n",
    "from hdf_utils.likelihood import obt_lin_tm\n",
    "\n",
    "\n",
    "def CV_err_linear_fn_nopen(data, num_cv_fold, input_paras={}):\n",
    "    \n",
    "    # default parameter\n",
    "    _paras = {\n",
    "        \"sigma2\": 1,\n",
    "        \"basis_mat\": None,\n",
    "        'is_center': True}\n",
    "    _paras = edict(_paras)\n",
    "    _paras.update(input_paras)\n",
    "    \n",
    "    _paras.n = data.Y.shape[0]\n",
    "    \n",
    "    # initial value\n",
    "    \n",
    "    num_test = int(_paras.n/num_cv_fold)\n",
    "    full_idx = np.arange(_paras.n)\n",
    "    test_Y_err_all = []\n",
    "    for ix in range(num_cv_fold):\n",
    "        test_idx = full_idx[(ix*num_test):(ix*num_test+num_test)]\n",
    "        if ix == num_cv_fold-1:\n",
    "            test_idx = full_idx[(ix*num_test):] # including all remaining data\n",
    "        train_idx = np.delete(full_idx, test_idx)\n",
    "        \n",
    "        test_set_X = data.X[test_idx]\n",
    "        test_set_Y = data.Y[test_idx]\n",
    "        test_set_Z = data.Z[test_idx]\n",
    "        \n",
    "        train_set_X = data.X[train_idx]\n",
    "        train_set_Y = data.Y[train_idx]\n",
    "        train_set_Z = data.Z[train_idx]\n",
    "        \n",
    "        if _paras.is_center:\n",
    "            test_set_X = test_set_X - train_set_X.mean(axis=0, keepdims=True)\n",
    "            test_set_Y = test_set_Y - train_set_Y.mean(axis=0, keepdims=True)\n",
    "            # Now, I do not have time to write code to center Z\n",
    "            # It is a bit tedious, you should exclude intercept and categorical var\n",
    "            #test_set_Z = test_set_Z - train_set_Z.mean(axis=0, keepdims=True)\n",
    "            \n",
    "            train_set_X = train_set_X - train_set_X.mean(axis=0, keepdims=True)\n",
    "            train_set_Y = train_set_Y - train_set_Y.mean(axis=0, keepdims=True)\n",
    "            #train_set_Z = train_set_Z - train_set_Z.mean(axis=0, keepdims=True)\n",
    "        \n",
    "        cur_model = LinearModel(Y=train_set_Y, X=train_set_X, Z=train_set_Z, \n",
    "                        basis_mat=_paras.basis_mat, \n",
    "                        sigma2=_paras.sigma2)\n",
    "        cur_model._linear_term_der();\n",
    "        right_vec = (cur_model.Y.unsqueeze(-1)*cur_model.lin_tm_der).mean(dim=0)\n",
    "        left_mat = cur_model.lin_tm_der.T@cur_model.lin_tm_der/len(cur_model.Y)\n",
    "        #left_mat_inv = torch.linalg.pinv(left_mat, hermitian=True, rtol=1e-2)\n",
    "        left_mat_inv = svd_inverse(left_mat, 0.999)\n",
    "        est_theta = left_mat_inv @ right_vec;\n",
    "        est_alp = est_theta[:_paras.q]\n",
    "        est_Gam = col_vec2mat_fn(est_theta[_paras.q:], _paras.N) * np.sqrt(_paras.N);\n",
    "        \n",
    "        test_Y_est = obt_lin_tm(test_set_Z, test_set_X, est_alp, est_Gam, _paras.basis_mat)\n",
    "        test_Y_err = test_set_Y - test_Y_est\n",
    "        test_Y_err_all.append(test_Y_err.numpy())\n",
    "    test_Y_err_all = np.concatenate(test_Y_err_all)\n",
    "    return test_Y_err_all"
   ]
  },
  {
   "cell_type": "code",
   "execution_count": 78,
   "id": "76868f28-0280-4853-8308-606cdcaa9fd0",
   "metadata": {
    "execution": {
     "iopub.execute_input": "2023-10-04T16:50:42.930088Z",
     "iopub.status.busy": "2023-10-04T16:50:42.929514Z",
     "iopub.status.idle": "2023-10-04T16:50:42.966872Z",
     "shell.execute_reply": "2023-10-04T16:50:42.966217Z",
     "shell.execute_reply.started": "2023-10-04T16:50:42.930044Z"
    },
    "tags": []
   },
   "outputs": [],
   "source": [
    "def get_Amat(k, Cmat, paras):\n",
    "    \"\"\"Get A matrix for hypothesis test\n",
    "        k: Num of elements in S\n",
    "        Cmat: Hypothesis matrix\n",
    "        paras: parameters\n",
    "                required: N, m, q\n",
    "    \"\"\"\n",
    "    _paras = edict(paras.copy())\n",
    "    \n",
    "    m = Cmat.shape[-1]\n",
    "    part1 = np.kron(Cmat, np.eye(_paras.N))\n",
    "    part2 = np.zeros((m*_paras.N, _paras.q+(m+k)*_paras.N))\n",
    "    part2[:, _paras.q:(_paras.q+m*_paras.N)] = np.eye(m*_paras.N)\n",
    "    A = part1 @ part2\n",
    "    return A\n",
    "\n",
    "def obt_test_stat_nopen(Q_mat, Sig_mat, est_alp, est_Gam, Cmat, paras):\n",
    "    \n",
    "    _paras = edict(paras.copy())\n",
    "    est_theta = torch.cat([est_alp, col_vec_fn(est_Gam)/np.sqrt(_paras.N)])\n",
    "    \n",
    "    nonzero_idxs = torch.nonzero(torch.norm(est_Gam, dim=0)).reshape(-1).numpy()\n",
    "    \n",
    "    # A mat\n",
    "    k = len(np.setdiff1d(nonzero_idxs, _paras.M_idxs))\n",
    "    Amat = torch.Tensor(get_Amat(k, Cmat, _paras))\n",
    "    \n",
    "    # calculate Test stats\n",
    "    #Q_mat_part_inv = torch.linalg.pinv(Q_mat)\n",
    "    Q_mat_part_inv = svd_inverse(Q_mat, 0.999)\n",
    "    #Q_mat_part_inv = torch.linalg.pinv(Q_mat, hermitian=True, rtol=_paras.svdinv_eps_Q)\n",
    "    #print(Amat.shape, Sig_mat.shape, Q_mat_part_inv.shape)\n",
    "    Psi = Amat @ Q_mat_part_inv @ Sig_mat @ Q_mat_part_inv @ Amat.T\n",
    "    #print(torch.linalg.cond(Psi))\n",
    "    #Psi_inv = torch.linalg.pinv(Psi)\n",
    "    Psi_inv = svd_inverse(Psi, 0.999)\n",
    "    #Psi_inv = torch.linalg.pinv(Psi, hermitian=True, rtol=_paras.svdinv_eps_Psi)\n",
    "    \n",
    "    T_p1 = Amat @ est_theta\n",
    "    T_v = T_p1 @ Psi_inv @ T_p1 * _paras.n \n",
    "    T_v = T_v.item()\n",
    "    pval = chi2.sf(T_v, Cmat.shape[0]*_paras.N)\n",
    "    return T_v, pval"
   ]
  },
  {
   "cell_type": "code",
   "execution_count": 79,
   "id": "63323f55-1186-4815-a98e-e6cac1d0f134",
   "metadata": {
    "execution": {
     "iopub.execute_input": "2023-10-04T16:50:43.370520Z",
     "iopub.status.busy": "2023-10-04T16:50:43.370004Z",
     "iopub.status.idle": "2023-10-04T16:50:43.409681Z",
     "shell.execute_reply": "2023-10-04T16:50:43.408610Z",
     "shell.execute_reply.started": "2023-10-04T16:50:43.370478Z"
    },
    "tags": []
   },
   "outputs": [],
   "source": [
    "def _run_fn(seed, N, Cmat, paras, is_cv=False):\n",
    "    _paras = edict(paras.copy())\n",
    "    _paras.seed = seed\n",
    "    _paras.N = N\n",
    "    _paras.basis_mat = _paras.basis_mats[_paras.can_Ns.index(_paras.N)]\n",
    "    _paras.Gam_GT_est = paras.Gam_GT_ests[_paras.can_Ns.index(_paras.N)]\n",
    "    cur_data = _gen_simu_data_all(_paras.seed, _paras);\n",
    "    \n",
    "    #oracle_idx_set = [0, 1, _paras.d-1]\n",
    "    cur_data_oracle = edict(cur_data.copy())\n",
    "    #cur_data_oracle.X = cur_data.X[:, oracle_idx_set, :]\n",
    "    \n",
    "    model = LinearModel(Y=cur_data_oracle.Y, \n",
    "                        X=cur_data_oracle.X,\n",
    "                        Z=cur_data_oracle.Z, \n",
    "                        basis_mat=_paras.basis_mat, \n",
    "                        sigma2=_paras.sigma2)\n",
    "    model._linear_term_der();\n",
    "    #right_vec = (model.Y.unsqueeze(-1)*model.lin_tm_der).mean(dim=0)\n",
    "    #left_mat = model.lin_tm_der.T@model.lin_tm_der/len(model.Y)\n",
    "    #left_mat_inv = torch.linalg.pinv(left_mat, hermitian=True, rtol=1e-2)\n",
    "    #est_theta = left_mat_inv @ right_vec;\n",
    "    Xt = model.lin_tm_der # Mx(q+dN)\n",
    "    est_theta = svd_inverse(Xt.T @ Xt,0.999)@Xt.T@model.Y\n",
    "    #est_theta = torch.linalg.pinv(Xt.T @ Xt, hermitian=True, rtol=1e-2)@Xt.T@model.Y\n",
    "    est_alp = est_theta[:_paras.q]\n",
    "    est_Gam = col_vec2mat_fn(est_theta[_paras.q:], _paras.N) * np.sqrt(_paras.N);\n",
    "    est_beta = _paras.basis_mat @ est_Gam;\n",
    "    \n",
    "    Q_mat = -model.log_lik_der2(est_alp, est_Gam)\n",
    "    model.log_lik_der1(est_alp, est_Gam);\n",
    "    Sig_mat = (model.log_lik_der1_vs.unsqueeze(-1) * model.log_lik_der1_vs.unsqueeze(1)).mean(axis=0);\n",
    "    \n",
    "    test_res = obt_test_stat_nopen(Q_mat, Sig_mat, est_alp, est_Gam, Cmat, _paras);\n",
    "    \n",
    "    if is_cv:\n",
    "        cv_errs = CV_err_linear_fn_nopen(cur_data_oracle, 5, _paras);\n",
    "    else:\n",
    "        cv_errs = None\n",
    "    \n",
    "    ress = edict()\n",
    "    ress.test_res = test_res\n",
    "    ress.cv_errs = cv_errs\n",
    "    ress.est_alp = est_alp\n",
    "    ress.est_Gam = est_Gam\n",
    "    ress.est_beta = est_beta\n",
    "    ress.N = _paras.N\n",
    "    ress.seed = _paras.seed\n",
    "    ress.Q_mat = Q_mat\n",
    "    return ress"
   ]
  },
  {
   "cell_type": "code",
   "execution_count": null,
   "id": "c09df383-9eda-4735-95a2-2b448811a862",
   "metadata": {},
   "outputs": [],
   "source": []
  },
  {
   "cell_type": "markdown",
   "id": "e5b77543-068c-4e1d-9ee6-f17783aab3e3",
   "metadata": {
    "tags": []
   },
   "source": [
    "## Test"
   ]
  },
  {
   "cell_type": "code",
   "execution_count": 260,
   "id": "93fd619b-a118-4611-9e1a-608f19a46a95",
   "metadata": {
    "execution": {
     "iopub.execute_input": "2023-10-04T16:34:37.891657Z",
     "iopub.status.busy": "2023-10-04T16:34:37.890941Z",
     "iopub.status.idle": "2023-10-04T16:34:46.776291Z",
     "shell.execute_reply": "2023-10-04T16:34:46.775142Z",
     "shell.execute_reply.started": "2023-10-04T16:34:37.891608Z"
    },
    "tags": []
   },
   "outputs": [
    {
     "name": "stderr",
     "output_type": "stream",
     "text": [
      "100%|█████████████████████████████████████████████████████████████████████████████████████████████████████████████████████████████████████| 1000/1000 [00:08<00:00, 119.46it/s]\n"
     ]
    }
   ],
   "source": [
    "Cmat = np.eye(1)\n",
    "N = 10\n",
    "paras.num_rep = 1000\n",
    "with Parallel(n_jobs=20) as parallel:\n",
    "    ress = parallel(delayed(_run_fn)(seed,  N=N, Cmat=Cmat, paras=paras)\n",
    "                    for seed\n",
    "                    in tqdm(range(paras.num_rep), total=paras.num_rep))\n"
   ]
  },
  {
   "cell_type": "code",
   "execution_count": 261,
   "id": "a449b695-d0c1-4505-bca2-bbced95404d1",
   "metadata": {
    "execution": {
     "iopub.execute_input": "2023-10-04T16:34:47.088681Z",
     "iopub.status.busy": "2023-10-04T16:34:47.088143Z",
     "iopub.status.idle": "2023-10-04T16:34:47.541337Z",
     "shell.execute_reply": "2023-10-04T16:34:47.540896Z",
     "shell.execute_reply.started": "2023-10-04T16:34:47.088634Z"
    },
    "tags": []
   },
   "outputs": [
    {
     "data": {
      "text/plain": [
       "16727899054.068024"
      ]
     },
     "execution_count": 261,
     "metadata": {},
     "output_type": "execute_result"
    }
   ],
   "source": [
    "np.median([torch.linalg.cond(res.Q_mat).mean() for res in ress])"
   ]
  },
  {
   "cell_type": "code",
   "execution_count": 262,
   "id": "5ddd1427-3b35-4d87-9028-0aa4e13bb3a9",
   "metadata": {
    "execution": {
     "iopub.execute_input": "2023-10-04T16:34:48.217022Z",
     "iopub.status.busy": "2023-10-04T16:34:48.216477Z",
     "iopub.status.idle": "2023-10-04T16:34:48.259484Z",
     "shell.execute_reply": "2023-10-04T16:34:48.258828Z",
     "shell.execute_reply.started": "2023-10-04T16:34:48.216977Z"
    },
    "tags": []
   },
   "outputs": [],
   "source": [
    "pvals = np.array([res.test_res[1] for res in ress])\n",
    "T_vs = np.array([res.test_res[0] for res in ress]);"
   ]
  },
  {
   "cell_type": "code",
   "execution_count": 263,
   "id": "63670725-f6ba-441d-91b6-c7ffa6e57d5d",
   "metadata": {
    "execution": {
     "iopub.execute_input": "2023-10-04T16:34:48.738808Z",
     "iopub.status.busy": "2023-10-04T16:34:48.738177Z",
     "iopub.status.idle": "2023-10-04T16:34:48.777666Z",
     "shell.execute_reply": "2023-10-04T16:34:48.776562Z",
     "shell.execute_reply.started": "2023-10-04T16:34:48.738752Z"
    },
    "tags": []
   },
   "outputs": [
    {
     "data": {
      "text/plain": [
       "(9.317855350836515, 0.063)"
      ]
     },
     "execution_count": 263,
     "metadata": {},
     "output_type": "execute_result"
    }
   ],
   "source": [
    "np.mean(T_vs), np.mean(pvals<=0.05)"
   ]
  },
  {
   "cell_type": "code",
   "execution_count": 264,
   "id": "fdea0e07-1ea3-42bc-817a-0ad76b28f36f",
   "metadata": {
    "execution": {
     "iopub.execute_input": "2023-10-04T16:34:49.653950Z",
     "iopub.status.busy": "2023-10-04T16:34:49.653410Z",
     "iopub.status.idle": "2023-10-04T16:34:49.879322Z",
     "shell.execute_reply": "2023-10-04T16:34:49.878902Z",
     "shell.execute_reply.started": "2023-10-04T16:34:49.653906Z"
    },
    "tags": []
   },
   "outputs": [
    {
     "data": {
      "text/plain": [
       "<matplotlib.legend.Legend at 0x7f4e5830e160>"
      ]
     },
     "execution_count": 264,
     "metadata": {},
     "output_type": "execute_result"
    },
    {
     "data": {
      "image/png": "[encoded data removed]",
      "text/plain": [
       "<Figure size 1000x500 with 1 Axes>"
      ]
     },
     "metadata": {
      "needs_background": "light"
     },
     "output_type": "display_data"
    }
   ],
   "source": [
    "chi_df = Cmat.shape[0]*N\n",
    "xs = np.linspace(0.1, 100, 100)\n",
    "theo_curvs_log = chi2.logpdf(xs, chi_df);\n",
    "plt.plot(xs, np.exp(theo_curvs_log) , label=\"theoretical\")\n",
    "sns.kdeplot(T_vs, label=\"empirical\")\n",
    "plt.legend()"
   ]
  },
  {
   "cell_type": "code",
   "execution_count": 254,
   "id": "a73bf0e8-5057-4002-ac8f-138cfede43b3",
   "metadata": {
    "execution": {
     "iopub.execute_input": "2023-10-04T16:34:16.132384Z",
     "iopub.status.busy": "2023-10-04T16:34:16.131761Z",
     "iopub.status.idle": "2023-10-04T16:34:16.387260Z",
     "shell.execute_reply": "2023-10-04T16:34:16.386823Z",
     "shell.execute_reply.started": "2023-10-04T16:34:16.132334Z"
    },
    "tags": []
   },
   "outputs": [
    {
     "data": {
      "text/plain": [
       "[<matplotlib.lines.Line2D at 0x7f4e4bd40730>]"
      ]
     },
     "execution_count": 254,
     "metadata": {},
     "output_type": "execute_result"
    },
    {
     "data": {
      "image/png": "[encoded data removed]",
      "text/plain": [
       "<Figure size 1000x500 with 1 Axes>"
      ]
     },
     "metadata": {
      "needs_background": "light"
     },
     "output_type": "display_data"
    }
   ],
   "source": [
    "plt.plot(ress[2].est_beta[:, -1])\n",
    "plt.plot(paras.beta_GT[:, -1])"
   ]
  },
  {
   "cell_type": "code",
   "execution_count": null,
   "id": "a9d9e732-7df0-4e30-8891-58ed1ecf4d7e",
   "metadata": {},
   "outputs": [],
   "source": []
  },
  {
   "cell_type": "markdown",
   "id": "2e313228-659f-4d05-a31b-aeb175e2bd55",
   "metadata": {
    "execution": {
     "iopub.execute_input": "2023-10-03T03:21:33.890201Z",
     "iopub.status.busy": "2023-10-03T03:21:33.889586Z",
     "iopub.status.idle": "2023-10-03T03:21:33.928732Z",
     "shell.execute_reply": "2023-10-03T03:21:33.928024Z",
     "shell.execute_reply.started": "2023-10-03T03:21:33.890157Z"
    }
   },
   "source": [
    "## N simu"
   ]
  },
  {
   "cell_type": "code",
   "execution_count": 98,
   "id": "439f8959-8352-4eca-a997-cb0f06045a22",
   "metadata": {
    "execution": {
     "iopub.execute_input": "2023-10-04T16:53:38.479869Z",
     "iopub.status.busy": "2023-10-04T16:53:38.479268Z",
     "iopub.status.idle": "2023-10-04T16:53:49.113128Z",
     "shell.execute_reply": "2023-10-04T16:53:49.111953Z",
     "shell.execute_reply.started": "2023-10-04T16:53:38.479821Z"
    },
    "tags": []
   },
   "outputs": [
    {
     "name": "stderr",
     "output_type": "stream",
     "text": [
      "100%|█████████████████████████████████████████████████████████████████████████████████████████████████████████████████████████████████████| 1500/1500 [00:10<00:00, 149.03it/s]\n"
     ]
    }
   ],
   "source": [
    "Cmat = np.eye(1)\n",
    "paras.num_rep = 300\n",
    "all_coms = itertools.product(range(0, paras.num_rep), paras.can_Ns)\n",
    "with Parallel(n_jobs=20) as parallel:\n",
    "    ress = parallel(delayed(_run_fn)(seed,  N=N, Cmat=Cmat, paras=paras, is_cv=True)\n",
    "                    for seed, N \n",
    "                    in tqdm(all_coms, total=len(paras.can_Ns)*paras.num_rep))"
   ]
  },
  {
   "cell_type": "code",
   "execution_count": 99,
   "id": "95a75e6e-5d85-45ba-9105-abe2fc50eeaf",
   "metadata": {
    "execution": {
     "iopub.execute_input": "2023-10-04T16:53:51.971345Z",
     "iopub.status.busy": "2023-10-04T16:53:51.970750Z",
     "iopub.status.idle": "2023-10-04T16:53:52.101616Z",
     "shell.execute_reply": "2023-10-04T16:53:52.100390Z",
     "shell.execute_reply.started": "2023-10-04T16:53:51.971299Z"
    },
    "tags": []
   },
   "outputs": [],
   "source": [
    "all_coms = np.array(list(itertools.product(range(0, paras.num_rep), paras.can_Ns)));"
   ]
  },
  {
   "cell_type": "code",
   "execution_count": 100,
   "id": "4196e486-1f32-4421-b922-2fda76def642",
   "metadata": {
    "execution": {
     "iopub.execute_input": "2023-10-04T16:53:53.286843Z",
     "iopub.status.busy": "2023-10-04T16:53:53.286286Z",
     "iopub.status.idle": "2023-10-04T16:53:53.336597Z",
     "shell.execute_reply": "2023-10-04T16:53:53.335754Z",
     "shell.execute_reply.started": "2023-10-04T16:53:53.286775Z"
    },
    "tags": []
   },
   "outputs": [],
   "source": [
    "test_ress = edict()\n",
    "test_ress.pvals = []\n",
    "test_ress.T_vs = []\n",
    "test_ress.sel_Ns = []\n",
    "for seed in range(paras.num_rep):\n",
    "    low_idx, up_idx = seed * len(paras.can_Ns), (seed+1)*len(paras.can_Ns)\n",
    "    press = ress[low_idx:up_idx]\n",
    "    errs = []\n",
    "    for res in press:\n",
    "        err = np.mean((res.cv_errs)**2)\n",
    "        errs.append(err)\n",
    "    min_idx = np.argmin(errs)\n",
    "    bres = press[min_idx]\n",
    "    test_ress.pvals.append(bres.test_res[1])\n",
    "    test_ress.T_vs.append(bres.test_res[0])\n",
    "    test_ress.sel_Ns.append(paras.can_Ns[min_idx])"
   ]
  },
  {
   "cell_type": "code",
   "execution_count": 101,
   "id": "e4f6c15f-783b-45fb-8f66-d62770568149",
   "metadata": {
    "execution": {
     "iopub.execute_input": "2023-10-04T16:53:53.759489Z",
     "iopub.status.busy": "2023-10-04T16:53:53.758976Z",
     "iopub.status.idle": "2023-10-04T16:53:53.796582Z",
     "shell.execute_reply": "2023-10-04T16:53:53.795931Z",
     "shell.execute_reply.started": "2023-10-04T16:53:53.759447Z"
    },
    "tags": []
   },
   "outputs": [
    {
     "data": {
      "text/plain": [
       "0.2633333333333333"
      ]
     },
     "execution_count": 101,
     "metadata": {},
     "output_type": "execute_result"
    }
   ],
   "source": [
    "for key in test_ress.keys():\n",
    "    test_ress[key] = np.array(test_ress[key])\n",
    "np.mean(np.array(test_ress.pvals) <= 0.05)"
   ]
  },
  {
   "cell_type": "code",
   "execution_count": 102,
   "id": "eb516191-695d-4fe6-8d33-0ce1a08d924e",
   "metadata": {
    "execution": {
     "iopub.execute_input": "2023-10-04T16:53:54.737027Z",
     "iopub.status.busy": "2023-10-04T16:53:54.736486Z",
     "iopub.status.idle": "2023-10-04T16:53:54.782261Z",
     "shell.execute_reply": "2023-10-04T16:53:54.781529Z",
     "shell.execute_reply.started": "2023-10-04T16:53:54.736983Z"
    },
    "tags": []
   },
   "outputs": [
    {
     "name": "stdout",
     "output_type": "stream",
     "text": [
      "7.158531537879504 4 266\n",
      "8.67780964267925 6 30\n",
      "17.599898693288583 8 3\n",
      "22.70609044560127 10 1\n"
     ]
    }
   ],
   "source": [
    "N_set = np.unique(test_ress.sel_Ns);\n",
    "for cur_N in N_set:\n",
    "    print(test_ress.T_vs[test_ress.sel_Ns==cur_N].mean(), cur_N, np.sum(test_ress.sel_Ns==cur_N))\n",
    "    "
   ]
  },
  {
   "cell_type": "code",
   "execution_count": 74,
   "id": "471406f2-ca03-4eb6-8d4e-4f4cc6c20f24",
   "metadata": {
    "execution": {
     "iopub.execute_input": "2023-10-04T16:49:02.356280Z",
     "iopub.status.busy": "2023-10-04T16:49:02.355714Z",
     "iopub.status.idle": "2023-10-04T16:49:02.535749Z",
     "shell.execute_reply": "2023-10-04T16:49:02.534987Z",
     "shell.execute_reply.started": "2023-10-04T16:49:02.356234Z"
    },
    "tags": []
   },
   "outputs": [
    {
     "data": {
      "text/plain": [
       "<Axes: ylabel='Density'>"
      ]
     },
     "execution_count": 74,
     "metadata": {},
     "output_type": "execute_result"
    },
    {
     "data": {
      "image/png": "[encoded data removed]",
      "text/plain": [
       "<Figure size 432x288 with 1 Axes>"
      ]
     },
     "metadata": {
      "needs_background": "light"
     },
     "output_type": "display_data"
    }
   ],
   "source": [
    "sns.kdeplot(test_ress.T_vs[test_ress.sel_Ns==6])"
   ]
  },
  {
   "cell_type": "code",
   "execution_count": null,
   "id": "390bc337-d3b1-4ea5-9fc4-151d585c6f97",
   "metadata": {},
   "outputs": [],
   "source": []
  }
 ],
 "metadata": {
  "kernelspec": {
   "display_name": "Python 3 (ipykernel)",
   "language": "python",
   "name": "python3"
  },
  "language_info": {
   "codemirror_mode": {
    "name": "ipython",
    "version": 3
   },
   "file_extension": ".py",
   "mimetype": "text/x-python",
   "name": "python",
   "nbconvert_exporter": "python",
   "pygments_lexer": "ipython3",
   "version": "3.9.7"
  },
  "toc": {
   "base_numbering": 1,
   "nav_menu": {},
   "number_sections": true,
   "sideBar": true,
   "skip_h1_title": false,
   "title_cell": "Table of Contents",
   "title_sidebar": "Contents",
   "toc_cell": false,
   "toc_position": {
    "height": "calc(100% - 180px)",
    "left": "10px",
    "top": "150px",
    "width": "165px"
   },
   "toc_section_display": true,
   "toc_window_display": true
  },
  "toc-autonumbering": true,
  "toc-showtags": false
 },
 "nbformat": 4,
 "nbformat_minor": 5
}
