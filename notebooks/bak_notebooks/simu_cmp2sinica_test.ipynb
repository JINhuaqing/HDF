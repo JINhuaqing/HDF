{
 "cells": [
  {
   "cell_type": "markdown",
   "id": "faf0a805",
   "metadata": {},
   "source": [
    "This file contains python code to compare with sinica paper\n",
    "\n",
    "Plz check the work log (on Aug 23, 2023) in notion. \n",
    "\n",
    "It is under the linear setting"
   ]
  },
  {
   "cell_type": "code",
   "execution_count": 1,
   "id": "02ae980e",
   "metadata": {
    "ExecuteTime": {
     "end_time": "2023-05-31T19:57:23.490285Z",
     "start_time": "2023-05-31T19:57:23.481769Z"
    },
    "execution": {
     "iopub.execute_input": "2023-09-01T09:58:22.863269Z",
     "iopub.status.busy": "2023-09-01T09:58:22.862580Z",
     "iopub.status.idle": "2023-09-01T09:58:22.877020Z",
     "shell.execute_reply": "2023-09-01T09:58:22.875965Z",
     "shell.execute_reply.started": "2023-09-01T09:58:22.863221Z"
    },
    "tags": []
   },
   "outputs": [],
   "source": [
    "import sys\n",
    "sys.path.append(\"../mypkg\")"
   ]
  },
  {
   "cell_type": "code",
   "execution_count": 2,
   "id": "023df78a",
   "metadata": {
    "ExecuteTime": {
     "end_time": "2023-05-31T19:57:34.238839Z",
     "start_time": "2023-05-31T19:57:23.494053Z"
    },
    "execution": {
     "iopub.execute_input": "2023-09-01T09:58:22.878989Z",
     "iopub.status.busy": "2023-09-01T09:58:22.878416Z",
     "iopub.status.idle": "2023-09-01T09:58:25.235702Z",
     "shell.execute_reply": "2023-09-01T09:58:25.234956Z",
     "shell.execute_reply.started": "2023-09-01T09:58:22.878947Z"
    },
    "tags": []
   },
   "outputs": [],
   "source": [
    "import numpy as np\n",
    "import torch\n",
    "import matplotlib.pyplot as plt\n",
    "import seaborn as sns\n",
    "from scipy.stats import pearsonr\n",
    "from numbers import Number\n",
    "import multiprocessing as mp\n",
    "\n",
    "from easydict import EasyDict as edict\n",
    "from tqdm import trange, tqdm\n",
    "from scipy.io import loadmat\n",
    "from pprint import pprint\n",
    "import itertools\n",
    "from scipy.stats import chi2\n"
   ]
  },
  {
   "cell_type": "code",
   "execution_count": 3,
   "id": "053a5249",
   "metadata": {
    "ExecuteTime": {
     "end_time": "2023-05-31T19:57:34.286739Z",
     "start_time": "2023-05-31T19:57:34.245604Z"
    },
    "execution": {
     "iopub.execute_input": "2023-09-01T09:58:25.237599Z",
     "iopub.status.busy": "2023-09-01T09:58:25.237166Z",
     "iopub.status.idle": "2023-09-01T09:58:25.290752Z",
     "shell.execute_reply": "2023-09-01T09:58:25.289817Z",
     "shell.execute_reply.started": "2023-09-01T09:58:25.237577Z"
    },
    "tags": []
   },
   "outputs": [
    {
     "data": {
      "text/plain": [
       "<module 'optimization.opt' from '/data/rajlab1/user_data/jin/MyResearch/HDF_infer/notebooks/../mypkg/optimization/opt.py'>"
      ]
     },
     "execution_count": 3,
     "metadata": {},
     "output_type": "execute_result"
    }
   ],
   "source": [
    "import importlib\n",
    "import optimization.one_step_opt\n",
    "importlib.reload(optimization.one_step_opt)\n",
    "import optimization.opt\n",
    "importlib.reload(optimization.opt)"
   ]
  },
  {
   "cell_type": "code",
   "execution_count": 4,
   "id": "b0aa91b2",
   "metadata": {
    "ExecuteTime": {
     "end_time": "2023-05-31T19:57:59.558229Z",
     "start_time": "2023-05-31T19:57:34.292612Z"
    },
    "execution": {
     "iopub.execute_input": "2023-09-01T09:58:25.292690Z",
     "iopub.status.busy": "2023-09-01T09:58:25.292112Z",
     "iopub.status.idle": "2023-09-01T09:58:26.101670Z",
     "shell.execute_reply": "2023-09-01T09:58:26.100362Z",
     "shell.execute_reply.started": "2023-09-01T09:58:25.292648Z"
    },
    "tags": []
   },
   "outputs": [],
   "source": [
    "from constants import DATA_ROOT, RES_ROOT, FIG_ROOT, MIDRES_ROOT\n",
    "from default_paras import def_paras\n",
    "\n",
    "from hdf_utils.data_gen import gen_covs, gen_simu_psd, gen_simu_ts\n",
    "from hdf_utils.fns import fn1, fn2, fn3, fn4, fn5, zero_fn\n",
    "from hdf_utils.fns_sinica import coef_fn, fourier_basis_fn\n",
    "from hdf_utils.likelihood import obt_lin_tm\n",
    "from hdf_utils.SIS import SIS_linear\n",
    "from hdf_utils.utils import gen_lam_seq\n",
    "from utils.matrix import col_vec_fn, col_vec2mat_fn, conju_grad, svd_inverse\n",
    "from utils.functions import logit_fn\n",
    "from utils.misc import save_pkl, load_pkl\n",
    "from splines import obt_bsp_basis_Rfn, obt_bsp_basis_Rfn_wrapper\n",
    "from projection import euclidean_proj_l1ball\n",
    "from optimization.one_step_opt import OneStepOpt\n",
    "from optimization.cross_validation import CV_err_linear_fn\n",
    "from optimization.opt import optimization\n",
    "from penalties.scad_pen import SCAD\n",
    "from models.linear_model import LinearModel\n",
    "\n",
    "from joblib import Parallel, delayed"
   ]
  },
  {
   "cell_type": "code",
   "execution_count": 5,
   "id": "b9d3cbc6-1ac5-47d6-a0d1-bcbc0be9267e",
   "metadata": {
    "execution": {
     "iopub.execute_input": "2023-09-01T09:58:26.103997Z",
     "iopub.status.busy": "2023-09-01T09:58:26.103242Z",
     "iopub.status.idle": "2023-09-01T09:58:26.147631Z",
     "shell.execute_reply": "2023-09-01T09:58:26.146536Z",
     "shell.execute_reply.started": "2023-09-01T09:58:26.103933Z"
    },
    "tags": []
   },
   "outputs": [],
   "source": [
    "# This will reload all imports as soon as the code changes\n",
    "%load_ext autoreload\n",
    "%autoreload 2"
   ]
  },
  {
   "cell_type": "code",
   "execution_count": 40,
   "id": "fe0a4a46",
   "metadata": {
    "ExecuteTime": {
     "end_time": "2023-05-31T19:57:59.621784Z",
     "start_time": "2023-05-31T19:57:59.568097Z"
    },
    "execution": {
     "iopub.execute_input": "2023-09-01T10:02:19.091414Z",
     "iopub.status.busy": "2023-09-01T10:02:19.090775Z",
     "iopub.status.idle": "2023-09-01T10:02:19.132090Z",
     "shell.execute_reply": "2023-09-01T10:02:19.131429Z",
     "shell.execute_reply.started": "2023-09-01T10:02:19.091366Z"
    },
    "tags": []
   },
   "outputs": [],
   "source": [
    "plt.style.use(FIG_ROOT/\"base.mplstyle\")\n",
    "torch.set_default_tensor_type(torch.DoubleTensor)"
   ]
  },
  {
   "cell_type": "code",
   "execution_count": null,
   "id": "d0af2f35",
   "metadata": {},
   "outputs": [],
   "source": []
  },
  {
   "cell_type": "markdown",
   "id": "dd9c6514",
   "metadata": {},
   "source": [
    "# Param and fns"
   ]
  },
  {
   "cell_type": "markdown",
   "id": "21e4ccea",
   "metadata": {},
   "source": [
    "## Params"
   ]
  },
  {
   "cell_type": "code",
   "execution_count": 55,
   "id": "fd29f0de",
   "metadata": {
    "ExecuteTime": {
     "end_time": "2023-05-31T23:31:16.397628Z",
     "start_time": "2023-05-31T23:31:16.221812Z"
    },
    "execution": {
     "iopub.execute_input": "2023-09-01T10:06:31.146291Z",
     "iopub.status.busy": "2023-09-01T10:06:31.145655Z",
     "iopub.status.idle": "2023-09-01T10:06:31.216729Z",
     "shell.execute_reply": "2023-09-01T10:06:31.215555Z",
     "shell.execute_reply.started": "2023-09-01T10:06:31.146238Z"
    },
    "tags": []
   },
   "outputs": [
    {
     "name": "stdout",
     "output_type": "stream",
     "text": [
      "[36.14273643 36.14273643  0.          0.          0.          0.\n",
      "  0.          0.          0.          0.          0.          0.\n",
      "  0.          0.          0.          0.          0.          0.\n",
      "  0.          0.          0.          0.          0.          0.\n",
      "  0.          0.          0.          0.          0.          0.\n",
      "  0.          0.          0.          0.          0.          0.\n",
      "  0.          0.          0.          0.          0.          0.\n",
      "  0.          0.          0.          0.          0.          0.\n",
      "  0.          0.          0.          0.          0.          0.\n",
      "  0.          0.          0.          0.          0.          0.\n",
      "  0.          0.          0.          0.          0.          0.\n",
      "  0.          0.          0.          0.          0.          0.\n",
      "  0.          0.          0.          0.          0.          0.\n",
      "  0.          0.          0.          0.          0.          0.\n",
      "  0.          0.          0.          0.          0.          0.\n",
      "  0.          0.          0.          0.          0.          0.\n",
      "  0.          0.          0.          0.          0.          0.\n",
      "  0.          0.          0.          0.          0.          0.\n",
      "  0.          0.          0.          0.          0.          0.\n",
      "  0.          0.          0.          0.          0.          0.\n",
      "  0.          0.          0.          0.          0.          0.\n",
      "  0.          0.          0.          0.          0.          0.\n",
      "  0.          0.          0.          0.          0.          0.\n",
      "  0.          0.          0.          0.          0.          0.\n",
      "  0.          0.          0.          0.          0.          0.\n",
      "  0.          0.          0.          0.          0.          0.\n",
      "  0.          0.          0.          0.          0.          0.\n",
      "  0.          0.          0.          0.          0.          0.\n",
      "  0.          0.          0.          0.          0.          0.\n",
      "  0.          0.          0.          0.          0.          0.\n",
      "  0.          0.          0.          0.          0.          0.\n",
      "  0.          0.          0.          0.          0.          0.\n",
      "  0.          0.          0.          0.          0.          0.\n",
      "  0.         92.93068133]\n"
     ]
    }
   ],
   "source": [
    "np.random.seed(0)\n",
    "paras = edict(def_paras.copy())\n",
    "\n",
    "# Others\n",
    "paras.num_rep = 200 \n",
    "paras.freqs = np.linspace(2, 45, 40) # freqs\n",
    "paras.init_noise_sd = 2 # the sd of the noise added to the true value for initial values\n",
    "paras.SIS_ratio = 1 # the ratio to keep with SIS procedure\n",
    "paras.SIS_ratio = 0.20 # the ratio to keep with SIS procedure\n",
    "paras.svdinv_eps_Q = 1\n",
    "paras.svdinv_eps_Psi = 1\n",
    "\n",
    "# candidate sets of tuning parameters, only two \n",
    "# lambda: penalty term\n",
    "# N: num of basis\n",
    "paras.can_lams = gen_lam_seq(1e-2, 32, 15)\n",
    "paras.can_Ns = [6, 8, 10, 12, 14, 16]\n",
    "\n",
    "# generating dataset\n",
    "paras.n = 100 # num of data obs to be genareted\n",
    "paras.npts = len(paras.freqs) # num of pts to evaluate X(s)\n",
    "paras.d = 200 # num of ROIs\n",
    "paras.q = 1 # num of other covariates\n",
    "paras.sigma2 = 0.1 # variance of the error\n",
    "paras.types_ = [\"int\"]\n",
    "\n",
    "# b-spline\n",
    "paras.x = np.linspace(0, 1, paras.npts)\n",
    "paras.basis_mats = []\n",
    "for N in paras.can_Ns:\n",
    "    paras.basis_mats.append(\n",
    "        torch.tensor(obt_bsp_basis_Rfn_wrapper(paras.x, N, paras.ord)).to(torch.get_default_dtype())\n",
    "    )\n",
    "\n",
    "# True parameters\n",
    "paras.alp_GT = np.array([0])\n",
    "# first way, bspline basis\n",
    "#paras.bsp_basis = obt_bsp_basis_Rfn_wrapper(paras.x, 14, paras.ord);\n",
    "#paras.bsp_basis_coefs = np.array([coef_fn(0.3), coef_fn(0.3)] + \n",
    "#                             [np.zeros(50)] * (paras.d-2-2) +\n",
    "#                             [coef_fn(0.7), coef_fn(0.9)]\n",
    "#                             )[:, :paras.bsp_basis.shape[-1]]\n",
    "#paras.beta_GT = paras.bsp_basis @ paras.bsp_basis_coefs.T * 50\n",
    "#print(np.linalg.norm(paras.beta_GT, axis=0))\n",
    "\n",
    "# second way, fourier basis\n",
    "paras.fourier_basis = fourier_basis_fn(paras.x)[:, :]\n",
    "#paras.fourier_basis_coefs = ([coef_fn(0.3), coef_fn(0.3)] + \n",
    "#                             [np.zeros(50)] * (paras.d-2)\n",
    "#                             )\n",
    "paras.fourier_basis_coefs = ([coef_fn(0.3), coef_fn(0.3)] + \n",
    "                             [np.zeros(50)] * (paras.d-2-1) +\n",
    "                             [coef_fn(0.9)]\n",
    "                             )\n",
    "#paras.fourier_basis_coefs = ([np.zeros(50)] * (paras.d-1) +\n",
    "#                             [coef_fn(0.9)]\n",
    "#                             )\n",
    "paras.fourier_basis_coefs = np.array(paras.fourier_basis_coefs).T \n",
    "paras.beta_GT = paras.fourier_basis @ paras.fourier_basis_coefs * 5\n",
    "print(np.linalg.norm(paras.beta_GT, axis=0))\n",
    "\n",
    "paras.Gam_GT_ests = [(np.linalg.inv(basis_mat.numpy().T \n",
    "                                  @ basis_mat.numpy()) \n",
    "                                  @ basis_mat.numpy().T \n",
    "                                  @ paras.beta_GT) \n",
    "                     for basis_mat in paras.basis_mats]\n",
    "\n",
    "# optimization\n",
    "Rmins = [(2*(np.linalg.norm(paras.Gam_GT_ests[ix]\n",
    "                            /np.sqrt(paras.can_Ns[ix]), axis=0).sum() \n",
    "           + np.abs(paras.alp_GT).sum())) \n",
    "        for ix in range(len(paras.can_Ns))]\n",
    "paras.Rmin = np.max(Rmins)\n",
    "#without loss of generality, we assume the idxs in M is the first m betas\n",
    "paras.sel_idx = np.arange(2, paras.d) # M^c set, \n",
    "paras.num_cv_fold = 5\n",
    "paras.Rfct = 2\n",
    "#paras.stop_cv = 5e-5\n",
    "paras.stop_cv = 5e-4\n",
    "#paras.max_iter = 10000\n",
    "paras.max_iter = 5000\n",
    "\n",
    "# hypothesis test\n",
    "paras.M_idxs = np.delete(np.arange(paras.d), paras.sel_idx) # the M set\n",
    "paras.Cmats = [\n",
    "    np.array([1, -1]).reshape(1, 2), # beta1-beta2\n",
    "    np.eye(len(paras.M_idxs)), # m x m I matrix, [beta1, beta2] = [0, 0]\n",
    "    np.array([1, 1]).reshape(1, 2), # beta1+beta2\n",
    "]\n",
    "#paras.def_Cmat = np.eye(len(paras.M_idxs)) # Cmat \\times beta_M(s), r x m\n",
    "#paras.r, paras.m = paras.Cmat.shape\n",
    "#paras.t_vec = np.zeros(paras.Cmat.shape[0]) # t vec, typically it is zero vector\n"
   ]
  },
  {
   "cell_type": "code",
   "execution_count": 29,
   "id": "75dc09a0",
   "metadata": {
    "ExecuteTime": {
     "end_time": "2023-05-31T23:31:22.417895Z",
     "start_time": "2023-05-31T23:31:22.400951Z"
    },
    "execution": {
     "iopub.execute_input": "2023-09-01T10:01:28.176084Z",
     "iopub.status.busy": "2023-09-01T10:01:28.175518Z",
     "iopub.status.idle": "2023-09-01T10:01:28.214609Z",
     "shell.execute_reply": "2023-09-01T10:01:28.213719Z",
     "shell.execute_reply.started": "2023-09-01T10:01:28.176038Z"
    },
    "tags": []
   },
   "outputs": [],
   "source": [
    "paras.save_dir = RES_ROOT/\"simu_linear_sinica_test_tmp\"\n",
    "if not paras.save_dir.exists():\n",
    "    paras.save_dir.mkdir()"
   ]
  },
  {
   "cell_type": "code",
   "execution_count": null,
   "id": "75e10fd4",
   "metadata": {},
   "outputs": [],
   "source": []
  },
  {
   "cell_type": "markdown",
   "id": "66c2f90f",
   "metadata": {
    "ExecuteTime": {
     "end_time": "2022-12-08T18:09:55.509389Z",
     "start_time": "2022-12-08T18:09:55.343396Z"
    }
   },
   "source": [
    "## Fns"
   ]
  },
  {
   "cell_type": "code",
   "execution_count": 30,
   "id": "fea96e90",
   "metadata": {
    "ExecuteTime": {
     "end_time": "2023-05-31T23:31:23.288890Z",
     "start_time": "2023-05-31T23:31:23.282599Z"
    },
    "execution": {
     "iopub.execute_input": "2023-09-01T10:01:28.975137Z",
     "iopub.status.busy": "2023-09-01T10:01:28.974589Z",
     "iopub.status.idle": "2023-09-01T10:01:29.013448Z",
     "shell.execute_reply": "2023-09-01T10:01:29.012424Z",
     "shell.execute_reply.started": "2023-09-01T10:01:28.975092Z"
    },
    "tags": []
   },
   "outputs": [],
   "source": [
    "def MS2idxs(q, N, MS_unions):\n",
    "    \"\"\"This fn is to return the idxs to keep in mat Q, Sigma and vec Theta\n",
    "    \"\"\"\n",
    "    idxs_all = [np.arange(0, q)]\n",
    "    for cur_idx in MS_unions:\n",
    "        idxs_all.append(np.arange(q+cur_idx*N, q+(cur_idx+1)*N))\n",
    "    idxs_all = np.concatenate(idxs_all)\n",
    "    return idxs_all"
   ]
  },
  {
   "cell_type": "code",
   "execution_count": 31,
   "id": "2db5c76b",
   "metadata": {
    "ExecuteTime": {
     "end_time": "2023-05-31T23:31:23.640599Z",
     "start_time": "2023-05-31T23:31:23.633146Z"
    },
    "execution": {
     "iopub.execute_input": "2023-09-01T10:01:29.427305Z",
     "iopub.status.busy": "2023-09-01T10:01:29.426762Z",
     "iopub.status.idle": "2023-09-01T10:01:29.466490Z",
     "shell.execute_reply": "2023-09-01T10:01:29.465468Z",
     "shell.execute_reply.started": "2023-09-01T10:01:29.427260Z"
    },
    "tags": []
   },
   "outputs": [],
   "source": [
    "def get_Amat(k, Cmat, paras):\n",
    "    \"\"\"Get A matrix for hypothesis test\n",
    "        k: Num of elements in S\n",
    "        Cmat: Hypothesis matrix\n",
    "        paras: parameters\n",
    "                required: N, m, q\n",
    "    \"\"\"\n",
    "    _paras = edict(paras.copy())\n",
    "    \n",
    "    m = Cmat.shape[-1]\n",
    "    part1 = np.kron(Cmat, np.eye(_paras.N))\n",
    "    part2 = np.zeros((m*_paras.N, _paras.q+(m+k)*_paras.N))\n",
    "    part2[:, _paras.q:(_paras.q+m*_paras.N)] = np.eye(m*_paras.N)\n",
    "    A = part1 @ part2\n",
    "    return A"
   ]
  },
  {
   "cell_type": "code",
   "execution_count": 32,
   "id": "0f30b88f",
   "metadata": {
    "ExecuteTime": {
     "end_time": "2023-05-31T23:31:24.456489Z",
     "start_time": "2023-05-31T23:31:24.440199Z"
    },
    "code_folding": [],
    "execution": {
     "iopub.execute_input": "2023-09-01T10:01:29.727616Z",
     "iopub.status.busy": "2023-09-01T10:01:29.727102Z",
     "iopub.status.idle": "2023-09-01T10:01:29.773463Z",
     "shell.execute_reply": "2023-09-01T10:01:29.772789Z",
     "shell.execute_reply.started": "2023-09-01T10:01:29.727573Z"
    },
    "tags": []
   },
   "outputs": [],
   "source": [
    "def _is_exists(d, n, seed):\n",
    "    \"\"\"\n",
    "    Check if a file with the given parameters exists.\n",
    "\n",
    "    Args:\n",
    "    d (int): The value of d in the file name.\n",
    "    n (int): The value of n in the file name.\n",
    "    seed (int): The seed value in the file name.\n",
    "\n",
    "    Returns:\n",
    "    bool or Path: Returns the file path if the file exists, otherwise returns False.\n",
    "    \"\"\"\n",
    "    _get_n = lambda fil: int(fil.stem.split(\"-\")[-1])\n",
    "    fils = MIDRES_ROOT.glob(f\"PSD_d-{d}_n*\")\n",
    "    # We do not need fil with n as we know the data with corresponding seed does not exist\n",
    "    fils = [fil for fil in fils if _get_n(fil) !=n]\n",
    "    if len(fils) == 0:\n",
    "        return False\n",
    "    else:\n",
    "        fils = sorted(fils, key=_get_n)\n",
    "        ns = np.array([_get_n(fil) for fil in fils])\n",
    "        idxs = np.where(n <= ns)[0]\n",
    "        if len(idxs) == 0:\n",
    "            return False\n",
    "        else:\n",
    "            fil =fils[idxs[0]]\n",
    "            path = MIDRES_ROOT/fil/f\"seed_{seed}.pkl\"\n",
    "            return path if path.exists() else False\n",
    "def _get_filename(params):\n",
    "    keys = [\"d\", \"n\"]\n",
    "    folder_name = 'PSD_'+'_'.join(f\"{k}-{params[k]}\" for k in keys)\n",
    "    return folder_name + f'/seed_{params.seed}.pkl'\n",
    "def _gen_simu_data_all(seed, paras, verbose=False, is_gen=False):\n",
    "    \"\"\"\n",
    "    Generate simulated data for all parameters.\n",
    "\n",
    "    Args:\n",
    "        seed (int): Seed for random number generator.\n",
    "        paras (dict): Dictionary containing the following parameters:\n",
    "            - n (int): Number of samples.\n",
    "            - d (int): Number of dimensions.\n",
    "            - q (int): Number of covariates.\n",
    "            - types_ (list): List of types for generating covariates.\n",
    "            - alp_GT (list): List of ground truth alpha values.\n",
    "            - beta_GT (list): List of ground truth beta values.\n",
    "            - freqs (list): List of frequencies for generating simulated PSD.\n",
    "            - sigma2 (float): Variance of the noise.\n",
    "        verbose(bool): Verbose or not\n",
    "        is_gen(bool): Only for generating or not. If True, only checking or generating X, not return anything.\n",
    "\n",
    "    Returns:\n",
    "        all_data (dict): Dictionary containing the following simulated data:\n",
    "            - X (torch.Tensor): Tensor of shape (n, d, npts) containing the simulated PSD.\n",
    "            - Y (torch.Tensor): Tensor of shape (n,) containing the response variable.\n",
    "            - Z (torch.Tensor): Tensor of shape (n, q) containing the covariates.\n",
    "    \"\"\"\n",
    "    np.random.seed(seed)\n",
    "    _paras = edict(paras.copy())\n",
    "    # simulated PSD\n",
    "    assert len(_paras.types_) == _paras.q\n",
    "    assert len(_paras.alp_GT) == _paras.q\n",
    "    tmp_paras = edict()\n",
    "    tmp_paras.seed = seed \n",
    "    tmp_paras.n = _paras.n\n",
    "    tmp_paras.d = _paras.d\n",
    "    \n",
    "    file_path = MIDRES_ROOT/_get_filename(tmp_paras)\n",
    "    if file_path.exists():\n",
    "        if is_gen:\n",
    "            return None\n",
    "        simu_curvs = load_pkl(file_path, verbose=verbose)\n",
    "    else:\n",
    "        ofil =  _is_exists(_paras.d, _paras.n, seed)\n",
    "        if ofil:\n",
    "            if is_gen:\n",
    "                return None\n",
    "            simu_curvs = load_pkl(ofil, verbose=verbose)\n",
    "        else:\n",
    "            simu_curvs = gen_simu_psd(_paras.n, _paras.d, _paras.freqs, prior_sd=10, n_jobs=20, is_prog=False)\n",
    "            save_pkl(file_path, simu_curvs, verbose=verbose)\n",
    "    if is_gen:\n",
    "        return None\n",
    "    #simu_curvs = np.random.randn(_paras.n, _paras.d, _paras.npts) * 10\n",
    "    simu_curvs = simu_curvs[:_paras.n]\n",
    "    simu_curvs = simu_curvs + np.random.randn(*simu_curvs.shape)*0.1 # 0.2 (on Aug 25, 2023)\n",
    "    simu_covs = gen_covs(_paras.n, _paras.types_)\n",
    "    \n",
    "    # linear term and Y\n",
    "    int_part = np.sum(_paras.beta_GT.T* simu_curvs[:, :, :], axis=1).mean(axis=1)\n",
    "    cov_part = simu_covs @ _paras.alp_GT \n",
    "    \n",
    "    # linear term\n",
    "    lin_term = cov_part + int_part\n",
    "    \n",
    "    # Y \n",
    "    rvs = np.random.rand(_paras.n)\n",
    "    Y = lin_term + np.random.randn(_paras.n)*np.sqrt(_paras.sigma2)\n",
    "    \n",
    "    # To torch\n",
    "    X = torch.Tensor(simu_curvs) # n x d x npts\n",
    "    Z = torch.Tensor(simu_covs) # n x q\n",
    "    Y = torch.Tensor(Y)\n",
    "    \n",
    "    all_data = edict()\n",
    "    all_data.X = X\n",
    "    all_data.Y = Y\n",
    "    all_data.Z = Z\n",
    "    all_data.lin_term = lin_term\n",
    "    return all_data"
   ]
  },
  {
   "cell_type": "code",
   "execution_count": 33,
   "id": "73e03f1f",
   "metadata": {
    "ExecuteTime": {
     "end_time": "2023-05-31T23:31:25.476103Z",
     "start_time": "2023-05-31T23:31:25.463474Z"
    },
    "code_folding": [
     0
    ],
    "execution": {
     "iopub.execute_input": "2023-09-01T10:01:30.084829Z",
     "iopub.status.busy": "2023-09-01T10:01:30.084320Z",
     "iopub.status.idle": "2023-09-01T10:01:30.123254Z",
     "shell.execute_reply": "2023-09-01T10:01:30.122571Z",
     "shell.execute_reply.started": "2023-09-01T10:01:30.084787Z"
    },
    "tags": []
   },
   "outputs": [],
   "source": [
    "def obt_test_stat(model, est_alp, est_Gam, Cmat, paras):\n",
    "    \"\"\"\n",
    "    Obtain the test statistics via the estimator.\n",
    "\n",
    "    Args:\n",
    "        model: The model you used, LinearModel or LogisticModel\n",
    "        est_alp: Estimated alp parameters\n",
    "        est_Gam: Estimated Gam parameters\n",
    "        Cmat: Hypothesis mat, r x m\n",
    "        paras: Dictionary containing parameters for the test\n",
    "            - N: Number of samples\n",
    "            - M_idxs: Indices of the M set\n",
    "            - q: Number of ROIs\n",
    "            - svdinv_eps_Q: Threshold for SVD inverse of Q matrix\n",
    "            - svdinv_eps_Psi: Threshold for SVD inverse of Psi matrix\n",
    "            - n: Number of observations\n",
    "\n",
    "    Returns:\n",
    "        T_v: Test statistic value\n",
    "    \"\"\"\n",
    "    _paras = edict(paras.copy())\n",
    "    est_theta = torch.cat([est_alp, col_vec_fn(est_Gam)/np.sqrt(_paras.N)])\n",
    "    Q_mat = -model.log_lik_der2(est_alp, est_Gam)\n",
    "    model.log_lik_der1(est_alp, est_Gam);\n",
    "    Sig_mat = (model.log_lik_der1_vs.unsqueeze(-1) * model.log_lik_der1_vs.unsqueeze(1)).mean(axis=0) \n",
    "    # minus sign canceled\n",
    "    \n",
    "    \n",
    "    # obtain the idxs to keep for test\n",
    "    nonzero_idxs = torch.nonzero(torch.norm(est_Gam, dim=0)).reshape(-1).numpy()\n",
    "    MS_unions = np.sort(np.union1d(_paras.M_idxs, nonzero_idxs))\n",
    "    keep_idxs_test = MS2idxs(_paras.q, _paras.N, MS_unions)\n",
    "    \n",
    "    # A mat\n",
    "    k = len(np.setdiff1d(nonzero_idxs, _paras.M_idxs))\n",
    "    Amat = torch.Tensor(get_Amat(k, Cmat, _paras))\n",
    "    \n",
    "    # calculate Test stats\n",
    "    Q_mat_part = Q_mat[keep_idxs_test][:, keep_idxs_test]\n",
    "    if _paras.svdinv_eps_Q >= 1:\n",
    "        Q_mat_part_inv = torch.pinverse(Q_mat_part)\n",
    "    else:\n",
    "        Q_mat_part_inv = svd_inverse(Q_mat_part, _paras.svdinv_eps_Q)\n",
    "    \n",
    "    Sig_mat_part = Sig_mat[keep_idxs_test][:, keep_idxs_test]\n",
    "    Psi = Amat @ Q_mat_part_inv @ Sig_mat_part @ Q_mat_part_inv @ Amat.T\n",
    "    \n",
    "    T_p1 = Amat @ est_theta[keep_idxs_test]\n",
    "    if _paras.svdinv_eps_Psi >= 1:\n",
    "        Psi_inv = torch.pinverse(Psi)\n",
    "    else:\n",
    "        Psi_inv = svd_inverse(Psi, _paras.svdinv_eps_Psi)\n",
    "    T_v = T_p1 @ Psi_inv @ T_p1 * _paras.n \n",
    "    return T_v"
   ]
  },
  {
   "cell_type": "code",
   "execution_count": null,
   "id": "96fd3e30",
   "metadata": {},
   "outputs": [],
   "source": []
  },
  {
   "cell_type": "markdown",
   "id": "e4043966",
   "metadata": {},
   "source": [
    "# Simu"
   ]
  },
  {
   "cell_type": "code",
   "execution_count": null,
   "id": "911af57c",
   "metadata": {},
   "outputs": [],
   "source": []
  },
  {
   "cell_type": "markdown",
   "id": "000c8870-7efb-401a-962f-d867aaffd1f1",
   "metadata": {},
   "source": [
    "## Generate data\n",
    "To avoid nested joblib"
   ]
  },
  {
   "cell_type": "code",
   "execution_count": 82,
   "id": "190cc282-67f5-4a4e-b566-a49e57fa5cb4",
   "metadata": {
    "execution": {
     "iopub.execute_input": "2023-08-24T09:28:06.070043Z",
     "iopub.status.busy": "2023-08-24T09:28:06.069543Z",
     "iopub.status.idle": "2023-08-24T09:28:07.772213Z",
     "shell.execute_reply": "2023-08-24T09:28:07.771606Z",
     "shell.execute_reply.started": "2023-08-24T09:28:06.070016Z"
    },
    "tags": []
   },
   "outputs": [
    {
     "name": "stderr",
     "output_type": "stream",
     "text": [
      "100%|█████████████████████████████████████████████████████████████████████████████████████████████████████████████████████████████████████| 1000/1000 [00:01<00:00, 589.39it/s]\n"
     ]
    }
   ],
   "source": [
    "for seed in trange(paras.num_rep):\n",
    "    _gen_simu_data_all(seed, paras, is_gen=True)"
   ]
  },
  {
   "cell_type": "code",
   "execution_count": null,
   "id": "8294442d-585f-4047-9d99-bd6d6b190490",
   "metadata": {},
   "outputs": [],
   "source": []
  },
  {
   "cell_type": "markdown",
   "id": "09b0ec89-ac82-4079-acc3-6649993a0444",
   "metadata": {
    "tags": []
   },
   "source": [
    "## SIS check (just for check)"
   ]
  },
  {
   "cell_type": "code",
   "execution_count": 13,
   "id": "6b26f159-53c7-4588-8262-53549d388fce",
   "metadata": {
    "execution": {
     "iopub.execute_input": "2023-08-25T09:40:22.156363Z",
     "iopub.status.busy": "2023-08-25T09:40:22.156143Z",
     "iopub.status.idle": "2023-08-25T09:40:22.181862Z",
     "shell.execute_reply": "2023-08-25T09:40:22.181392Z",
     "shell.execute_reply.started": "2023-08-25T09:40:22.156345Z"
    },
    "tags": []
   },
   "outputs": [],
   "source": [
    "def _SIS_fn(seed, SIS_ratio, ridge_pen, N, paras):\n",
    "    torch.set_default_tensor_type(torch.DoubleTensor)\n",
    "    np.random.seed(seed)\n",
    "    torch.manual_seed(seed)\n",
    "        \n",
    "    _paras = edict(paras.copy())\n",
    "    _paras.seed = seed\n",
    "    _paras.N = N\n",
    "    _paras.basis_mat = _paras.basis_mats[_paras.can_Ns.index(N)]\n",
    "    cur_data = _gen_simu_data_all(_paras.seed, _paras)\n",
    "    \n",
    "    # do sure independent screening for dim reduction\n",
    "    if SIS_ratio < 1:\n",
    "        keep_idxs, _  = SIS_linear(cur_data.Y, cur_data.X, cur_data.Z, SIS_ratio, _paras, ridge_pen=ridge_pen)\n",
    "    else:\n",
    "        keep_idxs = _paras.sel_idx\n",
    "    M_idxs = np.delete(np.arange(_paras.d), _paras.sel_idx)\n",
    "    _paras.keep_idxs = np.sort(np.concatenate([M_idxs, keep_idxs]))\n",
    "    return keep_idxs"
   ]
  },
  {
   "cell_type": "code",
   "execution_count": 24,
   "id": "29ab2165-8111-4075-bce8-4ce018022743",
   "metadata": {
    "execution": {
     "iopub.execute_input": "2023-08-25T09:41:34.348417Z",
     "iopub.status.busy": "2023-08-25T09:41:34.347910Z",
     "iopub.status.idle": "2023-08-25T09:41:35.979311Z",
     "shell.execute_reply": "2023-08-25T09:41:35.978592Z",
     "shell.execute_reply.started": "2023-08-25T09:41:34.348388Z"
    },
    "tags": []
   },
   "outputs": [
    {
     "name": "stderr",
     "output_type": "stream",
     "text": [
      "100%|████████████████████████████████████████████████████████████████████████████████████████████████████████████████████████████████████████| 100/100 [00:01<00:00, 87.15it/s]\n"
     ]
    }
   ],
   "source": [
    "with Parallel(n_jobs=10) as parallel:\n",
    "    keep_idxss = parallel(delayed(_SIS_fn)(seed, 0.2, ridge_pen=0.002, N=8, paras=paras) for seed in \n",
    "                          tqdm(range(100, 200), total=100))"
   ]
  },
  {
   "cell_type": "code",
   "execution_count": 25,
   "id": "fa326890-75ba-4555-a8e2-5931508a002e",
   "metadata": {
    "execution": {
     "iopub.execute_input": "2023-08-25T09:41:37.044990Z",
     "iopub.status.busy": "2023-08-25T09:41:37.044497Z",
     "iopub.status.idle": "2023-08-25T09:41:37.149346Z",
     "shell.execute_reply": "2023-08-25T09:41:37.148729Z",
     "shell.execute_reply.started": "2023-08-25T09:41:37.044961Z"
    },
    "tags": []
   },
   "outputs": [
    {
     "data": {
      "text/plain": [
       "Text(0.5, 1.0, '[0.67 0.94]')"
      ]
     },
     "execution_count": 25,
     "metadata": {},
     "output_type": "execute_result"
    },
    {
     "data": {
      "image/png": "[encoded data removed]",
      "text/plain": [
       "<Figure size 1000x500 with 1 Axes>"
      ]
     },
     "metadata": {
      "needs_background": "light"
     },
     "output_type": "display_data"
    }
   ],
   "source": [
    "vs, cts = np.unique(np.concatenate(keep_idxss), return_counts=1);\n",
    "cts = cts[np.argsort(vs)]/100\n",
    "vs = np.sort(vs);\n",
    "plt.plot(vs, cts, \".\")\n",
    "plt.title(f\"{cts[vs >197]}\")"
   ]
  },
  {
   "cell_type": "code",
   "execution_count": null,
   "id": "be9dad8c-0fcf-4d93-b3b9-d9dc5d2dfe77",
   "metadata": {},
   "outputs": [],
   "source": []
  },
  {
   "cell_type": "markdown",
   "id": "8148a0dd-0b8b-4f04-a43a-a75cfd20ae1f",
   "metadata": {},
   "source": [
    "## Simulation"
   ]
  },
  {
   "cell_type": "code",
   "execution_count": 56,
   "id": "9f11fd57",
   "metadata": {
    "ExecuteTime": {
     "start_time": "2023-06-01T00:11:00.652Z"
    },
    "code_folding": [],
    "execution": {
     "iopub.execute_input": "2023-09-01T10:06:34.412833Z",
     "iopub.status.busy": "2023-09-01T10:06:34.412081Z",
     "iopub.status.idle": "2023-09-01T10:06:34.461832Z",
     "shell.execute_reply": "2023-09-01T10:06:34.460704Z",
     "shell.execute_reply.started": "2023-09-01T10:06:34.412781Z"
    },
    "scrolled": true,
    "tags": []
   },
   "outputs": [],
   "source": [
    "def _run_fn(seed, lam, N, paras, is_save=False, is_prg=False, is_cv=False):\n",
    "    \"\"\"Now (on Aug 25, 2023), if we keep seed the same, the cur_data is the same. \n",
    "       If you want to make any changes, make sure this. \n",
    "    \"\"\"\n",
    "    torch.set_default_tensor_type(torch.DoubleTensor)\n",
    "    np.random.seed(seed)\n",
    "    torch.manual_seed(seed)\n",
    "        \n",
    "    _paras = edict(paras.copy())\n",
    "    _paras.Rv = _paras.Rfct * _paras.Rmin\n",
    "    _paras.seed = seed\n",
    "    _paras.lam = lam\n",
    "    _paras.N = N\n",
    "    _paras.basis_mat = _paras.basis_mats[_paras.can_Ns.index(N)]\n",
    "    _paras.Gam_GT_est = paras.Gam_GT_ests[_paras.can_Ns.index(N)]\n",
    "    cur_data = _gen_simu_data_all(_paras.seed, _paras)\n",
    "    est_Gam_full = torch.zeros_like(torch.tensor(_paras.Gam_GT_est)).to(torch.get_default_dtype());\n",
    "    \n",
    "    \n",
    "    # do sure independent screening for dim reduction\n",
    "    if _paras.SIS_ratio < 1:\n",
    "        keep_idxs, _  = SIS_linear(cur_data.Y, cur_data.X, cur_data.Z, _paras.basis_mats[-1], \n",
    "                                   _paras.SIS_ratio, _paras, ridge_pen=0.002)\n",
    "    else:\n",
    "        keep_idxs = _paras.sel_idx\n",
    "    M_idxs = np.delete(np.arange(_paras.d), _paras.sel_idx)\n",
    "    _paras.keep_idxs = np.sort(np.concatenate([M_idxs, keep_idxs]))\n",
    "        \n",
    "    _paras.sel_idx_SIS = np.where(np.array([keep_idx in _paras.sel_idx for keep_idx in _paras.keep_idxs]))[0]\n",
    "    _paras.d_SIS = len(_paras.keep_idxs)\n",
    "    \n",
    "    cur_data_SIS = edict(cur_data.copy())\n",
    "    cur_data_SIS.X = cur_data.X[:, _paras.keep_idxs, :]\n",
    "    \n",
    "    \n",
    "    alp_init = torch.Tensor(_paras.alp_GT) + torch.randn(_paras.q)*_paras.init_noise_sd\n",
    "    Gam_init = (torch.Tensor(_paras.Gam_GT_est[:, _paras.keep_idxs]) \n",
    "                + torch.randn(_paras.N, _paras.d_SIS)*_paras.init_noise_sd)\n",
    "    theta_init = torch.cat([alp_init, col_vec_fn(Gam_init)/np.sqrt(_paras.N)])\n",
    "    rhok_init = torch.randn(_paras.d_SIS*_paras.N)\n",
    "        \n",
    "    model = LinearModel(Y=cur_data_SIS.Y, \n",
    "                        X=cur_data_SIS.X, \n",
    "                        Z=cur_data_SIS.Z, \n",
    "                        basis_mat=_paras.basis_mat, \n",
    "                        sigma2=_paras.sigma2)\n",
    "    # 3e0\n",
    "    pen = SCAD(lams=_paras.lam, a=_paras.a,  sel_idx=_paras.sel_idx_SIS)\n",
    "        \n",
    "    \n",
    "    main_res = optimization(model=model, \n",
    "                            penalty=pen, \n",
    "                            inits=[alp_init, Gam_init, theta_init, rhok_init],\n",
    "                            is_prg=is_prg,\n",
    "                            save_paras=False,    \n",
    "                            input_paras=_paras)\n",
    "    \n",
    "    # use a diff initial to reduce the overfitting\n",
    "    alp_init1 = torch.Tensor(_paras.alp_GT) + torch.randn(_paras.q)*_paras.init_noise_sd\n",
    "    Gam_init1 = (torch.Tensor(_paras.Gam_GT_est[:, _paras.keep_idxs]) \n",
    "                + torch.randn(_paras.N, _paras.d_SIS)*_paras.init_noise_sd)\n",
    "    theta_init1 = torch.cat([alp_init, col_vec_fn(Gam_init)/np.sqrt(_paras.N)])\n",
    "    rhok_init1 = torch.randn(_paras.d_SIS*_paras.N)\n",
    "    if is_cv:\n",
    "        cv_errs = CV_err_linear_fn(data=cur_data_SIS, \n",
    "                               penalty=pen, \n",
    "                               num_cv_fold=_paras.num_cv_fold,\n",
    "                               # do not use estimated value for initial, severe overfitting !!! (on Aug 25, 2023)\n",
    "                               inits=[alp_init1, Gam_init1, theta_init1, rhok_init1], \n",
    "                               is_prg=is_prg, \n",
    "                               save_paras=False,    \n",
    "                               input_paras=_paras)\n",
    "    else:\n",
    "        cv_errs = None\n",
    "    \n",
    "    opt = main_res[0]\n",
    "    est_Gam = opt.Gamk\n",
    "    est_alp = opt.alpk\n",
    "    est_theta = torch.cat([est_alp, col_vec_fn(est_Gam)/np.sqrt(_paras.N)])\n",
    "    est_Gam_full[:, _paras.keep_idxs] = est_Gam.clone()\n",
    "    T_vs = [obt_test_stat(model, est_alp, est_Gam, Cmat, _paras).item() for Cmat in _paras.Cmats]\n",
    "    pvals = [chi2.sf(T_v, Cmat.shape[0]*N) for T_v, Cmat in zip(T_vs, _paras.Cmats)]\n",
    "    res = edict()\n",
    "    res.est_alp = est_alp\n",
    "    res.est_Gam = est_Gam_full\n",
    "    res.cv_errs = cv_errs\n",
    "    res.T_vs = T_vs\n",
    "    res.pvals = pvals\n",
    "    res.paras = _paras\n",
    "    res.diag = edict()\n",
    "    if True:\n",
    "        res.diag.cur_data = cur_data\n",
    "        res.diag.keep_idxs = keep_idxs\n",
    "        res.diag.opt = main_res[0]\n",
    "\n",
    "    if is_save:\n",
    "        f_name = f\"seed_{seed:.0f}-lam_{lam*1000:.0f}-N_{N:.0f}.pkl\"\n",
    "        save_pkl(_paras.save_dir/f_name, res, verbose=False)\n",
    "    return res"
   ]
  },
  {
   "cell_type": "code",
   "execution_count": 57,
   "id": "02b6e0bf-c899-477f-91d8-dc19577e7d60",
   "metadata": {
    "execution": {
     "iopub.execute_input": "2023-09-01T10:06:36.540516Z",
     "iopub.status.busy": "2023-09-01T10:06:36.539931Z",
     "iopub.status.idle": "2023-09-01T10:07:56.930469Z",
     "shell.execute_reply": "2023-09-01T10:07:56.929415Z",
     "shell.execute_reply.started": "2023-09-01T10:06:36.540470Z"
    },
    "tags": []
   },
   "outputs": [
    {
     "name": "stderr",
     "output_type": "stream",
     "text": [
      "100%|████████████████████████████████████████████████████████████████████████████████████████████████████████████████████████████████████████| 200/200 [01:01<00:00,  3.23it/s]\n"
     ]
    },
    {
     "name": "stdout",
     "output_type": "stream",
     "text": [
      "The optimization may not converge with stop value 6.137E-04\n",
      "The optimization may not converge with stop value 6.893E-04\n",
      "The optimization may not converge with stop value 1.162E-03\n"
     ]
    }
   ],
   "source": [
    "#paras.a = 2.7\n",
    "N = 6\n",
    "# (10, 0.9, n=500)\n",
    "# (8, 0.8, n=500)\n",
    "# (6, 0.7, n=500)\n",
    "# (6, 1.0, n=100)\n",
    "# (10, 1.5, n=200)\n",
    "lam = 0.8\n",
    "\n",
    "with Parallel(n_jobs=20) as parallel:\n",
    "    ress = parallel(delayed(_run_fn)(seed, lam=lam, N=N, paras=paras, is_save=False) for seed\n",
    "                    in tqdm(range(200), total=200))"
   ]
  },
  {
   "cell_type": "code",
   "execution_count": 39,
   "id": "87483a87-70e9-4ee5-84bd-09886004219a",
   "metadata": {
    "execution": {
     "iopub.execute_input": "2023-08-30T06:36:33.994174Z",
     "iopub.status.busy": "2023-08-30T06:36:33.993578Z",
     "iopub.status.idle": "2023-08-30T06:38:53.122353Z",
     "shell.execute_reply": "2023-08-30T06:38:53.121848Z",
     "shell.execute_reply.started": "2023-08-30T06:36:33.994127Z"
    },
    "tags": []
   },
   "outputs": [
    {
     "name": "stderr",
     "output_type": "stream",
     "text": [
      "100%|████████████████████████████████████████████████████████████████████████████████████████████████████████████████████████████████████████| 100/100 [02:19<00:00,  1.39s/it]\n"
     ]
    }
   ],
   "source": [
    "#lam = 2\n",
    "#N = 10\n",
    "#ress = []\n",
    "#for seed in trange(100):\n",
    "#    res = _run_fn(seed, lam, N, paras,is_prg=False, is_save=0);\n",
    "#    ress.append(res)"
   ]
  },
  {
   "cell_type": "code",
   "execution_count": null,
   "id": "b8b3454b-09d3-4ba8-a528-9e3f1a329ea0",
   "metadata": {},
   "outputs": [],
   "source": []
  },
  {
   "cell_type": "markdown",
   "id": "aed3a777-d3e0-4129-9c8e-100f207e3d68",
   "metadata": {},
   "source": [
    "# Check"
   ]
  },
  {
   "cell_type": "code",
   "execution_count": 58,
   "id": "b6cae88c-4d46-4712-9fb6-393d1176a851",
   "metadata": {
    "execution": {
     "iopub.execute_input": "2023-09-04T03:18:21.691722Z",
     "iopub.status.busy": "2023-09-04T03:18:21.691081Z",
     "iopub.status.idle": "2023-09-04T03:18:21.832891Z",
     "shell.execute_reply": "2023-09-04T03:18:21.831746Z",
     "shell.execute_reply.started": "2023-09-04T03:18:21.691677Z"
    },
    "tags": []
   },
   "outputs": [],
   "source": [
    "from scipy.stats import chi2"
   ]
  },
  {
   "cell_type": "code",
   "execution_count": 64,
   "id": "2e35a348-4a89-4636-b211-b19a487b6ee5",
   "metadata": {
    "execution": {
     "iopub.execute_input": "2023-09-04T03:20:30.698744Z",
     "iopub.status.busy": "2023-09-04T03:20:30.698095Z",
     "iopub.status.idle": "2023-09-04T03:20:30.735520Z",
     "shell.execute_reply": "2023-09-04T03:20:30.734992Z",
     "shell.execute_reply.started": "2023-09-04T03:20:30.698698Z"
    },
    "tags": []
   },
   "outputs": [
    {
     "data": {
      "text/plain": [
       "dict_keys([])"
      ]
     },
     "execution_count": 64,
     "metadata": {},
     "output_type": "execute_result"
    }
   ],
   "source": [
    "ress[0].diag.keys()"
   ]
  },
  {
   "cell_type": "code",
   "execution_count": 59,
   "id": "6536c114-e72a-4d4e-86fd-e6ef82c2b45c",
   "metadata": {
    "execution": {
     "iopub.execute_input": "2023-09-04T03:18:23.357244Z",
     "iopub.status.busy": "2023-09-04T03:18:23.356673Z",
     "iopub.status.idle": "2023-09-04T03:18:23.403516Z",
     "shell.execute_reply": "2023-09-04T03:18:23.403068Z",
     "shell.execute_reply.started": "2023-09-04T03:18:23.357200Z"
    },
    "tags": []
   },
   "outputs": [
    {
     "data": {
      "text/plain": [
       "array([1.   , 1.   , 0.085, 0.07 , 0.085, 0.07 , 0.06 , 0.1  , 0.055,\n",
       "       0.055, 0.08 , 0.045, 0.04 , 0.09 , 0.07 , 0.085, 0.065, 0.035,\n",
       "       0.08 , 0.08 , 0.06 , 0.07 , 0.06 , 0.055, 0.09 , 0.07 , 0.07 ,\n",
       "       0.085, 0.065, 0.045, 0.06 , 0.055, 0.055, 0.065, 0.06 , 0.06 ,\n",
       "       0.065, 0.045, 0.065, 0.08 , 0.04 , 0.075, 0.075, 0.09 , 0.085,\n",
       "       0.07 , 0.065, 0.05 , 0.08 , 0.105, 0.075, 0.07 , 0.065, 0.065,\n",
       "       0.09 , 0.095, 0.08 , 0.065, 0.09 , 0.055, 0.03 , 0.07 , 0.075,\n",
       "       0.07 , 0.065, 0.06 , 0.04 , 0.05 , 0.04 , 0.045, 0.06 , 0.085,\n",
       "       0.065, 0.055, 0.055, 0.055, 0.07 , 0.07 , 0.13 , 0.06 , 0.05 ,\n",
       "       0.085, 0.05 , 0.07 , 0.03 , 0.065, 0.055, 0.04 , 0.075, 0.09 ,\n",
       "       0.05 , 0.06 , 0.065, 0.07 , 0.075, 0.05 , 0.05 , 0.055, 0.065,\n",
       "       0.06 , 0.05 , 0.06 , 0.045, 0.065, 0.095, 0.05 , 0.08 , 0.075,\n",
       "       0.045, 0.07 , 0.05 , 0.085, 0.06 , 0.055, 0.065, 0.045, 0.06 ,\n",
       "       0.075, 0.055, 0.07 , 0.04 , 0.075, 0.08 , 0.055, 0.045, 0.09 ,\n",
       "       0.06 , 0.06 , 0.085, 0.08 , 0.055, 0.09 , 0.05 , 0.065, 0.1  ,\n",
       "       0.045, 0.06 , 0.085, 0.1  , 0.06 , 0.08 , 0.085, 0.05 , 0.055,\n",
       "       0.08 , 0.075, 0.08 , 0.075, 0.08 , 0.07 , 0.075, 0.075, 0.05 ,\n",
       "       0.08 , 0.08 , 0.08 , 0.08 , 0.075, 0.075, 0.075, 0.05 , 0.015,\n",
       "       0.075, 0.035, 0.08 , 0.06 , 0.06 , 0.07 , 0.05 , 0.075, 0.075,\n",
       "       0.075, 0.075, 0.095, 0.075, 0.09 , 0.08 , 0.065, 0.04 , 0.065,\n",
       "       0.065, 0.07 , 0.07 , 0.09 , 0.06 , 0.085, 0.07 , 0.05 , 0.085,\n",
       "       0.06 , 0.045, 0.04 , 0.055, 0.075, 0.05 , 0.065, 0.05 , 0.085,\n",
       "       0.055, 0.985])"
      ]
     },
     "execution_count": 59,
     "metadata": {},
     "output_type": "execute_result"
    }
   ],
   "source": [
    "np.mean([(res.est_Gam.norm(dim=0)!=0).numpy() for res in ress], axis=0)"
   ]
  },
  {
   "cell_type": "code",
   "execution_count": 60,
   "id": "bd61185b-eeb2-442a-8551-633702bf99f0",
   "metadata": {
    "execution": {
     "iopub.execute_input": "2023-09-04T03:18:28.031753Z",
     "iopub.status.busy": "2023-09-04T03:18:28.031102Z",
     "iopub.status.idle": "2023-09-04T03:18:28.083949Z",
     "shell.execute_reply": "2023-09-04T03:18:28.083402Z",
     "shell.execute_reply.started": "2023-09-04T03:18:28.031709Z"
    },
    "tags": []
   },
   "outputs": [
    {
     "ename": "RuntimeError",
     "evalue": "mat1 and mat2 shapes cannot be multiplied (40x16 and 6x200)",
     "output_type": "error",
     "traceback": [
      "\u001b[0;31m---------------------------------------------------------------------------\u001b[0m",
      "\u001b[0;31mRuntimeError\u001b[0m                              Traceback (most recent call last)",
      "\u001b[0;32m/tmp/ipykernel_51611/992006741.py\u001b[0m in \u001b[0;36m<module>\u001b[0;34m\u001b[0m\n\u001b[0;32m----> 1\u001b[0;31m \u001b[0mest_beta\u001b[0m \u001b[0;34m=\u001b[0m \u001b[0mparas\u001b[0m\u001b[0;34m.\u001b[0m\u001b[0mbasis_mats\u001b[0m\u001b[0;34m[\u001b[0m\u001b[0;34m-\u001b[0m\u001b[0;36m1\u001b[0m\u001b[0;34m]\u001b[0m \u001b[0;34m@\u001b[0m \u001b[0mress\u001b[0m\u001b[0;34m[\u001b[0m\u001b[0;36m0\u001b[0m\u001b[0;34m]\u001b[0m\u001b[0;34m.\u001b[0m\u001b[0mest_Gam\u001b[0m\u001b[0;34m;\u001b[0m\u001b[0;34m\u001b[0m\u001b[0;34m\u001b[0m\u001b[0m\n\u001b[0m\u001b[1;32m      2\u001b[0m \u001b[0midx\u001b[0m \u001b[0;34m=\u001b[0m \u001b[0;34m-\u001b[0m\u001b[0;36m1\u001b[0m\u001b[0;34m\u001b[0m\u001b[0;34m\u001b[0m\u001b[0m\n\u001b[1;32m      3\u001b[0m \u001b[0mplt\u001b[0m\u001b[0;34m.\u001b[0m\u001b[0mplot\u001b[0m\u001b[0;34m(\u001b[0m\u001b[0mest_beta\u001b[0m\u001b[0;34m[\u001b[0m\u001b[0;34m:\u001b[0m\u001b[0;34m,\u001b[0m \u001b[0midx\u001b[0m\u001b[0;34m]\u001b[0m\u001b[0;34m,\u001b[0m \u001b[0mlabel\u001b[0m\u001b[0;34m=\u001b[0m\u001b[0;34m\"est\"\u001b[0m\u001b[0;34m)\u001b[0m\u001b[0;34m\u001b[0m\u001b[0;34m\u001b[0m\u001b[0m\n\u001b[1;32m      4\u001b[0m \u001b[0mplt\u001b[0m\u001b[0;34m.\u001b[0m\u001b[0mplot\u001b[0m\u001b[0;34m(\u001b[0m\u001b[0mparas\u001b[0m\u001b[0;34m.\u001b[0m\u001b[0mbeta_GT\u001b[0m\u001b[0;34m[\u001b[0m\u001b[0;34m:\u001b[0m\u001b[0;34m,\u001b[0m \u001b[0midx\u001b[0m\u001b[0;34m]\u001b[0m\u001b[0;34m,\u001b[0m \u001b[0mlabel\u001b[0m\u001b[0;34m=\u001b[0m\u001b[0;34m\"GT\"\u001b[0m\u001b[0;34m)\u001b[0m\u001b[0;34m\u001b[0m\u001b[0;34m\u001b[0m\u001b[0m\n\u001b[1;32m      5\u001b[0m \u001b[0mplt\u001b[0m\u001b[0;34m.\u001b[0m\u001b[0mlegend\u001b[0m\u001b[0;34m(\u001b[0m\u001b[0;34m)\u001b[0m\u001b[0;34m\u001b[0m\u001b[0;34m\u001b[0m\u001b[0m\n",
      "\u001b[0;31mRuntimeError\u001b[0m: mat1 and mat2 shapes cannot be multiplied (40x16 and 6x200)"
     ]
    }
   ],
   "source": [
    "est_beta = paras.basis_mats[-1] @ ress[0].est_Gam; \n",
    "idx = -1\n",
    "plt.plot(est_beta[:, idx], label=\"est\")\n",
    "plt.plot(paras.beta_GT[:, idx], label=\"GT\")\n",
    "plt.legend()"
   ]
  },
  {
   "cell_type": "code",
   "execution_count": 61,
   "id": "ad29df5b-8894-4371-8f99-c02e399359da",
   "metadata": {
    "execution": {
     "iopub.execute_input": "2023-09-04T03:18:29.835200Z",
     "iopub.status.busy": "2023-09-04T03:18:29.834527Z",
     "iopub.status.idle": "2023-09-04T03:18:29.871490Z",
     "shell.execute_reply": "2023-09-04T03:18:29.871035Z",
     "shell.execute_reply.started": "2023-09-04T03:18:29.835155Z"
    },
    "tags": []
   },
   "outputs": [
    {
     "data": {
      "text/plain": [
       "array([0.01 , 0.115, 0.1  ])"
      ]
     },
     "execution_count": 61,
     "metadata": {},
     "output_type": "execute_result"
    }
   ],
   "source": [
    "# pvals\n",
    "pvals = np.array([ res.pvals for res in ress]);\n",
    "np.mean(pvals < 0.05, axis=0)"
   ]
  },
  {
   "cell_type": "code",
   "execution_count": 62,
   "id": "7e6d91b4-0722-4214-bd72-28df75beaeef",
   "metadata": {
    "execution": {
     "iopub.execute_input": "2023-09-04T03:18:33.814619Z",
     "iopub.status.busy": "2023-09-04T03:18:33.813988Z",
     "iopub.status.idle": "2023-09-04T03:18:34.358673Z",
     "shell.execute_reply": "2023-09-04T03:18:34.358218Z",
     "shell.execute_reply.started": "2023-09-04T03:18:33.814576Z"
    },
    "tags": []
   },
   "outputs": [
    {
     "name": "stdout",
     "output_type": "stream",
     "text": [
      "The theoretical mean is 6.0 and the empirical mean is 2.10\n",
      "The theoretical mean is 12.0 and the empirical mean is 11.52\n",
      "The theoretical mean is 6.0 and the empirical mean is 5.53\n"
     ]
    },
    {
     "data": {
      "image/png": "[encoded data removed]",
      "text/plain": [
       "<Figure size 1000x500 with 3 Axes>"
      ]
     },
     "metadata": {
      "needs_background": "light"
     },
     "output_type": "display_data"
    }
   ],
   "source": [
    "# T \n",
    "T_vs = np.array([res.T_vs for res in ress]);\n",
    "rs = [1, 2, 1]\n",
    "\n",
    "for idx in range(3):\n",
    "    chi_df = N * rs[idx]\n",
    "    cur_Tvs = T_vs[:, idx]\n",
    "    sps_from_chi = chi2.rvs(df=chi_df, size=len(cur_Tvs))\n",
    "    \n",
    "    plt.subplot(1, 3, idx+1)\n",
    "    xs = np.linspace(0.1, 100, 100)\n",
    "    theo_curvs_log = chi2.logpdf(xs, chi_df);\n",
    "    plt.plot(xs, np.exp(theo_curvs_log) , label=\"theoretical\")\n",
    "    sns.kdeplot(cur_Tvs, label=\"empirical\")\n",
    "    sns.kdeplot(sps_from_chi, label=\"sps from chi2\")\n",
    "    plt.ylabel(\"\")\n",
    "    plt.xlabel(\"\")\n",
    "    plt.legend(fontsize=10)\n",
    "    print(f\"The theoretical mean is {chi_df:.1f} and the empirical mean is {np.mean(cur_Tvs):.2f}\")"
   ]
  },
  {
   "cell_type": "code",
   "execution_count": 51,
   "id": "cb558d8c-a1cb-45c2-b734-e9c563a7ca09",
   "metadata": {
    "execution": {
     "iopub.execute_input": "2023-08-30T07:39:15.970579Z",
     "iopub.status.busy": "2023-08-30T07:39:15.969934Z",
     "iopub.status.idle": "2023-08-30T07:39:16.505744Z",
     "shell.execute_reply": "2023-08-30T07:39:16.505308Z",
     "shell.execute_reply.started": "2023-08-30T07:39:15.970533Z"
    },
    "tags": []
   },
   "outputs": [
    {
     "name": "stdout",
     "output_type": "stream",
     "text": [
      "The theoretical mean is 20.0 and the empirical mean is 19.52\n",
      "The theoretical mean is 10.0 and the empirical mean is 9.85\n",
      "The theoretical mean is 10.0 and the empirical mean is 9.73\n"
     ]
    },
    {
     "data": {
      "image/png": "[encoded data removed]",
      "text/plain": [
       "<Figure size 1000x500 with 3 Axes>"
      ]
     },
     "metadata": {
      "needs_background": "light"
     },
     "output_type": "display_data"
    }
   ],
   "source": [
    "# T \n",
    "T_vs = np.array([res.T_vs for res in ress]);\n",
    "rs = [2, 1, 1]\n",
    "\n",
    "for idx in range(3):\n",
    "    chi_df = N * rs[idx]\n",
    "    cur_Tvs = T_vs[:, idx]\n",
    "    sps_from_chi = chi2.rvs(df=chi_df, size=len(cur_Tvs))\n",
    "    \n",
    "    plt.subplot(3, 1, idx+1)\n",
    "    xs = np.linspace(0.1, 100, 100)\n",
    "    theo_curvs_log = chi2.logpdf(xs, chi_df);\n",
    "    plt.plot(xs, np.exp(theo_curvs_log) , label=\"theoretical\")\n",
    "    sns.kdeplot(cur_Tvs, label=\"empirical\")\n",
    "    sns.kdeplot(sps_from_chi, label=\"sps from chi2\")\n",
    "    plt.legend(fontsize=10)\n",
    "    print(f\"The theoretical mean is {chi_df:.1f} and the empirical mean is {np.mean(cur_Tvs):.2f}\")"
   ]
  },
  {
   "cell_type": "code",
   "execution_count": null,
   "id": "8479f6df-10b2-479b-a16c-c708db98857f",
   "metadata": {},
   "outputs": [],
   "source": []
  }
 ],
 "metadata": {
  "kernelspec": {
   "display_name": "Python 3 (ipykernel)",
   "language": "python",
   "name": "python3"
  },
  "language_info": {
   "codemirror_mode": {
    "name": "ipython",
    "version": 3
   },
   "file_extension": ".py",
   "mimetype": "text/x-python",
   "name": "python",
   "nbconvert_exporter": "python",
   "pygments_lexer": "ipython3",
   "version": "3.9.7"
  },
  "toc": {
   "base_numbering": 1,
   "nav_menu": {},
   "number_sections": true,
   "sideBar": true,
   "skip_h1_title": false,
   "title_cell": "Table of Contents",
   "title_sidebar": "Contents",
   "toc_cell": false,
   "toc_position": {
    "height": "calc(100% - 180px)",
    "left": "10px",
    "top": "150px",
    "width": "165px"
   },
   "toc_section_display": true,
   "toc_window_display": true
  },
  "toc-autonumbering": true
 },
 "nbformat": 4,
 "nbformat_minor": 5
}
