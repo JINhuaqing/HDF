{
 "cells": [
  {
   "cell_type": "markdown",
   "id": "faf0a805",
   "metadata": {},
   "source": [
    "This file contains python code to analysis the resutls for comparing with sinica paper\n",
    "\n",
    "Here I only extract the results simply and put useful result in a single file. \n",
    "\n",
    "The raw results take too long to load (on Sep 6, 2023)"
   ]
  },
  {
   "cell_type": "code",
   "execution_count": 1,
   "id": "02ae980e",
   "metadata": {
    "ExecuteTime": {
     "end_time": "2023-05-31T19:57:23.490285Z",
     "start_time": "2023-05-31T19:57:23.481769Z"
    },
    "execution": {
     "iopub.execute_input": "2023-09-18T22:44:31.017253Z",
     "iopub.status.busy": "2023-09-18T22:44:31.016378Z",
     "iopub.status.idle": "2023-09-18T22:44:31.031751Z",
     "shell.execute_reply": "2023-09-18T22:44:31.030236Z",
     "shell.execute_reply.started": "2023-09-18T22:44:31.017188Z"
    },
    "tags": []
   },
   "outputs": [],
   "source": [
    "import sys\n",
    "sys.path.append(\"../mypkg\")"
   ]
  },
  {
   "cell_type": "code",
   "execution_count": 2,
   "id": "023df78a",
   "metadata": {
    "ExecuteTime": {
     "end_time": "2023-05-31T19:57:34.238839Z",
     "start_time": "2023-05-31T19:57:23.494053Z"
    },
    "execution": {
     "iopub.execute_input": "2023-09-18T22:44:31.033348Z",
     "iopub.status.busy": "2023-09-18T22:44:31.032899Z",
     "iopub.status.idle": "2023-09-18T22:44:33.230493Z",
     "shell.execute_reply": "2023-09-18T22:44:33.229790Z",
     "shell.execute_reply.started": "2023-09-18T22:44:31.033315Z"
    },
    "tags": []
   },
   "outputs": [],
   "source": [
    "import numpy as np\n",
    "import torch\n",
    "import matplotlib.pyplot as plt\n",
    "import seaborn as sns\n",
    "from scipy.stats import pearsonr\n",
    "from numbers import Number\n",
    "\n",
    "from easydict import EasyDict as edict\n",
    "from tqdm import trange, tqdm\n",
    "import itertools\n",
    "from scipy.stats import chi2\n",
    "\n",
    "from joblib import Parallel, delayed\n"
   ]
  },
  {
   "cell_type": "code",
   "execution_count": 3,
   "id": "d730b6c0-3b29-45d3-8e86-9378d50908c9",
   "metadata": {
    "execution": {
     "iopub.execute_input": "2023-09-18T22:44:33.231922Z",
     "iopub.status.busy": "2023-09-18T22:44:33.231597Z",
     "iopub.status.idle": "2023-09-18T22:44:33.250564Z",
     "shell.execute_reply": "2023-09-18T22:44:33.250161Z",
     "shell.execute_reply.started": "2023-09-18T22:44:33.231906Z"
    },
    "tags": []
   },
   "outputs": [],
   "source": [
    "# This will reload all imports as soon as the code changes\n",
    "%load_ext autoreload\n",
    "%autoreload 2"
   ]
  },
  {
   "cell_type": "code",
   "execution_count": 4,
   "id": "b0aa91b2",
   "metadata": {
    "ExecuteTime": {
     "end_time": "2023-05-31T19:57:59.558229Z",
     "start_time": "2023-05-31T19:57:34.292612Z"
    },
    "execution": {
     "iopub.execute_input": "2023-09-18T22:44:33.251182Z",
     "iopub.status.busy": "2023-09-18T22:44:33.251046Z",
     "iopub.status.idle": "2023-09-18T22:44:33.276452Z",
     "shell.execute_reply": "2023-09-18T22:44:33.276059Z",
     "shell.execute_reply.started": "2023-09-18T22:44:33.251171Z"
    },
    "tags": []
   },
   "outputs": [],
   "source": [
    "from constants import DATA_ROOT, RES_ROOT, FIG_ROOT, MIDRES_ROOT\n",
    "from utils.misc import load_pkl, save_pkl"
   ]
  },
  {
   "cell_type": "code",
   "execution_count": 5,
   "id": "fe0a4a46",
   "metadata": {
    "ExecuteTime": {
     "end_time": "2023-05-31T19:57:59.621784Z",
     "start_time": "2023-05-31T19:57:59.568097Z"
    },
    "execution": {
     "iopub.execute_input": "2023-09-18T22:44:33.277100Z",
     "iopub.status.busy": "2023-09-18T22:44:33.276965Z",
     "iopub.status.idle": "2023-09-18T22:44:33.296150Z",
     "shell.execute_reply": "2023-09-18T22:44:33.295767Z",
     "shell.execute_reply.started": "2023-09-18T22:44:33.277089Z"
    },
    "tags": []
   },
   "outputs": [],
   "source": [
    "plt.style.use(FIG_ROOT/\"base.mplstyle\")\n",
    "torch.set_default_tensor_type(torch.DoubleTensor)"
   ]
  },
  {
   "cell_type": "code",
   "execution_count": null,
   "id": "d0af2f35",
   "metadata": {},
   "outputs": [],
   "source": []
  },
  {
   "cell_type": "markdown",
   "id": "dd9c6514",
   "metadata": {},
   "source": [
    "# Param and fns"
   ]
  },
  {
   "cell_type": "markdown",
   "id": "21e4ccea",
   "metadata": {},
   "source": [
    "## Params"
   ]
  },
  {
   "cell_type": "code",
   "execution_count": 9,
   "id": "fd29f0de",
   "metadata": {
    "ExecuteTime": {
     "end_time": "2023-05-31T23:31:16.397628Z",
     "start_time": "2023-05-31T23:31:16.221812Z"
    },
    "execution": {
     "iopub.execute_input": "2023-09-18T23:12:07.797188Z",
     "iopub.status.busy": "2023-09-18T23:12:07.796563Z",
     "iopub.status.idle": "2023-09-18T23:12:07.900915Z",
     "shell.execute_reply": "2023-09-18T23:12:07.899787Z",
     "shell.execute_reply.started": "2023-09-18T23:12:07.797142Z"
    },
    "tags": []
   },
   "outputs": [],
   "source": [
    "paras = edict()\n",
    "paras.res_dir = RES_ROOT/\"simu_linear_sinica_samebetaX_lastbeta02_imp_cvcenter_init0\""
   ]
  },
  {
   "cell_type": "code",
   "execution_count": 10,
   "id": "7784d41b-3755-44d1-892f-83278eae1bc9",
   "metadata": {
    "execution": {
     "iopub.execute_input": "2023-09-18T23:12:08.362800Z",
     "iopub.status.busy": "2023-09-18T23:12:08.362265Z",
     "iopub.status.idle": "2023-09-18T23:12:08.397682Z",
     "shell.execute_reply": "2023-09-18T23:12:08.397020Z",
     "shell.execute_reply.started": "2023-09-18T23:12:08.362755Z"
    },
    "tags": []
   },
   "outputs": [],
   "source": [
    "\n",
    "def _fil2simres(cur_fil, save_keys=None):\n",
    "    \"\"\" Extract simple result to save to ease the analysis step\n",
    "    \"\"\"\n",
    "    if save_keys is None:\n",
    "        save_keys = [\"cv_errs\", \"T_vs\", \"pvals\"]\n",
    "    sim_res = _fname2dict(cur_fil)\n",
    "    full_res = load_pkl(cur_fil, verbose=False);\n",
    "    for key in save_keys: \n",
    "        sim_res[key] = full_res[key]\n",
    "    return sim_res"
   ]
  },
  {
   "cell_type": "code",
   "execution_count": 11,
   "id": "a1623be2-0ecf-4e5b-913a-e3ea75562dcf",
   "metadata": {
    "execution": {
     "iopub.execute_input": "2023-09-18T23:12:08.890186Z",
     "iopub.status.busy": "2023-09-18T23:12:08.889550Z",
     "iopub.status.idle": "2023-09-18T23:12:08.926268Z",
     "shell.execute_reply": "2023-09-18T23:12:08.925593Z",
     "shell.execute_reply.started": "2023-09-18T23:12:08.890139Z"
    },
    "tags": []
   },
   "outputs": [],
   "source": [
    "def _fname2dict(fname):\n",
    "    \"\"\"From file name to get (seed, lam, N)\n",
    "    \"\"\"\n",
    "    para = list(map(lambda x: float(x.split(\"_\")[-1]), fname.stem.split(\"-\")))\n",
    "    para1 = edict()\n",
    "    para1.seed = para[0]\n",
    "    para1.lam = para[1]/1000\n",
    "    para1.N = para[2]\n",
    "    para1.cs = para[3]/10\n",
    "    return para1"
   ]
  },
  {
   "cell_type": "code",
   "execution_count": null,
   "id": "75dc09a0",
   "metadata": {
    "ExecuteTime": {
     "end_time": "2023-05-31T23:31:22.417895Z",
     "start_time": "2023-05-31T23:31:22.400951Z"
    },
    "tags": []
   },
   "outputs": [],
   "source": []
  },
  {
   "cell_type": "markdown",
   "id": "54c9561e-be3d-4ef3-9a90-3278c93cd956",
   "metadata": {},
   "source": [
    "# pre-processing"
   ]
  },
  {
   "cell_type": "markdown",
   "id": "8fd64ecb-2671-4ffc-aa19-9386aded8f9c",
   "metadata": {},
   "source": [
    "I save the reults for each N. \n",
    "\n",
    "Currently, the simple results include dict_keys(['seed', 'lam', 'N', 'cs', 'cv_errs', 'T_vs', 'pvals'])\n",
    "\n",
    "Each saved file is a dict including \n",
    "    \n",
    "    - paras: the paras used\n",
    "    \n",
    "    - results: a list, each item is also a list for each lam (I keep the order for both layer of lists in a increasing order. \n"
   ]
  },
  {
   "cell_type": "code",
   "execution_count": 12,
   "id": "acf02f4d-ee2c-4055-8927-539a8c86c5db",
   "metadata": {
    "execution": {
     "iopub.execute_input": "2023-09-18T23:12:10.450968Z",
     "iopub.status.busy": "2023-09-18T23:12:10.450413Z",
     "iopub.status.idle": "2023-09-18T23:19:34.521110Z",
     "shell.execute_reply": "2023-09-18T23:19:34.519652Z",
     "shell.execute_reply.started": "2023-09-18T23:12:10.450922Z"
    },
    "scrolled": true,
    "tags": []
   },
   "outputs": [
    {
     "name": "stdout",
     "output_type": "stream",
     "text": [
      "Load file /data/rajlab1/user_data/jin/MyResearch/HDF_infer/notebooks/../mypkg/../results/simu_linear_sinica_samebetaX_lastbeta02_imp_cvcenter_init0/seed_0-lam_300-N_4-c1_0.pkl\n"
     ]
    },
    {
     "name": "stderr",
     "output_type": "stream",
     "text": [
      "cv: 0.00; N: 4.: 100%|███████████████████████████████████████████████████████████████████████████████████████████████████████████████████████| 200/200 [00:16<00:00, 12.38it/s]\n"
     ]
    },
    {
     "name": "stdout",
     "output_type": "stream",
     "text": [
      "Save to /data/rajlab1/user_data/jin/MyResearch/HDF_infer/notebooks/../mypkg/../results/simu_linear_sinica_samebetaX_lastbeta02_imp_cvcenter_init0/allseeds_200-N_4-c1_0.pkl\n",
      "Load file /data/rajlab1/user_data/jin/MyResearch/HDF_infer/notebooks/../mypkg/../results/simu_linear_sinica_samebetaX_lastbeta02_imp_cvcenter_init0/seed_0-lam_10-N_6-c1_0.pkl\n"
     ]
    },
    {
     "name": "stderr",
     "output_type": "stream",
     "text": [
      "cv: 0.00; N: 6.: 100%|███████████████████████████████████████████████████████████████████████████████████████████████████████████████████████| 200/200 [00:33<00:00,  6.03it/s]\n"
     ]
    },
    {
     "name": "stdout",
     "output_type": "stream",
     "text": [
      "Save to /data/rajlab1/user_data/jin/MyResearch/HDF_infer/notebooks/../mypkg/../results/simu_linear_sinica_samebetaX_lastbeta02_imp_cvcenter_init0/allseeds_200-N_6-c1_0.pkl\n",
      "Load file /data/rajlab1/user_data/jin/MyResearch/HDF_infer/notebooks/../mypkg/../results/simu_linear_sinica_samebetaX_lastbeta02_imp_cvcenter_init0/seed_0-lam_10-N_8-c1_0.pkl\n"
     ]
    },
    {
     "name": "stderr",
     "output_type": "stream",
     "text": [
      "cv: 0.00; N: 8.: 100%|███████████████████████████████████████████████████████████████████████████████████████████████████████████████████████| 200/200 [00:14<00:00, 14.23it/s]\n"
     ]
    },
    {
     "name": "stdout",
     "output_type": "stream",
     "text": [
      "Save to /data/rajlab1/user_data/jin/MyResearch/HDF_infer/notebooks/../mypkg/../results/simu_linear_sinica_samebetaX_lastbeta02_imp_cvcenter_init0/allseeds_200-N_8-c1_0.pkl\n",
      "Load file /data/rajlab1/user_data/jin/MyResearch/HDF_infer/notebooks/../mypkg/../results/simu_linear_sinica_samebetaX_lastbeta02_imp_cvcenter_init0/seed_0-lam_10-N_10-c1_0.pkl\n"
     ]
    },
    {
     "name": "stderr",
     "output_type": "stream",
     "text": [
      "cv: 0.00; N: 10.: 100%|██████████████████████████████████████████████████████████████████████████████████████████████████████████████████████| 200/200 [00:09<00:00, 20.60it/s]\n"
     ]
    },
    {
     "name": "stdout",
     "output_type": "stream",
     "text": [
      "Save to /data/rajlab1/user_data/jin/MyResearch/HDF_infer/notebooks/../mypkg/../results/simu_linear_sinica_samebetaX_lastbeta02_imp_cvcenter_init0/allseeds_200-N_10-c1_0.pkl\n",
      "Load file /data/rajlab1/user_data/jin/MyResearch/HDF_infer/notebooks/../mypkg/../results/simu_linear_sinica_samebetaX_lastbeta02_imp_cvcenter_init0/seed_0-lam_10-N_12-c1_0.pkl\n"
     ]
    },
    {
     "name": "stderr",
     "output_type": "stream",
     "text": [
      "cv: 0.00; N: 12.: 100%|██████████████████████████████████████████████████████████████████████████████████████████████████████████████████████| 200/200 [00:11<00:00, 17.25it/s]\n"
     ]
    },
    {
     "name": "stdout",
     "output_type": "stream",
     "text": [
      "Save to /data/rajlab1/user_data/jin/MyResearch/HDF_infer/notebooks/../mypkg/../results/simu_linear_sinica_samebetaX_lastbeta02_imp_cvcenter_init0/allseeds_200-N_12-c1_0.pkl\n",
      "Load file /data/rajlab1/user_data/jin/MyResearch/HDF_infer/notebooks/../mypkg/../results/simu_linear_sinica_samebetaX_lastbeta02_imp_cvcenter_init0/seed_0-lam_10-N_14-c1_0.pkl\n"
     ]
    },
    {
     "name": "stderr",
     "output_type": "stream",
     "text": [
      "cv: 0.00; N: 14.: 100%|██████████████████████████████████████████████████████████████████████████████████████████████████████████████████████| 200/200 [00:10<00:00, 18.91it/s]\n"
     ]
    },
    {
     "name": "stdout",
     "output_type": "stream",
     "text": [
      "Save to /data/rajlab1/user_data/jin/MyResearch/HDF_infer/notebooks/../mypkg/../results/simu_linear_sinica_samebetaX_lastbeta02_imp_cvcenter_init0/allseeds_200-N_14-c1_0.pkl\n",
      "Load file /data/rajlab1/user_data/jin/MyResearch/HDF_infer/notebooks/../mypkg/../results/simu_linear_sinica_samebetaX_lastbeta02_imp_cvcenter_init0/seed_0-lam_10-N_16-c1_0.pkl\n"
     ]
    },
    {
     "name": "stderr",
     "output_type": "stream",
     "text": [
      "cv: 0.00; N: 16.: 100%|██████████████████████████████████████████████████████████████████████████████████████████████████████████████████████| 200/200 [00:10<00:00, 18.66it/s]\n"
     ]
    },
    {
     "name": "stdout",
     "output_type": "stream",
     "text": [
      "Save to /data/rajlab1/user_data/jin/MyResearch/HDF_infer/notebooks/../mypkg/../results/simu_linear_sinica_samebetaX_lastbeta02_imp_cvcenter_init0/allseeds_200-N_16-c1_0.pkl\n",
      "Load file /data/rajlab1/user_data/jin/MyResearch/HDF_infer/notebooks/../mypkg/../results/simu_linear_sinica_samebetaX_lastbeta02_imp_cvcenter_init0/seed_0-lam_100-N_4-c1_100.pkl\n"
     ]
    },
    {
     "name": "stderr",
     "output_type": "stream",
     "text": [
      "cv: 0.10; N: 4.: 100%|███████████████████████████████████████████████████████████████████████████████████████████████████████████████████████| 200/200 [00:11<00:00, 17.96it/s]\n"
     ]
    },
    {
     "name": "stdout",
     "output_type": "stream",
     "text": [
      "Save to /data/rajlab1/user_data/jin/MyResearch/HDF_infer/notebooks/../mypkg/../results/simu_linear_sinica_samebetaX_lastbeta02_imp_cvcenter_init0/allseeds_200-N_4-c1_100.pkl\n",
      "Load file /data/rajlab1/user_data/jin/MyResearch/HDF_infer/notebooks/../mypkg/../results/simu_linear_sinica_samebetaX_lastbeta02_imp_cvcenter_init0/seed_0-lam_10-N_6-c1_100.pkl\n"
     ]
    },
    {
     "name": "stderr",
     "output_type": "stream",
     "text": [
      "cv: 0.10; N: 6.: 100%|███████████████████████████████████████████████████████████████████████████████████████████████████████████████████████| 200/200 [00:12<00:00, 16.04it/s]\n"
     ]
    },
    {
     "name": "stdout",
     "output_type": "stream",
     "text": [
      "Save to /data/rajlab1/user_data/jin/MyResearch/HDF_infer/notebooks/../mypkg/../results/simu_linear_sinica_samebetaX_lastbeta02_imp_cvcenter_init0/allseeds_200-N_6-c1_100.pkl\n",
      "Load file /data/rajlab1/user_data/jin/MyResearch/HDF_infer/notebooks/../mypkg/../results/simu_linear_sinica_samebetaX_lastbeta02_imp_cvcenter_init0/seed_0-lam_10-N_8-c1_100.pkl\n"
     ]
    },
    {
     "name": "stderr",
     "output_type": "stream",
     "text": [
      "cv: 0.10; N: 8.: 100%|███████████████████████████████████████████████████████████████████████████████████████████████████████████████████████| 200/200 [00:11<00:00, 17.81it/s]\n"
     ]
    },
    {
     "name": "stdout",
     "output_type": "stream",
     "text": [
      "Save to /data/rajlab1/user_data/jin/MyResearch/HDF_infer/notebooks/../mypkg/../results/simu_linear_sinica_samebetaX_lastbeta02_imp_cvcenter_init0/allseeds_200-N_8-c1_100.pkl\n",
      "Load file /data/rajlab1/user_data/jin/MyResearch/HDF_infer/notebooks/../mypkg/../results/simu_linear_sinica_samebetaX_lastbeta02_imp_cvcenter_init0/seed_0-lam_10-N_10-c1_100.pkl\n"
     ]
    },
    {
     "name": "stderr",
     "output_type": "stream",
     "text": [
      "cv: 0.10; N: 10.: 100%|██████████████████████████████████████████████████████████████████████████████████████████████████████████████████████| 200/200 [00:10<00:00, 18.53it/s]\n"
     ]
    },
    {
     "name": "stdout",
     "output_type": "stream",
     "text": [
      "Save to /data/rajlab1/user_data/jin/MyResearch/HDF_infer/notebooks/../mypkg/../results/simu_linear_sinica_samebetaX_lastbeta02_imp_cvcenter_init0/allseeds_200-N_10-c1_100.pkl\n",
      "Load file /data/rajlab1/user_data/jin/MyResearch/HDF_infer/notebooks/../mypkg/../results/simu_linear_sinica_samebetaX_lastbeta02_imp_cvcenter_init0/seed_0-lam_10-N_12-c1_100.pkl\n"
     ]
    },
    {
     "name": "stderr",
     "output_type": "stream",
     "text": [
      "cv: 0.10; N: 12.: 100%|██████████████████████████████████████████████████████████████████████████████████████████████████████████████████████| 200/200 [00:11<00:00, 17.91it/s]\n"
     ]
    },
    {
     "name": "stdout",
     "output_type": "stream",
     "text": [
      "Save to /data/rajlab1/user_data/jin/MyResearch/HDF_infer/notebooks/../mypkg/../results/simu_linear_sinica_samebetaX_lastbeta02_imp_cvcenter_init0/allseeds_200-N_12-c1_100.pkl\n",
      "Load file /data/rajlab1/user_data/jin/MyResearch/HDF_infer/notebooks/../mypkg/../results/simu_linear_sinica_samebetaX_lastbeta02_imp_cvcenter_init0/seed_0-lam_10-N_14-c1_100.pkl\n"
     ]
    },
    {
     "name": "stderr",
     "output_type": "stream",
     "text": [
      "cv: 0.10; N: 14.: 100%|██████████████████████████████████████████████████████████████████████████████████████████████████████████████████████| 200/200 [00:11<00:00, 16.72it/s]\n"
     ]
    },
    {
     "name": "stdout",
     "output_type": "stream",
     "text": [
      "Save to /data/rajlab1/user_data/jin/MyResearch/HDF_infer/notebooks/../mypkg/../results/simu_linear_sinica_samebetaX_lastbeta02_imp_cvcenter_init0/allseeds_200-N_14-c1_100.pkl\n",
      "Load file /data/rajlab1/user_data/jin/MyResearch/HDF_infer/notebooks/../mypkg/../results/simu_linear_sinica_samebetaX_lastbeta02_imp_cvcenter_init0/seed_0-lam_10-N_16-c1_100.pkl\n"
     ]
    },
    {
     "name": "stderr",
     "output_type": "stream",
     "text": [
      "cv: 0.10; N: 16.: 100%|██████████████████████████████████████████████████████████████████████████████████████████████████████████████████████| 200/200 [00:10<00:00, 18.39it/s]\n"
     ]
    },
    {
     "name": "stdout",
     "output_type": "stream",
     "text": [
      "Save to /data/rajlab1/user_data/jin/MyResearch/HDF_infer/notebooks/../mypkg/../results/simu_linear_sinica_samebetaX_lastbeta02_imp_cvcenter_init0/allseeds_200-N_16-c1_100.pkl\n",
      "Load file /data/rajlab1/user_data/jin/MyResearch/HDF_infer/notebooks/../mypkg/../results/simu_linear_sinica_samebetaX_lastbeta02_imp_cvcenter_init0/seed_0-lam_300-N_4-c1_200.pkl\n"
     ]
    },
    {
     "name": "stderr",
     "output_type": "stream",
     "text": [
      "cv: 0.20; N: 4.: 100%|███████████████████████████████████████████████████████████████████████████████████████████████████████████████████████| 200/200 [00:10<00:00, 19.86it/s]\n"
     ]
    },
    {
     "name": "stdout",
     "output_type": "stream",
     "text": [
      "Save to /data/rajlab1/user_data/jin/MyResearch/HDF_infer/notebooks/../mypkg/../results/simu_linear_sinica_samebetaX_lastbeta02_imp_cvcenter_init0/allseeds_200-N_4-c1_200.pkl\n",
      "Load file /data/rajlab1/user_data/jin/MyResearch/HDF_infer/notebooks/../mypkg/../results/simu_linear_sinica_samebetaX_lastbeta02_imp_cvcenter_init0/seed_0-lam_10-N_6-c1_200.pkl\n"
     ]
    },
    {
     "name": "stderr",
     "output_type": "stream",
     "text": [
      "cv: 0.20; N: 6.: 100%|███████████████████████████████████████████████████████████████████████████████████████████████████████████████████████| 200/200 [00:10<00:00, 18.41it/s]\n"
     ]
    },
    {
     "name": "stdout",
     "output_type": "stream",
     "text": [
      "Save to /data/rajlab1/user_data/jin/MyResearch/HDF_infer/notebooks/../mypkg/../results/simu_linear_sinica_samebetaX_lastbeta02_imp_cvcenter_init0/allseeds_200-N_6-c1_200.pkl\n",
      "Load file /data/rajlab1/user_data/jin/MyResearch/HDF_infer/notebooks/../mypkg/../results/simu_linear_sinica_samebetaX_lastbeta02_imp_cvcenter_init0/seed_0-lam_10-N_8-c1_200.pkl\n"
     ]
    },
    {
     "name": "stderr",
     "output_type": "stream",
     "text": [
      "cv: 0.20; N: 8.: 100%|███████████████████████████████████████████████████████████████████████████████████████████████████████████████████████| 200/200 [00:11<00:00, 17.87it/s]\n"
     ]
    },
    {
     "name": "stdout",
     "output_type": "stream",
     "text": [
      "Save to /data/rajlab1/user_data/jin/MyResearch/HDF_infer/notebooks/../mypkg/../results/simu_linear_sinica_samebetaX_lastbeta02_imp_cvcenter_init0/allseeds_200-N_8-c1_200.pkl\n",
      "Load file /data/rajlab1/user_data/jin/MyResearch/HDF_infer/notebooks/../mypkg/../results/simu_linear_sinica_samebetaX_lastbeta02_imp_cvcenter_init0/seed_99-lam_600-N_10-c1_200.pkl\n"
     ]
    },
    {
     "name": "stderr",
     "output_type": "stream",
     "text": [
      "cv: 0.20; N: 10.: 100%|██████████████████████████████████████████████████████████████████████████████████████████████████████████████████████| 200/200 [00:12<00:00, 16.28it/s]\n"
     ]
    },
    {
     "name": "stdout",
     "output_type": "stream",
     "text": [
      "Save to /data/rajlab1/user_data/jin/MyResearch/HDF_infer/notebooks/../mypkg/../results/simu_linear_sinica_samebetaX_lastbeta02_imp_cvcenter_init0/allseeds_200-N_10-c1_200.pkl\n",
      "Load file /data/rajlab1/user_data/jin/MyResearch/HDF_infer/notebooks/../mypkg/../results/simu_linear_sinica_samebetaX_lastbeta02_imp_cvcenter_init0/seed_0-lam_10-N_12-c1_200.pkl\n"
     ]
    },
    {
     "name": "stderr",
     "output_type": "stream",
     "text": [
      "cv: 0.20; N: 12.: 100%|██████████████████████████████████████████████████████████████████████████████████████████████████████████████████████| 200/200 [00:11<00:00, 17.71it/s]\n"
     ]
    },
    {
     "name": "stdout",
     "output_type": "stream",
     "text": [
      "Save to /data/rajlab1/user_data/jin/MyResearch/HDF_infer/notebooks/../mypkg/../results/simu_linear_sinica_samebetaX_lastbeta02_imp_cvcenter_init0/allseeds_200-N_12-c1_200.pkl\n",
      "Load file /data/rajlab1/user_data/jin/MyResearch/HDF_infer/notebooks/../mypkg/../results/simu_linear_sinica_samebetaX_lastbeta02_imp_cvcenter_init0/seed_0-lam_10-N_14-c1_200.pkl\n"
     ]
    },
    {
     "name": "stderr",
     "output_type": "stream",
     "text": [
      "cv: 0.20; N: 14.: 100%|██████████████████████████████████████████████████████████████████████████████████████████████████████████████████████| 200/200 [00:14<00:00, 13.78it/s]\n"
     ]
    },
    {
     "name": "stdout",
     "output_type": "stream",
     "text": [
      "Save to /data/rajlab1/user_data/jin/MyResearch/HDF_infer/notebooks/../mypkg/../results/simu_linear_sinica_samebetaX_lastbeta02_imp_cvcenter_init0/allseeds_200-N_14-c1_200.pkl\n",
      "Load file /data/rajlab1/user_data/jin/MyResearch/HDF_infer/notebooks/../mypkg/../results/simu_linear_sinica_samebetaX_lastbeta02_imp_cvcenter_init0/seed_98-lam_1000-N_16-c1_200.pkl\n"
     ]
    },
    {
     "name": "stderr",
     "output_type": "stream",
     "text": [
      "cv: 0.20; N: 16.: 100%|██████████████████████████████████████████████████████████████████████████████████████████████████████████████████████| 200/200 [00:10<00:00, 19.00it/s]\n"
     ]
    },
    {
     "name": "stdout",
     "output_type": "stream",
     "text": [
      "Save to /data/rajlab1/user_data/jin/MyResearch/HDF_infer/notebooks/../mypkg/../results/simu_linear_sinica_samebetaX_lastbeta02_imp_cvcenter_init0/allseeds_200-N_16-c1_200.pkl\n",
      "Load file /data/rajlab1/user_data/jin/MyResearch/HDF_infer/notebooks/../mypkg/../results/simu_linear_sinica_samebetaX_lastbeta02_imp_cvcenter_init0/seed_0-lam_300-N_4-c1_400.pkl\n"
     ]
    },
    {
     "name": "stderr",
     "output_type": "stream",
     "text": [
      "cv: 0.40; N: 4.: 100%|███████████████████████████████████████████████████████████████████████████████████████████████████████████████████████| 200/200 [00:10<00:00, 18.65it/s]\n"
     ]
    },
    {
     "name": "stdout",
     "output_type": "stream",
     "text": [
      "Save to /data/rajlab1/user_data/jin/MyResearch/HDF_infer/notebooks/../mypkg/../results/simu_linear_sinica_samebetaX_lastbeta02_imp_cvcenter_init0/allseeds_200-N_4-c1_400.pkl\n",
      "Load file /data/rajlab1/user_data/jin/MyResearch/HDF_infer/notebooks/../mypkg/../results/simu_linear_sinica_samebetaX_lastbeta02_imp_cvcenter_init0/seed_138-lam_300-N_6-c1_400.pkl\n"
     ]
    },
    {
     "name": "stderr",
     "output_type": "stream",
     "text": [
      "cv: 0.40; N: 6.: 100%|███████████████████████████████████████████████████████████████████████████████████████████████████████████████████████| 200/200 [00:09<00:00, 21.34it/s]\n"
     ]
    },
    {
     "name": "stdout",
     "output_type": "stream",
     "text": [
      "Save to /data/rajlab1/user_data/jin/MyResearch/HDF_infer/notebooks/../mypkg/../results/simu_linear_sinica_samebetaX_lastbeta02_imp_cvcenter_init0/allseeds_200-N_6-c1_400.pkl\n",
      "Load file /data/rajlab1/user_data/jin/MyResearch/HDF_infer/notebooks/../mypkg/../results/simu_linear_sinica_samebetaX_lastbeta02_imp_cvcenter_init0/seed_138-lam_300-N_8-c1_400.pkl\n"
     ]
    },
    {
     "name": "stderr",
     "output_type": "stream",
     "text": [
      "cv: 0.40; N: 8.: 100%|███████████████████████████████████████████████████████████████████████████████████████████████████████████████████████| 200/200 [00:11<00:00, 17.56it/s]\n"
     ]
    },
    {
     "name": "stdout",
     "output_type": "stream",
     "text": [
      "Save to /data/rajlab1/user_data/jin/MyResearch/HDF_infer/notebooks/../mypkg/../results/simu_linear_sinica_samebetaX_lastbeta02_imp_cvcenter_init0/allseeds_200-N_8-c1_400.pkl\n",
      "Load file /data/rajlab1/user_data/jin/MyResearch/HDF_infer/notebooks/../mypkg/../results/simu_linear_sinica_samebetaX_lastbeta02_imp_cvcenter_init0/seed_0-lam_10-N_10-c1_400.pkl\n"
     ]
    },
    {
     "name": "stderr",
     "output_type": "stream",
     "text": [
      "cv: 0.40; N: 10.: 100%|██████████████████████████████████████████████████████████████████████████████████████████████████████████████████████| 200/200 [00:10<00:00, 19.07it/s]\n"
     ]
    },
    {
     "name": "stdout",
     "output_type": "stream",
     "text": [
      "Save to /data/rajlab1/user_data/jin/MyResearch/HDF_infer/notebooks/../mypkg/../results/simu_linear_sinica_samebetaX_lastbeta02_imp_cvcenter_init0/allseeds_200-N_10-c1_400.pkl\n",
      "Load file /data/rajlab1/user_data/jin/MyResearch/HDF_infer/notebooks/../mypkg/../results/simu_linear_sinica_samebetaX_lastbeta02_imp_cvcenter_init0/seed_0-lam_10-N_12-c1_400.pkl\n"
     ]
    },
    {
     "name": "stderr",
     "output_type": "stream",
     "text": [
      "cv: 0.40; N: 12.: 100%|██████████████████████████████████████████████████████████████████████████████████████████████████████████████████████| 200/200 [00:10<00:00, 18.38it/s]\n"
     ]
    },
    {
     "name": "stdout",
     "output_type": "stream",
     "text": [
      "Save to /data/rajlab1/user_data/jin/MyResearch/HDF_infer/notebooks/../mypkg/../results/simu_linear_sinica_samebetaX_lastbeta02_imp_cvcenter_init0/allseeds_200-N_12-c1_400.pkl\n",
      "Load file /data/rajlab1/user_data/jin/MyResearch/HDF_infer/notebooks/../mypkg/../results/simu_linear_sinica_samebetaX_lastbeta02_imp_cvcenter_init0/seed_0-lam_10-N_14-c1_400.pkl\n"
     ]
    },
    {
     "name": "stderr",
     "output_type": "stream",
     "text": [
      "cv: 0.40; N: 14.: 100%|██████████████████████████████████████████████████████████████████████████████████████████████████████████████████████| 200/200 [00:10<00:00, 18.76it/s]\n"
     ]
    },
    {
     "name": "stdout",
     "output_type": "stream",
     "text": [
      "Save to /data/rajlab1/user_data/jin/MyResearch/HDF_infer/notebooks/../mypkg/../results/simu_linear_sinica_samebetaX_lastbeta02_imp_cvcenter_init0/allseeds_200-N_14-c1_400.pkl\n",
      "Load file /data/rajlab1/user_data/jin/MyResearch/HDF_infer/notebooks/../mypkg/../results/simu_linear_sinica_samebetaX_lastbeta02_imp_cvcenter_init0/seed_0-lam_10-N_16-c1_400.pkl\n"
     ]
    },
    {
     "name": "stderr",
     "output_type": "stream",
     "text": [
      "cv: 0.40; N: 16.: 100%|██████████████████████████████████████████████████████████████████████████████████████████████████████████████████████| 200/200 [00:11<00:00, 17.63it/s]\n"
     ]
    },
    {
     "name": "stdout",
     "output_type": "stream",
     "text": [
      "Save to /data/rajlab1/user_data/jin/MyResearch/HDF_infer/notebooks/../mypkg/../results/simu_linear_sinica_samebetaX_lastbeta02_imp_cvcenter_init0/allseeds_200-N_16-c1_400.pkl\n"
     ]
    }
   ],
   "source": [
    "cur_N = 8\n",
    "c1v = 0.4\n",
    "for c1v in [0, 0.1, 0.2, 0.4]:\n",
    "    for cur_N in [4, 6, 8, 10, 12, 14, 16]:\n",
    "        \n",
    "        cur_fils = list(paras.res_dir.glob(f\"seed_*-lam_*-N_{cur_N:.0f}-c1_{c1v*1000:.0f}.pkl\"));\n",
    "        res_paras = load_pkl(cur_fils[0], verbose=True).paras;\n",
    "        all_seeds = sorted(list(set(map(lambda x: int(_fname2dict(x).seed), cur_fils))))\n",
    "        \n",
    "        saved_res = edict()\n",
    "        \n",
    "        all_res = []\n",
    "        def _run_fn(cur_seed):\n",
    "            fils = list(paras.res_dir.glob(f\"seed_{cur_seed:.0f}-lam_*-N_{cur_N:.0f}-c1_{c1v*1000:.0f}.pkl\"));\n",
    "            if len(fils) < len(res_paras.can_lams):\n",
    "                return None\n",
    "            # sort via lam value\n",
    "            sorted_fils = sorted(fils, key=lambda x: _fname2dict(x).lam);\n",
    "            lam_itm = []\n",
    "            for fil in sorted_fils: \n",
    "                sim_res = _fil2simres(fil)\n",
    "                lam_itm.append(sim_res)\n",
    "            return lam_itm\n",
    "        \n",
    "        #all_seeds = all_seeds[-10:]\n",
    "        with Parallel(n_jobs=20) as parallel:\n",
    "            all_res = parallel(delayed(_run_fn)(seed) for seed in tqdm(all_seeds, total=len(all_seeds), desc=f\"cv: {c1v:.2f}; N: {cur_N}.\"))\n",
    "        saved_res.paras = res_paras\n",
    "        saved_res.all_res = list(filter(lambda x: x is not None, all_res))\n",
    "        \n",
    "        saved_fname = f\"allseeds_{len(saved_res.all_res)}-N_{cur_N:.0f}-c1_{c1v*1000:.0f}.pkl\"\n",
    "        \n",
    "        save_pkl(paras.res_dir/saved_fname, saved_res, is_force=True)"
   ]
  },
  {
   "cell_type": "code",
   "execution_count": null,
   "id": "ccc5bad3-2101-48a2-b0bd-14c6b767331a",
   "metadata": {},
   "outputs": [],
   "source": []
  }
 ],
 "metadata": {
  "kernelspec": {
   "display_name": "Python 3 (ipykernel)",
   "language": "python",
   "name": "python3"
  },
  "language_info": {
   "codemirror_mode": {
    "name": "ipython",
    "version": 3
   },
   "file_extension": ".py",
   "mimetype": "text/x-python",
   "name": "python",
   "nbconvert_exporter": "python",
   "pygments_lexer": "ipython3",
   "version": "3.9.7"
  },
  "toc": {
   "base_numbering": 1,
   "nav_menu": {},
   "number_sections": true,
   "sideBar": true,
   "skip_h1_title": false,
   "title_cell": "Table of Contents",
   "title_sidebar": "Contents",
   "toc_cell": false,
   "toc_position": {
    "height": "calc(100% - 180px)",
    "left": "10px",
    "top": "150px",
    "width": "165px"
   },
   "toc_section_display": true,
   "toc_window_display": true
  },
  "toc-autonumbering": true
 },
 "nbformat": 4,
 "nbformat_minor": 5
}
