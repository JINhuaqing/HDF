{
 "cells": [
  {
   "cell_type": "code",
   "execution_count": 1,
   "id": "345d20cd",
   "metadata": {
    "ExecuteTime": {
     "end_time": "2022-12-21T19:42:38.979392Z",
     "start_time": "2022-12-21T19:42:38.964009Z"
    }
   },
   "outputs": [],
   "source": [
    "import sys\n",
    "sys.path.append(\"../mypkg\")"
   ]
  },
  {
   "cell_type": "code",
   "execution_count": 2,
   "id": "12a9ea02",
   "metadata": {
    "ExecuteTime": {
     "end_time": "2022-12-21T19:42:52.704986Z",
     "start_time": "2022-12-21T19:42:40.123731Z"
    }
   },
   "outputs": [],
   "source": [
    "import numpy as np\n",
    "import torch\n",
    "import matplotlib.pyplot as plt\n",
    "import seaborn as sns\n",
    "import xarray as xr\n",
    "from scipy.stats import pearsonr\n",
    "\n",
    "from easydict import EasyDict as edict\n",
    "from collections import defaultdict as ddict\n",
    "from tqdm import trange, tqdm\n",
    "from scipy.io import loadmat\n",
    "\n",
    "plt.style.use('ggplot')\n",
    "plt.rcParams[\"savefig.bbox\"] = \"tight\""
   ]
  },
  {
   "cell_type": "code",
   "execution_count": 3,
   "id": "f5aba78f",
   "metadata": {
    "ExecuteTime": {
     "end_time": "2022-12-21T19:43:05.468926Z",
     "start_time": "2022-12-21T19:43:02.552429Z"
    }
   },
   "outputs": [],
   "source": [
    "from utils.misc import save_pkl, load_pkl\n",
    "from constants import RES_ROOT, DATA_ROOT, FIG_ROOT\n",
    "from utils.matrix import col_vec_fn, col_vec2mat_fn, conju_grad, svd_inverse\n",
    "from hdf_utils.SIS import SIS_linear\n",
    "from splines import obt_bsp_basis_Rfn"
   ]
  },
  {
   "cell_type": "code",
   "execution_count": null,
   "id": "d63502c9",
   "metadata": {},
   "outputs": [],
   "source": []
  },
  {
   "cell_type": "markdown",
   "id": "4391f1b8",
   "metadata": {},
   "source": [
    "## Parameters and fns"
   ]
  },
  {
   "cell_type": "markdown",
   "id": "59f5d166",
   "metadata": {},
   "source": [
    "### Params"
   ]
  },
  {
   "cell_type": "code",
   "execution_count": 82,
   "id": "41b89f4e",
   "metadata": {
    "ExecuteTime": {
     "end_time": "2022-12-16T23:33:38.617557Z",
     "start_time": "2022-12-16T23:33:38.612417Z"
    }
   },
   "outputs": [],
   "source": [
    "_paras = edict()\n",
    "_paras.res_dir = RES_ROOT/\"linear_select\""
   ]
  },
  {
   "cell_type": "markdown",
   "id": "d86260b4",
   "metadata": {},
   "source": [
    "### Fn"
   ]
  },
  {
   "cell_type": "code",
   "execution_count": 83,
   "id": "7fb7c7d0",
   "metadata": {
    "ExecuteTime": {
     "end_time": "2022-12-16T23:33:41.283618Z",
     "start_time": "2022-12-16T23:33:41.276555Z"
    }
   },
   "outputs": [],
   "source": [
    "def _beta_err_bd(paras):\n",
    "    diff = paras.beta_GT -  paras.basis_mat.numpy() @ paras.Gam_est\n",
    "    err_bd = np.linalg.norm(np.sqrt(np.mean(diff**2, axis=0)))\n",
    "    return err_bd"
   ]
  },
  {
   "cell_type": "code",
   "execution_count": 84,
   "id": "1f0b7aa1",
   "metadata": {
    "ExecuteTime": {
     "end_time": "2022-12-16T23:33:41.676023Z",
     "start_time": "2022-12-16T23:33:41.668413Z"
    }
   },
   "outputs": [],
   "source": [
    "def _filename2paras(p):\n",
    "    \"\"\"Get the parameters (lam, Rfct, n) based on filename\n",
    "    \"\"\"\n",
    "    sep_p = p.stem.split(\"_\")\n",
    "    res = edict()\n",
    "    assert sep_p[1].startswith(\"lam\")\n",
    "    assert sep_p[2].startswith(\"N\")\n",
    "    assert sep_p[3].startswith(\"n\")\n",
    "    lam_v = int(sep_p[1].split(\"-\")[-1])/100\n",
    "    N_v = int(sep_p[2].split(\"-\")[-1])\n",
    "    n_v = int(sep_p[3].split(\"-\")[-1])\n",
    "    \n",
    "    res.N = N_v\n",
    "    res.n = n_v\n",
    "    res.lam = lam_v\n",
    "    return res"
   ]
  },
  {
   "cell_type": "code",
   "execution_count": 85,
   "id": "b5d0f6b6",
   "metadata": {
    "ExecuteTime": {
     "end_time": "2022-12-16T23:33:42.189663Z",
     "start_time": "2022-12-16T23:33:42.179172Z"
    }
   },
   "outputs": [],
   "source": [
    "def _res2err(opt, paras):\n",
    "    \"\"\"The fn to return the error\"\"\"\n",
    "    \n",
    "    _paras = edict(paras.copy())\n",
    "    errs = edict()\n",
    "    alp_est = opt.thetak[:_paras.q].numpy()\n",
    "    gam_est = opt.Gamk.numpy()\n",
    "    beta_est = _paras.basis_mat.numpy() @ gam_est\n",
    "    \n",
    "    beta_diff = np.asarray(beta_est - _paras.beta_GT)\n",
    "    alp_diff = alp_est - _paras.alp_GT\n",
    "        \n",
    "    beta_est_l0 = np.linalg.norm(beta_est, axis=0)[_paras.sel_idx] == 0\n",
    "    beta_gt_l0 = np.linalg.norm(_paras.beta_GT, axis=0)[_paras.sel_idx] == 0\n",
    "    errs.beta_err_l0 = np.bitwise_xor(beta_est_l0, beta_gt_l0).sum()\n",
    "    errs.beta_err_l0_neg = (beta_gt_l0.astype(int) -  beta_est_l0.astype(int))[np.bitwise_not(beta_gt_l0)].sum()\n",
    "        \n",
    "    errs.beta_err_l1 = np.abs(beta_diff).sum()\n",
    "    errs.beta_err_l2 = np.linalg.norm(beta_diff)\n",
    "        \n",
    "    errs.alp_err_l1 = np.abs(alp_diff).sum()\n",
    "    errs.alp_err_l2 = np.linalg.norm(alp_diff)\n",
    "        \n",
    "    beta_loss_fnl1 = np.mean(np.abs(beta_diff), axis=0)\n",
    "    beta_loss_fnl2 = np.sqrt(np.mean(beta_diff**2, axis=0))\n",
    "    errs.beta_err_l1 = beta_loss_fnl1.sum()\n",
    "    errs.beta_err_l2 = np.linalg.norm(beta_loss_fnl2)\n",
    "    return errs"
   ]
  },
  {
   "cell_type": "code",
   "execution_count": null,
   "id": "c17a4a85",
   "metadata": {},
   "outputs": [],
   "source": []
  },
  {
   "cell_type": "markdown",
   "id": "fa76738a",
   "metadata": {},
   "source": [
    "## Load data"
   ]
  },
  {
   "cell_type": "markdown",
   "id": "bba8e5db",
   "metadata": {},
   "source": [
    "## Analysis-sampe-wise"
   ]
  },
  {
   "cell_type": "code",
   "execution_count": 67,
   "id": "243eac6a",
   "metadata": {
    "ExecuteTime": {
     "end_time": "2022-12-16T17:54:45.591173Z",
     "start_time": "2022-12-16T17:54:45.577409Z"
    }
   },
   "outputs": [],
   "source": [
    "cur_n = 300\n",
    "fils = list(_paras.res_dir.glob(f\"result_*n-{cur_n}*.pkl\"))\n",
    "sorted_fils = sorted(fils, key=lambda x: _filename2paras(x).lam*10000+_filename2paras(x).N*1)"
   ]
  },
  {
   "cell_type": "code",
   "execution_count": 68,
   "id": "cb1a2eac",
   "metadata": {
    "ExecuteTime": {
     "end_time": "2022-12-16T17:54:46.973555Z",
     "start_time": "2022-12-16T17:54:46.093263Z"
    },
    "code_folding": []
   },
   "outputs": [
    {
     "name": "stderr",
     "output_type": "stream",
     "text": [
      "100%|██████████████████████████████████████████████████████████████████████████████████████████████████████████████████████████████████████████| 11/11 [00:00<00:00, 13.11it/s]\n"
     ]
    }
   ],
   "source": [
    "# load file first to save time\n",
    "resss = []\n",
    "for cur_fil in tqdm(sorted_fils):\n",
    "    ress = load_pkl(cur_fil)\n",
    "    resss.append(ress)"
   ]
  },
  {
   "cell_type": "code",
   "execution_count": 69,
   "id": "35c53f9b",
   "metadata": {
    "ExecuteTime": {
     "end_time": "2022-12-16T17:54:48.087648Z",
     "start_time": "2022-12-16T17:54:47.877325Z"
    }
   },
   "outputs": [
    {
     "name": "stdout",
     "output_type": "stream",
     "text": [
      "Save to /data/rajlab1/user_data/jin/MyResearch/HDF_infer/notebooks/../mypkg/../results/linear_select/err_mats_300.pkl\n",
      "Save to /data/rajlab1/user_data/jin/MyResearch/HDF_infer/notebooks/../mypkg/../results/linear_select/cv_err_mat_300.pkl\n"
     ]
    }
   ],
   "source": [
    "tmp_paras = resss[0][0][-1]\n",
    "err_mats = ddict(lambda : np.zeros((tmp_paras.num_rep, len(tmp_paras.can_lams), len(tmp_paras.can_Ns)))+100)\n",
    "cv_err_mat =  np.zeros((tmp_paras.num_rep, len(tmp_paras.can_lams), len(tmp_paras.can_Ns))) + 100\n",
    "for ix, cur_fil in enumerate(sorted_fils):\n",
    "    ress = resss[ix]\n",
    "    cur_paras = ress[0][-1]\n",
    "    \n",
    "    cur_para = _filename2paras(cur_fil)\n",
    "    row_idx = cur_paras.can_lams.index(cur_para.lam)\n",
    "    col_idx = cur_paras.can_Ns.index(cur_para.N)\n",
    "    \n",
    "    \n",
    "    errs = []\n",
    "    cv_errs = []\n",
    "    for cur_res in ress:\n",
    "        err =_res2err(cur_res[0][0], cur_paras)\n",
    "        errs.append(err)\n",
    "        cv_errs.append(np.mean(cur_res[1]**2))\n",
    "            \n",
    "    cv_err_mat[:, row_idx, col_idx] = np.array(cv_errs)\n",
    "    for key in err.keys():\n",
    "        sel_err = np.array([cur_err[key] for cur_err in errs])\n",
    "        err_mats[key][:, row_idx, col_idx] = sel_err\n",
    "err_mats = edict(err_mats)\n",
    "save_pkl(_paras.res_dir/f\"err_mats_{cur_n}.pkl\", err_mats, 1)\n",
    "save_pkl(_paras.res_dir/f\"cv_err_mat_{cur_n}.pkl\", cv_err_mat, 1)"
   ]
  },
  {
   "cell_type": "code",
   "execution_count": 70,
   "id": "0b2e0ef6",
   "metadata": {
    "ExecuteTime": {
     "end_time": "2022-12-16T17:54:49.465861Z",
     "start_time": "2022-12-16T17:54:49.301881Z"
    }
   },
   "outputs": [
    {
     "data": {
      "image/png": "[encoded data removed]",
      "text/plain": [
       "<Figure size 864x360 with 2 Axes>"
      ]
     },
     "metadata": {},
     "output_type": "display_data"
    }
   ],
   "source": [
    "plt.figure(figsize=[12, 5])\n",
    "cur_mat = np.median(err_mats.beta_err_l2, axis=0)\n",
    "cv_mat = np.median(cv_err_mat, axis=0)\n",
    "sns.heatmap(cur_mat.T, annot=np.round(cv_mat.T, 3), square=0, fmt=\".3f\")\n",
    "plt.ylabel(\"N\")\n",
    "plt.xlabel(\"Lam\")\n",
    "plt.yticks(np.arange(len(tmp_paras.can_Ns))+0.5, tmp_paras.can_Ns)\n",
    "plt.xticks(np.arange(len(tmp_paras.can_lams))+0.5, tmp_paras.can_lams);\n",
    "#plt.savefig(FIG_ROOT/f\"linear_1_overall_l2_{cur_n}.jpg\")"
   ]
  },
  {
   "cell_type": "markdown",
   "id": "f6c816b9",
   "metadata": {},
   "source": [
    "## The beta curve"
   ]
  },
  {
   "cell_type": "code",
   "execution_count": 75,
   "id": "24d9613f",
   "metadata": {
    "ExecuteTime": {
     "end_time": "2022-12-16T17:55:42.449830Z",
     "start_time": "2022-12-16T17:55:42.345578Z"
    }
   },
   "outputs": [],
   "source": [
    "cur_n = 24300\n",
    "cur_lam = 2.5\n",
    "cur_N = 5\n",
    "cur_fil = list(_paras.res_dir.glob(f\"result_*lam-{cur_lam*100:.0f}_N-*_n-{cur_n}*.pkl\"))[0]\n",
    "cur_ress = load_pkl(cur_fil)"
   ]
  },
  {
   "cell_type": "code",
   "execution_count": 77,
   "id": "29716bcb",
   "metadata": {
    "ExecuteTime": {
     "end_time": "2022-12-16T17:55:49.866167Z",
     "start_time": "2022-12-16T17:55:49.356371Z"
    }
   },
   "outputs": [
    {
     "data": {
      "image/png": "[encoded data removed]",
      "text/plain": [
       "<Figure size 1440x360 with 10 Axes>"
      ]
     },
     "metadata": {},
     "output_type": "display_data"
    }
   ],
   "source": [
    "exp_idx = 0\n",
    "opt = cur_ress[exp_idx][0][0]\n",
    "cur_paras = cur_ress[exp_idx][2]\n",
    "beta_est = cur_paras.basis_mat.numpy() @ opt.Gamk.numpy()\n",
    "plt.figure(figsize=[20, 5])\n",
    "for ix, roi_id in enumerate(list(range(10))):\n",
    "    plt.subplot(3, 4, ix+1)\n",
    "    plt.plot(cur_paras.beta_GT[:, roi_id])\n",
    "    plt.plot(beta_est[:, roi_id])"
   ]
  },
  {
   "cell_type": "code",
   "execution_count": null,
   "id": "0d0ad47c",
   "metadata": {},
   "outputs": [],
   "source": []
  },
  {
   "cell_type": "markdown",
   "id": "f6a1264f",
   "metadata": {},
   "source": [
    "## Analysis-all"
   ]
  },
  {
   "cell_type": "code",
   "execution_count": 86,
   "id": "20c1b078",
   "metadata": {
    "ExecuteTime": {
     "end_time": "2022-12-16T23:33:50.122616Z",
     "start_time": "2022-12-16T23:33:50.115060Z"
    }
   },
   "outputs": [
    {
     "name": "stdout",
     "output_type": "stream",
     "text": [
      "100 8.0\n",
      "300 9.0\n",
      "900 10.0\n",
      "2700 12.0\n",
      "8100 14.0\n",
      "24300 16.0\n"
     ]
    }
   ],
   "source": [
    "for n in tmp_paras.ns:\n",
    "    print(n, np.round(4.4*n**(1/tmp_paras.ord/2), 0))"
   ]
  },
  {
   "cell_type": "code",
   "execution_count": 87,
   "id": "ca9bafa3",
   "metadata": {
    "ExecuteTime": {
     "end_time": "2022-12-16T23:33:51.708545Z",
     "start_time": "2022-12-16T23:33:51.674792Z"
    }
   },
   "outputs": [],
   "source": [
    "fils = list(_paras.res_dir.glob(f\"err_mats_*.pkl\"))\n",
    "cv_fils = list(_paras.res_dir.glob(f\"cv_err_mat_*.pkl\"))\n",
    "sorted_fils = sorted(fils, key=lambda x:int(x.stem.split(\"_\")[-1]))\n",
    "sorted_cv_fils = sorted(cv_fils, key=lambda x:int(x.stem.split(\"_\")[-1]))\n",
    "\n",
    "tmp_fils = list(_paras.res_dir.glob(\"result_lam-20_N-*.pkl\"))\n",
    "sorted_tmp_fils = sorted(tmp_fils, key=lambda x:int(x.stem.split(\"-\")[-1]))"
   ]
  },
  {
   "cell_type": "code",
   "execution_count": 88,
   "id": "ed9a3ea6",
   "metadata": {
    "ExecuteTime": {
     "end_time": "2022-12-16T23:33:57.334324Z",
     "start_time": "2022-12-16T23:33:52.563480Z"
    }
   },
   "outputs": [
    {
     "data": {
      "text/plain": [
       "Text(0.5, 0, 'Sample size')"
      ]
     },
     "execution_count": 88,
     "metadata": {},
     "output_type": "execute_result"
    },
    {
     "data": {
      "image/png": "[encoded data removed]",
      "text/plain": [
       "<Figure size 720x360 with 1 Axes>"
      ]
     },
     "metadata": {},
     "output_type": "display_data"
    }
   ],
   "source": [
    "# errtypes are \n",
    "#['beta_err_l0', 'beta_err_l0_neg',\n",
    "# 'beta_err_l1', 'beta_err_l2', \n",
    "#'alp_err_l1', 'alp_err_l2', \n",
    "err_type = \"beta_err_l2\"\n",
    "ns = []\n",
    "errs = []\n",
    "min_errs = []\n",
    "best_lams = []\n",
    "sel_Ns = [5, 6, 7, 8, 9]\n",
    "sel_Ns = [8] * 5\n",
    "for ix, cur_fil in enumerate(sorted_fils):\n",
    "    #idx = tmp_paras.can_Ns.index(sel_Ns[ix])\n",
    "    err_mats = load_pkl(cur_fil)\n",
    "    cv_err_mat = load_pkl(sorted_cv_fils[ix])\n",
    "    cur_paras = load_pkl(sorted_tmp_fils[ix])[0][2]\n",
    "    \n",
    "    ns.append(int(cur_fil.stem.split(\"_\")[-1]))\n",
    "    \n",
    "    err_v = np.median(err_mats[err_type], axis=0)\n",
    "    cv_err_v = np.median(cv_err_mat, axis=0)\n",
    "    min_v = np.min(cv_err_v[:, :])\n",
    "    \n",
    "    best_lams.append(cur_paras.can_lams[np.argwhere(cv_err_v.reshape(-1) == min_v)[0][0]])\n",
    "    #errs.append(np.min(err_v))\n",
    "    errs.append(err_v[cv_err_v==min_v])\n",
    "    min_errs.append(_beta_err_bd(cur_paras))\n",
    "    \n",
    "plt.figure(figsize=[10, 5])\n",
    "plt.plot(ns[:], errs[:], \"o-\")\n",
    "#plt.plot(ns, min_errs, \"--\")\n",
    "plt.xscale(\"log\")\n",
    "plt.ylabel(err_type, fontsize=15)\n",
    "plt.xlabel(\"Sample size\", fontsize=15)"
   ]
  },
  {
   "cell_type": "code",
   "execution_count": 53,
   "id": "aae768bf",
   "metadata": {
    "ExecuteTime": {
     "end_time": "2022-12-16T17:49:57.128036Z",
     "start_time": "2022-12-16T17:49:57.120563Z"
    }
   },
   "outputs": [
    {
     "data": {
      "text/plain": [
       "array([[1.11137355],\n",
       "       [1.11137355],\n",
       "       [1.11137355],\n",
       "       [1.11137355],\n",
       "       [1.1081673 ],\n",
       "       [1.10109084],\n",
       "       [1.08435455],\n",
       "       [1.07499957],\n",
       "       [1.07888221],\n",
       "       [2.04240712],\n",
       "       [2.90793975]])"
      ]
     },
     "execution_count": 53,
     "metadata": {},
     "output_type": "execute_result"
    }
   ],
   "source": [
    "cv_err_v"
   ]
  },
  {
   "cell_type": "code",
   "execution_count": null,
   "id": "cfb27b88",
   "metadata": {},
   "outputs": [],
   "source": []
  }
 ],
 "metadata": {
  "kernelspec": {
   "display_name": "Python 3 (ipykernel)",
   "language": "python",
   "name": "python3"
  },
  "language_info": {
   "codemirror_mode": {
    "name": "ipython",
    "version": 3
   },
   "file_extension": ".py",
   "mimetype": "text/x-python",
   "name": "python",
   "nbconvert_exporter": "python",
   "pygments_lexer": "ipython3",
   "version": "3.9.7"
  },
  "toc": {
   "base_numbering": 1,
   "nav_menu": {},
   "number_sections": true,
   "sideBar": true,
   "skip_h1_title": false,
   "title_cell": "Table of Contents",
   "title_sidebar": "Contents",
   "toc_cell": false,
   "toc_position": {
    "height": "calc(100% - 180px)",
    "left": "10px",
    "top": "150px",
    "width": "384px"
   },
   "toc_section_display": true,
   "toc_window_display": true
  }
 },
 "nbformat": 4,
 "nbformat_minor": 5
}
