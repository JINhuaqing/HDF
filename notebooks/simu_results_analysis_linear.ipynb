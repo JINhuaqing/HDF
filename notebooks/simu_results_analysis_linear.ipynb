{
 "cells": [
  {
   "cell_type": "code",
   "execution_count": 1,
   "id": "345d20cd",
   "metadata": {
    "ExecuteTime": {
     "end_time": "2022-12-09T20:21:58.579037Z",
     "start_time": "2022-12-09T20:21:58.561926Z"
    }
   },
   "outputs": [],
   "source": [
    "import sys\n",
    "sys.path.append(\"../mypkg\")"
   ]
  },
  {
   "cell_type": "code",
   "execution_count": 81,
   "id": "12a9ea02",
   "metadata": {
    "ExecuteTime": {
     "end_time": "2022-12-09T21:11:48.055893Z",
     "start_time": "2022-12-09T21:11:48.048472Z"
    }
   },
   "outputs": [],
   "source": [
    "import numpy as np\n",
    "import torch\n",
    "import matplotlib.pyplot as plt\n",
    "import seaborn as sns\n",
    "import xarray as xr\n",
    "from scipy.stats import pearsonr\n",
    "\n",
    "from easydict import EasyDict as edict\n",
    "from tqdm import trange, tqdm\n",
    "from scipy.io import loadmat\n",
    "\n",
    "plt.style.use('ggplot')\n",
    "plt.rcParams[\"savefig.bbox\"] = \"tight\""
   ]
  },
  {
   "cell_type": "code",
   "execution_count": 43,
   "id": "f5aba78f",
   "metadata": {
    "ExecuteTime": {
     "end_time": "2022-12-09T20:41:29.462240Z",
     "start_time": "2022-12-09T20:41:29.456780Z"
    }
   },
   "outputs": [],
   "source": [
    "from utils.misc import save_pkl, load_pkl\n",
    "from constants import RES_ROOT, DATA_ROOT, FIG_ROOT\n",
    "from utils.matrix import col_vec_fn, col_vec2mat_fn, conju_grad, svd_inverse"
   ]
  },
  {
   "cell_type": "markdown",
   "id": "4391f1b8",
   "metadata": {},
   "source": [
    "## Parameters and fns"
   ]
  },
  {
   "cell_type": "markdown",
   "id": "59f5d166",
   "metadata": {},
   "source": [
    "### Params"
   ]
  },
  {
   "cell_type": "code",
   "execution_count": 6,
   "id": "41b89f4e",
   "metadata": {
    "ExecuteTime": {
     "end_time": "2022-12-09T20:24:12.003414Z",
     "start_time": "2022-12-09T20:24:11.998327Z"
    }
   },
   "outputs": [],
   "source": [
    "_paras = edict()\n",
    "_paras.res_dir = RES_ROOT/\"linear_1\""
   ]
  },
  {
   "cell_type": "code",
   "execution_count": 9,
   "id": "9ac092b1",
   "metadata": {
    "ExecuteTime": {
     "end_time": "2022-12-09T20:25:08.216731Z",
     "start_time": "2022-12-09T20:25:07.617638Z"
    }
   },
   "outputs": [
    {
     "data": {
      "text/plain": [
       "dict_keys(['model', 'num_rep', 'ns', 'npts', 'd', 'q', 'sigma2', 'sel_idx', 'stop_cv', 'max_iter', 'can_lams', 'can_Rfcts', 'bsp', 'types_', 'alp_GT', 'Gam_GT', 'Rmin', 'basis_mat', 'save_dir'])"
      ]
     },
     "execution_count": 9,
     "metadata": {},
     "output_type": "execute_result"
    }
   ],
   "source": [
    "paras = load_pkl(_paras.res_dir/\"paras.pkl\")\n",
    "paras.keys()"
   ]
  },
  {
   "cell_type": "code",
   "execution_count": null,
   "id": "c2f86a45",
   "metadata": {},
   "outputs": [],
   "source": [
    "paras.ns = [100, 200, 400, 800, 1600, 3200]"
   ]
  },
  {
   "cell_type": "markdown",
   "id": "d86260b4",
   "metadata": {},
   "source": [
    "### Fn"
   ]
  },
  {
   "cell_type": "code",
   "execution_count": 20,
   "id": "1f0b7aa1",
   "metadata": {
    "ExecuteTime": {
     "end_time": "2022-12-09T20:31:34.250136Z",
     "start_time": "2022-12-09T20:31:34.241014Z"
    }
   },
   "outputs": [],
   "source": [
    "def _filename2paras(p):\n",
    "    \"\"\"Get the parameters (lam, Rfct, n) based on filename\n",
    "    \"\"\"\n",
    "    sep_p = p.stem.split(\"_\")\n",
    "    assert sep_p[1].startswith(\"lam\")\n",
    "    assert sep_p[2].startswith(\"Rfct\")\n",
    "    assert sep_p[3].startswith(\"n\")\n",
    "    lam_v = int(sep_p[1].split(\"-\")[-1])/100\n",
    "    Rfct_v = int(sep_p[2].split(\"-\")[-1])/10\n",
    "    n_v = int(sep_p[3].split(\"-\")[-1])\n",
    "    res = edict()\n",
    "    res.lam = lam_v\n",
    "    res.Rfct = Rfct_v\n",
    "    res.n = n_v\n",
    "    return res"
   ]
  },
  {
   "cell_type": "code",
   "execution_count": 137,
   "id": "b5d0f6b6",
   "metadata": {
    "ExecuteTime": {
     "end_time": "2022-12-09T21:46:07.910797Z",
     "start_time": "2022-12-09T21:46:07.898231Z"
    }
   },
   "outputs": [],
   "source": [
    "def _res2err(opt, paras):\n",
    "    \"\"\"The fn to return the error\"\"\"\n",
    "    errs = edict()\n",
    "    alp_est = opt.thetak[:paras.q].numpy()\n",
    "    gam_est = opt.Gamk.numpy()\n",
    "    gamN_diff = col_vec_fn(gam_est - paras.Gam_GT)/np.sqrt(paras.bsp.N)\n",
    "    alp_diff = alp_est - paras.alp_GT\n",
    "    \n",
    "    gam_est_l0 = np.linalg.norm(gam_est, axis=0)[paras.sel_idx] == 0\n",
    "    gam_gt_l0 = np.linalg.norm(paras.Gam_GT, axis=0)[paras.sel_idx] == 0\n",
    "    errs.gam_err_l0 = np.bitwise_xor(gam_est_l0, gam_gt_l0).sum()\n",
    "    errs.gam_err_l0_neg = (gam_gt_l0.astype(int) -  gam_est_l0.astype(int))[np.bitwise_not(gam_gt_l0)].sum()\n",
    "    \n",
    "    errs.gam_err_l1 = np.abs(gamN_diff).sum()\n",
    "    errs.gam_err_l2 = np.linalg.norm(gamN_diff)\n",
    "    \n",
    "    errs.alp_err_l1 = np.abs(alp_diff).sum()\n",
    "    errs.alp_err_l2 = np.linalg.norm(alp_diff)\n",
    "    \n",
    "    errs.overall_l1 = errs.gam_err_l1 + errs.alp_err_l1\n",
    "    errs.overall_l2 = np.sqrt(errs.gam_err_l2**2 + errs.alp_err_l2**2)\n",
    "    return errs"
   ]
  },
  {
   "cell_type": "code",
   "execution_count": null,
   "id": "c17a4a85",
   "metadata": {},
   "outputs": [],
   "source": []
  },
  {
   "cell_type": "markdown",
   "id": "fa76738a",
   "metadata": {},
   "source": [
    "## Load data"
   ]
  },
  {
   "cell_type": "markdown",
   "id": "bba8e5db",
   "metadata": {},
   "source": [
    "## Analysis"
   ]
  },
  {
   "cell_type": "code",
   "execution_count": 148,
   "id": "243eac6a",
   "metadata": {
    "ExecuteTime": {
     "end_time": "2022-12-09T21:49:20.459113Z",
     "start_time": "2022-12-09T21:49:20.448755Z"
    }
   },
   "outputs": [],
   "source": [
    "cur_n = 3200\n",
    "fils = list(_paras.res_dir.glob(f\"result_*n-{cur_n}*.pkl\"))\n",
    "sorted_fils = sorted(fils, key=lambda x: _filename2paras(x).lam*100+_filename2paras(x).Rfct*1)"
   ]
  },
  {
   "cell_type": "code",
   "execution_count": 149,
   "id": "cb1a2eac",
   "metadata": {
    "ExecuteTime": {
     "end_time": "2022-12-09T21:56:56.686988Z",
     "start_time": "2022-12-09T21:49:21.024641Z"
    },
    "code_folding": [
     0
    ]
   },
   "outputs": [
    {
     "name": "stderr",
     "output_type": "stream",
     "text": [
      "100%|██████████████████████████████████████████████████████████████████████████████████████████████████████████████████████████████████████████| 25/25 [07:35<00:00, 18.22s/it]\n"
     ]
    }
   ],
   "source": [
    "# load file first to save time\n",
    "resss = []\n",
    "for cur_fil in tqdm(sorted_fils):\n",
    "    ress = load_pkl(cur_fil)\n",
    "    resss.append(ress)"
   ]
  },
  {
   "cell_type": "code",
   "execution_count": 195,
   "id": "35c53f9b",
   "metadata": {
    "ExecuteTime": {
     "end_time": "2022-12-09T22:46:40.070795Z",
     "start_time": "2022-12-09T22:46:39.860077Z"
    }
   },
   "outputs": [],
   "source": [
    "err_mat = np.zeros((len(paras.can_lams), len(paras.can_Rfcts)))\n",
    "for ix, cur_fil in enumerate(sorted_fils):\n",
    "    cur_para = _filename2paras(cur_fil)\n",
    "    \n",
    "    row_idx = paras.can_lams.index(cur_para.lam)\n",
    "    col_idx = paras.can_Rfcts.index(cur_para.Rfct)\n",
    "    \n",
    "    \n",
    "    ress = resss[ix]\n",
    "    errs = []\n",
    "    for cur_res in ress:\n",
    "        cur_res = cur_res[0]\n",
    "        if not cur_res[-1]:\n",
    "            err =_res2err(cur_res[0], paras)\n",
    "            errs.append(err)\n",
    "            \n",
    "    sel_err = np.mean([err.overall_l2 for err in errs])\n",
    "    err_mat[row_idx, col_idx] = sel_err"
   ]
  },
  {
   "cell_type": "code",
   "execution_count": 196,
   "id": "abd628b4",
   "metadata": {
    "ExecuteTime": {
     "end_time": "2022-12-09T22:46:40.566055Z",
     "start_time": "2022-12-09T22:46:40.372651Z"
    }
   },
   "outputs": [
    {
     "data": {
      "image/png": "[encoded data removed]",
      "text/plain": [
       "<Figure size 864x720 with 2 Axes>"
      ]
     },
     "metadata": {},
     "output_type": "display_data"
    }
   ],
   "source": [
    "plt.figure(figsize=[12, 10])\n",
    "sns.heatmap(err_mat, annot=np.round(err_mat, 3), square=1, fmt=\".2f\")\n",
    "plt.xlabel(\"Rfct\")\n",
    "plt.ylabel(\"Lam\")\n",
    "plt.xticks(np.arange(len(paras.can_Rfcts))+0.5, paras.can_Rfcts)\n",
    "plt.yticks(np.arange(len(paras.can_lams))+0.5, paras.can_lams);"
   ]
  },
  {
   "cell_type": "code",
   "execution_count": 182,
   "id": "d0c1775d",
   "metadata": {
    "ExecuteTime": {
     "end_time": "2022-12-09T22:39:24.558296Z",
     "start_time": "2022-12-09T22:39:24.550545Z"
    }
   },
   "outputs": [
    {
     "data": {
      "text/plain": [
       "array([[0.2293361 , 0.23384581, 0.23384581, 0.23384581, 0.23384581],\n",
       "       [0.2293361 , 0.23384581, 0.23384581, 0.23384581, 0.23384581],\n",
       "       [0.71564381, 0.687032  , 0.687032  , 0.687032  , 0.687032  ],\n",
       "       [0.74268175, 0.7443916 , 0.7443916 , 0.7443916 , 0.7443916 ],\n",
       "       [0.74268175, 0.7443916 , 0.7443916 , 0.7443916 , 0.7443916 ]])"
      ]
     },
     "execution_count": 182,
     "metadata": {},
     "output_type": "execute_result"
    }
   ],
   "source": [
    "err_mat"
   ]
  },
  {
   "cell_type": "code",
   "execution_count": null,
   "id": "ca9bafa3",
   "metadata": {},
   "outputs": [],
   "source": []
  }
 ],
 "metadata": {
  "kernelspec": {
   "display_name": "Python 3 (ipykernel)",
   "language": "python",
   "name": "python3"
  },
  "language_info": {
   "codemirror_mode": {
    "name": "ipython",
    "version": 3
   },
   "file_extension": ".py",
   "mimetype": "text/x-python",
   "name": "python",
   "nbconvert_exporter": "python",
   "pygments_lexer": "ipython3",
   "version": "3.9.7"
  },
  "toc": {
   "base_numbering": 1,
   "nav_menu": {},
   "number_sections": true,
   "sideBar": true,
   "skip_h1_title": false,
   "title_cell": "Table of Contents",
   "title_sidebar": "Contents",
   "toc_cell": false,
   "toc_position": {},
   "toc_section_display": true,
   "toc_window_display": false
  }
 },
 "nbformat": 4,
 "nbformat_minor": 5
}
