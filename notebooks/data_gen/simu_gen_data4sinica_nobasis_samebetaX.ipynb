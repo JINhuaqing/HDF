{
 "cells": [
  {
   "cell_type": "markdown",
   "id": "faf0a805",
   "metadata": {},
   "source": [
    "This file contains python code to generate data for comparing with sinica paper\n",
    "\n",
    "Note the method from sinica paper does not consider the covariate and intercept, \n",
    "\n",
    "moreover, it is centered across the sample size\n",
    "\n",
    "Note here I save the orginal data (X), not the theta. "
   ]
  },
  {
   "cell_type": "code",
   "execution_count": 1,
   "id": "02ae980e",
   "metadata": {
    "ExecuteTime": {
     "end_time": "2023-05-31T19:57:23.490285Z",
     "start_time": "2023-05-31T19:57:23.481769Z"
    },
    "execution": {
     "iopub.execute_input": "2023-09-22T00:04:38.266751Z",
     "iopub.status.busy": "2023-09-22T00:04:38.265987Z",
     "iopub.status.idle": "2023-09-22T00:04:38.280274Z",
     "shell.execute_reply": "2023-09-22T00:04:38.279012Z",
     "shell.execute_reply.started": "2023-09-22T00:04:38.266703Z"
    },
    "tags": []
   },
   "outputs": [],
   "source": [
    "import sys\n",
    "sys.path.append(\"../../mypkg\")"
   ]
  },
  {
   "cell_type": "code",
   "execution_count": 2,
   "id": "5905922c-32a9-4984-9d71-59e82d8e60a8",
   "metadata": {
    "execution": {
     "iopub.execute_input": "2023-09-22T00:04:38.282386Z",
     "iopub.status.busy": "2023-09-22T00:04:38.281648Z",
     "iopub.status.idle": "2023-09-22T00:04:40.792317Z",
     "shell.execute_reply": "2023-09-22T00:04:40.791531Z",
     "shell.execute_reply.started": "2023-09-22T00:04:38.282344Z"
    },
    "tags": []
   },
   "outputs": [],
   "source": [
    "import numpy as np\n",
    "import torch\n",
    "import matplotlib.pyplot as plt\n",
    "import seaborn as sns\n",
    "from scipy.stats import pearsonr\n",
    "from numbers import Number\n",
    "import multiprocessing as mp\n",
    "\n",
    "from easydict import EasyDict as edict\n",
    "from tqdm import trange, tqdm\n",
    "from scipy.io import loadmat\n",
    "from pprint import pprint\n",
    "import itertools\n",
    "from scipy.stats import chi2\n"
   ]
  },
  {
   "cell_type": "code",
   "execution_count": 3,
   "id": "995bc2a1-dfa4-48e8-889c-8a35c8b11eaa",
   "metadata": {
    "execution": {
     "iopub.execute_input": "2023-09-22T00:04:40.793701Z",
     "iopub.status.busy": "2023-09-22T00:04:40.793228Z",
     "iopub.status.idle": "2023-09-22T00:04:40.817225Z",
     "shell.execute_reply": "2023-09-22T00:04:40.816777Z",
     "shell.execute_reply.started": "2023-09-22T00:04:40.793675Z"
    },
    "tags": []
   },
   "outputs": [],
   "source": [
    "# This will reload all imports as soon as the code changes\n",
    "%load_ext autoreload\n",
    "%autoreload 2"
   ]
  },
  {
   "cell_type": "code",
   "execution_count": 4,
   "id": "b0aa91b2",
   "metadata": {
    "ExecuteTime": {
     "end_time": "2023-05-31T19:57:59.558229Z",
     "start_time": "2023-05-31T19:57:34.292612Z"
    },
    "execution": {
     "iopub.execute_input": "2023-09-22T00:04:40.818644Z",
     "iopub.status.busy": "2023-09-22T00:04:40.818418Z",
     "iopub.status.idle": "2023-09-22T00:04:41.572745Z",
     "shell.execute_reply": "2023-09-22T00:04:41.572104Z",
     "shell.execute_reply.started": "2023-09-22T00:04:40.818630Z"
    },
    "tags": []
   },
   "outputs": [],
   "source": [
    "from constants import DATA_ROOT, RES_ROOT, FIG_ROOT, MIDRES_ROOT\n",
    "from default_paras import def_paras\n",
    "\n",
    "from hdf_utils.data_gen import gen_covs, gen_simu_psd, gen_simu_ts\n",
    "from hdf_utils.fns import fn1, fn2, fn3, fn4, fn5, zero_fn\n",
    "from hdf_utils.fns_sinica import coef_fn, fourier_basis_fn, gen_sini_Xthetas\n",
    "from hdf_utils.likelihood import obt_lin_tm\n",
    "from hdf_utils.SIS import SIS_linear\n",
    "from utils.matrix import col_vec_fn, col_vec2mat_fn, conju_grad, svd_inverse\n",
    "from utils.functions import logit_fn\n",
    "from utils.misc import save_pkl, load_pkl\n",
    "from splines import obt_bsp_basis_Rfn, obt_bsp_basis_Rfn_wrapper\n",
    "\n",
    "from joblib import Parallel, delayed"
   ]
  },
  {
   "cell_type": "code",
   "execution_count": 5,
   "id": "fe0a4a46",
   "metadata": {
    "ExecuteTime": {
     "end_time": "2023-05-31T19:57:59.621784Z",
     "start_time": "2023-05-31T19:57:59.568097Z"
    },
    "execution": {
     "iopub.execute_input": "2023-09-22T00:04:41.573766Z",
     "iopub.status.busy": "2023-09-22T00:04:41.573505Z",
     "iopub.status.idle": "2023-09-22T00:04:41.598690Z",
     "shell.execute_reply": "2023-09-22T00:04:41.598272Z",
     "shell.execute_reply.started": "2023-09-22T00:04:41.573749Z"
    },
    "tags": []
   },
   "outputs": [],
   "source": [
    "plt.style.use(FIG_ROOT/\"base.mplstyle\")"
   ]
  },
  {
   "cell_type": "code",
   "execution_count": 6,
   "id": "fdddf8a6",
   "metadata": {
    "ExecuteTime": {
     "end_time": "2023-05-31T19:57:59.637665Z",
     "start_time": "2023-05-31T19:57:59.633997Z"
    },
    "execution": {
     "iopub.execute_input": "2023-09-22T00:04:41.599697Z",
     "iopub.status.busy": "2023-09-22T00:04:41.599465Z",
     "iopub.status.idle": "2023-09-22T00:04:41.628764Z",
     "shell.execute_reply": "2023-09-22T00:04:41.628333Z",
     "shell.execute_reply.started": "2023-09-22T00:04:41.599683Z"
    },
    "tags": []
   },
   "outputs": [],
   "source": [
    "torch.set_default_tensor_type(torch.DoubleTensor)"
   ]
  },
  {
   "cell_type": "code",
   "execution_count": null,
   "id": "d0af2f35",
   "metadata": {},
   "outputs": [],
   "source": []
  },
  {
   "cell_type": "markdown",
   "id": "dd9c6514",
   "metadata": {},
   "source": [
    "# Param and fns"
   ]
  },
  {
   "cell_type": "markdown",
   "id": "21e4ccea",
   "metadata": {},
   "source": [
    "## Params"
   ]
  },
  {
   "cell_type": "code",
   "execution_count": 7,
   "id": "76fb7490-4043-4bd3-a6dd-25d8f4de65e6",
   "metadata": {
    "execution": {
     "iopub.execute_input": "2023-09-22T00:04:41.629741Z",
     "iopub.status.busy": "2023-09-22T00:04:41.629520Z",
     "iopub.status.idle": "2023-09-22T00:04:41.658499Z",
     "shell.execute_reply": "2023-09-22T00:04:41.658108Z",
     "shell.execute_reply.started": "2023-09-22T00:04:41.629727Z"
    },
    "tags": []
   },
   "outputs": [],
   "source": [
    "np.random.seed(0)\n",
    "paras = edict(def_paras.copy())\n",
    "\n",
    "paras.num_rep = 1000\n",
    "paras.n = 100 # num of data obs to be genareted\n",
    "paras.npts = 100 # num of pts to evaluate X(s)\n",
    "paras.d = 200 # num of ROIs\n",
    "paras.q = 1 # num of other covariates\n",
    "paras.sigma2 = 1 # variance of the error\n",
    "paras.types_ = [\"int\"]\n",
    "paras.srho = 0.3 # corr from sinica\n",
    "\n",
    "# b-spline\n",
    "paras.x = np.linspace(0, 1, paras.npts)\n",
    "\n",
    "paras.alp_GT = np.array([0])\n",
    "# fourier basis\n",
    "cs = [0.2, 0.0, 0.0] # for sinica paper\n",
    "paras.fourier_basis = fourier_basis_fn(paras.x)[:, :]\n",
    "paras.fourier_basis_coefs = ([cs[0]*coef_fn(0.2), cs[1]*coef_fn(0.2), cs[2]*coef_fn(0.2)] + \n",
    "                             [np.zeros(50)] * (paras.d-3-1) +\n",
    "                             [coef_fn(0.2)*1]\n",
    "                             )\n",
    "paras.fourier_basis_coefs = np.array(paras.fourier_basis_coefs).T \n",
    "paras.beta_GT = paras.fourier_basis @ paras.fourier_basis_coefs \n"
   ]
  },
  {
   "cell_type": "code",
   "execution_count": null,
   "id": "b7373e3d-c538-445d-869c-4707888554d1",
   "metadata": {},
   "outputs": [],
   "source": []
  },
  {
   "cell_type": "markdown",
   "id": "21999df5-79b0-467a-8ff9-286ab6f36d75",
   "metadata": {
    "ExecuteTime": {
     "end_time": "2022-12-08T18:09:55.509389Z",
     "start_time": "2022-12-08T18:09:55.343396Z"
    }
   },
   "source": [
    "## Fns"
   ]
  },
  {
   "cell_type": "code",
   "execution_count": 8,
   "id": "7ab0e5bc-ae5c-45dc-9c0d-832ccca719ef",
   "metadata": {
    "execution": {
     "iopub.execute_input": "2023-09-22T00:04:41.659124Z",
     "iopub.status.busy": "2023-09-22T00:04:41.658985Z",
     "iopub.status.idle": "2023-09-22T00:04:41.689486Z",
     "shell.execute_reply": "2023-09-22T00:04:41.689106Z",
     "shell.execute_reply.started": "2023-09-22T00:04:41.659112Z"
    },
    "tags": []
   },
   "outputs": [],
   "source": [
    "def _gen_simu_data_sinica(seed, paras):\n",
    "    \"\"\"\n",
    "    Generate simulated data for all parameters.\n",
    "\n",
    "    Args:\n",
    "        seed (int): Seed for random number generator.\n",
    "        paras (dict): Dictionary containing the following parameters:\n",
    "            - srho: corr from sinica\n",
    "            - fourier_basis: The fourier basis for generating X, npts x nbasis\n",
    "            - n (int): Number of samples.\n",
    "            - d (int): Number of dimensions.\n",
    "            - q (int): Number of covariates.\n",
    "            - types_ (list): List of types for generating covariates.\n",
    "            - alp_GT (list): List of ground truth alpha values.\n",
    "            - beta_GT (list): List of ground truth beta values.\n",
    "            - sigma2 (float): Variance of the noise.\n",
    "\n",
    "    Returns:\n",
    "        all_data (dict): Dictionary containing the following simulated data:\n",
    "            - X (torch.Tensor): Tensor of shape (n, d, npts) containing the simulated PSD.\n",
    "            - Y (torch.Tensor): Tensor of shape (n,) containing the response variable.\n",
    "            - Z (torch.Tensor): Tensor of shape (n, q) containing the covariates.\n",
    "    \"\"\"\n",
    "    np.random.seed(seed)\n",
    "    _paras = edict(paras.copy())\n",
    "    # simulated PSD\n",
    "    assert len(_paras.types_) == _paras.q\n",
    "    assert len(_paras.alp_GT) == _paras.q\n",
    "   \n",
    "    thetas = gen_sini_Xthetas(_paras.srho, _paras.n, _paras.d);\n",
    "    simu_curvs = thetas @ _paras.fourier_basis.T;\n",
    "    simu_covs = gen_covs(_paras.n, _paras.types_)\n",
    "    \n",
    "    # linear term and Y\n",
    "    int_part = np.sum(_paras.beta_GT.T* simu_curvs[:, :, :], axis=1).mean(axis=1)\n",
    "    cov_part = simu_covs @ _paras.alp_GT \n",
    "    \n",
    "    # linear term\n",
    "    lin_term = cov_part + int_part\n",
    "    \n",
    "    # Y \n",
    "    Y = lin_term + np.random.randn(_paras.n)*np.sqrt(_paras.sigma2)\n",
    "\n",
    "    # for Sinica paper, center X and Y\n",
    "    Y_centered = Y - Y.mean(axis=0, keepdims=True)\n",
    "    X_centered = simu_curvs - simu_curvs.mean(axis=0, keepdims=True)\n",
    "    sinica_data = {'Y_centered':Y_centered, \n",
    "                   'X_centered':X_centered}\n",
    "    \n",
    "    # To torch\n",
    "    X = torch.Tensor(X_centered) # n x d x npts\n",
    "    Z = torch.Tensor(simu_covs) # n x q\n",
    "    Y = torch.Tensor(Y_centered)\n",
    "    \n",
    "    all_data = edict()\n",
    "    all_data.X = X\n",
    "    all_data.Y = Y\n",
    "    all_data.Z = Z\n",
    "    return all_data, edict(sinica_data)"
   ]
  },
  {
   "cell_type": "code",
   "execution_count": 9,
   "id": "33ef6b46-e05d-4f13-8682-aef13fcefcb0",
   "metadata": {
    "execution": {
     "iopub.execute_input": "2023-09-22T00:04:41.690383Z",
     "iopub.status.busy": "2023-09-22T00:04:41.690167Z",
     "iopub.status.idle": "2023-09-22T00:04:41.719567Z",
     "shell.execute_reply": "2023-09-22T00:04:41.719146Z",
     "shell.execute_reply.started": "2023-09-22T00:04:41.690370Z"
    },
    "tags": []
   },
   "outputs": [],
   "source": [
    "# check whether my seed can control the randonness or not \n",
    "if False:\n",
    "    seed = 1\n",
    "    a, b = _gen_simu_data_sinica(seed, paras);\n",
    "    res = load_pkl(RES_ROOT/\"simu_linear_sinica_samebetaX_tmp\"/f\"seed_{seed}-lam_200-N_12-c1_{cs[0]*1000:.0f}_est.pkl\", verbose=False);\n",
    "    print((a.Y - res.cur_data.Y).norm(), (a.X - res.cur_data.X).norm())"
   ]
  },
  {
   "cell_type": "code",
   "execution_count": null,
   "id": "911af57c",
   "metadata": {},
   "outputs": [],
   "source": []
  },
  {
   "cell_type": "markdown",
   "id": "000c8870-7efb-401a-962f-d867aaffd1f1",
   "metadata": {},
   "source": [
    "# Generate data\n"
   ]
  },
  {
   "cell_type": "code",
   "execution_count": 10,
   "id": "190cc282-67f5-4a4e-b566-a49e57fa5cb4",
   "metadata": {
    "execution": {
     "iopub.execute_input": "2023-09-22T00:04:41.720388Z",
     "iopub.status.busy": "2023-09-22T00:04:41.720215Z",
     "iopub.status.idle": "2023-09-22T00:07:56.365914Z",
     "shell.execute_reply": "2023-09-22T00:07:56.364554Z",
     "shell.execute_reply.started": "2023-09-22T00:04:41.720374Z"
    },
    "tags": []
   },
   "outputs": [
    {
     "name": "stderr",
     "output_type": "stream",
     "text": [
      "100%|█████████████████████████████████████████████████████████████████████████████████████████████████████████████████████████████████████████████████████████████████████| 1000/1000 [03:07<00:00,  5.33it/s]\n"
     ]
    }
   ],
   "source": [
    "from scipy.io import savemat\n",
    "def _get_filename_mat(params, seed):\n",
    "    params = edict(params.copy())\n",
    "    keys = [\"d\", \"n\"]\n",
    "    folder_name = 'SinicaX_'+'_'.join(f\"{k}-{params[k]}\" for k in keys) + \"_test1\"\n",
    "    folder_name = MIDRES_ROOT/f\"matlab_simu_data/{folder_name}\"\n",
    "    if not folder_name.exists():\n",
    "        folder_name.mkdir()\n",
    "    return folder_name /f'c1_{cs[0]*1000:.0f}_seed_{seed}.mat'\n",
    "\n",
    "def _run_fn(seed):\n",
    "    _, sinica_data = _gen_simu_data_sinica(seed, paras)\n",
    "    savemat(_get_filename_mat(paras, seed), sinica_data)\n",
    "    return None\n",
    "with Parallel(n_jobs=15) as parallel:\n",
    "    ress = parallel(delayed(_run_fn)(seed) for seed in tqdm(range(paras.num_rep), total=paras.num_rep))"
   ]
  },
  {
   "cell_type": "code",
   "execution_count": 11,
   "id": "14808b8e-c28b-42e9-aab4-a9e1e47b7cca",
   "metadata": {
    "execution": {
     "iopub.execute_input": "2023-09-22T00:07:56.368486Z",
     "iopub.status.busy": "2023-09-22T00:07:56.367829Z",
     "iopub.status.idle": "2023-09-22T00:07:57.002801Z",
     "shell.execute_reply": "2023-09-22T00:07:57.001637Z",
     "shell.execute_reply.started": "2023-09-22T00:07:56.368438Z"
    },
    "tags": []
   },
   "outputs": [],
   "source": [
    "if False:\n",
    "    prefix = \"test2\"\n",
    "    seed = 10\n",
    "    for seed in range(20):\n",
    "        res1 = loadmat(MIDRES_ROOT/f\"matlab_simu_data/SinicaX_d-200_n-100_{prefix}\"/\n",
    "                       f\"c1_{cs[0]*1000:.0f}_seed_{seed}.mat\")\n",
    "        res2 = load_pkl(RES_ROOT/f\"simu_linear_sinica_samebetaX_{prefix}\"/\n",
    "                        f\"seed_{seed}-lam_100-N_6-c1_{cs[0]*1000:.0f}_est.pkl\", verbose=False);\n",
    "        print(\n",
    "            np.linalg.norm(res1[\"Y_centered\"] - res2.model.Y.numpy()), \n",
    "            np.linalg.norm(res1[\"X_centered\"][:, res2._paras.keep_idxs]  - res2.model.X.numpy()), \n",
    "        )"
   ]
  },
  {
   "cell_type": "code",
   "execution_count": null,
   "id": "4da6e90a-418e-4cfc-9bfb-3cf2b0fcdffd",
   "metadata": {},
   "outputs": [],
   "source": []
  }
 ],
 "metadata": {
  "kernelspec": {
   "display_name": "Python 3 (ipykernel)",
   "language": "python",
   "name": "python3"
  },
  "language_info": {
   "codemirror_mode": {
    "name": "ipython",
    "version": 3
   },
   "file_extension": ".py",
   "mimetype": "text/x-python",
   "name": "python",
   "nbconvert_exporter": "python",
   "pygments_lexer": "ipython3",
   "version": "3.9.7"
  },
  "toc": {
   "base_numbering": 1,
   "nav_menu": {},
   "number_sections": true,
   "sideBar": true,
   "skip_h1_title": false,
   "title_cell": "Table of Contents",
   "title_sidebar": "Contents",
   "toc_cell": false,
   "toc_position": {
    "height": "calc(100% - 180px)",
    "left": "10px",
    "top": "150px",
    "width": "165px"
   },
   "toc_section_display": true,
   "toc_window_display": true
  },
  "toc-autonumbering": true
 },
 "nbformat": 4,
 "nbformat_minor": 5
}
