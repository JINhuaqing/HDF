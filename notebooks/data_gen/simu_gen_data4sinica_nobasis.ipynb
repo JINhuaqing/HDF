{
 "cells": [
  {
   "cell_type": "markdown",
   "id": "faf0a805",
   "metadata": {},
   "source": [
    "This file contains python code to generate data for comparing with sinica paper\n",
    "\n",
    "Note the method from sinica paper does not consider the covariate and intercept, \n",
    "\n",
    "moreover, it is centered across the sample size\n",
    "\n",
    "Note here I save the orginal data (X), not the theta (on Aug 17, 2023)(on Aug 17, 2023). "
   ]
  },
  {
   "cell_type": "code",
   "execution_count": 1,
   "id": "02ae980e",
   "metadata": {
    "ExecuteTime": {
     "end_time": "2023-05-31T19:57:23.490285Z",
     "start_time": "2023-05-31T19:57:23.481769Z"
    },
    "execution": {
     "iopub.execute_input": "2023-08-17T08:48:54.065126Z",
     "iopub.status.busy": "2023-08-17T08:48:54.064749Z",
     "iopub.status.idle": "2023-08-17T08:48:54.073952Z",
     "shell.execute_reply": "2023-08-17T08:48:54.072347Z",
     "shell.execute_reply.started": "2023-08-17T08:48:54.065100Z"
    },
    "tags": []
   },
   "outputs": [],
   "source": [
    "import sys\n",
    "sys.path.append(\"../mypkg\")"
   ]
  },
  {
   "cell_type": "code",
   "execution_count": 2,
   "id": "023df78a",
   "metadata": {
    "ExecuteTime": {
     "end_time": "2023-05-31T19:57:34.238839Z",
     "start_time": "2023-05-31T19:57:23.494053Z"
    },
    "execution": {
     "iopub.execute_input": "2023-08-17T08:48:54.075652Z",
     "iopub.status.busy": "2023-08-17T08:48:54.075274Z",
     "iopub.status.idle": "2023-08-17T08:48:56.449722Z",
     "shell.execute_reply": "2023-08-17T08:48:56.448951Z",
     "shell.execute_reply.started": "2023-08-17T08:48:54.075632Z"
    },
    "tags": []
   },
   "outputs": [
    {
     "name": "stderr",
     "output_type": "stream",
     "text": [
      "/opt/conda/lib/python3.9/site-packages/scipy/__init__.py:146: UserWarning: A NumPy version >=1.16.5 and <1.23.0 is required for this version of SciPy (detected version 1.24.3\n",
      "  warnings.warn(f\"A NumPy version >={np_minversion} and <{np_maxversion}\"\n"
     ]
    }
   ],
   "source": [
    "import numpy as np\n",
    "import torch\n",
    "import matplotlib.pyplot as plt\n",
    "import seaborn as sns\n",
    "from scipy.stats import pearsonr\n",
    "from numbers import Number\n",
    "\n",
    "from easydict import EasyDict as edict\n",
    "from tqdm import trange\n",
    "from scipy.io import loadmat\n",
    "from pprint import pprint\n"
   ]
  },
  {
   "cell_type": "code",
   "execution_count": 3,
   "id": "b0aa91b2",
   "metadata": {
    "ExecuteTime": {
     "end_time": "2023-05-31T19:57:59.558229Z",
     "start_time": "2023-05-31T19:57:34.292612Z"
    },
    "execution": {
     "iopub.execute_input": "2023-08-17T08:48:56.450959Z",
     "iopub.status.busy": "2023-08-17T08:48:56.450547Z",
     "iopub.status.idle": "2023-08-17T08:48:57.183816Z",
     "shell.execute_reply": "2023-08-17T08:48:57.183054Z",
     "shell.execute_reply.started": "2023-08-17T08:48:56.450939Z"
    },
    "tags": []
   },
   "outputs": [],
   "source": [
    "from constants import DATA_ROOT, RES_ROOT, FIG_ROOT, MIDRES_ROOT\n",
    "from default_paras import def_paras\n",
    "\n",
    "from hdf_utils.data_gen import gen_covs, gen_simu_psd, gen_simu_ts\n",
    "from hdf_utils.fns import fn1, fn2, fn3, fn4, fn5, zero_fn\n",
    "from hdf_utils.fns_sinica import coef_fn, fourier_basis_fn\n",
    "from hdf_utils.likelihood import obt_lin_tm\n",
    "from hdf_utils.SIS import SIS_linear\n",
    "from utils.matrix import col_vec_fn, col_vec2mat_fn, conju_grad, svd_inverse\n",
    "from utils.functions import logit_fn\n",
    "from utils.misc import save_pkl, load_pkl\n",
    "from splines import obt_bsp_basis_Rfn, obt_bsp_basis_Rfn_wrapper\n",
    "\n",
    "from joblib import Parallel, delayed"
   ]
  },
  {
   "cell_type": "code",
   "execution_count": 4,
   "id": "fe0a4a46",
   "metadata": {
    "ExecuteTime": {
     "end_time": "2023-05-31T19:57:59.621784Z",
     "start_time": "2023-05-31T19:57:59.568097Z"
    },
    "execution": {
     "iopub.execute_input": "2023-08-17T08:48:57.185118Z",
     "iopub.status.busy": "2023-08-17T08:48:57.184783Z",
     "iopub.status.idle": "2023-08-17T08:48:57.190469Z",
     "shell.execute_reply": "2023-08-17T08:48:57.189980Z",
     "shell.execute_reply.started": "2023-08-17T08:48:57.185096Z"
    },
    "tags": []
   },
   "outputs": [],
   "source": [
    "plt.style.use(FIG_ROOT/\"base.mplstyle\")"
   ]
  },
  {
   "cell_type": "code",
   "execution_count": 5,
   "id": "fdddf8a6",
   "metadata": {
    "ExecuteTime": {
     "end_time": "2023-05-31T19:57:59.637665Z",
     "start_time": "2023-05-31T19:57:59.633997Z"
    },
    "execution": {
     "iopub.execute_input": "2023-08-17T08:48:57.192015Z",
     "iopub.status.busy": "2023-08-17T08:48:57.191734Z",
     "iopub.status.idle": "2023-08-17T08:48:57.214199Z",
     "shell.execute_reply": "2023-08-17T08:48:57.213639Z",
     "shell.execute_reply.started": "2023-08-17T08:48:57.191990Z"
    },
    "tags": []
   },
   "outputs": [],
   "source": [
    "torch.set_default_tensor_type(torch.DoubleTensor)"
   ]
  },
  {
   "cell_type": "code",
   "execution_count": null,
   "id": "d0af2f35",
   "metadata": {},
   "outputs": [],
   "source": []
  },
  {
   "cell_type": "markdown",
   "id": "dd9c6514",
   "metadata": {},
   "source": [
    "# Param and fns"
   ]
  },
  {
   "cell_type": "markdown",
   "id": "21e4ccea",
   "metadata": {},
   "source": [
    "## Params"
   ]
  },
  {
   "cell_type": "code",
   "execution_count": 10,
   "id": "fd29f0de",
   "metadata": {
    "ExecuteTime": {
     "end_time": "2023-05-31T23:31:16.397628Z",
     "start_time": "2023-05-31T23:31:16.221812Z"
    },
    "execution": {
     "iopub.execute_input": "2023-08-17T08:49:26.822902Z",
     "iopub.status.busy": "2023-08-17T08:49:26.822465Z",
     "iopub.status.idle": "2023-08-17T08:49:26.830737Z",
     "shell.execute_reply": "2023-08-17T08:49:26.830023Z",
     "shell.execute_reply.started": "2023-08-17T08:49:26.822879Z"
    },
    "tags": []
   },
   "outputs": [],
   "source": [
    "np.random.seed(0)\n",
    "paras = edict(def_paras.copy())\n",
    "\n",
    "# Others\n",
    "paras.num_rep = 1000 \n",
    "\n",
    "# generating dataset\n",
    "paras.n = 200 # num of data obs to be genareted\n",
    "paras.npts = 40 # num of pts to evaluate X(s)\n",
    "paras.d = 60 # num of ROIs\n",
    "paras.sigma2 = 0.1 # variance of the error\n",
    "paras.types_ = [\"int\"]\n",
    "\n",
    "# True parameters\n",
    "paras.freqs = np.linspace(2, 45, 40) # freqs\n",
    "paras.alp_GT = np.array([0])\n",
    "paras.x = np.linspace(0, 1, len(paras.freqs))\n",
    "\n",
    "# second way, fourier basis\n",
    "paras.x = np.linspace(0, 1, paras.npts)\n",
    "paras.fourier_basis = fourier_basis_fn(paras.x)\n",
    "paras.fourier_basis_coefs = ([coef_fn(0.5), coef_fn(0.3), coef_fn(0.1)] + \n",
    "                             [np.zeros(50)] * (paras.d-3-2) +\n",
    "                             [coef_fn(0.7), coef_fn(0.9)]\n",
    "                             )\n",
    "#paras.fourier_basis_coefs = ([np.zeros(50)] * (paras.d-2) +\n",
    "#                             [coef_fn(0.7), coef_fn(0.9)]\n",
    "#                             )\n",
    "paras.fourier_basis_coefs = np.array(paras.fourier_basis_coefs).T * 5\n",
    "paras.beta_GT = paras.fourier_basis @ paras.fourier_basis_coefs #* 100"
   ]
  },
  {
   "cell_type": "code",
   "execution_count": null,
   "id": "b7373e3d-c538-445d-869c-4707888554d1",
   "metadata": {},
   "outputs": [],
   "source": []
  },
  {
   "cell_type": "markdown",
   "id": "21999df5-79b0-467a-8ff9-286ab6f36d75",
   "metadata": {
    "ExecuteTime": {
     "end_time": "2022-12-08T18:09:55.509389Z",
     "start_time": "2022-12-08T18:09:55.343396Z"
    }
   },
   "source": [
    "## Fns"
   ]
  },
  {
   "cell_type": "code",
   "execution_count": 11,
   "id": "29fe6f01-b6ec-4883-8169-f0486fee616c",
   "metadata": {
    "execution": {
     "iopub.execute_input": "2023-08-17T08:49:32.060752Z",
     "iopub.status.busy": "2023-08-17T08:49:32.060310Z",
     "iopub.status.idle": "2023-08-17T08:49:32.072367Z",
     "shell.execute_reply": "2023-08-17T08:49:32.071763Z",
     "shell.execute_reply.started": "2023-08-17T08:49:32.060724Z"
    },
    "tags": []
   },
   "outputs": [],
   "source": [
    "def _is_exists(d, n, seed):\n",
    "    \"\"\"\n",
    "    Check if a file with the given parameters exists.\n",
    "\n",
    "    Args:\n",
    "    d (int): The value of d in the file name.\n",
    "    n (int): The value of n in the file name.\n",
    "    seed (int): The seed value in the file name.\n",
    "\n",
    "    Returns:\n",
    "    bool or Path: Returns the file path if the file exists, otherwise returns False.\n",
    "    \"\"\"\n",
    "    _get_n = lambda fil: int(fil.stem.split(\"-\")[-1])\n",
    "    fils = MIDRES_ROOT.glob(f\"PSD_d-{d}_n*\")\n",
    "    # We do not need fil with n as we know the data with corresponding seed does not exist\n",
    "    fils = [fil for fil in fils if _get_n(fil) !=n]\n",
    "    if len(fils) == 0:\n",
    "        return False\n",
    "    else:\n",
    "        fils = sorted(fils, key=_get_n)\n",
    "        ns = np.array([_get_n(fil) for fil in fils])\n",
    "        idxs = np.where(n <= ns)[0]\n",
    "        if len(idxs) == 0:\n",
    "            return False\n",
    "        else:\n",
    "            fil =fils[idxs[0]]\n",
    "            path = MIDRES_ROOT/fil/f\"seed_{seed}.pkl\"\n",
    "            return path if path.exists() else False\n",
    "def _get_filename(params):\n",
    "    keys = [\"d\", \"n\"]\n",
    "    folder_name = 'PSD_sinica_'+'_'.join(f\"{k}-{params[k]}\" for k in keys)\n",
    "    return folder_name + f'/seed_{params.seed}.pkl'\n",
    "\n",
    "def _gen_simu_data_sinica(seed, paras, verbose=True, is_gen=False):\n",
    "    \"\"\"\n",
    "    Generate simulated data for all parameters (including data for sinica paper)\n",
    "\n",
    "    Args:\n",
    "        seed (int): Seed for random number generator.\n",
    "        paras (dict): Dictionary containing the following parameters:\n",
    "            - n (int): Number of samples.\n",
    "            - d (int): Number of dimensions.\n",
    "            - q (int): Number of covariates.\n",
    "            - types_ (list): List of types for generating covariates.\n",
    "            - alp_GT (list): List of ground truth alpha values.\n",
    "            - beta_GT (list): List of ground truth beta values.\n",
    "            - freqs (list): List of frequencies for generating simulated PSD.\n",
    "            - sigma2 (float): Variance of the noise.\n",
    "        verbose(bool): Verbose or not\n",
    "        is_gen(bool): Only for generating or not. If True, only checking or generating X, not return anything.\n",
    "\n",
    "    Returns:\n",
    "        HDF_data (dict): Dictionary containing the following simulated data:\n",
    "            - X (torch.Tensor): Tensor of shape (n, d, npts) containing the simulated PSD.\n",
    "            - Y (torch.Tensor): Tensor of shape (n,) containing the response variable.\n",
    "            - Z (torch.Tensor): Tensor of shape (n, q) containing the covariates.\n",
    "        sinica_data (dict)\n",
    "    \"\"\"\n",
    "    np.random.seed(seed)\n",
    "    _paras = edict(paras.copy())\n",
    "    tmp_paras = edict()\n",
    "    tmp_paras.seed = seed \n",
    "    tmp_paras.n = _paras.n\n",
    "    tmp_paras.d = _paras.d\n",
    "    \n",
    "    file_path = MIDRES_ROOT/_get_filename(tmp_paras)\n",
    "    if file_path.exists():\n",
    "        if is_gen:\n",
    "            return None\n",
    "        simu_curvs = load_pkl(file_path, verbose=verbose)\n",
    "    else:\n",
    "        ofil =  _is_exists(_paras.d, _paras.n, seed)\n",
    "        if ofil:\n",
    "            if is_gen:\n",
    "                return None\n",
    "            simu_curvs = load_pkl(ofil, verbose=verbose)\n",
    "        else:\n",
    "            simu_curvs = gen_simu_psd(_paras.n, _paras.d, _paras.freqs, prior_sd=10, n_jobs=20, is_prog=False, is_std=False)\n",
    "            save_pkl(file_path, simu_curvs, verbose=verbose)\n",
    "    if is_gen:\n",
    "        return None\n",
    "    \n",
    "    #simu_curvs = simu_curvs[:_paras.n]\n",
    "    simu_curvs = np.random.randn(_paras.n, _paras.d, _paras.npts)\n",
    "    # center it across the sample size, no need to divide it by std. \n",
    "    simu_curvs_std = simu_curvs - simu_curvs.mean(axis=0, keepdims=True)\n",
    "    \n",
    "    simu_covs = gen_covs(_paras.n, _paras.types_)\n",
    "        \n",
    "    # linear term and Y\n",
    "    int_part = np.sum(_paras.beta_GT.T* simu_curvs_std[:, :, :], axis=1).mean(axis=1)\n",
    "    cov_part = simu_covs @ _paras.alp_GT \n",
    "        \n",
    "    # linear term, no cov_part, only integration\n",
    "    lin_term = cov_part + int_part\n",
    "        \n",
    "    # Y \n",
    "    Y = lin_term + np.random.randn(_paras.n)*np.sqrt(_paras.sigma2)\n",
    "    \n",
    "    # for Sinica paper, transform PSD to theta and center Y\n",
    "    Y_centered = Y - Y.mean(axis=0, keepdims=True)\n",
    "    sinica_data = {'Y_centered':Y_centered, \n",
    "                   'tXs':simu_curvs_std}\n",
    "        \n",
    "    # To torch\n",
    "    X = torch.Tensor(simu_curvs_std) # n x d x npts\n",
    "    Z = torch.Tensor(simu_covs) # n x 1, intercept only\n",
    "    Y = torch.Tensor(Y);\n",
    "    \n",
    "    HDF_data = edict()\n",
    "    HDF_data.X = X\n",
    "    HDF_data.Y = Y\n",
    "    HDF_data.Z = Z\n",
    "    HDF_data.lin_term = lin_term\n",
    "    return HDF_data, edict(sinica_data)\n",
    "    "
   ]
  },
  {
   "cell_type": "code",
   "execution_count": 8,
   "id": "33ef6b46-e05d-4f13-8682-aef13fcefcb0",
   "metadata": {
    "execution": {
     "iopub.execute_input": "2023-08-17T08:48:57.269205Z",
     "iopub.status.busy": "2023-08-17T08:48:57.268769Z",
     "iopub.status.idle": "2023-08-17T08:48:57.318942Z",
     "shell.execute_reply": "2023-08-17T08:48:57.318301Z",
     "shell.execute_reply.started": "2023-08-17T08:48:57.269184Z"
    },
    "tags": []
   },
   "outputs": [],
   "source": [
    "a, b = _gen_simu_data_sinica(1, paras, verbose=False, is_gen=False);"
   ]
  },
  {
   "cell_type": "code",
   "execution_count": null,
   "id": "96fd3e30",
   "metadata": {},
   "outputs": [],
   "source": []
  },
  {
   "cell_type": "code",
   "execution_count": null,
   "id": "911af57c",
   "metadata": {},
   "outputs": [],
   "source": []
  },
  {
   "cell_type": "markdown",
   "id": "000c8870-7efb-401a-962f-d867aaffd1f1",
   "metadata": {},
   "source": [
    "# Generate data\n",
    "To avoid nested joblib"
   ]
  },
  {
   "cell_type": "code",
   "execution_count": 12,
   "id": "190cc282-67f5-4a4e-b566-a49e57fa5cb4",
   "metadata": {
    "execution": {
     "iopub.execute_input": "2023-08-17T08:49:37.961001Z",
     "iopub.status.busy": "2023-08-17T08:49:37.960188Z",
     "iopub.status.idle": "2023-08-17T08:49:38.087333Z",
     "shell.execute_reply": "2023-08-17T08:49:38.086688Z",
     "shell.execute_reply.started": "2023-08-17T08:49:37.960967Z"
    },
    "tags": []
   },
   "outputs": [],
   "source": [
    "from scipy.io import savemat\n",
    "def _get_filename_mat(params, seed):\n",
    "    params = edict(params.copy())\n",
    "    keys = [\"d\", \"n\"]\n",
    "    folder_name = 'PSD_sinica_'+'_'.join(f\"{k}-{params[k]}\" for k in keys)\n",
    "    folder_name = MIDRES_ROOT/f\"matlab_simu_data/{folder_name}\"\n",
    "    if not folder_name.exists():\n",
    "        folder_name.mkdir()\n",
    "    return folder_name /f'H1_seed_{seed}.mat'\n",
    "\n",
    "for seed in range(2, 4):\n",
    "#for seed in trange(paras.num_rep):\n",
    "    _, sinica_data = _gen_simu_data_sinica(seed, paras, verbose=False, is_gen=False)\n",
    "    savemat(_get_filename_mat(paras, seed), sinica_data)"
   ]
  },
  {
   "cell_type": "code",
   "execution_count": null,
   "id": "8294442d-585f-4047-9d99-bd6d6b190490",
   "metadata": {},
   "outputs": [],
   "source": []
  }
 ],
 "metadata": {
  "kernelspec": {
   "display_name": "Python 3 (ipykernel)",
   "language": "python",
   "name": "python3"
  },
  "language_info": {
   "codemirror_mode": {
    "name": "ipython",
    "version": 3
   },
   "file_extension": ".py",
   "mimetype": "text/x-python",
   "name": "python",
   "nbconvert_exporter": "python",
   "pygments_lexer": "ipython3",
   "version": "3.9.7"
  },
  "toc": {
   "base_numbering": 1,
   "nav_menu": {},
   "number_sections": true,
   "sideBar": true,
   "skip_h1_title": false,
   "title_cell": "Table of Contents",
   "title_sidebar": "Contents",
   "toc_cell": false,
   "toc_position": {
    "height": "calc(100% - 180px)",
    "left": "10px",
    "top": "150px",
    "width": "165px"
   },
   "toc_section_display": true,
   "toc_window_display": true
  },
  "toc-autonumbering": true
 },
 "nbformat": 4,
 "nbformat_minor": 5
}
