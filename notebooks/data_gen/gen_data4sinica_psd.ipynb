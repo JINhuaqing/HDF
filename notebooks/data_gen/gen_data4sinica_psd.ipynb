{
 "cells": [
  {
   "cell_type": "markdown",
   "id": "faf0a805",
   "metadata": {},
   "source": [
    "generate data for sinica method simulation \n",
    "\n",
    "X is PSD"
   ]
  },
  {
   "cell_type": "code",
   "execution_count": 1,
   "id": "02ae980e",
   "metadata": {
    "ExecuteTime": {
     "end_time": "2023-05-31T19:57:23.490285Z",
     "start_time": "2023-05-31T19:57:23.481769Z"
    },
    "execution": {
     "iopub.execute_input": "2024-02-16T05:15:10.812329Z",
     "iopub.status.busy": "2024-02-16T05:15:10.811682Z",
     "iopub.status.idle": "2024-02-16T05:15:10.828396Z",
     "shell.execute_reply": "2024-02-16T05:15:10.826998Z",
     "shell.execute_reply.started": "2024-02-16T05:15:10.812283Z"
    },
    "tags": []
   },
   "outputs": [],
   "source": [
    "import sys\n",
    "sys.path.append(\"../../mypkg\")"
   ]
  },
  {
   "cell_type": "code",
   "execution_count": 2,
   "id": "023df78a",
   "metadata": {
    "ExecuteTime": {
     "end_time": "2023-05-31T19:57:34.238839Z",
     "start_time": "2023-05-31T19:57:23.494053Z"
    },
    "execution": {
     "iopub.execute_input": "2024-02-16T05:15:10.830493Z",
     "iopub.status.busy": "2024-02-16T05:15:10.829649Z",
     "iopub.status.idle": "2024-02-16T05:15:12.521468Z",
     "shell.execute_reply": "2024-02-16T05:15:12.520330Z",
     "shell.execute_reply.started": "2024-02-16T05:15:10.830462Z"
    },
    "tags": []
   },
   "outputs": [],
   "source": [
    "import numpy as np\n",
    "import torch\n",
    "from easydict import EasyDict as edict\n",
    "from tqdm import trange, tqdm\n",
    "from pprint import pprint\n",
    "from scipy.io import savemat\n",
    "import itertools\n",
    "from scipy.stats import chi2\n"
   ]
  },
  {
   "cell_type": "code",
   "execution_count": 3,
   "id": "b9d3cbc6-1ac5-47d6-a0d1-bcbc0be9267e",
   "metadata": {
    "execution": {
     "iopub.execute_input": "2024-02-16T05:15:12.522933Z",
     "iopub.status.busy": "2024-02-16T05:15:12.522607Z",
     "iopub.status.idle": "2024-02-16T05:15:12.540076Z",
     "shell.execute_reply": "2024-02-16T05:15:12.539660Z",
     "shell.execute_reply.started": "2024-02-16T05:15:12.522918Z"
    },
    "tags": []
   },
   "outputs": [],
   "source": [
    "# This will reload all imports as soon as the code changes\n",
    "%load_ext autoreload\n",
    "%autoreload 2"
   ]
  },
  {
   "cell_type": "code",
   "execution_count": 4,
   "id": "b0aa91b2",
   "metadata": {
    "ExecuteTime": {
     "end_time": "2023-05-31T19:57:59.558229Z",
     "start_time": "2023-05-31T19:57:34.292612Z"
    },
    "execution": {
     "iopub.execute_input": "2024-02-16T05:15:12.540775Z",
     "iopub.status.busy": "2024-02-16T05:15:12.540630Z",
     "iopub.status.idle": "2024-02-16T05:15:12.650093Z",
     "shell.execute_reply": "2024-02-16T05:15:12.648861Z",
     "shell.execute_reply.started": "2024-02-16T05:15:12.540762Z"
    },
    "tags": []
   },
   "outputs": [],
   "source": [
    "from constants import DATA_ROOT, MIDRES_ROOT\n",
    "from hdf_utils.data_gen import gen_simu_psd_dataset\n",
    "from utils.misc import save_pkl, load_pkl\n",
    "from scenarios.simu_linear_psd import settings\n",
    "\n",
    "from joblib import Parallel, delayed"
   ]
  },
  {
   "cell_type": "code",
   "execution_count": 9,
   "id": "fe0a4a46",
   "metadata": {
    "ExecuteTime": {
     "end_time": "2023-05-31T19:57:59.621784Z",
     "start_time": "2023-05-31T19:57:59.568097Z"
    },
    "execution": {
     "iopub.execute_input": "2024-02-16T05:16:36.754787Z",
     "iopub.status.busy": "2024-02-16T05:16:36.754019Z",
     "iopub.status.idle": "2024-02-16T05:16:36.788363Z",
     "shell.execute_reply": "2024-02-16T05:16:36.787258Z",
     "shell.execute_reply.started": "2024-02-16T05:16:36.754739Z"
    },
    "tags": []
   },
   "outputs": [],
   "source": [
    "torch.set_default_tensor_type(torch.DoubleTensor)"
   ]
  },
  {
   "cell_type": "code",
   "execution_count": null,
   "id": "7e3672e9-3d13-43f8-a05a-6fbd399eb0fc",
   "metadata": {},
   "outputs": [],
   "source": []
  },
  {
   "cell_type": "markdown",
   "id": "21e4ccea",
   "metadata": {},
   "source": [
    "# Params"
   ]
  },
  {
   "cell_type": "code",
   "execution_count": 10,
   "id": "977784a7-3e90-4016-9958-9766c871dc0f",
   "metadata": {
    "ExecuteTime": {
     "end_time": "2023-05-31T23:31:16.397628Z",
     "start_time": "2023-05-31T23:31:16.221812Z"
    },
    "execution": {
     "iopub.execute_input": "2024-02-16T05:16:37.557287Z",
     "iopub.status.busy": "2024-02-16T05:16:37.556495Z",
     "iopub.status.idle": "2024-02-16T05:16:37.597522Z",
     "shell.execute_reply": "2024-02-16T05:16:37.596405Z",
     "shell.execute_reply.started": "2024-02-16T05:16:37.557235Z"
    },
    "tags": [
     "param"
    ]
   },
   "outputs": [],
   "source": [
    "num_rep = 200\n",
    "c = 0.0\n",
    "\n",
    "np.random.seed(0)\n",
    "\n",
    "setting = settings.cmpn1b\n",
    "data_gen_params = setting.data_gen_params\n",
    "data_gen_params.cs = data_gen_params.cs_fn(c)\n",
    "data_gen_params.gt_beta = data_gen_params.beta_fn(data_gen_params.cs)\n",
    "\n",
    "save_dir = MIDRES_ROOT/f\"matlab_simu_data/simu_setting{setting.setting}_test\"\n",
    "if not save_dir.exists():\n",
    "    save_dir.mkdir()"
   ]
  },
  {
   "cell_type": "code",
   "execution_count": null,
   "id": "96d90cac-bc30-4f2a-84fd-86b8af6e2a00",
   "metadata": {},
   "outputs": [],
   "source": []
  },
  {
   "cell_type": "code",
   "execution_count": 16,
   "id": "0f9eca46-ade4-40fa-83f5-b8db4ff10947",
   "metadata": {
    "execution": {
     "iopub.execute_input": "2024-02-16T05:17:41.880247Z",
     "iopub.status.busy": "2024-02-16T05:17:41.879610Z",
     "iopub.status.idle": "2024-02-16T05:17:41.986382Z",
     "shell.execute_reply": "2024-02-16T05:17:41.985052Z",
     "shell.execute_reply.started": "2024-02-16T05:17:41.880202Z"
    },
    "tags": []
   },
   "outputs": [],
   "source": [
    "def _run_fn(seed, verbose=0):\n",
    "    torch.set_default_dtype(torch.double)\n",
    "    np.random.seed(seed)\n",
    "    torch.manual_seed(seed)\n",
    "    f_name = f'c1_{c*1000:.0f}_seed_{seed}.mat'\n",
    "    \n",
    "    \n",
    "    if not (save_dir/f_name).exists():\n",
    "        cur_data = gen_simu_psd_dataset(n=data_gen_params.n, \n",
    "                                d=data_gen_params.d, \n",
    "                                q=data_gen_params.q, \n",
    "                                types_=data_gen_params.types_, \n",
    "                                gt_alp=data_gen_params.gt_alp, \n",
    "                                gt_beta=data_gen_params.gt_beta, \n",
    "                                freqs=data_gen_params.freqs, \n",
    "                                data_type=data_gen_params.data_type, \n",
    "                                data_params=data_gen_params.data_params, \n",
    "                                seed=seed, \n",
    "                                is_std=data_gen_params.is_std, \n",
    "                                verbose=verbose, \n",
    "                                is_gen=False);\n",
    "        X = cur_data.X\n",
    "        Y = cur_data.Y\n",
    "        X_centered = X - X.mean(axis=0, keepdims=True)\n",
    "        Y_centered = Y - Y.mean(axis=0, keepdims=True)\n",
    "        sinica_data = {'Y_centered':Y_centered.numpy(), \n",
    "                       'X_centered':X_centered.numpy()}\n",
    "        savemat(save_dir/f_name, sinica_data)\n",
    "    else:\n",
    "        print(f\"File {save_dir/f_name} exists!\")\n",
    "    return None"
   ]
  },
  {
   "cell_type": "code",
   "execution_count": 15,
   "id": "549d5385-f0a3-4a62-bd45-dae4357004f9",
   "metadata": {
    "execution": {
     "iopub.execute_input": "2024-02-16T05:16:56.423217Z",
     "iopub.status.busy": "2024-02-16T05:16:56.422578Z",
     "iopub.status.idle": "2024-02-16T05:16:56.461955Z",
     "shell.execute_reply": "2024-02-16T05:16:56.460996Z",
     "shell.execute_reply.started": "2024-02-16T05:16:56.423169Z"
    },
    "tags": []
   },
   "outputs": [
    {
     "name": "stdout",
     "output_type": "stream",
     "text": [
      "File /data/rajlab1/user_data/jin/MyResearch/HDF_infer/notebooks/data_gen/../../mypkg/../mid_results/matlab_simu_data/simu_settingcmpn1b_test/c1_0_seed_1.mat exists!\n"
     ]
    }
   ],
   "source": [
    "_run_fn(1)"
   ]
  },
  {
   "cell_type": "code",
   "execution_count": null,
   "id": "3b59557b-185f-4240-8668-a1f609ff3bac",
   "metadata": {
    "execution": {
     "iopub.execute_input": "2023-09-21T23:20:31.625325Z",
     "iopub.status.busy": "2023-09-21T23:20:31.624679Z",
     "iopub.status.idle": "2023-09-21T23:21:25.262561Z",
     "shell.execute_reply": "2023-09-21T23:21:25.261234Z",
     "shell.execute_reply.started": "2023-09-21T23:20:31.625279Z"
    },
    "tags": []
   },
   "outputs": [],
   "source": [
    "with Parallel(n_jobs=35) as parallel:\n",
    "    ress = parallel(delayed(_run_fn)(seed) \n",
    "                    for seed\n",
    "                    in tqdm(range(num_rep), total=num_rep))"
   ]
  },
  {
   "cell_type": "code",
   "execution_count": null,
   "id": "be4f01ee-3f09-4e6c-b4d3-353fd18ed61f",
   "metadata": {},
   "outputs": [],
   "source": []
  }
 ],
 "metadata": {
  "kernelspec": {
   "display_name": "Python 3 (ipykernel)",
   "language": "python",
   "name": "python3"
  },
  "language_info": {
   "codemirror_mode": {
    "name": "ipython",
    "version": 3
   },
   "file_extension": ".py",
   "mimetype": "text/x-python",
   "name": "python",
   "nbconvert_exporter": "python",
   "pygments_lexer": "ipython3",
   "version": "3.9.7"
  },
  "toc": {
   "base_numbering": 1,
   "nav_menu": {},
   "number_sections": true,
   "sideBar": true,
   "skip_h1_title": false,
   "title_cell": "Table of Contents",
   "title_sidebar": "Contents",
   "toc_cell": false,
   "toc_position": {
    "height": "calc(100% - 180px)",
    "left": "10px",
    "top": "150px",
    "width": "165px"
   },
   "toc_section_display": true,
   "toc_window_display": true
  },
  "toc-autonumbering": true,
  "toc-showcode": false,
  "toc-showmarkdowntxt": false,
  "toc-showtags": false
 },
 "nbformat": 4,
 "nbformat_minor": 5
}
