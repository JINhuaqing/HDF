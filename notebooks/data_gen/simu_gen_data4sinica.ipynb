{
 "cells": [
  {
   "cell_type": "markdown",
   "id": "faf0a805",
   "metadata": {},
   "source": [
    "This file contains python code to generate data for comparing with sinica paper\n",
    "\n",
    "Note the method from sinica paper does not consider the covariate and intercept, \n",
    "\n",
    "moreover, it is std across the sample size"
   ]
  },
  {
   "cell_type": "code",
   "execution_count": 1,
   "id": "02ae980e",
   "metadata": {
    "ExecuteTime": {
     "end_time": "2023-05-31T19:57:23.490285Z",
     "start_time": "2023-05-31T19:57:23.481769Z"
    },
    "execution": {
     "iopub.execute_input": "2023-08-15T01:52:04.828780Z",
     "iopub.status.busy": "2023-08-15T01:52:04.828441Z",
     "iopub.status.idle": "2023-08-15T01:52:04.837162Z",
     "shell.execute_reply": "2023-08-15T01:52:04.835814Z",
     "shell.execute_reply.started": "2023-08-15T01:52:04.828751Z"
    },
    "tags": []
   },
   "outputs": [],
   "source": [
    "import sys\n",
    "sys.path.append(\"../mypkg\")"
   ]
  },
  {
   "cell_type": "code",
   "execution_count": 2,
   "id": "023df78a",
   "metadata": {
    "ExecuteTime": {
     "end_time": "2023-05-31T19:57:34.238839Z",
     "start_time": "2023-05-31T19:57:23.494053Z"
    },
    "execution": {
     "iopub.execute_input": "2023-08-15T01:52:04.839265Z",
     "iopub.status.busy": "2023-08-15T01:52:04.838743Z",
     "iopub.status.idle": "2023-08-15T01:52:12.311148Z",
     "shell.execute_reply": "2023-08-15T01:52:12.310451Z",
     "shell.execute_reply.started": "2023-08-15T01:52:04.839243Z"
    },
    "tags": []
   },
   "outputs": [
    {
     "name": "stderr",
     "output_type": "stream",
     "text": [
      "/opt/conda/lib/python3.9/site-packages/scipy/__init__.py:146: UserWarning: A NumPy version >=1.16.5 and <1.23.0 is required for this version of SciPy (detected version 1.24.3\n",
      "  warnings.warn(f\"A NumPy version >={np_minversion} and <{np_maxversion}\"\n"
     ]
    }
   ],
   "source": [
    "import numpy as np\n",
    "import torch\n",
    "import matplotlib.pyplot as plt\n",
    "import seaborn as sns\n",
    "from scipy.stats import pearsonr\n",
    "from numbers import Number\n",
    "\n",
    "from easydict import EasyDict as edict\n",
    "from tqdm import trange\n",
    "from scipy.io import loadmat\n",
    "from pprint import pprint\n"
   ]
  },
  {
   "cell_type": "code",
   "execution_count": 3,
   "id": "b0aa91b2",
   "metadata": {
    "ExecuteTime": {
     "end_time": "2023-05-31T19:57:59.558229Z",
     "start_time": "2023-05-31T19:57:34.292612Z"
    },
    "execution": {
     "iopub.execute_input": "2023-08-15T01:52:12.312613Z",
     "iopub.status.busy": "2023-08-15T01:52:12.312027Z",
     "iopub.status.idle": "2023-08-15T01:52:14.491831Z",
     "shell.execute_reply": "2023-08-15T01:52:14.490968Z",
     "shell.execute_reply.started": "2023-08-15T01:52:12.312586Z"
    },
    "tags": []
   },
   "outputs": [],
   "source": [
    "from constants import DATA_ROOT, RES_ROOT, FIG_ROOT, MIDRES_ROOT\n",
    "from default_paras import def_paras\n",
    "\n",
    "from hdf_utils.data_gen import gen_covs, gen_simu_psd, gen_simu_ts\n",
    "from hdf_utils.fns import fn1, fn2, fn3, fn4, fn5, zero_fn\n",
    "from hdf_utils.fns_sinica import coef_fn, fourier_basis_fn\n",
    "from hdf_utils.likelihood import obt_lin_tm\n",
    "from hdf_utils.SIS import SIS_linear\n",
    "from utils.matrix import col_vec_fn, col_vec2mat_fn, conju_grad, svd_inverse\n",
    "from utils.functions import logit_fn\n",
    "from utils.misc import save_pkl, load_pkl\n",
    "from splines import obt_bsp_basis_Rfn, obt_bsp_basis_Rfn_wrapper\n",
    "\n",
    "from joblib import Parallel, delayed"
   ]
  },
  {
   "cell_type": "code",
   "execution_count": 4,
   "id": "fe0a4a46",
   "metadata": {
    "ExecuteTime": {
     "end_time": "2023-05-31T19:57:59.621784Z",
     "start_time": "2023-05-31T19:57:59.568097Z"
    },
    "execution": {
     "iopub.execute_input": "2023-08-15T01:52:14.493421Z",
     "iopub.status.busy": "2023-08-15T01:52:14.492936Z",
     "iopub.status.idle": "2023-08-15T01:52:14.501436Z",
     "shell.execute_reply": "2023-08-15T01:52:14.500935Z",
     "shell.execute_reply.started": "2023-08-15T01:52:14.493396Z"
    },
    "tags": []
   },
   "outputs": [],
   "source": [
    "plt.style.use(FIG_ROOT/\"base.mplstyle\")"
   ]
  },
  {
   "cell_type": "code",
   "execution_count": 5,
   "id": "fdddf8a6",
   "metadata": {
    "ExecuteTime": {
     "end_time": "2023-05-31T19:57:59.637665Z",
     "start_time": "2023-05-31T19:57:59.633997Z"
    },
    "execution": {
     "iopub.execute_input": "2023-08-15T01:52:14.503183Z",
     "iopub.status.busy": "2023-08-15T01:52:14.502648Z",
     "iopub.status.idle": "2023-08-15T01:52:14.522699Z",
     "shell.execute_reply": "2023-08-15T01:52:14.522164Z",
     "shell.execute_reply.started": "2023-08-15T01:52:14.503163Z"
    },
    "tags": []
   },
   "outputs": [],
   "source": [
    "torch.set_default_tensor_type(torch.DoubleTensor)"
   ]
  },
  {
   "cell_type": "code",
   "execution_count": null,
   "id": "d0af2f35",
   "metadata": {},
   "outputs": [],
   "source": []
  },
  {
   "cell_type": "markdown",
   "id": "dd9c6514",
   "metadata": {},
   "source": [
    "# Param and fns"
   ]
  },
  {
   "cell_type": "markdown",
   "id": "21e4ccea",
   "metadata": {},
   "source": [
    "## Params"
   ]
  },
  {
   "cell_type": "code",
   "execution_count": 6,
   "id": "335c501e-a7df-470c-9f04-d9e7a5767bdc",
   "metadata": {
    "execution": {
     "iopub.execute_input": "2023-08-15T01:52:14.523772Z",
     "iopub.status.busy": "2023-08-15T01:52:14.523404Z",
     "iopub.status.idle": "2023-08-15T01:52:14.551558Z",
     "shell.execute_reply": "2023-08-15T01:52:14.551034Z",
     "shell.execute_reply.started": "2023-08-15T01:52:14.523746Z"
    },
    "tags": []
   },
   "outputs": [],
   "source": [
    "def gram_schmidt(vectors):\n",
    "    vectors = vectors.T\n",
    "    basis = []\n",
    "    for v in vectors:\n",
    "        for b in basis:\n",
    "            v = v - (np.dot(v, b) / np.dot(b, b)) * b \n",
    "        if np.linalg.norm(v) > 1e-10:  \n",
    "            basis.append(v / np.linalg.norm(v))  \n",
    "    return np.array(basis).T"
   ]
  },
  {
   "cell_type": "code",
   "execution_count": 7,
   "id": "fd29f0de",
   "metadata": {
    "ExecuteTime": {
     "end_time": "2023-05-31T23:31:16.397628Z",
     "start_time": "2023-05-31T23:31:16.221812Z"
    },
    "execution": {
     "iopub.execute_input": "2023-08-15T01:52:14.552613Z",
     "iopub.status.busy": "2023-08-15T01:52:14.552271Z",
     "iopub.status.idle": "2023-08-15T01:52:14.643404Z",
     "shell.execute_reply": "2023-08-15T01:52:14.642788Z",
     "shell.execute_reply.started": "2023-08-15T01:52:14.552592Z"
    },
    "tags": []
   },
   "outputs": [
    {
     "name": "stdout",
     "output_type": "stream",
     "text": [
      "The number of B-spline basis is 8.\n"
     ]
    }
   ],
   "source": [
    "np.random.seed(0)\n",
    "paras = edict(def_paras.copy())\n",
    "\n",
    "# Others\n",
    "paras.num_rep = 1000 \n",
    "paras.freqs = np.linspace(2, 45, 40) # freqs\n",
    "\n",
    "# generating dataset\n",
    "paras.n = 200 # num of data obs to be genareted\n",
    "paras.npts = len(paras.freqs) # num of pts to evaluate X(s)\n",
    "paras.d = 50 # num of ROIs\n",
    "paras.q = 5 # num of other covariates\n",
    "paras.sigma2 = 0.0 # variance of the error\n",
    "paras.types_ = [\"int\"]\n",
    "\n",
    "# b-spline\n",
    "paras.N = 8 # int(3*paras.n**(1/paras.ord/2)) # num of basis for bsp\n",
    "paras.x = np.linspace(0, 1, paras.npts)\n",
    "basis_mat = obt_bsp_basis_Rfn_wrapper(paras.x, paras.N, paras.ord)\n",
    "paras.basis_mat = torch.tensor(basis_mat).to(torch.get_default_dtype())\n",
    "paras.org_basis_mat = gram_schmidt(basis_mat) # only for Sinica\n",
    "assert paras.N == paras.basis_mat.shape[1]\n",
    "print(f\"The number of B-spline basis is {paras.N:.0f}.\")\n",
    "\n",
    "# True parameters\n",
    "paras.alp_GT = np.array([0])\n",
    "\n",
    "# second way, fourier basis\n",
    "paras.fourier_basis = fourier_basis_fn(paras.x)\n",
    "paras.fourier_basis_coefs = ([coef_fn(0.5), coef_fn(0.3), coef_fn(0.1)] + \n",
    "                             [np.zeros(50)] * (paras.d-3) \n",
    "                             #[coef_fn(0.7), coef_fn(0.9)]\n",
    "                             )\n",
    "#paras.fourier_basis_coefs = ([np.zeros(50)] * (paras.d-2) +\n",
    "#                             [coef_fn(0.7), coef_fn(0.9)]\n",
    "#                             )\n",
    "paras.fourier_basis_coefs = np.array(paras.fourier_basis_coefs).T * 5\n",
    "paras.beta_GT = paras.fourier_basis @ paras.fourier_basis_coefs #* 100\n",
    "paras.eta_gt = paras.beta_GT.T @ paras.org_basis_mat;"
   ]
  },
  {
   "cell_type": "code",
   "execution_count": null,
   "id": "a436f771-2648-4f96-9c9a-d68bd97960a0",
   "metadata": {},
   "outputs": [],
   "source": []
  },
  {
   "cell_type": "markdown",
   "id": "21999df5-79b0-467a-8ff9-286ab6f36d75",
   "metadata": {
    "ExecuteTime": {
     "end_time": "2022-12-08T18:09:55.509389Z",
     "start_time": "2022-12-08T18:09:55.343396Z"
    }
   },
   "source": [
    "## Fns"
   ]
  },
  {
   "cell_type": "code",
   "execution_count": 8,
   "id": "29fe6f01-b6ec-4883-8169-f0486fee616c",
   "metadata": {
    "execution": {
     "iopub.execute_input": "2023-08-15T01:52:18.493077Z",
     "iopub.status.busy": "2023-08-15T01:52:18.492525Z",
     "iopub.status.idle": "2023-08-15T01:52:18.507076Z",
     "shell.execute_reply": "2023-08-15T01:52:18.506450Z",
     "shell.execute_reply.started": "2023-08-15T01:52:18.492963Z"
    },
    "tags": []
   },
   "outputs": [],
   "source": [
    "def _is_exists(d, n, seed):\n",
    "    \"\"\"\n",
    "    Check if a file with the given parameters exists.\n",
    "\n",
    "    Args:\n",
    "    d (int): The value of d in the file name.\n",
    "    n (int): The value of n in the file name.\n",
    "    seed (int): The seed value in the file name.\n",
    "\n",
    "    Returns:\n",
    "    bool or Path: Returns the file path if the file exists, otherwise returns False.\n",
    "    \"\"\"\n",
    "    _get_n = lambda fil: int(fil.stem.split(\"-\")[-1])\n",
    "    fils = MIDRES_ROOT.glob(f\"PSD_d-{d}_n*\")\n",
    "    # We do not need fil with n as we know the data with corresponding seed does not exist\n",
    "    fils = [fil for fil in fils if _get_n(fil) !=n]\n",
    "    if len(fils) == 0:\n",
    "        return False\n",
    "    else:\n",
    "        fils = sorted(fils, key=_get_n)\n",
    "        ns = np.array([_get_n(fil) for fil in fils])\n",
    "        idxs = np.where(n <= ns)[0]\n",
    "        if len(idxs) == 0:\n",
    "            return False\n",
    "        else:\n",
    "            fil =fils[idxs[0]]\n",
    "            path = MIDRES_ROOT/fil/f\"seed_{seed}.pkl\"\n",
    "            return path if path.exists() else False\n",
    "def _get_filename(params):\n",
    "    keys = [\"d\", \"n\", \"sn\"]\n",
    "    folder_name = 'PSD_sinica_'+'_'.join(f\"{k}-{params[k]}\" for k in keys)\n",
    "    return folder_name + f'/seed_{params.seed}.pkl'\n",
    "\n",
    "def _gen_simu_data_sinica(seed, paras, verbose=True, is_gen=False):\n",
    "    \"\"\"\n",
    "    Generate simulated data for all parameters (including data for sinica paper)\n",
    "\n",
    "    Args:\n",
    "        seed (int): Seed for random number generator.\n",
    "        paras (dict): Dictionary containing the following parameters:\n",
    "            - n (int): Number of samples.\n",
    "            - d (int): Number of dimensions.\n",
    "            - q (int): Number of covariates.\n",
    "            - types_ (list): List of types for generating covariates.\n",
    "            - alp_GT (list): List of ground truth alpha values.\n",
    "            - beta_GT (list): List of ground truth beta values.\n",
    "            - freqs (list): List of frequencies for generating simulated PSD.\n",
    "            - sigma2 (float): Variance of the noise.\n",
    "        verbose(bool): Verbose or not\n",
    "        is_gen(bool): Only for generating or not. If True, only checking or generating X, not return anything.\n",
    "\n",
    "    Returns:\n",
    "        HDF_data (dict): Dictionary containing the following simulated data:\n",
    "            - X (torch.Tensor): Tensor of shape (n, d, npts) containing the simulated PSD.\n",
    "            - Y (torch.Tensor): Tensor of shape (n,) containing the response variable.\n",
    "            - Z (torch.Tensor): Tensor of shape (n, q) containing the covariates.\n",
    "        sinica_data (dict)\n",
    "    \"\"\"\n",
    "    np.random.seed(seed)\n",
    "    _paras = edict(paras.copy())\n",
    "    tmp_paras = edict()\n",
    "    tmp_paras.seed = seed \n",
    "    tmp_paras.n = _paras.n\n",
    "    tmp_paras.d = _paras.d\n",
    "    tmp_paras.sn = _paras.N\n",
    "    \n",
    "    file_path = MIDRES_ROOT/_get_filename(tmp_paras)\n",
    "    if file_path.exists():\n",
    "        if is_gen:\n",
    "            return None\n",
    "        simu_curvs = load_pkl(file_path, verbose=verbose)\n",
    "    else:\n",
    "        ofil =  _is_exists(_paras.d, _paras.n, seed)\n",
    "        if ofil:\n",
    "            if is_gen:\n",
    "                return None\n",
    "            simu_curvs = load_pkl(ofil, verbose=verbose)\n",
    "        else:\n",
    "            simu_curvs = gen_simu_psd(_paras.n, _paras.d, _paras.freqs, prior_sd=10, n_jobs=20, is_prog=False, is_std=False)\n",
    "            save_pkl(file_path, simu_curvs, verbose=verbose)\n",
    "    if is_gen:\n",
    "        return None\n",
    "    \n",
    "    simu_curvs = simu_curvs[:_paras.n]\n",
    "    print(simu_curvs.shape)\n",
    "    #simu_curvs = np.random.randn(_paras.n, _paras.d, _paras.npts)\n",
    "    simu_curvs_std = (simu_curvs - simu_curvs.mean(axis=0, keepdims=True))/simu_curvs.std(axis=0, keepdims=True);\n",
    "    \n",
    "    simu_covs = gen_covs(_paras.n, _paras.types_)\n",
    "        \n",
    "    # linear term and Y\n",
    "    int_part = np.sum(_paras.beta_GT.T* simu_curvs_std[:, :, :], axis=1).mean(axis=1)\n",
    "    cov_part = simu_covs @ _paras.alp_GT \n",
    "        \n",
    "    # linear term, no cov_part, only integration\n",
    "    lin_term = cov_part + int_part\n",
    "        \n",
    "    # Y \n",
    "    Y = lin_term + np.random.randn(_paras.n)*np.sqrt(_paras.sigma2)\n",
    "    \n",
    "    # for Sinica paper, transform PSD to theta and center Y\n",
    "    Y_centered = Y - Y.mean(axis=0, keepdims=True)\n",
    "    solve_part = np.linalg.inv(_paras.org_basis_mat.T @ _paras.org_basis_mat) @ _paras.org_basis_mat.T;\n",
    "    thetas = np.array([tX @ solve_part.T for tX in simu_curvs_std]).transpose(1, 0, 2);\n",
    "    sinica_data = {'thetas': [theta for theta in thetas],  \n",
    "                   'Y_centered':Y_centered, \n",
    "                   'basis': _paras.org_basis_mat,\n",
    "                   'tXs':simu_curvs_std}\n",
    "        \n",
    "    # To torch\n",
    "    X = torch.Tensor(simu_curvs_std) # n x d x npts\n",
    "    Z = torch.Tensor(simu_covs) # n x 1, intercept only\n",
    "    Y = torch.Tensor(Y);\n",
    "    \n",
    "    HDF_data = edict()\n",
    "    HDF_data.X = X\n",
    "    HDF_data.Y = Y\n",
    "    HDF_data.Z = Z\n",
    "    HDF_data.lin_term = lin_term\n",
    "    return HDF_data, edict(sinica_data)\n",
    "    "
   ]
  },
  {
   "cell_type": "code",
   "execution_count": 9,
   "id": "33ef6b46-e05d-4f13-8682-aef13fcefcb0",
   "metadata": {
    "execution": {
     "iopub.execute_input": "2023-08-15T01:52:19.844903Z",
     "iopub.status.busy": "2023-08-15T01:52:19.844384Z",
     "iopub.status.idle": "2023-08-15T01:52:19.883252Z",
     "shell.execute_reply": "2023-08-15T01:52:19.882518Z",
     "shell.execute_reply.started": "2023-08-15T01:52:19.844870Z"
    },
    "tags": []
   },
   "outputs": [
    {
     "name": "stdout",
     "output_type": "stream",
     "text": [
      "(200, 50, 40)\n"
     ]
    }
   ],
   "source": [
    "a, b = _gen_simu_data_sinica(1, paras, verbose=False, is_gen=False);"
   ]
  },
  {
   "cell_type": "code",
   "execution_count": 10,
   "id": "93115dec-bbb1-44a9-95bd-a554be4880af",
   "metadata": {
    "execution": {
     "iopub.execute_input": "2023-08-15T01:52:21.547423Z",
     "iopub.status.busy": "2023-08-15T01:52:21.546823Z",
     "iopub.status.idle": "2023-08-15T01:52:21.551650Z",
     "shell.execute_reply": "2023-08-15T01:52:21.550927Z",
     "shell.execute_reply.started": "2023-08-15T01:52:21.547385Z"
    },
    "tags": []
   },
   "outputs": [],
   "source": [
    "i = 1 # sps idx\n",
    "j = 49 # fn idx\n",
    "k = 3 # sn idx\n",
    "rec = paras.org_basis_mat @ b.thetas[j][i]\n",
    "org = b.tXs[i, j];"
   ]
  },
  {
   "cell_type": "code",
   "execution_count": 11,
   "id": "7b688c4b-dfa5-4d81-b6c8-a7ff260ff53d",
   "metadata": {
    "execution": {
     "iopub.execute_input": "2023-08-15T01:52:22.449587Z",
     "iopub.status.busy": "2023-08-15T01:52:22.449020Z",
     "iopub.status.idle": "2023-08-15T01:52:22.593617Z",
     "shell.execute_reply": "2023-08-15T01:52:22.592999Z",
     "shell.execute_reply.started": "2023-08-15T01:52:22.449549Z"
    },
    "tags": []
   },
   "outputs": [
    {
     "data": {
      "text/plain": [
       "[<matplotlib.lines.Line2D at 0x7f1399b7edc0>]"
      ]
     },
     "execution_count": 11,
     "metadata": {},
     "output_type": "execute_result"
    },
    {
     "data": {
      "image/png": "[encoded data removed]",
      "text/plain": [
       "<Figure size 1000x500 with 1 Axes>"
      ]
     },
     "metadata": {
      "needs_background": "light"
     },
     "output_type": "display_data"
    }
   ],
   "source": [
    "plt.plot(rec)\n",
    "plt.plot(org)"
   ]
  },
  {
   "cell_type": "code",
   "execution_count": null,
   "id": "96fd3e30",
   "metadata": {},
   "outputs": [],
   "source": []
  },
  {
   "cell_type": "code",
   "execution_count": null,
   "id": "911af57c",
   "metadata": {},
   "outputs": [],
   "source": []
  },
  {
   "cell_type": "markdown",
   "id": "000c8870-7efb-401a-962f-d867aaffd1f1",
   "metadata": {},
   "source": [
    "# Generate data\n",
    "To avoid nested joblib"
   ]
  },
  {
   "cell_type": "code",
   "execution_count": 12,
   "id": "190cc282-67f5-4a4e-b566-a49e57fa5cb4",
   "metadata": {
    "execution": {
     "iopub.execute_input": "2023-08-15T01:52:31.288688Z",
     "iopub.status.busy": "2023-08-15T01:52:31.288246Z",
     "iopub.status.idle": "2023-08-15T01:52:31.402623Z",
     "shell.execute_reply": "2023-08-15T01:52:31.401883Z",
     "shell.execute_reply.started": "2023-08-15T01:52:31.288659Z"
    },
    "tags": []
   },
   "outputs": [
    {
     "name": "stdout",
     "output_type": "stream",
     "text": [
      "(200, 50, 40)\n"
     ]
    }
   ],
   "source": [
    "from scipy.io import savemat\n",
    "def _get_filename_mat(params, seed):\n",
    "    params = edict(params.copy())\n",
    "    params.sn = params.N\n",
    "    keys = [\"d\", \"n\", \"sn\"]\n",
    "    folder_name = 'PSD_sinica_'+'_'.join(f\"{k}-{params[k]}\" for k in keys)\n",
    "    folder_name = MIDRES_ROOT/f\"matlab_simu_data/{folder_name}\"\n",
    "    if not folder_name.exists():\n",
    "        folder_name.mkdir()\n",
    "    return folder_name /f'H1_seed_{seed}.mat'\n",
    "\n",
    "for seed in range(1, 2):\n",
    "#for seed in trange(paras.num_rep):\n",
    "    _, sinica_data = _gen_simu_data_sinica(seed, paras, verbose=False, is_gen=False)\n",
    "    savemat(_get_filename_mat(paras, seed), sinica_data)"
   ]
  },
  {
   "cell_type": "code",
   "execution_count": null,
   "id": "8294442d-585f-4047-9d99-bd6d6b190490",
   "metadata": {},
   "outputs": [],
   "source": []
  }
 ],
 "metadata": {
  "kernelspec": {
   "display_name": "Python 3 (ipykernel)",
   "language": "python",
   "name": "python3"
  },
  "language_info": {
   "codemirror_mode": {
    "name": "ipython",
    "version": 3
   },
   "file_extension": ".py",
   "mimetype": "text/x-python",
   "name": "python",
   "nbconvert_exporter": "python",
   "pygments_lexer": "ipython3",
   "version": "3.9.7"
  },
  "toc": {
   "base_numbering": 1,
   "nav_menu": {},
   "number_sections": true,
   "sideBar": true,
   "skip_h1_title": false,
   "title_cell": "Table of Contents",
   "title_sidebar": "Contents",
   "toc_cell": false,
   "toc_position": {
    "height": "calc(100% - 180px)",
    "left": "10px",
    "top": "150px",
    "width": "165px"
   },
   "toc_section_display": true,
   "toc_window_display": true
  },
  "toc-autonumbering": true
 },
 "nbformat": 4,
 "nbformat_minor": 5
}
